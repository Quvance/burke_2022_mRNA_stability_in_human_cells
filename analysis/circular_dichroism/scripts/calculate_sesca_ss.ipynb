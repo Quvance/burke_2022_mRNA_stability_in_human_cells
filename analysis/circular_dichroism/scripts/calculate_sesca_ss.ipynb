{
 "cells": [
  {
   "cell_type": "markdown",
   "metadata": {},
   "source": [
    "## Calculate SESCA secondary structures"
   ]
  },
  {
   "cell_type": "markdown",
   "metadata": {},
   "source": [
    "### Minimal SESCA usage instructions\n",
    "\n",
    "**Note**: It isn't neccesary to run this script, as the intermediate sesca_inferred_ss.csv files is already generated and commited to this repository. However, if you wish to run this yourself, you can do so following the basic instructions below:\n",
    " \n",
    "- To do this analysis, we need to add the full SESCA software suite. \n",
    "\n",
    "- Install SESCA V095 following instructions here: https://www.mpinat.mpg.de/sesca\n",
    "\n",
    "- After installation, move the software `sesca` directory and all subfolders into this `circular_dichroism/scripts` directory. \n",
    "\n",
    "- Move this current `calculate_sesca_ss.ipynb` file into the `circular_dichroism/scripts/sesca/scripts` directory. \n",
    "\n",
    "- There should also be a file in the `sesca/scripts` directory called `SESCA_deconv.py`. Edit this file to specify the SESCA directory as `SESCA_Dir = \"../sesca\"`\n",
    "\n",
    "- Run this ipynb script (uncomment table.to_csv command below). "
   ]
  },
  {
   "cell_type": "code",
   "execution_count": 1,
   "metadata": {
    "vscode": {
     "languageId": "r"
    }
   },
   "outputs": [],
   "source": [
    "import os\n",
    "import sys\n",
    "import subprocess as sp\n",
    "import re\n",
    "import pandas as pd"
   ]
  },
  {
   "cell_type": "code",
   "execution_count": 2,
   "metadata": {
    "vscode": {
     "languageId": "r"
    }
   },
   "outputs": [
    {
     "name": "stderr",
     "output_type": "stream",
     "text": [
      "python: can't open file 'SESCA_deconv.py': [Errno 2] No such file or directory\n",
      "python: can't open file 'SESCA_deconv.py': [Errno 2] No such file or directory\n",
      "python: can't open file 'SESCA_deconv.py': [Errno 2] No such file or directory\n",
      "python: can't open file 'SESCA_deconv.py': [Errno 2] No such file or directory\n"
     ]
    },
    {
     "name": "stdout",
     "output_type": "stream",
     "text": [
      "Alpha_0.cd.txt  processed.\n",
      "Alpha_20.cd.txt  processed.\n",
      "Alpha_40.cd.txt  processed.\n",
      "Beta_0.cd.txt  processed.\n",
      "Beta_20.cd.txt  processed.\n",
      "Beta_40.cd.txt  processed.\n"
     ]
    },
    {
     "name": "stderr",
     "output_type": "stream",
     "text": [
      "python: can't open file 'SESCA_deconv.py': [Errno 2] No such file or directory\n",
      "python: can't open file 'SESCA_deconv.py': [Errno 2] No such file or directory\n"
     ]
    },
    {
     "data": {
      "text/html": [
       "<div>\n",
       "<style scoped>\n",
       "    .dataframe tbody tr th:only-of-type {\n",
       "        vertical-align: middle;\n",
       "    }\n",
       "\n",
       "    .dataframe tbody tr th {\n",
       "        vertical-align: top;\n",
       "    }\n",
       "\n",
       "    .dataframe thead th {\n",
       "        text-align: right;\n",
       "    }\n",
       "</style>\n",
       "<table border=\"1\" class=\"dataframe\">\n",
       "  <thead>\n",
       "    <tr style=\"text-align: right;\">\n",
       "      <th></th>\n",
       "      <th>sample</th>\n",
       "    </tr>\n",
       "  </thead>\n",
       "  <tbody>\n",
       "  </tbody>\n",
       "</table>\n",
       "</div>"
      ],
      "text/plain": [
       "Empty DataFrame\n",
       "Columns: [sample]\n",
       "Index: []"
      ]
     },
     "execution_count": 2,
     "metadata": {},
     "output_type": "execute_result"
    }
   ],
   "source": [
    "spectrum_folder = '../../../data/spectrum_files/'\n",
    "\n",
    "for input_file in os.listdir(spectrum_folder):\n",
    "    input_path = os.path.join(spectrum_folder, input_file)\n",
    "    output_path = os.path.join(spectrum_folder.replace('spectrum_files', 'sesca_deconv'), input_file)\n",
    "    cmd = ['python', 'SESCA_deconv.py',\n",
    "           '@spect', input_path,\n",
    "           '@lib', '../libs/Map_BB_DS-dTSC3.dat',\n",
    "           '@write', output_path,\n",
    "           '@err', '2',\n",
    "           '@rep', '100']\n",
    "    sp.call(cmd)\n",
    "    print(input_file, \" processed.\")\n",
    "\n",
    "\n",
    "output_folder = '../../../data/'\n",
    "\n",
    "table = dict()\n",
    "\n",
    "for file in os.listdir(output_folder):\n",
    "    if not file.endswith('.txt'):\n",
    "        continue\n",
    "    data = open(os.path.join(output_folder, file)).read().split('\\n')\n",
    "    sample = file.split('.')[0]\n",
    "    alpha = float([re.search('[\\.\\d]+$', line).group(0) for line in data if '#        Alpha' in line][0])\n",
    "    beta = float([re.search('[\\.\\d]+$', line).group(0) for line in data if '#         Beta' in line][0])\n",
    "    coil = float([re.search('[\\.\\d]+$', line).group(0) for line in data if '#         Coil' in line][0])\n",
    "    table[sample] = {'alpha': alpha, 'beta': beta, 'coil': coil}\n",
    "    \n",
    "table = (\n",
    "    pd.DataFrame.from_dict(table, orient='index')\n",
    "    .reset_index()\n",
    "    .rename({'index': 'sample'}, axis=1)\n",
    "    .sort_values(by = 'sample')\n",
    ")\n",
    "\n",
    "# table.to_csv('../../../data/sesca_inferred_ss.csv', index=False)\n",
    "\n",
    "table"
   ]
  },
  {
   "cell_type": "code",
   "execution_count": null,
   "metadata": {
    "vscode": {
     "languageId": "r"
    }
   },
   "outputs": [],
   "source": []
  }
 ],
 "metadata": {
  "kernelspec": {
   "display_name": "R_project_repo_1.13.0",
   "language": "R",
   "name": "ir_project_repo_1.13.0"
  },
  "language_info": {
   "codemirror_mode": {
    "name": "ipython",
    "version": 3
   },
   "file_extension": ".py",
   "mimetype": "text/x-python",
   "name": "R",
   "nbconvert_exporter": "python",
   "pygments_lexer": "ipython3",
   "version": "3.7.11"
  },
  "orig_nbformat": 4,
  "vscode": {
   "interpreter": {
    "hash": "33ccdda4403b85622dcca6b225ea57e4a6a8ea27d62bd4ef32f6f7605d06a567"
   }
  }
 },
 "nbformat": 4,
 "nbformat_minor": 2
}
