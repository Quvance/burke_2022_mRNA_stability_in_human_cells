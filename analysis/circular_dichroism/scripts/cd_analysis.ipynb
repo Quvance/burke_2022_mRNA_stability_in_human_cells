{
 "cells": [
  {
   "cell_type": "markdown",
   "metadata": {},
   "source": [
    "## Plot Circular Dichroism Results for SVKF and SKVF peptides"
   ]
  },
  {
   "cell_type": "markdown",
   "metadata": {},
   "source": [
    "### Import libraries and load analysis specific parameters"
   ]
  },
  {
   "cell_type": "code",
   "execution_count": 7,
   "metadata": {
    "vscode": {
     "languageId": "r"
    }
   },
   "outputs": [],
   "source": [
    "library(tidyverse)\n",
    "library(rasilabRtemplates)\n",
    "\n",
    "ss_names = c(\"alpha\" = \"α-helix\", \"beta\" = \"β-strand\", \"coil\" = \"random coil\")"
   ]
  },
  {
   "cell_type": "markdown",
   "metadata": {},
   "source": [
    "\n",
    "### Read in CD data"
   ]
  },
  {
   "cell_type": "code",
   "execution_count": 8,
   "metadata": {
    "vscode": {
     "languageId": "r"
    }
   },
   "outputs": [
    {
     "name": "stderr",
     "output_type": "stream",
     "text": [
      "\u001b[1mRows: \u001b[22m\u001b[34m4208\u001b[39m \u001b[1mColumns: \u001b[22m\u001b[34m4\u001b[39m\n",
      "\u001b[36m──\u001b[39m \u001b[1mColumn specification\u001b[22m \u001b[36m────────────────────────────────────────────────────────\u001b[39m\n",
      "\u001b[1mDelimiter:\u001b[22m \",\"\n",
      "\u001b[31mchr\u001b[39m (1): sample\n",
      "\u001b[32mdbl\u001b[39m (3): wavelength, cm2_dmol-1, voltage\n",
      "\n",
      "\u001b[36mℹ\u001b[39m Use `spec()` to retrieve the full column specification for this data.\n",
      "\u001b[36mℹ\u001b[39m Specify the column types or set `show_col_types = FALSE` to quiet this message.\n"
     ]
    },
    {
     "name": "stdout",
     "output_type": "stream",
     "text": [
      "\u001b[90m# A tibble: 4,208 × 4\u001b[39m\n",
      "   sample  wavelength  dich voltage\n",
      "   \u001b[3m\u001b[90m<chr>\u001b[39m\u001b[23m        \u001b[3m\u001b[90m<dbl>\u001b[39m\u001b[23m \u001b[3m\u001b[90m<dbl>\u001b[39m\u001b[23m   \u001b[3m\u001b[90m<dbl>\u001b[39m\u001b[23m\n",
      "\u001b[90m 1\u001b[39m Alpha_0       250  0.117    295.\n",
      "\u001b[90m 2\u001b[39m Alpha_0       250. 0.146    295.\n",
      "\u001b[90m 3\u001b[39m Alpha_0       250. 0.163    295.\n",
      "\u001b[90m 4\u001b[39m Alpha_0       250. 0.181    295.\n",
      "\u001b[90m 5\u001b[39m Alpha_0       250. 0.235    295.\n",
      "\u001b[90m 6\u001b[39m Alpha_0       250. 0.247    295.\n",
      "\u001b[90m 7\u001b[39m Alpha_0       249. 0.270    295.\n",
      "\u001b[90m 8\u001b[39m Alpha_0       249. 0.286    295.\n",
      "\u001b[90m 9\u001b[39m Alpha_0       249. 0.338    295.\n",
      "\u001b[90m10\u001b[39m Alpha_0       249. 0.395    295.\n",
      "\u001b[90m# … with 4,198 more rows\u001b[39m\n"
     ]
    }
   ],
   "source": [
    "\n",
    "cd_data <- read_csv(\"../data/all_data.csv\") %>% \n",
    "  janitor::clean_names() %>% \n",
    "  rename(dich = cm2_dmol_1) %>% \n",
    "  print()"
   ]
  },
  {
   "cell_type": "markdown",
   "metadata": {},
   "source": [
    "### Read in annotations"
   ]
  },
  {
   "cell_type": "code",
   "execution_count": 9,
   "metadata": {
    "vscode": {
     "languageId": "r"
    }
   },
   "outputs": [
    {
     "name": "stderr",
     "output_type": "stream",
     "text": [
      "\u001b[1mRows: \u001b[22m\u001b[34m7\u001b[39m \u001b[1mColumns: \u001b[22m\u001b[34m5\u001b[39m\n",
      "\u001b[36m──\u001b[39m \u001b[1mColumn specification\u001b[22m \u001b[36m────────────────────────────────────────────────────────\u001b[39m\n",
      "\u001b[1mDelimiter:\u001b[22m \",\"\n",
      "\u001b[31mchr\u001b[39m (3): sample, insert, secondary\n",
      "\u001b[32mdbl\u001b[39m (2): order, percent_tfe\n",
      "\n",
      "\u001b[36mℹ\u001b[39m Use `spec()` to retrieve the full column specification for this data.\n",
      "\u001b[36mℹ\u001b[39m Specify the column types or set `show_col_types = FALSE` to quiet this message.\n"
     ]
    },
    {
     "name": "stdout",
     "output_type": "stream",
     "text": [
      "\u001b[90m# A tibble: 7 × 5\u001b[39m\n",
      "  order sample   insert secondary percent_tfe\n",
      "  \u001b[3m\u001b[90m<dbl>\u001b[39m\u001b[23m \u001b[3m\u001b[90m<chr>\u001b[39m\u001b[23m    \u001b[3m\u001b[90m<chr>\u001b[39m\u001b[23m  \u001b[3m\u001b[90m<chr>\u001b[39m\u001b[23m           \u001b[3m\u001b[90m<dbl>\u001b[39m\u001b[23m\n",
      "\u001b[90m1\u001b[39m     1 Alpha_0  SKVF   alpha               0\n",
      "\u001b[90m2\u001b[39m     2 Alpha_20 SKVF   alpha              20\n",
      "\u001b[90m3\u001b[39m     3 Alpha_40 SKVF   alpha              40\n",
      "\u001b[90m4\u001b[39m     4 Beta_0   SVKF   beta                0\n",
      "\u001b[90m5\u001b[39m     5 Beta_20  SVKF   beta               20\n",
      "\u001b[90m6\u001b[39m     6 Beta_40  SVKF   beta               40\n",
      "\u001b[90m7\u001b[39m     7 Buffer   \u001b[31mNA\u001b[39m     \u001b[31mNA\u001b[39m                  0\n"
     ]
    }
   ],
   "source": [
    "\n",
    "annotations <- read_csv(\"../data/sampleannotations.csv\") %>% print()"
   ]
  },
  {
   "cell_type": "markdown",
   "metadata": {},
   "source": [
    "### Write files for SESCA BAYES analysis"
   ]
  },
  {
   "cell_type": "code",
   "execution_count": 10,
   "metadata": {
    "vscode": {
     "languageId": "r"
    }
   },
   "outputs": [
    {
     "name": "stdout",
     "output_type": "stream",
     "text": [
      "\u001b[90m# A tibble: 6 × 3\u001b[39m\n",
      "\u001b[90m# Groups:   sample [6]\u001b[39m\n",
      "  sample   data               temp              \n",
      "  \u001b[3m\u001b[90m<chr>\u001b[39m\u001b[23m    \u001b[3m\u001b[90m<list>\u001b[39m\u001b[23m             \u001b[3m\u001b[90m<list>\u001b[39m\u001b[23m            \n",
      "\u001b[90m1\u001b[39m Alpha_0  \u001b[90m<tibble [601 × 2]>\u001b[39m \u001b[90m<tibble [601 × 2]>\u001b[39m\n",
      "\u001b[90m2\u001b[39m Alpha_20 \u001b[90m<tibble [601 × 2]>\u001b[39m \u001b[90m<tibble [601 × 2]>\u001b[39m\n",
      "\u001b[90m3\u001b[39m Alpha_40 \u001b[90m<tibble [601 × 2]>\u001b[39m \u001b[90m<tibble [601 × 2]>\u001b[39m\n",
      "\u001b[90m4\u001b[39m Beta_0   \u001b[90m<tibble [601 × 2]>\u001b[39m \u001b[90m<tibble [601 × 2]>\u001b[39m\n",
      "\u001b[90m5\u001b[39m Beta_20  \u001b[90m<tibble [601 × 2]>\u001b[39m \u001b[90m<tibble [601 × 2]>\u001b[39m\n",
      "\u001b[90m6\u001b[39m Beta_40  \u001b[90m<tibble [601 × 2]>\u001b[39m \u001b[90m<tibble [601 × 2]>\u001b[39m\n"
     ]
    }
   ],
   "source": [
    "\n",
    "cd_data %>% \n",
    "  filter(str_detect(sample, \"Alpha|Beta\")) %>% \n",
    "  select(-voltage) %>% \n",
    "  group_by(sample) %>% \n",
    "  nest() %>% \n",
    "  mutate(temp = map2(data, sample, function(df, sample) write_tsv(df, paste0(\"../data/spectrum_files/\", sample, \".cd.txt\"), col_names = F))) %>%\n",
    "  print()"
   ]
  },
  {
   "cell_type": "markdown",
   "metadata": {},
   "source": [
    "### Join data with annotations"
   ]
  },
  {
   "cell_type": "code",
   "execution_count": 11,
   "metadata": {
    "vscode": {
     "languageId": "r"
    }
   },
   "outputs": [
    {
     "name": "stdout",
     "output_type": "stream",
     "text": [
      "\u001b[90m# A tibble: 4,208 × 8\u001b[39m\n",
      "   sample  wavelength  dich voltage order insert secondary percent_tfe\n",
      "   \u001b[3m\u001b[90m<chr>\u001b[39m\u001b[23m        \u001b[3m\u001b[90m<dbl>\u001b[39m\u001b[23m \u001b[3m\u001b[90m<dbl>\u001b[39m\u001b[23m   \u001b[3m\u001b[90m<dbl>\u001b[39m\u001b[23m \u001b[3m\u001b[90m<dbl>\u001b[39m\u001b[23m \u001b[3m\u001b[90m<chr>\u001b[39m\u001b[23m  \u001b[3m\u001b[90m<chr>\u001b[39m\u001b[23m           \u001b[3m\u001b[90m<dbl>\u001b[39m\u001b[23m\n",
      "\u001b[90m 1\u001b[39m Alpha_0       250  0.117    295.     1 SKVF   alpha               0\n",
      "\u001b[90m 2\u001b[39m Alpha_0       250. 0.146    295.     1 SKVF   alpha               0\n",
      "\u001b[90m 3\u001b[39m Alpha_0       250. 0.163    295.     1 SKVF   alpha               0\n",
      "\u001b[90m 4\u001b[39m Alpha_0       250. 0.181    295.     1 SKVF   alpha               0\n",
      "\u001b[90m 5\u001b[39m Alpha_0       250. 0.235    295.     1 SKVF   alpha               0\n",
      "\u001b[90m 6\u001b[39m Alpha_0       250. 0.247    295.     1 SKVF   alpha               0\n",
      "\u001b[90m 7\u001b[39m Alpha_0       249. 0.270    295.     1 SKVF   alpha               0\n",
      "\u001b[90m 8\u001b[39m Alpha_0       249. 0.286    295.     1 SKVF   alpha               0\n",
      "\u001b[90m 9\u001b[39m Alpha_0       249. 0.338    295.     1 SKVF   alpha               0\n",
      "\u001b[90m10\u001b[39m Alpha_0       249. 0.395    295.     1 SKVF   alpha               0\n",
      "\u001b[90m# … with 4,198 more rows\u001b[39m\n"
     ]
    }
   ],
   "source": [
    "data <- cd_data %>% \n",
    "     left_join(annotations, by = 'sample') %>% \n",
    "     print() "
   ]
  },
  {
   "cell_type": "markdown",
   "metadata": {},
   "source": [
    "### Plot CD spectra for each TFE concentration fluorescence \n",
    "\n",
    "```{r, fig.width=2, fig.height=1}"
   ]
  },
  {
   "cell_type": "code",
   "execution_count": 12,
   "metadata": {
    "vscode": {
     "languageId": "r"
    }
   },
   "outputs": [
    {
     "name": "stderr",
     "output_type": "stream",
     "text": [
      "Warning message:\n",
      "“`guides(<scale> = FALSE)` is deprecated. Please use `guides(<scale> = \"none\")` instead.”\n"
     ]
    },
    {
     "data": {
      "text/plain": [
       "NULL"
      ]
     },
     "metadata": {},
     "output_type": "display_data"
    },
    {
     "data": {
      "image/png": "[encoded data removed]",
      "text/plain": [
       "plot without title"
      ]
     },
     "metadata": {
      "image/png": {
       "height": 120,
       "width": 240
      }
     },
     "output_type": "display_data"
    }
   ],
   "source": [
    "options(repr.plot.width=4, repr.plot.height=2) \n",
    "\n",
    "data %>%\n",
    "  filter(!is.na(insert)) %>% \n",
    "  mutate(percent_tfe = as.factor(percent_tfe)) %>% \n",
    "  mutate(insert = paste0(\"4×\", insert)) %>% \n",
    "  ggplot(aes(x = wavelength, y = dich, linetype = percent_tfe, color = insert)) +\n",
    "  facet_wrap(~ fct_rev(insert), ncol = 3, scales = \"fixed\") +\n",
    "  geom_line(aes(group = percent_tfe)) +\n",
    "  scale_color_manual(values = cbPalette) +\n",
    "  guides(color = F) +\n",
    "  theme(legend.key.height = unit(0.5, \"line\")) +\n",
    "  labs(x = \"Wavelength (nm)\", y = \"Circular dichroism\\n(cm2dmol1)\", linetype = \"TFE (%)\")\n",
    "  NULL\n",
    "  \n",
    "ggsave(\"../figures/cd_spectra.pdf\", width = 4, height = 2)"
   ]
  },
  {
   "cell_type": "markdown",
   "metadata": {},
   "source": [
    "### Plot SESCA inferred values"
   ]
  },
  {
   "cell_type": "code",
   "execution_count": 13,
   "metadata": {
    "vscode": {
     "languageId": "r"
    }
   },
   "outputs": [
    {
     "name": "stderr",
     "output_type": "stream",
     "text": [
      "\u001b[1mRows: \u001b[22m\u001b[34m6\u001b[39m \u001b[1mColumns: \u001b[22m\u001b[34m4\u001b[39m\n",
      "\u001b[36m──\u001b[39m \u001b[1mColumn specification\u001b[22m \u001b[36m────────────────────────────────────────────────────────\u001b[39m\n",
      "\u001b[1mDelimiter:\u001b[22m \",\"\n",
      "\u001b[31mchr\u001b[39m (1): sample\n",
      "\u001b[32mdbl\u001b[39m (3): alpha, beta, coil\n",
      "\n",
      "\u001b[36mℹ\u001b[39m Use `spec()` to retrieve the full column specification for this data.\n",
      "\u001b[36mℹ\u001b[39m Specify the column types or set `show_col_types = FALSE` to quiet this message.\n"
     ]
    },
    {
     "name": "stdout",
     "output_type": "stream",
     "text": [
      "\u001b[90m# A tibble: 6 × 8\u001b[39m\n",
      "  sample    alpha  beta  coil order insert secondary percent_tfe\n",
      "  \u001b[3m\u001b[90m<chr>\u001b[39m\u001b[23m     \u001b[3m\u001b[90m<dbl>\u001b[39m\u001b[23m \u001b[3m\u001b[90m<dbl>\u001b[39m\u001b[23m \u001b[3m\u001b[90m<dbl>\u001b[39m\u001b[23m \u001b[3m\u001b[90m<dbl>\u001b[39m\u001b[23m \u001b[3m\u001b[90m<chr>\u001b[39m\u001b[23m  \u001b[3m\u001b[90m<chr>\u001b[39m\u001b[23m           \u001b[3m\u001b[90m<dbl>\u001b[39m\u001b[23m\n",
      "\u001b[90m1\u001b[39m Alpha_0  0      0     1         1 SKVF   alpha               0\n",
      "\u001b[90m2\u001b[39m Alpha_20 0.329  0     0.671     2 SKVF   alpha              20\n",
      "\u001b[90m3\u001b[39m Alpha_40 0.788  0     0.212     3 SKVF   alpha              40\n",
      "\u001b[90m4\u001b[39m Beta_0   0.055\u001b[4m2\u001b[24m 0.516 0.429     4 SVKF   beta                0\n",
      "\u001b[90m5\u001b[39m Beta_20  0.052\u001b[4m8\u001b[24m 0.480 0.467     5 SVKF   beta               20\n",
      "\u001b[90m6\u001b[39m Beta_40  0.066\u001b[4m4\u001b[24m 0.451 0.483     6 SVKF   beta               40\n"
     ]
    }
   ],
   "source": [
    "\n",
    "sesca_data <- read_csv(\"../data/sesca_inferred_ss.csv\") %>% \n",
    "  left_join(annotations, by = \"sample\") %>% \n",
    "  print()"
   ]
  },
  {
   "cell_type": "markdown",
   "metadata": {},
   "source": [
    "### Plot SESCA predicted secondary structure for each TFE concentration fluorescence"
   ]
  },
  {
   "cell_type": "code",
   "execution_count": 14,
   "metadata": {
    "vscode": {
     "languageId": "r"
    }
   },
   "outputs": [
    {
     "data": {
      "text/plain": [
       "NULL"
      ]
     },
     "metadata": {},
     "output_type": "display_data"
    },
    {
     "name": "stderr",
     "output_type": "stream",
     "text": [
      "Warning message in grid.Call(C_textBounds, as.graphicsAnnot(x$label), x$x, x$y, :\n",
      "“conversion failure on 'α-helix' in 'mbcsToSbcs': dot substituted for <ce>”\n",
      "Warning message in grid.Call(C_textBounds, as.graphicsAnnot(x$label), x$x, x$y, :\n",
      "“conversion failure on 'α-helix' in 'mbcsToSbcs': dot substituted for <b1>”\n",
      "Warning message in grid.Call(C_textBounds, as.graphicsAnnot(x$label), x$x, x$y, :\n",
      "“conversion failure on 'α-helix' in 'mbcsToSbcs': dot substituted for <ce>”\n",
      "Warning message in grid.Call(C_textBounds, as.graphicsAnnot(x$label), x$x, x$y, :\n",
      "“conversion failure on 'α-helix' in 'mbcsToSbcs': dot substituted for <b1>”\n",
      "Warning message in grid.Call(C_textBounds, as.graphicsAnnot(x$label), x$x, x$y, :\n",
      "“conversion failure on 'α-helix' in 'mbcsToSbcs': dot substituted for <ce>”\n",
      "Warning message in grid.Call(C_textBounds, as.graphicsAnnot(x$label), x$x, x$y, :\n",
      "“conversion failure on 'α-helix' in 'mbcsToSbcs': dot substituted for <b1>”\n",
      "Warning message in grid.Call(C_textBounds, as.graphicsAnnot(x$label), x$x, x$y, :\n",
      "“conversion failure on 'α-helix' in 'mbcsToSbcs': dot substituted for <ce>”\n",
      "Warning message in grid.Call(C_textBounds, as.graphicsAnnot(x$label), x$x, x$y, :\n",
      "“conversion failure on 'α-helix' in 'mbcsToSbcs': dot substituted for <b1>”\n",
      "Warning message in grid.Call(C_textBounds, as.graphicsAnnot(x$label), x$x, x$y, :\n",
      "“conversion failure on 'α-helix' in 'mbcsToSbcs': dot substituted for <ce>”\n",
      "Warning message in grid.Call(C_textBounds, as.graphicsAnnot(x$label), x$x, x$y, :\n",
      "“conversion failure on 'α-helix' in 'mbcsToSbcs': dot substituted for <b1>”\n",
      "Warning message in grid.Call(C_textBounds, as.graphicsAnnot(x$label), x$x, x$y, :\n",
      "“conversion failure on 'β-strand' in 'mbcsToSbcs': dot substituted for <ce>”\n",
      "Warning message in grid.Call(C_textBounds, as.graphicsAnnot(x$label), x$x, x$y, :\n",
      "“conversion failure on 'β-strand' in 'mbcsToSbcs': dot substituted for <b2>”\n",
      "Warning message in grid.Call(C_textBounds, as.graphicsAnnot(x$label), x$x, x$y, :\n",
      "“conversion failure on 'β-strand' in 'mbcsToSbcs': dot substituted for <ce>”\n",
      "Warning message in grid.Call(C_textBounds, as.graphicsAnnot(x$label), x$x, x$y, :\n",
      "“conversion failure on 'β-strand' in 'mbcsToSbcs': dot substituted for <b2>”\n",
      "Warning message in grid.Call(C_textBounds, as.graphicsAnnot(x$label), x$x, x$y, :\n",
      "“conversion failure on 'β-strand' in 'mbcsToSbcs': dot substituted for <ce>”\n",
      "Warning message in grid.Call(C_textBounds, as.graphicsAnnot(x$label), x$x, x$y, :\n",
      "“conversion failure on 'β-strand' in 'mbcsToSbcs': dot substituted for <b2>”\n",
      "Warning message in grid.Call(C_textBounds, as.graphicsAnnot(x$label), x$x, x$y, :\n",
      "“conversion failure on 'β-strand' in 'mbcsToSbcs': dot substituted for <ce>”\n",
      "Warning message in grid.Call(C_textBounds, as.graphicsAnnot(x$label), x$x, x$y, :\n",
      "“conversion failure on 'β-strand' in 'mbcsToSbcs': dot substituted for <b2>”\n",
      "Warning message in grid.Call(C_textBounds, as.graphicsAnnot(x$label), x$x, x$y, :\n",
      "“conversion failure on 'β-strand' in 'mbcsToSbcs': dot substituted for <ce>”\n",
      "Warning message in grid.Call(C_textBounds, as.graphicsAnnot(x$label), x$x, x$y, :\n",
      "“conversion failure on 'β-strand' in 'mbcsToSbcs': dot substituted for <b2>”\n",
      "Warning message in grid.Call(C_textBounds, as.graphicsAnnot(x$label), x$x, x$y, :\n",
      "“conversion failure on 'α-helix' in 'mbcsToSbcs': dot substituted for <ce>”\n",
      "Warning message in grid.Call(C_textBounds, as.graphicsAnnot(x$label), x$x, x$y, :\n",
      "“conversion failure on 'α-helix' in 'mbcsToSbcs': dot substituted for <b1>”\n",
      "Warning message in grid.Call(C_textBounds, as.graphicsAnnot(x$label), x$x, x$y, :\n",
      "“conversion failure on 'α-helix' in 'mbcsToSbcs': dot substituted for <ce>”\n",
      "Warning message in grid.Call(C_textBounds, as.graphicsAnnot(x$label), x$x, x$y, :\n",
      "“conversion failure on 'α-helix' in 'mbcsToSbcs': dot substituted for <b1>”\n",
      "Warning message in grid.Call(C_textBounds, as.graphicsAnnot(x$label), x$x, x$y, :\n",
      "“conversion failure on 'α-helix' in 'mbcsToSbcs': dot substituted for <ce>”\n",
      "Warning message in grid.Call(C_textBounds, as.graphicsAnnot(x$label), x$x, x$y, :\n",
      "“conversion failure on 'α-helix' in 'mbcsToSbcs': dot substituted for <b1>”\n",
      "Warning message in grid.Call(C_textBounds, as.graphicsAnnot(x$label), x$x, x$y, :\n",
      "“conversion failure on 'α-helix' in 'mbcsToSbcs': dot substituted for <ce>”\n",
      "Warning message in grid.Call(C_textBounds, as.graphicsAnnot(x$label), x$x, x$y, :\n",
      "“conversion failure on 'α-helix' in 'mbcsToSbcs': dot substituted for <b1>”\n",
      "Warning message in grid.Call(C_textBounds, as.graphicsAnnot(x$label), x$x, x$y, :\n",
      "“conversion failure on 'α-helix' in 'mbcsToSbcs': dot substituted for <ce>”\n",
      "Warning message in grid.Call(C_textBounds, as.graphicsAnnot(x$label), x$x, x$y, :\n",
      "“conversion failure on 'α-helix' in 'mbcsToSbcs': dot substituted for <b1>”\n",
      "Warning message in grid.Call(C_textBounds, as.graphicsAnnot(x$label), x$x, x$y, :\n",
      "“conversion failure on 'β-strand' in 'mbcsToSbcs': dot substituted for <ce>”\n",
      "Warning message in grid.Call(C_textBounds, as.graphicsAnnot(x$label), x$x, x$y, :\n",
      "“conversion failure on 'β-strand' in 'mbcsToSbcs': dot substituted for <b2>”\n",
      "Warning message in grid.Call(C_textBounds, as.graphicsAnnot(x$label), x$x, x$y, :\n",
      "“conversion failure on 'β-strand' in 'mbcsToSbcs': dot substituted for <ce>”\n",
      "Warning message in grid.Call(C_textBounds, as.graphicsAnnot(x$label), x$x, x$y, :\n",
      "“conversion failure on 'β-strand' in 'mbcsToSbcs': dot substituted for <b2>”\n",
      "Warning message in grid.Call(C_textBounds, as.graphicsAnnot(x$label), x$x, x$y, :\n",
      "“conversion failure on 'β-strand' in 'mbcsToSbcs': dot substituted for <ce>”\n",
      "Warning message in grid.Call(C_textBounds, as.graphicsAnnot(x$label), x$x, x$y, :\n",
      "“conversion failure on 'β-strand' in 'mbcsToSbcs': dot substituted for <b2>”\n",
      "Warning message in grid.Call(C_textBounds, as.graphicsAnnot(x$label), x$x, x$y, :\n",
      "“conversion failure on 'β-strand' in 'mbcsToSbcs': dot substituted for <ce>”\n",
      "Warning message in grid.Call(C_textBounds, as.graphicsAnnot(x$label), x$x, x$y, :\n",
      "“conversion failure on 'β-strand' in 'mbcsToSbcs': dot substituted for <b2>”\n",
      "Warning message in grid.Call(C_textBounds, as.graphicsAnnot(x$label), x$x, x$y, :\n",
      "“conversion failure on 'β-strand' in 'mbcsToSbcs': dot substituted for <ce>”\n",
      "Warning message in grid.Call(C_textBounds, as.graphicsAnnot(x$label), x$x, x$y, :\n",
      "“conversion failure on 'β-strand' in 'mbcsToSbcs': dot substituted for <b2>”\n",
      "Warning message in grid.Call(C_textBounds, as.graphicsAnnot(x$label), x$x, x$y, :\n",
      "“conversion failure on 'α-helix' in 'mbcsToSbcs': dot substituted for <ce>”\n",
      "Warning message in grid.Call(C_textBounds, as.graphicsAnnot(x$label), x$x, x$y, :\n",
      "“conversion failure on 'α-helix' in 'mbcsToSbcs': dot substituted for <b1>”\n",
      "Warning message in grid.Call(C_textBounds, as.graphicsAnnot(x$label), x$x, x$y, :\n",
      "“conversion failure on 'α-helix' in 'mbcsToSbcs': dot substituted for <ce>”\n",
      "Warning message in grid.Call(C_textBounds, as.graphicsAnnot(x$label), x$x, x$y, :\n",
      "“conversion failure on 'α-helix' in 'mbcsToSbcs': dot substituted for <b1>”\n",
      "Warning message in grid.Call(C_textBounds, as.graphicsAnnot(x$label), x$x, x$y, :\n",
      "“conversion failure on 'α-helix' in 'mbcsToSbcs': dot substituted for <ce>”\n",
      "Warning message in grid.Call(C_textBounds, as.graphicsAnnot(x$label), x$x, x$y, :\n",
      "“conversion failure on 'α-helix' in 'mbcsToSbcs': dot substituted for <b1>”\n",
      "Warning message in grid.Call(C_textBounds, as.graphicsAnnot(x$label), x$x, x$y, :\n",
      "“conversion failure on 'α-helix' in 'mbcsToSbcs': dot substituted for <ce>”\n",
      "Warning message in grid.Call(C_textBounds, as.graphicsAnnot(x$label), x$x, x$y, :\n",
      "“conversion failure on 'α-helix' in 'mbcsToSbcs': dot substituted for <b1>”\n",
      "Warning message in grid.Call(C_textBounds, as.graphicsAnnot(x$label), x$x, x$y, :\n",
      "“conversion failure on 'α-helix' in 'mbcsToSbcs': dot substituted for <ce>”\n",
      "Warning message in grid.Call(C_textBounds, as.graphicsAnnot(x$label), x$x, x$y, :\n",
      "“conversion failure on 'α-helix' in 'mbcsToSbcs': dot substituted for <b1>”\n",
      "Warning message in grid.Call(C_textBounds, as.graphicsAnnot(x$label), x$x, x$y, :\n",
      "“conversion failure on 'α-helix' in 'mbcsToSbcs': dot substituted for <ce>”\n",
      "Warning message in grid.Call(C_textBounds, as.graphicsAnnot(x$label), x$x, x$y, :\n",
      "“conversion failure on 'α-helix' in 'mbcsToSbcs': dot substituted for <b1>”\n",
      "Warning message in grid.Call(C_textBounds, as.graphicsAnnot(x$label), x$x, x$y, :\n",
      "“conversion failure on 'α-helix' in 'mbcsToSbcs': dot substituted for <ce>”\n",
      "Warning message in grid.Call(C_textBounds, as.graphicsAnnot(x$label), x$x, x$y, :\n",
      "“conversion failure on 'α-helix' in 'mbcsToSbcs': dot substituted for <b1>”\n",
      "Warning message in grid.Call(C_textBounds, as.graphicsAnnot(x$label), x$x, x$y, :\n",
      "“conversion failure on 'α-helix' in 'mbcsToSbcs': dot substituted for <ce>”\n",
      "Warning message in grid.Call(C_textBounds, as.graphicsAnnot(x$label), x$x, x$y, :\n",
      "“conversion failure on 'α-helix' in 'mbcsToSbcs': dot substituted for <b1>”\n",
      "Warning message in grid.Call(C_textBounds, as.graphicsAnnot(x$label), x$x, x$y, :\n",
      "“conversion failure on 'α-helix' in 'mbcsToSbcs': dot substituted for <ce>”\n",
      "Warning message in grid.Call(C_textBounds, as.graphicsAnnot(x$label), x$x, x$y, :\n",
      "“conversion failure on 'α-helix' in 'mbcsToSbcs': dot substituted for <b1>”\n",
      "Warning message in grid.Call(C_textBounds, as.graphicsAnnot(x$label), x$x, x$y, :\n",
      "“conversion failure on 'α-helix' in 'mbcsToSbcs': dot substituted for <ce>”\n",
      "Warning message in grid.Call(C_textBounds, as.graphicsAnnot(x$label), x$x, x$y, :\n",
      "“conversion failure on 'α-helix' in 'mbcsToSbcs': dot substituted for <b1>”\n",
      "Warning message in grid.Call(C_textBounds, as.graphicsAnnot(x$label), x$x, x$y, :\n",
      "“conversion failure on 'α-helix' in 'mbcsToSbcs': dot substituted for <ce>”\n",
      "Warning message in grid.Call(C_textBounds, as.graphicsAnnot(x$label), x$x, x$y, :\n",
      "“conversion failure on 'α-helix' in 'mbcsToSbcs': dot substituted for <b1>”\n",
      "Warning message in grid.Call(C_textBounds, as.graphicsAnnot(x$label), x$x, x$y, :\n",
      "“conversion failure on 'α-helix' in 'mbcsToSbcs': dot substituted for <ce>”\n",
      "Warning message in grid.Call(C_textBounds, as.graphicsAnnot(x$label), x$x, x$y, :\n",
      "“conversion failure on 'α-helix' in 'mbcsToSbcs': dot substituted for <b1>”\n",
      "Warning message in grid.Call(C_textBounds, as.graphicsAnnot(x$label), x$x, x$y, :\n",
      "“conversion failure on 'α-helix' in 'mbcsToSbcs': dot substituted for <ce>”\n",
      "Warning message in grid.Call(C_textBounds, as.graphicsAnnot(x$label), x$x, x$y, :\n",
      "“conversion failure on 'α-helix' in 'mbcsToSbcs': dot substituted for <b1>”\n",
      "Warning message in grid.Call(C_textBounds, as.graphicsAnnot(x$label), x$x, x$y, :\n",
      "“conversion failure on 'α-helix' in 'mbcsToSbcs': dot substituted for <ce>”\n",
      "Warning message in grid.Call(C_textBounds, as.graphicsAnnot(x$label), x$x, x$y, :\n",
      "“conversion failure on 'α-helix' in 'mbcsToSbcs': dot substituted for <b1>”\n",
      "Warning message in grid.Call.graphics(C_text, as.graphicsAnnot(x$label), x$x, x$y, :\n",
      "“conversion failure on 'α-helix' in 'mbcsToSbcs': dot substituted for <ce>”\n",
      "Warning message in grid.Call.graphics(C_text, as.graphicsAnnot(x$label), x$x, x$y, :\n",
      "“conversion failure on 'α-helix' in 'mbcsToSbcs': dot substituted for <b1>”\n",
      "Warning message in grid.Call.graphics(C_text, as.graphicsAnnot(x$label), x$x, x$y, :\n",
      "“conversion failure on 'α-helix' in 'mbcsToSbcs': dot substituted for <ce>”\n",
      "Warning message in grid.Call.graphics(C_text, as.graphicsAnnot(x$label), x$x, x$y, :\n",
      "“conversion failure on 'α-helix' in 'mbcsToSbcs': dot substituted for <b1>”\n",
      "Warning message in grid.Call(C_textBounds, as.graphicsAnnot(x$label), x$x, x$y, :\n",
      "“conversion failure on 'β-strand' in 'mbcsToSbcs': dot substituted for <ce>”\n",
      "Warning message in grid.Call(C_textBounds, as.graphicsAnnot(x$label), x$x, x$y, :\n",
      "“conversion failure on 'β-strand' in 'mbcsToSbcs': dot substituted for <b2>”\n",
      "Warning message in grid.Call(C_textBounds, as.graphicsAnnot(x$label), x$x, x$y, :\n",
      "“conversion failure on 'β-strand' in 'mbcsToSbcs': dot substituted for <ce>”\n",
      "Warning message in grid.Call(C_textBounds, as.graphicsAnnot(x$label), x$x, x$y, :\n",
      "“conversion failure on 'β-strand' in 'mbcsToSbcs': dot substituted for <b2>”\n",
      "Warning message in grid.Call(C_textBounds, as.graphicsAnnot(x$label), x$x, x$y, :\n",
      "“conversion failure on 'β-strand' in 'mbcsToSbcs': dot substituted for <ce>”\n",
      "Warning message in grid.Call(C_textBounds, as.graphicsAnnot(x$label), x$x, x$y, :\n",
      "“conversion failure on 'β-strand' in 'mbcsToSbcs': dot substituted for <b2>”\n",
      "Warning message in grid.Call(C_textBounds, as.graphicsAnnot(x$label), x$x, x$y, :\n",
      "“conversion failure on 'β-strand' in 'mbcsToSbcs': dot substituted for <ce>”\n",
      "Warning message in grid.Call(C_textBounds, as.graphicsAnnot(x$label), x$x, x$y, :\n",
      "“conversion failure on 'β-strand' in 'mbcsToSbcs': dot substituted for <b2>”\n",
      "Warning message in grid.Call(C_textBounds, as.graphicsAnnot(x$label), x$x, x$y, :\n",
      "“conversion failure on 'β-strand' in 'mbcsToSbcs': dot substituted for <ce>”\n",
      "Warning message in grid.Call(C_textBounds, as.graphicsAnnot(x$label), x$x, x$y, :\n",
      "“conversion failure on 'β-strand' in 'mbcsToSbcs': dot substituted for <b2>”\n",
      "Warning message in grid.Call(C_textBounds, as.graphicsAnnot(x$label), x$x, x$y, :\n",
      "“conversion failure on 'β-strand' in 'mbcsToSbcs': dot substituted for <ce>”\n",
      "Warning message in grid.Call(C_textBounds, as.graphicsAnnot(x$label), x$x, x$y, :\n",
      "“conversion failure on 'β-strand' in 'mbcsToSbcs': dot substituted for <b2>”\n",
      "Warning message in grid.Call(C_textBounds, as.graphicsAnnot(x$label), x$x, x$y, :\n",
      "“conversion failure on 'β-strand' in 'mbcsToSbcs': dot substituted for <ce>”\n",
      "Warning message in grid.Call(C_textBounds, as.graphicsAnnot(x$label), x$x, x$y, :\n",
      "“conversion failure on 'β-strand' in 'mbcsToSbcs': dot substituted for <b2>”\n",
      "Warning message in grid.Call(C_textBounds, as.graphicsAnnot(x$label), x$x, x$y, :\n",
      "“conversion failure on 'β-strand' in 'mbcsToSbcs': dot substituted for <ce>”\n",
      "Warning message in grid.Call(C_textBounds, as.graphicsAnnot(x$label), x$x, x$y, :\n",
      "“conversion failure on 'β-strand' in 'mbcsToSbcs': dot substituted for <b2>”\n",
      "Warning message in grid.Call(C_textBounds, as.graphicsAnnot(x$label), x$x, x$y, :\n",
      "“conversion failure on 'β-strand' in 'mbcsToSbcs': dot substituted for <ce>”\n",
      "Warning message in grid.Call(C_textBounds, as.graphicsAnnot(x$label), x$x, x$y, :\n",
      "“conversion failure on 'β-strand' in 'mbcsToSbcs': dot substituted for <b2>”\n",
      "Warning message in grid.Call(C_textBounds, as.graphicsAnnot(x$label), x$x, x$y, :\n",
      "“conversion failure on 'β-strand' in 'mbcsToSbcs': dot substituted for <ce>”\n",
      "Warning message in grid.Call(C_textBounds, as.graphicsAnnot(x$label), x$x, x$y, :\n",
      "“conversion failure on 'β-strand' in 'mbcsToSbcs': dot substituted for <b2>”\n",
      "Warning message in grid.Call(C_textBounds, as.graphicsAnnot(x$label), x$x, x$y, :\n",
      "“conversion failure on 'β-strand' in 'mbcsToSbcs': dot substituted for <ce>”\n",
      "Warning message in grid.Call(C_textBounds, as.graphicsAnnot(x$label), x$x, x$y, :\n",
      "“conversion failure on 'β-strand' in 'mbcsToSbcs': dot substituted for <b2>”\n",
      "Warning message in grid.Call(C_textBounds, as.graphicsAnnot(x$label), x$x, x$y, :\n",
      "“conversion failure on 'β-strand' in 'mbcsToSbcs': dot substituted for <ce>”\n",
      "Warning message in grid.Call(C_textBounds, as.graphicsAnnot(x$label), x$x, x$y, :\n",
      "“conversion failure on 'β-strand' in 'mbcsToSbcs': dot substituted for <b2>”\n",
      "Warning message in grid.Call(C_textBounds, as.graphicsAnnot(x$label), x$x, x$y, :\n",
      "“conversion failure on 'β-strand' in 'mbcsToSbcs': dot substituted for <ce>”\n",
      "Warning message in grid.Call(C_textBounds, as.graphicsAnnot(x$label), x$x, x$y, :\n",
      "“conversion failure on 'β-strand' in 'mbcsToSbcs': dot substituted for <b2>”\n",
      "Warning message in grid.Call(C_textBounds, as.graphicsAnnot(x$label), x$x, x$y, :\n",
      "“conversion failure on 'β-strand' in 'mbcsToSbcs': dot substituted for <ce>”\n",
      "Warning message in grid.Call(C_textBounds, as.graphicsAnnot(x$label), x$x, x$y, :\n",
      "“conversion failure on 'β-strand' in 'mbcsToSbcs': dot substituted for <b2>”\n",
      "Warning message in grid.Call.graphics(C_text, as.graphicsAnnot(x$label), x$x, x$y, :\n",
      "“conversion failure on 'β-strand' in 'mbcsToSbcs': dot substituted for <ce>”\n",
      "Warning message in grid.Call.graphics(C_text, as.graphicsAnnot(x$label), x$x, x$y, :\n",
      "“conversion failure on 'β-strand' in 'mbcsToSbcs': dot substituted for <b2>”\n",
      "Warning message in grid.Call.graphics(C_text, as.graphicsAnnot(x$label), x$x, x$y, :\n",
      "“conversion failure on 'β-strand' in 'mbcsToSbcs': dot substituted for <ce>”\n",
      "Warning message in grid.Call.graphics(C_text, as.graphicsAnnot(x$label), x$x, x$y, :\n",
      "“conversion failure on 'β-strand' in 'mbcsToSbcs': dot substituted for <b2>”\n"
     ]
    },
    {
     "data": {
      "image/png": "[encoded data removed]",
      "text/plain": [
       "plot without title"
      ]
     },
     "metadata": {
      "image/png": {
       "height": 120,
       "width": 240
      }
     },
     "output_type": "display_data"
    }
   ],
   "source": [
    "options(repr.plot.width=4, repr.plot.height=2) \n",
    "\n",
    "sesca_data %>%\n",
    "  pivot_longer(c(\"alpha\", \"beta\", \"coil\"), names_to = \"ss\", values_to = \"sesca\") %>%\n",
    "  mutate(ss = fct_relevel(ss_names[ss], \"α-helix\", \"β-strand\", \"random coil\")) %>% \n",
    "  mutate(percent_tfe = as.factor(percent_tfe)) %>% \n",
    "  mutate(insert = paste0(\"4×\", insert)) %>% \n",
    "  ggplot(aes(x = percent_tfe, y = sesca * 100, fill = ss)) +\n",
    "  facet_wrap(~ fct_rev(insert), ncol = 3, scales = \"fixed\") +\n",
    "  scale_fill_manual(values = cbPalette[c(3,2,1)]) +\n",
    "  geom_col(width = 0.8) +\n",
    "  # geom_line(aes(group = percent_tfe)) +\n",
    "  # scale_color_manual(values = cbPalette) +\n",
    "  # guides(color = F) +\n",
    "  theme(legend.key.height = unit(0.5, \"line\"), legend.key.width = unit(0.5, \"line\")) +\n",
    "  labs(fill = \"\", y = \"SS content (%)\", x = \"TFE (%)\")\n",
    "  NULL\n",
    "  \n",
    "ggsave(\"../figures/sesca_ss_content.pdf\", width = 4, height = 2)"
   ]
  }
 ],
 "metadata": {
  "kernelspec": {
   "display_name": "R",
   "language": "R",
   "name": "ir"
  },
  "language_info": {
   "codemirror_mode": "r",
   "file_extension": ".r",
   "mimetype": "text/x-r-source",
   "name": "R",
   "pygments_lexer": "r",
   "version": "4.1.1"
  },
  "orig_nbformat": 4
 },
 "nbformat": 4,
 "nbformat_minor": 2
}
