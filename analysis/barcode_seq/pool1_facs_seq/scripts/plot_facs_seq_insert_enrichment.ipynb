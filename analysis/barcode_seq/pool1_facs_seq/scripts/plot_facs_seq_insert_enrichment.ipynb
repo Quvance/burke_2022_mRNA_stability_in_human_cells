{
 "cells": [
  {
   "cell_type": "code",
   "execution_count": 15,
   "metadata": {
    "vscode": {
     "languageId": "r"
    }
   },
   "outputs": [
    {
     "name": "stdout",
     "output_type": "stream",
     "text": [
      "[1] \"#999999\" \"#E69F00\" \"#56B4E9\" \"#009E73\" \"#F0E442\" \"#0072B2\" \"#D55E00\"\n",
      "[8] \"#CC79A7\"\n",
      "[1] \"#999999\" \"#E69F00\" \"#E0115F\" \"#FF0000\" \"#000000\"\n"
     ]
    }
   ],
   "source": [
    "library(Biostrings)\n",
    "library(tidyverse)\n",
    "library(rasilabRtemplates)\n",
    "# library(ggpubr)\n",
    "\n",
    "insert_reads_cutoff <- 200 # The insert should get at least 200 reads across gRNA or mRNA\n",
    "n_barcodes_cutoff <- 6 # The insert should have at least 6 barcodes across gRNA and mRNA after above cutoff\n",
    "\n",
    "# Make a similar color blind palette, but with dark red for stop codons\n",
    "print(cbPalette)\n",
    "stopPalette <- c(\"#999999\", \"#E69F00\", \"#E0115F\", \"#FF0000\", \"#000000\")\n",
    "print(stopPalette)\n",
    "\n"
   ]
  },
  {
   "cell_type": "markdown",
   "metadata": {},
   "source": [
    "## Read in sample annotations"
   ]
  },
  {
   "cell_type": "code",
   "execution_count": 2,
   "metadata": {
    "vscode": {
     "languageId": "r"
    }
   },
   "outputs": [
    {
     "name": "stderr",
     "output_type": "stream",
     "text": [
      "\u001b[1mRows: \u001b[22m\u001b[34m10\u001b[39m \u001b[1mColumns: \u001b[22m\u001b[34m14\u001b[39m\n",
      "\u001b[36m──\u001b[39m \u001b[1mColumn specification\u001b[22m \u001b[36m────────────────────────────────────────────────────────\u001b[39m\n",
      "\u001b[1mDelimiter:\u001b[22m \",\"\n",
      "\u001b[31mchr\u001b[39m (10): pool_name, sample_name, barcode1, Sequencing Primer, Sample Type, ...\n",
      "\u001b[32mdbl\u001b[39m  (3): Pool Conc. (nM), Pool Size, replicate\n",
      "\u001b[33mlgl\u001b[39m  (1): barcode2\n",
      "\n",
      "\u001b[36mℹ\u001b[39m Use `spec()` to retrieve the full column specification for this data.\n",
      "\u001b[36mℹ\u001b[39m Specify the column types or set `show_col_types = FALSE` to quiet this message.\n"
     ]
    },
    {
     "name": "stdout",
     "output_type": "stream",
     "text": [
      "\u001b[90m# A tibble: 10 × 6\u001b[39m\n",
      "   sample_name index_barcode diagonal expression replicate sampletype\n",
      "   \u001b[3m\u001b[90m<fct>\u001b[39m\u001b[23m       \u001b[3m\u001b[90m<chr>\u001b[39m\u001b[23m         \u001b[3m\u001b[90m<chr>\u001b[39m\u001b[23m    \u001b[3m\u001b[90m<chr>\u001b[39m\u001b[23m          \u001b[3m\u001b[90m<dbl>\u001b[39m\u001b[23m \u001b[3m\u001b[90m<chr>\u001b[39m\u001b[23m     \n",
      "\u001b[90m 1\u001b[39m 104p1       CTGATC        on       high               1 grna      \n",
      "\u001b[90m 2\u001b[39m 104p2       AAGCTA        on       low                1 grna      \n",
      "\u001b[90m 3\u001b[39m 104p3       GTAGCC        off      high               1 grna      \n",
      "\u001b[90m 4\u001b[39m 104p4       TACAAG        off      low                1 grna      \n",
      "\u001b[90m 5\u001b[39m 104p5       TTGACT        on       high               2 grna      \n",
      "\u001b[90m 6\u001b[39m 104p6       GGAACT        on       low                2 grna      \n",
      "\u001b[90m 7\u001b[39m 104p7       TGACAT        off      high               2 grna      \n",
      "\u001b[90m 8\u001b[39m 104p8       GGACGG        off      low                2 grna      \n",
      "\u001b[90m 9\u001b[39m 104p9       CTCTAC        unsorted unsorted           1 grna      \n",
      "\u001b[90m10\u001b[39m 104p10      GCGGAC        unsorted unsorted           1 gdna      \n"
     ]
    }
   ],
   "source": [
    "ix_barcode_annotations <- read_csv(\"../annotations/illumina_info.csv\") %>% \n",
    "  select(sample_name, index_barcode, diagonal, expression, replicate, sampletype) %>% \n",
    "  mutate(sample_name = fct_reorder(sample_name, as.integer(str_extract(sample_name, \"[:digit:]+$\")))) %>% \n",
    "  print()"
   ]
  },
  {
   "cell_type": "markdown",
   "metadata": {},
   "source": [
    "## Read insert annotations"
   ]
  },
  {
   "cell_type": "code",
   "execution_count": 3,
   "metadata": {
    "vscode": {
     "languageId": "r"
    }
   },
   "outputs": [
    {
     "name": "stderr",
     "output_type": "stream",
     "text": [
      "\u001b[1mRows: \u001b[22m\u001b[34m6000\u001b[39m \u001b[1mColumns: \u001b[22m\u001b[34m4\u001b[39m\n",
      "\u001b[36m──\u001b[39m \u001b[1mColumn specification\u001b[22m \u001b[36m────────────────────────────────────────────────────────\u001b[39m\n",
      "\u001b[1mDelimiter:\u001b[22m \"\\t\"\n",
      "\u001b[31mchr\u001b[39m (3): group, insert, seq\n",
      "\u001b[32mdbl\u001b[39m (1): insert_num\n",
      "\n",
      "\u001b[36mℹ\u001b[39m Use `spec()` to retrieve the full column specification for this data.\n",
      "\u001b[36mℹ\u001b[39m Specify the column types or set `show_col_types = FALSE` to quiet this message.\n"
     ]
    },
    {
     "name": "stdout",
     "output_type": "stream",
     "text": [
      "\u001b[90m# A tibble: 4,096 × 10\u001b[39m\n",
      "   insert_num insert         dicodon   gc3    gc diaa  codon1 codon2 aa1   aa2  \n",
      "        \u001b[3m\u001b[90m<dbl>\u001b[39m\u001b[23m \u001b[3m\u001b[90m<chr>\u001b[39m\u001b[23m          \u001b[3m\u001b[90m<chr>\u001b[39m\u001b[23m   \u001b[3m\u001b[90m<dbl>\u001b[39m\u001b[23m \u001b[3m\u001b[90m<dbl>\u001b[39m\u001b[23m \u001b[3m\u001b[90m<chr>\u001b[39m\u001b[23m \u001b[3m\u001b[90m<chr>\u001b[39m\u001b[23m  \u001b[3m\u001b[90m<chr>\u001b[39m\u001b[23m  \u001b[3m\u001b[90m<chr>\u001b[39m\u001b[23m \u001b[3m\u001b[90m<chr>\u001b[39m\u001b[23m\n",
      "\u001b[90m 1\u001b[39m       \u001b[4m4\u001b[24m095 TTTTTTTTTTTTT… TTTTTT    0   0     FF    TTT    TTT    F     F    \n",
      "\u001b[90m 2\u001b[39m       \u001b[4m4\u001b[24m094 TTTTTGTTTTTGT… TTTTTG    0.5 0.167 FL    TTT    TTG    F     L    \n",
      "\u001b[90m 3\u001b[39m       \u001b[4m4\u001b[24m093 TTTTTCTTTTTCT… TTTTTC    0.5 0.167 FF    TTT    TTC    F     F    \n",
      "\u001b[90m 4\u001b[39m       \u001b[4m4\u001b[24m092 TTTTTATTTTTAT… TTTTTA    0   0     FL    TTT    TTA    F     L    \n",
      "\u001b[90m 5\u001b[39m       \u001b[4m4\u001b[24m091 TTTTGTTTTTGTT… TTTTGT    0   0.167 FC    TTT    TGT    F     C    \n",
      "\u001b[90m 6\u001b[39m       \u001b[4m4\u001b[24m090 TTTTGGTTTTGGT… TTTTGG    0.5 0.333 FW    TTT    TGG    F     W    \n",
      "\u001b[90m 7\u001b[39m       \u001b[4m4\u001b[24m089 TTTTGCTTTTGCT… TTTTGC    0.5 0.333 FC    TTT    TGC    F     C    \n",
      "\u001b[90m 8\u001b[39m       \u001b[4m4\u001b[24m088 TTTTGATTTTGAT… TTTTGA    0   0.167 F*    TTT    TGA    F     *    \n",
      "\u001b[90m 9\u001b[39m       \u001b[4m4\u001b[24m087 TTTTCTTTTTCTT… TTTTCT    0   0.167 FS    TTT    TCT    F     S    \n",
      "\u001b[90m10\u001b[39m       \u001b[4m4\u001b[24m086 TTTTCGTTTTCGT… TTTTCG    0.5 0.333 FS    TTT    TCG    F     S    \n",
      "\u001b[90m# … with 4,086 more rows\u001b[39m\n",
      "\u001b[90m# A tibble: 1,904 × 4\u001b[39m\n",
      "   insert_num insert                                             gc3    gc\n",
      "        \u001b[3m\u001b[90m<dbl>\u001b[39m\u001b[23m \u001b[3m\u001b[90m<chr>\u001b[39m\u001b[23m                                            \u001b[3m\u001b[90m<dbl>\u001b[39m\u001b[23m \u001b[3m\u001b[90m<dbl>\u001b[39m\u001b[23m\n",
      "\u001b[90m 1\u001b[39m       \u001b[4m5\u001b[24m999 ATCTTCGAGGTCCTAGGCTACTGGGCCTTCGGCAGGGTCTTCTGCAAC 0.938 0.583\n",
      "\u001b[90m 2\u001b[39m       \u001b[4m5\u001b[24m998 AAGAAACACATACCATACAGAGAACACAAGAGCCTTACAGGAACAGCT 0.375 0.417\n",
      "\u001b[90m 3\u001b[39m       \u001b[4m5\u001b[24m997 TTTCGAAACTTTCTACGTTTGAAGTCATCCAGGAACACAGCAGAAGCA 0.375 0.417\n",
      "\u001b[90m 4\u001b[39m       \u001b[4m5\u001b[24m996 CCTGAAGGCAGCCGGATGCCGGAGCCCACCTCATCACCCACCATTGGC 0.688 0.667\n",
      "\u001b[90m 5\u001b[39m       \u001b[4m5\u001b[24m995 AGGCATGAAATAGGTACACATTATTTTCGAGGTATTAACAACCTCCAG 0.312 0.375\n",
      "\u001b[90m 6\u001b[39m       \u001b[4m5\u001b[24m994 GGGCCAGCGCGCGTGTGCCCGCGACCGCTGGCGCTGGAAGCGCGCACC 0.812 0.812\n",
      "\u001b[90m 7\u001b[39m       \u001b[4m5\u001b[24m993 GAGGAGATGCTGTGGGTGGGGAGCCACGGGGGCCATGCCACTTCATTT 0.75  0.625\n",
      "\u001b[90m 8\u001b[39m       \u001b[4m5\u001b[24m992 CCCGAGCAGATGCTGGCCCAGGCCCGAGTGCCTCTGGGTGACGAGATG 0.812 0.688\n",
      "\u001b[90m 9\u001b[39m       \u001b[4m5\u001b[24m991 ATGTACAGCGGCGTGCTACGGGTCTCGCAGTCGGAAGCTCTGCAGATC 0.812 0.604\n",
      "\u001b[90m10\u001b[39m       \u001b[4m5\u001b[24m990 ATGGGGAGCAGTTATGAGTACATTGAGGACATGGAGAATTTATACCAC 0.688 0.417\n",
      "\u001b[90m# … with 1,894 more rows\u001b[39m\n"
     ]
    }
   ],
   "source": [
    "insert_annotations <- read_tsv(\"../../pool1_linkage/annotations/insert_annotations/dicodon_linkage.tsv\") %>% \n",
    "  select(insert_num, insert) %>%  \n",
    "  # Inidcate repetitive dicodon inserts  \n",
    "  mutate(dicodon = str_extract(insert, \"([ACTG]{6})(?=\\\\1{7})\")) %>%\n",
    "  # calculate gc3\n",
    "  bind_cols(DNAStringSet(.$insert) %>% \n",
    "              subseq(start=3) %>% \n",
    "              oligonucleotideFrequency(1, 3) %>% \n",
    "              as_tibble() %>% \n",
    "              rename_all(. %>% paste0(\"3\")) %>% \n",
    "              mutate(gc3 = (G3 + C3) / (A3 + C3 + G3 + T3)) %>% \n",
    "              select(gc3)\n",
    "            ) %>% \n",
    "  # calculate gc\n",
    "  bind_cols(DNAStringSet(.$insert) %>% \n",
    "              oligonucleotideFrequency(1, 1) %>% \n",
    "              as_tibble() %>% \n",
    "              mutate(gc = (G + C) / (A + C + G + T)) %>% \n",
    "              select(gc)\n",
    "            ) \n",
    "\n",
    "dicodon_annotations <- insert_annotations %>% \n",
    "  filter(!is.na(dicodon)) %>% \n",
    "  mutate(diaa = as.character(translate(DNAStringSet(dicodon), no.init.codon = T))) %>%\n",
    "  mutate(codon1 = substr(dicodon, 1, 3), codon2 = substr(dicodon, 4, 6),\n",
    "         aa1 = substr(diaa, 1, 1), aa2 = substr(diaa, 2, 2)) %>%\n",
    "  print()\n",
    "\n",
    "non8xinsert_annotations <- insert_annotations %>% \n",
    "  filter(is.na(dicodon)) %>% \n",
    "  select(-dicodon) %>% \n",
    "  print()"
   ]
  },
  {
   "cell_type": "markdown",
   "metadata": {},
   "source": [
    "## Read in insert + barcode read count data"
   ]
  },
  {
   "cell_type": "code",
   "execution_count": 4,
   "metadata": {
    "vscode": {
     "languageId": "r"
    }
   },
   "outputs": [
    {
     "name": "stderr",
     "output_type": "stream",
     "text": [
      "\u001b[1mRows: \u001b[22m\u001b[34m646204\u001b[39m \u001b[1mColumns: \u001b[22m\u001b[34m8\u001b[39m\n",
      "\u001b[36m──\u001b[39m \u001b[1mColumn specification\u001b[22m \u001b[36m────────────────────────────────────────────────────────\u001b[39m\n",
      "\u001b[1mDelimiter:\u001b[22m \"\\t\"\n",
      "\u001b[31mchr\u001b[39m (4): sample_id, sample_name, library_type, linkage_ref\n",
      "\u001b[32mdbl\u001b[39m (4): insert_num, barcode_num, barcode_count, linkage_count\n",
      "\n",
      "\u001b[36mℹ\u001b[39m Use `spec()` to retrieve the full column specification for this data.\n",
      "\u001b[36mℹ\u001b[39m Specify the column types or set `show_col_types = FALSE` to quiet this message.\n"
     ]
    },
    {
     "name": "stdout",
     "output_type": "stream",
     "text": [
      "\u001b[90m# A tibble: 646,204 × 4\u001b[39m\n",
      "   sample_name insert_num barcode_num barcode_count\n",
      "   \u001b[3m\u001b[90m<chr>\u001b[39m\u001b[23m            \u001b[3m\u001b[90m<dbl>\u001b[39m\u001b[23m       \u001b[3m\u001b[90m<dbl>\u001b[39m\u001b[23m         \u001b[3m\u001b[90m<dbl>\u001b[39m\u001b[23m\n",
      "\u001b[90m 1\u001b[39m 104p3              696      \u001b[4m2\u001b[24m\u001b[4m4\u001b[24m\u001b[4m9\u001b[24m880          \u001b[4m3\u001b[24m970\n",
      "\u001b[90m 2\u001b[39m 104p3              514      \u001b[4m3\u001b[24m\u001b[4m9\u001b[24m\u001b[4m8\u001b[24m088          \u001b[4m3\u001b[24m734\n",
      "\u001b[90m 3\u001b[39m 104p3              687       \u001b[4m8\u001b[24m\u001b[4m8\u001b[24m292          \u001b[4m2\u001b[24m820\n",
      "\u001b[90m 4\u001b[39m 104p3             \u001b[4m5\u001b[24m308      \u001b[4m4\u001b[24m\u001b[4m2\u001b[24m\u001b[4m3\u001b[24m688          \u001b[4m2\u001b[24m801\n",
      "\u001b[90m 5\u001b[39m 104p3             \u001b[4m3\u001b[24m629      \u001b[4m3\u001b[24m\u001b[4m1\u001b[24m\u001b[4m7\u001b[24m485          \u001b[4m2\u001b[24m651\n",
      "\u001b[90m 6\u001b[39m 104p3             \u001b[4m4\u001b[24m915      \u001b[4m4\u001b[24m\u001b[4m3\u001b[24m\u001b[4m0\u001b[24m480          \u001b[4m2\u001b[24m462\n",
      "\u001b[90m 7\u001b[39m 104p3             \u001b[4m3\u001b[24m842        \u001b[4m1\u001b[24m303          \u001b[4m2\u001b[24m452\n",
      "\u001b[90m 8\u001b[39m 104p3             \u001b[4m2\u001b[24m939      \u001b[4m3\u001b[24m\u001b[4m9\u001b[24m\u001b[4m3\u001b[24m860          \u001b[4m2\u001b[24m296\n",
      "\u001b[90m 9\u001b[39m 104p3             \u001b[4m3\u001b[24m491      \u001b[4m3\u001b[24m\u001b[4m9\u001b[24m\u001b[4m6\u001b[24m693          \u001b[4m2\u001b[24m178\n",
      "\u001b[90m10\u001b[39m 104p3               10      \u001b[4m3\u001b[24m\u001b[4m5\u001b[24m\u001b[4m8\u001b[24m101          \u001b[4m2\u001b[24m083\n",
      "\u001b[90m# … with 646,194 more rows\u001b[39m\n"
     ]
    }
   ],
   "source": [
    "barcode_counts <- read_tsv(\"../tables/sample_insert_barcode_counts.tsv.gz\") %>% \n",
    "  select(-linkage_count, - linkage_ref, -library_type, -linkage_ref, -sample_name) %>%\n",
    "  dplyr::rename(sample_name = sample_id) %>%\n",
    "  print()"
   ]
  },
  {
   "cell_type": "markdown",
   "metadata": {},
   "source": [
    "## Sum barcode counts and pivot for downstream plottiong"
   ]
  },
  {
   "cell_type": "code",
   "execution_count": 8,
   "metadata": {
    "vscode": {
     "languageId": "r"
    }
   },
   "outputs": [
    {
     "name": "stderr",
     "output_type": "stream",
     "text": [
      "\u001b[1m\u001b[22m`summarise()` has grouped output by 'insert_num'. You can override using the\n",
      "`.groups` argument.\n"
     ]
    },
    {
     "data": {
      "text/html": [
       "<table class=\"dataframe\">\n",
       "<caption>A tibble: 56670 × 4</caption>\n",
       "<thead>\n",
       "\t<tr><th scope=col>insert_num</th><th scope=col>sample_name</th><th scope=col>count</th><th scope=col>n_barcodes</th></tr>\n",
       "\t<tr><th scope=col>&lt;dbl&gt;</th><th scope=col>&lt;chr&gt;</th><th scope=col>&lt;dbl&gt;</th><th scope=col>&lt;int&gt;</th></tr>\n",
       "</thead>\n",
       "<tbody>\n",
       "\t<tr><td>0</td><td>104p1 </td><td>1055</td><td>14</td></tr>\n",
       "\t<tr><td>0</td><td>104p10</td><td> 780</td><td> 6</td></tr>\n",
       "\t<tr><td>0</td><td>104p2 </td><td> 853</td><td>18</td></tr>\n",
       "\t<tr><td>0</td><td>104p3 </td><td>2146</td><td>42</td></tr>\n",
       "\t<tr><td>0</td><td>104p4 </td><td>1335</td><td>28</td></tr>\n",
       "\t<tr><td>⋮</td><td>⋮</td><td>⋮</td><td>⋮</td></tr>\n",
       "\t<tr><td>5999</td><td>104p5</td><td>611</td><td>13</td></tr>\n",
       "\t<tr><td>5999</td><td>104p6</td><td>601</td><td>12</td></tr>\n",
       "\t<tr><td>5999</td><td>104p7</td><td>243</td><td> 9</td></tr>\n",
       "\t<tr><td>5999</td><td>104p8</td><td> 97</td><td> 2</td></tr>\n",
       "\t<tr><td>5999</td><td>104p9</td><td>207</td><td> 9</td></tr>\n",
       "</tbody>\n",
       "</table>\n"
      ],
      "text/latex": [
       "A tibble: 56670 × 4\n",
       "\\begin{tabular}{llll}\n",
       " insert\\_num & sample\\_name & count & n\\_barcodes\\\\\n",
       " <dbl> & <chr> & <dbl> & <int>\\\\\n",
       "\\hline\n",
       "\t 0 & 104p1  & 1055 & 14\\\\\n",
       "\t 0 & 104p10 &  780 &  6\\\\\n",
       "\t 0 & 104p2  &  853 & 18\\\\\n",
       "\t 0 & 104p3  & 2146 & 42\\\\\n",
       "\t 0 & 104p4  & 1335 & 28\\\\\n",
       "\t ⋮ & ⋮ & ⋮ & ⋮\\\\\n",
       "\t 5999 & 104p5 & 611 & 13\\\\\n",
       "\t 5999 & 104p6 & 601 & 12\\\\\n",
       "\t 5999 & 104p7 & 243 &  9\\\\\n",
       "\t 5999 & 104p8 &  97 &  2\\\\\n",
       "\t 5999 & 104p9 & 207 &  9\\\\\n",
       "\\end{tabular}\n"
      ],
      "text/markdown": [
       "\n",
       "A tibble: 56670 × 4\n",
       "\n",
       "| insert_num &lt;dbl&gt; | sample_name &lt;chr&gt; | count &lt;dbl&gt; | n_barcodes &lt;int&gt; |\n",
       "|---|---|---|---|\n",
       "| 0 | 104p1  | 1055 | 14 |\n",
       "| 0 | 104p10 |  780 |  6 |\n",
       "| 0 | 104p2  |  853 | 18 |\n",
       "| 0 | 104p3  | 2146 | 42 |\n",
       "| 0 | 104p4  | 1335 | 28 |\n",
       "| ⋮ | ⋮ | ⋮ | ⋮ |\n",
       "| 5999 | 104p5 | 611 | 13 |\n",
       "| 5999 | 104p6 | 601 | 12 |\n",
       "| 5999 | 104p7 | 243 |  9 |\n",
       "| 5999 | 104p8 |  97 |  2 |\n",
       "| 5999 | 104p9 | 207 |  9 |\n",
       "\n"
      ],
      "text/plain": [
       "      insert_num sample_name count n_barcodes\n",
       "1     0          104p1       1055  14        \n",
       "2     0          104p10       780   6        \n",
       "3     0          104p2        853  18        \n",
       "4     0          104p3       2146  42        \n",
       "5     0          104p4       1335  28        \n",
       "⋮     ⋮          ⋮           ⋮     ⋮         \n",
       "56666 5999       104p5       611   13        \n",
       "56667 5999       104p6       601   12        \n",
       "56668 5999       104p7       243    9        \n",
       "56669 5999       104p8        97    2        \n",
       "56670 5999       104p9       207    9        "
      ]
     },
     "metadata": {},
     "output_type": "display_data"
    },
    {
     "name": "stdout",
     "output_type": "stream",
     "text": [
      "\u001b[90m# A tibble: 5,845 × 21\u001b[39m\n",
      "   insert_num count_10…¹ count…² count…³ count…⁴ count…⁵ count…⁶ count…⁷ count…⁸\n",
      "        \u001b[3m\u001b[90m<dbl>\u001b[39m\u001b[23m      \u001b[3m\u001b[90m<dbl>\u001b[39m\u001b[23m   \u001b[3m\u001b[90m<dbl>\u001b[39m\u001b[23m   \u001b[3m\u001b[90m<dbl>\u001b[39m\u001b[23m   \u001b[3m\u001b[90m<dbl>\u001b[39m\u001b[23m   \u001b[3m\u001b[90m<dbl>\u001b[39m\u001b[23m   \u001b[3m\u001b[90m<dbl>\u001b[39m\u001b[23m   \u001b[3m\u001b[90m<dbl>\u001b[39m\u001b[23m   \u001b[3m\u001b[90m<dbl>\u001b[39m\u001b[23m\n",
      "\u001b[90m 1\u001b[39m          0       \u001b[4m1\u001b[24m055     780     853    \u001b[4m2\u001b[24m146    \u001b[4m1\u001b[24m335     660     899     835\n",
      "\u001b[90m 2\u001b[39m          1       \u001b[4m4\u001b[24m347    \u001b[4m1\u001b[24m744    \u001b[4m6\u001b[24m240    \u001b[4m1\u001b[24m667     620    \u001b[4m3\u001b[24m795    \u001b[4m6\u001b[24m615     912\n",
      "\u001b[90m 3\u001b[39m          2        823    \u001b[4m2\u001b[24m781    \u001b[4m1\u001b[24m936    \u001b[4m5\u001b[24m526    \u001b[4m6\u001b[24m768     335    \u001b[4m2\u001b[24m163    \u001b[4m4\u001b[24m179\n",
      "\u001b[90m 4\u001b[39m          3       \u001b[4m1\u001b[24m926    \u001b[4m1\u001b[24m705    \u001b[4m3\u001b[24m998     987      50    \u001b[4m1\u001b[24m171    \u001b[4m2\u001b[24m051     467\n",
      "\u001b[90m 5\u001b[39m          4       \u001b[4m1\u001b[24m960    \u001b[4m1\u001b[24m756    \u001b[4m6\u001b[24m356    \u001b[4m1\u001b[24m501     509    \u001b[4m1\u001b[24m912    \u001b[4m6\u001b[24m138     420\n",
      "\u001b[90m 6\u001b[39m          5       \u001b[4m1\u001b[24m984    \u001b[4m2\u001b[24m313    \u001b[4m2\u001b[24m405    \u001b[4m1\u001b[24m279     502    \u001b[4m1\u001b[24m814    \u001b[4m3\u001b[24m690     847\n",
      "\u001b[90m 7\u001b[39m          6       \u001b[4m1\u001b[24m094     811    \u001b[4m2\u001b[24m491     591     419     997    \u001b[4m2\u001b[24m172     635\n",
      "\u001b[90m 8\u001b[39m          7        808     783    \u001b[4m1\u001b[24m094    \u001b[4m1\u001b[24m319     760    \u001b[4m1\u001b[24m164    \u001b[4m1\u001b[24m341     966\n",
      "\u001b[90m 9\u001b[39m          8       \u001b[4m2\u001b[24m523    \u001b[4m1\u001b[24m614    \u001b[4m4\u001b[24m187    \u001b[4m6\u001b[24m570     707    \u001b[4m3\u001b[24m049    \u001b[4m5\u001b[24m262    \u001b[4m3\u001b[24m685\n",
      "\u001b[90m10\u001b[39m          9       \u001b[4m2\u001b[24m726     438    \u001b[4m2\u001b[24m223     846     473    \u001b[4m1\u001b[24m882    \u001b[4m2\u001b[24m657     715\n",
      "\u001b[90m# … with 5,835 more rows, 12 more variables: count_104p8 <dbl>,\u001b[39m\n",
      "\u001b[90m#   count_104p9 <dbl>, n_barcodes_104p1 <int>, n_barcodes_104p10 <int>,\u001b[39m\n",
      "\u001b[90m#   n_barcodes_104p2 <int>, n_barcodes_104p3 <int>, n_barcodes_104p4 <int>,\u001b[39m\n",
      "\u001b[90m#   n_barcodes_104p5 <int>, n_barcodes_104p6 <int>, n_barcodes_104p7 <int>,\u001b[39m\n",
      "\u001b[90m#   n_barcodes_104p8 <int>, n_barcodes_104p9 <int>, and abbreviated variable\u001b[39m\n",
      "\u001b[90m#   names ¹​count_104p1, ²​count_104p10, ³​count_104p2, ⁴​count_104p3,\u001b[39m\n",
      "\u001b[90m#   ⁵​count_104p4, ⁶​count_104p5, ⁷​count_104p6, ⁸​count_104p7\u001b[39m\n"
     ]
    },
    {
     "data": {
      "text/html": [
       "<table class=\"dataframe\">\n",
       "<caption>A tibble: 5845 × 21</caption>\n",
       "<thead>\n",
       "\t<tr><th scope=col>insert_num</th><th scope=col>count_104p1</th><th scope=col>count_104p10</th><th scope=col>count_104p2</th><th scope=col>count_104p3</th><th scope=col>count_104p4</th><th scope=col>count_104p5</th><th scope=col>count_104p6</th><th scope=col>count_104p7</th><th scope=col>count_104p8</th><th scope=col>⋯</th><th scope=col>n_barcodes_104p1</th><th scope=col>n_barcodes_104p10</th><th scope=col>n_barcodes_104p2</th><th scope=col>n_barcodes_104p3</th><th scope=col>n_barcodes_104p4</th><th scope=col>n_barcodes_104p5</th><th scope=col>n_barcodes_104p6</th><th scope=col>n_barcodes_104p7</th><th scope=col>n_barcodes_104p8</th><th scope=col>n_barcodes_104p9</th></tr>\n",
       "\t<tr><th scope=col>&lt;dbl&gt;</th><th scope=col>&lt;dbl&gt;</th><th scope=col>&lt;dbl&gt;</th><th scope=col>&lt;dbl&gt;</th><th scope=col>&lt;dbl&gt;</th><th scope=col>&lt;dbl&gt;</th><th scope=col>&lt;dbl&gt;</th><th scope=col>&lt;dbl&gt;</th><th scope=col>&lt;dbl&gt;</th><th scope=col>&lt;dbl&gt;</th><th scope=col>⋯</th><th scope=col>&lt;int&gt;</th><th scope=col>&lt;int&gt;</th><th scope=col>&lt;int&gt;</th><th scope=col>&lt;int&gt;</th><th scope=col>&lt;int&gt;</th><th scope=col>&lt;int&gt;</th><th scope=col>&lt;int&gt;</th><th scope=col>&lt;int&gt;</th><th scope=col>&lt;int&gt;</th><th scope=col>&lt;int&gt;</th></tr>\n",
       "</thead>\n",
       "<tbody>\n",
       "\t<tr><td>0</td><td>1055</td><td> 780</td><td> 853</td><td>2146</td><td>1335</td><td> 660</td><td> 899</td><td> 835</td><td>1304</td><td>⋯</td><td>14</td><td> 6</td><td>18</td><td>42</td><td>28</td><td>15</td><td>15</td><td>33</td><td>32</td><td>36</td></tr>\n",
       "\t<tr><td>1</td><td>4347</td><td>1744</td><td>6240</td><td>1667</td><td> 620</td><td>3795</td><td>6615</td><td> 912</td><td> 734</td><td>⋯</td><td>39</td><td>14</td><td>63</td><td>28</td><td>10</td><td>45</td><td>50</td><td>23</td><td>11</td><td>46</td></tr>\n",
       "\t<tr><td>2</td><td> 823</td><td>2781</td><td>1936</td><td>5526</td><td>6768</td><td> 335</td><td>2163</td><td>4179</td><td>5027</td><td>⋯</td><td>11</td><td> 8</td><td>18</td><td>42</td><td>30</td><td>11</td><td>21</td><td>36</td><td>32</td><td>39</td></tr>\n",
       "\t<tr><td>3</td><td>1926</td><td>1705</td><td>3998</td><td> 987</td><td>  50</td><td>1171</td><td>2051</td><td> 467</td><td>  18</td><td>⋯</td><td>22</td><td> 6</td><td>30</td><td>16</td><td> 2</td><td>21</td><td>35</td><td>14</td><td> 2</td><td>29</td></tr>\n",
       "\t<tr><td>4</td><td>1960</td><td>1756</td><td>6356</td><td>1501</td><td> 509</td><td>1912</td><td>6138</td><td> 420</td><td> 330</td><td>⋯</td><td>19</td><td>10</td><td>39</td><td>18</td><td> 5</td><td>24</td><td>37</td><td> 9</td><td> 5</td><td>32</td></tr>\n",
       "\t<tr><td>⋮</td><td>⋮</td><td>⋮</td><td>⋮</td><td>⋮</td><td>⋮</td><td>⋮</td><td>⋮</td><td>⋮</td><td>⋮</td><td>⋱</td><td>⋮</td><td>⋮</td><td>⋮</td><td>⋮</td><td>⋮</td><td>⋮</td><td>⋮</td><td>⋮</td><td>⋮</td><td>⋮</td></tr>\n",
       "\t<tr><td>5995</td><td> 874</td><td> 293</td><td>1222</td><td> 725</td><td>153</td><td> 806</td><td> 952</td><td>198</td><td>  0</td><td>⋯</td><td>13</td><td>4</td><td>11</td><td>15</td><td>2</td><td>13</td><td>17</td><td> 5</td><td>0</td><td>10</td></tr>\n",
       "\t<tr><td>5996</td><td>2009</td><td>1109</td><td>1378</td><td>1078</td><td>315</td><td>1284</td><td>2043</td><td>745</td><td>173</td><td>⋯</td><td>31</td><td>6</td><td>27</td><td>18</td><td>4</td><td>34</td><td>35</td><td>19</td><td>4</td><td>34</td></tr>\n",
       "\t<tr><td>5997</td><td>1660</td><td> 413</td><td>1558</td><td> 317</td><td> 66</td><td>1255</td><td>1846</td><td>164</td><td> 24</td><td>⋯</td><td>17</td><td>3</td><td>23</td><td> 8</td><td>2</td><td>19</td><td>20</td><td> 7</td><td>2</td><td>19</td></tr>\n",
       "\t<tr><td>5998</td><td> 575</td><td>  68</td><td> 557</td><td> 426</td><td>220</td><td> 485</td><td> 933</td><td>294</td><td> 92</td><td>⋯</td><td>17</td><td>2</td><td>17</td><td>13</td><td>5</td><td>12</td><td>18</td><td>11</td><td>4</td><td>11</td></tr>\n",
       "\t<tr><td>5999</td><td> 738</td><td>  23</td><td> 361</td><td> 353</td><td> 42</td><td> 611</td><td> 601</td><td>243</td><td> 97</td><td>⋯</td><td>10</td><td>3</td><td> 9</td><td> 8</td><td>2</td><td>13</td><td>12</td><td> 9</td><td>2</td><td> 9</td></tr>\n",
       "</tbody>\n",
       "</table>\n"
      ],
      "text/latex": [
       "A tibble: 5845 × 21\n",
       "\\begin{tabular}{lllllllllllllllllllll}\n",
       " insert\\_num & count\\_104p1 & count\\_104p10 & count\\_104p2 & count\\_104p3 & count\\_104p4 & count\\_104p5 & count\\_104p6 & count\\_104p7 & count\\_104p8 & ⋯ & n\\_barcodes\\_104p1 & n\\_barcodes\\_104p10 & n\\_barcodes\\_104p2 & n\\_barcodes\\_104p3 & n\\_barcodes\\_104p4 & n\\_barcodes\\_104p5 & n\\_barcodes\\_104p6 & n\\_barcodes\\_104p7 & n\\_barcodes\\_104p8 & n\\_barcodes\\_104p9\\\\\n",
       " <dbl> & <dbl> & <dbl> & <dbl> & <dbl> & <dbl> & <dbl> & <dbl> & <dbl> & <dbl> & ⋯ & <int> & <int> & <int> & <int> & <int> & <int> & <int> & <int> & <int> & <int>\\\\\n",
       "\\hline\n",
       "\t 0 & 1055 &  780 &  853 & 2146 & 1335 &  660 &  899 &  835 & 1304 & ⋯ & 14 &  6 & 18 & 42 & 28 & 15 & 15 & 33 & 32 & 36\\\\\n",
       "\t 1 & 4347 & 1744 & 6240 & 1667 &  620 & 3795 & 6615 &  912 &  734 & ⋯ & 39 & 14 & 63 & 28 & 10 & 45 & 50 & 23 & 11 & 46\\\\\n",
       "\t 2 &  823 & 2781 & 1936 & 5526 & 6768 &  335 & 2163 & 4179 & 5027 & ⋯ & 11 &  8 & 18 & 42 & 30 & 11 & 21 & 36 & 32 & 39\\\\\n",
       "\t 3 & 1926 & 1705 & 3998 &  987 &   50 & 1171 & 2051 &  467 &   18 & ⋯ & 22 &  6 & 30 & 16 &  2 & 21 & 35 & 14 &  2 & 29\\\\\n",
       "\t 4 & 1960 & 1756 & 6356 & 1501 &  509 & 1912 & 6138 &  420 &  330 & ⋯ & 19 & 10 & 39 & 18 &  5 & 24 & 37 &  9 &  5 & 32\\\\\n",
       "\t ⋮ & ⋮ & ⋮ & ⋮ & ⋮ & ⋮ & ⋮ & ⋮ & ⋮ & ⋮ & ⋱ & ⋮ & ⋮ & ⋮ & ⋮ & ⋮ & ⋮ & ⋮ & ⋮ & ⋮ & ⋮\\\\\n",
       "\t 5995 &  874 &  293 & 1222 &  725 & 153 &  806 &  952 & 198 &   0 & ⋯ & 13 & 4 & 11 & 15 & 2 & 13 & 17 &  5 & 0 & 10\\\\\n",
       "\t 5996 & 2009 & 1109 & 1378 & 1078 & 315 & 1284 & 2043 & 745 & 173 & ⋯ & 31 & 6 & 27 & 18 & 4 & 34 & 35 & 19 & 4 & 34\\\\\n",
       "\t 5997 & 1660 &  413 & 1558 &  317 &  66 & 1255 & 1846 & 164 &  24 & ⋯ & 17 & 3 & 23 &  8 & 2 & 19 & 20 &  7 & 2 & 19\\\\\n",
       "\t 5998 &  575 &   68 &  557 &  426 & 220 &  485 &  933 & 294 &  92 & ⋯ & 17 & 2 & 17 & 13 & 5 & 12 & 18 & 11 & 4 & 11\\\\\n",
       "\t 5999 &  738 &   23 &  361 &  353 &  42 &  611 &  601 & 243 &  97 & ⋯ & 10 & 3 &  9 &  8 & 2 & 13 & 12 &  9 & 2 &  9\\\\\n",
       "\\end{tabular}\n"
      ],
      "text/markdown": [
       "\n",
       "A tibble: 5845 × 21\n",
       "\n",
       "| insert_num &lt;dbl&gt; | count_104p1 &lt;dbl&gt; | count_104p10 &lt;dbl&gt; | count_104p2 &lt;dbl&gt; | count_104p3 &lt;dbl&gt; | count_104p4 &lt;dbl&gt; | count_104p5 &lt;dbl&gt; | count_104p6 &lt;dbl&gt; | count_104p7 &lt;dbl&gt; | count_104p8 &lt;dbl&gt; | ⋯ ⋯ | n_barcodes_104p1 &lt;int&gt; | n_barcodes_104p10 &lt;int&gt; | n_barcodes_104p2 &lt;int&gt; | n_barcodes_104p3 &lt;int&gt; | n_barcodes_104p4 &lt;int&gt; | n_barcodes_104p5 &lt;int&gt; | n_barcodes_104p6 &lt;int&gt; | n_barcodes_104p7 &lt;int&gt; | n_barcodes_104p8 &lt;int&gt; | n_barcodes_104p9 &lt;int&gt; |\n",
       "|---|---|---|---|---|---|---|---|---|---|---|---|---|---|---|---|---|---|---|---|---|\n",
       "| 0 | 1055 |  780 |  853 | 2146 | 1335 |  660 |  899 |  835 | 1304 | ⋯ | 14 |  6 | 18 | 42 | 28 | 15 | 15 | 33 | 32 | 36 |\n",
       "| 1 | 4347 | 1744 | 6240 | 1667 |  620 | 3795 | 6615 |  912 |  734 | ⋯ | 39 | 14 | 63 | 28 | 10 | 45 | 50 | 23 | 11 | 46 |\n",
       "| 2 |  823 | 2781 | 1936 | 5526 | 6768 |  335 | 2163 | 4179 | 5027 | ⋯ | 11 |  8 | 18 | 42 | 30 | 11 | 21 | 36 | 32 | 39 |\n",
       "| 3 | 1926 | 1705 | 3998 |  987 |   50 | 1171 | 2051 |  467 |   18 | ⋯ | 22 |  6 | 30 | 16 |  2 | 21 | 35 | 14 |  2 | 29 |\n",
       "| 4 | 1960 | 1756 | 6356 | 1501 |  509 | 1912 | 6138 |  420 |  330 | ⋯ | 19 | 10 | 39 | 18 |  5 | 24 | 37 |  9 |  5 | 32 |\n",
       "| ⋮ | ⋮ | ⋮ | ⋮ | ⋮ | ⋮ | ⋮ | ⋮ | ⋮ | ⋮ | ⋱ | ⋮ | ⋮ | ⋮ | ⋮ | ⋮ | ⋮ | ⋮ | ⋮ | ⋮ | ⋮ |\n",
       "| 5995 |  874 |  293 | 1222 |  725 | 153 |  806 |  952 | 198 |   0 | ⋯ | 13 | 4 | 11 | 15 | 2 | 13 | 17 |  5 | 0 | 10 |\n",
       "| 5996 | 2009 | 1109 | 1378 | 1078 | 315 | 1284 | 2043 | 745 | 173 | ⋯ | 31 | 6 | 27 | 18 | 4 | 34 | 35 | 19 | 4 | 34 |\n",
       "| 5997 | 1660 |  413 | 1558 |  317 |  66 | 1255 | 1846 | 164 |  24 | ⋯ | 17 | 3 | 23 |  8 | 2 | 19 | 20 |  7 | 2 | 19 |\n",
       "| 5998 |  575 |   68 |  557 |  426 | 220 |  485 |  933 | 294 |  92 | ⋯ | 17 | 2 | 17 | 13 | 5 | 12 | 18 | 11 | 4 | 11 |\n",
       "| 5999 |  738 |   23 |  361 |  353 |  42 |  611 |  601 | 243 |  97 | ⋯ | 10 | 3 |  9 |  8 | 2 | 13 | 12 |  9 | 2 |  9 |\n",
       "\n"
      ],
      "text/plain": [
       "     insert_num count_104p1 count_104p10 count_104p2 count_104p3 count_104p4\n",
       "1    0          1055         780          853        2146        1335       \n",
       "2    1          4347        1744         6240        1667         620       \n",
       "3    2           823        2781         1936        5526        6768       \n",
       "4    3          1926        1705         3998         987          50       \n",
       "5    4          1960        1756         6356        1501         509       \n",
       "⋮    ⋮          ⋮           ⋮            ⋮           ⋮           ⋮          \n",
       "5841 5995        874         293         1222         725        153        \n",
       "5842 5996       2009        1109         1378        1078        315        \n",
       "5843 5997       1660         413         1558         317         66        \n",
       "5844 5998        575          68          557         426        220        \n",
       "5845 5999        738          23          361         353         42        \n",
       "     count_104p5 count_104p6 count_104p7 count_104p8 ⋯ n_barcodes_104p1\n",
       "1     660         899         835        1304        ⋯ 14              \n",
       "2    3795        6615         912         734        ⋯ 39              \n",
       "3     335        2163        4179        5027        ⋯ 11              \n",
       "4    1171        2051         467          18        ⋯ 22              \n",
       "5    1912        6138         420         330        ⋯ 19              \n",
       "⋮    ⋮           ⋮           ⋮           ⋮           ⋱ ⋮               \n",
       "5841  806         952        198           0         ⋯ 13              \n",
       "5842 1284        2043        745         173         ⋯ 31              \n",
       "5843 1255        1846        164          24         ⋯ 17              \n",
       "5844  485         933        294          92         ⋯ 17              \n",
       "5845  611         601        243          97         ⋯ 10              \n",
       "     n_barcodes_104p10 n_barcodes_104p2 n_barcodes_104p3 n_barcodes_104p4\n",
       "1     6                18               42               28              \n",
       "2    14                63               28               10              \n",
       "3     8                18               42               30              \n",
       "4     6                30               16                2              \n",
       "5    10                39               18                5              \n",
       "⋮    ⋮                 ⋮                ⋮                ⋮               \n",
       "5841 4                 11               15               2               \n",
       "5842 6                 27               18               4               \n",
       "5843 3                 23                8               2               \n",
       "5844 2                 17               13               5               \n",
       "5845 3                  9                8               2               \n",
       "     n_barcodes_104p5 n_barcodes_104p6 n_barcodes_104p7 n_barcodes_104p8\n",
       "1    15               15               33               32              \n",
       "2    45               50               23               11              \n",
       "3    11               21               36               32              \n",
       "4    21               35               14                2              \n",
       "5    24               37                9                5              \n",
       "⋮    ⋮                ⋮                ⋮                ⋮               \n",
       "5841 13               17                5               0               \n",
       "5842 34               35               19               4               \n",
       "5843 19               20                7               2               \n",
       "5844 12               18               11               4               \n",
       "5845 13               12                9               2               \n",
       "     n_barcodes_104p9\n",
       "1    36              \n",
       "2    46              \n",
       "3    39              \n",
       "4    29              \n",
       "5    32              \n",
       "⋮    ⋮               \n",
       "5841 10              \n",
       "5842 34              \n",
       "5843 19              \n",
       "5844 11              \n",
       "5845  9              "
      ]
     },
     "metadata": {},
     "output_type": "display_data"
    }
   ],
   "source": [
    "summed_barcodes <- barcode_counts %>% \n",
    "  group_by(insert_num, sample_name) %>%\n",
    "  summarize(count = sum(barcode_count), n_barcodes = dplyr::n()) %>%\n",
    "  ungroup()\n",
    "\n",
    "summed_barcodes\n",
    "\n",
    "insert_counts <- summed_barcodes %>%\n",
    "  # select(sample_name, count) %>%\n",
    "  pivot_wider(names_from = sample_name, values_from = c(\"count\", \"n_barcodes\"), values_fill = list(\"count\" = 0, \"n_barcodes\" = 0)) %>% \n",
    "  inner_join(select(insert_annotations, insert_num), by = \"insert_num\") %>% print \n",
    "\n",
    "insert_counts"
   ]
  },
  {
   "cell_type": "markdown",
   "metadata": {},
   "source": [
    "## Join annotations to summed count data\n",
    "\n",
    "- Of note, count numbers appear slightly different than in my original analysis. Prehaps we're missing a read-count cutoff in the ealier read processing steps?"
   ]
  },
  {
   "cell_type": "code",
   "execution_count": 9,
   "metadata": {
    "vscode": {
     "languageId": "r"
    }
   },
   "outputs": [
    {
     "name": "stderr",
     "output_type": "stream",
     "text": [
      "\u001b[1m\u001b[22m`summarise()` has grouped output by 'sample_name'. You can override using the\n",
      "`.groups` argument.\n"
     ]
    },
    {
     "name": "stdout",
     "output_type": "stream",
     "text": [
      "\u001b[90m# A tibble: 4,460 × 9\u001b[39m\n",
      "   sample_name diaa  count n_barcodes index_ba…¹ diago…² expre…³ repli…⁴ sampl…⁵\n",
      "   \u001b[3m\u001b[90m<chr>\u001b[39m\u001b[23m       \u001b[3m\u001b[90m<chr>\u001b[39m\u001b[23m \u001b[3m\u001b[90m<dbl>\u001b[39m\u001b[23m      \u001b[3m\u001b[90m<int>\u001b[39m\u001b[23m \u001b[3m\u001b[90m<chr>\u001b[39m\u001b[23m      \u001b[3m\u001b[90m<chr>\u001b[39m\u001b[23m   \u001b[3m\u001b[90m<chr>\u001b[39m\u001b[23m     \u001b[3m\u001b[90m<dbl>\u001b[39m\u001b[23m \u001b[3m\u001b[90m<chr>\u001b[39m\u001b[23m  \n",
      "\u001b[90m 1\u001b[39m 104p1       **     \u001b[4m9\u001b[24m245         76 CTGATC     on      high          1 grna   \n",
      "\u001b[90m 2\u001b[39m 104p1       *A     \u001b[4m6\u001b[24m303         83 CTGATC     on      high          1 grna   \n",
      "\u001b[90m 3\u001b[39m 104p1       *C     \u001b[4m3\u001b[24m751         32 CTGATC     on      high          1 grna   \n",
      "\u001b[90m 4\u001b[39m 104p1       *D     \u001b[4m4\u001b[24m402         54 CTGATC     on      high          1 grna   \n",
      "\u001b[90m 5\u001b[39m 104p1       *E     \u001b[4m5\u001b[24m022         27 CTGATC     on      high          1 grna   \n",
      "\u001b[90m 6\u001b[39m 104p1       *F     \u001b[4m2\u001b[24m953         47 CTGATC     on      high          1 grna   \n",
      "\u001b[90m 7\u001b[39m 104p1       *G     \u001b[4m7\u001b[24m752         58 CTGATC     on      high          1 grna   \n",
      "\u001b[90m 8\u001b[39m 104p1       *H     \u001b[4m4\u001b[24m131         63 CTGATC     on      high          1 grna   \n",
      "\u001b[90m 9\u001b[39m 104p1       *I     \u001b[4m4\u001b[24m766         77 CTGATC     on      high          1 grna   \n",
      "\u001b[90m10\u001b[39m 104p1       *K     \u001b[4m2\u001b[24m111         31 CTGATC     on      high          1 grna   \n",
      "\u001b[90m# … with 4,450 more rows, and abbreviated variable names ¹​index_barcode,\u001b[39m\n",
      "\u001b[90m#   ²​diagonal, ³​expression, ⁴​replicate, ⁵​sampletype\u001b[39m\n"
     ]
    }
   ],
   "source": [
    "join_data <- insert_counts %>% \n",
    "  pivot_longer(-insert_num, names_to = c(\".value\", \"sample_name\"), names_pattern = \"(.+)_(.+)\") %>% \n",
    "  right_join(dicodon_annotations, by = \"insert_num\") %>% \n",
    "  group_by(sample_name, diaa) %>% \n",
    "  summarize(count = sum(count), n_barcodes = sum(n_barcodes)) %>% \n",
    "  ungroup() %>% \n",
    "  left_join(ix_barcode_annotations, by = \"sample_name\") %>% print "
   ]
  },
  {
   "cell_type": "markdown",
   "metadata": {},
   "source": [
    "## Compare non-selected and low YFP (off-low) populations\n",
    "\n",
    "- Although count numbers differ slightly from initial analysis, replicates still agree with each other nicely. \n",
    "- Plot looks about the same as previously; maybe a but tighter correlation, in fact. "
   ]
  },
  {
   "cell_type": "code",
   "execution_count": 11,
   "metadata": {
    "vscode": {
     "languageId": "r"
    }
   },
   "outputs": [
    {
     "name": "stderr",
     "output_type": "stream",
     "text": [
      "\u001b[1m\u001b[22m`summarise()` has grouped output by 'sample_name'. You can override using the\n",
      "`.groups` argument.\n"
     ]
    },
    {
     "name": "stdout",
     "output_type": "stream",
     "text": [
      "\u001b[90m# A tibble: 425 × 9\u001b[39m\n",
      "   diaa  count_off_1 count_off_2 count…¹ n_bar…² n_bar…³ n_bar…⁴ lfc_o…⁵ lfc_o…⁶\n",
      "   \u001b[3m\u001b[90m<chr>\u001b[39m\u001b[23m       \u001b[3m\u001b[90m<dbl>\u001b[39m\u001b[23m       \u001b[3m\u001b[90m<dbl>\u001b[39m\u001b[23m   \u001b[3m\u001b[90m<dbl>\u001b[39m\u001b[23m   \u001b[3m\u001b[90m<int>\u001b[39m\u001b[23m   \u001b[3m\u001b[90m<int>\u001b[39m\u001b[23m   \u001b[3m\u001b[90m<int>\u001b[39m\u001b[23m   \u001b[3m\u001b[90m<dbl>\u001b[39m\u001b[23m   \u001b[3m\u001b[90m<dbl>\u001b[39m\u001b[23m\n",
      "\u001b[90m 1\u001b[39m *W           \u001b[4m6\u001b[24m615        \u001b[4m5\u001b[24m518    \u001b[4m2\u001b[24m254      35      31      31    2.93    3.04\n",
      "\u001b[90m 2\u001b[39m F*          \u001b[4m2\u001b[24m\u001b[4m2\u001b[24m203       \u001b[4m1\u001b[24m\u001b[4m7\u001b[24m760    \u001b[4m8\u001b[24m443     180     166     136    2.77    2.82\n",
      "\u001b[90m 3\u001b[39m *Q          \u001b[4m1\u001b[24m\u001b[4m9\u001b[24m328       \u001b[4m1\u001b[24m\u001b[4m7\u001b[24m718    \u001b[4m8\u001b[24m402     153     143     129    2.58    2.82\n",
      "\u001b[90m 4\u001b[39m *F          \u001b[4m1\u001b[24m\u001b[4m5\u001b[24m736       \u001b[4m1\u001b[24m\u001b[4m4\u001b[24m463    \u001b[4m6\u001b[24m861     143     146     130    2.58    2.82\n",
      "\u001b[90m 5\u001b[39m N*          \u001b[4m2\u001b[24m\u001b[4m2\u001b[24m012       \u001b[4m1\u001b[24m\u001b[4m7\u001b[24m112    \u001b[4m9\u001b[24m220     184     166     174    2.63    2.64\n",
      "\u001b[90m 6\u001b[39m *N          \u001b[4m1\u001b[24m\u001b[4m9\u001b[24m067       \u001b[4m1\u001b[24m\u001b[4m4\u001b[24m471    \u001b[4m7\u001b[24m936     179     151     170    2.64    2.61\n",
      "\u001b[90m 7\u001b[39m *Y          \u001b[4m2\u001b[24m\u001b[4m5\u001b[24m845       \u001b[4m2\u001b[24m\u001b[4m1\u001b[24m088   \u001b[4m1\u001b[24m\u001b[4m1\u001b[24m155     211     203     202    2.59    2.66\n",
      "\u001b[90m 8\u001b[39m *P          \u001b[4m2\u001b[24m\u001b[4m9\u001b[24m522       \u001b[4m2\u001b[24m\u001b[4m3\u001b[24m087   \u001b[4m1\u001b[24m\u001b[4m2\u001b[24m523     297     259     273    2.62    2.63\n",
      "\u001b[90m 9\u001b[39m *L          \u001b[4m6\u001b[24m\u001b[4m1\u001b[24m504       \u001b[4m4\u001b[24m\u001b[4m4\u001b[24m106   \u001b[4m2\u001b[24m\u001b[4m5\u001b[24m700     433     384     403    2.64    2.53\n",
      "\u001b[90m10\u001b[39m *C          \u001b[4m1\u001b[24m\u001b[4m2\u001b[24m270       \u001b[4m1\u001b[24m\u001b[4m0\u001b[24m394    \u001b[4m5\u001b[24m682     124     118     108    2.49    2.62\n",
      "\u001b[90m# … with 415 more rows, and abbreviated variable names ¹​count_unsorted_1,\u001b[39m\n",
      "\u001b[90m#   ²​n_barcodes_off_1, ³​n_barcodes_off_2, ⁴​n_barcodes_unsorted_1,\u001b[39m\n",
      "\u001b[90m#   ⁵​lfc_off_low_vs_unsorted_1, ⁶​lfc_off_low_vs_unsorted_2\u001b[39m\n"
     ]
    },
    {
     "data": {
      "image/png": "[encoded data removed]",
      "text/plain": [
       "plot without title"
      ]
     },
     "metadata": {
      "image/png": {
       "height": 180,
       "width": 180
      }
     },
     "output_type": "display_data"
    }
   ],
   "source": [
    "options(repr.plot.width=3, repr.plot.height=3)\n",
    "\n",
    "plot_data <- insert_counts %>% \n",
    "  pivot_longer(-insert_num, names_to = c(\".value\", \"sample_name\"), names_pattern = \"(.+)_(.+)\") %>% \n",
    "  right_join(dicodon_annotations, by = \"insert_num\") %>% \n",
    "  group_by(sample_name, diaa) %>% \n",
    "  summarize(count = sum(count), n_barcodes = sum(n_barcodes)) %>% \n",
    "  ungroup() %>% \n",
    "  left_join(ix_barcode_annotations, by = \"sample_name\") %>%\n",
    "  filter((diagonal == \"off\" & expression == \"low\")|(diagonal == \"unsorted\" & sampletype == \"grna\")) %>%\n",
    "  select(-index_barcode, -sample_name, -sampletype, -expression) %>%\n",
    "  arrange(diaa) %>% \n",
    "  pivot_wider(names_from = c(\"diagonal\", \"replicate\"), values_from = c(\"count\", \"n_barcodes\"), values_fill = list(\"count\" = 0, \"n_barcodes\" = 0)) %>%\n",
    "  mutate(lfc_off_low_vs_unsorted_1 = log2(count_off_1 / count_unsorted_1),\n",
    "         lfc_off_low_vs_unsorted_2 = log2(count_off_2 / count_unsorted_1)\n",
    "         ) %>%\n",
    "  filter(!is.infinite(lfc_off_low_vs_unsorted_1), !is.infinite(lfc_off_low_vs_unsorted_2)) %>%\n",
    "  filter(n_barcodes_off_1 >= 5, n_barcodes_off_2 >= 5) %>%\n",
    "  mutate(lfc_off_low_vs_unsorted_1 = lfc_off_low_vs_unsorted_1 - median(lfc_off_low_vs_unsorted_1)) %>%\n",
    "  mutate(lfc_off_low_vs_unsorted_2 = lfc_off_low_vs_unsorted_2 - median(lfc_off_low_vs_unsorted_2)) %>%\n",
    "  # select(diaa, lfc_off_low_vs_unsorted_1, lfc_off_low_vs_unsorted_2) %>%\n",
    "  arrange(-(lfc_off_low_vs_unsorted_1 + lfc_off_low_vs_unsorted_2)) %>%\n",
    "  # write_tsv(\"../tables/20201018_off_low_vs_unsorted_dipeptides.tsv\") %>%\n",
    "  print()\n",
    "\n",
    "correlation <- plot_data %>%\n",
    "  summarize(rho = round(cor(lfc_off_low_vs_unsorted_1, lfc_off_low_vs_unsorted_2), 2))\n",
    "\n",
    "plot_data %>%\n",
    "  ggplot(aes(x = lfc_off_low_vs_unsorted_1, y = lfc_off_low_vs_unsorted_2)) +\n",
    "  geom_point(alpha = 0.3) +\n",
    "  geom_text(aes(label = rho), x = -1.5, y = 3, data = correlation) +\n",
    "  theme_classic() +\n",
    "  labs(x = \"Replicate 1\", y = \"Replicate 2\",\n",
    "       title = \"Enrichment of dipeptides\",\n",
    "       subtitle = \"Low off-diagonal over Unsorted\")"
   ]
  },
  {
   "cell_type": "markdown",
   "metadata": {},
   "source": [
    "# Plot stop codons _and_ destabilizing pairs\n",
    "\n",
    "- Plots look okay as scatters. Better as boxplots. \n",
    "- Could subset groups by LFC from the 8x library."
   ]
  },
  {
   "cell_type": "code",
   "execution_count": 12,
   "metadata": {
    "vscode": {
     "languageId": "r"
    }
   },
   "outputs": [
    {
     "name": "stdout",
     "output_type": "stream",
     "text": [
      "\u001b[90m# A tibble: 425 × 11\u001b[39m\n",
      "   diaa  count_o…¹ count…² count…³ n_bar…⁴ n_bar…⁵ n_bar…⁶ lfc_o…⁷ lfc_o…⁸   lfc\n",
      "   \u001b[3m\u001b[90m<chr>\u001b[39m\u001b[23m     \u001b[3m\u001b[90m<dbl>\u001b[39m\u001b[23m   \u001b[3m\u001b[90m<dbl>\u001b[39m\u001b[23m   \u001b[3m\u001b[90m<dbl>\u001b[39m\u001b[23m   \u001b[3m\u001b[90m<int>\u001b[39m\u001b[23m   \u001b[3m\u001b[90m<int>\u001b[39m\u001b[23m   \u001b[3m\u001b[90m<int>\u001b[39m\u001b[23m   \u001b[3m\u001b[90m<dbl>\u001b[39m\u001b[23m   \u001b[3m\u001b[90m<dbl>\u001b[39m\u001b[23m \u001b[3m\u001b[90m<dbl>\u001b[39m\u001b[23m\n",
      "\u001b[90m 1\u001b[39m *W         \u001b[4m6\u001b[24m615    \u001b[4m5\u001b[24m518    \u001b[4m2\u001b[24m254      35      31      31    2.93    3.04  2.93\n",
      "\u001b[90m 2\u001b[39m F*        \u001b[4m2\u001b[24m\u001b[4m2\u001b[24m203   \u001b[4m1\u001b[24m\u001b[4m7\u001b[24m760    \u001b[4m8\u001b[24m443     180     166     136    2.77    2.82  2.77\n",
      "\u001b[90m 3\u001b[39m *Q        \u001b[4m1\u001b[24m\u001b[4m9\u001b[24m328   \u001b[4m1\u001b[24m\u001b[4m7\u001b[24m718    \u001b[4m8\u001b[24m402     153     143     129    2.58    2.82  2.58\n",
      "\u001b[90m 4\u001b[39m *F        \u001b[4m1\u001b[24m\u001b[4m5\u001b[24m736   \u001b[4m1\u001b[24m\u001b[4m4\u001b[24m463    \u001b[4m6\u001b[24m861     143     146     130    2.58    2.82  2.58\n",
      "\u001b[90m 5\u001b[39m N*        \u001b[4m2\u001b[24m\u001b[4m2\u001b[24m012   \u001b[4m1\u001b[24m\u001b[4m7\u001b[24m112    \u001b[4m9\u001b[24m220     184     166     174    2.63    2.64  2.63\n",
      "\u001b[90m 6\u001b[39m *N        \u001b[4m1\u001b[24m\u001b[4m9\u001b[24m067   \u001b[4m1\u001b[24m\u001b[4m4\u001b[24m471    \u001b[4m7\u001b[24m936     179     151     170    2.64    2.61  2.64\n",
      "\u001b[90m 7\u001b[39m *Y        \u001b[4m2\u001b[24m\u001b[4m5\u001b[24m845   \u001b[4m2\u001b[24m\u001b[4m1\u001b[24m088   \u001b[4m1\u001b[24m\u001b[4m1\u001b[24m155     211     203     202    2.59    2.66  2.59\n",
      "\u001b[90m 8\u001b[39m *P        \u001b[4m2\u001b[24m\u001b[4m9\u001b[24m522   \u001b[4m2\u001b[24m\u001b[4m3\u001b[24m087   \u001b[4m1\u001b[24m\u001b[4m2\u001b[24m523     297     259     273    2.62    2.63  2.62\n",
      "\u001b[90m 9\u001b[39m *L        \u001b[4m6\u001b[24m\u001b[4m1\u001b[24m504   \u001b[4m4\u001b[24m\u001b[4m4\u001b[24m106   \u001b[4m2\u001b[24m\u001b[4m5\u001b[24m700     433     384     403    2.64    2.53  2.64\n",
      "\u001b[90m10\u001b[39m *C        \u001b[4m1\u001b[24m\u001b[4m2\u001b[24m270   \u001b[4m1\u001b[24m\u001b[4m0\u001b[24m394    \u001b[4m5\u001b[24m682     124     118     108    2.49    2.62  2.49\n",
      "\u001b[90m# … with 415 more rows, 1 more variable: type <chr>, and abbreviated variable\u001b[39m\n",
      "\u001b[90m#   names ¹​count_off_1, ²​count_off_2, ³​count_unsorted_1, ⁴​n_barcodes_off_1,\u001b[39m\n",
      "\u001b[90m#   ⁵​n_barcodes_off_2, ⁶​n_barcodes_unsorted_1, ⁷​lfc_off_low_vs_unsorted_1,\u001b[39m\n",
      "\u001b[90m#   ⁸​lfc_off_low_vs_unsorted_2\u001b[39m\n",
      "\u001b[90m# A tibble: 425 × 11\u001b[39m\n",
      "   diaa  count_o…¹ count…² count…³ n_bar…⁴ n_bar…⁵ n_bar…⁶ lfc_o…⁷ lfc_o…⁸   lfc\n",
      "   \u001b[3m\u001b[90m<chr>\u001b[39m\u001b[23m     \u001b[3m\u001b[90m<dbl>\u001b[39m\u001b[23m   \u001b[3m\u001b[90m<dbl>\u001b[39m\u001b[23m   \u001b[3m\u001b[90m<dbl>\u001b[39m\u001b[23m   \u001b[3m\u001b[90m<int>\u001b[39m\u001b[23m   \u001b[3m\u001b[90m<int>\u001b[39m\u001b[23m   \u001b[3m\u001b[90m<int>\u001b[39m\u001b[23m   \u001b[3m\u001b[90m<dbl>\u001b[39m\u001b[23m   \u001b[3m\u001b[90m<dbl>\u001b[39m\u001b[23m \u001b[3m\u001b[90m<dbl>\u001b[39m\u001b[23m\n",
      "\u001b[90m 1\u001b[39m *W         \u001b[4m6\u001b[24m615    \u001b[4m5\u001b[24m518    \u001b[4m2\u001b[24m254      35      31      31    2.93    3.04  2.93\n",
      "\u001b[90m 2\u001b[39m F*        \u001b[4m2\u001b[24m\u001b[4m2\u001b[24m203   \u001b[4m1\u001b[24m\u001b[4m7\u001b[24m760    \u001b[4m8\u001b[24m443     180     166     136    2.77    2.82  2.77\n",
      "\u001b[90m 3\u001b[39m *Q        \u001b[4m1\u001b[24m\u001b[4m9\u001b[24m328   \u001b[4m1\u001b[24m\u001b[4m7\u001b[24m718    \u001b[4m8\u001b[24m402     153     143     129    2.58    2.82  2.58\n",
      "\u001b[90m 4\u001b[39m *F        \u001b[4m1\u001b[24m\u001b[4m5\u001b[24m736   \u001b[4m1\u001b[24m\u001b[4m4\u001b[24m463    \u001b[4m6\u001b[24m861     143     146     130    2.58    2.82  2.58\n",
      "\u001b[90m 5\u001b[39m N*        \u001b[4m2\u001b[24m\u001b[4m2\u001b[24m012   \u001b[4m1\u001b[24m\u001b[4m7\u001b[24m112    \u001b[4m9\u001b[24m220     184     166     174    2.63    2.64  2.63\n",
      "\u001b[90m 6\u001b[39m *N        \u001b[4m1\u001b[24m\u001b[4m9\u001b[24m067   \u001b[4m1\u001b[24m\u001b[4m4\u001b[24m471    \u001b[4m7\u001b[24m936     179     151     170    2.64    2.61  2.64\n",
      "\u001b[90m 7\u001b[39m *Y        \u001b[4m2\u001b[24m\u001b[4m5\u001b[24m845   \u001b[4m2\u001b[24m\u001b[4m1\u001b[24m088   \u001b[4m1\u001b[24m\u001b[4m1\u001b[24m155     211     203     202    2.59    2.66  2.59\n",
      "\u001b[90m 8\u001b[39m *P        \u001b[4m2\u001b[24m\u001b[4m9\u001b[24m522   \u001b[4m2\u001b[24m\u001b[4m3\u001b[24m087   \u001b[4m1\u001b[24m\u001b[4m2\u001b[24m523     297     259     273    2.62    2.63  2.62\n",
      "\u001b[90m 9\u001b[39m *L        \u001b[4m6\u001b[24m\u001b[4m1\u001b[24m504   \u001b[4m4\u001b[24m\u001b[4m4\u001b[24m106   \u001b[4m2\u001b[24m\u001b[4m5\u001b[24m700     433     384     403    2.64    2.53  2.64\n",
      "\u001b[90m10\u001b[39m *C        \u001b[4m1\u001b[24m\u001b[4m2\u001b[24m270   \u001b[4m1\u001b[24m\u001b[4m0\u001b[24m394    \u001b[4m5\u001b[24m682     124     118     108    2.49    2.62  2.49\n",
      "\u001b[90m# … with 415 more rows, 1 more variable: type <chr>, and abbreviated variable\u001b[39m\n",
      "\u001b[90m#   names ¹​count_off_1, ²​count_off_2, ³​count_unsorted_1, ⁴​n_barcodes_off_1,\u001b[39m\n",
      "\u001b[90m#   ⁵​n_barcodes_off_2, ⁶​n_barcodes_unsorted_1, ⁷​lfc_off_low_vs_unsorted_1,\u001b[39m\n",
      "\u001b[90m#   ⁸​lfc_off_low_vs_unsorted_2\u001b[39m\n"
     ]
    },
    {
     "data": {
      "image/png": "[encoded data removed]",
      "text/plain": [
       "plot without title"
      ]
     },
     "metadata": {
      "image/png": {
       "height": 120,
       "width": 120
      }
     },
     "output_type": "display_data"
    },
    {
     "data": {
      "image/png": "[encoded data removed]",
      "text/plain": [
       "plot without title"
      ]
     },
     "metadata": {
      "image/png": {
       "height": 120,
       "width": 120
      }
     },
     "output_type": "display_data"
    }
   ],
   "source": [
    "options(repr.plot.width=2, repr.plot.height=2)\n",
    "\n",
    "# Plot specific inserts\n",
    "plot_data_2 <- plot_data %>% \n",
    "  # Look specifically a the rep#1 enrichment, instead of averaging both reps\n",
    "  mutate(lfc = (lfc_off_low_vs_unsorted_1)) %>%  \n",
    "# mutate(lfc = (lfc_off_low_vs_unsorted_1 + lfc_off_low_vs_unsorted_2)/2) %>% \n",
    "# mutate(stop = if_else(str_detect(diaa, \"\\\\*\"), \"Stop\", \"Others\")) %>% \n",
    "  mutate(type = case_when(str_detect(diaa, \"\\\\*\") ~ \"Stop\", \n",
    "                           str_detect(diaa, \"RH|VK|SF|HR|KV|FS\") ~ \"Stall\", \n",
    "                           !str_detect(diaa, \"\\\\*|RH|VK|SF|HR|KV|FS\") ~ \"Other\")) %>% print \n",
    "\n",
    "plot_data_2 %>% \n",
    "  ggplot(aes(x = fct_rev(type), y = lfc)) +\n",
    "  geom_jitter(width = 0.3, alpha = 0.5, size = 0.5, height = 0) +\n",
    "  theme_classic() +\n",
    "  theme(axis.text.x = element_text(size = 10)) +\n",
    "  labs(x = NULL, y = \"Enrichment\\n(Off-Low / Unsorted, log2)\") +\n",
    "  NULL\n",
    "\n",
    "# Okay, now same plot but pick all destabilizing inserts \n",
    "# We can do this by joining lfc data from the 8x lilbrary to this dataset. \n",
    "# alternatively, pick all inserts from Fig2C: RF, KF, II, VK, LG, SF, YK, KI, RH\n",
    "# \"RF|KF|II|VK|LG|SF|YK|KI|RH\"\n",
    "# \"RF|FR|KF|FK|II|VK|KV|LG|GL|SF|FS|YK|KY|RH|HR\"\n",
    "plot_data_3 <- plot_data %>% \n",
    "  mutate(lfc = (lfc_off_low_vs_unsorted_1)) %>%  \n",
    "  mutate(type = case_when(str_detect(diaa, \"\\\\*\") ~ \"Stop\", \n",
    "                           str_detect(diaa, \"RF|FR|KF|FK|II|VK|KV|LG|GL|SF|FS|YK|KY|RH|HR\") ~ \"Stall\", \n",
    "                           !str_detect(diaa, \"\\\\*RF|FR|KF|FK|II|VK|KV|LG|GL|SF|FS|YK|KY|RH|HR\") ~ \"Other\")) %>% print \n",
    "\n",
    "plot_data_3 %>% \n",
    "  ggplot(aes(x = fct_rev(type), y = lfc)) +\n",
    "  geom_jitter(width = 0.3, alpha = 0.5, size = 0.5, height = 0) +\n",
    "  theme_classic() +\n",
    "  theme(axis.text.x = element_text(size = 10)) +\n",
    "  labs(x = NULL, y = \"Enrichment\\n(Off-Low / Unsorted, log2)\") +\n",
    "  NULL\n",
    "\n",
    "# Not super compelling as a scatter plot, but maybe a box+whisker or violin would work. \n",
    "# I think subsetting by lfc value is a very good idea though. Logical followup to fig1. "
   ]
  },
  {
   "cell_type": "markdown",
   "metadata": {},
   "source": [
    "## Read in mRNA stability values for each 8x insert"
   ]
  },
  {
   "cell_type": "code",
   "execution_count": 13,
   "metadata": {
    "vscode": {
     "languageId": "r"
    }
   },
   "outputs": [
    {
     "name": "stderr",
     "output_type": "stream",
     "text": [
      "\u001b[1mRows: \u001b[22m\u001b[34m441\u001b[39m \u001b[1mColumns: \u001b[22m\u001b[34m12\u001b[39m\n",
      "\u001b[36m──\u001b[39m \u001b[1mColumn specification\u001b[22m \u001b[36m────────────────────────────────────────────────────────\u001b[39m\n",
      "\u001b[1mDelimiter:\u001b[22m \"\\t\"\n",
      "\u001b[31mchr\u001b[39m (6): dicodon, diaa, codon1, codon2, aa1, aa2\n",
      "\u001b[32mdbl\u001b[39m (6): insert_num, count_grna, count_mrna, n_barcodes_grna, n_barcodes_mrn...\n",
      "\n",
      "\u001b[36mℹ\u001b[39m Use `spec()` to retrieve the full column specification for this data.\n",
      "\u001b[36mℹ\u001b[39m Specify the column types or set `show_col_types = FALSE` to quiet this message.\n"
     ]
    },
    {
     "name": "stdout",
     "output_type": "stream",
     "text": [
      "\u001b[90m# A tibble: 441 × 12\u001b[39m\n",
      "   insert_num dicodon diaa  codon1 codon2 aa1   aa2   count_grna count…¹ n_bar…²\n",
      "        \u001b[3m\u001b[90m<dbl>\u001b[39m\u001b[23m \u001b[3m\u001b[90m<chr>\u001b[39m\u001b[23m   \u001b[3m\u001b[90m<chr>\u001b[39m\u001b[23m \u001b[3m\u001b[90m<chr>\u001b[39m\u001b[23m  \u001b[3m\u001b[90m<chr>\u001b[39m\u001b[23m  \u001b[3m\u001b[90m<chr>\u001b[39m\u001b[23m \u001b[3m\u001b[90m<chr>\u001b[39m\u001b[23m      \u001b[3m\u001b[90m<dbl>\u001b[39m\u001b[23m   \u001b[3m\u001b[90m<dbl>\u001b[39m\u001b[23m   \u001b[3m\u001b[90m<dbl>\u001b[39m\u001b[23m\n",
      "\u001b[90m 1\u001b[39m       \u001b[4m2\u001b[24m608 GGATAA  G*    GGA    TAA    G     *         \u001b[4m1\u001b[24m\u001b[4m7\u001b[24m\u001b[4m8\u001b[24m222   \u001b[4m2\u001b[24m\u001b[4m2\u001b[24m193     146\n",
      "\u001b[90m 2\u001b[39m       \u001b[4m3\u001b[24m136 TACAAA  YK    TAC    AAA    Y     K          \u001b[4m9\u001b[24m\u001b[4m6\u001b[24m768   \u001b[4m1\u001b[24m\u001b[4m5\u001b[24m509     104\n",
      "\u001b[90m 3\u001b[39m        529 AGACAC  RH    AGA    CAC    R     H         \u001b[4m1\u001b[24m\u001b[4m2\u001b[24m\u001b[4m5\u001b[24m059   \u001b[4m2\u001b[24m\u001b[4m0\u001b[24m163     180\n",
      "\u001b[90m 4\u001b[39m        304 ACATAA  T*    ACA    TAA    T     *         \u001b[4m3\u001b[24m\u001b[4m0\u001b[24m\u001b[4m9\u001b[24m339   \u001b[4m5\u001b[24m\u001b[4m9\u001b[24m506     360\n",
      "\u001b[90m 5\u001b[39m       \u001b[4m1\u001b[24m096 CACAGA  HR    CAC    AGA    H     R         \u001b[4m1\u001b[24m\u001b[4m5\u001b[24m\u001b[4m9\u001b[24m427   \u001b[4m3\u001b[24m\u001b[4m1\u001b[24m199     249\n",
      "\u001b[90m 6\u001b[39m        560 AGATAA  R*    AGA    TAA    R     *         \u001b[4m2\u001b[24m\u001b[4m3\u001b[24m\u001b[4m4\u001b[24m307   \u001b[4m4\u001b[24m\u001b[4m8\u001b[24m011     277\n",
      "\u001b[90m 7\u001b[39m        780 ATAATA  II    ATA    ATA    I     I         \u001b[4m1\u001b[24m\u001b[4m9\u001b[24m\u001b[4m7\u001b[24m432   \u001b[4m4\u001b[24m\u001b[4m0\u001b[24m966     206\n",
      "\u001b[90m 8\u001b[39m       \u001b[4m2\u001b[24m816 GTAAAA  VK    GTA    AAA    V     K         \u001b[4m1\u001b[24m\u001b[4m0\u001b[24m\u001b[4m6\u001b[24m782   \u001b[4m2\u001b[24m\u001b[4m2\u001b[24m871     137\n",
      "\u001b[90m 9\u001b[39m         44 AAAGTA  KV    AAA    GTA    K     V         \u001b[4m1\u001b[24m\u001b[4m6\u001b[24m\u001b[4m9\u001b[24m872   \u001b[4m3\u001b[24m\u001b[4m6\u001b[24m908     226\n",
      "\u001b[90m10\u001b[39m         12 AAAATA  KI    AAA    ATA    K     I          \u001b[4m7\u001b[24m\u001b[4m1\u001b[24m876   \u001b[4m1\u001b[24m\u001b[4m6\u001b[24m166     110\n",
      "\u001b[90m# … with 431 more rows, 2 more variables: n_barcodes_mrna <dbl>, lfc <dbl>, and\u001b[39m\n",
      "\u001b[90m#   abbreviated variable names ¹​count_mrna, ²​n_barcodes_grna\u001b[39m\n",
      "\u001b[90m# A tibble: 441 × 2\u001b[39m\n",
      "   diaa  lfc_mrna\n",
      "   \u001b[3m\u001b[90m<chr>\u001b[39m\u001b[23m    \u001b[3m\u001b[90m<dbl>\u001b[39m\u001b[23m\n",
      "\u001b[90m 1\u001b[39m G*       -\u001b[31m3\u001b[39m\u001b[31m.\u001b[39m\u001b[31m0\u001b[39m\u001b[31m4\u001b[39m\n",
      "\u001b[90m 2\u001b[39m YK       -\u001b[31m2\u001b[39m\u001b[31m.\u001b[39m\u001b[31m67\u001b[39m\n",
      "\u001b[90m 3\u001b[39m RH       -\u001b[31m2\u001b[39m\u001b[31m.\u001b[39m\u001b[31m66\u001b[39m\n",
      "\u001b[90m 4\u001b[39m T*       -\u001b[31m2\u001b[39m\u001b[31m.\u001b[39m\u001b[31m41\u001b[39m\n",
      "\u001b[90m 5\u001b[39m HR       -\u001b[31m2\u001b[39m\u001b[31m.\u001b[39m\u001b[31m39\u001b[39m\n",
      "\u001b[90m 6\u001b[39m R*       -\u001b[31m2\u001b[39m\u001b[31m.\u001b[39m\u001b[31m32\u001b[39m\n",
      "\u001b[90m 7\u001b[39m II       -\u001b[31m2\u001b[39m\u001b[31m.\u001b[39m\u001b[31m30\u001b[39m\n",
      "\u001b[90m 8\u001b[39m VK       -\u001b[31m2\u001b[39m\u001b[31m.\u001b[39m\u001b[31m26\u001b[39m\n",
      "\u001b[90m 9\u001b[39m KV       -\u001b[31m2\u001b[39m\u001b[31m.\u001b[39m\u001b[31m23\u001b[39m\n",
      "\u001b[90m10\u001b[39m KI       -\u001b[31m2\u001b[39m\u001b[31m.\u001b[39m\u001b[31m18\u001b[39m\n",
      "\u001b[90m# … with 431 more rows\u001b[39m\n"
     ]
    }
   ],
   "source": [
    "\n",
    "# Read in mRNA level effects from the Pool1 barcodeseq analysis\n",
    "dipeptide_lfc <- read_tsv(\"../../pool1_mrna/tables/8xdipeptide_lfc.tsv.gz\") %>% print %>% \n",
    "  select(diaa, lfc) %>% \n",
    "  dplyr::rename(lfc_mrna = lfc) %>% print \n"
   ]
  },
  {
   "cell_type": "markdown",
   "metadata": {},
   "source": [
    "## Pick plotting populations based on dipeptide lfc \n",
    "\n",
    "- Based on inital plotting, selevting inserts with < -1.5 mRNA_lfc yeilds only 11 inserts that aren't stop codons. However, they're pretty tightly enriched off-diagonal, which is great.\n",
    "\n",
    "- Selecting inserts with < -1 (a 2-fold effect) gives a larger spread, but also more inserts. \n",
    "\n",
    "- If we set the cuttof to < -1.4 (to include FS) the plot looks very clean except for one weird outlier (insert = FR), which is 1.5 enriched on-diagonal. I think this FR enrichment is a fluke; it goes away if you average FACS reps #1 and #2. But it actually does look a little odd when plotting rep#1, from the perspective that F+R should cause the effects we're looking for. \n",
    "\n",
    "- From a paper plotting perspective, rather than fucking around with the cuttof a bunch, I think using a mrna_lfc <= -1 (a 2-fold effect) is a pretty reasonable cuttof. This includes all the destabilizing inserts we point out in the paper, and also still looks pretty enriched off-diagonal. \n",
    "\n",
    "- Yeah, this looks good. Now we just need to add the appropriate aesthetics to fit it with the other plots in our paper. Red = stop, yellow = stall, grey = other, should work well. Actually, we'll put this into figure1, so using red indicates destabilizing inserts. Can make stops = black, destab = red, other = grey. \n"
   ]
  },
  {
   "cell_type": "code",
   "execution_count": 16,
   "metadata": {
    "vscode": {
     "languageId": "r"
    }
   },
   "outputs": [
    {
     "name": "stdout",
     "output_type": "stream",
     "text": [
      "\u001b[90m# A tibble: 424 × 11\u001b[39m\n",
      "   diaa  count…¹ count…² count…³ n_bar…⁴ n_bar…⁵ n_bar…⁶ lfc_o…⁷ lfc_o…⁸ lfc_m…⁹\n",
      "   \u001b[3m\u001b[90m<chr>\u001b[39m\u001b[23m   \u001b[3m\u001b[90m<dbl>\u001b[39m\u001b[23m   \u001b[3m\u001b[90m<dbl>\u001b[39m\u001b[23m   \u001b[3m\u001b[90m<dbl>\u001b[39m\u001b[23m   \u001b[3m\u001b[90m<int>\u001b[39m\u001b[23m   \u001b[3m\u001b[90m<int>\u001b[39m\u001b[23m   \u001b[3m\u001b[90m<int>\u001b[39m\u001b[23m   \u001b[3m\u001b[90m<dbl>\u001b[39m\u001b[23m   \u001b[3m\u001b[90m<dbl>\u001b[39m\u001b[23m   \u001b[3m\u001b[90m<dbl>\u001b[39m\u001b[23m\n",
      "\u001b[90m 1\u001b[39m *W       \u001b[4m6\u001b[24m615    \u001b[4m5\u001b[24m518    \u001b[4m2\u001b[24m254      35      31      31    2.93    3.04 -\u001b[31m0\u001b[39m\u001b[31m.\u001b[39m\u001b[31m920\u001b[39m \n",
      "\u001b[90m 2\u001b[39m F*      \u001b[4m2\u001b[24m\u001b[4m2\u001b[24m203   \u001b[4m1\u001b[24m\u001b[4m7\u001b[24m760    \u001b[4m8\u001b[24m443     180     166     136    2.77    2.82  0.089\u001b[4m2\u001b[24m\n",
      "\u001b[90m 3\u001b[39m *Q      \u001b[4m1\u001b[24m\u001b[4m9\u001b[24m328   \u001b[4m1\u001b[24m\u001b[4m7\u001b[24m718    \u001b[4m8\u001b[24m402     153     143     129    2.58    2.82 -\u001b[31m0\u001b[39m\u001b[31m.\u001b[39m\u001b[31m969\u001b[39m \n",
      "\u001b[90m 4\u001b[39m *F      \u001b[4m1\u001b[24m\u001b[4m5\u001b[24m736   \u001b[4m1\u001b[24m\u001b[4m4\u001b[24m463    \u001b[4m6\u001b[24m861     143     146     130    2.58    2.82 -\u001b[31m0\u001b[39m\u001b[31m.\u001b[39m\u001b[31m144\u001b[39m \n",
      "\u001b[90m 5\u001b[39m N*      \u001b[4m2\u001b[24m\u001b[4m2\u001b[24m012   \u001b[4m1\u001b[24m\u001b[4m7\u001b[24m112    \u001b[4m9\u001b[24m220     184     166     174    2.63    2.64 -\u001b[31m0\u001b[39m\u001b[31m.\u001b[39m\u001b[31m922\u001b[39m \n",
      "\u001b[90m 6\u001b[39m *N      \u001b[4m1\u001b[24m\u001b[4m9\u001b[24m067   \u001b[4m1\u001b[24m\u001b[4m4\u001b[24m471    \u001b[4m7\u001b[24m936     179     151     170    2.64    2.61 -\u001b[31m0\u001b[39m\u001b[31m.\u001b[39m\u001b[31m686\u001b[39m \n",
      "\u001b[90m 7\u001b[39m *Y      \u001b[4m2\u001b[24m\u001b[4m5\u001b[24m845   \u001b[4m2\u001b[24m\u001b[4m1\u001b[24m088   \u001b[4m1\u001b[24m\u001b[4m1\u001b[24m155     211     203     202    2.59    2.66 -\u001b[31m0\u001b[39m\u001b[31m.\u001b[39m\u001b[31m523\u001b[39m \n",
      "\u001b[90m 8\u001b[39m *P      \u001b[4m2\u001b[24m\u001b[4m9\u001b[24m522   \u001b[4m2\u001b[24m\u001b[4m3\u001b[24m087   \u001b[4m1\u001b[24m\u001b[4m2\u001b[24m523     297     259     273    2.62    2.63  0.051\u001b[4m8\u001b[24m\n",
      "\u001b[90m 9\u001b[39m *L      \u001b[4m6\u001b[24m\u001b[4m1\u001b[24m504   \u001b[4m4\u001b[24m\u001b[4m4\u001b[24m106   \u001b[4m2\u001b[24m\u001b[4m5\u001b[24m700     433     384     403    2.64    2.53 -\u001b[31m0\u001b[39m\u001b[31m.\u001b[39m\u001b[31m513\u001b[39m \n",
      "\u001b[90m10\u001b[39m *C      \u001b[4m1\u001b[24m\u001b[4m2\u001b[24m270   \u001b[4m1\u001b[24m\u001b[4m0\u001b[24m394    \u001b[4m5\u001b[24m682     124     118     108    2.49    2.62 -\u001b[31m0\u001b[39m\u001b[31m.\u001b[39m\u001b[31m864\u001b[39m \n",
      "\u001b[90m# … with 414 more rows, 1 more variable: lfc <dbl>, and abbreviated variable\u001b[39m\n",
      "\u001b[90m#   names ¹​count_off_1, ²​count_off_2, ³​count_unsorted_1, ⁴​n_barcodes_off_1,\u001b[39m\n",
      "\u001b[90m#   ⁵​n_barcodes_off_2, ⁶​n_barcodes_unsorted_1, ⁷​lfc_off_low_vs_unsorted_1,\u001b[39m\n",
      "\u001b[90m#   ⁸​lfc_off_low_vs_unsorted_2, ⁹​lfc_mrna\u001b[39m\n",
      "\u001b[90m# A tibble: 424 × 4\u001b[39m\n",
      "   diaa  lfc_mrna   lfc type \n",
      "   \u001b[3m\u001b[90m<chr>\u001b[39m\u001b[23m    \u001b[3m\u001b[90m<dbl>\u001b[39m\u001b[23m \u001b[3m\u001b[90m<dbl>\u001b[39m\u001b[23m \u001b[3m\u001b[90m<fct>\u001b[39m\u001b[23m\n",
      "\u001b[90m 1\u001b[39m *W     -\u001b[31m0\u001b[39m\u001b[31m.\u001b[39m\u001b[31m920\u001b[39m   2.93 Stop \n",
      "\u001b[90m 2\u001b[39m F*      0.089\u001b[4m2\u001b[24m  2.77 Stop \n",
      "\u001b[90m 3\u001b[39m *Q     -\u001b[31m0\u001b[39m\u001b[31m.\u001b[39m\u001b[31m969\u001b[39m   2.58 Stop \n",
      "\u001b[90m 4\u001b[39m *F     -\u001b[31m0\u001b[39m\u001b[31m.\u001b[39m\u001b[31m144\u001b[39m   2.58 Stop \n",
      "\u001b[90m 5\u001b[39m N*     -\u001b[31m0\u001b[39m\u001b[31m.\u001b[39m\u001b[31m922\u001b[39m   2.63 Stop \n",
      "\u001b[90m 6\u001b[39m *N     -\u001b[31m0\u001b[39m\u001b[31m.\u001b[39m\u001b[31m686\u001b[39m   2.64 Stop \n",
      "\u001b[90m 7\u001b[39m *Y     -\u001b[31m0\u001b[39m\u001b[31m.\u001b[39m\u001b[31m523\u001b[39m   2.59 Stop \n",
      "\u001b[90m 8\u001b[39m *P      0.051\u001b[4m8\u001b[24m  2.62 Stop \n",
      "\u001b[90m 9\u001b[39m *L     -\u001b[31m0\u001b[39m\u001b[31m.\u001b[39m\u001b[31m513\u001b[39m   2.64 Stop \n",
      "\u001b[90m10\u001b[39m *C     -\u001b[31m0\u001b[39m\u001b[31m.\u001b[39m\u001b[31m864\u001b[39m   2.49 Stop \n",
      "\u001b[90m# … with 414 more rows\u001b[39m\n"
     ]
    },
    {
     "name": "stderr",
     "output_type": "stream",
     "text": [
      "Warning message:\n",
      "“`cols` is now required when using unnest().\n",
      "Please use `cols = c()`”\n"
     ]
    },
    {
     "name": "stdout",
     "output_type": "stream",
     "text": [
      "\u001b[90m# A tibble: 3 × 2\u001b[39m\n",
      "  type     n      \n",
      "  \u001b[3m\u001b[90m<fct>\u001b[39m\u001b[23m    \u001b[3m\u001b[90m<chr>\u001b[39m\u001b[23m  \n",
      "\u001b[90m1\u001b[39m Other    N = 359\n",
      "\u001b[90m2\u001b[39m Unstable N = 24 \n",
      "\u001b[90m3\u001b[39m Stop     N = 41 \n"
     ]
    }
   ],
   "source": [
    "options(repr.plot.width=2, repr.plot.height=2)\n",
    "\n",
    "# Plot based on mRNA stability\n",
    "plot_data_4 <- plot_data %>%\n",
    "  # Join mRNA stability data. \n",
    "  inner_join(dipeptide_lfc, by = \"diaa\") %>% \n",
    "  # Look specifically a the rep#1 enrichment, instead of averaging both reps\n",
    "  mutate(lfc = (lfc_off_low_vs_unsorted_1)) %>% print %>%   \n",
    "#  mutate(lfc = (lfc_off_low_vs_unsorted_1 + lfc_off_low_vs_unsorted_2)/2) %>% \n",
    "# mutate(stop = if_else(str_detect(diaa, \"\\\\*\"), \"Stop\", \"Others\")) %>% \n",
    "  mutate(type = case_when(str_detect(diaa, \"\\\\*\") ~ \"Stop\", # Select inserts with stop codons\n",
    "                        (!str_detect(diaa, \"\\\\*\") & lfc_mrna < -1) ~ \"Unstable\", # select unstable inserts\n",
    "                        (!str_detect(diaa, \"\\\\*\") & lfc_mrna >= -1) ~ \"Other\")) %>% \n",
    "  select(diaa, lfc_mrna, lfc, type) %>% \n",
    "  mutate(type = fct_relevel(type, \"Other\", \"Unstable\", \"Stop\")) %>% print  \n",
    "\n",
    "label_data <- plot_data_4 %>% \n",
    "  group_by(type) %>% \n",
    "  summarize(n = paste0(\"N = \", dplyr::n())) %>% \n",
    "  unnest() %>% print "
   ]
  },
  {
   "cell_type": "markdown",
   "metadata": {},
   "source": [
    "## Plot Stop codons, < -1 lfc inserts, and Other\n",
    "\n",
    "- As noted above, there are slight differences in the data here than in my initial analysis of these data for publication plotting.\n",
    "  - In this case, the insert read counts were slightly higher overall and correlated slightly better\n",
    "  - As you can see, this also resulted in there being more dipeptide inserts overall present in the populations; N = 359 for Other, instead of N = 345 (the previous number).\n",
    "\n",
    "- I suspect that we had a stringent and unnesecary cutoff applied somewhere in our initial analysis code. Since not having this cutoff doesn't qualitatively change any of our observations, I think we're okay to leave things as they are in this instance.   "
   ]
  },
  {
   "cell_type": "code",
   "execution_count": 19,
   "metadata": {
    "vscode": {
     "languageId": "r"
    }
   },
   "outputs": [
    {
     "name": "stderr",
     "output_type": "stream",
     "text": [
      "Warning message:\n",
      "“Ignoring unknown parameters: height”\n"
     ]
    },
    {
     "data": {
      "image/png": "[encoded data removed]",
      "text/plain": [
       "plot without title"
      ]
     },
     "metadata": {
      "image/png": {
       "height": 180,
       "width": 180
      }
     },
     "output_type": "display_data"
    }
   ],
   "source": [
    "options(repr.plot.width=3, repr.plot.height=3)\n",
    "\n",
    "xlabs <- c(\"Stop\\ncodons\", \"mRNA < -1\\n(log2, a.u)\\ndipeptides\", \"Other\\ndipeptides\")\n",
    "\n",
    "plot_data_4 %>% \n",
    "  ggplot(aes(x = fct_rev(type), y = lfc, fill = type)) +\n",
    "  geom_boxplot(width = 0.5, alpha = 0.75, size = 0.5, height = 0) +\n",
    "  geom_text(aes(label = n, x = type), y = -3.2, data = label_data, size = 2.5) +\n",
    "  scale_fill_manual(values=c(\"grey\", \"#FF0000\", \"grey\" )) +\n",
    "  scale_y_continuous(limits = c(-3.2, 3.3)) +\n",
    "  scale_x_discrete(labels= xlabs) +\n",
    "  # Tests for all three comparisons\n",
    "  # ggpubr::stat_compare_means(comparisons = list(c(1,2), c(1,3), c(2,3)), size = 2, label.y = c(3.75, 4.5, 3.25)) +\n",
    "  theme(legend.position = \"none\", axis.title.x = element_text(margin = margin(t = 4), size = 10)) +\n",
    "  labs(x = NULL, y = \"Low YFP gate / Total\\n(log2, a.u)\") +\n",
    "  NULL\n",
    "\n",
    "# ggsave(\"../figures/20220228_insert_bin_enrichment.pdf\")"
   ]
  },
  {
   "cell_type": "markdown",
   "metadata": {},
   "source": [
    "## Add RH, VK, SF points to boxplot"
   ]
  },
  {
   "cell_type": "code",
   "execution_count": 25,
   "metadata": {
    "vscode": {
     "languageId": "r"
    }
   },
   "outputs": [
    {
     "name": "stdout",
     "output_type": "stream",
     "text": [
      "\u001b[90m# A tibble: 424 × 4\u001b[39m\n",
      "   diaa  lfc_mrna   lfc type \n",
      "   \u001b[3m\u001b[90m<chr>\u001b[39m\u001b[23m    \u001b[3m\u001b[90m<dbl>\u001b[39m\u001b[23m \u001b[3m\u001b[90m<dbl>\u001b[39m\u001b[23m \u001b[3m\u001b[90m<fct>\u001b[39m\u001b[23m\n",
      "\u001b[90m 1\u001b[39m *W     -\u001b[31m0\u001b[39m\u001b[31m.\u001b[39m\u001b[31m920\u001b[39m   2.93 Stop \n",
      "\u001b[90m 2\u001b[39m F*      0.089\u001b[4m2\u001b[24m  2.77 Stop \n",
      "\u001b[90m 3\u001b[39m *Q     -\u001b[31m0\u001b[39m\u001b[31m.\u001b[39m\u001b[31m969\u001b[39m   2.58 Stop \n",
      "\u001b[90m 4\u001b[39m *F     -\u001b[31m0\u001b[39m\u001b[31m.\u001b[39m\u001b[31m144\u001b[39m   2.58 Stop \n",
      "\u001b[90m 5\u001b[39m N*     -\u001b[31m0\u001b[39m\u001b[31m.\u001b[39m\u001b[31m922\u001b[39m   2.63 Stop \n",
      "\u001b[90m 6\u001b[39m *N     -\u001b[31m0\u001b[39m\u001b[31m.\u001b[39m\u001b[31m686\u001b[39m   2.64 Stop \n",
      "\u001b[90m 7\u001b[39m *Y     -\u001b[31m0\u001b[39m\u001b[31m.\u001b[39m\u001b[31m523\u001b[39m   2.59 Stop \n",
      "\u001b[90m 8\u001b[39m *P      0.051\u001b[4m8\u001b[24m  2.62 Stop \n",
      "\u001b[90m 9\u001b[39m *L     -\u001b[31m0\u001b[39m\u001b[31m.\u001b[39m\u001b[31m513\u001b[39m   2.64 Stop \n",
      "\u001b[90m10\u001b[39m *C     -\u001b[31m0\u001b[39m\u001b[31m.\u001b[39m\u001b[31m864\u001b[39m   2.49 Stop \n",
      "\u001b[90m# … with 414 more rows\u001b[39m\n",
      "\u001b[90m# A tibble: 3 × 4\u001b[39m\n",
      "  diaa  lfc_mrna   lfc type    \n",
      "  \u001b[3m\u001b[90m<chr>\u001b[39m\u001b[23m    \u001b[3m\u001b[90m<dbl>\u001b[39m\u001b[23m \u001b[3m\u001b[90m<dbl>\u001b[39m\u001b[23m \u001b[3m\u001b[90m<fct>\u001b[39m\u001b[23m   \n",
      "\u001b[90m1\u001b[39m RH       -\u001b[31m2\u001b[39m\u001b[31m.\u001b[39m\u001b[31m66\u001b[39m 1.35  Unstable\n",
      "\u001b[90m2\u001b[39m SF       -\u001b[31m1\u001b[39m\u001b[31m.\u001b[39m\u001b[31m36\u001b[39m 1.37  Unstable\n",
      "\u001b[90m3\u001b[39m VK       -\u001b[31m2\u001b[39m\u001b[31m.\u001b[39m\u001b[31m26\u001b[39m 0.907 Unstable\n"
     ]
    },
    {
     "name": "stderr",
     "output_type": "stream",
     "text": [
      "Warning message:\n",
      "“Ignoring unknown parameters: height”\n"
     ]
    },
    {
     "data": {
      "image/png": "[encoded data removed]",
      "text/plain": [
       "plot without title"
      ]
     },
     "metadata": {
      "image/png": {
       "height": 180,
       "width": 180
      }
     },
     "output_type": "display_data"
    }
   ],
   "source": [
    "options(repr.plot.width=3, repr.plot.height=3)\n",
    "\n",
    "xlabs <- c(\"Stop\\ncodons\", \"Dipeptides with\\nmRNA < -1\\n(log2, a.u.)\", \"Other\\ndipeptides\")\n",
    "\n",
    "highlight_data <- plot_data_4 %>% print %>% \n",
    "  filter(str_detect(diaa, \"RH|VK|SF\")) %>% print \n",
    "\n",
    "\n",
    "plot_data_4 %>% \n",
    "  ggplot(aes(x = fct_rev(type), y = lfc, fill = type)) +\n",
    "  geom_boxplot(width = 0.5, alpha = 0.65, size = 0.5, height = 0) +\n",
    "  geom_text(aes(label = n, x = type), y = -3.2, data = label_data, size = 2.5) +\n",
    "  geom_jitter(data = highlight_data, aes(x = fct_rev(type), y = lfc), height = 0, width = 0.25, color = \"#E69F00\", alpha = 0.75)+\n",
    "  scale_fill_manual(values=c(\"grey\", \"#832424\", \"grey\" )) +\n",
    "  scale_y_continuous(limits = c(-3.3, 3.6)) +\n",
    "  scale_x_discrete(labels= xlabs) +\n",
    "  # Tests for all three comparisons\n",
    "  # ggpubr::stat_compare_means(comparisons = list(c(1,2), c(1,3), c(2,3)), size = 2, label.y = c(3.75, 4.5, 3.25)) +\n",
    "  #Probably don't need to include stop comparisons. Use line below to omit these\n",
    "  # ggpubr::stat_compare_means(comparisons = list(c(2,3)), size = 2.5, label.y = 3.0, alpha = 0.75) +\n",
    "  theme(legend.position = \"none\", axis.title.x = element_text(margin = margin(t = 4), size = 10)) +\n",
    "  labs(x = NULL, y = \"Enrichment in Low YFP gate\\n(log2, a.u.)\") +\n",
    "  NULL\n",
    "\n",
    "# ggsave(\"../figures/20220301_insert_bin_enrichment.pdf\")\n"
   ]
  },
  {
   "cell_type": "code",
   "execution_count": null,
   "metadata": {
    "vscode": {
     "languageId": "r"
    }
   },
   "outputs": [],
   "source": []
  }
 ],
 "metadata": {
  "kernelspec": {
   "display_name": "R_project_repo_1.13.0",
   "language": "R",
   "name": "ir_project_repo_1.13.0"
  },
  "language_info": {
   "codemirror_mode": "r",
   "file_extension": ".r",
   "mimetype": "text/x-r-source",
   "name": "R",
   "pygments_lexer": "r",
   "version": "4.1.3"
  },
  "orig_nbformat": 4,
  "vscode": {
   "interpreter": {
    "hash": "27bcb26b70cc9b89b66fa5d78caf7590339c97b4860fa5e6e791a51c713097ab"
   }
  }
 },
 "nbformat": 4,
 "nbformat_minor": 2
}
