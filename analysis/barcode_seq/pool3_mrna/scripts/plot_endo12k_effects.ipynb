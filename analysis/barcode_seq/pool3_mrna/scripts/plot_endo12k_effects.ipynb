{
 "cells": [
  {
   "cell_type": "markdown",
   "metadata": {},
   "source": [
    "# Plot effects of endo12K inserts on mRNA levels"
   ]
  },
  {
   "cell_type": "markdown",
   "metadata": {},
   "source": [
    "## Load libraries and define analysis-specific parameters\n",
    "\n",
    "- We need to install both rsample and rasilabRtemplates in the Docker / Singularity container (or R conda environement?)"
   ]
  },
  {
   "cell_type": "code",
   "execution_count": 12,
   "metadata": {
    "vscode": {
     "languageId": "r"
    }
   },
   "outputs": [],
   "source": [
    "library(tidyverse)\n",
    "#library(rsample)\n",
    "#library(rasilabRtemplates)\n",
    "\n",
    "# Color-blind friendly palette. See http://www.cookbook-r.com/Graphs/Colors_(ggplot2)/\n",
    "cbPalette <- c(\"#999999\", \"#E69F00\", \"#56B4E9\", \"#009E73\", \"#F0E442\", \"#0072B2\", \"#D55E00\", \"#CC79A7\")\n",
    "\n",
    "insert_reads_cutoff <- 200 # The insert should get at least 200 reads across gRNA or mRNA\n",
    "n_barcodes_cutoff <- 6 # The insert should have at least 6 barcodes across gRNA and mRNA after above cutoff"
   ]
  },
  {
   "cell_type": "markdown",
   "metadata": {},
   "source": [
    "## Read back barcode counts "
   ]
  },
  {
   "cell_type": "code",
   "execution_count": 4,
   "metadata": {
    "vscode": {
     "languageId": "r"
    }
   },
   "outputs": [
    {
     "name": "stderr",
     "output_type": "stream",
     "text": [
      "\u001b[1mRows: \u001b[22m\u001b[34m1239853\u001b[39m \u001b[1mColumns: \u001b[22m\u001b[34m8\u001b[39m\n",
      "\u001b[36m──\u001b[39m \u001b[1mColumn specification\u001b[22m \u001b[36m────────────────────────────────────────────────────────\u001b[39m\n",
      "\u001b[1mDelimiter:\u001b[22m \"\\t\"\n",
      "\u001b[31mchr\u001b[39m (4): sample_id, sample_name, library_type, linkage_ref\n",
      "\u001b[32mdbl\u001b[39m (4): insert_num, barcode_num, barcode_count, linkage_count\n",
      "\n",
      "\u001b[36mℹ\u001b[39m Use `spec()` to retrieve the full column specification for this data.\n",
      "\u001b[36mℹ\u001b[39m Specify the column types or set `show_col_types = FALSE` to quiet this message.\n"
     ]
    },
    {
     "name": "stdout",
     "output_type": "stream",
     "text": [
      "\u001b[90m# A tibble: 1,239,853 × 8\u001b[39m\n",
      "   sample_id sample_name  insert_num barcode_num barcode_count linkage_count\n",
      "   \u001b[3m\u001b[90m<chr>\u001b[39m\u001b[23m     \u001b[3m\u001b[90m<chr>\u001b[39m\u001b[23m             \u001b[3m\u001b[90m<dbl>\u001b[39m\u001b[23m       \u001b[3m\u001b[90m<dbl>\u001b[39m\u001b[23m         \u001b[3m\u001b[90m<dbl>\u001b[39m\u001b[23m         \u001b[3m\u001b[90m<dbl>\u001b[39m\u001b[23m\n",
      "\u001b[90m 1\u001b[39m 139p3     endo12k_grna      \u001b[4m1\u001b[24m\u001b[4m1\u001b[24m701      \u001b[4m7\u001b[24m\u001b[4m0\u001b[24m\u001b[4m3\u001b[24m859          \u001b[4m2\u001b[24m761           160\n",
      "\u001b[90m 2\u001b[39m 139p3     endo12k_grna       \u001b[4m8\u001b[24m488      \u001b[4m7\u001b[24m\u001b[4m0\u001b[24m\u001b[4m2\u001b[24m091          \u001b[4m2\u001b[24m454           111\n",
      "\u001b[90m 3\u001b[39m 139p3     endo12k_grna       \u001b[4m5\u001b[24m595      \u001b[4m7\u001b[24m\u001b[4m0\u001b[24m\u001b[4m0\u001b[24m776          \u001b[4m2\u001b[24m317           101\n",
      "\u001b[90m 4\u001b[39m 139p3     endo12k_grna       \u001b[4m5\u001b[24m919      \u001b[4m7\u001b[24m\u001b[4m0\u001b[24m\u001b[4m3\u001b[24m070          \u001b[4m2\u001b[24m273           124\n",
      "\u001b[90m 5\u001b[39m 139p3     endo12k_grna       \u001b[4m5\u001b[24m335      \u001b[4m7\u001b[24m\u001b[4m0\u001b[24m\u001b[4m1\u001b[24m636          \u001b[4m2\u001b[24m250           107\n",
      "\u001b[90m 6\u001b[39m 139p3     endo12k_grna       \u001b[4m2\u001b[24m024      \u001b[4m7\u001b[24m\u001b[4m0\u001b[24m\u001b[4m3\u001b[24m956          \u001b[4m2\u001b[24m229           178\n",
      "\u001b[90m 7\u001b[39m 139p3     endo12k_grna       \u001b[4m5\u001b[24m704      \u001b[4m6\u001b[24m\u001b[4m4\u001b[24m\u001b[4m5\u001b[24m101          \u001b[4m2\u001b[24m123            49\n",
      "\u001b[90m 8\u001b[39m 139p3     endo12k_grna       \u001b[4m5\u001b[24m512      \u001b[4m7\u001b[24m\u001b[4m0\u001b[24m\u001b[4m3\u001b[24m225          \u001b[4m2\u001b[24m048           127\n",
      "\u001b[90m 9\u001b[39m 139p3     endo12k_grna       \u001b[4m5\u001b[24m643      \u001b[4m3\u001b[24m\u001b[4m8\u001b[24m\u001b[4m3\u001b[24m253          \u001b[4m2\u001b[24m026            18\n",
      "\u001b[90m10\u001b[39m 139p3     endo12k_grna       \u001b[4m5\u001b[24m481      \u001b[4m7\u001b[24m\u001b[4m0\u001b[24m\u001b[4m0\u001b[24m548          \u001b[4m2\u001b[24m020           100\n",
      "\u001b[90m# … with 1,239,843 more rows, and 2 more variables: library_type <chr>,\u001b[39m\n",
      "\u001b[90m#   linkage_ref <chr>\u001b[39m\n"
     ]
    }
   ],
   "source": [
    "barcode_counts <- read_tsv(\"../tables/sample_insert_barcode_counts.tsv.gz\") %>% \n",
    "  print()"
   ]
  },
  {
   "cell_type": "markdown",
   "metadata": {},
   "source": [
    "## Read insert annotations "
   ]
  },
  {
   "cell_type": "code",
   "execution_count": 5,
   "metadata": {
    "vscode": {
     "languageId": "r"
    }
   },
   "outputs": [
    {
     "name": "stderr",
     "output_type": "stream",
     "text": [
      "\u001b[1mRows: \u001b[22m\u001b[34m12000\u001b[39m \u001b[1mColumns: \u001b[22m\u001b[34m12\u001b[39m\n",
      "\u001b[36m──\u001b[39m \u001b[1mColumn specification\u001b[22m \u001b[36m────────────────────────────────────────────────────────\u001b[39m\n",
      "\u001b[1mDelimiter:\u001b[22m \"\\t\"\n",
      "\u001b[31mchr\u001b[39m (8): group, mutant_type, motif_source, aa, seq, gene_name, transcript_id...\n",
      "\u001b[32mdbl\u001b[39m (4): motif_num, strength, loc, insert_num\n",
      "\n",
      "\u001b[36mℹ\u001b[39m Use `spec()` to retrieve the full column specification for this data.\n",
      "\u001b[36mℹ\u001b[39m Specify the column types or set `show_col_types = FALSE` to quiet this message.\n"
     ]
    },
    {
     "name": "stdout",
     "output_type": "stream",
     "text": [
      "\u001b[90m# A tibble: 12,000 × 12\u001b[39m\n",
      "   group motif_num mutant_type strength motif_source       aa    seq   gene_name\n",
      "   \u001b[3m\u001b[90m<chr>\u001b[39m\u001b[23m     \u001b[3m\u001b[90m<dbl>\u001b[39m\u001b[23m \u001b[3m\u001b[90m<chr>\u001b[39m\u001b[23m          \u001b[3m\u001b[90m<dbl>\u001b[39m\u001b[23m \u001b[3m\u001b[90m<chr>\u001b[39m\u001b[23m              \u001b[3m\u001b[90m<chr>\u001b[39m\u001b[23m \u001b[3m\u001b[90m<chr>\u001b[39m\u001b[23m \u001b[3m\u001b[90m<chr>\u001b[39m\u001b[23m    \n",
      "\u001b[90m 1\u001b[39m human      \u001b[4m1\u001b[24m760 VnextK             6 weber_2020_dbndd_… LLLF… CTGC… DBNDD2_m…\n",
      "\u001b[90m 2\u001b[39m human      \u001b[4m1\u001b[24m760 KnextV             6 weber_2020_dbndd_… RRRR… CGGC… DBNDD2_m…\n",
      "\u001b[90m 3\u001b[39m human      \u001b[4m1\u001b[24m760 wildtype           6 weber_2020_dbndd_… DPNP… GACC… DBNDD2_m…\n",
      "\u001b[90m 4\u001b[39m human      \u001b[4m1\u001b[24m760 VnextK             6 weber_2020_dbndd_… LLLF… CTGC… DBNDD2_m…\n",
      "\u001b[90m 5\u001b[39m human      \u001b[4m1\u001b[24m760 KnextV             6 weber_2020_dbndd_… RRRR… CGGC… DBNDD2_m…\n",
      "\u001b[90m 6\u001b[39m human      \u001b[4m1\u001b[24m760 wildtype           6 weber_2020_dbndd_… DPNP… GACC… DBNDD2_m…\n",
      "\u001b[90m 7\u001b[39m human      \u001b[4m2\u001b[24m446 VnextK            \u001b[31mNA\u001b[39m control_motifs     SGSG… TCCG… \u001b[31mNA\u001b[39m       \n",
      "\u001b[90m 8\u001b[39m human      \u001b[4m2\u001b[24m445 VnextK            \u001b[31mNA\u001b[39m control_motifs     FFFF… TTTT… \u001b[31mNA\u001b[39m       \n",
      "\u001b[90m 9\u001b[39m human      \u001b[4m2\u001b[24m444 VnextK            \u001b[31mNA\u001b[39m control_motifs     VVVV… GTTG… \u001b[31mNA\u001b[39m       \n",
      "\u001b[90m10\u001b[39m human      \u001b[4m2\u001b[24m443 VnextK            \u001b[31mNA\u001b[39m control_motifs     FFFF… TTCT… \u001b[31mNA\u001b[39m       \n",
      "\u001b[90m# … with 11,990 more rows, and 4 more variables: transcript_id <chr>,\u001b[39m\n",
      "\u001b[90m#   loc <dbl>, motif_type <chr>, insert_num <dbl>\u001b[39m\n"
     ]
    }
   ],
   "source": [
    "insert_annotations <- read_tsv(\"../../pool3_linkage/annotations/insert_annotations/endo12k.tsv.gz\") %>% \n",
    "  print()"
   ]
  },
  {
   "cell_type": "markdown",
   "metadata": {},
   "source": [
    "## Plot stall strength of human VK-type motifs"
   ]
  },
  {
   "cell_type": "code",
   "execution_count": 6,
   "metadata": {
    "vscode": {
     "languageId": "r"
    }
   },
   "outputs": [
    {
     "name": "stdout",
     "output_type": "stream",
     "text": [
      "\u001b[90m# A tibble: 1,093 × 12\u001b[39m\n",
      "   group motif_num mutant_type strength motif_source      aa     seq   gene_name\n",
      "   \u001b[3m\u001b[90m<chr>\u001b[39m\u001b[23m     \u001b[3m\u001b[90m<dbl>\u001b[39m\u001b[23m \u001b[3m\u001b[90m<chr>\u001b[39m\u001b[23m          \u001b[3m\u001b[90m<dbl>\u001b[39m\u001b[23m \u001b[3m\u001b[90m<chr>\u001b[39m\u001b[23m             \u001b[3m\u001b[90m<chr>\u001b[39m\u001b[23m  \u001b[3m\u001b[90m<chr>\u001b[39m\u001b[23m \u001b[3m\u001b[90m<chr>\u001b[39m\u001b[23m    \n",
      "\u001b[90m 1\u001b[39m human      \u001b[4m1\u001b[24m122 wildtype          10 human_vk_motif_10 KQIDL… AAGC… MANF     \n",
      "\u001b[90m 2\u001b[39m human      \u001b[4m1\u001b[24m121 wildtype          10 human_vk_motif_10 KITDE… AAGA… BCL10    \n",
      "\u001b[90m 3\u001b[39m human      \u001b[4m1\u001b[24m120 wildtype          10 human_vk_motif_10 TLKQL… ACGT… ENOSF1   \n",
      "\u001b[90m 4\u001b[39m human      \u001b[4m1\u001b[24m119 wildtype          10 human_vk_motif_10 YVEAE… TACG… SIX1     \n",
      "\u001b[90m 5\u001b[39m human      \u001b[4m1\u001b[24m118 wildtype          10 human_vk_motif_10 YSNER… TATT… ABCC8    \n",
      "\u001b[90m 6\u001b[39m human      \u001b[4m1\u001b[24m117 wildtype          10 human_vk_motif_10 LLPLK… CTTC… FAM71F2  \n",
      "\u001b[90m 7\u001b[39m human      \u001b[4m1\u001b[24m116 wildtype          10 human_vk_motif_10 SFSAG… AGCT… RYR3     \n",
      "\u001b[90m 8\u001b[39m human      \u001b[4m1\u001b[24m115 wildtype          10 human_vk_motif_10 FAVHR… TTTG… RPS4Y2   \n",
      "\u001b[90m 9\u001b[39m human      \u001b[4m1\u001b[24m114 wildtype          10 human_vk_motif_10 FNSKQ… TTTA… PTP4A1   \n",
      "\u001b[90m10\u001b[39m human      \u001b[4m1\u001b[24m113 wildtype          10 human_vk_motif_10 SLIEE… AGTC… TRPC4    \n",
      "\u001b[90m# … with 1,083 more rows, and 4 more variables: transcript_id <chr>, loc <dbl>,\u001b[39m\n",
      "\u001b[90m#   motif_type <chr>, insert_num <dbl>\u001b[39m\n"
     ]
    }
   ],
   "source": [
    "insert_annotations %>% \n",
    "  filter(motif_source == \"human_vk_motif_10\", mutant_type == \"wildtype\") %>% \n",
    "  print()"
   ]
  },
  {
   "cell_type": "markdown",
   "metadata": {},
   "source": [
    "## Distinct groups of motifs in our experiment"
   ]
  },
  {
   "cell_type": "code",
   "execution_count": 7,
   "metadata": {
    "vscode": {
     "languageId": "r"
    }
   },
   "outputs": [
    {
     "data": {
      "text/html": [
       "<table class=\"dataframe\">\n",
       "<caption>A tibble: 12 × 1</caption>\n",
       "<thead>\n",
       "\t<tr><th scope=col>motif_source</th></tr>\n",
       "\t<tr><th scope=col>&lt;chr&gt;</th></tr>\n",
       "</thead>\n",
       "<tbody>\n",
       "\t<tr><td>weber_2020_dbndd_aaa_mutants</td></tr>\n",
       "\t<tr><td>weber_2020_dbndd_fed_mutants</td></tr>\n",
       "\t<tr><td>control_motifs              </td></tr>\n",
       "\t<tr><td>human_vk_motif_10           </td></tr>\n",
       "\t<tr><td>janich_2015_motifs          </td></tr>\n",
       "\t<tr><td>han_2020_motifs             </td></tr>\n",
       "\t<tr><td>weber_2020_motifs           </td></tr>\n",
       "\t<tr><td>mouse_vk_motif_14           </td></tr>\n",
       "\t<tr><td>rg4                         </td></tr>\n",
       "\t<tr><td>hiv1                        </td></tr>\n",
       "\t<tr><td>flu                         </td></tr>\n",
       "\t<tr><td>cov2                        </td></tr>\n",
       "</tbody>\n",
       "</table>\n"
      ],
      "text/latex": [
       "A tibble: 12 × 1\n",
       "\\begin{tabular}{l}\n",
       " motif\\_source\\\\\n",
       " <chr>\\\\\n",
       "\\hline\n",
       "\t weber\\_2020\\_dbndd\\_aaa\\_mutants\\\\\n",
       "\t weber\\_2020\\_dbndd\\_fed\\_mutants\\\\\n",
       "\t control\\_motifs              \\\\\n",
       "\t human\\_vk\\_motif\\_10           \\\\\n",
       "\t janich\\_2015\\_motifs          \\\\\n",
       "\t han\\_2020\\_motifs             \\\\\n",
       "\t weber\\_2020\\_motifs           \\\\\n",
       "\t mouse\\_vk\\_motif\\_14           \\\\\n",
       "\t rg4                         \\\\\n",
       "\t hiv1                        \\\\\n",
       "\t flu                         \\\\\n",
       "\t cov2                        \\\\\n",
       "\\end{tabular}\n"
      ],
      "text/markdown": [
       "\n",
       "A tibble: 12 × 1\n",
       "\n",
       "| motif_source &lt;chr&gt; |\n",
       "|---|\n",
       "| weber_2020_dbndd_aaa_mutants |\n",
       "| weber_2020_dbndd_fed_mutants |\n",
       "| control_motifs               |\n",
       "| human_vk_motif_10            |\n",
       "| janich_2015_motifs           |\n",
       "| han_2020_motifs              |\n",
       "| weber_2020_motifs            |\n",
       "| mouse_vk_motif_14            |\n",
       "| rg4                          |\n",
       "| hiv1                         |\n",
       "| flu                          |\n",
       "| cov2                         |\n",
       "\n"
      ],
      "text/plain": [
       "   motif_source                \n",
       "1  weber_2020_dbndd_aaa_mutants\n",
       "2  weber_2020_dbndd_fed_mutants\n",
       "3  control_motifs              \n",
       "4  human_vk_motif_10           \n",
       "5  janich_2015_motifs          \n",
       "6  han_2020_motifs             \n",
       "7  weber_2020_motifs           \n",
       "8  mouse_vk_motif_14           \n",
       "9  rg4                         \n",
       "10 hiv1                        \n",
       "11 flu                         \n",
       "12 cov2                        "
      ]
     },
     "metadata": {},
     "output_type": "display_data"
    }
   ],
   "source": [
    "insert_annotations %>% \n",
    "  distinct(motif_source)"
   ]
  },
  {
   "cell_type": "markdown",
   "metadata": {},
   "source": [
    "## Combine barcode counts and insert annotations\n",
    "\n",
    "Filter for inserts with at least 6 barcodes total and 200 reads total"
   ]
  },
  {
   "cell_type": "code",
   "execution_count": 8,
   "metadata": {
    "vscode": {
     "languageId": "r"
    }
   },
   "outputs": [
    {
     "name": "stderr",
     "output_type": "stream",
     "text": [
      "`summarise()` has grouped output by 'insert_num'. You can override using the `.groups` argument.\n"
     ]
    },
    {
     "name": "stdout",
     "output_type": "stream",
     "text": [
      "\u001b[90m# A tibble: 11,978 × 14\u001b[39m\n",
      "   motif_source gene_name motif_type mutant_type strength   lfc aa         seq  \n",
      "   \u001b[3m\u001b[90m<chr>\u001b[39m\u001b[23m        \u001b[3m\u001b[90m<chr>\u001b[39m\u001b[23m     \u001b[3m\u001b[90m<chr>\u001b[39m\u001b[23m      \u001b[3m\u001b[90m<chr>\u001b[39m\u001b[23m          \u001b[3m\u001b[90m<dbl>\u001b[39m\u001b[23m \u001b[3m\u001b[90m<dbl>\u001b[39m\u001b[23m \u001b[3m\u001b[90m<chr>\u001b[39m\u001b[23m      \u001b[3m\u001b[90m<chr>\u001b[39m\u001b[23m\n",
      "\u001b[90m 1\u001b[39m rg4          HES4      \u001b[31mNA\u001b[39m         \u001b[31mNA\u001b[39m                \u001b[31mNA\u001b[39m -\u001b[31m4\u001b[39m\u001b[31m.\u001b[39m\u001b[31m16\u001b[39m RKVGSRPGV… CGCA…\n",
      "\u001b[90m 2\u001b[39m rg4          MACROD1   \u001b[31mNA\u001b[39m         \u001b[31mNA\u001b[39m                \u001b[31mNA\u001b[39m -\u001b[31m3\u001b[39m\u001b[31m.\u001b[39m\u001b[31m84\u001b[39m GRRARTSAG… GGCC…\n",
      "\u001b[90m 3\u001b[39m rg4          WDR26     \u001b[31mNA\u001b[39m         \u001b[31mNA\u001b[39m                \u001b[31mNA\u001b[39m -\u001b[31m3\u001b[39m\u001b[31m.\u001b[39m\u001b[31m65\u001b[39m AGGGGGGGG… GCAG…\n",
      "\u001b[90m 4\u001b[39m rg4          CAPNS1    \u001b[31mNA\u001b[39m         \u001b[31mNA\u001b[39m                \u001b[31mNA\u001b[39m -\u001b[31m3\u001b[39m\u001b[31m.\u001b[39m\u001b[31m59\u001b[39m FLKGGGGGG… TTCT…\n",
      "\u001b[90m 5\u001b[39m rg4          HNRNPL    \u001b[31mNA\u001b[39m         \u001b[31mNA\u001b[39m                \u001b[31mNA\u001b[39m -\u001b[31m3\u001b[39m\u001b[31m.\u001b[39m\u001b[31m45\u001b[39m HGGGGGGGG… CACG…\n",
      "\u001b[90m 6\u001b[39m rg4          PGRMC2    \u001b[31mNA\u001b[39m         \u001b[31mNA\u001b[39m                \u001b[31mNA\u001b[39m -\u001b[31m3\u001b[39m\u001b[31m.\u001b[39m\u001b[31m33\u001b[39m MLGAYRLWV… CTGC…\n",
      "\u001b[90m 7\u001b[39m rg4          LRRC58    \u001b[31mNA\u001b[39m         \u001b[31mNA\u001b[39m                \u001b[31mNA\u001b[39m -\u001b[31m3\u001b[39m\u001b[31m.\u001b[39m\u001b[31m24\u001b[39m ETLESELEA… GAGA…\n",
      "\u001b[90m 8\u001b[39m rg4          C9orf40   \u001b[31mNA\u001b[39m         \u001b[31mNA\u001b[39m                \u001b[31mNA\u001b[39m -\u001b[31m3\u001b[39m\u001b[31m.\u001b[39m\u001b[31m16\u001b[39m PGEELPGAR… CCGG…\n",
      "\u001b[90m 9\u001b[39m hiv1         vpu_64    \u001b[31mNA\u001b[39m         \u001b[31mNA\u001b[39m                \u001b[31mNA\u001b[39m -\u001b[31m3\u001b[39m\u001b[31m.\u001b[39m\u001b[31m0\u001b[39m\u001b[31m5\u001b[39m VWSIVIIEY… GTGT…\n",
      "\u001b[90m10\u001b[39m rg4          VEGFA     \u001b[31mNA\u001b[39m         \u001b[31mNA\u001b[39m                \u001b[31mNA\u001b[39m -\u001b[31m2\u001b[39m\u001b[31m.\u001b[39m\u001b[31m93\u001b[39m AASRGQGPE… GCGG…\n",
      "\u001b[90m# … with 11,968 more rows, and 6 more variables: transcript_id <chr>,\u001b[39m\n",
      "\u001b[90m#   loc <dbl>, count_grna <dbl>, count_mrna <dbl>, n_barcodes_grna <int>,\u001b[39m\n",
      "\u001b[90m#   n_barcodes_mrna <int>\u001b[39m\n"
     ]
    }
   ],
   "source": [
    "lfc <- barcode_counts %>% \n",
    "  group_by(insert_num, library_type) %>%\n",
    "  summarize(count = sum(barcode_count), n_barcodes = dplyr::n()) %>%\n",
    "  ungroup() %>% \n",
    "  inner_join(insert_annotations, by = \"insert_num\") %>%\n",
    "  pivot_wider(names_from = library_type, values_from = c(\"count\", \"n_barcodes\")) %>%\n",
    "  filter(count_grna + count_mrna >= insert_reads_cutoff) %>%\n",
    "  filter(n_barcodes_grna + n_barcodes_mrna >= n_barcodes_cutoff) %>%\n",
    "  mutate(lfc = log2(count_mrna) - log2(count_grna)) %>%\n",
    "  mutate(lfc = lfc - median(lfc)) %>%\n",
    "  arrange(lfc) %>%\n",
    "  select(motif_source, gene_name, motif_type, mutant_type, strength, lfc, aa, everything(), -motif_num, -group, -insert_num) %>% \n",
    "  write_tsv(\"../tables/insert_lfc.tsv\") %>% \n",
    "  print()"
   ]
  },
  {
   "cell_type": "markdown",
   "metadata": {},
   "source": [
    "## What is the median number of barcodes per insert"
   ]
  },
  {
   "cell_type": "code",
   "execution_count": 9,
   "metadata": {
    "vscode": {
     "languageId": "r"
    }
   },
   "outputs": [
    {
     "data": {
      "text/html": [
       "<table class=\"dataframe\">\n",
       "<caption>A tibble: 1 × 2</caption>\n",
       "<thead>\n",
       "\t<tr><th scope=col>median_grna_barcodes</th><th scope=col>median_mrna_barcodes</th></tr>\n",
       "\t<tr><th scope=col>&lt;dbl&gt;</th><th scope=col>&lt;dbl&gt;</th></tr>\n",
       "</thead>\n",
       "<tbody>\n",
       "\t<tr><td>47</td><td>50</td></tr>\n",
       "</tbody>\n",
       "</table>\n"
      ],
      "text/latex": [
       "A tibble: 1 × 2\n",
       "\\begin{tabular}{ll}\n",
       " median\\_grna\\_barcodes & median\\_mrna\\_barcodes\\\\\n",
       " <dbl> & <dbl>\\\\\n",
       "\\hline\n",
       "\t 47 & 50\\\\\n",
       "\\end{tabular}\n"
      ],
      "text/markdown": [
       "\n",
       "A tibble: 1 × 2\n",
       "\n",
       "| median_grna_barcodes &lt;dbl&gt; | median_mrna_barcodes &lt;dbl&gt; |\n",
       "|---|---|\n",
       "| 47 | 50 |\n",
       "\n"
      ],
      "text/plain": [
       "  median_grna_barcodes median_mrna_barcodes\n",
       "1 47                   50                  "
      ]
     },
     "metadata": {},
     "output_type": "display_data"
    }
   ],
   "source": [
    "lfc %>% \n",
    "  summarize(median_grna_barcodes = median(n_barcodes_grna),\n",
    "            median_mrna_barcodes = median(n_barcodes_mrna))"
   ]
  },
  {
   "cell_type": "markdown",
   "metadata": {},
   "source": [
    "## Compare LFC for human_VK_10 with han2020_control, both wild-type motifs\n",
    "\n",
    "The goal here is to compare VK-type motifs of strength >= 10 with control motifs that do not have VK-type motifs. The only such group we included in our experiment is the han2020 control motifs with high ribosome density. These have strength <= 2. There are 122 of them.\n"
   ]
  },
  {
   "cell_type": "code",
   "execution_count": 21,
   "metadata": {
    "vscode": {
     "languageId": "r"
    }
   },
   "outputs": [
    {
     "name": "stdout",
     "output_type": "stream",
     "text": [
      "\u001b[90m# A tibble: 1,201 × 15\u001b[39m\n",
      "   motif_source      gene_name motif_type mutant_type strength   lfc aa    seq  \n",
      "   \u001b[3m\u001b[90m<chr>\u001b[39m\u001b[23m             \u001b[3m\u001b[90m<chr>\u001b[39m\u001b[23m     \u001b[3m\u001b[90m<chr>\u001b[39m\u001b[23m      \u001b[3m\u001b[90m<chr>\u001b[39m\u001b[23m          \u001b[3m\u001b[90m<dbl>\u001b[39m\u001b[23m \u001b[3m\u001b[90m<dbl>\u001b[39m\u001b[23m \u001b[3m\u001b[90m<chr>\u001b[39m\u001b[23m \u001b[3m\u001b[90m<chr>\u001b[39m\u001b[23m\n",
      "\u001b[90m 1\u001b[39m human_vk_motif_10 ADORA3    stall      wildtype          14 -\u001b[31m2\u001b[39m\u001b[31m.\u001b[39m\u001b[31m60\u001b[39m LLAI… TTGC…\n",
      "\u001b[90m 2\u001b[39m human_vk_motif_10 PNISR     stall      wildtype          12 -\u001b[31m2\u001b[39m\u001b[31m.\u001b[39m\u001b[31m51\u001b[39m RSRS… AGGA…\n",
      "\u001b[90m 3\u001b[39m human_vk_motif_10 GPR139    stall      wildtype          10 -\u001b[31m2\u001b[39m\u001b[31m.\u001b[39m\u001b[31m16\u001b[39m FFIL… TTCT…\n",
      "\u001b[90m 4\u001b[39m han_2020_motifs   PLGRKT    control    wildtype           1 -\u001b[31m2\u001b[39m\u001b[31m.\u001b[39m\u001b[31m0\u001b[39m\u001b[31m7\u001b[39m FFGL… TTTT…\n",
      "\u001b[90m 5\u001b[39m human_vk_motif_10 STAB2     stall      wildtype          12 -\u001b[31m1\u001b[39m\u001b[31m.\u001b[39m\u001b[31m83\u001b[39m NSDK… AACA…\n",
      "\u001b[90m 6\u001b[39m human_vk_motif_10 RAB12     stall      wildtype          11 -\u001b[31m1\u001b[39m\u001b[31m.\u001b[39m\u001b[31m73\u001b[39m STVG… TCCA…\n",
      "\u001b[90m 7\u001b[39m han_2020_motifs   SYF2      control    wildtype           0 -\u001b[31m1\u001b[39m\u001b[31m.\u001b[39m\u001b[31m72\u001b[39m VKLL… GTGA…\n",
      "\u001b[90m 8\u001b[39m han_2020_motifs   NDUFA5    control    wildtype           1 -\u001b[31m1\u001b[39m\u001b[31m.\u001b[39m\u001b[31m66\u001b[39m QAEH… CAGG…\n",
      "\u001b[90m 9\u001b[39m human_vk_motif_10 SYCP2     stall      wildtype          10 -\u001b[31m1\u001b[39m\u001b[31m.\u001b[39m\u001b[31m60\u001b[39m HNSE… CATA…\n",
      "\u001b[90m10\u001b[39m human_vk_motif_10 SATB2     stall      wildtype          10 -\u001b[31m1\u001b[39m\u001b[31m.\u001b[39m\u001b[31m56\u001b[39m TKCQ… ACCA…\n",
      "\u001b[90m# … with 1,191 more rows, and 7 more variables: transcript_id <chr>, loc <dbl>,\u001b[39m\n",
      "\u001b[90m#   count_grna <dbl>, count_mrna <dbl>, n_barcodes_grna <int>,\u001b[39m\n",
      "\u001b[90m#   n_barcodes_mrna <int>, type <chr>\u001b[39m\n"
     ]
    },
    {
     "name": "stderr",
     "output_type": "stream",
     "text": [
      "Warning message:\n",
      "“`guides(<scale> = FALSE)` is deprecated. Please use `guides(<scale> = \"none\")` instead.”\n"
     ]
    },
    {
     "data": {
      "image/png": "[encoded data removed]",
      "text/plain": [
       "plot without title"
      ]
     },
     "metadata": {
      "image/png": {
       "height": 120,
       "width": 150
      }
     },
     "output_type": "display_data"
    }
   ],
   "source": [
    "# options(repr.plot.width=1.2, repr.plot.height=1) # Sizing for manuscript\n",
    "options(repr.plot.width=2.5, repr.plot.height=2) # For ipynb visualization\n",
    "\n",
    "plot_data <- lfc %>% \n",
    "  mutate(type = case_when(\n",
    "    (motif_source == \"han_2020_motifs\" & motif_type == \"control\" & mutant_type == \"wildtype\") ~ \"< 3\",\n",
    "    (motif_source == \"human_vk_motif_10\"  & mutant_type == \"wildtype\") ~ \"> 9\",\n",
    "    T ~ as.character(NA)\n",
    "    )) %>% \n",
    "  filter(!is.na(type)) %>% \n",
    "  filter(!str_detect(aa, \"\\\\*\")) %>% \n",
    "  print()\n",
    "\n",
    "label_data <- plot_data %>% \n",
    "  group_by(type) %>% \n",
    "  summarize(n = paste0(\"N = \", dplyr::n()))\n",
    "  \n",
    "plot_data %>% \n",
    "  ggplot(aes(x = fct_rev(type), y = lfc, fill = type)) +\n",
    "  scale_fill_manual(values = cbPalette) +\n",
    "  scale_y_continuous(breaks = c(-2, 0, 2), limits = c(-3.5, 2.2)) +\n",
    "  geom_violin() + \n",
    "  geom_text(aes(x = type, label = n), y = -3.2, data = label_data, size = 2) +\n",
    "  labs(y = \"mRNA level (log2, a.u.)\", x = \"Peptide score\") +\n",
    "  guides(fill = F)"
   ]
  },
  {
   "cell_type": "markdown",
   "metadata": {},
   "source": [
    "### Calcualte effect size and P-value for motif score violin plot"
   ]
  },
  {
   "cell_type": "code",
   "execution_count": 15,
   "metadata": {
    "vscode": {
     "languageId": "r"
    }
   },
   "outputs": [
    {
     "data": {
      "text/plain": [
       "\n",
       "\n",
       "|type |    n| median_lfc|\n",
       "|:----|----:|----------:|\n",
       "|< 3  |  122|  0.1217677|\n",
       "|> 9  | 1079| -0.0276876|"
      ]
     },
     "metadata": {},
     "output_type": "display_data"
    },
    {
     "data": {
      "text/plain": [
       "\n",
       "\n",
       "| statistic|   p.value|method                                            |alternative |\n",
       "|---------:|---------:|:-------------------------------------------------|:-----------|\n",
       "|     75517| 0.0037859|Wilcoxon rank sum test with continuity correction |greater     |"
      ]
     },
     "metadata": {},
     "output_type": "display_data"
    }
   ],
   "source": [
    "# Effect size for above plot\n",
    "plot_data %>% \n",
    "  group_by(type) %>% \n",
    "  summarize(n = dplyr::n(), median_lfc = median(lfc)) %>% \n",
    "  knitr::kable()\n",
    "\n",
    "# P-value for above plot\n",
    "wilcox.test(lfc ~ type, data=plot_data, alternative = \"greater\") %>% \n",
    "  broom::tidy() %>% \n",
    "  knitr::kable()"
   ]
  },
  {
   "cell_type": "markdown",
   "metadata": {},
   "source": [
    "## Histogram of mRNA levels\n",
    "\n",
    "Skip constructs with stop codons"
   ]
  },
  {
   "cell_type": "code",
   "execution_count": 16,
   "metadata": {
    "vscode": {
     "languageId": "r"
    }
   },
   "outputs": [
    {
     "data": {
      "image/png": "[encoded data removed]",
      "text/plain": [
       "plot without title"
      ]
     },
     "metadata": {
      "image/png": {
       "height": 180,
       "width": 240
      }
     },
     "output_type": "display_data"
    }
   ],
   "source": [
    "options(repr.plot.width=4, repr.plot.height=3)\n",
    "\n",
    "lfc %>% \n",
    "  filter(!str_detect(aa, \"\\\\*\")) %>% \n",
    "  ggplot(aes(x = lfc)) +\n",
    "  geom_histogram(bins = 100, fill = NA, color = 'black') +\n",
    "  labs(x = \"mRNA level (log2, a.u.)\", y = \"Motif count\")"
   ]
  },
  {
   "cell_type": "markdown",
   "metadata": {},
   "source": [
    "## Plot fold-changes in VK-10 motifs upon KnextV or VnextK mutations"
   ]
  },
  {
   "cell_type": "code",
   "execution_count": 25,
   "metadata": {
    "vscode": {
     "languageId": "r"
    }
   },
   "outputs": [
    {
     "name": "stdout",
     "output_type": "stream",
     "text": [
      "\u001b[90m# A tibble: 1,079 × 3\u001b[39m\n",
      "   gene_name name     value\n",
      "   \u001b[3m\u001b[90m<chr>\u001b[39m\u001b[23m     \u001b[3m\u001b[90m<chr>\u001b[39m\u001b[23m    \u001b[3m\u001b[90m<dbl>\u001b[39m\u001b[23m\n",
      "\u001b[90m 1\u001b[39m PDCD7     KnextV -\u001b[31m0\u001b[39m\u001b[31m.\u001b[39m\u001b[31m750\u001b[39m \n",
      "\u001b[90m 2\u001b[39m FBXO33    KnextV -\u001b[31m0\u001b[39m\u001b[31m.\u001b[39m\u001b[31m0\u001b[39m\u001b[31m47\u001b[4m6\u001b[24m\u001b[39m\n",
      "\u001b[90m 3\u001b[39m ADORA3    KnextV  2     \n",
      "\u001b[90m 4\u001b[39m PNISR     KnextV  1.54  \n",
      "\u001b[90m 5\u001b[39m NEXN      KnextV -\u001b[31m0\u001b[39m\u001b[31m.\u001b[39m\u001b[31m0\u001b[39m\u001b[31m97\u001b[4m2\u001b[24m\u001b[39m\n",
      "\u001b[90m 6\u001b[39m KCNV2     KnextV  1.18  \n",
      "\u001b[90m 7\u001b[39m FAM240A   KnextV  0.362 \n",
      "\u001b[90m 8\u001b[39m GPR139    KnextV  2     \n",
      "\u001b[90m 9\u001b[39m CEP78     KnextV -\u001b[31m1\u001b[39m\u001b[31m.\u001b[39m\u001b[31m12\u001b[39m  \n",
      "\u001b[90m10\u001b[39m NEUROD6   KnextV  0.701 \n",
      "\u001b[90m# … with 1,069 more rows\u001b[39m\n"
     ]
    },
    {
     "name": "stderr",
     "output_type": "stream",
     "text": [
      "`stat_bin()` using `bins = 30`. Pick better value with `binwidth`.\n",
      "\n",
      "Warning message:\n",
      "“Removed 2 rows containing missing values (geom_bar).”\n"
     ]
    },
    {
     "data": {
      "image/png": "[encoded data removed]",
      "text/plain": [
       "plot without title"
      ]
     },
     "metadata": {
      "image/png": {
       "height": 180,
       "width": 240
      }
     },
     "output_type": "display_data"
    }
   ],
   "source": [
    "#options(repr.plot.width=1.5, repr.plot.height=1.2) # Sizing for manuscript\n",
    "options(repr.plot.width=4, repr.plot.height=3) # For ipynb visualization\n",
    "\n",
    "plot_data <- lfc %>% \n",
    "  filter(motif_source == \"human_vk_motif_10\") %>% \n",
    "  filter(!str_detect(aa, \"\\\\*\")) %>% \n",
    "  select(gene_name, mutant_type, strength, lfc) %>% \n",
    "  pivot_wider(names_from = \"mutant_type\", values_from = \"lfc\") %>%\n",
    "  mutate(VnextK = VnextK - wildtype, KnextV = KnextV - wildtype) %>% \n",
    "  select(gene_name, KnextV) %>% \n",
    "  mutate(KnextV = if_else(KnextV > 2, 2, KnextV)) %>% \n",
    "  mutate(KnextV = if_else(KnextV < -2, -2, KnextV)) %>% \n",
    "  filter(!is.na(KnextV)) %>% \n",
    "  pivot_longer(-gene_name) %>% \n",
    "  print()\n",
    "\n",
    "plot1 <- plot_data %>%\n",
    "  ggplot(aes(x = value, y = name)) +\n",
    "  # geom_histogram(fill = \"red\", color = \"NA\", alpha = 0.5) +\n",
    "  geom_boxplot(width=1, fill = \"red\", alpha = 0.5) +\n",
    "  geom_vline(xintercept = 0, linetype = \"dashed\", color = \"black\")  +\n",
    "  theme(axis.line = element_blank(), axis.text = element_blank(), \n",
    "        axis.ticks = element_blank(), axis.title = element_blank()) +\n",
    "  scale_x_continuous(labels = c(\"<-2\", -1, 0, 1, \">2\"), limits = c(-2, 2)) \n",
    "  # geom_hline(yintercept = 0, linetype = \"dashed\", color = \"grey\")\n",
    "\n",
    "plot2 <- plot_data %>%\n",
    "  ggplot(aes(x = value)) +\n",
    "  geom_histogram(fill = \"red\", alpha = 0.5, color = \"black\", size = 0.25) +\n",
    "  geom_vline(xintercept = 0, linetype = \"dashed\", color = \"black\")  +\n",
    "  # theme(axis.line.y = element_blank(), axis.text.y = element_blank(),\n",
    "  #       axis.ticks.y = element_blank(), axis.title.y = element_blank()) +\n",
    "  labs(x = \"mRNA fold-change, mutant / wild-type, log2\", y = \"Number of peptides\")  +\n",
    "  scale_x_continuous(labels = c(\"<-2\", -1, 0, 1, \">2\"), limits = c(-2, 2)) \n",
    "\n",
    "cowplot::plot_grid(plot1, plot2, ncol = 1, align = \"v\", rel_heights = c(1,4))"
   ]
  },
  {
   "cell_type": "markdown",
   "metadata": {},
   "source": [
    "### Calculate P-value and median for Wildtype vs KnextV mutation effects"
   ]
  },
  {
   "cell_type": "code",
   "execution_count": 27,
   "metadata": {
    "vscode": {
     "languageId": "r"
    }
   },
   "outputs": [
    {
     "data": {
      "text/plain": [
       "\n",
       "\tWilcoxon signed rank test with continuity correction\n",
       "\n",
       "data:  plot_data$value\n",
       "V = 476108, p-value < 2.2e-16\n",
       "alternative hypothesis: true location is not equal to 0\n"
      ]
     },
     "metadata": {},
     "output_type": "display_data"
    },
    {
     "data": {
      "text/html": [
       "<table class=\"dataframe\">\n",
       "<caption>A tibble: 1 × 2</caption>\n",
       "<thead>\n",
       "\t<tr><th scope=col>n_positive</th><th scope=col>median</th></tr>\n",
       "\t<tr><th scope=col>&lt;int&gt;</th><th scope=col>&lt;dbl&gt;</th></tr>\n",
       "</thead>\n",
       "<tbody>\n",
       "\t<tr><td>800</td><td>0.3777415</td></tr>\n",
       "</tbody>\n",
       "</table>\n"
      ],
      "text/latex": [
       "A tibble: 1 × 2\n",
       "\\begin{tabular}{ll}\n",
       " n\\_positive & median\\\\\n",
       " <int> & <dbl>\\\\\n",
       "\\hline\n",
       "\t 800 & 0.3777415\\\\\n",
       "\\end{tabular}\n"
      ],
      "text/markdown": [
       "\n",
       "A tibble: 1 × 2\n",
       "\n",
       "| n_positive &lt;int&gt; | median &lt;dbl&gt; |\n",
       "|---|---|\n",
       "| 800 | 0.3777415 |\n",
       "\n"
      ],
      "text/plain": [
       "  n_positive median   \n",
       "1 800        0.3777415"
      ]
     },
     "metadata": {},
     "output_type": "display_data"
    }
   ],
   "source": [
    "## P-value for above plot\n",
    "wilcox.test(plot_data$value, mu = 0)\n",
    "\n",
    "## Median of above plot\n",
    "plot_data %>% \n",
    "  summarize(n_positive = sum(value > 0), median = median(value))"
   ]
  },
  {
   "cell_type": "markdown",
   "metadata": {},
   "source": [
    "## Calculate bootstrap confidence intervals for LFC of human VK 10 motifs"
   ]
  },
  {
   "cell_type": "code",
   "execution_count": 28,
   "metadata": {
    "vscode": {
     "languageId": "r"
    }
   },
   "outputs": [
    {
     "name": "stdout",
     "output_type": "stream",
     "text": [
      "\u001b[90m# A tibble: 3,241 × 3\u001b[39m\n",
      "   gene_name mutant_type lfc              \n",
      "   \u001b[3m\u001b[90m<chr>\u001b[39m\u001b[23m     \u001b[3m\u001b[90m<chr>\u001b[39m\u001b[23m       \u001b[3m\u001b[90m<list>\u001b[39m\u001b[23m           \n",
      "\u001b[90m 1\u001b[39m ZNF677    VnextK      \u001b[90m<dbl [1,000 × 1]>\u001b[39m\n",
      "\u001b[90m 2\u001b[39m DCBLD2    KnextV      \u001b[90m<dbl [1,000 × 1]>\u001b[39m\n",
      "\u001b[90m 3\u001b[39m PGBD1     wildtype    \u001b[90m<dbl [1,000 × 1]>\u001b[39m\n",
      "\u001b[90m 4\u001b[39m AGGF1     VnextK      \u001b[90m<dbl [1,000 × 1]>\u001b[39m\n",
      "\u001b[90m 5\u001b[39m RER1      VnextK      \u001b[90m<dbl [1,000 × 1]>\u001b[39m\n",
      "\u001b[90m 6\u001b[39m ANO1      wildtype    \u001b[90m<dbl [1,000 × 1]>\u001b[39m\n",
      "\u001b[90m 7\u001b[39m DNAH5     VnextK      \u001b[90m<dbl [1,000 × 1]>\u001b[39m\n",
      "\u001b[90m 8\u001b[39m RAB35     KnextV      \u001b[90m<dbl [1,000 × 1]>\u001b[39m\n",
      "\u001b[90m 9\u001b[39m ANO1      KnextV      \u001b[90m<dbl [1,000 × 1]>\u001b[39m\n",
      "\u001b[90m10\u001b[39m NADK      VnextK      \u001b[90m<dbl [1,000 × 1]>\u001b[39m\n",
      "\u001b[90m# … with 3,231 more rows\u001b[39m\n"
     ]
    }
   ],
   "source": [
    "# Use for calculating bootstrap mRNA level as ratio of mRNA to gRNA counts\n",
    "calc_lfc_bootstrap <- function(data, indices) {\n",
    "  d <- data[indices,]\n",
    "  log2(sum(d$mrna)) - log2(sum(d$grna))\n",
    "}\n",
    "\n",
    "lfc_bootstrap <- barcode_counts %>% \n",
    "  select(insert_num, barcode_num, library_type, barcode_count) %>% \n",
    "  pivot_wider(names_from = \"library_type\", values_from = \"barcode_count\") %>% \n",
    "  drop_na() %>% \n",
    "  group_by(insert_num) %>%\n",
    "  nest() %>% \n",
    "  ungroup() %>% \n",
    "  inner_join(insert_annotations, by = \"insert_num\") %>%\n",
    "  filter(motif_source == \"human_vk_motif_10\" | gene_name == \"SSRP1\") %>% \n",
    "  filter(!str_detect(aa, \"\\\\*\")) %>% \n",
    "  mutate(lfc = map(data, function(df) boot::boot(data=df, statistic=calc_lfc_bootstrap, R=1000)$t)) %>%\n",
    "  select(-data) %>% \n",
    "  select(gene_name, mutant_type, lfc) %>%\n",
    "  print()"
   ]
  },
  {
   "cell_type": "markdown",
   "metadata": {},
   "source": [
    "### Calculate qualtiles for confidence interval plotting"
   ]
  },
  {
   "cell_type": "code",
   "execution_count": 29,
   "metadata": {
    "vscode": {
     "languageId": "r"
    }
   },
   "outputs": [
    {
     "name": "stdout",
     "output_type": "stream",
     "text": [
      "\u001b[90m# A tibble: 3,241 × 7\u001b[39m\n",
      "   gene_name mutant_type  lfc_75 lfc_25 lfc_50 lfc_mean lfc_sd\n",
      "   \u001b[3m\u001b[90m<chr>\u001b[39m\u001b[23m     \u001b[3m\u001b[90m<chr>\u001b[39m\u001b[23m         \u001b[3m\u001b[90m<dbl>\u001b[39m\u001b[23m  \u001b[3m\u001b[90m<dbl>\u001b[39m\u001b[23m  \u001b[3m\u001b[90m<dbl>\u001b[39m\u001b[23m    \u001b[3m\u001b[90m<dbl>\u001b[39m\u001b[23m  \u001b[3m\u001b[90m<dbl>\u001b[39m\u001b[23m\n",
      "\u001b[90m 1\u001b[39m ZNF677    VnextK      -\u001b[31m1\u001b[39m\u001b[31m.\u001b[39m\u001b[31m43\u001b[39m   -\u001b[31m1\u001b[39m\u001b[31m.\u001b[39m\u001b[31m90\u001b[39m  -\u001b[31m1\u001b[39m\u001b[31m.\u001b[39m\u001b[31m65\u001b[39m    -\u001b[31m1\u001b[39m\u001b[31m.\u001b[39m\u001b[31m65\u001b[39m   0.142\n",
      "\u001b[90m 2\u001b[39m DCBLD2    KnextV      -\u001b[31m1\u001b[39m\u001b[31m.\u001b[39m\u001b[31m0\u001b[39m\u001b[31m8\u001b[39m   -\u001b[31m2\u001b[39m\u001b[31m.\u001b[39m\u001b[31m0\u001b[39m\u001b[31m2\u001b[39m  -\u001b[31m1\u001b[39m\u001b[31m.\u001b[39m\u001b[31m56\u001b[39m    -\u001b[31m1\u001b[39m\u001b[31m.\u001b[39m\u001b[31m55\u001b[39m   0.288\n",
      "\u001b[90m 3\u001b[39m PGBD1     wildtype    -\u001b[31m1\u001b[39m\u001b[31m.\u001b[39m\u001b[31m11\u001b[39m   -\u001b[31m2\u001b[39m\u001b[31m.\u001b[39m\u001b[31m33\u001b[39m  -\u001b[31m1\u001b[39m\u001b[31m.\u001b[39m\u001b[31m71\u001b[39m    -\u001b[31m1\u001b[39m\u001b[31m.\u001b[39m\u001b[31m72\u001b[39m   0.360\n",
      "\u001b[90m 4\u001b[39m AGGF1     VnextK      -\u001b[31m1\u001b[39m\u001b[31m.\u001b[39m\u001b[31m44\u001b[39m   -\u001b[31m2\u001b[39m\u001b[31m.\u001b[39m\u001b[31m27\u001b[39m  -\u001b[31m1\u001b[39m\u001b[31m.\u001b[39m\u001b[31m86\u001b[39m    -\u001b[31m1\u001b[39m\u001b[31m.\u001b[39m\u001b[31m86\u001b[39m   0.255\n",
      "\u001b[90m 5\u001b[39m RER1      VnextK      -\u001b[31m1\u001b[39m\u001b[31m.\u001b[39m\u001b[31m76\u001b[39m   -\u001b[31m2\u001b[39m\u001b[31m.\u001b[39m\u001b[31m61\u001b[39m  -\u001b[31m2\u001b[39m\u001b[31m.\u001b[39m\u001b[31m20\u001b[39m    -\u001b[31m2\u001b[39m\u001b[31m.\u001b[39m\u001b[31m19\u001b[39m   0.261\n",
      "\u001b[90m 6\u001b[39m ANO1      wildtype    -\u001b[31m1\u001b[39m\u001b[31m.\u001b[39m\u001b[31m62\u001b[39m   -\u001b[31m2\u001b[39m\u001b[31m.\u001b[39m\u001b[31m13\u001b[39m  -\u001b[31m1\u001b[39m\u001b[31m.\u001b[39m\u001b[31m87\u001b[39m    -\u001b[31m1\u001b[39m\u001b[31m.\u001b[39m\u001b[31m86\u001b[39m   0.157\n",
      "\u001b[90m 7\u001b[39m DNAH5     VnextK      -\u001b[31m0\u001b[39m\u001b[31m.\u001b[39m\u001b[31m482\u001b[39m  -\u001b[31m1\u001b[39m\u001b[31m.\u001b[39m\u001b[31m19\u001b[39m  -\u001b[31m0\u001b[39m\u001b[31m.\u001b[39m\u001b[31m814\u001b[39m   -\u001b[31m0\u001b[39m\u001b[31m.\u001b[39m\u001b[31m820\u001b[39m  0.211\n",
      "\u001b[90m 8\u001b[39m RAB35     KnextV      -\u001b[31m0\u001b[39m\u001b[31m.\u001b[39m\u001b[31m0\u001b[39m\u001b[31m70\u001b[4m2\u001b[24m\u001b[39m -\u001b[31m0\u001b[39m\u001b[31m.\u001b[39m\u001b[31m745\u001b[39m -\u001b[31m0\u001b[39m\u001b[31m.\u001b[39m\u001b[31m409\u001b[39m   -\u001b[31m0\u001b[39m\u001b[31m.\u001b[39m\u001b[31m413\u001b[39m  0.210\n",
      "\u001b[90m 9\u001b[39m ANO1      KnextV      -\u001b[31m0\u001b[39m\u001b[31m.\u001b[39m\u001b[31m950\u001b[39m  -\u001b[31m1\u001b[39m\u001b[31m.\u001b[39m\u001b[31m66\u001b[39m  -\u001b[31m1\u001b[39m\u001b[31m.\u001b[39m\u001b[31m27\u001b[39m    -\u001b[31m1\u001b[39m\u001b[31m.\u001b[39m\u001b[31m29\u001b[39m   0.216\n",
      "\u001b[90m10\u001b[39m NADK      VnextK      -\u001b[31m1\u001b[39m\u001b[31m.\u001b[39m\u001b[31m0\u001b[39m\u001b[31m6\u001b[39m   -\u001b[31m1\u001b[39m\u001b[31m.\u001b[39m\u001b[31m79\u001b[39m  -\u001b[31m1\u001b[39m\u001b[31m.\u001b[39m\u001b[31m44\u001b[39m    -\u001b[31m1\u001b[39m\u001b[31m.\u001b[39m\u001b[31m44\u001b[39m   0.223\n",
      "\u001b[90m# … with 3,231 more rows\u001b[39m\n"
     ]
    }
   ],
   "source": [
    "lfc_iqr <- lfc_bootstrap %>% \n",
    "  mutate(lfc_75 = map_dbl(lfc, function(x) quantile(x, 0.95))) %>%\n",
    "  mutate(lfc_25 = map_dbl(lfc, function(x) quantile(x, 0.05))) %>%\n",
    "  mutate(lfc_50 = map_dbl(lfc, function(x) quantile(x, 0.5))) %>% \n",
    "  mutate(lfc_mean = map_dbl(lfc, mean)) %>%\n",
    "  mutate(lfc_sd = map_dbl(lfc, sd)) %>%\n",
    "  select(-lfc) %>% \n",
    "  print()"
   ]
  },
  {
   "cell_type": "markdown",
   "metadata": {},
   "source": [
    "## Calculate bootstrap P-values for significant change upon KnextV and VnextK mutations"
   ]
  },
  {
   "cell_type": "code",
   "execution_count": 30,
   "metadata": {
    "vscode": {
     "languageId": "r"
    }
   },
   "outputs": [
    {
     "name": "stdout",
     "output_type": "stream",
     "text": [
      "\u001b[90m# A tibble: 1,079 × 5\u001b[39m\n",
      "   gene_name KnextV_pval_gre… KnextV_pval_less VnextK_pval_gre… VnextK_pval_less\n",
      "   \u001b[3m\u001b[90m<chr>\u001b[39m\u001b[23m                \u001b[3m\u001b[90m<dbl>\u001b[39m\u001b[23m            \u001b[3m\u001b[90m<dbl>\u001b[39m\u001b[23m            \u001b[3m\u001b[90m<dbl>\u001b[39m\u001b[23m            \u001b[3m\u001b[90m<dbl>\u001b[39m\u001b[23m\n",
      "\u001b[90m 1\u001b[39m ZNF677           8.11\u001b[90me\u001b[39m\u001b[31m- 94\u001b[39m        1   \u001b[90me\u001b[39m+  0        1   \u001b[90me\u001b[39m+  0        1.86\u001b[90me\u001b[39m\u001b[31m-305\u001b[39m\n",
      "\u001b[90m 2\u001b[39m DCBLD2           1   \u001b[90me\u001b[39m+  0        3.34\u001b[90me\u001b[39m\u001b[31m-160\u001b[39m        1   \u001b[90me\u001b[39m+  0        9.14\u001b[90me\u001b[39m\u001b[31m-183\u001b[39m\n",
      "\u001b[90m 3\u001b[39m PGBD1            3.43\u001b[90me\u001b[39m\u001b[31m-202\u001b[39m        1   \u001b[90me\u001b[39m+  0        1   \u001b[90me\u001b[39m+  0        5.18\u001b[90me\u001b[39m\u001b[31m-  5\u001b[39m\n",
      "\u001b[90m 4\u001b[39m AGGF1            1   \u001b[90me\u001b[39m+  0        9.01\u001b[90me\u001b[39m\u001b[31m-  2\u001b[39m        1.83\u001b[90me\u001b[39m\u001b[31m-  3\u001b[39m        1   \u001b[90me\u001b[39m+  0\n",
      "\u001b[90m 5\u001b[39m RER1             5.77\u001b[90me\u001b[39m\u001b[31m- 69\u001b[39m        1   \u001b[90me\u001b[39m+  0        1   \u001b[90me\u001b[39m+  0        0   \u001b[90m \u001b[39m    \n",
      "\u001b[90m 6\u001b[39m ANO1             2.07\u001b[90me\u001b[39m\u001b[31m-301\u001b[39m        1   \u001b[90me\u001b[39m+  0        6.97\u001b[90me\u001b[39m\u001b[31m-107\u001b[39m        1   \u001b[90me\u001b[39m+  0\n",
      "\u001b[90m 7\u001b[39m DNAH5            1   \u001b[90me\u001b[39m+  0        1.22\u001b[90me\u001b[39m\u001b[31m-  1\u001b[39m        1.91\u001b[90me\u001b[39m\u001b[31m- 39\u001b[39m        1   \u001b[90me\u001b[39m+  0\n",
      "\u001b[90m 8\u001b[39m RAB35            5.78\u001b[90me\u001b[39m\u001b[31m- 64\u001b[39m        1   \u001b[90me\u001b[39m+  0        1.21\u001b[90me\u001b[39m\u001b[31m- 68\u001b[39m        1   \u001b[90me\u001b[39m+  0\n",
      "\u001b[90m 9\u001b[39m NADK             1   \u001b[90me\u001b[39m+  0        6.97\u001b[90me\u001b[39m\u001b[31m-133\u001b[39m        1   \u001b[90me\u001b[39m+  0        5.85\u001b[90me\u001b[39m\u001b[31m-219\u001b[39m\n",
      "\u001b[90m10\u001b[39m PGBD2            1   \u001b[90me\u001b[39m+  0        2.06\u001b[90me\u001b[39m\u001b[31m- 71\u001b[39m        1   \u001b[90me\u001b[39m+  0        0   \u001b[90m \u001b[39m    \n",
      "\u001b[90m# … with 1,069 more rows\u001b[39m\n"
     ]
    }
   ],
   "source": [
    "vkmutants_pvals <- lfc_bootstrap %>% \n",
    "  pivot_wider(names_from = \"mutant_type\", values_from = \"lfc\") %>% \n",
    "  drop_na() %>% \n",
    "  mutate(KnextV_pval_greater = map2_dbl(KnextV, wildtype,\n",
    "                                        function(x, y) wilcox.test(x, y, alternative = \"greater\")$p.value)) %>%\n",
    "  mutate(KnextV_pval_less = map2_dbl(KnextV, wildtype,\n",
    "                                        function(x, y) wilcox.test(x, y, alternative = \"less\")$p.value)) %>%\n",
    "  mutate(VnextK_pval_greater = map2_dbl(VnextK, wildtype,\n",
    "                                        function(x, y) wilcox.test(x, y, alternative = \"greater\")$p.value)) %>%\n",
    "  mutate(VnextK_pval_less = map2_dbl(VnextK, wildtype,\n",
    "                                        function(x, y) wilcox.test(x, y, alternative = \"less\")$p.value)) %>%\n",
    "  # Benjamini-Hochberg FDR correction\n",
    "  mutate(KnextV_pval_greater = p.adjust(KnextV_pval_greater, method = \"fdr\")) %>%\n",
    "  mutate(KnextV_pval_less = p.adjust(KnextV_pval_less, method = \"fdr\")) %>%\n",
    "  mutate(VnextK_pval_greater = p.adjust(VnextK_pval_greater, method = \"fdr\")) %>%\n",
    "  mutate(VnextK_pval_less = p.adjust(VnextK_pval_less, method = \"fdr\")) %>%\n",
    "  select(gene_name, KnextV_pval_greater, KnextV_pval_less, VnextK_pval_greater, VnextK_pval_less) %>%\n",
    "  print()"
   ]
  },
  {
   "cell_type": "code",
   "execution_count": 39,
   "metadata": {
    "vscode": {
     "languageId": "r"
    }
   },
   "outputs": [
    {
     "data": {
      "text/html": [
       "<table class=\"dataframe\">\n",
       "<caption>A tibble: 1 × 5</caption>\n",
       "<thead>\n",
       "\t<tr><th scope=col>gene_name</th><th scope=col>KnextV_pval_greater</th><th scope=col>KnextV_pval_less</th><th scope=col>VnextK_pval_greater</th><th scope=col>VnextK_pval_less</th></tr>\n",
       "\t<tr><th scope=col>&lt;chr&gt;</th><th scope=col>&lt;dbl&gt;</th><th scope=col>&lt;dbl&gt;</th><th scope=col>&lt;dbl&gt;</th><th scope=col>&lt;dbl&gt;</th></tr>\n",
       "</thead>\n",
       "<tbody>\n",
       "\t<tr><td>VAPA</td><td>2.415788e-302</td><td>1</td><td>2.673595e-270</td><td>1</td></tr>\n",
       "</tbody>\n",
       "</table>\n"
      ],
      "text/latex": [
       "A tibble: 1 × 5\n",
       "\\begin{tabular}{lllll}\n",
       " gene\\_name & KnextV\\_pval\\_greater & KnextV\\_pval\\_less & VnextK\\_pval\\_greater & VnextK\\_pval\\_less\\\\\n",
       " <chr> & <dbl> & <dbl> & <dbl> & <dbl>\\\\\n",
       "\\hline\n",
       "\t VAPA & 2.415788e-302 & 1 & 2.673595e-270 & 1\\\\\n",
       "\\end{tabular}\n"
      ],
      "text/markdown": [
       "\n",
       "A tibble: 1 × 5\n",
       "\n",
       "| gene_name &lt;chr&gt; | KnextV_pval_greater &lt;dbl&gt; | KnextV_pval_less &lt;dbl&gt; | VnextK_pval_greater &lt;dbl&gt; | VnextK_pval_less &lt;dbl&gt; |\n",
       "|---|---|---|---|---|\n",
       "| VAPA | 2.415788e-302 | 1 | 2.673595e-270 | 1 |\n",
       "\n"
      ],
      "text/plain": [
       "  gene_name KnextV_pval_greater KnextV_pval_less VnextK_pval_greater\n",
       "1 VAPA      2.415788e-302       1                2.673595e-270      \n",
       "  VnextK_pval_less\n",
       "1 1               "
      ]
     },
     "metadata": {},
     "output_type": "display_data"
    }
   ],
   "source": [
    "vkmutants_pvals %>% \n",
    "  filter(gene_name == \"VAPA\") %>% \n",
    "  arrange(KnextV_pval_greater)"
   ]
  },
  {
   "cell_type": "markdown",
   "metadata": {},
   "source": [
    "## How many human VK10 peptides have higher or lower mRNA level upon KnextV or VnextK  mutations?"
   ]
  },
  {
   "cell_type": "code",
   "execution_count": 40,
   "metadata": {
    "vscode": {
     "languageId": "r"
    }
   },
   "outputs": [
    {
     "data": {
      "text/plain": [
       "\n",
       "\n",
       "| VnextK_n_greater| VnextK_n_less| KnextV_n_greater| KnextV_n_less|\n",
       "|----------------:|-------------:|----------------:|-------------:|\n",
       "|              644|           396|              784|           263|"
      ]
     },
     "metadata": {},
     "output_type": "display_data"
    }
   ],
   "source": [
    "vkmutants_pvals %>% \n",
    "  summarize(VnextK_n_greater = sum(VnextK_pval_greater < 0.05), \n",
    "            VnextK_n_less = sum(VnextK_pval_less < 0.05),\n",
    "            KnextV_n_greater = sum(KnextV_pval_greater < 0.05), \n",
    "            KnextV_n_less = sum(KnextV_pval_less < 0.05),\n",
    "            ) %>% \n",
    "  knitr::kable()"
   ]
  },
  {
   "cell_type": "markdown",
   "metadata": {},
   "source": [
    "## Known 8x dicodon stall motifs are destabilizing"
   ]
  },
  {
   "cell_type": "code",
   "execution_count": 43,
   "metadata": {
    "vscode": {
     "languageId": "r"
    }
   },
   "outputs": [
    {
     "data": {
      "text/html": [
       "<table class=\"dataframe\">\n",
       "<caption>A tibble: 29 × 7</caption>\n",
       "<thead>\n",
       "\t<tr><th scope=col>aa</th><th scope=col>lfc</th><th scope=col>seq</th><th scope=col>count_grna</th><th scope=col>count_mrna</th><th scope=col>n_barcodes_grna</th><th scope=col>n_barcodes_mrna</th></tr>\n",
       "\t<tr><th scope=col>&lt;chr&gt;</th><th scope=col>&lt;dbl&gt;</th><th scope=col>&lt;chr&gt;</th><th scope=col>&lt;dbl&gt;</th><th scope=col>&lt;dbl&gt;</th><th scope=col>&lt;int&gt;</th><th scope=col>&lt;int&gt;</th></tr>\n",
       "</thead>\n",
       "<tbody>\n",
       "\t<tr><td>RHRHRHRHRHRHRHRH        </td><td>-1.84</td><td>CGCCATCGCCATCGCCATCGCCATCGCCATCGCCATCGCCATCGCCAT                        </td><td> 6718</td><td> 1458</td><td> 97</td><td>105</td></tr>\n",
       "\t<tr><td>VKVKVKVKVKVKVKVK        </td><td>-1.78</td><td>GTCAAAGTCAAAGTCAAAGTCAAAGTCAAAGTCAAAGTCAAAGTCAAA                        </td><td> 8980</td><td> 2036</td><td>104</td><td>112</td></tr>\n",
       "\t<tr><td>SFSFSFSFSFSFSFSF        </td><td>-1.20</td><td>AGTTTCAGTTTCAGTTTCAGTTTCAGTTTCAGTTTCAGTTTCAGTTTC                        </td><td>16902</td><td> 5719</td><td>158</td><td>164</td></tr>\n",
       "\t<tr><td>SSSSSSSSKKKKKKKK        </td><td>-0.47</td><td>TCATCATCATCATCATCATCATCAAAGAAGAAGAAGAAGAAGAAGAAG                        </td><td>11059</td><td> 6222</td><td> 81</td><td> 87</td></tr>\n",
       "\t<tr><td>FFFFFFFFQQQQQQQQ        </td><td>-0.39</td><td>TTTTTTTTTTTTTTTTTTTTTTTTCAGCAGCAGCAGCAGCAGCAGCAG                        </td><td>21791</td><td>12929</td><td>189</td><td>197</td></tr>\n",
       "\t<tr><td>SKSKSKSKSKSKSKSK        </td><td>-0.36</td><td>TCAAAGTCAAAGTCAAAGTCAAAGTCAAAGTCAAAGTCAAAGTCAAAG                        </td><td>14537</td><td> 8806</td><td>126</td><td>133</td></tr>\n",
       "\t<tr><td>QSQSQSQSQSQSQSQS        </td><td>-0.34</td><td>CAAAGTCAAAGTCAAAGTCAAAGTCAAAGTCAAAGTCAAAGTCAAAGT                        </td><td>11019</td><td> 6789</td><td> 87</td><td> 95</td></tr>\n",
       "\t<tr><td>FQFQFQFQFQFQFQFQ        </td><td>-0.24</td><td>TTTCAGTTTCAGTTTCAGTTTCAGTTTCAGTTTCAGTTTCAGTTTCAG                        </td><td>16643</td><td>10980</td><td>150</td><td>159</td></tr>\n",
       "\t<tr><td>VSVSVSVSVSVSVSVS        </td><td>-0.12</td><td>GTTTCAGTTTCAGTTTCAGTTTCAGTTTCAGTTTCAGTTTCAGTTTCA                        </td><td>14019</td><td>10038</td><td>124</td><td>134</td></tr>\n",
       "\t<tr><td>XXXXXXXXXXXXXXXX        </td><td>-0.06</td><td>TAATAGTAATAGTAATAGTAATAGTAATAGTAATAGTAATAGTAATAG                        </td><td>11706</td><td> 8730</td><td> 77</td><td> 83</td></tr>\n",
       "\t<tr><td>SSSSSSSSFFFFFFFF        </td><td>-0.05</td><td>AGTAGTAGTAGTAGTAGTAGTAGTTTCTTCTTCTTCTTCTTCTTCTTC                        </td><td>23809</td><td>17882</td><td>183</td><td>200</td></tr>\n",
       "\t<tr><td>RTHNVLERQRRNELKRSFFALRDQ</td><td> 0.04</td><td>CGAACACACAACGTCTTGGAGCGCCAGAGGAGGAACGAGCTAAAACGGAGCTTTTTTGCCCTGCGTGACCAG</td><td> 5748</td><td> 4597</td><td> 51</td><td> 55</td></tr>\n",
       "\t<tr><td>SSSSSSSSVVVVVVVV        </td><td> 0.07</td><td>TCATCATCATCATCATCATCATCAGTTGTTGTTGTTGTTGTTGTTGTT                        </td><td>22362</td><td>18316</td><td>162</td><td>170</td></tr>\n",
       "\t<tr><td>VVVVVVVVKKKKKKKK        </td><td> 0.17</td><td>GTCGTCGTCGTCGTCGTCGTCGTCAAAAAAAAAAAAAAAAAAAAAAAA                        </td><td> 1893</td><td> 1660</td><td>  7</td><td>  7</td></tr>\n",
       "\t<tr><td>SGSGSGSGSGSGSGSG        </td><td> 0.19</td><td>TCCGGCTCCGGCTCCGGCTCCGGCTCCGGCTCCGGCTCCGGCTCCGGC                        </td><td>  266</td><td>  237</td><td>  3</td><td>  3</td></tr>\n",
       "\t<tr><td>HHHHHHHHRRRRRRRR        </td><td> 0.21</td><td>CATCATCATCATCATCATCATCATCGCCGCCGCCGCCGCCGCCGCCGC                        </td><td> 7381</td><td> 6652</td><td>103</td><td>110</td></tr>\n",
       "\t<tr><td>KKKKKKKKSSSSSSSS        </td><td> 0.23</td><td>AAGAAGAAGAAGAAGAAGAAGAAGTCATCATCATCATCATCATCATCA                        </td><td> 8513</td><td> 7801</td><td> 87</td><td> 93</td></tr>\n",
       "\t<tr><td>RLRLRLRLRLRLRLRL        </td><td> 0.24</td><td>CGGCTCCGGCTCCGGCTCCGGCTCCGGCTCCGGCTCCGGCTCCGGCTC                        </td><td> 6604</td><td> 6093</td><td>120</td><td>137</td></tr>\n",
       "\t<tr><td>QQQQQQQQFFFFFFFF        </td><td> 0.27</td><td>CAGCAGCAGCAGCAGCAGCAGCAGTTTTTTTTTTTTTTTTTTTTTTTT                        </td><td>14841</td><td>13914</td><td>140</td><td>139</td></tr>\n",
       "\t<tr><td>KKKKKKKKVVVVVVVV        </td><td> 0.28</td><td>AAAAAAAAAAAAAAAAAAAAAAAAGTCGTCGTCGTCGTCGTCGTCGTC                        </td><td>10124</td><td> 9609</td><td> 97</td><td>105</td></tr>\n",
       "\t<tr><td>VVVVVVVVSSSSSSSS        </td><td> 0.61</td><td>GTTGTTGTTGTTGTTGTTGTTGTTTCATCATCATCATCATCATCATCA                        </td><td>12294</td><td>14656</td><td> 98</td><td>112</td></tr>\n",
       "\t<tr><td>AAAAAAAAIIIIIIII        </td><td> 0.65</td><td>GCCGCCGCCGCCGCCGCCGCCGCCATCATCATCATCATCATCATCATC                        </td><td> 8425</td><td>10290</td><td>127</td><td>142</td></tr>\n",
       "\t<tr><td>RRRRRRRRHHHHHHHH        </td><td> 0.77</td><td>CGCCGCCGCCGCCGCCGCCGCCGCCATCATCATCATCATCATCATCAT                        </td><td> 8903</td><td>11853</td><td>112</td><td>129</td></tr>\n",
       "\t<tr><td>VLLLLLLLLLVYLTQPGNGNEGSV</td><td> 0.89</td><td>GTGCTCCTGCTCCTGCTTCTGCTCCTGCTGGTGTACCTGACTCAGCCAGGCAATGGCAACGAGGGCAGCGTC</td><td> 1888</td><td> 2724</td><td> 35</td><td> 42</td></tr>\n",
       "\t<tr><td>FFFFFFFFSSSSSSSS        </td><td> 0.95</td><td>TTCTTCTTCTTCTTCTTCTTCTTCAGTAGTAGTAGTAGTAGTAGTAGT                        </td><td>14766</td><td>22304</td><td>159</td><td>176</td></tr>\n",
       "\t<tr><td>PSPSPSPSPSPSPSPS        </td><td> 1.12</td><td>CCATCGCCATCGCCATCGCCATCGCCATCGCCATCGCCATCGCCATCG                        </td><td> 8241</td><td>13963</td><td>119</td><td>128</td></tr>\n",
       "\t<tr><td>AIAIAIAIAIAIAIAI        </td><td> 1.20</td><td>GCCATCGCCATCGCCATCGCCATCGCCATCGCCATCGCCATCGCCATC                        </td><td> 4455</td><td> 7981</td><td> 82</td><td> 96</td></tr>\n",
       "\t<tr><td>PAPAPAPAPAPAPAPA        </td><td> 1.31</td><td>CCGGCTCCGGCTCCGGCTCCGGCTCCGGCTCCGGCTCCGGCTCCGGCT                        </td><td> 7225</td><td>13915</td><td>140</td><td>149</td></tr>\n",
       "\t<tr><td>IIIIIIIIAAAAAAAA        </td><td> 1.53</td><td>ATCATCATCATCATCATCATCATCGCCGCCGCCGCCGCCGCCGCCGCC                        </td><td> 6353</td><td>14311</td><td>103</td><td>121</td></tr>\n",
       "</tbody>\n",
       "</table>\n"
      ],
      "text/latex": [
       "A tibble: 29 × 7\n",
       "\\begin{tabular}{lllllll}\n",
       " aa & lfc & seq & count\\_grna & count\\_mrna & n\\_barcodes\\_grna & n\\_barcodes\\_mrna\\\\\n",
       " <chr> & <dbl> & <chr> & <dbl> & <dbl> & <int> & <int>\\\\\n",
       "\\hline\n",
       "\t RHRHRHRHRHRHRHRH         & -1.84 & CGCCATCGCCATCGCCATCGCCATCGCCATCGCCATCGCCATCGCCAT                         &  6718 &  1458 &  97 & 105\\\\\n",
       "\t VKVKVKVKVKVKVKVK         & -1.78 & GTCAAAGTCAAAGTCAAAGTCAAAGTCAAAGTCAAAGTCAAAGTCAAA                         &  8980 &  2036 & 104 & 112\\\\\n",
       "\t SFSFSFSFSFSFSFSF         & -1.20 & AGTTTCAGTTTCAGTTTCAGTTTCAGTTTCAGTTTCAGTTTCAGTTTC                         & 16902 &  5719 & 158 & 164\\\\\n",
       "\t SSSSSSSSKKKKKKKK         & -0.47 & TCATCATCATCATCATCATCATCAAAGAAGAAGAAGAAGAAGAAGAAG                         & 11059 &  6222 &  81 &  87\\\\\n",
       "\t FFFFFFFFQQQQQQQQ         & -0.39 & TTTTTTTTTTTTTTTTTTTTTTTTCAGCAGCAGCAGCAGCAGCAGCAG                         & 21791 & 12929 & 189 & 197\\\\\n",
       "\t SKSKSKSKSKSKSKSK         & -0.36 & TCAAAGTCAAAGTCAAAGTCAAAGTCAAAGTCAAAGTCAAAGTCAAAG                         & 14537 &  8806 & 126 & 133\\\\\n",
       "\t QSQSQSQSQSQSQSQS         & -0.34 & CAAAGTCAAAGTCAAAGTCAAAGTCAAAGTCAAAGTCAAAGTCAAAGT                         & 11019 &  6789 &  87 &  95\\\\\n",
       "\t FQFQFQFQFQFQFQFQ         & -0.24 & TTTCAGTTTCAGTTTCAGTTTCAGTTTCAGTTTCAGTTTCAGTTTCAG                         & 16643 & 10980 & 150 & 159\\\\\n",
       "\t VSVSVSVSVSVSVSVS         & -0.12 & GTTTCAGTTTCAGTTTCAGTTTCAGTTTCAGTTTCAGTTTCAGTTTCA                         & 14019 & 10038 & 124 & 134\\\\\n",
       "\t XXXXXXXXXXXXXXXX         & -0.06 & TAATAGTAATAGTAATAGTAATAGTAATAGTAATAGTAATAGTAATAG                         & 11706 &  8730 &  77 &  83\\\\\n",
       "\t SSSSSSSSFFFFFFFF         & -0.05 & AGTAGTAGTAGTAGTAGTAGTAGTTTCTTCTTCTTCTTCTTCTTCTTC                         & 23809 & 17882 & 183 & 200\\\\\n",
       "\t RTHNVLERQRRNELKRSFFALRDQ &  0.04 & CGAACACACAACGTCTTGGAGCGCCAGAGGAGGAACGAGCTAAAACGGAGCTTTTTTGCCCTGCGTGACCAG &  5748 &  4597 &  51 &  55\\\\\n",
       "\t SSSSSSSSVVVVVVVV         &  0.07 & TCATCATCATCATCATCATCATCAGTTGTTGTTGTTGTTGTTGTTGTT                         & 22362 & 18316 & 162 & 170\\\\\n",
       "\t VVVVVVVVKKKKKKKK         &  0.17 & GTCGTCGTCGTCGTCGTCGTCGTCAAAAAAAAAAAAAAAAAAAAAAAA                         &  1893 &  1660 &   7 &   7\\\\\n",
       "\t SGSGSGSGSGSGSGSG         &  0.19 & TCCGGCTCCGGCTCCGGCTCCGGCTCCGGCTCCGGCTCCGGCTCCGGC                         &   266 &   237 &   3 &   3\\\\\n",
       "\t HHHHHHHHRRRRRRRR         &  0.21 & CATCATCATCATCATCATCATCATCGCCGCCGCCGCCGCCGCCGCCGC                         &  7381 &  6652 & 103 & 110\\\\\n",
       "\t KKKKKKKKSSSSSSSS         &  0.23 & AAGAAGAAGAAGAAGAAGAAGAAGTCATCATCATCATCATCATCATCA                         &  8513 &  7801 &  87 &  93\\\\\n",
       "\t RLRLRLRLRLRLRLRL         &  0.24 & CGGCTCCGGCTCCGGCTCCGGCTCCGGCTCCGGCTCCGGCTCCGGCTC                         &  6604 &  6093 & 120 & 137\\\\\n",
       "\t QQQQQQQQFFFFFFFF         &  0.27 & CAGCAGCAGCAGCAGCAGCAGCAGTTTTTTTTTTTTTTTTTTTTTTTT                         & 14841 & 13914 & 140 & 139\\\\\n",
       "\t KKKKKKKKVVVVVVVV         &  0.28 & AAAAAAAAAAAAAAAAAAAAAAAAGTCGTCGTCGTCGTCGTCGTCGTC                         & 10124 &  9609 &  97 & 105\\\\\n",
       "\t VVVVVVVVSSSSSSSS         &  0.61 & GTTGTTGTTGTTGTTGTTGTTGTTTCATCATCATCATCATCATCATCA                         & 12294 & 14656 &  98 & 112\\\\\n",
       "\t AAAAAAAAIIIIIIII         &  0.65 & GCCGCCGCCGCCGCCGCCGCCGCCATCATCATCATCATCATCATCATC                         &  8425 & 10290 & 127 & 142\\\\\n",
       "\t RRRRRRRRHHHHHHHH         &  0.77 & CGCCGCCGCCGCCGCCGCCGCCGCCATCATCATCATCATCATCATCAT                         &  8903 & 11853 & 112 & 129\\\\\n",
       "\t VLLLLLLLLLVYLTQPGNGNEGSV &  0.89 & GTGCTCCTGCTCCTGCTTCTGCTCCTGCTGGTGTACCTGACTCAGCCAGGCAATGGCAACGAGGGCAGCGTC &  1888 &  2724 &  35 &  42\\\\\n",
       "\t FFFFFFFFSSSSSSSS         &  0.95 & TTCTTCTTCTTCTTCTTCTTCTTCAGTAGTAGTAGTAGTAGTAGTAGT                         & 14766 & 22304 & 159 & 176\\\\\n",
       "\t PSPSPSPSPSPSPSPS         &  1.12 & CCATCGCCATCGCCATCGCCATCGCCATCGCCATCGCCATCGCCATCG                         &  8241 & 13963 & 119 & 128\\\\\n",
       "\t AIAIAIAIAIAIAIAI         &  1.20 & GCCATCGCCATCGCCATCGCCATCGCCATCGCCATCGCCATCGCCATC                         &  4455 &  7981 &  82 &  96\\\\\n",
       "\t PAPAPAPAPAPAPAPA         &  1.31 & CCGGCTCCGGCTCCGGCTCCGGCTCCGGCTCCGGCTCCGGCTCCGGCT                         &  7225 & 13915 & 140 & 149\\\\\n",
       "\t IIIIIIIIAAAAAAAA         &  1.53 & ATCATCATCATCATCATCATCATCGCCGCCGCCGCCGCCGCCGCCGCC                         &  6353 & 14311 & 103 & 121\\\\\n",
       "\\end{tabular}\n"
      ],
      "text/markdown": [
       "\n",
       "A tibble: 29 × 7\n",
       "\n",
       "| aa &lt;chr&gt; | lfc &lt;dbl&gt; | seq &lt;chr&gt; | count_grna &lt;dbl&gt; | count_mrna &lt;dbl&gt; | n_barcodes_grna &lt;int&gt; | n_barcodes_mrna &lt;int&gt; |\n",
       "|---|---|---|---|---|---|---|\n",
       "| RHRHRHRHRHRHRHRH         | -1.84 | CGCCATCGCCATCGCCATCGCCATCGCCATCGCCATCGCCATCGCCAT                         |  6718 |  1458 |  97 | 105 |\n",
       "| VKVKVKVKVKVKVKVK         | -1.78 | GTCAAAGTCAAAGTCAAAGTCAAAGTCAAAGTCAAAGTCAAAGTCAAA                         |  8980 |  2036 | 104 | 112 |\n",
       "| SFSFSFSFSFSFSFSF         | -1.20 | AGTTTCAGTTTCAGTTTCAGTTTCAGTTTCAGTTTCAGTTTCAGTTTC                         | 16902 |  5719 | 158 | 164 |\n",
       "| SSSSSSSSKKKKKKKK         | -0.47 | TCATCATCATCATCATCATCATCAAAGAAGAAGAAGAAGAAGAAGAAG                         | 11059 |  6222 |  81 |  87 |\n",
       "| FFFFFFFFQQQQQQQQ         | -0.39 | TTTTTTTTTTTTTTTTTTTTTTTTCAGCAGCAGCAGCAGCAGCAGCAG                         | 21791 | 12929 | 189 | 197 |\n",
       "| SKSKSKSKSKSKSKSK         | -0.36 | TCAAAGTCAAAGTCAAAGTCAAAGTCAAAGTCAAAGTCAAAGTCAAAG                         | 14537 |  8806 | 126 | 133 |\n",
       "| QSQSQSQSQSQSQSQS         | -0.34 | CAAAGTCAAAGTCAAAGTCAAAGTCAAAGTCAAAGTCAAAGTCAAAGT                         | 11019 |  6789 |  87 |  95 |\n",
       "| FQFQFQFQFQFQFQFQ         | -0.24 | TTTCAGTTTCAGTTTCAGTTTCAGTTTCAGTTTCAGTTTCAGTTTCAG                         | 16643 | 10980 | 150 | 159 |\n",
       "| VSVSVSVSVSVSVSVS         | -0.12 | GTTTCAGTTTCAGTTTCAGTTTCAGTTTCAGTTTCAGTTTCAGTTTCA                         | 14019 | 10038 | 124 | 134 |\n",
       "| XXXXXXXXXXXXXXXX         | -0.06 | TAATAGTAATAGTAATAGTAATAGTAATAGTAATAGTAATAGTAATAG                         | 11706 |  8730 |  77 |  83 |\n",
       "| SSSSSSSSFFFFFFFF         | -0.05 | AGTAGTAGTAGTAGTAGTAGTAGTTTCTTCTTCTTCTTCTTCTTCTTC                         | 23809 | 17882 | 183 | 200 |\n",
       "| RTHNVLERQRRNELKRSFFALRDQ |  0.04 | CGAACACACAACGTCTTGGAGCGCCAGAGGAGGAACGAGCTAAAACGGAGCTTTTTTGCCCTGCGTGACCAG |  5748 |  4597 |  51 |  55 |\n",
       "| SSSSSSSSVVVVVVVV         |  0.07 | TCATCATCATCATCATCATCATCAGTTGTTGTTGTTGTTGTTGTTGTT                         | 22362 | 18316 | 162 | 170 |\n",
       "| VVVVVVVVKKKKKKKK         |  0.17 | GTCGTCGTCGTCGTCGTCGTCGTCAAAAAAAAAAAAAAAAAAAAAAAA                         |  1893 |  1660 |   7 |   7 |\n",
       "| SGSGSGSGSGSGSGSG         |  0.19 | TCCGGCTCCGGCTCCGGCTCCGGCTCCGGCTCCGGCTCCGGCTCCGGC                         |   266 |   237 |   3 |   3 |\n",
       "| HHHHHHHHRRRRRRRR         |  0.21 | CATCATCATCATCATCATCATCATCGCCGCCGCCGCCGCCGCCGCCGC                         |  7381 |  6652 | 103 | 110 |\n",
       "| KKKKKKKKSSSSSSSS         |  0.23 | AAGAAGAAGAAGAAGAAGAAGAAGTCATCATCATCATCATCATCATCA                         |  8513 |  7801 |  87 |  93 |\n",
       "| RLRLRLRLRLRLRLRL         |  0.24 | CGGCTCCGGCTCCGGCTCCGGCTCCGGCTCCGGCTCCGGCTCCGGCTC                         |  6604 |  6093 | 120 | 137 |\n",
       "| QQQQQQQQFFFFFFFF         |  0.27 | CAGCAGCAGCAGCAGCAGCAGCAGTTTTTTTTTTTTTTTTTTTTTTTT                         | 14841 | 13914 | 140 | 139 |\n",
       "| KKKKKKKKVVVVVVVV         |  0.28 | AAAAAAAAAAAAAAAAAAAAAAAAGTCGTCGTCGTCGTCGTCGTCGTC                         | 10124 |  9609 |  97 | 105 |\n",
       "| VVVVVVVVSSSSSSSS         |  0.61 | GTTGTTGTTGTTGTTGTTGTTGTTTCATCATCATCATCATCATCATCA                         | 12294 | 14656 |  98 | 112 |\n",
       "| AAAAAAAAIIIIIIII         |  0.65 | GCCGCCGCCGCCGCCGCCGCCGCCATCATCATCATCATCATCATCATC                         |  8425 | 10290 | 127 | 142 |\n",
       "| RRRRRRRRHHHHHHHH         |  0.77 | CGCCGCCGCCGCCGCCGCCGCCGCCATCATCATCATCATCATCATCAT                         |  8903 | 11853 | 112 | 129 |\n",
       "| VLLLLLLLLLVYLTQPGNGNEGSV |  0.89 | GTGCTCCTGCTCCTGCTTCTGCTCCTGCTGGTGTACCTGACTCAGCCAGGCAATGGCAACGAGGGCAGCGTC |  1888 |  2724 |  35 |  42 |\n",
       "| FFFFFFFFSSSSSSSS         |  0.95 | TTCTTCTTCTTCTTCTTCTTCTTCAGTAGTAGTAGTAGTAGTAGTAGT                         | 14766 | 22304 | 159 | 176 |\n",
       "| PSPSPSPSPSPSPSPS         |  1.12 | CCATCGCCATCGCCATCGCCATCGCCATCGCCATCGCCATCGCCATCG                         |  8241 | 13963 | 119 | 128 |\n",
       "| AIAIAIAIAIAIAIAI         |  1.20 | GCCATCGCCATCGCCATCGCCATCGCCATCGCCATCGCCATCGCCATC                         |  4455 |  7981 |  82 |  96 |\n",
       "| PAPAPAPAPAPAPAPA         |  1.31 | CCGGCTCCGGCTCCGGCTCCGGCTCCGGCTCCGGCTCCGGCTCCGGCT                         |  7225 | 13915 | 140 | 149 |\n",
       "| IIIIIIIIAAAAAAAA         |  1.53 | ATCATCATCATCATCATCATCATCGCCGCCGCCGCCGCCGCCGCCGCC                         |  6353 | 14311 | 103 | 121 |\n",
       "\n"
      ],
      "text/plain": [
       "   aa                       lfc  \n",
       "1  RHRHRHRHRHRHRHRH         -1.84\n",
       "2  VKVKVKVKVKVKVKVK         -1.78\n",
       "3  SFSFSFSFSFSFSFSF         -1.20\n",
       "4  SSSSSSSSKKKKKKKK         -0.47\n",
       "5  FFFFFFFFQQQQQQQQ         -0.39\n",
       "6  SKSKSKSKSKSKSKSK         -0.36\n",
       "7  QSQSQSQSQSQSQSQS         -0.34\n",
       "8  FQFQFQFQFQFQFQFQ         -0.24\n",
       "9  VSVSVSVSVSVSVSVS         -0.12\n",
       "10 XXXXXXXXXXXXXXXX         -0.06\n",
       "11 SSSSSSSSFFFFFFFF         -0.05\n",
       "12 RTHNVLERQRRNELKRSFFALRDQ  0.04\n",
       "13 SSSSSSSSVVVVVVVV          0.07\n",
       "14 VVVVVVVVKKKKKKKK          0.17\n",
       "15 SGSGSGSGSGSGSGSG          0.19\n",
       "16 HHHHHHHHRRRRRRRR          0.21\n",
       "17 KKKKKKKKSSSSSSSS          0.23\n",
       "18 RLRLRLRLRLRLRLRL          0.24\n",
       "19 QQQQQQQQFFFFFFFF          0.27\n",
       "20 KKKKKKKKVVVVVVVV          0.28\n",
       "21 VVVVVVVVSSSSSSSS          0.61\n",
       "22 AAAAAAAAIIIIIIII          0.65\n",
       "23 RRRRRRRRHHHHHHHH          0.77\n",
       "24 VLLLLLLLLLVYLTQPGNGNEGSV  0.89\n",
       "25 FFFFFFFFSSSSSSSS          0.95\n",
       "26 PSPSPSPSPSPSPSPS          1.12\n",
       "27 AIAIAIAIAIAIAIAI          1.20\n",
       "28 PAPAPAPAPAPAPAPA          1.31\n",
       "29 IIIIIIIIAAAAAAAA          1.53\n",
       "   seq                                                                     \n",
       "1  CGCCATCGCCATCGCCATCGCCATCGCCATCGCCATCGCCATCGCCAT                        \n",
       "2  GTCAAAGTCAAAGTCAAAGTCAAAGTCAAAGTCAAAGTCAAAGTCAAA                        \n",
       "3  AGTTTCAGTTTCAGTTTCAGTTTCAGTTTCAGTTTCAGTTTCAGTTTC                        \n",
       "4  TCATCATCATCATCATCATCATCAAAGAAGAAGAAGAAGAAGAAGAAG                        \n",
       "5  TTTTTTTTTTTTTTTTTTTTTTTTCAGCAGCAGCAGCAGCAGCAGCAG                        \n",
       "6  TCAAAGTCAAAGTCAAAGTCAAAGTCAAAGTCAAAGTCAAAGTCAAAG                        \n",
       "7  CAAAGTCAAAGTCAAAGTCAAAGTCAAAGTCAAAGTCAAAGTCAAAGT                        \n",
       "8  TTTCAGTTTCAGTTTCAGTTTCAGTTTCAGTTTCAGTTTCAGTTTCAG                        \n",
       "9  GTTTCAGTTTCAGTTTCAGTTTCAGTTTCAGTTTCAGTTTCAGTTTCA                        \n",
       "10 TAATAGTAATAGTAATAGTAATAGTAATAGTAATAGTAATAGTAATAG                        \n",
       "11 AGTAGTAGTAGTAGTAGTAGTAGTTTCTTCTTCTTCTTCTTCTTCTTC                        \n",
       "12 CGAACACACAACGTCTTGGAGCGCCAGAGGAGGAACGAGCTAAAACGGAGCTTTTTTGCCCTGCGTGACCAG\n",
       "13 TCATCATCATCATCATCATCATCAGTTGTTGTTGTTGTTGTTGTTGTT                        \n",
       "14 GTCGTCGTCGTCGTCGTCGTCGTCAAAAAAAAAAAAAAAAAAAAAAAA                        \n",
       "15 TCCGGCTCCGGCTCCGGCTCCGGCTCCGGCTCCGGCTCCGGCTCCGGC                        \n",
       "16 CATCATCATCATCATCATCATCATCGCCGCCGCCGCCGCCGCCGCCGC                        \n",
       "17 AAGAAGAAGAAGAAGAAGAAGAAGTCATCATCATCATCATCATCATCA                        \n",
       "18 CGGCTCCGGCTCCGGCTCCGGCTCCGGCTCCGGCTCCGGCTCCGGCTC                        \n",
       "19 CAGCAGCAGCAGCAGCAGCAGCAGTTTTTTTTTTTTTTTTTTTTTTTT                        \n",
       "20 AAAAAAAAAAAAAAAAAAAAAAAAGTCGTCGTCGTCGTCGTCGTCGTC                        \n",
       "21 GTTGTTGTTGTTGTTGTTGTTGTTTCATCATCATCATCATCATCATCA                        \n",
       "22 GCCGCCGCCGCCGCCGCCGCCGCCATCATCATCATCATCATCATCATC                        \n",
       "23 CGCCGCCGCCGCCGCCGCCGCCGCCATCATCATCATCATCATCATCAT                        \n",
       "24 GTGCTCCTGCTCCTGCTTCTGCTCCTGCTGGTGTACCTGACTCAGCCAGGCAATGGCAACGAGGGCAGCGTC\n",
       "25 TTCTTCTTCTTCTTCTTCTTCTTCAGTAGTAGTAGTAGTAGTAGTAGT                        \n",
       "26 CCATCGCCATCGCCATCGCCATCGCCATCGCCATCGCCATCGCCATCG                        \n",
       "27 GCCATCGCCATCGCCATCGCCATCGCCATCGCCATCGCCATCGCCATC                        \n",
       "28 CCGGCTCCGGCTCCGGCTCCGGCTCCGGCTCCGGCTCCGGCTCCGGCT                        \n",
       "29 ATCATCATCATCATCATCATCATCGCCGCCGCCGCCGCCGCCGCCGCC                        \n",
       "   count_grna count_mrna n_barcodes_grna n_barcodes_mrna\n",
       "1   6718       1458       97             105            \n",
       "2   8980       2036      104             112            \n",
       "3  16902       5719      158             164            \n",
       "4  11059       6222       81              87            \n",
       "5  21791      12929      189             197            \n",
       "6  14537       8806      126             133            \n",
       "7  11019       6789       87              95            \n",
       "8  16643      10980      150             159            \n",
       "9  14019      10038      124             134            \n",
       "10 11706       8730       77              83            \n",
       "11 23809      17882      183             200            \n",
       "12  5748       4597       51              55            \n",
       "13 22362      18316      162             170            \n",
       "14  1893       1660        7               7            \n",
       "15   266        237        3               3            \n",
       "16  7381       6652      103             110            \n",
       "17  8513       7801       87              93            \n",
       "18  6604       6093      120             137            \n",
       "19 14841      13914      140             139            \n",
       "20 10124       9609       97             105            \n",
       "21 12294      14656       98             112            \n",
       "22  8425      10290      127             142            \n",
       "23  8903      11853      112             129            \n",
       "24  1888       2724       35              42            \n",
       "25 14766      22304      159             176            \n",
       "26  8241      13963      119             128            \n",
       "27  4455       7981       82              96            \n",
       "28  7225      13915      140             149            \n",
       "29  6353      14311      103             121            "
      ]
     },
     "metadata": {},
     "output_type": "display_data"
    }
   ],
   "source": [
    "known_stalls <- lfc %>% \n",
    "  filter(motif_source == \"control_motifs\") %>% \n",
    "  select(aa, lfc, seq, starts_with(\"count\"), starts_with(\"n_barcodes\")) %>% \n",
    "  mutate(lfc = round(lfc, 2))\n",
    "\n",
    "known_stalls"
   ]
  },
  {
   "cell_type": "markdown",
   "metadata": {},
   "source": [
    "## Many RG4 quadruplexes are highly destabilizing\n"
   ]
  },
  {
   "cell_type": "code",
   "execution_count": 45,
   "metadata": {
    "vscode": {
     "languageId": "r"
    }
   },
   "outputs": [
    {
     "name": "stderr",
     "output_type": "stream",
     "text": [
      "`stat_bin()` using `bins = 30`. Pick better value with `binwidth`.\n",
      "\n"
     ]
    },
    {
     "data": {
      "image/png": "[encoded data removed]",
      "text/plain": [
       "plot without title"
      ]
     },
     "metadata": {
      "image/png": {
       "height": 120,
       "width": 240
      }
     },
     "output_type": "display_data"
    }
   ],
   "source": [
    "options(repr.plot.width=4, repr.plot.height=2)\n",
    "\n",
    "rg4_lfc <- lfc %>% \n",
    "  filter(!str_detect(aa, \"\\\\*\")) %>%\n",
    "  mutate(rg4 = if_else(motif_source == \"rg4\", \"rg4\", \"others\")) \n",
    "\n",
    "rg4_lfc %>% \n",
    "  group_by(rg4) %>% \n",
    "  mutate(rg4 = str_c(rg4, \", N = \", dplyr::n())) %>% \n",
    "  ggplot(aes(lfc, after_stat(density), color = rg4)) +\n",
    "  scale_color_manual(values = cbPalette) +\n",
    "  geom_freqpoly() +\n",
    "  labs(x = \"mRNA level (Log2, a.u.)\", y = \"Normalized motif count\", color = \"\")\n"
   ]
  },
  {
   "cell_type": "markdown",
   "metadata": {},
   "source": [
    "### Interesting RG4 quadruplexes\n",
    "\n",
    "- VEGFA is a tumor promoting gene with lot of known G-quadruplexes in its vicinity. [Zhang 2013](https://pubmed.ncbi.nlm.nih.gov/24005038/). But it seems to be present in an alternate isoform.\n",
    "- FMR1 G-quadruplex is well studied. See [Schaeffer 2001](https://pubmed.ncbi.nlm.nih.gov/11532944/) and [Varshney 2020](https://www.nature.com/articles/s41580-020-0236-x).\n"
   ]
  },
  {
   "cell_type": "code",
   "execution_count": 46,
   "metadata": {
    "vscode": {
     "languageId": "r"
    }
   },
   "outputs": [
    {
     "data": {
      "text/html": [
       "<table class=\"dataframe\">\n",
       "<caption>A tibble: 489 × 12</caption>\n",
       "<thead>\n",
       "\t<tr><th scope=col>motif_source</th><th scope=col>gene_name</th><th scope=col>lfc</th><th scope=col>aa</th><th scope=col>seq</th><th scope=col>transcript_id</th><th scope=col>loc</th><th scope=col>count_grna</th><th scope=col>count_mrna</th><th scope=col>n_barcodes_grna</th><th scope=col>n_barcodes_mrna</th><th scope=col>rg4</th></tr>\n",
       "\t<tr><th scope=col>&lt;chr&gt;</th><th scope=col>&lt;chr&gt;</th><th scope=col>&lt;dbl&gt;</th><th scope=col>&lt;chr&gt;</th><th scope=col>&lt;chr&gt;</th><th scope=col>&lt;chr&gt;</th><th scope=col>&lt;dbl&gt;</th><th scope=col>&lt;dbl&gt;</th><th scope=col>&lt;dbl&gt;</th><th scope=col>&lt;int&gt;</th><th scope=col>&lt;int&gt;</th><th scope=col>&lt;chr&gt;</th></tr>\n",
       "</thead>\n",
       "<tbody>\n",
       "\t<tr><td>rg4</td><td>HES4    </td><td>-4.160215</td><td>RKVGSRPGVRGATGGREGRG</td><td>CGCAAGGTGGGGTCCCGGCCGGGCGTGAGGGGGGCGACCGGGGGGCGGGAGGGACGCGGG</td><td>NA</td><td>NA</td><td> 9635</td><td> 420</td><td> 46</td><td> 35</td><td>rg4</td></tr>\n",
       "\t<tr><td>rg4</td><td>MACROD1 </td><td>-3.842488</td><td>GRRARTSAGVGAWGAAAVGR</td><td>GGCCGCCGTGCGCGGACCTCGGCGGGAGTTGGGGCGTGGGGGGCGGCGGCGGTGGGGCGG</td><td>NA</td><td>NA</td><td> 8117</td><td> 441</td><td> 43</td><td> 41</td><td>rg4</td></tr>\n",
       "\t<tr><td>rg4</td><td>WDR26   </td><td>-3.646557</td><td>AGGGGGGGGGGGGGGGGGGG</td><td>GCAGGAGGAGGAGGAGGAGGTGGCGGCGGCGGCGGTGGAGGAGGAGGGGGCGGCGGGGGC</td><td>NA</td><td>NA</td><td> 8677</td><td> 540</td><td> 44</td><td> 42</td><td>rg4</td></tr>\n",
       "\t<tr><td>rg4</td><td>CAPNS1  </td><td>-3.586939</td><td>FLKGGGGGGGGGGGLGGGLG</td><td>TTCTTGAAGGGCGGCGGCGGCGGCGGCGGGGGAGGCGGGGGCCTGGGTGGGGGCCTGGGA</td><td>NA</td><td>NA</td><td> 1881</td><td> 122</td><td>  6</td><td>  6</td><td>rg4</td></tr>\n",
       "\t<tr><td>rg4</td><td>HNRNPL  </td><td>-3.449566</td><td>HGGGGGGGGGAGAAGGGGGG</td><td>CACGGAGGCGGCGGCGGTGGCGGTGGAGGAGCCGGGGCGGCGGGCGGCGGCGGCGGTGGG</td><td>NA</td><td>NA</td><td>19835</td><td>1415</td><td> 86</td><td> 75</td><td>rg4</td></tr>\n",
       "\t<tr><td>rg4</td><td>PGRMC2  </td><td>-3.333560</td><td>MLGAYRLWVRWGRRGLGAGA</td><td>CTGCTGGGGGCCTACCGGCTGTGGGTGCGCTGGGGGCGGCGGGGTCTGGGGGCCGGGGCC</td><td>NA</td><td>NA</td><td> 1979</td><td> 153</td><td> 17</td><td> 15</td><td>rg4</td></tr>\n",
       "\t<tr><td>rg4</td><td>LRRC58  </td><td>-3.241656</td><td>ETLESELEARGEERRGAREA</td><td>GAGACGCTGGAGTCTGAGCTGGAGGCGCGGGGGGAGGAGCGGCGCGGGGCGCGGGAGGCG</td><td>NA</td><td>NA</td><td>13617</td><td>1122</td><td> 66</td><td> 57</td><td>rg4</td></tr>\n",
       "\t<tr><td>rg4</td><td>C9orf40 </td><td>-3.158684</td><td>PGEELPGARLPGGGGDDGAG</td><td>CCGGGGGAGGAGCTCCCGGGCGCCCGGCTCCCGGGGGGCGGTGGCGACGACGGGGCGGGG</td><td>NA</td><td>NA</td><td>10931</td><td> 954</td><td> 83</td><td> 82</td><td>rg4</td></tr>\n",
       "\t<tr><td>rg4</td><td>VEGFA   </td><td>-2.930262</td><td>AASRGQGPEPAPGGGVEGVG</td><td>GCGGCGAGCCGCGGGCAGGGGCCGGAGCCCGCGCCCGGAGGCGGGGTGGAGGGGGTCGGG</td><td>NA</td><td>NA</td><td>25145</td><td>2571</td><td>126</td><td>116</td><td>rg4</td></tr>\n",
       "\t<tr><td>rg4</td><td>RFXAP   </td><td>-2.871300</td><td>ETHSGGEGSSGGARRRGSGG</td><td>GAGACTCACTCGGGGGGCGAGGGCAGCAGCGGGGGCGCCCGGAGGCGGGGCAGCGGTGGG</td><td>NA</td><td>NA</td><td>22711</td><td>2419</td><td>111</td><td>104</td><td>rg4</td></tr>\n",
       "\t<tr><td>rg4</td><td>NFATC2IP</td><td>-2.843991</td><td>RWSGGSGAGRGGRGGWGGRG</td><td>CGCTGGTCCGGAGGTAGCGGTGCCGGCCGAGGGGGTCGGGGCGGCTGGGGCGGTCGGGGC</td><td>NA</td><td>NA</td><td> 5288</td><td> 574</td><td> 38</td><td> 35</td><td>rg4</td></tr>\n",
       "\t<tr><td>rg4</td><td>BTBD2   </td><td>-2.829545</td><td>GTDAQAAGAERAEEAAGPGA</td><td>GGGACAGACGCGCAGGCCGCGGGCGCGGAGCGGGCGGAGGAGGCGGCGGGCCCGGGGGCG</td><td>NA</td><td>NA</td><td>13973</td><td>1532</td><td> 79</td><td> 74</td><td>rg4</td></tr>\n",
       "\t<tr><td>rg4</td><td>JMJD8   </td><td>-2.820695</td><td>GAEGDGGWRPGGPGAVAEEE</td><td>GGGGCGGAGGGCGACGGCGGGTGGCGCCCGGGCGGGCCGGGGGCCGTGGCGGAGGAGGAG</td><td>NA</td><td>NA</td><td>16462</td><td>1816</td><td> 87</td><td> 81</td><td>rg4</td></tr>\n",
       "\t<tr><td>rg4</td><td>UBA2    </td><td>-2.769842</td><td>MPRELAEAVAGGRVLVVGAG</td><td>CTGCCCCGGGAGCTGGCTGAGGCGGTGGCCGGGGGCCGGGTGCTGGTGGTGGGGGCGGGC</td><td>NA</td><td>NA</td><td> 4323</td><td> 494</td><td> 36</td><td> 35</td><td>rg4</td></tr>\n",
       "\t<tr><td>rg4</td><td>HOXA10  </td><td>-2.703962</td><td>SSGRGEAGGGGGGAGGGGGG</td><td>AGCTCGGGCAGAGGCGAGGCAGGCGGCGGTGGTGGTGGCGCGGGGGGCGGCGGCGGTGGC</td><td>NA</td><td>NA</td><td> 9372</td><td>1121</td><td> 65</td><td> 57</td><td>rg4</td></tr>\n",
       "\t<tr><td>rg4</td><td>ACBD3   </td><td>-2.631847</td><td>GASGEQPEPGEAAAGGAAEE</td><td>GGCGCCTCAGGGGAGCAGCCCGAGCCCGGGGAGGCGGCGGCTGGGGGCGCGGCGGAGGAG</td><td>NA</td><td>NA</td><td> 6060</td><td> 762</td><td> 31</td><td> 28</td><td>rg4</td></tr>\n",
       "\t<tr><td>rg4</td><td>DHX36   </td><td>-2.595155</td><td>GNRGSGGGGGGGGGGRGGRG</td><td>GGTAACCGAGGCTCCGGAGGAGGCGGCGGCGGCGGAGGGGGTGGTCGAGGCGGCAGGGGC</td><td>NA</td><td>NA</td><td>21003</td><td>2709</td><td>106</td><td> 91</td><td>rg4</td></tr>\n",
       "\t<tr><td>rg4</td><td>CHTF18  </td><td>-2.593271</td><td>GPQGPAVPSGGGRRRRAEGG</td><td>GGGCCACAGGGCCCGGCTGTGCCTTCGGGAGGCGGCCGACGGCGCCGGGCAGAGGGGGGG</td><td>NA</td><td>NA</td><td>12590</td><td>1626</td><td> 60</td><td> 64</td><td>rg4</td></tr>\n",
       "\t<tr><td>rg4</td><td>ARIH1   </td><td>-2.506187</td><td>ALGPGGGGGGGGGGGGGGPG</td><td>GCTCTGGGGCCCGGCGGTGGCGGCGGCGGCGGCGGCGGCGGTGGTGGTGGCGGGCCGGGG</td><td>NA</td><td>NA</td><td>13930</td><td>1911</td><td> 86</td><td> 69</td><td>rg4</td></tr>\n",
       "\t<tr><td>rg4</td><td>ZNF326  </td><td>-2.482749</td><td>QGVGEGGEVGVVGEVEGVGE</td><td>CAGGGAGTAGGGGAAGGAGGGGAAGTAGGGGTAGTGGGAGAAGTAGAGGGAGTGGGGGAA</td><td>NA</td><td>NA</td><td>33959</td><td>4735</td><td> 91</td><td> 93</td><td>rg4</td></tr>\n",
       "\t<tr><td>rg4</td><td>KDM1A   </td><td>-2.419142</td><td>VAAQPAGLSGPAEVGPGAVG</td><td>GTGGCCGCGCAGCCCGCGGGCCTGTCGGGCCCAGCCGAGGTCGGGCCGGGGGCGGTGGGG</td><td>NA</td><td>NA</td><td>14981</td><td>2183</td><td> 93</td><td> 90</td><td>rg4</td></tr>\n",
       "\t<tr><td>rg4</td><td>RUFY1   </td><td>-2.391790</td><td>SASCGSALRAAAGLGGGDSG</td><td>TCGGCGAGCTGCGGGAGCGCGCTGCGCGCGGCCGCGGGGCTGGGCGGCGGGGACAGCGGG</td><td>NA</td><td>NA</td><td>11252</td><td>1671</td><td> 78</td><td> 79</td><td>rg4</td></tr>\n",
       "\t<tr><td>rg4</td><td>HOXD13  </td><td>-2.389289</td><td>GTHSGRAAAAAAAAAAAAAA</td><td>GGGACGCATTCGGGGCGGGCGGCGGCGGCGGCAGCGGCGGCTGCGGCGGCGGCGGCGGCA</td><td>NA</td><td>NA</td><td>17605</td><td>2619</td><td>103</td><td> 93</td><td>rg4</td></tr>\n",
       "\t<tr><td>rg4</td><td>PPP1R35 </td><td>-2.386392</td><td>SPQPRHGSPGRRKGRAERRG</td><td>AGCCCTCAGCCGCGGCACGGCAGCCCCGGGCGGCGGAAGGGGCGGGCGGAGCGGCGGGGC</td><td>NA</td><td>NA</td><td>13028</td><td>1942</td><td>114</td><td>104</td><td>rg4</td></tr>\n",
       "\t<tr><td>rg4</td><td>ATPAF1  </td><td>-2.315622</td><td>ARGPRAEADAPEEEEEAGAA</td><td>GCGCGCGGGCCGCGGGCCGAGGCCGACGCGCCTGAGGAGGAGGAGGAGGCGGGGGCGGCC</td><td>NA</td><td>NA</td><td>12679</td><td>1985</td><td> 81</td><td> 80</td><td>rg4</td></tr>\n",
       "\t<tr><td>rg4</td><td>FOXD1   </td><td>-2.286755</td><td>PAAGAGAGGGGGGGGAGGGG</td><td>CCGGCGGCGGGGGCAGGAGCCGGTGGGGGCGGCGGCGGCGGCGGCGCGGGCGGCGGCGGG</td><td>NA</td><td>NA</td><td>10368</td><td>1656</td><td> 68</td><td> 64</td><td>rg4</td></tr>\n",
       "\t<tr><td>rg4</td><td>ADGRL1  </td><td>-2.261959</td><td>PPVPPVPGGGGEEEAGGPGG</td><td>CCCCCTGTGCCACCTGTGCCAGGGGGCGGGGGCGAGGAAGAGGCGGGCGGGCCCGGGGGT</td><td>NA</td><td>NA</td><td> 9859</td><td>1602</td><td> 74</td><td> 74</td><td>rg4</td></tr>\n",
       "\t<tr><td>rg4</td><td>PTMA    </td><td>-2.260705</td><td>EADNEVDEEEEEGGEEEEEE</td><td>GAGGCTGACAATGAGGTAGACGAAGAAGAGGAAGAAGGTGGGGAGGAAGAGGAGGAGGAA</td><td>NA</td><td>NA</td><td>20574</td><td>3346</td><td> 51</td><td> 53</td><td>rg4</td></tr>\n",
       "\t<tr><td>rg4</td><td>TARDBP  </td><td>-2.216166</td><td>NSRGGGAGLGNNQGSNMGGG</td><td>AATAGCAGAGGGGGTGGAGCTGGTTTGGGAAACAATCAAGGTAGTAATATGGGTGGTGGG</td><td>NA</td><td>NA</td><td>32713</td><td>5487</td><td>106</td><td>104</td><td>rg4</td></tr>\n",
       "\t<tr><td>rg4</td><td>CHD3    </td><td>-2.196239</td><td>HREKKEKKTKRRKKGEGDGG</td><td>CACCGAGAAAAAAAGGAGAAGAAGACAAAGCGGCGGAAAAAGGGGGAGGGAGATGGGGGG</td><td>NA</td><td>NA</td><td>16482</td><td>2803</td><td> 54</td><td> 59</td><td>rg4</td></tr>\n",
       "\t<tr><td>⋮</td><td>⋮</td><td>⋮</td><td>⋮</td><td>⋮</td><td>⋮</td><td>⋮</td><td>⋮</td><td>⋮</td><td>⋮</td><td>⋮</td><td>⋮</td></tr>\n",
       "\t<tr><td>rg4</td><td>METTL26</td><td>0.5323657</td><td>TQAQGLTNVKAPLHLDVTWG</td><td>ACGCAAGCCCAGGGCCTGACCAACGTGAAGGCCCCGCTACACCTGGACGTGACGTGGGGC</td><td>NA</td><td>NA</td><td> 7350</td><td> 8285</td><td> 86</td><td> 90</td><td>rg4</td></tr>\n",
       "\t<tr><td>rg4</td><td>CTR9   </td><td>0.5326583</td><td>RFDLALAATEARQCSDLLSQ</td><td>AGATTTGATTTGGCCCTTGCTGCTACAGAAGCCAGGCAGTGTTCTGACTTACTGAGCCAG</td><td>NA</td><td>NA</td><td> 5124</td><td> 5777</td><td> 53</td><td> 58</td><td>rg4</td></tr>\n",
       "\t<tr><td>rg4</td><td>ADRM1  </td><td>0.5743087</td><td>GSSGHELSALGGEGGLQSLL</td><td>GGAAGCAGCGGCCACGAACTCTCTGCGCTAGGCGGTGAGGGTGGCCTGCAGAGCCTGCTG</td><td>NA</td><td>NA</td><td>11579</td><td>13437</td><td>130</td><td>129</td><td>rg4</td></tr>\n",
       "\t<tr><td>rg4</td><td>CARS2  </td><td>0.5811872</td><td>RGPGLGPPLLQAALGLGRAG</td><td>CGCGGCCCAGGCCTGGGCCCCCCGCTGCTCCAGGCCGCGCTGGGCCTTGGGCGGGCTGGG</td><td>NA</td><td>NA</td><td> 3548</td><td> 4137</td><td> 72</td><td> 75</td><td>rg4</td></tr>\n",
       "\t<tr><td>rg4</td><td>VKORC1 </td><td>0.5843952</td><td>RARDRDYRALCDVGTAISCS</td><td>CGCGCCCGGGACCGGGATTACCGCGCGCTCTGCGACGTGGGCACCGCCATCAGCTGTTCG</td><td>NA</td><td>NA</td><td> 7224</td><td> 8442</td><td> 87</td><td> 99</td><td>rg4</td></tr>\n",
       "\t<tr><td>rg4</td><td>BCAT2  </td><td>0.5915012</td><td>SVTPVSLLADPAFIRAWVGG</td><td>TCCGTGACCCCGGTCTCCCTCCTGGCCGACCCAGCCTTCATCCGGGCCTGGGTGGGCGGG</td><td>NA</td><td>NA</td><td> 5838</td><td> 6856</td><td> 72</td><td> 79</td><td>rg4</td></tr>\n",
       "\t<tr><td>rg4</td><td>MYH9   </td><td>0.5959441</td><td>ELLQEENRQKLSLSTKLKQV</td><td>GAGCTGCTGCAGGAGGAGAACCGGCAGAAGCTGAGCCTGAGCACCAAGCTCAAGCAGGTG</td><td>NA</td><td>NA</td><td> 4663</td><td> 5493</td><td> 49</td><td> 51</td><td>rg4</td></tr>\n",
       "\t<tr><td>rg4</td><td>SERF2  </td><td>0.6066467</td><td>NPSSFVASCPTLLPFACVPG</td><td>AACCCAAGTAGCTTTGTGGCTTCGTGTCCAACCCTCTTGCCCTTCGCCTGTGTGCCTGGA</td><td>NA</td><td>NA</td><td> 5895</td><td> 6996</td><td> 74</td><td> 85</td><td>rg4</td></tr>\n",
       "\t<tr><td>rg4</td><td>MRPL53 </td><td>0.6300570</td><td>MEMLTAFASHIRARDAAGSG</td><td>CTGGAAATGCTCACCGCCTTCGCCTCCCACATCCGGGCCAGGGACGCGGCGGGCAGCGGG</td><td>NA</td><td>NA</td><td> 7828</td><td> 9442</td><td> 94</td><td>103</td><td>rg4</td></tr>\n",
       "\t<tr><td>rg4</td><td>UPF3B  </td><td>0.6361379</td><td>TPAGATGSGGGTSGDSSKGE</td><td>ACCCCCGCCGGGGCCACAGGCAGCGGTGGTGGGACCTCGGGGGACAGCTCCAAGGGGGAA</td><td>NA</td><td>NA</td><td> 4203</td><td> 5091</td><td> 55</td><td> 54</td><td>rg4</td></tr>\n",
       "\t<tr><td>rg4</td><td>RPL10L </td><td>0.6582666</td><td>GAFGKPQGTVARVHIGQVIM</td><td>GGTGCCTTTGGAAAACCCCAGGGTACTGTAGCCCGGGTCCACATTGGTCAAGTCATCATG</td><td>NA</td><td>NA</td><td> 3200</td><td> 3936</td><td> 37</td><td> 40</td><td>rg4</td></tr>\n",
       "\t<tr><td>rg4</td><td>FBRS   </td><td>0.6934475</td><td>FTAAPGAHGPFLSPSTHIDP</td><td>TTCACGGCAGCTCCCGGGGCCCACGGACCCTTCCTGAGCCCCAGCACCCACATTGATCCC</td><td>NA</td><td>NA</td><td> 5235</td><td> 6598</td><td> 90</td><td> 95</td><td>rg4</td></tr>\n",
       "\t<tr><td>rg4</td><td>LONP1  </td><td>0.7059188</td><td>GAALTGAESHELQDVLEETN</td><td>GGCGCCGCGCTCACCGGGGCCGAGTCCCATGAGCTGCAGGACGTCCTGGAAGAGACCAAT</td><td>NA</td><td>NA</td><td> 3708</td><td> 4714</td><td> 46</td><td> 48</td><td>rg4</td></tr>\n",
       "\t<tr><td>rg4</td><td>VARS1  </td><td>0.7076567</td><td>DAFPSLRALIAARYGEAGEG</td><td>GATGCCTTCCCCAGCCTCCGAGCCCTCATAGCCGCTCGCTATGGGGAGGCTGGGGAGGGT</td><td>NA</td><td>NA</td><td> 6590</td><td> 8388</td><td> 79</td><td> 85</td><td>rg4</td></tr>\n",
       "\t<tr><td>rg4</td><td>TLE4   </td><td>0.7464226</td><td>RVPAIPPNLTGIPGGKPAYS</td><td>CGTGTGCCAGCAATACCTCCAAACCTGACAGGCATTCCAGGAGGAAAACCAGCATACTCC</td><td>NA</td><td>NA</td><td> 4065</td><td> 5315</td><td> 55</td><td> 66</td><td>rg4</td></tr>\n",
       "\t<tr><td>rg4</td><td>MVB12A </td><td>0.7588956</td><td>SCSPLAFSAFGDLTIKSLAD</td><td>AGCTGCAGCCCCCTGGCCTTCTCTGCTTTTGGGGACCTGACCATCAAGTCTCTGGCGGAC</td><td>NA</td><td>NA</td><td> 6470</td><td> 8533</td><td> 79</td><td> 85</td><td>rg4</td></tr>\n",
       "\t<tr><td>rg4</td><td>GTPBP6 </td><td>0.8136795</td><td>AAAPSCPARALAAVGRRSPG</td><td>GCAGCCGCGCCGTCCTGCCCCGCGCGCGCGCTAGCCGCTGTCGGCCGCAGGAGCCCCGGG</td><td>NA</td><td>NA</td><td> 7648</td><td>10477</td><td>113</td><td>118</td><td>rg4</td></tr>\n",
       "\t<tr><td>rg4</td><td>TOP3B  </td><td>0.8141437</td><td>AKSPLPGDETQHMGCVFCDP</td><td>GCCAAGTCCCCACTCCCGGGCGATGAGACGCAGCACATGGGCTGCGTCTTTTGTGACCCC</td><td>NA</td><td>NA</td><td> 8962</td><td>12281</td><td>115</td><td>125</td><td>rg4</td></tr>\n",
       "\t<tr><td>rg4</td><td>DAPK3  </td><td>0.8360025</td><td>EMRFVQDLVRALEQEKLQGV</td><td>GAGATGCGCTTCGTGCAGGACCTCGTGCGCGCCCTGGAGCAGGAGAAGCTGCAGGGCGTG</td><td>NA</td><td>NA</td><td> 6180</td><td> 8598</td><td> 99</td><td>108</td><td>rg4</td></tr>\n",
       "\t<tr><td>rg4</td><td>ISCA2  </td><td>0.9526124</td><td>SGFQYKFSLDTVINPDDRVF</td><td>TCCGGATTCCAATACAAATTTTCACTGGATACAGTTATCAACCCCGACGACAGGGTATTT</td><td>NA</td><td>NA</td><td> 6202</td><td> 9355</td><td> 66</td><td> 68</td><td>rg4</td></tr>\n",
       "\t<tr><td>rg4</td><td>WRNIP1 </td><td>0.9891778</td><td>RLIPDFPVARSSSPGRKGSG</td><td>CGCCTTATCCCCGACTTCCCGGTGGCCCGCTCCAGCAGCCCCGGGAGGAAGGGGTCGGGG</td><td>NA</td><td>NA</td><td> 1985</td><td> 3071</td><td> 25</td><td> 32</td><td>rg4</td></tr>\n",
       "\t<tr><td>rg4</td><td>GORASP1</td><td>0.9945013</td><td>LPPGPTPEDSPSLETGSRQS</td><td>CTACCACCTGGACCCACCCCCGAGGACTCTCCTTCCCTGGAGACAGGTTCCAGGCAGAGT</td><td>NA</td><td>NA</td><td> 7440</td><td>11553</td><td>112</td><td>124</td><td>rg4</td></tr>\n",
       "\t<tr><td>rg4</td><td>RUSF1  </td><td>1.0144270</td><td>MPYQLWDSVQAFASSLSGSL</td><td>TTGCCCTACCAGCTGTGGGATTCCGTGCAGGCGTTTGCTTCCAGCCTCTCCGGCTCCCTA</td><td>NA</td><td>NA</td><td> 5113</td><td> 8050</td><td> 81</td><td> 92</td><td>rg4</td></tr>\n",
       "\t<tr><td>rg4</td><td>MOB2   </td><td>1.0257814</td><td>REFNLLDPKETAIMDDLTEV</td><td>CGGGAGTTCAACCTGCTGGACCCCAAAGAGACCGCCATCATGGACGACCTCACCGAGGTG</td><td>NA</td><td>NA</td><td> 5083</td><td> 8066</td><td> 74</td><td> 83</td><td>rg4</td></tr>\n",
       "\t<tr><td>rg4</td><td>SLC35B2</td><td>1.2165727</td><td>IMTLRQAFAILLSCLLYGHT</td><td>ATCATGACCCTCCGCCAGGCCTTTGCCATCCTTCTTTCCTGCCTTCTCTATGGCCACACT</td><td>NA</td><td>NA</td><td> 8714</td><td>15783</td><td>116</td><td>132</td><td>rg4</td></tr>\n",
       "\t<tr><td>rg4</td><td>NUP54  </td><td>1.3500060</td><td>GAPSGTSGTAAATAAPAGGF</td><td>GGGGCTCCCTCGGGCACCTCCGGTACCGCTGCAGCCACCGCGGCCCCCGCGGGTGGGTTT</td><td>NA</td><td>NA</td><td> 5050</td><td>10033</td><td> 93</td><td>100</td><td>rg4</td></tr>\n",
       "\t<tr><td>rg4</td><td>AGAP3  </td><td>1.4230889</td><td>SLHSERPLSSSAWAGPRPEG</td><td>TCCCTGCACTCTGAGCGCCCCCTCAGCAGCTCGGCCTGGGCTGGCCCGCGCCCTGAGGGG</td><td>NA</td><td>NA</td><td> 4635</td><td> 9687</td><td> 91</td><td> 99</td><td>rg4</td></tr>\n",
       "\t<tr><td>rg4</td><td>ZNF703 </td><td>1.6686091</td><td>ASSSSSSPGGSRGGSPHHSD</td><td>GCATCCTCGTCCTCGTCGTCGCCCGGCGGCTCCCGCGGCGGCTCCCCGCACCACTCTGAC</td><td>NA</td><td>NA</td><td> 6188</td><td>15332</td><td>127</td><td>147</td><td>rg4</td></tr>\n",
       "\t<tr><td>rg4</td><td>ZNF282 </td><td>2.1957772</td><td>HSGGPGPGAPRQLPPPPERD</td><td>CACAGCGGCGGCCCGGGCCCCGGCGCCCCACGGCAGCTCCCGCCGCCTCCTGAGCGAGAC</td><td>NA</td><td>NA</td><td> 4341</td><td>15500</td><td>125</td><td>143</td><td>rg4</td></tr>\n",
       "\t<tr><td>rg4</td><td>DCAF7  </td><td>2.2435485</td><td>VSGHVKTQLIAHDKEVYDIA</td><td>GTGTCTGGCCACGTGAAGACCCAGCTGATCGCCCATGACAAAGAGGTCTATGATATTGCA</td><td>NA</td><td>NA</td><td> 1187</td><td> 4381</td><td> 38</td><td> 42</td><td>rg4</td></tr>\n",
       "</tbody>\n",
       "</table>\n"
      ],
      "text/latex": [
       "A tibble: 489 × 12\n",
       "\\begin{tabular}{llllllllllll}\n",
       " motif\\_source & gene\\_name & lfc & aa & seq & transcript\\_id & loc & count\\_grna & count\\_mrna & n\\_barcodes\\_grna & n\\_barcodes\\_mrna & rg4\\\\\n",
       " <chr> & <chr> & <dbl> & <chr> & <chr> & <chr> & <dbl> & <dbl> & <dbl> & <int> & <int> & <chr>\\\\\n",
       "\\hline\n",
       "\t rg4 & HES4     & -4.160215 & RKVGSRPGVRGATGGREGRG & CGCAAGGTGGGGTCCCGGCCGGGCGTGAGGGGGGCGACCGGGGGGCGGGAGGGACGCGGG & NA & NA &  9635 &  420 &  46 &  35 & rg4\\\\\n",
       "\t rg4 & MACROD1  & -3.842488 & GRRARTSAGVGAWGAAAVGR & GGCCGCCGTGCGCGGACCTCGGCGGGAGTTGGGGCGTGGGGGGCGGCGGCGGTGGGGCGG & NA & NA &  8117 &  441 &  43 &  41 & rg4\\\\\n",
       "\t rg4 & WDR26    & -3.646557 & AGGGGGGGGGGGGGGGGGGG & GCAGGAGGAGGAGGAGGAGGTGGCGGCGGCGGCGGTGGAGGAGGAGGGGGCGGCGGGGGC & NA & NA &  8677 &  540 &  44 &  42 & rg4\\\\\n",
       "\t rg4 & CAPNS1   & -3.586939 & FLKGGGGGGGGGGGLGGGLG & TTCTTGAAGGGCGGCGGCGGCGGCGGCGGGGGAGGCGGGGGCCTGGGTGGGGGCCTGGGA & NA & NA &  1881 &  122 &   6 &   6 & rg4\\\\\n",
       "\t rg4 & HNRNPL   & -3.449566 & HGGGGGGGGGAGAAGGGGGG & CACGGAGGCGGCGGCGGTGGCGGTGGAGGAGCCGGGGCGGCGGGCGGCGGCGGCGGTGGG & NA & NA & 19835 & 1415 &  86 &  75 & rg4\\\\\n",
       "\t rg4 & PGRMC2   & -3.333560 & MLGAYRLWVRWGRRGLGAGA & CTGCTGGGGGCCTACCGGCTGTGGGTGCGCTGGGGGCGGCGGGGTCTGGGGGCCGGGGCC & NA & NA &  1979 &  153 &  17 &  15 & rg4\\\\\n",
       "\t rg4 & LRRC58   & -3.241656 & ETLESELEARGEERRGAREA & GAGACGCTGGAGTCTGAGCTGGAGGCGCGGGGGGAGGAGCGGCGCGGGGCGCGGGAGGCG & NA & NA & 13617 & 1122 &  66 &  57 & rg4\\\\\n",
       "\t rg4 & C9orf40  & -3.158684 & PGEELPGARLPGGGGDDGAG & CCGGGGGAGGAGCTCCCGGGCGCCCGGCTCCCGGGGGGCGGTGGCGACGACGGGGCGGGG & NA & NA & 10931 &  954 &  83 &  82 & rg4\\\\\n",
       "\t rg4 & VEGFA    & -2.930262 & AASRGQGPEPAPGGGVEGVG & GCGGCGAGCCGCGGGCAGGGGCCGGAGCCCGCGCCCGGAGGCGGGGTGGAGGGGGTCGGG & NA & NA & 25145 & 2571 & 126 & 116 & rg4\\\\\n",
       "\t rg4 & RFXAP    & -2.871300 & ETHSGGEGSSGGARRRGSGG & GAGACTCACTCGGGGGGCGAGGGCAGCAGCGGGGGCGCCCGGAGGCGGGGCAGCGGTGGG & NA & NA & 22711 & 2419 & 111 & 104 & rg4\\\\\n",
       "\t rg4 & NFATC2IP & -2.843991 & RWSGGSGAGRGGRGGWGGRG & CGCTGGTCCGGAGGTAGCGGTGCCGGCCGAGGGGGTCGGGGCGGCTGGGGCGGTCGGGGC & NA & NA &  5288 &  574 &  38 &  35 & rg4\\\\\n",
       "\t rg4 & BTBD2    & -2.829545 & GTDAQAAGAERAEEAAGPGA & GGGACAGACGCGCAGGCCGCGGGCGCGGAGCGGGCGGAGGAGGCGGCGGGCCCGGGGGCG & NA & NA & 13973 & 1532 &  79 &  74 & rg4\\\\\n",
       "\t rg4 & JMJD8    & -2.820695 & GAEGDGGWRPGGPGAVAEEE & GGGGCGGAGGGCGACGGCGGGTGGCGCCCGGGCGGGCCGGGGGCCGTGGCGGAGGAGGAG & NA & NA & 16462 & 1816 &  87 &  81 & rg4\\\\\n",
       "\t rg4 & UBA2     & -2.769842 & MPRELAEAVAGGRVLVVGAG & CTGCCCCGGGAGCTGGCTGAGGCGGTGGCCGGGGGCCGGGTGCTGGTGGTGGGGGCGGGC & NA & NA &  4323 &  494 &  36 &  35 & rg4\\\\\n",
       "\t rg4 & HOXA10   & -2.703962 & SSGRGEAGGGGGGAGGGGGG & AGCTCGGGCAGAGGCGAGGCAGGCGGCGGTGGTGGTGGCGCGGGGGGCGGCGGCGGTGGC & NA & NA &  9372 & 1121 &  65 &  57 & rg4\\\\\n",
       "\t rg4 & ACBD3    & -2.631847 & GASGEQPEPGEAAAGGAAEE & GGCGCCTCAGGGGAGCAGCCCGAGCCCGGGGAGGCGGCGGCTGGGGGCGCGGCGGAGGAG & NA & NA &  6060 &  762 &  31 &  28 & rg4\\\\\n",
       "\t rg4 & DHX36    & -2.595155 & GNRGSGGGGGGGGGGRGGRG & GGTAACCGAGGCTCCGGAGGAGGCGGCGGCGGCGGAGGGGGTGGTCGAGGCGGCAGGGGC & NA & NA & 21003 & 2709 & 106 &  91 & rg4\\\\\n",
       "\t rg4 & CHTF18   & -2.593271 & GPQGPAVPSGGGRRRRAEGG & GGGCCACAGGGCCCGGCTGTGCCTTCGGGAGGCGGCCGACGGCGCCGGGCAGAGGGGGGG & NA & NA & 12590 & 1626 &  60 &  64 & rg4\\\\\n",
       "\t rg4 & ARIH1    & -2.506187 & ALGPGGGGGGGGGGGGGGPG & GCTCTGGGGCCCGGCGGTGGCGGCGGCGGCGGCGGCGGCGGTGGTGGTGGCGGGCCGGGG & NA & NA & 13930 & 1911 &  86 &  69 & rg4\\\\\n",
       "\t rg4 & ZNF326   & -2.482749 & QGVGEGGEVGVVGEVEGVGE & CAGGGAGTAGGGGAAGGAGGGGAAGTAGGGGTAGTGGGAGAAGTAGAGGGAGTGGGGGAA & NA & NA & 33959 & 4735 &  91 &  93 & rg4\\\\\n",
       "\t rg4 & KDM1A    & -2.419142 & VAAQPAGLSGPAEVGPGAVG & GTGGCCGCGCAGCCCGCGGGCCTGTCGGGCCCAGCCGAGGTCGGGCCGGGGGCGGTGGGG & NA & NA & 14981 & 2183 &  93 &  90 & rg4\\\\\n",
       "\t rg4 & RUFY1    & -2.391790 & SASCGSALRAAAGLGGGDSG & TCGGCGAGCTGCGGGAGCGCGCTGCGCGCGGCCGCGGGGCTGGGCGGCGGGGACAGCGGG & NA & NA & 11252 & 1671 &  78 &  79 & rg4\\\\\n",
       "\t rg4 & HOXD13   & -2.389289 & GTHSGRAAAAAAAAAAAAAA & GGGACGCATTCGGGGCGGGCGGCGGCGGCGGCAGCGGCGGCTGCGGCGGCGGCGGCGGCA & NA & NA & 17605 & 2619 & 103 &  93 & rg4\\\\\n",
       "\t rg4 & PPP1R35  & -2.386392 & SPQPRHGSPGRRKGRAERRG & AGCCCTCAGCCGCGGCACGGCAGCCCCGGGCGGCGGAAGGGGCGGGCGGAGCGGCGGGGC & NA & NA & 13028 & 1942 & 114 & 104 & rg4\\\\\n",
       "\t rg4 & ATPAF1   & -2.315622 & ARGPRAEADAPEEEEEAGAA & GCGCGCGGGCCGCGGGCCGAGGCCGACGCGCCTGAGGAGGAGGAGGAGGCGGGGGCGGCC & NA & NA & 12679 & 1985 &  81 &  80 & rg4\\\\\n",
       "\t rg4 & FOXD1    & -2.286755 & PAAGAGAGGGGGGGGAGGGG & CCGGCGGCGGGGGCAGGAGCCGGTGGGGGCGGCGGCGGCGGCGGCGCGGGCGGCGGCGGG & NA & NA & 10368 & 1656 &  68 &  64 & rg4\\\\\n",
       "\t rg4 & ADGRL1   & -2.261959 & PPVPPVPGGGGEEEAGGPGG & CCCCCTGTGCCACCTGTGCCAGGGGGCGGGGGCGAGGAAGAGGCGGGCGGGCCCGGGGGT & NA & NA &  9859 & 1602 &  74 &  74 & rg4\\\\\n",
       "\t rg4 & PTMA     & -2.260705 & EADNEVDEEEEEGGEEEEEE & GAGGCTGACAATGAGGTAGACGAAGAAGAGGAAGAAGGTGGGGAGGAAGAGGAGGAGGAA & NA & NA & 20574 & 3346 &  51 &  53 & rg4\\\\\n",
       "\t rg4 & TARDBP   & -2.216166 & NSRGGGAGLGNNQGSNMGGG & AATAGCAGAGGGGGTGGAGCTGGTTTGGGAAACAATCAAGGTAGTAATATGGGTGGTGGG & NA & NA & 32713 & 5487 & 106 & 104 & rg4\\\\\n",
       "\t rg4 & CHD3     & -2.196239 & HREKKEKKTKRRKKGEGDGG & CACCGAGAAAAAAAGGAGAAGAAGACAAAGCGGCGGAAAAAGGGGGAGGGAGATGGGGGG & NA & NA & 16482 & 2803 &  54 &  59 & rg4\\\\\n",
       "\t ⋮ & ⋮ & ⋮ & ⋮ & ⋮ & ⋮ & ⋮ & ⋮ & ⋮ & ⋮ & ⋮ & ⋮\\\\\n",
       "\t rg4 & METTL26 & 0.5323657 & TQAQGLTNVKAPLHLDVTWG & ACGCAAGCCCAGGGCCTGACCAACGTGAAGGCCCCGCTACACCTGGACGTGACGTGGGGC & NA & NA &  7350 &  8285 &  86 &  90 & rg4\\\\\n",
       "\t rg4 & CTR9    & 0.5326583 & RFDLALAATEARQCSDLLSQ & AGATTTGATTTGGCCCTTGCTGCTACAGAAGCCAGGCAGTGTTCTGACTTACTGAGCCAG & NA & NA &  5124 &  5777 &  53 &  58 & rg4\\\\\n",
       "\t rg4 & ADRM1   & 0.5743087 & GSSGHELSALGGEGGLQSLL & GGAAGCAGCGGCCACGAACTCTCTGCGCTAGGCGGTGAGGGTGGCCTGCAGAGCCTGCTG & NA & NA & 11579 & 13437 & 130 & 129 & rg4\\\\\n",
       "\t rg4 & CARS2   & 0.5811872 & RGPGLGPPLLQAALGLGRAG & CGCGGCCCAGGCCTGGGCCCCCCGCTGCTCCAGGCCGCGCTGGGCCTTGGGCGGGCTGGG & NA & NA &  3548 &  4137 &  72 &  75 & rg4\\\\\n",
       "\t rg4 & VKORC1  & 0.5843952 & RARDRDYRALCDVGTAISCS & CGCGCCCGGGACCGGGATTACCGCGCGCTCTGCGACGTGGGCACCGCCATCAGCTGTTCG & NA & NA &  7224 &  8442 &  87 &  99 & rg4\\\\\n",
       "\t rg4 & BCAT2   & 0.5915012 & SVTPVSLLADPAFIRAWVGG & TCCGTGACCCCGGTCTCCCTCCTGGCCGACCCAGCCTTCATCCGGGCCTGGGTGGGCGGG & NA & NA &  5838 &  6856 &  72 &  79 & rg4\\\\\n",
       "\t rg4 & MYH9    & 0.5959441 & ELLQEENRQKLSLSTKLKQV & GAGCTGCTGCAGGAGGAGAACCGGCAGAAGCTGAGCCTGAGCACCAAGCTCAAGCAGGTG & NA & NA &  4663 &  5493 &  49 &  51 & rg4\\\\\n",
       "\t rg4 & SERF2   & 0.6066467 & NPSSFVASCPTLLPFACVPG & AACCCAAGTAGCTTTGTGGCTTCGTGTCCAACCCTCTTGCCCTTCGCCTGTGTGCCTGGA & NA & NA &  5895 &  6996 &  74 &  85 & rg4\\\\\n",
       "\t rg4 & MRPL53  & 0.6300570 & MEMLTAFASHIRARDAAGSG & CTGGAAATGCTCACCGCCTTCGCCTCCCACATCCGGGCCAGGGACGCGGCGGGCAGCGGG & NA & NA &  7828 &  9442 &  94 & 103 & rg4\\\\\n",
       "\t rg4 & UPF3B   & 0.6361379 & TPAGATGSGGGTSGDSSKGE & ACCCCCGCCGGGGCCACAGGCAGCGGTGGTGGGACCTCGGGGGACAGCTCCAAGGGGGAA & NA & NA &  4203 &  5091 &  55 &  54 & rg4\\\\\n",
       "\t rg4 & RPL10L  & 0.6582666 & GAFGKPQGTVARVHIGQVIM & GGTGCCTTTGGAAAACCCCAGGGTACTGTAGCCCGGGTCCACATTGGTCAAGTCATCATG & NA & NA &  3200 &  3936 &  37 &  40 & rg4\\\\\n",
       "\t rg4 & FBRS    & 0.6934475 & FTAAPGAHGPFLSPSTHIDP & TTCACGGCAGCTCCCGGGGCCCACGGACCCTTCCTGAGCCCCAGCACCCACATTGATCCC & NA & NA &  5235 &  6598 &  90 &  95 & rg4\\\\\n",
       "\t rg4 & LONP1   & 0.7059188 & GAALTGAESHELQDVLEETN & GGCGCCGCGCTCACCGGGGCCGAGTCCCATGAGCTGCAGGACGTCCTGGAAGAGACCAAT & NA & NA &  3708 &  4714 &  46 &  48 & rg4\\\\\n",
       "\t rg4 & VARS1   & 0.7076567 & DAFPSLRALIAARYGEAGEG & GATGCCTTCCCCAGCCTCCGAGCCCTCATAGCCGCTCGCTATGGGGAGGCTGGGGAGGGT & NA & NA &  6590 &  8388 &  79 &  85 & rg4\\\\\n",
       "\t rg4 & TLE4    & 0.7464226 & RVPAIPPNLTGIPGGKPAYS & CGTGTGCCAGCAATACCTCCAAACCTGACAGGCATTCCAGGAGGAAAACCAGCATACTCC & NA & NA &  4065 &  5315 &  55 &  66 & rg4\\\\\n",
       "\t rg4 & MVB12A  & 0.7588956 & SCSPLAFSAFGDLTIKSLAD & AGCTGCAGCCCCCTGGCCTTCTCTGCTTTTGGGGACCTGACCATCAAGTCTCTGGCGGAC & NA & NA &  6470 &  8533 &  79 &  85 & rg4\\\\\n",
       "\t rg4 & GTPBP6  & 0.8136795 & AAAPSCPARALAAVGRRSPG & GCAGCCGCGCCGTCCTGCCCCGCGCGCGCGCTAGCCGCTGTCGGCCGCAGGAGCCCCGGG & NA & NA &  7648 & 10477 & 113 & 118 & rg4\\\\\n",
       "\t rg4 & TOP3B   & 0.8141437 & AKSPLPGDETQHMGCVFCDP & GCCAAGTCCCCACTCCCGGGCGATGAGACGCAGCACATGGGCTGCGTCTTTTGTGACCCC & NA & NA &  8962 & 12281 & 115 & 125 & rg4\\\\\n",
       "\t rg4 & DAPK3   & 0.8360025 & EMRFVQDLVRALEQEKLQGV & GAGATGCGCTTCGTGCAGGACCTCGTGCGCGCCCTGGAGCAGGAGAAGCTGCAGGGCGTG & NA & NA &  6180 &  8598 &  99 & 108 & rg4\\\\\n",
       "\t rg4 & ISCA2   & 0.9526124 & SGFQYKFSLDTVINPDDRVF & TCCGGATTCCAATACAAATTTTCACTGGATACAGTTATCAACCCCGACGACAGGGTATTT & NA & NA &  6202 &  9355 &  66 &  68 & rg4\\\\\n",
       "\t rg4 & WRNIP1  & 0.9891778 & RLIPDFPVARSSSPGRKGSG & CGCCTTATCCCCGACTTCCCGGTGGCCCGCTCCAGCAGCCCCGGGAGGAAGGGGTCGGGG & NA & NA &  1985 &  3071 &  25 &  32 & rg4\\\\\n",
       "\t rg4 & GORASP1 & 0.9945013 & LPPGPTPEDSPSLETGSRQS & CTACCACCTGGACCCACCCCCGAGGACTCTCCTTCCCTGGAGACAGGTTCCAGGCAGAGT & NA & NA &  7440 & 11553 & 112 & 124 & rg4\\\\\n",
       "\t rg4 & RUSF1   & 1.0144270 & MPYQLWDSVQAFASSLSGSL & TTGCCCTACCAGCTGTGGGATTCCGTGCAGGCGTTTGCTTCCAGCCTCTCCGGCTCCCTA & NA & NA &  5113 &  8050 &  81 &  92 & rg4\\\\\n",
       "\t rg4 & MOB2    & 1.0257814 & REFNLLDPKETAIMDDLTEV & CGGGAGTTCAACCTGCTGGACCCCAAAGAGACCGCCATCATGGACGACCTCACCGAGGTG & NA & NA &  5083 &  8066 &  74 &  83 & rg4\\\\\n",
       "\t rg4 & SLC35B2 & 1.2165727 & IMTLRQAFAILLSCLLYGHT & ATCATGACCCTCCGCCAGGCCTTTGCCATCCTTCTTTCCTGCCTTCTCTATGGCCACACT & NA & NA &  8714 & 15783 & 116 & 132 & rg4\\\\\n",
       "\t rg4 & NUP54   & 1.3500060 & GAPSGTSGTAAATAAPAGGF & GGGGCTCCCTCGGGCACCTCCGGTACCGCTGCAGCCACCGCGGCCCCCGCGGGTGGGTTT & NA & NA &  5050 & 10033 &  93 & 100 & rg4\\\\\n",
       "\t rg4 & AGAP3   & 1.4230889 & SLHSERPLSSSAWAGPRPEG & TCCCTGCACTCTGAGCGCCCCCTCAGCAGCTCGGCCTGGGCTGGCCCGCGCCCTGAGGGG & NA & NA &  4635 &  9687 &  91 &  99 & rg4\\\\\n",
       "\t rg4 & ZNF703  & 1.6686091 & ASSSSSSPGGSRGGSPHHSD & GCATCCTCGTCCTCGTCGTCGCCCGGCGGCTCCCGCGGCGGCTCCCCGCACCACTCTGAC & NA & NA &  6188 & 15332 & 127 & 147 & rg4\\\\\n",
       "\t rg4 & ZNF282  & 2.1957772 & HSGGPGPGAPRQLPPPPERD & CACAGCGGCGGCCCGGGCCCCGGCGCCCCACGGCAGCTCCCGCCGCCTCCTGAGCGAGAC & NA & NA &  4341 & 15500 & 125 & 143 & rg4\\\\\n",
       "\t rg4 & DCAF7   & 2.2435485 & VSGHVKTQLIAHDKEVYDIA & GTGTCTGGCCACGTGAAGACCCAGCTGATCGCCCATGACAAAGAGGTCTATGATATTGCA & NA & NA &  1187 &  4381 &  38 &  42 & rg4\\\\\n",
       "\\end{tabular}\n"
      ],
      "text/markdown": [
       "\n",
       "A tibble: 489 × 12\n",
       "\n",
       "| motif_source &lt;chr&gt; | gene_name &lt;chr&gt; | lfc &lt;dbl&gt; | aa &lt;chr&gt; | seq &lt;chr&gt; | transcript_id &lt;chr&gt; | loc &lt;dbl&gt; | count_grna &lt;dbl&gt; | count_mrna &lt;dbl&gt; | n_barcodes_grna &lt;int&gt; | n_barcodes_mrna &lt;int&gt; | rg4 &lt;chr&gt; |\n",
       "|---|---|---|---|---|---|---|---|---|---|---|---|\n",
       "| rg4 | HES4     | -4.160215 | RKVGSRPGVRGATGGREGRG | CGCAAGGTGGGGTCCCGGCCGGGCGTGAGGGGGGCGACCGGGGGGCGGGAGGGACGCGGG | NA | NA |  9635 |  420 |  46 |  35 | rg4 |\n",
       "| rg4 | MACROD1  | -3.842488 | GRRARTSAGVGAWGAAAVGR | GGCCGCCGTGCGCGGACCTCGGCGGGAGTTGGGGCGTGGGGGGCGGCGGCGGTGGGGCGG | NA | NA |  8117 |  441 |  43 |  41 | rg4 |\n",
       "| rg4 | WDR26    | -3.646557 | AGGGGGGGGGGGGGGGGGGG | GCAGGAGGAGGAGGAGGAGGTGGCGGCGGCGGCGGTGGAGGAGGAGGGGGCGGCGGGGGC | NA | NA |  8677 |  540 |  44 |  42 | rg4 |\n",
       "| rg4 | CAPNS1   | -3.586939 | FLKGGGGGGGGGGGLGGGLG | TTCTTGAAGGGCGGCGGCGGCGGCGGCGGGGGAGGCGGGGGCCTGGGTGGGGGCCTGGGA | NA | NA |  1881 |  122 |   6 |   6 | rg4 |\n",
       "| rg4 | HNRNPL   | -3.449566 | HGGGGGGGGGAGAAGGGGGG | CACGGAGGCGGCGGCGGTGGCGGTGGAGGAGCCGGGGCGGCGGGCGGCGGCGGCGGTGGG | NA | NA | 19835 | 1415 |  86 |  75 | rg4 |\n",
       "| rg4 | PGRMC2   | -3.333560 | MLGAYRLWVRWGRRGLGAGA | CTGCTGGGGGCCTACCGGCTGTGGGTGCGCTGGGGGCGGCGGGGTCTGGGGGCCGGGGCC | NA | NA |  1979 |  153 |  17 |  15 | rg4 |\n",
       "| rg4 | LRRC58   | -3.241656 | ETLESELEARGEERRGAREA | GAGACGCTGGAGTCTGAGCTGGAGGCGCGGGGGGAGGAGCGGCGCGGGGCGCGGGAGGCG | NA | NA | 13617 | 1122 |  66 |  57 | rg4 |\n",
       "| rg4 | C9orf40  | -3.158684 | PGEELPGARLPGGGGDDGAG | CCGGGGGAGGAGCTCCCGGGCGCCCGGCTCCCGGGGGGCGGTGGCGACGACGGGGCGGGG | NA | NA | 10931 |  954 |  83 |  82 | rg4 |\n",
       "| rg4 | VEGFA    | -2.930262 | AASRGQGPEPAPGGGVEGVG | GCGGCGAGCCGCGGGCAGGGGCCGGAGCCCGCGCCCGGAGGCGGGGTGGAGGGGGTCGGG | NA | NA | 25145 | 2571 | 126 | 116 | rg4 |\n",
       "| rg4 | RFXAP    | -2.871300 | ETHSGGEGSSGGARRRGSGG | GAGACTCACTCGGGGGGCGAGGGCAGCAGCGGGGGCGCCCGGAGGCGGGGCAGCGGTGGG | NA | NA | 22711 | 2419 | 111 | 104 | rg4 |\n",
       "| rg4 | NFATC2IP | -2.843991 | RWSGGSGAGRGGRGGWGGRG | CGCTGGTCCGGAGGTAGCGGTGCCGGCCGAGGGGGTCGGGGCGGCTGGGGCGGTCGGGGC | NA | NA |  5288 |  574 |  38 |  35 | rg4 |\n",
       "| rg4 | BTBD2    | -2.829545 | GTDAQAAGAERAEEAAGPGA | GGGACAGACGCGCAGGCCGCGGGCGCGGAGCGGGCGGAGGAGGCGGCGGGCCCGGGGGCG | NA | NA | 13973 | 1532 |  79 |  74 | rg4 |\n",
       "| rg4 | JMJD8    | -2.820695 | GAEGDGGWRPGGPGAVAEEE | GGGGCGGAGGGCGACGGCGGGTGGCGCCCGGGCGGGCCGGGGGCCGTGGCGGAGGAGGAG | NA | NA | 16462 | 1816 |  87 |  81 | rg4 |\n",
       "| rg4 | UBA2     | -2.769842 | MPRELAEAVAGGRVLVVGAG | CTGCCCCGGGAGCTGGCTGAGGCGGTGGCCGGGGGCCGGGTGCTGGTGGTGGGGGCGGGC | NA | NA |  4323 |  494 |  36 |  35 | rg4 |\n",
       "| rg4 | HOXA10   | -2.703962 | SSGRGEAGGGGGGAGGGGGG | AGCTCGGGCAGAGGCGAGGCAGGCGGCGGTGGTGGTGGCGCGGGGGGCGGCGGCGGTGGC | NA | NA |  9372 | 1121 |  65 |  57 | rg4 |\n",
       "| rg4 | ACBD3    | -2.631847 | GASGEQPEPGEAAAGGAAEE | GGCGCCTCAGGGGAGCAGCCCGAGCCCGGGGAGGCGGCGGCTGGGGGCGCGGCGGAGGAG | NA | NA |  6060 |  762 |  31 |  28 | rg4 |\n",
       "| rg4 | DHX36    | -2.595155 | GNRGSGGGGGGGGGGRGGRG | GGTAACCGAGGCTCCGGAGGAGGCGGCGGCGGCGGAGGGGGTGGTCGAGGCGGCAGGGGC | NA | NA | 21003 | 2709 | 106 |  91 | rg4 |\n",
       "| rg4 | CHTF18   | -2.593271 | GPQGPAVPSGGGRRRRAEGG | GGGCCACAGGGCCCGGCTGTGCCTTCGGGAGGCGGCCGACGGCGCCGGGCAGAGGGGGGG | NA | NA | 12590 | 1626 |  60 |  64 | rg4 |\n",
       "| rg4 | ARIH1    | -2.506187 | ALGPGGGGGGGGGGGGGGPG | GCTCTGGGGCCCGGCGGTGGCGGCGGCGGCGGCGGCGGCGGTGGTGGTGGCGGGCCGGGG | NA | NA | 13930 | 1911 |  86 |  69 | rg4 |\n",
       "| rg4 | ZNF326   | -2.482749 | QGVGEGGEVGVVGEVEGVGE | CAGGGAGTAGGGGAAGGAGGGGAAGTAGGGGTAGTGGGAGAAGTAGAGGGAGTGGGGGAA | NA | NA | 33959 | 4735 |  91 |  93 | rg4 |\n",
       "| rg4 | KDM1A    | -2.419142 | VAAQPAGLSGPAEVGPGAVG | GTGGCCGCGCAGCCCGCGGGCCTGTCGGGCCCAGCCGAGGTCGGGCCGGGGGCGGTGGGG | NA | NA | 14981 | 2183 |  93 |  90 | rg4 |\n",
       "| rg4 | RUFY1    | -2.391790 | SASCGSALRAAAGLGGGDSG | TCGGCGAGCTGCGGGAGCGCGCTGCGCGCGGCCGCGGGGCTGGGCGGCGGGGACAGCGGG | NA | NA | 11252 | 1671 |  78 |  79 | rg4 |\n",
       "| rg4 | HOXD13   | -2.389289 | GTHSGRAAAAAAAAAAAAAA | GGGACGCATTCGGGGCGGGCGGCGGCGGCGGCAGCGGCGGCTGCGGCGGCGGCGGCGGCA | NA | NA | 17605 | 2619 | 103 |  93 | rg4 |\n",
       "| rg4 | PPP1R35  | -2.386392 | SPQPRHGSPGRRKGRAERRG | AGCCCTCAGCCGCGGCACGGCAGCCCCGGGCGGCGGAAGGGGCGGGCGGAGCGGCGGGGC | NA | NA | 13028 | 1942 | 114 | 104 | rg4 |\n",
       "| rg4 | ATPAF1   | -2.315622 | ARGPRAEADAPEEEEEAGAA | GCGCGCGGGCCGCGGGCCGAGGCCGACGCGCCTGAGGAGGAGGAGGAGGCGGGGGCGGCC | NA | NA | 12679 | 1985 |  81 |  80 | rg4 |\n",
       "| rg4 | FOXD1    | -2.286755 | PAAGAGAGGGGGGGGAGGGG | CCGGCGGCGGGGGCAGGAGCCGGTGGGGGCGGCGGCGGCGGCGGCGCGGGCGGCGGCGGG | NA | NA | 10368 | 1656 |  68 |  64 | rg4 |\n",
       "| rg4 | ADGRL1   | -2.261959 | PPVPPVPGGGGEEEAGGPGG | CCCCCTGTGCCACCTGTGCCAGGGGGCGGGGGCGAGGAAGAGGCGGGCGGGCCCGGGGGT | NA | NA |  9859 | 1602 |  74 |  74 | rg4 |\n",
       "| rg4 | PTMA     | -2.260705 | EADNEVDEEEEEGGEEEEEE | GAGGCTGACAATGAGGTAGACGAAGAAGAGGAAGAAGGTGGGGAGGAAGAGGAGGAGGAA | NA | NA | 20574 | 3346 |  51 |  53 | rg4 |\n",
       "| rg4 | TARDBP   | -2.216166 | NSRGGGAGLGNNQGSNMGGG | AATAGCAGAGGGGGTGGAGCTGGTTTGGGAAACAATCAAGGTAGTAATATGGGTGGTGGG | NA | NA | 32713 | 5487 | 106 | 104 | rg4 |\n",
       "| rg4 | CHD3     | -2.196239 | HREKKEKKTKRRKKGEGDGG | CACCGAGAAAAAAAGGAGAAGAAGACAAAGCGGCGGAAAAAGGGGGAGGGAGATGGGGGG | NA | NA | 16482 | 2803 |  54 |  59 | rg4 |\n",
       "| ⋮ | ⋮ | ⋮ | ⋮ | ⋮ | ⋮ | ⋮ | ⋮ | ⋮ | ⋮ | ⋮ | ⋮ |\n",
       "| rg4 | METTL26 | 0.5323657 | TQAQGLTNVKAPLHLDVTWG | ACGCAAGCCCAGGGCCTGACCAACGTGAAGGCCCCGCTACACCTGGACGTGACGTGGGGC | NA | NA |  7350 |  8285 |  86 |  90 | rg4 |\n",
       "| rg4 | CTR9    | 0.5326583 | RFDLALAATEARQCSDLLSQ | AGATTTGATTTGGCCCTTGCTGCTACAGAAGCCAGGCAGTGTTCTGACTTACTGAGCCAG | NA | NA |  5124 |  5777 |  53 |  58 | rg4 |\n",
       "| rg4 | ADRM1   | 0.5743087 | GSSGHELSALGGEGGLQSLL | GGAAGCAGCGGCCACGAACTCTCTGCGCTAGGCGGTGAGGGTGGCCTGCAGAGCCTGCTG | NA | NA | 11579 | 13437 | 130 | 129 | rg4 |\n",
       "| rg4 | CARS2   | 0.5811872 | RGPGLGPPLLQAALGLGRAG | CGCGGCCCAGGCCTGGGCCCCCCGCTGCTCCAGGCCGCGCTGGGCCTTGGGCGGGCTGGG | NA | NA |  3548 |  4137 |  72 |  75 | rg4 |\n",
       "| rg4 | VKORC1  | 0.5843952 | RARDRDYRALCDVGTAISCS | CGCGCCCGGGACCGGGATTACCGCGCGCTCTGCGACGTGGGCACCGCCATCAGCTGTTCG | NA | NA |  7224 |  8442 |  87 |  99 | rg4 |\n",
       "| rg4 | BCAT2   | 0.5915012 | SVTPVSLLADPAFIRAWVGG | TCCGTGACCCCGGTCTCCCTCCTGGCCGACCCAGCCTTCATCCGGGCCTGGGTGGGCGGG | NA | NA |  5838 |  6856 |  72 |  79 | rg4 |\n",
       "| rg4 | MYH9    | 0.5959441 | ELLQEENRQKLSLSTKLKQV | GAGCTGCTGCAGGAGGAGAACCGGCAGAAGCTGAGCCTGAGCACCAAGCTCAAGCAGGTG | NA | NA |  4663 |  5493 |  49 |  51 | rg4 |\n",
       "| rg4 | SERF2   | 0.6066467 | NPSSFVASCPTLLPFACVPG | AACCCAAGTAGCTTTGTGGCTTCGTGTCCAACCCTCTTGCCCTTCGCCTGTGTGCCTGGA | NA | NA |  5895 |  6996 |  74 |  85 | rg4 |\n",
       "| rg4 | MRPL53  | 0.6300570 | MEMLTAFASHIRARDAAGSG | CTGGAAATGCTCACCGCCTTCGCCTCCCACATCCGGGCCAGGGACGCGGCGGGCAGCGGG | NA | NA |  7828 |  9442 |  94 | 103 | rg4 |\n",
       "| rg4 | UPF3B   | 0.6361379 | TPAGATGSGGGTSGDSSKGE | ACCCCCGCCGGGGCCACAGGCAGCGGTGGTGGGACCTCGGGGGACAGCTCCAAGGGGGAA | NA | NA |  4203 |  5091 |  55 |  54 | rg4 |\n",
       "| rg4 | RPL10L  | 0.6582666 | GAFGKPQGTVARVHIGQVIM | GGTGCCTTTGGAAAACCCCAGGGTACTGTAGCCCGGGTCCACATTGGTCAAGTCATCATG | NA | NA |  3200 |  3936 |  37 |  40 | rg4 |\n",
       "| rg4 | FBRS    | 0.6934475 | FTAAPGAHGPFLSPSTHIDP | TTCACGGCAGCTCCCGGGGCCCACGGACCCTTCCTGAGCCCCAGCACCCACATTGATCCC | NA | NA |  5235 |  6598 |  90 |  95 | rg4 |\n",
       "| rg4 | LONP1   | 0.7059188 | GAALTGAESHELQDVLEETN | GGCGCCGCGCTCACCGGGGCCGAGTCCCATGAGCTGCAGGACGTCCTGGAAGAGACCAAT | NA | NA |  3708 |  4714 |  46 |  48 | rg4 |\n",
       "| rg4 | VARS1   | 0.7076567 | DAFPSLRALIAARYGEAGEG | GATGCCTTCCCCAGCCTCCGAGCCCTCATAGCCGCTCGCTATGGGGAGGCTGGGGAGGGT | NA | NA |  6590 |  8388 |  79 |  85 | rg4 |\n",
       "| rg4 | TLE4    | 0.7464226 | RVPAIPPNLTGIPGGKPAYS | CGTGTGCCAGCAATACCTCCAAACCTGACAGGCATTCCAGGAGGAAAACCAGCATACTCC | NA | NA |  4065 |  5315 |  55 |  66 | rg4 |\n",
       "| rg4 | MVB12A  | 0.7588956 | SCSPLAFSAFGDLTIKSLAD | AGCTGCAGCCCCCTGGCCTTCTCTGCTTTTGGGGACCTGACCATCAAGTCTCTGGCGGAC | NA | NA |  6470 |  8533 |  79 |  85 | rg4 |\n",
       "| rg4 | GTPBP6  | 0.8136795 | AAAPSCPARALAAVGRRSPG | GCAGCCGCGCCGTCCTGCCCCGCGCGCGCGCTAGCCGCTGTCGGCCGCAGGAGCCCCGGG | NA | NA |  7648 | 10477 | 113 | 118 | rg4 |\n",
       "| rg4 | TOP3B   | 0.8141437 | AKSPLPGDETQHMGCVFCDP | GCCAAGTCCCCACTCCCGGGCGATGAGACGCAGCACATGGGCTGCGTCTTTTGTGACCCC | NA | NA |  8962 | 12281 | 115 | 125 | rg4 |\n",
       "| rg4 | DAPK3   | 0.8360025 | EMRFVQDLVRALEQEKLQGV | GAGATGCGCTTCGTGCAGGACCTCGTGCGCGCCCTGGAGCAGGAGAAGCTGCAGGGCGTG | NA | NA |  6180 |  8598 |  99 | 108 | rg4 |\n",
       "| rg4 | ISCA2   | 0.9526124 | SGFQYKFSLDTVINPDDRVF | TCCGGATTCCAATACAAATTTTCACTGGATACAGTTATCAACCCCGACGACAGGGTATTT | NA | NA |  6202 |  9355 |  66 |  68 | rg4 |\n",
       "| rg4 | WRNIP1  | 0.9891778 | RLIPDFPVARSSSPGRKGSG | CGCCTTATCCCCGACTTCCCGGTGGCCCGCTCCAGCAGCCCCGGGAGGAAGGGGTCGGGG | NA | NA |  1985 |  3071 |  25 |  32 | rg4 |\n",
       "| rg4 | GORASP1 | 0.9945013 | LPPGPTPEDSPSLETGSRQS | CTACCACCTGGACCCACCCCCGAGGACTCTCCTTCCCTGGAGACAGGTTCCAGGCAGAGT | NA | NA |  7440 | 11553 | 112 | 124 | rg4 |\n",
       "| rg4 | RUSF1   | 1.0144270 | MPYQLWDSVQAFASSLSGSL | TTGCCCTACCAGCTGTGGGATTCCGTGCAGGCGTTTGCTTCCAGCCTCTCCGGCTCCCTA | NA | NA |  5113 |  8050 |  81 |  92 | rg4 |\n",
       "| rg4 | MOB2    | 1.0257814 | REFNLLDPKETAIMDDLTEV | CGGGAGTTCAACCTGCTGGACCCCAAAGAGACCGCCATCATGGACGACCTCACCGAGGTG | NA | NA |  5083 |  8066 |  74 |  83 | rg4 |\n",
       "| rg4 | SLC35B2 | 1.2165727 | IMTLRQAFAILLSCLLYGHT | ATCATGACCCTCCGCCAGGCCTTTGCCATCCTTCTTTCCTGCCTTCTCTATGGCCACACT | NA | NA |  8714 | 15783 | 116 | 132 | rg4 |\n",
       "| rg4 | NUP54   | 1.3500060 | GAPSGTSGTAAATAAPAGGF | GGGGCTCCCTCGGGCACCTCCGGTACCGCTGCAGCCACCGCGGCCCCCGCGGGTGGGTTT | NA | NA |  5050 | 10033 |  93 | 100 | rg4 |\n",
       "| rg4 | AGAP3   | 1.4230889 | SLHSERPLSSSAWAGPRPEG | TCCCTGCACTCTGAGCGCCCCCTCAGCAGCTCGGCCTGGGCTGGCCCGCGCCCTGAGGGG | NA | NA |  4635 |  9687 |  91 |  99 | rg4 |\n",
       "| rg4 | ZNF703  | 1.6686091 | ASSSSSSPGGSRGGSPHHSD | GCATCCTCGTCCTCGTCGTCGCCCGGCGGCTCCCGCGGCGGCTCCCCGCACCACTCTGAC | NA | NA |  6188 | 15332 | 127 | 147 | rg4 |\n",
       "| rg4 | ZNF282  | 2.1957772 | HSGGPGPGAPRQLPPPPERD | CACAGCGGCGGCCCGGGCCCCGGCGCCCCACGGCAGCTCCCGCCGCCTCCTGAGCGAGAC | NA | NA |  4341 | 15500 | 125 | 143 | rg4 |\n",
       "| rg4 | DCAF7   | 2.2435485 | VSGHVKTQLIAHDKEVYDIA | GTGTCTGGCCACGTGAAGACCCAGCTGATCGCCCATGACAAAGAGGTCTATGATATTGCA | NA | NA |  1187 |  4381 |  38 |  42 | rg4 |\n",
       "\n"
      ],
      "text/plain": [
       "    motif_source gene_name lfc       aa                  \n",
       "1   rg4          HES4      -4.160215 RKVGSRPGVRGATGGREGRG\n",
       "2   rg4          MACROD1   -3.842488 GRRARTSAGVGAWGAAAVGR\n",
       "3   rg4          WDR26     -3.646557 AGGGGGGGGGGGGGGGGGGG\n",
       "4   rg4          CAPNS1    -3.586939 FLKGGGGGGGGGGGLGGGLG\n",
       "5   rg4          HNRNPL    -3.449566 HGGGGGGGGGAGAAGGGGGG\n",
       "6   rg4          PGRMC2    -3.333560 MLGAYRLWVRWGRRGLGAGA\n",
       "7   rg4          LRRC58    -3.241656 ETLESELEARGEERRGAREA\n",
       "8   rg4          C9orf40   -3.158684 PGEELPGARLPGGGGDDGAG\n",
       "9   rg4          VEGFA     -2.930262 AASRGQGPEPAPGGGVEGVG\n",
       "10  rg4          RFXAP     -2.871300 ETHSGGEGSSGGARRRGSGG\n",
       "11  rg4          NFATC2IP  -2.843991 RWSGGSGAGRGGRGGWGGRG\n",
       "12  rg4          BTBD2     -2.829545 GTDAQAAGAERAEEAAGPGA\n",
       "13  rg4          JMJD8     -2.820695 GAEGDGGWRPGGPGAVAEEE\n",
       "14  rg4          UBA2      -2.769842 MPRELAEAVAGGRVLVVGAG\n",
       "15  rg4          HOXA10    -2.703962 SSGRGEAGGGGGGAGGGGGG\n",
       "16  rg4          ACBD3     -2.631847 GASGEQPEPGEAAAGGAAEE\n",
       "17  rg4          DHX36     -2.595155 GNRGSGGGGGGGGGGRGGRG\n",
       "18  rg4          CHTF18    -2.593271 GPQGPAVPSGGGRRRRAEGG\n",
       "19  rg4          ARIH1     -2.506187 ALGPGGGGGGGGGGGGGGPG\n",
       "20  rg4          ZNF326    -2.482749 QGVGEGGEVGVVGEVEGVGE\n",
       "21  rg4          KDM1A     -2.419142 VAAQPAGLSGPAEVGPGAVG\n",
       "22  rg4          RUFY1     -2.391790 SASCGSALRAAAGLGGGDSG\n",
       "23  rg4          HOXD13    -2.389289 GTHSGRAAAAAAAAAAAAAA\n",
       "24  rg4          PPP1R35   -2.386392 SPQPRHGSPGRRKGRAERRG\n",
       "25  rg4          ATPAF1    -2.315622 ARGPRAEADAPEEEEEAGAA\n",
       "26  rg4          FOXD1     -2.286755 PAAGAGAGGGGGGGGAGGGG\n",
       "27  rg4          ADGRL1    -2.261959 PPVPPVPGGGGEEEAGGPGG\n",
       "28  rg4          PTMA      -2.260705 EADNEVDEEEEEGGEEEEEE\n",
       "29  rg4          TARDBP    -2.216166 NSRGGGAGLGNNQGSNMGGG\n",
       "30  rg4          CHD3      -2.196239 HREKKEKKTKRRKKGEGDGG\n",
       "⋮   ⋮            ⋮         ⋮         ⋮                   \n",
       "460 rg4          METTL26   0.5323657 TQAQGLTNVKAPLHLDVTWG\n",
       "461 rg4          CTR9      0.5326583 RFDLALAATEARQCSDLLSQ\n",
       "462 rg4          ADRM1     0.5743087 GSSGHELSALGGEGGLQSLL\n",
       "463 rg4          CARS2     0.5811872 RGPGLGPPLLQAALGLGRAG\n",
       "464 rg4          VKORC1    0.5843952 RARDRDYRALCDVGTAISCS\n",
       "465 rg4          BCAT2     0.5915012 SVTPVSLLADPAFIRAWVGG\n",
       "466 rg4          MYH9      0.5959441 ELLQEENRQKLSLSTKLKQV\n",
       "467 rg4          SERF2     0.6066467 NPSSFVASCPTLLPFACVPG\n",
       "468 rg4          MRPL53    0.6300570 MEMLTAFASHIRARDAAGSG\n",
       "469 rg4          UPF3B     0.6361379 TPAGATGSGGGTSGDSSKGE\n",
       "470 rg4          RPL10L    0.6582666 GAFGKPQGTVARVHIGQVIM\n",
       "471 rg4          FBRS      0.6934475 FTAAPGAHGPFLSPSTHIDP\n",
       "472 rg4          LONP1     0.7059188 GAALTGAESHELQDVLEETN\n",
       "473 rg4          VARS1     0.7076567 DAFPSLRALIAARYGEAGEG\n",
       "474 rg4          TLE4      0.7464226 RVPAIPPNLTGIPGGKPAYS\n",
       "475 rg4          MVB12A    0.7588956 SCSPLAFSAFGDLTIKSLAD\n",
       "476 rg4          GTPBP6    0.8136795 AAAPSCPARALAAVGRRSPG\n",
       "477 rg4          TOP3B     0.8141437 AKSPLPGDETQHMGCVFCDP\n",
       "478 rg4          DAPK3     0.8360025 EMRFVQDLVRALEQEKLQGV\n",
       "479 rg4          ISCA2     0.9526124 SGFQYKFSLDTVINPDDRVF\n",
       "480 rg4          WRNIP1    0.9891778 RLIPDFPVARSSSPGRKGSG\n",
       "481 rg4          GORASP1   0.9945013 LPPGPTPEDSPSLETGSRQS\n",
       "482 rg4          RUSF1     1.0144270 MPYQLWDSVQAFASSLSGSL\n",
       "483 rg4          MOB2      1.0257814 REFNLLDPKETAIMDDLTEV\n",
       "484 rg4          SLC35B2   1.2165727 IMTLRQAFAILLSCLLYGHT\n",
       "485 rg4          NUP54     1.3500060 GAPSGTSGTAAATAAPAGGF\n",
       "486 rg4          AGAP3     1.4230889 SLHSERPLSSSAWAGPRPEG\n",
       "487 rg4          ZNF703    1.6686091 ASSSSSSPGGSRGGSPHHSD\n",
       "488 rg4          ZNF282    2.1957772 HSGGPGPGAPRQLPPPPERD\n",
       "489 rg4          DCAF7     2.2435485 VSGHVKTQLIAHDKEVYDIA\n",
       "    seq                                                          transcript_id\n",
       "1   CGCAAGGTGGGGTCCCGGCCGGGCGTGAGGGGGGCGACCGGGGGGCGGGAGGGACGCGGG NA           \n",
       "2   GGCCGCCGTGCGCGGACCTCGGCGGGAGTTGGGGCGTGGGGGGCGGCGGCGGTGGGGCGG NA           \n",
       "3   GCAGGAGGAGGAGGAGGAGGTGGCGGCGGCGGCGGTGGAGGAGGAGGGGGCGGCGGGGGC NA           \n",
       "4   TTCTTGAAGGGCGGCGGCGGCGGCGGCGGGGGAGGCGGGGGCCTGGGTGGGGGCCTGGGA NA           \n",
       "5   CACGGAGGCGGCGGCGGTGGCGGTGGAGGAGCCGGGGCGGCGGGCGGCGGCGGCGGTGGG NA           \n",
       "6   CTGCTGGGGGCCTACCGGCTGTGGGTGCGCTGGGGGCGGCGGGGTCTGGGGGCCGGGGCC NA           \n",
       "7   GAGACGCTGGAGTCTGAGCTGGAGGCGCGGGGGGAGGAGCGGCGCGGGGCGCGGGAGGCG NA           \n",
       "8   CCGGGGGAGGAGCTCCCGGGCGCCCGGCTCCCGGGGGGCGGTGGCGACGACGGGGCGGGG NA           \n",
       "9   GCGGCGAGCCGCGGGCAGGGGCCGGAGCCCGCGCCCGGAGGCGGGGTGGAGGGGGTCGGG NA           \n",
       "10  GAGACTCACTCGGGGGGCGAGGGCAGCAGCGGGGGCGCCCGGAGGCGGGGCAGCGGTGGG NA           \n",
       "11  CGCTGGTCCGGAGGTAGCGGTGCCGGCCGAGGGGGTCGGGGCGGCTGGGGCGGTCGGGGC NA           \n",
       "12  GGGACAGACGCGCAGGCCGCGGGCGCGGAGCGGGCGGAGGAGGCGGCGGGCCCGGGGGCG NA           \n",
       "13  GGGGCGGAGGGCGACGGCGGGTGGCGCCCGGGCGGGCCGGGGGCCGTGGCGGAGGAGGAG NA           \n",
       "14  CTGCCCCGGGAGCTGGCTGAGGCGGTGGCCGGGGGCCGGGTGCTGGTGGTGGGGGCGGGC NA           \n",
       "15  AGCTCGGGCAGAGGCGAGGCAGGCGGCGGTGGTGGTGGCGCGGGGGGCGGCGGCGGTGGC NA           \n",
       "16  GGCGCCTCAGGGGAGCAGCCCGAGCCCGGGGAGGCGGCGGCTGGGGGCGCGGCGGAGGAG NA           \n",
       "17  GGTAACCGAGGCTCCGGAGGAGGCGGCGGCGGCGGAGGGGGTGGTCGAGGCGGCAGGGGC NA           \n",
       "18  GGGCCACAGGGCCCGGCTGTGCCTTCGGGAGGCGGCCGACGGCGCCGGGCAGAGGGGGGG NA           \n",
       "19  GCTCTGGGGCCCGGCGGTGGCGGCGGCGGCGGCGGCGGCGGTGGTGGTGGCGGGCCGGGG NA           \n",
       "20  CAGGGAGTAGGGGAAGGAGGGGAAGTAGGGGTAGTGGGAGAAGTAGAGGGAGTGGGGGAA NA           \n",
       "21  GTGGCCGCGCAGCCCGCGGGCCTGTCGGGCCCAGCCGAGGTCGGGCCGGGGGCGGTGGGG NA           \n",
       "22  TCGGCGAGCTGCGGGAGCGCGCTGCGCGCGGCCGCGGGGCTGGGCGGCGGGGACAGCGGG NA           \n",
       "23  GGGACGCATTCGGGGCGGGCGGCGGCGGCGGCAGCGGCGGCTGCGGCGGCGGCGGCGGCA NA           \n",
       "24  AGCCCTCAGCCGCGGCACGGCAGCCCCGGGCGGCGGAAGGGGCGGGCGGAGCGGCGGGGC NA           \n",
       "25  GCGCGCGGGCCGCGGGCCGAGGCCGACGCGCCTGAGGAGGAGGAGGAGGCGGGGGCGGCC NA           \n",
       "26  CCGGCGGCGGGGGCAGGAGCCGGTGGGGGCGGCGGCGGCGGCGGCGCGGGCGGCGGCGGG NA           \n",
       "27  CCCCCTGTGCCACCTGTGCCAGGGGGCGGGGGCGAGGAAGAGGCGGGCGGGCCCGGGGGT NA           \n",
       "28  GAGGCTGACAATGAGGTAGACGAAGAAGAGGAAGAAGGTGGGGAGGAAGAGGAGGAGGAA NA           \n",
       "29  AATAGCAGAGGGGGTGGAGCTGGTTTGGGAAACAATCAAGGTAGTAATATGGGTGGTGGG NA           \n",
       "30  CACCGAGAAAAAAAGGAGAAGAAGACAAAGCGGCGGAAAAAGGGGGAGGGAGATGGGGGG NA           \n",
       "⋮   ⋮                                                            ⋮            \n",
       "460 ACGCAAGCCCAGGGCCTGACCAACGTGAAGGCCCCGCTACACCTGGACGTGACGTGGGGC NA           \n",
       "461 AGATTTGATTTGGCCCTTGCTGCTACAGAAGCCAGGCAGTGTTCTGACTTACTGAGCCAG NA           \n",
       "462 GGAAGCAGCGGCCACGAACTCTCTGCGCTAGGCGGTGAGGGTGGCCTGCAGAGCCTGCTG NA           \n",
       "463 CGCGGCCCAGGCCTGGGCCCCCCGCTGCTCCAGGCCGCGCTGGGCCTTGGGCGGGCTGGG NA           \n",
       "464 CGCGCCCGGGACCGGGATTACCGCGCGCTCTGCGACGTGGGCACCGCCATCAGCTGTTCG NA           \n",
       "465 TCCGTGACCCCGGTCTCCCTCCTGGCCGACCCAGCCTTCATCCGGGCCTGGGTGGGCGGG NA           \n",
       "466 GAGCTGCTGCAGGAGGAGAACCGGCAGAAGCTGAGCCTGAGCACCAAGCTCAAGCAGGTG NA           \n",
       "467 AACCCAAGTAGCTTTGTGGCTTCGTGTCCAACCCTCTTGCCCTTCGCCTGTGTGCCTGGA NA           \n",
       "468 CTGGAAATGCTCACCGCCTTCGCCTCCCACATCCGGGCCAGGGACGCGGCGGGCAGCGGG NA           \n",
       "469 ACCCCCGCCGGGGCCACAGGCAGCGGTGGTGGGACCTCGGGGGACAGCTCCAAGGGGGAA NA           \n",
       "470 GGTGCCTTTGGAAAACCCCAGGGTACTGTAGCCCGGGTCCACATTGGTCAAGTCATCATG NA           \n",
       "471 TTCACGGCAGCTCCCGGGGCCCACGGACCCTTCCTGAGCCCCAGCACCCACATTGATCCC NA           \n",
       "472 GGCGCCGCGCTCACCGGGGCCGAGTCCCATGAGCTGCAGGACGTCCTGGAAGAGACCAAT NA           \n",
       "473 GATGCCTTCCCCAGCCTCCGAGCCCTCATAGCCGCTCGCTATGGGGAGGCTGGGGAGGGT NA           \n",
       "474 CGTGTGCCAGCAATACCTCCAAACCTGACAGGCATTCCAGGAGGAAAACCAGCATACTCC NA           \n",
       "475 AGCTGCAGCCCCCTGGCCTTCTCTGCTTTTGGGGACCTGACCATCAAGTCTCTGGCGGAC NA           \n",
       "476 GCAGCCGCGCCGTCCTGCCCCGCGCGCGCGCTAGCCGCTGTCGGCCGCAGGAGCCCCGGG NA           \n",
       "477 GCCAAGTCCCCACTCCCGGGCGATGAGACGCAGCACATGGGCTGCGTCTTTTGTGACCCC NA           \n",
       "478 GAGATGCGCTTCGTGCAGGACCTCGTGCGCGCCCTGGAGCAGGAGAAGCTGCAGGGCGTG NA           \n",
       "479 TCCGGATTCCAATACAAATTTTCACTGGATACAGTTATCAACCCCGACGACAGGGTATTT NA           \n",
       "480 CGCCTTATCCCCGACTTCCCGGTGGCCCGCTCCAGCAGCCCCGGGAGGAAGGGGTCGGGG NA           \n",
       "481 CTACCACCTGGACCCACCCCCGAGGACTCTCCTTCCCTGGAGACAGGTTCCAGGCAGAGT NA           \n",
       "482 TTGCCCTACCAGCTGTGGGATTCCGTGCAGGCGTTTGCTTCCAGCCTCTCCGGCTCCCTA NA           \n",
       "483 CGGGAGTTCAACCTGCTGGACCCCAAAGAGACCGCCATCATGGACGACCTCACCGAGGTG NA           \n",
       "484 ATCATGACCCTCCGCCAGGCCTTTGCCATCCTTCTTTCCTGCCTTCTCTATGGCCACACT NA           \n",
       "485 GGGGCTCCCTCGGGCACCTCCGGTACCGCTGCAGCCACCGCGGCCCCCGCGGGTGGGTTT NA           \n",
       "486 TCCCTGCACTCTGAGCGCCCCCTCAGCAGCTCGGCCTGGGCTGGCCCGCGCCCTGAGGGG NA           \n",
       "487 GCATCCTCGTCCTCGTCGTCGCCCGGCGGCTCCCGCGGCGGCTCCCCGCACCACTCTGAC NA           \n",
       "488 CACAGCGGCGGCCCGGGCCCCGGCGCCCCACGGCAGCTCCCGCCGCCTCCTGAGCGAGAC NA           \n",
       "489 GTGTCTGGCCACGTGAAGACCCAGCTGATCGCCCATGACAAAGAGGTCTATGATATTGCA NA           \n",
       "    loc count_grna count_mrna n_barcodes_grna n_barcodes_mrna rg4\n",
       "1   NA   9635       420        46              35             rg4\n",
       "2   NA   8117       441        43              41             rg4\n",
       "3   NA   8677       540        44              42             rg4\n",
       "4   NA   1881       122         6               6             rg4\n",
       "5   NA  19835      1415        86              75             rg4\n",
       "6   NA   1979       153        17              15             rg4\n",
       "7   NA  13617      1122        66              57             rg4\n",
       "8   NA  10931       954        83              82             rg4\n",
       "9   NA  25145      2571       126             116             rg4\n",
       "10  NA  22711      2419       111             104             rg4\n",
       "11  NA   5288       574        38              35             rg4\n",
       "12  NA  13973      1532        79              74             rg4\n",
       "13  NA  16462      1816        87              81             rg4\n",
       "14  NA   4323       494        36              35             rg4\n",
       "15  NA   9372      1121        65              57             rg4\n",
       "16  NA   6060       762        31              28             rg4\n",
       "17  NA  21003      2709       106              91             rg4\n",
       "18  NA  12590      1626        60              64             rg4\n",
       "19  NA  13930      1911        86              69             rg4\n",
       "20  NA  33959      4735        91              93             rg4\n",
       "21  NA  14981      2183        93              90             rg4\n",
       "22  NA  11252      1671        78              79             rg4\n",
       "23  NA  17605      2619       103              93             rg4\n",
       "24  NA  13028      1942       114             104             rg4\n",
       "25  NA  12679      1985        81              80             rg4\n",
       "26  NA  10368      1656        68              64             rg4\n",
       "27  NA   9859      1602        74              74             rg4\n",
       "28  NA  20574      3346        51              53             rg4\n",
       "29  NA  32713      5487       106             104             rg4\n",
       "30  NA  16482      2803        54              59             rg4\n",
       "⋮   ⋮   ⋮          ⋮          ⋮               ⋮               ⋮  \n",
       "460 NA   7350       8285       86              90             rg4\n",
       "461 NA   5124       5777       53              58             rg4\n",
       "462 NA  11579      13437      130             129             rg4\n",
       "463 NA   3548       4137       72              75             rg4\n",
       "464 NA   7224       8442       87              99             rg4\n",
       "465 NA   5838       6856       72              79             rg4\n",
       "466 NA   4663       5493       49              51             rg4\n",
       "467 NA   5895       6996       74              85             rg4\n",
       "468 NA   7828       9442       94             103             rg4\n",
       "469 NA   4203       5091       55              54             rg4\n",
       "470 NA   3200       3936       37              40             rg4\n",
       "471 NA   5235       6598       90              95             rg4\n",
       "472 NA   3708       4714       46              48             rg4\n",
       "473 NA   6590       8388       79              85             rg4\n",
       "474 NA   4065       5315       55              66             rg4\n",
       "475 NA   6470       8533       79              85             rg4\n",
       "476 NA   7648      10477      113             118             rg4\n",
       "477 NA   8962      12281      115             125             rg4\n",
       "478 NA   6180       8598       99             108             rg4\n",
       "479 NA   6202       9355       66              68             rg4\n",
       "480 NA   1985       3071       25              32             rg4\n",
       "481 NA   7440      11553      112             124             rg4\n",
       "482 NA   5113       8050       81              92             rg4\n",
       "483 NA   5083       8066       74              83             rg4\n",
       "484 NA   8714      15783      116             132             rg4\n",
       "485 NA   5050      10033       93             100             rg4\n",
       "486 NA   4635       9687       91              99             rg4\n",
       "487 NA   6188      15332      127             147             rg4\n",
       "488 NA   4341      15500      125             143             rg4\n",
       "489 NA   1187       4381       38              42             rg4"
      ]
     },
     "metadata": {},
     "output_type": "display_data"
    }
   ],
   "source": [
    "rg4_lfc %>% \n",
    "  filter(rg4 == \"rg4\") %>% \n",
    "  select(-motif_type, -mutant_type, -strength)"
   ]
  },
  {
   "cell_type": "markdown",
   "metadata": {},
   "source": [
    "## Effect of Uniprot-annotated Beta stranded motifs\n",
    "\n",
    "NOTE: We currently don't have code added to generate these uniprot structure tables. Added tables manually for now. We can go back and add the analysis code to generate these later. "
   ]
  },
  {
   "cell_type": "markdown",
   "metadata": {},
   "source": [
    "### Look at effects of motifs with both predicted strands and stalls\n",
    "\n",
    "- Look at destabilizing RAB12 case study further below. Has a RG stalling motif right at the turn.\n",
    "- ITGB1BP1 has an abnormally long β-strand of 14 amino acids. Destabiliziing as well. Suitable for illustration. Has lot of aromatics.\n",
    "- EFHC2 has an abnormally long β-strand of 14 amino acids. Destabilizing as well. Suitable for illustration. Has lot of aromatics.\n",
    "- RPGRIP1L has a 11 amino acid β-strand but the structure is truncated after this. Destabilzing. Maybe suitable for illustration.\n",
    "- SYK also has a MKKV sequence at the turn between the strands\n",
    "- SSRP1 is interesting because it is destabilizing, stranded, rescued by KnextV and also has high ribosome density in Han 2020."
   ]
  },
  {
   "cell_type": "code",
   "execution_count": 48,
   "metadata": {
    "vscode": {
     "languageId": "r"
    }
   },
   "outputs": [
    {
     "name": "stderr",
     "output_type": "stream",
     "text": [
      "\u001b[1mRows: \u001b[22m\u001b[34m157\u001b[39m \u001b[1mColumns: \u001b[22m\u001b[34m8\u001b[39m\n",
      "\u001b[36m──\u001b[39m \u001b[1mColumn specification\u001b[22m \u001b[36m────────────────────────────────────────────────────────\u001b[39m\n",
      "\u001b[1mDelimiter:\u001b[22m \"\\t\"\n",
      "\u001b[31mchr\u001b[39m (2): gene_name, aa\n",
      "\u001b[32mdbl\u001b[39m (6): loc_12k, stall_score, strand_score, stall_strand_product, lv_distan...\n",
      "\n",
      "\u001b[36mℹ\u001b[39m Use `spec()` to retrieve the full column specification for this data.\n",
      "\u001b[36mℹ\u001b[39m Specify the column types or set `show_col_types = FALSE` to quiet this message.\n"
     ]
    },
    {
     "name": "stdout",
     "output_type": "stream",
     "text": [
      "\u001b[90m# A tibble: 157 × 8\u001b[39m\n",
      "   gene_name loc_12k stall_score strand_score stall_strand_pr… aa    lv_distance\n",
      "   \u001b[3m\u001b[90m<chr>\u001b[39m\u001b[23m       \u001b[3m\u001b[90m<dbl>\u001b[39m\u001b[23m       \u001b[3m\u001b[90m<dbl>\u001b[39m\u001b[23m        \u001b[3m\u001b[90m<dbl>\u001b[39m\u001b[23m            \u001b[3m\u001b[90m<dbl>\u001b[39m\u001b[23m \u001b[3m\u001b[90m<chr>\u001b[39m\u001b[23m       \u001b[3m\u001b[90m<dbl>\u001b[39m\u001b[23m\n",
      "\u001b[90m 1\u001b[39m ARID4A        305          13           16              208 AFCE…           4\n",
      "\u001b[90m 2\u001b[39m LGALS2        446          12           15              180 SPGS…           4\n",
      "\u001b[90m 3\u001b[39m CYP17A1      \u001b[4m1\u001b[24m513          16           11              176 LEGI…           4\n",
      "\u001b[90m 4\u001b[39m CRBN          509          11           16              176 GIEI…           4\n",
      "\u001b[90m 5\u001b[39m ARRDC3        372          11           16              176 VTGE…           4\n",
      "\u001b[90m 6\u001b[39m VPS26A        493          12           14              168 SYIG…           4\n",
      "\u001b[90m 7\u001b[39m MAJIN         356          12           14              168 PFPE…           4\n",
      "\u001b[90m 8\u001b[39m ITGB1BP1      411          12           14              168 NSDT…           4\n",
      "\u001b[90m 9\u001b[39m LLGL2        \u001b[4m2\u001b[24m595          13           12              156 SEEQ…           4\n",
      "\u001b[90m10\u001b[39m IL6R         \u001b[4m1\u001b[24m034          13           12              156 WQDP…           6\n",
      "\u001b[90m# … with 147 more rows, and 1 more variable: insert_num <dbl>\u001b[39m\n"
     ]
    }
   ],
   "source": [
    "# Need to add this table to the repo to do this analysis\n",
    "stranded_stalls <- read_tsv(\"../tables/2021-04-07_strand-dipeptide-motifs-in-12k-library.tsv\") %>% \n",
    "    print()"
   ]
  },
  {
   "cell_type": "code",
   "execution_count": 49,
   "metadata": {
    "vscode": {
     "languageId": "r"
    }
   },
   "outputs": [
    {
     "name": "stdout",
     "output_type": "stream",
     "text": [
      "\u001b[90m# A tibble: 413 × 16\u001b[39m\n",
      "   strand_score stall_score motif_source      gene_name motif_type mutant_type\n",
      "          \u001b[3m\u001b[90m<dbl>\u001b[39m\u001b[23m       \u001b[3m\u001b[90m<dbl>\u001b[39m\u001b[23m \u001b[3m\u001b[90m<chr>\u001b[39m\u001b[23m             \u001b[3m\u001b[90m<chr>\u001b[39m\u001b[23m     \u001b[3m\u001b[90m<chr>\u001b[39m\u001b[23m      \u001b[3m\u001b[90m<chr>\u001b[39m\u001b[23m      \n",
      "\u001b[90m 1\u001b[39m           12           7 rg4               KDM1A     \u001b[31mNA\u001b[39m         \u001b[31mNA\u001b[39m         \n",
      "\u001b[90m 2\u001b[39m           14          11 human_vk_motif_10 RAB12     stall      wildtype   \n",
      "\u001b[90m 3\u001b[39m           13          10 human_vk_motif_10 RPS6KA6   stall      VnextK     \n",
      "\u001b[90m 4\u001b[39m           16           6 weber_2020_motifs SYK       stall      wildtype   \n",
      "\u001b[90m 5\u001b[39m           11          12 rg4               NADK      \u001b[31mNA\u001b[39m         \u001b[31mNA\u001b[39m         \n",
      "\u001b[90m 6\u001b[39m           11           1 han_2020_motifs   MTAP      control    wildtype   \n",
      "\u001b[90m 7\u001b[39m           11          11 rg4               COPA      \u001b[31mNA\u001b[39m         \u001b[31mNA\u001b[39m         \n",
      "\u001b[90m 8\u001b[39m           13           7 weber_2020_motifs USP19     stall      wildtype   \n",
      "\u001b[90m 9\u001b[39m            8          13 human_vk_motif_10 LEO1      stall      VnextK     \n",
      "\u001b[90m10\u001b[39m           14           6 weber_2020_motifs SYT1      stall      wildtype   \n",
      "\u001b[90m# … with 403 more rows, and 10 more variables: strength <dbl>, lfc <dbl>,\u001b[39m\n",
      "\u001b[90m#   aa <chr>, seq <chr>, transcript_id <chr>, loc <dbl>, count_grna <dbl>,\u001b[39m\n",
      "\u001b[90m#   count_mrna <dbl>, n_barcodes_grna <int>, n_barcodes_mrna <int>\u001b[39m\n"
     ]
    }
   ],
   "source": [
    "lfc %>% \n",
    "  inner_join(select(stranded_stalls, strand_score, stall_score, gene_name), by = c(\"gene_name\")) %>%\n",
    "  # filter(motif_source == \"weber_2020_motifs\", mutant_type == \"wildtype\") %>% \n",
    "  # filter(motif_source == \"human_vk_motif_10\", mutant_type == \"wildtype\") %>% \n",
    "  # filter(mutant_type == \"wildtype\") %>%\n",
    "  select(strand_score, stall_score, everything()) %>%\n",
    "  print()"
   ]
  },
  {
   "cell_type": "markdown",
   "metadata": {},
   "source": [
    "### Look at all Uniprot entries irrespective of structure"
   ]
  },
  {
   "cell_type": "code",
   "execution_count": 51,
   "metadata": {
    "vscode": {
     "languageId": "r"
    }
   },
   "outputs": [
    {
     "name": "stderr",
     "output_type": "stream",
     "text": [
      "\u001b[1mRows: \u001b[22m\u001b[34m1975\u001b[39m \u001b[1mColumns: \u001b[22m\u001b[34m16\u001b[39m\n",
      "\u001b[36m──\u001b[39m \u001b[1mColumn specification\u001b[22m \u001b[36m────────────────────────────────────────────────────────\u001b[39m\n",
      "\u001b[1mDelimiter:\u001b[22m \"\\t\"\n",
      "\u001b[31mchr\u001b[39m (9): group, mutant_type, motif_source, aa, seq, gene_name, transcript_id...\n",
      "\u001b[32mdbl\u001b[39m (7): motif_num, strength, loc, insert_num, helix, strand, turn\n",
      "\n",
      "\u001b[36mℹ\u001b[39m Use `spec()` to retrieve the full column specification for this data.\n",
      "\u001b[36mℹ\u001b[39m Specify the column types or set `show_col_types = FALSE` to quiet this message.\n"
     ]
    },
    {
     "name": "stdout",
     "output_type": "stream",
     "text": [
      "\u001b[90m# A tibble: 5,119 × 17\u001b[39m\n",
      "   gene_name helix strand  turn motif_source     motif_type mutant_type strength\n",
      "   \u001b[3m\u001b[90m<chr>\u001b[39m\u001b[23m     \u001b[3m\u001b[90m<dbl>\u001b[39m\u001b[23m  \u001b[3m\u001b[90m<dbl>\u001b[39m\u001b[23m \u001b[3m\u001b[90m<dbl>\u001b[39m\u001b[23m \u001b[3m\u001b[90m<chr>\u001b[39m\u001b[23m            \u001b[3m\u001b[90m<chr>\u001b[39m\u001b[23m      \u001b[3m\u001b[90m<chr>\u001b[39m\u001b[23m          \u001b[3m\u001b[90m<dbl>\u001b[39m\u001b[23m\n",
      "\u001b[90m 1\u001b[39m SYK           0     23     0 weber_2020_moti… stall      wildtype           6\n",
      "\u001b[90m 2\u001b[39m ARRDC3        0     23     0 human_vk_motif_… stall      wildtype          11\n",
      "\u001b[90m 3\u001b[39m ARRDC3        0     23     0 human_vk_motif_… stall      KnextV            11\n",
      "\u001b[90m 4\u001b[39m ARRDC3        0     23     0 human_vk_motif_… stall      VnextK            11\n",
      "\u001b[90m 5\u001b[39m SYK           0     23     0 weber_2020_moti… stall      KnextV             6\n",
      "\u001b[90m 6\u001b[39m EFHC2         0     22     0 human_vk_motif_… stall      wildtype          10\n",
      "\u001b[90m 7\u001b[39m CRBN          0     22     0 human_vk_motif_… stall      VnextK            11\n",
      "\u001b[90m 8\u001b[39m CRBN          0     22     0 human_vk_motif_… stall      KnextV            11\n",
      "\u001b[90m 9\u001b[39m CRBN          0     22     0 human_vk_motif_… stall      wildtype          11\n",
      "\u001b[90m10\u001b[39m EFHC2         0     22     0 human_vk_motif_… stall      KnextV            10\n",
      "\u001b[90m# … with 5,109 more rows, and 9 more variables: lfc <dbl>, aa <chr>, seq <chr>,\u001b[39m\n",
      "\u001b[90m#   transcript_id <chr>, loc <dbl>, count_grna <dbl>, count_mrna <dbl>,\u001b[39m\n",
      "\u001b[90m#   n_barcodes_grna <int>, n_barcodes_mrna <int>\u001b[39m\n"
     ]
    }
   ],
   "source": [
    "uniprot_12k <- read_tsv(\"../tables/2021-08-03_secondary-structure-motifs-in-12k-library.tsv\") %>% \n",
    "  select(gene_name, helix, strand, turn) %>% \n",
    "  inner_join(lfc, by = c(\"gene_name\")) %>%\n",
    "  # filter(strand > 8, lfc < -0.75) %>%\n",
    "  # filter(mutant_type == \"wildtype\") %>%\n",
    "  arrange(-strand,lfc) %>%\n",
    "  # filter(gene_name == \"ARRDC3\") %>%\n",
    "  print()\n"
   ]
  },
  {
   "cell_type": "markdown",
   "metadata": {},
   "source": [
    "### Length of Uniprot secondary structures\n",
    "\n",
    "- See references 51, 52 in https://www.pnas.org/content/98/21/12015 for comparison."
   ]
  },
  {
   "cell_type": "code",
   "execution_count": 53,
   "metadata": {
    "vscode": {
     "languageId": "r"
    }
   },
   "outputs": [
    {
     "name": "stderr",
     "output_type": "stream",
     "text": [
      "\u001b[1mRows: \u001b[22m\u001b[34m102\u001b[39m \u001b[1mColumns: \u001b[22m\u001b[34m4\u001b[39m\n",
      "\u001b[36m──\u001b[39m \u001b[1mColumn specification\u001b[22m \u001b[36m────────────────────────────────────────────────────────\u001b[39m\n",
      "\u001b[1mDelimiter:\u001b[22m \",\"\n",
      "\u001b[32mdbl\u001b[39m (4): length, helix, strand, turn\n",
      "\n",
      "\u001b[36mℹ\u001b[39m Use `spec()` to retrieve the full column specification for this data.\n",
      "\u001b[36mℹ\u001b[39m Specify the column types or set `show_col_types = FALSE` to quiet this message.\n"
     ]
    },
    {
     "name": "stdout",
     "output_type": "stream",
     "text": [
      "\u001b[90m# A tibble: 102 × 4\u001b[39m\n",
      "   length helix strand  turn\n",
      "    \u001b[3m\u001b[90m<dbl>\u001b[39m\u001b[23m \u001b[3m\u001b[90m<dbl>\u001b[39m\u001b[23m  \u001b[3m\u001b[90m<dbl>\u001b[39m\u001b[23m \u001b[3m\u001b[90m<dbl>\u001b[39m\u001b[23m\n",
      "\u001b[90m 1\u001b[39m      3 \u001b[4m1\u001b[24m\u001b[4m5\u001b[24m056  \u001b[4m1\u001b[24m\u001b[4m9\u001b[24m545 \u001b[4m1\u001b[24m\u001b[4m1\u001b[24m287\n",
      "\u001b[90m 2\u001b[39m      4  \u001b[4m7\u001b[24m126  \u001b[4m1\u001b[24m\u001b[4m1\u001b[24m457  \u001b[4m4\u001b[24m507\n",
      "\u001b[90m 3\u001b[39m      5  \u001b[4m3\u001b[24m496   \u001b[4m9\u001b[24m145  \u001b[4m1\u001b[24m028\n",
      "\u001b[90m 4\u001b[39m      6  \u001b[4m3\u001b[24m527   \u001b[4m8\u001b[24m873   549\n",
      "\u001b[90m 5\u001b[39m      7  \u001b[4m3\u001b[24m619   \u001b[4m6\u001b[24m674   121\n",
      "\u001b[90m 6\u001b[39m      8  \u001b[4m3\u001b[24m596   \u001b[4m5\u001b[24m360    39\n",
      "\u001b[90m 7\u001b[39m      9  \u001b[4m3\u001b[24m402   \u001b[4m3\u001b[24m810    14\n",
      "\u001b[90m 8\u001b[39m     10  \u001b[4m3\u001b[24m926   \u001b[4m2\u001b[24m750     8\n",
      "\u001b[90m 9\u001b[39m     11  \u001b[4m3\u001b[24m535   \u001b[4m1\u001b[24m647     7\n",
      "\u001b[90m10\u001b[39m     12  \u001b[4m3\u001b[24m008   \u001b[4m1\u001b[24m060     2\n",
      "\u001b[90m# … with 92 more rows\u001b[39m\n"
     ]
    }
   ],
   "source": [
    "uniprot_lengths <- read_csv(\"../tables/2021-08-03-uniprot-ss-lengths.csv\") %>% \n",
    "  arrange(length) %>% \n",
    "  print()"
   ]
  },
  {
   "cell_type": "markdown",
   "metadata": {},
   "source": [
    "## Read in S4Pred propensities\n",
    "\n",
    "- NOTE: Again, we need to generate these tables computationally in this repo. For now I'm adding them manually. "
   ]
  },
  {
   "cell_type": "code",
   "execution_count": 65,
   "metadata": {
    "vscode": {
     "languageId": "r"
    }
   },
   "outputs": [
    {
     "name": "stderr",
     "output_type": "stream",
     "text": [
      "\u001b[1mRows: \u001b[22m\u001b[34m432000\u001b[39m \u001b[1mColumns: \u001b[22m\u001b[34m4\u001b[39m\n",
      "\u001b[36m──\u001b[39m \u001b[1mColumn specification\u001b[22m \u001b[36m────────────────────────────────────────────────────────\u001b[39m\n",
      "\u001b[1mDelimiter:\u001b[22m \"\\t\"\n",
      "\u001b[31mchr\u001b[39m (1): ss\n",
      "\u001b[32mdbl\u001b[39m (3): index, loc, p\n",
      "\n",
      "\u001b[36mℹ\u001b[39m Use `spec()` to retrieve the full column specification for this data.\n",
      "\u001b[36mℹ\u001b[39m Specify the column types or set `show_col_types = FALSE` to quiet this message.\n"
     ]
    },
    {
     "name": "stdout",
     "output_type": "stream",
     "text": [
      "\u001b[90m# A tibble: 432,000 × 4\u001b[39m\n",
      "   index   loc ss        p\n",
      "   \u001b[3m\u001b[90m<dbl>\u001b[39m\u001b[23m \u001b[3m\u001b[90m<dbl>\u001b[39m\u001b[23m \u001b[3m\u001b[90m<chr>\u001b[39m\u001b[23m \u001b[3m\u001b[90m<dbl>\u001b[39m\u001b[23m\n",
      "\u001b[90m 1\u001b[39m     0     0 turn  0.991\n",
      "\u001b[90m 2\u001b[39m     0     1 turn  0.966\n",
      "\u001b[90m 3\u001b[39m     0     2 turn  0.892\n",
      "\u001b[90m 4\u001b[39m     0     3 turn  0.692\n",
      "\u001b[90m 5\u001b[39m     0     4 turn  0.653\n",
      "\u001b[90m 6\u001b[39m     0     5 turn  0.658\n",
      "\u001b[90m 7\u001b[39m     0     6 turn  0.627\n",
      "\u001b[90m 8\u001b[39m     0     7 turn  0.635\n",
      "\u001b[90m 9\u001b[39m     0     8 turn  0.417\n",
      "\u001b[90m10\u001b[39m     0     9 turn  0.356\n",
      "\u001b[90m# … with 431,990 more rows\u001b[39m\n"
     ]
    },
    {
     "name": "stderr",
     "output_type": "stream",
     "text": [
      "\u001b[1m\u001b[22mNew names:\n",
      "\u001b[36m•\u001b[39m `index` -> `index...1`\n",
      "\u001b[36m•\u001b[39m `index` -> `index...2`\n",
      "\u001b[1mRows: \u001b[22m\u001b[34m6000\u001b[39m \u001b[1mColumns: \u001b[22m\u001b[34m15\u001b[39m\n",
      "\u001b[36m──\u001b[39m \u001b[1mColumn specification\u001b[22m \u001b[36m────────────────────────────────────────────────────────\u001b[39m\n",
      "\u001b[1mDelimiter:\u001b[22m \"\\t\"\n",
      "\u001b[31mchr\u001b[39m (7): mutant_type, motif_source, aa, seq, gene_name, transcript_id, motif...\n",
      "\u001b[32mdbl\u001b[39m (8): index...1, index...2, helix, strand, turn, motif_num, strength, loc\n",
      "\n",
      "\u001b[36mℹ\u001b[39m Use `spec()` to retrieve the full column specification for this data.\n",
      "\u001b[36mℹ\u001b[39m Specify the column types or set `show_col_types = FALSE` to quiet this message.\n"
     ]
    },
    {
     "name": "stdout",
     "output_type": "stream",
     "text": [
      "\u001b[90m# A tibble: 6,000 × 15\u001b[39m\n",
      "   index_1 index_2   helix strand  turn motif_num mutant_type strength\n",
      "     \u001b[3m\u001b[90m<dbl>\u001b[39m\u001b[23m   \u001b[3m\u001b[90m<dbl>\u001b[39m\u001b[23m   \u001b[3m\u001b[90m<dbl>\u001b[39m\u001b[23m  \u001b[3m\u001b[90m<dbl>\u001b[39m\u001b[23m \u001b[3m\u001b[90m<dbl>\u001b[39m\u001b[23m     \u001b[3m\u001b[90m<dbl>\u001b[39m\u001b[23m \u001b[3m\u001b[90m<chr>\u001b[39m\u001b[23m          \u001b[3m\u001b[90m<dbl>\u001b[39m\u001b[23m\n",
      "\u001b[90m 1\u001b[39m       0     628 0.002\u001b[4m4\u001b[24m\u001b[4m6\u001b[24m  0.649 0.348       629 wildtype          10\n",
      "\u001b[90m 2\u001b[39m       1     286 0.003\u001b[4m2\u001b[24m\u001b[4m6\u001b[24m  0.643 0.353       287 wildtype          11\n",
      "\u001b[90m 3\u001b[39m       2     675 0.027\u001b[4m7\u001b[24m   0.635 0.337       676 wildtype          10\n",
      "\u001b[90m 4\u001b[39m       3     307 0.004\u001b[4m6\u001b[24m\u001b[4m1\u001b[24m  0.633 0.363       308 wildtype          11\n",
      "\u001b[90m 5\u001b[39m       4     754 0.003\u001b[4m5\u001b[24m\u001b[4m8\u001b[24m  0.627 0.369       755 wildtype          10\n",
      "\u001b[90m 6\u001b[39m       5    \u001b[4m1\u001b[24m518 0.015\u001b[4m8\u001b[24m   0.627 0.357      \u001b[4m1\u001b[24m519 wildtype           7\n",
      "\u001b[90m 7\u001b[39m       6     801 0.003\u001b[4m8\u001b[24m\u001b[4m5\u001b[24m  0.625 0.371       802 wildtype          10\n",
      "\u001b[90m 8\u001b[39m       7    \u001b[4m1\u001b[24m024 0.054\u001b[4m5\u001b[24m   0.624 0.321      \u001b[4m1\u001b[24m025 wildtype          10\n",
      "\u001b[90m 9\u001b[39m       8     489 0.027\u001b[4m8\u001b[24m   0.623 0.349       490 wildtype          11\n",
      "\u001b[90m10\u001b[39m       9     855 0.005\u001b[4m3\u001b[24m\u001b[4m6\u001b[24m  0.620 0.375       856 wildtype          10\n",
      "\u001b[90m# … with 5,990 more rows, and 7 more variables: motif_source <chr>, aa <chr>,\u001b[39m\n",
      "\u001b[90m#   seq <chr>, gene_name <chr>, transcript_id <chr>, loc <dbl>,\u001b[39m\n",
      "\u001b[90m#   motif_type <chr>\u001b[39m\n"
     ]
    }
   ],
   "source": [
    "s4pred_detailed <- read_tsv(\"../tables/20210503_endo12k_ss_prediction.tsv.gz\") %>% \n",
    "  print()\n",
    "\n",
    "s4pred <- read_tsv(\"../tables/20210503_endo12k_avg_ss_prediction.tsv.gz\") %>% \n",
    "   # Unclear why, but this adds \"...\" into the index_1 and 2 names. Remove these dots.\n",
    "   rename(index_1 = index...1, index_2 = index...2) %>% print"
   ]
  },
  {
   "cell_type": "markdown",
   "metadata": {},
   "source": [
    "## Highlight specific endogenous Beta strand + stall candidates"
   ]
  },
  {
   "cell_type": "markdown",
   "metadata": {},
   "source": [
    "### Plot LFC for candidates of interest"
   ]
  },
  {
   "cell_type": "code",
   "execution_count": 57,
   "metadata": {
    "vscode": {
     "languageId": "r"
    }
   },
   "outputs": [
    {
     "name": "stdout",
     "output_type": "stream",
     "text": [
      "\u001b[90m# A tibble: 8 × 9\u001b[39m\n",
      "  gene_name mutant_type  lfc_75 lfc_25 lfc_50 lfc_mean lfc_sd order  yloc\n",
      "  \u001b[3m\u001b[90m<fct>\u001b[39m\u001b[23m     \u001b[3m\u001b[90m<fct>\u001b[39m\u001b[23m         \u001b[3m\u001b[90m<dbl>\u001b[39m\u001b[23m  \u001b[3m\u001b[90m<dbl>\u001b[39m\u001b[23m  \u001b[3m\u001b[90m<dbl>\u001b[39m\u001b[23m    \u001b[3m\u001b[90m<dbl>\u001b[39m\u001b[23m  \u001b[3m\u001b[90m<dbl>\u001b[39m\u001b[23m \u001b[3m\u001b[90m<dbl>\u001b[39m\u001b[23m \u001b[3m\u001b[90m<dbl>\u001b[39m\u001b[23m\n",
      "\u001b[90m1\u001b[39m EFHC2     wt          -\u001b[31m0\u001b[39m\u001b[31m.\u001b[39m\u001b[31m760\u001b[39m  -\u001b[31m1\u001b[39m\u001b[31m.\u001b[39m\u001b[31m70\u001b[39m  -\u001b[31m1\u001b[39m\u001b[31m.\u001b[39m\u001b[31m23\u001b[39m    -\u001b[31m1\u001b[39m\u001b[31m.\u001b[39m\u001b[31m23\u001b[39m   0.286 -\u001b[31m1\u001b[39m\u001b[31m.\u001b[39m\u001b[31m23\u001b[39m     5\n",
      "\u001b[90m2\u001b[39m SSRP1     wt          -\u001b[31m1\u001b[39m\u001b[31m.\u001b[39m\u001b[31m0\u001b[39m\u001b[31m7\u001b[39m   -\u001b[31m1\u001b[39m\u001b[31m.\u001b[39m\u001b[31m84\u001b[39m  -\u001b[31m1\u001b[39m\u001b[31m.\u001b[39m\u001b[31m44\u001b[39m    -\u001b[31m1\u001b[39m\u001b[31m.\u001b[39m\u001b[31m45\u001b[39m   0.241 -\u001b[31m1\u001b[39m\u001b[31m.\u001b[39m\u001b[31m45\u001b[39m    11\n",
      "\u001b[90m3\u001b[39m ITGB1BP1  wt          -\u001b[31m0\u001b[39m\u001b[31m.\u001b[39m\u001b[31m781\u001b[39m  -\u001b[31m1\u001b[39m\u001b[31m.\u001b[39m\u001b[31m72\u001b[39m  -\u001b[31m1\u001b[39m\u001b[31m.\u001b[39m\u001b[31m26\u001b[39m    -\u001b[31m1\u001b[39m\u001b[31m.\u001b[39m\u001b[31m26\u001b[39m   0.297 -\u001b[31m1\u001b[39m\u001b[31m.\u001b[39m\u001b[31m26\u001b[39m     8\n",
      "\u001b[90m4\u001b[39m ITGB1BP1  mut          0.064\u001b[4m8\u001b[24m -\u001b[31m0\u001b[39m\u001b[31m.\u001b[39m\u001b[31m552\u001b[39m -\u001b[31m0\u001b[39m\u001b[31m.\u001b[39m\u001b[31m237\u001b[39m   -\u001b[31m0\u001b[39m\u001b[31m.\u001b[39m\u001b[31m236\u001b[39m  0.188 -\u001b[31m1\u001b[39m\u001b[31m.\u001b[39m\u001b[31m26\u001b[39m     7\n",
      "\u001b[90m5\u001b[39m RAB12     wt          -\u001b[31m1\u001b[39m\u001b[31m.\u001b[39m\u001b[31m59\u001b[39m   -\u001b[31m2\u001b[39m\u001b[31m.\u001b[39m\u001b[31m57\u001b[39m  -\u001b[31m2\u001b[39m\u001b[31m.\u001b[39m\u001b[31m12\u001b[39m    -\u001b[31m2\u001b[39m\u001b[31m.\u001b[39m\u001b[31m11\u001b[39m   0.297 -\u001b[31m2\u001b[39m\u001b[31m.\u001b[39m\u001b[31m11\u001b[39m    14\n",
      "\u001b[90m6\u001b[39m EFHC2     mut          0.124  -\u001b[31m0\u001b[39m\u001b[31m.\u001b[39m\u001b[31m722\u001b[39m -\u001b[31m0\u001b[39m\u001b[31m.\u001b[39m\u001b[31m296\u001b[39m   -\u001b[31m0\u001b[39m\u001b[31m.\u001b[39m\u001b[31m298\u001b[39m  0.262 -\u001b[31m1\u001b[39m\u001b[31m.\u001b[39m\u001b[31m23\u001b[39m     4\n",
      "\u001b[90m7\u001b[39m RAB12     mut         -\u001b[31m0\u001b[39m\u001b[31m.\u001b[39m\u001b[31m319\u001b[39m  -\u001b[31m0\u001b[39m\u001b[31m.\u001b[39m\u001b[31m919\u001b[39m -\u001b[31m0\u001b[39m\u001b[31m.\u001b[39m\u001b[31m616\u001b[39m   -\u001b[31m0\u001b[39m\u001b[31m.\u001b[39m\u001b[31m622\u001b[39m  0.182 -\u001b[31m2\u001b[39m\u001b[31m.\u001b[39m\u001b[31m11\u001b[39m    13\n",
      "\u001b[90m8\u001b[39m SSRP1     mut          0.408  -\u001b[31m0\u001b[39m\u001b[31m.\u001b[39m\u001b[31m147\u001b[39m  0.134    0.132  0.169 -\u001b[31m1\u001b[39m\u001b[31m.\u001b[39m\u001b[31m45\u001b[39m    10\n"
     ]
    },
    {
     "data": {
      "image/png": "[encoded data removed]",
      "text/plain": [
       "plot without title"
      ]
     },
     "metadata": {
      "image/png": {
       "height": 180,
       "width": 90
      }
     },
     "output_type": "display_data"
    }
   ],
   "source": [
    "# options(repr.plot.width=0.7, repr.plot.height=2) # Sizing for manuscript figure\n",
    "options(repr.plot.width=1.5, repr.plot.height=3) # For visualizing in ipynb\n",
    "\n",
    "goi <- c(\"RAB12\", \"ITGB1BP1\", \"EFHC2\", \"SSRP1\")\n",
    "\n",
    "plot_data <- lfc_iqr %>% \n",
    "  filter(mutant_type %in% c(\"wildtype\", \"KnextV\")) %>% \n",
    "  filter(gene_name %in% goi) %>% \n",
    "  mutate(mutant_type = fct_rev(if_else(mutant_type == \"KnextV\", \"mut\", \"wt\"))) %>%\n",
    "  group_by(gene_name) %>%\n",
    "  mutate(order = lfc_mean[mutant_type == \"wt\"]) %>%\n",
    "  mutate(yloc = seq(n(), 1, -1)) %>%\n",
    "  ungroup() %>%\n",
    "  mutate(gene_name = fct_rev(fct_reorder(gene_name, order))) %>% \n",
    "  mutate(yloc = yloc + 3*group_indices(., gene_name)) %>%\n",
    "  print()\n",
    "\n",
    "gene_order <- plot_data %>% \n",
    "  select(gene_name, mutant_type, yloc)\n",
    "\n",
    "plot_data %>% \n",
    "  ggplot(aes(x = lfc_mean, xmin = lfc_mean - lfc_sd, xmax = lfc_mean + lfc_sd, y = gene_name, color = mutant_type)) +\n",
    "  geom_errorbar(width = 0.3) +\n",
    "  geom_point() +\n",
    "  scale_color_manual(values = cbPalette[c(2,1)]) +\n",
    "  theme(axis.ticks.y = element_blank(), \n",
    "        axis.text.y = element_blank(),\n",
    "        axis.line.y = element_blank(),\n",
    "        legend.position = \"top\") +\n",
    "  scale_x_continuous(breaks = seq(-2,0)) +\n",
    "  labs(x = \"mRNA level\\n(log2, a.u.)\", color = \"\", y = \"\")\n",
    "\n",
    "#ggsave(\"../figures/lfc_strand_examples.pdf\")"
   ]
  },
  {
   "cell_type": "markdown",
   "metadata": {},
   "source": [
    "### Plot S4Pred for genes of interest"
   ]
  },
  {
   "cell_type": "code",
   "execution_count": 71,
   "metadata": {
    "vscode": {
     "languageId": "r"
    }
   },
   "outputs": [
    {
     "name": "stdout",
     "output_type": "stream",
     "text": [
      "\u001b[90m# A tibble: 192 × 16\u001b[39m\n",
      "   index   loc ss           p index_2 strand motif_num mutant_type strength\n",
      "   \u001b[3m\u001b[90m<dbl>\u001b[39m\u001b[23m \u001b[3m\u001b[90m<dbl>\u001b[39m\u001b[23m \u001b[3m\u001b[90m<chr>\u001b[39m\u001b[23m    \u001b[3m\u001b[90m<dbl>\u001b[39m\u001b[23m   \u001b[3m\u001b[90m<dbl>\u001b[39m\u001b[23m  \u001b[3m\u001b[90m<dbl>\u001b[39m\u001b[23m     \u001b[3m\u001b[90m<dbl>\u001b[39m\u001b[23m \u001b[3m\u001b[90m<fct>\u001b[39m\u001b[23m          \u001b[3m\u001b[90m<dbl>\u001b[39m\u001b[23m\n",
      "\u001b[90m 1\u001b[39m    33     0 strand 0.015\u001b[4m1\u001b[24m      410  0.567       411 wt                11\n",
      "\u001b[90m 2\u001b[39m    33     1 strand 0.060\u001b[4m0\u001b[24m      410  0.567       411 wt                11\n",
      "\u001b[90m 3\u001b[39m    33     2 strand 0.233       410  0.567       411 wt                11\n",
      "\u001b[90m 4\u001b[39m    33     3 strand 0.264       410  0.567       411 wt                11\n",
      "\u001b[90m 5\u001b[39m    33     4 strand 0.455       410  0.567       411 wt                11\n",
      "\u001b[90m 6\u001b[39m    33     5 strand 0.442       410  0.567       411 wt                11\n",
      "\u001b[90m 7\u001b[39m    33     6 strand 0.368       410  0.567       411 wt                11\n",
      "\u001b[90m 8\u001b[39m    33     7 strand 0.173       410  0.567       411 wt                11\n",
      "\u001b[90m 9\u001b[39m    33     8 strand 0.022\u001b[4m4\u001b[24m      410  0.567       411 wt                11\n",
      "\u001b[90m10\u001b[39m    33     9 strand 0.006\u001b[4m4\u001b[24m\u001b[4m1\u001b[24m     410  0.567       411 wt                11\n",
      "\u001b[90m# … with 182 more rows, and 7 more variables: motif_source <chr>, aa <chr>,\u001b[39m\n",
      "\u001b[90m#   seq <chr>, gene_name <chr>, transcript_id <chr>, motif_type <chr>,\u001b[39m\n",
      "\u001b[90m#   yloc <dbl>\u001b[39m\n"
     ]
    },
    {
     "data": {
      "image/png": "[encoded data removed]",
      "text/plain": [
       "plot without title"
      ]
     },
     "metadata": {
      "image/png": {
       "height": 180,
       "width": 120
      }
     },
     "output_type": "display_data"
    }
   ],
   "source": [
    "# options(repr.plot.width=1.2, repr.plot.height=1.9) # Sizing for manuscript figure\n",
    "options(repr.plot.width=2, repr.plot.height=3) # For visualizing in ipynb\n",
    "\n",
    "plot_data <- s4pred_detailed %>%\n",
    "  right_join(s4pred %>% select(-loc, -helix, -turn), by = c(\"index\" = \"index_1\")) %>%\n",
    "  filter(mutant_type %in% c(\"wildtype\", \"KnextV\")) %>%\n",
    "  filter(gene_name %in% goi) %>% \n",
    "  mutate(mutant_type = fct_rev(if_else(mutant_type == \"KnextV\", \"mut\", \"wt\"))) %>%\n",
    "  left_join(gene_order, by = c(\"gene_name\", \"mutant_type\")) %>% \n",
    "  filter(ss == \"strand\") %>% \n",
    "  print()\n",
    "\n",
    "plot_data %>%\n",
    "  ggplot(aes(x = loc, y = yloc, fill = p)) +\n",
    "  geom_tile(height = 0.7) +\n",
    "  scale_fill_gradient(high = \"#333333\", low = \"#dddddd\") +\n",
    "  theme(axis.ticks.y = element_blank(),\n",
    "        axis.text.y = element_blank(),\n",
    "        axis.line = element_blank(),\n",
    "        legend.position = \"top\") +\n",
    "  guides(fill = guide_colorbar(barheight = unit(0.2, \"cm\"), barwidth = unit(1.0, \"cm\"), ticks = F)) +\n",
    "  scale_x_continuous(breaks = c(1,20)) +\n",
    "  labs(x = \"Position along\\npeptide (aa)\", fill = \"\", y = \"\")"
   ]
  },
  {
   "cell_type": "markdown",
   "metadata": {},
   "source": [
    "### Show selected gene sequences\n",
    "```{r, fig.width=1.5, fig.height=1.15}"
   ]
  },
  {
   "cell_type": "code",
   "execution_count": 70,
   "metadata": {
    "vscode": {
     "languageId": "r"
    }
   },
   "outputs": [
    {
     "data": {
      "image/png": "[encoded data removed]",
      "text/plain": [
       "plot without title"
      ]
     },
     "metadata": {
      "image/png": {
       "height": 120,
       "width": 120
      }
     },
     "output_type": "display_data"
    }
   ],
   "source": [
    "# options(repr.plot.width=1.2, repr.plot.height=1.9) # Sizing for manuscript figure\n",
    "options(repr.plot.width=2, repr.plot.height=2) # For visualizing in ipynb\n",
    "\n",
    "plot_data <- lfc %>% \n",
    "  filter(mutant_type %in% c(\"wildtype\", \"KnextV\")) %>%\n",
    "  filter(gene_name %in% goi) %>% \n",
    "  mutate(mutant_type = fct_rev(if_else(mutant_type == \"KnextV\", \"mut\", \"wt\"))) %>%\n",
    "  right_join(gene_order, by = c(\"gene_name\", \"mutant_type\")) %>% \n",
    "  arrange(-yloc)\n",
    "\n",
    "plot_data %>% \n",
    "  ggplot(aes(label = aa, y = yloc)) +\n",
    "  geom_text(x = 0.5, size = 2, family = \"Courier\") +\n",
    "  theme(axis.ticks = element_blank(),\n",
    "        axis.title = element_blank(),\n",
    "        axis.text = element_blank(),\n",
    "        axis.line = element_blank(),\n",
    "        legend.position = \"top\") "
   ]
  },
  {
   "cell_type": "markdown",
   "metadata": {},
   "source": [
    "## Do S4-predicted β-strand stall motifs have lower mRNA stability than other stall motifs?\n",
    "\n",
    "We consider all motifs with stall strength >= 10.\n",
    "\n",
    "We classify motifs with average p_strand >= 0.5 as strands. \n",
    "\n",
    "Based on above, it looks like stranded motifs have a slightly lower mRNA level than non-stranded motifs (0.23)."
   ]
  },
  {
   "cell_type": "code",
   "execution_count": 72,
   "metadata": {
    "vscode": {
     "languageId": "r"
    }
   },
   "outputs": [
    {
     "name": "stdout",
     "output_type": "stream",
     "text": [
      "\u001b[90m# A tibble: 1,079 × 17\u001b[39m\n",
      "    strand   helix motif_source  gene_name motif_type mutant_type strength   lfc\n",
      "     \u001b[3m\u001b[90m<dbl>\u001b[39m\u001b[23m   \u001b[3m\u001b[90m<dbl>\u001b[39m\u001b[23m \u001b[3m\u001b[90m<chr>\u001b[39m\u001b[23m         \u001b[3m\u001b[90m<chr>\u001b[39m\u001b[23m     \u001b[3m\u001b[90m<chr>\u001b[39m\u001b[23m      \u001b[3m\u001b[90m<chr>\u001b[39m\u001b[23m          \u001b[3m\u001b[90m<dbl>\u001b[39m\u001b[23m \u001b[3m\u001b[90m<dbl>\u001b[39m\u001b[23m\n",
      "\u001b[90m 1\u001b[39m 0.516   0.084\u001b[4m0\u001b[24m  human_vk_mot… ADORA3    stall      wildtype          14 -\u001b[31m2\u001b[39m\u001b[31m.\u001b[39m\u001b[31m60\u001b[39m\n",
      "\u001b[90m 2\u001b[39m 0.109   0.160   human_vk_mot… PNISR     stall      wildtype          12 -\u001b[31m2\u001b[39m\u001b[31m.\u001b[39m\u001b[31m51\u001b[39m\n",
      "\u001b[90m 3\u001b[39m 0.272   0.101   human_vk_mot… GPR139    stall      wildtype          10 -\u001b[31m2\u001b[39m\u001b[31m.\u001b[39m\u001b[31m16\u001b[39m\n",
      "\u001b[90m 4\u001b[39m 0.224   0.133   human_vk_mot… STAB2     stall      wildtype          12 -\u001b[31m1\u001b[39m\u001b[31m.\u001b[39m\u001b[31m83\u001b[39m\n",
      "\u001b[90m 5\u001b[39m 0.567   0.009\u001b[4m7\u001b[24m\u001b[4m8\u001b[24m human_vk_mot… RAB12     stall      wildtype          11 -\u001b[31m1\u001b[39m\u001b[31m.\u001b[39m\u001b[31m73\u001b[39m\n",
      "\u001b[90m 6\u001b[39m 0.065\u001b[4m5\u001b[24m  0.045\u001b[4m0\u001b[24m  human_vk_mot… SYCP2     stall      wildtype          10 -\u001b[31m1\u001b[39m\u001b[31m.\u001b[39m\u001b[31m60\u001b[39m\n",
      "\u001b[90m 7\u001b[39m 0.116   0.417   human_vk_mot… SATB2     stall      wildtype          10 -\u001b[31m1\u001b[39m\u001b[31m.\u001b[39m\u001b[31m56\u001b[39m\n",
      "\u001b[90m 8\u001b[39m 0.032\u001b[4m8\u001b[24m  0.393   human_vk_mot… RESF1     stall      wildtype          13 -\u001b[31m1\u001b[39m\u001b[31m.\u001b[39m\u001b[31m53\u001b[39m\n",
      "\u001b[90m 9\u001b[39m 0.001\u001b[4m2\u001b[24m\u001b[4m7\u001b[24m 0.733   human_vk_mot… AGGF1     stall      wildtype          10 -\u001b[31m1\u001b[39m\u001b[31m.\u001b[39m\u001b[31m53\u001b[39m\n",
      "\u001b[90m10\u001b[39m 0.169   0.283   human_vk_mot… ANO1      stall      wildtype          11 -\u001b[31m1\u001b[39m\u001b[31m.\u001b[39m\u001b[31m47\u001b[39m\n",
      "\u001b[90m# … with 1,069 more rows, and 9 more variables: aa <chr>, seq <chr>,\u001b[39m\n",
      "\u001b[90m#   transcript_id <chr>, loc <dbl>, count_grna <dbl>, count_mrna <dbl>,\u001b[39m\n",
      "\u001b[90m#   n_barcodes_grna <int>, n_barcodes_mrna <int>, ss <fct>\u001b[39m\n"
     ]
    },
    {
     "name": "stderr",
     "output_type": "stream",
     "text": [
      "Warning message:\n",
      "“`guides(<scale> = FALSE)` is deprecated. Please use `guides(<scale> = \"none\")` instead.”\n"
     ]
    },
    {
     "data": {
      "image/png": "[encoded data removed]",
      "text/plain": [
       "plot without title"
      ]
     },
     "metadata": {
      "image/png": {
       "height": 120,
       "width": 120
      }
     },
     "output_type": "display_data"
    }
   ],
   "source": [
    "# options(repr.plot.width=1.2, repr.plot.height=1) # Sizing for manuscript figure\n",
    "options(repr.plot.width=2, repr.plot.height=2) # For visualizing in ipynb\n",
    "\n",
    "plot_data <- lfc %>% \n",
    "  filter(mutant_type == \"wildtype\") %>%\n",
    "  filter(!str_detect(aa, \"\\\\*\")) %>% \n",
    "  left_join(s4pred %>% select(helix, strand, motif_source, gene_name, mutant_type), by = c(\"motif_source\", \"gene_name\", \"mutant_type\")) %>% \n",
    "  select(strand, helix, everything()) %>% \n",
    "  filter(motif_source == \"human_vk_motif_10\") %>% \n",
    "  mutate(ss = fct_rev(case_when(strand >= 0.5 ~ \"strand\",\n",
    "                        T ~ \"other\"\n",
    "                        ))) %>% \n",
    "  print()\n",
    "\n",
    "label_data <- plot_data %>% \n",
    "  group_by(ss) %>% \n",
    "  summarize(n = paste0(\"N = \", dplyr::n()))\n",
    "  \n",
    "\n",
    "plot_data %>% \n",
    "  ggplot(aes(x = ss, y = lfc, fill = ss)) +\n",
    "  scale_fill_manual(values = cbPalette[c(2,1)]) +\n",
    "  geom_violin() +\n",
    "  geom_text(aes(x = ss, label = n), y = -3.2, data = label_data, size = 2, alpha = 0.5) +\n",
    "  guides(fill = F) + \n",
    "  scale_y_continuous(breaks = c(-2, 0, 2), limits = c(-3.5, 2.2)) +\n",
    "  labs(x = \"Predicted secondary structure\")"
   ]
  },
  {
   "cell_type": "markdown",
   "metadata": {},
   "source": [
    "### Calculate effect size and P-value for this Stands vs Other comparison"
   ]
  },
  {
   "cell_type": "code",
   "execution_count": 73,
   "metadata": {
    "vscode": {
     "languageId": "r"
    }
   },
   "outputs": [
    {
     "data": {
      "text/plain": [
       "\n",
       "\n",
       "|ss     |    n| median_lfc|\n",
       "|:------|----:|----------:|\n",
       "|strand |   59| -0.2864434|\n",
       "|other  | 1020| -0.0190905|"
      ]
     },
     "metadata": {},
     "output_type": "display_data"
    },
    {
     "data": {
      "text/plain": [
       "\n",
       "\n",
       "| statistic|   p.value|method                                            |alternative |\n",
       "|---------:|---------:|:-------------------------------------------------|:-----------|\n",
       "|     25347| 0.0207853|Wilcoxon rank sum test with continuity correction |less        |"
      ]
     },
     "metadata": {},
     "output_type": "display_data"
    }
   ],
   "source": [
    "## Effect size for above plot\n",
    "plot_data %>% \n",
    "  group_by(ss) %>% \n",
    "  summarize(n = dplyr::n(), median_lfc = median(lfc)) %>% \n",
    "  knitr::kable()\n",
    "\n",
    "## P-value for above plot\n",
    "wilcox.test(lfc ~ ss, data=plot_data %>% filter(ss != \"helix\"), alternative = \"less\") %>% \n",
    "  broom::tidy() %>% \n",
    "  knitr::kable()"
   ]
  },
  {
   "cell_type": "markdown",
   "metadata": {},
   "source": [
    "## Plot the histogram of change in LFC upon KnextV or VnextK mutations"
   ]
  },
  {
   "cell_type": "code",
   "execution_count": 75,
   "metadata": {
    "vscode": {
     "languageId": "r"
    }
   },
   "outputs": [
    {
     "data": {
      "image/png": "[encoded data removed]",
      "text/plain": [
       "plot without title"
      ]
     },
     "metadata": {
      "image/png": {
       "height": 120,
       "width": 240
      }
     },
     "output_type": "display_data"
    }
   ],
   "source": [
    "options(repr.plot.width=4, repr.plot.height=2)\n",
    "\n",
    "plot_data %>% \n",
    "  select(strand, gene_name, mutant_type, lfc) %>% \n",
    "  inner_join(lfc %>% select(lfc, gene_name, mutant_type), by = \"gene_name\", suffix = c(\"_wt\", \"_mut\")) %>%\n",
    "  mutate(dellfc = lfc_wt - lfc_mut) %>% \n",
    "  filter(mutant_type_mut != \"wildtype\") %>% \n",
    "  ggplot(aes(x = dellfc)) +\n",
    "  facet_wrap(~ mutant_type_mut) +\n",
    "  geom_histogram(bins = 50) +\n",
    "  # mutate(strand = if_else(strand > 0.5, T, F)) %>%\n",
    "  # group_by(mutant_type_mut) %>%\n",
    "  # summarize(median_dellfc = median(dellfc)) %>%\n",
    "  # ungroup() %>%\n",
    "  # filter(strand > 0.5) %>% \n",
    "  # arrange(dellfc) %>% \n",
    "  # print()\n",
    "  NULL\n"
   ]
  },
  {
   "cell_type": "markdown",
   "metadata": {},
   "source": [
    "## Plot WT + mutant data for the top-10 destabilizing stranded stalls\n"
   ]
  },
  {
   "cell_type": "code",
   "execution_count": 77,
   "metadata": {
    "vscode": {
     "languageId": "r"
    }
   },
   "outputs": [
    {
     "data": {
      "image/png": "[encoded data removed]",
      "text/plain": [
       "plot without title"
      ]
     },
     "metadata": {
      "image/png": {
       "height": 180,
       "width": 240
      }
     },
     "output_type": "display_data"
    }
   ],
   "source": [
    "options(repr.plot.width=4, repr.plot.height=3)\n",
    "\n",
    "plot_data %>% \n",
    "  # arrange(-lfc) %>% \n",
    "  filter(strand > 0.5) %>% \n",
    "  slice(1:10) %>%\n",
    "  select(gene_name) %>%\n",
    "  inner_join(lfc, by = \"gene_name\") %>%\n",
    "  mutate(lfc = lfc) %>%\n",
    "  group_by(gene_name) %>%\n",
    "  mutate(wt_lfc = lfc[mutant_type == \"wildtype\"]) %>%\n",
    "  ungroup() %>%\n",
    "  mutate(gene_name = fct_reorder(gene_name, wt_lfc)) %>%\n",
    "  select(gene_name, strength, mutant_type, lfc) %>%\n",
    "  filter(!is.na(mutant_type)) %>%\n",
    "  ggplot(aes(x = gene_name, y = lfc, fill = fct_rev(mutant_type))) +\n",
    "  geom_col(position = position_dodge(preserve = \"single\"), width = 0.8) +\n",
    "  scale_fill_manual(values = cbPalette[2:4]) +\n",
    "  labs(x = \"\", y = \"mRNA level (log2, a.u.)\", fill = \"\",\n",
    "       title = \"10 most destabilizing β-stranded stalls\") +\n",
    "  theme(axis.text.x = element_text(angle = 45, hjust = 1))"
   ]
  },
  {
   "cell_type": "code",
   "execution_count": null,
   "metadata": {
    "vscode": {
     "languageId": "r"
    }
   },
   "outputs": [],
   "source": []
  }
 ],
 "metadata": {
  "kernelspec": {
   "display_name": "R",
   "language": "R",
   "name": "ir"
  },
  "language_info": {
   "codemirror_mode": "r",
   "file_extension": ".r",
   "mimetype": "text/x-r-source",
   "name": "R",
   "pygments_lexer": "r",
   "version": "4.1.1"
  },
  "orig_nbformat": 4,
  "vscode": {
   "interpreter": {
    "hash": "31f2aee4e71d21fbe5cf8b01ff0e069b9275f58929596ceb00d14d90e3e16cd6"
   }
  }
 },
 "nbformat": 4,
 "nbformat_minor": 2
}
