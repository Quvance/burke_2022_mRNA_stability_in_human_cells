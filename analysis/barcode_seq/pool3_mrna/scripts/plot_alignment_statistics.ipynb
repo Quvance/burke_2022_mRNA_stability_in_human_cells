{
 "cells": [
  {
   "cell_type": "markdown",
   "metadata": {},
   "source": [
    "# Plot alignment statistics of barcode library"
   ]
  },
  {
   "cell_type": "markdown",
   "metadata": {},
   "source": [
    "## Load libraries and define analysis-specific parameters"
   ]
  },
  {
   "cell_type": "code",
   "execution_count": 3,
   "metadata": {
    "vscode": {
     "languageId": "r"
    }
   },
   "outputs": [],
   "source": [
    "suppressMessages(library(Biostrings))\n",
    "suppressMessages(library(plyranges))\n",
    "suppressMessages(library(tidyverse))"
   ]
  },
  {
   "cell_type": "markdown",
   "metadata": {},
   "source": [
    "## Read alignment log"
   ]
  },
  {
   "cell_type": "code",
   "execution_count": 5,
   "metadata": {
    "vscode": {
     "languageId": "r"
    }
   },
   "outputs": [
    {
     "name": "stderr",
     "output_type": "stream",
     "text": [
      "Warning message:\n",
      "“`cols` is now required when using unnest().\n",
      "Please use `cols = c(log)`”\n"
     ]
    },
    {
     "name": "stdout",
     "output_type": "stream",
     "text": [
      "\u001b[90m# A tibble: 0 × 2\u001b[39m\n",
      "\u001b[90m# … with 2 variables: log <???>, sample_name <chr>\u001b[39m\n"
     ]
    }
   ],
   "source": [
    "align_log <- list.files(\"../data/alignments/\", pattern = \"*.log\", full.names = T) %>% \n",
    "  enframe(\"sno\", \"file\") %>% \n",
    "  mutate(log = map(file, readLines)) %>% \n",
    "  mutate(sample_name = str_extract(file, \"[^/]+(?=.bowtie2.log)\")) %>% \n",
    "  select(-sno, -file) %>% \n",
    "  unnest() %>% \n",
    "  print()"
   ]
  },
  {
   "cell_type": "markdown",
   "metadata": {},
   "source": []
  }
 ],
 "metadata": {
  "kernelspec": {
   "display_name": "R",
   "language": "R",
   "name": "ir"
  },
  "language_info": {
   "codemirror_mode": "r",
   "file_extension": ".r",
   "mimetype": "text/x-r-source",
   "name": "R",
   "pygments_lexer": "r",
   "version": "4.1.3"
  },
  "orig_nbformat": 4
 },
 "nbformat": 4,
 "nbformat_minor": 2
}
