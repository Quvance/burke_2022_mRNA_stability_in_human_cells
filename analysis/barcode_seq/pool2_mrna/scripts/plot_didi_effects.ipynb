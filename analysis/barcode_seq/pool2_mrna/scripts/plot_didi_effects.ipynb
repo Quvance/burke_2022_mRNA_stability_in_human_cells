{
 "cells": [
  {
   "cell_type": "markdown",
   "metadata": {},
   "source": [
    "# Plot effects of dicodon length and periodicity on mRNA levels"
   ]
  },
  {
   "cell_type": "markdown",
   "metadata": {},
   "source": [
    "## Load libraries and define analysis-specific parameters\n",
    "\n",
    "- We need to install both rsample and rasilabRtemplates in the Docker / Singularity container (or R conda environement?)"
   ]
  },
  {
   "cell_type": "code",
   "execution_count": 154,
   "metadata": {
    "vscode": {
     "languageId": "r"
    }
   },
   "outputs": [],
   "source": [
    "library(Biostrings)\n",
    "library(tidyverse)\n",
    "library(rasilabRtemplates)\n",
    "library(cowplot)\n",
    "\n",
    "\n",
    "insert_reads_cutoff <- 200 # The insert should get at least 200 reads across gRNA or mRNA\n",
    "n_barcodes_cutoff <- 6 # The insert should have at least 6 barcodes across gRNA and mRNA after above cutoff\n",
    "\n",
    "# Color-blind friendly palette. See http://www.cookbook-r.com/Graphs/Colors_(ggplot2)/\n",
    "cbPalette <- c(\"#999999\", \"#E69F00\", \"#56B4E9\", \"#009E73\", \"#F0E442\", \"#0072B2\", \"#D55E00\", \"#CC79A7\")"
   ]
  },
  {
   "cell_type": "markdown",
   "metadata": {},
   "source": [
    "## Read back barcode counts \n",
    "\n",
    "This is calculated in [plot_alignment_statistics.ipynb](plot_alignment_statistics.md)."
   ]
  },
  {
   "cell_type": "code",
   "execution_count": 155,
   "metadata": {
    "vscode": {
     "languageId": "r"
    }
   },
   "outputs": [
    {
     "name": "stderr",
     "output_type": "stream",
     "text": [
      "\u001b[1mRows: \u001b[22m\u001b[34m84782\u001b[39m \u001b[1mColumns: \u001b[22m\u001b[34m8\u001b[39m\n",
      "\u001b[36m──\u001b[39m \u001b[1mColumn specification\u001b[22m \u001b[36m────────────────────────────────────────────────────────\u001b[39m\n",
      "\u001b[1mDelimiter:\u001b[22m \"\\t\"\n",
      "\u001b[31mchr\u001b[39m (4): sample_id, sample_name, library_type, linkage_ref\n",
      "\u001b[32mdbl\u001b[39m (4): insert_num, barcode_num, barcode_count, linkage_count\n",
      "\n",
      "\u001b[36mℹ\u001b[39m Use `spec()` to retrieve the full column specification for this data.\n",
      "\u001b[36mℹ\u001b[39m Specify the column types or set `show_col_types = FALSE` to quiet this message.\n"
     ]
    },
    {
     "name": "stdout",
     "output_type": "stream",
     "text": [
      "\u001b[90m# A tibble: 84,782 × 8\u001b[39m\n",
      "   sample_id sample_name insert_num barcode_num barcode_count linkage_count\n",
      "   \u001b[3m\u001b[90m<chr>\u001b[39m\u001b[23m     \u001b[3m\u001b[90m<chr>\u001b[39m\u001b[23m            \u001b[3m\u001b[90m<dbl>\u001b[39m\u001b[23m       \u001b[3m\u001b[90m<dbl>\u001b[39m\u001b[23m         \u001b[3m\u001b[90m<dbl>\u001b[39m\u001b[23m         \u001b[3m\u001b[90m<dbl>\u001b[39m\u001b[23m\n",
      "\u001b[90m 1\u001b[39m 107p7     didi_grna_1         86       \u001b[4m4\u001b[24m\u001b[4m7\u001b[24m695          \u001b[4m4\u001b[24m582            26\n",
      "\u001b[90m 2\u001b[39m 107p7     didi_grna_1         22       \u001b[4m1\u001b[24m\u001b[4m7\u001b[24m334          \u001b[4m4\u001b[24m086             6\n",
      "\u001b[90m 3\u001b[39m 107p7     didi_grna_1        172        \u001b[4m6\u001b[24m711          \u001b[4m4\u001b[24m078             1\n",
      "\u001b[90m 4\u001b[39m 107p7     didi_grna_1         20        \u001b[4m5\u001b[24m501          \u001b[4m4\u001b[24m068             1\n",
      "\u001b[90m 5\u001b[39m 107p7     didi_grna_1        275        \u001b[4m2\u001b[24m109          \u001b[4m3\u001b[24m889             1\n",
      "\u001b[90m 6\u001b[39m 107p7     didi_grna_1         54       \u001b[4m4\u001b[24m\u001b[4m6\u001b[24m374          \u001b[4m3\u001b[24m821            25\n",
      "\u001b[90m 7\u001b[39m 107p7     didi_grna_1        150       \u001b[4m4\u001b[24m\u001b[4m9\u001b[24m997          \u001b[4m3\u001b[24m797            29\n",
      "\u001b[90m 8\u001b[39m 107p7     didi_grna_1        236        \u001b[4m1\u001b[24m823          \u001b[4m3\u001b[24m785             1\n",
      "\u001b[90m 9\u001b[39m 107p7     didi_grna_1         90       \u001b[4m4\u001b[24m\u001b[4m1\u001b[24m296          \u001b[4m3\u001b[24m778            20\n",
      "\u001b[90m10\u001b[39m 107p7     didi_grna_1        227       \u001b[4m2\u001b[24m\u001b[4m6\u001b[24m592          \u001b[4m3\u001b[24m694            11\n",
      "\u001b[90m# … with 84,772 more rows, and 2 more variables: library_type <chr>,\u001b[39m\n",
      "\u001b[90m#   linkage_ref <chr>\u001b[39m\n"
     ]
    }
   ],
   "source": [
    "barcode_counts <- read_tsv('../tables/sample_insert_barcode_counts.tsv.gz') %>% \n",
    "  print()"
   ]
  },
  {
   "cell_type": "code",
   "execution_count": 156,
   "metadata": {
    "vscode": {
     "languageId": "r"
    }
   },
   "outputs": [
    {
     "name": "stderr",
     "output_type": "stream",
     "text": [
      "\u001b[1mRows: \u001b[22m\u001b[34m4\u001b[39m \u001b[1mColumns: \u001b[22m\u001b[34m7\u001b[39m\n",
      "\u001b[36m──\u001b[39m \u001b[1mColumn specification\u001b[22m \u001b[36m────────────────────────────────────────────────────────\u001b[39m\n",
      "\u001b[1mDelimiter:\u001b[22m \",\"\n",
      "\u001b[31mchr\u001b[39m (5): sample_id, illumina_index, sample_name, sample_type, linkage_ref\n",
      "\u001b[32mdbl\u001b[39m (2): replicate, sample_num\n",
      "\n",
      "\u001b[36mℹ\u001b[39m Use `spec()` to retrieve the full column specification for this data.\n",
      "\u001b[36mℹ\u001b[39m Specify the column types or set `show_col_types = FALSE` to quiet this message.\n"
     ]
    },
    {
     "name": "stdout",
     "output_type": "stream",
     "text": [
      "\u001b[90m# A tibble: 4 × 4\u001b[39m\n",
      "  sample_num sample_name sample_type replicate\n",
      "       \u001b[3m\u001b[90m<dbl>\u001b[39m\u001b[23m \u001b[3m\u001b[90m<chr>\u001b[39m\u001b[23m       \u001b[3m\u001b[90m<chr>\u001b[39m\u001b[23m           \u001b[3m\u001b[90m<dbl>\u001b[39m\u001b[23m\n",
      "\u001b[90m1\u001b[39m          1 didi_grna_1 grna                1\n",
      "\u001b[90m2\u001b[39m          2 didi_grna_2 grna                2\n",
      "\u001b[90m3\u001b[39m          3 didi_mrna_1 mrna                1\n",
      "\u001b[90m4\u001b[39m          4 didi_mrna_2 mrna                2\n"
     ]
    }
   ],
   "source": [
    "replicate_annotations <- read_csv(\"../annotations/replicate_annotations.csv\") %>% \n",
    "  select(sample_num, sample_name, sample_type, replicate) %>% \n",
    "  print()"
   ]
  },
  {
   "cell_type": "markdown",
   "metadata": {},
   "source": [
    "\n",
    "## Read insert annotations "
   ]
  },
  {
   "cell_type": "code",
   "execution_count": 157,
   "metadata": {
    "vscode": {
     "languageId": "r"
    }
   },
   "outputs": [
    {
     "name": "stderr",
     "output_type": "stream",
     "text": [
      "\u001b[1mRows: \u001b[22m\u001b[34m317\u001b[39m \u001b[1mColumns: \u001b[22m\u001b[34m3\u001b[39m\n",
      "\u001b[36m──\u001b[39m \u001b[1mColumn specification\u001b[22m \u001b[36m────────────────────────────────────────────────────────\u001b[39m\n",
      "\u001b[1mDelimiter:\u001b[22m \"\\t\"\n",
      "\u001b[31mchr\u001b[39m (2): seq, insert_name\n",
      "\u001b[32mdbl\u001b[39m (1): insert_num\n",
      "\n",
      "\u001b[36mℹ\u001b[39m Use `spec()` to retrieve the full column specification for this data.\n",
      "\u001b[36mℹ\u001b[39m Specify the column types or set `show_col_types = FALSE` to quiet this message.\n"
     ]
    },
    {
     "name": "stdout",
     "output_type": "stream",
     "text": [
      "\u001b[90m# A tibble: 317 × 3\u001b[39m\n",
      "   insert_num seq                                              insert_name      \n",
      "        \u001b[3m\u001b[90m<dbl>\u001b[39m\u001b[23m \u001b[3m\u001b[90m<chr>\u001b[39m\u001b[23m                                            \u001b[3m\u001b[90m<chr>\u001b[39m\u001b[23m            \n",
      "\u001b[90m 1\u001b[39m          0 AAGATCTCCGGCTCCGGCTCCGGCTCCGGCTCCGGCTCCGGCTCCGGC varydicodonrepea…\n",
      "\u001b[90m 2\u001b[39m          1 AAGATCAAGATCTCCGGCTCCGGCTCCGGCTCCGGCTCCGGCTCCGGC varydicodonrepea…\n",
      "\u001b[90m 3\u001b[39m          2 AAGATCAAGATCAAGATCTCCGGCTCCGGCTCCGGCTCCGGCTCCGGC varydicodonrepea…\n",
      "\u001b[90m 4\u001b[39m          3 AAGATCAAGATCAAGATCAAGATCTCCGGCTCCGGCTCCGGCTCCGGC varydicodonrepea…\n",
      "\u001b[90m 5\u001b[39m          4 AAGATCAAGATCAAGATCAAGATCAAGATCTCCGGCTCCGGCTCCGGC varydicodonrepea…\n",
      "\u001b[90m 6\u001b[39m          5 AAGATCAAGATCAAGATCAAGATCAAGATCAAGATCTCCGGCTCCGGC varydicodonrepea…\n",
      "\u001b[90m 7\u001b[39m          6 AAGATCAAGATCAAGATCAAGATCAAGATCAAGATCAAGATCTCCGGC varydicodonrepea…\n",
      "\u001b[90m 8\u001b[39m          7 AAGATCAAGATCAAGATCAAGATCAAGATCAAGATCAAGATCAAGATC varydicodonrepea…\n",
      "\u001b[90m 9\u001b[39m          8 AAGTTCTCCGGCTCCGGCTCCGGCTCCGGCTCCGGCTCCGGCTCCGGC varydicodonrepea…\n",
      "\u001b[90m10\u001b[39m          9 AAGTTCAAGTTCTCCGGCTCCGGCTCCGGCTCCGGCTCCGGCTCCGGC varydicodonrepea…\n",
      "\u001b[90m# … with 307 more rows\u001b[39m\n"
     ]
    }
   ],
   "source": [
    "\n",
    "insert_annotations <- read_tsv(\"../../pool2_linkage/annotations/insert_annotations.tsv\") %>% \n",
    "  arrange(insert_num) %>%\n",
    "  print()"
   ]
  },
  {
   "cell_type": "markdown",
   "metadata": {},
   "source": [
    "## Combine counts and annotations"
   ]
  },
  {
   "cell_type": "code",
   "execution_count": 158,
   "metadata": {
    "vscode": {
     "languageId": "r"
    }
   },
   "outputs": [
    {
     "name": "stdout",
     "output_type": "stream",
     "text": [
      "\u001b[90m# A tibble: 84,782 × 13\u001b[39m\n",
      "   sample_id sample_name insert_num barcode_num barcode_count linkage_count\n",
      "   \u001b[3m\u001b[90m<chr>\u001b[39m\u001b[23m     \u001b[3m\u001b[90m<chr>\u001b[39m\u001b[23m            \u001b[3m\u001b[90m<dbl>\u001b[39m\u001b[23m       \u001b[3m\u001b[90m<dbl>\u001b[39m\u001b[23m         \u001b[3m\u001b[90m<dbl>\u001b[39m\u001b[23m         \u001b[3m\u001b[90m<dbl>\u001b[39m\u001b[23m\n",
      "\u001b[90m 1\u001b[39m 107p7     didi_grna_1         86       \u001b[4m4\u001b[24m\u001b[4m7\u001b[24m695          \u001b[4m4\u001b[24m582            26\n",
      "\u001b[90m 2\u001b[39m 107p7     didi_grna_1         22       \u001b[4m1\u001b[24m\u001b[4m7\u001b[24m334          \u001b[4m4\u001b[24m086             6\n",
      "\u001b[90m 3\u001b[39m 107p7     didi_grna_1        172        \u001b[4m6\u001b[24m711          \u001b[4m4\u001b[24m078             1\n",
      "\u001b[90m 4\u001b[39m 107p7     didi_grna_1         20        \u001b[4m5\u001b[24m501          \u001b[4m4\u001b[24m068             1\n",
      "\u001b[90m 5\u001b[39m 107p7     didi_grna_1        275        \u001b[4m2\u001b[24m109          \u001b[4m3\u001b[24m889             1\n",
      "\u001b[90m 6\u001b[39m 107p7     didi_grna_1         54       \u001b[4m4\u001b[24m\u001b[4m6\u001b[24m374          \u001b[4m3\u001b[24m821            25\n",
      "\u001b[90m 7\u001b[39m 107p7     didi_grna_1        150       \u001b[4m4\u001b[24m\u001b[4m9\u001b[24m997          \u001b[4m3\u001b[24m797            29\n",
      "\u001b[90m 8\u001b[39m 107p7     didi_grna_1        236        \u001b[4m1\u001b[24m823          \u001b[4m3\u001b[24m785             1\n",
      "\u001b[90m 9\u001b[39m 107p7     didi_grna_1         90       \u001b[4m4\u001b[24m\u001b[4m1\u001b[24m296          \u001b[4m3\u001b[24m778            20\n",
      "\u001b[90m10\u001b[39m 107p7     didi_grna_1        227       \u001b[4m2\u001b[24m\u001b[4m6\u001b[24m592          \u001b[4m3\u001b[24m694            11\n",
      "\u001b[90m# … with 84,772 more rows, and 7 more variables: library_type <chr>,\u001b[39m\n",
      "\u001b[90m#   linkage_ref <chr>, sample_num <dbl>, sample_type <chr>, replicate <dbl>,\u001b[39m\n",
      "\u001b[90m#   seq <chr>, insert_name <chr>\u001b[39m\n"
     ]
    },
    {
     "data": {
      "text/html": [
       "<table class=\"dataframe\">\n",
       "<caption>A spec_tbl_df: 84782 × 13</caption>\n",
       "<thead>\n",
       "\t<tr><th scope=col>sample_id</th><th scope=col>sample_name</th><th scope=col>insert_num</th><th scope=col>barcode_num</th><th scope=col>barcode_count</th><th scope=col>linkage_count</th><th scope=col>library_type</th><th scope=col>linkage_ref</th><th scope=col>sample_num</th><th scope=col>sample_type</th><th scope=col>replicate</th><th scope=col>seq</th><th scope=col>insert_name</th></tr>\n",
       "\t<tr><th scope=col>&lt;chr&gt;</th><th scope=col>&lt;chr&gt;</th><th scope=col>&lt;dbl&gt;</th><th scope=col>&lt;dbl&gt;</th><th scope=col>&lt;dbl&gt;</th><th scope=col>&lt;dbl&gt;</th><th scope=col>&lt;chr&gt;</th><th scope=col>&lt;chr&gt;</th><th scope=col>&lt;dbl&gt;</th><th scope=col>&lt;chr&gt;</th><th scope=col>&lt;dbl&gt;</th><th scope=col>&lt;chr&gt;</th><th scope=col>&lt;chr&gt;</th></tr>\n",
       "</thead>\n",
       "<tbody>\n",
       "\t<tr><td>107p7</td><td>didi_grna_1</td><td> 86</td><td>47695</td><td>4582</td><td> 26</td><td>grna</td><td>didi_linkage_1</td><td>1</td><td>grna</td><td>1</td><td>CGTGAACGTGAACGTGAACGTGAACGTGAACGTGAACGTGAATCCGGC</td><td>varydicodonrepeatlength_CGTGAA_7</td></tr>\n",
       "\t<tr><td>107p7</td><td>didi_grna_1</td><td> 22</td><td>17334</td><td>4086</td><td>  6</td><td>grna</td><td>didi_linkage_1</td><td>1</td><td>grna</td><td>1</td><td>AGAGAGAGAGAGAGAGAGAGAGAGAGAGAGAGAGAGAGAGAGTCCGGC</td><td>varydicodonrepeatlength_AGAGAG_7</td></tr>\n",
       "\t<tr><td>107p7</td><td>didi_grna_1</td><td>172</td><td> 6711</td><td>4078</td><td>  1</td><td>grna</td><td>didi_linkage_1</td><td>1</td><td>grna</td><td>1</td><td>AAAGTCAAAGTCAAAGTCAAAGTCAGTTTCAGTTTCAGTTTCAGTTTC</td><td>mixdicodons_AAAGTC_AGTTTC_4     </td></tr>\n",
       "\t<tr><td>107p7</td><td>didi_grna_1</td><td> 20</td><td> 5501</td><td>4068</td><td>  1</td><td>grna</td><td>didi_linkage_1</td><td>1</td><td>grna</td><td>1</td><td>AGAGAGAGAGAGAGAGAGAGAGAGAGAGAGTCCGGCTCCGGCTCCGGC</td><td>varydicodonrepeatlength_AGAGAG_5</td></tr>\n",
       "\t<tr><td>107p7</td><td>didi_grna_1</td><td>275</td><td> 2109</td><td>3889</td><td>  1</td><td>grna</td><td>didi_linkage_1</td><td>1</td><td>grna</td><td>1</td><td>TCCAGTTTCTCCAGTTTCTCCAGTTTCTCCAGTTTCTCCAGTTTCTCC</td><td>reorderdicodon_AGTTTC_1         </td></tr>\n",
       "\t<tr><td>107p7</td><td>didi_grna_1</td><td> 54</td><td>46374</td><td>3821</td><td> 25</td><td>grna</td><td>didi_linkage_1</td><td>1</td><td>grna</td><td>1</td><td>ATGATGATGATGATGATGATGATGATGATGATGATGATGATGTCCGGC</td><td>varydicodonrepeatlength_ATGATG_7</td></tr>\n",
       "\t<tr><td>107p7</td><td>didi_grna_1</td><td>150</td><td>49997</td><td>3797</td><td> 29</td><td>grna</td><td>didi_linkage_1</td><td>1</td><td>grna</td><td>1</td><td>TTGATGTTGATGTTGATGTTGATGTTGATGTTGATGTTGATGTCCGGC</td><td>varydicodonrepeatlength_TTGATG_7</td></tr>\n",
       "\t<tr><td>107p7</td><td>didi_grna_1</td><td>236</td><td> 1823</td><td>3785</td><td>  1</td><td>grna</td><td>didi_linkage_1</td><td>1</td><td>grna</td><td>1</td><td>GTCAAACATCGCGTCAAACATCGCGTCAAACATCGCGTCAAACATCGC</td><td>mixdicodons_GTCAAA_CATCGC_1     </td></tr>\n",
       "\t<tr><td>107p7</td><td>didi_grna_1</td><td> 90</td><td>41296</td><td>3778</td><td> 20</td><td>grna</td><td>didi_linkage_1</td><td>1</td><td>grna</td><td>1</td><td>CTCATACTCATACTCATATCCGGCTCCGGCTCCGGCTCCGGCTCCGGC</td><td>varydicodonrepeatlength_CTCATA_3</td></tr>\n",
       "\t<tr><td>107p7</td><td>didi_grna_1</td><td>227</td><td>26592</td><td>3694</td><td> 11</td><td>grna</td><td>didi_linkage_1</td><td>1</td><td>grna</td><td>1</td><td>CGCCATTTCAGTCGCCATTTCAGTCGCCATTTCAGTCGCCATTTCAGT</td><td>mixdicodons_CGCCAT_TTCAGT_1     </td></tr>\n",
       "\t<tr><td>107p7</td><td>didi_grna_1</td><td> 85</td><td>59591</td><td>3587</td><td> 68</td><td>grna</td><td>didi_linkage_1</td><td>1</td><td>grna</td><td>1</td><td>CGTGAACGTGAACGTGAACGTGAACGTGAACGTGAATCCGGCTCCGGC</td><td>varydicodonrepeatlength_CGTGAA_6</td></tr>\n",
       "\t<tr><td>107p7</td><td>didi_grna_1</td><td> 35</td><td>58816</td><td>3429</td><td> 56</td><td>grna</td><td>didi_linkage_1</td><td>1</td><td>grna</td><td>1</td><td>AGTTTCAGTTTCAGTTTCAGTTTCTCCGGCTCCGGCTCCGGCTCCGGC</td><td>varydicodonrepeatlength_AGTTTC_4</td></tr>\n",
       "\t<tr><td>107p7</td><td>didi_grna_1</td><td>218</td><td>59966</td><td>3412</td><td>178</td><td>grna</td><td>didi_linkage_1</td><td>1</td><td>grna</td><td>1</td><td>CGCCATAGTTTCCGCCATAGTTTCCGCCATAGTTTCCGCCATAGTTTC</td><td>mixdicodons_CGCCAT_AGTTTC_1     </td></tr>\n",
       "\t<tr><td>107p7</td><td>didi_grna_1</td><td>165</td><td>42634</td><td>3393</td><td> 21</td><td>grna</td><td>didi_linkage_1</td><td>1</td><td>grna</td><td>1</td><td>TTTTGTTTTTGTTTTTGTTTTTGTTTTTGTTTTTGTTCCGGCTCCGGC</td><td>varydicodonrepeatlength_TTTTGT_6</td></tr>\n",
       "\t<tr><td>107p7</td><td>didi_grna_1</td><td>118</td><td>21373</td><td>3121</td><td>  8</td><td>grna</td><td>didi_linkage_1</td><td>1</td><td>grna</td><td>1</td><td>CTTATCCTTATCCTTATCCTTATCCTTATCCTTATCCTTATCTCCGGC</td><td>varydicodonrepeatlength_CTTATC_7</td></tr>\n",
       "\t<tr><td>107p7</td><td>didi_grna_1</td><td> 64</td><td>28279</td><td>3114</td><td> 12</td><td>grna</td><td>didi_linkage_1</td><td>1</td><td>grna</td><td>1</td><td>CGCCATTCCGGCTCCGGCTCCGGCTCCGGCTCCGGCTCCGGCTCCGGC</td><td>varydicodonrepeatlength_CGCCAT_1</td></tr>\n",
       "\t<tr><td>107p7</td><td>didi_grna_1</td><td> 23</td><td>49127</td><td>2949</td><td> 28</td><td>grna</td><td>didi_linkage_1</td><td>1</td><td>grna</td><td>1</td><td>AGAGAGAGAGAGAGAGAGAGAGAGAGAGAGAGAGAGAGAGAGAGAGAG</td><td>varydicodonrepeatlength_AGAGAG_8</td></tr>\n",
       "\t<tr><td>107p7</td><td>didi_grna_1</td><td> 22</td><td>17521</td><td>2921</td><td>  6</td><td>grna</td><td>didi_linkage_1</td><td>1</td><td>grna</td><td>1</td><td>AGAGAGAGAGAGAGAGAGAGAGAGAGAGAGAGAGAGAGAGAGTCCGGC</td><td>varydicodonrepeatlength_AGAGAG_7</td></tr>\n",
       "\t<tr><td>107p7</td><td>didi_grna_1</td><td> 23</td><td>48461</td><td>2844</td><td> 27</td><td>grna</td><td>didi_linkage_1</td><td>1</td><td>grna</td><td>1</td><td>AGAGAGAGAGAGAGAGAGAGAGAGAGAGAGAGAGAGAGAGAGAGAGAG</td><td>varydicodonrepeatlength_AGAGAG_8</td></tr>\n",
       "\t<tr><td>107p7</td><td>didi_grna_1</td><td> 74</td><td> 4880</td><td>2834</td><td>  1</td><td>grna</td><td>didi_linkage_1</td><td>1</td><td>grna</td><td>1</td><td>CGCTTCCGCTTCCGCTTCTCCGGCTCCGGCTCCGGCTCCGGCTCCGGC</td><td>varydicodonrepeatlength_CGCTTC_3</td></tr>\n",
       "\t<tr><td>107p7</td><td>didi_grna_1</td><td>273</td><td>57968</td><td>2821</td><td> 49</td><td>grna</td><td>didi_linkage_1</td><td>1</td><td>grna</td><td>1</td><td>TCCAGAGAGAGAGAGTCCAGAGAGAGAGAGTCCAGAGAGAGAGAGTCC</td><td>reorderdicodon_AGAGAG_2         </td></tr>\n",
       "\t<tr><td>107p7</td><td>didi_grna_1</td><td>249</td><td>44282</td><td>2765</td><td> 23</td><td>grna</td><td>didi_linkage_1</td><td>1</td><td>grna</td><td>1</td><td>TTCAGTTTCAGTAGTTTCAGTTTCTTCAGTTTCAGTAGTTTCAGTTTC</td><td>mixdicodons_TTCAGT_AGTTTC_2     </td></tr>\n",
       "\t<tr><td>107p7</td><td>didi_grna_1</td><td> 23</td><td>27458</td><td>2759</td><td> 11</td><td>grna</td><td>didi_linkage_1</td><td>1</td><td>grna</td><td>1</td><td>AGAGAGAGAGAGAGAGAGAGAGAGAGAGAGAGAGAGAGAGAGAGAGAG</td><td>varydicodonrepeatlength_AGAGAG_8</td></tr>\n",
       "\t<tr><td>107p7</td><td>didi_grna_1</td><td>219</td><td>55793</td><td>2758</td><td> 41</td><td>grna</td><td>didi_linkage_1</td><td>1</td><td>grna</td><td>1</td><td>CGCCATCGCCATAGTTTCAGTTTCCGCCATCGCCATAGTTTCAGTTTC</td><td>mixdicodons_CGCCAT_AGTTTC_2     </td></tr>\n",
       "\t<tr><td>107p7</td><td>didi_grna_1</td><td> 34</td><td>48967</td><td>2694</td><td> 28</td><td>grna</td><td>didi_linkage_1</td><td>1</td><td>grna</td><td>1</td><td>AGTTTCAGTTTCAGTTTCTCCGGCTCCGGCTCCGGCTCCGGCTCCGGC</td><td>varydicodonrepeatlength_AGTTTC_3</td></tr>\n",
       "\t<tr><td>107p7</td><td>didi_grna_1</td><td>189</td><td>46020</td><td>2618</td><td> 25</td><td>grna</td><td>didi_linkage_1</td><td>1</td><td>grna</td><td>1</td><td>AGTTTCAGTTTCCATCGCCATCGCAGTTTCAGTTTCCATCGCCATCGC</td><td>mixdicodons_AGTTTC_CATCGC_2     </td></tr>\n",
       "\t<tr><td>107p7</td><td>didi_grna_1</td><td>274</td><td>54296</td><td>2596</td><td> 37</td><td>grna</td><td>didi_linkage_1</td><td>1</td><td>grna</td><td>1</td><td>TCCAGAGAGAGAGAGAGAGAGTCCTCCAGAGAGAGAGAGAGAGAGTCC</td><td>reorderdicodon_AGAGAG_3         </td></tr>\n",
       "\t<tr><td>107p7</td><td>didi_grna_1</td><td>195</td><td>23649</td><td>2540</td><td>  9</td><td>grna</td><td>didi_linkage_1</td><td>1</td><td>grna</td><td>1</td><td>AGTTTCAGTTTCGTCAAAGTCAAAAGTTTCAGTTTCGTCAAAGTCAAA</td><td>mixdicodons_AGTTTC_GTCAAA_2     </td></tr>\n",
       "\t<tr><td>107p7</td><td>didi_grna_1</td><td>230</td><td>  523</td><td>2513</td><td>  1</td><td>grna</td><td>didi_linkage_1</td><td>1</td><td>grna</td><td>1</td><td>GTCAAAAAAGTCGTCAAAAAAGTCGTCAAAAAAGTCGTCAAAAAAGTC</td><td>mixdicodons_GTCAAA_AAAGTC_1     </td></tr>\n",
       "\t<tr><td>107p7</td><td>didi_grna_1</td><td>249</td><td>  343</td><td>2511</td><td>  1</td><td>grna</td><td>didi_linkage_1</td><td>1</td><td>grna</td><td>1</td><td>TTCAGTTTCAGTAGTTTCAGTTTCTTCAGTTTCAGTAGTTTCAGTTTC</td><td>mixdicodons_TTCAGT_AGTTTC_2     </td></tr>\n",
       "\t<tr><td>⋮</td><td>⋮</td><td>⋮</td><td>⋮</td><td>⋮</td><td>⋮</td><td>⋮</td><td>⋮</td><td>⋮</td><td>⋮</td><td>⋮</td><td>⋮</td><td>⋮</td></tr>\n",
       "\t<tr><td>107p10</td><td>didi_mrna_2</td><td>124</td><td>77098</td><td>1</td><td> 89</td><td>mrna</td><td>didi_linkage_2</td><td>4</td><td>mrna</td><td>2</td><td>GTCAAAGTCAAAGTCAAAGTCAAAGTCAAATCCGGCTCCGGCTCCGGC</td><td>varydicodonrepeatlength_GTCAAA_5</td></tr>\n",
       "\t<tr><td>107p10</td><td>didi_mrna_2</td><td>299</td><td>77107</td><td>1</td><td> 89</td><td>mrna</td><td>didi_linkage_2</td><td>4</td><td>mrna</td><td>2</td><td>TCCGGACTCTCCGGACTCTCCGGACTCTCCGGACTCTCCGGACTCTCC</td><td>reorderdicodon_GGACTC_1         </td></tr>\n",
       "\t<tr><td>107p10</td><td>didi_mrna_2</td><td> 38</td><td>77114</td><td>1</td><td> 89</td><td>mrna</td><td>didi_linkage_2</td><td>4</td><td>mrna</td><td>2</td><td>AGTTTCAGTTTCAGTTTCAGTTTCAGTTTCAGTTTCAGTTTCTCCGGC</td><td>varydicodonrepeatlength_AGTTTC_7</td></tr>\n",
       "\t<tr><td>107p10</td><td>didi_mrna_2</td><td>183</td><td>77116</td><td>1</td><td> 89</td><td>mrna</td><td>didi_linkage_2</td><td>4</td><td>mrna</td><td>2</td><td>AAAGTCAAAGTCTTCAGTTTCAGTAAAGTCAAAGTCTTCAGTTTCAGT</td><td>mixdicodons_AAAGTC_TTCAGT_2     </td></tr>\n",
       "\t<tr><td>107p10</td><td>didi_mrna_2</td><td>194</td><td>77137</td><td>1</td><td> 90</td><td>mrna</td><td>didi_linkage_2</td><td>4</td><td>mrna</td><td>2</td><td>AGTTTCGTCAAAAGTTTCGTCAAAAGTTTCGTCAAAAGTTTCGTCAAA</td><td>mixdicodons_AGTTTC_GTCAAA_1     </td></tr>\n",
       "\t<tr><td>107p10</td><td>didi_mrna_2</td><td> 34</td><td>77144</td><td>1</td><td> 91</td><td>mrna</td><td>didi_linkage_2</td><td>4</td><td>mrna</td><td>2</td><td>AGTTTCAGTTTCAGTTTCTCCGGCTCCGGCTCCGGCTCCGGCTCCGGC</td><td>varydicodonrepeatlength_AGTTTC_3</td></tr>\n",
       "\t<tr><td>107p10</td><td>didi_mrna_2</td><td>  5</td><td>77168</td><td>1</td><td> 91</td><td>mrna</td><td>didi_linkage_2</td><td>4</td><td>mrna</td><td>2</td><td>AAGATCAAGATCAAGATCAAGATCAAGATCAAGATCTCCGGCTCCGGC</td><td>varydicodonrepeatlength_AAGATC_6</td></tr>\n",
       "\t<tr><td>107p10</td><td>didi_mrna_2</td><td>178</td><td>77185</td><td>1</td><td> 92</td><td>mrna</td><td>didi_linkage_2</td><td>4</td><td>mrna</td><td>2</td><td>AAAGTCAAAGTCAAAGTCAAAGTCCGCCATCGCCATCGCCATCGCCAT</td><td>mixdicodons_AAAGTC_CGCCAT_4     </td></tr>\n",
       "\t<tr><td>107p10</td><td>didi_mrna_2</td><td>270</td><td>77187</td><td>1</td><td> 92</td><td>mrna</td><td>didi_linkage_2</td><td>4</td><td>mrna</td><td>2</td><td>TCCAAGTTCAAGTTCTCCAAGTTCAAGTTCTCCAAGTTCAAGTTCTCC</td><td>reorderdicodon_AAGTTC_2         </td></tr>\n",
       "\t<tr><td>107p10</td><td>didi_mrna_2</td><td> 14</td><td>77196</td><td>1</td><td> 93</td><td>mrna</td><td>didi_linkage_2</td><td>4</td><td>mrna</td><td>2</td><td>AAGTTCAAGTTCAAGTTCAAGTTCAAGTTCAAGTTCAAGTTCTCCGGC</td><td>varydicodonrepeatlength_AAGTTC_7</td></tr>\n",
       "\t<tr><td>107p10</td><td>didi_mrna_2</td><td>237</td><td>77199</td><td>1</td><td> 93</td><td>mrna</td><td>didi_linkage_2</td><td>4</td><td>mrna</td><td>2</td><td>GTCAAAGTCAAACATCGCCATCGCGTCAAAGTCAAACATCGCCATCGC</td><td>mixdicodons_GTCAAA_CATCGC_2     </td></tr>\n",
       "\t<tr><td>107p10</td><td>didi_mrna_2</td><td>123</td><td>77206</td><td>1</td><td> 93</td><td>mrna</td><td>didi_linkage_2</td><td>4</td><td>mrna</td><td>2</td><td>GTCAAAGTCAAAGTCAAAGTCAAATCCGGCTCCGGCTCCGGCTCCGGC</td><td>varydicodonrepeatlength_GTCAAA_4</td></tr>\n",
       "\t<tr><td>107p10</td><td>didi_mrna_2</td><td>124</td><td>77207</td><td>1</td><td> 93</td><td>mrna</td><td>didi_linkage_2</td><td>4</td><td>mrna</td><td>2</td><td>GTCAAAGTCAAAGTCAAAGTCAAAGTCAAATCCGGCTCCGGCTCCGGC</td><td>varydicodonrepeatlength_GTCAAA_5</td></tr>\n",
       "\t<tr><td>107p10</td><td>didi_mrna_2</td><td>183</td><td>77208</td><td>1</td><td> 93</td><td>mrna</td><td>didi_linkage_2</td><td>4</td><td>mrna</td><td>2</td><td>AAAGTCAAAGTCTTCAGTTTCAGTAAAGTCAAAGTCTTCAGTTTCAGT</td><td>mixdicodons_AAAGTC_TTCAGT_2     </td></tr>\n",
       "\t<tr><td>107p10</td><td>didi_mrna_2</td><td>204</td><td>77221</td><td>1</td><td> 94</td><td>mrna</td><td>didi_linkage_2</td><td>4</td><td>mrna</td><td>2</td><td>CATCGCCATCGCAGTTTCAGTTTCCATCGCCATCGCAGTTTCAGTTTC</td><td>mixdicodons_CATCGC_AGTTTC_2     </td></tr>\n",
       "\t<tr><td>107p10</td><td>didi_mrna_2</td><td>306</td><td>77223</td><td>1</td><td> 94</td><td>mrna</td><td>didi_linkage_2</td><td>4</td><td>mrna</td><td>2</td><td>TCCTACAAGTACAAGTCCTACAAGTACAAGTCCTACAAGTACAAGTCC</td><td>reorderdicodon_TACAAG_2         </td></tr>\n",
       "\t<tr><td>107p10</td><td>didi_mrna_2</td><td>241</td><td>77261</td><td>1</td><td> 96</td><td>mrna</td><td>didi_linkage_2</td><td>4</td><td>mrna</td><td>2</td><td>GTCAAAGTCAAAGTCAAAGTCAAACGCCATCGCCATCGCCATCGCCAT</td><td>mixdicodons_GTCAAA_CGCCAT_4     </td></tr>\n",
       "\t<tr><td>107p10</td><td>didi_mrna_2</td><td> 33</td><td>77291</td><td>1</td><td> 97</td><td>mrna</td><td>didi_linkage_2</td><td>4</td><td>mrna</td><td>2</td><td>AGTTTCAGTTTCTCCGGCTCCGGCTCCGGCTCCGGCTCCGGCTCCGGC</td><td>varydicodonrepeatlength_AGTTTC_2</td></tr>\n",
       "\t<tr><td>107p10</td><td>didi_mrna_2</td><td>244</td><td>77296</td><td>1</td><td> 98</td><td>mrna</td><td>didi_linkage_2</td><td>4</td><td>mrna</td><td>2</td><td>GTCAAAGTCAAAGTCAAAGTCAAATTCAGTTTCAGTTTCAGTTTCAGT</td><td>mixdicodons_GTCAAA_TTCAGT_4     </td></tr>\n",
       "\t<tr><td>107p10</td><td>didi_mrna_2</td><td>170</td><td>77337</td><td>1</td><td>100</td><td>mrna</td><td>didi_linkage_2</td><td>4</td><td>mrna</td><td>2</td><td>AAAGTCAGTTTCAAAGTCAGTTTCAAAGTCAGTTTCAAAGTCAGTTTC</td><td>mixdicodons_AAAGTC_AGTTTC_1     </td></tr>\n",
       "\t<tr><td>107p10</td><td>didi_mrna_2</td><td>266</td><td>77360</td><td>1</td><td>102</td><td>mrna</td><td>didi_linkage_2</td><td>4</td><td>mrna</td><td>2</td><td>TCCAAGTACTCCAAGTACTCCAAGTACTCCAAGTACTCCAAGTACTCC</td><td>reorderdicodon_AAGTAC_1         </td></tr>\n",
       "\t<tr><td>107p10</td><td>didi_mrna_2</td><td>270</td><td>77405</td><td>1</td><td>106</td><td>mrna</td><td>didi_linkage_2</td><td>4</td><td>mrna</td><td>2</td><td>TCCAAGTTCAAGTTCTCCAAGTTCAAGTTCTCCAAGTTCAAGTTCTCC</td><td>reorderdicodon_AAGTTC_2         </td></tr>\n",
       "\t<tr><td>107p10</td><td>didi_mrna_2</td><td>  4</td><td>77424</td><td>1</td><td>108</td><td>mrna</td><td>didi_linkage_2</td><td>4</td><td>mrna</td><td>2</td><td>AAGATCAAGATCAAGATCAAGATCAAGATCTCCGGCTCCGGCTCCGGC</td><td>varydicodonrepeatlength_AAGATC_5</td></tr>\n",
       "\t<tr><td>107p10</td><td>didi_mrna_2</td><td>304</td><td>77466</td><td>1</td><td>114</td><td>mrna</td><td>didi_linkage_2</td><td>4</td><td>mrna</td><td>2</td><td>TCCGTCAAAGTCAAAGTCAAATCCTCCGTCAAAGTCAAAGTCAAATCC</td><td>reorderdicodon_GTCAAA_3         </td></tr>\n",
       "\t<tr><td>107p10</td><td>didi_mrna_2</td><td>294</td><td>77478</td><td>1</td><td>117</td><td>mrna</td><td>didi_linkage_2</td><td>4</td><td>mrna</td><td>2</td><td>TCCCTCGGACTCGGATCCCTCGGACTCGGATCCCTCGGACTCGGATCC</td><td>reorderdicodon_CTCGGA_2         </td></tr>\n",
       "\t<tr><td>107p10</td><td>didi_mrna_2</td><td>204</td><td>77484</td><td>1</td><td>118</td><td>mrna</td><td>didi_linkage_2</td><td>4</td><td>mrna</td><td>2</td><td>CATCGCCATCGCAGTTTCAGTTTCCATCGCCATCGCAGTTTCAGTTTC</td><td>mixdicodons_CATCGC_AGTTTC_2     </td></tr>\n",
       "\t<tr><td>107p10</td><td>didi_mrna_2</td><td>242</td><td>77526</td><td>1</td><td>131</td><td>mrna</td><td>didi_linkage_2</td><td>4</td><td>mrna</td><td>2</td><td>GTCAAATTCAGTGTCAAATTCAGTGTCAAATTCAGTGTCAAATTCAGT</td><td>mixdicodons_GTCAAA_TTCAGT_1     </td></tr>\n",
       "\t<tr><td>107p10</td><td>didi_mrna_2</td><td>242</td><td>77532</td><td>1</td><td>133</td><td>mrna</td><td>didi_linkage_2</td><td>4</td><td>mrna</td><td>2</td><td>GTCAAATTCAGTGTCAAATTCAGTGTCAAATTCAGTGTCAAATTCAGT</td><td>mixdicodons_GTCAAA_TTCAGT_1     </td></tr>\n",
       "\t<tr><td>107p10</td><td>didi_mrna_2</td><td>143</td><td>77559</td><td>1</td><td>159</td><td>mrna</td><td>didi_linkage_2</td><td>4</td><td>mrna</td><td>2</td><td>TACAAGTACAAGTACAAGTACAAGTACAAGTACAAGTACAAGTACAAG</td><td>varydicodonrepeatlength_TACAAG_8</td></tr>\n",
       "\t<tr><td>107p10</td><td>didi_mrna_2</td><td>279</td><td>77561</td><td>1</td><td>171</td><td>mrna</td><td>didi_linkage_2</td><td>4</td><td>mrna</td><td>2</td><td>TCCATCAAGATCAAGTCCATCAAGATCAAGTCCATCAAGATCAAGTCC</td><td>reorderdicodon_ATCAAG_2         </td></tr>\n",
       "</tbody>\n",
       "</table>\n"
      ],
      "text/latex": [
       "A spec\\_tbl\\_df: 84782 × 13\n",
       "\\begin{tabular}{lllllllllllll}\n",
       " sample\\_id & sample\\_name & insert\\_num & barcode\\_num & barcode\\_count & linkage\\_count & library\\_type & linkage\\_ref & sample\\_num & sample\\_type & replicate & seq & insert\\_name\\\\\n",
       " <chr> & <chr> & <dbl> & <dbl> & <dbl> & <dbl> & <chr> & <chr> & <dbl> & <chr> & <dbl> & <chr> & <chr>\\\\\n",
       "\\hline\n",
       "\t 107p7 & didi\\_grna\\_1 &  86 & 47695 & 4582 &  26 & grna & didi\\_linkage\\_1 & 1 & grna & 1 & CGTGAACGTGAACGTGAACGTGAACGTGAACGTGAACGTGAATCCGGC & varydicodonrepeatlength\\_CGTGAA\\_7\\\\\n",
       "\t 107p7 & didi\\_grna\\_1 &  22 & 17334 & 4086 &   6 & grna & didi\\_linkage\\_1 & 1 & grna & 1 & AGAGAGAGAGAGAGAGAGAGAGAGAGAGAGAGAGAGAGAGAGTCCGGC & varydicodonrepeatlength\\_AGAGAG\\_7\\\\\n",
       "\t 107p7 & didi\\_grna\\_1 & 172 &  6711 & 4078 &   1 & grna & didi\\_linkage\\_1 & 1 & grna & 1 & AAAGTCAAAGTCAAAGTCAAAGTCAGTTTCAGTTTCAGTTTCAGTTTC & mixdicodons\\_AAAGTC\\_AGTTTC\\_4     \\\\\n",
       "\t 107p7 & didi\\_grna\\_1 &  20 &  5501 & 4068 &   1 & grna & didi\\_linkage\\_1 & 1 & grna & 1 & AGAGAGAGAGAGAGAGAGAGAGAGAGAGAGTCCGGCTCCGGCTCCGGC & varydicodonrepeatlength\\_AGAGAG\\_5\\\\\n",
       "\t 107p7 & didi\\_grna\\_1 & 275 &  2109 & 3889 &   1 & grna & didi\\_linkage\\_1 & 1 & grna & 1 & TCCAGTTTCTCCAGTTTCTCCAGTTTCTCCAGTTTCTCCAGTTTCTCC & reorderdicodon\\_AGTTTC\\_1         \\\\\n",
       "\t 107p7 & didi\\_grna\\_1 &  54 & 46374 & 3821 &  25 & grna & didi\\_linkage\\_1 & 1 & grna & 1 & ATGATGATGATGATGATGATGATGATGATGATGATGATGATGTCCGGC & varydicodonrepeatlength\\_ATGATG\\_7\\\\\n",
       "\t 107p7 & didi\\_grna\\_1 & 150 & 49997 & 3797 &  29 & grna & didi\\_linkage\\_1 & 1 & grna & 1 & TTGATGTTGATGTTGATGTTGATGTTGATGTTGATGTTGATGTCCGGC & varydicodonrepeatlength\\_TTGATG\\_7\\\\\n",
       "\t 107p7 & didi\\_grna\\_1 & 236 &  1823 & 3785 &   1 & grna & didi\\_linkage\\_1 & 1 & grna & 1 & GTCAAACATCGCGTCAAACATCGCGTCAAACATCGCGTCAAACATCGC & mixdicodons\\_GTCAAA\\_CATCGC\\_1     \\\\\n",
       "\t 107p7 & didi\\_grna\\_1 &  90 & 41296 & 3778 &  20 & grna & didi\\_linkage\\_1 & 1 & grna & 1 & CTCATACTCATACTCATATCCGGCTCCGGCTCCGGCTCCGGCTCCGGC & varydicodonrepeatlength\\_CTCATA\\_3\\\\\n",
       "\t 107p7 & didi\\_grna\\_1 & 227 & 26592 & 3694 &  11 & grna & didi\\_linkage\\_1 & 1 & grna & 1 & CGCCATTTCAGTCGCCATTTCAGTCGCCATTTCAGTCGCCATTTCAGT & mixdicodons\\_CGCCAT\\_TTCAGT\\_1     \\\\\n",
       "\t 107p7 & didi\\_grna\\_1 &  85 & 59591 & 3587 &  68 & grna & didi\\_linkage\\_1 & 1 & grna & 1 & CGTGAACGTGAACGTGAACGTGAACGTGAACGTGAATCCGGCTCCGGC & varydicodonrepeatlength\\_CGTGAA\\_6\\\\\n",
       "\t 107p7 & didi\\_grna\\_1 &  35 & 58816 & 3429 &  56 & grna & didi\\_linkage\\_1 & 1 & grna & 1 & AGTTTCAGTTTCAGTTTCAGTTTCTCCGGCTCCGGCTCCGGCTCCGGC & varydicodonrepeatlength\\_AGTTTC\\_4\\\\\n",
       "\t 107p7 & didi\\_grna\\_1 & 218 & 59966 & 3412 & 178 & grna & didi\\_linkage\\_1 & 1 & grna & 1 & CGCCATAGTTTCCGCCATAGTTTCCGCCATAGTTTCCGCCATAGTTTC & mixdicodons\\_CGCCAT\\_AGTTTC\\_1     \\\\\n",
       "\t 107p7 & didi\\_grna\\_1 & 165 & 42634 & 3393 &  21 & grna & didi\\_linkage\\_1 & 1 & grna & 1 & TTTTGTTTTTGTTTTTGTTTTTGTTTTTGTTTTTGTTCCGGCTCCGGC & varydicodonrepeatlength\\_TTTTGT\\_6\\\\\n",
       "\t 107p7 & didi\\_grna\\_1 & 118 & 21373 & 3121 &   8 & grna & didi\\_linkage\\_1 & 1 & grna & 1 & CTTATCCTTATCCTTATCCTTATCCTTATCCTTATCCTTATCTCCGGC & varydicodonrepeatlength\\_CTTATC\\_7\\\\\n",
       "\t 107p7 & didi\\_grna\\_1 &  64 & 28279 & 3114 &  12 & grna & didi\\_linkage\\_1 & 1 & grna & 1 & CGCCATTCCGGCTCCGGCTCCGGCTCCGGCTCCGGCTCCGGCTCCGGC & varydicodonrepeatlength\\_CGCCAT\\_1\\\\\n",
       "\t 107p7 & didi\\_grna\\_1 &  23 & 49127 & 2949 &  28 & grna & didi\\_linkage\\_1 & 1 & grna & 1 & AGAGAGAGAGAGAGAGAGAGAGAGAGAGAGAGAGAGAGAGAGAGAGAG & varydicodonrepeatlength\\_AGAGAG\\_8\\\\\n",
       "\t 107p7 & didi\\_grna\\_1 &  22 & 17521 & 2921 &   6 & grna & didi\\_linkage\\_1 & 1 & grna & 1 & AGAGAGAGAGAGAGAGAGAGAGAGAGAGAGAGAGAGAGAGAGTCCGGC & varydicodonrepeatlength\\_AGAGAG\\_7\\\\\n",
       "\t 107p7 & didi\\_grna\\_1 &  23 & 48461 & 2844 &  27 & grna & didi\\_linkage\\_1 & 1 & grna & 1 & AGAGAGAGAGAGAGAGAGAGAGAGAGAGAGAGAGAGAGAGAGAGAGAG & varydicodonrepeatlength\\_AGAGAG\\_8\\\\\n",
       "\t 107p7 & didi\\_grna\\_1 &  74 &  4880 & 2834 &   1 & grna & didi\\_linkage\\_1 & 1 & grna & 1 & CGCTTCCGCTTCCGCTTCTCCGGCTCCGGCTCCGGCTCCGGCTCCGGC & varydicodonrepeatlength\\_CGCTTC\\_3\\\\\n",
       "\t 107p7 & didi\\_grna\\_1 & 273 & 57968 & 2821 &  49 & grna & didi\\_linkage\\_1 & 1 & grna & 1 & TCCAGAGAGAGAGAGTCCAGAGAGAGAGAGTCCAGAGAGAGAGAGTCC & reorderdicodon\\_AGAGAG\\_2         \\\\\n",
       "\t 107p7 & didi\\_grna\\_1 & 249 & 44282 & 2765 &  23 & grna & didi\\_linkage\\_1 & 1 & grna & 1 & TTCAGTTTCAGTAGTTTCAGTTTCTTCAGTTTCAGTAGTTTCAGTTTC & mixdicodons\\_TTCAGT\\_AGTTTC\\_2     \\\\\n",
       "\t 107p7 & didi\\_grna\\_1 &  23 & 27458 & 2759 &  11 & grna & didi\\_linkage\\_1 & 1 & grna & 1 & AGAGAGAGAGAGAGAGAGAGAGAGAGAGAGAGAGAGAGAGAGAGAGAG & varydicodonrepeatlength\\_AGAGAG\\_8\\\\\n",
       "\t 107p7 & didi\\_grna\\_1 & 219 & 55793 & 2758 &  41 & grna & didi\\_linkage\\_1 & 1 & grna & 1 & CGCCATCGCCATAGTTTCAGTTTCCGCCATCGCCATAGTTTCAGTTTC & mixdicodons\\_CGCCAT\\_AGTTTC\\_2     \\\\\n",
       "\t 107p7 & didi\\_grna\\_1 &  34 & 48967 & 2694 &  28 & grna & didi\\_linkage\\_1 & 1 & grna & 1 & AGTTTCAGTTTCAGTTTCTCCGGCTCCGGCTCCGGCTCCGGCTCCGGC & varydicodonrepeatlength\\_AGTTTC\\_3\\\\\n",
       "\t 107p7 & didi\\_grna\\_1 & 189 & 46020 & 2618 &  25 & grna & didi\\_linkage\\_1 & 1 & grna & 1 & AGTTTCAGTTTCCATCGCCATCGCAGTTTCAGTTTCCATCGCCATCGC & mixdicodons\\_AGTTTC\\_CATCGC\\_2     \\\\\n",
       "\t 107p7 & didi\\_grna\\_1 & 274 & 54296 & 2596 &  37 & grna & didi\\_linkage\\_1 & 1 & grna & 1 & TCCAGAGAGAGAGAGAGAGAGTCCTCCAGAGAGAGAGAGAGAGAGTCC & reorderdicodon\\_AGAGAG\\_3         \\\\\n",
       "\t 107p7 & didi\\_grna\\_1 & 195 & 23649 & 2540 &   9 & grna & didi\\_linkage\\_1 & 1 & grna & 1 & AGTTTCAGTTTCGTCAAAGTCAAAAGTTTCAGTTTCGTCAAAGTCAAA & mixdicodons\\_AGTTTC\\_GTCAAA\\_2     \\\\\n",
       "\t 107p7 & didi\\_grna\\_1 & 230 &   523 & 2513 &   1 & grna & didi\\_linkage\\_1 & 1 & grna & 1 & GTCAAAAAAGTCGTCAAAAAAGTCGTCAAAAAAGTCGTCAAAAAAGTC & mixdicodons\\_GTCAAA\\_AAAGTC\\_1     \\\\\n",
       "\t 107p7 & didi\\_grna\\_1 & 249 &   343 & 2511 &   1 & grna & didi\\_linkage\\_1 & 1 & grna & 1 & TTCAGTTTCAGTAGTTTCAGTTTCTTCAGTTTCAGTAGTTTCAGTTTC & mixdicodons\\_TTCAGT\\_AGTTTC\\_2     \\\\\n",
       "\t ⋮ & ⋮ & ⋮ & ⋮ & ⋮ & ⋮ & ⋮ & ⋮ & ⋮ & ⋮ & ⋮ & ⋮ & ⋮\\\\\n",
       "\t 107p10 & didi\\_mrna\\_2 & 124 & 77098 & 1 &  89 & mrna & didi\\_linkage\\_2 & 4 & mrna & 2 & GTCAAAGTCAAAGTCAAAGTCAAAGTCAAATCCGGCTCCGGCTCCGGC & varydicodonrepeatlength\\_GTCAAA\\_5\\\\\n",
       "\t 107p10 & didi\\_mrna\\_2 & 299 & 77107 & 1 &  89 & mrna & didi\\_linkage\\_2 & 4 & mrna & 2 & TCCGGACTCTCCGGACTCTCCGGACTCTCCGGACTCTCCGGACTCTCC & reorderdicodon\\_GGACTC\\_1         \\\\\n",
       "\t 107p10 & didi\\_mrna\\_2 &  38 & 77114 & 1 &  89 & mrna & didi\\_linkage\\_2 & 4 & mrna & 2 & AGTTTCAGTTTCAGTTTCAGTTTCAGTTTCAGTTTCAGTTTCTCCGGC & varydicodonrepeatlength\\_AGTTTC\\_7\\\\\n",
       "\t 107p10 & didi\\_mrna\\_2 & 183 & 77116 & 1 &  89 & mrna & didi\\_linkage\\_2 & 4 & mrna & 2 & AAAGTCAAAGTCTTCAGTTTCAGTAAAGTCAAAGTCTTCAGTTTCAGT & mixdicodons\\_AAAGTC\\_TTCAGT\\_2     \\\\\n",
       "\t 107p10 & didi\\_mrna\\_2 & 194 & 77137 & 1 &  90 & mrna & didi\\_linkage\\_2 & 4 & mrna & 2 & AGTTTCGTCAAAAGTTTCGTCAAAAGTTTCGTCAAAAGTTTCGTCAAA & mixdicodons\\_AGTTTC\\_GTCAAA\\_1     \\\\\n",
       "\t 107p10 & didi\\_mrna\\_2 &  34 & 77144 & 1 &  91 & mrna & didi\\_linkage\\_2 & 4 & mrna & 2 & AGTTTCAGTTTCAGTTTCTCCGGCTCCGGCTCCGGCTCCGGCTCCGGC & varydicodonrepeatlength\\_AGTTTC\\_3\\\\\n",
       "\t 107p10 & didi\\_mrna\\_2 &   5 & 77168 & 1 &  91 & mrna & didi\\_linkage\\_2 & 4 & mrna & 2 & AAGATCAAGATCAAGATCAAGATCAAGATCAAGATCTCCGGCTCCGGC & varydicodonrepeatlength\\_AAGATC\\_6\\\\\n",
       "\t 107p10 & didi\\_mrna\\_2 & 178 & 77185 & 1 &  92 & mrna & didi\\_linkage\\_2 & 4 & mrna & 2 & AAAGTCAAAGTCAAAGTCAAAGTCCGCCATCGCCATCGCCATCGCCAT & mixdicodons\\_AAAGTC\\_CGCCAT\\_4     \\\\\n",
       "\t 107p10 & didi\\_mrna\\_2 & 270 & 77187 & 1 &  92 & mrna & didi\\_linkage\\_2 & 4 & mrna & 2 & TCCAAGTTCAAGTTCTCCAAGTTCAAGTTCTCCAAGTTCAAGTTCTCC & reorderdicodon\\_AAGTTC\\_2         \\\\\n",
       "\t 107p10 & didi\\_mrna\\_2 &  14 & 77196 & 1 &  93 & mrna & didi\\_linkage\\_2 & 4 & mrna & 2 & AAGTTCAAGTTCAAGTTCAAGTTCAAGTTCAAGTTCAAGTTCTCCGGC & varydicodonrepeatlength\\_AAGTTC\\_7\\\\\n",
       "\t 107p10 & didi\\_mrna\\_2 & 237 & 77199 & 1 &  93 & mrna & didi\\_linkage\\_2 & 4 & mrna & 2 & GTCAAAGTCAAACATCGCCATCGCGTCAAAGTCAAACATCGCCATCGC & mixdicodons\\_GTCAAA\\_CATCGC\\_2     \\\\\n",
       "\t 107p10 & didi\\_mrna\\_2 & 123 & 77206 & 1 &  93 & mrna & didi\\_linkage\\_2 & 4 & mrna & 2 & GTCAAAGTCAAAGTCAAAGTCAAATCCGGCTCCGGCTCCGGCTCCGGC & varydicodonrepeatlength\\_GTCAAA\\_4\\\\\n",
       "\t 107p10 & didi\\_mrna\\_2 & 124 & 77207 & 1 &  93 & mrna & didi\\_linkage\\_2 & 4 & mrna & 2 & GTCAAAGTCAAAGTCAAAGTCAAAGTCAAATCCGGCTCCGGCTCCGGC & varydicodonrepeatlength\\_GTCAAA\\_5\\\\\n",
       "\t 107p10 & didi\\_mrna\\_2 & 183 & 77208 & 1 &  93 & mrna & didi\\_linkage\\_2 & 4 & mrna & 2 & AAAGTCAAAGTCTTCAGTTTCAGTAAAGTCAAAGTCTTCAGTTTCAGT & mixdicodons\\_AAAGTC\\_TTCAGT\\_2     \\\\\n",
       "\t 107p10 & didi\\_mrna\\_2 & 204 & 77221 & 1 &  94 & mrna & didi\\_linkage\\_2 & 4 & mrna & 2 & CATCGCCATCGCAGTTTCAGTTTCCATCGCCATCGCAGTTTCAGTTTC & mixdicodons\\_CATCGC\\_AGTTTC\\_2     \\\\\n",
       "\t 107p10 & didi\\_mrna\\_2 & 306 & 77223 & 1 &  94 & mrna & didi\\_linkage\\_2 & 4 & mrna & 2 & TCCTACAAGTACAAGTCCTACAAGTACAAGTCCTACAAGTACAAGTCC & reorderdicodon\\_TACAAG\\_2         \\\\\n",
       "\t 107p10 & didi\\_mrna\\_2 & 241 & 77261 & 1 &  96 & mrna & didi\\_linkage\\_2 & 4 & mrna & 2 & GTCAAAGTCAAAGTCAAAGTCAAACGCCATCGCCATCGCCATCGCCAT & mixdicodons\\_GTCAAA\\_CGCCAT\\_4     \\\\\n",
       "\t 107p10 & didi\\_mrna\\_2 &  33 & 77291 & 1 &  97 & mrna & didi\\_linkage\\_2 & 4 & mrna & 2 & AGTTTCAGTTTCTCCGGCTCCGGCTCCGGCTCCGGCTCCGGCTCCGGC & varydicodonrepeatlength\\_AGTTTC\\_2\\\\\n",
       "\t 107p10 & didi\\_mrna\\_2 & 244 & 77296 & 1 &  98 & mrna & didi\\_linkage\\_2 & 4 & mrna & 2 & GTCAAAGTCAAAGTCAAAGTCAAATTCAGTTTCAGTTTCAGTTTCAGT & mixdicodons\\_GTCAAA\\_TTCAGT\\_4     \\\\\n",
       "\t 107p10 & didi\\_mrna\\_2 & 170 & 77337 & 1 & 100 & mrna & didi\\_linkage\\_2 & 4 & mrna & 2 & AAAGTCAGTTTCAAAGTCAGTTTCAAAGTCAGTTTCAAAGTCAGTTTC & mixdicodons\\_AAAGTC\\_AGTTTC\\_1     \\\\\n",
       "\t 107p10 & didi\\_mrna\\_2 & 266 & 77360 & 1 & 102 & mrna & didi\\_linkage\\_2 & 4 & mrna & 2 & TCCAAGTACTCCAAGTACTCCAAGTACTCCAAGTACTCCAAGTACTCC & reorderdicodon\\_AAGTAC\\_1         \\\\\n",
       "\t 107p10 & didi\\_mrna\\_2 & 270 & 77405 & 1 & 106 & mrna & didi\\_linkage\\_2 & 4 & mrna & 2 & TCCAAGTTCAAGTTCTCCAAGTTCAAGTTCTCCAAGTTCAAGTTCTCC & reorderdicodon\\_AAGTTC\\_2         \\\\\n",
       "\t 107p10 & didi\\_mrna\\_2 &   4 & 77424 & 1 & 108 & mrna & didi\\_linkage\\_2 & 4 & mrna & 2 & AAGATCAAGATCAAGATCAAGATCAAGATCTCCGGCTCCGGCTCCGGC & varydicodonrepeatlength\\_AAGATC\\_5\\\\\n",
       "\t 107p10 & didi\\_mrna\\_2 & 304 & 77466 & 1 & 114 & mrna & didi\\_linkage\\_2 & 4 & mrna & 2 & TCCGTCAAAGTCAAAGTCAAATCCTCCGTCAAAGTCAAAGTCAAATCC & reorderdicodon\\_GTCAAA\\_3         \\\\\n",
       "\t 107p10 & didi\\_mrna\\_2 & 294 & 77478 & 1 & 117 & mrna & didi\\_linkage\\_2 & 4 & mrna & 2 & TCCCTCGGACTCGGATCCCTCGGACTCGGATCCCTCGGACTCGGATCC & reorderdicodon\\_CTCGGA\\_2         \\\\\n",
       "\t 107p10 & didi\\_mrna\\_2 & 204 & 77484 & 1 & 118 & mrna & didi\\_linkage\\_2 & 4 & mrna & 2 & CATCGCCATCGCAGTTTCAGTTTCCATCGCCATCGCAGTTTCAGTTTC & mixdicodons\\_CATCGC\\_AGTTTC\\_2     \\\\\n",
       "\t 107p10 & didi\\_mrna\\_2 & 242 & 77526 & 1 & 131 & mrna & didi\\_linkage\\_2 & 4 & mrna & 2 & GTCAAATTCAGTGTCAAATTCAGTGTCAAATTCAGTGTCAAATTCAGT & mixdicodons\\_GTCAAA\\_TTCAGT\\_1     \\\\\n",
       "\t 107p10 & didi\\_mrna\\_2 & 242 & 77532 & 1 & 133 & mrna & didi\\_linkage\\_2 & 4 & mrna & 2 & GTCAAATTCAGTGTCAAATTCAGTGTCAAATTCAGTGTCAAATTCAGT & mixdicodons\\_GTCAAA\\_TTCAGT\\_1     \\\\\n",
       "\t 107p10 & didi\\_mrna\\_2 & 143 & 77559 & 1 & 159 & mrna & didi\\_linkage\\_2 & 4 & mrna & 2 & TACAAGTACAAGTACAAGTACAAGTACAAGTACAAGTACAAGTACAAG & varydicodonrepeatlength\\_TACAAG\\_8\\\\\n",
       "\t 107p10 & didi\\_mrna\\_2 & 279 & 77561 & 1 & 171 & mrna & didi\\_linkage\\_2 & 4 & mrna & 2 & TCCATCAAGATCAAGTCCATCAAGATCAAGTCCATCAAGATCAAGTCC & reorderdicodon\\_ATCAAG\\_2         \\\\\n",
       "\\end{tabular}\n"
      ],
      "text/markdown": [
       "\n",
       "A spec_tbl_df: 84782 × 13\n",
       "\n",
       "| sample_id &lt;chr&gt; | sample_name &lt;chr&gt; | insert_num &lt;dbl&gt; | barcode_num &lt;dbl&gt; | barcode_count &lt;dbl&gt; | linkage_count &lt;dbl&gt; | library_type &lt;chr&gt; | linkage_ref &lt;chr&gt; | sample_num &lt;dbl&gt; | sample_type &lt;chr&gt; | replicate &lt;dbl&gt; | seq &lt;chr&gt; | insert_name &lt;chr&gt; |\n",
       "|---|---|---|---|---|---|---|---|---|---|---|---|---|\n",
       "| 107p7 | didi_grna_1 |  86 | 47695 | 4582 |  26 | grna | didi_linkage_1 | 1 | grna | 1 | CGTGAACGTGAACGTGAACGTGAACGTGAACGTGAACGTGAATCCGGC | varydicodonrepeatlength_CGTGAA_7 |\n",
       "| 107p7 | didi_grna_1 |  22 | 17334 | 4086 |   6 | grna | didi_linkage_1 | 1 | grna | 1 | AGAGAGAGAGAGAGAGAGAGAGAGAGAGAGAGAGAGAGAGAGTCCGGC | varydicodonrepeatlength_AGAGAG_7 |\n",
       "| 107p7 | didi_grna_1 | 172 |  6711 | 4078 |   1 | grna | didi_linkage_1 | 1 | grna | 1 | AAAGTCAAAGTCAAAGTCAAAGTCAGTTTCAGTTTCAGTTTCAGTTTC | mixdicodons_AAAGTC_AGTTTC_4      |\n",
       "| 107p7 | didi_grna_1 |  20 |  5501 | 4068 |   1 | grna | didi_linkage_1 | 1 | grna | 1 | AGAGAGAGAGAGAGAGAGAGAGAGAGAGAGTCCGGCTCCGGCTCCGGC | varydicodonrepeatlength_AGAGAG_5 |\n",
       "| 107p7 | didi_grna_1 | 275 |  2109 | 3889 |   1 | grna | didi_linkage_1 | 1 | grna | 1 | TCCAGTTTCTCCAGTTTCTCCAGTTTCTCCAGTTTCTCCAGTTTCTCC | reorderdicodon_AGTTTC_1          |\n",
       "| 107p7 | didi_grna_1 |  54 | 46374 | 3821 |  25 | grna | didi_linkage_1 | 1 | grna | 1 | ATGATGATGATGATGATGATGATGATGATGATGATGATGATGTCCGGC | varydicodonrepeatlength_ATGATG_7 |\n",
       "| 107p7 | didi_grna_1 | 150 | 49997 | 3797 |  29 | grna | didi_linkage_1 | 1 | grna | 1 | TTGATGTTGATGTTGATGTTGATGTTGATGTTGATGTTGATGTCCGGC | varydicodonrepeatlength_TTGATG_7 |\n",
       "| 107p7 | didi_grna_1 | 236 |  1823 | 3785 |   1 | grna | didi_linkage_1 | 1 | grna | 1 | GTCAAACATCGCGTCAAACATCGCGTCAAACATCGCGTCAAACATCGC | mixdicodons_GTCAAA_CATCGC_1      |\n",
       "| 107p7 | didi_grna_1 |  90 | 41296 | 3778 |  20 | grna | didi_linkage_1 | 1 | grna | 1 | CTCATACTCATACTCATATCCGGCTCCGGCTCCGGCTCCGGCTCCGGC | varydicodonrepeatlength_CTCATA_3 |\n",
       "| 107p7 | didi_grna_1 | 227 | 26592 | 3694 |  11 | grna | didi_linkage_1 | 1 | grna | 1 | CGCCATTTCAGTCGCCATTTCAGTCGCCATTTCAGTCGCCATTTCAGT | mixdicodons_CGCCAT_TTCAGT_1      |\n",
       "| 107p7 | didi_grna_1 |  85 | 59591 | 3587 |  68 | grna | didi_linkage_1 | 1 | grna | 1 | CGTGAACGTGAACGTGAACGTGAACGTGAACGTGAATCCGGCTCCGGC | varydicodonrepeatlength_CGTGAA_6 |\n",
       "| 107p7 | didi_grna_1 |  35 | 58816 | 3429 |  56 | grna | didi_linkage_1 | 1 | grna | 1 | AGTTTCAGTTTCAGTTTCAGTTTCTCCGGCTCCGGCTCCGGCTCCGGC | varydicodonrepeatlength_AGTTTC_4 |\n",
       "| 107p7 | didi_grna_1 | 218 | 59966 | 3412 | 178 | grna | didi_linkage_1 | 1 | grna | 1 | CGCCATAGTTTCCGCCATAGTTTCCGCCATAGTTTCCGCCATAGTTTC | mixdicodons_CGCCAT_AGTTTC_1      |\n",
       "| 107p7 | didi_grna_1 | 165 | 42634 | 3393 |  21 | grna | didi_linkage_1 | 1 | grna | 1 | TTTTGTTTTTGTTTTTGTTTTTGTTTTTGTTTTTGTTCCGGCTCCGGC | varydicodonrepeatlength_TTTTGT_6 |\n",
       "| 107p7 | didi_grna_1 | 118 | 21373 | 3121 |   8 | grna | didi_linkage_1 | 1 | grna | 1 | CTTATCCTTATCCTTATCCTTATCCTTATCCTTATCCTTATCTCCGGC | varydicodonrepeatlength_CTTATC_7 |\n",
       "| 107p7 | didi_grna_1 |  64 | 28279 | 3114 |  12 | grna | didi_linkage_1 | 1 | grna | 1 | CGCCATTCCGGCTCCGGCTCCGGCTCCGGCTCCGGCTCCGGCTCCGGC | varydicodonrepeatlength_CGCCAT_1 |\n",
       "| 107p7 | didi_grna_1 |  23 | 49127 | 2949 |  28 | grna | didi_linkage_1 | 1 | grna | 1 | AGAGAGAGAGAGAGAGAGAGAGAGAGAGAGAGAGAGAGAGAGAGAGAG | varydicodonrepeatlength_AGAGAG_8 |\n",
       "| 107p7 | didi_grna_1 |  22 | 17521 | 2921 |   6 | grna | didi_linkage_1 | 1 | grna | 1 | AGAGAGAGAGAGAGAGAGAGAGAGAGAGAGAGAGAGAGAGAGTCCGGC | varydicodonrepeatlength_AGAGAG_7 |\n",
       "| 107p7 | didi_grna_1 |  23 | 48461 | 2844 |  27 | grna | didi_linkage_1 | 1 | grna | 1 | AGAGAGAGAGAGAGAGAGAGAGAGAGAGAGAGAGAGAGAGAGAGAGAG | varydicodonrepeatlength_AGAGAG_8 |\n",
       "| 107p7 | didi_grna_1 |  74 |  4880 | 2834 |   1 | grna | didi_linkage_1 | 1 | grna | 1 | CGCTTCCGCTTCCGCTTCTCCGGCTCCGGCTCCGGCTCCGGCTCCGGC | varydicodonrepeatlength_CGCTTC_3 |\n",
       "| 107p7 | didi_grna_1 | 273 | 57968 | 2821 |  49 | grna | didi_linkage_1 | 1 | grna | 1 | TCCAGAGAGAGAGAGTCCAGAGAGAGAGAGTCCAGAGAGAGAGAGTCC | reorderdicodon_AGAGAG_2          |\n",
       "| 107p7 | didi_grna_1 | 249 | 44282 | 2765 |  23 | grna | didi_linkage_1 | 1 | grna | 1 | TTCAGTTTCAGTAGTTTCAGTTTCTTCAGTTTCAGTAGTTTCAGTTTC | mixdicodons_TTCAGT_AGTTTC_2      |\n",
       "| 107p7 | didi_grna_1 |  23 | 27458 | 2759 |  11 | grna | didi_linkage_1 | 1 | grna | 1 | AGAGAGAGAGAGAGAGAGAGAGAGAGAGAGAGAGAGAGAGAGAGAGAG | varydicodonrepeatlength_AGAGAG_8 |\n",
       "| 107p7 | didi_grna_1 | 219 | 55793 | 2758 |  41 | grna | didi_linkage_1 | 1 | grna | 1 | CGCCATCGCCATAGTTTCAGTTTCCGCCATCGCCATAGTTTCAGTTTC | mixdicodons_CGCCAT_AGTTTC_2      |\n",
       "| 107p7 | didi_grna_1 |  34 | 48967 | 2694 |  28 | grna | didi_linkage_1 | 1 | grna | 1 | AGTTTCAGTTTCAGTTTCTCCGGCTCCGGCTCCGGCTCCGGCTCCGGC | varydicodonrepeatlength_AGTTTC_3 |\n",
       "| 107p7 | didi_grna_1 | 189 | 46020 | 2618 |  25 | grna | didi_linkage_1 | 1 | grna | 1 | AGTTTCAGTTTCCATCGCCATCGCAGTTTCAGTTTCCATCGCCATCGC | mixdicodons_AGTTTC_CATCGC_2      |\n",
       "| 107p7 | didi_grna_1 | 274 | 54296 | 2596 |  37 | grna | didi_linkage_1 | 1 | grna | 1 | TCCAGAGAGAGAGAGAGAGAGTCCTCCAGAGAGAGAGAGAGAGAGTCC | reorderdicodon_AGAGAG_3          |\n",
       "| 107p7 | didi_grna_1 | 195 | 23649 | 2540 |   9 | grna | didi_linkage_1 | 1 | grna | 1 | AGTTTCAGTTTCGTCAAAGTCAAAAGTTTCAGTTTCGTCAAAGTCAAA | mixdicodons_AGTTTC_GTCAAA_2      |\n",
       "| 107p7 | didi_grna_1 | 230 |   523 | 2513 |   1 | grna | didi_linkage_1 | 1 | grna | 1 | GTCAAAAAAGTCGTCAAAAAAGTCGTCAAAAAAGTCGTCAAAAAAGTC | mixdicodons_GTCAAA_AAAGTC_1      |\n",
       "| 107p7 | didi_grna_1 | 249 |   343 | 2511 |   1 | grna | didi_linkage_1 | 1 | grna | 1 | TTCAGTTTCAGTAGTTTCAGTTTCTTCAGTTTCAGTAGTTTCAGTTTC | mixdicodons_TTCAGT_AGTTTC_2      |\n",
       "| ⋮ | ⋮ | ⋮ | ⋮ | ⋮ | ⋮ | ⋮ | ⋮ | ⋮ | ⋮ | ⋮ | ⋮ | ⋮ |\n",
       "| 107p10 | didi_mrna_2 | 124 | 77098 | 1 |  89 | mrna | didi_linkage_2 | 4 | mrna | 2 | GTCAAAGTCAAAGTCAAAGTCAAAGTCAAATCCGGCTCCGGCTCCGGC | varydicodonrepeatlength_GTCAAA_5 |\n",
       "| 107p10 | didi_mrna_2 | 299 | 77107 | 1 |  89 | mrna | didi_linkage_2 | 4 | mrna | 2 | TCCGGACTCTCCGGACTCTCCGGACTCTCCGGACTCTCCGGACTCTCC | reorderdicodon_GGACTC_1          |\n",
       "| 107p10 | didi_mrna_2 |  38 | 77114 | 1 |  89 | mrna | didi_linkage_2 | 4 | mrna | 2 | AGTTTCAGTTTCAGTTTCAGTTTCAGTTTCAGTTTCAGTTTCTCCGGC | varydicodonrepeatlength_AGTTTC_7 |\n",
       "| 107p10 | didi_mrna_2 | 183 | 77116 | 1 |  89 | mrna | didi_linkage_2 | 4 | mrna | 2 | AAAGTCAAAGTCTTCAGTTTCAGTAAAGTCAAAGTCTTCAGTTTCAGT | mixdicodons_AAAGTC_TTCAGT_2      |\n",
       "| 107p10 | didi_mrna_2 | 194 | 77137 | 1 |  90 | mrna | didi_linkage_2 | 4 | mrna | 2 | AGTTTCGTCAAAAGTTTCGTCAAAAGTTTCGTCAAAAGTTTCGTCAAA | mixdicodons_AGTTTC_GTCAAA_1      |\n",
       "| 107p10 | didi_mrna_2 |  34 | 77144 | 1 |  91 | mrna | didi_linkage_2 | 4 | mrna | 2 | AGTTTCAGTTTCAGTTTCTCCGGCTCCGGCTCCGGCTCCGGCTCCGGC | varydicodonrepeatlength_AGTTTC_3 |\n",
       "| 107p10 | didi_mrna_2 |   5 | 77168 | 1 |  91 | mrna | didi_linkage_2 | 4 | mrna | 2 | AAGATCAAGATCAAGATCAAGATCAAGATCAAGATCTCCGGCTCCGGC | varydicodonrepeatlength_AAGATC_6 |\n",
       "| 107p10 | didi_mrna_2 | 178 | 77185 | 1 |  92 | mrna | didi_linkage_2 | 4 | mrna | 2 | AAAGTCAAAGTCAAAGTCAAAGTCCGCCATCGCCATCGCCATCGCCAT | mixdicodons_AAAGTC_CGCCAT_4      |\n",
       "| 107p10 | didi_mrna_2 | 270 | 77187 | 1 |  92 | mrna | didi_linkage_2 | 4 | mrna | 2 | TCCAAGTTCAAGTTCTCCAAGTTCAAGTTCTCCAAGTTCAAGTTCTCC | reorderdicodon_AAGTTC_2          |\n",
       "| 107p10 | didi_mrna_2 |  14 | 77196 | 1 |  93 | mrna | didi_linkage_2 | 4 | mrna | 2 | AAGTTCAAGTTCAAGTTCAAGTTCAAGTTCAAGTTCAAGTTCTCCGGC | varydicodonrepeatlength_AAGTTC_7 |\n",
       "| 107p10 | didi_mrna_2 | 237 | 77199 | 1 |  93 | mrna | didi_linkage_2 | 4 | mrna | 2 | GTCAAAGTCAAACATCGCCATCGCGTCAAAGTCAAACATCGCCATCGC | mixdicodons_GTCAAA_CATCGC_2      |\n",
       "| 107p10 | didi_mrna_2 | 123 | 77206 | 1 |  93 | mrna | didi_linkage_2 | 4 | mrna | 2 | GTCAAAGTCAAAGTCAAAGTCAAATCCGGCTCCGGCTCCGGCTCCGGC | varydicodonrepeatlength_GTCAAA_4 |\n",
       "| 107p10 | didi_mrna_2 | 124 | 77207 | 1 |  93 | mrna | didi_linkage_2 | 4 | mrna | 2 | GTCAAAGTCAAAGTCAAAGTCAAAGTCAAATCCGGCTCCGGCTCCGGC | varydicodonrepeatlength_GTCAAA_5 |\n",
       "| 107p10 | didi_mrna_2 | 183 | 77208 | 1 |  93 | mrna | didi_linkage_2 | 4 | mrna | 2 | AAAGTCAAAGTCTTCAGTTTCAGTAAAGTCAAAGTCTTCAGTTTCAGT | mixdicodons_AAAGTC_TTCAGT_2      |\n",
       "| 107p10 | didi_mrna_2 | 204 | 77221 | 1 |  94 | mrna | didi_linkage_2 | 4 | mrna | 2 | CATCGCCATCGCAGTTTCAGTTTCCATCGCCATCGCAGTTTCAGTTTC | mixdicodons_CATCGC_AGTTTC_2      |\n",
       "| 107p10 | didi_mrna_2 | 306 | 77223 | 1 |  94 | mrna | didi_linkage_2 | 4 | mrna | 2 | TCCTACAAGTACAAGTCCTACAAGTACAAGTCCTACAAGTACAAGTCC | reorderdicodon_TACAAG_2          |\n",
       "| 107p10 | didi_mrna_2 | 241 | 77261 | 1 |  96 | mrna | didi_linkage_2 | 4 | mrna | 2 | GTCAAAGTCAAAGTCAAAGTCAAACGCCATCGCCATCGCCATCGCCAT | mixdicodons_GTCAAA_CGCCAT_4      |\n",
       "| 107p10 | didi_mrna_2 |  33 | 77291 | 1 |  97 | mrna | didi_linkage_2 | 4 | mrna | 2 | AGTTTCAGTTTCTCCGGCTCCGGCTCCGGCTCCGGCTCCGGCTCCGGC | varydicodonrepeatlength_AGTTTC_2 |\n",
       "| 107p10 | didi_mrna_2 | 244 | 77296 | 1 |  98 | mrna | didi_linkage_2 | 4 | mrna | 2 | GTCAAAGTCAAAGTCAAAGTCAAATTCAGTTTCAGTTTCAGTTTCAGT | mixdicodons_GTCAAA_TTCAGT_4      |\n",
       "| 107p10 | didi_mrna_2 | 170 | 77337 | 1 | 100 | mrna | didi_linkage_2 | 4 | mrna | 2 | AAAGTCAGTTTCAAAGTCAGTTTCAAAGTCAGTTTCAAAGTCAGTTTC | mixdicodons_AAAGTC_AGTTTC_1      |\n",
       "| 107p10 | didi_mrna_2 | 266 | 77360 | 1 | 102 | mrna | didi_linkage_2 | 4 | mrna | 2 | TCCAAGTACTCCAAGTACTCCAAGTACTCCAAGTACTCCAAGTACTCC | reorderdicodon_AAGTAC_1          |\n",
       "| 107p10 | didi_mrna_2 | 270 | 77405 | 1 | 106 | mrna | didi_linkage_2 | 4 | mrna | 2 | TCCAAGTTCAAGTTCTCCAAGTTCAAGTTCTCCAAGTTCAAGTTCTCC | reorderdicodon_AAGTTC_2          |\n",
       "| 107p10 | didi_mrna_2 |   4 | 77424 | 1 | 108 | mrna | didi_linkage_2 | 4 | mrna | 2 | AAGATCAAGATCAAGATCAAGATCAAGATCTCCGGCTCCGGCTCCGGC | varydicodonrepeatlength_AAGATC_5 |\n",
       "| 107p10 | didi_mrna_2 | 304 | 77466 | 1 | 114 | mrna | didi_linkage_2 | 4 | mrna | 2 | TCCGTCAAAGTCAAAGTCAAATCCTCCGTCAAAGTCAAAGTCAAATCC | reorderdicodon_GTCAAA_3          |\n",
       "| 107p10 | didi_mrna_2 | 294 | 77478 | 1 | 117 | mrna | didi_linkage_2 | 4 | mrna | 2 | TCCCTCGGACTCGGATCCCTCGGACTCGGATCCCTCGGACTCGGATCC | reorderdicodon_CTCGGA_2          |\n",
       "| 107p10 | didi_mrna_2 | 204 | 77484 | 1 | 118 | mrna | didi_linkage_2 | 4 | mrna | 2 | CATCGCCATCGCAGTTTCAGTTTCCATCGCCATCGCAGTTTCAGTTTC | mixdicodons_CATCGC_AGTTTC_2      |\n",
       "| 107p10 | didi_mrna_2 | 242 | 77526 | 1 | 131 | mrna | didi_linkage_2 | 4 | mrna | 2 | GTCAAATTCAGTGTCAAATTCAGTGTCAAATTCAGTGTCAAATTCAGT | mixdicodons_GTCAAA_TTCAGT_1      |\n",
       "| 107p10 | didi_mrna_2 | 242 | 77532 | 1 | 133 | mrna | didi_linkage_2 | 4 | mrna | 2 | GTCAAATTCAGTGTCAAATTCAGTGTCAAATTCAGTGTCAAATTCAGT | mixdicodons_GTCAAA_TTCAGT_1      |\n",
       "| 107p10 | didi_mrna_2 | 143 | 77559 | 1 | 159 | mrna | didi_linkage_2 | 4 | mrna | 2 | TACAAGTACAAGTACAAGTACAAGTACAAGTACAAGTACAAGTACAAG | varydicodonrepeatlength_TACAAG_8 |\n",
       "| 107p10 | didi_mrna_2 | 279 | 77561 | 1 | 171 | mrna | didi_linkage_2 | 4 | mrna | 2 | TCCATCAAGATCAAGTCCATCAAGATCAAGTCCATCAAGATCAAGTCC | reorderdicodon_ATCAAG_2          |\n",
       "\n"
      ],
      "text/plain": [
       "      sample_id sample_name insert_num barcode_num barcode_count linkage_count\n",
       "1     107p7     didi_grna_1  86        47695       4582           26          \n",
       "2     107p7     didi_grna_1  22        17334       4086            6          \n",
       "3     107p7     didi_grna_1 172         6711       4078            1          \n",
       "4     107p7     didi_grna_1  20         5501       4068            1          \n",
       "5     107p7     didi_grna_1 275         2109       3889            1          \n",
       "6     107p7     didi_grna_1  54        46374       3821           25          \n",
       "7     107p7     didi_grna_1 150        49997       3797           29          \n",
       "8     107p7     didi_grna_1 236         1823       3785            1          \n",
       "9     107p7     didi_grna_1  90        41296       3778           20          \n",
       "10    107p7     didi_grna_1 227        26592       3694           11          \n",
       "11    107p7     didi_grna_1  85        59591       3587           68          \n",
       "12    107p7     didi_grna_1  35        58816       3429           56          \n",
       "13    107p7     didi_grna_1 218        59966       3412          178          \n",
       "14    107p7     didi_grna_1 165        42634       3393           21          \n",
       "15    107p7     didi_grna_1 118        21373       3121            8          \n",
       "16    107p7     didi_grna_1  64        28279       3114           12          \n",
       "17    107p7     didi_grna_1  23        49127       2949           28          \n",
       "18    107p7     didi_grna_1  22        17521       2921            6          \n",
       "19    107p7     didi_grna_1  23        48461       2844           27          \n",
       "20    107p7     didi_grna_1  74         4880       2834            1          \n",
       "21    107p7     didi_grna_1 273        57968       2821           49          \n",
       "22    107p7     didi_grna_1 249        44282       2765           23          \n",
       "23    107p7     didi_grna_1  23        27458       2759           11          \n",
       "24    107p7     didi_grna_1 219        55793       2758           41          \n",
       "25    107p7     didi_grna_1  34        48967       2694           28          \n",
       "26    107p7     didi_grna_1 189        46020       2618           25          \n",
       "27    107p7     didi_grna_1 274        54296       2596           37          \n",
       "28    107p7     didi_grna_1 195        23649       2540            9          \n",
       "29    107p7     didi_grna_1 230          523       2513            1          \n",
       "30    107p7     didi_grna_1 249          343       2511            1          \n",
       "⋮     ⋮         ⋮           ⋮          ⋮           ⋮             ⋮            \n",
       "84753 107p10    didi_mrna_2 124        77098       1              89          \n",
       "84754 107p10    didi_mrna_2 299        77107       1              89          \n",
       "84755 107p10    didi_mrna_2  38        77114       1              89          \n",
       "84756 107p10    didi_mrna_2 183        77116       1              89          \n",
       "84757 107p10    didi_mrna_2 194        77137       1              90          \n",
       "84758 107p10    didi_mrna_2  34        77144       1              91          \n",
       "84759 107p10    didi_mrna_2   5        77168       1              91          \n",
       "84760 107p10    didi_mrna_2 178        77185       1              92          \n",
       "84761 107p10    didi_mrna_2 270        77187       1              92          \n",
       "84762 107p10    didi_mrna_2  14        77196       1              93          \n",
       "84763 107p10    didi_mrna_2 237        77199       1              93          \n",
       "84764 107p10    didi_mrna_2 123        77206       1              93          \n",
       "84765 107p10    didi_mrna_2 124        77207       1              93          \n",
       "84766 107p10    didi_mrna_2 183        77208       1              93          \n",
       "84767 107p10    didi_mrna_2 204        77221       1              94          \n",
       "84768 107p10    didi_mrna_2 306        77223       1              94          \n",
       "84769 107p10    didi_mrna_2 241        77261       1              96          \n",
       "84770 107p10    didi_mrna_2  33        77291       1              97          \n",
       "84771 107p10    didi_mrna_2 244        77296       1              98          \n",
       "84772 107p10    didi_mrna_2 170        77337       1             100          \n",
       "84773 107p10    didi_mrna_2 266        77360       1             102          \n",
       "84774 107p10    didi_mrna_2 270        77405       1             106          \n",
       "84775 107p10    didi_mrna_2   4        77424       1             108          \n",
       "84776 107p10    didi_mrna_2 304        77466       1             114          \n",
       "84777 107p10    didi_mrna_2 294        77478       1             117          \n",
       "84778 107p10    didi_mrna_2 204        77484       1             118          \n",
       "84779 107p10    didi_mrna_2 242        77526       1             131          \n",
       "84780 107p10    didi_mrna_2 242        77532       1             133          \n",
       "84781 107p10    didi_mrna_2 143        77559       1             159          \n",
       "84782 107p10    didi_mrna_2 279        77561       1             171          \n",
       "      library_type linkage_ref    sample_num sample_type replicate\n",
       "1     grna         didi_linkage_1 1          grna        1        \n",
       "2     grna         didi_linkage_1 1          grna        1        \n",
       "3     grna         didi_linkage_1 1          grna        1        \n",
       "4     grna         didi_linkage_1 1          grna        1        \n",
       "5     grna         didi_linkage_1 1          grna        1        \n",
       "6     grna         didi_linkage_1 1          grna        1        \n",
       "7     grna         didi_linkage_1 1          grna        1        \n",
       "8     grna         didi_linkage_1 1          grna        1        \n",
       "9     grna         didi_linkage_1 1          grna        1        \n",
       "10    grna         didi_linkage_1 1          grna        1        \n",
       "11    grna         didi_linkage_1 1          grna        1        \n",
       "12    grna         didi_linkage_1 1          grna        1        \n",
       "13    grna         didi_linkage_1 1          grna        1        \n",
       "14    grna         didi_linkage_1 1          grna        1        \n",
       "15    grna         didi_linkage_1 1          grna        1        \n",
       "16    grna         didi_linkage_1 1          grna        1        \n",
       "17    grna         didi_linkage_1 1          grna        1        \n",
       "18    grna         didi_linkage_1 1          grna        1        \n",
       "19    grna         didi_linkage_1 1          grna        1        \n",
       "20    grna         didi_linkage_1 1          grna        1        \n",
       "21    grna         didi_linkage_1 1          grna        1        \n",
       "22    grna         didi_linkage_1 1          grna        1        \n",
       "23    grna         didi_linkage_1 1          grna        1        \n",
       "24    grna         didi_linkage_1 1          grna        1        \n",
       "25    grna         didi_linkage_1 1          grna        1        \n",
       "26    grna         didi_linkage_1 1          grna        1        \n",
       "27    grna         didi_linkage_1 1          grna        1        \n",
       "28    grna         didi_linkage_1 1          grna        1        \n",
       "29    grna         didi_linkage_1 1          grna        1        \n",
       "30    grna         didi_linkage_1 1          grna        1        \n",
       "⋮     ⋮            ⋮              ⋮          ⋮           ⋮        \n",
       "84753 mrna         didi_linkage_2 4          mrna        2        \n",
       "84754 mrna         didi_linkage_2 4          mrna        2        \n",
       "84755 mrna         didi_linkage_2 4          mrna        2        \n",
       "84756 mrna         didi_linkage_2 4          mrna        2        \n",
       "84757 mrna         didi_linkage_2 4          mrna        2        \n",
       "84758 mrna         didi_linkage_2 4          mrna        2        \n",
       "84759 mrna         didi_linkage_2 4          mrna        2        \n",
       "84760 mrna         didi_linkage_2 4          mrna        2        \n",
       "84761 mrna         didi_linkage_2 4          mrna        2        \n",
       "84762 mrna         didi_linkage_2 4          mrna        2        \n",
       "84763 mrna         didi_linkage_2 4          mrna        2        \n",
       "84764 mrna         didi_linkage_2 4          mrna        2        \n",
       "84765 mrna         didi_linkage_2 4          mrna        2        \n",
       "84766 mrna         didi_linkage_2 4          mrna        2        \n",
       "84767 mrna         didi_linkage_2 4          mrna        2        \n",
       "84768 mrna         didi_linkage_2 4          mrna        2        \n",
       "84769 mrna         didi_linkage_2 4          mrna        2        \n",
       "84770 mrna         didi_linkage_2 4          mrna        2        \n",
       "84771 mrna         didi_linkage_2 4          mrna        2        \n",
       "84772 mrna         didi_linkage_2 4          mrna        2        \n",
       "84773 mrna         didi_linkage_2 4          mrna        2        \n",
       "84774 mrna         didi_linkage_2 4          mrna        2        \n",
       "84775 mrna         didi_linkage_2 4          mrna        2        \n",
       "84776 mrna         didi_linkage_2 4          mrna        2        \n",
       "84777 mrna         didi_linkage_2 4          mrna        2        \n",
       "84778 mrna         didi_linkage_2 4          mrna        2        \n",
       "84779 mrna         didi_linkage_2 4          mrna        2        \n",
       "84780 mrna         didi_linkage_2 4          mrna        2        \n",
       "84781 mrna         didi_linkage_2 4          mrna        2        \n",
       "84782 mrna         didi_linkage_2 4          mrna        2        \n",
       "      seq                                             \n",
       "1     CGTGAACGTGAACGTGAACGTGAACGTGAACGTGAACGTGAATCCGGC\n",
       "2     AGAGAGAGAGAGAGAGAGAGAGAGAGAGAGAGAGAGAGAGAGTCCGGC\n",
       "3     AAAGTCAAAGTCAAAGTCAAAGTCAGTTTCAGTTTCAGTTTCAGTTTC\n",
       "4     AGAGAGAGAGAGAGAGAGAGAGAGAGAGAGTCCGGCTCCGGCTCCGGC\n",
       "5     TCCAGTTTCTCCAGTTTCTCCAGTTTCTCCAGTTTCTCCAGTTTCTCC\n",
       "6     ATGATGATGATGATGATGATGATGATGATGATGATGATGATGTCCGGC\n",
       "7     TTGATGTTGATGTTGATGTTGATGTTGATGTTGATGTTGATGTCCGGC\n",
       "8     GTCAAACATCGCGTCAAACATCGCGTCAAACATCGCGTCAAACATCGC\n",
       "9     CTCATACTCATACTCATATCCGGCTCCGGCTCCGGCTCCGGCTCCGGC\n",
       "10    CGCCATTTCAGTCGCCATTTCAGTCGCCATTTCAGTCGCCATTTCAGT\n",
       "11    CGTGAACGTGAACGTGAACGTGAACGTGAACGTGAATCCGGCTCCGGC\n",
       "12    AGTTTCAGTTTCAGTTTCAGTTTCTCCGGCTCCGGCTCCGGCTCCGGC\n",
       "13    CGCCATAGTTTCCGCCATAGTTTCCGCCATAGTTTCCGCCATAGTTTC\n",
       "14    TTTTGTTTTTGTTTTTGTTTTTGTTTTTGTTTTTGTTCCGGCTCCGGC\n",
       "15    CTTATCCTTATCCTTATCCTTATCCTTATCCTTATCCTTATCTCCGGC\n",
       "16    CGCCATTCCGGCTCCGGCTCCGGCTCCGGCTCCGGCTCCGGCTCCGGC\n",
       "17    AGAGAGAGAGAGAGAGAGAGAGAGAGAGAGAGAGAGAGAGAGAGAGAG\n",
       "18    AGAGAGAGAGAGAGAGAGAGAGAGAGAGAGAGAGAGAGAGAGTCCGGC\n",
       "19    AGAGAGAGAGAGAGAGAGAGAGAGAGAGAGAGAGAGAGAGAGAGAGAG\n",
       "20    CGCTTCCGCTTCCGCTTCTCCGGCTCCGGCTCCGGCTCCGGCTCCGGC\n",
       "21    TCCAGAGAGAGAGAGTCCAGAGAGAGAGAGTCCAGAGAGAGAGAGTCC\n",
       "22    TTCAGTTTCAGTAGTTTCAGTTTCTTCAGTTTCAGTAGTTTCAGTTTC\n",
       "23    AGAGAGAGAGAGAGAGAGAGAGAGAGAGAGAGAGAGAGAGAGAGAGAG\n",
       "24    CGCCATCGCCATAGTTTCAGTTTCCGCCATCGCCATAGTTTCAGTTTC\n",
       "25    AGTTTCAGTTTCAGTTTCTCCGGCTCCGGCTCCGGCTCCGGCTCCGGC\n",
       "26    AGTTTCAGTTTCCATCGCCATCGCAGTTTCAGTTTCCATCGCCATCGC\n",
       "27    TCCAGAGAGAGAGAGAGAGAGTCCTCCAGAGAGAGAGAGAGAGAGTCC\n",
       "28    AGTTTCAGTTTCGTCAAAGTCAAAAGTTTCAGTTTCGTCAAAGTCAAA\n",
       "29    GTCAAAAAAGTCGTCAAAAAAGTCGTCAAAAAAGTCGTCAAAAAAGTC\n",
       "30    TTCAGTTTCAGTAGTTTCAGTTTCTTCAGTTTCAGTAGTTTCAGTTTC\n",
       "⋮     ⋮                                               \n",
       "84753 GTCAAAGTCAAAGTCAAAGTCAAAGTCAAATCCGGCTCCGGCTCCGGC\n",
       "84754 TCCGGACTCTCCGGACTCTCCGGACTCTCCGGACTCTCCGGACTCTCC\n",
       "84755 AGTTTCAGTTTCAGTTTCAGTTTCAGTTTCAGTTTCAGTTTCTCCGGC\n",
       "84756 AAAGTCAAAGTCTTCAGTTTCAGTAAAGTCAAAGTCTTCAGTTTCAGT\n",
       "84757 AGTTTCGTCAAAAGTTTCGTCAAAAGTTTCGTCAAAAGTTTCGTCAAA\n",
       "84758 AGTTTCAGTTTCAGTTTCTCCGGCTCCGGCTCCGGCTCCGGCTCCGGC\n",
       "84759 AAGATCAAGATCAAGATCAAGATCAAGATCAAGATCTCCGGCTCCGGC\n",
       "84760 AAAGTCAAAGTCAAAGTCAAAGTCCGCCATCGCCATCGCCATCGCCAT\n",
       "84761 TCCAAGTTCAAGTTCTCCAAGTTCAAGTTCTCCAAGTTCAAGTTCTCC\n",
       "84762 AAGTTCAAGTTCAAGTTCAAGTTCAAGTTCAAGTTCAAGTTCTCCGGC\n",
       "84763 GTCAAAGTCAAACATCGCCATCGCGTCAAAGTCAAACATCGCCATCGC\n",
       "84764 GTCAAAGTCAAAGTCAAAGTCAAATCCGGCTCCGGCTCCGGCTCCGGC\n",
       "84765 GTCAAAGTCAAAGTCAAAGTCAAAGTCAAATCCGGCTCCGGCTCCGGC\n",
       "84766 AAAGTCAAAGTCTTCAGTTTCAGTAAAGTCAAAGTCTTCAGTTTCAGT\n",
       "84767 CATCGCCATCGCAGTTTCAGTTTCCATCGCCATCGCAGTTTCAGTTTC\n",
       "84768 TCCTACAAGTACAAGTCCTACAAGTACAAGTCCTACAAGTACAAGTCC\n",
       "84769 GTCAAAGTCAAAGTCAAAGTCAAACGCCATCGCCATCGCCATCGCCAT\n",
       "84770 AGTTTCAGTTTCTCCGGCTCCGGCTCCGGCTCCGGCTCCGGCTCCGGC\n",
       "84771 GTCAAAGTCAAAGTCAAAGTCAAATTCAGTTTCAGTTTCAGTTTCAGT\n",
       "84772 AAAGTCAGTTTCAAAGTCAGTTTCAAAGTCAGTTTCAAAGTCAGTTTC\n",
       "84773 TCCAAGTACTCCAAGTACTCCAAGTACTCCAAGTACTCCAAGTACTCC\n",
       "84774 TCCAAGTTCAAGTTCTCCAAGTTCAAGTTCTCCAAGTTCAAGTTCTCC\n",
       "84775 AAGATCAAGATCAAGATCAAGATCAAGATCTCCGGCTCCGGCTCCGGC\n",
       "84776 TCCGTCAAAGTCAAAGTCAAATCCTCCGTCAAAGTCAAAGTCAAATCC\n",
       "84777 TCCCTCGGACTCGGATCCCTCGGACTCGGATCCCTCGGACTCGGATCC\n",
       "84778 CATCGCCATCGCAGTTTCAGTTTCCATCGCCATCGCAGTTTCAGTTTC\n",
       "84779 GTCAAATTCAGTGTCAAATTCAGTGTCAAATTCAGTGTCAAATTCAGT\n",
       "84780 GTCAAATTCAGTGTCAAATTCAGTGTCAAATTCAGTGTCAAATTCAGT\n",
       "84781 TACAAGTACAAGTACAAGTACAAGTACAAGTACAAGTACAAGTACAAG\n",
       "84782 TCCATCAAGATCAAGTCCATCAAGATCAAGTCCATCAAGATCAAGTCC\n",
       "      insert_name                     \n",
       "1     varydicodonrepeatlength_CGTGAA_7\n",
       "2     varydicodonrepeatlength_AGAGAG_7\n",
       "3     mixdicodons_AAAGTC_AGTTTC_4     \n",
       "4     varydicodonrepeatlength_AGAGAG_5\n",
       "5     reorderdicodon_AGTTTC_1         \n",
       "6     varydicodonrepeatlength_ATGATG_7\n",
       "7     varydicodonrepeatlength_TTGATG_7\n",
       "8     mixdicodons_GTCAAA_CATCGC_1     \n",
       "9     varydicodonrepeatlength_CTCATA_3\n",
       "10    mixdicodons_CGCCAT_TTCAGT_1     \n",
       "11    varydicodonrepeatlength_CGTGAA_6\n",
       "12    varydicodonrepeatlength_AGTTTC_4\n",
       "13    mixdicodons_CGCCAT_AGTTTC_1     \n",
       "14    varydicodonrepeatlength_TTTTGT_6\n",
       "15    varydicodonrepeatlength_CTTATC_7\n",
       "16    varydicodonrepeatlength_CGCCAT_1\n",
       "17    varydicodonrepeatlength_AGAGAG_8\n",
       "18    varydicodonrepeatlength_AGAGAG_7\n",
       "19    varydicodonrepeatlength_AGAGAG_8\n",
       "20    varydicodonrepeatlength_CGCTTC_3\n",
       "21    reorderdicodon_AGAGAG_2         \n",
       "22    mixdicodons_TTCAGT_AGTTTC_2     \n",
       "23    varydicodonrepeatlength_AGAGAG_8\n",
       "24    mixdicodons_CGCCAT_AGTTTC_2     \n",
       "25    varydicodonrepeatlength_AGTTTC_3\n",
       "26    mixdicodons_AGTTTC_CATCGC_2     \n",
       "27    reorderdicodon_AGAGAG_3         \n",
       "28    mixdicodons_AGTTTC_GTCAAA_2     \n",
       "29    mixdicodons_GTCAAA_AAAGTC_1     \n",
       "30    mixdicodons_TTCAGT_AGTTTC_2     \n",
       "⋮     ⋮                               \n",
       "84753 varydicodonrepeatlength_GTCAAA_5\n",
       "84754 reorderdicodon_GGACTC_1         \n",
       "84755 varydicodonrepeatlength_AGTTTC_7\n",
       "84756 mixdicodons_AAAGTC_TTCAGT_2     \n",
       "84757 mixdicodons_AGTTTC_GTCAAA_1     \n",
       "84758 varydicodonrepeatlength_AGTTTC_3\n",
       "84759 varydicodonrepeatlength_AAGATC_6\n",
       "84760 mixdicodons_AAAGTC_CGCCAT_4     \n",
       "84761 reorderdicodon_AAGTTC_2         \n",
       "84762 varydicodonrepeatlength_AAGTTC_7\n",
       "84763 mixdicodons_GTCAAA_CATCGC_2     \n",
       "84764 varydicodonrepeatlength_GTCAAA_4\n",
       "84765 varydicodonrepeatlength_GTCAAA_5\n",
       "84766 mixdicodons_AAAGTC_TTCAGT_2     \n",
       "84767 mixdicodons_CATCGC_AGTTTC_2     \n",
       "84768 reorderdicodon_TACAAG_2         \n",
       "84769 mixdicodons_GTCAAA_CGCCAT_4     \n",
       "84770 varydicodonrepeatlength_AGTTTC_2\n",
       "84771 mixdicodons_GTCAAA_TTCAGT_4     \n",
       "84772 mixdicodons_AAAGTC_AGTTTC_1     \n",
       "84773 reorderdicodon_AAGTAC_1         \n",
       "84774 reorderdicodon_AAGTTC_2         \n",
       "84775 varydicodonrepeatlength_AAGATC_5\n",
       "84776 reorderdicodon_GTCAAA_3         \n",
       "84777 reorderdicodon_CTCGGA_2         \n",
       "84778 mixdicodons_CATCGC_AGTTTC_2     \n",
       "84779 mixdicodons_GTCAAA_TTCAGT_1     \n",
       "84780 mixdicodons_GTCAAA_TTCAGT_1     \n",
       "84781 varydicodonrepeatlength_TACAAG_8\n",
       "84782 reorderdicodon_ATCAAG_2         "
      ]
     },
     "metadata": {},
     "output_type": "display_data"
    }
   ],
   "source": [
    "counts <- barcode_counts %>% \n",
    "  left_join(replicate_annotations, by  = \"sample_name\") %>% \n",
    "  left_join(insert_annotations, by = \"insert_num\") %>% \n",
    "  print()\n",
    "\n",
    "counts"
   ]
  },
  {
   "cell_type": "markdown",
   "metadata": {},
   "source": [
    "### Plot correlation between mRNA and gDNA counts for all inserts in both samples\n"
   ]
  },
  {
   "cell_type": "code",
   "execution_count": 159,
   "metadata": {
    "vscode": {
     "languageId": "r"
    }
   },
   "outputs": [
    {
     "name": "stderr",
     "output_type": "stream",
     "text": [
      "`summarise()` has grouped output by 'insert_num'. You can override using the `.groups` argument.\n"
     ]
    },
    {
     "data": {
      "image/png": "[encoded data removed]",
      "text/plain": [
       "plot without title"
      ]
     },
     "metadata": {
      "image/png": {
       "height": 120,
       "width": 240
      }
     },
     "output_type": "display_data"
    }
   ],
   "source": [
    "options(repr.plot.width=4, repr.plot.height=2)\n",
    "\n",
    "counts %>% \n",
    "  select(barcode_num, sample_type, replicate, barcode_count, insert_num) %>%\n",
    "  pivot_wider(names_from = sample_type, values_from = barcode_count) %>%\n",
    "  drop_na() %>%\n",
    "  filter(grna > 100, mrna > 100) %>% \n",
    "  group_by(insert_num, replicate) %>%\n",
    "  arrange(-(grna + mrna)) %>%\n",
    "  # This selects the number of barcodes for each sample\n",
    "  # slice(1:3) %>%\n",
    "  summarize(grna = sum(grna), mrna = sum(mrna)) %>% \n",
    "  ungroup() %>%\n",
    "  arrange(insert_num, replicate) %>%\n",
    "  ggplot(aes(x = grna, y = mrna)) +\n",
    "  facet_wrap(~ replicate) +\n",
    "  geom_point(alpha = 0.2) +\n",
    "  scale_x_log10() +\n",
    "  scale_y_log10() +\n",
    "  theme_bw()"
   ]
  },
  {
   "cell_type": "markdown",
   "metadata": {},
   "source": [
    "## Function for bootstrap mRNA levels"
   ]
  },
  {
   "cell_type": "code",
   "execution_count": 160,
   "metadata": {
    "vscode": {
     "languageId": "r"
    }
   },
   "outputs": [],
   "source": [
    "calc_lfc_bootstrap <- function(data, indices) {\n",
    "  d <- data[indices,]\n",
    "  log2(sum(d$mrna)) - log2(sum(d$grna))\n",
    "}"
   ]
  },
  {
   "cell_type": "markdown",
   "metadata": {},
   "source": [
    "## Calculate mRNA levels for each insert\n",
    "\n",
    "- Calculate lfc and standard deviation using the bootstrapping function above"
   ]
  },
  {
   "cell_type": "code",
   "execution_count": 161,
   "metadata": {
    "vscode": {
     "languageId": "r"
    }
   },
   "outputs": [
    {
     "name": "stdout",
     "output_type": "stream",
     "text": [
      "\u001b[90m# A tibble: 634 × 4\u001b[39m\n",
      "   replicate insert_num    lfc lfc_sd\n",
      "       \u001b[3m\u001b[90m<dbl>\u001b[39m\u001b[23m      \u001b[3m\u001b[90m<dbl>\u001b[39m\u001b[23m  \u001b[3m\u001b[90m<dbl>\u001b[39m\u001b[23m  \u001b[3m\u001b[90m<dbl>\u001b[39m\u001b[23m\n",
      "\u001b[90m 1\u001b[39m         1         86 -\u001b[31m0\u001b[39m\u001b[31m.\u001b[39m\u001b[31m116\u001b[39m  0.252\n",
      "\u001b[90m 2\u001b[39m         1         22 -\u001b[31m1\u001b[39m\u001b[31m.\u001b[39m\u001b[31m94\u001b[39m   0.364\n",
      "\u001b[90m 3\u001b[39m         1        172 -\u001b[31m1\u001b[39m\u001b[31m.\u001b[39m\u001b[31m88\u001b[39m   0.448\n",
      "\u001b[90m 4\u001b[39m         1         20 -\u001b[31m0\u001b[39m\u001b[31m.\u001b[39m\u001b[31m331\u001b[39m  0.301\n",
      "\u001b[90m 5\u001b[39m         1        275  0.611  0.270\n",
      "\u001b[90m 6\u001b[39m         1         54  0.695  0.392\n",
      "\u001b[90m 7\u001b[39m         1        150  0.876  0.334\n",
      "\u001b[90m 8\u001b[39m         1        236 -\u001b[31m0\u001b[39m\u001b[31m.\u001b[39m\u001b[31m549\u001b[39m  0.377\n",
      "\u001b[90m 9\u001b[39m         1         90 -\u001b[31m0\u001b[39m\u001b[31m.\u001b[39m\u001b[31m138\u001b[39m  0.429\n",
      "\u001b[90m10\u001b[39m         1        227  0.114  0.394\n",
      "\u001b[90m# … with 624 more rows\u001b[39m\n"
     ]
    }
   ],
   "source": [
    "lfc <- counts %>% \n",
    "  select(barcode_num, sample_type, replicate, barcode_count, insert_num) %>%\n",
    "  pivot_wider(names_from = sample_type, values_from = barcode_count) %>%\n",
    "  drop_na() %>%\n",
    "  group_by(insert_num, replicate) %>% \n",
    "  nest() %>% \n",
    "  mutate(lfc_boot = map(data, function(df) boot::boot(data=df, statistic=calc_lfc_bootstrap, R=100)$t)) %>%\n",
    "  select(-data) %>%\n",
    "  mutate(lfc = map_dbl(lfc_boot, mean)) %>%\n",
    "  mutate(lfc_sd = map_dbl(lfc_boot, sd)) %>%\n",
    "  select(-lfc_boot) %>%\n",
    "  group_by(replicate) %>%\n",
    "  mutate(lfc = lfc - median(lfc)) %>%\n",
    "  ungroup() %>%\n",
    "  print()\n"
   ]
  },
  {
   "cell_type": "markdown",
   "metadata": {},
   "source": [
    "\n",
    "## Test read and barcode count cutoffs\n",
    "\n",
    "- Filter for inserts with at least 6 barcodes total and 200 reads total\n",
    "\n",
    "- Log fold change is log2(mRNA/gRNA) (calculated above in the lfc bootstrapp function) and is median-normalized across the full library.\n",
    "\n",
    "- Effects are roughly the same, since individual inserts have deep coverage. Data actually gets a bit nosier after aplying cutoffs, due to replicates having similar effects but slightly different depths. So let's keep the bootstrapping method above for these data, since better biological replicate aggreement is more meaningful than an arbitrary read count cutoffs.  "
   ]
  },
  {
   "cell_type": "code",
   "execution_count": 162,
   "metadata": {
    "vscode": {
     "languageId": "r"
    }
   },
   "outputs": [
    {
     "name": "stderr",
     "output_type": "stream",
     "text": [
      "`summarise()` has grouped output by 'insert_num'. You can override using the `.groups` argument.\n"
     ]
    },
    {
     "name": "stdout",
     "output_type": "stream",
     "text": [
      "\u001b[90m# A tibble: 634 × 9\u001b[39m\n",
      "   insert_num seq    insert_name replicate count_grna count_mrna n_barcodes_grna\n",
      "        \u001b[3m\u001b[90m<dbl>\u001b[39m\u001b[23m \u001b[3m\u001b[90m<chr>\u001b[39m\u001b[23m  \u001b[3m\u001b[90m<chr>\u001b[39m\u001b[23m       \u001b[3m\u001b[90m<chr>\u001b[39m\u001b[23m          \u001b[3m\u001b[90m<dbl>\u001b[39m\u001b[23m      \u001b[3m\u001b[90m<dbl>\u001b[39m\u001b[23m           \u001b[3m\u001b[90m<int>\u001b[39m\u001b[23m\n",
      "\u001b[90m 1\u001b[39m        141 TACAA… varydicodo… 1              \u001b[4m1\u001b[24m\u001b[4m3\u001b[24m253        519              39\n",
      "\u001b[90m 2\u001b[39m        185 AGTTT… mixdicodon… 1              \u001b[4m2\u001b[24m\u001b[4m4\u001b[24m536       \u001b[4m1\u001b[24m115              65\n",
      "\u001b[90m 3\u001b[39m        257 TTCAG… mixdicodon… 1              \u001b[4m2\u001b[24m\u001b[4m2\u001b[24m124       \u001b[4m1\u001b[24m047              58\n",
      "\u001b[90m 4\u001b[39m          7 AAGAT… varydicodo… 1               \u001b[4m9\u001b[24m717        557              37\n",
      "\u001b[90m 5\u001b[39m        170 AAAGT… mixdicodon… 1              \u001b[4m2\u001b[24m\u001b[4m6\u001b[24m785       \u001b[4m1\u001b[24m644              66\n",
      "\u001b[90m 6\u001b[39m         47 ATCAT… varydicodo… 1              \u001b[4m1\u001b[24m\u001b[4m5\u001b[24m803       \u001b[4m1\u001b[24m121              51\n",
      "\u001b[90m 7\u001b[39m         70 CGCCA… varydicodo… 1              \u001b[4m1\u001b[24m\u001b[4m7\u001b[24m969       \u001b[4m1\u001b[24m277              60\n",
      "\u001b[90m 8\u001b[39m        235 GTCAA… mixdicodon… 1              \u001b[4m1\u001b[24m\u001b[4m8\u001b[24m677       \u001b[4m1\u001b[24m361              53\n",
      "\u001b[90m 9\u001b[39m        247 TTCAG… mixdicodon… 2              \u001b[4m1\u001b[24m\u001b[4m4\u001b[24m148       \u001b[4m1\u001b[24m057              51\n",
      "\u001b[90m10\u001b[39m        232 GTCAA… mixdicodon… 1              \u001b[4m1\u001b[24m\u001b[4m7\u001b[24m085       \u001b[4m1\u001b[24m491              53\n",
      "\u001b[90m# … with 624 more rows, and 2 more variables: n_barcodes_mrna <int>, lfc <dbl>\u001b[39m\n"
     ]
    }
   ],
   "source": [
    "cutoff_lfc <- counts %>% \n",
    "  group_by(insert_num, sample_name) %>%\n",
    "  summarize(count = sum(barcode_count), n_barcodes = dplyr::n()) %>%\n",
    "  ungroup() %>%\n",
    "  inner_join(insert_annotations, by = \"insert_num\") %>% \n",
    "  # filter for >6 barcodes >200 total reads \n",
    "  filter(sum(count) >= insert_reads_cutoff, sum(n_barcodes) >= n_barcodes_cutoff) %>%\n",
    "  ungroup() %>% \n",
    "  # Convert sample name to replicate #\n",
    "  mutate(replicate = substring(sample_name, 11))  %>%\n",
    "  # remove \"didi_\" from gRNA and mRNA indicators\n",
    "  mutate(sample_name = substring(sample_name, 6, 9)) %>%\n",
    "  pivot_wider(names_from = sample_name, values_from = c(\"count\", \"n_barcodes\")) %>% \n",
    "  mutate(lfc = log2(count_mrna) - log2(count_grna)) %>% \n",
    "  # median normalize this biaaatch\n",
    "  mutate(lfc = lfc - median(lfc)) %>%\n",
    "  arrange(lfc) %>%\n",
    "  print()  "
   ]
  },
  {
   "cell_type": "markdown",
   "metadata": {},
   "source": [
    "## Compare insert mRNA level effects of the two replicates"
   ]
  },
  {
   "cell_type": "code",
   "execution_count": 163,
   "metadata": {
    "vscode": {
     "languageId": "r"
    }
   },
   "outputs": [
    {
     "name": "stdout",
     "output_type": "stream",
     "text": [
      "\u001b[90m# A tibble: 317 × 3\u001b[39m\n",
      "   insert_num  lfc_1   lfc_2\n",
      "        \u001b[3m\u001b[90m<dbl>\u001b[39m\u001b[23m  \u001b[3m\u001b[90m<dbl>\u001b[39m\u001b[23m   \u001b[3m\u001b[90m<dbl>\u001b[39m\u001b[23m\n",
      "\u001b[90m 1\u001b[39m         86 -\u001b[31m0\u001b[39m\u001b[31m.\u001b[39m\u001b[31m116\u001b[39m  0.104 \n",
      "\u001b[90m 2\u001b[39m         22 -\u001b[31m1\u001b[39m\u001b[31m.\u001b[39m\u001b[31m94\u001b[39m  -\u001b[31m1\u001b[39m\u001b[31m.\u001b[39m\u001b[31m38\u001b[39m  \n",
      "\u001b[90m 3\u001b[39m        172 -\u001b[31m1\u001b[39m\u001b[31m.\u001b[39m\u001b[31m88\u001b[39m  -\u001b[31m2\u001b[39m\u001b[31m.\u001b[39m\u001b[31m11\u001b[39m  \n",
      "\u001b[90m 4\u001b[39m         20 -\u001b[31m0\u001b[39m\u001b[31m.\u001b[39m\u001b[31m331\u001b[39m -\u001b[31m0\u001b[39m\u001b[31m.\u001b[39m\u001b[31m0\u001b[39m\u001b[31m72\u001b[4m8\u001b[24m\u001b[39m\n",
      "\u001b[90m 5\u001b[39m        275  0.611  0.439 \n",
      "\u001b[90m 6\u001b[39m         54  0.695  1.35  \n",
      "\u001b[90m 7\u001b[39m        150  0.876  0.428 \n",
      "\u001b[90m 8\u001b[39m        236 -\u001b[31m0\u001b[39m\u001b[31m.\u001b[39m\u001b[31m549\u001b[39m -\u001b[31m0\u001b[39m\u001b[31m.\u001b[39m\u001b[31m234\u001b[39m \n",
      "\u001b[90m 9\u001b[39m         90 -\u001b[31m0\u001b[39m\u001b[31m.\u001b[39m\u001b[31m138\u001b[39m  1.30  \n",
      "\u001b[90m10\u001b[39m        227  0.114  0.447 \n",
      "\u001b[90m# … with 307 more rows\u001b[39m\n"
     ]
    },
    {
     "data": {
      "image/png": "[encoded data removed]",
      "text/plain": [
       "plot without title"
      ]
     },
     "metadata": {
      "image/png": {
       "height": 120,
       "width": 120
      }
     },
     "output_type": "display_data"
    }
   ],
   "source": [
    "options(repr.plot.width=2, repr.plot.height=2)\n",
    "\n",
    "plot_data <- lfc %>% \n",
    "  select(insert_num, replicate, lfc) %>% \n",
    "  pivot_wider(names_from = replicate, values_from = lfc, names_prefix = \"lfc_\") %>%\n",
    "  print()\n",
    "\n",
    "plot_data %>% \n",
    "  ggplot(aes(x = lfc_1, y = lfc_2)) +\n",
    "  geom_point(alpha = 0.5, shape = 16, size = 2)  +\n",
    "  geom_abline(slope = 1, linetype = \"dotted\", alpha = 0.5) +\n",
    "  labs(x = \"Rep 1 mRNA level (log2)\", y = \"Rep 2 mRNA level (log2)\",\n",
    "       title = \"Individual di-di inserts\") +\n",
    "  theme_bw() "
   ]
  },
  {
   "cell_type": "markdown",
   "metadata": {},
   "source": [
    "## Which inserts have lowest mRNA levels?"
   ]
  },
  {
   "cell_type": "code",
   "execution_count": 164,
   "metadata": {
    "vscode": {
     "languageId": "r"
    }
   },
   "outputs": [
    {
     "data": {
      "text/html": [
       "<table class=\"dataframe\">\n",
       "<caption>A tibble: 634 × 7</caption>\n",
       "<thead>\n",
       "\t<tr><th scope=col>replicate</th><th scope=col>lfc</th><th scope=col>lfc_sd</th><th scope=col>seq</th><th scope=col>insert_name</th><th scope=col>mean_lfc</th><th scope=col>insert</th></tr>\n",
       "\t<tr><th scope=col>&lt;dbl&gt;</th><th scope=col>&lt;dbl&gt;</th><th scope=col>&lt;dbl&gt;</th><th scope=col>&lt;chr&gt;</th><th scope=col>&lt;chr&gt;</th><th scope=col>&lt;dbl&gt;</th><th scope=col>&lt;chr&gt;</th></tr>\n",
       "</thead>\n",
       "<tbody>\n",
       "\t<tr><td>1</td><td>-4.766543</td><td>1.2839912</td><td>TACAAGTACAAGTACAAGTACAAGTACAAGTACAAGTCCGGCTCCGGC</td><td>varydicodonrepeatlength_TACAAG_6</td><td>-4.464152</td><td>YKYKYKYKYKYKSGSG</td></tr>\n",
       "\t<tr><td>2</td><td>-4.161761</td><td>1.0550953</td><td>TACAAGTACAAGTACAAGTACAAGTACAAGTACAAGTCCGGCTCCGGC</td><td>varydicodonrepeatlength_TACAAG_6</td><td>-4.464152</td><td>YKYKYKYKYKYKSGSG</td></tr>\n",
       "\t<tr><td>1</td><td>-4.077567</td><td>1.4803556</td><td>AAAGTCAGTTTCAAAGTCAGTTTCAAAGTCAGTTTCAAAGTCAGTTTC</td><td>mixdicodons_AAAGTC_AGTTTC_1     </td><td>-3.714148</td><td>KVSFKVSFKVSFKVSF</td></tr>\n",
       "\t<tr><td>2</td><td>-3.350729</td><td>0.8582418</td><td>AAAGTCAGTTTCAAAGTCAGTTTCAAAGTCAGTTTCAAAGTCAGTTTC</td><td>mixdicodons_AAAGTC_AGTTTC_1     </td><td>-3.714148</td><td>KVSFKVSFKVSFKVSF</td></tr>\n",
       "\t<tr><td>1</td><td>-2.186848</td><td>0.8148912</td><td>CGCCATCGCCATCGCCATCGCCATCGCCATCGCCATCGCCATCGCCAT</td><td>varydicodonrepeatlength_CGCCAT_8</td><td>-3.685324</td><td>RHRHRHRHRHRHRHRH</td></tr>\n",
       "\t<tr><td>2</td><td>-5.183801</td><td>1.2543914</td><td>CGCCATCGCCATCGCCATCGCCATCGCCATCGCCATCGCCATCGCCAT</td><td>varydicodonrepeatlength_CGCCAT_8</td><td>-3.685324</td><td>RHRHRHRHRHRHRHRH</td></tr>\n",
       "\t<tr><td>1</td><td>-2.675770</td><td>0.5318793</td><td>TACAAGTACAAGTACAAGTACAAGTACAAGTACAAGTACAAGTACAAG</td><td>varydicodonrepeatlength_TACAAG_8</td><td>-3.673124</td><td>YKYKYKYKYKYKYKYK</td></tr>\n",
       "\t<tr><td>2</td><td>-4.670479</td><td>0.6382135</td><td>TACAAGTACAAGTACAAGTACAAGTACAAGTACAAGTACAAGTACAAG</td><td>varydicodonrepeatlength_TACAAG_8</td><td>-3.673124</td><td>YKYKYKYKYKYKYKYK</td></tr>\n",
       "\t<tr><td>1</td><td>-2.850292</td><td>0.4807270</td><td>CGCCATCGCCATCGCCATCGCCATCGCCATCGCCATCGCCATTCCGGC</td><td>varydicodonrepeatlength_CGCCAT_7</td><td>-3.345087</td><td>RHRHRHRHRHRHRHSG</td></tr>\n",
       "\t<tr><td>2</td><td>-3.839881</td><td>1.2841501</td><td>CGCCATCGCCATCGCCATCGCCATCGCCATCGCCATCGCCATTCCGGC</td><td>varydicodonrepeatlength_CGCCAT_7</td><td>-3.345087</td><td>RHRHRHRHRHRHRHSG</td></tr>\n",
       "\t<tr><td>1</td><td>-3.926480</td><td>0.7650593</td><td>TTCAGTGTCAAATTCAGTGTCAAATTCAGTGTCAAATTCAGTGTCAAA</td><td>mixdicodons_TTCAGT_GTCAAA_1     </td><td>-3.269336</td><td>FSVKFSVKFSVKFSVK</td></tr>\n",
       "\t<tr><td>2</td><td>-2.612192</td><td>0.8310207</td><td>TTCAGTGTCAAATTCAGTGTCAAATTCAGTGTCAAATTCAGTGTCAAA</td><td>mixdicodons_TTCAGT_GTCAAA_1     </td><td>-3.269336</td><td>FSVKFSVKFSVKFSVK</td></tr>\n",
       "\t<tr><td>1</td><td>-3.641523</td><td>0.7036982</td><td>GTCAAAGTCAAAGTCAAAGTCAAAGTCAAATCCGGCTCCGGCTCCGGC</td><td>varydicodonrepeatlength_GTCAAA_5</td><td>-3.253119</td><td>VKVKVKVKVKSGSGSG</td></tr>\n",
       "\t<tr><td>2</td><td>-2.864714</td><td>0.4184316</td><td>GTCAAAGTCAAAGTCAAAGTCAAAGTCAAATCCGGCTCCGGCTCCGGC</td><td>varydicodonrepeatlength_GTCAAA_5</td><td>-3.253119</td><td>VKVKVKVKVKSGSGSG</td></tr>\n",
       "\t<tr><td>1</td><td>-3.598531</td><td>0.7571875</td><td>AGTTTCAAAGTCAGTTTCAAAGTCAGTTTCAAAGTCAGTTTCAAAGTC</td><td>mixdicodons_AGTTTC_AAAGTC_1     </td><td>-3.224960</td><td>SFKVSFKVSFKVSFKV</td></tr>\n",
       "\t<tr><td>2</td><td>-2.851389</td><td>0.6130481</td><td>AGTTTCAAAGTCAGTTTCAAAGTCAGTTTCAAAGTCAGTTTCAAAGTC</td><td>mixdicodons_AGTTTC_AAAGTC_1     </td><td>-3.224960</td><td>SFKVSFKVSFKVSFKV</td></tr>\n",
       "\t<tr><td>1</td><td>-2.686438</td><td>0.5202000</td><td>GTCAAAGTCAAAGTCAAAGTCAAAAGTTTCAGTTTCAGTTTCAGTTTC</td><td>mixdicodons_GTCAAA_AGTTTC_4     </td><td>-2.963706</td><td>VKVKVKVKSFSFSFSF</td></tr>\n",
       "\t<tr><td>2</td><td>-3.240974</td><td>2.5955958</td><td>GTCAAAGTCAAAGTCAAAGTCAAAAGTTTCAGTTTCAGTTTCAGTTTC</td><td>mixdicodons_GTCAAA_AGTTTC_4     </td><td>-2.963706</td><td>VKVKVKVKSFSFSFSF</td></tr>\n",
       "\t<tr><td>1</td><td>-2.683871</td><td>0.6994238</td><td>TACAAGTACAAGTACAAGTACAAGTACAAGTACAAGTACAAGTCCGGC</td><td>varydicodonrepeatlength_TACAAG_7</td><td>-2.924158</td><td>YKYKYKYKYKYKYKSG</td></tr>\n",
       "\t<tr><td>2</td><td>-3.164445</td><td>1.7346127</td><td>TACAAGTACAAGTACAAGTACAAGTACAAGTACAAGTACAAGTCCGGC</td><td>varydicodonrepeatlength_TACAAG_7</td><td>-2.924158</td><td>YKYKYKYKYKYKYKSG</td></tr>\n",
       "\t<tr><td>1</td><td>-3.534569</td><td>1.2409250</td><td>AAGATCAAGATCAAGATCAAGATCAAGATCAAGATCAAGATCAAGATC</td><td>varydicodonrepeatlength_AAGATC_8</td><td>-2.924072</td><td>KIKIKIKIKIKIKIKI</td></tr>\n",
       "\t<tr><td>2</td><td>-2.313575</td><td>1.4067212</td><td>AAGATCAAGATCAAGATCAAGATCAAGATCAAGATCAAGATCAAGATC</td><td>varydicodonrepeatlength_AAGATC_8</td><td>-2.924072</td><td>KIKIKIKIKIKIKIKI</td></tr>\n",
       "\t<tr><td>1</td><td>-2.374379</td><td>0.4718587</td><td>TCCAAGTACAAGTACAAGTACTCCTCCAAGTACAAGTACAAGTACTCC</td><td>reorderdicodon_AAGTAC_3         </td><td>-2.803097</td><td>SKYKYKYSSKYKYKYS</td></tr>\n",
       "\t<tr><td>2</td><td>-3.231815</td><td>1.0569852</td><td>TCCAAGTACAAGTACAAGTACTCCTCCAAGTACAAGTACAAGTACTCC</td><td>reorderdicodon_AAGTAC_3         </td><td>-2.803097</td><td>SKYKYKYSSKYKYKYS</td></tr>\n",
       "\t<tr><td>1</td><td>-2.530648</td><td>0.6675745</td><td>TCCAAGATCAAGATCAAGATCTCCTCCAAGATCAAGATCAAGATCTCC</td><td>reorderdicodon_AAGATC_3         </td><td>-2.725421</td><td>SKIKIKISSKIKIKIS</td></tr>\n",
       "\t<tr><td>2</td><td>-2.920194</td><td>0.4612212</td><td>TCCAAGATCAAGATCAAGATCTCCTCCAAGATCAAGATCAAGATCTCC</td><td>reorderdicodon_AAGATC_3         </td><td>-2.725421</td><td>SKIKIKISSKIKIKIS</td></tr>\n",
       "\t<tr><td>1</td><td>-3.084361</td><td>1.5175969</td><td>TAATGATAATGATAATGATAATGATAATGATAATGATAATGATAATGA</td><td>stop_control                    </td><td>-2.638461</td><td>****************</td></tr>\n",
       "\t<tr><td>2</td><td>-2.192560</td><td>0.7917892</td><td>TAATGATAATGATAATGATAATGATAATGATAATGATAATGATAATGA</td><td>stop_control                    </td><td>-2.638461</td><td>****************</td></tr>\n",
       "\t<tr><td>1</td><td>-1.333383</td><td>0.8899687</td><td>TTCAGTTTCAGTTTCAGTTTCAGTAAAGTCAAAGTCAAAGTCAAAGTC</td><td>mixdicodons_TTCAGT_AAAGTC_4     </td><td>-2.632443</td><td>FSFSFSFSKVKVKVKV</td></tr>\n",
       "\t<tr><td>2</td><td>-3.931503</td><td>0.6542665</td><td>TTCAGTTTCAGTTTCAGTTTCAGTAAAGTCAAAGTCAAAGTCAAAGTC</td><td>mixdicodons_TTCAGT_AAAGTC_4     </td><td>-2.632443</td><td>FSFSFSFSKVKVKVKV</td></tr>\n",
       "\t<tr><td>⋮</td><td>⋮</td><td>⋮</td><td>⋮</td><td>⋮</td><td>⋮</td><td>⋮</td></tr>\n",
       "\t<tr><td>1</td><td>1.2527258</td><td>0.6394915</td><td>CTTATCCTTATCCTTATCCTTATCCTTATCTCCGGCTCCGGCTCCGGC</td><td>varydicodonrepeatlength_CTTATC_5</td><td>1.051381</td><td>LILILILILISGSGSG</td></tr>\n",
       "\t<tr><td>2</td><td>0.8500362</td><td>0.5537173</td><td>CTTATCCTTATCCTTATCCTTATCCTTATCTCCGGCTCCGGCTCCGGC</td><td>varydicodonrepeatlength_CTTATC_5</td><td>1.051381</td><td>LILILILILISGSGSG</td></tr>\n",
       "\t<tr><td>1</td><td>0.9922989</td><td>0.3536969</td><td>CTCATACTCATACTCATACTCATATCCGGCTCCGGCTCCGGCTCCGGC</td><td>varydicodonrepeatlength_CTCATA_4</td><td>1.061822</td><td>LILILILISGSGSGSG</td></tr>\n",
       "\t<tr><td>2</td><td>1.1313459</td><td>0.6102887</td><td>CTCATACTCATACTCATACTCATATCCGGCTCCGGCTCCGGCTCCGGC</td><td>varydicodonrepeatlength_CTCATA_4</td><td>1.061822</td><td>LILILILISGSGSGSG</td></tr>\n",
       "\t<tr><td>1</td><td>0.9908033</td><td>0.4281724</td><td>CGTGAACGTGAACGTGAACGTGAACGTGAATCCGGCTCCGGCTCCGGC</td><td>varydicodonrepeatlength_CGTGAA_5</td><td>1.090083</td><td>RERERERERESGSGSG</td></tr>\n",
       "\t<tr><td>2</td><td>1.1893623</td><td>0.3354367</td><td>CGTGAACGTGAACGTGAACGTGAACGTGAATCCGGCTCCGGCTCCGGC</td><td>varydicodonrepeatlength_CGTGAA_5</td><td>1.090083</td><td>RERERERERESGSGSG</td></tr>\n",
       "\t<tr><td>1</td><td>0.6576586</td><td>0.3971979</td><td>TTTTGTTTTTGTTTTTGTTTTTGTTTTTGTTCCGGCTCCGGCTCCGGC</td><td>varydicodonrepeatlength_TTTTGT_5</td><td>1.095159</td><td>FCFCFCFCFCSGSGSG</td></tr>\n",
       "\t<tr><td>2</td><td>1.5326586</td><td>0.3316011</td><td>TTTTGTTTTTGTTTTTGTTTTTGTTTTTGTTCCGGCTCCGGCTCCGGC</td><td>varydicodonrepeatlength_TTTTGT_5</td><td>1.095159</td><td>FCFCFCFCFCSGSGSG</td></tr>\n",
       "\t<tr><td>1</td><td>0.8103948</td><td>0.3964457</td><td>ATCATCATCATCATCATCTCCGGCTCCGGCTCCGGCTCCGGCTCCGGC</td><td>varydicodonrepeatlength_ATCATC_3</td><td>1.168888</td><td>IIIIIISGSGSGSGSG</td></tr>\n",
       "\t<tr><td>2</td><td>1.5273812</td><td>0.3946640</td><td>ATCATCATCATCATCATCTCCGGCTCCGGCTCCGGCTCCGGCTCCGGC</td><td>varydicodonrepeatlength_ATCATC_3</td><td>1.168888</td><td>IIIIIISGSGSGSGSG</td></tr>\n",
       "\t<tr><td>1</td><td>1.2116982</td><td>0.4701526</td><td>TTGATGTTGATGTTGATGTTGATGTTGATGTTGATGTCCGGCTCCGGC</td><td>varydicodonrepeatlength_TTGATG_6</td><td>1.191817</td><td>LMLMLMLMLMLMSGSG</td></tr>\n",
       "\t<tr><td>2</td><td>1.1719352</td><td>0.2971571</td><td>TTGATGTTGATGTTGATGTTGATGTTGATGTTGATGTCCGGCTCCGGC</td><td>varydicodonrepeatlength_TTGATG_6</td><td>1.191817</td><td>LMLMLMLMLMLMSGSG</td></tr>\n",
       "\t<tr><td>1</td><td>1.4565181</td><td>0.4448013</td><td>GTCATGGTCATGGTCATGGTCATGTCCGGCTCCGGCTCCGGCTCCGGC</td><td>varydicodonrepeatlength_GTCATG_4</td><td>1.231598</td><td>VMVMVMVMSGSGSGSG</td></tr>\n",
       "\t<tr><td>2</td><td>1.0066782</td><td>0.5519871</td><td>GTCATGGTCATGGTCATGGTCATGTCCGGCTCCGGCTCCGGCTCCGGC</td><td>varydicodonrepeatlength_GTCATG_4</td><td>1.231598</td><td>VMVMVMVMSGSGSGSG</td></tr>\n",
       "\t<tr><td>1</td><td>1.5416709</td><td>0.7451928</td><td>GTCATGGTCATGGTCATGGTCATGGTCATGGTCATGTCCGGCTCCGGC</td><td>varydicodonrepeatlength_GTCATG_6</td><td>1.237556</td><td>VMVMVMVMVMVMSGSG</td></tr>\n",
       "\t<tr><td>2</td><td>0.9334401</td><td>0.5747150</td><td>GTCATGGTCATGGTCATGGTCATGGTCATGGTCATGTCCGGCTCCGGC</td><td>varydicodonrepeatlength_GTCATG_6</td><td>1.237556</td><td>VMVMVMVMVMVMSGSG</td></tr>\n",
       "\t<tr><td>1</td><td>1.2670240</td><td>0.3403323</td><td>AGTGGCAGTGGCAGTGGCAGTGGCTCCGGCTCCGGCTCCGGCTCCGGC</td><td>varydicodonrepeatlength_AGTGGC_4</td><td>1.241884</td><td>SGSGSGSGSGSGSGSG</td></tr>\n",
       "\t<tr><td>2</td><td>1.2167446</td><td>0.3386865</td><td>AGTGGCAGTGGCAGTGGCAGTGGCTCCGGCTCCGGCTCCGGCTCCGGC</td><td>varydicodonrepeatlength_AGTGGC_4</td><td>1.241884</td><td>SGSGSGSGSGSGSGSG</td></tr>\n",
       "\t<tr><td>1</td><td>1.2171284</td><td>0.3147427</td><td>TCCATCATCATCATCTCCATCATCATCATCTCCATCATCATCATCTCC</td><td>reorderdicodon_ATCATC_2         </td><td>1.258392</td><td>SIIIISIIIISIIIIS</td></tr>\n",
       "\t<tr><td>2</td><td>1.2996555</td><td>0.2673909</td><td>TCCATCATCATCATCTCCATCATCATCATCTCCATCATCATCATCTCC</td><td>reorderdicodon_ATCATC_2         </td><td>1.258392</td><td>SIIIISIIIISIIIIS</td></tr>\n",
       "\t<tr><td>1</td><td>1.1832415</td><td>0.3542092</td><td>TTTCTGTTTCTGTTTCTGTTTCTGTTTCTGTTTCTGTTTCTGTTTCTG</td><td>varydicodonrepeatlength_TTTCTG_8</td><td>1.283821</td><td>FLFLFLFLFLFLFLFL</td></tr>\n",
       "\t<tr><td>2</td><td>1.3844004</td><td>0.3093006</td><td>TTTCTGTTTCTGTTTCTGTTTCTGTTTCTGTTTCTGTTTCTGTTTCTG</td><td>varydicodonrepeatlength_TTTCTG_8</td><td>1.283821</td><td>FLFLFLFLFLFLFLFL</td></tr>\n",
       "\t<tr><td>1</td><td>1.1036155</td><td>0.3089809</td><td>CCTCCGCCTCCGCCTCCGCCTCCGCCTCCGCCTCCGCCTCCGTCCGGC</td><td>varydicodonrepeatlength_CCTCCG_7</td><td>1.387572</td><td>PPPPPPPPPPPPPPSG</td></tr>\n",
       "\t<tr><td>2</td><td>1.6715289</td><td>0.3808846</td><td>CCTCCGCCTCCGCCTCCGCCTCCGCCTCCGCCTCCGCCTCCGTCCGGC</td><td>varydicodonrepeatlength_CCTCCG_7</td><td>1.387572</td><td>PPPPPPPPPPPPPPSG</td></tr>\n",
       "\t<tr><td>1</td><td>1.2659781</td><td>0.3951885</td><td>CCTCCGCCTCCGCCTCCGCCTCCGCCTCCGTCCGGCTCCGGCTCCGGC</td><td>varydicodonrepeatlength_CCTCCG_5</td><td>1.589470</td><td>PPPPPPPPPPSGSGSG</td></tr>\n",
       "\t<tr><td>2</td><td>1.9129617</td><td>0.3518731</td><td>CCTCCGCCTCCGCCTCCGCCTCCGCCTCCGTCCGGCTCCGGCTCCGGC</td><td>varydicodonrepeatlength_CCTCCG_5</td><td>1.589470</td><td>PPPPPPPPPPSGSGSG</td></tr>\n",
       "\t<tr><td>1</td><td>0.9228120</td><td>0.2925932</td><td>CCTCCGCCTCCGCCTCCGCCTCCGCCTCCGCCTCCGTCCGGCTCCGGC</td><td>varydicodonrepeatlength_CCTCCG_6</td><td>1.615952</td><td>PPPPPPPPPPPPSGSG</td></tr>\n",
       "\t<tr><td>2</td><td>2.3090919</td><td>0.5281390</td><td>CCTCCGCCTCCGCCTCCGCCTCCGCCTCCGCCTCCGTCCGGCTCCGGC</td><td>varydicodonrepeatlength_CCTCCG_6</td><td>1.615952</td><td>PPPPPPPPPPPPSGSG</td></tr>\n",
       "\t<tr><td>1</td><td>1.1993071</td><td>0.3883697</td><td>CCTCCGCCTCCGCCTCCGCCTCCGCCTCCGCCTCCGCCTCCGCCTCCG</td><td>varydicodonrepeatlength_CCTCCG_8</td><td>1.815525</td><td>PPPPPPPPPPPPPPPP</td></tr>\n",
       "\t<tr><td>2</td><td>2.4317428</td><td>0.6126183</td><td>CCTCCGCCTCCGCCTCCGCCTCCGCCTCCGCCTCCGCCTCCGCCTCCG</td><td>varydicodonrepeatlength_CCTCCG_8</td><td>1.815525</td><td>PPPPPPPPPPPPPPPP</td></tr>\n",
       "</tbody>\n",
       "</table>\n"
      ],
      "text/latex": [
       "A tibble: 634 × 7\n",
       "\\begin{tabular}{lllllll}\n",
       " replicate & lfc & lfc\\_sd & seq & insert\\_name & mean\\_lfc & insert\\\\\n",
       " <dbl> & <dbl> & <dbl> & <chr> & <chr> & <dbl> & <chr>\\\\\n",
       "\\hline\n",
       "\t 1 & -4.766543 & 1.2839912 & TACAAGTACAAGTACAAGTACAAGTACAAGTACAAGTCCGGCTCCGGC & varydicodonrepeatlength\\_TACAAG\\_6 & -4.464152 & YKYKYKYKYKYKSGSG\\\\\n",
       "\t 2 & -4.161761 & 1.0550953 & TACAAGTACAAGTACAAGTACAAGTACAAGTACAAGTCCGGCTCCGGC & varydicodonrepeatlength\\_TACAAG\\_6 & -4.464152 & YKYKYKYKYKYKSGSG\\\\\n",
       "\t 1 & -4.077567 & 1.4803556 & AAAGTCAGTTTCAAAGTCAGTTTCAAAGTCAGTTTCAAAGTCAGTTTC & mixdicodons\\_AAAGTC\\_AGTTTC\\_1      & -3.714148 & KVSFKVSFKVSFKVSF\\\\\n",
       "\t 2 & -3.350729 & 0.8582418 & AAAGTCAGTTTCAAAGTCAGTTTCAAAGTCAGTTTCAAAGTCAGTTTC & mixdicodons\\_AAAGTC\\_AGTTTC\\_1      & -3.714148 & KVSFKVSFKVSFKVSF\\\\\n",
       "\t 1 & -2.186848 & 0.8148912 & CGCCATCGCCATCGCCATCGCCATCGCCATCGCCATCGCCATCGCCAT & varydicodonrepeatlength\\_CGCCAT\\_8 & -3.685324 & RHRHRHRHRHRHRHRH\\\\\n",
       "\t 2 & -5.183801 & 1.2543914 & CGCCATCGCCATCGCCATCGCCATCGCCATCGCCATCGCCATCGCCAT & varydicodonrepeatlength\\_CGCCAT\\_8 & -3.685324 & RHRHRHRHRHRHRHRH\\\\\n",
       "\t 1 & -2.675770 & 0.5318793 & TACAAGTACAAGTACAAGTACAAGTACAAGTACAAGTACAAGTACAAG & varydicodonrepeatlength\\_TACAAG\\_8 & -3.673124 & YKYKYKYKYKYKYKYK\\\\\n",
       "\t 2 & -4.670479 & 0.6382135 & TACAAGTACAAGTACAAGTACAAGTACAAGTACAAGTACAAGTACAAG & varydicodonrepeatlength\\_TACAAG\\_8 & -3.673124 & YKYKYKYKYKYKYKYK\\\\\n",
       "\t 1 & -2.850292 & 0.4807270 & CGCCATCGCCATCGCCATCGCCATCGCCATCGCCATCGCCATTCCGGC & varydicodonrepeatlength\\_CGCCAT\\_7 & -3.345087 & RHRHRHRHRHRHRHSG\\\\\n",
       "\t 2 & -3.839881 & 1.2841501 & CGCCATCGCCATCGCCATCGCCATCGCCATCGCCATCGCCATTCCGGC & varydicodonrepeatlength\\_CGCCAT\\_7 & -3.345087 & RHRHRHRHRHRHRHSG\\\\\n",
       "\t 1 & -3.926480 & 0.7650593 & TTCAGTGTCAAATTCAGTGTCAAATTCAGTGTCAAATTCAGTGTCAAA & mixdicodons\\_TTCAGT\\_GTCAAA\\_1      & -3.269336 & FSVKFSVKFSVKFSVK\\\\\n",
       "\t 2 & -2.612192 & 0.8310207 & TTCAGTGTCAAATTCAGTGTCAAATTCAGTGTCAAATTCAGTGTCAAA & mixdicodons\\_TTCAGT\\_GTCAAA\\_1      & -3.269336 & FSVKFSVKFSVKFSVK\\\\\n",
       "\t 1 & -3.641523 & 0.7036982 & GTCAAAGTCAAAGTCAAAGTCAAAGTCAAATCCGGCTCCGGCTCCGGC & varydicodonrepeatlength\\_GTCAAA\\_5 & -3.253119 & VKVKVKVKVKSGSGSG\\\\\n",
       "\t 2 & -2.864714 & 0.4184316 & GTCAAAGTCAAAGTCAAAGTCAAAGTCAAATCCGGCTCCGGCTCCGGC & varydicodonrepeatlength\\_GTCAAA\\_5 & -3.253119 & VKVKVKVKVKSGSGSG\\\\\n",
       "\t 1 & -3.598531 & 0.7571875 & AGTTTCAAAGTCAGTTTCAAAGTCAGTTTCAAAGTCAGTTTCAAAGTC & mixdicodons\\_AGTTTC\\_AAAGTC\\_1      & -3.224960 & SFKVSFKVSFKVSFKV\\\\\n",
       "\t 2 & -2.851389 & 0.6130481 & AGTTTCAAAGTCAGTTTCAAAGTCAGTTTCAAAGTCAGTTTCAAAGTC & mixdicodons\\_AGTTTC\\_AAAGTC\\_1      & -3.224960 & SFKVSFKVSFKVSFKV\\\\\n",
       "\t 1 & -2.686438 & 0.5202000 & GTCAAAGTCAAAGTCAAAGTCAAAAGTTTCAGTTTCAGTTTCAGTTTC & mixdicodons\\_GTCAAA\\_AGTTTC\\_4      & -2.963706 & VKVKVKVKSFSFSFSF\\\\\n",
       "\t 2 & -3.240974 & 2.5955958 & GTCAAAGTCAAAGTCAAAGTCAAAAGTTTCAGTTTCAGTTTCAGTTTC & mixdicodons\\_GTCAAA\\_AGTTTC\\_4      & -2.963706 & VKVKVKVKSFSFSFSF\\\\\n",
       "\t 1 & -2.683871 & 0.6994238 & TACAAGTACAAGTACAAGTACAAGTACAAGTACAAGTACAAGTCCGGC & varydicodonrepeatlength\\_TACAAG\\_7 & -2.924158 & YKYKYKYKYKYKYKSG\\\\\n",
       "\t 2 & -3.164445 & 1.7346127 & TACAAGTACAAGTACAAGTACAAGTACAAGTACAAGTACAAGTCCGGC & varydicodonrepeatlength\\_TACAAG\\_7 & -2.924158 & YKYKYKYKYKYKYKSG\\\\\n",
       "\t 1 & -3.534569 & 1.2409250 & AAGATCAAGATCAAGATCAAGATCAAGATCAAGATCAAGATCAAGATC & varydicodonrepeatlength\\_AAGATC\\_8 & -2.924072 & KIKIKIKIKIKIKIKI\\\\\n",
       "\t 2 & -2.313575 & 1.4067212 & AAGATCAAGATCAAGATCAAGATCAAGATCAAGATCAAGATCAAGATC & varydicodonrepeatlength\\_AAGATC\\_8 & -2.924072 & KIKIKIKIKIKIKIKI\\\\\n",
       "\t 1 & -2.374379 & 0.4718587 & TCCAAGTACAAGTACAAGTACTCCTCCAAGTACAAGTACAAGTACTCC & reorderdicodon\\_AAGTAC\\_3          & -2.803097 & SKYKYKYSSKYKYKYS\\\\\n",
       "\t 2 & -3.231815 & 1.0569852 & TCCAAGTACAAGTACAAGTACTCCTCCAAGTACAAGTACAAGTACTCC & reorderdicodon\\_AAGTAC\\_3          & -2.803097 & SKYKYKYSSKYKYKYS\\\\\n",
       "\t 1 & -2.530648 & 0.6675745 & TCCAAGATCAAGATCAAGATCTCCTCCAAGATCAAGATCAAGATCTCC & reorderdicodon\\_AAGATC\\_3          & -2.725421 & SKIKIKISSKIKIKIS\\\\\n",
       "\t 2 & -2.920194 & 0.4612212 & TCCAAGATCAAGATCAAGATCTCCTCCAAGATCAAGATCAAGATCTCC & reorderdicodon\\_AAGATC\\_3          & -2.725421 & SKIKIKISSKIKIKIS\\\\\n",
       "\t 1 & -3.084361 & 1.5175969 & TAATGATAATGATAATGATAATGATAATGATAATGATAATGATAATGA & stop\\_control                     & -2.638461 & ****************\\\\\n",
       "\t 2 & -2.192560 & 0.7917892 & TAATGATAATGATAATGATAATGATAATGATAATGATAATGATAATGA & stop\\_control                     & -2.638461 & ****************\\\\\n",
       "\t 1 & -1.333383 & 0.8899687 & TTCAGTTTCAGTTTCAGTTTCAGTAAAGTCAAAGTCAAAGTCAAAGTC & mixdicodons\\_TTCAGT\\_AAAGTC\\_4      & -2.632443 & FSFSFSFSKVKVKVKV\\\\\n",
       "\t 2 & -3.931503 & 0.6542665 & TTCAGTTTCAGTTTCAGTTTCAGTAAAGTCAAAGTCAAAGTCAAAGTC & mixdicodons\\_TTCAGT\\_AAAGTC\\_4      & -2.632443 & FSFSFSFSKVKVKVKV\\\\\n",
       "\t ⋮ & ⋮ & ⋮ & ⋮ & ⋮ & ⋮ & ⋮\\\\\n",
       "\t 1 & 1.2527258 & 0.6394915 & CTTATCCTTATCCTTATCCTTATCCTTATCTCCGGCTCCGGCTCCGGC & varydicodonrepeatlength\\_CTTATC\\_5 & 1.051381 & LILILILILISGSGSG\\\\\n",
       "\t 2 & 0.8500362 & 0.5537173 & CTTATCCTTATCCTTATCCTTATCCTTATCTCCGGCTCCGGCTCCGGC & varydicodonrepeatlength\\_CTTATC\\_5 & 1.051381 & LILILILILISGSGSG\\\\\n",
       "\t 1 & 0.9922989 & 0.3536969 & CTCATACTCATACTCATACTCATATCCGGCTCCGGCTCCGGCTCCGGC & varydicodonrepeatlength\\_CTCATA\\_4 & 1.061822 & LILILILISGSGSGSG\\\\\n",
       "\t 2 & 1.1313459 & 0.6102887 & CTCATACTCATACTCATACTCATATCCGGCTCCGGCTCCGGCTCCGGC & varydicodonrepeatlength\\_CTCATA\\_4 & 1.061822 & LILILILISGSGSGSG\\\\\n",
       "\t 1 & 0.9908033 & 0.4281724 & CGTGAACGTGAACGTGAACGTGAACGTGAATCCGGCTCCGGCTCCGGC & varydicodonrepeatlength\\_CGTGAA\\_5 & 1.090083 & RERERERERESGSGSG\\\\\n",
       "\t 2 & 1.1893623 & 0.3354367 & CGTGAACGTGAACGTGAACGTGAACGTGAATCCGGCTCCGGCTCCGGC & varydicodonrepeatlength\\_CGTGAA\\_5 & 1.090083 & RERERERERESGSGSG\\\\\n",
       "\t 1 & 0.6576586 & 0.3971979 & TTTTGTTTTTGTTTTTGTTTTTGTTTTTGTTCCGGCTCCGGCTCCGGC & varydicodonrepeatlength\\_TTTTGT\\_5 & 1.095159 & FCFCFCFCFCSGSGSG\\\\\n",
       "\t 2 & 1.5326586 & 0.3316011 & TTTTGTTTTTGTTTTTGTTTTTGTTTTTGTTCCGGCTCCGGCTCCGGC & varydicodonrepeatlength\\_TTTTGT\\_5 & 1.095159 & FCFCFCFCFCSGSGSG\\\\\n",
       "\t 1 & 0.8103948 & 0.3964457 & ATCATCATCATCATCATCTCCGGCTCCGGCTCCGGCTCCGGCTCCGGC & varydicodonrepeatlength\\_ATCATC\\_3 & 1.168888 & IIIIIISGSGSGSGSG\\\\\n",
       "\t 2 & 1.5273812 & 0.3946640 & ATCATCATCATCATCATCTCCGGCTCCGGCTCCGGCTCCGGCTCCGGC & varydicodonrepeatlength\\_ATCATC\\_3 & 1.168888 & IIIIIISGSGSGSGSG\\\\\n",
       "\t 1 & 1.2116982 & 0.4701526 & TTGATGTTGATGTTGATGTTGATGTTGATGTTGATGTCCGGCTCCGGC & varydicodonrepeatlength\\_TTGATG\\_6 & 1.191817 & LMLMLMLMLMLMSGSG\\\\\n",
       "\t 2 & 1.1719352 & 0.2971571 & TTGATGTTGATGTTGATGTTGATGTTGATGTTGATGTCCGGCTCCGGC & varydicodonrepeatlength\\_TTGATG\\_6 & 1.191817 & LMLMLMLMLMLMSGSG\\\\\n",
       "\t 1 & 1.4565181 & 0.4448013 & GTCATGGTCATGGTCATGGTCATGTCCGGCTCCGGCTCCGGCTCCGGC & varydicodonrepeatlength\\_GTCATG\\_4 & 1.231598 & VMVMVMVMSGSGSGSG\\\\\n",
       "\t 2 & 1.0066782 & 0.5519871 & GTCATGGTCATGGTCATGGTCATGTCCGGCTCCGGCTCCGGCTCCGGC & varydicodonrepeatlength\\_GTCATG\\_4 & 1.231598 & VMVMVMVMSGSGSGSG\\\\\n",
       "\t 1 & 1.5416709 & 0.7451928 & GTCATGGTCATGGTCATGGTCATGGTCATGGTCATGTCCGGCTCCGGC & varydicodonrepeatlength\\_GTCATG\\_6 & 1.237556 & VMVMVMVMVMVMSGSG\\\\\n",
       "\t 2 & 0.9334401 & 0.5747150 & GTCATGGTCATGGTCATGGTCATGGTCATGGTCATGTCCGGCTCCGGC & varydicodonrepeatlength\\_GTCATG\\_6 & 1.237556 & VMVMVMVMVMVMSGSG\\\\\n",
       "\t 1 & 1.2670240 & 0.3403323 & AGTGGCAGTGGCAGTGGCAGTGGCTCCGGCTCCGGCTCCGGCTCCGGC & varydicodonrepeatlength\\_AGTGGC\\_4 & 1.241884 & SGSGSGSGSGSGSGSG\\\\\n",
       "\t 2 & 1.2167446 & 0.3386865 & AGTGGCAGTGGCAGTGGCAGTGGCTCCGGCTCCGGCTCCGGCTCCGGC & varydicodonrepeatlength\\_AGTGGC\\_4 & 1.241884 & SGSGSGSGSGSGSGSG\\\\\n",
       "\t 1 & 1.2171284 & 0.3147427 & TCCATCATCATCATCTCCATCATCATCATCTCCATCATCATCATCTCC & reorderdicodon\\_ATCATC\\_2          & 1.258392 & SIIIISIIIISIIIIS\\\\\n",
       "\t 2 & 1.2996555 & 0.2673909 & TCCATCATCATCATCTCCATCATCATCATCTCCATCATCATCATCTCC & reorderdicodon\\_ATCATC\\_2          & 1.258392 & SIIIISIIIISIIIIS\\\\\n",
       "\t 1 & 1.1832415 & 0.3542092 & TTTCTGTTTCTGTTTCTGTTTCTGTTTCTGTTTCTGTTTCTGTTTCTG & varydicodonrepeatlength\\_TTTCTG\\_8 & 1.283821 & FLFLFLFLFLFLFLFL\\\\\n",
       "\t 2 & 1.3844004 & 0.3093006 & TTTCTGTTTCTGTTTCTGTTTCTGTTTCTGTTTCTGTTTCTGTTTCTG & varydicodonrepeatlength\\_TTTCTG\\_8 & 1.283821 & FLFLFLFLFLFLFLFL\\\\\n",
       "\t 1 & 1.1036155 & 0.3089809 & CCTCCGCCTCCGCCTCCGCCTCCGCCTCCGCCTCCGCCTCCGTCCGGC & varydicodonrepeatlength\\_CCTCCG\\_7 & 1.387572 & PPPPPPPPPPPPPPSG\\\\\n",
       "\t 2 & 1.6715289 & 0.3808846 & CCTCCGCCTCCGCCTCCGCCTCCGCCTCCGCCTCCGCCTCCGTCCGGC & varydicodonrepeatlength\\_CCTCCG\\_7 & 1.387572 & PPPPPPPPPPPPPPSG\\\\\n",
       "\t 1 & 1.2659781 & 0.3951885 & CCTCCGCCTCCGCCTCCGCCTCCGCCTCCGTCCGGCTCCGGCTCCGGC & varydicodonrepeatlength\\_CCTCCG\\_5 & 1.589470 & PPPPPPPPPPSGSGSG\\\\\n",
       "\t 2 & 1.9129617 & 0.3518731 & CCTCCGCCTCCGCCTCCGCCTCCGCCTCCGTCCGGCTCCGGCTCCGGC & varydicodonrepeatlength\\_CCTCCG\\_5 & 1.589470 & PPPPPPPPPPSGSGSG\\\\\n",
       "\t 1 & 0.9228120 & 0.2925932 & CCTCCGCCTCCGCCTCCGCCTCCGCCTCCGCCTCCGTCCGGCTCCGGC & varydicodonrepeatlength\\_CCTCCG\\_6 & 1.615952 & PPPPPPPPPPPPSGSG\\\\\n",
       "\t 2 & 2.3090919 & 0.5281390 & CCTCCGCCTCCGCCTCCGCCTCCGCCTCCGCCTCCGTCCGGCTCCGGC & varydicodonrepeatlength\\_CCTCCG\\_6 & 1.615952 & PPPPPPPPPPPPSGSG\\\\\n",
       "\t 1 & 1.1993071 & 0.3883697 & CCTCCGCCTCCGCCTCCGCCTCCGCCTCCGCCTCCGCCTCCGCCTCCG & varydicodonrepeatlength\\_CCTCCG\\_8 & 1.815525 & PPPPPPPPPPPPPPPP\\\\\n",
       "\t 2 & 2.4317428 & 0.6126183 & CCTCCGCCTCCGCCTCCGCCTCCGCCTCCGCCTCCGCCTCCGCCTCCG & varydicodonrepeatlength\\_CCTCCG\\_8 & 1.815525 & PPPPPPPPPPPPPPPP\\\\\n",
       "\\end{tabular}\n"
      ],
      "text/markdown": [
       "\n",
       "A tibble: 634 × 7\n",
       "\n",
       "| replicate &lt;dbl&gt; | lfc &lt;dbl&gt; | lfc_sd &lt;dbl&gt; | seq &lt;chr&gt; | insert_name &lt;chr&gt; | mean_lfc &lt;dbl&gt; | insert &lt;chr&gt; |\n",
       "|---|---|---|---|---|---|---|\n",
       "| 1 | -4.766543 | 1.2839912 | TACAAGTACAAGTACAAGTACAAGTACAAGTACAAGTCCGGCTCCGGC | varydicodonrepeatlength_TACAAG_6 | -4.464152 | YKYKYKYKYKYKSGSG |\n",
       "| 2 | -4.161761 | 1.0550953 | TACAAGTACAAGTACAAGTACAAGTACAAGTACAAGTCCGGCTCCGGC | varydicodonrepeatlength_TACAAG_6 | -4.464152 | YKYKYKYKYKYKSGSG |\n",
       "| 1 | -4.077567 | 1.4803556 | AAAGTCAGTTTCAAAGTCAGTTTCAAAGTCAGTTTCAAAGTCAGTTTC | mixdicodons_AAAGTC_AGTTTC_1      | -3.714148 | KVSFKVSFKVSFKVSF |\n",
       "| 2 | -3.350729 | 0.8582418 | AAAGTCAGTTTCAAAGTCAGTTTCAAAGTCAGTTTCAAAGTCAGTTTC | mixdicodons_AAAGTC_AGTTTC_1      | -3.714148 | KVSFKVSFKVSFKVSF |\n",
       "| 1 | -2.186848 | 0.8148912 | CGCCATCGCCATCGCCATCGCCATCGCCATCGCCATCGCCATCGCCAT | varydicodonrepeatlength_CGCCAT_8 | -3.685324 | RHRHRHRHRHRHRHRH |\n",
       "| 2 | -5.183801 | 1.2543914 | CGCCATCGCCATCGCCATCGCCATCGCCATCGCCATCGCCATCGCCAT | varydicodonrepeatlength_CGCCAT_8 | -3.685324 | RHRHRHRHRHRHRHRH |\n",
       "| 1 | -2.675770 | 0.5318793 | TACAAGTACAAGTACAAGTACAAGTACAAGTACAAGTACAAGTACAAG | varydicodonrepeatlength_TACAAG_8 | -3.673124 | YKYKYKYKYKYKYKYK |\n",
       "| 2 | -4.670479 | 0.6382135 | TACAAGTACAAGTACAAGTACAAGTACAAGTACAAGTACAAGTACAAG | varydicodonrepeatlength_TACAAG_8 | -3.673124 | YKYKYKYKYKYKYKYK |\n",
       "| 1 | -2.850292 | 0.4807270 | CGCCATCGCCATCGCCATCGCCATCGCCATCGCCATCGCCATTCCGGC | varydicodonrepeatlength_CGCCAT_7 | -3.345087 | RHRHRHRHRHRHRHSG |\n",
       "| 2 | -3.839881 | 1.2841501 | CGCCATCGCCATCGCCATCGCCATCGCCATCGCCATCGCCATTCCGGC | varydicodonrepeatlength_CGCCAT_7 | -3.345087 | RHRHRHRHRHRHRHSG |\n",
       "| 1 | -3.926480 | 0.7650593 | TTCAGTGTCAAATTCAGTGTCAAATTCAGTGTCAAATTCAGTGTCAAA | mixdicodons_TTCAGT_GTCAAA_1      | -3.269336 | FSVKFSVKFSVKFSVK |\n",
       "| 2 | -2.612192 | 0.8310207 | TTCAGTGTCAAATTCAGTGTCAAATTCAGTGTCAAATTCAGTGTCAAA | mixdicodons_TTCAGT_GTCAAA_1      | -3.269336 | FSVKFSVKFSVKFSVK |\n",
       "| 1 | -3.641523 | 0.7036982 | GTCAAAGTCAAAGTCAAAGTCAAAGTCAAATCCGGCTCCGGCTCCGGC | varydicodonrepeatlength_GTCAAA_5 | -3.253119 | VKVKVKVKVKSGSGSG |\n",
       "| 2 | -2.864714 | 0.4184316 | GTCAAAGTCAAAGTCAAAGTCAAAGTCAAATCCGGCTCCGGCTCCGGC | varydicodonrepeatlength_GTCAAA_5 | -3.253119 | VKVKVKVKVKSGSGSG |\n",
       "| 1 | -3.598531 | 0.7571875 | AGTTTCAAAGTCAGTTTCAAAGTCAGTTTCAAAGTCAGTTTCAAAGTC | mixdicodons_AGTTTC_AAAGTC_1      | -3.224960 | SFKVSFKVSFKVSFKV |\n",
       "| 2 | -2.851389 | 0.6130481 | AGTTTCAAAGTCAGTTTCAAAGTCAGTTTCAAAGTCAGTTTCAAAGTC | mixdicodons_AGTTTC_AAAGTC_1      | -3.224960 | SFKVSFKVSFKVSFKV |\n",
       "| 1 | -2.686438 | 0.5202000 | GTCAAAGTCAAAGTCAAAGTCAAAAGTTTCAGTTTCAGTTTCAGTTTC | mixdicodons_GTCAAA_AGTTTC_4      | -2.963706 | VKVKVKVKSFSFSFSF |\n",
       "| 2 | -3.240974 | 2.5955958 | GTCAAAGTCAAAGTCAAAGTCAAAAGTTTCAGTTTCAGTTTCAGTTTC | mixdicodons_GTCAAA_AGTTTC_4      | -2.963706 | VKVKVKVKSFSFSFSF |\n",
       "| 1 | -2.683871 | 0.6994238 | TACAAGTACAAGTACAAGTACAAGTACAAGTACAAGTACAAGTCCGGC | varydicodonrepeatlength_TACAAG_7 | -2.924158 | YKYKYKYKYKYKYKSG |\n",
       "| 2 | -3.164445 | 1.7346127 | TACAAGTACAAGTACAAGTACAAGTACAAGTACAAGTACAAGTCCGGC | varydicodonrepeatlength_TACAAG_7 | -2.924158 | YKYKYKYKYKYKYKSG |\n",
       "| 1 | -3.534569 | 1.2409250 | AAGATCAAGATCAAGATCAAGATCAAGATCAAGATCAAGATCAAGATC | varydicodonrepeatlength_AAGATC_8 | -2.924072 | KIKIKIKIKIKIKIKI |\n",
       "| 2 | -2.313575 | 1.4067212 | AAGATCAAGATCAAGATCAAGATCAAGATCAAGATCAAGATCAAGATC | varydicodonrepeatlength_AAGATC_8 | -2.924072 | KIKIKIKIKIKIKIKI |\n",
       "| 1 | -2.374379 | 0.4718587 | TCCAAGTACAAGTACAAGTACTCCTCCAAGTACAAGTACAAGTACTCC | reorderdicodon_AAGTAC_3          | -2.803097 | SKYKYKYSSKYKYKYS |\n",
       "| 2 | -3.231815 | 1.0569852 | TCCAAGTACAAGTACAAGTACTCCTCCAAGTACAAGTACAAGTACTCC | reorderdicodon_AAGTAC_3          | -2.803097 | SKYKYKYSSKYKYKYS |\n",
       "| 1 | -2.530648 | 0.6675745 | TCCAAGATCAAGATCAAGATCTCCTCCAAGATCAAGATCAAGATCTCC | reorderdicodon_AAGATC_3          | -2.725421 | SKIKIKISSKIKIKIS |\n",
       "| 2 | -2.920194 | 0.4612212 | TCCAAGATCAAGATCAAGATCTCCTCCAAGATCAAGATCAAGATCTCC | reorderdicodon_AAGATC_3          | -2.725421 | SKIKIKISSKIKIKIS |\n",
       "| 1 | -3.084361 | 1.5175969 | TAATGATAATGATAATGATAATGATAATGATAATGATAATGATAATGA | stop_control                     | -2.638461 | **************** |\n",
       "| 2 | -2.192560 | 0.7917892 | TAATGATAATGATAATGATAATGATAATGATAATGATAATGATAATGA | stop_control                     | -2.638461 | **************** |\n",
       "| 1 | -1.333383 | 0.8899687 | TTCAGTTTCAGTTTCAGTTTCAGTAAAGTCAAAGTCAAAGTCAAAGTC | mixdicodons_TTCAGT_AAAGTC_4      | -2.632443 | FSFSFSFSKVKVKVKV |\n",
       "| 2 | -3.931503 | 0.6542665 | TTCAGTTTCAGTTTCAGTTTCAGTAAAGTCAAAGTCAAAGTCAAAGTC | mixdicodons_TTCAGT_AAAGTC_4      | -2.632443 | FSFSFSFSKVKVKVKV |\n",
       "| ⋮ | ⋮ | ⋮ | ⋮ | ⋮ | ⋮ | ⋮ |\n",
       "| 1 | 1.2527258 | 0.6394915 | CTTATCCTTATCCTTATCCTTATCCTTATCTCCGGCTCCGGCTCCGGC | varydicodonrepeatlength_CTTATC_5 | 1.051381 | LILILILILISGSGSG |\n",
       "| 2 | 0.8500362 | 0.5537173 | CTTATCCTTATCCTTATCCTTATCCTTATCTCCGGCTCCGGCTCCGGC | varydicodonrepeatlength_CTTATC_5 | 1.051381 | LILILILILISGSGSG |\n",
       "| 1 | 0.9922989 | 0.3536969 | CTCATACTCATACTCATACTCATATCCGGCTCCGGCTCCGGCTCCGGC | varydicodonrepeatlength_CTCATA_4 | 1.061822 | LILILILISGSGSGSG |\n",
       "| 2 | 1.1313459 | 0.6102887 | CTCATACTCATACTCATACTCATATCCGGCTCCGGCTCCGGCTCCGGC | varydicodonrepeatlength_CTCATA_4 | 1.061822 | LILILILISGSGSGSG |\n",
       "| 1 | 0.9908033 | 0.4281724 | CGTGAACGTGAACGTGAACGTGAACGTGAATCCGGCTCCGGCTCCGGC | varydicodonrepeatlength_CGTGAA_5 | 1.090083 | RERERERERESGSGSG |\n",
       "| 2 | 1.1893623 | 0.3354367 | CGTGAACGTGAACGTGAACGTGAACGTGAATCCGGCTCCGGCTCCGGC | varydicodonrepeatlength_CGTGAA_5 | 1.090083 | RERERERERESGSGSG |\n",
       "| 1 | 0.6576586 | 0.3971979 | TTTTGTTTTTGTTTTTGTTTTTGTTTTTGTTCCGGCTCCGGCTCCGGC | varydicodonrepeatlength_TTTTGT_5 | 1.095159 | FCFCFCFCFCSGSGSG |\n",
       "| 2 | 1.5326586 | 0.3316011 | TTTTGTTTTTGTTTTTGTTTTTGTTTTTGTTCCGGCTCCGGCTCCGGC | varydicodonrepeatlength_TTTTGT_5 | 1.095159 | FCFCFCFCFCSGSGSG |\n",
       "| 1 | 0.8103948 | 0.3964457 | ATCATCATCATCATCATCTCCGGCTCCGGCTCCGGCTCCGGCTCCGGC | varydicodonrepeatlength_ATCATC_3 | 1.168888 | IIIIIISGSGSGSGSG |\n",
       "| 2 | 1.5273812 | 0.3946640 | ATCATCATCATCATCATCTCCGGCTCCGGCTCCGGCTCCGGCTCCGGC | varydicodonrepeatlength_ATCATC_3 | 1.168888 | IIIIIISGSGSGSGSG |\n",
       "| 1 | 1.2116982 | 0.4701526 | TTGATGTTGATGTTGATGTTGATGTTGATGTTGATGTCCGGCTCCGGC | varydicodonrepeatlength_TTGATG_6 | 1.191817 | LMLMLMLMLMLMSGSG |\n",
       "| 2 | 1.1719352 | 0.2971571 | TTGATGTTGATGTTGATGTTGATGTTGATGTTGATGTCCGGCTCCGGC | varydicodonrepeatlength_TTGATG_6 | 1.191817 | LMLMLMLMLMLMSGSG |\n",
       "| 1 | 1.4565181 | 0.4448013 | GTCATGGTCATGGTCATGGTCATGTCCGGCTCCGGCTCCGGCTCCGGC | varydicodonrepeatlength_GTCATG_4 | 1.231598 | VMVMVMVMSGSGSGSG |\n",
       "| 2 | 1.0066782 | 0.5519871 | GTCATGGTCATGGTCATGGTCATGTCCGGCTCCGGCTCCGGCTCCGGC | varydicodonrepeatlength_GTCATG_4 | 1.231598 | VMVMVMVMSGSGSGSG |\n",
       "| 1 | 1.5416709 | 0.7451928 | GTCATGGTCATGGTCATGGTCATGGTCATGGTCATGTCCGGCTCCGGC | varydicodonrepeatlength_GTCATG_6 | 1.237556 | VMVMVMVMVMVMSGSG |\n",
       "| 2 | 0.9334401 | 0.5747150 | GTCATGGTCATGGTCATGGTCATGGTCATGGTCATGTCCGGCTCCGGC | varydicodonrepeatlength_GTCATG_6 | 1.237556 | VMVMVMVMVMVMSGSG |\n",
       "| 1 | 1.2670240 | 0.3403323 | AGTGGCAGTGGCAGTGGCAGTGGCTCCGGCTCCGGCTCCGGCTCCGGC | varydicodonrepeatlength_AGTGGC_4 | 1.241884 | SGSGSGSGSGSGSGSG |\n",
       "| 2 | 1.2167446 | 0.3386865 | AGTGGCAGTGGCAGTGGCAGTGGCTCCGGCTCCGGCTCCGGCTCCGGC | varydicodonrepeatlength_AGTGGC_4 | 1.241884 | SGSGSGSGSGSGSGSG |\n",
       "| 1 | 1.2171284 | 0.3147427 | TCCATCATCATCATCTCCATCATCATCATCTCCATCATCATCATCTCC | reorderdicodon_ATCATC_2          | 1.258392 | SIIIISIIIISIIIIS |\n",
       "| 2 | 1.2996555 | 0.2673909 | TCCATCATCATCATCTCCATCATCATCATCTCCATCATCATCATCTCC | reorderdicodon_ATCATC_2          | 1.258392 | SIIIISIIIISIIIIS |\n",
       "| 1 | 1.1832415 | 0.3542092 | TTTCTGTTTCTGTTTCTGTTTCTGTTTCTGTTTCTGTTTCTGTTTCTG | varydicodonrepeatlength_TTTCTG_8 | 1.283821 | FLFLFLFLFLFLFLFL |\n",
       "| 2 | 1.3844004 | 0.3093006 | TTTCTGTTTCTGTTTCTGTTTCTGTTTCTGTTTCTGTTTCTGTTTCTG | varydicodonrepeatlength_TTTCTG_8 | 1.283821 | FLFLFLFLFLFLFLFL |\n",
       "| 1 | 1.1036155 | 0.3089809 | CCTCCGCCTCCGCCTCCGCCTCCGCCTCCGCCTCCGCCTCCGTCCGGC | varydicodonrepeatlength_CCTCCG_7 | 1.387572 | PPPPPPPPPPPPPPSG |\n",
       "| 2 | 1.6715289 | 0.3808846 | CCTCCGCCTCCGCCTCCGCCTCCGCCTCCGCCTCCGCCTCCGTCCGGC | varydicodonrepeatlength_CCTCCG_7 | 1.387572 | PPPPPPPPPPPPPPSG |\n",
       "| 1 | 1.2659781 | 0.3951885 | CCTCCGCCTCCGCCTCCGCCTCCGCCTCCGTCCGGCTCCGGCTCCGGC | varydicodonrepeatlength_CCTCCG_5 | 1.589470 | PPPPPPPPPPSGSGSG |\n",
       "| 2 | 1.9129617 | 0.3518731 | CCTCCGCCTCCGCCTCCGCCTCCGCCTCCGTCCGGCTCCGGCTCCGGC | varydicodonrepeatlength_CCTCCG_5 | 1.589470 | PPPPPPPPPPSGSGSG |\n",
       "| 1 | 0.9228120 | 0.2925932 | CCTCCGCCTCCGCCTCCGCCTCCGCCTCCGCCTCCGTCCGGCTCCGGC | varydicodonrepeatlength_CCTCCG_6 | 1.615952 | PPPPPPPPPPPPSGSG |\n",
       "| 2 | 2.3090919 | 0.5281390 | CCTCCGCCTCCGCCTCCGCCTCCGCCTCCGCCTCCGTCCGGCTCCGGC | varydicodonrepeatlength_CCTCCG_6 | 1.615952 | PPPPPPPPPPPPSGSG |\n",
       "| 1 | 1.1993071 | 0.3883697 | CCTCCGCCTCCGCCTCCGCCTCCGCCTCCGCCTCCGCCTCCGCCTCCG | varydicodonrepeatlength_CCTCCG_8 | 1.815525 | PPPPPPPPPPPPPPPP |\n",
       "| 2 | 2.4317428 | 0.6126183 | CCTCCGCCTCCGCCTCCGCCTCCGCCTCCGCCTCCGCCTCCGCCTCCG | varydicodonrepeatlength_CCTCCG_8 | 1.815525 | PPPPPPPPPPPPPPPP |\n",
       "\n"
      ],
      "text/plain": [
       "    replicate lfc       lfc_sd   \n",
       "1   1         -4.766543 1.2839912\n",
       "2   2         -4.161761 1.0550953\n",
       "3   1         -4.077567 1.4803556\n",
       "4   2         -3.350729 0.8582418\n",
       "5   1         -2.186848 0.8148912\n",
       "6   2         -5.183801 1.2543914\n",
       "7   1         -2.675770 0.5318793\n",
       "8   2         -4.670479 0.6382135\n",
       "9   1         -2.850292 0.4807270\n",
       "10  2         -3.839881 1.2841501\n",
       "11  1         -3.926480 0.7650593\n",
       "12  2         -2.612192 0.8310207\n",
       "13  1         -3.641523 0.7036982\n",
       "14  2         -2.864714 0.4184316\n",
       "15  1         -3.598531 0.7571875\n",
       "16  2         -2.851389 0.6130481\n",
       "17  1         -2.686438 0.5202000\n",
       "18  2         -3.240974 2.5955958\n",
       "19  1         -2.683871 0.6994238\n",
       "20  2         -3.164445 1.7346127\n",
       "21  1         -3.534569 1.2409250\n",
       "22  2         -2.313575 1.4067212\n",
       "23  1         -2.374379 0.4718587\n",
       "24  2         -3.231815 1.0569852\n",
       "25  1         -2.530648 0.6675745\n",
       "26  2         -2.920194 0.4612212\n",
       "27  1         -3.084361 1.5175969\n",
       "28  2         -2.192560 0.7917892\n",
       "29  1         -1.333383 0.8899687\n",
       "30  2         -3.931503 0.6542665\n",
       "⋮   ⋮         ⋮         ⋮        \n",
       "605 1         1.2527258 0.6394915\n",
       "606 2         0.8500362 0.5537173\n",
       "607 1         0.9922989 0.3536969\n",
       "608 2         1.1313459 0.6102887\n",
       "609 1         0.9908033 0.4281724\n",
       "610 2         1.1893623 0.3354367\n",
       "611 1         0.6576586 0.3971979\n",
       "612 2         1.5326586 0.3316011\n",
       "613 1         0.8103948 0.3964457\n",
       "614 2         1.5273812 0.3946640\n",
       "615 1         1.2116982 0.4701526\n",
       "616 2         1.1719352 0.2971571\n",
       "617 1         1.4565181 0.4448013\n",
       "618 2         1.0066782 0.5519871\n",
       "619 1         1.5416709 0.7451928\n",
       "620 2         0.9334401 0.5747150\n",
       "621 1         1.2670240 0.3403323\n",
       "622 2         1.2167446 0.3386865\n",
       "623 1         1.2171284 0.3147427\n",
       "624 2         1.2996555 0.2673909\n",
       "625 1         1.1832415 0.3542092\n",
       "626 2         1.3844004 0.3093006\n",
       "627 1         1.1036155 0.3089809\n",
       "628 2         1.6715289 0.3808846\n",
       "629 1         1.2659781 0.3951885\n",
       "630 2         1.9129617 0.3518731\n",
       "631 1         0.9228120 0.2925932\n",
       "632 2         2.3090919 0.5281390\n",
       "633 1         1.1993071 0.3883697\n",
       "634 2         2.4317428 0.6126183\n",
       "    seq                                             \n",
       "1   TACAAGTACAAGTACAAGTACAAGTACAAGTACAAGTCCGGCTCCGGC\n",
       "2   TACAAGTACAAGTACAAGTACAAGTACAAGTACAAGTCCGGCTCCGGC\n",
       "3   AAAGTCAGTTTCAAAGTCAGTTTCAAAGTCAGTTTCAAAGTCAGTTTC\n",
       "4   AAAGTCAGTTTCAAAGTCAGTTTCAAAGTCAGTTTCAAAGTCAGTTTC\n",
       "5   CGCCATCGCCATCGCCATCGCCATCGCCATCGCCATCGCCATCGCCAT\n",
       "6   CGCCATCGCCATCGCCATCGCCATCGCCATCGCCATCGCCATCGCCAT\n",
       "7   TACAAGTACAAGTACAAGTACAAGTACAAGTACAAGTACAAGTACAAG\n",
       "8   TACAAGTACAAGTACAAGTACAAGTACAAGTACAAGTACAAGTACAAG\n",
       "9   CGCCATCGCCATCGCCATCGCCATCGCCATCGCCATCGCCATTCCGGC\n",
       "10  CGCCATCGCCATCGCCATCGCCATCGCCATCGCCATCGCCATTCCGGC\n",
       "11  TTCAGTGTCAAATTCAGTGTCAAATTCAGTGTCAAATTCAGTGTCAAA\n",
       "12  TTCAGTGTCAAATTCAGTGTCAAATTCAGTGTCAAATTCAGTGTCAAA\n",
       "13  GTCAAAGTCAAAGTCAAAGTCAAAGTCAAATCCGGCTCCGGCTCCGGC\n",
       "14  GTCAAAGTCAAAGTCAAAGTCAAAGTCAAATCCGGCTCCGGCTCCGGC\n",
       "15  AGTTTCAAAGTCAGTTTCAAAGTCAGTTTCAAAGTCAGTTTCAAAGTC\n",
       "16  AGTTTCAAAGTCAGTTTCAAAGTCAGTTTCAAAGTCAGTTTCAAAGTC\n",
       "17  GTCAAAGTCAAAGTCAAAGTCAAAAGTTTCAGTTTCAGTTTCAGTTTC\n",
       "18  GTCAAAGTCAAAGTCAAAGTCAAAAGTTTCAGTTTCAGTTTCAGTTTC\n",
       "19  TACAAGTACAAGTACAAGTACAAGTACAAGTACAAGTACAAGTCCGGC\n",
       "20  TACAAGTACAAGTACAAGTACAAGTACAAGTACAAGTACAAGTCCGGC\n",
       "21  AAGATCAAGATCAAGATCAAGATCAAGATCAAGATCAAGATCAAGATC\n",
       "22  AAGATCAAGATCAAGATCAAGATCAAGATCAAGATCAAGATCAAGATC\n",
       "23  TCCAAGTACAAGTACAAGTACTCCTCCAAGTACAAGTACAAGTACTCC\n",
       "24  TCCAAGTACAAGTACAAGTACTCCTCCAAGTACAAGTACAAGTACTCC\n",
       "25  TCCAAGATCAAGATCAAGATCTCCTCCAAGATCAAGATCAAGATCTCC\n",
       "26  TCCAAGATCAAGATCAAGATCTCCTCCAAGATCAAGATCAAGATCTCC\n",
       "27  TAATGATAATGATAATGATAATGATAATGATAATGATAATGATAATGA\n",
       "28  TAATGATAATGATAATGATAATGATAATGATAATGATAATGATAATGA\n",
       "29  TTCAGTTTCAGTTTCAGTTTCAGTAAAGTCAAAGTCAAAGTCAAAGTC\n",
       "30  TTCAGTTTCAGTTTCAGTTTCAGTAAAGTCAAAGTCAAAGTCAAAGTC\n",
       "⋮   ⋮                                               \n",
       "605 CTTATCCTTATCCTTATCCTTATCCTTATCTCCGGCTCCGGCTCCGGC\n",
       "606 CTTATCCTTATCCTTATCCTTATCCTTATCTCCGGCTCCGGCTCCGGC\n",
       "607 CTCATACTCATACTCATACTCATATCCGGCTCCGGCTCCGGCTCCGGC\n",
       "608 CTCATACTCATACTCATACTCATATCCGGCTCCGGCTCCGGCTCCGGC\n",
       "609 CGTGAACGTGAACGTGAACGTGAACGTGAATCCGGCTCCGGCTCCGGC\n",
       "610 CGTGAACGTGAACGTGAACGTGAACGTGAATCCGGCTCCGGCTCCGGC\n",
       "611 TTTTGTTTTTGTTTTTGTTTTTGTTTTTGTTCCGGCTCCGGCTCCGGC\n",
       "612 TTTTGTTTTTGTTTTTGTTTTTGTTTTTGTTCCGGCTCCGGCTCCGGC\n",
       "613 ATCATCATCATCATCATCTCCGGCTCCGGCTCCGGCTCCGGCTCCGGC\n",
       "614 ATCATCATCATCATCATCTCCGGCTCCGGCTCCGGCTCCGGCTCCGGC\n",
       "615 TTGATGTTGATGTTGATGTTGATGTTGATGTTGATGTCCGGCTCCGGC\n",
       "616 TTGATGTTGATGTTGATGTTGATGTTGATGTTGATGTCCGGCTCCGGC\n",
       "617 GTCATGGTCATGGTCATGGTCATGTCCGGCTCCGGCTCCGGCTCCGGC\n",
       "618 GTCATGGTCATGGTCATGGTCATGTCCGGCTCCGGCTCCGGCTCCGGC\n",
       "619 GTCATGGTCATGGTCATGGTCATGGTCATGGTCATGTCCGGCTCCGGC\n",
       "620 GTCATGGTCATGGTCATGGTCATGGTCATGGTCATGTCCGGCTCCGGC\n",
       "621 AGTGGCAGTGGCAGTGGCAGTGGCTCCGGCTCCGGCTCCGGCTCCGGC\n",
       "622 AGTGGCAGTGGCAGTGGCAGTGGCTCCGGCTCCGGCTCCGGCTCCGGC\n",
       "623 TCCATCATCATCATCTCCATCATCATCATCTCCATCATCATCATCTCC\n",
       "624 TCCATCATCATCATCTCCATCATCATCATCTCCATCATCATCATCTCC\n",
       "625 TTTCTGTTTCTGTTTCTGTTTCTGTTTCTGTTTCTGTTTCTGTTTCTG\n",
       "626 TTTCTGTTTCTGTTTCTGTTTCTGTTTCTGTTTCTGTTTCTGTTTCTG\n",
       "627 CCTCCGCCTCCGCCTCCGCCTCCGCCTCCGCCTCCGCCTCCGTCCGGC\n",
       "628 CCTCCGCCTCCGCCTCCGCCTCCGCCTCCGCCTCCGCCTCCGTCCGGC\n",
       "629 CCTCCGCCTCCGCCTCCGCCTCCGCCTCCGTCCGGCTCCGGCTCCGGC\n",
       "630 CCTCCGCCTCCGCCTCCGCCTCCGCCTCCGTCCGGCTCCGGCTCCGGC\n",
       "631 CCTCCGCCTCCGCCTCCGCCTCCGCCTCCGCCTCCGTCCGGCTCCGGC\n",
       "632 CCTCCGCCTCCGCCTCCGCCTCCGCCTCCGCCTCCGTCCGGCTCCGGC\n",
       "633 CCTCCGCCTCCGCCTCCGCCTCCGCCTCCGCCTCCGCCTCCGCCTCCG\n",
       "634 CCTCCGCCTCCGCCTCCGCCTCCGCCTCCGCCTCCGCCTCCGCCTCCG\n",
       "    insert_name                      mean_lfc  insert          \n",
       "1   varydicodonrepeatlength_TACAAG_6 -4.464152 YKYKYKYKYKYKSGSG\n",
       "2   varydicodonrepeatlength_TACAAG_6 -4.464152 YKYKYKYKYKYKSGSG\n",
       "3   mixdicodons_AAAGTC_AGTTTC_1      -3.714148 KVSFKVSFKVSFKVSF\n",
       "4   mixdicodons_AAAGTC_AGTTTC_1      -3.714148 KVSFKVSFKVSFKVSF\n",
       "5   varydicodonrepeatlength_CGCCAT_8 -3.685324 RHRHRHRHRHRHRHRH\n",
       "6   varydicodonrepeatlength_CGCCAT_8 -3.685324 RHRHRHRHRHRHRHRH\n",
       "7   varydicodonrepeatlength_TACAAG_8 -3.673124 YKYKYKYKYKYKYKYK\n",
       "8   varydicodonrepeatlength_TACAAG_8 -3.673124 YKYKYKYKYKYKYKYK\n",
       "9   varydicodonrepeatlength_CGCCAT_7 -3.345087 RHRHRHRHRHRHRHSG\n",
       "10  varydicodonrepeatlength_CGCCAT_7 -3.345087 RHRHRHRHRHRHRHSG\n",
       "11  mixdicodons_TTCAGT_GTCAAA_1      -3.269336 FSVKFSVKFSVKFSVK\n",
       "12  mixdicodons_TTCAGT_GTCAAA_1      -3.269336 FSVKFSVKFSVKFSVK\n",
       "13  varydicodonrepeatlength_GTCAAA_5 -3.253119 VKVKVKVKVKSGSGSG\n",
       "14  varydicodonrepeatlength_GTCAAA_5 -3.253119 VKVKVKVKVKSGSGSG\n",
       "15  mixdicodons_AGTTTC_AAAGTC_1      -3.224960 SFKVSFKVSFKVSFKV\n",
       "16  mixdicodons_AGTTTC_AAAGTC_1      -3.224960 SFKVSFKVSFKVSFKV\n",
       "17  mixdicodons_GTCAAA_AGTTTC_4      -2.963706 VKVKVKVKSFSFSFSF\n",
       "18  mixdicodons_GTCAAA_AGTTTC_4      -2.963706 VKVKVKVKSFSFSFSF\n",
       "19  varydicodonrepeatlength_TACAAG_7 -2.924158 YKYKYKYKYKYKYKSG\n",
       "20  varydicodonrepeatlength_TACAAG_7 -2.924158 YKYKYKYKYKYKYKSG\n",
       "21  varydicodonrepeatlength_AAGATC_8 -2.924072 KIKIKIKIKIKIKIKI\n",
       "22  varydicodonrepeatlength_AAGATC_8 -2.924072 KIKIKIKIKIKIKIKI\n",
       "23  reorderdicodon_AAGTAC_3          -2.803097 SKYKYKYSSKYKYKYS\n",
       "24  reorderdicodon_AAGTAC_3          -2.803097 SKYKYKYSSKYKYKYS\n",
       "25  reorderdicodon_AAGATC_3          -2.725421 SKIKIKISSKIKIKIS\n",
       "26  reorderdicodon_AAGATC_3          -2.725421 SKIKIKISSKIKIKIS\n",
       "27  stop_control                     -2.638461 ****************\n",
       "28  stop_control                     -2.638461 ****************\n",
       "29  mixdicodons_TTCAGT_AAAGTC_4      -2.632443 FSFSFSFSKVKVKVKV\n",
       "30  mixdicodons_TTCAGT_AAAGTC_4      -2.632443 FSFSFSFSKVKVKVKV\n",
       "⋮   ⋮                                ⋮         ⋮               \n",
       "605 varydicodonrepeatlength_CTTATC_5 1.051381  LILILILILISGSGSG\n",
       "606 varydicodonrepeatlength_CTTATC_5 1.051381  LILILILILISGSGSG\n",
       "607 varydicodonrepeatlength_CTCATA_4 1.061822  LILILILISGSGSGSG\n",
       "608 varydicodonrepeatlength_CTCATA_4 1.061822  LILILILISGSGSGSG\n",
       "609 varydicodonrepeatlength_CGTGAA_5 1.090083  RERERERERESGSGSG\n",
       "610 varydicodonrepeatlength_CGTGAA_5 1.090083  RERERERERESGSGSG\n",
       "611 varydicodonrepeatlength_TTTTGT_5 1.095159  FCFCFCFCFCSGSGSG\n",
       "612 varydicodonrepeatlength_TTTTGT_5 1.095159  FCFCFCFCFCSGSGSG\n",
       "613 varydicodonrepeatlength_ATCATC_3 1.168888  IIIIIISGSGSGSGSG\n",
       "614 varydicodonrepeatlength_ATCATC_3 1.168888  IIIIIISGSGSGSGSG\n",
       "615 varydicodonrepeatlength_TTGATG_6 1.191817  LMLMLMLMLMLMSGSG\n",
       "616 varydicodonrepeatlength_TTGATG_6 1.191817  LMLMLMLMLMLMSGSG\n",
       "617 varydicodonrepeatlength_GTCATG_4 1.231598  VMVMVMVMSGSGSGSG\n",
       "618 varydicodonrepeatlength_GTCATG_4 1.231598  VMVMVMVMSGSGSGSG\n",
       "619 varydicodonrepeatlength_GTCATG_6 1.237556  VMVMVMVMVMVMSGSG\n",
       "620 varydicodonrepeatlength_GTCATG_6 1.237556  VMVMVMVMVMVMSGSG\n",
       "621 varydicodonrepeatlength_AGTGGC_4 1.241884  SGSGSGSGSGSGSGSG\n",
       "622 varydicodonrepeatlength_AGTGGC_4 1.241884  SGSGSGSGSGSGSGSG\n",
       "623 reorderdicodon_ATCATC_2          1.258392  SIIIISIIIISIIIIS\n",
       "624 reorderdicodon_ATCATC_2          1.258392  SIIIISIIIISIIIIS\n",
       "625 varydicodonrepeatlength_TTTCTG_8 1.283821  FLFLFLFLFLFLFLFL\n",
       "626 varydicodonrepeatlength_TTTCTG_8 1.283821  FLFLFLFLFLFLFLFL\n",
       "627 varydicodonrepeatlength_CCTCCG_7 1.387572  PPPPPPPPPPPPPPSG\n",
       "628 varydicodonrepeatlength_CCTCCG_7 1.387572  PPPPPPPPPPPPPPSG\n",
       "629 varydicodonrepeatlength_CCTCCG_5 1.589470  PPPPPPPPPPSGSGSG\n",
       "630 varydicodonrepeatlength_CCTCCG_5 1.589470  PPPPPPPPPPSGSGSG\n",
       "631 varydicodonrepeatlength_CCTCCG_6 1.615952  PPPPPPPPPPPPSGSG\n",
       "632 varydicodonrepeatlength_CCTCCG_6 1.615952  PPPPPPPPPPPPSGSG\n",
       "633 varydicodonrepeatlength_CCTCCG_8 1.815525  PPPPPPPPPPPPPPPP\n",
       "634 varydicodonrepeatlength_CCTCCG_8 1.815525  PPPPPPPPPPPPPPPP"
      ]
     },
     "metadata": {},
     "output_type": "display_data"
    }
   ],
   "source": [
    "\n",
    "insert_lfc <- lfc %>% \n",
    "  left_join(insert_annotations, by = \"insert_num\") %>% \n",
    "  group_by(insert_num) %>% \n",
    "  mutate(mean_lfc = mean(lfc)) %>% \n",
    "  ungroup() %>% \n",
    "  arrange(mean_lfc) %>% \n",
    "  select(-insert_num) %>% \n",
    "  mutate(insert = as.character(translate(DNAStringSet(seq), no.init.codon = T))) %>% \n",
    "  write_tsv(\"../tables/insert_mrna_lfc.tsv.gz\")\n",
    "\n",
    "insert_lfc  "
   ]
  },
  {
   "cell_type": "markdown",
   "metadata": {},
   "source": [
    "## How does mRNA level vary with dicodon repeat length?"
   ]
  },
  {
   "cell_type": "code",
   "execution_count": 165,
   "metadata": {
    "vscode": {
     "languageId": "r"
    }
   },
   "outputs": [
    {
     "name": "stdout",
     "output_type": "stream",
     "text": [
      "\u001b[90m# A tibble: 168 × 8\u001b[39m\n",
      "   replicate    lfc lfc_sd seq              dicodon repeat_length mean_lfc diaa \n",
      "       \u001b[3m\u001b[90m<dbl>\u001b[39m\u001b[23m  \u001b[3m\u001b[90m<dbl>\u001b[39m\u001b[23m  \u001b[3m\u001b[90m<dbl>\u001b[39m\u001b[23m \u001b[3m\u001b[90m<chr>\u001b[39m\u001b[23m            \u001b[3m\u001b[90m<chr>\u001b[39m\u001b[23m   \u001b[3m\u001b[90m<chr>\u001b[39m\u001b[23m            \u001b[3m\u001b[90m<dbl>\u001b[39m\u001b[23m \u001b[3m\u001b[90m<fct>\u001b[39m\u001b[23m\n",
      "\u001b[90m 1\u001b[39m         1 -\u001b[31m3\u001b[39m\u001b[31m.\u001b[39m\u001b[31m53\u001b[39m   1.24  AAGATCAAGATCAAG… AAGATC  8               -\u001b[31m2\u001b[39m\u001b[31m.\u001b[39m\u001b[31m92\u001b[39m  KI   \n",
      "\u001b[90m 2\u001b[39m         1 -\u001b[31m1\u001b[39m\u001b[31m.\u001b[39m\u001b[31m50\u001b[39m   0.479 AAGATCAAGATCAAG… AAGATC  7               -\u001b[31m1\u001b[39m\u001b[31m.\u001b[39m\u001b[31m63\u001b[39m  KI   \n",
      "\u001b[90m 3\u001b[39m         1 -\u001b[31m0\u001b[39m\u001b[31m.\u001b[39m\u001b[31m695\u001b[39m  0.645 AAGATCAAGATCAAG… AAGATC  6               -\u001b[31m1\u001b[39m\u001b[31m.\u001b[39m\u001b[31m42\u001b[39m  KI   \n",
      "\u001b[90m 4\u001b[39m         1 -\u001b[31m1\u001b[39m\u001b[31m.\u001b[39m\u001b[31m27\u001b[39m   0.557 AAGATCAAGATCAAG… AAGATC  5               -\u001b[31m1\u001b[39m\u001b[31m.\u001b[39m\u001b[31m59\u001b[39m  KI   \n",
      "\u001b[90m 5\u001b[39m         1 -\u001b[31m0\u001b[39m\u001b[31m.\u001b[39m\u001b[31m354\u001b[39m  0.321 AAGATCAAGATCAAG… AAGATC  4               -\u001b[31m0\u001b[39m\u001b[31m.\u001b[39m\u001b[31m630\u001b[39m KI   \n",
      "\u001b[90m 6\u001b[39m         1  0.296  0.297 AAGATCAAGATCAAG… AAGATC  3                0.233 KI   \n",
      "\u001b[90m 7\u001b[39m         1  0.255  0.345 AAGATCAAGATCTCC… AAGATC  2                0.464 KI   \n",
      "\u001b[90m 8\u001b[39m         1 -\u001b[31m0\u001b[39m\u001b[31m.\u001b[39m\u001b[31m441\u001b[39m  0.334 AAGATCTCCGGCTCC… AAGATC  1                0.278 KI   \n",
      "\u001b[90m 9\u001b[39m         1 -\u001b[31m2\u001b[39m\u001b[31m.\u001b[39m\u001b[31m52\u001b[39m   0.482 AAGTTCAAGTTCAAG… AAGTTC  8               -\u001b[31m2\u001b[39m\u001b[31m.\u001b[39m\u001b[31m0\u001b[39m\u001b[31m1\u001b[39m  KF   \n",
      "\u001b[90m10\u001b[39m         1 -\u001b[31m2\u001b[39m\u001b[31m.\u001b[39m\u001b[31m94\u001b[39m   0.495 AAGTTCAAGTTCAAG… AAGTTC  7               -\u001b[31m2\u001b[39m\u001b[31m.\u001b[39m\u001b[31m23\u001b[39m  KF   \n",
      "\u001b[90m# … with 158 more rows\u001b[39m\n"
     ]
    },
    {
     "data": {
      "image/png": "[encoded data removed]",
      "text/plain": [
       "plot without title"
      ]
     },
     "metadata": {
      "image/png": {
       "height": 180,
       "width": 180
      }
     },
     "output_type": "display_data"
    }
   ],
   "source": [
    "options(repr.plot.width=3, repr.plot.height=3)\n",
    "\n",
    "plot_data <- insert_lfc %>%\n",
    "  filter(str_detect(insert_name, \"varydicodonrepeatlength\")) %>% \n",
    "  separate(insert_name, c(\"insert_type\", \"dicodon\", \"repeat_length\")) %>% \n",
    "  mutate(diaa = as.character(translate(DNAStringSet(dicodon,), no.init.codon = T))) %>% \n",
    "  group_by(seq) %>%\n",
    "  slice(1) %>% \n",
    "  ungroup() %>% \n",
    "  group_by(diaa) %>%\n",
    "  mutate(temp = min(mean_lfc[repeat_length == \"8\"])) %>%\n",
    "  ungroup() %>%\n",
    "  mutate(diaa = fct_reorder(diaa, -temp)) %>%\n",
    "  select(-insert, - insert_type, -temp) %>%\n",
    "  print()\n",
    "\n",
    "plot_data %>% \n",
    "  ggplot(aes(x = repeat_length, y = fct_rev(diaa), fill = mean_lfc)) +\n",
    "  geom_tile(color = 'grey') +\n",
    "  scale_fill_gradient2() +\n",
    "  labs(x = \"Number of Repeats\", y = \"Dipeptide\", fill = \"   mRNA\\n(log2, a.u.)\",\n",
    "       title = \"Effect of Repeat Length on mRNA level\")  "
   ]
  },
  {
   "cell_type": "markdown",
   "metadata": {},
   "source": [
    "## Plot length effects for destabilizing dipeptide only\n",
    "\n",
    "- set RH8 as lowest for heatmap purposes, since YK6 being lowest is likely suprious. "
   ]
  },
  {
   "cell_type": "code",
   "execution_count": 166,
   "metadata": {
    "vscode": {
     "languageId": "r"
    }
   },
   "outputs": [
    {
     "name": "stdout",
     "output_type": "stream",
     "text": [
      "\u001b[90m# A tibble: 72 × 8\u001b[39m\n",
      "   replicate     lfc lfc_sd seq             dicodon repeat_length mean_lfc diaa \n",
      "       \u001b[3m\u001b[90m<dbl>\u001b[39m\u001b[23m   \u001b[3m\u001b[90m<dbl>\u001b[39m\u001b[23m  \u001b[3m\u001b[90m<dbl>\u001b[39m\u001b[23m \u001b[3m\u001b[90m<chr>\u001b[39m\u001b[23m           \u001b[3m\u001b[90m<chr>\u001b[39m\u001b[23m   \u001b[3m\u001b[90m<chr>\u001b[39m\u001b[23m            \u001b[3m\u001b[90m<dbl>\u001b[39m\u001b[23m \u001b[3m\u001b[90m<fct>\u001b[39m\u001b[23m\n",
      "\u001b[90m 1\u001b[39m         1 -\u001b[31m3\u001b[39m\u001b[31m.\u001b[39m\u001b[31m43\u001b[39m    0.666 ATCATCATCATCAT… ATCATC  8              -\u001b[31m2\u001b[39m\u001b[31m.\u001b[39m\u001b[31m31\u001b[39m   II   \n",
      "\u001b[90m 2\u001b[39m         1 -\u001b[31m2\u001b[39m\u001b[31m.\u001b[39m\u001b[31m52\u001b[39m    0.556 ATCATCATCATCAT… ATCATC  7              -\u001b[31m1\u001b[39m\u001b[31m.\u001b[39m\u001b[31m81\u001b[39m   II   \n",
      "\u001b[90m 3\u001b[39m         1 -\u001b[31m0\u001b[39m\u001b[31m.\u001b[39m\u001b[31m195\u001b[39m   0.345 ATCATCATCATCAT… ATCATC  6               0.025\u001b[4m3\u001b[24m II   \n",
      "\u001b[90m 4\u001b[39m         1 -\u001b[31m0\u001b[39m\u001b[31m.\u001b[39m\u001b[31m0\u001b[39m\u001b[31m44\u001b[4m2\u001b[24m\u001b[39m  0.531 ATCATCATCATCAT… ATCATC  5              -\u001b[31m0\u001b[39m\u001b[31m.\u001b[39m\u001b[31m125\u001b[39m  II   \n",
      "\u001b[90m 5\u001b[39m         1  0.291   0.288 ATCATCATCATCAT… ATCATC  4               0.564  II   \n",
      "\u001b[90m 6\u001b[39m         1  0.810   0.396 ATCATCATCATCAT… ATCATC  3               1.17   II   \n",
      "\u001b[90m 7\u001b[39m         1  0.474   0.306 ATCATCATCATCTC… ATCATC  2               0.160  II   \n",
      "\u001b[90m 8\u001b[39m         1  0.310   0.426 ATCATCTCCGGCTC… ATCATC  1               0.396  II   \n",
      "\u001b[90m 9\u001b[39m         1 -\u001b[31m2\u001b[39m\u001b[31m.\u001b[39m\u001b[31m52\u001b[39m    0.482 AAGTTCAAGTTCAA… AAGTTC  8              -\u001b[31m2\u001b[39m\u001b[31m.\u001b[39m\u001b[31m0\u001b[39m\u001b[31m1\u001b[39m   KF   \n",
      "\u001b[90m10\u001b[39m         1 -\u001b[31m2\u001b[39m\u001b[31m.\u001b[39m\u001b[31m94\u001b[39m    0.495 AAGTTCAAGTTCAA… AAGTTC  7              -\u001b[31m2\u001b[39m\u001b[31m.\u001b[39m\u001b[31m23\u001b[39m   KF   \n",
      "\u001b[90m# … with 62 more rows\u001b[39m\n"
     ]
    },
    {
     "data": {
      "image/png": "[encoded data removed]",
      "text/plain": [
       "plot without title"
      ]
     },
     "metadata": {
      "image/png": {
       "height": 210,
       "width": 150
      }
     },
     "output_type": "display_data"
    }
   ],
   "source": [
    "options(repr.plot.width=2.5, repr.plot.height=3.5)\n",
    "\n",
    "plot_data <- insert_lfc %>% \n",
    "  filter(str_detect(insert_name, \"varydicodonrepeatlength\")) %>% \n",
    "  separate(insert_name, c(\"insert_type\", \"dicodon\", \"repeat_length\")) %>% \n",
    "  # we skip these two dicodons and plot them separately since they are peculiar, \n",
    "  # they have another synonymous dicodon in this group\n",
    "  filter(!dicodon %in% c(\"AGAGAG\", \"CTCATA\")) %>%\n",
    "  mutate(diaa = as.character(translate(DNAStringSet(dicodon,), no.init.codon = T))) %>% \n",
    "  group_by(insert) %>%\n",
    "  slice(1) %>%\n",
    "  ungroup() %>%\n",
    "  group_by(diaa) %>%\n",
    "  mutate(temp = min(mean_lfc[repeat_length == \"8\"])) %>%\n",
    "  ungroup() %>%\n",
    "  filter(temp < -0.5) %>% \n",
    "  mutate(diaa = fct_reorder(diaa, -temp)) %>%\n",
    "  select(-insert, - insert_type, -temp) %>%\n",
    "  mutate(mean_lfc = case_when(mean_lfc < -3.8 ~ -3.8, T ~ mean_lfc)) %>% \n",
    "  print()\n",
    "\n",
    "plot_data %>% \n",
    "  complete(diaa, repeat_length) %>% \n",
    "  ggplot(aes(x = repeat_length, y = fct_rev(diaa), fill = mean_lfc)) +\n",
    "  geom_tile() +\n",
    "  scale_fill_gradient2(breaks = c(0, -1.5, -3),\n",
    "                       na.value = \"grey50\", \n",
    "                       guide = guide_colorbar(barwidth = 3.5, barheight = 0.5, ticks.colour = \"black\", title.position = \"top\")) +\n",
    "  labs(x = \"Number of repeats\", y = \"Dipeptide\", fill = \"mRNA level\\n(log2, a.u.)\") +\n",
    "  theme(axis.line = element_blank(), legend.position = \"top\") \n",
    "  \n",
    "ggsave(\"../figures/destabilizing_dipeptide_length_effect.pdf\", width = 2.5, height = 3.5)   "
   ]
  },
  {
   "cell_type": "markdown",
   "metadata": {},
   "source": [
    "## Show replicability for above plot"
   ]
  },
  {
   "cell_type": "code",
   "execution_count": 167,
   "metadata": {
    "vscode": {
     "languageId": "r"
    }
   },
   "outputs": [
    {
     "name": "stdout",
     "output_type": "stream",
     "text": [
      "\u001b[90m# A tibble: 72 × 4\u001b[39m\n",
      "   diaa  repeat_length lfc_1 lfc_2\n",
      "   \u001b[3m\u001b[90m<chr>\u001b[39m\u001b[23m \u001b[3m\u001b[90m<chr>\u001b[39m\u001b[23m         \u001b[3m\u001b[90m<dbl>\u001b[39m\u001b[23m \u001b[3m\u001b[90m<dbl>\u001b[39m\u001b[23m\n",
      "\u001b[90m 1\u001b[39m YK    6             -\u001b[31m4\u001b[39m\u001b[31m.\u001b[39m\u001b[31m77\u001b[39m -\u001b[31m4\u001b[39m\u001b[31m.\u001b[39m\u001b[31m16\u001b[39m\n",
      "\u001b[90m 2\u001b[39m RH    8             -\u001b[31m2\u001b[39m\u001b[31m.\u001b[39m\u001b[31m19\u001b[39m -\u001b[31m5\u001b[39m\u001b[31m.\u001b[39m\u001b[31m18\u001b[39m\n",
      "\u001b[90m 3\u001b[39m YK    8             -\u001b[31m2\u001b[39m\u001b[31m.\u001b[39m\u001b[31m68\u001b[39m -\u001b[31m4\u001b[39m\u001b[31m.\u001b[39m\u001b[31m67\u001b[39m\n",
      "\u001b[90m 4\u001b[39m RH    7             -\u001b[31m2\u001b[39m\u001b[31m.\u001b[39m\u001b[31m85\u001b[39m -\u001b[31m3\u001b[39m\u001b[31m.\u001b[39m\u001b[31m84\u001b[39m\n",
      "\u001b[90m 5\u001b[39m VK    5             -\u001b[31m3\u001b[39m\u001b[31m.\u001b[39m\u001b[31m64\u001b[39m -\u001b[31m2\u001b[39m\u001b[31m.\u001b[39m\u001b[31m86\u001b[39m\n",
      "\u001b[90m 6\u001b[39m YK    7             -\u001b[31m2\u001b[39m\u001b[31m.\u001b[39m\u001b[31m68\u001b[39m -\u001b[31m3\u001b[39m\u001b[31m.\u001b[39m\u001b[31m16\u001b[39m\n",
      "\u001b[90m 7\u001b[39m KI    8             -\u001b[31m3\u001b[39m\u001b[31m.\u001b[39m\u001b[31m53\u001b[39m -\u001b[31m2\u001b[39m\u001b[31m.\u001b[39m\u001b[31m31\u001b[39m\n",
      "\u001b[90m 8\u001b[39m VK    7             -\u001b[31m2\u001b[39m\u001b[31m.\u001b[39m\u001b[31m64\u001b[39m -\u001b[31m2\u001b[39m\u001b[31m.\u001b[39m\u001b[31m45\u001b[39m\n",
      "\u001b[90m 9\u001b[39m VK    8             -\u001b[31m2\u001b[39m\u001b[31m.\u001b[39m\u001b[31m59\u001b[39m -\u001b[31m2\u001b[39m\u001b[31m.\u001b[39m\u001b[31m19\u001b[39m\n",
      "\u001b[90m10\u001b[39m II    8             -\u001b[31m3\u001b[39m\u001b[31m.\u001b[39m\u001b[31m43\u001b[39m -\u001b[31m1\u001b[39m\u001b[31m.\u001b[39m\u001b[31m19\u001b[39m\n",
      "\u001b[90m# … with 62 more rows\u001b[39m\n"
     ]
    },
    {
     "data": {
      "image/png": "[encoded data removed]",
      "text/plain": [
       "plot without title"
      ]
     },
     "metadata": {
      "image/png": {
       "height": 120,
       "width": 120
      }
     },
     "output_type": "display_data"
    }
   ],
   "source": [
    "options(repr.plot.width=2, repr.plot.height=2)\n",
    "\n",
    "plot_data <- insert_lfc %>% \n",
    "  filter(str_detect(insert_name, \"varydicodonrepeatlength\")) %>% \n",
    "  separate(insert_name, c(\"insert_type\", \"dicodon\", \"repeat_length\")) %>% \n",
    "  # we skip these two dicodons and plot them separately since they are peculiar\n",
    "  filter(!dicodon %in% c(\"AGAGAG\", \"CTCATA\")) %>%\n",
    "  mutate(diaa = as.character(translate(DNAStringSet(dicodon,), no.init.codon = T))) %>% \n",
    "  group_by(diaa) %>%\n",
    "  mutate(temp = min(mean_lfc[repeat_length == \"8\"])) %>%\n",
    "  ungroup() %>%\n",
    "  filter(temp < -0.5) %>% \n",
    "  select(replicate, lfc, diaa, repeat_length) %>% \n",
    "  mutate(replicate = as.character(replicate)) %>% \n",
    "  pivot_wider(names_from = replicate, values_from = lfc, names_prefix = \"lfc_\") %>%\n",
    "  print()\n",
    "\n",
    "plot_data %>% \n",
    "  ggplot(aes(x = lfc_1, y = lfc_2)) +\n",
    "  geom_point(size = 0.5) +\n",
    "  labs(x = \"mRNA level, Rep 1\\n(log2, a.u.)\", y = \"mRNA level, Rep 2\\n(log2, a.u.)\") +\n",
    "  annotate(\"text\", x=0, y=-6, label=\"rho = 0.84\", size = 2)"
   ]
  },
  {
   "cell_type": "markdown",
   "metadata": {},
   "source": [
    "## Read in data from Pool1 8x Dicodon experiment\n",
    "\n",
    "- Adjust such that we can use this as an additioanl replciate for plotting 8x dicodon test effects "
   ]
  },
  {
   "cell_type": "code",
   "execution_count": 168,
   "metadata": {
    "vscode": {
     "languageId": "r"
    }
   },
   "outputs": [
    {
     "name": "stderr",
     "output_type": "stream",
     "text": [
      "\u001b[1mRows: \u001b[22m\u001b[34m441\u001b[39m \u001b[1mColumns: \u001b[22m\u001b[34m12\u001b[39m\n",
      "\u001b[36m──\u001b[39m \u001b[1mColumn specification\u001b[22m \u001b[36m────────────────────────────────────────────────────────\u001b[39m\n",
      "\u001b[1mDelimiter:\u001b[22m \"\\t\"\n",
      "\u001b[31mchr\u001b[39m (6): dicodon, diaa, codon1, codon2, aa1, aa2\n",
      "\u001b[32mdbl\u001b[39m (6): insert_num, count_grna, count_mrna, n_barcodes_grna, n_barcodes_mrn...\n",
      "\n",
      "\u001b[36mℹ\u001b[39m Use `spec()` to retrieve the full column specification for this data.\n",
      "\u001b[36mℹ\u001b[39m Specify the column types or set `show_col_types = FALSE` to quiet this message.\n"
     ]
    },
    {
     "name": "stdout",
     "output_type": "stream",
     "text": [
      "\u001b[90m# A tibble: 441 × 7\u001b[39m\n",
      "   diaa1 diaa2   lfc repeat_length insert           experiment replicate\n",
      "   \u001b[3m\u001b[90m<chr>\u001b[39m\u001b[23m \u001b[3m\u001b[90m<chr>\u001b[39m\u001b[23m \u001b[3m\u001b[90m<dbl>\u001b[39m\u001b[23m         \u001b[3m\u001b[90m<dbl>\u001b[39m\u001b[23m \u001b[3m\u001b[90m<chr>\u001b[39m\u001b[23m                 \u001b[3m\u001b[90m<dbl>\u001b[39m\u001b[23m     \u001b[3m\u001b[90m<dbl>\u001b[39m\u001b[23m\n",
      "\u001b[90m 1\u001b[39m G*    G*    -\u001b[31m3\u001b[39m\u001b[31m.\u001b[39m\u001b[31m0\u001b[39m\u001b[31m4\u001b[39m             8 G*G*G*G*G*G*G*G*          1         1\n",
      "\u001b[90m 2\u001b[39m YK    YK    -\u001b[31m2\u001b[39m\u001b[31m.\u001b[39m\u001b[31m67\u001b[39m             8 YKYKYKYKYKYKYKYK          1         1\n",
      "\u001b[90m 3\u001b[39m RH    RH    -\u001b[31m2\u001b[39m\u001b[31m.\u001b[39m\u001b[31m66\u001b[39m             8 RHRHRHRHRHRHRHRH          1         1\n",
      "\u001b[90m 4\u001b[39m T*    T*    -\u001b[31m2\u001b[39m\u001b[31m.\u001b[39m\u001b[31m41\u001b[39m             8 T*T*T*T*T*T*T*T*          1         1\n",
      "\u001b[90m 5\u001b[39m HR    HR    -\u001b[31m2\u001b[39m\u001b[31m.\u001b[39m\u001b[31m39\u001b[39m             8 HRHRHRHRHRHRHRHR          1         1\n",
      "\u001b[90m 6\u001b[39m R*    R*    -\u001b[31m2\u001b[39m\u001b[31m.\u001b[39m\u001b[31m32\u001b[39m             8 R*R*R*R*R*R*R*R*          1         1\n",
      "\u001b[90m 7\u001b[39m II    II    -\u001b[31m2\u001b[39m\u001b[31m.\u001b[39m\u001b[31m30\u001b[39m             8 IIIIIIIIIIIIIIII          1         1\n",
      "\u001b[90m 8\u001b[39m VK    VK    -\u001b[31m2\u001b[39m\u001b[31m.\u001b[39m\u001b[31m26\u001b[39m             8 VKVKVKVKVKVKVKVK          1         1\n",
      "\u001b[90m 9\u001b[39m KV    KV    -\u001b[31m2\u001b[39m\u001b[31m.\u001b[39m\u001b[31m23\u001b[39m             8 KVKVKVKVKVKVKVKV          1         1\n",
      "\u001b[90m10\u001b[39m KI    KI    -\u001b[31m2\u001b[39m\u001b[31m.\u001b[39m\u001b[31m18\u001b[39m             8 KIKIKIKIKIKIKIKI          1         1\n",
      "\u001b[90m# … with 431 more rows\u001b[39m\n"
     ]
    }
   ],
   "source": [
    "all_8xdiaa_data <- read_tsv(\"../../pool1_mrna/tables/8xdipeptide_lfc.tsv.gz\") %>% \n",
    "  select(count_grna, count_mrna, n_barcodes_grna, n_barcodes_mrna, diaa) %>% \n",
    "  group_by(diaa) %>%\n",
    "  summarize_all(sum) %>%\n",
    "  ungroup() %>%\n",
    "  mutate(lfc = log2(count_mrna / count_grna)) %>%\n",
    "  mutate(lfc = lfc -  median(lfc)) %>%\n",
    "  arrange(lfc) %>%\n",
    "  mutate(diaa1 = diaa, diaa2 = diaa, repeat_length = 8) %>% \n",
    "  mutate(insert = strrep(diaa, 8)) %>%\n",
    "  select(diaa1, diaa2, lfc, repeat_length, insert) %>%\n",
    "  mutate(experiment = 1, replicate = 1) %>% \n",
    "  print()\n"
   ]
  },
  {
   "cell_type": "markdown",
   "metadata": {},
   "source": [
    "## Plot RH combination effects"
   ]
  },
  {
   "cell_type": "markdown",
   "metadata": {},
   "source": [
    "### Parse all RH + HR combinations"
   ]
  },
  {
   "cell_type": "code",
   "execution_count": 169,
   "metadata": {
    "vscode": {
     "languageId": "r"
    }
   },
   "outputs": [
    {
     "name": "stderr",
     "output_type": "stream",
     "text": [
      "Warning message:\n",
      "“Expected 4 pieces. Missing pieces filled with `NA` in 2 rows [3, 4].”\n",
      "\n",
      "\u001b[36m──\u001b[39m \u001b[1mColumn specification\u001b[22m \u001b[36m────────────────────────────────────────────────────────\u001b[39m\n",
      "cols(\n",
      "  seq = \u001b[31mcol_character()\u001b[39m,\n",
      "  insert_type = \u001b[31mcol_character()\u001b[39m,\n",
      "  dicodon1 = \u001b[31mcol_character()\u001b[39m,\n",
      "  dicodon2 = \u001b[31mcol_character()\u001b[39m,\n",
      "  insert = \u001b[31mcol_character()\u001b[39m\n",
      ")\n",
      "\n"
     ]
    },
    {
     "name": "stdout",
     "output_type": "stream",
     "text": [
      "\u001b[90m# A tibble: 182 × 9\u001b[39m\n",
      "   replicate   lfc lfc_sd seq        repeat_length insert diaa1 diaa2 experiment\n",
      "       \u001b[3m\u001b[90m<dbl>\u001b[39m\u001b[23m \u001b[3m\u001b[90m<dbl>\u001b[39m\u001b[23m  \u001b[3m\u001b[90m<dbl>\u001b[39m\u001b[23m \u001b[3m\u001b[90m<chr>\u001b[39m\u001b[23m              \u001b[3m\u001b[90m<dbl>\u001b[39m\u001b[23m \u001b[3m\u001b[90m<chr>\u001b[39m\u001b[23m  \u001b[3m\u001b[90m<chr>\u001b[39m\u001b[23m \u001b[3m\u001b[90m<chr>\u001b[39m\u001b[23m      \u001b[3m\u001b[90m<dbl>\u001b[39m\u001b[23m\n",
      "\u001b[90m 1\u001b[39m         1 -\u001b[31m4\u001b[39m\u001b[31m.\u001b[39m\u001b[31m0\u001b[39m\u001b[31m8\u001b[39m  1.48  AAAGTCAGT…             1 KVSFK… KV    SF             2\n",
      "\u001b[90m 2\u001b[39m         2 -\u001b[31m3\u001b[39m\u001b[31m.\u001b[39m\u001b[31m35\u001b[39m  0.858 AAAGTCAGT…             1 KVSFK… KV    SF             2\n",
      "\u001b[90m 3\u001b[39m         1 -\u001b[31m2\u001b[39m\u001b[31m.\u001b[39m\u001b[31m19\u001b[39m  0.815 CGCCATCGC…             8 RHRHR… RH    RH             2\n",
      "\u001b[90m 4\u001b[39m         2 -\u001b[31m5\u001b[39m\u001b[31m.\u001b[39m\u001b[31m18\u001b[39m  1.25  CGCCATCGC…             8 RHRHR… RH    RH             2\n",
      "\u001b[90m 5\u001b[39m         1 -\u001b[31m3\u001b[39m\u001b[31m.\u001b[39m\u001b[31m93\u001b[39m  0.765 TTCAGTGTC…             1 FSVKF… FS    VK             2\n",
      "\u001b[90m 6\u001b[39m         2 -\u001b[31m2\u001b[39m\u001b[31m.\u001b[39m\u001b[31m61\u001b[39m  0.831 TTCAGTGTC…             1 FSVKF… FS    VK             2\n",
      "\u001b[90m 7\u001b[39m         1 -\u001b[31m3\u001b[39m\u001b[31m.\u001b[39m\u001b[31m60\u001b[39m  0.757 AGTTTCAAA…             1 SFKVS… SF    KV             2\n",
      "\u001b[90m 8\u001b[39m         2 -\u001b[31m2\u001b[39m\u001b[31m.\u001b[39m\u001b[31m85\u001b[39m  0.613 AGTTTCAAA…             1 SFKVS… SF    KV             2\n",
      "\u001b[90m 9\u001b[39m         1 -\u001b[31m2\u001b[39m\u001b[31m.\u001b[39m\u001b[31m69\u001b[39m  0.520 GTCAAAGTC…             4 VKVKV… VK    SF             2\n",
      "\u001b[90m10\u001b[39m         2 -\u001b[31m3\u001b[39m\u001b[31m.\u001b[39m\u001b[31m24\u001b[39m  2.60  GTCAAAGTC…             4 VKVKV… VK    SF             2\n",
      "\u001b[90m# … with 172 more rows\u001b[39m\n"
     ]
    }
   ],
   "source": [
    "plot_data <- insert_lfc %>% \n",
    "  # Grab dicodon combination mixtures, plus the RH8 insert\n",
    "  filter(str_detect(insert_name, \"mixdicodons\") | insert == \"RHRHRHRHRHRHRHRH\") %>%\n",
    "  separate(insert_name, c(\"insert_type\", \"dicodon1\", \"dicodon2\", \"repeat_length\")) %>%\n",
    "  mutate(dicodon2 = if_else(is.na(repeat_length), dicodon1, dicodon2)) %>% \n",
    "  mutate(repeat_length = if_else(is.na(repeat_length), 8, as.numeric(repeat_length))) %>%\n",
    "  type_convert() %>%\n",
    "  mutate(diaa1 = as.character(translate(DNAStringSet(dicodon1), no.init.codon = T))) %>%\n",
    "  mutate(diaa2 = as.character(translate(DNAStringSet(dicodon2), no.init.codon = T))) %>%\n",
    "  select(-dicodon1, -dicodon2, -insert_type, -mean_lfc, -matches(\"n_barcodes|count\")) %>%\n",
    "  # pivot_wider(names_from = \"repeat_length\", values_from = c(\"mean_lfc\", \"insert\")) %>%\n",
    "  # arrange(mean_lfc_1 + mean_lfc_2 + mean_lfc_4) %>%\n",
    "  mutate(experiment = 2) %>% \n",
    "  print()"
   ]
  },
  {
   "cell_type": "markdown",
   "metadata": {},
   "source": [
    "### Plot  mRNA level of RH + HR combinations"
   ]
  },
  {
   "cell_type": "code",
   "execution_count": 170,
   "metadata": {
    "vscode": {
     "languageId": "r"
    }
   },
   "outputs": [
    {
     "data": {
      "image/png": "[encoded data removed]",
      "text/plain": [
       "plot without title"
      ]
     },
     "metadata": {
      "image/png": {
       "height": 210,
       "width": 120
      }
     },
     "output_type": "display_data"
    }
   ],
   "source": [
    "options(repr.plot.width=2, repr.plot.height=3.5)\n",
    "\n",
    "plot_data2 <- plot_data %>% \n",
    "  bind_rows(all_8xdiaa_data) %>% \n",
    "  filter(diaa1 %in% c(\"HR\", \"RH\"), diaa2 %in% c(\"RH\", \"HR\")) %>% \n",
    "  mutate(insert = fct_rev(fct_reorder(insert, -repeat_length))) %>% \n",
    "  filter(replicate == 1) %>% \n",
    "  group_by(insert, repeat_length) %>% \n",
    "  mutate(num = group_indices())\n",
    "\n",
    "plot1 <- plot_data2 %>% \n",
    "  ggplot(aes(x = lfc, y = num, shape = as.factor(replicate),\n",
    "             xmin = lfc - lfc_sd, xmax = lfc + lfc_sd,\n",
    "             )) +\n",
    "  facet_wrap(~experiment, ncol = 1, scales = \"fixed\") +\n",
    "  scale_y_continuous(position = \"right\", breaks = seq(1,8)) +\n",
    "  # scale_color_manual(values = cbPalette[2:3]) +\n",
    "  labs(color = \"\", y = \"\", x = \"mrna level (log2, a.u.)\") +\n",
    "  geom_errorbar(width=0.2) +\n",
    "  geom_point(size=1) +\n",
    "  theme(axis.text.y = element_blank(), \n",
    "        axis.ticks.y = element_blank(), \n",
    "        panel.grid.major.y = element_line(),\n",
    "        axis.line = element_blank(),\n",
    "        legend.position = \"none\") +\n",
    "  NULL\n",
    "plot1"
   ]
  },
  {
   "cell_type": "markdown",
   "metadata": {},
   "source": [
    "### Write RH + HR combinations to highlight pattern of variation"
   ]
  },
  {
   "cell_type": "code",
   "execution_count": 171,
   "metadata": {
    "vscode": {
     "languageId": "r"
    }
   },
   "outputs": [
    {
     "name": "stderr",
     "output_type": "stream",
     "text": [
      "Warning message:\n",
      "“`cols` is now required when using unnest().\n",
      "Please use `cols = c(insert)`”\n"
     ]
    },
    {
     "data": {
      "image/png": "[encoded data removed]",
      "text/plain": [
       "plot without title"
      ]
     },
     "metadata": {
      "image/png": {
       "height": 210,
       "width": 126
      }
     },
     "output_type": "display_data"
    }
   ],
   "source": [
    "options(repr.plot.width=2.1, repr.plot.height=3.5)\n",
    "\n",
    "plot2 <- plot_data2 %>% \n",
    "  select(num, replicate, repeat_length, experiment, insert) %>% \n",
    "  mutate(insert = str_split(insert, \"\")) %>% \n",
    "  mutate(insert = map(insert, enframe)) %>% \n",
    "  # rowwise() %>% \n",
    "  unnest() %>%\n",
    "  rename(pos = name, aa = value) %>% \n",
    "  ggplot(aes(x = pos, y = num, color = aa, label = aa)) +\n",
    "  facet_wrap(~experiment, ncol = 1, scales = \"fixed\") +\n",
    "  geom_text(size = 2) +\n",
    "  scale_y_continuous(position = \"right\") +\n",
    "  scale_x_continuous(breaks = c(1,4,8,12,16)) +\n",
    "  scale_color_manual(values = c(\"#00a5a7\", \"#ff0000\")) +\n",
    "  theme(axis.text.y = element_blank(), \n",
    "        axis.ticks.y = element_blank(), \n",
    "        axis.line = element_blank(),\n",
    "        legend.position = \"none\") +\n",
    "  labs(y = \"\", x = \"Position along dipeptide repeat\")\n",
    "plot2"
   ]
  },
  {
   "cell_type": "markdown",
   "metadata": {},
   "source": [
    "### Make a joint plot of RH-HR combination\n"
   ]
  },
  {
   "cell_type": "code",
   "execution_count": 172,
   "metadata": {
    "vscode": {
     "languageId": "r"
    }
   },
   "outputs": [
    {
     "data": {
      "image/png": "[encoded data removed]",
      "text/plain": [
       "plot without title"
      ]
     },
     "metadata": {
      "image/png": {
       "height": 150,
       "width": 144
      }
     },
     "output_type": "display_data"
    }
   ],
   "source": [
    "options(repr.plot.width=2.4, repr.plot.height=2.6)\n",
    "\n",
    "cowplot::plot_grid(plot2, plot1, rel_widths = c(3,2))\n",
    "\n",
    "ggsave(\"../figures/RH_HR_mix.pdf\", width = 2.4, height = 2.6)\n"
   ]
  },
  {
   "cell_type": "markdown",
   "metadata": {},
   "source": [
    "## Plot VK combination effects"
   ]
  },
  {
   "cell_type": "markdown",
   "metadata": {},
   "source": [
    "### Parse VK combinations"
   ]
  },
  {
   "cell_type": "code",
   "execution_count": 173,
   "metadata": {
    "vscode": {
     "languageId": "r"
    }
   },
   "outputs": [
    {
     "name": "stderr",
     "output_type": "stream",
     "text": [
      "Warning message:\n",
      "“Expected 4 pieces. Missing pieces filled with `NA` in 2 rows [17, 18].”\n",
      "\n",
      "\u001b[36m──\u001b[39m \u001b[1mColumn specification\u001b[22m \u001b[36m────────────────────────────────────────────────────────\u001b[39m\n",
      "cols(\n",
      "  seq = \u001b[31mcol_character()\u001b[39m,\n",
      "  insert_type = \u001b[31mcol_character()\u001b[39m,\n",
      "  dicodon1 = \u001b[31mcol_character()\u001b[39m,\n",
      "  dicodon2 = \u001b[31mcol_character()\u001b[39m,\n",
      "  insert = \u001b[31mcol_character()\u001b[39m\n",
      ")\n",
      "\n"
     ]
    },
    {
     "name": "stdout",
     "output_type": "stream",
     "text": [
      "\u001b[90m# A tibble: 182 × 9\u001b[39m\n",
      "   replicate   lfc lfc_sd seq        repeat_length insert diaa1 diaa2 experiment\n",
      "       \u001b[3m\u001b[90m<dbl>\u001b[39m\u001b[23m \u001b[3m\u001b[90m<dbl>\u001b[39m\u001b[23m  \u001b[3m\u001b[90m<dbl>\u001b[39m\u001b[23m \u001b[3m\u001b[90m<chr>\u001b[39m\u001b[23m              \u001b[3m\u001b[90m<dbl>\u001b[39m\u001b[23m \u001b[3m\u001b[90m<chr>\u001b[39m\u001b[23m  \u001b[3m\u001b[90m<chr>\u001b[39m\u001b[23m \u001b[3m\u001b[90m<chr>\u001b[39m\u001b[23m      \u001b[3m\u001b[90m<dbl>\u001b[39m\u001b[23m\n",
      "\u001b[90m 1\u001b[39m         1 -\u001b[31m4\u001b[39m\u001b[31m.\u001b[39m\u001b[31m0\u001b[39m\u001b[31m8\u001b[39m  1.48  AAAGTCAGT…             1 KVSFK… KV    SF             2\n",
      "\u001b[90m 2\u001b[39m         2 -\u001b[31m3\u001b[39m\u001b[31m.\u001b[39m\u001b[31m35\u001b[39m  0.858 AAAGTCAGT…             1 KVSFK… KV    SF             2\n",
      "\u001b[90m 3\u001b[39m         1 -\u001b[31m3\u001b[39m\u001b[31m.\u001b[39m\u001b[31m93\u001b[39m  0.765 TTCAGTGTC…             1 FSVKF… FS    VK             2\n",
      "\u001b[90m 4\u001b[39m         2 -\u001b[31m2\u001b[39m\u001b[31m.\u001b[39m\u001b[31m61\u001b[39m  0.831 TTCAGTGTC…             1 FSVKF… FS    VK             2\n",
      "\u001b[90m 5\u001b[39m         1 -\u001b[31m3\u001b[39m\u001b[31m.\u001b[39m\u001b[31m60\u001b[39m  0.757 AGTTTCAAA…             1 SFKVS… SF    KV             2\n",
      "\u001b[90m 6\u001b[39m         2 -\u001b[31m2\u001b[39m\u001b[31m.\u001b[39m\u001b[31m85\u001b[39m  0.613 AGTTTCAAA…             1 SFKVS… SF    KV             2\n",
      "\u001b[90m 7\u001b[39m         1 -\u001b[31m2\u001b[39m\u001b[31m.\u001b[39m\u001b[31m69\u001b[39m  0.520 GTCAAAGTC…             4 VKVKV… VK    SF             2\n",
      "\u001b[90m 8\u001b[39m         2 -\u001b[31m3\u001b[39m\u001b[31m.\u001b[39m\u001b[31m24\u001b[39m  2.60  GTCAAAGTC…             4 VKVKV… VK    SF             2\n",
      "\u001b[90m 9\u001b[39m         1 -\u001b[31m1\u001b[39m\u001b[31m.\u001b[39m\u001b[31m33\u001b[39m  0.890 TTCAGTTTC…             4 FSFSF… FS    KV             2\n",
      "\u001b[90m10\u001b[39m         2 -\u001b[31m3\u001b[39m\u001b[31m.\u001b[39m\u001b[31m93\u001b[39m  0.654 TTCAGTTTC…             4 FSFSF… FS    KV             2\n",
      "\u001b[90m# … with 172 more rows\u001b[39m\n"
     ]
    }
   ],
   "source": [
    "\n",
    "plot_data <- insert_lfc %>% \n",
    "  filter(str_detect(insert_name, \"mixdicodons\") | insert == \"VKVKVKVKVKVKVKVK\" | insert == \"KVKVKVKVKVKVKVKV\") %>% \n",
    "  separate(insert_name, c(\"insert_type\", \"dicodon1\", \"dicodon2\", \"repeat_length\")) %>%\n",
    "  mutate(dicodon2 = if_else(is.na(repeat_length), dicodon1, dicodon2)) %>% \n",
    "  mutate(repeat_length = if_else(is.na(repeat_length), 8, as.numeric(repeat_length))) %>%\n",
    "  type_convert() %>%\n",
    "  mutate(diaa1 = as.character(translate(DNAStringSet(dicodon1), no.init.codon = T))) %>%\n",
    "  mutate(diaa2 = as.character(translate(DNAStringSet(dicodon2), no.init.codon = T))) %>%\n",
    "  select(-dicodon1, -dicodon2, -insert_type, -mean_lfc, -matches(\"n_barcodes|count\")) %>%\n",
    "  # pivot_wider(names_from = \"repeat_length\", values_from = c(\"mean_lfc\", \"insert\")) %>%\n",
    "  # arrange(mean_lfc_1 + mean_lfc_2 + mean_lfc_4) %>%\n",
    "  mutate(experiment = 2) %>% \n",
    "  print()\n"
   ]
  },
  {
   "cell_type": "markdown",
   "metadata": {},
   "source": [
    "### Plot  mRNA level of VK + KV combinations\n"
   ]
  },
  {
   "cell_type": "code",
   "execution_count": 174,
   "metadata": {
    "vscode": {
     "languageId": "r"
    }
   },
   "outputs": [
    {
     "data": {
      "image/png": "[encoded data removed]",
      "text/plain": [
       "plot without title"
      ]
     },
     "metadata": {
      "image/png": {
       "height": 210,
       "width": 120
      }
     },
     "output_type": "display_data"
    }
   ],
   "source": [
    "options(repr.plot.width=2, repr.plot.height=3.5)\n",
    "\n",
    "plot_data2 <- plot_data %>% \n",
    "  bind_rows(all_8xdiaa_data) %>% \n",
    "  filter(diaa1 %in% c(\"VK\", \"KV\"), diaa2 %in% c(\"VK\", \"KV\")) %>% \n",
    "  mutate(insert = fct_rev(fct_reorder(insert, -repeat_length))) %>% \n",
    "  filter(replicate == 1) %>% \n",
    "  group_by(insert, repeat_length) %>% \n",
    "  mutate(num = group_indices())\n",
    "\n",
    "plot1 <- plot_data2 %>% \n",
    "  ggplot(aes(x = lfc, y = num, shape = as.factor(replicate),\n",
    "             xmin = lfc - lfc_sd, xmax = lfc + lfc_sd,\n",
    "             )) +\n",
    "  facet_wrap(~experiment, ncol = 1, scales = \"fixed\") +\n",
    "  scale_y_continuous(position = \"right\", breaks = seq(1,8)) +\n",
    "  scale_x_continuous(limits = c(NA, 0)) + \n",
    "  # scale_color_manual(values = cbPalette[2:3]) +\n",
    "  labs(color = \"\", y = \"\", x = \"mrna level (log2, a.u.)\") +\n",
    "  geom_errorbar(width=0.2) +\n",
    "  geom_point(size=1) +\n",
    "  theme(axis.text.y = element_blank(), \n",
    "        axis.ticks.y = element_blank(), \n",
    "        panel.grid.major.y = element_line(),\n",
    "        axis.line = element_blank(),\n",
    "        legend.position = \"none\") +\n",
    "  NULL\n",
    "plot1"
   ]
  },
  {
   "cell_type": "markdown",
   "metadata": {},
   "source": [
    "\n",
    "### Write VK + KV combinations to highlight pattern of variation"
   ]
  },
  {
   "cell_type": "code",
   "execution_count": 175,
   "metadata": {
    "vscode": {
     "languageId": "r"
    }
   },
   "outputs": [
    {
     "name": "stderr",
     "output_type": "stream",
     "text": [
      "Warning message:\n",
      "“`cols` is now required when using unnest().\n",
      "Please use `cols = c(insert)`”\n"
     ]
    },
    {
     "data": {
      "image/png": "[encoded data removed]",
      "text/plain": [
       "plot without title"
      ]
     },
     "metadata": {
      "image/png": {
       "height": 210,
       "width": 126
      }
     },
     "output_type": "display_data"
    }
   ],
   "source": [
    "options(repr.plot.width=2.1, repr.plot.height=3.5)\n",
    "\n",
    "plot2 <- plot_data2 %>% \n",
    "  select(num, replicate, repeat_length, experiment, insert) %>% \n",
    "  mutate(insert = str_split(insert, \"\")) %>% \n",
    "  mutate(insert = map(insert, enframe)) %>% \n",
    "  # rowwise() %>% \n",
    "  unnest() %>%\n",
    "  rename(pos = name, aa = value) %>% \n",
    "  ggplot(aes(x = pos, y = num, color = aa, label = aa)) +\n",
    "  facet_wrap(~experiment, ncol = 1, scales = \"fixed\") +\n",
    "  geom_text(size = 2) +\n",
    "  scale_y_continuous(position = \"right\") +\n",
    "  scale_x_continuous(breaks = c(1,4,8,12,16)) +\n",
    "  scale_color_manual(values = c(\"#00a5a7\", \"#ff0000\")) +\n",
    "  theme(axis.text.y = element_blank(), \n",
    "        axis.ticks.y = element_blank(), \n",
    "        axis.line = element_blank(),\n",
    "        legend.position = \"none\") +\n",
    "  labs(y = \"\", x = \"Position along dipeptide repeat\")\n",
    "plot2\n"
   ]
  },
  {
   "cell_type": "markdown",
   "metadata": {},
   "source": [
    "### Make a joint plot of VK-KV combination"
   ]
  },
  {
   "cell_type": "code",
   "execution_count": 176,
   "metadata": {
    "vscode": {
     "languageId": "r"
    }
   },
   "outputs": [
    {
     "data": {
      "image/png": "[encoded data removed]",
      "text/plain": [
       "plot without title"
      ]
     },
     "metadata": {
      "image/png": {
       "height": 144,
       "width": 144
      }
     },
     "output_type": "display_data"
    }
   ],
   "source": [
    "options(repr.plot.width=2.4, repr.plot.height=2.6)\n",
    "\n",
    "cowplot::plot_grid(plot2, plot1, rel_widths = c(3,2))\n",
    "\n",
    "ggsave(\"../figures/VK_KV_mix.pdf\", width = 2.4, height = 2.6)"
   ]
  },
  {
   "cell_type": "markdown",
   "metadata": {},
   "source": [
    "## Plot SF combination effects"
   ]
  },
  {
   "cell_type": "markdown",
   "metadata": {},
   "source": [
    "\n",
    "### Parse all SF + FS combinations\n"
   ]
  },
  {
   "cell_type": "code",
   "execution_count": 184,
   "metadata": {
    "vscode": {
     "languageId": "r"
    }
   },
   "outputs": [
    {
     "name": "stderr",
     "output_type": "stream",
     "text": [
      "Warning message:\n",
      "“Expected 4 pieces. Missing pieces filled with `NA` in 2 rows [37, 38].”\n",
      "\n",
      "\u001b[36m──\u001b[39m \u001b[1mColumn specification\u001b[22m \u001b[36m────────────────────────────────────────────────────────\u001b[39m\n",
      "cols(\n",
      "  seq = \u001b[31mcol_character()\u001b[39m,\n",
      "  insert_type = \u001b[31mcol_character()\u001b[39m,\n",
      "  dicodon1 = \u001b[31mcol_character()\u001b[39m,\n",
      "  dicodon2 = \u001b[31mcol_character()\u001b[39m,\n",
      "  insert = \u001b[31mcol_character()\u001b[39m\n",
      ")\n",
      "\n"
     ]
    },
    {
     "name": "stdout",
     "output_type": "stream",
     "text": [
      "\u001b[90m# A tibble: 182 × 9\u001b[39m\n",
      "   replicate   lfc lfc_sd seq        repeat_length insert diaa1 diaa2 experiment\n",
      "       \u001b[3m\u001b[90m<dbl>\u001b[39m\u001b[23m \u001b[3m\u001b[90m<dbl>\u001b[39m\u001b[23m  \u001b[3m\u001b[90m<dbl>\u001b[39m\u001b[23m \u001b[3m\u001b[90m<chr>\u001b[39m\u001b[23m              \u001b[3m\u001b[90m<dbl>\u001b[39m\u001b[23m \u001b[3m\u001b[90m<chr>\u001b[39m\u001b[23m  \u001b[3m\u001b[90m<chr>\u001b[39m\u001b[23m \u001b[3m\u001b[90m<chr>\u001b[39m\u001b[23m      \u001b[3m\u001b[90m<dbl>\u001b[39m\u001b[23m\n",
      "\u001b[90m 1\u001b[39m         1 -\u001b[31m4\u001b[39m\u001b[31m.\u001b[39m\u001b[31m0\u001b[39m\u001b[31m8\u001b[39m  1.48  AAAGTCAGT…             1 KVSFK… KV    SF             2\n",
      "\u001b[90m 2\u001b[39m         2 -\u001b[31m3\u001b[39m\u001b[31m.\u001b[39m\u001b[31m35\u001b[39m  0.858 AAAGTCAGT…             1 KVSFK… KV    SF             2\n",
      "\u001b[90m 3\u001b[39m         1 -\u001b[31m3\u001b[39m\u001b[31m.\u001b[39m\u001b[31m93\u001b[39m  0.765 TTCAGTGTC…             1 FSVKF… FS    VK             2\n",
      "\u001b[90m 4\u001b[39m         2 -\u001b[31m2\u001b[39m\u001b[31m.\u001b[39m\u001b[31m61\u001b[39m  0.831 TTCAGTGTC…             1 FSVKF… FS    VK             2\n",
      "\u001b[90m 5\u001b[39m         1 -\u001b[31m3\u001b[39m\u001b[31m.\u001b[39m\u001b[31m60\u001b[39m  0.757 AGTTTCAAA…             1 SFKVS… SF    KV             2\n",
      "\u001b[90m 6\u001b[39m         2 -\u001b[31m2\u001b[39m\u001b[31m.\u001b[39m\u001b[31m85\u001b[39m  0.613 AGTTTCAAA…             1 SFKVS… SF    KV             2\n",
      "\u001b[90m 7\u001b[39m         1 -\u001b[31m2\u001b[39m\u001b[31m.\u001b[39m\u001b[31m69\u001b[39m  0.520 GTCAAAGTC…             4 VKVKV… VK    SF             2\n",
      "\u001b[90m 8\u001b[39m         2 -\u001b[31m3\u001b[39m\u001b[31m.\u001b[39m\u001b[31m24\u001b[39m  2.60  GTCAAAGTC…             4 VKVKV… VK    SF             2\n",
      "\u001b[90m 9\u001b[39m         1 -\u001b[31m1\u001b[39m\u001b[31m.\u001b[39m\u001b[31m33\u001b[39m  0.890 TTCAGTTTC…             4 FSFSF… FS    KV             2\n",
      "\u001b[90m10\u001b[39m         2 -\u001b[31m3\u001b[39m\u001b[31m.\u001b[39m\u001b[31m93\u001b[39m  0.654 TTCAGTTTC…             4 FSFSF… FS    KV             2\n",
      "\u001b[90m# … with 172 more rows\u001b[39m\n"
     ]
    }
   ],
   "source": [
    "\n",
    "plot_data <- insert_lfc %>% \n",
    "  filter(str_detect(insert_name, \"mixdicodons\") | insert == \"FSFSFSFSFSFSFSFS\" | insert == \"SFSFSFSFSFSFSFSF\") %>% \n",
    "  separate(insert_name, c(\"insert_type\", \"dicodon1\", \"dicodon2\", \"repeat_length\")) %>%\n",
    "  mutate(dicodon2 = if_else(is.na(repeat_length), dicodon1, dicodon2)) %>% \n",
    "  mutate(repeat_length = if_else(is.na(repeat_length), 8, as.numeric(repeat_length))) %>%\n",
    "  type_convert() %>%\n",
    "  mutate(diaa1 = as.character(translate(DNAStringSet(dicodon1), no.init.codon = T))) %>%\n",
    "  mutate(diaa2 = as.character(translate(DNAStringSet(dicodon2), no.init.codon = T))) %>%\n",
    "  select(-dicodon1, -dicodon2, -insert_type, -mean_lfc, -matches(\"n_barcodes|count\")) %>%\n",
    "  # pivot_wider(names_from = \"repeat_length\", values_from = c(\"mean_lfc\", \"insert\")) %>%\n",
    "  # arrange(mean_lfc_1 + mean_lfc_2 + mean_lfc_4) %>%\n",
    "  mutate(experiment = 2) %>% \n",
    "  print()"
   ]
  },
  {
   "cell_type": "markdown",
   "metadata": {},
   "source": [
    "### Plot  mRNA level of SF + FS combinations\n",
    "```{r, fig.width=2, fig.height=3.5}"
   ]
  },
  {
   "cell_type": "code",
   "execution_count": 185,
   "metadata": {
    "vscode": {
     "languageId": "r"
    }
   },
   "outputs": [
    {
     "data": {
      "image/png": "[encoded data removed]",
      "text/plain": [
       "plot without title"
      ]
     },
     "metadata": {
      "image/png": {
       "height": 210,
       "width": 120
      }
     },
     "output_type": "display_data"
    }
   ],
   "source": [
    "options(repr.plot.width=2, repr.plot.height=3.5)\n",
    "\n",
    "plot_data2 <- plot_data %>% \n",
    "  bind_rows(all_8xdiaa_data) %>% \n",
    "  filter(diaa1 %in% c(\"SF\", \"FS\"), diaa2 %in% c(\"SF\", \"FS\")) %>% \n",
    "  mutate(insert = fct_rev(fct_reorder(insert, -repeat_length))) %>% \n",
    "  filter(replicate == 1) %>%\n",
    "  group_by(insert, repeat_length) %>% \n",
    "  mutate(num = group_indices())\n",
    "\n",
    "plot1 <- plot_data2 %>% \n",
    "  ggplot(aes(x = lfc, y = num, shape = as.factor(replicate),\n",
    "             xmin = lfc - lfc_sd, xmax = lfc + lfc_sd,\n",
    "             )) +\n",
    "  facet_wrap(~experiment, ncol = 1, scales = \"fixed\") +\n",
    "  scale_y_continuous(position = \"right\", breaks = seq(1,8)) +\n",
    "  # scale_x_continuous(limits = c(NA, 0)) + \n",
    "  # scale_color_manual(values = cbPalette[2:3]) +\n",
    "  labs(color = \"\", y = \"\", x = \"mrna level (log2, a.u.)\") +\n",
    "  geom_errorbar(width=0.2) +\n",
    "  geom_point(size=1) +\n",
    "  theme(axis.text.y = element_blank(), \n",
    "        axis.ticks.y = element_blank(), \n",
    "        panel.grid.major.y = element_line(),\n",
    "        axis.line = element_blank(),\n",
    "        legend.position = \"none\") +\n",
    "  NULL\n",
    "plot1"
   ]
  },
  {
   "cell_type": "markdown",
   "metadata": {},
   "source": [
    "### Write SF + FS combinations to highlight pattern of variation\n",
    "\n",
    "```{r, fig.width=2.1, fig.height=3.5}"
   ]
  },
  {
   "cell_type": "code",
   "execution_count": 186,
   "metadata": {
    "vscode": {
     "languageId": "r"
    }
   },
   "outputs": [
    {
     "name": "stderr",
     "output_type": "stream",
     "text": [
      "Warning message:\n",
      "“`cols` is now required when using unnest().\n",
      "Please use `cols = c(insert)`”\n"
     ]
    },
    {
     "data": {
      "image/png": "[encoded data removed]",
      "text/plain": [
       "plot without title"
      ]
     },
     "metadata": {
      "image/png": {
       "height": 210,
       "width": 126
      }
     },
     "output_type": "display_data"
    }
   ],
   "source": [
    "options(repr.plot.width=2.1, repr.plot.height=3.5)\n",
    "\n",
    "plot2 <- plot_data2 %>% \n",
    "  select(num, replicate, repeat_length, experiment, insert) %>% \n",
    "  mutate(insert = str_split(insert, \"\")) %>% \n",
    "  mutate(insert = map(insert, enframe)) %>% \n",
    "  # rowwise() %>% \n",
    "  unnest() %>%\n",
    "  rename(pos = name, aa = value) %>% \n",
    "  ggplot(aes(x = pos, y = num, color = aa, label = aa)) +\n",
    "  facet_wrap(~experiment, ncol = 1, scales = \"fixed\") +\n",
    "  geom_text(size = 2) +\n",
    "  scale_y_continuous(position = \"right\") +\n",
    "  scale_x_continuous(breaks = c(1,4,8,12,16)) +\n",
    "  scale_color_manual(values = c(\"#00a5a7\", \"#ff0000\")) +\n",
    "  theme(axis.text.y = element_blank(), \n",
    "        axis.ticks.y = element_blank(), \n",
    "        axis.line = element_blank(),\n",
    "        legend.position = \"none\") +\n",
    "  labs(y = \"\", x = \"Position along dipeptide repeat\")\n",
    "plot2"
   ]
  },
  {
   "cell_type": "markdown",
   "metadata": {},
   "source": [
    "\n",
    "### Make a joint plot of SF-FS combination"
   ]
  },
  {
   "cell_type": "code",
   "execution_count": 187,
   "metadata": {
    "vscode": {
     "languageId": "r"
    }
   },
   "outputs": [
    {
     "data": {
      "image/png": "[encoded data removed]",
      "text/plain": [
       "plot without title"
      ]
     },
     "metadata": {
      "image/png": {
       "height": 156,
       "width": 144
      }
     },
     "output_type": "display_data"
    }
   ],
   "source": [
    "options(repr.plot.width=2.4, repr.plot.height=2.6)\n",
    "\n",
    "cowplot::plot_grid(plot2, plot1, rel_widths = c(3,2))\n",
    "\n",
    "ggsave(\"../figures/SF_FS_mix.pdf\", width = 2.4, height = 2.6)\n"
   ]
  },
  {
   "cell_type": "markdown",
   "metadata": {},
   "source": [
    "## Plot SF + VK alpha combinations\n",
    "\n",
    "- Combinations form alpha helicies or beta strands  "
   ]
  },
  {
   "cell_type": "markdown",
   "metadata": {},
   "source": [
    "### Parse all SF + VK alternating combinations"
   ]
  },
  {
   "cell_type": "code",
   "execution_count": 181,
   "metadata": {
    "vscode": {
     "languageId": "r"
    }
   },
   "outputs": [
    {
     "name": "stderr",
     "output_type": "stream",
     "text": [
      "Warning message:\n",
      "“Expected 4 pieces. Missing pieces filled with `NA` in 4 rows [17, 18, 39, 40].”\n",
      "\n",
      "\u001b[36m──\u001b[39m \u001b[1mColumn specification\u001b[22m \u001b[36m────────────────────────────────────────────────────────\u001b[39m\n",
      "cols(\n",
      "  seq = \u001b[31mcol_character()\u001b[39m,\n",
      "  insert_type = \u001b[31mcol_character()\u001b[39m,\n",
      "  dicodon1 = \u001b[31mcol_character()\u001b[39m,\n",
      "  dicodon2 = \u001b[31mcol_character()\u001b[39m,\n",
      "  insert = \u001b[31mcol_character()\u001b[39m\n",
      ")\n",
      "\n"
     ]
    },
    {
     "name": "stdout",
     "output_type": "stream",
     "text": [
      "\u001b[90m# A tibble: 184 × 13\u001b[39m\n",
      "   replicate   lfc lfc_sd seq        insert_type dicodon1 dicodon2 repeat_length\n",
      "       \u001b[3m\u001b[90m<dbl>\u001b[39m\u001b[23m \u001b[3m\u001b[90m<dbl>\u001b[39m\u001b[23m  \u001b[3m\u001b[90m<dbl>\u001b[39m\u001b[23m \u001b[3m\u001b[90m<chr>\u001b[39m\u001b[23m      \u001b[3m\u001b[90m<chr>\u001b[39m\u001b[23m       \u001b[3m\u001b[90m<chr>\u001b[39m\u001b[23m    \u001b[3m\u001b[90m<chr>\u001b[39m\u001b[23m            \u001b[3m\u001b[90m<dbl>\u001b[39m\u001b[23m\n",
      "\u001b[90m 1\u001b[39m         1 -\u001b[31m4\u001b[39m\u001b[31m.\u001b[39m\u001b[31m0\u001b[39m\u001b[31m8\u001b[39m  1.48  AAAGTCAGT… mixdicodons AAAGTC   AGTTTC               1\n",
      "\u001b[90m 2\u001b[39m         2 -\u001b[31m3\u001b[39m\u001b[31m.\u001b[39m\u001b[31m35\u001b[39m  0.858 AAAGTCAGT… mixdicodons AAAGTC   AGTTTC               1\n",
      "\u001b[90m 3\u001b[39m         1 -\u001b[31m3\u001b[39m\u001b[31m.\u001b[39m\u001b[31m93\u001b[39m  0.765 TTCAGTGTC… mixdicodons TTCAGT   GTCAAA               1\n",
      "\u001b[90m 4\u001b[39m         2 -\u001b[31m2\u001b[39m\u001b[31m.\u001b[39m\u001b[31m61\u001b[39m  0.831 TTCAGTGTC… mixdicodons TTCAGT   GTCAAA               1\n",
      "\u001b[90m 5\u001b[39m         1 -\u001b[31m3\u001b[39m\u001b[31m.\u001b[39m\u001b[31m60\u001b[39m  0.757 AGTTTCAAA… mixdicodons AGTTTC   AAAGTC               1\n",
      "\u001b[90m 6\u001b[39m         2 -\u001b[31m2\u001b[39m\u001b[31m.\u001b[39m\u001b[31m85\u001b[39m  0.613 AGTTTCAAA… mixdicodons AGTTTC   AAAGTC               1\n",
      "\u001b[90m 7\u001b[39m         1 -\u001b[31m2\u001b[39m\u001b[31m.\u001b[39m\u001b[31m0\u001b[39m\u001b[31m4\u001b[39m  0.713 GTCAAATTC… mixdicodons GTCAAA   TTCAGT               1\n",
      "\u001b[90m 8\u001b[39m         2 -\u001b[31m1\u001b[39m\u001b[31m.\u001b[39m\u001b[31m65\u001b[39m  0.669 GTCAAATTC… mixdicodons GTCAAA   TTCAGT               1\n",
      "\u001b[90m 9\u001b[39m         1 -\u001b[31m1\u001b[39m\u001b[31m.\u001b[39m\u001b[31m37\u001b[39m  0.273 AAAGTCGTC… mixdicodons AAAGTC   GTCAAA               1\n",
      "\u001b[90m10\u001b[39m         2 -\u001b[31m1\u001b[39m\u001b[31m.\u001b[39m\u001b[31m53\u001b[39m  0.528 AAAGTCGTC… mixdicodons AAAGTC   GTCAAA               1\n",
      "\u001b[90m# … with 174 more rows, and 5 more variables: mean_lfc <dbl>, insert <chr>,\u001b[39m\n",
      "\u001b[90m#   diaa1 <chr>, diaa2 <chr>, experiment <dbl>\u001b[39m\n"
     ]
    }
   ],
   "source": [
    "\n",
    "plot_data <- insert_lfc %>% \n",
    "  filter(str_detect(insert_name, \"mixdicodons\") | insert %in% c(\"SFSFSFSFSFSFSFSF\", \"VKVKVKVKVKVKVKVK\")) %>% \n",
    "  separate(insert_name, c(\"insert_type\", \"dicodon1\", \"dicodon2\", \"repeat_length\")) %>%\n",
    "  mutate(dicodon2 = if_else(is.na(repeat_length), dicodon1, dicodon2)) %>% \n",
    "  mutate(repeat_length = if_else(is.na(repeat_length), 8, as.numeric(repeat_length))) %>%\n",
    "  type_convert() %>%\n",
    "  mutate(diaa1 = as.character(translate(DNAStringSet(dicodon1), no.init.codon = T))) %>%\n",
    "  mutate(diaa2 = as.character(translate(DNAStringSet(dicodon2), no.init.codon = T))) %>%\n",
    "  # select(-dicodon1, -dicodon2, -insert_type, -mean_lfc, -matches(\"n_barcodes|count\")) %>%\n",
    "  # pivot_wider(names_from = \"repeat_length\", values_from = c(\"mean_lfc\", \"insert\")) %>%\n",
    "  # arrange(mean_lfc_1 + mean_lfc_2 + mean_lfc_4) %>%\n",
    "  mutate(experiment = 2) %>%\n",
    "  arrange(repeat_length) %>%\n",
    "  # filter(str_detect(insert, \"SV|SK\")) %>% \n",
    "  print()"
   ]
  },
  {
   "cell_type": "markdown",
   "metadata": {},
   "source": [
    "### Plot  mRNA level of SFVKx4 combinations"
   ]
  },
  {
   "cell_type": "code",
   "execution_count": 190,
   "metadata": {
    "vscode": {
     "languageId": "r"
    }
   },
   "outputs": [
    {
     "name": "stdout",
     "output_type": "stream",
     "text": [
      "\u001b[90m# A tibble: 8 × 11\u001b[39m\n",
      "\u001b[90m# Groups:   insert [8]\u001b[39m\n",
      "  replicate     lfc lfc_sd seq       repeat_length insert diaa1 diaa2 experiment\n",
      "      \u001b[3m\u001b[90m<dbl>\u001b[39m\u001b[23m   \u001b[3m\u001b[90m<dbl>\u001b[39m\u001b[23m  \u001b[3m\u001b[90m<dbl>\u001b[39m\u001b[23m \u001b[3m\u001b[90m<chr>\u001b[39m\u001b[23m             \u001b[3m\u001b[90m<dbl>\u001b[39m\u001b[23m \u001b[3m\u001b[90m<fct>\u001b[39m\u001b[23m  \u001b[3m\u001b[90m<chr>\u001b[39m\u001b[23m \u001b[3m\u001b[90m<chr>\u001b[39m\u001b[23m      \u001b[3m\u001b[90m<dbl>\u001b[39m\u001b[23m\n",
      "\u001b[90m1\u001b[39m         1 -\u001b[31m4\u001b[39m\u001b[31m.\u001b[39m\u001b[31m0\u001b[39m\u001b[31m8\u001b[39m    1.48  AAAGTCAG…             1 4×KVSF KV    SF             2\n",
      "\u001b[90m2\u001b[39m         1 -\u001b[31m3\u001b[39m\u001b[31m.\u001b[39m\u001b[31m93\u001b[39m    0.765 TTCAGTGT…             1 4×FSVK FS    VK             2\n",
      "\u001b[90m3\u001b[39m         1 -\u001b[31m3\u001b[39m\u001b[31m.\u001b[39m\u001b[31m60\u001b[39m    0.757 AGTTTCAA…             1 4×SFKV SF    KV             2\n",
      "\u001b[90m4\u001b[39m         1 -\u001b[31m2\u001b[39m\u001b[31m.\u001b[39m\u001b[31m0\u001b[39m\u001b[31m4\u001b[39m    0.713 GTCAAATT…             1 4×VKFS VK    FS             2\n",
      "\u001b[90m5\u001b[39m         1 -\u001b[31m1\u001b[39m\u001b[31m.\u001b[39m\u001b[31m00\u001b[39m    0.302 AGTTTCGT…             1 4×SFVK SF    VK             2\n",
      "\u001b[90m6\u001b[39m         1 -\u001b[31m0\u001b[39m\u001b[31m.\u001b[39m\u001b[31m0\u001b[39m\u001b[31m53\u001b[4m0\u001b[24m\u001b[39m  0.191 GTCAAAAG…             1 4×VKSF VK    SF             2\n",
      "\u001b[90m7\u001b[39m         1  0.248   0.292 TTCAGTAA…             1 4×FSKV FS    KV             2\n",
      "\u001b[90m8\u001b[39m         1 -\u001b[31m0\u001b[39m\u001b[31m.\u001b[39m\u001b[31m0\u001b[39m\u001b[31m92\u001b[4m8\u001b[24m\u001b[39m  0.308 AAAGTCTT…             1 4×KVFS KV    FS             2\n",
      "\u001b[90m# … with 2 more variables: num <int>, strand <lgl>\u001b[39m\n"
     ]
    },
    {
     "name": "stderr",
     "output_type": "stream",
     "text": [
      "Warning message:\n",
      "“`guides(<scale> = FALSE)` is deprecated. Please use `guides(<scale> = \"none\")` instead.”\n"
     ]
    },
    {
     "data": {
      "image/png": "[encoded data removed]",
      "text/plain": [
       "plot without title"
      ]
     },
     "metadata": {
      "image/png": {
       "height": 120,
       "width": 180
      }
     },
     "output_type": "display_data"
    }
   ],
   "source": [
    "options(repr.plot.width=3, repr.plot.height=2)\n",
    "\n",
    "plot_data2 <- plot_data %>% \n",
    "  bind_rows(all_8xdiaa_data) %>% \n",
    "  filter((diaa1 %in% c(\"VK\", \"KV\") & diaa2 %in% c(\"SF\", \"FS\")) | \n",
    "         (diaa2 %in% c(\"VK\", \"KV\") & diaa1 %in% c(\"SF\", \"FS\")) | \n",
    "         (diaa1 == diaa2 & diaa1 %in% c(\"VK\", \"KV\", \"SF\", \"FS\"))) %>% \n",
    "  filter(repeat_length <= 1 | repeat_length >=9) %>% \n",
    "  mutate(insert = fct_rev(fct_reorder(paste0(\"4×\", substr(insert, 1, 4)), -lfc))) %>% \n",
    "  # mutate(diaa1 = fct_relevel(diaa1, \"SF\", \"FS\", \"VK\", \"KV\")) %>% \n",
    "  # mutate(diaa2 = fct_relevel(diaa2, \"SF\", \"FS\", \"VK\", \"KV\")) %>% \n",
    "  # group_by(repeat_length, diaa1, diaa2) %>% \n",
    "  filter(replicate == 1) %>% \n",
    "  group_by(insert) %>% \n",
    "  mutate(num = group_indices()) %>% \n",
    "  mutate(strand = if_else(str_detect(insert, \"KVSF|VKFS|SFKV|FSVK\"), T, F)) %>% \n",
    "  print()\n",
    "\n",
    "plot1 <- plot_data2 %>% \n",
    "  ggplot(aes(x = lfc, y = insert, color = strand,\n",
    "             xmin = lfc - lfc_sd, xmax = lfc + lfc_sd)) +\n",
    "  # scale_y_continuous(position = \"right\", breaks = seq(1,12)) +\n",
    "  scale_x_continuous(breaks = seq(-6, 0, 2)) +\n",
    "  scale_color_manual(values = cbPalette[1:2]) +\n",
    "  labs(color = \"\", y = \"\", x = \"mRNA level (log2, a.u.)\", shape = \"replicate\") +\n",
    "  geom_errorbar(width = 0.2) +\n",
    "  geom_point() +\n",
    "  theme(axis.ticks.y = element_blank(), \n",
    "        panel.grid.major.y = element_line(),\n",
    "        axis.line.y = element_blank(),\n",
    "        legend.position = \"right\") +\n",
    "  guides(color = F) +\n",
    "  NULL\n",
    "\n",
    "ggsave(\"../figures/SVKF_mrna_levels.pdf\", width = 3, height = 2)\n",
    "\n",
    "plot1"
   ]
  }
 ],
 "metadata": {
  "kernelspec": {
   "display_name": "R",
   "language": "R",
   "name": "ir"
  },
  "language_info": {
   "codemirror_mode": "r",
   "file_extension": ".r",
   "mimetype": "text/x-r-source",
   "name": "R",
   "pygments_lexer": "r",
   "version": "4.1.1"
  },
  "orig_nbformat": 4,
  "vscode": {
   "interpreter": {
    "hash": "31f2aee4e71d21fbe5cf8b01ff0e069b9275f58929596ceb00d14d90e3e16cd6"
   }
  }
 },
 "nbformat": 4,
 "nbformat_minor": 2
}
