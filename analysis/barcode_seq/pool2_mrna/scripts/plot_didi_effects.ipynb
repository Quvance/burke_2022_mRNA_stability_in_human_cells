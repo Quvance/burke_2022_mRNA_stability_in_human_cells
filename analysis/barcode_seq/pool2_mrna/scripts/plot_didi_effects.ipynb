{
 "cells": [
  {
   "cell_type": "markdown",
   "metadata": {},
   "source": [
    "# Plot effects of dicodon length and periodicity on mRNA levels"
   ]
  },
  {
   "cell_type": "markdown",
   "metadata": {},
   "source": [
    "## Load libraries and define analysis-specific parameters\n",
    "\n",
    "- We need to install both rsample and rasilabRtemplates in the Docker / Singularity container (or R conda environement?)"
   ]
  },
  {
   "cell_type": "code",
   "execution_count": 233,
   "metadata": {
    "vscode": {
     "languageId": "r"
    }
   },
   "outputs": [],
   "source": [
    "library(Biostrings)\n",
    "library(tidyverse)\n",
    "library(rasilabRtemplates)\n",
    "library(cowplot)\n",
    "\n",
    "\n",
    "insert_reads_cutoff <- 200 # The insert should get at least 200 reads across gRNA or mRNA\n",
    "n_barcodes_cutoff <- 6 # The insert should have at least 6 barcodes across gRNA and mRNA after above cutoff\n",
    "\n",
    "# Color-blind friendly palette. See http://www.cookbook-r.com/Graphs/Colors_(ggplot2)/\n",
    "cbPalette <- c(\"#999999\", \"#E69F00\", \"#56B4E9\", \"#009E73\", \"#F0E442\", \"#0072B2\", \"#D55E00\", \"#CC79A7\")"
   ]
  },
  {
   "cell_type": "markdown",
   "metadata": {},
   "source": [
    "## Read back barcode counts \n",
    "\n",
    "This is calculated in [plot_alignment_statistics.ipynb](plot_alignment_statistics.md)."
   ]
  },
  {
   "cell_type": "code",
   "execution_count": 234,
   "metadata": {
    "vscode": {
     "languageId": "r"
    }
   },
   "outputs": [
    {
     "name": "stderr",
     "output_type": "stream",
     "text": [
      "\u001b[1mRows: \u001b[22m\u001b[34m84782\u001b[39m \u001b[1mColumns: \u001b[22m\u001b[34m8\u001b[39m\n",
      "\u001b[36m──\u001b[39m \u001b[1mColumn specification\u001b[22m \u001b[36m────────────────────────────────────────────────────────\u001b[39m\n",
      "\u001b[1mDelimiter:\u001b[22m \"\\t\"\n",
      "\u001b[31mchr\u001b[39m (4): sample_id, sample_name, library_type, linkage_ref\n",
      "\u001b[32mdbl\u001b[39m (4): insert_num, barcode_num, barcode_count, linkage_count\n",
      "\n",
      "\u001b[36mℹ\u001b[39m Use `spec()` to retrieve the full column specification for this data.\n",
      "\u001b[36mℹ\u001b[39m Specify the column types or set `show_col_types = FALSE` to quiet this message.\n"
     ]
    },
    {
     "name": "stdout",
     "output_type": "stream",
     "text": [
      "\u001b[90m# A tibble: 84,782 × 8\u001b[39m\n",
      "   sample_id sample_name insert_num barcode_num barcode_count linkage_count\n",
      "   \u001b[3m\u001b[90m<chr>\u001b[39m\u001b[23m     \u001b[3m\u001b[90m<chr>\u001b[39m\u001b[23m            \u001b[3m\u001b[90m<dbl>\u001b[39m\u001b[23m       \u001b[3m\u001b[90m<dbl>\u001b[39m\u001b[23m         \u001b[3m\u001b[90m<dbl>\u001b[39m\u001b[23m         \u001b[3m\u001b[90m<dbl>\u001b[39m\u001b[23m\n",
      "\u001b[90m 1\u001b[39m 107p7     didi_grna_1         86       \u001b[4m4\u001b[24m\u001b[4m7\u001b[24m695          \u001b[4m4\u001b[24m582            26\n",
      "\u001b[90m 2\u001b[39m 107p7     didi_grna_1         22       \u001b[4m1\u001b[24m\u001b[4m7\u001b[24m334          \u001b[4m4\u001b[24m086             6\n",
      "\u001b[90m 3\u001b[39m 107p7     didi_grna_1        172        \u001b[4m6\u001b[24m711          \u001b[4m4\u001b[24m078             1\n",
      "\u001b[90m 4\u001b[39m 107p7     didi_grna_1         20        \u001b[4m5\u001b[24m501          \u001b[4m4\u001b[24m068             1\n",
      "\u001b[90m 5\u001b[39m 107p7     didi_grna_1        275        \u001b[4m2\u001b[24m109          \u001b[4m3\u001b[24m889             1\n",
      "\u001b[90m 6\u001b[39m 107p7     didi_grna_1         54       \u001b[4m4\u001b[24m\u001b[4m6\u001b[24m374          \u001b[4m3\u001b[24m821            25\n",
      "\u001b[90m 7\u001b[39m 107p7     didi_grna_1        150       \u001b[4m4\u001b[24m\u001b[4m9\u001b[24m997          \u001b[4m3\u001b[24m797            29\n",
      "\u001b[90m 8\u001b[39m 107p7     didi_grna_1        236        \u001b[4m1\u001b[24m823          \u001b[4m3\u001b[24m785             1\n",
      "\u001b[90m 9\u001b[39m 107p7     didi_grna_1         90       \u001b[4m4\u001b[24m\u001b[4m1\u001b[24m296          \u001b[4m3\u001b[24m778            20\n",
      "\u001b[90m10\u001b[39m 107p7     didi_grna_1        227       \u001b[4m2\u001b[24m\u001b[4m6\u001b[24m592          \u001b[4m3\u001b[24m694            11\n",
      "\u001b[90m# … with 84,772 more rows, and 2 more variables: library_type <chr>,\u001b[39m\n",
      "\u001b[90m#   linkage_ref <chr>\u001b[39m\n"
     ]
    }
   ],
   "source": [
    "barcode_counts <- read_tsv('../tables/sample_insert_barcode_counts.tsv.gz') %>% \n",
    "  print()"
   ]
  },
  {
   "cell_type": "code",
   "execution_count": 235,
   "metadata": {
    "vscode": {
     "languageId": "r"
    }
   },
   "outputs": [
    {
     "name": "stderr",
     "output_type": "stream",
     "text": [
      "\u001b[1mRows: \u001b[22m\u001b[34m4\u001b[39m \u001b[1mColumns: \u001b[22m\u001b[34m7\u001b[39m\n",
      "\u001b[36m──\u001b[39m \u001b[1mColumn specification\u001b[22m \u001b[36m────────────────────────────────────────────────────────\u001b[39m\n",
      "\u001b[1mDelimiter:\u001b[22m \",\"\n",
      "\u001b[31mchr\u001b[39m (5): sample_id, illumina_index, sample_name, sample_type, linkage_ref\n",
      "\u001b[32mdbl\u001b[39m (2): replicate, sample_num\n",
      "\n",
      "\u001b[36mℹ\u001b[39m Use `spec()` to retrieve the full column specification for this data.\n",
      "\u001b[36mℹ\u001b[39m Specify the column types or set `show_col_types = FALSE` to quiet this message.\n"
     ]
    },
    {
     "name": "stdout",
     "output_type": "stream",
     "text": [
      "\u001b[90m# A tibble: 4 × 4\u001b[39m\n",
      "  sample_num sample_name sample_type replicate\n",
      "       \u001b[3m\u001b[90m<dbl>\u001b[39m\u001b[23m \u001b[3m\u001b[90m<chr>\u001b[39m\u001b[23m       \u001b[3m\u001b[90m<chr>\u001b[39m\u001b[23m           \u001b[3m\u001b[90m<dbl>\u001b[39m\u001b[23m\n",
      "\u001b[90m1\u001b[39m          1 didi_grna_1 grna                1\n",
      "\u001b[90m2\u001b[39m          2 didi_grna_2 grna                2\n",
      "\u001b[90m3\u001b[39m          3 didi_mrna_1 mrna                1\n",
      "\u001b[90m4\u001b[39m          4 didi_mrna_2 mrna                2\n"
     ]
    }
   ],
   "source": [
    "replicate_annotations <- read_csv(\"../annotations/replicate_annotations.csv\") %>% \n",
    "  select(sample_num, sample_name, sample_type, replicate) %>% \n",
    "  print()"
   ]
  },
  {
   "cell_type": "markdown",
   "metadata": {},
   "source": [
    "\n",
    "## Read insert annotations "
   ]
  },
  {
   "cell_type": "code",
   "execution_count": 236,
   "metadata": {
    "vscode": {
     "languageId": "r"
    }
   },
   "outputs": [
    {
     "name": "stderr",
     "output_type": "stream",
     "text": [
      "\u001b[1mRows: \u001b[22m\u001b[34m317\u001b[39m \u001b[1mColumns: \u001b[22m\u001b[34m3\u001b[39m\n",
      "\u001b[36m──\u001b[39m \u001b[1mColumn specification\u001b[22m \u001b[36m────────────────────────────────────────────────────────\u001b[39m\n",
      "\u001b[1mDelimiter:\u001b[22m \"\\t\"\n",
      "\u001b[31mchr\u001b[39m (2): seq, insert_name\n",
      "\u001b[32mdbl\u001b[39m (1): insert_num\n",
      "\n",
      "\u001b[36mℹ\u001b[39m Use `spec()` to retrieve the full column specification for this data.\n",
      "\u001b[36mℹ\u001b[39m Specify the column types or set `show_col_types = FALSE` to quiet this message.\n"
     ]
    },
    {
     "name": "stdout",
     "output_type": "stream",
     "text": [
      "\u001b[90m# A tibble: 317 × 3\u001b[39m\n",
      "   insert_num seq                                              insert_name      \n",
      "        \u001b[3m\u001b[90m<dbl>\u001b[39m\u001b[23m \u001b[3m\u001b[90m<chr>\u001b[39m\u001b[23m                                            \u001b[3m\u001b[90m<chr>\u001b[39m\u001b[23m            \n",
      "\u001b[90m 1\u001b[39m          0 AAGATCTCCGGCTCCGGCTCCGGCTCCGGCTCCGGCTCCGGCTCCGGC varydicodonrepea…\n",
      "\u001b[90m 2\u001b[39m          1 AAGATCAAGATCTCCGGCTCCGGCTCCGGCTCCGGCTCCGGCTCCGGC varydicodonrepea…\n",
      "\u001b[90m 3\u001b[39m          2 AAGATCAAGATCAAGATCTCCGGCTCCGGCTCCGGCTCCGGCTCCGGC varydicodonrepea…\n",
      "\u001b[90m 4\u001b[39m          3 AAGATCAAGATCAAGATCAAGATCTCCGGCTCCGGCTCCGGCTCCGGC varydicodonrepea…\n",
      "\u001b[90m 5\u001b[39m          4 AAGATCAAGATCAAGATCAAGATCAAGATCTCCGGCTCCGGCTCCGGC varydicodonrepea…\n",
      "\u001b[90m 6\u001b[39m          5 AAGATCAAGATCAAGATCAAGATCAAGATCAAGATCTCCGGCTCCGGC varydicodonrepea…\n",
      "\u001b[90m 7\u001b[39m          6 AAGATCAAGATCAAGATCAAGATCAAGATCAAGATCAAGATCTCCGGC varydicodonrepea…\n",
      "\u001b[90m 8\u001b[39m          7 AAGATCAAGATCAAGATCAAGATCAAGATCAAGATCAAGATCAAGATC varydicodonrepea…\n",
      "\u001b[90m 9\u001b[39m          8 AAGTTCTCCGGCTCCGGCTCCGGCTCCGGCTCCGGCTCCGGCTCCGGC varydicodonrepea…\n",
      "\u001b[90m10\u001b[39m          9 AAGTTCAAGTTCTCCGGCTCCGGCTCCGGCTCCGGCTCCGGCTCCGGC varydicodonrepea…\n",
      "\u001b[90m# … with 307 more rows\u001b[39m\n"
     ]
    }
   ],
   "source": [
    "\n",
    "insert_annotations <- read_tsv(\"../../pool2_linkage/annotations/insert_annotations.tsv\") %>% \n",
    "  arrange(insert_num) %>%\n",
    "  print()"
   ]
  },
  {
   "cell_type": "markdown",
   "metadata": {},
   "source": [
    "## Combine counts and annotations"
   ]
  },
  {
   "cell_type": "code",
   "execution_count": 237,
   "metadata": {
    "vscode": {
     "languageId": "r"
    }
   },
   "outputs": [
    {
     "name": "stdout",
     "output_type": "stream",
     "text": [
      "\u001b[90m# A tibble: 84,782 × 13\u001b[39m\n",
      "   sample_id sample_name insert_num barcode_num barcode_count linkage_count\n",
      "   \u001b[3m\u001b[90m<chr>\u001b[39m\u001b[23m     \u001b[3m\u001b[90m<chr>\u001b[39m\u001b[23m            \u001b[3m\u001b[90m<dbl>\u001b[39m\u001b[23m       \u001b[3m\u001b[90m<dbl>\u001b[39m\u001b[23m         \u001b[3m\u001b[90m<dbl>\u001b[39m\u001b[23m         \u001b[3m\u001b[90m<dbl>\u001b[39m\u001b[23m\n",
      "\u001b[90m 1\u001b[39m 107p7     didi_grna_1         86       \u001b[4m4\u001b[24m\u001b[4m7\u001b[24m695          \u001b[4m4\u001b[24m582            26\n",
      "\u001b[90m 2\u001b[39m 107p7     didi_grna_1         22       \u001b[4m1\u001b[24m\u001b[4m7\u001b[24m334          \u001b[4m4\u001b[24m086             6\n",
      "\u001b[90m 3\u001b[39m 107p7     didi_grna_1        172        \u001b[4m6\u001b[24m711          \u001b[4m4\u001b[24m078             1\n",
      "\u001b[90m 4\u001b[39m 107p7     didi_grna_1         20        \u001b[4m5\u001b[24m501          \u001b[4m4\u001b[24m068             1\n",
      "\u001b[90m 5\u001b[39m 107p7     didi_grna_1        275        \u001b[4m2\u001b[24m109          \u001b[4m3\u001b[24m889             1\n",
      "\u001b[90m 6\u001b[39m 107p7     didi_grna_1         54       \u001b[4m4\u001b[24m\u001b[4m6\u001b[24m374          \u001b[4m3\u001b[24m821            25\n",
      "\u001b[90m 7\u001b[39m 107p7     didi_grna_1        150       \u001b[4m4\u001b[24m\u001b[4m9\u001b[24m997          \u001b[4m3\u001b[24m797            29\n",
      "\u001b[90m 8\u001b[39m 107p7     didi_grna_1        236        \u001b[4m1\u001b[24m823          \u001b[4m3\u001b[24m785             1\n",
      "\u001b[90m 9\u001b[39m 107p7     didi_grna_1         90       \u001b[4m4\u001b[24m\u001b[4m1\u001b[24m296          \u001b[4m3\u001b[24m778            20\n",
      "\u001b[90m10\u001b[39m 107p7     didi_grna_1        227       \u001b[4m2\u001b[24m\u001b[4m6\u001b[24m592          \u001b[4m3\u001b[24m694            11\n",
      "\u001b[90m# … with 84,772 more rows, and 7 more variables: library_type <chr>,\u001b[39m\n",
      "\u001b[90m#   linkage_ref <chr>, sample_num <dbl>, sample_type <chr>, replicate <dbl>,\u001b[39m\n",
      "\u001b[90m#   seq <chr>, insert_name <chr>\u001b[39m\n"
     ]
    },
    {
     "data": {
      "text/html": [
       "<table class=\"dataframe\">\n",
       "<caption>A spec_tbl_df: 84782 × 13</caption>\n",
       "<thead>\n",
       "\t<tr><th scope=col>sample_id</th><th scope=col>sample_name</th><th scope=col>insert_num</th><th scope=col>barcode_num</th><th scope=col>barcode_count</th><th scope=col>linkage_count</th><th scope=col>library_type</th><th scope=col>linkage_ref</th><th scope=col>sample_num</th><th scope=col>sample_type</th><th scope=col>replicate</th><th scope=col>seq</th><th scope=col>insert_name</th></tr>\n",
       "\t<tr><th scope=col>&lt;chr&gt;</th><th scope=col>&lt;chr&gt;</th><th scope=col>&lt;dbl&gt;</th><th scope=col>&lt;dbl&gt;</th><th scope=col>&lt;dbl&gt;</th><th scope=col>&lt;dbl&gt;</th><th scope=col>&lt;chr&gt;</th><th scope=col>&lt;chr&gt;</th><th scope=col>&lt;dbl&gt;</th><th scope=col>&lt;chr&gt;</th><th scope=col>&lt;dbl&gt;</th><th scope=col>&lt;chr&gt;</th><th scope=col>&lt;chr&gt;</th></tr>\n",
       "</thead>\n",
       "<tbody>\n",
       "\t<tr><td>107p7</td><td>didi_grna_1</td><td> 86</td><td>47695</td><td>4582</td><td> 26</td><td>grna</td><td>didi_linkage_1</td><td>1</td><td>grna</td><td>1</td><td>CGTGAACGTGAACGTGAACGTGAACGTGAACGTGAACGTGAATCCGGC</td><td>varydicodonrepeatlength_CGTGAA_7</td></tr>\n",
       "\t<tr><td>107p7</td><td>didi_grna_1</td><td> 22</td><td>17334</td><td>4086</td><td>  6</td><td>grna</td><td>didi_linkage_1</td><td>1</td><td>grna</td><td>1</td><td>AGAGAGAGAGAGAGAGAGAGAGAGAGAGAGAGAGAGAGAGAGTCCGGC</td><td>varydicodonrepeatlength_AGAGAG_7</td></tr>\n",
       "\t<tr><td>107p7</td><td>didi_grna_1</td><td>172</td><td> 6711</td><td>4078</td><td>  1</td><td>grna</td><td>didi_linkage_1</td><td>1</td><td>grna</td><td>1</td><td>AAAGTCAAAGTCAAAGTCAAAGTCAGTTTCAGTTTCAGTTTCAGTTTC</td><td>mixdicodons_AAAGTC_AGTTTC_4     </td></tr>\n",
       "\t<tr><td>107p7</td><td>didi_grna_1</td><td> 20</td><td> 5501</td><td>4068</td><td>  1</td><td>grna</td><td>didi_linkage_1</td><td>1</td><td>grna</td><td>1</td><td>AGAGAGAGAGAGAGAGAGAGAGAGAGAGAGTCCGGCTCCGGCTCCGGC</td><td>varydicodonrepeatlength_AGAGAG_5</td></tr>\n",
       "\t<tr><td>107p7</td><td>didi_grna_1</td><td>275</td><td> 2109</td><td>3889</td><td>  1</td><td>grna</td><td>didi_linkage_1</td><td>1</td><td>grna</td><td>1</td><td>TCCAGTTTCTCCAGTTTCTCCAGTTTCTCCAGTTTCTCCAGTTTCTCC</td><td>reorderdicodon_AGTTTC_1         </td></tr>\n",
       "\t<tr><td>107p7</td><td>didi_grna_1</td><td> 54</td><td>46374</td><td>3821</td><td> 25</td><td>grna</td><td>didi_linkage_1</td><td>1</td><td>grna</td><td>1</td><td>ATGATGATGATGATGATGATGATGATGATGATGATGATGATGTCCGGC</td><td>varydicodonrepeatlength_ATGATG_7</td></tr>\n",
       "\t<tr><td>107p7</td><td>didi_grna_1</td><td>150</td><td>49997</td><td>3797</td><td> 29</td><td>grna</td><td>didi_linkage_1</td><td>1</td><td>grna</td><td>1</td><td>TTGATGTTGATGTTGATGTTGATGTTGATGTTGATGTTGATGTCCGGC</td><td>varydicodonrepeatlength_TTGATG_7</td></tr>\n",
       "\t<tr><td>107p7</td><td>didi_grna_1</td><td>236</td><td> 1823</td><td>3785</td><td>  1</td><td>grna</td><td>didi_linkage_1</td><td>1</td><td>grna</td><td>1</td><td>GTCAAACATCGCGTCAAACATCGCGTCAAACATCGCGTCAAACATCGC</td><td>mixdicodons_GTCAAA_CATCGC_1     </td></tr>\n",
       "\t<tr><td>107p7</td><td>didi_grna_1</td><td> 90</td><td>41296</td><td>3778</td><td> 20</td><td>grna</td><td>didi_linkage_1</td><td>1</td><td>grna</td><td>1</td><td>CTCATACTCATACTCATATCCGGCTCCGGCTCCGGCTCCGGCTCCGGC</td><td>varydicodonrepeatlength_CTCATA_3</td></tr>\n",
       "\t<tr><td>107p7</td><td>didi_grna_1</td><td>227</td><td>26592</td><td>3694</td><td> 11</td><td>grna</td><td>didi_linkage_1</td><td>1</td><td>grna</td><td>1</td><td>CGCCATTTCAGTCGCCATTTCAGTCGCCATTTCAGTCGCCATTTCAGT</td><td>mixdicodons_CGCCAT_TTCAGT_1     </td></tr>\n",
       "\t<tr><td>107p7</td><td>didi_grna_1</td><td> 85</td><td>59591</td><td>3587</td><td> 68</td><td>grna</td><td>didi_linkage_1</td><td>1</td><td>grna</td><td>1</td><td>CGTGAACGTGAACGTGAACGTGAACGTGAACGTGAATCCGGCTCCGGC</td><td>varydicodonrepeatlength_CGTGAA_6</td></tr>\n",
       "\t<tr><td>107p7</td><td>didi_grna_1</td><td> 35</td><td>58816</td><td>3429</td><td> 56</td><td>grna</td><td>didi_linkage_1</td><td>1</td><td>grna</td><td>1</td><td>AGTTTCAGTTTCAGTTTCAGTTTCTCCGGCTCCGGCTCCGGCTCCGGC</td><td>varydicodonrepeatlength_AGTTTC_4</td></tr>\n",
       "\t<tr><td>107p7</td><td>didi_grna_1</td><td>218</td><td>59966</td><td>3412</td><td>178</td><td>grna</td><td>didi_linkage_1</td><td>1</td><td>grna</td><td>1</td><td>CGCCATAGTTTCCGCCATAGTTTCCGCCATAGTTTCCGCCATAGTTTC</td><td>mixdicodons_CGCCAT_AGTTTC_1     </td></tr>\n",
       "\t<tr><td>107p7</td><td>didi_grna_1</td><td>165</td><td>42634</td><td>3393</td><td> 21</td><td>grna</td><td>didi_linkage_1</td><td>1</td><td>grna</td><td>1</td><td>TTTTGTTTTTGTTTTTGTTTTTGTTTTTGTTTTTGTTCCGGCTCCGGC</td><td>varydicodonrepeatlength_TTTTGT_6</td></tr>\n",
       "\t<tr><td>107p7</td><td>didi_grna_1</td><td>118</td><td>21373</td><td>3121</td><td>  8</td><td>grna</td><td>didi_linkage_1</td><td>1</td><td>grna</td><td>1</td><td>CTTATCCTTATCCTTATCCTTATCCTTATCCTTATCCTTATCTCCGGC</td><td>varydicodonrepeatlength_CTTATC_7</td></tr>\n",
       "\t<tr><td>107p7</td><td>didi_grna_1</td><td> 64</td><td>28279</td><td>3114</td><td> 12</td><td>grna</td><td>didi_linkage_1</td><td>1</td><td>grna</td><td>1</td><td>CGCCATTCCGGCTCCGGCTCCGGCTCCGGCTCCGGCTCCGGCTCCGGC</td><td>varydicodonrepeatlength_CGCCAT_1</td></tr>\n",
       "\t<tr><td>107p7</td><td>didi_grna_1</td><td> 23</td><td>49127</td><td>2949</td><td> 28</td><td>grna</td><td>didi_linkage_1</td><td>1</td><td>grna</td><td>1</td><td>AGAGAGAGAGAGAGAGAGAGAGAGAGAGAGAGAGAGAGAGAGAGAGAG</td><td>varydicodonrepeatlength_AGAGAG_8</td></tr>\n",
       "\t<tr><td>107p7</td><td>didi_grna_1</td><td> 22</td><td>17521</td><td>2921</td><td>  6</td><td>grna</td><td>didi_linkage_1</td><td>1</td><td>grna</td><td>1</td><td>AGAGAGAGAGAGAGAGAGAGAGAGAGAGAGAGAGAGAGAGAGTCCGGC</td><td>varydicodonrepeatlength_AGAGAG_7</td></tr>\n",
       "\t<tr><td>107p7</td><td>didi_grna_1</td><td> 23</td><td>48461</td><td>2844</td><td> 27</td><td>grna</td><td>didi_linkage_1</td><td>1</td><td>grna</td><td>1</td><td>AGAGAGAGAGAGAGAGAGAGAGAGAGAGAGAGAGAGAGAGAGAGAGAG</td><td>varydicodonrepeatlength_AGAGAG_8</td></tr>\n",
       "\t<tr><td>107p7</td><td>didi_grna_1</td><td> 74</td><td> 4880</td><td>2834</td><td>  1</td><td>grna</td><td>didi_linkage_1</td><td>1</td><td>grna</td><td>1</td><td>CGCTTCCGCTTCCGCTTCTCCGGCTCCGGCTCCGGCTCCGGCTCCGGC</td><td>varydicodonrepeatlength_CGCTTC_3</td></tr>\n",
       "\t<tr><td>107p7</td><td>didi_grna_1</td><td>273</td><td>57968</td><td>2821</td><td> 49</td><td>grna</td><td>didi_linkage_1</td><td>1</td><td>grna</td><td>1</td><td>TCCAGAGAGAGAGAGTCCAGAGAGAGAGAGTCCAGAGAGAGAGAGTCC</td><td>reorderdicodon_AGAGAG_2         </td></tr>\n",
       "\t<tr><td>107p7</td><td>didi_grna_1</td><td>249</td><td>44282</td><td>2765</td><td> 23</td><td>grna</td><td>didi_linkage_1</td><td>1</td><td>grna</td><td>1</td><td>TTCAGTTTCAGTAGTTTCAGTTTCTTCAGTTTCAGTAGTTTCAGTTTC</td><td>mixdicodons_TTCAGT_AGTTTC_2     </td></tr>\n",
       "\t<tr><td>107p7</td><td>didi_grna_1</td><td> 23</td><td>27458</td><td>2759</td><td> 11</td><td>grna</td><td>didi_linkage_1</td><td>1</td><td>grna</td><td>1</td><td>AGAGAGAGAGAGAGAGAGAGAGAGAGAGAGAGAGAGAGAGAGAGAGAG</td><td>varydicodonrepeatlength_AGAGAG_8</td></tr>\n",
       "\t<tr><td>107p7</td><td>didi_grna_1</td><td>219</td><td>55793</td><td>2758</td><td> 41</td><td>grna</td><td>didi_linkage_1</td><td>1</td><td>grna</td><td>1</td><td>CGCCATCGCCATAGTTTCAGTTTCCGCCATCGCCATAGTTTCAGTTTC</td><td>mixdicodons_CGCCAT_AGTTTC_2     </td></tr>\n",
       "\t<tr><td>107p7</td><td>didi_grna_1</td><td> 34</td><td>48967</td><td>2694</td><td> 28</td><td>grna</td><td>didi_linkage_1</td><td>1</td><td>grna</td><td>1</td><td>AGTTTCAGTTTCAGTTTCTCCGGCTCCGGCTCCGGCTCCGGCTCCGGC</td><td>varydicodonrepeatlength_AGTTTC_3</td></tr>\n",
       "\t<tr><td>107p7</td><td>didi_grna_1</td><td>189</td><td>46020</td><td>2618</td><td> 25</td><td>grna</td><td>didi_linkage_1</td><td>1</td><td>grna</td><td>1</td><td>AGTTTCAGTTTCCATCGCCATCGCAGTTTCAGTTTCCATCGCCATCGC</td><td>mixdicodons_AGTTTC_CATCGC_2     </td></tr>\n",
       "\t<tr><td>107p7</td><td>didi_grna_1</td><td>274</td><td>54296</td><td>2596</td><td> 37</td><td>grna</td><td>didi_linkage_1</td><td>1</td><td>grna</td><td>1</td><td>TCCAGAGAGAGAGAGAGAGAGTCCTCCAGAGAGAGAGAGAGAGAGTCC</td><td>reorderdicodon_AGAGAG_3         </td></tr>\n",
       "\t<tr><td>107p7</td><td>didi_grna_1</td><td>195</td><td>23649</td><td>2540</td><td>  9</td><td>grna</td><td>didi_linkage_1</td><td>1</td><td>grna</td><td>1</td><td>AGTTTCAGTTTCGTCAAAGTCAAAAGTTTCAGTTTCGTCAAAGTCAAA</td><td>mixdicodons_AGTTTC_GTCAAA_2     </td></tr>\n",
       "\t<tr><td>107p7</td><td>didi_grna_1</td><td>230</td><td>  523</td><td>2513</td><td>  1</td><td>grna</td><td>didi_linkage_1</td><td>1</td><td>grna</td><td>1</td><td>GTCAAAAAAGTCGTCAAAAAAGTCGTCAAAAAAGTCGTCAAAAAAGTC</td><td>mixdicodons_GTCAAA_AAAGTC_1     </td></tr>\n",
       "\t<tr><td>107p7</td><td>didi_grna_1</td><td>249</td><td>  343</td><td>2511</td><td>  1</td><td>grna</td><td>didi_linkage_1</td><td>1</td><td>grna</td><td>1</td><td>TTCAGTTTCAGTAGTTTCAGTTTCTTCAGTTTCAGTAGTTTCAGTTTC</td><td>mixdicodons_TTCAGT_AGTTTC_2     </td></tr>\n",
       "\t<tr><td>⋮</td><td>⋮</td><td>⋮</td><td>⋮</td><td>⋮</td><td>⋮</td><td>⋮</td><td>⋮</td><td>⋮</td><td>⋮</td><td>⋮</td><td>⋮</td><td>⋮</td></tr>\n",
       "\t<tr><td>107p10</td><td>didi_mrna_2</td><td>124</td><td>77098</td><td>1</td><td> 89</td><td>mrna</td><td>didi_linkage_2</td><td>4</td><td>mrna</td><td>2</td><td>GTCAAAGTCAAAGTCAAAGTCAAAGTCAAATCCGGCTCCGGCTCCGGC</td><td>varydicodonrepeatlength_GTCAAA_5</td></tr>\n",
       "\t<tr><td>107p10</td><td>didi_mrna_2</td><td>299</td><td>77107</td><td>1</td><td> 89</td><td>mrna</td><td>didi_linkage_2</td><td>4</td><td>mrna</td><td>2</td><td>TCCGGACTCTCCGGACTCTCCGGACTCTCCGGACTCTCCGGACTCTCC</td><td>reorderdicodon_GGACTC_1         </td></tr>\n",
       "\t<tr><td>107p10</td><td>didi_mrna_2</td><td> 38</td><td>77114</td><td>1</td><td> 89</td><td>mrna</td><td>didi_linkage_2</td><td>4</td><td>mrna</td><td>2</td><td>AGTTTCAGTTTCAGTTTCAGTTTCAGTTTCAGTTTCAGTTTCTCCGGC</td><td>varydicodonrepeatlength_AGTTTC_7</td></tr>\n",
       "\t<tr><td>107p10</td><td>didi_mrna_2</td><td>183</td><td>77116</td><td>1</td><td> 89</td><td>mrna</td><td>didi_linkage_2</td><td>4</td><td>mrna</td><td>2</td><td>AAAGTCAAAGTCTTCAGTTTCAGTAAAGTCAAAGTCTTCAGTTTCAGT</td><td>mixdicodons_AAAGTC_TTCAGT_2     </td></tr>\n",
       "\t<tr><td>107p10</td><td>didi_mrna_2</td><td>194</td><td>77137</td><td>1</td><td> 90</td><td>mrna</td><td>didi_linkage_2</td><td>4</td><td>mrna</td><td>2</td><td>AGTTTCGTCAAAAGTTTCGTCAAAAGTTTCGTCAAAAGTTTCGTCAAA</td><td>mixdicodons_AGTTTC_GTCAAA_1     </td></tr>\n",
       "\t<tr><td>107p10</td><td>didi_mrna_2</td><td> 34</td><td>77144</td><td>1</td><td> 91</td><td>mrna</td><td>didi_linkage_2</td><td>4</td><td>mrna</td><td>2</td><td>AGTTTCAGTTTCAGTTTCTCCGGCTCCGGCTCCGGCTCCGGCTCCGGC</td><td>varydicodonrepeatlength_AGTTTC_3</td></tr>\n",
       "\t<tr><td>107p10</td><td>didi_mrna_2</td><td>  5</td><td>77168</td><td>1</td><td> 91</td><td>mrna</td><td>didi_linkage_2</td><td>4</td><td>mrna</td><td>2</td><td>AAGATCAAGATCAAGATCAAGATCAAGATCAAGATCTCCGGCTCCGGC</td><td>varydicodonrepeatlength_AAGATC_6</td></tr>\n",
       "\t<tr><td>107p10</td><td>didi_mrna_2</td><td>178</td><td>77185</td><td>1</td><td> 92</td><td>mrna</td><td>didi_linkage_2</td><td>4</td><td>mrna</td><td>2</td><td>AAAGTCAAAGTCAAAGTCAAAGTCCGCCATCGCCATCGCCATCGCCAT</td><td>mixdicodons_AAAGTC_CGCCAT_4     </td></tr>\n",
       "\t<tr><td>107p10</td><td>didi_mrna_2</td><td>270</td><td>77187</td><td>1</td><td> 92</td><td>mrna</td><td>didi_linkage_2</td><td>4</td><td>mrna</td><td>2</td><td>TCCAAGTTCAAGTTCTCCAAGTTCAAGTTCTCCAAGTTCAAGTTCTCC</td><td>reorderdicodon_AAGTTC_2         </td></tr>\n",
       "\t<tr><td>107p10</td><td>didi_mrna_2</td><td> 14</td><td>77196</td><td>1</td><td> 93</td><td>mrna</td><td>didi_linkage_2</td><td>4</td><td>mrna</td><td>2</td><td>AAGTTCAAGTTCAAGTTCAAGTTCAAGTTCAAGTTCAAGTTCTCCGGC</td><td>varydicodonrepeatlength_AAGTTC_7</td></tr>\n",
       "\t<tr><td>107p10</td><td>didi_mrna_2</td><td>237</td><td>77199</td><td>1</td><td> 93</td><td>mrna</td><td>didi_linkage_2</td><td>4</td><td>mrna</td><td>2</td><td>GTCAAAGTCAAACATCGCCATCGCGTCAAAGTCAAACATCGCCATCGC</td><td>mixdicodons_GTCAAA_CATCGC_2     </td></tr>\n",
       "\t<tr><td>107p10</td><td>didi_mrna_2</td><td>123</td><td>77206</td><td>1</td><td> 93</td><td>mrna</td><td>didi_linkage_2</td><td>4</td><td>mrna</td><td>2</td><td>GTCAAAGTCAAAGTCAAAGTCAAATCCGGCTCCGGCTCCGGCTCCGGC</td><td>varydicodonrepeatlength_GTCAAA_4</td></tr>\n",
       "\t<tr><td>107p10</td><td>didi_mrna_2</td><td>124</td><td>77207</td><td>1</td><td> 93</td><td>mrna</td><td>didi_linkage_2</td><td>4</td><td>mrna</td><td>2</td><td>GTCAAAGTCAAAGTCAAAGTCAAAGTCAAATCCGGCTCCGGCTCCGGC</td><td>varydicodonrepeatlength_GTCAAA_5</td></tr>\n",
       "\t<tr><td>107p10</td><td>didi_mrna_2</td><td>183</td><td>77208</td><td>1</td><td> 93</td><td>mrna</td><td>didi_linkage_2</td><td>4</td><td>mrna</td><td>2</td><td>AAAGTCAAAGTCTTCAGTTTCAGTAAAGTCAAAGTCTTCAGTTTCAGT</td><td>mixdicodons_AAAGTC_TTCAGT_2     </td></tr>\n",
       "\t<tr><td>107p10</td><td>didi_mrna_2</td><td>204</td><td>77221</td><td>1</td><td> 94</td><td>mrna</td><td>didi_linkage_2</td><td>4</td><td>mrna</td><td>2</td><td>CATCGCCATCGCAGTTTCAGTTTCCATCGCCATCGCAGTTTCAGTTTC</td><td>mixdicodons_CATCGC_AGTTTC_2     </td></tr>\n",
       "\t<tr><td>107p10</td><td>didi_mrna_2</td><td>306</td><td>77223</td><td>1</td><td> 94</td><td>mrna</td><td>didi_linkage_2</td><td>4</td><td>mrna</td><td>2</td><td>TCCTACAAGTACAAGTCCTACAAGTACAAGTCCTACAAGTACAAGTCC</td><td>reorderdicodon_TACAAG_2         </td></tr>\n",
       "\t<tr><td>107p10</td><td>didi_mrna_2</td><td>241</td><td>77261</td><td>1</td><td> 96</td><td>mrna</td><td>didi_linkage_2</td><td>4</td><td>mrna</td><td>2</td><td>GTCAAAGTCAAAGTCAAAGTCAAACGCCATCGCCATCGCCATCGCCAT</td><td>mixdicodons_GTCAAA_CGCCAT_4     </td></tr>\n",
       "\t<tr><td>107p10</td><td>didi_mrna_2</td><td> 33</td><td>77291</td><td>1</td><td> 97</td><td>mrna</td><td>didi_linkage_2</td><td>4</td><td>mrna</td><td>2</td><td>AGTTTCAGTTTCTCCGGCTCCGGCTCCGGCTCCGGCTCCGGCTCCGGC</td><td>varydicodonrepeatlength_AGTTTC_2</td></tr>\n",
       "\t<tr><td>107p10</td><td>didi_mrna_2</td><td>244</td><td>77296</td><td>1</td><td> 98</td><td>mrna</td><td>didi_linkage_2</td><td>4</td><td>mrna</td><td>2</td><td>GTCAAAGTCAAAGTCAAAGTCAAATTCAGTTTCAGTTTCAGTTTCAGT</td><td>mixdicodons_GTCAAA_TTCAGT_4     </td></tr>\n",
       "\t<tr><td>107p10</td><td>didi_mrna_2</td><td>170</td><td>77337</td><td>1</td><td>100</td><td>mrna</td><td>didi_linkage_2</td><td>4</td><td>mrna</td><td>2</td><td>AAAGTCAGTTTCAAAGTCAGTTTCAAAGTCAGTTTCAAAGTCAGTTTC</td><td>mixdicodons_AAAGTC_AGTTTC_1     </td></tr>\n",
       "\t<tr><td>107p10</td><td>didi_mrna_2</td><td>266</td><td>77360</td><td>1</td><td>102</td><td>mrna</td><td>didi_linkage_2</td><td>4</td><td>mrna</td><td>2</td><td>TCCAAGTACTCCAAGTACTCCAAGTACTCCAAGTACTCCAAGTACTCC</td><td>reorderdicodon_AAGTAC_1         </td></tr>\n",
       "\t<tr><td>107p10</td><td>didi_mrna_2</td><td>270</td><td>77405</td><td>1</td><td>106</td><td>mrna</td><td>didi_linkage_2</td><td>4</td><td>mrna</td><td>2</td><td>TCCAAGTTCAAGTTCTCCAAGTTCAAGTTCTCCAAGTTCAAGTTCTCC</td><td>reorderdicodon_AAGTTC_2         </td></tr>\n",
       "\t<tr><td>107p10</td><td>didi_mrna_2</td><td>  4</td><td>77424</td><td>1</td><td>108</td><td>mrna</td><td>didi_linkage_2</td><td>4</td><td>mrna</td><td>2</td><td>AAGATCAAGATCAAGATCAAGATCAAGATCTCCGGCTCCGGCTCCGGC</td><td>varydicodonrepeatlength_AAGATC_5</td></tr>\n",
       "\t<tr><td>107p10</td><td>didi_mrna_2</td><td>304</td><td>77466</td><td>1</td><td>114</td><td>mrna</td><td>didi_linkage_2</td><td>4</td><td>mrna</td><td>2</td><td>TCCGTCAAAGTCAAAGTCAAATCCTCCGTCAAAGTCAAAGTCAAATCC</td><td>reorderdicodon_GTCAAA_3         </td></tr>\n",
       "\t<tr><td>107p10</td><td>didi_mrna_2</td><td>294</td><td>77478</td><td>1</td><td>117</td><td>mrna</td><td>didi_linkage_2</td><td>4</td><td>mrna</td><td>2</td><td>TCCCTCGGACTCGGATCCCTCGGACTCGGATCCCTCGGACTCGGATCC</td><td>reorderdicodon_CTCGGA_2         </td></tr>\n",
       "\t<tr><td>107p10</td><td>didi_mrna_2</td><td>204</td><td>77484</td><td>1</td><td>118</td><td>mrna</td><td>didi_linkage_2</td><td>4</td><td>mrna</td><td>2</td><td>CATCGCCATCGCAGTTTCAGTTTCCATCGCCATCGCAGTTTCAGTTTC</td><td>mixdicodons_CATCGC_AGTTTC_2     </td></tr>\n",
       "\t<tr><td>107p10</td><td>didi_mrna_2</td><td>242</td><td>77526</td><td>1</td><td>131</td><td>mrna</td><td>didi_linkage_2</td><td>4</td><td>mrna</td><td>2</td><td>GTCAAATTCAGTGTCAAATTCAGTGTCAAATTCAGTGTCAAATTCAGT</td><td>mixdicodons_GTCAAA_TTCAGT_1     </td></tr>\n",
       "\t<tr><td>107p10</td><td>didi_mrna_2</td><td>242</td><td>77532</td><td>1</td><td>133</td><td>mrna</td><td>didi_linkage_2</td><td>4</td><td>mrna</td><td>2</td><td>GTCAAATTCAGTGTCAAATTCAGTGTCAAATTCAGTGTCAAATTCAGT</td><td>mixdicodons_GTCAAA_TTCAGT_1     </td></tr>\n",
       "\t<tr><td>107p10</td><td>didi_mrna_2</td><td>143</td><td>77559</td><td>1</td><td>159</td><td>mrna</td><td>didi_linkage_2</td><td>4</td><td>mrna</td><td>2</td><td>TACAAGTACAAGTACAAGTACAAGTACAAGTACAAGTACAAGTACAAG</td><td>varydicodonrepeatlength_TACAAG_8</td></tr>\n",
       "\t<tr><td>107p10</td><td>didi_mrna_2</td><td>279</td><td>77561</td><td>1</td><td>171</td><td>mrna</td><td>didi_linkage_2</td><td>4</td><td>mrna</td><td>2</td><td>TCCATCAAGATCAAGTCCATCAAGATCAAGTCCATCAAGATCAAGTCC</td><td>reorderdicodon_ATCAAG_2         </td></tr>\n",
       "</tbody>\n",
       "</table>\n"
      ],
      "text/latex": [
       "A spec\\_tbl\\_df: 84782 × 13\n",
       "\\begin{tabular}{lllllllllllll}\n",
       " sample\\_id & sample\\_name & insert\\_num & barcode\\_num & barcode\\_count & linkage\\_count & library\\_type & linkage\\_ref & sample\\_num & sample\\_type & replicate & seq & insert\\_name\\\\\n",
       " <chr> & <chr> & <dbl> & <dbl> & <dbl> & <dbl> & <chr> & <chr> & <dbl> & <chr> & <dbl> & <chr> & <chr>\\\\\n",
       "\\hline\n",
       "\t 107p7 & didi\\_grna\\_1 &  86 & 47695 & 4582 &  26 & grna & didi\\_linkage\\_1 & 1 & grna & 1 & CGTGAACGTGAACGTGAACGTGAACGTGAACGTGAACGTGAATCCGGC & varydicodonrepeatlength\\_CGTGAA\\_7\\\\\n",
       "\t 107p7 & didi\\_grna\\_1 &  22 & 17334 & 4086 &   6 & grna & didi\\_linkage\\_1 & 1 & grna & 1 & AGAGAGAGAGAGAGAGAGAGAGAGAGAGAGAGAGAGAGAGAGTCCGGC & varydicodonrepeatlength\\_AGAGAG\\_7\\\\\n",
       "\t 107p7 & didi\\_grna\\_1 & 172 &  6711 & 4078 &   1 & grna & didi\\_linkage\\_1 & 1 & grna & 1 & AAAGTCAAAGTCAAAGTCAAAGTCAGTTTCAGTTTCAGTTTCAGTTTC & mixdicodons\\_AAAGTC\\_AGTTTC\\_4     \\\\\n",
       "\t 107p7 & didi\\_grna\\_1 &  20 &  5501 & 4068 &   1 & grna & didi\\_linkage\\_1 & 1 & grna & 1 & AGAGAGAGAGAGAGAGAGAGAGAGAGAGAGTCCGGCTCCGGCTCCGGC & varydicodonrepeatlength\\_AGAGAG\\_5\\\\\n",
       "\t 107p7 & didi\\_grna\\_1 & 275 &  2109 & 3889 &   1 & grna & didi\\_linkage\\_1 & 1 & grna & 1 & TCCAGTTTCTCCAGTTTCTCCAGTTTCTCCAGTTTCTCCAGTTTCTCC & reorderdicodon\\_AGTTTC\\_1         \\\\\n",
       "\t 107p7 & didi\\_grna\\_1 &  54 & 46374 & 3821 &  25 & grna & didi\\_linkage\\_1 & 1 & grna & 1 & ATGATGATGATGATGATGATGATGATGATGATGATGATGATGTCCGGC & varydicodonrepeatlength\\_ATGATG\\_7\\\\\n",
       "\t 107p7 & didi\\_grna\\_1 & 150 & 49997 & 3797 &  29 & grna & didi\\_linkage\\_1 & 1 & grna & 1 & TTGATGTTGATGTTGATGTTGATGTTGATGTTGATGTTGATGTCCGGC & varydicodonrepeatlength\\_TTGATG\\_7\\\\\n",
       "\t 107p7 & didi\\_grna\\_1 & 236 &  1823 & 3785 &   1 & grna & didi\\_linkage\\_1 & 1 & grna & 1 & GTCAAACATCGCGTCAAACATCGCGTCAAACATCGCGTCAAACATCGC & mixdicodons\\_GTCAAA\\_CATCGC\\_1     \\\\\n",
       "\t 107p7 & didi\\_grna\\_1 &  90 & 41296 & 3778 &  20 & grna & didi\\_linkage\\_1 & 1 & grna & 1 & CTCATACTCATACTCATATCCGGCTCCGGCTCCGGCTCCGGCTCCGGC & varydicodonrepeatlength\\_CTCATA\\_3\\\\\n",
       "\t 107p7 & didi\\_grna\\_1 & 227 & 26592 & 3694 &  11 & grna & didi\\_linkage\\_1 & 1 & grna & 1 & CGCCATTTCAGTCGCCATTTCAGTCGCCATTTCAGTCGCCATTTCAGT & mixdicodons\\_CGCCAT\\_TTCAGT\\_1     \\\\\n",
       "\t 107p7 & didi\\_grna\\_1 &  85 & 59591 & 3587 &  68 & grna & didi\\_linkage\\_1 & 1 & grna & 1 & CGTGAACGTGAACGTGAACGTGAACGTGAACGTGAATCCGGCTCCGGC & varydicodonrepeatlength\\_CGTGAA\\_6\\\\\n",
       "\t 107p7 & didi\\_grna\\_1 &  35 & 58816 & 3429 &  56 & grna & didi\\_linkage\\_1 & 1 & grna & 1 & AGTTTCAGTTTCAGTTTCAGTTTCTCCGGCTCCGGCTCCGGCTCCGGC & varydicodonrepeatlength\\_AGTTTC\\_4\\\\\n",
       "\t 107p7 & didi\\_grna\\_1 & 218 & 59966 & 3412 & 178 & grna & didi\\_linkage\\_1 & 1 & grna & 1 & CGCCATAGTTTCCGCCATAGTTTCCGCCATAGTTTCCGCCATAGTTTC & mixdicodons\\_CGCCAT\\_AGTTTC\\_1     \\\\\n",
       "\t 107p7 & didi\\_grna\\_1 & 165 & 42634 & 3393 &  21 & grna & didi\\_linkage\\_1 & 1 & grna & 1 & TTTTGTTTTTGTTTTTGTTTTTGTTTTTGTTTTTGTTCCGGCTCCGGC & varydicodonrepeatlength\\_TTTTGT\\_6\\\\\n",
       "\t 107p7 & didi\\_grna\\_1 & 118 & 21373 & 3121 &   8 & grna & didi\\_linkage\\_1 & 1 & grna & 1 & CTTATCCTTATCCTTATCCTTATCCTTATCCTTATCCTTATCTCCGGC & varydicodonrepeatlength\\_CTTATC\\_7\\\\\n",
       "\t 107p7 & didi\\_grna\\_1 &  64 & 28279 & 3114 &  12 & grna & didi\\_linkage\\_1 & 1 & grna & 1 & CGCCATTCCGGCTCCGGCTCCGGCTCCGGCTCCGGCTCCGGCTCCGGC & varydicodonrepeatlength\\_CGCCAT\\_1\\\\\n",
       "\t 107p7 & didi\\_grna\\_1 &  23 & 49127 & 2949 &  28 & grna & didi\\_linkage\\_1 & 1 & grna & 1 & AGAGAGAGAGAGAGAGAGAGAGAGAGAGAGAGAGAGAGAGAGAGAGAG & varydicodonrepeatlength\\_AGAGAG\\_8\\\\\n",
       "\t 107p7 & didi\\_grna\\_1 &  22 & 17521 & 2921 &   6 & grna & didi\\_linkage\\_1 & 1 & grna & 1 & AGAGAGAGAGAGAGAGAGAGAGAGAGAGAGAGAGAGAGAGAGTCCGGC & varydicodonrepeatlength\\_AGAGAG\\_7\\\\\n",
       "\t 107p7 & didi\\_grna\\_1 &  23 & 48461 & 2844 &  27 & grna & didi\\_linkage\\_1 & 1 & grna & 1 & AGAGAGAGAGAGAGAGAGAGAGAGAGAGAGAGAGAGAGAGAGAGAGAG & varydicodonrepeatlength\\_AGAGAG\\_8\\\\\n",
       "\t 107p7 & didi\\_grna\\_1 &  74 &  4880 & 2834 &   1 & grna & didi\\_linkage\\_1 & 1 & grna & 1 & CGCTTCCGCTTCCGCTTCTCCGGCTCCGGCTCCGGCTCCGGCTCCGGC & varydicodonrepeatlength\\_CGCTTC\\_3\\\\\n",
       "\t 107p7 & didi\\_grna\\_1 & 273 & 57968 & 2821 &  49 & grna & didi\\_linkage\\_1 & 1 & grna & 1 & TCCAGAGAGAGAGAGTCCAGAGAGAGAGAGTCCAGAGAGAGAGAGTCC & reorderdicodon\\_AGAGAG\\_2         \\\\\n",
       "\t 107p7 & didi\\_grna\\_1 & 249 & 44282 & 2765 &  23 & grna & didi\\_linkage\\_1 & 1 & grna & 1 & TTCAGTTTCAGTAGTTTCAGTTTCTTCAGTTTCAGTAGTTTCAGTTTC & mixdicodons\\_TTCAGT\\_AGTTTC\\_2     \\\\\n",
       "\t 107p7 & didi\\_grna\\_1 &  23 & 27458 & 2759 &  11 & grna & didi\\_linkage\\_1 & 1 & grna & 1 & AGAGAGAGAGAGAGAGAGAGAGAGAGAGAGAGAGAGAGAGAGAGAGAG & varydicodonrepeatlength\\_AGAGAG\\_8\\\\\n",
       "\t 107p7 & didi\\_grna\\_1 & 219 & 55793 & 2758 &  41 & grna & didi\\_linkage\\_1 & 1 & grna & 1 & CGCCATCGCCATAGTTTCAGTTTCCGCCATCGCCATAGTTTCAGTTTC & mixdicodons\\_CGCCAT\\_AGTTTC\\_2     \\\\\n",
       "\t 107p7 & didi\\_grna\\_1 &  34 & 48967 & 2694 &  28 & grna & didi\\_linkage\\_1 & 1 & grna & 1 & AGTTTCAGTTTCAGTTTCTCCGGCTCCGGCTCCGGCTCCGGCTCCGGC & varydicodonrepeatlength\\_AGTTTC\\_3\\\\\n",
       "\t 107p7 & didi\\_grna\\_1 & 189 & 46020 & 2618 &  25 & grna & didi\\_linkage\\_1 & 1 & grna & 1 & AGTTTCAGTTTCCATCGCCATCGCAGTTTCAGTTTCCATCGCCATCGC & mixdicodons\\_AGTTTC\\_CATCGC\\_2     \\\\\n",
       "\t 107p7 & didi\\_grna\\_1 & 274 & 54296 & 2596 &  37 & grna & didi\\_linkage\\_1 & 1 & grna & 1 & TCCAGAGAGAGAGAGAGAGAGTCCTCCAGAGAGAGAGAGAGAGAGTCC & reorderdicodon\\_AGAGAG\\_3         \\\\\n",
       "\t 107p7 & didi\\_grna\\_1 & 195 & 23649 & 2540 &   9 & grna & didi\\_linkage\\_1 & 1 & grna & 1 & AGTTTCAGTTTCGTCAAAGTCAAAAGTTTCAGTTTCGTCAAAGTCAAA & mixdicodons\\_AGTTTC\\_GTCAAA\\_2     \\\\\n",
       "\t 107p7 & didi\\_grna\\_1 & 230 &   523 & 2513 &   1 & grna & didi\\_linkage\\_1 & 1 & grna & 1 & GTCAAAAAAGTCGTCAAAAAAGTCGTCAAAAAAGTCGTCAAAAAAGTC & mixdicodons\\_GTCAAA\\_AAAGTC\\_1     \\\\\n",
       "\t 107p7 & didi\\_grna\\_1 & 249 &   343 & 2511 &   1 & grna & didi\\_linkage\\_1 & 1 & grna & 1 & TTCAGTTTCAGTAGTTTCAGTTTCTTCAGTTTCAGTAGTTTCAGTTTC & mixdicodons\\_TTCAGT\\_AGTTTC\\_2     \\\\\n",
       "\t ⋮ & ⋮ & ⋮ & ⋮ & ⋮ & ⋮ & ⋮ & ⋮ & ⋮ & ⋮ & ⋮ & ⋮ & ⋮\\\\\n",
       "\t 107p10 & didi\\_mrna\\_2 & 124 & 77098 & 1 &  89 & mrna & didi\\_linkage\\_2 & 4 & mrna & 2 & GTCAAAGTCAAAGTCAAAGTCAAAGTCAAATCCGGCTCCGGCTCCGGC & varydicodonrepeatlength\\_GTCAAA\\_5\\\\\n",
       "\t 107p10 & didi\\_mrna\\_2 & 299 & 77107 & 1 &  89 & mrna & didi\\_linkage\\_2 & 4 & mrna & 2 & TCCGGACTCTCCGGACTCTCCGGACTCTCCGGACTCTCCGGACTCTCC & reorderdicodon\\_GGACTC\\_1         \\\\\n",
       "\t 107p10 & didi\\_mrna\\_2 &  38 & 77114 & 1 &  89 & mrna & didi\\_linkage\\_2 & 4 & mrna & 2 & AGTTTCAGTTTCAGTTTCAGTTTCAGTTTCAGTTTCAGTTTCTCCGGC & varydicodonrepeatlength\\_AGTTTC\\_7\\\\\n",
       "\t 107p10 & didi\\_mrna\\_2 & 183 & 77116 & 1 &  89 & mrna & didi\\_linkage\\_2 & 4 & mrna & 2 & AAAGTCAAAGTCTTCAGTTTCAGTAAAGTCAAAGTCTTCAGTTTCAGT & mixdicodons\\_AAAGTC\\_TTCAGT\\_2     \\\\\n",
       "\t 107p10 & didi\\_mrna\\_2 & 194 & 77137 & 1 &  90 & mrna & didi\\_linkage\\_2 & 4 & mrna & 2 & AGTTTCGTCAAAAGTTTCGTCAAAAGTTTCGTCAAAAGTTTCGTCAAA & mixdicodons\\_AGTTTC\\_GTCAAA\\_1     \\\\\n",
       "\t 107p10 & didi\\_mrna\\_2 &  34 & 77144 & 1 &  91 & mrna & didi\\_linkage\\_2 & 4 & mrna & 2 & AGTTTCAGTTTCAGTTTCTCCGGCTCCGGCTCCGGCTCCGGCTCCGGC & varydicodonrepeatlength\\_AGTTTC\\_3\\\\\n",
       "\t 107p10 & didi\\_mrna\\_2 &   5 & 77168 & 1 &  91 & mrna & didi\\_linkage\\_2 & 4 & mrna & 2 & AAGATCAAGATCAAGATCAAGATCAAGATCAAGATCTCCGGCTCCGGC & varydicodonrepeatlength\\_AAGATC\\_6\\\\\n",
       "\t 107p10 & didi\\_mrna\\_2 & 178 & 77185 & 1 &  92 & mrna & didi\\_linkage\\_2 & 4 & mrna & 2 & AAAGTCAAAGTCAAAGTCAAAGTCCGCCATCGCCATCGCCATCGCCAT & mixdicodons\\_AAAGTC\\_CGCCAT\\_4     \\\\\n",
       "\t 107p10 & didi\\_mrna\\_2 & 270 & 77187 & 1 &  92 & mrna & didi\\_linkage\\_2 & 4 & mrna & 2 & TCCAAGTTCAAGTTCTCCAAGTTCAAGTTCTCCAAGTTCAAGTTCTCC & reorderdicodon\\_AAGTTC\\_2         \\\\\n",
       "\t 107p10 & didi\\_mrna\\_2 &  14 & 77196 & 1 &  93 & mrna & didi\\_linkage\\_2 & 4 & mrna & 2 & AAGTTCAAGTTCAAGTTCAAGTTCAAGTTCAAGTTCAAGTTCTCCGGC & varydicodonrepeatlength\\_AAGTTC\\_7\\\\\n",
       "\t 107p10 & didi\\_mrna\\_2 & 237 & 77199 & 1 &  93 & mrna & didi\\_linkage\\_2 & 4 & mrna & 2 & GTCAAAGTCAAACATCGCCATCGCGTCAAAGTCAAACATCGCCATCGC & mixdicodons\\_GTCAAA\\_CATCGC\\_2     \\\\\n",
       "\t 107p10 & didi\\_mrna\\_2 & 123 & 77206 & 1 &  93 & mrna & didi\\_linkage\\_2 & 4 & mrna & 2 & GTCAAAGTCAAAGTCAAAGTCAAATCCGGCTCCGGCTCCGGCTCCGGC & varydicodonrepeatlength\\_GTCAAA\\_4\\\\\n",
       "\t 107p10 & didi\\_mrna\\_2 & 124 & 77207 & 1 &  93 & mrna & didi\\_linkage\\_2 & 4 & mrna & 2 & GTCAAAGTCAAAGTCAAAGTCAAAGTCAAATCCGGCTCCGGCTCCGGC & varydicodonrepeatlength\\_GTCAAA\\_5\\\\\n",
       "\t 107p10 & didi\\_mrna\\_2 & 183 & 77208 & 1 &  93 & mrna & didi\\_linkage\\_2 & 4 & mrna & 2 & AAAGTCAAAGTCTTCAGTTTCAGTAAAGTCAAAGTCTTCAGTTTCAGT & mixdicodons\\_AAAGTC\\_TTCAGT\\_2     \\\\\n",
       "\t 107p10 & didi\\_mrna\\_2 & 204 & 77221 & 1 &  94 & mrna & didi\\_linkage\\_2 & 4 & mrna & 2 & CATCGCCATCGCAGTTTCAGTTTCCATCGCCATCGCAGTTTCAGTTTC & mixdicodons\\_CATCGC\\_AGTTTC\\_2     \\\\\n",
       "\t 107p10 & didi\\_mrna\\_2 & 306 & 77223 & 1 &  94 & mrna & didi\\_linkage\\_2 & 4 & mrna & 2 & TCCTACAAGTACAAGTCCTACAAGTACAAGTCCTACAAGTACAAGTCC & reorderdicodon\\_TACAAG\\_2         \\\\\n",
       "\t 107p10 & didi\\_mrna\\_2 & 241 & 77261 & 1 &  96 & mrna & didi\\_linkage\\_2 & 4 & mrna & 2 & GTCAAAGTCAAAGTCAAAGTCAAACGCCATCGCCATCGCCATCGCCAT & mixdicodons\\_GTCAAA\\_CGCCAT\\_4     \\\\\n",
       "\t 107p10 & didi\\_mrna\\_2 &  33 & 77291 & 1 &  97 & mrna & didi\\_linkage\\_2 & 4 & mrna & 2 & AGTTTCAGTTTCTCCGGCTCCGGCTCCGGCTCCGGCTCCGGCTCCGGC & varydicodonrepeatlength\\_AGTTTC\\_2\\\\\n",
       "\t 107p10 & didi\\_mrna\\_2 & 244 & 77296 & 1 &  98 & mrna & didi\\_linkage\\_2 & 4 & mrna & 2 & GTCAAAGTCAAAGTCAAAGTCAAATTCAGTTTCAGTTTCAGTTTCAGT & mixdicodons\\_GTCAAA\\_TTCAGT\\_4     \\\\\n",
       "\t 107p10 & didi\\_mrna\\_2 & 170 & 77337 & 1 & 100 & mrna & didi\\_linkage\\_2 & 4 & mrna & 2 & AAAGTCAGTTTCAAAGTCAGTTTCAAAGTCAGTTTCAAAGTCAGTTTC & mixdicodons\\_AAAGTC\\_AGTTTC\\_1     \\\\\n",
       "\t 107p10 & didi\\_mrna\\_2 & 266 & 77360 & 1 & 102 & mrna & didi\\_linkage\\_2 & 4 & mrna & 2 & TCCAAGTACTCCAAGTACTCCAAGTACTCCAAGTACTCCAAGTACTCC & reorderdicodon\\_AAGTAC\\_1         \\\\\n",
       "\t 107p10 & didi\\_mrna\\_2 & 270 & 77405 & 1 & 106 & mrna & didi\\_linkage\\_2 & 4 & mrna & 2 & TCCAAGTTCAAGTTCTCCAAGTTCAAGTTCTCCAAGTTCAAGTTCTCC & reorderdicodon\\_AAGTTC\\_2         \\\\\n",
       "\t 107p10 & didi\\_mrna\\_2 &   4 & 77424 & 1 & 108 & mrna & didi\\_linkage\\_2 & 4 & mrna & 2 & AAGATCAAGATCAAGATCAAGATCAAGATCTCCGGCTCCGGCTCCGGC & varydicodonrepeatlength\\_AAGATC\\_5\\\\\n",
       "\t 107p10 & didi\\_mrna\\_2 & 304 & 77466 & 1 & 114 & mrna & didi\\_linkage\\_2 & 4 & mrna & 2 & TCCGTCAAAGTCAAAGTCAAATCCTCCGTCAAAGTCAAAGTCAAATCC & reorderdicodon\\_GTCAAA\\_3         \\\\\n",
       "\t 107p10 & didi\\_mrna\\_2 & 294 & 77478 & 1 & 117 & mrna & didi\\_linkage\\_2 & 4 & mrna & 2 & TCCCTCGGACTCGGATCCCTCGGACTCGGATCCCTCGGACTCGGATCC & reorderdicodon\\_CTCGGA\\_2         \\\\\n",
       "\t 107p10 & didi\\_mrna\\_2 & 204 & 77484 & 1 & 118 & mrna & didi\\_linkage\\_2 & 4 & mrna & 2 & CATCGCCATCGCAGTTTCAGTTTCCATCGCCATCGCAGTTTCAGTTTC & mixdicodons\\_CATCGC\\_AGTTTC\\_2     \\\\\n",
       "\t 107p10 & didi\\_mrna\\_2 & 242 & 77526 & 1 & 131 & mrna & didi\\_linkage\\_2 & 4 & mrna & 2 & GTCAAATTCAGTGTCAAATTCAGTGTCAAATTCAGTGTCAAATTCAGT & mixdicodons\\_GTCAAA\\_TTCAGT\\_1     \\\\\n",
       "\t 107p10 & didi\\_mrna\\_2 & 242 & 77532 & 1 & 133 & mrna & didi\\_linkage\\_2 & 4 & mrna & 2 & GTCAAATTCAGTGTCAAATTCAGTGTCAAATTCAGTGTCAAATTCAGT & mixdicodons\\_GTCAAA\\_TTCAGT\\_1     \\\\\n",
       "\t 107p10 & didi\\_mrna\\_2 & 143 & 77559 & 1 & 159 & mrna & didi\\_linkage\\_2 & 4 & mrna & 2 & TACAAGTACAAGTACAAGTACAAGTACAAGTACAAGTACAAGTACAAG & varydicodonrepeatlength\\_TACAAG\\_8\\\\\n",
       "\t 107p10 & didi\\_mrna\\_2 & 279 & 77561 & 1 & 171 & mrna & didi\\_linkage\\_2 & 4 & mrna & 2 & TCCATCAAGATCAAGTCCATCAAGATCAAGTCCATCAAGATCAAGTCC & reorderdicodon\\_ATCAAG\\_2         \\\\\n",
       "\\end{tabular}\n"
      ],
      "text/markdown": [
       "\n",
       "A spec_tbl_df: 84782 × 13\n",
       "\n",
       "| sample_id &lt;chr&gt; | sample_name &lt;chr&gt; | insert_num &lt;dbl&gt; | barcode_num &lt;dbl&gt; | barcode_count &lt;dbl&gt; | linkage_count &lt;dbl&gt; | library_type &lt;chr&gt; | linkage_ref &lt;chr&gt; | sample_num &lt;dbl&gt; | sample_type &lt;chr&gt; | replicate &lt;dbl&gt; | seq &lt;chr&gt; | insert_name &lt;chr&gt; |\n",
       "|---|---|---|---|---|---|---|---|---|---|---|---|---|\n",
       "| 107p7 | didi_grna_1 |  86 | 47695 | 4582 |  26 | grna | didi_linkage_1 | 1 | grna | 1 | CGTGAACGTGAACGTGAACGTGAACGTGAACGTGAACGTGAATCCGGC | varydicodonrepeatlength_CGTGAA_7 |\n",
       "| 107p7 | didi_grna_1 |  22 | 17334 | 4086 |   6 | grna | didi_linkage_1 | 1 | grna | 1 | AGAGAGAGAGAGAGAGAGAGAGAGAGAGAGAGAGAGAGAGAGTCCGGC | varydicodonrepeatlength_AGAGAG_7 |\n",
       "| 107p7 | didi_grna_1 | 172 |  6711 | 4078 |   1 | grna | didi_linkage_1 | 1 | grna | 1 | AAAGTCAAAGTCAAAGTCAAAGTCAGTTTCAGTTTCAGTTTCAGTTTC | mixdicodons_AAAGTC_AGTTTC_4      |\n",
       "| 107p7 | didi_grna_1 |  20 |  5501 | 4068 |   1 | grna | didi_linkage_1 | 1 | grna | 1 | AGAGAGAGAGAGAGAGAGAGAGAGAGAGAGTCCGGCTCCGGCTCCGGC | varydicodonrepeatlength_AGAGAG_5 |\n",
       "| 107p7 | didi_grna_1 | 275 |  2109 | 3889 |   1 | grna | didi_linkage_1 | 1 | grna | 1 | TCCAGTTTCTCCAGTTTCTCCAGTTTCTCCAGTTTCTCCAGTTTCTCC | reorderdicodon_AGTTTC_1          |\n",
       "| 107p7 | didi_grna_1 |  54 | 46374 | 3821 |  25 | grna | didi_linkage_1 | 1 | grna | 1 | ATGATGATGATGATGATGATGATGATGATGATGATGATGATGTCCGGC | varydicodonrepeatlength_ATGATG_7 |\n",
       "| 107p7 | didi_grna_1 | 150 | 49997 | 3797 |  29 | grna | didi_linkage_1 | 1 | grna | 1 | TTGATGTTGATGTTGATGTTGATGTTGATGTTGATGTTGATGTCCGGC | varydicodonrepeatlength_TTGATG_7 |\n",
       "| 107p7 | didi_grna_1 | 236 |  1823 | 3785 |   1 | grna | didi_linkage_1 | 1 | grna | 1 | GTCAAACATCGCGTCAAACATCGCGTCAAACATCGCGTCAAACATCGC | mixdicodons_GTCAAA_CATCGC_1      |\n",
       "| 107p7 | didi_grna_1 |  90 | 41296 | 3778 |  20 | grna | didi_linkage_1 | 1 | grna | 1 | CTCATACTCATACTCATATCCGGCTCCGGCTCCGGCTCCGGCTCCGGC | varydicodonrepeatlength_CTCATA_3 |\n",
       "| 107p7 | didi_grna_1 | 227 | 26592 | 3694 |  11 | grna | didi_linkage_1 | 1 | grna | 1 | CGCCATTTCAGTCGCCATTTCAGTCGCCATTTCAGTCGCCATTTCAGT | mixdicodons_CGCCAT_TTCAGT_1      |\n",
       "| 107p7 | didi_grna_1 |  85 | 59591 | 3587 |  68 | grna | didi_linkage_1 | 1 | grna | 1 | CGTGAACGTGAACGTGAACGTGAACGTGAACGTGAATCCGGCTCCGGC | varydicodonrepeatlength_CGTGAA_6 |\n",
       "| 107p7 | didi_grna_1 |  35 | 58816 | 3429 |  56 | grna | didi_linkage_1 | 1 | grna | 1 | AGTTTCAGTTTCAGTTTCAGTTTCTCCGGCTCCGGCTCCGGCTCCGGC | varydicodonrepeatlength_AGTTTC_4 |\n",
       "| 107p7 | didi_grna_1 | 218 | 59966 | 3412 | 178 | grna | didi_linkage_1 | 1 | grna | 1 | CGCCATAGTTTCCGCCATAGTTTCCGCCATAGTTTCCGCCATAGTTTC | mixdicodons_CGCCAT_AGTTTC_1      |\n",
       "| 107p7 | didi_grna_1 | 165 | 42634 | 3393 |  21 | grna | didi_linkage_1 | 1 | grna | 1 | TTTTGTTTTTGTTTTTGTTTTTGTTTTTGTTTTTGTTCCGGCTCCGGC | varydicodonrepeatlength_TTTTGT_6 |\n",
       "| 107p7 | didi_grna_1 | 118 | 21373 | 3121 |   8 | grna | didi_linkage_1 | 1 | grna | 1 | CTTATCCTTATCCTTATCCTTATCCTTATCCTTATCCTTATCTCCGGC | varydicodonrepeatlength_CTTATC_7 |\n",
       "| 107p7 | didi_grna_1 |  64 | 28279 | 3114 |  12 | grna | didi_linkage_1 | 1 | grna | 1 | CGCCATTCCGGCTCCGGCTCCGGCTCCGGCTCCGGCTCCGGCTCCGGC | varydicodonrepeatlength_CGCCAT_1 |\n",
       "| 107p7 | didi_grna_1 |  23 | 49127 | 2949 |  28 | grna | didi_linkage_1 | 1 | grna | 1 | AGAGAGAGAGAGAGAGAGAGAGAGAGAGAGAGAGAGAGAGAGAGAGAG | varydicodonrepeatlength_AGAGAG_8 |\n",
       "| 107p7 | didi_grna_1 |  22 | 17521 | 2921 |   6 | grna | didi_linkage_1 | 1 | grna | 1 | AGAGAGAGAGAGAGAGAGAGAGAGAGAGAGAGAGAGAGAGAGTCCGGC | varydicodonrepeatlength_AGAGAG_7 |\n",
       "| 107p7 | didi_grna_1 |  23 | 48461 | 2844 |  27 | grna | didi_linkage_1 | 1 | grna | 1 | AGAGAGAGAGAGAGAGAGAGAGAGAGAGAGAGAGAGAGAGAGAGAGAG | varydicodonrepeatlength_AGAGAG_8 |\n",
       "| 107p7 | didi_grna_1 |  74 |  4880 | 2834 |   1 | grna | didi_linkage_1 | 1 | grna | 1 | CGCTTCCGCTTCCGCTTCTCCGGCTCCGGCTCCGGCTCCGGCTCCGGC | varydicodonrepeatlength_CGCTTC_3 |\n",
       "| 107p7 | didi_grna_1 | 273 | 57968 | 2821 |  49 | grna | didi_linkage_1 | 1 | grna | 1 | TCCAGAGAGAGAGAGTCCAGAGAGAGAGAGTCCAGAGAGAGAGAGTCC | reorderdicodon_AGAGAG_2          |\n",
       "| 107p7 | didi_grna_1 | 249 | 44282 | 2765 |  23 | grna | didi_linkage_1 | 1 | grna | 1 | TTCAGTTTCAGTAGTTTCAGTTTCTTCAGTTTCAGTAGTTTCAGTTTC | mixdicodons_TTCAGT_AGTTTC_2      |\n",
       "| 107p7 | didi_grna_1 |  23 | 27458 | 2759 |  11 | grna | didi_linkage_1 | 1 | grna | 1 | AGAGAGAGAGAGAGAGAGAGAGAGAGAGAGAGAGAGAGAGAGAGAGAG | varydicodonrepeatlength_AGAGAG_8 |\n",
       "| 107p7 | didi_grna_1 | 219 | 55793 | 2758 |  41 | grna | didi_linkage_1 | 1 | grna | 1 | CGCCATCGCCATAGTTTCAGTTTCCGCCATCGCCATAGTTTCAGTTTC | mixdicodons_CGCCAT_AGTTTC_2      |\n",
       "| 107p7 | didi_grna_1 |  34 | 48967 | 2694 |  28 | grna | didi_linkage_1 | 1 | grna | 1 | AGTTTCAGTTTCAGTTTCTCCGGCTCCGGCTCCGGCTCCGGCTCCGGC | varydicodonrepeatlength_AGTTTC_3 |\n",
       "| 107p7 | didi_grna_1 | 189 | 46020 | 2618 |  25 | grna | didi_linkage_1 | 1 | grna | 1 | AGTTTCAGTTTCCATCGCCATCGCAGTTTCAGTTTCCATCGCCATCGC | mixdicodons_AGTTTC_CATCGC_2      |\n",
       "| 107p7 | didi_grna_1 | 274 | 54296 | 2596 |  37 | grna | didi_linkage_1 | 1 | grna | 1 | TCCAGAGAGAGAGAGAGAGAGTCCTCCAGAGAGAGAGAGAGAGAGTCC | reorderdicodon_AGAGAG_3          |\n",
       "| 107p7 | didi_grna_1 | 195 | 23649 | 2540 |   9 | grna | didi_linkage_1 | 1 | grna | 1 | AGTTTCAGTTTCGTCAAAGTCAAAAGTTTCAGTTTCGTCAAAGTCAAA | mixdicodons_AGTTTC_GTCAAA_2      |\n",
       "| 107p7 | didi_grna_1 | 230 |   523 | 2513 |   1 | grna | didi_linkage_1 | 1 | grna | 1 | GTCAAAAAAGTCGTCAAAAAAGTCGTCAAAAAAGTCGTCAAAAAAGTC | mixdicodons_GTCAAA_AAAGTC_1      |\n",
       "| 107p7 | didi_grna_1 | 249 |   343 | 2511 |   1 | grna | didi_linkage_1 | 1 | grna | 1 | TTCAGTTTCAGTAGTTTCAGTTTCTTCAGTTTCAGTAGTTTCAGTTTC | mixdicodons_TTCAGT_AGTTTC_2      |\n",
       "| ⋮ | ⋮ | ⋮ | ⋮ | ⋮ | ⋮ | ⋮ | ⋮ | ⋮ | ⋮ | ⋮ | ⋮ | ⋮ |\n",
       "| 107p10 | didi_mrna_2 | 124 | 77098 | 1 |  89 | mrna | didi_linkage_2 | 4 | mrna | 2 | GTCAAAGTCAAAGTCAAAGTCAAAGTCAAATCCGGCTCCGGCTCCGGC | varydicodonrepeatlength_GTCAAA_5 |\n",
       "| 107p10 | didi_mrna_2 | 299 | 77107 | 1 |  89 | mrna | didi_linkage_2 | 4 | mrna | 2 | TCCGGACTCTCCGGACTCTCCGGACTCTCCGGACTCTCCGGACTCTCC | reorderdicodon_GGACTC_1          |\n",
       "| 107p10 | didi_mrna_2 |  38 | 77114 | 1 |  89 | mrna | didi_linkage_2 | 4 | mrna | 2 | AGTTTCAGTTTCAGTTTCAGTTTCAGTTTCAGTTTCAGTTTCTCCGGC | varydicodonrepeatlength_AGTTTC_7 |\n",
       "| 107p10 | didi_mrna_2 | 183 | 77116 | 1 |  89 | mrna | didi_linkage_2 | 4 | mrna | 2 | AAAGTCAAAGTCTTCAGTTTCAGTAAAGTCAAAGTCTTCAGTTTCAGT | mixdicodons_AAAGTC_TTCAGT_2      |\n",
       "| 107p10 | didi_mrna_2 | 194 | 77137 | 1 |  90 | mrna | didi_linkage_2 | 4 | mrna | 2 | AGTTTCGTCAAAAGTTTCGTCAAAAGTTTCGTCAAAAGTTTCGTCAAA | mixdicodons_AGTTTC_GTCAAA_1      |\n",
       "| 107p10 | didi_mrna_2 |  34 | 77144 | 1 |  91 | mrna | didi_linkage_2 | 4 | mrna | 2 | AGTTTCAGTTTCAGTTTCTCCGGCTCCGGCTCCGGCTCCGGCTCCGGC | varydicodonrepeatlength_AGTTTC_3 |\n",
       "| 107p10 | didi_mrna_2 |   5 | 77168 | 1 |  91 | mrna | didi_linkage_2 | 4 | mrna | 2 | AAGATCAAGATCAAGATCAAGATCAAGATCAAGATCTCCGGCTCCGGC | varydicodonrepeatlength_AAGATC_6 |\n",
       "| 107p10 | didi_mrna_2 | 178 | 77185 | 1 |  92 | mrna | didi_linkage_2 | 4 | mrna | 2 | AAAGTCAAAGTCAAAGTCAAAGTCCGCCATCGCCATCGCCATCGCCAT | mixdicodons_AAAGTC_CGCCAT_4      |\n",
       "| 107p10 | didi_mrna_2 | 270 | 77187 | 1 |  92 | mrna | didi_linkage_2 | 4 | mrna | 2 | TCCAAGTTCAAGTTCTCCAAGTTCAAGTTCTCCAAGTTCAAGTTCTCC | reorderdicodon_AAGTTC_2          |\n",
       "| 107p10 | didi_mrna_2 |  14 | 77196 | 1 |  93 | mrna | didi_linkage_2 | 4 | mrna | 2 | AAGTTCAAGTTCAAGTTCAAGTTCAAGTTCAAGTTCAAGTTCTCCGGC | varydicodonrepeatlength_AAGTTC_7 |\n",
       "| 107p10 | didi_mrna_2 | 237 | 77199 | 1 |  93 | mrna | didi_linkage_2 | 4 | mrna | 2 | GTCAAAGTCAAACATCGCCATCGCGTCAAAGTCAAACATCGCCATCGC | mixdicodons_GTCAAA_CATCGC_2      |\n",
       "| 107p10 | didi_mrna_2 | 123 | 77206 | 1 |  93 | mrna | didi_linkage_2 | 4 | mrna | 2 | GTCAAAGTCAAAGTCAAAGTCAAATCCGGCTCCGGCTCCGGCTCCGGC | varydicodonrepeatlength_GTCAAA_4 |\n",
       "| 107p10 | didi_mrna_2 | 124 | 77207 | 1 |  93 | mrna | didi_linkage_2 | 4 | mrna | 2 | GTCAAAGTCAAAGTCAAAGTCAAAGTCAAATCCGGCTCCGGCTCCGGC | varydicodonrepeatlength_GTCAAA_5 |\n",
       "| 107p10 | didi_mrna_2 | 183 | 77208 | 1 |  93 | mrna | didi_linkage_2 | 4 | mrna | 2 | AAAGTCAAAGTCTTCAGTTTCAGTAAAGTCAAAGTCTTCAGTTTCAGT | mixdicodons_AAAGTC_TTCAGT_2      |\n",
       "| 107p10 | didi_mrna_2 | 204 | 77221 | 1 |  94 | mrna | didi_linkage_2 | 4 | mrna | 2 | CATCGCCATCGCAGTTTCAGTTTCCATCGCCATCGCAGTTTCAGTTTC | mixdicodons_CATCGC_AGTTTC_2      |\n",
       "| 107p10 | didi_mrna_2 | 306 | 77223 | 1 |  94 | mrna | didi_linkage_2 | 4 | mrna | 2 | TCCTACAAGTACAAGTCCTACAAGTACAAGTCCTACAAGTACAAGTCC | reorderdicodon_TACAAG_2          |\n",
       "| 107p10 | didi_mrna_2 | 241 | 77261 | 1 |  96 | mrna | didi_linkage_2 | 4 | mrna | 2 | GTCAAAGTCAAAGTCAAAGTCAAACGCCATCGCCATCGCCATCGCCAT | mixdicodons_GTCAAA_CGCCAT_4      |\n",
       "| 107p10 | didi_mrna_2 |  33 | 77291 | 1 |  97 | mrna | didi_linkage_2 | 4 | mrna | 2 | AGTTTCAGTTTCTCCGGCTCCGGCTCCGGCTCCGGCTCCGGCTCCGGC | varydicodonrepeatlength_AGTTTC_2 |\n",
       "| 107p10 | didi_mrna_2 | 244 | 77296 | 1 |  98 | mrna | didi_linkage_2 | 4 | mrna | 2 | GTCAAAGTCAAAGTCAAAGTCAAATTCAGTTTCAGTTTCAGTTTCAGT | mixdicodons_GTCAAA_TTCAGT_4      |\n",
       "| 107p10 | didi_mrna_2 | 170 | 77337 | 1 | 100 | mrna | didi_linkage_2 | 4 | mrna | 2 | AAAGTCAGTTTCAAAGTCAGTTTCAAAGTCAGTTTCAAAGTCAGTTTC | mixdicodons_AAAGTC_AGTTTC_1      |\n",
       "| 107p10 | didi_mrna_2 | 266 | 77360 | 1 | 102 | mrna | didi_linkage_2 | 4 | mrna | 2 | TCCAAGTACTCCAAGTACTCCAAGTACTCCAAGTACTCCAAGTACTCC | reorderdicodon_AAGTAC_1          |\n",
       "| 107p10 | didi_mrna_2 | 270 | 77405 | 1 | 106 | mrna | didi_linkage_2 | 4 | mrna | 2 | TCCAAGTTCAAGTTCTCCAAGTTCAAGTTCTCCAAGTTCAAGTTCTCC | reorderdicodon_AAGTTC_2          |\n",
       "| 107p10 | didi_mrna_2 |   4 | 77424 | 1 | 108 | mrna | didi_linkage_2 | 4 | mrna | 2 | AAGATCAAGATCAAGATCAAGATCAAGATCTCCGGCTCCGGCTCCGGC | varydicodonrepeatlength_AAGATC_5 |\n",
       "| 107p10 | didi_mrna_2 | 304 | 77466 | 1 | 114 | mrna | didi_linkage_2 | 4 | mrna | 2 | TCCGTCAAAGTCAAAGTCAAATCCTCCGTCAAAGTCAAAGTCAAATCC | reorderdicodon_GTCAAA_3          |\n",
       "| 107p10 | didi_mrna_2 | 294 | 77478 | 1 | 117 | mrna | didi_linkage_2 | 4 | mrna | 2 | TCCCTCGGACTCGGATCCCTCGGACTCGGATCCCTCGGACTCGGATCC | reorderdicodon_CTCGGA_2          |\n",
       "| 107p10 | didi_mrna_2 | 204 | 77484 | 1 | 118 | mrna | didi_linkage_2 | 4 | mrna | 2 | CATCGCCATCGCAGTTTCAGTTTCCATCGCCATCGCAGTTTCAGTTTC | mixdicodons_CATCGC_AGTTTC_2      |\n",
       "| 107p10 | didi_mrna_2 | 242 | 77526 | 1 | 131 | mrna | didi_linkage_2 | 4 | mrna | 2 | GTCAAATTCAGTGTCAAATTCAGTGTCAAATTCAGTGTCAAATTCAGT | mixdicodons_GTCAAA_TTCAGT_1      |\n",
       "| 107p10 | didi_mrna_2 | 242 | 77532 | 1 | 133 | mrna | didi_linkage_2 | 4 | mrna | 2 | GTCAAATTCAGTGTCAAATTCAGTGTCAAATTCAGTGTCAAATTCAGT | mixdicodons_GTCAAA_TTCAGT_1      |\n",
       "| 107p10 | didi_mrna_2 | 143 | 77559 | 1 | 159 | mrna | didi_linkage_2 | 4 | mrna | 2 | TACAAGTACAAGTACAAGTACAAGTACAAGTACAAGTACAAGTACAAG | varydicodonrepeatlength_TACAAG_8 |\n",
       "| 107p10 | didi_mrna_2 | 279 | 77561 | 1 | 171 | mrna | didi_linkage_2 | 4 | mrna | 2 | TCCATCAAGATCAAGTCCATCAAGATCAAGTCCATCAAGATCAAGTCC | reorderdicodon_ATCAAG_2          |\n",
       "\n"
      ],
      "text/plain": [
       "      sample_id sample_name insert_num barcode_num barcode_count linkage_count\n",
       "1     107p7     didi_grna_1  86        47695       4582           26          \n",
       "2     107p7     didi_grna_1  22        17334       4086            6          \n",
       "3     107p7     didi_grna_1 172         6711       4078            1          \n",
       "4     107p7     didi_grna_1  20         5501       4068            1          \n",
       "5     107p7     didi_grna_1 275         2109       3889            1          \n",
       "6     107p7     didi_grna_1  54        46374       3821           25          \n",
       "7     107p7     didi_grna_1 150        49997       3797           29          \n",
       "8     107p7     didi_grna_1 236         1823       3785            1          \n",
       "9     107p7     didi_grna_1  90        41296       3778           20          \n",
       "10    107p7     didi_grna_1 227        26592       3694           11          \n",
       "11    107p7     didi_grna_1  85        59591       3587           68          \n",
       "12    107p7     didi_grna_1  35        58816       3429           56          \n",
       "13    107p7     didi_grna_1 218        59966       3412          178          \n",
       "14    107p7     didi_grna_1 165        42634       3393           21          \n",
       "15    107p7     didi_grna_1 118        21373       3121            8          \n",
       "16    107p7     didi_grna_1  64        28279       3114           12          \n",
       "17    107p7     didi_grna_1  23        49127       2949           28          \n",
       "18    107p7     didi_grna_1  22        17521       2921            6          \n",
       "19    107p7     didi_grna_1  23        48461       2844           27          \n",
       "20    107p7     didi_grna_1  74         4880       2834            1          \n",
       "21    107p7     didi_grna_1 273        57968       2821           49          \n",
       "22    107p7     didi_grna_1 249        44282       2765           23          \n",
       "23    107p7     didi_grna_1  23        27458       2759           11          \n",
       "24    107p7     didi_grna_1 219        55793       2758           41          \n",
       "25    107p7     didi_grna_1  34        48967       2694           28          \n",
       "26    107p7     didi_grna_1 189        46020       2618           25          \n",
       "27    107p7     didi_grna_1 274        54296       2596           37          \n",
       "28    107p7     didi_grna_1 195        23649       2540            9          \n",
       "29    107p7     didi_grna_1 230          523       2513            1          \n",
       "30    107p7     didi_grna_1 249          343       2511            1          \n",
       "⋮     ⋮         ⋮           ⋮          ⋮           ⋮             ⋮            \n",
       "84753 107p10    didi_mrna_2 124        77098       1              89          \n",
       "84754 107p10    didi_mrna_2 299        77107       1              89          \n",
       "84755 107p10    didi_mrna_2  38        77114       1              89          \n",
       "84756 107p10    didi_mrna_2 183        77116       1              89          \n",
       "84757 107p10    didi_mrna_2 194        77137       1              90          \n",
       "84758 107p10    didi_mrna_2  34        77144       1              91          \n",
       "84759 107p10    didi_mrna_2   5        77168       1              91          \n",
       "84760 107p10    didi_mrna_2 178        77185       1              92          \n",
       "84761 107p10    didi_mrna_2 270        77187       1              92          \n",
       "84762 107p10    didi_mrna_2  14        77196       1              93          \n",
       "84763 107p10    didi_mrna_2 237        77199       1              93          \n",
       "84764 107p10    didi_mrna_2 123        77206       1              93          \n",
       "84765 107p10    didi_mrna_2 124        77207       1              93          \n",
       "84766 107p10    didi_mrna_2 183        77208       1              93          \n",
       "84767 107p10    didi_mrna_2 204        77221       1              94          \n",
       "84768 107p10    didi_mrna_2 306        77223       1              94          \n",
       "84769 107p10    didi_mrna_2 241        77261       1              96          \n",
       "84770 107p10    didi_mrna_2  33        77291       1              97          \n",
       "84771 107p10    didi_mrna_2 244        77296       1              98          \n",
       "84772 107p10    didi_mrna_2 170        77337       1             100          \n",
       "84773 107p10    didi_mrna_2 266        77360       1             102          \n",
       "84774 107p10    didi_mrna_2 270        77405       1             106          \n",
       "84775 107p10    didi_mrna_2   4        77424       1             108          \n",
       "84776 107p10    didi_mrna_2 304        77466       1             114          \n",
       "84777 107p10    didi_mrna_2 294        77478       1             117          \n",
       "84778 107p10    didi_mrna_2 204        77484       1             118          \n",
       "84779 107p10    didi_mrna_2 242        77526       1             131          \n",
       "84780 107p10    didi_mrna_2 242        77532       1             133          \n",
       "84781 107p10    didi_mrna_2 143        77559       1             159          \n",
       "84782 107p10    didi_mrna_2 279        77561       1             171          \n",
       "      library_type linkage_ref    sample_num sample_type replicate\n",
       "1     grna         didi_linkage_1 1          grna        1        \n",
       "2     grna         didi_linkage_1 1          grna        1        \n",
       "3     grna         didi_linkage_1 1          grna        1        \n",
       "4     grna         didi_linkage_1 1          grna        1        \n",
       "5     grna         didi_linkage_1 1          grna        1        \n",
       "6     grna         didi_linkage_1 1          grna        1        \n",
       "7     grna         didi_linkage_1 1          grna        1        \n",
       "8     grna         didi_linkage_1 1          grna        1        \n",
       "9     grna         didi_linkage_1 1          grna        1        \n",
       "10    grna         didi_linkage_1 1          grna        1        \n",
       "11    grna         didi_linkage_1 1          grna        1        \n",
       "12    grna         didi_linkage_1 1          grna        1        \n",
       "13    grna         didi_linkage_1 1          grna        1        \n",
       "14    grna         didi_linkage_1 1          grna        1        \n",
       "15    grna         didi_linkage_1 1          grna        1        \n",
       "16    grna         didi_linkage_1 1          grna        1        \n",
       "17    grna         didi_linkage_1 1          grna        1        \n",
       "18    grna         didi_linkage_1 1          grna        1        \n",
       "19    grna         didi_linkage_1 1          grna        1        \n",
       "20    grna         didi_linkage_1 1          grna        1        \n",
       "21    grna         didi_linkage_1 1          grna        1        \n",
       "22    grna         didi_linkage_1 1          grna        1        \n",
       "23    grna         didi_linkage_1 1          grna        1        \n",
       "24    grna         didi_linkage_1 1          grna        1        \n",
       "25    grna         didi_linkage_1 1          grna        1        \n",
       "26    grna         didi_linkage_1 1          grna        1        \n",
       "27    grna         didi_linkage_1 1          grna        1        \n",
       "28    grna         didi_linkage_1 1          grna        1        \n",
       "29    grna         didi_linkage_1 1          grna        1        \n",
       "30    grna         didi_linkage_1 1          grna        1        \n",
       "⋮     ⋮            ⋮              ⋮          ⋮           ⋮        \n",
       "84753 mrna         didi_linkage_2 4          mrna        2        \n",
       "84754 mrna         didi_linkage_2 4          mrna        2        \n",
       "84755 mrna         didi_linkage_2 4          mrna        2        \n",
       "84756 mrna         didi_linkage_2 4          mrna        2        \n",
       "84757 mrna         didi_linkage_2 4          mrna        2        \n",
       "84758 mrna         didi_linkage_2 4          mrna        2        \n",
       "84759 mrna         didi_linkage_2 4          mrna        2        \n",
       "84760 mrna         didi_linkage_2 4          mrna        2        \n",
       "84761 mrna         didi_linkage_2 4          mrna        2        \n",
       "84762 mrna         didi_linkage_2 4          mrna        2        \n",
       "84763 mrna         didi_linkage_2 4          mrna        2        \n",
       "84764 mrna         didi_linkage_2 4          mrna        2        \n",
       "84765 mrna         didi_linkage_2 4          mrna        2        \n",
       "84766 mrna         didi_linkage_2 4          mrna        2        \n",
       "84767 mrna         didi_linkage_2 4          mrna        2        \n",
       "84768 mrna         didi_linkage_2 4          mrna        2        \n",
       "84769 mrna         didi_linkage_2 4          mrna        2        \n",
       "84770 mrna         didi_linkage_2 4          mrna        2        \n",
       "84771 mrna         didi_linkage_2 4          mrna        2        \n",
       "84772 mrna         didi_linkage_2 4          mrna        2        \n",
       "84773 mrna         didi_linkage_2 4          mrna        2        \n",
       "84774 mrna         didi_linkage_2 4          mrna        2        \n",
       "84775 mrna         didi_linkage_2 4          mrna        2        \n",
       "84776 mrna         didi_linkage_2 4          mrna        2        \n",
       "84777 mrna         didi_linkage_2 4          mrna        2        \n",
       "84778 mrna         didi_linkage_2 4          mrna        2        \n",
       "84779 mrna         didi_linkage_2 4          mrna        2        \n",
       "84780 mrna         didi_linkage_2 4          mrna        2        \n",
       "84781 mrna         didi_linkage_2 4          mrna        2        \n",
       "84782 mrna         didi_linkage_2 4          mrna        2        \n",
       "      seq                                             \n",
       "1     CGTGAACGTGAACGTGAACGTGAACGTGAACGTGAACGTGAATCCGGC\n",
       "2     AGAGAGAGAGAGAGAGAGAGAGAGAGAGAGAGAGAGAGAGAGTCCGGC\n",
       "3     AAAGTCAAAGTCAAAGTCAAAGTCAGTTTCAGTTTCAGTTTCAGTTTC\n",
       "4     AGAGAGAGAGAGAGAGAGAGAGAGAGAGAGTCCGGCTCCGGCTCCGGC\n",
       "5     TCCAGTTTCTCCAGTTTCTCCAGTTTCTCCAGTTTCTCCAGTTTCTCC\n",
       "6     ATGATGATGATGATGATGATGATGATGATGATGATGATGATGTCCGGC\n",
       "7     TTGATGTTGATGTTGATGTTGATGTTGATGTTGATGTTGATGTCCGGC\n",
       "8     GTCAAACATCGCGTCAAACATCGCGTCAAACATCGCGTCAAACATCGC\n",
       "9     CTCATACTCATACTCATATCCGGCTCCGGCTCCGGCTCCGGCTCCGGC\n",
       "10    CGCCATTTCAGTCGCCATTTCAGTCGCCATTTCAGTCGCCATTTCAGT\n",
       "11    CGTGAACGTGAACGTGAACGTGAACGTGAACGTGAATCCGGCTCCGGC\n",
       "12    AGTTTCAGTTTCAGTTTCAGTTTCTCCGGCTCCGGCTCCGGCTCCGGC\n",
       "13    CGCCATAGTTTCCGCCATAGTTTCCGCCATAGTTTCCGCCATAGTTTC\n",
       "14    TTTTGTTTTTGTTTTTGTTTTTGTTTTTGTTTTTGTTCCGGCTCCGGC\n",
       "15    CTTATCCTTATCCTTATCCTTATCCTTATCCTTATCCTTATCTCCGGC\n",
       "16    CGCCATTCCGGCTCCGGCTCCGGCTCCGGCTCCGGCTCCGGCTCCGGC\n",
       "17    AGAGAGAGAGAGAGAGAGAGAGAGAGAGAGAGAGAGAGAGAGAGAGAG\n",
       "18    AGAGAGAGAGAGAGAGAGAGAGAGAGAGAGAGAGAGAGAGAGTCCGGC\n",
       "19    AGAGAGAGAGAGAGAGAGAGAGAGAGAGAGAGAGAGAGAGAGAGAGAG\n",
       "20    CGCTTCCGCTTCCGCTTCTCCGGCTCCGGCTCCGGCTCCGGCTCCGGC\n",
       "21    TCCAGAGAGAGAGAGTCCAGAGAGAGAGAGTCCAGAGAGAGAGAGTCC\n",
       "22    TTCAGTTTCAGTAGTTTCAGTTTCTTCAGTTTCAGTAGTTTCAGTTTC\n",
       "23    AGAGAGAGAGAGAGAGAGAGAGAGAGAGAGAGAGAGAGAGAGAGAGAG\n",
       "24    CGCCATCGCCATAGTTTCAGTTTCCGCCATCGCCATAGTTTCAGTTTC\n",
       "25    AGTTTCAGTTTCAGTTTCTCCGGCTCCGGCTCCGGCTCCGGCTCCGGC\n",
       "26    AGTTTCAGTTTCCATCGCCATCGCAGTTTCAGTTTCCATCGCCATCGC\n",
       "27    TCCAGAGAGAGAGAGAGAGAGTCCTCCAGAGAGAGAGAGAGAGAGTCC\n",
       "28    AGTTTCAGTTTCGTCAAAGTCAAAAGTTTCAGTTTCGTCAAAGTCAAA\n",
       "29    GTCAAAAAAGTCGTCAAAAAAGTCGTCAAAAAAGTCGTCAAAAAAGTC\n",
       "30    TTCAGTTTCAGTAGTTTCAGTTTCTTCAGTTTCAGTAGTTTCAGTTTC\n",
       "⋮     ⋮                                               \n",
       "84753 GTCAAAGTCAAAGTCAAAGTCAAAGTCAAATCCGGCTCCGGCTCCGGC\n",
       "84754 TCCGGACTCTCCGGACTCTCCGGACTCTCCGGACTCTCCGGACTCTCC\n",
       "84755 AGTTTCAGTTTCAGTTTCAGTTTCAGTTTCAGTTTCAGTTTCTCCGGC\n",
       "84756 AAAGTCAAAGTCTTCAGTTTCAGTAAAGTCAAAGTCTTCAGTTTCAGT\n",
       "84757 AGTTTCGTCAAAAGTTTCGTCAAAAGTTTCGTCAAAAGTTTCGTCAAA\n",
       "84758 AGTTTCAGTTTCAGTTTCTCCGGCTCCGGCTCCGGCTCCGGCTCCGGC\n",
       "84759 AAGATCAAGATCAAGATCAAGATCAAGATCAAGATCTCCGGCTCCGGC\n",
       "84760 AAAGTCAAAGTCAAAGTCAAAGTCCGCCATCGCCATCGCCATCGCCAT\n",
       "84761 TCCAAGTTCAAGTTCTCCAAGTTCAAGTTCTCCAAGTTCAAGTTCTCC\n",
       "84762 AAGTTCAAGTTCAAGTTCAAGTTCAAGTTCAAGTTCAAGTTCTCCGGC\n",
       "84763 GTCAAAGTCAAACATCGCCATCGCGTCAAAGTCAAACATCGCCATCGC\n",
       "84764 GTCAAAGTCAAAGTCAAAGTCAAATCCGGCTCCGGCTCCGGCTCCGGC\n",
       "84765 GTCAAAGTCAAAGTCAAAGTCAAAGTCAAATCCGGCTCCGGCTCCGGC\n",
       "84766 AAAGTCAAAGTCTTCAGTTTCAGTAAAGTCAAAGTCTTCAGTTTCAGT\n",
       "84767 CATCGCCATCGCAGTTTCAGTTTCCATCGCCATCGCAGTTTCAGTTTC\n",
       "84768 TCCTACAAGTACAAGTCCTACAAGTACAAGTCCTACAAGTACAAGTCC\n",
       "84769 GTCAAAGTCAAAGTCAAAGTCAAACGCCATCGCCATCGCCATCGCCAT\n",
       "84770 AGTTTCAGTTTCTCCGGCTCCGGCTCCGGCTCCGGCTCCGGCTCCGGC\n",
       "84771 GTCAAAGTCAAAGTCAAAGTCAAATTCAGTTTCAGTTTCAGTTTCAGT\n",
       "84772 AAAGTCAGTTTCAAAGTCAGTTTCAAAGTCAGTTTCAAAGTCAGTTTC\n",
       "84773 TCCAAGTACTCCAAGTACTCCAAGTACTCCAAGTACTCCAAGTACTCC\n",
       "84774 TCCAAGTTCAAGTTCTCCAAGTTCAAGTTCTCCAAGTTCAAGTTCTCC\n",
       "84775 AAGATCAAGATCAAGATCAAGATCAAGATCTCCGGCTCCGGCTCCGGC\n",
       "84776 TCCGTCAAAGTCAAAGTCAAATCCTCCGTCAAAGTCAAAGTCAAATCC\n",
       "84777 TCCCTCGGACTCGGATCCCTCGGACTCGGATCCCTCGGACTCGGATCC\n",
       "84778 CATCGCCATCGCAGTTTCAGTTTCCATCGCCATCGCAGTTTCAGTTTC\n",
       "84779 GTCAAATTCAGTGTCAAATTCAGTGTCAAATTCAGTGTCAAATTCAGT\n",
       "84780 GTCAAATTCAGTGTCAAATTCAGTGTCAAATTCAGTGTCAAATTCAGT\n",
       "84781 TACAAGTACAAGTACAAGTACAAGTACAAGTACAAGTACAAGTACAAG\n",
       "84782 TCCATCAAGATCAAGTCCATCAAGATCAAGTCCATCAAGATCAAGTCC\n",
       "      insert_name                     \n",
       "1     varydicodonrepeatlength_CGTGAA_7\n",
       "2     varydicodonrepeatlength_AGAGAG_7\n",
       "3     mixdicodons_AAAGTC_AGTTTC_4     \n",
       "4     varydicodonrepeatlength_AGAGAG_5\n",
       "5     reorderdicodon_AGTTTC_1         \n",
       "6     varydicodonrepeatlength_ATGATG_7\n",
       "7     varydicodonrepeatlength_TTGATG_7\n",
       "8     mixdicodons_GTCAAA_CATCGC_1     \n",
       "9     varydicodonrepeatlength_CTCATA_3\n",
       "10    mixdicodons_CGCCAT_TTCAGT_1     \n",
       "11    varydicodonrepeatlength_CGTGAA_6\n",
       "12    varydicodonrepeatlength_AGTTTC_4\n",
       "13    mixdicodons_CGCCAT_AGTTTC_1     \n",
       "14    varydicodonrepeatlength_TTTTGT_6\n",
       "15    varydicodonrepeatlength_CTTATC_7\n",
       "16    varydicodonrepeatlength_CGCCAT_1\n",
       "17    varydicodonrepeatlength_AGAGAG_8\n",
       "18    varydicodonrepeatlength_AGAGAG_7\n",
       "19    varydicodonrepeatlength_AGAGAG_8\n",
       "20    varydicodonrepeatlength_CGCTTC_3\n",
       "21    reorderdicodon_AGAGAG_2         \n",
       "22    mixdicodons_TTCAGT_AGTTTC_2     \n",
       "23    varydicodonrepeatlength_AGAGAG_8\n",
       "24    mixdicodons_CGCCAT_AGTTTC_2     \n",
       "25    varydicodonrepeatlength_AGTTTC_3\n",
       "26    mixdicodons_AGTTTC_CATCGC_2     \n",
       "27    reorderdicodon_AGAGAG_3         \n",
       "28    mixdicodons_AGTTTC_GTCAAA_2     \n",
       "29    mixdicodons_GTCAAA_AAAGTC_1     \n",
       "30    mixdicodons_TTCAGT_AGTTTC_2     \n",
       "⋮     ⋮                               \n",
       "84753 varydicodonrepeatlength_GTCAAA_5\n",
       "84754 reorderdicodon_GGACTC_1         \n",
       "84755 varydicodonrepeatlength_AGTTTC_7\n",
       "84756 mixdicodons_AAAGTC_TTCAGT_2     \n",
       "84757 mixdicodons_AGTTTC_GTCAAA_1     \n",
       "84758 varydicodonrepeatlength_AGTTTC_3\n",
       "84759 varydicodonrepeatlength_AAGATC_6\n",
       "84760 mixdicodons_AAAGTC_CGCCAT_4     \n",
       "84761 reorderdicodon_AAGTTC_2         \n",
       "84762 varydicodonrepeatlength_AAGTTC_7\n",
       "84763 mixdicodons_GTCAAA_CATCGC_2     \n",
       "84764 varydicodonrepeatlength_GTCAAA_4\n",
       "84765 varydicodonrepeatlength_GTCAAA_5\n",
       "84766 mixdicodons_AAAGTC_TTCAGT_2     \n",
       "84767 mixdicodons_CATCGC_AGTTTC_2     \n",
       "84768 reorderdicodon_TACAAG_2         \n",
       "84769 mixdicodons_GTCAAA_CGCCAT_4     \n",
       "84770 varydicodonrepeatlength_AGTTTC_2\n",
       "84771 mixdicodons_GTCAAA_TTCAGT_4     \n",
       "84772 mixdicodons_AAAGTC_AGTTTC_1     \n",
       "84773 reorderdicodon_AAGTAC_1         \n",
       "84774 reorderdicodon_AAGTTC_2         \n",
       "84775 varydicodonrepeatlength_AAGATC_5\n",
       "84776 reorderdicodon_GTCAAA_3         \n",
       "84777 reorderdicodon_CTCGGA_2         \n",
       "84778 mixdicodons_CATCGC_AGTTTC_2     \n",
       "84779 mixdicodons_GTCAAA_TTCAGT_1     \n",
       "84780 mixdicodons_GTCAAA_TTCAGT_1     \n",
       "84781 varydicodonrepeatlength_TACAAG_8\n",
       "84782 reorderdicodon_ATCAAG_2         "
      ]
     },
     "metadata": {},
     "output_type": "display_data"
    }
   ],
   "source": [
    "counts <- barcode_counts %>% \n",
    "  left_join(replicate_annotations, by  = \"sample_name\") %>% \n",
    "  left_join(insert_annotations, by = \"insert_num\") %>% \n",
    "  print()\n",
    "\n",
    "counts"
   ]
  },
  {
   "cell_type": "markdown",
   "metadata": {},
   "source": [
    "### Plot correlation between mRNA and gDNA counts for all inserts in both samples\n"
   ]
  },
  {
   "cell_type": "code",
   "execution_count": 238,
   "metadata": {
    "vscode": {
     "languageId": "r"
    }
   },
   "outputs": [
    {
     "name": "stderr",
     "output_type": "stream",
     "text": [
      "`summarise()` has grouped output by 'insert_num'. You can override using the `.groups` argument.\n"
     ]
    },
    {
     "data": {
      "image/png": "[encoded data removed]",
      "text/plain": [
       "plot without title"
      ]
     },
     "metadata": {
      "image/png": {
       "height": 120,
       "width": 240
      }
     },
     "output_type": "display_data"
    }
   ],
   "source": [
    "options(repr.plot.width=4, repr.plot.height=2)\n",
    "\n",
    "counts %>% \n",
    "  select(barcode_num, sample_type, replicate, barcode_count, insert_num) %>%\n",
    "  pivot_wider(names_from = sample_type, values_from = barcode_count) %>%\n",
    "  drop_na() %>%\n",
    "  filter(grna > 100, mrna > 100) %>% \n",
    "  group_by(insert_num, replicate) %>%\n",
    "  arrange(-(grna + mrna)) %>%\n",
    "  # This selects the number of barcodes for each sample\n",
    "  # slice(1:3) %>%\n",
    "  summarize(grna = sum(grna), mrna = sum(mrna)) %>% \n",
    "  ungroup() %>%\n",
    "  arrange(insert_num, replicate) %>%\n",
    "  ggplot(aes(x = grna, y = mrna)) +\n",
    "  facet_wrap(~ replicate) +\n",
    "  geom_point(alpha = 0.2) +\n",
    "  scale_x_log10() +\n",
    "  scale_y_log10() +\n",
    "  theme_bw()"
   ]
  },
  {
   "cell_type": "markdown",
   "metadata": {},
   "source": [
    "## Function for bootstrap mRNA levels"
   ]
  },
  {
   "cell_type": "code",
   "execution_count": 239,
   "metadata": {
    "vscode": {
     "languageId": "r"
    }
   },
   "outputs": [],
   "source": [
    "calc_lfc_bootstrap <- function(data, indices) {\n",
    "  d <- data[indices,]\n",
    "  log2(sum(d$mrna)) - log2(sum(d$grna))\n",
    "}"
   ]
  },
  {
   "cell_type": "markdown",
   "metadata": {},
   "source": [
    "## Calculate mRNA levels for each insert\n",
    "\n",
    "- Calculate lfc and standard deviation using the bootstrapping function above"
   ]
  },
  {
   "cell_type": "code",
   "execution_count": 240,
   "metadata": {
    "vscode": {
     "languageId": "r"
    }
   },
   "outputs": [
    {
     "name": "stdout",
     "output_type": "stream",
     "text": [
      "\u001b[90m# A tibble: 634 × 4\u001b[39m\n",
      "   replicate insert_num     lfc lfc_sd\n",
      "       \u001b[3m\u001b[90m<dbl>\u001b[39m\u001b[23m      \u001b[3m\u001b[90m<dbl>\u001b[39m\u001b[23m   \u001b[3m\u001b[90m<dbl>\u001b[39m\u001b[23m  \u001b[3m\u001b[90m<dbl>\u001b[39m\u001b[23m\n",
      "\u001b[90m 1\u001b[39m         1         86 -\u001b[31m0\u001b[39m\u001b[31m.\u001b[39m\u001b[31m134\u001b[39m   0.288\n",
      "\u001b[90m 2\u001b[39m         1         22 -\u001b[31m1\u001b[39m\u001b[31m.\u001b[39m\u001b[31m92\u001b[39m    0.329\n",
      "\u001b[90m 3\u001b[39m         1        172 -\u001b[31m1\u001b[39m\u001b[31m.\u001b[39m\u001b[31m96\u001b[39m    0.374\n",
      "\u001b[90m 4\u001b[39m         1         20 -\u001b[31m0\u001b[39m\u001b[31m.\u001b[39m\u001b[31m392\u001b[39m   0.291\n",
      "\u001b[90m 5\u001b[39m         1        275  0.653   0.238\n",
      "\u001b[90m 6\u001b[39m         1         54  0.681   0.407\n",
      "\u001b[90m 7\u001b[39m         1        150  0.841   0.335\n",
      "\u001b[90m 8\u001b[39m         1        236 -\u001b[31m0\u001b[39m\u001b[31m.\u001b[39m\u001b[31m653\u001b[39m   0.401\n",
      "\u001b[90m 9\u001b[39m         1         90 -\u001b[31m0\u001b[39m\u001b[31m.\u001b[39m\u001b[31m162\u001b[39m   0.372\n",
      "\u001b[90m10\u001b[39m         1        227  0.096\u001b[4m9\u001b[24m  0.392\n",
      "\u001b[90m# … with 624 more rows\u001b[39m\n"
     ]
    }
   ],
   "source": [
    "lfc <- counts %>% \n",
    "  select(barcode_num, sample_type, replicate, barcode_count, insert_num) %>%\n",
    "  pivot_wider(names_from = sample_type, values_from = barcode_count) %>%\n",
    "  drop_na() %>%\n",
    "  group_by(insert_num, replicate) %>% \n",
    "  nest() %>% \n",
    "  mutate(lfc_boot = map(data, function(df) boot::boot(data=df, statistic=calc_lfc_bootstrap, R=100)$t)) %>%\n",
    "  select(-data) %>%\n",
    "  mutate(lfc = map_dbl(lfc_boot, mean)) %>%\n",
    "  mutate(lfc_sd = map_dbl(lfc_boot, sd)) %>%\n",
    "  select(-lfc_boot) %>%\n",
    "  group_by(replicate) %>%\n",
    "  mutate(lfc = lfc - median(lfc)) %>%\n",
    "  ungroup() %>%\n",
    "  print()\n"
   ]
  },
  {
   "cell_type": "markdown",
   "metadata": {},
   "source": [
    "\n",
    "## Test read and barcode count cutoffs\n",
    "\n",
    "- Filter for inserts with at least 6 barcodes total and 200 reads total\n",
    "\n",
    "- Log fold change is log2(mRNA/gRNA) (calculated above in the lfc bootstrapp function) and is median-normalized across the full library.\n",
    "\n",
    "- Effects are roughly the same, since individual inserts have deep coverage. Data actually gets a bit nosier after aplying cutoffs, due to replicates having similar effects but slightly different depths. So let's keep the bootstrapping method above for these data, since better biological replicate aggreement is more meaningful than an arbitrary read count cutoffs.  "
   ]
  },
  {
   "cell_type": "code",
   "execution_count": 241,
   "metadata": {
    "vscode": {
     "languageId": "r"
    }
   },
   "outputs": [
    {
     "name": "stderr",
     "output_type": "stream",
     "text": [
      "`summarise()` has grouped output by 'insert_num'. You can override using the `.groups` argument.\n"
     ]
    },
    {
     "name": "stdout",
     "output_type": "stream",
     "text": [
      "\u001b[90m# A tibble: 634 × 9\u001b[39m\n",
      "   insert_num seq    insert_name replicate count_grna count_mrna n_barcodes_grna\n",
      "        \u001b[3m\u001b[90m<dbl>\u001b[39m\u001b[23m \u001b[3m\u001b[90m<chr>\u001b[39m\u001b[23m  \u001b[3m\u001b[90m<chr>\u001b[39m\u001b[23m       \u001b[3m\u001b[90m<chr>\u001b[39m\u001b[23m          \u001b[3m\u001b[90m<dbl>\u001b[39m\u001b[23m      \u001b[3m\u001b[90m<dbl>\u001b[39m\u001b[23m           \u001b[3m\u001b[90m<int>\u001b[39m\u001b[23m\n",
      "\u001b[90m 1\u001b[39m        141 TACAA… varydicodo… 1              \u001b[4m1\u001b[24m\u001b[4m3\u001b[24m253        519              39\n",
      "\u001b[90m 2\u001b[39m        185 AGTTT… mixdicodon… 1              \u001b[4m2\u001b[24m\u001b[4m4\u001b[24m536       \u001b[4m1\u001b[24m115              65\n",
      "\u001b[90m 3\u001b[39m        257 TTCAG… mixdicodon… 1              \u001b[4m2\u001b[24m\u001b[4m2\u001b[24m124       \u001b[4m1\u001b[24m047              58\n",
      "\u001b[90m 4\u001b[39m          7 AAGAT… varydicodo… 1               \u001b[4m9\u001b[24m717        557              37\n",
      "\u001b[90m 5\u001b[39m        170 AAAGT… mixdicodon… 1              \u001b[4m2\u001b[24m\u001b[4m6\u001b[24m785       \u001b[4m1\u001b[24m644              66\n",
      "\u001b[90m 6\u001b[39m         47 ATCAT… varydicodo… 1              \u001b[4m1\u001b[24m\u001b[4m5\u001b[24m803       \u001b[4m1\u001b[24m121              51\n",
      "\u001b[90m 7\u001b[39m         70 CGCCA… varydicodo… 1              \u001b[4m1\u001b[24m\u001b[4m7\u001b[24m969       \u001b[4m1\u001b[24m277              60\n",
      "\u001b[90m 8\u001b[39m        235 GTCAA… mixdicodon… 1              \u001b[4m1\u001b[24m\u001b[4m8\u001b[24m677       \u001b[4m1\u001b[24m361              53\n",
      "\u001b[90m 9\u001b[39m        247 TTCAG… mixdicodon… 2              \u001b[4m1\u001b[24m\u001b[4m4\u001b[24m148       \u001b[4m1\u001b[24m057              51\n",
      "\u001b[90m10\u001b[39m        232 GTCAA… mixdicodon… 1              \u001b[4m1\u001b[24m\u001b[4m7\u001b[24m085       \u001b[4m1\u001b[24m491              53\n",
      "\u001b[90m# … with 624 more rows, and 2 more variables: n_barcodes_mrna <int>, lfc <dbl>\u001b[39m\n"
     ]
    }
   ],
   "source": [
    "cutoff_lfc <- counts %>% \n",
    "  group_by(insert_num, sample_name) %>%\n",
    "  summarize(count = sum(barcode_count), n_barcodes = dplyr::n()) %>%\n",
    "  ungroup() %>%\n",
    "  inner_join(insert_annotations, by = \"insert_num\") %>% \n",
    "  # filter for >6 barcodes >200 total reads \n",
    "  filter(sum(count) >= insert_reads_cutoff, sum(n_barcodes) >= n_barcodes_cutoff) %>%\n",
    "  ungroup() %>% \n",
    "  # Convert sample name to replicate #\n",
    "  mutate(replicate = substring(sample_name, 11))  %>%\n",
    "  # remove \"didi_\" from gRNA and mRNA indicators\n",
    "  mutate(sample_name = substring(sample_name, 6, 9)) %>%\n",
    "  pivot_wider(names_from = sample_name, values_from = c(\"count\", \"n_barcodes\")) %>% \n",
    "  mutate(lfc = log2(count_mrna) - log2(count_grna)) %>% \n",
    "  # median normalize this biaaatch\n",
    "  mutate(lfc = lfc - median(lfc)) %>%\n",
    "  arrange(lfc) %>%\n",
    "  print()  "
   ]
  },
  {
   "cell_type": "markdown",
   "metadata": {},
   "source": [
    "## Compare insert mRNA level effects of the two replicates"
   ]
  },
  {
   "cell_type": "code",
   "execution_count": 242,
   "metadata": {
    "vscode": {
     "languageId": "r"
    }
   },
   "outputs": [
    {
     "name": "stdout",
     "output_type": "stream",
     "text": [
      "\u001b[90m# A tibble: 317 × 3\u001b[39m\n",
      "   insert_num   lfc_1   lfc_2\n",
      "        \u001b[3m\u001b[90m<dbl>\u001b[39m\u001b[23m   \u001b[3m\u001b[90m<dbl>\u001b[39m\u001b[23m   \u001b[3m\u001b[90m<dbl>\u001b[39m\u001b[23m\n",
      "\u001b[90m 1\u001b[39m         86 -\u001b[31m0\u001b[39m\u001b[31m.\u001b[39m\u001b[31m134\u001b[39m   0.096\u001b[4m1\u001b[24m\n",
      "\u001b[90m 2\u001b[39m         22 -\u001b[31m1\u001b[39m\u001b[31m.\u001b[39m\u001b[31m92\u001b[39m   -\u001b[31m1\u001b[39m\u001b[31m.\u001b[39m\u001b[31m37\u001b[39m  \n",
      "\u001b[90m 3\u001b[39m        172 -\u001b[31m1\u001b[39m\u001b[31m.\u001b[39m\u001b[31m96\u001b[39m   -\u001b[31m2\u001b[39m\u001b[31m.\u001b[39m\u001b[31m23\u001b[39m  \n",
      "\u001b[90m 4\u001b[39m         20 -\u001b[31m0\u001b[39m\u001b[31m.\u001b[39m\u001b[31m392\u001b[39m  -\u001b[31m0\u001b[39m\u001b[31m.\u001b[39m\u001b[31m102\u001b[39m \n",
      "\u001b[90m 5\u001b[39m        275  0.653   0.458 \n",
      "\u001b[90m 6\u001b[39m         54  0.681   1.30  \n",
      "\u001b[90m 7\u001b[39m        150  0.841   0.386 \n",
      "\u001b[90m 8\u001b[39m        236 -\u001b[31m0\u001b[39m\u001b[31m.\u001b[39m\u001b[31m653\u001b[39m  -\u001b[31m0\u001b[39m\u001b[31m.\u001b[39m\u001b[31m275\u001b[39m \n",
      "\u001b[90m 9\u001b[39m         90 -\u001b[31m0\u001b[39m\u001b[31m.\u001b[39m\u001b[31m162\u001b[39m   1.31  \n",
      "\u001b[90m10\u001b[39m        227  0.096\u001b[4m9\u001b[24m  0.328 \n",
      "\u001b[90m# … with 307 more rows\u001b[39m\n"
     ]
    },
    {
     "data": {
      "image/png": "[encoded data removed]",
      "text/plain": [
       "plot without title"
      ]
     },
     "metadata": {
      "image/png": {
       "height": 120,
       "width": 120
      }
     },
     "output_type": "display_data"
    }
   ],
   "source": [
    "options(repr.plot.width=2, repr.plot.height=2)\n",
    "\n",
    "plot_data <- lfc %>% \n",
    "  select(insert_num, replicate, lfc) %>% \n",
    "  pivot_wider(names_from = replicate, values_from = lfc, names_prefix = \"lfc_\") %>%\n",
    "  print()\n",
    "\n",
    "plot_data %>% \n",
    "  ggplot(aes(x = lfc_1, y = lfc_2)) +\n",
    "  geom_point(alpha = 0.5, shape = 16, size = 2)  +\n",
    "  geom_abline(slope = 1, linetype = \"dotted\", alpha = 0.5) +\n",
    "  labs(x = \"Rep 1 mRNA level (log2)\", y = \"Rep 2 mRNA level (log2)\",\n",
    "       title = \"Individual di-di inserts\") +\n",
    "  theme_bw() "
   ]
  },
  {
   "cell_type": "markdown",
   "metadata": {},
   "source": [
    "## Which inserts have lowest mRNA levels?"
   ]
  },
  {
   "cell_type": "code",
   "execution_count": 243,
   "metadata": {
    "vscode": {
     "languageId": "r"
    }
   },
   "outputs": [
    {
     "data": {
      "text/html": [
       "<table class=\"dataframe\">\n",
       "<caption>A tibble: 634 × 7</caption>\n",
       "<thead>\n",
       "\t<tr><th scope=col>replicate</th><th scope=col>lfc</th><th scope=col>lfc_sd</th><th scope=col>seq</th><th scope=col>insert_name</th><th scope=col>mean_lfc</th><th scope=col>insert</th></tr>\n",
       "\t<tr><th scope=col>&lt;dbl&gt;</th><th scope=col>&lt;dbl&gt;</th><th scope=col>&lt;dbl&gt;</th><th scope=col>&lt;chr&gt;</th><th scope=col>&lt;chr&gt;</th><th scope=col>&lt;dbl&gt;</th><th scope=col>&lt;chr&gt;</th></tr>\n",
       "</thead>\n",
       "<tbody>\n",
       "\t<tr><td>1</td><td>-4.618212</td><td>1.1210772</td><td>TACAAGTACAAGTACAAGTACAAGTACAAGTACAAGTCCGGCTCCGGC</td><td>varydicodonrepeatlength_TACAAG_6</td><td>-4.531898</td><td>YKYKYKYKYKYKSGSG</td></tr>\n",
       "\t<tr><td>2</td><td>-4.445584</td><td>1.3655761</td><td>TACAAGTACAAGTACAAGTACAAGTACAAGTACAAGTCCGGCTCCGGC</td><td>varydicodonrepeatlength_TACAAG_6</td><td>-4.531898</td><td>YKYKYKYKYKYKSGSG</td></tr>\n",
       "\t<tr><td>1</td><td>-4.293995</td><td>1.5417913</td><td>AAAGTCAGTTTCAAAGTCAGTTTCAAAGTCAGTTTCAAAGTCAGTTTC</td><td>mixdicodons_AAAGTC_AGTTTC_1     </td><td>-3.870851</td><td>KVSFKVSFKVSFKVSF</td></tr>\n",
       "\t<tr><td>2</td><td>-3.447707</td><td>0.7862848</td><td>AAAGTCAGTTTCAAAGTCAGTTTCAAAGTCAGTTTCAAAGTCAGTTTC</td><td>mixdicodons_AAAGTC_AGTTTC_1     </td><td>-3.870851</td><td>KVSFKVSFKVSFKVSF</td></tr>\n",
       "\t<tr><td>1</td><td>-2.274920</td><td>0.7883866</td><td>CGCCATCGCCATCGCCATCGCCATCGCCATCGCCATCGCCATCGCCAT</td><td>varydicodonrepeatlength_CGCCAT_8</td><td>-3.655179</td><td>RHRHRHRHRHRHRHRH</td></tr>\n",
       "\t<tr><td>2</td><td>-5.035438</td><td>1.1513984</td><td>CGCCATCGCCATCGCCATCGCCATCGCCATCGCCATCGCCATCGCCAT</td><td>varydicodonrepeatlength_CGCCAT_8</td><td>-3.655179</td><td>RHRHRHRHRHRHRHRH</td></tr>\n",
       "\t<tr><td>1</td><td>-2.779976</td><td>0.5471739</td><td>TACAAGTACAAGTACAAGTACAAGTACAAGTACAAGTACAAGTACAAG</td><td>varydicodonrepeatlength_TACAAG_8</td><td>-3.610125</td><td>YKYKYKYKYKYKYKYK</td></tr>\n",
       "\t<tr><td>2</td><td>-4.440274</td><td>0.6501135</td><td>TACAAGTACAAGTACAAGTACAAGTACAAGTACAAGTACAAGTACAAG</td><td>varydicodonrepeatlength_TACAAG_8</td><td>-3.610125</td><td>YKYKYKYKYKYKYKYK</td></tr>\n",
       "\t<tr><td>1</td><td>-3.730425</td><td>0.6497577</td><td>AGTTTCAAAGTCAGTTTCAAAGTCAGTTTCAAAGTCAGTTTCAAAGTC</td><td>mixdicodons_AGTTTC_AAAGTC_1     </td><td>-3.403804</td><td>SFKVSFKVSFKVSFKV</td></tr>\n",
       "\t<tr><td>2</td><td>-3.077182</td><td>0.7607685</td><td>AGTTTCAAAGTCAGTTTCAAAGTCAGTTTCAAAGTCAGTTTCAAAGTC</td><td>mixdicodons_AGTTTC_AAAGTC_1     </td><td>-3.403804</td><td>SFKVSFKVSFKVSFKV</td></tr>\n",
       "\t<tr><td>1</td><td>-3.679618</td><td>0.6597174</td><td>GTCAAAGTCAAAGTCAAAGTCAAAGTCAAATCCGGCTCCGGCTCCGGC</td><td>varydicodonrepeatlength_GTCAAA_5</td><td>-3.274257</td><td>VKVKVKVKVKSGSGSG</td></tr>\n",
       "\t<tr><td>2</td><td>-2.868897</td><td>0.4156915</td><td>GTCAAAGTCAAAGTCAAAGTCAAAGTCAAATCCGGCTCCGGCTCCGGC</td><td>varydicodonrepeatlength_GTCAAA_5</td><td>-3.274257</td><td>VKVKVKVKVKSGSGSG</td></tr>\n",
       "\t<tr><td>1</td><td>-2.851509</td><td>0.4902509</td><td>CGCCATCGCCATCGCCATCGCCATCGCCATCGCCATCGCCATTCCGGC</td><td>varydicodonrepeatlength_CGCCAT_7</td><td>-3.209432</td><td>RHRHRHRHRHRHRHSG</td></tr>\n",
       "\t<tr><td>2</td><td>-3.567355</td><td>1.1608629</td><td>CGCCATCGCCATCGCCATCGCCATCGCCATCGCCATCGCCATTCCGGC</td><td>varydicodonrepeatlength_CGCCAT_7</td><td>-3.209432</td><td>RHRHRHRHRHRHRHSG</td></tr>\n",
       "\t<tr><td>1</td><td>-3.788851</td><td>0.6924886</td><td>TTCAGTGTCAAATTCAGTGTCAAATTCAGTGTCAAATTCAGTGTCAAA</td><td>mixdicodons_TTCAGT_GTCAAA_1     </td><td>-3.169639</td><td>FSVKFSVKFSVKFSVK</td></tr>\n",
       "\t<tr><td>2</td><td>-2.550427</td><td>0.8425381</td><td>TTCAGTGTCAAATTCAGTGTCAAATTCAGTGTCAAATTCAGTGTCAAA</td><td>mixdicodons_TTCAGT_GTCAAA_1     </td><td>-3.169639</td><td>FSVKFSVKFSVKFSVK</td></tr>\n",
       "\t<tr><td>1</td><td>-3.684063</td><td>1.4654074</td><td>AAGATCAAGATCAAGATCAAGATCAAGATCAAGATCAAGATCAAGATC</td><td>varydicodonrepeatlength_AAGATC_8</td><td>-3.097835</td><td>KIKIKIKIKIKIKIKI</td></tr>\n",
       "\t<tr><td>2</td><td>-2.511607</td><td>1.6939674</td><td>AAGATCAAGATCAAGATCAAGATCAAGATCAAGATCAAGATCAAGATC</td><td>varydicodonrepeatlength_AAGATC_8</td><td>-3.097835</td><td>KIKIKIKIKIKIKIKI</td></tr>\n",
       "\t<tr><td>1</td><td>-2.677359</td><td>0.6175113</td><td>TACAAGTACAAGTACAAGTACAAGTACAAGTACAAGTACAAGTCCGGC</td><td>varydicodonrepeatlength_TACAAG_7</td><td>-2.933970</td><td>YKYKYKYKYKYKYKSG</td></tr>\n",
       "\t<tr><td>2</td><td>-3.190582</td><td>1.6956964</td><td>TACAAGTACAAGTACAAGTACAAGTACAAGTACAAGTACAAGTCCGGC</td><td>varydicodonrepeatlength_TACAAG_7</td><td>-2.933970</td><td>YKYKYKYKYKYKYKSG</td></tr>\n",
       "\t<tr><td>1</td><td>-2.459710</td><td>0.5638263</td><td>TCCAAGTACAAGTACAAGTACTCCTCCAAGTACAAGTACAAGTACTCC</td><td>reorderdicodon_AAGTAC_3         </td><td>-2.862659</td><td>SKYKYKYSSKYKYKYS</td></tr>\n",
       "\t<tr><td>2</td><td>-3.265608</td><td>1.0217510</td><td>TCCAAGTACAAGTACAAGTACTCCTCCAAGTACAAGTACAAGTACTCC</td><td>reorderdicodon_AAGTAC_3         </td><td>-2.862659</td><td>SKYKYKYSSKYKYKYS</td></tr>\n",
       "\t<tr><td>1</td><td>-2.662041</td><td>0.4923466</td><td>GTCAAAGTCAAAGTCAAAGTCAAAAGTTTCAGTTTCAGTTTCAGTTTC</td><td>mixdicodons_GTCAAA_AGTTTC_4     </td><td>-2.807582</td><td>VKVKVKVKSFSFSFSF</td></tr>\n",
       "\t<tr><td>2</td><td>-2.953123</td><td>2.0458189</td><td>GTCAAAGTCAAAGTCAAAGTCAAAAGTTTCAGTTTCAGTTTCAGTTTC</td><td>mixdicodons_GTCAAA_AGTTTC_4     </td><td>-2.807582</td><td>VKVKVKVKSFSFSFSF</td></tr>\n",
       "\t<tr><td>1</td><td>-2.541997</td><td>0.5500262</td><td>TCCAAGATCAAGATCAAGATCTCCTCCAAGATCAAGATCAAGATCTCC</td><td>reorderdicodon_AAGATC_3         </td><td>-2.749168</td><td>SKIKIKISSKIKIKIS</td></tr>\n",
       "\t<tr><td>2</td><td>-2.956339</td><td>0.4112640</td><td>TCCAAGATCAAGATCAAGATCTCCTCCAAGATCAAGATCAAGATCTCC</td><td>reorderdicodon_AAGATC_3         </td><td>-2.749168</td><td>SKIKIKISSKIKIKIS</td></tr>\n",
       "\t<tr><td>1</td><td>-3.099142</td><td>1.4416179</td><td>TAATGATAATGATAATGATAATGATAATGATAATGATAATGATAATGA</td><td>stop_control                    </td><td>-2.638341</td><td>****************</td></tr>\n",
       "\t<tr><td>2</td><td>-2.177540</td><td>0.7057667</td><td>TAATGATAATGATAATGATAATGATAATGATAATGATAATGATAATGA</td><td>stop_control                    </td><td>-2.638341</td><td>****************</td></tr>\n",
       "\t<tr><td>1</td><td>-2.419543</td><td>0.4690011</td><td>AGTTTCAGTTTCAGTTTCAGTTTCAAAGTCAAAGTCAAAGTCAAAGTC</td><td>mixdicodons_AGTTTC_AAAGTC_4     </td><td>-2.616937</td><td>SFSFSFSFKVKVKVKV</td></tr>\n",
       "\t<tr><td>2</td><td>-2.814331</td><td>0.6768612</td><td>AGTTTCAGTTTCAGTTTCAGTTTCAAAGTCAAAGTCAAAGTCAAAGTC</td><td>mixdicodons_AGTTTC_AAAGTC_4     </td><td>-2.616937</td><td>SFSFSFSFKVKVKVKV</td></tr>\n",
       "\t<tr><td>⋮</td><td>⋮</td><td>⋮</td><td>⋮</td><td>⋮</td><td>⋮</td><td>⋮</td></tr>\n",
       "\t<tr><td>1</td><td>1.0892193</td><td>0.2579447</td><td>CGTGAACGTGAATCCGGCTCCGGCTCCGGCTCCGGCTCCGGCTCCGGC</td><td>varydicodonrepeatlength_CGTGAA_2</td><td>1.042453</td><td>RERESGSGSGSGSGSG</td></tr>\n",
       "\t<tr><td>2</td><td>0.9956858</td><td>0.4330103</td><td>CGTGAACGTGAATCCGGCTCCGGCTCCGGCTCCGGCTCCGGCTCCGGC</td><td>varydicodonrepeatlength_CGTGAA_2</td><td>1.042453</td><td>RERESGSGSGSGSGSG</td></tr>\n",
       "\t<tr><td>1</td><td>1.0578513</td><td>0.3443258</td><td>TCCGGCTCCGGCTCCGGCTCCGGCTCCGGCTCCGGCTCCGGCTCCGGC</td><td>linker_control                  </td><td>1.045702</td><td>SGSGSGSGSGSGSGSG</td></tr>\n",
       "\t<tr><td>2</td><td>1.0335530</td><td>0.5046575</td><td>TCCGGCTCCGGCTCCGGCTCCGGCTCCGGCTCCGGCTCCGGCTCCGGC</td><td>linker_control                  </td><td>1.045702</td><td>SGSGSGSGSGSGSGSG</td></tr>\n",
       "\t<tr><td>1</td><td>0.6425565</td><td>0.3653258</td><td>TTTTGTTTTTGTTTTTGTTTTTGTTTTTGTTCCGGCTCCGGCTCCGGC</td><td>varydicodonrepeatlength_TTTTGT_5</td><td>1.053851</td><td>FCFCFCFCFCSGSGSG</td></tr>\n",
       "\t<tr><td>2</td><td>1.4651454</td><td>0.3703506</td><td>TTTTGTTTTTGTTTTTGTTTTTGTTTTTGTTCCGGCTCCGGCTCCGGC</td><td>varydicodonrepeatlength_TTTTGT_5</td><td>1.053851</td><td>FCFCFCFCFCSGSGSG</td></tr>\n",
       "\t<tr><td>1</td><td>0.9447449</td><td>0.4022621</td><td>CGTGAACGTGAACGTGAACGTGAACGTGAATCCGGCTCCGGCTCCGGC</td><td>varydicodonrepeatlength_CGTGAA_5</td><td>1.085163</td><td>RERERERERESGSGSG</td></tr>\n",
       "\t<tr><td>2</td><td>1.2255805</td><td>0.2957538</td><td>CGTGAACGTGAACGTGAACGTGAACGTGAATCCGGCTCCGGCTCCGGC</td><td>varydicodonrepeatlength_CGTGAA_5</td><td>1.085163</td><td>RERERERERESGSGSG</td></tr>\n",
       "\t<tr><td>1</td><td>1.3661528</td><td>0.7227392</td><td>GTCATGGTCATGGTCATGGTCATGGTCATGGTCATGTCCGGCTCCGGC</td><td>varydicodonrepeatlength_GTCATG_6</td><td>1.117769</td><td>VMVMVMVMVMVMSGSG</td></tr>\n",
       "\t<tr><td>2</td><td>0.8693850</td><td>0.6263782</td><td>GTCATGGTCATGGTCATGGTCATGGTCATGGTCATGTCCGGCTCCGGC</td><td>varydicodonrepeatlength_GTCATG_6</td><td>1.117769</td><td>VMVMVMVMVMVMSGSG</td></tr>\n",
       "\t<tr><td>1</td><td>1.1592777</td><td>0.4318035</td><td>TTGATGTTGATGTTGATGTTGATGTTGATGTTGATGTCCGGCTCCGGC</td><td>varydicodonrepeatlength_TTGATG_6</td><td>1.146032</td><td>LMLMLMLMLMLMSGSG</td></tr>\n",
       "\t<tr><td>2</td><td>1.1327867</td><td>0.3600565</td><td>TTGATGTTGATGTTGATGTTGATGTTGATGTTGATGTCCGGCTCCGGC</td><td>varydicodonrepeatlength_TTGATG_6</td><td>1.146032</td><td>LMLMLMLMLMLMSGSG</td></tr>\n",
       "\t<tr><td>1</td><td>1.1649532</td><td>0.3354557</td><td>AGTGGCAGTGGCAGTGGCAGTGGCTCCGGCTCCGGCTCCGGCTCCGGC</td><td>varydicodonrepeatlength_AGTGGC_4</td><td>1.152433</td><td>SGSGSGSGSGSGSGSG</td></tr>\n",
       "\t<tr><td>2</td><td>1.1399124</td><td>0.3678420</td><td>AGTGGCAGTGGCAGTGGCAGTGGCTCCGGCTCCGGCTCCGGCTCCGGC</td><td>varydicodonrepeatlength_AGTGGC_4</td><td>1.152433</td><td>SGSGSGSGSGSGSGSG</td></tr>\n",
       "\t<tr><td>1</td><td>0.9046157</td><td>0.4036330</td><td>ATCATCATCATCATCATCTCCGGCTCCGGCTCCGGCTCCGGCTCCGGC</td><td>varydicodonrepeatlength_ATCATC_3</td><td>1.169473</td><td>IIIIIISGSGSGSGSG</td></tr>\n",
       "\t<tr><td>2</td><td>1.4343302</td><td>0.3875847</td><td>ATCATCATCATCATCATCTCCGGCTCCGGCTCCGGCTCCGGCTCCGGC</td><td>varydicodonrepeatlength_ATCATC_3</td><td>1.169473</td><td>IIIIIISGSGSGSGSG</td></tr>\n",
       "\t<tr><td>1</td><td>1.3881561</td><td>0.3697348</td><td>GTCATGGTCATGGTCATGGTCATGTCCGGCTCCGGCTCCGGCTCCGGC</td><td>varydicodonrepeatlength_GTCATG_4</td><td>1.200432</td><td>VMVMVMVMSGSGSGSG</td></tr>\n",
       "\t<tr><td>2</td><td>1.0127072</td><td>0.4484835</td><td>GTCATGGTCATGGTCATGGTCATGTCCGGCTCCGGCTCCGGCTCCGGC</td><td>varydicodonrepeatlength_GTCATG_4</td><td>1.200432</td><td>VMVMVMVMSGSGSGSG</td></tr>\n",
       "\t<tr><td>1</td><td>1.1635121</td><td>0.3052267</td><td>TCCATCATCATCATCTCCATCATCATCATCTCCATCATCATCATCTCC</td><td>reorderdicodon_ATCATC_2         </td><td>1.211780</td><td>SIIIISIIIISIIIIS</td></tr>\n",
       "\t<tr><td>2</td><td>1.2600476</td><td>0.2400096</td><td>TCCATCATCATCATCTCCATCATCATCATCTCCATCATCATCATCTCC</td><td>reorderdicodon_ATCATC_2         </td><td>1.211780</td><td>SIIIISIIIISIIIIS</td></tr>\n",
       "\t<tr><td>1</td><td>1.1138223</td><td>0.3381735</td><td>TTTCTGTTTCTGTTTCTGTTTCTGTTTCTGTTTCTGTTTCTGTTTCTG</td><td>varydicodonrepeatlength_TTTCTG_8</td><td>1.244725</td><td>FLFLFLFLFLFLFLFL</td></tr>\n",
       "\t<tr><td>2</td><td>1.3756276</td><td>0.2748798</td><td>TTTCTGTTTCTGTTTCTGTTTCTGTTTCTGTTTCTGTTTCTGTTTCTG</td><td>varydicodonrepeatlength_TTTCTG_8</td><td>1.244725</td><td>FLFLFLFLFLFLFLFL</td></tr>\n",
       "\t<tr><td>1</td><td>1.1086553</td><td>0.3861470</td><td>CCTCCGCCTCCGCCTCCGCCTCCGCCTCCGCCTCCGCCTCCGTCCGGC</td><td>varydicodonrepeatlength_CCTCCG_7</td><td>1.370497</td><td>PPPPPPPPPPPPPPSG</td></tr>\n",
       "\t<tr><td>2</td><td>1.6323387</td><td>0.3174158</td><td>CCTCCGCCTCCGCCTCCGCCTCCGCCTCCGCCTCCGCCTCCGTCCGGC</td><td>varydicodonrepeatlength_CCTCCG_7</td><td>1.370497</td><td>PPPPPPPPPPPPPPSG</td></tr>\n",
       "\t<tr><td>1</td><td>1.2502382</td><td>0.4214370</td><td>CCTCCGCCTCCGCCTCCGCCTCCGCCTCCGTCCGGCTCCGGCTCCGGC</td><td>varydicodonrepeatlength_CCTCCG_5</td><td>1.540923</td><td>PPPPPPPPPPSGSGSG</td></tr>\n",
       "\t<tr><td>2</td><td>1.8316076</td><td>0.3079115</td><td>CCTCCGCCTCCGCCTCCGCCTCCGCCTCCGTCCGGCTCCGGCTCCGGC</td><td>varydicodonrepeatlength_CCTCCG_5</td><td>1.540923</td><td>PPPPPPPPPPSGSGSG</td></tr>\n",
       "\t<tr><td>1</td><td>0.8545439</td><td>0.2834753</td><td>CCTCCGCCTCCGCCTCCGCCTCCGCCTCCGCCTCCGTCCGGCTCCGGC</td><td>varydicodonrepeatlength_CCTCCG_6</td><td>1.596453</td><td>PPPPPPPPPPPPSGSG</td></tr>\n",
       "\t<tr><td>2</td><td>2.3383612</td><td>0.4790873</td><td>CCTCCGCCTCCGCCTCCGCCTCCGCCTCCGCCTCCGTCCGGCTCCGGC</td><td>varydicodonrepeatlength_CCTCCG_6</td><td>1.596453</td><td>PPPPPPPPPPPPSGSG</td></tr>\n",
       "\t<tr><td>1</td><td>1.1581770</td><td>0.3961745</td><td>CCTCCGCCTCCGCCTCCGCCTCCGCCTCCGCCTCCGCCTCCGCCTCCG</td><td>varydicodonrepeatlength_CCTCCG_8</td><td>1.836754</td><td>PPPPPPPPPPPPPPPP</td></tr>\n",
       "\t<tr><td>2</td><td>2.5153302</td><td>0.6267918</td><td>CCTCCGCCTCCGCCTCCGCCTCCGCCTCCGCCTCCGCCTCCGCCTCCG</td><td>varydicodonrepeatlength_CCTCCG_8</td><td>1.836754</td><td>PPPPPPPPPPPPPPPP</td></tr>\n",
       "</tbody>\n",
       "</table>\n"
      ],
      "text/latex": [
       "A tibble: 634 × 7\n",
       "\\begin{tabular}{lllllll}\n",
       " replicate & lfc & lfc\\_sd & seq & insert\\_name & mean\\_lfc & insert\\\\\n",
       " <dbl> & <dbl> & <dbl> & <chr> & <chr> & <dbl> & <chr>\\\\\n",
       "\\hline\n",
       "\t 1 & -4.618212 & 1.1210772 & TACAAGTACAAGTACAAGTACAAGTACAAGTACAAGTCCGGCTCCGGC & varydicodonrepeatlength\\_TACAAG\\_6 & -4.531898 & YKYKYKYKYKYKSGSG\\\\\n",
       "\t 2 & -4.445584 & 1.3655761 & TACAAGTACAAGTACAAGTACAAGTACAAGTACAAGTCCGGCTCCGGC & varydicodonrepeatlength\\_TACAAG\\_6 & -4.531898 & YKYKYKYKYKYKSGSG\\\\\n",
       "\t 1 & -4.293995 & 1.5417913 & AAAGTCAGTTTCAAAGTCAGTTTCAAAGTCAGTTTCAAAGTCAGTTTC & mixdicodons\\_AAAGTC\\_AGTTTC\\_1      & -3.870851 & KVSFKVSFKVSFKVSF\\\\\n",
       "\t 2 & -3.447707 & 0.7862848 & AAAGTCAGTTTCAAAGTCAGTTTCAAAGTCAGTTTCAAAGTCAGTTTC & mixdicodons\\_AAAGTC\\_AGTTTC\\_1      & -3.870851 & KVSFKVSFKVSFKVSF\\\\\n",
       "\t 1 & -2.274920 & 0.7883866 & CGCCATCGCCATCGCCATCGCCATCGCCATCGCCATCGCCATCGCCAT & varydicodonrepeatlength\\_CGCCAT\\_8 & -3.655179 & RHRHRHRHRHRHRHRH\\\\\n",
       "\t 2 & -5.035438 & 1.1513984 & CGCCATCGCCATCGCCATCGCCATCGCCATCGCCATCGCCATCGCCAT & varydicodonrepeatlength\\_CGCCAT\\_8 & -3.655179 & RHRHRHRHRHRHRHRH\\\\\n",
       "\t 1 & -2.779976 & 0.5471739 & TACAAGTACAAGTACAAGTACAAGTACAAGTACAAGTACAAGTACAAG & varydicodonrepeatlength\\_TACAAG\\_8 & -3.610125 & YKYKYKYKYKYKYKYK\\\\\n",
       "\t 2 & -4.440274 & 0.6501135 & TACAAGTACAAGTACAAGTACAAGTACAAGTACAAGTACAAGTACAAG & varydicodonrepeatlength\\_TACAAG\\_8 & -3.610125 & YKYKYKYKYKYKYKYK\\\\\n",
       "\t 1 & -3.730425 & 0.6497577 & AGTTTCAAAGTCAGTTTCAAAGTCAGTTTCAAAGTCAGTTTCAAAGTC & mixdicodons\\_AGTTTC\\_AAAGTC\\_1      & -3.403804 & SFKVSFKVSFKVSFKV\\\\\n",
       "\t 2 & -3.077182 & 0.7607685 & AGTTTCAAAGTCAGTTTCAAAGTCAGTTTCAAAGTCAGTTTCAAAGTC & mixdicodons\\_AGTTTC\\_AAAGTC\\_1      & -3.403804 & SFKVSFKVSFKVSFKV\\\\\n",
       "\t 1 & -3.679618 & 0.6597174 & GTCAAAGTCAAAGTCAAAGTCAAAGTCAAATCCGGCTCCGGCTCCGGC & varydicodonrepeatlength\\_GTCAAA\\_5 & -3.274257 & VKVKVKVKVKSGSGSG\\\\\n",
       "\t 2 & -2.868897 & 0.4156915 & GTCAAAGTCAAAGTCAAAGTCAAAGTCAAATCCGGCTCCGGCTCCGGC & varydicodonrepeatlength\\_GTCAAA\\_5 & -3.274257 & VKVKVKVKVKSGSGSG\\\\\n",
       "\t 1 & -2.851509 & 0.4902509 & CGCCATCGCCATCGCCATCGCCATCGCCATCGCCATCGCCATTCCGGC & varydicodonrepeatlength\\_CGCCAT\\_7 & -3.209432 & RHRHRHRHRHRHRHSG\\\\\n",
       "\t 2 & -3.567355 & 1.1608629 & CGCCATCGCCATCGCCATCGCCATCGCCATCGCCATCGCCATTCCGGC & varydicodonrepeatlength\\_CGCCAT\\_7 & -3.209432 & RHRHRHRHRHRHRHSG\\\\\n",
       "\t 1 & -3.788851 & 0.6924886 & TTCAGTGTCAAATTCAGTGTCAAATTCAGTGTCAAATTCAGTGTCAAA & mixdicodons\\_TTCAGT\\_GTCAAA\\_1      & -3.169639 & FSVKFSVKFSVKFSVK\\\\\n",
       "\t 2 & -2.550427 & 0.8425381 & TTCAGTGTCAAATTCAGTGTCAAATTCAGTGTCAAATTCAGTGTCAAA & mixdicodons\\_TTCAGT\\_GTCAAA\\_1      & -3.169639 & FSVKFSVKFSVKFSVK\\\\\n",
       "\t 1 & -3.684063 & 1.4654074 & AAGATCAAGATCAAGATCAAGATCAAGATCAAGATCAAGATCAAGATC & varydicodonrepeatlength\\_AAGATC\\_8 & -3.097835 & KIKIKIKIKIKIKIKI\\\\\n",
       "\t 2 & -2.511607 & 1.6939674 & AAGATCAAGATCAAGATCAAGATCAAGATCAAGATCAAGATCAAGATC & varydicodonrepeatlength\\_AAGATC\\_8 & -3.097835 & KIKIKIKIKIKIKIKI\\\\\n",
       "\t 1 & -2.677359 & 0.6175113 & TACAAGTACAAGTACAAGTACAAGTACAAGTACAAGTACAAGTCCGGC & varydicodonrepeatlength\\_TACAAG\\_7 & -2.933970 & YKYKYKYKYKYKYKSG\\\\\n",
       "\t 2 & -3.190582 & 1.6956964 & TACAAGTACAAGTACAAGTACAAGTACAAGTACAAGTACAAGTCCGGC & varydicodonrepeatlength\\_TACAAG\\_7 & -2.933970 & YKYKYKYKYKYKYKSG\\\\\n",
       "\t 1 & -2.459710 & 0.5638263 & TCCAAGTACAAGTACAAGTACTCCTCCAAGTACAAGTACAAGTACTCC & reorderdicodon\\_AAGTAC\\_3          & -2.862659 & SKYKYKYSSKYKYKYS\\\\\n",
       "\t 2 & -3.265608 & 1.0217510 & TCCAAGTACAAGTACAAGTACTCCTCCAAGTACAAGTACAAGTACTCC & reorderdicodon\\_AAGTAC\\_3          & -2.862659 & SKYKYKYSSKYKYKYS\\\\\n",
       "\t 1 & -2.662041 & 0.4923466 & GTCAAAGTCAAAGTCAAAGTCAAAAGTTTCAGTTTCAGTTTCAGTTTC & mixdicodons\\_GTCAAA\\_AGTTTC\\_4      & -2.807582 & VKVKVKVKSFSFSFSF\\\\\n",
       "\t 2 & -2.953123 & 2.0458189 & GTCAAAGTCAAAGTCAAAGTCAAAAGTTTCAGTTTCAGTTTCAGTTTC & mixdicodons\\_GTCAAA\\_AGTTTC\\_4      & -2.807582 & VKVKVKVKSFSFSFSF\\\\\n",
       "\t 1 & -2.541997 & 0.5500262 & TCCAAGATCAAGATCAAGATCTCCTCCAAGATCAAGATCAAGATCTCC & reorderdicodon\\_AAGATC\\_3          & -2.749168 & SKIKIKISSKIKIKIS\\\\\n",
       "\t 2 & -2.956339 & 0.4112640 & TCCAAGATCAAGATCAAGATCTCCTCCAAGATCAAGATCAAGATCTCC & reorderdicodon\\_AAGATC\\_3          & -2.749168 & SKIKIKISSKIKIKIS\\\\\n",
       "\t 1 & -3.099142 & 1.4416179 & TAATGATAATGATAATGATAATGATAATGATAATGATAATGATAATGA & stop\\_control                     & -2.638341 & ****************\\\\\n",
       "\t 2 & -2.177540 & 0.7057667 & TAATGATAATGATAATGATAATGATAATGATAATGATAATGATAATGA & stop\\_control                     & -2.638341 & ****************\\\\\n",
       "\t 1 & -2.419543 & 0.4690011 & AGTTTCAGTTTCAGTTTCAGTTTCAAAGTCAAAGTCAAAGTCAAAGTC & mixdicodons\\_AGTTTC\\_AAAGTC\\_4      & -2.616937 & SFSFSFSFKVKVKVKV\\\\\n",
       "\t 2 & -2.814331 & 0.6768612 & AGTTTCAGTTTCAGTTTCAGTTTCAAAGTCAAAGTCAAAGTCAAAGTC & mixdicodons\\_AGTTTC\\_AAAGTC\\_4      & -2.616937 & SFSFSFSFKVKVKVKV\\\\\n",
       "\t ⋮ & ⋮ & ⋮ & ⋮ & ⋮ & ⋮ & ⋮\\\\\n",
       "\t 1 & 1.0892193 & 0.2579447 & CGTGAACGTGAATCCGGCTCCGGCTCCGGCTCCGGCTCCGGCTCCGGC & varydicodonrepeatlength\\_CGTGAA\\_2 & 1.042453 & RERESGSGSGSGSGSG\\\\\n",
       "\t 2 & 0.9956858 & 0.4330103 & CGTGAACGTGAATCCGGCTCCGGCTCCGGCTCCGGCTCCGGCTCCGGC & varydicodonrepeatlength\\_CGTGAA\\_2 & 1.042453 & RERESGSGSGSGSGSG\\\\\n",
       "\t 1 & 1.0578513 & 0.3443258 & TCCGGCTCCGGCTCCGGCTCCGGCTCCGGCTCCGGCTCCGGCTCCGGC & linker\\_control                   & 1.045702 & SGSGSGSGSGSGSGSG\\\\\n",
       "\t 2 & 1.0335530 & 0.5046575 & TCCGGCTCCGGCTCCGGCTCCGGCTCCGGCTCCGGCTCCGGCTCCGGC & linker\\_control                   & 1.045702 & SGSGSGSGSGSGSGSG\\\\\n",
       "\t 1 & 0.6425565 & 0.3653258 & TTTTGTTTTTGTTTTTGTTTTTGTTTTTGTTCCGGCTCCGGCTCCGGC & varydicodonrepeatlength\\_TTTTGT\\_5 & 1.053851 & FCFCFCFCFCSGSGSG\\\\\n",
       "\t 2 & 1.4651454 & 0.3703506 & TTTTGTTTTTGTTTTTGTTTTTGTTTTTGTTCCGGCTCCGGCTCCGGC & varydicodonrepeatlength\\_TTTTGT\\_5 & 1.053851 & FCFCFCFCFCSGSGSG\\\\\n",
       "\t 1 & 0.9447449 & 0.4022621 & CGTGAACGTGAACGTGAACGTGAACGTGAATCCGGCTCCGGCTCCGGC & varydicodonrepeatlength\\_CGTGAA\\_5 & 1.085163 & RERERERERESGSGSG\\\\\n",
       "\t 2 & 1.2255805 & 0.2957538 & CGTGAACGTGAACGTGAACGTGAACGTGAATCCGGCTCCGGCTCCGGC & varydicodonrepeatlength\\_CGTGAA\\_5 & 1.085163 & RERERERERESGSGSG\\\\\n",
       "\t 1 & 1.3661528 & 0.7227392 & GTCATGGTCATGGTCATGGTCATGGTCATGGTCATGTCCGGCTCCGGC & varydicodonrepeatlength\\_GTCATG\\_6 & 1.117769 & VMVMVMVMVMVMSGSG\\\\\n",
       "\t 2 & 0.8693850 & 0.6263782 & GTCATGGTCATGGTCATGGTCATGGTCATGGTCATGTCCGGCTCCGGC & varydicodonrepeatlength\\_GTCATG\\_6 & 1.117769 & VMVMVMVMVMVMSGSG\\\\\n",
       "\t 1 & 1.1592777 & 0.4318035 & TTGATGTTGATGTTGATGTTGATGTTGATGTTGATGTCCGGCTCCGGC & varydicodonrepeatlength\\_TTGATG\\_6 & 1.146032 & LMLMLMLMLMLMSGSG\\\\\n",
       "\t 2 & 1.1327867 & 0.3600565 & TTGATGTTGATGTTGATGTTGATGTTGATGTTGATGTCCGGCTCCGGC & varydicodonrepeatlength\\_TTGATG\\_6 & 1.146032 & LMLMLMLMLMLMSGSG\\\\\n",
       "\t 1 & 1.1649532 & 0.3354557 & AGTGGCAGTGGCAGTGGCAGTGGCTCCGGCTCCGGCTCCGGCTCCGGC & varydicodonrepeatlength\\_AGTGGC\\_4 & 1.152433 & SGSGSGSGSGSGSGSG\\\\\n",
       "\t 2 & 1.1399124 & 0.3678420 & AGTGGCAGTGGCAGTGGCAGTGGCTCCGGCTCCGGCTCCGGCTCCGGC & varydicodonrepeatlength\\_AGTGGC\\_4 & 1.152433 & SGSGSGSGSGSGSGSG\\\\\n",
       "\t 1 & 0.9046157 & 0.4036330 & ATCATCATCATCATCATCTCCGGCTCCGGCTCCGGCTCCGGCTCCGGC & varydicodonrepeatlength\\_ATCATC\\_3 & 1.169473 & IIIIIISGSGSGSGSG\\\\\n",
       "\t 2 & 1.4343302 & 0.3875847 & ATCATCATCATCATCATCTCCGGCTCCGGCTCCGGCTCCGGCTCCGGC & varydicodonrepeatlength\\_ATCATC\\_3 & 1.169473 & IIIIIISGSGSGSGSG\\\\\n",
       "\t 1 & 1.3881561 & 0.3697348 & GTCATGGTCATGGTCATGGTCATGTCCGGCTCCGGCTCCGGCTCCGGC & varydicodonrepeatlength\\_GTCATG\\_4 & 1.200432 & VMVMVMVMSGSGSGSG\\\\\n",
       "\t 2 & 1.0127072 & 0.4484835 & GTCATGGTCATGGTCATGGTCATGTCCGGCTCCGGCTCCGGCTCCGGC & varydicodonrepeatlength\\_GTCATG\\_4 & 1.200432 & VMVMVMVMSGSGSGSG\\\\\n",
       "\t 1 & 1.1635121 & 0.3052267 & TCCATCATCATCATCTCCATCATCATCATCTCCATCATCATCATCTCC & reorderdicodon\\_ATCATC\\_2          & 1.211780 & SIIIISIIIISIIIIS\\\\\n",
       "\t 2 & 1.2600476 & 0.2400096 & TCCATCATCATCATCTCCATCATCATCATCTCCATCATCATCATCTCC & reorderdicodon\\_ATCATC\\_2          & 1.211780 & SIIIISIIIISIIIIS\\\\\n",
       "\t 1 & 1.1138223 & 0.3381735 & TTTCTGTTTCTGTTTCTGTTTCTGTTTCTGTTTCTGTTTCTGTTTCTG & varydicodonrepeatlength\\_TTTCTG\\_8 & 1.244725 & FLFLFLFLFLFLFLFL\\\\\n",
       "\t 2 & 1.3756276 & 0.2748798 & TTTCTGTTTCTGTTTCTGTTTCTGTTTCTGTTTCTGTTTCTGTTTCTG & varydicodonrepeatlength\\_TTTCTG\\_8 & 1.244725 & FLFLFLFLFLFLFLFL\\\\\n",
       "\t 1 & 1.1086553 & 0.3861470 & CCTCCGCCTCCGCCTCCGCCTCCGCCTCCGCCTCCGCCTCCGTCCGGC & varydicodonrepeatlength\\_CCTCCG\\_7 & 1.370497 & PPPPPPPPPPPPPPSG\\\\\n",
       "\t 2 & 1.6323387 & 0.3174158 & CCTCCGCCTCCGCCTCCGCCTCCGCCTCCGCCTCCGCCTCCGTCCGGC & varydicodonrepeatlength\\_CCTCCG\\_7 & 1.370497 & PPPPPPPPPPPPPPSG\\\\\n",
       "\t 1 & 1.2502382 & 0.4214370 & CCTCCGCCTCCGCCTCCGCCTCCGCCTCCGTCCGGCTCCGGCTCCGGC & varydicodonrepeatlength\\_CCTCCG\\_5 & 1.540923 & PPPPPPPPPPSGSGSG\\\\\n",
       "\t 2 & 1.8316076 & 0.3079115 & CCTCCGCCTCCGCCTCCGCCTCCGCCTCCGTCCGGCTCCGGCTCCGGC & varydicodonrepeatlength\\_CCTCCG\\_5 & 1.540923 & PPPPPPPPPPSGSGSG\\\\\n",
       "\t 1 & 0.8545439 & 0.2834753 & CCTCCGCCTCCGCCTCCGCCTCCGCCTCCGCCTCCGTCCGGCTCCGGC & varydicodonrepeatlength\\_CCTCCG\\_6 & 1.596453 & PPPPPPPPPPPPSGSG\\\\\n",
       "\t 2 & 2.3383612 & 0.4790873 & CCTCCGCCTCCGCCTCCGCCTCCGCCTCCGCCTCCGTCCGGCTCCGGC & varydicodonrepeatlength\\_CCTCCG\\_6 & 1.596453 & PPPPPPPPPPPPSGSG\\\\\n",
       "\t 1 & 1.1581770 & 0.3961745 & CCTCCGCCTCCGCCTCCGCCTCCGCCTCCGCCTCCGCCTCCGCCTCCG & varydicodonrepeatlength\\_CCTCCG\\_8 & 1.836754 & PPPPPPPPPPPPPPPP\\\\\n",
       "\t 2 & 2.5153302 & 0.6267918 & CCTCCGCCTCCGCCTCCGCCTCCGCCTCCGCCTCCGCCTCCGCCTCCG & varydicodonrepeatlength\\_CCTCCG\\_8 & 1.836754 & PPPPPPPPPPPPPPPP\\\\\n",
       "\\end{tabular}\n"
      ],
      "text/markdown": [
       "\n",
       "A tibble: 634 × 7\n",
       "\n",
       "| replicate &lt;dbl&gt; | lfc &lt;dbl&gt; | lfc_sd &lt;dbl&gt; | seq &lt;chr&gt; | insert_name &lt;chr&gt; | mean_lfc &lt;dbl&gt; | insert &lt;chr&gt; |\n",
       "|---|---|---|---|---|---|---|\n",
       "| 1 | -4.618212 | 1.1210772 | TACAAGTACAAGTACAAGTACAAGTACAAGTACAAGTCCGGCTCCGGC | varydicodonrepeatlength_TACAAG_6 | -4.531898 | YKYKYKYKYKYKSGSG |\n",
       "| 2 | -4.445584 | 1.3655761 | TACAAGTACAAGTACAAGTACAAGTACAAGTACAAGTCCGGCTCCGGC | varydicodonrepeatlength_TACAAG_6 | -4.531898 | YKYKYKYKYKYKSGSG |\n",
       "| 1 | -4.293995 | 1.5417913 | AAAGTCAGTTTCAAAGTCAGTTTCAAAGTCAGTTTCAAAGTCAGTTTC | mixdicodons_AAAGTC_AGTTTC_1      | -3.870851 | KVSFKVSFKVSFKVSF |\n",
       "| 2 | -3.447707 | 0.7862848 | AAAGTCAGTTTCAAAGTCAGTTTCAAAGTCAGTTTCAAAGTCAGTTTC | mixdicodons_AAAGTC_AGTTTC_1      | -3.870851 | KVSFKVSFKVSFKVSF |\n",
       "| 1 | -2.274920 | 0.7883866 | CGCCATCGCCATCGCCATCGCCATCGCCATCGCCATCGCCATCGCCAT | varydicodonrepeatlength_CGCCAT_8 | -3.655179 | RHRHRHRHRHRHRHRH |\n",
       "| 2 | -5.035438 | 1.1513984 | CGCCATCGCCATCGCCATCGCCATCGCCATCGCCATCGCCATCGCCAT | varydicodonrepeatlength_CGCCAT_8 | -3.655179 | RHRHRHRHRHRHRHRH |\n",
       "| 1 | -2.779976 | 0.5471739 | TACAAGTACAAGTACAAGTACAAGTACAAGTACAAGTACAAGTACAAG | varydicodonrepeatlength_TACAAG_8 | -3.610125 | YKYKYKYKYKYKYKYK |\n",
       "| 2 | -4.440274 | 0.6501135 | TACAAGTACAAGTACAAGTACAAGTACAAGTACAAGTACAAGTACAAG | varydicodonrepeatlength_TACAAG_8 | -3.610125 | YKYKYKYKYKYKYKYK |\n",
       "| 1 | -3.730425 | 0.6497577 | AGTTTCAAAGTCAGTTTCAAAGTCAGTTTCAAAGTCAGTTTCAAAGTC | mixdicodons_AGTTTC_AAAGTC_1      | -3.403804 | SFKVSFKVSFKVSFKV |\n",
       "| 2 | -3.077182 | 0.7607685 | AGTTTCAAAGTCAGTTTCAAAGTCAGTTTCAAAGTCAGTTTCAAAGTC | mixdicodons_AGTTTC_AAAGTC_1      | -3.403804 | SFKVSFKVSFKVSFKV |\n",
       "| 1 | -3.679618 | 0.6597174 | GTCAAAGTCAAAGTCAAAGTCAAAGTCAAATCCGGCTCCGGCTCCGGC | varydicodonrepeatlength_GTCAAA_5 | -3.274257 | VKVKVKVKVKSGSGSG |\n",
       "| 2 | -2.868897 | 0.4156915 | GTCAAAGTCAAAGTCAAAGTCAAAGTCAAATCCGGCTCCGGCTCCGGC | varydicodonrepeatlength_GTCAAA_5 | -3.274257 | VKVKVKVKVKSGSGSG |\n",
       "| 1 | -2.851509 | 0.4902509 | CGCCATCGCCATCGCCATCGCCATCGCCATCGCCATCGCCATTCCGGC | varydicodonrepeatlength_CGCCAT_7 | -3.209432 | RHRHRHRHRHRHRHSG |\n",
       "| 2 | -3.567355 | 1.1608629 | CGCCATCGCCATCGCCATCGCCATCGCCATCGCCATCGCCATTCCGGC | varydicodonrepeatlength_CGCCAT_7 | -3.209432 | RHRHRHRHRHRHRHSG |\n",
       "| 1 | -3.788851 | 0.6924886 | TTCAGTGTCAAATTCAGTGTCAAATTCAGTGTCAAATTCAGTGTCAAA | mixdicodons_TTCAGT_GTCAAA_1      | -3.169639 | FSVKFSVKFSVKFSVK |\n",
       "| 2 | -2.550427 | 0.8425381 | TTCAGTGTCAAATTCAGTGTCAAATTCAGTGTCAAATTCAGTGTCAAA | mixdicodons_TTCAGT_GTCAAA_1      | -3.169639 | FSVKFSVKFSVKFSVK |\n",
       "| 1 | -3.684063 | 1.4654074 | AAGATCAAGATCAAGATCAAGATCAAGATCAAGATCAAGATCAAGATC | varydicodonrepeatlength_AAGATC_8 | -3.097835 | KIKIKIKIKIKIKIKI |\n",
       "| 2 | -2.511607 | 1.6939674 | AAGATCAAGATCAAGATCAAGATCAAGATCAAGATCAAGATCAAGATC | varydicodonrepeatlength_AAGATC_8 | -3.097835 | KIKIKIKIKIKIKIKI |\n",
       "| 1 | -2.677359 | 0.6175113 | TACAAGTACAAGTACAAGTACAAGTACAAGTACAAGTACAAGTCCGGC | varydicodonrepeatlength_TACAAG_7 | -2.933970 | YKYKYKYKYKYKYKSG |\n",
       "| 2 | -3.190582 | 1.6956964 | TACAAGTACAAGTACAAGTACAAGTACAAGTACAAGTACAAGTCCGGC | varydicodonrepeatlength_TACAAG_7 | -2.933970 | YKYKYKYKYKYKYKSG |\n",
       "| 1 | -2.459710 | 0.5638263 | TCCAAGTACAAGTACAAGTACTCCTCCAAGTACAAGTACAAGTACTCC | reorderdicodon_AAGTAC_3          | -2.862659 | SKYKYKYSSKYKYKYS |\n",
       "| 2 | -3.265608 | 1.0217510 | TCCAAGTACAAGTACAAGTACTCCTCCAAGTACAAGTACAAGTACTCC | reorderdicodon_AAGTAC_3          | -2.862659 | SKYKYKYSSKYKYKYS |\n",
       "| 1 | -2.662041 | 0.4923466 | GTCAAAGTCAAAGTCAAAGTCAAAAGTTTCAGTTTCAGTTTCAGTTTC | mixdicodons_GTCAAA_AGTTTC_4      | -2.807582 | VKVKVKVKSFSFSFSF |\n",
       "| 2 | -2.953123 | 2.0458189 | GTCAAAGTCAAAGTCAAAGTCAAAAGTTTCAGTTTCAGTTTCAGTTTC | mixdicodons_GTCAAA_AGTTTC_4      | -2.807582 | VKVKVKVKSFSFSFSF |\n",
       "| 1 | -2.541997 | 0.5500262 | TCCAAGATCAAGATCAAGATCTCCTCCAAGATCAAGATCAAGATCTCC | reorderdicodon_AAGATC_3          | -2.749168 | SKIKIKISSKIKIKIS |\n",
       "| 2 | -2.956339 | 0.4112640 | TCCAAGATCAAGATCAAGATCTCCTCCAAGATCAAGATCAAGATCTCC | reorderdicodon_AAGATC_3          | -2.749168 | SKIKIKISSKIKIKIS |\n",
       "| 1 | -3.099142 | 1.4416179 | TAATGATAATGATAATGATAATGATAATGATAATGATAATGATAATGA | stop_control                     | -2.638341 | **************** |\n",
       "| 2 | -2.177540 | 0.7057667 | TAATGATAATGATAATGATAATGATAATGATAATGATAATGATAATGA | stop_control                     | -2.638341 | **************** |\n",
       "| 1 | -2.419543 | 0.4690011 | AGTTTCAGTTTCAGTTTCAGTTTCAAAGTCAAAGTCAAAGTCAAAGTC | mixdicodons_AGTTTC_AAAGTC_4      | -2.616937 | SFSFSFSFKVKVKVKV |\n",
       "| 2 | -2.814331 | 0.6768612 | AGTTTCAGTTTCAGTTTCAGTTTCAAAGTCAAAGTCAAAGTCAAAGTC | mixdicodons_AGTTTC_AAAGTC_4      | -2.616937 | SFSFSFSFKVKVKVKV |\n",
       "| ⋮ | ⋮ | ⋮ | ⋮ | ⋮ | ⋮ | ⋮ |\n",
       "| 1 | 1.0892193 | 0.2579447 | CGTGAACGTGAATCCGGCTCCGGCTCCGGCTCCGGCTCCGGCTCCGGC | varydicodonrepeatlength_CGTGAA_2 | 1.042453 | RERESGSGSGSGSGSG |\n",
       "| 2 | 0.9956858 | 0.4330103 | CGTGAACGTGAATCCGGCTCCGGCTCCGGCTCCGGCTCCGGCTCCGGC | varydicodonrepeatlength_CGTGAA_2 | 1.042453 | RERESGSGSGSGSGSG |\n",
       "| 1 | 1.0578513 | 0.3443258 | TCCGGCTCCGGCTCCGGCTCCGGCTCCGGCTCCGGCTCCGGCTCCGGC | linker_control                   | 1.045702 | SGSGSGSGSGSGSGSG |\n",
       "| 2 | 1.0335530 | 0.5046575 | TCCGGCTCCGGCTCCGGCTCCGGCTCCGGCTCCGGCTCCGGCTCCGGC | linker_control                   | 1.045702 | SGSGSGSGSGSGSGSG |\n",
       "| 1 | 0.6425565 | 0.3653258 | TTTTGTTTTTGTTTTTGTTTTTGTTTTTGTTCCGGCTCCGGCTCCGGC | varydicodonrepeatlength_TTTTGT_5 | 1.053851 | FCFCFCFCFCSGSGSG |\n",
       "| 2 | 1.4651454 | 0.3703506 | TTTTGTTTTTGTTTTTGTTTTTGTTTTTGTTCCGGCTCCGGCTCCGGC | varydicodonrepeatlength_TTTTGT_5 | 1.053851 | FCFCFCFCFCSGSGSG |\n",
       "| 1 | 0.9447449 | 0.4022621 | CGTGAACGTGAACGTGAACGTGAACGTGAATCCGGCTCCGGCTCCGGC | varydicodonrepeatlength_CGTGAA_5 | 1.085163 | RERERERERESGSGSG |\n",
       "| 2 | 1.2255805 | 0.2957538 | CGTGAACGTGAACGTGAACGTGAACGTGAATCCGGCTCCGGCTCCGGC | varydicodonrepeatlength_CGTGAA_5 | 1.085163 | RERERERERESGSGSG |\n",
       "| 1 | 1.3661528 | 0.7227392 | GTCATGGTCATGGTCATGGTCATGGTCATGGTCATGTCCGGCTCCGGC | varydicodonrepeatlength_GTCATG_6 | 1.117769 | VMVMVMVMVMVMSGSG |\n",
       "| 2 | 0.8693850 | 0.6263782 | GTCATGGTCATGGTCATGGTCATGGTCATGGTCATGTCCGGCTCCGGC | varydicodonrepeatlength_GTCATG_6 | 1.117769 | VMVMVMVMVMVMSGSG |\n",
       "| 1 | 1.1592777 | 0.4318035 | TTGATGTTGATGTTGATGTTGATGTTGATGTTGATGTCCGGCTCCGGC | varydicodonrepeatlength_TTGATG_6 | 1.146032 | LMLMLMLMLMLMSGSG |\n",
       "| 2 | 1.1327867 | 0.3600565 | TTGATGTTGATGTTGATGTTGATGTTGATGTTGATGTCCGGCTCCGGC | varydicodonrepeatlength_TTGATG_6 | 1.146032 | LMLMLMLMLMLMSGSG |\n",
       "| 1 | 1.1649532 | 0.3354557 | AGTGGCAGTGGCAGTGGCAGTGGCTCCGGCTCCGGCTCCGGCTCCGGC | varydicodonrepeatlength_AGTGGC_4 | 1.152433 | SGSGSGSGSGSGSGSG |\n",
       "| 2 | 1.1399124 | 0.3678420 | AGTGGCAGTGGCAGTGGCAGTGGCTCCGGCTCCGGCTCCGGCTCCGGC | varydicodonrepeatlength_AGTGGC_4 | 1.152433 | SGSGSGSGSGSGSGSG |\n",
       "| 1 | 0.9046157 | 0.4036330 | ATCATCATCATCATCATCTCCGGCTCCGGCTCCGGCTCCGGCTCCGGC | varydicodonrepeatlength_ATCATC_3 | 1.169473 | IIIIIISGSGSGSGSG |\n",
       "| 2 | 1.4343302 | 0.3875847 | ATCATCATCATCATCATCTCCGGCTCCGGCTCCGGCTCCGGCTCCGGC | varydicodonrepeatlength_ATCATC_3 | 1.169473 | IIIIIISGSGSGSGSG |\n",
       "| 1 | 1.3881561 | 0.3697348 | GTCATGGTCATGGTCATGGTCATGTCCGGCTCCGGCTCCGGCTCCGGC | varydicodonrepeatlength_GTCATG_4 | 1.200432 | VMVMVMVMSGSGSGSG |\n",
       "| 2 | 1.0127072 | 0.4484835 | GTCATGGTCATGGTCATGGTCATGTCCGGCTCCGGCTCCGGCTCCGGC | varydicodonrepeatlength_GTCATG_4 | 1.200432 | VMVMVMVMSGSGSGSG |\n",
       "| 1 | 1.1635121 | 0.3052267 | TCCATCATCATCATCTCCATCATCATCATCTCCATCATCATCATCTCC | reorderdicodon_ATCATC_2          | 1.211780 | SIIIISIIIISIIIIS |\n",
       "| 2 | 1.2600476 | 0.2400096 | TCCATCATCATCATCTCCATCATCATCATCTCCATCATCATCATCTCC | reorderdicodon_ATCATC_2          | 1.211780 | SIIIISIIIISIIIIS |\n",
       "| 1 | 1.1138223 | 0.3381735 | TTTCTGTTTCTGTTTCTGTTTCTGTTTCTGTTTCTGTTTCTGTTTCTG | varydicodonrepeatlength_TTTCTG_8 | 1.244725 | FLFLFLFLFLFLFLFL |\n",
       "| 2 | 1.3756276 | 0.2748798 | TTTCTGTTTCTGTTTCTGTTTCTGTTTCTGTTTCTGTTTCTGTTTCTG | varydicodonrepeatlength_TTTCTG_8 | 1.244725 | FLFLFLFLFLFLFLFL |\n",
       "| 1 | 1.1086553 | 0.3861470 | CCTCCGCCTCCGCCTCCGCCTCCGCCTCCGCCTCCGCCTCCGTCCGGC | varydicodonrepeatlength_CCTCCG_7 | 1.370497 | PPPPPPPPPPPPPPSG |\n",
       "| 2 | 1.6323387 | 0.3174158 | CCTCCGCCTCCGCCTCCGCCTCCGCCTCCGCCTCCGCCTCCGTCCGGC | varydicodonrepeatlength_CCTCCG_7 | 1.370497 | PPPPPPPPPPPPPPSG |\n",
       "| 1 | 1.2502382 | 0.4214370 | CCTCCGCCTCCGCCTCCGCCTCCGCCTCCGTCCGGCTCCGGCTCCGGC | varydicodonrepeatlength_CCTCCG_5 | 1.540923 | PPPPPPPPPPSGSGSG |\n",
       "| 2 | 1.8316076 | 0.3079115 | CCTCCGCCTCCGCCTCCGCCTCCGCCTCCGTCCGGCTCCGGCTCCGGC | varydicodonrepeatlength_CCTCCG_5 | 1.540923 | PPPPPPPPPPSGSGSG |\n",
       "| 1 | 0.8545439 | 0.2834753 | CCTCCGCCTCCGCCTCCGCCTCCGCCTCCGCCTCCGTCCGGCTCCGGC | varydicodonrepeatlength_CCTCCG_6 | 1.596453 | PPPPPPPPPPPPSGSG |\n",
       "| 2 | 2.3383612 | 0.4790873 | CCTCCGCCTCCGCCTCCGCCTCCGCCTCCGCCTCCGTCCGGCTCCGGC | varydicodonrepeatlength_CCTCCG_6 | 1.596453 | PPPPPPPPPPPPSGSG |\n",
       "| 1 | 1.1581770 | 0.3961745 | CCTCCGCCTCCGCCTCCGCCTCCGCCTCCGCCTCCGCCTCCGCCTCCG | varydicodonrepeatlength_CCTCCG_8 | 1.836754 | PPPPPPPPPPPPPPPP |\n",
       "| 2 | 2.5153302 | 0.6267918 | CCTCCGCCTCCGCCTCCGCCTCCGCCTCCGCCTCCGCCTCCGCCTCCG | varydicodonrepeatlength_CCTCCG_8 | 1.836754 | PPPPPPPPPPPPPPPP |\n",
       "\n"
      ],
      "text/plain": [
       "    replicate lfc       lfc_sd   \n",
       "1   1         -4.618212 1.1210772\n",
       "2   2         -4.445584 1.3655761\n",
       "3   1         -4.293995 1.5417913\n",
       "4   2         -3.447707 0.7862848\n",
       "5   1         -2.274920 0.7883866\n",
       "6   2         -5.035438 1.1513984\n",
       "7   1         -2.779976 0.5471739\n",
       "8   2         -4.440274 0.6501135\n",
       "9   1         -3.730425 0.6497577\n",
       "10  2         -3.077182 0.7607685\n",
       "11  1         -3.679618 0.6597174\n",
       "12  2         -2.868897 0.4156915\n",
       "13  1         -2.851509 0.4902509\n",
       "14  2         -3.567355 1.1608629\n",
       "15  1         -3.788851 0.6924886\n",
       "16  2         -2.550427 0.8425381\n",
       "17  1         -3.684063 1.4654074\n",
       "18  2         -2.511607 1.6939674\n",
       "19  1         -2.677359 0.6175113\n",
       "20  2         -3.190582 1.6956964\n",
       "21  1         -2.459710 0.5638263\n",
       "22  2         -3.265608 1.0217510\n",
       "23  1         -2.662041 0.4923466\n",
       "24  2         -2.953123 2.0458189\n",
       "25  1         -2.541997 0.5500262\n",
       "26  2         -2.956339 0.4112640\n",
       "27  1         -3.099142 1.4416179\n",
       "28  2         -2.177540 0.7057667\n",
       "29  1         -2.419543 0.4690011\n",
       "30  2         -2.814331 0.6768612\n",
       "⋮   ⋮         ⋮         ⋮        \n",
       "605 1         1.0892193 0.2579447\n",
       "606 2         0.9956858 0.4330103\n",
       "607 1         1.0578513 0.3443258\n",
       "608 2         1.0335530 0.5046575\n",
       "609 1         0.6425565 0.3653258\n",
       "610 2         1.4651454 0.3703506\n",
       "611 1         0.9447449 0.4022621\n",
       "612 2         1.2255805 0.2957538\n",
       "613 1         1.3661528 0.7227392\n",
       "614 2         0.8693850 0.6263782\n",
       "615 1         1.1592777 0.4318035\n",
       "616 2         1.1327867 0.3600565\n",
       "617 1         1.1649532 0.3354557\n",
       "618 2         1.1399124 0.3678420\n",
       "619 1         0.9046157 0.4036330\n",
       "620 2         1.4343302 0.3875847\n",
       "621 1         1.3881561 0.3697348\n",
       "622 2         1.0127072 0.4484835\n",
       "623 1         1.1635121 0.3052267\n",
       "624 2         1.2600476 0.2400096\n",
       "625 1         1.1138223 0.3381735\n",
       "626 2         1.3756276 0.2748798\n",
       "627 1         1.1086553 0.3861470\n",
       "628 2         1.6323387 0.3174158\n",
       "629 1         1.2502382 0.4214370\n",
       "630 2         1.8316076 0.3079115\n",
       "631 1         0.8545439 0.2834753\n",
       "632 2         2.3383612 0.4790873\n",
       "633 1         1.1581770 0.3961745\n",
       "634 2         2.5153302 0.6267918\n",
       "    seq                                             \n",
       "1   TACAAGTACAAGTACAAGTACAAGTACAAGTACAAGTCCGGCTCCGGC\n",
       "2   TACAAGTACAAGTACAAGTACAAGTACAAGTACAAGTCCGGCTCCGGC\n",
       "3   AAAGTCAGTTTCAAAGTCAGTTTCAAAGTCAGTTTCAAAGTCAGTTTC\n",
       "4   AAAGTCAGTTTCAAAGTCAGTTTCAAAGTCAGTTTCAAAGTCAGTTTC\n",
       "5   CGCCATCGCCATCGCCATCGCCATCGCCATCGCCATCGCCATCGCCAT\n",
       "6   CGCCATCGCCATCGCCATCGCCATCGCCATCGCCATCGCCATCGCCAT\n",
       "7   TACAAGTACAAGTACAAGTACAAGTACAAGTACAAGTACAAGTACAAG\n",
       "8   TACAAGTACAAGTACAAGTACAAGTACAAGTACAAGTACAAGTACAAG\n",
       "9   AGTTTCAAAGTCAGTTTCAAAGTCAGTTTCAAAGTCAGTTTCAAAGTC\n",
       "10  AGTTTCAAAGTCAGTTTCAAAGTCAGTTTCAAAGTCAGTTTCAAAGTC\n",
       "11  GTCAAAGTCAAAGTCAAAGTCAAAGTCAAATCCGGCTCCGGCTCCGGC\n",
       "12  GTCAAAGTCAAAGTCAAAGTCAAAGTCAAATCCGGCTCCGGCTCCGGC\n",
       "13  CGCCATCGCCATCGCCATCGCCATCGCCATCGCCATCGCCATTCCGGC\n",
       "14  CGCCATCGCCATCGCCATCGCCATCGCCATCGCCATCGCCATTCCGGC\n",
       "15  TTCAGTGTCAAATTCAGTGTCAAATTCAGTGTCAAATTCAGTGTCAAA\n",
       "16  TTCAGTGTCAAATTCAGTGTCAAATTCAGTGTCAAATTCAGTGTCAAA\n",
       "17  AAGATCAAGATCAAGATCAAGATCAAGATCAAGATCAAGATCAAGATC\n",
       "18  AAGATCAAGATCAAGATCAAGATCAAGATCAAGATCAAGATCAAGATC\n",
       "19  TACAAGTACAAGTACAAGTACAAGTACAAGTACAAGTACAAGTCCGGC\n",
       "20  TACAAGTACAAGTACAAGTACAAGTACAAGTACAAGTACAAGTCCGGC\n",
       "21  TCCAAGTACAAGTACAAGTACTCCTCCAAGTACAAGTACAAGTACTCC\n",
       "22  TCCAAGTACAAGTACAAGTACTCCTCCAAGTACAAGTACAAGTACTCC\n",
       "23  GTCAAAGTCAAAGTCAAAGTCAAAAGTTTCAGTTTCAGTTTCAGTTTC\n",
       "24  GTCAAAGTCAAAGTCAAAGTCAAAAGTTTCAGTTTCAGTTTCAGTTTC\n",
       "25  TCCAAGATCAAGATCAAGATCTCCTCCAAGATCAAGATCAAGATCTCC\n",
       "26  TCCAAGATCAAGATCAAGATCTCCTCCAAGATCAAGATCAAGATCTCC\n",
       "27  TAATGATAATGATAATGATAATGATAATGATAATGATAATGATAATGA\n",
       "28  TAATGATAATGATAATGATAATGATAATGATAATGATAATGATAATGA\n",
       "29  AGTTTCAGTTTCAGTTTCAGTTTCAAAGTCAAAGTCAAAGTCAAAGTC\n",
       "30  AGTTTCAGTTTCAGTTTCAGTTTCAAAGTCAAAGTCAAAGTCAAAGTC\n",
       "⋮   ⋮                                               \n",
       "605 CGTGAACGTGAATCCGGCTCCGGCTCCGGCTCCGGCTCCGGCTCCGGC\n",
       "606 CGTGAACGTGAATCCGGCTCCGGCTCCGGCTCCGGCTCCGGCTCCGGC\n",
       "607 TCCGGCTCCGGCTCCGGCTCCGGCTCCGGCTCCGGCTCCGGCTCCGGC\n",
       "608 TCCGGCTCCGGCTCCGGCTCCGGCTCCGGCTCCGGCTCCGGCTCCGGC\n",
       "609 TTTTGTTTTTGTTTTTGTTTTTGTTTTTGTTCCGGCTCCGGCTCCGGC\n",
       "610 TTTTGTTTTTGTTTTTGTTTTTGTTTTTGTTCCGGCTCCGGCTCCGGC\n",
       "611 CGTGAACGTGAACGTGAACGTGAACGTGAATCCGGCTCCGGCTCCGGC\n",
       "612 CGTGAACGTGAACGTGAACGTGAACGTGAATCCGGCTCCGGCTCCGGC\n",
       "613 GTCATGGTCATGGTCATGGTCATGGTCATGGTCATGTCCGGCTCCGGC\n",
       "614 GTCATGGTCATGGTCATGGTCATGGTCATGGTCATGTCCGGCTCCGGC\n",
       "615 TTGATGTTGATGTTGATGTTGATGTTGATGTTGATGTCCGGCTCCGGC\n",
       "616 TTGATGTTGATGTTGATGTTGATGTTGATGTTGATGTCCGGCTCCGGC\n",
       "617 AGTGGCAGTGGCAGTGGCAGTGGCTCCGGCTCCGGCTCCGGCTCCGGC\n",
       "618 AGTGGCAGTGGCAGTGGCAGTGGCTCCGGCTCCGGCTCCGGCTCCGGC\n",
       "619 ATCATCATCATCATCATCTCCGGCTCCGGCTCCGGCTCCGGCTCCGGC\n",
       "620 ATCATCATCATCATCATCTCCGGCTCCGGCTCCGGCTCCGGCTCCGGC\n",
       "621 GTCATGGTCATGGTCATGGTCATGTCCGGCTCCGGCTCCGGCTCCGGC\n",
       "622 GTCATGGTCATGGTCATGGTCATGTCCGGCTCCGGCTCCGGCTCCGGC\n",
       "623 TCCATCATCATCATCTCCATCATCATCATCTCCATCATCATCATCTCC\n",
       "624 TCCATCATCATCATCTCCATCATCATCATCTCCATCATCATCATCTCC\n",
       "625 TTTCTGTTTCTGTTTCTGTTTCTGTTTCTGTTTCTGTTTCTGTTTCTG\n",
       "626 TTTCTGTTTCTGTTTCTGTTTCTGTTTCTGTTTCTGTTTCTGTTTCTG\n",
       "627 CCTCCGCCTCCGCCTCCGCCTCCGCCTCCGCCTCCGCCTCCGTCCGGC\n",
       "628 CCTCCGCCTCCGCCTCCGCCTCCGCCTCCGCCTCCGCCTCCGTCCGGC\n",
       "629 CCTCCGCCTCCGCCTCCGCCTCCGCCTCCGTCCGGCTCCGGCTCCGGC\n",
       "630 CCTCCGCCTCCGCCTCCGCCTCCGCCTCCGTCCGGCTCCGGCTCCGGC\n",
       "631 CCTCCGCCTCCGCCTCCGCCTCCGCCTCCGCCTCCGTCCGGCTCCGGC\n",
       "632 CCTCCGCCTCCGCCTCCGCCTCCGCCTCCGCCTCCGTCCGGCTCCGGC\n",
       "633 CCTCCGCCTCCGCCTCCGCCTCCGCCTCCGCCTCCGCCTCCGCCTCCG\n",
       "634 CCTCCGCCTCCGCCTCCGCCTCCGCCTCCGCCTCCGCCTCCGCCTCCG\n",
       "    insert_name                      mean_lfc  insert          \n",
       "1   varydicodonrepeatlength_TACAAG_6 -4.531898 YKYKYKYKYKYKSGSG\n",
       "2   varydicodonrepeatlength_TACAAG_6 -4.531898 YKYKYKYKYKYKSGSG\n",
       "3   mixdicodons_AAAGTC_AGTTTC_1      -3.870851 KVSFKVSFKVSFKVSF\n",
       "4   mixdicodons_AAAGTC_AGTTTC_1      -3.870851 KVSFKVSFKVSFKVSF\n",
       "5   varydicodonrepeatlength_CGCCAT_8 -3.655179 RHRHRHRHRHRHRHRH\n",
       "6   varydicodonrepeatlength_CGCCAT_8 -3.655179 RHRHRHRHRHRHRHRH\n",
       "7   varydicodonrepeatlength_TACAAG_8 -3.610125 YKYKYKYKYKYKYKYK\n",
       "8   varydicodonrepeatlength_TACAAG_8 -3.610125 YKYKYKYKYKYKYKYK\n",
       "9   mixdicodons_AGTTTC_AAAGTC_1      -3.403804 SFKVSFKVSFKVSFKV\n",
       "10  mixdicodons_AGTTTC_AAAGTC_1      -3.403804 SFKVSFKVSFKVSFKV\n",
       "11  varydicodonrepeatlength_GTCAAA_5 -3.274257 VKVKVKVKVKSGSGSG\n",
       "12  varydicodonrepeatlength_GTCAAA_5 -3.274257 VKVKVKVKVKSGSGSG\n",
       "13  varydicodonrepeatlength_CGCCAT_7 -3.209432 RHRHRHRHRHRHRHSG\n",
       "14  varydicodonrepeatlength_CGCCAT_7 -3.209432 RHRHRHRHRHRHRHSG\n",
       "15  mixdicodons_TTCAGT_GTCAAA_1      -3.169639 FSVKFSVKFSVKFSVK\n",
       "16  mixdicodons_TTCAGT_GTCAAA_1      -3.169639 FSVKFSVKFSVKFSVK\n",
       "17  varydicodonrepeatlength_AAGATC_8 -3.097835 KIKIKIKIKIKIKIKI\n",
       "18  varydicodonrepeatlength_AAGATC_8 -3.097835 KIKIKIKIKIKIKIKI\n",
       "19  varydicodonrepeatlength_TACAAG_7 -2.933970 YKYKYKYKYKYKYKSG\n",
       "20  varydicodonrepeatlength_TACAAG_7 -2.933970 YKYKYKYKYKYKYKSG\n",
       "21  reorderdicodon_AAGTAC_3          -2.862659 SKYKYKYSSKYKYKYS\n",
       "22  reorderdicodon_AAGTAC_3          -2.862659 SKYKYKYSSKYKYKYS\n",
       "23  mixdicodons_GTCAAA_AGTTTC_4      -2.807582 VKVKVKVKSFSFSFSF\n",
       "24  mixdicodons_GTCAAA_AGTTTC_4      -2.807582 VKVKVKVKSFSFSFSF\n",
       "25  reorderdicodon_AAGATC_3          -2.749168 SKIKIKISSKIKIKIS\n",
       "26  reorderdicodon_AAGATC_3          -2.749168 SKIKIKISSKIKIKIS\n",
       "27  stop_control                     -2.638341 ****************\n",
       "28  stop_control                     -2.638341 ****************\n",
       "29  mixdicodons_AGTTTC_AAAGTC_4      -2.616937 SFSFSFSFKVKVKVKV\n",
       "30  mixdicodons_AGTTTC_AAAGTC_4      -2.616937 SFSFSFSFKVKVKVKV\n",
       "⋮   ⋮                                ⋮         ⋮               \n",
       "605 varydicodonrepeatlength_CGTGAA_2 1.042453  RERESGSGSGSGSGSG\n",
       "606 varydicodonrepeatlength_CGTGAA_2 1.042453  RERESGSGSGSGSGSG\n",
       "607 linker_control                   1.045702  SGSGSGSGSGSGSGSG\n",
       "608 linker_control                   1.045702  SGSGSGSGSGSGSGSG\n",
       "609 varydicodonrepeatlength_TTTTGT_5 1.053851  FCFCFCFCFCSGSGSG\n",
       "610 varydicodonrepeatlength_TTTTGT_5 1.053851  FCFCFCFCFCSGSGSG\n",
       "611 varydicodonrepeatlength_CGTGAA_5 1.085163  RERERERERESGSGSG\n",
       "612 varydicodonrepeatlength_CGTGAA_5 1.085163  RERERERERESGSGSG\n",
       "613 varydicodonrepeatlength_GTCATG_6 1.117769  VMVMVMVMVMVMSGSG\n",
       "614 varydicodonrepeatlength_GTCATG_6 1.117769  VMVMVMVMVMVMSGSG\n",
       "615 varydicodonrepeatlength_TTGATG_6 1.146032  LMLMLMLMLMLMSGSG\n",
       "616 varydicodonrepeatlength_TTGATG_6 1.146032  LMLMLMLMLMLMSGSG\n",
       "617 varydicodonrepeatlength_AGTGGC_4 1.152433  SGSGSGSGSGSGSGSG\n",
       "618 varydicodonrepeatlength_AGTGGC_4 1.152433  SGSGSGSGSGSGSGSG\n",
       "619 varydicodonrepeatlength_ATCATC_3 1.169473  IIIIIISGSGSGSGSG\n",
       "620 varydicodonrepeatlength_ATCATC_3 1.169473  IIIIIISGSGSGSGSG\n",
       "621 varydicodonrepeatlength_GTCATG_4 1.200432  VMVMVMVMSGSGSGSG\n",
       "622 varydicodonrepeatlength_GTCATG_4 1.200432  VMVMVMVMSGSGSGSG\n",
       "623 reorderdicodon_ATCATC_2          1.211780  SIIIISIIIISIIIIS\n",
       "624 reorderdicodon_ATCATC_2          1.211780  SIIIISIIIISIIIIS\n",
       "625 varydicodonrepeatlength_TTTCTG_8 1.244725  FLFLFLFLFLFLFLFL\n",
       "626 varydicodonrepeatlength_TTTCTG_8 1.244725  FLFLFLFLFLFLFLFL\n",
       "627 varydicodonrepeatlength_CCTCCG_7 1.370497  PPPPPPPPPPPPPPSG\n",
       "628 varydicodonrepeatlength_CCTCCG_7 1.370497  PPPPPPPPPPPPPPSG\n",
       "629 varydicodonrepeatlength_CCTCCG_5 1.540923  PPPPPPPPPPSGSGSG\n",
       "630 varydicodonrepeatlength_CCTCCG_5 1.540923  PPPPPPPPPPSGSGSG\n",
       "631 varydicodonrepeatlength_CCTCCG_6 1.596453  PPPPPPPPPPPPSGSG\n",
       "632 varydicodonrepeatlength_CCTCCG_6 1.596453  PPPPPPPPPPPPSGSG\n",
       "633 varydicodonrepeatlength_CCTCCG_8 1.836754  PPPPPPPPPPPPPPPP\n",
       "634 varydicodonrepeatlength_CCTCCG_8 1.836754  PPPPPPPPPPPPPPPP"
      ]
     },
     "metadata": {},
     "output_type": "display_data"
    },
    {
     "data": {
      "text/html": [
       "<table class=\"dataframe\">\n",
       "<caption>A tibble: 634 × 10</caption>\n",
       "<thead>\n",
       "\t<tr><th scope=col>seq</th><th scope=col>insert_name</th><th scope=col>replicate</th><th scope=col>count_grna</th><th scope=col>count_mrna</th><th scope=col>n_barcodes_grna</th><th scope=col>n_barcodes_mrna</th><th scope=col>lfc</th><th scope=col>mean_lfc</th><th scope=col>insert</th></tr>\n",
       "\t<tr><th scope=col>&lt;chr&gt;</th><th scope=col>&lt;chr&gt;</th><th scope=col>&lt;chr&gt;</th><th scope=col>&lt;dbl&gt;</th><th scope=col>&lt;dbl&gt;</th><th scope=col>&lt;int&gt;</th><th scope=col>&lt;int&gt;</th><th scope=col>&lt;dbl&gt;</th><th scope=col>&lt;dbl&gt;</th><th scope=col>&lt;chr&gt;</th></tr>\n",
       "</thead>\n",
       "<tbody>\n",
       "\t<tr><td>TACAAGTACAAGTACAAGTACAAGTACAAGTACAAGTCCGGCTCCGGC</td><td>varydicodonrepeatlength_TACAAG_6</td><td>1</td><td>13253</td><td> 519</td><td>39</td><td>21</td><td>-4.659915</td><td>-3.703576</td><td>YKYKYKYKYKYKSGSG</td></tr>\n",
       "\t<tr><td>TACAAGTACAAGTACAAGTACAAGTACAAGTACAAGTCCGGCTCCGGC</td><td>varydicodonrepeatlength_TACAAG_6</td><td>2</td><td> 6416</td><td> 946</td><td>36</td><td>21</td><td>-2.747237</td><td>-3.703576</td><td>YKYKYKYKYKYKSGSG</td></tr>\n",
       "\t<tr><td>AAAGTCAGTTTCAAAGTCAGTTTCAAAGTCAGTTTCAAAGTCAGTTTC</td><td>mixdicodons_AAAGTC_AGTTTC_1     </td><td>1</td><td>26785</td><td>1644</td><td>66</td><td>34</td><td>-4.011618</td><td>-3.548641</td><td>KVSFKVSFKVSFKVSF</td></tr>\n",
       "\t<tr><td>AAAGTCAGTTTCAAAGTCAGTTTCAAAGTCAGTTTCAAAGTCAGTTTC</td><td>mixdicodons_AAAGTC_AGTTTC_1     </td><td>2</td><td>15427</td><td>1799</td><td>72</td><td>44</td><td>-3.085665</td><td>-3.548641</td><td>KVSFKVSFKVSFKVSF</td></tr>\n",
       "\t<tr><td>TTCAGTGTCAAATTCAGTGTCAAATTCAGTGTCAAATTCAGTGTCAAA</td><td>mixdicodons_TTCAGT_GTCAAA_1     </td><td>1</td><td>22124</td><td>1047</td><td>58</td><td>30</td><td>-4.386754</td><td>-3.532029</td><td>FSVKFSVKFSVKFSVK</td></tr>\n",
       "\t<tr><td>TTCAGTGTCAAATTCAGTGTCAAATTCAGTGTCAAATTCAGTGTCAAA</td><td>mixdicodons_TTCAGT_GTCAAA_1     </td><td>2</td><td>15869</td><td>2456</td><td>53</td><td>30</td><td>-2.677303</td><td>-3.532029</td><td>FSVKFSVKFSVKFSVK</td></tr>\n",
       "\t<tr><td>TACAAGTACAAGTACAAGTACAAGTACAAGTACAAGTACAAGTACAAG</td><td>varydicodonrepeatlength_TACAAG_8</td><td>2</td><td>14470</td><td>1267</td><td>55</td><td>44</td><td>-3.499051</td><td>-3.392553</td><td>YKYKYKYKYKYKYKYK</td></tr>\n",
       "\t<tr><td>TACAAGTACAAGTACAAGTACAAGTACAAGTACAAGTACAAGTACAAG</td><td>varydicodonrepeatlength_TACAAG_8</td><td>1</td><td>17844</td><td>1811</td><td>63</td><td>40</td><td>-3.286055</td><td>-3.392553</td><td>YKYKYKYKYKYKYKYK</td></tr>\n",
       "\t<tr><td>AGTTTCAAAGTCAGTTTCAAAGTCAGTTTCAAAGTCAGTTTCAAAGTC</td><td>mixdicodons_AGTTTC_AAAGTC_1     </td><td>1</td><td>24536</td><td>1115</td><td>65</td><td>36</td><td>-4.445259</td><td>-3.387627</td><td>SFKVSFKVSFKVSFKV</td></tr>\n",
       "\t<tr><td>AGTTTCAAAGTCAGTTTCAAAGTCAGTTTCAAAGTCAGTTTCAAAGTC</td><td>mixdicodons_AGTTTC_AAAGTC_1     </td><td>2</td><td>12936</td><td>2547</td><td>50</td><td>41</td><td>-2.329995</td><td>-3.387627</td><td>SFKVSFKVSFKVSFKV</td></tr>\n",
       "\t<tr><td>CGCCATCGCCATCGCCATCGCCATCGCCATCGCCATCGCCATCGCCAT</td><td>varydicodonrepeatlength_CGCCAT_8</td><td>2</td><td> 7286</td><td> 689</td><td>41</td><td>30</td><td>-3.388026</td><td>-3.370821</td><td>RHRHRHRHRHRHRHRH</td></tr>\n",
       "\t<tr><td>CGCCATCGCCATCGCCATCGCCATCGCCATCGCCATCGCCATCGCCAT</td><td>varydicodonrepeatlength_CGCCAT_8</td><td>1</td><td>11007</td><td>1066</td><td>51</td><td>20</td><td>-3.353617</td><td>-3.370821</td><td>RHRHRHRHRHRHRHRH</td></tr>\n",
       "\t<tr><td>CGCCATCGCCATCGCCATCGCCATCGCCATCGCCATCGCCATTCCGGC</td><td>varydicodonrepeatlength_CGCCAT_7</td><td>1</td><td>17969</td><td>1277</td><td>60</td><td>37</td><td>-3.800154</td><td>-3.279514</td><td>RHRHRHRHRHRHRHSG</td></tr>\n",
       "\t<tr><td>CGCCATCGCCATCGCCATCGCCATCGCCATCGCCATCGCCATTCCGGC</td><td>varydicodonrepeatlength_CGCCAT_7</td><td>2</td><td> 8608</td><td>1259</td><td>48</td><td>30</td><td>-2.758875</td><td>-3.279514</td><td>RHRHRHRHRHRHRHSG</td></tr>\n",
       "\t<tr><td>GTCAAAGTCAAAGTCAAAGTCAAAGTCAAAGTCAAAGTCAAAGTCAAA</td><td>varydicodonrepeatlength_GTCAAA_8</td><td>1</td><td>16768</td><td>1634</td><td>52</td><td>29</td><td>-3.344705</td><td>-3.009118</td><td>VKVKVKVKVKVKVKVK</td></tr>\n",
       "\t<tr><td>GTCAAAGTCAAAGTCAAAGTCAAAGTCAAAGTCAAAGTCAAAGTCAAA</td><td>varydicodonrepeatlength_GTCAAA_8</td><td>2</td><td>15428</td><td>2394</td><td>53</td><td>28</td><td>-2.673531</td><td>-3.009118</td><td>VKVKVKVKVKVKVKVK</td></tr>\n",
       "\t<tr><td>TTCAGTTTCAGTTTCAGTTTCAGTAAAGTCAAAGTCAAAGTCAAAGTC</td><td>mixdicodons_TTCAGT_AAAGTC_4     </td><td>2</td><td>14148</td><td>1057</td><td>51</td><td>34</td><td>-3.728026</td><td>-2.877532</td><td>FSFSFSFSKVKVKVKV</td></tr>\n",
       "\t<tr><td>TTCAGTTTCAGTTTCAGTTTCAGTAAAGTCAAAGTCAAAGTCAAAGTC</td><td>mixdicodons_TTCAGT_AAAGTC_4     </td><td>1</td><td>30037</td><td>7296</td><td>77</td><td>43</td><td>-2.027038</td><td>-2.877532</td><td>FSFSFSFSKVKVKVKV</td></tr>\n",
       "\t<tr><td>TCCAAGATCAAGATCAAGATCTCCTCCAAGATCAAGATCAAGATCTCC</td><td>reorderdicodon_AAGATC_3         </td><td>1</td><td>19731</td><td>2330</td><td>59</td><td>37</td><td>-3.067537</td><td>-2.849444</td><td>SKIKIKISSKIKIKIS</td></tr>\n",
       "\t<tr><td>TCCAAGATCAAGATCAAGATCTCCTCCAAGATCAAGATCAAGATCTCC</td><td>reorderdicodon_AAGATC_3         </td><td>2</td><td>14827</td><td>2369</td><td>53</td><td>43</td><td>-2.631351</td><td>-2.849444</td><td>SKIKIKISSKIKIKIS</td></tr>\n",
       "\t<tr><td>GTCAAAGTCAAAGTCAAAGTCAAAAGTTTCAGTTTCAGTTTCAGTTTC</td><td>mixdicodons_GTCAAA_AGTTTC_4     </td><td>1</td><td>18677</td><td>1361</td><td>53</td><td>23</td><td>-3.763998</td><td>-2.846732</td><td>VKVKVKVKSFSFSFSF</td></tr>\n",
       "\t<tr><td>GTCAAAGTCAAAGTCAAAGTCAAAAGTTTCAGTTTCAGTTTCAGTTTC</td><td>mixdicodons_GTCAAA_AGTTTC_4     </td><td>2</td><td>11974</td><td>3112</td><td>39</td><td>31</td><td>-1.929466</td><td>-2.846732</td><td>VKVKVKVKSFSFSFSF</td></tr>\n",
       "\t<tr><td>AAAGTCAAAGTCAGTTTCAGTTTCAAAGTCAAAGTCAGTTTCAGTTTC</td><td>mixdicodons_AAAGTC_AGTTTC_2     </td><td>1</td><td>25665</td><td>2756</td><td>60</td><td>38</td><td>-3.204629</td><td>-2.804449</td><td>KVKVSFSFKVKVSFSF</td></tr>\n",
       "\t<tr><td>AAAGTCAAAGTCAGTTTCAGTTTCAAAGTCAAAGTCAGTTTCAGTTTC</td><td>mixdicodons_AAAGTC_AGTTTC_2     </td><td>2</td><td>26271</td><td>4913</td><td>73</td><td>60</td><td>-2.404270</td><td>-2.804449</td><td>KVKVSFSFKVKVSFSF</td></tr>\n",
       "\t<tr><td>TACAAGTACAAGTACAAGTACAAGTACAAGTACAAGTACAAGTCCGGC</td><td>varydicodonrepeatlength_TACAAG_7</td><td>1</td><td>16679</td><td>1698</td><td>55</td><td>34</td><td>-3.281599</td><td>-2.746545</td><td>YKYKYKYKYKYKYKSG</td></tr>\n",
       "\t<tr><td>TACAAGTACAAGTACAAGTACAAGTACAAGTACAAGTACAAGTCCGGC</td><td>varydicodonrepeatlength_TACAAG_7</td><td>2</td><td>14882</td><td>3181</td><td>54</td><td>32</td><td>-2.211491</td><td>-2.746545</td><td>YKYKYKYKYKYKYKSG</td></tr>\n",
       "\t<tr><td>AGTTTCAGTTTCAGTTTCAGTTTCAAAGTCAAAGTCAAAGTCAAAGTC</td><td>mixdicodons_AGTTTC_AAAGTC_4     </td><td>1</td><td>23816</td><td>2807</td><td>76</td><td>43</td><td>-3.070305</td><td>-2.712517</td><td>SFSFSFSFKVKVKVKV</td></tr>\n",
       "\t<tr><td>AGTTTCAGTTTCAGTTTCAGTTTCAAAGTCAAAGTCAAAGTCAAAGTC</td><td>mixdicodons_AGTTTC_AAAGTC_4     </td><td>2</td><td>11713</td><td>2267</td><td>42</td><td>43</td><td>-2.354729</td><td>-2.712517</td><td>SFSFSFSFKVKVKVKV</td></tr>\n",
       "\t<tr><td>TTCAGTTTCAGTTTCAGTTTCAGTGTCAAAGTCAAAGTCAAAGTCAAA</td><td>mixdicodons_TTCAGT_GTCAAA_4     </td><td>1</td><td>22488</td><td>3292</td><td>64</td><td>35</td><td>-2.757594</td><td>-2.635458</td><td>FSFSFSFSVKVKVKVK</td></tr>\n",
       "\t<tr><td>TTCAGTTTCAGTTTCAGTTTCAGTGTCAAAGTCAAAGTCAAAGTCAAA</td><td>mixdicodons_TTCAGT_GTCAAA_4     </td><td>2</td><td>11044</td><td>1915</td><td>51</td><td>32</td><td>-2.513321</td><td>-2.635458</td><td>FSFSFSFSVKVKVKVK</td></tr>\n",
       "\t<tr><td>⋮</td><td>⋮</td><td>⋮</td><td>⋮</td><td>⋮</td><td>⋮</td><td>⋮</td><td>⋮</td><td>⋮</td><td>⋮</td></tr>\n",
       "\t<tr><td>CCTCCGCCTCCGCCTCCGCCTCCGTCCGGCTCCGGCTCCGGCTCCGGC</td><td>varydicodonrepeatlength_CCTCCG_4</td><td>1</td><td>18794</td><td>23001</td><td>82</td><td>102</td><td>0.3059497</td><td>1.083828</td><td>PPPPPPPPSGSGSGSG</td></tr>\n",
       "\t<tr><td>CCTCCGCCTCCGCCTCCGCCTCCGTCCGGCTCCGGCTCCGGCTCCGGC</td><td>varydicodonrepeatlength_CCTCCG_4</td><td>2</td><td> 4129</td><td>14856</td><td>52</td><td> 83</td><td>1.8617067</td><td>1.083828</td><td>PPPPPPPPSGSGSGSG</td></tr>\n",
       "\t<tr><td>GTCATGGTCATGGTCATGGTCATGGTCATGTCCGGCTCCGGCTCCGGC</td><td>varydicodonrepeatlength_GTCATG_5</td><td>1</td><td>11976</td><td>14982</td><td>42</td><td> 54</td><td>0.3376094</td><td>1.090689</td><td>VMVMVMVMVMSGSGSG</td></tr>\n",
       "\t<tr><td>GTCATGGTCATGGTCATGGTCATGGTCATGTCCGGCTCCGGCTCCGGC</td><td>varydicodonrepeatlength_GTCATG_5</td><td>2</td><td> 7476</td><td>26566</td><td>46</td><td> 78</td><td>1.8437678</td><td>1.090689</td><td>VMVMVMVMVMSGSGSG</td></tr>\n",
       "\t<tr><td>TTTCTGTTTCTGTTTCTGTTTCTGTTTCTGTCCGGCTCCGGCTCCGGC</td><td>varydicodonrepeatlength_TTTCTG_5</td><td>1</td><td>13416</td><td>21329</td><td>49</td><td> 67</td><td>0.6833870</td><td>1.120840</td><td>FLFLFLFLFLSGSGSG</td></tr>\n",
       "\t<tr><td>TTTCTGTTTCTGTTTCTGTTTCTGTTTCTGTCCGGCTCCGGCTCCGGC</td><td>varydicodonrepeatlength_TTTCTG_5</td><td>2</td><td> 8194</td><td>23890</td><td>41</td><td> 66</td><td>1.5582923</td><td>1.120840</td><td>FLFLFLFLFLSGSGSG</td></tr>\n",
       "\t<tr><td>CTTATCCTTATCCTTATCTCCGGCTCCGGCTCCGGCTCCGGCTCCGGC</td><td>varydicodonrepeatlength_CTTATC_3</td><td>1</td><td>15211</td><td>21185</td><td>55</td><td> 78</td><td>0.4924534</td><td>1.166764</td><td>LILILISGSGSGSGSG</td></tr>\n",
       "\t<tr><td>CTTATCCTTATCCTTATCTCCGGCTCCGGCTCCGGCTCCGGCTCCGGC</td><td>varydicodonrepeatlength_CTTATC_3</td><td>2</td><td> 6325</td><td>22434</td><td>40</td><td> 74</td><td>1.8410748</td><td>1.166764</td><td>LILILISGSGSGSGSG</td></tr>\n",
       "\t<tr><td>TTGATGTTGATGTTGATGTTGATGTTGATGTTGATGTCCGGCTCCGGC</td><td>varydicodonrepeatlength_TTGATG_6</td><td>1</td><td>13507</td><td>21720</td><td>45</td><td> 66</td><td>0.6998421</td><td>1.260354</td><td>LMLMLMLMLMLMSGSG</td></tr>\n",
       "\t<tr><td>TTGATGTTGATGTTGATGTTGATGTTGATGTTGATGTCCGGCTCCGGC</td><td>varydicodonrepeatlength_TTGATG_6</td><td>2</td><td>14423</td><td>50445</td><td>52</td><td> 96</td><td>1.8208653</td><td>1.260354</td><td>LMLMLMLMLMLMSGSG</td></tr>\n",
       "\t<tr><td>AGTGGCAGTGGCAGTGGCAGTGGCTCCGGCTCCGGCTCCGGCTCCGGC</td><td>varydicodonrepeatlength_AGTGGC_4</td><td>1</td><td>15199</td><td>25654</td><td>82</td><td> 92</td><td>0.7697327</td><td>1.277246</td><td>SGSGSGSGSGSGSGSG</td></tr>\n",
       "\t<tr><td>AGTGGCAGTGGCAGTGGCAGTGGCTCCGGCTCCGGCTCCGGCTCCGGC</td><td>varydicodonrepeatlength_AGTGGC_4</td><td>2</td><td>11394</td><td>38866</td><td>63</td><td> 91</td><td>1.7847596</td><td>1.277246</td><td>SGSGSGSGSGSGSGSG</td></tr>\n",
       "\t<tr><td>ATCATCATCATCATCATCTCCGGCTCCGGCTCCGGCTCCGGCTCCGGC</td><td>varydicodonrepeatlength_ATCATC_3</td><td>1</td><td>13779</td><td>19166</td><td>60</td><td> 80</td><td>0.4906034</td><td>1.289335</td><td>IIIIIISGSGSGSGSG</td></tr>\n",
       "\t<tr><td>ATCATCATCATCATCATCTCCGGCTCCGGCTCCGGCTCCGGCTCCGGC</td><td>varydicodonrepeatlength_ATCATC_3</td><td>2</td><td> 9599</td><td>40404</td><td>69</td><td>114</td><td>2.0880674</td><td>1.289335</td><td>IIIIIISGSGSGSGSG</td></tr>\n",
       "\t<tr><td>CTCATACTCATACTCATACTCATATCCGGCTCCGGCTCCGGCTCCGGC</td><td>varydicodonrepeatlength_CTCATA_4</td><td>1</td><td> 9711</td><td>15830</td><td>48</td><td> 65</td><td>0.7194948</td><td>1.297276</td><td>LILILILISGSGSGSG</td></tr>\n",
       "\t<tr><td>CTCATACTCATACTCATACTCATATCCGGCTCCGGCTCCGGCTCCGGC</td><td>varydicodonrepeatlength_CTCATA_4</td><td>2</td><td> 7111</td><td>25823</td><td>43</td><td> 71</td><td>1.8750575</td><td>1.297276</td><td>LILILILISGSGSGSG</td></tr>\n",
       "\t<tr><td>GTCATGGTCATGGTCATGGTCATGTCCGGCTCCGGCTCCGGCTCCGGC</td><td>varydicodonrepeatlength_GTCATG_4</td><td>1</td><td>14257</td><td>28073</td><td>49</td><td> 64</td><td>0.9920381</td><td>1.300380</td><td>VMVMVMVMSGSGSGSG</td></tr>\n",
       "\t<tr><td>GTCATGGTCATGGTCATGGTCATGTCCGGCTCCGGCTCCGGCTCCGGC</td><td>varydicodonrepeatlength_GTCATG_4</td><td>2</td><td> 6230</td><td>18810</td><td>39</td><td> 57</td><td>1.6087211</td><td>1.300380</td><td>VMVMVMVMSGSGSGSG</td></tr>\n",
       "\t<tr><td>TCCATCATCATCATCTCCATCATCATCATCTCCATCATCATCATCTCC</td><td>reorderdicodon_ATCATC_2         </td><td>1</td><td>19301</td><td>35278</td><td>67</td><td> 97</td><td>0.8846184</td><td>1.365027</td><td>SIIIISIIIISIIIIS</td></tr>\n",
       "\t<tr><td>TCCATCATCATCATCTCCATCATCATCATCTCCATCATCATCATCTCC</td><td>reorderdicodon_ATCATC_2         </td><td>2</td><td>17001</td><td>60483</td><td>81</td><td>119</td><td>1.8454354</td><td>1.365027</td><td>SIIIISIIIISIIIIS</td></tr>\n",
       "\t<tr><td>TTTCTGTTTCTGTTTCTGTTTCTGTTTCTGTTTCTGTTTCTGTTTCTG</td><td>varydicodonrepeatlength_TTTCTG_8</td><td>1</td><td>13140</td><td>24492</td><td>38</td><td> 69</td><td>0.9128706</td><td>1.366237</td><td>FLFLFLFLFLFLFLFL</td></tr>\n",
       "\t<tr><td>TTTCTGTTTCTGTTTCTGTTTCTGTTTCTGTTTCTGTTTCTGTTTCTG</td><td>varydicodonrepeatlength_TTTCTG_8</td><td>2</td><td>13050</td><td>45603</td><td>64</td><td> 86</td><td>1.8196042</td><td>1.366237</td><td>FLFLFLFLFLFLFLFL</td></tr>\n",
       "\t<tr><td>CCTCCGCCTCCGCCTCCGCCTCCGCCTCCGCCTCCGCCTCCGTCCGGC</td><td>varydicodonrepeatlength_CCTCCG_7</td><td>1</td><td>14799</td><td>23613</td><td>66</td><td> 83</td><td>0.6886069</td><td>1.431549</td><td>PPPPPPPPPPPPPPSG</td></tr>\n",
       "\t<tr><td>CCTCCGCCTCCGCCTCCGCCTCCGCCTCCGCCTCCGCCTCCGTCCGGC</td><td>varydicodonrepeatlength_CCTCCG_7</td><td>2</td><td> 6929</td><td>30966</td><td>79</td><td> 97</td><td>2.1744912</td><td>1.431549</td><td>PPPPPPPPPPPPPPSG</td></tr>\n",
       "\t<tr><td>CCTCCGCCTCCGCCTCCGCCTCCGCCTCCGTCCGGCTCCGGCTCCGGC</td><td>varydicodonrepeatlength_CCTCCG_5</td><td>1</td><td>11889</td><td>18734</td><td>60</td><td> 66</td><td>0.6705569</td><td>1.513688</td><td>PPPPPPPPPPSGSGSG</td></tr>\n",
       "\t<tr><td>CCTCCGCCTCCGCCTCCGCCTCCGCCTCCGTCCGGCTCCGGCTCCGGC</td><td>varydicodonrepeatlength_CCTCCG_5</td><td>2</td><td> 4980</td><td>25254</td><td>55</td><td> 79</td><td>2.3568195</td><td>1.513688</td><td>PPPPPPPPPPSGSGSG</td></tr>\n",
       "\t<tr><td>CCTCCGCCTCCGCCTCCGCCTCCGCCTCCGCCTCCGCCTCCGCCTCCG</td><td>varydicodonrepeatlength_CCTCCG_8</td><td>1</td><td> 7992</td><td>13095</td><td>41</td><td> 44</td><td>0.7269128</td><td>1.669800</td><td>PPPPPPPPPPPPPPPP</td></tr>\n",
       "\t<tr><td>CCTCCGCCTCCGCCTCCGCCTCCGCCTCCGCCTCCGCCTCCGCCTCCG</td><td>varydicodonrepeatlength_CCTCCG_8</td><td>2</td><td> 3282</td><td>19873</td><td>31</td><td> 64</td><td>2.6126878</td><td>1.669800</td><td>PPPPPPPPPPPPPPPP</td></tr>\n",
       "\t<tr><td>CCTCCGCCTCCGCCTCCGCCTCCGCCTCCGCCTCCGTCCGGCTCCGGC</td><td>varydicodonrepeatlength_CCTCCG_6</td><td>1</td><td>10036</td><td>15281</td><td>53</td><td> 70</td><td>0.6210799</td><td>1.846328</td><td>PPPPPPPPPPPPSGSG</td></tr>\n",
       "\t<tr><td>CCTCCGCCTCCGCCTCCGCCTCCGCCTCCGCCTCCGTCCGGCTCCGGC</td><td>varydicodonrepeatlength_CCTCCG_6</td><td>2</td><td> 3635</td><td>30253</td><td>44</td><td> 82</td><td>3.0715762</td><td>1.846328</td><td>PPPPPPPPPPPPSGSG</td></tr>\n",
       "</tbody>\n",
       "</table>\n"
      ],
      "text/latex": [
       "A tibble: 634 × 10\n",
       "\\begin{tabular}{llllllllll}\n",
       " seq & insert\\_name & replicate & count\\_grna & count\\_mrna & n\\_barcodes\\_grna & n\\_barcodes\\_mrna & lfc & mean\\_lfc & insert\\\\\n",
       " <chr> & <chr> & <chr> & <dbl> & <dbl> & <int> & <int> & <dbl> & <dbl> & <chr>\\\\\n",
       "\\hline\n",
       "\t TACAAGTACAAGTACAAGTACAAGTACAAGTACAAGTCCGGCTCCGGC & varydicodonrepeatlength\\_TACAAG\\_6 & 1 & 13253 &  519 & 39 & 21 & -4.659915 & -3.703576 & YKYKYKYKYKYKSGSG\\\\\n",
       "\t TACAAGTACAAGTACAAGTACAAGTACAAGTACAAGTCCGGCTCCGGC & varydicodonrepeatlength\\_TACAAG\\_6 & 2 &  6416 &  946 & 36 & 21 & -2.747237 & -3.703576 & YKYKYKYKYKYKSGSG\\\\\n",
       "\t AAAGTCAGTTTCAAAGTCAGTTTCAAAGTCAGTTTCAAAGTCAGTTTC & mixdicodons\\_AAAGTC\\_AGTTTC\\_1      & 1 & 26785 & 1644 & 66 & 34 & -4.011618 & -3.548641 & KVSFKVSFKVSFKVSF\\\\\n",
       "\t AAAGTCAGTTTCAAAGTCAGTTTCAAAGTCAGTTTCAAAGTCAGTTTC & mixdicodons\\_AAAGTC\\_AGTTTC\\_1      & 2 & 15427 & 1799 & 72 & 44 & -3.085665 & -3.548641 & KVSFKVSFKVSFKVSF\\\\\n",
       "\t TTCAGTGTCAAATTCAGTGTCAAATTCAGTGTCAAATTCAGTGTCAAA & mixdicodons\\_TTCAGT\\_GTCAAA\\_1      & 1 & 22124 & 1047 & 58 & 30 & -4.386754 & -3.532029 & FSVKFSVKFSVKFSVK\\\\\n",
       "\t TTCAGTGTCAAATTCAGTGTCAAATTCAGTGTCAAATTCAGTGTCAAA & mixdicodons\\_TTCAGT\\_GTCAAA\\_1      & 2 & 15869 & 2456 & 53 & 30 & -2.677303 & -3.532029 & FSVKFSVKFSVKFSVK\\\\\n",
       "\t TACAAGTACAAGTACAAGTACAAGTACAAGTACAAGTACAAGTACAAG & varydicodonrepeatlength\\_TACAAG\\_8 & 2 & 14470 & 1267 & 55 & 44 & -3.499051 & -3.392553 & YKYKYKYKYKYKYKYK\\\\\n",
       "\t TACAAGTACAAGTACAAGTACAAGTACAAGTACAAGTACAAGTACAAG & varydicodonrepeatlength\\_TACAAG\\_8 & 1 & 17844 & 1811 & 63 & 40 & -3.286055 & -3.392553 & YKYKYKYKYKYKYKYK\\\\\n",
       "\t AGTTTCAAAGTCAGTTTCAAAGTCAGTTTCAAAGTCAGTTTCAAAGTC & mixdicodons\\_AGTTTC\\_AAAGTC\\_1      & 1 & 24536 & 1115 & 65 & 36 & -4.445259 & -3.387627 & SFKVSFKVSFKVSFKV\\\\\n",
       "\t AGTTTCAAAGTCAGTTTCAAAGTCAGTTTCAAAGTCAGTTTCAAAGTC & mixdicodons\\_AGTTTC\\_AAAGTC\\_1      & 2 & 12936 & 2547 & 50 & 41 & -2.329995 & -3.387627 & SFKVSFKVSFKVSFKV\\\\\n",
       "\t CGCCATCGCCATCGCCATCGCCATCGCCATCGCCATCGCCATCGCCAT & varydicodonrepeatlength\\_CGCCAT\\_8 & 2 &  7286 &  689 & 41 & 30 & -3.388026 & -3.370821 & RHRHRHRHRHRHRHRH\\\\\n",
       "\t CGCCATCGCCATCGCCATCGCCATCGCCATCGCCATCGCCATCGCCAT & varydicodonrepeatlength\\_CGCCAT\\_8 & 1 & 11007 & 1066 & 51 & 20 & -3.353617 & -3.370821 & RHRHRHRHRHRHRHRH\\\\\n",
       "\t CGCCATCGCCATCGCCATCGCCATCGCCATCGCCATCGCCATTCCGGC & varydicodonrepeatlength\\_CGCCAT\\_7 & 1 & 17969 & 1277 & 60 & 37 & -3.800154 & -3.279514 & RHRHRHRHRHRHRHSG\\\\\n",
       "\t CGCCATCGCCATCGCCATCGCCATCGCCATCGCCATCGCCATTCCGGC & varydicodonrepeatlength\\_CGCCAT\\_7 & 2 &  8608 & 1259 & 48 & 30 & -2.758875 & -3.279514 & RHRHRHRHRHRHRHSG\\\\\n",
       "\t GTCAAAGTCAAAGTCAAAGTCAAAGTCAAAGTCAAAGTCAAAGTCAAA & varydicodonrepeatlength\\_GTCAAA\\_8 & 1 & 16768 & 1634 & 52 & 29 & -3.344705 & -3.009118 & VKVKVKVKVKVKVKVK\\\\\n",
       "\t GTCAAAGTCAAAGTCAAAGTCAAAGTCAAAGTCAAAGTCAAAGTCAAA & varydicodonrepeatlength\\_GTCAAA\\_8 & 2 & 15428 & 2394 & 53 & 28 & -2.673531 & -3.009118 & VKVKVKVKVKVKVKVK\\\\\n",
       "\t TTCAGTTTCAGTTTCAGTTTCAGTAAAGTCAAAGTCAAAGTCAAAGTC & mixdicodons\\_TTCAGT\\_AAAGTC\\_4      & 2 & 14148 & 1057 & 51 & 34 & -3.728026 & -2.877532 & FSFSFSFSKVKVKVKV\\\\\n",
       "\t TTCAGTTTCAGTTTCAGTTTCAGTAAAGTCAAAGTCAAAGTCAAAGTC & mixdicodons\\_TTCAGT\\_AAAGTC\\_4      & 1 & 30037 & 7296 & 77 & 43 & -2.027038 & -2.877532 & FSFSFSFSKVKVKVKV\\\\\n",
       "\t TCCAAGATCAAGATCAAGATCTCCTCCAAGATCAAGATCAAGATCTCC & reorderdicodon\\_AAGATC\\_3          & 1 & 19731 & 2330 & 59 & 37 & -3.067537 & -2.849444 & SKIKIKISSKIKIKIS\\\\\n",
       "\t TCCAAGATCAAGATCAAGATCTCCTCCAAGATCAAGATCAAGATCTCC & reorderdicodon\\_AAGATC\\_3          & 2 & 14827 & 2369 & 53 & 43 & -2.631351 & -2.849444 & SKIKIKISSKIKIKIS\\\\\n",
       "\t GTCAAAGTCAAAGTCAAAGTCAAAAGTTTCAGTTTCAGTTTCAGTTTC & mixdicodons\\_GTCAAA\\_AGTTTC\\_4      & 1 & 18677 & 1361 & 53 & 23 & -3.763998 & -2.846732 & VKVKVKVKSFSFSFSF\\\\\n",
       "\t GTCAAAGTCAAAGTCAAAGTCAAAAGTTTCAGTTTCAGTTTCAGTTTC & mixdicodons\\_GTCAAA\\_AGTTTC\\_4      & 2 & 11974 & 3112 & 39 & 31 & -1.929466 & -2.846732 & VKVKVKVKSFSFSFSF\\\\\n",
       "\t AAAGTCAAAGTCAGTTTCAGTTTCAAAGTCAAAGTCAGTTTCAGTTTC & mixdicodons\\_AAAGTC\\_AGTTTC\\_2      & 1 & 25665 & 2756 & 60 & 38 & -3.204629 & -2.804449 & KVKVSFSFKVKVSFSF\\\\\n",
       "\t AAAGTCAAAGTCAGTTTCAGTTTCAAAGTCAAAGTCAGTTTCAGTTTC & mixdicodons\\_AAAGTC\\_AGTTTC\\_2      & 2 & 26271 & 4913 & 73 & 60 & -2.404270 & -2.804449 & KVKVSFSFKVKVSFSF\\\\\n",
       "\t TACAAGTACAAGTACAAGTACAAGTACAAGTACAAGTACAAGTCCGGC & varydicodonrepeatlength\\_TACAAG\\_7 & 1 & 16679 & 1698 & 55 & 34 & -3.281599 & -2.746545 & YKYKYKYKYKYKYKSG\\\\\n",
       "\t TACAAGTACAAGTACAAGTACAAGTACAAGTACAAGTACAAGTCCGGC & varydicodonrepeatlength\\_TACAAG\\_7 & 2 & 14882 & 3181 & 54 & 32 & -2.211491 & -2.746545 & YKYKYKYKYKYKYKSG\\\\\n",
       "\t AGTTTCAGTTTCAGTTTCAGTTTCAAAGTCAAAGTCAAAGTCAAAGTC & mixdicodons\\_AGTTTC\\_AAAGTC\\_4      & 1 & 23816 & 2807 & 76 & 43 & -3.070305 & -2.712517 & SFSFSFSFKVKVKVKV\\\\\n",
       "\t AGTTTCAGTTTCAGTTTCAGTTTCAAAGTCAAAGTCAAAGTCAAAGTC & mixdicodons\\_AGTTTC\\_AAAGTC\\_4      & 2 & 11713 & 2267 & 42 & 43 & -2.354729 & -2.712517 & SFSFSFSFKVKVKVKV\\\\\n",
       "\t TTCAGTTTCAGTTTCAGTTTCAGTGTCAAAGTCAAAGTCAAAGTCAAA & mixdicodons\\_TTCAGT\\_GTCAAA\\_4      & 1 & 22488 & 3292 & 64 & 35 & -2.757594 & -2.635458 & FSFSFSFSVKVKVKVK\\\\\n",
       "\t TTCAGTTTCAGTTTCAGTTTCAGTGTCAAAGTCAAAGTCAAAGTCAAA & mixdicodons\\_TTCAGT\\_GTCAAA\\_4      & 2 & 11044 & 1915 & 51 & 32 & -2.513321 & -2.635458 & FSFSFSFSVKVKVKVK\\\\\n",
       "\t ⋮ & ⋮ & ⋮ & ⋮ & ⋮ & ⋮ & ⋮ & ⋮ & ⋮ & ⋮\\\\\n",
       "\t CCTCCGCCTCCGCCTCCGCCTCCGTCCGGCTCCGGCTCCGGCTCCGGC & varydicodonrepeatlength\\_CCTCCG\\_4 & 1 & 18794 & 23001 & 82 & 102 & 0.3059497 & 1.083828 & PPPPPPPPSGSGSGSG\\\\\n",
       "\t CCTCCGCCTCCGCCTCCGCCTCCGTCCGGCTCCGGCTCCGGCTCCGGC & varydicodonrepeatlength\\_CCTCCG\\_4 & 2 &  4129 & 14856 & 52 &  83 & 1.8617067 & 1.083828 & PPPPPPPPSGSGSGSG\\\\\n",
       "\t GTCATGGTCATGGTCATGGTCATGGTCATGTCCGGCTCCGGCTCCGGC & varydicodonrepeatlength\\_GTCATG\\_5 & 1 & 11976 & 14982 & 42 &  54 & 0.3376094 & 1.090689 & VMVMVMVMVMSGSGSG\\\\\n",
       "\t GTCATGGTCATGGTCATGGTCATGGTCATGTCCGGCTCCGGCTCCGGC & varydicodonrepeatlength\\_GTCATG\\_5 & 2 &  7476 & 26566 & 46 &  78 & 1.8437678 & 1.090689 & VMVMVMVMVMSGSGSG\\\\\n",
       "\t TTTCTGTTTCTGTTTCTGTTTCTGTTTCTGTCCGGCTCCGGCTCCGGC & varydicodonrepeatlength\\_TTTCTG\\_5 & 1 & 13416 & 21329 & 49 &  67 & 0.6833870 & 1.120840 & FLFLFLFLFLSGSGSG\\\\\n",
       "\t TTTCTGTTTCTGTTTCTGTTTCTGTTTCTGTCCGGCTCCGGCTCCGGC & varydicodonrepeatlength\\_TTTCTG\\_5 & 2 &  8194 & 23890 & 41 &  66 & 1.5582923 & 1.120840 & FLFLFLFLFLSGSGSG\\\\\n",
       "\t CTTATCCTTATCCTTATCTCCGGCTCCGGCTCCGGCTCCGGCTCCGGC & varydicodonrepeatlength\\_CTTATC\\_3 & 1 & 15211 & 21185 & 55 &  78 & 0.4924534 & 1.166764 & LILILISGSGSGSGSG\\\\\n",
       "\t CTTATCCTTATCCTTATCTCCGGCTCCGGCTCCGGCTCCGGCTCCGGC & varydicodonrepeatlength\\_CTTATC\\_3 & 2 &  6325 & 22434 & 40 &  74 & 1.8410748 & 1.166764 & LILILISGSGSGSGSG\\\\\n",
       "\t TTGATGTTGATGTTGATGTTGATGTTGATGTTGATGTCCGGCTCCGGC & varydicodonrepeatlength\\_TTGATG\\_6 & 1 & 13507 & 21720 & 45 &  66 & 0.6998421 & 1.260354 & LMLMLMLMLMLMSGSG\\\\\n",
       "\t TTGATGTTGATGTTGATGTTGATGTTGATGTTGATGTCCGGCTCCGGC & varydicodonrepeatlength\\_TTGATG\\_6 & 2 & 14423 & 50445 & 52 &  96 & 1.8208653 & 1.260354 & LMLMLMLMLMLMSGSG\\\\\n",
       "\t AGTGGCAGTGGCAGTGGCAGTGGCTCCGGCTCCGGCTCCGGCTCCGGC & varydicodonrepeatlength\\_AGTGGC\\_4 & 1 & 15199 & 25654 & 82 &  92 & 0.7697327 & 1.277246 & SGSGSGSGSGSGSGSG\\\\\n",
       "\t AGTGGCAGTGGCAGTGGCAGTGGCTCCGGCTCCGGCTCCGGCTCCGGC & varydicodonrepeatlength\\_AGTGGC\\_4 & 2 & 11394 & 38866 & 63 &  91 & 1.7847596 & 1.277246 & SGSGSGSGSGSGSGSG\\\\\n",
       "\t ATCATCATCATCATCATCTCCGGCTCCGGCTCCGGCTCCGGCTCCGGC & varydicodonrepeatlength\\_ATCATC\\_3 & 1 & 13779 & 19166 & 60 &  80 & 0.4906034 & 1.289335 & IIIIIISGSGSGSGSG\\\\\n",
       "\t ATCATCATCATCATCATCTCCGGCTCCGGCTCCGGCTCCGGCTCCGGC & varydicodonrepeatlength\\_ATCATC\\_3 & 2 &  9599 & 40404 & 69 & 114 & 2.0880674 & 1.289335 & IIIIIISGSGSGSGSG\\\\\n",
       "\t CTCATACTCATACTCATACTCATATCCGGCTCCGGCTCCGGCTCCGGC & varydicodonrepeatlength\\_CTCATA\\_4 & 1 &  9711 & 15830 & 48 &  65 & 0.7194948 & 1.297276 & LILILILISGSGSGSG\\\\\n",
       "\t CTCATACTCATACTCATACTCATATCCGGCTCCGGCTCCGGCTCCGGC & varydicodonrepeatlength\\_CTCATA\\_4 & 2 &  7111 & 25823 & 43 &  71 & 1.8750575 & 1.297276 & LILILILISGSGSGSG\\\\\n",
       "\t GTCATGGTCATGGTCATGGTCATGTCCGGCTCCGGCTCCGGCTCCGGC & varydicodonrepeatlength\\_GTCATG\\_4 & 1 & 14257 & 28073 & 49 &  64 & 0.9920381 & 1.300380 & VMVMVMVMSGSGSGSG\\\\\n",
       "\t GTCATGGTCATGGTCATGGTCATGTCCGGCTCCGGCTCCGGCTCCGGC & varydicodonrepeatlength\\_GTCATG\\_4 & 2 &  6230 & 18810 & 39 &  57 & 1.6087211 & 1.300380 & VMVMVMVMSGSGSGSG\\\\\n",
       "\t TCCATCATCATCATCTCCATCATCATCATCTCCATCATCATCATCTCC & reorderdicodon\\_ATCATC\\_2          & 1 & 19301 & 35278 & 67 &  97 & 0.8846184 & 1.365027 & SIIIISIIIISIIIIS\\\\\n",
       "\t TCCATCATCATCATCTCCATCATCATCATCTCCATCATCATCATCTCC & reorderdicodon\\_ATCATC\\_2          & 2 & 17001 & 60483 & 81 & 119 & 1.8454354 & 1.365027 & SIIIISIIIISIIIIS\\\\\n",
       "\t TTTCTGTTTCTGTTTCTGTTTCTGTTTCTGTTTCTGTTTCTGTTTCTG & varydicodonrepeatlength\\_TTTCTG\\_8 & 1 & 13140 & 24492 & 38 &  69 & 0.9128706 & 1.366237 & FLFLFLFLFLFLFLFL\\\\\n",
       "\t TTTCTGTTTCTGTTTCTGTTTCTGTTTCTGTTTCTGTTTCTGTTTCTG & varydicodonrepeatlength\\_TTTCTG\\_8 & 2 & 13050 & 45603 & 64 &  86 & 1.8196042 & 1.366237 & FLFLFLFLFLFLFLFL\\\\\n",
       "\t CCTCCGCCTCCGCCTCCGCCTCCGCCTCCGCCTCCGCCTCCGTCCGGC & varydicodonrepeatlength\\_CCTCCG\\_7 & 1 & 14799 & 23613 & 66 &  83 & 0.6886069 & 1.431549 & PPPPPPPPPPPPPPSG\\\\\n",
       "\t CCTCCGCCTCCGCCTCCGCCTCCGCCTCCGCCTCCGCCTCCGTCCGGC & varydicodonrepeatlength\\_CCTCCG\\_7 & 2 &  6929 & 30966 & 79 &  97 & 2.1744912 & 1.431549 & PPPPPPPPPPPPPPSG\\\\\n",
       "\t CCTCCGCCTCCGCCTCCGCCTCCGCCTCCGTCCGGCTCCGGCTCCGGC & varydicodonrepeatlength\\_CCTCCG\\_5 & 1 & 11889 & 18734 & 60 &  66 & 0.6705569 & 1.513688 & PPPPPPPPPPSGSGSG\\\\\n",
       "\t CCTCCGCCTCCGCCTCCGCCTCCGCCTCCGTCCGGCTCCGGCTCCGGC & varydicodonrepeatlength\\_CCTCCG\\_5 & 2 &  4980 & 25254 & 55 &  79 & 2.3568195 & 1.513688 & PPPPPPPPPPSGSGSG\\\\\n",
       "\t CCTCCGCCTCCGCCTCCGCCTCCGCCTCCGCCTCCGCCTCCGCCTCCG & varydicodonrepeatlength\\_CCTCCG\\_8 & 1 &  7992 & 13095 & 41 &  44 & 0.7269128 & 1.669800 & PPPPPPPPPPPPPPPP\\\\\n",
       "\t CCTCCGCCTCCGCCTCCGCCTCCGCCTCCGCCTCCGCCTCCGCCTCCG & varydicodonrepeatlength\\_CCTCCG\\_8 & 2 &  3282 & 19873 & 31 &  64 & 2.6126878 & 1.669800 & PPPPPPPPPPPPPPPP\\\\\n",
       "\t CCTCCGCCTCCGCCTCCGCCTCCGCCTCCGCCTCCGTCCGGCTCCGGC & varydicodonrepeatlength\\_CCTCCG\\_6 & 1 & 10036 & 15281 & 53 &  70 & 0.6210799 & 1.846328 & PPPPPPPPPPPPSGSG\\\\\n",
       "\t CCTCCGCCTCCGCCTCCGCCTCCGCCTCCGCCTCCGTCCGGCTCCGGC & varydicodonrepeatlength\\_CCTCCG\\_6 & 2 &  3635 & 30253 & 44 &  82 & 3.0715762 & 1.846328 & PPPPPPPPPPPPSGSG\\\\\n",
       "\\end{tabular}\n"
      ],
      "text/markdown": [
       "\n",
       "A tibble: 634 × 10\n",
       "\n",
       "| seq &lt;chr&gt; | insert_name &lt;chr&gt; | replicate &lt;chr&gt; | count_grna &lt;dbl&gt; | count_mrna &lt;dbl&gt; | n_barcodes_grna &lt;int&gt; | n_barcodes_mrna &lt;int&gt; | lfc &lt;dbl&gt; | mean_lfc &lt;dbl&gt; | insert &lt;chr&gt; |\n",
       "|---|---|---|---|---|---|---|---|---|---|\n",
       "| TACAAGTACAAGTACAAGTACAAGTACAAGTACAAGTCCGGCTCCGGC | varydicodonrepeatlength_TACAAG_6 | 1 | 13253 |  519 | 39 | 21 | -4.659915 | -3.703576 | YKYKYKYKYKYKSGSG |\n",
       "| TACAAGTACAAGTACAAGTACAAGTACAAGTACAAGTCCGGCTCCGGC | varydicodonrepeatlength_TACAAG_6 | 2 |  6416 |  946 | 36 | 21 | -2.747237 | -3.703576 | YKYKYKYKYKYKSGSG |\n",
       "| AAAGTCAGTTTCAAAGTCAGTTTCAAAGTCAGTTTCAAAGTCAGTTTC | mixdicodons_AAAGTC_AGTTTC_1      | 1 | 26785 | 1644 | 66 | 34 | -4.011618 | -3.548641 | KVSFKVSFKVSFKVSF |\n",
       "| AAAGTCAGTTTCAAAGTCAGTTTCAAAGTCAGTTTCAAAGTCAGTTTC | mixdicodons_AAAGTC_AGTTTC_1      | 2 | 15427 | 1799 | 72 | 44 | -3.085665 | -3.548641 | KVSFKVSFKVSFKVSF |\n",
       "| TTCAGTGTCAAATTCAGTGTCAAATTCAGTGTCAAATTCAGTGTCAAA | mixdicodons_TTCAGT_GTCAAA_1      | 1 | 22124 | 1047 | 58 | 30 | -4.386754 | -3.532029 | FSVKFSVKFSVKFSVK |\n",
       "| TTCAGTGTCAAATTCAGTGTCAAATTCAGTGTCAAATTCAGTGTCAAA | mixdicodons_TTCAGT_GTCAAA_1      | 2 | 15869 | 2456 | 53 | 30 | -2.677303 | -3.532029 | FSVKFSVKFSVKFSVK |\n",
       "| TACAAGTACAAGTACAAGTACAAGTACAAGTACAAGTACAAGTACAAG | varydicodonrepeatlength_TACAAG_8 | 2 | 14470 | 1267 | 55 | 44 | -3.499051 | -3.392553 | YKYKYKYKYKYKYKYK |\n",
       "| TACAAGTACAAGTACAAGTACAAGTACAAGTACAAGTACAAGTACAAG | varydicodonrepeatlength_TACAAG_8 | 1 | 17844 | 1811 | 63 | 40 | -3.286055 | -3.392553 | YKYKYKYKYKYKYKYK |\n",
       "| AGTTTCAAAGTCAGTTTCAAAGTCAGTTTCAAAGTCAGTTTCAAAGTC | mixdicodons_AGTTTC_AAAGTC_1      | 1 | 24536 | 1115 | 65 | 36 | -4.445259 | -3.387627 | SFKVSFKVSFKVSFKV |\n",
       "| AGTTTCAAAGTCAGTTTCAAAGTCAGTTTCAAAGTCAGTTTCAAAGTC | mixdicodons_AGTTTC_AAAGTC_1      | 2 | 12936 | 2547 | 50 | 41 | -2.329995 | -3.387627 | SFKVSFKVSFKVSFKV |\n",
       "| CGCCATCGCCATCGCCATCGCCATCGCCATCGCCATCGCCATCGCCAT | varydicodonrepeatlength_CGCCAT_8 | 2 |  7286 |  689 | 41 | 30 | -3.388026 | -3.370821 | RHRHRHRHRHRHRHRH |\n",
       "| CGCCATCGCCATCGCCATCGCCATCGCCATCGCCATCGCCATCGCCAT | varydicodonrepeatlength_CGCCAT_8 | 1 | 11007 | 1066 | 51 | 20 | -3.353617 | -3.370821 | RHRHRHRHRHRHRHRH |\n",
       "| CGCCATCGCCATCGCCATCGCCATCGCCATCGCCATCGCCATTCCGGC | varydicodonrepeatlength_CGCCAT_7 | 1 | 17969 | 1277 | 60 | 37 | -3.800154 | -3.279514 | RHRHRHRHRHRHRHSG |\n",
       "| CGCCATCGCCATCGCCATCGCCATCGCCATCGCCATCGCCATTCCGGC | varydicodonrepeatlength_CGCCAT_7 | 2 |  8608 | 1259 | 48 | 30 | -2.758875 | -3.279514 | RHRHRHRHRHRHRHSG |\n",
       "| GTCAAAGTCAAAGTCAAAGTCAAAGTCAAAGTCAAAGTCAAAGTCAAA | varydicodonrepeatlength_GTCAAA_8 | 1 | 16768 | 1634 | 52 | 29 | -3.344705 | -3.009118 | VKVKVKVKVKVKVKVK |\n",
       "| GTCAAAGTCAAAGTCAAAGTCAAAGTCAAAGTCAAAGTCAAAGTCAAA | varydicodonrepeatlength_GTCAAA_8 | 2 | 15428 | 2394 | 53 | 28 | -2.673531 | -3.009118 | VKVKVKVKVKVKVKVK |\n",
       "| TTCAGTTTCAGTTTCAGTTTCAGTAAAGTCAAAGTCAAAGTCAAAGTC | mixdicodons_TTCAGT_AAAGTC_4      | 2 | 14148 | 1057 | 51 | 34 | -3.728026 | -2.877532 | FSFSFSFSKVKVKVKV |\n",
       "| TTCAGTTTCAGTTTCAGTTTCAGTAAAGTCAAAGTCAAAGTCAAAGTC | mixdicodons_TTCAGT_AAAGTC_4      | 1 | 30037 | 7296 | 77 | 43 | -2.027038 | -2.877532 | FSFSFSFSKVKVKVKV |\n",
       "| TCCAAGATCAAGATCAAGATCTCCTCCAAGATCAAGATCAAGATCTCC | reorderdicodon_AAGATC_3          | 1 | 19731 | 2330 | 59 | 37 | -3.067537 | -2.849444 | SKIKIKISSKIKIKIS |\n",
       "| TCCAAGATCAAGATCAAGATCTCCTCCAAGATCAAGATCAAGATCTCC | reorderdicodon_AAGATC_3          | 2 | 14827 | 2369 | 53 | 43 | -2.631351 | -2.849444 | SKIKIKISSKIKIKIS |\n",
       "| GTCAAAGTCAAAGTCAAAGTCAAAAGTTTCAGTTTCAGTTTCAGTTTC | mixdicodons_GTCAAA_AGTTTC_4      | 1 | 18677 | 1361 | 53 | 23 | -3.763998 | -2.846732 | VKVKVKVKSFSFSFSF |\n",
       "| GTCAAAGTCAAAGTCAAAGTCAAAAGTTTCAGTTTCAGTTTCAGTTTC | mixdicodons_GTCAAA_AGTTTC_4      | 2 | 11974 | 3112 | 39 | 31 | -1.929466 | -2.846732 | VKVKVKVKSFSFSFSF |\n",
       "| AAAGTCAAAGTCAGTTTCAGTTTCAAAGTCAAAGTCAGTTTCAGTTTC | mixdicodons_AAAGTC_AGTTTC_2      | 1 | 25665 | 2756 | 60 | 38 | -3.204629 | -2.804449 | KVKVSFSFKVKVSFSF |\n",
       "| AAAGTCAAAGTCAGTTTCAGTTTCAAAGTCAAAGTCAGTTTCAGTTTC | mixdicodons_AAAGTC_AGTTTC_2      | 2 | 26271 | 4913 | 73 | 60 | -2.404270 | -2.804449 | KVKVSFSFKVKVSFSF |\n",
       "| TACAAGTACAAGTACAAGTACAAGTACAAGTACAAGTACAAGTCCGGC | varydicodonrepeatlength_TACAAG_7 | 1 | 16679 | 1698 | 55 | 34 | -3.281599 | -2.746545 | YKYKYKYKYKYKYKSG |\n",
       "| TACAAGTACAAGTACAAGTACAAGTACAAGTACAAGTACAAGTCCGGC | varydicodonrepeatlength_TACAAG_7 | 2 | 14882 | 3181 | 54 | 32 | -2.211491 | -2.746545 | YKYKYKYKYKYKYKSG |\n",
       "| AGTTTCAGTTTCAGTTTCAGTTTCAAAGTCAAAGTCAAAGTCAAAGTC | mixdicodons_AGTTTC_AAAGTC_4      | 1 | 23816 | 2807 | 76 | 43 | -3.070305 | -2.712517 | SFSFSFSFKVKVKVKV |\n",
       "| AGTTTCAGTTTCAGTTTCAGTTTCAAAGTCAAAGTCAAAGTCAAAGTC | mixdicodons_AGTTTC_AAAGTC_4      | 2 | 11713 | 2267 | 42 | 43 | -2.354729 | -2.712517 | SFSFSFSFKVKVKVKV |\n",
       "| TTCAGTTTCAGTTTCAGTTTCAGTGTCAAAGTCAAAGTCAAAGTCAAA | mixdicodons_TTCAGT_GTCAAA_4      | 1 | 22488 | 3292 | 64 | 35 | -2.757594 | -2.635458 | FSFSFSFSVKVKVKVK |\n",
       "| TTCAGTTTCAGTTTCAGTTTCAGTGTCAAAGTCAAAGTCAAAGTCAAA | mixdicodons_TTCAGT_GTCAAA_4      | 2 | 11044 | 1915 | 51 | 32 | -2.513321 | -2.635458 | FSFSFSFSVKVKVKVK |\n",
       "| ⋮ | ⋮ | ⋮ | ⋮ | ⋮ | ⋮ | ⋮ | ⋮ | ⋮ | ⋮ |\n",
       "| CCTCCGCCTCCGCCTCCGCCTCCGTCCGGCTCCGGCTCCGGCTCCGGC | varydicodonrepeatlength_CCTCCG_4 | 1 | 18794 | 23001 | 82 | 102 | 0.3059497 | 1.083828 | PPPPPPPPSGSGSGSG |\n",
       "| CCTCCGCCTCCGCCTCCGCCTCCGTCCGGCTCCGGCTCCGGCTCCGGC | varydicodonrepeatlength_CCTCCG_4 | 2 |  4129 | 14856 | 52 |  83 | 1.8617067 | 1.083828 | PPPPPPPPSGSGSGSG |\n",
       "| GTCATGGTCATGGTCATGGTCATGGTCATGTCCGGCTCCGGCTCCGGC | varydicodonrepeatlength_GTCATG_5 | 1 | 11976 | 14982 | 42 |  54 | 0.3376094 | 1.090689 | VMVMVMVMVMSGSGSG |\n",
       "| GTCATGGTCATGGTCATGGTCATGGTCATGTCCGGCTCCGGCTCCGGC | varydicodonrepeatlength_GTCATG_5 | 2 |  7476 | 26566 | 46 |  78 | 1.8437678 | 1.090689 | VMVMVMVMVMSGSGSG |\n",
       "| TTTCTGTTTCTGTTTCTGTTTCTGTTTCTGTCCGGCTCCGGCTCCGGC | varydicodonrepeatlength_TTTCTG_5 | 1 | 13416 | 21329 | 49 |  67 | 0.6833870 | 1.120840 | FLFLFLFLFLSGSGSG |\n",
       "| TTTCTGTTTCTGTTTCTGTTTCTGTTTCTGTCCGGCTCCGGCTCCGGC | varydicodonrepeatlength_TTTCTG_5 | 2 |  8194 | 23890 | 41 |  66 | 1.5582923 | 1.120840 | FLFLFLFLFLSGSGSG |\n",
       "| CTTATCCTTATCCTTATCTCCGGCTCCGGCTCCGGCTCCGGCTCCGGC | varydicodonrepeatlength_CTTATC_3 | 1 | 15211 | 21185 | 55 |  78 | 0.4924534 | 1.166764 | LILILISGSGSGSGSG |\n",
       "| CTTATCCTTATCCTTATCTCCGGCTCCGGCTCCGGCTCCGGCTCCGGC | varydicodonrepeatlength_CTTATC_3 | 2 |  6325 | 22434 | 40 |  74 | 1.8410748 | 1.166764 | LILILISGSGSGSGSG |\n",
       "| TTGATGTTGATGTTGATGTTGATGTTGATGTTGATGTCCGGCTCCGGC | varydicodonrepeatlength_TTGATG_6 | 1 | 13507 | 21720 | 45 |  66 | 0.6998421 | 1.260354 | LMLMLMLMLMLMSGSG |\n",
       "| TTGATGTTGATGTTGATGTTGATGTTGATGTTGATGTCCGGCTCCGGC | varydicodonrepeatlength_TTGATG_6 | 2 | 14423 | 50445 | 52 |  96 | 1.8208653 | 1.260354 | LMLMLMLMLMLMSGSG |\n",
       "| AGTGGCAGTGGCAGTGGCAGTGGCTCCGGCTCCGGCTCCGGCTCCGGC | varydicodonrepeatlength_AGTGGC_4 | 1 | 15199 | 25654 | 82 |  92 | 0.7697327 | 1.277246 | SGSGSGSGSGSGSGSG |\n",
       "| AGTGGCAGTGGCAGTGGCAGTGGCTCCGGCTCCGGCTCCGGCTCCGGC | varydicodonrepeatlength_AGTGGC_4 | 2 | 11394 | 38866 | 63 |  91 | 1.7847596 | 1.277246 | SGSGSGSGSGSGSGSG |\n",
       "| ATCATCATCATCATCATCTCCGGCTCCGGCTCCGGCTCCGGCTCCGGC | varydicodonrepeatlength_ATCATC_3 | 1 | 13779 | 19166 | 60 |  80 | 0.4906034 | 1.289335 | IIIIIISGSGSGSGSG |\n",
       "| ATCATCATCATCATCATCTCCGGCTCCGGCTCCGGCTCCGGCTCCGGC | varydicodonrepeatlength_ATCATC_3 | 2 |  9599 | 40404 | 69 | 114 | 2.0880674 | 1.289335 | IIIIIISGSGSGSGSG |\n",
       "| CTCATACTCATACTCATACTCATATCCGGCTCCGGCTCCGGCTCCGGC | varydicodonrepeatlength_CTCATA_4 | 1 |  9711 | 15830 | 48 |  65 | 0.7194948 | 1.297276 | LILILILISGSGSGSG |\n",
       "| CTCATACTCATACTCATACTCATATCCGGCTCCGGCTCCGGCTCCGGC | varydicodonrepeatlength_CTCATA_4 | 2 |  7111 | 25823 | 43 |  71 | 1.8750575 | 1.297276 | LILILILISGSGSGSG |\n",
       "| GTCATGGTCATGGTCATGGTCATGTCCGGCTCCGGCTCCGGCTCCGGC | varydicodonrepeatlength_GTCATG_4 | 1 | 14257 | 28073 | 49 |  64 | 0.9920381 | 1.300380 | VMVMVMVMSGSGSGSG |\n",
       "| GTCATGGTCATGGTCATGGTCATGTCCGGCTCCGGCTCCGGCTCCGGC | varydicodonrepeatlength_GTCATG_4 | 2 |  6230 | 18810 | 39 |  57 | 1.6087211 | 1.300380 | VMVMVMVMSGSGSGSG |\n",
       "| TCCATCATCATCATCTCCATCATCATCATCTCCATCATCATCATCTCC | reorderdicodon_ATCATC_2          | 1 | 19301 | 35278 | 67 |  97 | 0.8846184 | 1.365027 | SIIIISIIIISIIIIS |\n",
       "| TCCATCATCATCATCTCCATCATCATCATCTCCATCATCATCATCTCC | reorderdicodon_ATCATC_2          | 2 | 17001 | 60483 | 81 | 119 | 1.8454354 | 1.365027 | SIIIISIIIISIIIIS |\n",
       "| TTTCTGTTTCTGTTTCTGTTTCTGTTTCTGTTTCTGTTTCTGTTTCTG | varydicodonrepeatlength_TTTCTG_8 | 1 | 13140 | 24492 | 38 |  69 | 0.9128706 | 1.366237 | FLFLFLFLFLFLFLFL |\n",
       "| TTTCTGTTTCTGTTTCTGTTTCTGTTTCTGTTTCTGTTTCTGTTTCTG | varydicodonrepeatlength_TTTCTG_8 | 2 | 13050 | 45603 | 64 |  86 | 1.8196042 | 1.366237 | FLFLFLFLFLFLFLFL |\n",
       "| CCTCCGCCTCCGCCTCCGCCTCCGCCTCCGCCTCCGCCTCCGTCCGGC | varydicodonrepeatlength_CCTCCG_7 | 1 | 14799 | 23613 | 66 |  83 | 0.6886069 | 1.431549 | PPPPPPPPPPPPPPSG |\n",
       "| CCTCCGCCTCCGCCTCCGCCTCCGCCTCCGCCTCCGCCTCCGTCCGGC | varydicodonrepeatlength_CCTCCG_7 | 2 |  6929 | 30966 | 79 |  97 | 2.1744912 | 1.431549 | PPPPPPPPPPPPPPSG |\n",
       "| CCTCCGCCTCCGCCTCCGCCTCCGCCTCCGTCCGGCTCCGGCTCCGGC | varydicodonrepeatlength_CCTCCG_5 | 1 | 11889 | 18734 | 60 |  66 | 0.6705569 | 1.513688 | PPPPPPPPPPSGSGSG |\n",
       "| CCTCCGCCTCCGCCTCCGCCTCCGCCTCCGTCCGGCTCCGGCTCCGGC | varydicodonrepeatlength_CCTCCG_5 | 2 |  4980 | 25254 | 55 |  79 | 2.3568195 | 1.513688 | PPPPPPPPPPSGSGSG |\n",
       "| CCTCCGCCTCCGCCTCCGCCTCCGCCTCCGCCTCCGCCTCCGCCTCCG | varydicodonrepeatlength_CCTCCG_8 | 1 |  7992 | 13095 | 41 |  44 | 0.7269128 | 1.669800 | PPPPPPPPPPPPPPPP |\n",
       "| CCTCCGCCTCCGCCTCCGCCTCCGCCTCCGCCTCCGCCTCCGCCTCCG | varydicodonrepeatlength_CCTCCG_8 | 2 |  3282 | 19873 | 31 |  64 | 2.6126878 | 1.669800 | PPPPPPPPPPPPPPPP |\n",
       "| CCTCCGCCTCCGCCTCCGCCTCCGCCTCCGCCTCCGTCCGGCTCCGGC | varydicodonrepeatlength_CCTCCG_6 | 1 | 10036 | 15281 | 53 |  70 | 0.6210799 | 1.846328 | PPPPPPPPPPPPSGSG |\n",
       "| CCTCCGCCTCCGCCTCCGCCTCCGCCTCCGCCTCCGTCCGGCTCCGGC | varydicodonrepeatlength_CCTCCG_6 | 2 |  3635 | 30253 | 44 |  82 | 3.0715762 | 1.846328 | PPPPPPPPPPPPSGSG |\n",
       "\n"
      ],
      "text/plain": [
       "    seq                                             \n",
       "1   TACAAGTACAAGTACAAGTACAAGTACAAGTACAAGTCCGGCTCCGGC\n",
       "2   TACAAGTACAAGTACAAGTACAAGTACAAGTACAAGTCCGGCTCCGGC\n",
       "3   AAAGTCAGTTTCAAAGTCAGTTTCAAAGTCAGTTTCAAAGTCAGTTTC\n",
       "4   AAAGTCAGTTTCAAAGTCAGTTTCAAAGTCAGTTTCAAAGTCAGTTTC\n",
       "5   TTCAGTGTCAAATTCAGTGTCAAATTCAGTGTCAAATTCAGTGTCAAA\n",
       "6   TTCAGTGTCAAATTCAGTGTCAAATTCAGTGTCAAATTCAGTGTCAAA\n",
       "7   TACAAGTACAAGTACAAGTACAAGTACAAGTACAAGTACAAGTACAAG\n",
       "8   TACAAGTACAAGTACAAGTACAAGTACAAGTACAAGTACAAGTACAAG\n",
       "9   AGTTTCAAAGTCAGTTTCAAAGTCAGTTTCAAAGTCAGTTTCAAAGTC\n",
       "10  AGTTTCAAAGTCAGTTTCAAAGTCAGTTTCAAAGTCAGTTTCAAAGTC\n",
       "11  CGCCATCGCCATCGCCATCGCCATCGCCATCGCCATCGCCATCGCCAT\n",
       "12  CGCCATCGCCATCGCCATCGCCATCGCCATCGCCATCGCCATCGCCAT\n",
       "13  CGCCATCGCCATCGCCATCGCCATCGCCATCGCCATCGCCATTCCGGC\n",
       "14  CGCCATCGCCATCGCCATCGCCATCGCCATCGCCATCGCCATTCCGGC\n",
       "15  GTCAAAGTCAAAGTCAAAGTCAAAGTCAAAGTCAAAGTCAAAGTCAAA\n",
       "16  GTCAAAGTCAAAGTCAAAGTCAAAGTCAAAGTCAAAGTCAAAGTCAAA\n",
       "17  TTCAGTTTCAGTTTCAGTTTCAGTAAAGTCAAAGTCAAAGTCAAAGTC\n",
       "18  TTCAGTTTCAGTTTCAGTTTCAGTAAAGTCAAAGTCAAAGTCAAAGTC\n",
       "19  TCCAAGATCAAGATCAAGATCTCCTCCAAGATCAAGATCAAGATCTCC\n",
       "20  TCCAAGATCAAGATCAAGATCTCCTCCAAGATCAAGATCAAGATCTCC\n",
       "21  GTCAAAGTCAAAGTCAAAGTCAAAAGTTTCAGTTTCAGTTTCAGTTTC\n",
       "22  GTCAAAGTCAAAGTCAAAGTCAAAAGTTTCAGTTTCAGTTTCAGTTTC\n",
       "23  AAAGTCAAAGTCAGTTTCAGTTTCAAAGTCAAAGTCAGTTTCAGTTTC\n",
       "24  AAAGTCAAAGTCAGTTTCAGTTTCAAAGTCAAAGTCAGTTTCAGTTTC\n",
       "25  TACAAGTACAAGTACAAGTACAAGTACAAGTACAAGTACAAGTCCGGC\n",
       "26  TACAAGTACAAGTACAAGTACAAGTACAAGTACAAGTACAAGTCCGGC\n",
       "27  AGTTTCAGTTTCAGTTTCAGTTTCAAAGTCAAAGTCAAAGTCAAAGTC\n",
       "28  AGTTTCAGTTTCAGTTTCAGTTTCAAAGTCAAAGTCAAAGTCAAAGTC\n",
       "29  TTCAGTTTCAGTTTCAGTTTCAGTGTCAAAGTCAAAGTCAAAGTCAAA\n",
       "30  TTCAGTTTCAGTTTCAGTTTCAGTGTCAAAGTCAAAGTCAAAGTCAAA\n",
       "⋮   ⋮                                               \n",
       "605 CCTCCGCCTCCGCCTCCGCCTCCGTCCGGCTCCGGCTCCGGCTCCGGC\n",
       "606 CCTCCGCCTCCGCCTCCGCCTCCGTCCGGCTCCGGCTCCGGCTCCGGC\n",
       "607 GTCATGGTCATGGTCATGGTCATGGTCATGTCCGGCTCCGGCTCCGGC\n",
       "608 GTCATGGTCATGGTCATGGTCATGGTCATGTCCGGCTCCGGCTCCGGC\n",
       "609 TTTCTGTTTCTGTTTCTGTTTCTGTTTCTGTCCGGCTCCGGCTCCGGC\n",
       "610 TTTCTGTTTCTGTTTCTGTTTCTGTTTCTGTCCGGCTCCGGCTCCGGC\n",
       "611 CTTATCCTTATCCTTATCTCCGGCTCCGGCTCCGGCTCCGGCTCCGGC\n",
       "612 CTTATCCTTATCCTTATCTCCGGCTCCGGCTCCGGCTCCGGCTCCGGC\n",
       "613 TTGATGTTGATGTTGATGTTGATGTTGATGTTGATGTCCGGCTCCGGC\n",
       "614 TTGATGTTGATGTTGATGTTGATGTTGATGTTGATGTCCGGCTCCGGC\n",
       "615 AGTGGCAGTGGCAGTGGCAGTGGCTCCGGCTCCGGCTCCGGCTCCGGC\n",
       "616 AGTGGCAGTGGCAGTGGCAGTGGCTCCGGCTCCGGCTCCGGCTCCGGC\n",
       "617 ATCATCATCATCATCATCTCCGGCTCCGGCTCCGGCTCCGGCTCCGGC\n",
       "618 ATCATCATCATCATCATCTCCGGCTCCGGCTCCGGCTCCGGCTCCGGC\n",
       "619 CTCATACTCATACTCATACTCATATCCGGCTCCGGCTCCGGCTCCGGC\n",
       "620 CTCATACTCATACTCATACTCATATCCGGCTCCGGCTCCGGCTCCGGC\n",
       "621 GTCATGGTCATGGTCATGGTCATGTCCGGCTCCGGCTCCGGCTCCGGC\n",
       "622 GTCATGGTCATGGTCATGGTCATGTCCGGCTCCGGCTCCGGCTCCGGC\n",
       "623 TCCATCATCATCATCTCCATCATCATCATCTCCATCATCATCATCTCC\n",
       "624 TCCATCATCATCATCTCCATCATCATCATCTCCATCATCATCATCTCC\n",
       "625 TTTCTGTTTCTGTTTCTGTTTCTGTTTCTGTTTCTGTTTCTGTTTCTG\n",
       "626 TTTCTGTTTCTGTTTCTGTTTCTGTTTCTGTTTCTGTTTCTGTTTCTG\n",
       "627 CCTCCGCCTCCGCCTCCGCCTCCGCCTCCGCCTCCGCCTCCGTCCGGC\n",
       "628 CCTCCGCCTCCGCCTCCGCCTCCGCCTCCGCCTCCGCCTCCGTCCGGC\n",
       "629 CCTCCGCCTCCGCCTCCGCCTCCGCCTCCGTCCGGCTCCGGCTCCGGC\n",
       "630 CCTCCGCCTCCGCCTCCGCCTCCGCCTCCGTCCGGCTCCGGCTCCGGC\n",
       "631 CCTCCGCCTCCGCCTCCGCCTCCGCCTCCGCCTCCGCCTCCGCCTCCG\n",
       "632 CCTCCGCCTCCGCCTCCGCCTCCGCCTCCGCCTCCGCCTCCGCCTCCG\n",
       "633 CCTCCGCCTCCGCCTCCGCCTCCGCCTCCGCCTCCGTCCGGCTCCGGC\n",
       "634 CCTCCGCCTCCGCCTCCGCCTCCGCCTCCGCCTCCGTCCGGCTCCGGC\n",
       "    insert_name                      replicate count_grna count_mrna\n",
       "1   varydicodonrepeatlength_TACAAG_6 1         13253       519      \n",
       "2   varydicodonrepeatlength_TACAAG_6 2          6416       946      \n",
       "3   mixdicodons_AAAGTC_AGTTTC_1      1         26785      1644      \n",
       "4   mixdicodons_AAAGTC_AGTTTC_1      2         15427      1799      \n",
       "5   mixdicodons_TTCAGT_GTCAAA_1      1         22124      1047      \n",
       "6   mixdicodons_TTCAGT_GTCAAA_1      2         15869      2456      \n",
       "7   varydicodonrepeatlength_TACAAG_8 2         14470      1267      \n",
       "8   varydicodonrepeatlength_TACAAG_8 1         17844      1811      \n",
       "9   mixdicodons_AGTTTC_AAAGTC_1      1         24536      1115      \n",
       "10  mixdicodons_AGTTTC_AAAGTC_1      2         12936      2547      \n",
       "11  varydicodonrepeatlength_CGCCAT_8 2          7286       689      \n",
       "12  varydicodonrepeatlength_CGCCAT_8 1         11007      1066      \n",
       "13  varydicodonrepeatlength_CGCCAT_7 1         17969      1277      \n",
       "14  varydicodonrepeatlength_CGCCAT_7 2          8608      1259      \n",
       "15  varydicodonrepeatlength_GTCAAA_8 1         16768      1634      \n",
       "16  varydicodonrepeatlength_GTCAAA_8 2         15428      2394      \n",
       "17  mixdicodons_TTCAGT_AAAGTC_4      2         14148      1057      \n",
       "18  mixdicodons_TTCAGT_AAAGTC_4      1         30037      7296      \n",
       "19  reorderdicodon_AAGATC_3          1         19731      2330      \n",
       "20  reorderdicodon_AAGATC_3          2         14827      2369      \n",
       "21  mixdicodons_GTCAAA_AGTTTC_4      1         18677      1361      \n",
       "22  mixdicodons_GTCAAA_AGTTTC_4      2         11974      3112      \n",
       "23  mixdicodons_AAAGTC_AGTTTC_2      1         25665      2756      \n",
       "24  mixdicodons_AAAGTC_AGTTTC_2      2         26271      4913      \n",
       "25  varydicodonrepeatlength_TACAAG_7 1         16679      1698      \n",
       "26  varydicodonrepeatlength_TACAAG_7 2         14882      3181      \n",
       "27  mixdicodons_AGTTTC_AAAGTC_4      1         23816      2807      \n",
       "28  mixdicodons_AGTTTC_AAAGTC_4      2         11713      2267      \n",
       "29  mixdicodons_TTCAGT_GTCAAA_4      1         22488      3292      \n",
       "30  mixdicodons_TTCAGT_GTCAAA_4      2         11044      1915      \n",
       "⋮   ⋮                                ⋮         ⋮          ⋮         \n",
       "605 varydicodonrepeatlength_CCTCCG_4 1         18794      23001     \n",
       "606 varydicodonrepeatlength_CCTCCG_4 2          4129      14856     \n",
       "607 varydicodonrepeatlength_GTCATG_5 1         11976      14982     \n",
       "608 varydicodonrepeatlength_GTCATG_5 2          7476      26566     \n",
       "609 varydicodonrepeatlength_TTTCTG_5 1         13416      21329     \n",
       "610 varydicodonrepeatlength_TTTCTG_5 2          8194      23890     \n",
       "611 varydicodonrepeatlength_CTTATC_3 1         15211      21185     \n",
       "612 varydicodonrepeatlength_CTTATC_3 2          6325      22434     \n",
       "613 varydicodonrepeatlength_TTGATG_6 1         13507      21720     \n",
       "614 varydicodonrepeatlength_TTGATG_6 2         14423      50445     \n",
       "615 varydicodonrepeatlength_AGTGGC_4 1         15199      25654     \n",
       "616 varydicodonrepeatlength_AGTGGC_4 2         11394      38866     \n",
       "617 varydicodonrepeatlength_ATCATC_3 1         13779      19166     \n",
       "618 varydicodonrepeatlength_ATCATC_3 2          9599      40404     \n",
       "619 varydicodonrepeatlength_CTCATA_4 1          9711      15830     \n",
       "620 varydicodonrepeatlength_CTCATA_4 2          7111      25823     \n",
       "621 varydicodonrepeatlength_GTCATG_4 1         14257      28073     \n",
       "622 varydicodonrepeatlength_GTCATG_4 2          6230      18810     \n",
       "623 reorderdicodon_ATCATC_2          1         19301      35278     \n",
       "624 reorderdicodon_ATCATC_2          2         17001      60483     \n",
       "625 varydicodonrepeatlength_TTTCTG_8 1         13140      24492     \n",
       "626 varydicodonrepeatlength_TTTCTG_8 2         13050      45603     \n",
       "627 varydicodonrepeatlength_CCTCCG_7 1         14799      23613     \n",
       "628 varydicodonrepeatlength_CCTCCG_7 2          6929      30966     \n",
       "629 varydicodonrepeatlength_CCTCCG_5 1         11889      18734     \n",
       "630 varydicodonrepeatlength_CCTCCG_5 2          4980      25254     \n",
       "631 varydicodonrepeatlength_CCTCCG_8 1          7992      13095     \n",
       "632 varydicodonrepeatlength_CCTCCG_8 2          3282      19873     \n",
       "633 varydicodonrepeatlength_CCTCCG_6 1         10036      15281     \n",
       "634 varydicodonrepeatlength_CCTCCG_6 2          3635      30253     \n",
       "    n_barcodes_grna n_barcodes_mrna lfc       mean_lfc  insert          \n",
       "1   39              21              -4.659915 -3.703576 YKYKYKYKYKYKSGSG\n",
       "2   36              21              -2.747237 -3.703576 YKYKYKYKYKYKSGSG\n",
       "3   66              34              -4.011618 -3.548641 KVSFKVSFKVSFKVSF\n",
       "4   72              44              -3.085665 -3.548641 KVSFKVSFKVSFKVSF\n",
       "5   58              30              -4.386754 -3.532029 FSVKFSVKFSVKFSVK\n",
       "6   53              30              -2.677303 -3.532029 FSVKFSVKFSVKFSVK\n",
       "7   55              44              -3.499051 -3.392553 YKYKYKYKYKYKYKYK\n",
       "8   63              40              -3.286055 -3.392553 YKYKYKYKYKYKYKYK\n",
       "9   65              36              -4.445259 -3.387627 SFKVSFKVSFKVSFKV\n",
       "10  50              41              -2.329995 -3.387627 SFKVSFKVSFKVSFKV\n",
       "11  41              30              -3.388026 -3.370821 RHRHRHRHRHRHRHRH\n",
       "12  51              20              -3.353617 -3.370821 RHRHRHRHRHRHRHRH\n",
       "13  60              37              -3.800154 -3.279514 RHRHRHRHRHRHRHSG\n",
       "14  48              30              -2.758875 -3.279514 RHRHRHRHRHRHRHSG\n",
       "15  52              29              -3.344705 -3.009118 VKVKVKVKVKVKVKVK\n",
       "16  53              28              -2.673531 -3.009118 VKVKVKVKVKVKVKVK\n",
       "17  51              34              -3.728026 -2.877532 FSFSFSFSKVKVKVKV\n",
       "18  77              43              -2.027038 -2.877532 FSFSFSFSKVKVKVKV\n",
       "19  59              37              -3.067537 -2.849444 SKIKIKISSKIKIKIS\n",
       "20  53              43              -2.631351 -2.849444 SKIKIKISSKIKIKIS\n",
       "21  53              23              -3.763998 -2.846732 VKVKVKVKSFSFSFSF\n",
       "22  39              31              -1.929466 -2.846732 VKVKVKVKSFSFSFSF\n",
       "23  60              38              -3.204629 -2.804449 KVKVSFSFKVKVSFSF\n",
       "24  73              60              -2.404270 -2.804449 KVKVSFSFKVKVSFSF\n",
       "25  55              34              -3.281599 -2.746545 YKYKYKYKYKYKYKSG\n",
       "26  54              32              -2.211491 -2.746545 YKYKYKYKYKYKYKSG\n",
       "27  76              43              -3.070305 -2.712517 SFSFSFSFKVKVKVKV\n",
       "28  42              43              -2.354729 -2.712517 SFSFSFSFKVKVKVKV\n",
       "29  64              35              -2.757594 -2.635458 FSFSFSFSVKVKVKVK\n",
       "30  51              32              -2.513321 -2.635458 FSFSFSFSVKVKVKVK\n",
       "⋮   ⋮               ⋮               ⋮         ⋮         ⋮               \n",
       "605 82              102             0.3059497 1.083828  PPPPPPPPSGSGSGSG\n",
       "606 52               83             1.8617067 1.083828  PPPPPPPPSGSGSGSG\n",
       "607 42               54             0.3376094 1.090689  VMVMVMVMVMSGSGSG\n",
       "608 46               78             1.8437678 1.090689  VMVMVMVMVMSGSGSG\n",
       "609 49               67             0.6833870 1.120840  FLFLFLFLFLSGSGSG\n",
       "610 41               66             1.5582923 1.120840  FLFLFLFLFLSGSGSG\n",
       "611 55               78             0.4924534 1.166764  LILILISGSGSGSGSG\n",
       "612 40               74             1.8410748 1.166764  LILILISGSGSGSGSG\n",
       "613 45               66             0.6998421 1.260354  LMLMLMLMLMLMSGSG\n",
       "614 52               96             1.8208653 1.260354  LMLMLMLMLMLMSGSG\n",
       "615 82               92             0.7697327 1.277246  SGSGSGSGSGSGSGSG\n",
       "616 63               91             1.7847596 1.277246  SGSGSGSGSGSGSGSG\n",
       "617 60               80             0.4906034 1.289335  IIIIIISGSGSGSGSG\n",
       "618 69              114             2.0880674 1.289335  IIIIIISGSGSGSGSG\n",
       "619 48               65             0.7194948 1.297276  LILILILISGSGSGSG\n",
       "620 43               71             1.8750575 1.297276  LILILILISGSGSGSG\n",
       "621 49               64             0.9920381 1.300380  VMVMVMVMSGSGSGSG\n",
       "622 39               57             1.6087211 1.300380  VMVMVMVMSGSGSGSG\n",
       "623 67               97             0.8846184 1.365027  SIIIISIIIISIIIIS\n",
       "624 81              119             1.8454354 1.365027  SIIIISIIIISIIIIS\n",
       "625 38               69             0.9128706 1.366237  FLFLFLFLFLFLFLFL\n",
       "626 64               86             1.8196042 1.366237  FLFLFLFLFLFLFLFL\n",
       "627 66               83             0.6886069 1.431549  PPPPPPPPPPPPPPSG\n",
       "628 79               97             2.1744912 1.431549  PPPPPPPPPPPPPPSG\n",
       "629 60               66             0.6705569 1.513688  PPPPPPPPPPSGSGSG\n",
       "630 55               79             2.3568195 1.513688  PPPPPPPPPPSGSGSG\n",
       "631 41               44             0.7269128 1.669800  PPPPPPPPPPPPPPPP\n",
       "632 31               64             2.6126878 1.669800  PPPPPPPPPPPPPPPP\n",
       "633 53               70             0.6210799 1.846328  PPPPPPPPPPPPSGSG\n",
       "634 44               82             3.0715762 1.846328  PPPPPPPPPPPPSGSG"
      ]
     },
     "metadata": {},
     "output_type": "display_data"
    }
   ],
   "source": [
    "insert_lfc <- lfc %>% \n",
    "  left_join(insert_annotations, by = \"insert_num\") %>% \n",
    "  group_by(insert_num) %>% \n",
    "  mutate(mean_lfc = mean(lfc)) %>% \n",
    "  ungroup() %>% \n",
    "  arrange(mean_lfc) %>% \n",
    "  select(-insert_num) %>% \n",
    "  mutate(insert = as.character(translate(DNAStringSet(seq), no.init.codon = T))) %>% \n",
    "  write_tsv(\"../tables/insert_mrna_lfc.tsv.gz\")\n",
    "\n",
    "insert_lfc\n",
    "\n",
    "cutoff_insert_lfc <- cutoff_lfc %>% \n",
    "  # left_join(insert_annotations, by = \"insert_num\") %>% \n",
    "  group_by(insert_num) %>% \n",
    "  mutate(mean_lfc = mean(lfc)) %>% \n",
    "  ungroup() %>% \n",
    "  arrange(mean_lfc) %>% \n",
    "  select(-insert_num) %>% \n",
    "  mutate(insert = as.character(translate(DNAStringSet(seq), no.init.codon = T))) \n",
    "\n",
    "cutoff_insert_lfc"
   ]
  },
  {
   "cell_type": "markdown",
   "metadata": {},
   "source": [
    "## How does mRNA level vary with dicodon repeat length?"
   ]
  },
  {
   "cell_type": "code",
   "execution_count": 244,
   "metadata": {
    "vscode": {
     "languageId": "r"
    }
   },
   "outputs": [
    {
     "name": "stdout",
     "output_type": "stream",
     "text": [
      "\u001b[90m# A tibble: 168 × 8\u001b[39m\n",
      "   replicate    lfc lfc_sd seq              dicodon repeat_length mean_lfc diaa \n",
      "       \u001b[3m\u001b[90m<dbl>\u001b[39m\u001b[23m  \u001b[3m\u001b[90m<dbl>\u001b[39m\u001b[23m  \u001b[3m\u001b[90m<dbl>\u001b[39m\u001b[23m \u001b[3m\u001b[90m<chr>\u001b[39m\u001b[23m            \u001b[3m\u001b[90m<chr>\u001b[39m\u001b[23m   \u001b[3m\u001b[90m<chr>\u001b[39m\u001b[23m            \u001b[3m\u001b[90m<dbl>\u001b[39m\u001b[23m \u001b[3m\u001b[90m<fct>\u001b[39m\u001b[23m\n",
      "\u001b[90m 1\u001b[39m         1 -\u001b[31m3\u001b[39m\u001b[31m.\u001b[39m\u001b[31m68\u001b[39m   1.47  AAGATCAAGATCAAG… AAGATC  8               -\u001b[31m3\u001b[39m\u001b[31m.\u001b[39m\u001b[31m10\u001b[39m  KI   \n",
      "\u001b[90m 2\u001b[39m         1 -\u001b[31m1\u001b[39m\u001b[31m.\u001b[39m\u001b[31m62\u001b[39m   0.522 AAGATCAAGATCAAG… AAGATC  7               -\u001b[31m1\u001b[39m\u001b[31m.\u001b[39m\u001b[31m73\u001b[39m  KI   \n",
      "\u001b[90m 3\u001b[39m         1 -\u001b[31m0\u001b[39m\u001b[31m.\u001b[39m\u001b[31m710\u001b[39m  0.577 AAGATCAAGATCAAG… AAGATC  6               -\u001b[31m1\u001b[39m\u001b[31m.\u001b[39m\u001b[31m42\u001b[39m  KI   \n",
      "\u001b[90m 4\u001b[39m         1 -\u001b[31m1\u001b[39m\u001b[31m.\u001b[39m\u001b[31m17\u001b[39m   0.517 AAGATCAAGATCAAG… AAGATC  5               -\u001b[31m1\u001b[39m\u001b[31m.\u001b[39m\u001b[31m52\u001b[39m  KI   \n",
      "\u001b[90m 5\u001b[39m         1 -\u001b[31m0\u001b[39m\u001b[31m.\u001b[39m\u001b[31m292\u001b[39m  0.292 AAGATCAAGATCAAG… AAGATC  4               -\u001b[31m0\u001b[39m\u001b[31m.\u001b[39m\u001b[31m560\u001b[39m KI   \n",
      "\u001b[90m 6\u001b[39m         1  0.249  0.314 AAGATCAAGATCAAG… AAGATC  3                0.176 KI   \n",
      "\u001b[90m 7\u001b[39m         1  0.274  0.330 AAGATCAAGATCTCC… AAGATC  2                0.482 KI   \n",
      "\u001b[90m 8\u001b[39m         1 -\u001b[31m0\u001b[39m\u001b[31m.\u001b[39m\u001b[31m440\u001b[39m  0.316 AAGATCTCCGGCTCC… AAGATC  1                0.198 KI   \n",
      "\u001b[90m 9\u001b[39m         1 -\u001b[31m2\u001b[39m\u001b[31m.\u001b[39m\u001b[31m52\u001b[39m   0.435 AAGTTCAAGTTCAAG… AAGTTC  8               -\u001b[31m2\u001b[39m\u001b[31m.\u001b[39m\u001b[31m0\u001b[39m\u001b[31m2\u001b[39m  KF   \n",
      "\u001b[90m10\u001b[39m         1 -\u001b[31m3\u001b[39m\u001b[31m.\u001b[39m\u001b[31m0\u001b[39m\u001b[31m2\u001b[39m   0.579 AAGTTCAAGTTCAAG… AAGTTC  7               -\u001b[31m2\u001b[39m\u001b[31m.\u001b[39m\u001b[31m31\u001b[39m  KF   \n",
      "\u001b[90m# … with 158 more rows\u001b[39m\n"
     ]
    },
    {
     "data": {
      "image/png": "[encoded data removed]",
      "text/plain": [
       "plot without title"
      ]
     },
     "metadata": {
      "image/png": {
       "height": 180,
       "width": 180
      }
     },
     "output_type": "display_data"
    }
   ],
   "source": [
    "options(repr.plot.width=3, repr.plot.height=3)\n",
    "\n",
    "plot_data <- insert_lfc %>%\n",
    "  filter(str_detect(insert_name, \"varydicodonrepeatlength\")) %>% \n",
    "  separate(insert_name, c(\"insert_type\", \"dicodon\", \"repeat_length\")) %>% \n",
    "  mutate(diaa = as.character(translate(DNAStringSet(dicodon,), no.init.codon = T))) %>% \n",
    "  group_by(seq) %>%\n",
    "  slice(1) %>% \n",
    "  ungroup() %>% \n",
    "  group_by(diaa) %>%\n",
    "  mutate(temp = min(mean_lfc[repeat_length == \"8\"])) %>%\n",
    "  ungroup() %>%\n",
    "  mutate(diaa = fct_reorder(diaa, -temp)) %>%\n",
    "  select(-insert, - insert_type, -temp) %>%\n",
    "  print()\n",
    "\n",
    "plot_data %>% \n",
    "  ggplot(aes(x = repeat_length, y = fct_rev(diaa), fill = mean_lfc)) +\n",
    "  geom_tile(color = 'grey') +\n",
    "  scale_fill_gradient2() +\n",
    "  labs(x = \"Number of Repeats\", y = \"Dipeptide\", fill = \"   mRNA\\n(log2, a.u.)\",\n",
    "       title = \"Effect of Repeat Length on mRNA level\")  "
   ]
  },
  {
   "cell_type": "markdown",
   "metadata": {},
   "source": [
    "## Plot length effects for destabilizing dipeptide only\n",
    "\n",
    "- set RH8 as lowest for heatmap purposes, since YK6 being lowest is likely suprious. "
   ]
  },
  {
   "cell_type": "code",
   "execution_count": 270,
   "metadata": {
    "vscode": {
     "languageId": "r"
    }
   },
   "outputs": [
    {
     "name": "stdout",
     "output_type": "stream",
     "text": [
      "\u001b[90m# A tibble: 72 × 8\u001b[39m\n",
      "   replicate     lfc lfc_sd seq             dicodon repeat_length mean_lfc diaa \n",
      "       \u001b[3m\u001b[90m<dbl>\u001b[39m\u001b[23m   \u001b[3m\u001b[90m<dbl>\u001b[39m\u001b[23m  \u001b[3m\u001b[90m<dbl>\u001b[39m\u001b[23m \u001b[3m\u001b[90m<chr>\u001b[39m\u001b[23m           \u001b[3m\u001b[90m<chr>\u001b[39m\u001b[23m   \u001b[3m\u001b[90m<chr>\u001b[39m\u001b[23m            \u001b[3m\u001b[90m<dbl>\u001b[39m\u001b[23m \u001b[3m\u001b[90m<fct>\u001b[39m\u001b[23m\n",
      "\u001b[90m 1\u001b[39m         1 -\u001b[31m3\u001b[39m\u001b[31m.\u001b[39m\u001b[31m44\u001b[39m    0.636 ATCATCATCATCAT… ATCATC  8              -\u001b[31m2\u001b[39m\u001b[31m.\u001b[39m\u001b[31m37\u001b[39m   II   \n",
      "\u001b[90m 2\u001b[39m         1 -\u001b[31m2\u001b[39m\u001b[31m.\u001b[39m\u001b[31m45\u001b[39m    0.550 ATCATCATCATCAT… ATCATC  7              -\u001b[31m1\u001b[39m\u001b[31m.\u001b[39m\u001b[31m81\u001b[39m   II   \n",
      "\u001b[90m 3\u001b[39m         1 -\u001b[31m0\u001b[39m\u001b[31m.\u001b[39m\u001b[31m168\u001b[39m   0.411 ATCATCATCATCAT… ATCATC  6               0.035\u001b[4m7\u001b[24m II   \n",
      "\u001b[90m 4\u001b[39m         1 -\u001b[31m0\u001b[39m\u001b[31m.\u001b[39m\u001b[31m0\u001b[39m\u001b[31m53\u001b[4m7\u001b[24m\u001b[39m  0.487 ATCATCATCATCAT… ATCATC  5              -\u001b[31m0\u001b[39m\u001b[31m.\u001b[39m\u001b[31m152\u001b[39m  II   \n",
      "\u001b[90m 5\u001b[39m         1  0.286   0.280 ATCATCATCATCAT… ATCATC  4               0.581  II   \n",
      "\u001b[90m 6\u001b[39m         1  0.905   0.404 ATCATCATCATCAT… ATCATC  3               1.17   II   \n",
      "\u001b[90m 7\u001b[39m         1  0.556   0.328 ATCATCATCATCTC… ATCATC  2               0.170  II   \n",
      "\u001b[90m 8\u001b[39m         1  0.393   0.383 ATCATCTCCGGCTC… ATCATC  1               0.462  II   \n",
      "\u001b[90m 9\u001b[39m         1 -\u001b[31m2\u001b[39m\u001b[31m.\u001b[39m\u001b[31m52\u001b[39m    0.435 AAGTTCAAGTTCAA… AAGTTC  8              -\u001b[31m2\u001b[39m\u001b[31m.\u001b[39m\u001b[31m0\u001b[39m\u001b[31m2\u001b[39m   KF   \n",
      "\u001b[90m10\u001b[39m         1 -\u001b[31m3\u001b[39m\u001b[31m.\u001b[39m\u001b[31m0\u001b[39m\u001b[31m2\u001b[39m    0.579 AAGTTCAAGTTCAA… AAGTTC  7              -\u001b[31m2\u001b[39m\u001b[31m.\u001b[39m\u001b[31m31\u001b[39m   KF   \n",
      "\u001b[90m# … with 62 more rows\u001b[39m\n"
     ]
    },
    {
     "data": {
      "image/png": "[encoded data removed]",
      "text/plain": [
       "plot without title"
      ]
     },
     "metadata": {
      "image/png": {
       "height": 300,
       "width": 240
      }
     },
     "output_type": "display_data"
    }
   ],
   "source": [
    "options(repr.plot.width=4, repr.plot.height=5)\n",
    "\n",
    "plot_data <- insert_lfc %>% \n",
    "  filter(str_detect(insert_name, \"varydicodonrepeatlength\")) %>% \n",
    "  separate(insert_name, c(\"insert_type\", \"dicodon\", \"repeat_length\")) %>% \n",
    "  # we skip these two dicodons and plot them separately since they are peculiar, \n",
    "  # they have another synonymous dicodon in this group\n",
    "  filter(!dicodon %in% c(\"AGAGAG\", \"CTCATA\")) %>%\n",
    "  mutate(diaa = as.character(translate(DNAStringSet(dicodon,), no.init.codon = T))) %>% \n",
    "  group_by(insert) %>%\n",
    "  slice(1) %>%\n",
    "  ungroup() %>%\n",
    "  group_by(diaa) %>%\n",
    "  mutate(temp = min(mean_lfc[repeat_length == \"8\"])) %>%\n",
    "  ungroup() %>%\n",
    "  filter(temp < -0.5) %>% \n",
    "  mutate(diaa = fct_reorder(diaa, -temp)) %>%\n",
    "  select(-insert, - insert_type, -temp) %>%\n",
    "  mutate(mean_lfc = case_when(mean_lfc < -3.8 ~ -3.8, T ~ mean_lfc)) %>% \n",
    "  print()\n",
    "\n",
    "plot_data %>% \n",
    "  complete(diaa, repeat_length) %>% \n",
    "  ggplot(aes(x = repeat_length, y = fct_rev(diaa), fill = mean_lfc)) +\n",
    "  geom_tile() +\n",
    "  scale_fill_gradient2(breaks = c(0, -1.5, -3),\n",
    "                       na.value = \"grey50\", \n",
    "                       guide = guide_colorbar(barwidth = 3.5, barheight = 0.5, ticks.colour = \"black\", title.position = \"top\")) +\n",
    "  labs(x = \"Number of repeats\", y = \"Dipeptide\", fill = \"mRNA level\\n(log2, a.u.)\") +\n",
    "  theme(axis.line = element_blank(), legend.position = \"top\") \n",
    "  \n",
    "ggsave(\"../figures/destabilizing_dipeptide_length_effect.pdf\", width = 4, height = 5)   "
   ]
  },
  {
   "cell_type": "markdown",
   "metadata": {},
   "source": [
    "## Show replicability for above plot"
   ]
  },
  {
   "cell_type": "code",
   "execution_count": 246,
   "metadata": {
    "vscode": {
     "languageId": "r"
    }
   },
   "outputs": [
    {
     "name": "stdout",
     "output_type": "stream",
     "text": [
      "\u001b[90m# A tibble: 72 × 4\u001b[39m\n",
      "   diaa  repeat_length lfc_1 lfc_2\n",
      "   \u001b[3m\u001b[90m<chr>\u001b[39m\u001b[23m \u001b[3m\u001b[90m<chr>\u001b[39m\u001b[23m         \u001b[3m\u001b[90m<dbl>\u001b[39m\u001b[23m \u001b[3m\u001b[90m<dbl>\u001b[39m\u001b[23m\n",
      "\u001b[90m 1\u001b[39m YK    6             -\u001b[31m4\u001b[39m\u001b[31m.\u001b[39m\u001b[31m62\u001b[39m -\u001b[31m4\u001b[39m\u001b[31m.\u001b[39m\u001b[31m45\u001b[39m\n",
      "\u001b[90m 2\u001b[39m RH    8             -\u001b[31m2\u001b[39m\u001b[31m.\u001b[39m\u001b[31m27\u001b[39m -\u001b[31m5\u001b[39m\u001b[31m.\u001b[39m\u001b[31m0\u001b[39m\u001b[31m4\u001b[39m\n",
      "\u001b[90m 3\u001b[39m YK    8             -\u001b[31m2\u001b[39m\u001b[31m.\u001b[39m\u001b[31m78\u001b[39m -\u001b[31m4\u001b[39m\u001b[31m.\u001b[39m\u001b[31m44\u001b[39m\n",
      "\u001b[90m 4\u001b[39m VK    5             -\u001b[31m3\u001b[39m\u001b[31m.\u001b[39m\u001b[31m68\u001b[39m -\u001b[31m2\u001b[39m\u001b[31m.\u001b[39m\u001b[31m87\u001b[39m\n",
      "\u001b[90m 5\u001b[39m RH    7             -\u001b[31m2\u001b[39m\u001b[31m.\u001b[39m\u001b[31m85\u001b[39m -\u001b[31m3\u001b[39m\u001b[31m.\u001b[39m\u001b[31m57\u001b[39m\n",
      "\u001b[90m 6\u001b[39m KI    8             -\u001b[31m3\u001b[39m\u001b[31m.\u001b[39m\u001b[31m68\u001b[39m -\u001b[31m2\u001b[39m\u001b[31m.\u001b[39m\u001b[31m51\u001b[39m\n",
      "\u001b[90m 7\u001b[39m YK    7             -\u001b[31m2\u001b[39m\u001b[31m.\u001b[39m\u001b[31m68\u001b[39m -\u001b[31m3\u001b[39m\u001b[31m.\u001b[39m\u001b[31m19\u001b[39m\n",
      "\u001b[90m 8\u001b[39m VK    7             -\u001b[31m2\u001b[39m\u001b[31m.\u001b[39m\u001b[31m70\u001b[39m -\u001b[31m2\u001b[39m\u001b[31m.\u001b[39m\u001b[31m30\u001b[39m\n",
      "\u001b[90m 9\u001b[39m VK    8             -\u001b[31m2\u001b[39m\u001b[31m.\u001b[39m\u001b[31m55\u001b[39m -\u001b[31m2\u001b[39m\u001b[31m.\u001b[39m\u001b[31m30\u001b[39m\n",
      "\u001b[90m10\u001b[39m II    8             -\u001b[31m3\u001b[39m\u001b[31m.\u001b[39m\u001b[31m44\u001b[39m -\u001b[31m1\u001b[39m\u001b[31m.\u001b[39m\u001b[31m29\u001b[39m\n",
      "\u001b[90m# … with 62 more rows\u001b[39m\n"
     ]
    },
    {
     "data": {
      "image/png": "[encoded data removed]",
      "text/plain": [
       "plot without title"
      ]
     },
     "metadata": {
      "image/png": {
       "height": 120,
       "width": 120
      }
     },
     "output_type": "display_data"
    }
   ],
   "source": [
    "options(repr.plot.width=2, repr.plot.height=2)\n",
    "\n",
    "plot_data <- insert_lfc %>% \n",
    "  filter(str_detect(insert_name, \"varydicodonrepeatlength\")) %>% \n",
    "  separate(insert_name, c(\"insert_type\", \"dicodon\", \"repeat_length\")) %>% \n",
    "  # we skip these two dicodons and plot them separately since they are peculiar\n",
    "  filter(!dicodon %in% c(\"AGAGAG\", \"CTCATA\")) %>%\n",
    "  mutate(diaa = as.character(translate(DNAStringSet(dicodon,), no.init.codon = T))) %>% \n",
    "  group_by(diaa) %>%\n",
    "  mutate(temp = min(mean_lfc[repeat_length == \"8\"])) %>%\n",
    "  ungroup() %>%\n",
    "  filter(temp < -0.5) %>% \n",
    "  select(replicate, lfc, diaa, repeat_length) %>% \n",
    "  mutate(replicate = as.character(replicate)) %>% \n",
    "  pivot_wider(names_from = replicate, values_from = lfc, names_prefix = \"lfc_\") %>%\n",
    "  print()\n",
    "\n",
    "plot_data %>% \n",
    "  ggplot(aes(x = lfc_1, y = lfc_2)) +\n",
    "  geom_point(size = 0.5) +\n",
    "  labs(x = \"mRNA level, Rep 1\\n(log2, a.u.)\", y = \"mRNA level, Rep 2\\n(log2, a.u.)\") +\n",
    "  annotate(\"text\", x=0, y=-6, label=\"rho = 0.84\", size = 2)"
   ]
  },
  {
   "cell_type": "markdown",
   "metadata": {},
   "source": [
    "## Read in data from Pool1 8x Dicodon experiment\n",
    "\n",
    "- Adjust such that we can use this as an additioanl replciate for plotting 8x dicodon test effects "
   ]
  },
  {
   "cell_type": "code",
   "execution_count": 247,
   "metadata": {
    "vscode": {
     "languageId": "r"
    }
   },
   "outputs": [
    {
     "name": "stderr",
     "output_type": "stream",
     "text": [
      "\u001b[1mRows: \u001b[22m\u001b[34m441\u001b[39m \u001b[1mColumns: \u001b[22m\u001b[34m12\u001b[39m\n",
      "\u001b[36m──\u001b[39m \u001b[1mColumn specification\u001b[22m \u001b[36m────────────────────────────────────────────────────────\u001b[39m\n",
      "\u001b[1mDelimiter:\u001b[22m \"\\t\"\n",
      "\u001b[31mchr\u001b[39m (6): dicodon, diaa, codon1, codon2, aa1, aa2\n",
      "\u001b[32mdbl\u001b[39m (6): insert_num, count_grna, count_mrna, n_barcodes_grna, n_barcodes_mrn...\n",
      "\n",
      "\u001b[36mℹ\u001b[39m Use `spec()` to retrieve the full column specification for this data.\n",
      "\u001b[36mℹ\u001b[39m Specify the column types or set `show_col_types = FALSE` to quiet this message.\n"
     ]
    },
    {
     "name": "stdout",
     "output_type": "stream",
     "text": [
      "\u001b[90m# A tibble: 441 × 7\u001b[39m\n",
      "   diaa1 diaa2   lfc repeat_length insert           experiment replicate\n",
      "   \u001b[3m\u001b[90m<chr>\u001b[39m\u001b[23m \u001b[3m\u001b[90m<chr>\u001b[39m\u001b[23m \u001b[3m\u001b[90m<dbl>\u001b[39m\u001b[23m         \u001b[3m\u001b[90m<dbl>\u001b[39m\u001b[23m \u001b[3m\u001b[90m<chr>\u001b[39m\u001b[23m                 \u001b[3m\u001b[90m<dbl>\u001b[39m\u001b[23m     \u001b[3m\u001b[90m<dbl>\u001b[39m\u001b[23m\n",
      "\u001b[90m 1\u001b[39m G*    G*    -\u001b[31m3\u001b[39m\u001b[31m.\u001b[39m\u001b[31m0\u001b[39m\u001b[31m4\u001b[39m             8 G*G*G*G*G*G*G*G*          1         1\n",
      "\u001b[90m 2\u001b[39m YK    YK    -\u001b[31m2\u001b[39m\u001b[31m.\u001b[39m\u001b[31m67\u001b[39m             8 YKYKYKYKYKYKYKYK          1         1\n",
      "\u001b[90m 3\u001b[39m RH    RH    -\u001b[31m2\u001b[39m\u001b[31m.\u001b[39m\u001b[31m66\u001b[39m             8 RHRHRHRHRHRHRHRH          1         1\n",
      "\u001b[90m 4\u001b[39m T*    T*    -\u001b[31m2\u001b[39m\u001b[31m.\u001b[39m\u001b[31m41\u001b[39m             8 T*T*T*T*T*T*T*T*          1         1\n",
      "\u001b[90m 5\u001b[39m HR    HR    -\u001b[31m2\u001b[39m\u001b[31m.\u001b[39m\u001b[31m39\u001b[39m             8 HRHRHRHRHRHRHRHR          1         1\n",
      "\u001b[90m 6\u001b[39m R*    R*    -\u001b[31m2\u001b[39m\u001b[31m.\u001b[39m\u001b[31m32\u001b[39m             8 R*R*R*R*R*R*R*R*          1         1\n",
      "\u001b[90m 7\u001b[39m II    II    -\u001b[31m2\u001b[39m\u001b[31m.\u001b[39m\u001b[31m30\u001b[39m             8 IIIIIIIIIIIIIIII          1         1\n",
      "\u001b[90m 8\u001b[39m VK    VK    -\u001b[31m2\u001b[39m\u001b[31m.\u001b[39m\u001b[31m26\u001b[39m             8 VKVKVKVKVKVKVKVK          1         1\n",
      "\u001b[90m 9\u001b[39m KV    KV    -\u001b[31m2\u001b[39m\u001b[31m.\u001b[39m\u001b[31m23\u001b[39m             8 KVKVKVKVKVKVKVKV          1         1\n",
      "\u001b[90m10\u001b[39m KI    KI    -\u001b[31m2\u001b[39m\u001b[31m.\u001b[39m\u001b[31m18\u001b[39m             8 KIKIKIKIKIKIKIKI          1         1\n",
      "\u001b[90m# … with 431 more rows\u001b[39m\n"
     ]
    }
   ],
   "source": [
    "all_8xdiaa_data <- read_tsv(\"../../pool1_mrna/tables/8xdipeptide_lfc.tsv.gz\") %>% \n",
    "  select(count_grna, count_mrna, n_barcodes_grna, n_barcodes_mrna, diaa) %>% \n",
    "  group_by(diaa) %>%\n",
    "  summarize_all(sum) %>%\n",
    "  ungroup() %>%\n",
    "  mutate(lfc = log2(count_mrna / count_grna)) %>%\n",
    "  mutate(lfc = lfc -  median(lfc)) %>%\n",
    "  arrange(lfc) %>%\n",
    "  mutate(diaa1 = diaa, diaa2 = diaa, repeat_length = 8) %>% \n",
    "  mutate(insert = strrep(diaa, 8)) %>%\n",
    "  select(diaa1, diaa2, lfc, repeat_length, insert) %>%\n",
    "  mutate(experiment = 1, replicate = 1) %>% \n",
    "  print()\n"
   ]
  },
  {
   "cell_type": "markdown",
   "metadata": {},
   "source": [
    "## Plot RH combination effects"
   ]
  },
  {
   "cell_type": "markdown",
   "metadata": {},
   "source": [
    "### Parse all RH + HR combinations"
   ]
  },
  {
   "cell_type": "code",
   "execution_count": 271,
   "metadata": {
    "vscode": {
     "languageId": "r"
    }
   },
   "outputs": [
    {
     "name": "stderr",
     "output_type": "stream",
     "text": [
      "Warning message:\n",
      "“Expected 4 pieces. Missing pieces filled with `NA` in 2 rows [3, 4].”\n",
      "\n",
      "\u001b[36m──\u001b[39m \u001b[1mColumn specification\u001b[22m \u001b[36m────────────────────────────────────────────────────────\u001b[39m\n",
      "cols(\n",
      "  seq = \u001b[31mcol_character()\u001b[39m,\n",
      "  insert_type = \u001b[31mcol_character()\u001b[39m,\n",
      "  dicodon1 = \u001b[31mcol_character()\u001b[39m,\n",
      "  dicodon2 = \u001b[31mcol_character()\u001b[39m,\n",
      "  insert = \u001b[31mcol_character()\u001b[39m\n",
      ")\n",
      "\n"
     ]
    },
    {
     "name": "stdout",
     "output_type": "stream",
     "text": [
      "\u001b[90m# A tibble: 182 × 9\u001b[39m\n",
      "   replicate   lfc lfc_sd seq        repeat_length insert diaa1 diaa2 experiment\n",
      "       \u001b[3m\u001b[90m<dbl>\u001b[39m\u001b[23m \u001b[3m\u001b[90m<dbl>\u001b[39m\u001b[23m  \u001b[3m\u001b[90m<dbl>\u001b[39m\u001b[23m \u001b[3m\u001b[90m<chr>\u001b[39m\u001b[23m              \u001b[3m\u001b[90m<dbl>\u001b[39m\u001b[23m \u001b[3m\u001b[90m<chr>\u001b[39m\u001b[23m  \u001b[3m\u001b[90m<chr>\u001b[39m\u001b[23m \u001b[3m\u001b[90m<chr>\u001b[39m\u001b[23m      \u001b[3m\u001b[90m<dbl>\u001b[39m\u001b[23m\n",
      "\u001b[90m 1\u001b[39m         1 -\u001b[31m4\u001b[39m\u001b[31m.\u001b[39m\u001b[31m29\u001b[39m  1.54  AAAGTCAGT…             1 KVSFK… KV    SF             2\n",
      "\u001b[90m 2\u001b[39m         2 -\u001b[31m3\u001b[39m\u001b[31m.\u001b[39m\u001b[31m45\u001b[39m  0.786 AAAGTCAGT…             1 KVSFK… KV    SF             2\n",
      "\u001b[90m 3\u001b[39m         1 -\u001b[31m2\u001b[39m\u001b[31m.\u001b[39m\u001b[31m27\u001b[39m  0.788 CGCCATCGC…             8 RHRHR… RH    RH             2\n",
      "\u001b[90m 4\u001b[39m         2 -\u001b[31m5\u001b[39m\u001b[31m.\u001b[39m\u001b[31m0\u001b[39m\u001b[31m4\u001b[39m  1.15  CGCCATCGC…             8 RHRHR… RH    RH             2\n",
      "\u001b[90m 5\u001b[39m         1 -\u001b[31m3\u001b[39m\u001b[31m.\u001b[39m\u001b[31m73\u001b[39m  0.650 AGTTTCAAA…             1 SFKVS… SF    KV             2\n",
      "\u001b[90m 6\u001b[39m         2 -\u001b[31m3\u001b[39m\u001b[31m.\u001b[39m\u001b[31m0\u001b[39m\u001b[31m8\u001b[39m  0.761 AGTTTCAAA…             1 SFKVS… SF    KV             2\n",
      "\u001b[90m 7\u001b[39m         1 -\u001b[31m3\u001b[39m\u001b[31m.\u001b[39m\u001b[31m79\u001b[39m  0.692 TTCAGTGTC…             1 FSVKF… FS    VK             2\n",
      "\u001b[90m 8\u001b[39m         2 -\u001b[31m2\u001b[39m\u001b[31m.\u001b[39m\u001b[31m55\u001b[39m  0.843 TTCAGTGTC…             1 FSVKF… FS    VK             2\n",
      "\u001b[90m 9\u001b[39m         1 -\u001b[31m2\u001b[39m\u001b[31m.\u001b[39m\u001b[31m66\u001b[39m  0.492 GTCAAAGTC…             4 VKVKV… VK    SF             2\n",
      "\u001b[90m10\u001b[39m         2 -\u001b[31m2\u001b[39m\u001b[31m.\u001b[39m\u001b[31m95\u001b[39m  2.05  GTCAAAGTC…             4 VKVKV… VK    SF             2\n",
      "\u001b[90m# … with 172 more rows\u001b[39m\n"
     ]
    }
   ],
   "source": [
    "plot_data <- insert_lfc %>% \n",
    "  # Grab dicodon combination mixtures, plus the RH8 insert\n",
    "  filter(str_detect(insert_name, \"mixdicodons\") | insert == \"RHRHRHRHRHRHRHRH\") %>%\n",
    "  separate(insert_name, c(\"insert_type\", \"dicodon1\", \"dicodon2\", \"repeat_length\")) %>%\n",
    "  mutate(dicodon2 = if_else(is.na(repeat_length), dicodon1, dicodon2)) %>% \n",
    "  mutate(repeat_length = if_else(is.na(repeat_length), 8, as.numeric(repeat_length))) %>%\n",
    "  type_convert() %>%\n",
    "  mutate(diaa1 = as.character(translate(DNAStringSet(dicodon1), no.init.codon = T))) %>%\n",
    "  mutate(diaa2 = as.character(translate(DNAStringSet(dicodon2), no.init.codon = T))) %>%\n",
    "  select(-dicodon1, -dicodon2, -insert_type, -mean_lfc, -matches(\"n_barcodes|count\")) %>%\n",
    "  # pivot_wider(names_from = \"repeat_length\", values_from = c(\"mean_lfc\", \"insert\")) %>%\n",
    "  # arrange(mean_lfc_1 + mean_lfc_2 + mean_lfc_4) %>%\n",
    "  mutate(experiment = 2) %>% \n",
    "  print()"
   ]
  },
  {
   "cell_type": "markdown",
   "metadata": {},
   "source": [
    "### Plot  mRNA level of RH + HR combinations"
   ]
  },
  {
   "cell_type": "code",
   "execution_count": 289,
   "metadata": {
    "vscode": {
     "languageId": "r"
    }
   },
   "outputs": [
    {
     "data": {
      "image/png": "[encoded data removed]",
      "text/plain": [
       "plot without title"
      ]
     },
     "metadata": {
      "image/png": {
       "height": 210,
       "width": 126
      }
     },
     "output_type": "display_data"
    }
   ],
   "source": [
    "options(repr.plot.width=2.1, repr.plot.height=3.5)\n",
    "\n",
    "plot_data2 <- plot_data %>% \n",
    "  bind_rows(all_8xdiaa_data) %>% \n",
    "  filter(diaa1 %in% c(\"HR\", \"RH\"), diaa2 %in% c(\"RH\", \"HR\")) %>% \n",
    "  mutate(insert = fct_rev(fct_reorder(insert, -repeat_length))) %>% \n",
    "  filter(replicate == 1) %>% \n",
    "  group_by(insert, repeat_length) %>% \n",
    "  mutate(num = group_indices())\n",
    "\n",
    "plot1 <- plot_data2 %>% \n",
    "  ggplot(aes(x = lfc, y = num, shape = as.factor(replicate),\n",
    "             xmin = lfc - lfc_sd, xmax = lfc + lfc_sd,\n",
    "             )) +\n",
    "  facet_wrap(~experiment, ncol = 1, scales = \"fixed\") +\n",
    "  scale_y_continuous(position = \"right\", breaks = seq(1,8)) +\n",
    "  # scale_color_manual(values = cbPalette[2:3]) +\n",
    "  labs(color = \"\", y = \"\", x = \"mrna level (log2, a.u.)\") +\n",
    "  geom_errorbar(width=0.2) +\n",
    "  geom_point(size=1) +\n",
    "  theme(axis.text.y = element_blank(), \n",
    "        axis.ticks.y = element_blank(), \n",
    "        panel.grid.major.y = element_line(),\n",
    "        axis.line = element_blank(),\n",
    "        legend.position = \"none\") +\n",
    "  NULL\n",
    "plot1"
   ]
  },
  {
   "cell_type": "markdown",
   "metadata": {},
   "source": [
    "### Write RH + HR combinations to highlight pattern of variation"
   ]
  },
  {
   "cell_type": "code",
   "execution_count": 290,
   "metadata": {
    "vscode": {
     "languageId": "r"
    }
   },
   "outputs": [
    {
     "name": "stderr",
     "output_type": "stream",
     "text": [
      "Warning message:\n",
      "“`cols` is now required when using unnest().\n",
      "Please use `cols = c(insert)`”\n"
     ]
    },
    {
     "data": {
      "image/png": "[encoded data removed]",
      "text/plain": [
       "plot without title"
      ]
     },
     "metadata": {
      "image/png": {
       "height": 210,
       "width": 126
      }
     },
     "output_type": "display_data"
    }
   ],
   "source": [
    "options(repr.plot.width=2.1, repr.plot.height=3.5)\n",
    "\n",
    "plot2 <- plot_data2 %>% \n",
    "  select(num, replicate, repeat_length, experiment, insert) %>% \n",
    "  mutate(insert = str_split(insert, \"\")) %>% \n",
    "  mutate(insert = map(insert, enframe)) %>% \n",
    "  # rowwise() %>% \n",
    "  unnest() %>%\n",
    "  rename(pos = name, aa = value) %>% \n",
    "  ggplot(aes(x = pos, y = num, color = aa, label = aa)) +\n",
    "  facet_wrap(~experiment, ncol = 1, scales = \"fixed\") +\n",
    "  geom_text(size = 2) +\n",
    "  scale_y_continuous(position = \"right\") +\n",
    "  scale_x_continuous(breaks = c(1,4,8,12,16)) +\n",
    "  scale_color_manual(values = c(\"#00a5a7\", \"#ff0000\")) +\n",
    "  theme(axis.text.y = element_blank(), \n",
    "        axis.ticks.y = element_blank(), \n",
    "        axis.line = element_blank(),\n",
    "        legend.position = \"none\") +\n",
    "  labs(y = \"\", x = \"Position along dipeptide repeat\")\n",
    "plot2"
   ]
  },
  {
   "cell_type": "markdown",
   "metadata": {},
   "source": [
    "### Make a joint plot of RH-HR combination\n"
   ]
  },
  {
   "cell_type": "code",
   "execution_count": 294,
   "metadata": {
    "vscode": {
     "languageId": "r"
    }
   },
   "outputs": [
    {
     "data": {
      "image/png": "[encoded data removed]",
      "text/plain": [
       "plot without title"
      ]
     },
     "metadata": {
      "image/png": {
       "height": 156,
       "width": 180
      }
     },
     "output_type": "display_data"
    }
   ],
   "source": [
    "options(repr.plot.width=3, repr.plot.height=2.6)\n",
    "\n",
    "cowplot::plot_grid(plot2, plot1, rel_widths = c(3,2))\n",
    "\n",
    "ggsave(\"../figures/RH_HR_mix.pdf\", width = 3, height = 2.6)\n"
   ]
  },
  {
   "cell_type": "markdown",
   "metadata": {},
   "source": [
    "## Plot VK combination effects"
   ]
  },
  {
   "cell_type": "markdown",
   "metadata": {},
   "source": [
    "### Parse VK combinations"
   ]
  },
  {
   "cell_type": "code",
   "execution_count": 295,
   "metadata": {
    "vscode": {
     "languageId": "r"
    }
   },
   "outputs": [
    {
     "name": "stderr",
     "output_type": "stream",
     "text": [
      "Warning message:\n",
      "“Expected 4 pieces. Missing pieces filled with `NA` in 2 rows [15, 16].”\n",
      "\n",
      "\u001b[36m──\u001b[39m \u001b[1mColumn specification\u001b[22m \u001b[36m────────────────────────────────────────────────────────\u001b[39m\n",
      "cols(\n",
      "  seq = \u001b[31mcol_character()\u001b[39m,\n",
      "  insert_type = \u001b[31mcol_character()\u001b[39m,\n",
      "  dicodon1 = \u001b[31mcol_character()\u001b[39m,\n",
      "  dicodon2 = \u001b[31mcol_character()\u001b[39m,\n",
      "  insert = \u001b[31mcol_character()\u001b[39m\n",
      ")\n",
      "\n"
     ]
    },
    {
     "name": "stdout",
     "output_type": "stream",
     "text": [
      "\u001b[90m# A tibble: 182 × 9\u001b[39m\n",
      "   replicate   lfc lfc_sd seq        repeat_length insert diaa1 diaa2 experiment\n",
      "       \u001b[3m\u001b[90m<dbl>\u001b[39m\u001b[23m \u001b[3m\u001b[90m<dbl>\u001b[39m\u001b[23m  \u001b[3m\u001b[90m<dbl>\u001b[39m\u001b[23m \u001b[3m\u001b[90m<chr>\u001b[39m\u001b[23m              \u001b[3m\u001b[90m<dbl>\u001b[39m\u001b[23m \u001b[3m\u001b[90m<chr>\u001b[39m\u001b[23m  \u001b[3m\u001b[90m<chr>\u001b[39m\u001b[23m \u001b[3m\u001b[90m<chr>\u001b[39m\u001b[23m      \u001b[3m\u001b[90m<dbl>\u001b[39m\u001b[23m\n",
      "\u001b[90m 1\u001b[39m         1 -\u001b[31m4\u001b[39m\u001b[31m.\u001b[39m\u001b[31m29\u001b[39m  1.54  AAAGTCAGT…             1 KVSFK… KV    SF             2\n",
      "\u001b[90m 2\u001b[39m         2 -\u001b[31m3\u001b[39m\u001b[31m.\u001b[39m\u001b[31m45\u001b[39m  0.786 AAAGTCAGT…             1 KVSFK… KV    SF             2\n",
      "\u001b[90m 3\u001b[39m         1 -\u001b[31m3\u001b[39m\u001b[31m.\u001b[39m\u001b[31m73\u001b[39m  0.650 AGTTTCAAA…             1 SFKVS… SF    KV             2\n",
      "\u001b[90m 4\u001b[39m         2 -\u001b[31m3\u001b[39m\u001b[31m.\u001b[39m\u001b[31m0\u001b[39m\u001b[31m8\u001b[39m  0.761 AGTTTCAAA…             1 SFKVS… SF    KV             2\n",
      "\u001b[90m 5\u001b[39m         1 -\u001b[31m3\u001b[39m\u001b[31m.\u001b[39m\u001b[31m79\u001b[39m  0.692 TTCAGTGTC…             1 FSVKF… FS    VK             2\n",
      "\u001b[90m 6\u001b[39m         2 -\u001b[31m2\u001b[39m\u001b[31m.\u001b[39m\u001b[31m55\u001b[39m  0.843 TTCAGTGTC…             1 FSVKF… FS    VK             2\n",
      "\u001b[90m 7\u001b[39m         1 -\u001b[31m2\u001b[39m\u001b[31m.\u001b[39m\u001b[31m66\u001b[39m  0.492 GTCAAAGTC…             4 VKVKV… VK    SF             2\n",
      "\u001b[90m 8\u001b[39m         2 -\u001b[31m2\u001b[39m\u001b[31m.\u001b[39m\u001b[31m95\u001b[39m  2.05  GTCAAAGTC…             4 VKVKV… VK    SF             2\n",
      "\u001b[90m 9\u001b[39m         1 -\u001b[31m2\u001b[39m\u001b[31m.\u001b[39m\u001b[31m42\u001b[39m  0.469 AGTTTCAGT…             4 SFSFS… SF    KV             2\n",
      "\u001b[90m10\u001b[39m         2 -\u001b[31m2\u001b[39m\u001b[31m.\u001b[39m\u001b[31m81\u001b[39m  0.677 AGTTTCAGT…             4 SFSFS… SF    KV             2\n",
      "\u001b[90m# … with 172 more rows\u001b[39m\n"
     ]
    }
   ],
   "source": [
    "\n",
    "plot_data <- insert_lfc %>% \n",
    "  filter(str_detect(insert_name, \"mixdicodons\") | insert == \"VKVKVKVKVKVKVKVK\" | insert == \"KVKVKVKVKVKVKVKV\") %>% \n",
    "  separate(insert_name, c(\"insert_type\", \"dicodon1\", \"dicodon2\", \"repeat_length\")) %>%\n",
    "  mutate(dicodon2 = if_else(is.na(repeat_length), dicodon1, dicodon2)) %>% \n",
    "  mutate(repeat_length = if_else(is.na(repeat_length), 8, as.numeric(repeat_length))) %>%\n",
    "  type_convert() %>%\n",
    "  mutate(diaa1 = as.character(translate(DNAStringSet(dicodon1), no.init.codon = T))) %>%\n",
    "  mutate(diaa2 = as.character(translate(DNAStringSet(dicodon2), no.init.codon = T))) %>%\n",
    "  select(-dicodon1, -dicodon2, -insert_type, -mean_lfc, -matches(\"n_barcodes|count\")) %>%\n",
    "  # pivot_wider(names_from = \"repeat_length\", values_from = c(\"mean_lfc\", \"insert\")) %>%\n",
    "  # arrange(mean_lfc_1 + mean_lfc_2 + mean_lfc_4) %>%\n",
    "  mutate(experiment = 2) %>% \n",
    "  print()\n"
   ]
  },
  {
   "cell_type": "markdown",
   "metadata": {},
   "source": [
    "### Plot  mRNA level of VK + KV combinations\n"
   ]
  },
  {
   "cell_type": "code",
   "execution_count": 296,
   "metadata": {
    "vscode": {
     "languageId": "r"
    }
   },
   "outputs": [
    {
     "data": {
      "image/png": "[encoded data removed]",
      "text/plain": [
       "plot without title"
      ]
     },
     "metadata": {
      "image/png": {
       "height": 210,
       "width": 126
      }
     },
     "output_type": "display_data"
    }
   ],
   "source": [
    "options(repr.plot.width=2.1, repr.plot.height=3.5)\n",
    "\n",
    "plot_data2 <- plot_data %>% \n",
    "  bind_rows(all_8xdiaa_data) %>% \n",
    "  filter(diaa1 %in% c(\"VK\", \"KV\"), diaa2 %in% c(\"VK\", \"KV\")) %>% \n",
    "  mutate(insert = fct_rev(fct_reorder(insert, -repeat_length))) %>% \n",
    "  filter(replicate == 1) %>% \n",
    "  group_by(insert, repeat_length) %>% \n",
    "  mutate(num = group_indices())\n",
    "\n",
    "plot1 <- plot_data2 %>% \n",
    "  ggplot(aes(x = lfc, y = num, shape = as.factor(replicate),\n",
    "             xmin = lfc - lfc_sd, xmax = lfc + lfc_sd,\n",
    "             )) +\n",
    "  facet_wrap(~experiment, ncol = 1, scales = \"fixed\") +\n",
    "  scale_y_continuous(position = \"right\", breaks = seq(1,8)) +\n",
    "  scale_x_continuous(limits = c(NA, 0)) + \n",
    "  # scale_color_manual(values = cbPalette[2:3]) +\n",
    "  labs(color = \"\", y = \"\", x = \"mrna level (log2, a.u.)\") +\n",
    "  geom_errorbar(width=0.2) +\n",
    "  geom_point(size=1) +\n",
    "  theme(axis.text.y = element_blank(), \n",
    "        axis.ticks.y = element_blank(), \n",
    "        panel.grid.major.y = element_line(),\n",
    "        axis.line = element_blank(),\n",
    "        legend.position = \"none\") +\n",
    "  NULL\n",
    "plot1"
   ]
  },
  {
   "cell_type": "markdown",
   "metadata": {},
   "source": [
    "\n",
    "### Write VK + KV combinations to highlight pattern of variation"
   ]
  },
  {
   "cell_type": "code",
   "execution_count": 297,
   "metadata": {
    "vscode": {
     "languageId": "r"
    }
   },
   "outputs": [
    {
     "name": "stderr",
     "output_type": "stream",
     "text": [
      "Warning message:\n",
      "“`cols` is now required when using unnest().\n",
      "Please use `cols = c(insert)`”\n"
     ]
    },
    {
     "data": {
      "image/png": "[encoded data removed]",
      "text/plain": [
       "plot without title"
      ]
     },
     "metadata": {
      "image/png": {
       "height": 210,
       "width": 126
      }
     },
     "output_type": "display_data"
    }
   ],
   "source": [
    "options(repr.plot.width=2.1, repr.plot.height=3.5)\n",
    "\n",
    "plot2 <- plot_data2 %>% \n",
    "  select(num, replicate, repeat_length, experiment, insert) %>% \n",
    "  mutate(insert = str_split(insert, \"\")) %>% \n",
    "  mutate(insert = map(insert, enframe)) %>% \n",
    "  # rowwise() %>% \n",
    "  unnest() %>%\n",
    "  rename(pos = name, aa = value) %>% \n",
    "  ggplot(aes(x = pos, y = num, color = aa, label = aa)) +\n",
    "  facet_wrap(~experiment, ncol = 1, scales = \"fixed\") +\n",
    "  geom_text(size = 2) +\n",
    "  scale_y_continuous(position = \"right\") +\n",
    "  scale_x_continuous(breaks = c(1,4,8,12,16)) +\n",
    "  scale_color_manual(values = c(\"#00a5a7\", \"#ff0000\")) +\n",
    "  theme(axis.text.y = element_blank(), \n",
    "        axis.ticks.y = element_blank(), \n",
    "        axis.line = element_blank(),\n",
    "        legend.position = \"none\") +\n",
    "  labs(y = \"\", x = \"Position along dipeptide repeat\")\n",
    "plot2\n"
   ]
  },
  {
   "cell_type": "markdown",
   "metadata": {},
   "source": [
    "### Make a joint plot of VK-KV combination"
   ]
  },
  {
   "cell_type": "code",
   "execution_count": 298,
   "metadata": {
    "vscode": {
     "languageId": "r"
    }
   },
   "outputs": [
    {
     "data": {
      "image/png": "[encoded data removed]",
      "text/plain": [
       "plot without title"
      ]
     },
     "metadata": {
      "image/png": {
       "height": 156,
       "width": 180
      }
     },
     "output_type": "display_data"
    }
   ],
   "source": [
    "options(repr.plot.width=3, repr.plot.height=2.6)\n",
    "\n",
    "cowplot::plot_grid(plot2, plot1, rel_widths = c(3,2))\n",
    "\n",
    "ggsave(\"../figures/VK_KV_mix.pdf\", width = 3, height = 2.6)"
   ]
  },
  {
   "cell_type": "markdown",
   "metadata": {},
   "source": [
    "## Plot SF combination effects"
   ]
  },
  {
   "cell_type": "markdown",
   "metadata": {},
   "source": [
    "\n",
    "### Parse all SF + FS combinations\n"
   ]
  },
  {
   "cell_type": "code",
   "execution_count": 299,
   "metadata": {
    "vscode": {
     "languageId": "r"
    }
   },
   "outputs": [
    {
     "name": "stderr",
     "output_type": "stream",
     "text": [
      "Warning message:\n",
      "“Expected 4 pieces. Missing pieces filled with `NA` in 2 rows [43, 44].”\n",
      "\n",
      "\u001b[36m──\u001b[39m \u001b[1mColumn specification\u001b[22m \u001b[36m────────────────────────────────────────────────────────\u001b[39m\n",
      "cols(\n",
      "  seq = \u001b[31mcol_character()\u001b[39m,\n",
      "  insert_type = \u001b[31mcol_character()\u001b[39m,\n",
      "  dicodon1 = \u001b[31mcol_character()\u001b[39m,\n",
      "  dicodon2 = \u001b[31mcol_character()\u001b[39m,\n",
      "  insert = \u001b[31mcol_character()\u001b[39m\n",
      ")\n",
      "\n"
     ]
    },
    {
     "name": "stdout",
     "output_type": "stream",
     "text": [
      "\u001b[90m# A tibble: 182 × 9\u001b[39m\n",
      "   replicate   lfc lfc_sd seq        repeat_length insert diaa1 diaa2 experiment\n",
      "       \u001b[3m\u001b[90m<dbl>\u001b[39m\u001b[23m \u001b[3m\u001b[90m<dbl>\u001b[39m\u001b[23m  \u001b[3m\u001b[90m<dbl>\u001b[39m\u001b[23m \u001b[3m\u001b[90m<chr>\u001b[39m\u001b[23m              \u001b[3m\u001b[90m<dbl>\u001b[39m\u001b[23m \u001b[3m\u001b[90m<chr>\u001b[39m\u001b[23m  \u001b[3m\u001b[90m<chr>\u001b[39m\u001b[23m \u001b[3m\u001b[90m<chr>\u001b[39m\u001b[23m      \u001b[3m\u001b[90m<dbl>\u001b[39m\u001b[23m\n",
      "\u001b[90m 1\u001b[39m         1 -\u001b[31m4\u001b[39m\u001b[31m.\u001b[39m\u001b[31m29\u001b[39m  1.54  AAAGTCAGT…             1 KVSFK… KV    SF             2\n",
      "\u001b[90m 2\u001b[39m         2 -\u001b[31m3\u001b[39m\u001b[31m.\u001b[39m\u001b[31m45\u001b[39m  0.786 AAAGTCAGT…             1 KVSFK… KV    SF             2\n",
      "\u001b[90m 3\u001b[39m         1 -\u001b[31m3\u001b[39m\u001b[31m.\u001b[39m\u001b[31m73\u001b[39m  0.650 AGTTTCAAA…             1 SFKVS… SF    KV             2\n",
      "\u001b[90m 4\u001b[39m         2 -\u001b[31m3\u001b[39m\u001b[31m.\u001b[39m\u001b[31m0\u001b[39m\u001b[31m8\u001b[39m  0.761 AGTTTCAAA…             1 SFKVS… SF    KV             2\n",
      "\u001b[90m 5\u001b[39m         1 -\u001b[31m3\u001b[39m\u001b[31m.\u001b[39m\u001b[31m79\u001b[39m  0.692 TTCAGTGTC…             1 FSVKF… FS    VK             2\n",
      "\u001b[90m 6\u001b[39m         2 -\u001b[31m2\u001b[39m\u001b[31m.\u001b[39m\u001b[31m55\u001b[39m  0.843 TTCAGTGTC…             1 FSVKF… FS    VK             2\n",
      "\u001b[90m 7\u001b[39m         1 -\u001b[31m2\u001b[39m\u001b[31m.\u001b[39m\u001b[31m66\u001b[39m  0.492 GTCAAAGTC…             4 VKVKV… VK    SF             2\n",
      "\u001b[90m 8\u001b[39m         2 -\u001b[31m2\u001b[39m\u001b[31m.\u001b[39m\u001b[31m95\u001b[39m  2.05  GTCAAAGTC…             4 VKVKV… VK    SF             2\n",
      "\u001b[90m 9\u001b[39m         1 -\u001b[31m2\u001b[39m\u001b[31m.\u001b[39m\u001b[31m42\u001b[39m  0.469 AGTTTCAGT…             4 SFSFS… SF    KV             2\n",
      "\u001b[90m10\u001b[39m         2 -\u001b[31m2\u001b[39m\u001b[31m.\u001b[39m\u001b[31m81\u001b[39m  0.677 AGTTTCAGT…             4 SFSFS… SF    KV             2\n",
      "\u001b[90m# … with 172 more rows\u001b[39m\n"
     ]
    }
   ],
   "source": [
    "\n",
    "plot_data <- insert_lfc %>% \n",
    "  filter(str_detect(insert_name, \"mixdicodons\") | insert == \"FSFSFSFSFSFSFSFS\" | insert == \"SFSFSFSFSFSFSFSF\") %>% \n",
    "  separate(insert_name, c(\"insert_type\", \"dicodon1\", \"dicodon2\", \"repeat_length\")) %>%\n",
    "  mutate(dicodon2 = if_else(is.na(repeat_length), dicodon1, dicodon2)) %>% \n",
    "  mutate(repeat_length = if_else(is.na(repeat_length), 8, as.numeric(repeat_length))) %>%\n",
    "  type_convert() %>%\n",
    "  mutate(diaa1 = as.character(translate(DNAStringSet(dicodon1), no.init.codon = T))) %>%\n",
    "  mutate(diaa2 = as.character(translate(DNAStringSet(dicodon2), no.init.codon = T))) %>%\n",
    "  select(-dicodon1, -dicodon2, -insert_type, -mean_lfc, -matches(\"n_barcodes|count\")) %>%\n",
    "  # pivot_wider(names_from = \"repeat_length\", values_from = c(\"mean_lfc\", \"insert\")) %>%\n",
    "  # arrange(mean_lfc_1 + mean_lfc_2 + mean_lfc_4) %>%\n",
    "  mutate(experiment = 2) %>% \n",
    "  print()"
   ]
  },
  {
   "cell_type": "markdown",
   "metadata": {},
   "source": [
    "### Plot  mRNA level of SF + FS combinations\n",
    "```{r, fig.width=2, fig.height=3.5}"
   ]
  },
  {
   "cell_type": "code",
   "execution_count": 301,
   "metadata": {
    "vscode": {
     "languageId": "r"
    }
   },
   "outputs": [
    {
     "data": {
      "image/png": "[encoded data removed]",
      "text/plain": [
       "plot without title"
      ]
     },
     "metadata": {
      "image/png": {
       "height": 210,
       "width": 126
      }
     },
     "output_type": "display_data"
    }
   ],
   "source": [
    "options(repr.plot.width=2.1, repr.plot.height=3.5)\n",
    "\n",
    "plot_data2 <- plot_data %>% \n",
    "  bind_rows(all_8xdiaa_data) %>% \n",
    "  filter(diaa1 %in% c(\"SF\", \"FS\"), diaa2 %in% c(\"SF\", \"FS\")) %>% \n",
    "  mutate(insert = fct_rev(fct_reorder(insert, -repeat_length))) %>% \n",
    "  filter(replicate == 1) %>%\n",
    "  group_by(insert, repeat_length) %>% \n",
    "  mutate(num = group_indices())\n",
    "\n",
    "plot1 <- plot_data2 %>% \n",
    "  ggplot(aes(x = lfc, y = num, shape = as.factor(replicate),\n",
    "             xmin = lfc - lfc_sd, xmax = lfc + lfc_sd,\n",
    "             )) +\n",
    "  facet_wrap(~experiment, ncol = 1, scales = \"fixed\") +\n",
    "  scale_y_continuous(position = \"right\", breaks = seq(1,8)) +\n",
    "  # scale_x_continuous(limits = c(NA, 0)) + \n",
    "  # scale_color_manual(values = cbPalette[2:3]) +\n",
    "  labs(color = \"\", y = \"\", x = \"mrna level (log2, a.u.)\") +\n",
    "  geom_errorbar(width=0.2) +\n",
    "  geom_point(size=1) +\n",
    "  theme(axis.text.y = element_blank(), \n",
    "        axis.ticks.y = element_blank(), \n",
    "        panel.grid.major.y = element_line(),\n",
    "        axis.line = element_blank(),\n",
    "        legend.position = \"none\") +\n",
    "  NULL\n",
    "plot1"
   ]
  },
  {
   "cell_type": "markdown",
   "metadata": {},
   "source": [
    "### Write SF + FS combinations to highlight pattern of variation\n",
    "\n",
    "```{r, fig.width=2.1, fig.height=3.5}"
   ]
  },
  {
   "cell_type": "code",
   "execution_count": 302,
   "metadata": {
    "vscode": {
     "languageId": "r"
    }
   },
   "outputs": [
    {
     "name": "stderr",
     "output_type": "stream",
     "text": [
      "Warning message:\n",
      "“`cols` is now required when using unnest().\n",
      "Please use `cols = c(insert)`”\n"
     ]
    },
    {
     "data": {
      "image/png": "[encoded data removed]",
      "text/plain": [
       "plot without title"
      ]
     },
     "metadata": {
      "image/png": {
       "height": 210,
       "width": 126
      }
     },
     "output_type": "display_data"
    }
   ],
   "source": [
    "options(repr.plot.width=2.1, repr.plot.height=3.5)\n",
    "\n",
    "plot2 <- plot_data2 %>% \n",
    "  select(num, replicate, repeat_length, experiment, insert) %>% \n",
    "  mutate(insert = str_split(insert, \"\")) %>% \n",
    "  mutate(insert = map(insert, enframe)) %>% \n",
    "  # rowwise() %>% \n",
    "  unnest() %>%\n",
    "  rename(pos = name, aa = value) %>% \n",
    "  ggplot(aes(x = pos, y = num, color = aa, label = aa)) +\n",
    "  facet_wrap(~experiment, ncol = 1, scales = \"fixed\") +\n",
    "  geom_text(size = 2) +\n",
    "  scale_y_continuous(position = \"right\") +\n",
    "  scale_x_continuous(breaks = c(1,4,8,12,16)) +\n",
    "  scale_color_manual(values = c(\"#00a5a7\", \"#ff0000\")) +\n",
    "  theme(axis.text.y = element_blank(), \n",
    "        axis.ticks.y = element_blank(), \n",
    "        axis.line = element_blank(),\n",
    "        legend.position = \"none\") +\n",
    "  labs(y = \"\", x = \"Position along dipeptide repeat\")\n",
    "plot2"
   ]
  },
  {
   "cell_type": "markdown",
   "metadata": {},
   "source": [
    "\n",
    "### Make a joint plot of SF-FS combination"
   ]
  },
  {
   "cell_type": "code",
   "execution_count": 303,
   "metadata": {
    "vscode": {
     "languageId": "r"
    }
   },
   "outputs": [
    {
     "data": {
      "image/png": "[encoded data removed]",
      "text/plain": [
       "plot without title"
      ]
     },
     "metadata": {
      "image/png": {
       "height": 156,
       "width": 180
      }
     },
     "output_type": "display_data"
    }
   ],
   "source": [
    "options(repr.plot.width=3, repr.plot.height=2.6)\n",
    "\n",
    "cowplot::plot_grid(plot2, plot1, rel_widths = c(3,2))\n",
    "\n",
    "ggsave(\"../figures/SF_FS_mix.pdf\", width = 3, height = 2.6)\n"
   ]
  },
  {
   "cell_type": "markdown",
   "metadata": {},
   "source": [
    "## Plot SF + VK alpha combinations\n",
    "\n",
    "- Combinations form alpha helicies or beta strands  "
   ]
  },
  {
   "cell_type": "markdown",
   "metadata": {},
   "source": [
    "### Parse all SF + VK alternating combinations"
   ]
  },
  {
   "cell_type": "code",
   "execution_count": 304,
   "metadata": {
    "vscode": {
     "languageId": "r"
    }
   },
   "outputs": [
    {
     "name": "stderr",
     "output_type": "stream",
     "text": [
      "Warning message:\n",
      "“Expected 4 pieces. Missing pieces filled with `NA` in 4 rows [15, 16, 45, 46].”\n",
      "\n",
      "\u001b[36m──\u001b[39m \u001b[1mColumn specification\u001b[22m \u001b[36m────────────────────────────────────────────────────────\u001b[39m\n",
      "cols(\n",
      "  seq = \u001b[31mcol_character()\u001b[39m,\n",
      "  insert_type = \u001b[31mcol_character()\u001b[39m,\n",
      "  dicodon1 = \u001b[31mcol_character()\u001b[39m,\n",
      "  dicodon2 = \u001b[31mcol_character()\u001b[39m,\n",
      "  insert = \u001b[31mcol_character()\u001b[39m\n",
      ")\n",
      "\n"
     ]
    },
    {
     "name": "stdout",
     "output_type": "stream",
     "text": [
      "\u001b[90m# A tibble: 184 × 13\u001b[39m\n",
      "   replicate   lfc lfc_sd seq        insert_type dicodon1 dicodon2 repeat_length\n",
      "       \u001b[3m\u001b[90m<dbl>\u001b[39m\u001b[23m \u001b[3m\u001b[90m<dbl>\u001b[39m\u001b[23m  \u001b[3m\u001b[90m<dbl>\u001b[39m\u001b[23m \u001b[3m\u001b[90m<chr>\u001b[39m\u001b[23m      \u001b[3m\u001b[90m<chr>\u001b[39m\u001b[23m       \u001b[3m\u001b[90m<chr>\u001b[39m\u001b[23m    \u001b[3m\u001b[90m<chr>\u001b[39m\u001b[23m            \u001b[3m\u001b[90m<dbl>\u001b[39m\u001b[23m\n",
      "\u001b[90m 1\u001b[39m         1 -\u001b[31m4\u001b[39m\u001b[31m.\u001b[39m\u001b[31m29\u001b[39m  1.54  AAAGTCAGT… mixdicodons AAAGTC   AGTTTC               1\n",
      "\u001b[90m 2\u001b[39m         2 -\u001b[31m3\u001b[39m\u001b[31m.\u001b[39m\u001b[31m45\u001b[39m  0.786 AAAGTCAGT… mixdicodons AAAGTC   AGTTTC               1\n",
      "\u001b[90m 3\u001b[39m         1 -\u001b[31m3\u001b[39m\u001b[31m.\u001b[39m\u001b[31m73\u001b[39m  0.650 AGTTTCAAA… mixdicodons AGTTTC   AAAGTC               1\n",
      "\u001b[90m 4\u001b[39m         2 -\u001b[31m3\u001b[39m\u001b[31m.\u001b[39m\u001b[31m0\u001b[39m\u001b[31m8\u001b[39m  0.761 AGTTTCAAA… mixdicodons AGTTTC   AAAGTC               1\n",
      "\u001b[90m 5\u001b[39m         1 -\u001b[31m3\u001b[39m\u001b[31m.\u001b[39m\u001b[31m79\u001b[39m  0.692 TTCAGTGTC… mixdicodons TTCAGT   GTCAAA               1\n",
      "\u001b[90m 6\u001b[39m         2 -\u001b[31m2\u001b[39m\u001b[31m.\u001b[39m\u001b[31m55\u001b[39m  0.843 TTCAGTGTC… mixdicodons TTCAGT   GTCAAA               1\n",
      "\u001b[90m 7\u001b[39m         1 -\u001b[31m2\u001b[39m\u001b[31m.\u001b[39m\u001b[31m0\u001b[39m\u001b[31m2\u001b[39m  0.695 GTCAAATTC… mixdicodons GTCAAA   TTCAGT               1\n",
      "\u001b[90m 8\u001b[39m         2 -\u001b[31m1\u001b[39m\u001b[31m.\u001b[39m\u001b[31m56\u001b[39m  0.630 GTCAAATTC… mixdicodons GTCAAA   TTCAGT               1\n",
      "\u001b[90m 9\u001b[39m         1 -\u001b[31m1\u001b[39m\u001b[31m.\u001b[39m\u001b[31m37\u001b[39m  0.288 AAAGTCGTC… mixdicodons AAAGTC   GTCAAA               1\n",
      "\u001b[90m10\u001b[39m         2 -\u001b[31m1\u001b[39m\u001b[31m.\u001b[39m\u001b[31m42\u001b[39m  0.466 AAAGTCGTC… mixdicodons AAAGTC   GTCAAA               1\n",
      "\u001b[90m# … with 174 more rows, and 5 more variables: mean_lfc <dbl>, insert <chr>,\u001b[39m\n",
      "\u001b[90m#   diaa1 <chr>, diaa2 <chr>, experiment <dbl>\u001b[39m\n"
     ]
    }
   ],
   "source": [
    "\n",
    "plot_data <- insert_lfc %>% \n",
    "  filter(str_detect(insert_name, \"mixdicodons\") | insert %in% c(\"SFSFSFSFSFSFSFSF\", \"VKVKVKVKVKVKVKVK\")) %>% \n",
    "  separate(insert_name, c(\"insert_type\", \"dicodon1\", \"dicodon2\", \"repeat_length\")) %>%\n",
    "  mutate(dicodon2 = if_else(is.na(repeat_length), dicodon1, dicodon2)) %>% \n",
    "  mutate(repeat_length = if_else(is.na(repeat_length), 8, as.numeric(repeat_length))) %>%\n",
    "  type_convert() %>%\n",
    "  mutate(diaa1 = as.character(translate(DNAStringSet(dicodon1), no.init.codon = T))) %>%\n",
    "  mutate(diaa2 = as.character(translate(DNAStringSet(dicodon2), no.init.codon = T))) %>%\n",
    "  # select(-dicodon1, -dicodon2, -insert_type, -mean_lfc, -matches(\"n_barcodes|count\")) %>%\n",
    "  # pivot_wider(names_from = \"repeat_length\", values_from = c(\"mean_lfc\", \"insert\")) %>%\n",
    "  # arrange(mean_lfc_1 + mean_lfc_2 + mean_lfc_4) %>%\n",
    "  mutate(experiment = 2) %>%\n",
    "  arrange(repeat_length) %>%\n",
    "  # filter(str_detect(insert, \"SV|SK\")) %>% \n",
    "  print()"
   ]
  },
  {
   "cell_type": "code",
   "execution_count": null,
   "metadata": {
    "vscode": {
     "languageId": "r"
    }
   },
   "outputs": [],
   "source": [
    "### Plot  mRNA level of SFVKx4 combinations"
   ]
  },
  {
   "cell_type": "code",
   "execution_count": 319,
   "metadata": {
    "vscode": {
     "languageId": "r"
    }
   },
   "outputs": [
    {
     "name": "stdout",
     "output_type": "stream",
     "text": [
      "\u001b[90m# A tibble: 8 × 15\u001b[39m\n",
      "\u001b[90m# Groups:   insert [8]\u001b[39m\n",
      "  replicate     lfc lfc_sd seq       insert_type dicodon1 dicodon2 repeat_length\n",
      "      \u001b[3m\u001b[90m<dbl>\u001b[39m\u001b[23m   \u001b[3m\u001b[90m<dbl>\u001b[39m\u001b[23m  \u001b[3m\u001b[90m<dbl>\u001b[39m\u001b[23m \u001b[3m\u001b[90m<chr>\u001b[39m\u001b[23m     \u001b[3m\u001b[90m<chr>\u001b[39m\u001b[23m       \u001b[3m\u001b[90m<chr>\u001b[39m\u001b[23m    \u001b[3m\u001b[90m<chr>\u001b[39m\u001b[23m            \u001b[3m\u001b[90m<dbl>\u001b[39m\u001b[23m\n",
      "\u001b[90m1\u001b[39m         1 -\u001b[31m4\u001b[39m\u001b[31m.\u001b[39m\u001b[31m29\u001b[39m    1.54  AAAGTCAG… mixdicodons AAAGTC   AGTTTC               1\n",
      "\u001b[90m2\u001b[39m         1 -\u001b[31m3\u001b[39m\u001b[31m.\u001b[39m\u001b[31m73\u001b[39m    0.650 AGTTTCAA… mixdicodons AGTTTC   AAAGTC               1\n",
      "\u001b[90m3\u001b[39m         1 -\u001b[31m3\u001b[39m\u001b[31m.\u001b[39m\u001b[31m79\u001b[39m    0.692 TTCAGTGT… mixdicodons TTCAGT   GTCAAA               1\n",
      "\u001b[90m4\u001b[39m         1 -\u001b[31m2\u001b[39m\u001b[31m.\u001b[39m\u001b[31m0\u001b[39m\u001b[31m2\u001b[39m    0.695 GTCAAATT… mixdicodons GTCAAA   TTCAGT               1\n",
      "\u001b[90m5\u001b[39m         1 -\u001b[31m1\u001b[39m\u001b[31m.\u001b[39m\u001b[31m00\u001b[39m    0.293 AGTTTCGT… mixdicodons AGTTTC   GTCAAA               1\n",
      "\u001b[90m6\u001b[39m         1 -\u001b[31m0\u001b[39m\u001b[31m.\u001b[39m\u001b[31m0\u001b[39m\u001b[31m75\u001b[4m5\u001b[24m\u001b[39m  0.209 GTCAAAAG… mixdicodons GTCAAA   AGTTTC               1\n",
      "\u001b[90m7\u001b[39m         1  0.180   0.304 TTCAGTAA… mixdicodons TTCAGT   AAAGTC               1\n",
      "\u001b[90m8\u001b[39m         1 -\u001b[31m0\u001b[39m\u001b[31m.\u001b[39m\u001b[31m0\u001b[39m\u001b[31m95\u001b[4m9\u001b[24m\u001b[39m  0.259 AAAGTCTT… mixdicodons AAAGTC   TTCAGT               1\n",
      "\u001b[90m# … with 7 more variables: mean_lfc <dbl>, insert <fct>, diaa1 <chr>,\u001b[39m\n",
      "\u001b[90m#   diaa2 <chr>, experiment <dbl>, num <int>, strand <lgl>\u001b[39m\n"
     ]
    },
    {
     "name": "stderr",
     "output_type": "stream",
     "text": [
      "Warning message:\n",
      "“Ignoring unknown parameters: linewidth”\n",
      "Warning message:\n",
      "“`guides(<scale> = FALSE)` is deprecated. Please use `guides(<scale> = \"none\")` instead.”\n"
     ]
    },
    {
     "data": {
      "image/png": "[encoded data removed]",
      "text/plain": [
       "plot without title"
      ]
     },
     "metadata": {
      "image/png": {
       "height": 150,
       "width": 246
      }
     },
     "output_type": "display_data"
    }
   ],
   "source": [
    "options(repr.plot.width=4.1, repr.plot.height=2.5)\n",
    "\n",
    "plot_data2 <- plot_data %>% \n",
    "  bind_rows(all_8xdiaa_data) %>% \n",
    "  filter((diaa1 %in% c(\"VK\", \"KV\") & diaa2 %in% c(\"SF\", \"FS\")) | \n",
    "         (diaa2 %in% c(\"VK\", \"KV\") & diaa1 %in% c(\"SF\", \"FS\")) | \n",
    "         (diaa1 == diaa2 & diaa1 %in% c(\"VK\", \"KV\", \"SF\", \"FS\"))) %>% \n",
    "  filter(repeat_length <= 1 | repeat_length >=9) %>% \n",
    "  mutate(insert = fct_rev(fct_reorder(paste0(\"4×\", substr(insert, 1, 4)), -lfc))) %>% \n",
    "  # mutate(diaa1 = fct_relevel(diaa1, \"SF\", \"FS\", \"VK\", \"KV\")) %>% \n",
    "  # mutate(diaa2 = fct_relevel(diaa2, \"SF\", \"FS\", \"VK\", \"KV\")) %>% \n",
    "  # group_by(repeat_length, diaa1, diaa2) %>% \n",
    "  filter(replicate == 1) %>% \n",
    "  group_by(insert) %>% \n",
    "  mutate(num = group_indices()) %>% \n",
    "  mutate(strand = if_else(str_detect(insert, \"KVSF|VKFS|SFKV|FSVK\"), T, F)) %>% \n",
    "  print()\n",
    "\n",
    "plot1 <- plot_data2 %>% \n",
    "  ggplot(aes(x = lfc, y = insert, color = strand,\n",
    "             xmin = lfc - lfc_sd, xmax = lfc + lfc_sd)) +\n",
    "  # scale_y_continuous(position = \"right\", breaks = seq(1,12)) +\n",
    "  scale_x_continuous(breaks = seq(-6, 0, 2)) +\n",
    "  scale_color_manual(values = cbPalette[1:2]) +\n",
    "  labs(color = \"\", y = \"\", x = \"mRNA level (log2, a.u.)\", shape = \"replicate\") +\n",
    "  geom_errorbar(width = 0.2) +\n",
    "  geom_point(size = 3) +\n",
    "  theme(axis.ticks.y = element_blank(), \n",
    "        panel.grid.major.y = element_line(),\n",
    "        axis.line.y = element_blank(),\n",
    "        legend.position = \"right\") +\n",
    "  guides(color = F) +\n",
    "  NULL\n",
    "\n",
    "ggsave(\"../figures/SVKF_mrna_levels.pdf\", width = 4.1, height = 2.5)\n",
    "\n",
    "plot1"
   ]
  },
  {
   "cell_type": "code",
   "execution_count": null,
   "metadata": {
    "vscode": {
     "languageId": "r"
    }
   },
   "outputs": [],
   "source": []
  }
 ],
 "metadata": {
  "kernelspec": {
   "display_name": "R",
   "language": "R",
   "name": "ir"
  },
  "language_info": {
   "codemirror_mode": "r",
   "file_extension": ".r",
   "mimetype": "text/x-r-source",
   "name": "R",
   "pygments_lexer": "r",
   "version": "4.1.1"
  },
  "orig_nbformat": 4,
  "vscode": {
   "interpreter": {
    "hash": "31f2aee4e71d21fbe5cf8b01ff0e069b9275f58929596ceb00d14d90e3e16cd6"
   }
  }
 },
 "nbformat": 4,
 "nbformat_minor": 2
}
