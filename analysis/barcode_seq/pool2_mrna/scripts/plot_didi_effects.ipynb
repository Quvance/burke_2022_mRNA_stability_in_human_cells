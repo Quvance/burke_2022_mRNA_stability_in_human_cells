{
 "cells": [
  {
   "cell_type": "markdown",
   "metadata": {},
   "source": [
    "# Plot effects of dicodon length and periodicity on mRNA levels"
   ]
  },
  {
   "cell_type": "markdown",
   "metadata": {},
   "source": [
    "## Load libraries and define analysis-specific parameters\n",
    "\n",
    "- We need to install both rsample and rasilabRtemplates in the Docker / Singularity container (or R conda environement?)"
   ]
  },
  {
   "cell_type": "code",
   "execution_count": 47,
   "metadata": {
    "vscode": {
     "languageId": "r"
    }
   },
   "outputs": [],
   "source": [
    "library(Biostrings)\n",
    "library(tidyverse)\n",
    "library(rasilabRtemplates)\n",
    "\n",
    "insert_reads_cutoff <- 200 # The insert should get at least 200 reads across gRNA or mRNA\n",
    "n_barcodes_cutoff <- 6 # The insert should have at least 6 barcodes across gRNA and mRNA after above cutoff\n",
    "\n",
    "# Color-blind friendly palette. See http://www.cookbook-r.com/Graphs/Colors_(ggplot2)/\n",
    "cbPalette <- c(\"#999999\", \"#E69F00\", \"#56B4E9\", \"#009E73\", \"#F0E442\", \"#0072B2\", \"#D55E00\", \"#CC79A7\")"
   ]
  },
  {
   "cell_type": "markdown",
   "metadata": {},
   "source": [
    "## Read back barcode counts \n",
    "\n",
    "This is calculated in [plot_alignment_statistics.ipynb](plot_alignment_statistics.md)."
   ]
  },
  {
   "cell_type": "code",
   "execution_count": 48,
   "metadata": {
    "vscode": {
     "languageId": "r"
    }
   },
   "outputs": [
    {
     "name": "stderr",
     "output_type": "stream",
     "text": [
      "\u001b[1mRows: \u001b[22m\u001b[34m67986\u001b[39m \u001b[1mColumns: \u001b[22m\u001b[34m8\u001b[39m\n",
      "\u001b[36m──\u001b[39m \u001b[1mColumn specification\u001b[22m \u001b[36m────────────────────────────────────────────────────────\u001b[39m\n",
      "\u001b[1mDelimiter:\u001b[22m \"\\t\"\n",
      "\u001b[31mchr\u001b[39m (4): sample_id, sample_name, library_type, linkage_ref\n",
      "\u001b[32mdbl\u001b[39m (4): insert_num, barcode_num, barcode_count, linkage_count\n",
      "\n",
      "\u001b[36mℹ\u001b[39m Use `spec()` to retrieve the full column specification for this data.\n",
      "\u001b[36mℹ\u001b[39m Specify the column types or set `show_col_types = FALSE` to quiet this message.\n"
     ]
    },
    {
     "name": "stdout",
     "output_type": "stream",
     "text": [
      "\u001b[90m# A tibble: 67,986 × 8\u001b[39m\n",
      "   sample_id sample_name insert_num barcode_num barcode_count linkage_count\n",
      "   \u001b[3m\u001b[90m<chr>\u001b[39m\u001b[23m     \u001b[3m\u001b[90m<chr>\u001b[39m\u001b[23m            \u001b[3m\u001b[90m<dbl>\u001b[39m\u001b[23m       \u001b[3m\u001b[90m<dbl>\u001b[39m\u001b[23m         \u001b[3m\u001b[90m<dbl>\u001b[39m\u001b[23m         \u001b[3m\u001b[90m<dbl>\u001b[39m\u001b[23m\n",
      "\u001b[90m 1\u001b[39m 107p7     didi_grna_1         86       \u001b[4m2\u001b[24m\u001b[4m3\u001b[24m374          \u001b[4m4\u001b[24m582            26\n",
      "\u001b[90m 2\u001b[39m 107p7     didi_grna_1         54       \u001b[4m2\u001b[24m\u001b[4m2\u001b[24m034          \u001b[4m3\u001b[24m821            25\n",
      "\u001b[90m 3\u001b[39m 107p7     didi_grna_1        150       \u001b[4m2\u001b[24m\u001b[4m5\u001b[24m702          \u001b[4m3\u001b[24m797            29\n",
      "\u001b[90m 4\u001b[39m 107p7     didi_grna_1         90       \u001b[4m1\u001b[24m\u001b[4m6\u001b[24m901          \u001b[4m3\u001b[24m778            20\n",
      "\u001b[90m 5\u001b[39m 107p7     didi_grna_1        227        \u001b[4m2\u001b[24m082          \u001b[4m3\u001b[24m694            11\n",
      "\u001b[90m 6\u001b[39m 107p7     didi_grna_1         85       \u001b[4m3\u001b[24m\u001b[4m5\u001b[24m422          \u001b[4m3\u001b[24m587            68\n",
      "\u001b[90m 7\u001b[39m 107p7     didi_grna_1         35       \u001b[4m3\u001b[24m\u001b[4m4\u001b[24m631          \u001b[4m3\u001b[24m431            56\n",
      "\u001b[90m 8\u001b[39m 107p7     didi_grna_1        218       \u001b[4m3\u001b[24m\u001b[4m5\u001b[24m803          \u001b[4m3\u001b[24m412           178\n",
      "\u001b[90m 9\u001b[39m 107p7     didi_grna_1        165       \u001b[4m1\u001b[24m\u001b[4m8\u001b[24m250          \u001b[4m3\u001b[24m393            21\n",
      "\u001b[90m10\u001b[39m 107p7     didi_grna_1         64        \u001b[4m3\u001b[24m780          \u001b[4m3\u001b[24m114            12\n",
      "\u001b[90m# … with 67,976 more rows, and 2 more variables: library_type <chr>,\u001b[39m\n",
      "\u001b[90m#   linkage_ref <chr>\u001b[39m\n"
     ]
    }
   ],
   "source": [
    "barcode_counts <- read_tsv('../tables/sample_insert_barcode_counts.tsv.gz') %>% \n",
    "  print()"
   ]
  },
  {
   "cell_type": "code",
   "execution_count": 49,
   "metadata": {
    "vscode": {
     "languageId": "r"
    }
   },
   "outputs": [
    {
     "name": "stderr",
     "output_type": "stream",
     "text": [
      "\u001b[1mRows: \u001b[22m\u001b[34m4\u001b[39m \u001b[1mColumns: \u001b[22m\u001b[34m7\u001b[39m\n",
      "\u001b[36m──\u001b[39m \u001b[1mColumn specification\u001b[22m \u001b[36m────────────────────────────────────────────────────────\u001b[39m\n",
      "\u001b[1mDelimiter:\u001b[22m \",\"\n",
      "\u001b[31mchr\u001b[39m (5): sample_id, illumina_index, sample_name, sample_type, linkage_ref\n",
      "\u001b[32mdbl\u001b[39m (2): replicate, sample_num\n",
      "\n",
      "\u001b[36mℹ\u001b[39m Use `spec()` to retrieve the full column specification for this data.\n",
      "\u001b[36mℹ\u001b[39m Specify the column types or set `show_col_types = FALSE` to quiet this message.\n"
     ]
    },
    {
     "name": "stdout",
     "output_type": "stream",
     "text": [
      "\u001b[90m# A tibble: 4 × 4\u001b[39m\n",
      "  sample_num sample_name sample_type replicate\n",
      "       \u001b[3m\u001b[90m<dbl>\u001b[39m\u001b[23m \u001b[3m\u001b[90m<chr>\u001b[39m\u001b[23m       \u001b[3m\u001b[90m<chr>\u001b[39m\u001b[23m           \u001b[3m\u001b[90m<dbl>\u001b[39m\u001b[23m\n",
      "\u001b[90m1\u001b[39m          1 didi_grna_1 grna                1\n",
      "\u001b[90m2\u001b[39m          2 didi_grna_2 grna                2\n",
      "\u001b[90m3\u001b[39m          3 didi_mrna_1 mrna                1\n",
      "\u001b[90m4\u001b[39m          4 didi_mrna_2 mrna                2\n"
     ]
    }
   ],
   "source": [
    "replicate_annotations <- read_csv(\"../annotations/replicate_annotations.csv\") %>% \n",
    "  select(sample_num, sample_name, sample_type, replicate) %>% \n",
    "  print()"
   ]
  },
  {
   "cell_type": "markdown",
   "metadata": {},
   "source": [
    "\n",
    "## Read insert annotations "
   ]
  },
  {
   "cell_type": "code",
   "execution_count": 50,
   "metadata": {
    "vscode": {
     "languageId": "r"
    }
   },
   "outputs": [
    {
     "name": "stderr",
     "output_type": "stream",
     "text": [
      "\u001b[1mRows: \u001b[22m\u001b[34m317\u001b[39m \u001b[1mColumns: \u001b[22m\u001b[34m3\u001b[39m\n",
      "\u001b[36m──\u001b[39m \u001b[1mColumn specification\u001b[22m \u001b[36m────────────────────────────────────────────────────────\u001b[39m\n",
      "\u001b[1mDelimiter:\u001b[22m \"\\t\"\n",
      "\u001b[31mchr\u001b[39m (2): seq, insert_name\n",
      "\u001b[32mdbl\u001b[39m (1): insert_num\n",
      "\n",
      "\u001b[36mℹ\u001b[39m Use `spec()` to retrieve the full column specification for this data.\n",
      "\u001b[36mℹ\u001b[39m Specify the column types or set `show_col_types = FALSE` to quiet this message.\n"
     ]
    },
    {
     "name": "stdout",
     "output_type": "stream",
     "text": [
      "\u001b[90m# A tibble: 317 × 3\u001b[39m\n",
      "   insert_num seq                                              insert_name      \n",
      "        \u001b[3m\u001b[90m<dbl>\u001b[39m\u001b[23m \u001b[3m\u001b[90m<chr>\u001b[39m\u001b[23m                                            \u001b[3m\u001b[90m<chr>\u001b[39m\u001b[23m            \n",
      "\u001b[90m 1\u001b[39m          0 AAGATCTCCGGCTCCGGCTCCGGCTCCGGCTCCGGCTCCGGCTCCGGC varydicodonrepea…\n",
      "\u001b[90m 2\u001b[39m          1 AAGATCAAGATCTCCGGCTCCGGCTCCGGCTCCGGCTCCGGCTCCGGC varydicodonrepea…\n",
      "\u001b[90m 3\u001b[39m          2 AAGATCAAGATCAAGATCTCCGGCTCCGGCTCCGGCTCCGGCTCCGGC varydicodonrepea…\n",
      "\u001b[90m 4\u001b[39m          3 AAGATCAAGATCAAGATCAAGATCTCCGGCTCCGGCTCCGGCTCCGGC varydicodonrepea…\n",
      "\u001b[90m 5\u001b[39m          4 AAGATCAAGATCAAGATCAAGATCAAGATCTCCGGCTCCGGCTCCGGC varydicodonrepea…\n",
      "\u001b[90m 6\u001b[39m          5 AAGATCAAGATCAAGATCAAGATCAAGATCAAGATCTCCGGCTCCGGC varydicodonrepea…\n",
      "\u001b[90m 7\u001b[39m          6 AAGATCAAGATCAAGATCAAGATCAAGATCAAGATCAAGATCTCCGGC varydicodonrepea…\n",
      "\u001b[90m 8\u001b[39m          7 AAGATCAAGATCAAGATCAAGATCAAGATCAAGATCAAGATCAAGATC varydicodonrepea…\n",
      "\u001b[90m 9\u001b[39m          8 AAGTTCTCCGGCTCCGGCTCCGGCTCCGGCTCCGGCTCCGGCTCCGGC varydicodonrepea…\n",
      "\u001b[90m10\u001b[39m          9 AAGTTCAAGTTCTCCGGCTCCGGCTCCGGCTCCGGCTCCGGCTCCGGC varydicodonrepea…\n",
      "\u001b[90m# … with 307 more rows\u001b[39m\n"
     ]
    }
   ],
   "source": [
    "\n",
    "insert_annotations <- read_tsv(\"../../pool2_linkage/annotations/insert_annotations.tsv\") %>% \n",
    "  arrange(insert_num) %>%\n",
    "  print()"
   ]
  },
  {
   "cell_type": "markdown",
   "metadata": {},
   "source": [
    "## Combine counts and annotations"
   ]
  },
  {
   "cell_type": "code",
   "execution_count": 51,
   "metadata": {
    "vscode": {
     "languageId": "r"
    }
   },
   "outputs": [
    {
     "name": "stdout",
     "output_type": "stream",
     "text": [
      "\u001b[90m# A tibble: 67,986 × 13\u001b[39m\n",
      "   sample_id sample_name insert_num barcode_num barcode_count linkage_count\n",
      "   \u001b[3m\u001b[90m<chr>\u001b[39m\u001b[23m     \u001b[3m\u001b[90m<chr>\u001b[39m\u001b[23m            \u001b[3m\u001b[90m<dbl>\u001b[39m\u001b[23m       \u001b[3m\u001b[90m<dbl>\u001b[39m\u001b[23m         \u001b[3m\u001b[90m<dbl>\u001b[39m\u001b[23m         \u001b[3m\u001b[90m<dbl>\u001b[39m\u001b[23m\n",
      "\u001b[90m 1\u001b[39m 107p7     didi_grna_1         86       \u001b[4m2\u001b[24m\u001b[4m3\u001b[24m374          \u001b[4m4\u001b[24m582            26\n",
      "\u001b[90m 2\u001b[39m 107p7     didi_grna_1         54       \u001b[4m2\u001b[24m\u001b[4m2\u001b[24m034          \u001b[4m3\u001b[24m821            25\n",
      "\u001b[90m 3\u001b[39m 107p7     didi_grna_1        150       \u001b[4m2\u001b[24m\u001b[4m5\u001b[24m702          \u001b[4m3\u001b[24m797            29\n",
      "\u001b[90m 4\u001b[39m 107p7     didi_grna_1         90       \u001b[4m1\u001b[24m\u001b[4m6\u001b[24m901          \u001b[4m3\u001b[24m778            20\n",
      "\u001b[90m 5\u001b[39m 107p7     didi_grna_1        227        \u001b[4m2\u001b[24m082          \u001b[4m3\u001b[24m694            11\n",
      "\u001b[90m 6\u001b[39m 107p7     didi_grna_1         85       \u001b[4m3\u001b[24m\u001b[4m5\u001b[24m422          \u001b[4m3\u001b[24m587            68\n",
      "\u001b[90m 7\u001b[39m 107p7     didi_grna_1         35       \u001b[4m3\u001b[24m\u001b[4m4\u001b[24m631          \u001b[4m3\u001b[24m431            56\n",
      "\u001b[90m 8\u001b[39m 107p7     didi_grna_1        218       \u001b[4m3\u001b[24m\u001b[4m5\u001b[24m803          \u001b[4m3\u001b[24m412           178\n",
      "\u001b[90m 9\u001b[39m 107p7     didi_grna_1        165       \u001b[4m1\u001b[24m\u001b[4m8\u001b[24m250          \u001b[4m3\u001b[24m393            21\n",
      "\u001b[90m10\u001b[39m 107p7     didi_grna_1         64        \u001b[4m3\u001b[24m780          \u001b[4m3\u001b[24m114            12\n",
      "\u001b[90m# … with 67,976 more rows, and 7 more variables: library_type <chr>,\u001b[39m\n",
      "\u001b[90m#   linkage_ref <chr>, sample_num <dbl>, sample_type <chr>, replicate <dbl>,\u001b[39m\n",
      "\u001b[90m#   seq <chr>, insert_name <chr>\u001b[39m\n"
     ]
    },
    {
     "data": {
      "text/html": [
       "<table class=\"dataframe\">\n",
       "<caption>A spec_tbl_df: 67986 × 13</caption>\n",
       "<thead>\n",
       "\t<tr><th scope=col>sample_id</th><th scope=col>sample_name</th><th scope=col>insert_num</th><th scope=col>barcode_num</th><th scope=col>barcode_count</th><th scope=col>linkage_count</th><th scope=col>library_type</th><th scope=col>linkage_ref</th><th scope=col>sample_num</th><th scope=col>sample_type</th><th scope=col>replicate</th><th scope=col>seq</th><th scope=col>insert_name</th></tr>\n",
       "\t<tr><th scope=col>&lt;chr&gt;</th><th scope=col>&lt;chr&gt;</th><th scope=col>&lt;dbl&gt;</th><th scope=col>&lt;dbl&gt;</th><th scope=col>&lt;dbl&gt;</th><th scope=col>&lt;dbl&gt;</th><th scope=col>&lt;chr&gt;</th><th scope=col>&lt;chr&gt;</th><th scope=col>&lt;dbl&gt;</th><th scope=col>&lt;chr&gt;</th><th scope=col>&lt;dbl&gt;</th><th scope=col>&lt;chr&gt;</th><th scope=col>&lt;chr&gt;</th></tr>\n",
       "</thead>\n",
       "<tbody>\n",
       "\t<tr><td>107p7</td><td>didi_grna_1</td><td> 86</td><td>23374</td><td>4582</td><td> 26</td><td>grna</td><td>didi_linkage_1</td><td>1</td><td>grna</td><td>1</td><td>CGTGAACGTGAACGTGAACGTGAACGTGAACGTGAACGTGAATCCGGC</td><td>varydicodonrepeatlength_CGTGAA_7</td></tr>\n",
       "\t<tr><td>107p7</td><td>didi_grna_1</td><td> 54</td><td>22034</td><td>3821</td><td> 25</td><td>grna</td><td>didi_linkage_1</td><td>1</td><td>grna</td><td>1</td><td>ATGATGATGATGATGATGATGATGATGATGATGATGATGATGTCCGGC</td><td>varydicodonrepeatlength_ATGATG_7</td></tr>\n",
       "\t<tr><td>107p7</td><td>didi_grna_1</td><td>150</td><td>25702</td><td>3797</td><td> 29</td><td>grna</td><td>didi_linkage_1</td><td>1</td><td>grna</td><td>1</td><td>TTGATGTTGATGTTGATGTTGATGTTGATGTTGATGTTGATGTCCGGC</td><td>varydicodonrepeatlength_TTGATG_7</td></tr>\n",
       "\t<tr><td>107p7</td><td>didi_grna_1</td><td> 90</td><td>16901</td><td>3778</td><td> 20</td><td>grna</td><td>didi_linkage_1</td><td>1</td><td>grna</td><td>1</td><td>CTCATACTCATACTCATATCCGGCTCCGGCTCCGGCTCCGGCTCCGGC</td><td>varydicodonrepeatlength_CTCATA_3</td></tr>\n",
       "\t<tr><td>107p7</td><td>didi_grna_1</td><td>227</td><td> 2082</td><td>3694</td><td> 11</td><td>grna</td><td>didi_linkage_1</td><td>1</td><td>grna</td><td>1</td><td>CGCCATTTCAGTCGCCATTTCAGTCGCCATTTCAGTCGCCATTTCAGT</td><td>mixdicodons_CGCCAT_TTCAGT_1     </td></tr>\n",
       "\t<tr><td>107p7</td><td>didi_grna_1</td><td> 85</td><td>35422</td><td>3587</td><td> 68</td><td>grna</td><td>didi_linkage_1</td><td>1</td><td>grna</td><td>1</td><td>CGTGAACGTGAACGTGAACGTGAACGTGAACGTGAATCCGGCTCCGGC</td><td>varydicodonrepeatlength_CGTGAA_6</td></tr>\n",
       "\t<tr><td>107p7</td><td>didi_grna_1</td><td> 35</td><td>34631</td><td>3431</td><td> 56</td><td>grna</td><td>didi_linkage_1</td><td>1</td><td>grna</td><td>1</td><td>AGTTTCAGTTTCAGTTTCAGTTTCTCCGGCTCCGGCTCCGGCTCCGGC</td><td>varydicodonrepeatlength_AGTTTC_4</td></tr>\n",
       "\t<tr><td>107p7</td><td>didi_grna_1</td><td>218</td><td>35803</td><td>3412</td><td>178</td><td>grna</td><td>didi_linkage_1</td><td>1</td><td>grna</td><td>1</td><td>CGCCATAGTTTCCGCCATAGTTTCCGCCATAGTTTCCGCCATAGTTTC</td><td>mixdicodons_CGCCAT_AGTTTC_1     </td></tr>\n",
       "\t<tr><td>107p7</td><td>didi_grna_1</td><td>165</td><td>18250</td><td>3393</td><td> 21</td><td>grna</td><td>didi_linkage_1</td><td>1</td><td>grna</td><td>1</td><td>TTTTGTTTTTGTTTTTGTTTTTGTTTTTGTTTTTGTTCCGGCTCCGGC</td><td>varydicodonrepeatlength_TTTTGT_6</td></tr>\n",
       "\t<tr><td>107p7</td><td>didi_grna_1</td><td> 64</td><td> 3780</td><td>3114</td><td> 12</td><td>grna</td><td>didi_linkage_1</td><td>1</td><td>grna</td><td>1</td><td>CGCCATTCCGGCTCCGGCTCCGGCTCCGGCTCCGGCTCCGGCTCCGGC</td><td>varydicodonrepeatlength_CGCCAT_1</td></tr>\n",
       "\t<tr><td>107p7</td><td>didi_grna_1</td><td> 23</td><td>24819</td><td>2949</td><td> 28</td><td>grna</td><td>didi_linkage_1</td><td>1</td><td>grna</td><td>1</td><td>AGAGAGAGAGAGAGAGAGAGAGAGAGAGAGAGAGAGAGAGAGAGAGAG</td><td>varydicodonrepeatlength_AGAGAG_8</td></tr>\n",
       "\t<tr><td>107p7</td><td>didi_grna_1</td><td> 23</td><td>24147</td><td>2844</td><td> 27</td><td>grna</td><td>didi_linkage_1</td><td>1</td><td>grna</td><td>1</td><td>AGAGAGAGAGAGAGAGAGAGAGAGAGAGAGAGAGAGAGAGAGAGAGAG</td><td>varydicodonrepeatlength_AGAGAG_8</td></tr>\n",
       "\t<tr><td>107p7</td><td>didi_grna_1</td><td>273</td><td>33771</td><td>2821</td><td> 49</td><td>grna</td><td>didi_linkage_1</td><td>1</td><td>grna</td><td>1</td><td>TCCAGAGAGAGAGAGTCCAGAGAGAGAGAGTCCAGAGAGAGAGAGTCC</td><td>reorderdicodon_AGAGAG_2         </td></tr>\n",
       "\t<tr><td>107p7</td><td>didi_grna_1</td><td>249</td><td>19919</td><td>2765</td><td> 23</td><td>grna</td><td>didi_linkage_1</td><td>1</td><td>grna</td><td>1</td><td>TTCAGTTTCAGTAGTTTCAGTTTCTTCAGTTTCAGTAGTTTCAGTTTC</td><td>mixdicodons_TTCAGT_AGTTTC_2     </td></tr>\n",
       "\t<tr><td>107p7</td><td>didi_grna_1</td><td> 23</td><td> 2952</td><td>2759</td><td> 11</td><td>grna</td><td>didi_linkage_1</td><td>1</td><td>grna</td><td>1</td><td>AGAGAGAGAGAGAGAGAGAGAGAGAGAGAGAGAGAGAGAGAGAGAGAG</td><td>varydicodonrepeatlength_AGAGAG_8</td></tr>\n",
       "\t<tr><td>107p7</td><td>didi_grna_1</td><td>219</td><td>31573</td><td>2758</td><td> 41</td><td>grna</td><td>didi_linkage_1</td><td>1</td><td>grna</td><td>1</td><td>CGCCATCGCCATAGTTTCAGTTTCCGCCATCGCCATAGTTTCAGTTTC</td><td>mixdicodons_CGCCAT_AGTTTC_2     </td></tr>\n",
       "\t<tr><td>107p7</td><td>didi_grna_1</td><td> 34</td><td>24659</td><td>2694</td><td> 28</td><td>grna</td><td>didi_linkage_1</td><td>1</td><td>grna</td><td>1</td><td>AGTTTCAGTTTCAGTTTCTCCGGCTCCGGCTCCGGCTCCGGCTCCGGC</td><td>varydicodonrepeatlength_AGTTTC_3</td></tr>\n",
       "\t<tr><td>107p7</td><td>didi_grna_1</td><td>189</td><td>21673</td><td>2618</td><td> 25</td><td>grna</td><td>didi_linkage_1</td><td>1</td><td>grna</td><td>1</td><td>AGTTTCAGTTTCCATCGCCATCGCAGTTTCAGTTTCCATCGCCATCGC</td><td>mixdicodons_AGTTTC_CATCGC_2     </td></tr>\n",
       "\t<tr><td>107p7</td><td>didi_grna_1</td><td>274</td><td>30047</td><td>2596</td><td> 37</td><td>grna</td><td>didi_linkage_1</td><td>1</td><td>grna</td><td>1</td><td>TCCAGAGAGAGAGAGAGAGAGTCCTCCAGAGAGAGAGAGAGAGAGTCC</td><td>reorderdicodon_AGAGAG_3         </td></tr>\n",
       "\t<tr><td>107p7</td><td>didi_grna_1</td><td>291</td><td> 1822</td><td>2508</td><td> 10</td><td>grna</td><td>didi_linkage_1</td><td>1</td><td>grna</td><td>1</td><td>TCCCGCTTCCGCTTCTCCCGCTTCCGCTTCTCCCGCTTCCGCTTCTCC</td><td>reorderdicodon_CGCTTC_2         </td></tr>\n",
       "\t<tr><td>107p7</td><td>didi_grna_1</td><td>111</td><td>17734</td><td>2438</td><td> 21</td><td>grna</td><td>didi_linkage_1</td><td>1</td><td>grna</td><td>1</td><td>CTGTGTCTGTGTCTGTGTCTGTGTCTGTGTCTGTGTCTGTGTCTGTGT</td><td>varydicodonrepeatlength_CTGTGT_8</td></tr>\n",
       "\t<tr><td>107p7</td><td>didi_grna_1</td><td> 23</td><td>23376</td><td>2425</td><td> 26</td><td>grna</td><td>didi_linkage_1</td><td>1</td><td>grna</td><td>1</td><td>AGAGAGAGAGAGAGAGAGAGAGAGAGAGAGAGAGAGAGAGAGAGAGAG</td><td>varydicodonrepeatlength_AGAGAG_8</td></tr>\n",
       "\t<tr><td>107p7</td><td>didi_grna_1</td><td>217</td><td>32445</td><td>2423</td><td> 43</td><td>grna</td><td>didi_linkage_1</td><td>1</td><td>grna</td><td>1</td><td>CGCCATCGCCATCGCCATCGCCATAAAGTCAAAGTCAAAGTCAAAGTC</td><td>mixdicodons_CGCCAT_AAAGTC_4     </td></tr>\n",
       "\t<tr><td>107p7</td><td>didi_grna_1</td><td>133</td><td>30112</td><td>2413</td><td> 37</td><td>grna</td><td>didi_linkage_1</td><td>1</td><td>grna</td><td>1</td><td>GTCATGGTCATGGTCATGGTCATGGTCATGGTCATGTCCGGCTCCGGC</td><td>varydicodonrepeatlength_GTCATG_6</td></tr>\n",
       "\t<tr><td>107p7</td><td>didi_grna_1</td><td> 22</td><td>29413</td><td>2382</td><td> 35</td><td>grna</td><td>didi_linkage_1</td><td>1</td><td>grna</td><td>1</td><td>AGAGAGAGAGAGAGAGAGAGAGAGAGAGAGAGAGAGAGAGAGTCCGGC</td><td>varydicodonrepeatlength_AGAGAG_7</td></tr>\n",
       "\t<tr><td>107p7</td><td>didi_grna_1</td><td>151</td><td> 5811</td><td>2375</td><td> 13</td><td>grna</td><td>didi_linkage_1</td><td>1</td><td>grna</td><td>1</td><td>TTGATGTTGATGTTGATGTTGATGTTGATGTTGATGTTGATGTTGATG</td><td>varydicodonrepeatlength_TTGATG_8</td></tr>\n",
       "\t<tr><td>107p7</td><td>didi_grna_1</td><td>200</td><td>34364</td><td>2369</td><td> 53</td><td>grna</td><td>didi_linkage_1</td><td>1</td><td>grna</td><td>1</td><td>CATCGCAAAGTCCATCGCAAAGTCCATCGCAAAGTCCATCGCAAAGTC</td><td>mixdicodons_CATCGC_AAAGTC_1     </td></tr>\n",
       "\t<tr><td>107p7</td><td>didi_grna_1</td><td> 21</td><td>19969</td><td>2356</td><td> 23</td><td>grna</td><td>didi_linkage_1</td><td>1</td><td>grna</td><td>1</td><td>AGAGAGAGAGAGAGAGAGAGAGAGAGAGAGAGAGAGTCCGGCTCCGGC</td><td>varydicodonrepeatlength_AGAGAG_6</td></tr>\n",
       "\t<tr><td>107p7</td><td>didi_grna_1</td><td>237</td><td>35385</td><td>2353</td><td> 67</td><td>grna</td><td>didi_linkage_1</td><td>1</td><td>grna</td><td>1</td><td>GTCAAAGTCAAACATCGCCATCGCGTCAAAGTCAAACATCGCCATCGC</td><td>mixdicodons_GTCAAA_CATCGC_2     </td></tr>\n",
       "\t<tr><td>107p7</td><td>didi_grna_1</td><td>141</td><td>35477</td><td>2330</td><td> 69</td><td>grna</td><td>didi_linkage_1</td><td>1</td><td>grna</td><td>1</td><td>TACAAGTACAAGTACAAGTACAAGTACAAGTACAAGTCCGGCTCCGGC</td><td>varydicodonrepeatlength_TACAAG_6</td></tr>\n",
       "\t<tr><td>⋮</td><td>⋮</td><td>⋮</td><td>⋮</td><td>⋮</td><td>⋮</td><td>⋮</td><td>⋮</td><td>⋮</td><td>⋮</td><td>⋮</td><td>⋮</td><td>⋮</td></tr>\n",
       "\t<tr><td>107p10</td><td>didi_mrna_2</td><td>124</td><td>48178</td><td>1</td><td> 89</td><td>mrna</td><td>didi_linkage_2</td><td>4</td><td>mrna</td><td>2</td><td>GTCAAAGTCAAAGTCAAAGTCAAAGTCAAATCCGGCTCCGGCTCCGGC</td><td>varydicodonrepeatlength_GTCAAA_5</td></tr>\n",
       "\t<tr><td>107p10</td><td>didi_mrna_2</td><td>299</td><td>48187</td><td>1</td><td> 89</td><td>mrna</td><td>didi_linkage_2</td><td>4</td><td>mrna</td><td>2</td><td>TCCGGACTCTCCGGACTCTCCGGACTCTCCGGACTCTCCGGACTCTCC</td><td>reorderdicodon_GGACTC_1         </td></tr>\n",
       "\t<tr><td>107p10</td><td>didi_mrna_2</td><td> 38</td><td>48195</td><td>1</td><td> 89</td><td>mrna</td><td>didi_linkage_2</td><td>4</td><td>mrna</td><td>2</td><td>AGTTTCAGTTTCAGTTTCAGTTTCAGTTTCAGTTTCAGTTTCTCCGGC</td><td>varydicodonrepeatlength_AGTTTC_7</td></tr>\n",
       "\t<tr><td>107p10</td><td>didi_mrna_2</td><td>183</td><td>48197</td><td>1</td><td> 89</td><td>mrna</td><td>didi_linkage_2</td><td>4</td><td>mrna</td><td>2</td><td>AAAGTCAAAGTCTTCAGTTTCAGTAAAGTCAAAGTCTTCAGTTTCAGT</td><td>mixdicodons_AAAGTC_TTCAGT_2     </td></tr>\n",
       "\t<tr><td>107p10</td><td>didi_mrna_2</td><td>194</td><td>48218</td><td>1</td><td> 90</td><td>mrna</td><td>didi_linkage_2</td><td>4</td><td>mrna</td><td>2</td><td>AGTTTCGTCAAAAGTTTCGTCAAAAGTTTCGTCAAAAGTTTCGTCAAA</td><td>mixdicodons_AGTTTC_GTCAAA_1     </td></tr>\n",
       "\t<tr><td>107p10</td><td>didi_mrna_2</td><td> 34</td><td>48225</td><td>1</td><td> 91</td><td>mrna</td><td>didi_linkage_2</td><td>4</td><td>mrna</td><td>2</td><td>AGTTTCAGTTTCAGTTTCTCCGGCTCCGGCTCCGGCTCCGGCTCCGGC</td><td>varydicodonrepeatlength_AGTTTC_3</td></tr>\n",
       "\t<tr><td>107p10</td><td>didi_mrna_2</td><td>  5</td><td>48251</td><td>1</td><td> 91</td><td>mrna</td><td>didi_linkage_2</td><td>4</td><td>mrna</td><td>2</td><td>AAGATCAAGATCAAGATCAAGATCAAGATCAAGATCTCCGGCTCCGGC</td><td>varydicodonrepeatlength_AAGATC_6</td></tr>\n",
       "\t<tr><td>107p10</td><td>didi_mrna_2</td><td>178</td><td>48269</td><td>1</td><td> 92</td><td>mrna</td><td>didi_linkage_2</td><td>4</td><td>mrna</td><td>2</td><td>AAAGTCAAAGTCAAAGTCAAAGTCCGCCATCGCCATCGCCATCGCCAT</td><td>mixdicodons_AAAGTC_CGCCAT_4     </td></tr>\n",
       "\t<tr><td>107p10</td><td>didi_mrna_2</td><td>270</td><td>48271</td><td>1</td><td> 92</td><td>mrna</td><td>didi_linkage_2</td><td>4</td><td>mrna</td><td>2</td><td>TCCAAGTTCAAGTTCTCCAAGTTCAAGTTCTCCAAGTTCAAGTTCTCC</td><td>reorderdicodon_AAGTTC_2         </td></tr>\n",
       "\t<tr><td>107p10</td><td>didi_mrna_2</td><td> 14</td><td>48280</td><td>1</td><td> 93</td><td>mrna</td><td>didi_linkage_2</td><td>4</td><td>mrna</td><td>2</td><td>AAGTTCAAGTTCAAGTTCAAGTTCAAGTTCAAGTTCAAGTTCTCCGGC</td><td>varydicodonrepeatlength_AAGTTC_7</td></tr>\n",
       "\t<tr><td>107p10</td><td>didi_mrna_2</td><td>237</td><td>48283</td><td>1</td><td> 93</td><td>mrna</td><td>didi_linkage_2</td><td>4</td><td>mrna</td><td>2</td><td>GTCAAAGTCAAACATCGCCATCGCGTCAAAGTCAAACATCGCCATCGC</td><td>mixdicodons_GTCAAA_CATCGC_2     </td></tr>\n",
       "\t<tr><td>107p10</td><td>didi_mrna_2</td><td>123</td><td>48290</td><td>1</td><td> 93</td><td>mrna</td><td>didi_linkage_2</td><td>4</td><td>mrna</td><td>2</td><td>GTCAAAGTCAAAGTCAAAGTCAAATCCGGCTCCGGCTCCGGCTCCGGC</td><td>varydicodonrepeatlength_GTCAAA_4</td></tr>\n",
       "\t<tr><td>107p10</td><td>didi_mrna_2</td><td>124</td><td>48291</td><td>1</td><td> 93</td><td>mrna</td><td>didi_linkage_2</td><td>4</td><td>mrna</td><td>2</td><td>GTCAAAGTCAAAGTCAAAGTCAAAGTCAAATCCGGCTCCGGCTCCGGC</td><td>varydicodonrepeatlength_GTCAAA_5</td></tr>\n",
       "\t<tr><td>107p10</td><td>didi_mrna_2</td><td>183</td><td>48292</td><td>1</td><td> 93</td><td>mrna</td><td>didi_linkage_2</td><td>4</td><td>mrna</td><td>2</td><td>AAAGTCAAAGTCTTCAGTTTCAGTAAAGTCAAAGTCTTCAGTTTCAGT</td><td>mixdicodons_AAAGTC_TTCAGT_2     </td></tr>\n",
       "\t<tr><td>107p10</td><td>didi_mrna_2</td><td>204</td><td>48305</td><td>1</td><td> 94</td><td>mrna</td><td>didi_linkage_2</td><td>4</td><td>mrna</td><td>2</td><td>CATCGCCATCGCAGTTTCAGTTTCCATCGCCATCGCAGTTTCAGTTTC</td><td>mixdicodons_CATCGC_AGTTTC_2     </td></tr>\n",
       "\t<tr><td>107p10</td><td>didi_mrna_2</td><td>306</td><td>48307</td><td>1</td><td> 94</td><td>mrna</td><td>didi_linkage_2</td><td>4</td><td>mrna</td><td>2</td><td>TCCTACAAGTACAAGTCCTACAAGTACAAGTCCTACAAGTACAAGTCC</td><td>reorderdicodon_TACAAG_2         </td></tr>\n",
       "\t<tr><td>107p10</td><td>didi_mrna_2</td><td>241</td><td>48347</td><td>1</td><td> 96</td><td>mrna</td><td>didi_linkage_2</td><td>4</td><td>mrna</td><td>2</td><td>GTCAAAGTCAAAGTCAAAGTCAAACGCCATCGCCATCGCCATCGCCAT</td><td>mixdicodons_GTCAAA_CGCCAT_4     </td></tr>\n",
       "\t<tr><td>107p10</td><td>didi_mrna_2</td><td> 33</td><td>48379</td><td>1</td><td> 97</td><td>mrna</td><td>didi_linkage_2</td><td>4</td><td>mrna</td><td>2</td><td>AGTTTCAGTTTCTCCGGCTCCGGCTCCGGCTCCGGCTCCGGCTCCGGC</td><td>varydicodonrepeatlength_AGTTTC_2</td></tr>\n",
       "\t<tr><td>107p10</td><td>didi_mrna_2</td><td>244</td><td>48384</td><td>1</td><td> 98</td><td>mrna</td><td>didi_linkage_2</td><td>4</td><td>mrna</td><td>2</td><td>GTCAAAGTCAAAGTCAAAGTCAAATTCAGTTTCAGTTTCAGTTTCAGT</td><td>mixdicodons_GTCAAA_TTCAGT_4     </td></tr>\n",
       "\t<tr><td>107p10</td><td>didi_mrna_2</td><td>170</td><td>48425</td><td>1</td><td>100</td><td>mrna</td><td>didi_linkage_2</td><td>4</td><td>mrna</td><td>2</td><td>AAAGTCAGTTTCAAAGTCAGTTTCAAAGTCAGTTTCAAAGTCAGTTTC</td><td>mixdicodons_AAAGTC_AGTTTC_1     </td></tr>\n",
       "\t<tr><td>107p10</td><td>didi_mrna_2</td><td>266</td><td>48449</td><td>1</td><td>102</td><td>mrna</td><td>didi_linkage_2</td><td>4</td><td>mrna</td><td>2</td><td>TCCAAGTACTCCAAGTACTCCAAGTACTCCAAGTACTCCAAGTACTCC</td><td>reorderdicodon_AAGTAC_1         </td></tr>\n",
       "\t<tr><td>107p10</td><td>didi_mrna_2</td><td>270</td><td>48494</td><td>1</td><td>106</td><td>mrna</td><td>didi_linkage_2</td><td>4</td><td>mrna</td><td>2</td><td>TCCAAGTTCAAGTTCTCCAAGTTCAAGTTCTCCAAGTTCAAGTTCTCC</td><td>reorderdicodon_AAGTTC_2         </td></tr>\n",
       "\t<tr><td>107p10</td><td>didi_mrna_2</td><td>  4</td><td>48513</td><td>1</td><td>108</td><td>mrna</td><td>didi_linkage_2</td><td>4</td><td>mrna</td><td>2</td><td>AAGATCAAGATCAAGATCAAGATCAAGATCTCCGGCTCCGGCTCCGGC</td><td>varydicodonrepeatlength_AAGATC_5</td></tr>\n",
       "\t<tr><td>107p10</td><td>didi_mrna_2</td><td>304</td><td>48555</td><td>1</td><td>114</td><td>mrna</td><td>didi_linkage_2</td><td>4</td><td>mrna</td><td>2</td><td>TCCGTCAAAGTCAAAGTCAAATCCTCCGTCAAAGTCAAAGTCAAATCC</td><td>reorderdicodon_GTCAAA_3         </td></tr>\n",
       "\t<tr><td>107p10</td><td>didi_mrna_2</td><td>294</td><td>48567</td><td>1</td><td>117</td><td>mrna</td><td>didi_linkage_2</td><td>4</td><td>mrna</td><td>2</td><td>TCCCTCGGACTCGGATCCCTCGGACTCGGATCCCTCGGACTCGGATCC</td><td>reorderdicodon_CTCGGA_2         </td></tr>\n",
       "\t<tr><td>107p10</td><td>didi_mrna_2</td><td>204</td><td>48573</td><td>1</td><td>118</td><td>mrna</td><td>didi_linkage_2</td><td>4</td><td>mrna</td><td>2</td><td>CATCGCCATCGCAGTTTCAGTTTCCATCGCCATCGCAGTTTCAGTTTC</td><td>mixdicodons_CATCGC_AGTTTC_2     </td></tr>\n",
       "\t<tr><td>107p10</td><td>didi_mrna_2</td><td>242</td><td>48615</td><td>1</td><td>131</td><td>mrna</td><td>didi_linkage_2</td><td>4</td><td>mrna</td><td>2</td><td>GTCAAATTCAGTGTCAAATTCAGTGTCAAATTCAGTGTCAAATTCAGT</td><td>mixdicodons_GTCAAA_TTCAGT_1     </td></tr>\n",
       "\t<tr><td>107p10</td><td>didi_mrna_2</td><td>242</td><td>48621</td><td>1</td><td>133</td><td>mrna</td><td>didi_linkage_2</td><td>4</td><td>mrna</td><td>2</td><td>GTCAAATTCAGTGTCAAATTCAGTGTCAAATTCAGTGTCAAATTCAGT</td><td>mixdicodons_GTCAAA_TTCAGT_1     </td></tr>\n",
       "\t<tr><td>107p10</td><td>didi_mrna_2</td><td>143</td><td>48649</td><td>1</td><td>159</td><td>mrna</td><td>didi_linkage_2</td><td>4</td><td>mrna</td><td>2</td><td>TACAAGTACAAGTACAAGTACAAGTACAAGTACAAGTACAAGTACAAG</td><td>varydicodonrepeatlength_TACAAG_8</td></tr>\n",
       "\t<tr><td>107p10</td><td>didi_mrna_2</td><td>279</td><td>48651</td><td>1</td><td>171</td><td>mrna</td><td>didi_linkage_2</td><td>4</td><td>mrna</td><td>2</td><td>TCCATCAAGATCAAGTCCATCAAGATCAAGTCCATCAAGATCAAGTCC</td><td>reorderdicodon_ATCAAG_2         </td></tr>\n",
       "</tbody>\n",
       "</table>\n"
      ],
      "text/latex": [
       "A spec\\_tbl\\_df: 67986 × 13\n",
       "\\begin{tabular}{lllllllllllll}\n",
       " sample\\_id & sample\\_name & insert\\_num & barcode\\_num & barcode\\_count & linkage\\_count & library\\_type & linkage\\_ref & sample\\_num & sample\\_type & replicate & seq & insert\\_name\\\\\n",
       " <chr> & <chr> & <dbl> & <dbl> & <dbl> & <dbl> & <chr> & <chr> & <dbl> & <chr> & <dbl> & <chr> & <chr>\\\\\n",
       "\\hline\n",
       "\t 107p7 & didi\\_grna\\_1 &  86 & 23374 & 4582 &  26 & grna & didi\\_linkage\\_1 & 1 & grna & 1 & CGTGAACGTGAACGTGAACGTGAACGTGAACGTGAACGTGAATCCGGC & varydicodonrepeatlength\\_CGTGAA\\_7\\\\\n",
       "\t 107p7 & didi\\_grna\\_1 &  54 & 22034 & 3821 &  25 & grna & didi\\_linkage\\_1 & 1 & grna & 1 & ATGATGATGATGATGATGATGATGATGATGATGATGATGATGTCCGGC & varydicodonrepeatlength\\_ATGATG\\_7\\\\\n",
       "\t 107p7 & didi\\_grna\\_1 & 150 & 25702 & 3797 &  29 & grna & didi\\_linkage\\_1 & 1 & grna & 1 & TTGATGTTGATGTTGATGTTGATGTTGATGTTGATGTTGATGTCCGGC & varydicodonrepeatlength\\_TTGATG\\_7\\\\\n",
       "\t 107p7 & didi\\_grna\\_1 &  90 & 16901 & 3778 &  20 & grna & didi\\_linkage\\_1 & 1 & grna & 1 & CTCATACTCATACTCATATCCGGCTCCGGCTCCGGCTCCGGCTCCGGC & varydicodonrepeatlength\\_CTCATA\\_3\\\\\n",
       "\t 107p7 & didi\\_grna\\_1 & 227 &  2082 & 3694 &  11 & grna & didi\\_linkage\\_1 & 1 & grna & 1 & CGCCATTTCAGTCGCCATTTCAGTCGCCATTTCAGTCGCCATTTCAGT & mixdicodons\\_CGCCAT\\_TTCAGT\\_1     \\\\\n",
       "\t 107p7 & didi\\_grna\\_1 &  85 & 35422 & 3587 &  68 & grna & didi\\_linkage\\_1 & 1 & grna & 1 & CGTGAACGTGAACGTGAACGTGAACGTGAACGTGAATCCGGCTCCGGC & varydicodonrepeatlength\\_CGTGAA\\_6\\\\\n",
       "\t 107p7 & didi\\_grna\\_1 &  35 & 34631 & 3431 &  56 & grna & didi\\_linkage\\_1 & 1 & grna & 1 & AGTTTCAGTTTCAGTTTCAGTTTCTCCGGCTCCGGCTCCGGCTCCGGC & varydicodonrepeatlength\\_AGTTTC\\_4\\\\\n",
       "\t 107p7 & didi\\_grna\\_1 & 218 & 35803 & 3412 & 178 & grna & didi\\_linkage\\_1 & 1 & grna & 1 & CGCCATAGTTTCCGCCATAGTTTCCGCCATAGTTTCCGCCATAGTTTC & mixdicodons\\_CGCCAT\\_AGTTTC\\_1     \\\\\n",
       "\t 107p7 & didi\\_grna\\_1 & 165 & 18250 & 3393 &  21 & grna & didi\\_linkage\\_1 & 1 & grna & 1 & TTTTGTTTTTGTTTTTGTTTTTGTTTTTGTTTTTGTTCCGGCTCCGGC & varydicodonrepeatlength\\_TTTTGT\\_6\\\\\n",
       "\t 107p7 & didi\\_grna\\_1 &  64 &  3780 & 3114 &  12 & grna & didi\\_linkage\\_1 & 1 & grna & 1 & CGCCATTCCGGCTCCGGCTCCGGCTCCGGCTCCGGCTCCGGCTCCGGC & varydicodonrepeatlength\\_CGCCAT\\_1\\\\\n",
       "\t 107p7 & didi\\_grna\\_1 &  23 & 24819 & 2949 &  28 & grna & didi\\_linkage\\_1 & 1 & grna & 1 & AGAGAGAGAGAGAGAGAGAGAGAGAGAGAGAGAGAGAGAGAGAGAGAG & varydicodonrepeatlength\\_AGAGAG\\_8\\\\\n",
       "\t 107p7 & didi\\_grna\\_1 &  23 & 24147 & 2844 &  27 & grna & didi\\_linkage\\_1 & 1 & grna & 1 & AGAGAGAGAGAGAGAGAGAGAGAGAGAGAGAGAGAGAGAGAGAGAGAG & varydicodonrepeatlength\\_AGAGAG\\_8\\\\\n",
       "\t 107p7 & didi\\_grna\\_1 & 273 & 33771 & 2821 &  49 & grna & didi\\_linkage\\_1 & 1 & grna & 1 & TCCAGAGAGAGAGAGTCCAGAGAGAGAGAGTCCAGAGAGAGAGAGTCC & reorderdicodon\\_AGAGAG\\_2         \\\\\n",
       "\t 107p7 & didi\\_grna\\_1 & 249 & 19919 & 2765 &  23 & grna & didi\\_linkage\\_1 & 1 & grna & 1 & TTCAGTTTCAGTAGTTTCAGTTTCTTCAGTTTCAGTAGTTTCAGTTTC & mixdicodons\\_TTCAGT\\_AGTTTC\\_2     \\\\\n",
       "\t 107p7 & didi\\_grna\\_1 &  23 &  2952 & 2759 &  11 & grna & didi\\_linkage\\_1 & 1 & grna & 1 & AGAGAGAGAGAGAGAGAGAGAGAGAGAGAGAGAGAGAGAGAGAGAGAG & varydicodonrepeatlength\\_AGAGAG\\_8\\\\\n",
       "\t 107p7 & didi\\_grna\\_1 & 219 & 31573 & 2758 &  41 & grna & didi\\_linkage\\_1 & 1 & grna & 1 & CGCCATCGCCATAGTTTCAGTTTCCGCCATCGCCATAGTTTCAGTTTC & mixdicodons\\_CGCCAT\\_AGTTTC\\_2     \\\\\n",
       "\t 107p7 & didi\\_grna\\_1 &  34 & 24659 & 2694 &  28 & grna & didi\\_linkage\\_1 & 1 & grna & 1 & AGTTTCAGTTTCAGTTTCTCCGGCTCCGGCTCCGGCTCCGGCTCCGGC & varydicodonrepeatlength\\_AGTTTC\\_3\\\\\n",
       "\t 107p7 & didi\\_grna\\_1 & 189 & 21673 & 2618 &  25 & grna & didi\\_linkage\\_1 & 1 & grna & 1 & AGTTTCAGTTTCCATCGCCATCGCAGTTTCAGTTTCCATCGCCATCGC & mixdicodons\\_AGTTTC\\_CATCGC\\_2     \\\\\n",
       "\t 107p7 & didi\\_grna\\_1 & 274 & 30047 & 2596 &  37 & grna & didi\\_linkage\\_1 & 1 & grna & 1 & TCCAGAGAGAGAGAGAGAGAGTCCTCCAGAGAGAGAGAGAGAGAGTCC & reorderdicodon\\_AGAGAG\\_3         \\\\\n",
       "\t 107p7 & didi\\_grna\\_1 & 291 &  1822 & 2508 &  10 & grna & didi\\_linkage\\_1 & 1 & grna & 1 & TCCCGCTTCCGCTTCTCCCGCTTCCGCTTCTCCCGCTTCCGCTTCTCC & reorderdicodon\\_CGCTTC\\_2         \\\\\n",
       "\t 107p7 & didi\\_grna\\_1 & 111 & 17734 & 2438 &  21 & grna & didi\\_linkage\\_1 & 1 & grna & 1 & CTGTGTCTGTGTCTGTGTCTGTGTCTGTGTCTGTGTCTGTGTCTGTGT & varydicodonrepeatlength\\_CTGTGT\\_8\\\\\n",
       "\t 107p7 & didi\\_grna\\_1 &  23 & 23376 & 2425 &  26 & grna & didi\\_linkage\\_1 & 1 & grna & 1 & AGAGAGAGAGAGAGAGAGAGAGAGAGAGAGAGAGAGAGAGAGAGAGAG & varydicodonrepeatlength\\_AGAGAG\\_8\\\\\n",
       "\t 107p7 & didi\\_grna\\_1 & 217 & 32445 & 2423 &  43 & grna & didi\\_linkage\\_1 & 1 & grna & 1 & CGCCATCGCCATCGCCATCGCCATAAAGTCAAAGTCAAAGTCAAAGTC & mixdicodons\\_CGCCAT\\_AAAGTC\\_4     \\\\\n",
       "\t 107p7 & didi\\_grna\\_1 & 133 & 30112 & 2413 &  37 & grna & didi\\_linkage\\_1 & 1 & grna & 1 & GTCATGGTCATGGTCATGGTCATGGTCATGGTCATGTCCGGCTCCGGC & varydicodonrepeatlength\\_GTCATG\\_6\\\\\n",
       "\t 107p7 & didi\\_grna\\_1 &  22 & 29413 & 2382 &  35 & grna & didi\\_linkage\\_1 & 1 & grna & 1 & AGAGAGAGAGAGAGAGAGAGAGAGAGAGAGAGAGAGAGAGAGTCCGGC & varydicodonrepeatlength\\_AGAGAG\\_7\\\\\n",
       "\t 107p7 & didi\\_grna\\_1 & 151 &  5811 & 2375 &  13 & grna & didi\\_linkage\\_1 & 1 & grna & 1 & TTGATGTTGATGTTGATGTTGATGTTGATGTTGATGTTGATGTTGATG & varydicodonrepeatlength\\_TTGATG\\_8\\\\\n",
       "\t 107p7 & didi\\_grna\\_1 & 200 & 34364 & 2369 &  53 & grna & didi\\_linkage\\_1 & 1 & grna & 1 & CATCGCAAAGTCCATCGCAAAGTCCATCGCAAAGTCCATCGCAAAGTC & mixdicodons\\_CATCGC\\_AAAGTC\\_1     \\\\\n",
       "\t 107p7 & didi\\_grna\\_1 &  21 & 19969 & 2356 &  23 & grna & didi\\_linkage\\_1 & 1 & grna & 1 & AGAGAGAGAGAGAGAGAGAGAGAGAGAGAGAGAGAGTCCGGCTCCGGC & varydicodonrepeatlength\\_AGAGAG\\_6\\\\\n",
       "\t 107p7 & didi\\_grna\\_1 & 237 & 35385 & 2353 &  67 & grna & didi\\_linkage\\_1 & 1 & grna & 1 & GTCAAAGTCAAACATCGCCATCGCGTCAAAGTCAAACATCGCCATCGC & mixdicodons\\_GTCAAA\\_CATCGC\\_2     \\\\\n",
       "\t 107p7 & didi\\_grna\\_1 & 141 & 35477 & 2330 &  69 & grna & didi\\_linkage\\_1 & 1 & grna & 1 & TACAAGTACAAGTACAAGTACAAGTACAAGTACAAGTCCGGCTCCGGC & varydicodonrepeatlength\\_TACAAG\\_6\\\\\n",
       "\t ⋮ & ⋮ & ⋮ & ⋮ & ⋮ & ⋮ & ⋮ & ⋮ & ⋮ & ⋮ & ⋮ & ⋮ & ⋮\\\\\n",
       "\t 107p10 & didi\\_mrna\\_2 & 124 & 48178 & 1 &  89 & mrna & didi\\_linkage\\_2 & 4 & mrna & 2 & GTCAAAGTCAAAGTCAAAGTCAAAGTCAAATCCGGCTCCGGCTCCGGC & varydicodonrepeatlength\\_GTCAAA\\_5\\\\\n",
       "\t 107p10 & didi\\_mrna\\_2 & 299 & 48187 & 1 &  89 & mrna & didi\\_linkage\\_2 & 4 & mrna & 2 & TCCGGACTCTCCGGACTCTCCGGACTCTCCGGACTCTCCGGACTCTCC & reorderdicodon\\_GGACTC\\_1         \\\\\n",
       "\t 107p10 & didi\\_mrna\\_2 &  38 & 48195 & 1 &  89 & mrna & didi\\_linkage\\_2 & 4 & mrna & 2 & AGTTTCAGTTTCAGTTTCAGTTTCAGTTTCAGTTTCAGTTTCTCCGGC & varydicodonrepeatlength\\_AGTTTC\\_7\\\\\n",
       "\t 107p10 & didi\\_mrna\\_2 & 183 & 48197 & 1 &  89 & mrna & didi\\_linkage\\_2 & 4 & mrna & 2 & AAAGTCAAAGTCTTCAGTTTCAGTAAAGTCAAAGTCTTCAGTTTCAGT & mixdicodons\\_AAAGTC\\_TTCAGT\\_2     \\\\\n",
       "\t 107p10 & didi\\_mrna\\_2 & 194 & 48218 & 1 &  90 & mrna & didi\\_linkage\\_2 & 4 & mrna & 2 & AGTTTCGTCAAAAGTTTCGTCAAAAGTTTCGTCAAAAGTTTCGTCAAA & mixdicodons\\_AGTTTC\\_GTCAAA\\_1     \\\\\n",
       "\t 107p10 & didi\\_mrna\\_2 &  34 & 48225 & 1 &  91 & mrna & didi\\_linkage\\_2 & 4 & mrna & 2 & AGTTTCAGTTTCAGTTTCTCCGGCTCCGGCTCCGGCTCCGGCTCCGGC & varydicodonrepeatlength\\_AGTTTC\\_3\\\\\n",
       "\t 107p10 & didi\\_mrna\\_2 &   5 & 48251 & 1 &  91 & mrna & didi\\_linkage\\_2 & 4 & mrna & 2 & AAGATCAAGATCAAGATCAAGATCAAGATCAAGATCTCCGGCTCCGGC & varydicodonrepeatlength\\_AAGATC\\_6\\\\\n",
       "\t 107p10 & didi\\_mrna\\_2 & 178 & 48269 & 1 &  92 & mrna & didi\\_linkage\\_2 & 4 & mrna & 2 & AAAGTCAAAGTCAAAGTCAAAGTCCGCCATCGCCATCGCCATCGCCAT & mixdicodons\\_AAAGTC\\_CGCCAT\\_4     \\\\\n",
       "\t 107p10 & didi\\_mrna\\_2 & 270 & 48271 & 1 &  92 & mrna & didi\\_linkage\\_2 & 4 & mrna & 2 & TCCAAGTTCAAGTTCTCCAAGTTCAAGTTCTCCAAGTTCAAGTTCTCC & reorderdicodon\\_AAGTTC\\_2         \\\\\n",
       "\t 107p10 & didi\\_mrna\\_2 &  14 & 48280 & 1 &  93 & mrna & didi\\_linkage\\_2 & 4 & mrna & 2 & AAGTTCAAGTTCAAGTTCAAGTTCAAGTTCAAGTTCAAGTTCTCCGGC & varydicodonrepeatlength\\_AAGTTC\\_7\\\\\n",
       "\t 107p10 & didi\\_mrna\\_2 & 237 & 48283 & 1 &  93 & mrna & didi\\_linkage\\_2 & 4 & mrna & 2 & GTCAAAGTCAAACATCGCCATCGCGTCAAAGTCAAACATCGCCATCGC & mixdicodons\\_GTCAAA\\_CATCGC\\_2     \\\\\n",
       "\t 107p10 & didi\\_mrna\\_2 & 123 & 48290 & 1 &  93 & mrna & didi\\_linkage\\_2 & 4 & mrna & 2 & GTCAAAGTCAAAGTCAAAGTCAAATCCGGCTCCGGCTCCGGCTCCGGC & varydicodonrepeatlength\\_GTCAAA\\_4\\\\\n",
       "\t 107p10 & didi\\_mrna\\_2 & 124 & 48291 & 1 &  93 & mrna & didi\\_linkage\\_2 & 4 & mrna & 2 & GTCAAAGTCAAAGTCAAAGTCAAAGTCAAATCCGGCTCCGGCTCCGGC & varydicodonrepeatlength\\_GTCAAA\\_5\\\\\n",
       "\t 107p10 & didi\\_mrna\\_2 & 183 & 48292 & 1 &  93 & mrna & didi\\_linkage\\_2 & 4 & mrna & 2 & AAAGTCAAAGTCTTCAGTTTCAGTAAAGTCAAAGTCTTCAGTTTCAGT & mixdicodons\\_AAAGTC\\_TTCAGT\\_2     \\\\\n",
       "\t 107p10 & didi\\_mrna\\_2 & 204 & 48305 & 1 &  94 & mrna & didi\\_linkage\\_2 & 4 & mrna & 2 & CATCGCCATCGCAGTTTCAGTTTCCATCGCCATCGCAGTTTCAGTTTC & mixdicodons\\_CATCGC\\_AGTTTC\\_2     \\\\\n",
       "\t 107p10 & didi\\_mrna\\_2 & 306 & 48307 & 1 &  94 & mrna & didi\\_linkage\\_2 & 4 & mrna & 2 & TCCTACAAGTACAAGTCCTACAAGTACAAGTCCTACAAGTACAAGTCC & reorderdicodon\\_TACAAG\\_2         \\\\\n",
       "\t 107p10 & didi\\_mrna\\_2 & 241 & 48347 & 1 &  96 & mrna & didi\\_linkage\\_2 & 4 & mrna & 2 & GTCAAAGTCAAAGTCAAAGTCAAACGCCATCGCCATCGCCATCGCCAT & mixdicodons\\_GTCAAA\\_CGCCAT\\_4     \\\\\n",
       "\t 107p10 & didi\\_mrna\\_2 &  33 & 48379 & 1 &  97 & mrna & didi\\_linkage\\_2 & 4 & mrna & 2 & AGTTTCAGTTTCTCCGGCTCCGGCTCCGGCTCCGGCTCCGGCTCCGGC & varydicodonrepeatlength\\_AGTTTC\\_2\\\\\n",
       "\t 107p10 & didi\\_mrna\\_2 & 244 & 48384 & 1 &  98 & mrna & didi\\_linkage\\_2 & 4 & mrna & 2 & GTCAAAGTCAAAGTCAAAGTCAAATTCAGTTTCAGTTTCAGTTTCAGT & mixdicodons\\_GTCAAA\\_TTCAGT\\_4     \\\\\n",
       "\t 107p10 & didi\\_mrna\\_2 & 170 & 48425 & 1 & 100 & mrna & didi\\_linkage\\_2 & 4 & mrna & 2 & AAAGTCAGTTTCAAAGTCAGTTTCAAAGTCAGTTTCAAAGTCAGTTTC & mixdicodons\\_AAAGTC\\_AGTTTC\\_1     \\\\\n",
       "\t 107p10 & didi\\_mrna\\_2 & 266 & 48449 & 1 & 102 & mrna & didi\\_linkage\\_2 & 4 & mrna & 2 & TCCAAGTACTCCAAGTACTCCAAGTACTCCAAGTACTCCAAGTACTCC & reorderdicodon\\_AAGTAC\\_1         \\\\\n",
       "\t 107p10 & didi\\_mrna\\_2 & 270 & 48494 & 1 & 106 & mrna & didi\\_linkage\\_2 & 4 & mrna & 2 & TCCAAGTTCAAGTTCTCCAAGTTCAAGTTCTCCAAGTTCAAGTTCTCC & reorderdicodon\\_AAGTTC\\_2         \\\\\n",
       "\t 107p10 & didi\\_mrna\\_2 &   4 & 48513 & 1 & 108 & mrna & didi\\_linkage\\_2 & 4 & mrna & 2 & AAGATCAAGATCAAGATCAAGATCAAGATCTCCGGCTCCGGCTCCGGC & varydicodonrepeatlength\\_AAGATC\\_5\\\\\n",
       "\t 107p10 & didi\\_mrna\\_2 & 304 & 48555 & 1 & 114 & mrna & didi\\_linkage\\_2 & 4 & mrna & 2 & TCCGTCAAAGTCAAAGTCAAATCCTCCGTCAAAGTCAAAGTCAAATCC & reorderdicodon\\_GTCAAA\\_3         \\\\\n",
       "\t 107p10 & didi\\_mrna\\_2 & 294 & 48567 & 1 & 117 & mrna & didi\\_linkage\\_2 & 4 & mrna & 2 & TCCCTCGGACTCGGATCCCTCGGACTCGGATCCCTCGGACTCGGATCC & reorderdicodon\\_CTCGGA\\_2         \\\\\n",
       "\t 107p10 & didi\\_mrna\\_2 & 204 & 48573 & 1 & 118 & mrna & didi\\_linkage\\_2 & 4 & mrna & 2 & CATCGCCATCGCAGTTTCAGTTTCCATCGCCATCGCAGTTTCAGTTTC & mixdicodons\\_CATCGC\\_AGTTTC\\_2     \\\\\n",
       "\t 107p10 & didi\\_mrna\\_2 & 242 & 48615 & 1 & 131 & mrna & didi\\_linkage\\_2 & 4 & mrna & 2 & GTCAAATTCAGTGTCAAATTCAGTGTCAAATTCAGTGTCAAATTCAGT & mixdicodons\\_GTCAAA\\_TTCAGT\\_1     \\\\\n",
       "\t 107p10 & didi\\_mrna\\_2 & 242 & 48621 & 1 & 133 & mrna & didi\\_linkage\\_2 & 4 & mrna & 2 & GTCAAATTCAGTGTCAAATTCAGTGTCAAATTCAGTGTCAAATTCAGT & mixdicodons\\_GTCAAA\\_TTCAGT\\_1     \\\\\n",
       "\t 107p10 & didi\\_mrna\\_2 & 143 & 48649 & 1 & 159 & mrna & didi\\_linkage\\_2 & 4 & mrna & 2 & TACAAGTACAAGTACAAGTACAAGTACAAGTACAAGTACAAGTACAAG & varydicodonrepeatlength\\_TACAAG\\_8\\\\\n",
       "\t 107p10 & didi\\_mrna\\_2 & 279 & 48651 & 1 & 171 & mrna & didi\\_linkage\\_2 & 4 & mrna & 2 & TCCATCAAGATCAAGTCCATCAAGATCAAGTCCATCAAGATCAAGTCC & reorderdicodon\\_ATCAAG\\_2         \\\\\n",
       "\\end{tabular}\n"
      ],
      "text/markdown": [
       "\n",
       "A spec_tbl_df: 67986 × 13\n",
       "\n",
       "| sample_id &lt;chr&gt; | sample_name &lt;chr&gt; | insert_num &lt;dbl&gt; | barcode_num &lt;dbl&gt; | barcode_count &lt;dbl&gt; | linkage_count &lt;dbl&gt; | library_type &lt;chr&gt; | linkage_ref &lt;chr&gt; | sample_num &lt;dbl&gt; | sample_type &lt;chr&gt; | replicate &lt;dbl&gt; | seq &lt;chr&gt; | insert_name &lt;chr&gt; |\n",
       "|---|---|---|---|---|---|---|---|---|---|---|---|---|\n",
       "| 107p7 | didi_grna_1 |  86 | 23374 | 4582 |  26 | grna | didi_linkage_1 | 1 | grna | 1 | CGTGAACGTGAACGTGAACGTGAACGTGAACGTGAACGTGAATCCGGC | varydicodonrepeatlength_CGTGAA_7 |\n",
       "| 107p7 | didi_grna_1 |  54 | 22034 | 3821 |  25 | grna | didi_linkage_1 | 1 | grna | 1 | ATGATGATGATGATGATGATGATGATGATGATGATGATGATGTCCGGC | varydicodonrepeatlength_ATGATG_7 |\n",
       "| 107p7 | didi_grna_1 | 150 | 25702 | 3797 |  29 | grna | didi_linkage_1 | 1 | grna | 1 | TTGATGTTGATGTTGATGTTGATGTTGATGTTGATGTTGATGTCCGGC | varydicodonrepeatlength_TTGATG_7 |\n",
       "| 107p7 | didi_grna_1 |  90 | 16901 | 3778 |  20 | grna | didi_linkage_1 | 1 | grna | 1 | CTCATACTCATACTCATATCCGGCTCCGGCTCCGGCTCCGGCTCCGGC | varydicodonrepeatlength_CTCATA_3 |\n",
       "| 107p7 | didi_grna_1 | 227 |  2082 | 3694 |  11 | grna | didi_linkage_1 | 1 | grna | 1 | CGCCATTTCAGTCGCCATTTCAGTCGCCATTTCAGTCGCCATTTCAGT | mixdicodons_CGCCAT_TTCAGT_1      |\n",
       "| 107p7 | didi_grna_1 |  85 | 35422 | 3587 |  68 | grna | didi_linkage_1 | 1 | grna | 1 | CGTGAACGTGAACGTGAACGTGAACGTGAACGTGAATCCGGCTCCGGC | varydicodonrepeatlength_CGTGAA_6 |\n",
       "| 107p7 | didi_grna_1 |  35 | 34631 | 3431 |  56 | grna | didi_linkage_1 | 1 | grna | 1 | AGTTTCAGTTTCAGTTTCAGTTTCTCCGGCTCCGGCTCCGGCTCCGGC | varydicodonrepeatlength_AGTTTC_4 |\n",
       "| 107p7 | didi_grna_1 | 218 | 35803 | 3412 | 178 | grna | didi_linkage_1 | 1 | grna | 1 | CGCCATAGTTTCCGCCATAGTTTCCGCCATAGTTTCCGCCATAGTTTC | mixdicodons_CGCCAT_AGTTTC_1      |\n",
       "| 107p7 | didi_grna_1 | 165 | 18250 | 3393 |  21 | grna | didi_linkage_1 | 1 | grna | 1 | TTTTGTTTTTGTTTTTGTTTTTGTTTTTGTTTTTGTTCCGGCTCCGGC | varydicodonrepeatlength_TTTTGT_6 |\n",
       "| 107p7 | didi_grna_1 |  64 |  3780 | 3114 |  12 | grna | didi_linkage_1 | 1 | grna | 1 | CGCCATTCCGGCTCCGGCTCCGGCTCCGGCTCCGGCTCCGGCTCCGGC | varydicodonrepeatlength_CGCCAT_1 |\n",
       "| 107p7 | didi_grna_1 |  23 | 24819 | 2949 |  28 | grna | didi_linkage_1 | 1 | grna | 1 | AGAGAGAGAGAGAGAGAGAGAGAGAGAGAGAGAGAGAGAGAGAGAGAG | varydicodonrepeatlength_AGAGAG_8 |\n",
       "| 107p7 | didi_grna_1 |  23 | 24147 | 2844 |  27 | grna | didi_linkage_1 | 1 | grna | 1 | AGAGAGAGAGAGAGAGAGAGAGAGAGAGAGAGAGAGAGAGAGAGAGAG | varydicodonrepeatlength_AGAGAG_8 |\n",
       "| 107p7 | didi_grna_1 | 273 | 33771 | 2821 |  49 | grna | didi_linkage_1 | 1 | grna | 1 | TCCAGAGAGAGAGAGTCCAGAGAGAGAGAGTCCAGAGAGAGAGAGTCC | reorderdicodon_AGAGAG_2          |\n",
       "| 107p7 | didi_grna_1 | 249 | 19919 | 2765 |  23 | grna | didi_linkage_1 | 1 | grna | 1 | TTCAGTTTCAGTAGTTTCAGTTTCTTCAGTTTCAGTAGTTTCAGTTTC | mixdicodons_TTCAGT_AGTTTC_2      |\n",
       "| 107p7 | didi_grna_1 |  23 |  2952 | 2759 |  11 | grna | didi_linkage_1 | 1 | grna | 1 | AGAGAGAGAGAGAGAGAGAGAGAGAGAGAGAGAGAGAGAGAGAGAGAG | varydicodonrepeatlength_AGAGAG_8 |\n",
       "| 107p7 | didi_grna_1 | 219 | 31573 | 2758 |  41 | grna | didi_linkage_1 | 1 | grna | 1 | CGCCATCGCCATAGTTTCAGTTTCCGCCATCGCCATAGTTTCAGTTTC | mixdicodons_CGCCAT_AGTTTC_2      |\n",
       "| 107p7 | didi_grna_1 |  34 | 24659 | 2694 |  28 | grna | didi_linkage_1 | 1 | grna | 1 | AGTTTCAGTTTCAGTTTCTCCGGCTCCGGCTCCGGCTCCGGCTCCGGC | varydicodonrepeatlength_AGTTTC_3 |\n",
       "| 107p7 | didi_grna_1 | 189 | 21673 | 2618 |  25 | grna | didi_linkage_1 | 1 | grna | 1 | AGTTTCAGTTTCCATCGCCATCGCAGTTTCAGTTTCCATCGCCATCGC | mixdicodons_AGTTTC_CATCGC_2      |\n",
       "| 107p7 | didi_grna_1 | 274 | 30047 | 2596 |  37 | grna | didi_linkage_1 | 1 | grna | 1 | TCCAGAGAGAGAGAGAGAGAGTCCTCCAGAGAGAGAGAGAGAGAGTCC | reorderdicodon_AGAGAG_3          |\n",
       "| 107p7 | didi_grna_1 | 291 |  1822 | 2508 |  10 | grna | didi_linkage_1 | 1 | grna | 1 | TCCCGCTTCCGCTTCTCCCGCTTCCGCTTCTCCCGCTTCCGCTTCTCC | reorderdicodon_CGCTTC_2          |\n",
       "| 107p7 | didi_grna_1 | 111 | 17734 | 2438 |  21 | grna | didi_linkage_1 | 1 | grna | 1 | CTGTGTCTGTGTCTGTGTCTGTGTCTGTGTCTGTGTCTGTGTCTGTGT | varydicodonrepeatlength_CTGTGT_8 |\n",
       "| 107p7 | didi_grna_1 |  23 | 23376 | 2425 |  26 | grna | didi_linkage_1 | 1 | grna | 1 | AGAGAGAGAGAGAGAGAGAGAGAGAGAGAGAGAGAGAGAGAGAGAGAG | varydicodonrepeatlength_AGAGAG_8 |\n",
       "| 107p7 | didi_grna_1 | 217 | 32445 | 2423 |  43 | grna | didi_linkage_1 | 1 | grna | 1 | CGCCATCGCCATCGCCATCGCCATAAAGTCAAAGTCAAAGTCAAAGTC | mixdicodons_CGCCAT_AAAGTC_4      |\n",
       "| 107p7 | didi_grna_1 | 133 | 30112 | 2413 |  37 | grna | didi_linkage_1 | 1 | grna | 1 | GTCATGGTCATGGTCATGGTCATGGTCATGGTCATGTCCGGCTCCGGC | varydicodonrepeatlength_GTCATG_6 |\n",
       "| 107p7 | didi_grna_1 |  22 | 29413 | 2382 |  35 | grna | didi_linkage_1 | 1 | grna | 1 | AGAGAGAGAGAGAGAGAGAGAGAGAGAGAGAGAGAGAGAGAGTCCGGC | varydicodonrepeatlength_AGAGAG_7 |\n",
       "| 107p7 | didi_grna_1 | 151 |  5811 | 2375 |  13 | grna | didi_linkage_1 | 1 | grna | 1 | TTGATGTTGATGTTGATGTTGATGTTGATGTTGATGTTGATGTTGATG | varydicodonrepeatlength_TTGATG_8 |\n",
       "| 107p7 | didi_grna_1 | 200 | 34364 | 2369 |  53 | grna | didi_linkage_1 | 1 | grna | 1 | CATCGCAAAGTCCATCGCAAAGTCCATCGCAAAGTCCATCGCAAAGTC | mixdicodons_CATCGC_AAAGTC_1      |\n",
       "| 107p7 | didi_grna_1 |  21 | 19969 | 2356 |  23 | grna | didi_linkage_1 | 1 | grna | 1 | AGAGAGAGAGAGAGAGAGAGAGAGAGAGAGAGAGAGTCCGGCTCCGGC | varydicodonrepeatlength_AGAGAG_6 |\n",
       "| 107p7 | didi_grna_1 | 237 | 35385 | 2353 |  67 | grna | didi_linkage_1 | 1 | grna | 1 | GTCAAAGTCAAACATCGCCATCGCGTCAAAGTCAAACATCGCCATCGC | mixdicodons_GTCAAA_CATCGC_2      |\n",
       "| 107p7 | didi_grna_1 | 141 | 35477 | 2330 |  69 | grna | didi_linkage_1 | 1 | grna | 1 | TACAAGTACAAGTACAAGTACAAGTACAAGTACAAGTCCGGCTCCGGC | varydicodonrepeatlength_TACAAG_6 |\n",
       "| ⋮ | ⋮ | ⋮ | ⋮ | ⋮ | ⋮ | ⋮ | ⋮ | ⋮ | ⋮ | ⋮ | ⋮ | ⋮ |\n",
       "| 107p10 | didi_mrna_2 | 124 | 48178 | 1 |  89 | mrna | didi_linkage_2 | 4 | mrna | 2 | GTCAAAGTCAAAGTCAAAGTCAAAGTCAAATCCGGCTCCGGCTCCGGC | varydicodonrepeatlength_GTCAAA_5 |\n",
       "| 107p10 | didi_mrna_2 | 299 | 48187 | 1 |  89 | mrna | didi_linkage_2 | 4 | mrna | 2 | TCCGGACTCTCCGGACTCTCCGGACTCTCCGGACTCTCCGGACTCTCC | reorderdicodon_GGACTC_1          |\n",
       "| 107p10 | didi_mrna_2 |  38 | 48195 | 1 |  89 | mrna | didi_linkage_2 | 4 | mrna | 2 | AGTTTCAGTTTCAGTTTCAGTTTCAGTTTCAGTTTCAGTTTCTCCGGC | varydicodonrepeatlength_AGTTTC_7 |\n",
       "| 107p10 | didi_mrna_2 | 183 | 48197 | 1 |  89 | mrna | didi_linkage_2 | 4 | mrna | 2 | AAAGTCAAAGTCTTCAGTTTCAGTAAAGTCAAAGTCTTCAGTTTCAGT | mixdicodons_AAAGTC_TTCAGT_2      |\n",
       "| 107p10 | didi_mrna_2 | 194 | 48218 | 1 |  90 | mrna | didi_linkage_2 | 4 | mrna | 2 | AGTTTCGTCAAAAGTTTCGTCAAAAGTTTCGTCAAAAGTTTCGTCAAA | mixdicodons_AGTTTC_GTCAAA_1      |\n",
       "| 107p10 | didi_mrna_2 |  34 | 48225 | 1 |  91 | mrna | didi_linkage_2 | 4 | mrna | 2 | AGTTTCAGTTTCAGTTTCTCCGGCTCCGGCTCCGGCTCCGGCTCCGGC | varydicodonrepeatlength_AGTTTC_3 |\n",
       "| 107p10 | didi_mrna_2 |   5 | 48251 | 1 |  91 | mrna | didi_linkage_2 | 4 | mrna | 2 | AAGATCAAGATCAAGATCAAGATCAAGATCAAGATCTCCGGCTCCGGC | varydicodonrepeatlength_AAGATC_6 |\n",
       "| 107p10 | didi_mrna_2 | 178 | 48269 | 1 |  92 | mrna | didi_linkage_2 | 4 | mrna | 2 | AAAGTCAAAGTCAAAGTCAAAGTCCGCCATCGCCATCGCCATCGCCAT | mixdicodons_AAAGTC_CGCCAT_4      |\n",
       "| 107p10 | didi_mrna_2 | 270 | 48271 | 1 |  92 | mrna | didi_linkage_2 | 4 | mrna | 2 | TCCAAGTTCAAGTTCTCCAAGTTCAAGTTCTCCAAGTTCAAGTTCTCC | reorderdicodon_AAGTTC_2          |\n",
       "| 107p10 | didi_mrna_2 |  14 | 48280 | 1 |  93 | mrna | didi_linkage_2 | 4 | mrna | 2 | AAGTTCAAGTTCAAGTTCAAGTTCAAGTTCAAGTTCAAGTTCTCCGGC | varydicodonrepeatlength_AAGTTC_7 |\n",
       "| 107p10 | didi_mrna_2 | 237 | 48283 | 1 |  93 | mrna | didi_linkage_2 | 4 | mrna | 2 | GTCAAAGTCAAACATCGCCATCGCGTCAAAGTCAAACATCGCCATCGC | mixdicodons_GTCAAA_CATCGC_2      |\n",
       "| 107p10 | didi_mrna_2 | 123 | 48290 | 1 |  93 | mrna | didi_linkage_2 | 4 | mrna | 2 | GTCAAAGTCAAAGTCAAAGTCAAATCCGGCTCCGGCTCCGGCTCCGGC | varydicodonrepeatlength_GTCAAA_4 |\n",
       "| 107p10 | didi_mrna_2 | 124 | 48291 | 1 |  93 | mrna | didi_linkage_2 | 4 | mrna | 2 | GTCAAAGTCAAAGTCAAAGTCAAAGTCAAATCCGGCTCCGGCTCCGGC | varydicodonrepeatlength_GTCAAA_5 |\n",
       "| 107p10 | didi_mrna_2 | 183 | 48292 | 1 |  93 | mrna | didi_linkage_2 | 4 | mrna | 2 | AAAGTCAAAGTCTTCAGTTTCAGTAAAGTCAAAGTCTTCAGTTTCAGT | mixdicodons_AAAGTC_TTCAGT_2      |\n",
       "| 107p10 | didi_mrna_2 | 204 | 48305 | 1 |  94 | mrna | didi_linkage_2 | 4 | mrna | 2 | CATCGCCATCGCAGTTTCAGTTTCCATCGCCATCGCAGTTTCAGTTTC | mixdicodons_CATCGC_AGTTTC_2      |\n",
       "| 107p10 | didi_mrna_2 | 306 | 48307 | 1 |  94 | mrna | didi_linkage_2 | 4 | mrna | 2 | TCCTACAAGTACAAGTCCTACAAGTACAAGTCCTACAAGTACAAGTCC | reorderdicodon_TACAAG_2          |\n",
       "| 107p10 | didi_mrna_2 | 241 | 48347 | 1 |  96 | mrna | didi_linkage_2 | 4 | mrna | 2 | GTCAAAGTCAAAGTCAAAGTCAAACGCCATCGCCATCGCCATCGCCAT | mixdicodons_GTCAAA_CGCCAT_4      |\n",
       "| 107p10 | didi_mrna_2 |  33 | 48379 | 1 |  97 | mrna | didi_linkage_2 | 4 | mrna | 2 | AGTTTCAGTTTCTCCGGCTCCGGCTCCGGCTCCGGCTCCGGCTCCGGC | varydicodonrepeatlength_AGTTTC_2 |\n",
       "| 107p10 | didi_mrna_2 | 244 | 48384 | 1 |  98 | mrna | didi_linkage_2 | 4 | mrna | 2 | GTCAAAGTCAAAGTCAAAGTCAAATTCAGTTTCAGTTTCAGTTTCAGT | mixdicodons_GTCAAA_TTCAGT_4      |\n",
       "| 107p10 | didi_mrna_2 | 170 | 48425 | 1 | 100 | mrna | didi_linkage_2 | 4 | mrna | 2 | AAAGTCAGTTTCAAAGTCAGTTTCAAAGTCAGTTTCAAAGTCAGTTTC | mixdicodons_AAAGTC_AGTTTC_1      |\n",
       "| 107p10 | didi_mrna_2 | 266 | 48449 | 1 | 102 | mrna | didi_linkage_2 | 4 | mrna | 2 | TCCAAGTACTCCAAGTACTCCAAGTACTCCAAGTACTCCAAGTACTCC | reorderdicodon_AAGTAC_1          |\n",
       "| 107p10 | didi_mrna_2 | 270 | 48494 | 1 | 106 | mrna | didi_linkage_2 | 4 | mrna | 2 | TCCAAGTTCAAGTTCTCCAAGTTCAAGTTCTCCAAGTTCAAGTTCTCC | reorderdicodon_AAGTTC_2          |\n",
       "| 107p10 | didi_mrna_2 |   4 | 48513 | 1 | 108 | mrna | didi_linkage_2 | 4 | mrna | 2 | AAGATCAAGATCAAGATCAAGATCAAGATCTCCGGCTCCGGCTCCGGC | varydicodonrepeatlength_AAGATC_5 |\n",
       "| 107p10 | didi_mrna_2 | 304 | 48555 | 1 | 114 | mrna | didi_linkage_2 | 4 | mrna | 2 | TCCGTCAAAGTCAAAGTCAAATCCTCCGTCAAAGTCAAAGTCAAATCC | reorderdicodon_GTCAAA_3          |\n",
       "| 107p10 | didi_mrna_2 | 294 | 48567 | 1 | 117 | mrna | didi_linkage_2 | 4 | mrna | 2 | TCCCTCGGACTCGGATCCCTCGGACTCGGATCCCTCGGACTCGGATCC | reorderdicodon_CTCGGA_2          |\n",
       "| 107p10 | didi_mrna_2 | 204 | 48573 | 1 | 118 | mrna | didi_linkage_2 | 4 | mrna | 2 | CATCGCCATCGCAGTTTCAGTTTCCATCGCCATCGCAGTTTCAGTTTC | mixdicodons_CATCGC_AGTTTC_2      |\n",
       "| 107p10 | didi_mrna_2 | 242 | 48615 | 1 | 131 | mrna | didi_linkage_2 | 4 | mrna | 2 | GTCAAATTCAGTGTCAAATTCAGTGTCAAATTCAGTGTCAAATTCAGT | mixdicodons_GTCAAA_TTCAGT_1      |\n",
       "| 107p10 | didi_mrna_2 | 242 | 48621 | 1 | 133 | mrna | didi_linkage_2 | 4 | mrna | 2 | GTCAAATTCAGTGTCAAATTCAGTGTCAAATTCAGTGTCAAATTCAGT | mixdicodons_GTCAAA_TTCAGT_1      |\n",
       "| 107p10 | didi_mrna_2 | 143 | 48649 | 1 | 159 | mrna | didi_linkage_2 | 4 | mrna | 2 | TACAAGTACAAGTACAAGTACAAGTACAAGTACAAGTACAAGTACAAG | varydicodonrepeatlength_TACAAG_8 |\n",
       "| 107p10 | didi_mrna_2 | 279 | 48651 | 1 | 171 | mrna | didi_linkage_2 | 4 | mrna | 2 | TCCATCAAGATCAAGTCCATCAAGATCAAGTCCATCAAGATCAAGTCC | reorderdicodon_ATCAAG_2          |\n",
       "\n"
      ],
      "text/plain": [
       "      sample_id sample_name insert_num barcode_num barcode_count linkage_count\n",
       "1     107p7     didi_grna_1  86        23374       4582           26          \n",
       "2     107p7     didi_grna_1  54        22034       3821           25          \n",
       "3     107p7     didi_grna_1 150        25702       3797           29          \n",
       "4     107p7     didi_grna_1  90        16901       3778           20          \n",
       "5     107p7     didi_grna_1 227         2082       3694           11          \n",
       "6     107p7     didi_grna_1  85        35422       3587           68          \n",
       "7     107p7     didi_grna_1  35        34631       3431           56          \n",
       "8     107p7     didi_grna_1 218        35803       3412          178          \n",
       "9     107p7     didi_grna_1 165        18250       3393           21          \n",
       "10    107p7     didi_grna_1  64         3780       3114           12          \n",
       "11    107p7     didi_grna_1  23        24819       2949           28          \n",
       "12    107p7     didi_grna_1  23        24147       2844           27          \n",
       "13    107p7     didi_grna_1 273        33771       2821           49          \n",
       "14    107p7     didi_grna_1 249        19919       2765           23          \n",
       "15    107p7     didi_grna_1  23         2952       2759           11          \n",
       "16    107p7     didi_grna_1 219        31573       2758           41          \n",
       "17    107p7     didi_grna_1  34        24659       2694           28          \n",
       "18    107p7     didi_grna_1 189        21673       2618           25          \n",
       "19    107p7     didi_grna_1 274        30047       2596           37          \n",
       "20    107p7     didi_grna_1 291         1822       2508           10          \n",
       "21    107p7     didi_grna_1 111        17734       2438           21          \n",
       "22    107p7     didi_grna_1  23        23376       2425           26          \n",
       "23    107p7     didi_grna_1 217        32445       2423           43          \n",
       "24    107p7     didi_grna_1 133        30112       2413           37          \n",
       "25    107p7     didi_grna_1  22        29413       2382           35          \n",
       "26    107p7     didi_grna_1 151         5811       2375           13          \n",
       "27    107p7     didi_grna_1 200        34364       2369           53          \n",
       "28    107p7     didi_grna_1  21        19969       2356           23          \n",
       "29    107p7     didi_grna_1 237        35385       2353           67          \n",
       "30    107p7     didi_grna_1 141        35477       2330           69          \n",
       "⋮     ⋮         ⋮           ⋮          ⋮           ⋮             ⋮            \n",
       "67957 107p10    didi_mrna_2 124        48178       1              89          \n",
       "67958 107p10    didi_mrna_2 299        48187       1              89          \n",
       "67959 107p10    didi_mrna_2  38        48195       1              89          \n",
       "67960 107p10    didi_mrna_2 183        48197       1              89          \n",
       "67961 107p10    didi_mrna_2 194        48218       1              90          \n",
       "67962 107p10    didi_mrna_2  34        48225       1              91          \n",
       "67963 107p10    didi_mrna_2   5        48251       1              91          \n",
       "67964 107p10    didi_mrna_2 178        48269       1              92          \n",
       "67965 107p10    didi_mrna_2 270        48271       1              92          \n",
       "67966 107p10    didi_mrna_2  14        48280       1              93          \n",
       "67967 107p10    didi_mrna_2 237        48283       1              93          \n",
       "67968 107p10    didi_mrna_2 123        48290       1              93          \n",
       "67969 107p10    didi_mrna_2 124        48291       1              93          \n",
       "67970 107p10    didi_mrna_2 183        48292       1              93          \n",
       "67971 107p10    didi_mrna_2 204        48305       1              94          \n",
       "67972 107p10    didi_mrna_2 306        48307       1              94          \n",
       "67973 107p10    didi_mrna_2 241        48347       1              96          \n",
       "67974 107p10    didi_mrna_2  33        48379       1              97          \n",
       "67975 107p10    didi_mrna_2 244        48384       1              98          \n",
       "67976 107p10    didi_mrna_2 170        48425       1             100          \n",
       "67977 107p10    didi_mrna_2 266        48449       1             102          \n",
       "67978 107p10    didi_mrna_2 270        48494       1             106          \n",
       "67979 107p10    didi_mrna_2   4        48513       1             108          \n",
       "67980 107p10    didi_mrna_2 304        48555       1             114          \n",
       "67981 107p10    didi_mrna_2 294        48567       1             117          \n",
       "67982 107p10    didi_mrna_2 204        48573       1             118          \n",
       "67983 107p10    didi_mrna_2 242        48615       1             131          \n",
       "67984 107p10    didi_mrna_2 242        48621       1             133          \n",
       "67985 107p10    didi_mrna_2 143        48649       1             159          \n",
       "67986 107p10    didi_mrna_2 279        48651       1             171          \n",
       "      library_type linkage_ref    sample_num sample_type replicate\n",
       "1     grna         didi_linkage_1 1          grna        1        \n",
       "2     grna         didi_linkage_1 1          grna        1        \n",
       "3     grna         didi_linkage_1 1          grna        1        \n",
       "4     grna         didi_linkage_1 1          grna        1        \n",
       "5     grna         didi_linkage_1 1          grna        1        \n",
       "6     grna         didi_linkage_1 1          grna        1        \n",
       "7     grna         didi_linkage_1 1          grna        1        \n",
       "8     grna         didi_linkage_1 1          grna        1        \n",
       "9     grna         didi_linkage_1 1          grna        1        \n",
       "10    grna         didi_linkage_1 1          grna        1        \n",
       "11    grna         didi_linkage_1 1          grna        1        \n",
       "12    grna         didi_linkage_1 1          grna        1        \n",
       "13    grna         didi_linkage_1 1          grna        1        \n",
       "14    grna         didi_linkage_1 1          grna        1        \n",
       "15    grna         didi_linkage_1 1          grna        1        \n",
       "16    grna         didi_linkage_1 1          grna        1        \n",
       "17    grna         didi_linkage_1 1          grna        1        \n",
       "18    grna         didi_linkage_1 1          grna        1        \n",
       "19    grna         didi_linkage_1 1          grna        1        \n",
       "20    grna         didi_linkage_1 1          grna        1        \n",
       "21    grna         didi_linkage_1 1          grna        1        \n",
       "22    grna         didi_linkage_1 1          grna        1        \n",
       "23    grna         didi_linkage_1 1          grna        1        \n",
       "24    grna         didi_linkage_1 1          grna        1        \n",
       "25    grna         didi_linkage_1 1          grna        1        \n",
       "26    grna         didi_linkage_1 1          grna        1        \n",
       "27    grna         didi_linkage_1 1          grna        1        \n",
       "28    grna         didi_linkage_1 1          grna        1        \n",
       "29    grna         didi_linkage_1 1          grna        1        \n",
       "30    grna         didi_linkage_1 1          grna        1        \n",
       "⋮     ⋮            ⋮              ⋮          ⋮           ⋮        \n",
       "67957 mrna         didi_linkage_2 4          mrna        2        \n",
       "67958 mrna         didi_linkage_2 4          mrna        2        \n",
       "67959 mrna         didi_linkage_2 4          mrna        2        \n",
       "67960 mrna         didi_linkage_2 4          mrna        2        \n",
       "67961 mrna         didi_linkage_2 4          mrna        2        \n",
       "67962 mrna         didi_linkage_2 4          mrna        2        \n",
       "67963 mrna         didi_linkage_2 4          mrna        2        \n",
       "67964 mrna         didi_linkage_2 4          mrna        2        \n",
       "67965 mrna         didi_linkage_2 4          mrna        2        \n",
       "67966 mrna         didi_linkage_2 4          mrna        2        \n",
       "67967 mrna         didi_linkage_2 4          mrna        2        \n",
       "67968 mrna         didi_linkage_2 4          mrna        2        \n",
       "67969 mrna         didi_linkage_2 4          mrna        2        \n",
       "67970 mrna         didi_linkage_2 4          mrna        2        \n",
       "67971 mrna         didi_linkage_2 4          mrna        2        \n",
       "67972 mrna         didi_linkage_2 4          mrna        2        \n",
       "67973 mrna         didi_linkage_2 4          mrna        2        \n",
       "67974 mrna         didi_linkage_2 4          mrna        2        \n",
       "67975 mrna         didi_linkage_2 4          mrna        2        \n",
       "67976 mrna         didi_linkage_2 4          mrna        2        \n",
       "67977 mrna         didi_linkage_2 4          mrna        2        \n",
       "67978 mrna         didi_linkage_2 4          mrna        2        \n",
       "67979 mrna         didi_linkage_2 4          mrna        2        \n",
       "67980 mrna         didi_linkage_2 4          mrna        2        \n",
       "67981 mrna         didi_linkage_2 4          mrna        2        \n",
       "67982 mrna         didi_linkage_2 4          mrna        2        \n",
       "67983 mrna         didi_linkage_2 4          mrna        2        \n",
       "67984 mrna         didi_linkage_2 4          mrna        2        \n",
       "67985 mrna         didi_linkage_2 4          mrna        2        \n",
       "67986 mrna         didi_linkage_2 4          mrna        2        \n",
       "      seq                                             \n",
       "1     CGTGAACGTGAACGTGAACGTGAACGTGAACGTGAACGTGAATCCGGC\n",
       "2     ATGATGATGATGATGATGATGATGATGATGATGATGATGATGTCCGGC\n",
       "3     TTGATGTTGATGTTGATGTTGATGTTGATGTTGATGTTGATGTCCGGC\n",
       "4     CTCATACTCATACTCATATCCGGCTCCGGCTCCGGCTCCGGCTCCGGC\n",
       "5     CGCCATTTCAGTCGCCATTTCAGTCGCCATTTCAGTCGCCATTTCAGT\n",
       "6     CGTGAACGTGAACGTGAACGTGAACGTGAACGTGAATCCGGCTCCGGC\n",
       "7     AGTTTCAGTTTCAGTTTCAGTTTCTCCGGCTCCGGCTCCGGCTCCGGC\n",
       "8     CGCCATAGTTTCCGCCATAGTTTCCGCCATAGTTTCCGCCATAGTTTC\n",
       "9     TTTTGTTTTTGTTTTTGTTTTTGTTTTTGTTTTTGTTCCGGCTCCGGC\n",
       "10    CGCCATTCCGGCTCCGGCTCCGGCTCCGGCTCCGGCTCCGGCTCCGGC\n",
       "11    AGAGAGAGAGAGAGAGAGAGAGAGAGAGAGAGAGAGAGAGAGAGAGAG\n",
       "12    AGAGAGAGAGAGAGAGAGAGAGAGAGAGAGAGAGAGAGAGAGAGAGAG\n",
       "13    TCCAGAGAGAGAGAGTCCAGAGAGAGAGAGTCCAGAGAGAGAGAGTCC\n",
       "14    TTCAGTTTCAGTAGTTTCAGTTTCTTCAGTTTCAGTAGTTTCAGTTTC\n",
       "15    AGAGAGAGAGAGAGAGAGAGAGAGAGAGAGAGAGAGAGAGAGAGAGAG\n",
       "16    CGCCATCGCCATAGTTTCAGTTTCCGCCATCGCCATAGTTTCAGTTTC\n",
       "17    AGTTTCAGTTTCAGTTTCTCCGGCTCCGGCTCCGGCTCCGGCTCCGGC\n",
       "18    AGTTTCAGTTTCCATCGCCATCGCAGTTTCAGTTTCCATCGCCATCGC\n",
       "19    TCCAGAGAGAGAGAGAGAGAGTCCTCCAGAGAGAGAGAGAGAGAGTCC\n",
       "20    TCCCGCTTCCGCTTCTCCCGCTTCCGCTTCTCCCGCTTCCGCTTCTCC\n",
       "21    CTGTGTCTGTGTCTGTGTCTGTGTCTGTGTCTGTGTCTGTGTCTGTGT\n",
       "22    AGAGAGAGAGAGAGAGAGAGAGAGAGAGAGAGAGAGAGAGAGAGAGAG\n",
       "23    CGCCATCGCCATCGCCATCGCCATAAAGTCAAAGTCAAAGTCAAAGTC\n",
       "24    GTCATGGTCATGGTCATGGTCATGGTCATGGTCATGTCCGGCTCCGGC\n",
       "25    AGAGAGAGAGAGAGAGAGAGAGAGAGAGAGAGAGAGAGAGAGTCCGGC\n",
       "26    TTGATGTTGATGTTGATGTTGATGTTGATGTTGATGTTGATGTTGATG\n",
       "27    CATCGCAAAGTCCATCGCAAAGTCCATCGCAAAGTCCATCGCAAAGTC\n",
       "28    AGAGAGAGAGAGAGAGAGAGAGAGAGAGAGAGAGAGTCCGGCTCCGGC\n",
       "29    GTCAAAGTCAAACATCGCCATCGCGTCAAAGTCAAACATCGCCATCGC\n",
       "30    TACAAGTACAAGTACAAGTACAAGTACAAGTACAAGTCCGGCTCCGGC\n",
       "⋮     ⋮                                               \n",
       "67957 GTCAAAGTCAAAGTCAAAGTCAAAGTCAAATCCGGCTCCGGCTCCGGC\n",
       "67958 TCCGGACTCTCCGGACTCTCCGGACTCTCCGGACTCTCCGGACTCTCC\n",
       "67959 AGTTTCAGTTTCAGTTTCAGTTTCAGTTTCAGTTTCAGTTTCTCCGGC\n",
       "67960 AAAGTCAAAGTCTTCAGTTTCAGTAAAGTCAAAGTCTTCAGTTTCAGT\n",
       "67961 AGTTTCGTCAAAAGTTTCGTCAAAAGTTTCGTCAAAAGTTTCGTCAAA\n",
       "67962 AGTTTCAGTTTCAGTTTCTCCGGCTCCGGCTCCGGCTCCGGCTCCGGC\n",
       "67963 AAGATCAAGATCAAGATCAAGATCAAGATCAAGATCTCCGGCTCCGGC\n",
       "67964 AAAGTCAAAGTCAAAGTCAAAGTCCGCCATCGCCATCGCCATCGCCAT\n",
       "67965 TCCAAGTTCAAGTTCTCCAAGTTCAAGTTCTCCAAGTTCAAGTTCTCC\n",
       "67966 AAGTTCAAGTTCAAGTTCAAGTTCAAGTTCAAGTTCAAGTTCTCCGGC\n",
       "67967 GTCAAAGTCAAACATCGCCATCGCGTCAAAGTCAAACATCGCCATCGC\n",
       "67968 GTCAAAGTCAAAGTCAAAGTCAAATCCGGCTCCGGCTCCGGCTCCGGC\n",
       "67969 GTCAAAGTCAAAGTCAAAGTCAAAGTCAAATCCGGCTCCGGCTCCGGC\n",
       "67970 AAAGTCAAAGTCTTCAGTTTCAGTAAAGTCAAAGTCTTCAGTTTCAGT\n",
       "67971 CATCGCCATCGCAGTTTCAGTTTCCATCGCCATCGCAGTTTCAGTTTC\n",
       "67972 TCCTACAAGTACAAGTCCTACAAGTACAAGTCCTACAAGTACAAGTCC\n",
       "67973 GTCAAAGTCAAAGTCAAAGTCAAACGCCATCGCCATCGCCATCGCCAT\n",
       "67974 AGTTTCAGTTTCTCCGGCTCCGGCTCCGGCTCCGGCTCCGGCTCCGGC\n",
       "67975 GTCAAAGTCAAAGTCAAAGTCAAATTCAGTTTCAGTTTCAGTTTCAGT\n",
       "67976 AAAGTCAGTTTCAAAGTCAGTTTCAAAGTCAGTTTCAAAGTCAGTTTC\n",
       "67977 TCCAAGTACTCCAAGTACTCCAAGTACTCCAAGTACTCCAAGTACTCC\n",
       "67978 TCCAAGTTCAAGTTCTCCAAGTTCAAGTTCTCCAAGTTCAAGTTCTCC\n",
       "67979 AAGATCAAGATCAAGATCAAGATCAAGATCTCCGGCTCCGGCTCCGGC\n",
       "67980 TCCGTCAAAGTCAAAGTCAAATCCTCCGTCAAAGTCAAAGTCAAATCC\n",
       "67981 TCCCTCGGACTCGGATCCCTCGGACTCGGATCCCTCGGACTCGGATCC\n",
       "67982 CATCGCCATCGCAGTTTCAGTTTCCATCGCCATCGCAGTTTCAGTTTC\n",
       "67983 GTCAAATTCAGTGTCAAATTCAGTGTCAAATTCAGTGTCAAATTCAGT\n",
       "67984 GTCAAATTCAGTGTCAAATTCAGTGTCAAATTCAGTGTCAAATTCAGT\n",
       "67985 TACAAGTACAAGTACAAGTACAAGTACAAGTACAAGTACAAGTACAAG\n",
       "67986 TCCATCAAGATCAAGTCCATCAAGATCAAGTCCATCAAGATCAAGTCC\n",
       "      insert_name                     \n",
       "1     varydicodonrepeatlength_CGTGAA_7\n",
       "2     varydicodonrepeatlength_ATGATG_7\n",
       "3     varydicodonrepeatlength_TTGATG_7\n",
       "4     varydicodonrepeatlength_CTCATA_3\n",
       "5     mixdicodons_CGCCAT_TTCAGT_1     \n",
       "6     varydicodonrepeatlength_CGTGAA_6\n",
       "7     varydicodonrepeatlength_AGTTTC_4\n",
       "8     mixdicodons_CGCCAT_AGTTTC_1     \n",
       "9     varydicodonrepeatlength_TTTTGT_6\n",
       "10    varydicodonrepeatlength_CGCCAT_1\n",
       "11    varydicodonrepeatlength_AGAGAG_8\n",
       "12    varydicodonrepeatlength_AGAGAG_8\n",
       "13    reorderdicodon_AGAGAG_2         \n",
       "14    mixdicodons_TTCAGT_AGTTTC_2     \n",
       "15    varydicodonrepeatlength_AGAGAG_8\n",
       "16    mixdicodons_CGCCAT_AGTTTC_2     \n",
       "17    varydicodonrepeatlength_AGTTTC_3\n",
       "18    mixdicodons_AGTTTC_CATCGC_2     \n",
       "19    reorderdicodon_AGAGAG_3         \n",
       "20    reorderdicodon_CGCTTC_2         \n",
       "21    varydicodonrepeatlength_CTGTGT_8\n",
       "22    varydicodonrepeatlength_AGAGAG_8\n",
       "23    mixdicodons_CGCCAT_AAAGTC_4     \n",
       "24    varydicodonrepeatlength_GTCATG_6\n",
       "25    varydicodonrepeatlength_AGAGAG_7\n",
       "26    varydicodonrepeatlength_TTGATG_8\n",
       "27    mixdicodons_CATCGC_AAAGTC_1     \n",
       "28    varydicodonrepeatlength_AGAGAG_6\n",
       "29    mixdicodons_GTCAAA_CATCGC_2     \n",
       "30    varydicodonrepeatlength_TACAAG_6\n",
       "⋮     ⋮                               \n",
       "67957 varydicodonrepeatlength_GTCAAA_5\n",
       "67958 reorderdicodon_GGACTC_1         \n",
       "67959 varydicodonrepeatlength_AGTTTC_7\n",
       "67960 mixdicodons_AAAGTC_TTCAGT_2     \n",
       "67961 mixdicodons_AGTTTC_GTCAAA_1     \n",
       "67962 varydicodonrepeatlength_AGTTTC_3\n",
       "67963 varydicodonrepeatlength_AAGATC_6\n",
       "67964 mixdicodons_AAAGTC_CGCCAT_4     \n",
       "67965 reorderdicodon_AAGTTC_2         \n",
       "67966 varydicodonrepeatlength_AAGTTC_7\n",
       "67967 mixdicodons_GTCAAA_CATCGC_2     \n",
       "67968 varydicodonrepeatlength_GTCAAA_4\n",
       "67969 varydicodonrepeatlength_GTCAAA_5\n",
       "67970 mixdicodons_AAAGTC_TTCAGT_2     \n",
       "67971 mixdicodons_CATCGC_AGTTTC_2     \n",
       "67972 reorderdicodon_TACAAG_2         \n",
       "67973 mixdicodons_GTCAAA_CGCCAT_4     \n",
       "67974 varydicodonrepeatlength_AGTTTC_2\n",
       "67975 mixdicodons_GTCAAA_TTCAGT_4     \n",
       "67976 mixdicodons_AAAGTC_AGTTTC_1     \n",
       "67977 reorderdicodon_AAGTAC_1         \n",
       "67978 reorderdicodon_AAGTTC_2         \n",
       "67979 varydicodonrepeatlength_AAGATC_5\n",
       "67980 reorderdicodon_GTCAAA_3         \n",
       "67981 reorderdicodon_CTCGGA_2         \n",
       "67982 mixdicodons_CATCGC_AGTTTC_2     \n",
       "67983 mixdicodons_GTCAAA_TTCAGT_1     \n",
       "67984 mixdicodons_GTCAAA_TTCAGT_1     \n",
       "67985 varydicodonrepeatlength_TACAAG_8\n",
       "67986 reorderdicodon_ATCAAG_2         "
      ]
     },
     "metadata": {},
     "output_type": "display_data"
    }
   ],
   "source": [
    "counts <- barcode_counts %>% \n",
    "  left_join(replicate_annotations, by  = \"sample_name\") %>% \n",
    "  left_join(insert_annotations, by = \"insert_num\") %>% \n",
    "  print()\n",
    "\n",
    "counts"
   ]
  },
  {
   "cell_type": "markdown",
   "metadata": {},
   "source": [
    "### Plot correlation between mRNA and gDNA counts for all inserts in both samples\n"
   ]
  },
  {
   "cell_type": "code",
   "execution_count": 52,
   "metadata": {
    "vscode": {
     "languageId": "r"
    }
   },
   "outputs": [
    {
     "name": "stderr",
     "output_type": "stream",
     "text": [
      "`summarise()` has grouped output by 'insert_num'. You can override using the `.groups` argument.\n"
     ]
    },
    {
     "data": {
      "image/png": "[encoded data removed]",
      "text/plain": [
       "plot without title"
      ]
     },
     "metadata": {
      "image/png": {
       "height": 120,
       "width": 240
      }
     },
     "output_type": "display_data"
    }
   ],
   "source": [
    "options(repr.plot.width=4, repr.plot.height=2)\n",
    "\n",
    "counts %>% \n",
    "  select(barcode_num, sample_type, replicate, barcode_count, insert_num) %>%\n",
    "  pivot_wider(names_from = sample_type, values_from = barcode_count) %>%\n",
    "  drop_na() %>%\n",
    "  filter(grna > 100, mrna > 100) %>% \n",
    "  group_by(insert_num, replicate) %>%\n",
    "  arrange(-(grna + mrna)) %>%\n",
    "  # This selects the number of barcodes for each sample\n",
    "  # slice(1:3) %>%\n",
    "  summarize(grna = sum(grna), mrna = sum(mrna)) %>% \n",
    "  ungroup() %>%\n",
    "  arrange(insert_num, replicate) %>%\n",
    "  ggplot(aes(x = grna, y = mrna)) +\n",
    "  facet_wrap(~ replicate) +\n",
    "  geom_point(alpha = 0.2) +\n",
    "  scale_x_log10() +\n",
    "  scale_y_log10() +\n",
    "  theme_bw()"
   ]
  },
  {
   "cell_type": "markdown",
   "metadata": {},
   "source": [
    "## Function for bootstrap mRNA levels"
   ]
  },
  {
   "cell_type": "code",
   "execution_count": 53,
   "metadata": {
    "vscode": {
     "languageId": "r"
    }
   },
   "outputs": [],
   "source": [
    "calc_lfc_bootstrap <- function(data, indices) {\n",
    "  d <- data[indices,]\n",
    "  log2(sum(d$mrna)) - log2(sum(d$grna))\n",
    "}"
   ]
  },
  {
   "cell_type": "markdown",
   "metadata": {},
   "source": [
    "## Calculate mRNA levels for each insert\n",
    "\n",
    "- Calculate lfc and standard deviation using the bootstrapping function above"
   ]
  },
  {
   "cell_type": "code",
   "execution_count": 54,
   "metadata": {
    "vscode": {
     "languageId": "r"
    }
   },
   "outputs": [
    {
     "name": "stdout",
     "output_type": "stream",
     "text": [
      "\u001b[90m# A tibble: 634 × 4\u001b[39m\n",
      "   replicate insert_num     lfc lfc_sd\n",
      "       \u001b[3m\u001b[90m<dbl>\u001b[39m\u001b[23m      \u001b[3m\u001b[90m<dbl>\u001b[39m\u001b[23m   \u001b[3m\u001b[90m<dbl>\u001b[39m\u001b[23m  \u001b[3m\u001b[90m<dbl>\u001b[39m\u001b[23m\n",
      "\u001b[90m 1\u001b[39m         1         86 -\u001b[31m0\u001b[39m\u001b[31m.\u001b[39m\u001b[31m181\u001b[39m   0.305\n",
      "\u001b[90m 2\u001b[39m         1         54  0.076\u001b[4m7\u001b[24m  0.558\n",
      "\u001b[90m 3\u001b[39m         1        150  0.806   0.377\n",
      "\u001b[90m 4\u001b[39m         1         90 -\u001b[31m0\u001b[39m\u001b[31m.\u001b[39m\u001b[31m127\u001b[39m   0.464\n",
      "\u001b[90m 5\u001b[39m         1        227  0.178   0.489\n",
      "\u001b[90m 6\u001b[39m         1         85  0.340   0.299\n",
      "\u001b[90m 7\u001b[39m         1         35  0.190   0.293\n",
      "\u001b[90m 8\u001b[39m         1        218  0.222   0.596\n",
      "\u001b[90m 9\u001b[39m         1        165  0.656   0.415\n",
      "\u001b[90m10\u001b[39m         1         64  0.322   0.436\n",
      "\u001b[90m# … with 624 more rows\u001b[39m\n"
     ]
    }
   ],
   "source": [
    "lfc <- counts %>% \n",
    "  select(barcode_num, sample_type, replicate, barcode_count, insert_num) %>% \n",
    "  pivot_wider(names_from = sample_type, values_from = barcode_count) %>%\n",
    "  drop_na() %>%\n",
    "  group_by(insert_num, replicate) %>% \n",
    "  nest() %>%\n",
    "\n",
    "  mutate(lfc_boot = map(data, function(df) boot::boot(data=df, statistic=calc_lfc_bootstrap, R=100)$t)) %>% \n",
    "\n",
    "  select(-data) %>%\n",
    "  mutate(lfc = map_dbl(lfc_boot, mean)) %>%\n",
    "  mutate(lfc_sd = map_dbl(lfc_boot, sd)) %>%\n",
    "  select(-lfc_boot) %>%\n",
    "  group_by(replicate) %>%\n",
    "  mutate(lfc = lfc - median(lfc)) %>%\n",
    "  ungroup() %>%\n",
    "  print()\n"
   ]
  },
  {
   "cell_type": "markdown",
   "metadata": {},
   "source": [
    "## Compare insert mRNA level effects of the two replicates"
   ]
  },
  {
   "cell_type": "code",
   "execution_count": 55,
   "metadata": {
    "vscode": {
     "languageId": "r"
    }
   },
   "outputs": [
    {
     "name": "stdout",
     "output_type": "stream",
     "text": [
      "\u001b[90m# A tibble: 317 × 3\u001b[39m\n",
      "   insert_num   lfc_1   lfc_2\n",
      "        \u001b[3m\u001b[90m<dbl>\u001b[39m\u001b[23m   \u001b[3m\u001b[90m<dbl>\u001b[39m\u001b[23m   \u001b[3m\u001b[90m<dbl>\u001b[39m\u001b[23m\n",
      "\u001b[90m 1\u001b[39m         86 -\u001b[31m0\u001b[39m\u001b[31m.\u001b[39m\u001b[31m181\u001b[39m   0.197 \n",
      "\u001b[90m 2\u001b[39m         54  0.076\u001b[4m7\u001b[24m  1.42  \n",
      "\u001b[90m 3\u001b[39m        150  0.806   0.344 \n",
      "\u001b[90m 4\u001b[39m         90 -\u001b[31m0\u001b[39m\u001b[31m.\u001b[39m\u001b[31m127\u001b[39m   1.14  \n",
      "\u001b[90m 5\u001b[39m        227  0.178   0.148 \n",
      "\u001b[90m 6\u001b[39m         85  0.340  -\u001b[31m0\u001b[39m\u001b[31m.\u001b[39m\u001b[31m718\u001b[39m \n",
      "\u001b[90m 7\u001b[39m         35  0.190  -\u001b[31m0\u001b[39m\u001b[31m.\u001b[39m\u001b[31m516\u001b[39m \n",
      "\u001b[90m 8\u001b[39m        218  0.222   0.094\u001b[4m5\u001b[24m\n",
      "\u001b[90m 9\u001b[39m        165  0.656   0.223 \n",
      "\u001b[90m10\u001b[39m         64  0.322   0.562 \n",
      "\u001b[90m# … with 307 more rows\u001b[39m\n"
     ]
    },
    {
     "data": {
      "image/png": "[encoded data removed]",
      "text/plain": [
       "plot without title"
      ]
     },
     "metadata": {
      "image/png": {
       "height": 120,
       "width": 120
      }
     },
     "output_type": "display_data"
    }
   ],
   "source": [
    "options(repr.plot.width=2, repr.plot.height=2)\n",
    "\n",
    "plot_data <- lfc %>% \n",
    "  select(insert_num, replicate, lfc) %>% \n",
    "  pivot_wider(names_from = replicate, values_from = lfc, names_prefix = \"lfc_\") %>%\n",
    "  print()\n",
    "\n",
    "plot_data %>% \n",
    "  ggplot(aes(x = lfc_1, y = lfc_2)) +\n",
    "  geom_point(alpha = 0.5, shape = 16, size = 2)  +\n",
    "  geom_abline(slope = 1, linetype = \"dotted\", alpha = 0.5) +\n",
    "  labs(x = \"Rep 1 mRNA level (log2)\", y = \"Rep 2 mRNA level (log2)\",\n",
    "       title = \"Individual di-di inserts\") +\n",
    "  theme_bw() "
   ]
  },
  {
   "cell_type": "markdown",
   "metadata": {},
   "source": [
    "## Which inserts have lowest mRNA levels?"
   ]
  },
  {
   "cell_type": "code",
   "execution_count": 56,
   "metadata": {
    "vscode": {
     "languageId": "r"
    }
   },
   "outputs": [
    {
     "data": {
      "text/html": [
       "<table class=\"dataframe\">\n",
       "<caption>A tibble: 634 × 7</caption>\n",
       "<thead>\n",
       "\t<tr><th scope=col>replicate</th><th scope=col>lfc</th><th scope=col>lfc_sd</th><th scope=col>seq</th><th scope=col>insert_name</th><th scope=col>mean_lfc</th><th scope=col>insert</th></tr>\n",
       "\t<tr><th scope=col>&lt;dbl&gt;</th><th scope=col>&lt;dbl&gt;</th><th scope=col>&lt;dbl&gt;</th><th scope=col>&lt;chr&gt;</th><th scope=col>&lt;chr&gt;</th><th scope=col>&lt;dbl&gt;</th><th scope=col>&lt;chr&gt;</th></tr>\n",
       "</thead>\n",
       "<tbody>\n",
       "\t<tr><td>1</td><td>-4.081506</td><td>1.08335322</td><td>CGCCATCGCCATCGCCATCGCCATCGCCATCGCCATCGCCATCGCCAT</td><td>varydicodonrepeatlength_CGCCAT_8</td><td>-5.422316</td><td>RHRHRHRHRHRHRHRH</td></tr>\n",
       "\t<tr><td>2</td><td>-6.763126</td><td>1.05579232</td><td>CGCCATCGCCATCGCCATCGCCATCGCCATCGCCATCGCCATCGCCAT</td><td>varydicodonrepeatlength_CGCCAT_8</td><td>-5.422316</td><td>RHRHRHRHRHRHRHRH</td></tr>\n",
       "\t<tr><td>1</td><td>-8.992351</td><td>0.00000000</td><td>TAATGATAATGATAATGATAATGATAATGATAATGATAATGATAATGA</td><td>stop_control                    </td><td>-5.378349</td><td>****************</td></tr>\n",
       "\t<tr><td>2</td><td>-1.764348</td><td>0.08555056</td><td>TAATGATAATGATAATGATAATGATAATGATAATGATAATGATAATGA</td><td>stop_control                    </td><td>-5.378349</td><td>****************</td></tr>\n",
       "\t<tr><td>1</td><td>-5.951838</td><td>1.70309417</td><td>TACAAGTACAAGTACAAGTACAAGTACAAGTACAAGTCCGGCTCCGGC</td><td>varydicodonrepeatlength_TACAAG_6</td><td>-5.043216</td><td>YKYKYKYKYKYKSGSG</td></tr>\n",
       "\t<tr><td>2</td><td>-4.134594</td><td>1.32528425</td><td>TACAAGTACAAGTACAAGTACAAGTACAAGTACAAGTCCGGCTCCGGC</td><td>varydicodonrepeatlength_TACAAG_6</td><td>-5.043216</td><td>YKYKYKYKYKYKSGSG</td></tr>\n",
       "\t<tr><td>1</td><td>-2.948867</td><td>1.24332547</td><td>AAGATCAAGATCAAGATCAAGATCAAGATCAAGATCAAGATCAAGATC</td><td>varydicodonrepeatlength_AAGATC_8</td><td>-4.774230</td><td>KIKIKIKIKIKIKIKI</td></tr>\n",
       "\t<tr><td>2</td><td>-6.599594</td><td>1.69868632</td><td>AAGATCAAGATCAAGATCAAGATCAAGATCAAGATCAAGATCAAGATC</td><td>varydicodonrepeatlength_AAGATC_8</td><td>-4.774230</td><td>KIKIKIKIKIKIKIKI</td></tr>\n",
       "\t<tr><td>1</td><td>-3.395448</td><td>0.66086561</td><td>TACAAGTACAAGTACAAGTACAAGTACAAGTACAAGTACAAGTACAAG</td><td>varydicodonrepeatlength_TACAAG_8</td><td>-4.569377</td><td>YKYKYKYKYKYKYKYK</td></tr>\n",
       "\t<tr><td>2</td><td>-5.743306</td><td>0.89287110</td><td>TACAAGTACAAGTACAAGTACAAGTACAAGTACAAGTACAAGTACAAG</td><td>varydicodonrepeatlength_TACAAG_8</td><td>-4.569377</td><td>YKYKYKYKYKYKYKYK</td></tr>\n",
       "\t<tr><td>1</td><td>-2.823431</td><td>0.59283385</td><td>GTCAAAGTCAAAGTCAAAGTCAAAAGTTTCAGTTTCAGTTTCAGTTTC</td><td>mixdicodons_GTCAAA_AGTTTC_4     </td><td>-4.406887</td><td>VKVKVKVKSFSFSFSF</td></tr>\n",
       "\t<tr><td>2</td><td>-5.990343</td><td>1.39056346</td><td>GTCAAAGTCAAAGTCAAAGTCAAAAGTTTCAGTTTCAGTTTCAGTTTC</td><td>mixdicodons_GTCAAA_AGTTTC_4     </td><td>-4.406887</td><td>VKVKVKVKSFSFSFSF</td></tr>\n",
       "\t<tr><td>1</td><td>-4.430590</td><td>0.96175840</td><td>TTCAGTGTCAAATTCAGTGTCAAATTCAGTGTCAAATTCAGTGTCAAA</td><td>mixdicodons_TTCAGT_GTCAAA_1     </td><td>-4.305014</td><td>FSVKFSVKFSVKFSVK</td></tr>\n",
       "\t<tr><td>2</td><td>-4.179438</td><td>0.81115407</td><td>TTCAGTGTCAAATTCAGTGTCAAATTCAGTGTCAAATTCAGTGTCAAA</td><td>mixdicodons_TTCAGT_GTCAAA_1     </td><td>-4.305014</td><td>FSVKFSVKFSVKFSVK</td></tr>\n",
       "\t<tr><td>1</td><td>-2.969561</td><td>0.61678205</td><td>CGCCATCGCCATCGCCATCGCCATCGCCATCGCCATCGCCATTCCGGC</td><td>varydicodonrepeatlength_CGCCAT_7</td><td>-4.213211</td><td>RHRHRHRHRHRHRHSG</td></tr>\n",
       "\t<tr><td>2</td><td>-5.456862</td><td>1.85534183</td><td>CGCCATCGCCATCGCCATCGCCATCGCCATCGCCATCGCCATTCCGGC</td><td>varydicodonrepeatlength_CGCCAT_7</td><td>-4.213211</td><td>RHRHRHRHRHRHRHSG</td></tr>\n",
       "\t<tr><td>1</td><td>-2.706758</td><td>1.70277922</td><td>GTCAAAGTCAAAGTCAAAGTCAAAGTCAAAGTCAAATCCGGCTCCGGC</td><td>varydicodonrepeatlength_GTCAAA_6</td><td>-4.026033</td><td>VKVKVKVKVKVKSGSG</td></tr>\n",
       "\t<tr><td>2</td><td>-5.345308</td><td>1.60745502</td><td>GTCAAAGTCAAAGTCAAAGTCAAAGTCAAAGTCAAATCCGGCTCCGGC</td><td>varydicodonrepeatlength_GTCAAA_6</td><td>-4.026033</td><td>VKVKVKVKVKVKSGSG</td></tr>\n",
       "\t<tr><td>1</td><td>-2.845657</td><td>0.73752987</td><td>TACAAGTACAAGTACAAGTACAAGTACAAGTACAAGTACAAGTCCGGC</td><td>varydicodonrepeatlength_TACAAG_7</td><td>-3.928705</td><td>YKYKYKYKYKYKYKSG</td></tr>\n",
       "\t<tr><td>2</td><td>-5.011754</td><td>1.26923225</td><td>TACAAGTACAAGTACAAGTACAAGTACAAGTACAAGTACAAGTCCGGC</td><td>varydicodonrepeatlength_TACAAG_7</td><td>-3.928705</td><td>YKYKYKYKYKYKYKSG</td></tr>\n",
       "\t<tr><td>1</td><td>-3.226583</td><td>0.66312383</td><td>GTCAAAGTCAAAGTCAAAGTCAAAGTCAAAGTCAAAGTCAAATCCGGC</td><td>varydicodonrepeatlength_GTCAAA_7</td><td>-3.893807</td><td>VKVKVKVKVKVKVKSG</td></tr>\n",
       "\t<tr><td>2</td><td>-4.561031</td><td>1.84162144</td><td>GTCAAAGTCAAAGTCAAAGTCAAAGTCAAAGTCAAAGTCAAATCCGGC</td><td>varydicodonrepeatlength_GTCAAA_7</td><td>-3.893807</td><td>VKVKVKVKVKVKVKSG</td></tr>\n",
       "\t<tr><td>1</td><td>-3.333634</td><td>0.50507054</td><td>TTCAGTTTCAGTTTCAGTTTCAGTAAAGTCAAAGTCAAAGTCAAAGTC</td><td>mixdicodons_TTCAGT_AAAGTC_4     </td><td>-3.846617</td><td>FSFSFSFSKVKVKVKV</td></tr>\n",
       "\t<tr><td>2</td><td>-4.359600</td><td>0.70179221</td><td>TTCAGTTTCAGTTTCAGTTTCAGTAAAGTCAAAGTCAAAGTCAAAGTC</td><td>mixdicodons_TTCAGT_AAAGTC_4     </td><td>-3.846617</td><td>FSFSFSFSKVKVKVKV</td></tr>\n",
       "\t<tr><td>1</td><td>-3.956408</td><td>0.63668158</td><td>GTCAAATTCAGTGTCAAATTCAGTGTCAAATTCAGTGTCAAATTCAGT</td><td>mixdicodons_GTCAAA_TTCAGT_1     </td><td>-3.839672</td><td>VKFSVKFSVKFSVKFS</td></tr>\n",
       "\t<tr><td>2</td><td>-3.722937</td><td>1.27854342</td><td>GTCAAATTCAGTGTCAAATTCAGTGTCAAATTCAGTGTCAAATTCAGT</td><td>mixdicodons_GTCAAA_TTCAGT_1     </td><td>-3.839672</td><td>VKFSVKFSVKFSVKFS</td></tr>\n",
       "\t<tr><td>1</td><td>-4.338562</td><td>0.78095119</td><td>AGTTTCAAAGTCAGTTTCAAAGTCAGTTTCAAAGTCAGTTTCAAAGTC</td><td>mixdicodons_AGTTTC_AAAGTC_1     </td><td>-3.808457</td><td>SFKVSFKVSFKVSFKV</td></tr>\n",
       "\t<tr><td>2</td><td>-3.278352</td><td>0.62603752</td><td>AGTTTCAAAGTCAGTTTCAAAGTCAGTTTCAAAGTCAGTTTCAAAGTC</td><td>mixdicodons_AGTTTC_AAAGTC_1     </td><td>-3.808457</td><td>SFKVSFKVSFKVSFKV</td></tr>\n",
       "\t<tr><td>1</td><td>-4.141580</td><td>1.52999623</td><td>AAAGTCAGTTTCAAAGTCAGTTTCAAAGTCAGTTTCAAAGTCAGTTTC</td><td>mixdicodons_AAAGTC_AGTTTC_1     </td><td>-3.693712</td><td>KVSFKVSFKVSFKVSF</td></tr>\n",
       "\t<tr><td>2</td><td>-3.245843</td><td>0.71892618</td><td>AAAGTCAGTTTCAAAGTCAGTTTCAAAGTCAGTTTCAAAGTCAGTTTC</td><td>mixdicodons_AAAGTC_AGTTTC_1     </td><td>-3.693712</td><td>KVSFKVSFKVSFKVSF</td></tr>\n",
       "\t<tr><td>⋮</td><td>⋮</td><td>⋮</td><td>⋮</td><td>⋮</td><td>⋮</td><td>⋮</td></tr>\n",
       "\t<tr><td>1</td><td>1.0525484</td><td>0.9917532</td><td>GTCATGGTCATGGTCATGGTCATGGTCATGGTCATGTCCGGCTCCGGC</td><td>varydicodonrepeatlength_GTCATG_6</td><td>1.068925</td><td>VMVMVMVMVMVMSGSG</td></tr>\n",
       "\t<tr><td>2</td><td>1.0853026</td><td>0.6536220</td><td>GTCATGGTCATGGTCATGGTCATGGTCATGGTCATGTCCGGCTCCGGC</td><td>varydicodonrepeatlength_GTCATG_6</td><td>1.068925</td><td>VMVMVMVMVMVMSGSG</td></tr>\n",
       "\t<tr><td>1</td><td>1.5198687</td><td>0.3997140</td><td>TTGATGTTGATGTTGATGTCCGGCTCCGGCTCCGGCTCCGGCTCCGGC</td><td>varydicodonrepeatlength_TTGATG_3</td><td>1.076992</td><td>LMLMLMSGSGSGSGSG</td></tr>\n",
       "\t<tr><td>2</td><td>0.6341147</td><td>0.3294015</td><td>TTGATGTTGATGTTGATGTCCGGCTCCGGCTCCGGCTCCGGCTCCGGC</td><td>varydicodonrepeatlength_TTGATG_3</td><td>1.076992</td><td>LMLMLMSGSGSGSGSG</td></tr>\n",
       "\t<tr><td>1</td><td>1.2914989</td><td>0.2680118</td><td>TCCATCATCATCATCATCATCTCCTCCATCATCATCATCATCATCTCC</td><td>reorderdicodon_ATCATC_3         </td><td>1.108177</td><td>SIIIIIISSIIIIIIS</td></tr>\n",
       "\t<tr><td>2</td><td>0.9248542</td><td>0.3001503</td><td>TCCATCATCATCATCATCATCTCCTCCATCATCATCATCATCATCTCC</td><td>reorderdicodon_ATCATC_3         </td><td>1.108177</td><td>SIIIIIISSIIIIIIS</td></tr>\n",
       "\t<tr><td>1</td><td>1.2647234</td><td>0.3136748</td><td>TCCATCATCATCATCTCCATCATCATCATCTCCATCATCATCATCTCC</td><td>reorderdicodon_ATCATC_2         </td><td>1.115041</td><td>SIIIISIIIISIIIIS</td></tr>\n",
       "\t<tr><td>2</td><td>0.9653579</td><td>0.2817325</td><td>TCCATCATCATCATCTCCATCATCATCATCTCCATCATCATCATCTCC</td><td>reorderdicodon_ATCATC_2         </td><td>1.115041</td><td>SIIIISIIIISIIIIS</td></tr>\n",
       "\t<tr><td>1</td><td>1.1124884</td><td>0.2753681</td><td>CGTGAACGTGAATCCGGCTCCGGCTCCGGCTCCGGCTCCGGCTCCGGC</td><td>varydicodonrepeatlength_CGTGAA_2</td><td>1.157267</td><td>RERESGSGSGSGSGSG</td></tr>\n",
       "\t<tr><td>2</td><td>1.2020462</td><td>0.4661644</td><td>CGTGAACGTGAATCCGGCTCCGGCTCCGGCTCCGGCTCCGGCTCCGGC</td><td>varydicodonrepeatlength_CGTGAA_2</td><td>1.157267</td><td>RERESGSGSGSGSGSG</td></tr>\n",
       "\t<tr><td>1</td><td>1.0144546</td><td>0.3864546</td><td>AGTTTCTCCGGCTCCGGCTCCGGCTCCGGCTCCGGCTCCGGCTCCGGC</td><td>varydicodonrepeatlength_AGTTTC_1</td><td>1.159286</td><td>SFSGSGSGSGSGSGSG</td></tr>\n",
       "\t<tr><td>2</td><td>1.3041179</td><td>0.3171168</td><td>AGTTTCTCCGGCTCCGGCTCCGGCTCCGGCTCCGGCTCCGGCTCCGGC</td><td>varydicodonrepeatlength_AGTTTC_1</td><td>1.159286</td><td>SFSGSGSGSGSGSGSG</td></tr>\n",
       "\t<tr><td>1</td><td>1.6883297</td><td>0.5198920</td><td>GTCATGGTCATGGTCATGGTCATGGTCATGGTCATGGTCATGGTCATG</td><td>varydicodonrepeatlength_GTCATG_8</td><td>1.182725</td><td>VMVMVMVMVMVMVMVM</td></tr>\n",
       "\t<tr><td>2</td><td>0.6771205</td><td>0.5042255</td><td>GTCATGGTCATGGTCATGGTCATGGTCATGGTCATGGTCATGGTCATG</td><td>varydicodonrepeatlength_GTCATG_8</td><td>1.182725</td><td>VMVMVMVMVMVMVMVM</td></tr>\n",
       "\t<tr><td>1</td><td>1.3819216</td><td>0.2549431</td><td>CGTGAACGTGAACGTGAACGTGAATCCGGCTCCGGCTCCGGCTCCGGC</td><td>varydicodonrepeatlength_CGTGAA_4</td><td>1.225231</td><td>RERERERESGSGSGSG</td></tr>\n",
       "\t<tr><td>2</td><td>1.0685397</td><td>0.3230722</td><td>CGTGAACGTGAACGTGAACGTGAATCCGGCTCCGGCTCCGGCTCCGGC</td><td>varydicodonrepeatlength_CGTGAA_4</td><td>1.225231</td><td>RERERERESGSGSGSG</td></tr>\n",
       "\t<tr><td>1</td><td>1.3173631</td><td>0.3384241</td><td>AGTGGCAGTGGCAGTGGCAGTGGCTCCGGCTCCGGCTCCGGCTCCGGC</td><td>varydicodonrepeatlength_AGTGGC_4</td><td>1.238415</td><td>SGSGSGSGSGSGSGSG</td></tr>\n",
       "\t<tr><td>2</td><td>1.1594664</td><td>0.3845965</td><td>AGTGGCAGTGGCAGTGGCAGTGGCTCCGGCTCCGGCTCCGGCTCCGGC</td><td>varydicodonrepeatlength_AGTGGC_4</td><td>1.238415</td><td>SGSGSGSGSGSGSGSG</td></tr>\n",
       "\t<tr><td>1</td><td>1.2649945</td><td>0.4753702</td><td>AGTGGCTCCGGCTCCGGCTCCGGCTCCGGCTCCGGCTCCGGCTCCGGC</td><td>varydicodonrepeatlength_AGTGGC_1</td><td>1.245693</td><td>SGSGSGSGSGSGSGSG</td></tr>\n",
       "\t<tr><td>2</td><td>1.2263906</td><td>0.6530342</td><td>AGTGGCTCCGGCTCCGGCTCCGGCTCCGGCTCCGGCTCCGGCTCCGGC</td><td>varydicodonrepeatlength_AGTGGC_1</td><td>1.245693</td><td>SGSGSGSGSGSGSGSG</td></tr>\n",
       "\t<tr><td>1</td><td>1.5166201</td><td>0.4347708</td><td>GTCATGGTCATGGTCATGGTCATGTCCGGCTCCGGCTCCGGCTCCGGC</td><td>varydicodonrepeatlength_GTCATG_4</td><td>1.334017</td><td>VMVMVMVMSGSGSGSG</td></tr>\n",
       "\t<tr><td>2</td><td>1.1514131</td><td>0.4631772</td><td>GTCATGGTCATGGTCATGGTCATGTCCGGCTCCGGCTCCGGCTCCGGC</td><td>varydicodonrepeatlength_GTCATG_4</td><td>1.334017</td><td>VMVMVMVMSGSGSGSG</td></tr>\n",
       "\t<tr><td>1</td><td>1.6766864</td><td>0.5751766</td><td>TTGATGTTGATGTTGATGTTGATGTTGATGTTGATGTCCGGCTCCGGC</td><td>varydicodonrepeatlength_TTGATG_6</td><td>1.392063</td><td>LMLMLMLMLMLMSGSG</td></tr>\n",
       "\t<tr><td>2</td><td>1.1074395</td><td>0.3688409</td><td>TTGATGTTGATGTTGATGTTGATGTTGATGTTGATGTCCGGCTCCGGC</td><td>varydicodonrepeatlength_TTGATG_6</td><td>1.392063</td><td>LMLMLMLMLMLMSGSG</td></tr>\n",
       "\t<tr><td>1</td><td>1.3537118</td><td>0.4142997</td><td>CCTCCGCCTCCGCCTCCGCCTCCGCCTCCGTCCGGCTCCGGCTCCGGC</td><td>varydicodonrepeatlength_CCTCCG_5</td><td>1.616497</td><td>PPPPPPPPPPSGSGSG</td></tr>\n",
       "\t<tr><td>2</td><td>1.8792826</td><td>0.3649215</td><td>CCTCCGCCTCCGCCTCCGCCTCCGCCTCCGTCCGGCTCCGGCTCCGGC</td><td>varydicodonrepeatlength_CCTCCG_5</td><td>1.616497</td><td>PPPPPPPPPPSGSGSG</td></tr>\n",
       "\t<tr><td>1</td><td>1.0400207</td><td>0.3042838</td><td>CCTCCGCCTCCGCCTCCGCCTCCGCCTCCGCCTCCGTCCGGCTCCGGC</td><td>varydicodonrepeatlength_CCTCCG_6</td><td>1.717557</td><td>PPPPPPPPPPPPSGSG</td></tr>\n",
       "\t<tr><td>2</td><td>2.3950923</td><td>0.5333445</td><td>CCTCCGCCTCCGCCTCCGCCTCCGCCTCCGCCTCCGTCCGGCTCCGGC</td><td>varydicodonrepeatlength_CCTCCG_6</td><td>1.717557</td><td>PPPPPPPPPPPPSGSG</td></tr>\n",
       "\t<tr><td>1</td><td>1.2115204</td><td>0.3570010</td><td>CCTCCGCCTCCGCCTCCGCCTCCGCCTCCGCCTCCGCCTCCGCCTCCG</td><td>varydicodonrepeatlength_CCTCCG_8</td><td>1.720325</td><td>PPPPPPPPPPPPPPPP</td></tr>\n",
       "\t<tr><td>2</td><td>2.2291302</td><td>0.6509482</td><td>CCTCCGCCTCCGCCTCCGCCTCCGCCTCCGCCTCCGCCTCCGCCTCCG</td><td>varydicodonrepeatlength_CCTCCG_8</td><td>1.720325</td><td>PPPPPPPPPPPPPPPP</td></tr>\n",
       "</tbody>\n",
       "</table>\n"
      ],
      "text/latex": [
       "A tibble: 634 × 7\n",
       "\\begin{tabular}{lllllll}\n",
       " replicate & lfc & lfc\\_sd & seq & insert\\_name & mean\\_lfc & insert\\\\\n",
       " <dbl> & <dbl> & <dbl> & <chr> & <chr> & <dbl> & <chr>\\\\\n",
       "\\hline\n",
       "\t 1 & -4.081506 & 1.08335322 & CGCCATCGCCATCGCCATCGCCATCGCCATCGCCATCGCCATCGCCAT & varydicodonrepeatlength\\_CGCCAT\\_8 & -5.422316 & RHRHRHRHRHRHRHRH\\\\\n",
       "\t 2 & -6.763126 & 1.05579232 & CGCCATCGCCATCGCCATCGCCATCGCCATCGCCATCGCCATCGCCAT & varydicodonrepeatlength\\_CGCCAT\\_8 & -5.422316 & RHRHRHRHRHRHRHRH\\\\\n",
       "\t 1 & -8.992351 & 0.00000000 & TAATGATAATGATAATGATAATGATAATGATAATGATAATGATAATGA & stop\\_control                     & -5.378349 & ****************\\\\\n",
       "\t 2 & -1.764348 & 0.08555056 & TAATGATAATGATAATGATAATGATAATGATAATGATAATGATAATGA & stop\\_control                     & -5.378349 & ****************\\\\\n",
       "\t 1 & -5.951838 & 1.70309417 & TACAAGTACAAGTACAAGTACAAGTACAAGTACAAGTCCGGCTCCGGC & varydicodonrepeatlength\\_TACAAG\\_6 & -5.043216 & YKYKYKYKYKYKSGSG\\\\\n",
       "\t 2 & -4.134594 & 1.32528425 & TACAAGTACAAGTACAAGTACAAGTACAAGTACAAGTCCGGCTCCGGC & varydicodonrepeatlength\\_TACAAG\\_6 & -5.043216 & YKYKYKYKYKYKSGSG\\\\\n",
       "\t 1 & -2.948867 & 1.24332547 & AAGATCAAGATCAAGATCAAGATCAAGATCAAGATCAAGATCAAGATC & varydicodonrepeatlength\\_AAGATC\\_8 & -4.774230 & KIKIKIKIKIKIKIKI\\\\\n",
       "\t 2 & -6.599594 & 1.69868632 & AAGATCAAGATCAAGATCAAGATCAAGATCAAGATCAAGATCAAGATC & varydicodonrepeatlength\\_AAGATC\\_8 & -4.774230 & KIKIKIKIKIKIKIKI\\\\\n",
       "\t 1 & -3.395448 & 0.66086561 & TACAAGTACAAGTACAAGTACAAGTACAAGTACAAGTACAAGTACAAG & varydicodonrepeatlength\\_TACAAG\\_8 & -4.569377 & YKYKYKYKYKYKYKYK\\\\\n",
       "\t 2 & -5.743306 & 0.89287110 & TACAAGTACAAGTACAAGTACAAGTACAAGTACAAGTACAAGTACAAG & varydicodonrepeatlength\\_TACAAG\\_8 & -4.569377 & YKYKYKYKYKYKYKYK\\\\\n",
       "\t 1 & -2.823431 & 0.59283385 & GTCAAAGTCAAAGTCAAAGTCAAAAGTTTCAGTTTCAGTTTCAGTTTC & mixdicodons\\_GTCAAA\\_AGTTTC\\_4      & -4.406887 & VKVKVKVKSFSFSFSF\\\\\n",
       "\t 2 & -5.990343 & 1.39056346 & GTCAAAGTCAAAGTCAAAGTCAAAAGTTTCAGTTTCAGTTTCAGTTTC & mixdicodons\\_GTCAAA\\_AGTTTC\\_4      & -4.406887 & VKVKVKVKSFSFSFSF\\\\\n",
       "\t 1 & -4.430590 & 0.96175840 & TTCAGTGTCAAATTCAGTGTCAAATTCAGTGTCAAATTCAGTGTCAAA & mixdicodons\\_TTCAGT\\_GTCAAA\\_1      & -4.305014 & FSVKFSVKFSVKFSVK\\\\\n",
       "\t 2 & -4.179438 & 0.81115407 & TTCAGTGTCAAATTCAGTGTCAAATTCAGTGTCAAATTCAGTGTCAAA & mixdicodons\\_TTCAGT\\_GTCAAA\\_1      & -4.305014 & FSVKFSVKFSVKFSVK\\\\\n",
       "\t 1 & -2.969561 & 0.61678205 & CGCCATCGCCATCGCCATCGCCATCGCCATCGCCATCGCCATTCCGGC & varydicodonrepeatlength\\_CGCCAT\\_7 & -4.213211 & RHRHRHRHRHRHRHSG\\\\\n",
       "\t 2 & -5.456862 & 1.85534183 & CGCCATCGCCATCGCCATCGCCATCGCCATCGCCATCGCCATTCCGGC & varydicodonrepeatlength\\_CGCCAT\\_7 & -4.213211 & RHRHRHRHRHRHRHSG\\\\\n",
       "\t 1 & -2.706758 & 1.70277922 & GTCAAAGTCAAAGTCAAAGTCAAAGTCAAAGTCAAATCCGGCTCCGGC & varydicodonrepeatlength\\_GTCAAA\\_6 & -4.026033 & VKVKVKVKVKVKSGSG\\\\\n",
       "\t 2 & -5.345308 & 1.60745502 & GTCAAAGTCAAAGTCAAAGTCAAAGTCAAAGTCAAATCCGGCTCCGGC & varydicodonrepeatlength\\_GTCAAA\\_6 & -4.026033 & VKVKVKVKVKVKSGSG\\\\\n",
       "\t 1 & -2.845657 & 0.73752987 & TACAAGTACAAGTACAAGTACAAGTACAAGTACAAGTACAAGTCCGGC & varydicodonrepeatlength\\_TACAAG\\_7 & -3.928705 & YKYKYKYKYKYKYKSG\\\\\n",
       "\t 2 & -5.011754 & 1.26923225 & TACAAGTACAAGTACAAGTACAAGTACAAGTACAAGTACAAGTCCGGC & varydicodonrepeatlength\\_TACAAG\\_7 & -3.928705 & YKYKYKYKYKYKYKSG\\\\\n",
       "\t 1 & -3.226583 & 0.66312383 & GTCAAAGTCAAAGTCAAAGTCAAAGTCAAAGTCAAAGTCAAATCCGGC & varydicodonrepeatlength\\_GTCAAA\\_7 & -3.893807 & VKVKVKVKVKVKVKSG\\\\\n",
       "\t 2 & -4.561031 & 1.84162144 & GTCAAAGTCAAAGTCAAAGTCAAAGTCAAAGTCAAAGTCAAATCCGGC & varydicodonrepeatlength\\_GTCAAA\\_7 & -3.893807 & VKVKVKVKVKVKVKSG\\\\\n",
       "\t 1 & -3.333634 & 0.50507054 & TTCAGTTTCAGTTTCAGTTTCAGTAAAGTCAAAGTCAAAGTCAAAGTC & mixdicodons\\_TTCAGT\\_AAAGTC\\_4      & -3.846617 & FSFSFSFSKVKVKVKV\\\\\n",
       "\t 2 & -4.359600 & 0.70179221 & TTCAGTTTCAGTTTCAGTTTCAGTAAAGTCAAAGTCAAAGTCAAAGTC & mixdicodons\\_TTCAGT\\_AAAGTC\\_4      & -3.846617 & FSFSFSFSKVKVKVKV\\\\\n",
       "\t 1 & -3.956408 & 0.63668158 & GTCAAATTCAGTGTCAAATTCAGTGTCAAATTCAGTGTCAAATTCAGT & mixdicodons\\_GTCAAA\\_TTCAGT\\_1      & -3.839672 & VKFSVKFSVKFSVKFS\\\\\n",
       "\t 2 & -3.722937 & 1.27854342 & GTCAAATTCAGTGTCAAATTCAGTGTCAAATTCAGTGTCAAATTCAGT & mixdicodons\\_GTCAAA\\_TTCAGT\\_1      & -3.839672 & VKFSVKFSVKFSVKFS\\\\\n",
       "\t 1 & -4.338562 & 0.78095119 & AGTTTCAAAGTCAGTTTCAAAGTCAGTTTCAAAGTCAGTTTCAAAGTC & mixdicodons\\_AGTTTC\\_AAAGTC\\_1      & -3.808457 & SFKVSFKVSFKVSFKV\\\\\n",
       "\t 2 & -3.278352 & 0.62603752 & AGTTTCAAAGTCAGTTTCAAAGTCAGTTTCAAAGTCAGTTTCAAAGTC & mixdicodons\\_AGTTTC\\_AAAGTC\\_1      & -3.808457 & SFKVSFKVSFKVSFKV\\\\\n",
       "\t 1 & -4.141580 & 1.52999623 & AAAGTCAGTTTCAAAGTCAGTTTCAAAGTCAGTTTCAAAGTCAGTTTC & mixdicodons\\_AAAGTC\\_AGTTTC\\_1      & -3.693712 & KVSFKVSFKVSFKVSF\\\\\n",
       "\t 2 & -3.245843 & 0.71892618 & AAAGTCAGTTTCAAAGTCAGTTTCAAAGTCAGTTTCAAAGTCAGTTTC & mixdicodons\\_AAAGTC\\_AGTTTC\\_1      & -3.693712 & KVSFKVSFKVSFKVSF\\\\\n",
       "\t ⋮ & ⋮ & ⋮ & ⋮ & ⋮ & ⋮ & ⋮\\\\\n",
       "\t 1 & 1.0525484 & 0.9917532 & GTCATGGTCATGGTCATGGTCATGGTCATGGTCATGTCCGGCTCCGGC & varydicodonrepeatlength\\_GTCATG\\_6 & 1.068925 & VMVMVMVMVMVMSGSG\\\\\n",
       "\t 2 & 1.0853026 & 0.6536220 & GTCATGGTCATGGTCATGGTCATGGTCATGGTCATGTCCGGCTCCGGC & varydicodonrepeatlength\\_GTCATG\\_6 & 1.068925 & VMVMVMVMVMVMSGSG\\\\\n",
       "\t 1 & 1.5198687 & 0.3997140 & TTGATGTTGATGTTGATGTCCGGCTCCGGCTCCGGCTCCGGCTCCGGC & varydicodonrepeatlength\\_TTGATG\\_3 & 1.076992 & LMLMLMSGSGSGSGSG\\\\\n",
       "\t 2 & 0.6341147 & 0.3294015 & TTGATGTTGATGTTGATGTCCGGCTCCGGCTCCGGCTCCGGCTCCGGC & varydicodonrepeatlength\\_TTGATG\\_3 & 1.076992 & LMLMLMSGSGSGSGSG\\\\\n",
       "\t 1 & 1.2914989 & 0.2680118 & TCCATCATCATCATCATCATCTCCTCCATCATCATCATCATCATCTCC & reorderdicodon\\_ATCATC\\_3          & 1.108177 & SIIIIIISSIIIIIIS\\\\\n",
       "\t 2 & 0.9248542 & 0.3001503 & TCCATCATCATCATCATCATCTCCTCCATCATCATCATCATCATCTCC & reorderdicodon\\_ATCATC\\_3          & 1.108177 & SIIIIIISSIIIIIIS\\\\\n",
       "\t 1 & 1.2647234 & 0.3136748 & TCCATCATCATCATCTCCATCATCATCATCTCCATCATCATCATCTCC & reorderdicodon\\_ATCATC\\_2          & 1.115041 & SIIIISIIIISIIIIS\\\\\n",
       "\t 2 & 0.9653579 & 0.2817325 & TCCATCATCATCATCTCCATCATCATCATCTCCATCATCATCATCTCC & reorderdicodon\\_ATCATC\\_2          & 1.115041 & SIIIISIIIISIIIIS\\\\\n",
       "\t 1 & 1.1124884 & 0.2753681 & CGTGAACGTGAATCCGGCTCCGGCTCCGGCTCCGGCTCCGGCTCCGGC & varydicodonrepeatlength\\_CGTGAA\\_2 & 1.157267 & RERESGSGSGSGSGSG\\\\\n",
       "\t 2 & 1.2020462 & 0.4661644 & CGTGAACGTGAATCCGGCTCCGGCTCCGGCTCCGGCTCCGGCTCCGGC & varydicodonrepeatlength\\_CGTGAA\\_2 & 1.157267 & RERESGSGSGSGSGSG\\\\\n",
       "\t 1 & 1.0144546 & 0.3864546 & AGTTTCTCCGGCTCCGGCTCCGGCTCCGGCTCCGGCTCCGGCTCCGGC & varydicodonrepeatlength\\_AGTTTC\\_1 & 1.159286 & SFSGSGSGSGSGSGSG\\\\\n",
       "\t 2 & 1.3041179 & 0.3171168 & AGTTTCTCCGGCTCCGGCTCCGGCTCCGGCTCCGGCTCCGGCTCCGGC & varydicodonrepeatlength\\_AGTTTC\\_1 & 1.159286 & SFSGSGSGSGSGSGSG\\\\\n",
       "\t 1 & 1.6883297 & 0.5198920 & GTCATGGTCATGGTCATGGTCATGGTCATGGTCATGGTCATGGTCATG & varydicodonrepeatlength\\_GTCATG\\_8 & 1.182725 & VMVMVMVMVMVMVMVM\\\\\n",
       "\t 2 & 0.6771205 & 0.5042255 & GTCATGGTCATGGTCATGGTCATGGTCATGGTCATGGTCATGGTCATG & varydicodonrepeatlength\\_GTCATG\\_8 & 1.182725 & VMVMVMVMVMVMVMVM\\\\\n",
       "\t 1 & 1.3819216 & 0.2549431 & CGTGAACGTGAACGTGAACGTGAATCCGGCTCCGGCTCCGGCTCCGGC & varydicodonrepeatlength\\_CGTGAA\\_4 & 1.225231 & RERERERESGSGSGSG\\\\\n",
       "\t 2 & 1.0685397 & 0.3230722 & CGTGAACGTGAACGTGAACGTGAATCCGGCTCCGGCTCCGGCTCCGGC & varydicodonrepeatlength\\_CGTGAA\\_4 & 1.225231 & RERERERESGSGSGSG\\\\\n",
       "\t 1 & 1.3173631 & 0.3384241 & AGTGGCAGTGGCAGTGGCAGTGGCTCCGGCTCCGGCTCCGGCTCCGGC & varydicodonrepeatlength\\_AGTGGC\\_4 & 1.238415 & SGSGSGSGSGSGSGSG\\\\\n",
       "\t 2 & 1.1594664 & 0.3845965 & AGTGGCAGTGGCAGTGGCAGTGGCTCCGGCTCCGGCTCCGGCTCCGGC & varydicodonrepeatlength\\_AGTGGC\\_4 & 1.238415 & SGSGSGSGSGSGSGSG\\\\\n",
       "\t 1 & 1.2649945 & 0.4753702 & AGTGGCTCCGGCTCCGGCTCCGGCTCCGGCTCCGGCTCCGGCTCCGGC & varydicodonrepeatlength\\_AGTGGC\\_1 & 1.245693 & SGSGSGSGSGSGSGSG\\\\\n",
       "\t 2 & 1.2263906 & 0.6530342 & AGTGGCTCCGGCTCCGGCTCCGGCTCCGGCTCCGGCTCCGGCTCCGGC & varydicodonrepeatlength\\_AGTGGC\\_1 & 1.245693 & SGSGSGSGSGSGSGSG\\\\\n",
       "\t 1 & 1.5166201 & 0.4347708 & GTCATGGTCATGGTCATGGTCATGTCCGGCTCCGGCTCCGGCTCCGGC & varydicodonrepeatlength\\_GTCATG\\_4 & 1.334017 & VMVMVMVMSGSGSGSG\\\\\n",
       "\t 2 & 1.1514131 & 0.4631772 & GTCATGGTCATGGTCATGGTCATGTCCGGCTCCGGCTCCGGCTCCGGC & varydicodonrepeatlength\\_GTCATG\\_4 & 1.334017 & VMVMVMVMSGSGSGSG\\\\\n",
       "\t 1 & 1.6766864 & 0.5751766 & TTGATGTTGATGTTGATGTTGATGTTGATGTTGATGTCCGGCTCCGGC & varydicodonrepeatlength\\_TTGATG\\_6 & 1.392063 & LMLMLMLMLMLMSGSG\\\\\n",
       "\t 2 & 1.1074395 & 0.3688409 & TTGATGTTGATGTTGATGTTGATGTTGATGTTGATGTCCGGCTCCGGC & varydicodonrepeatlength\\_TTGATG\\_6 & 1.392063 & LMLMLMLMLMLMSGSG\\\\\n",
       "\t 1 & 1.3537118 & 0.4142997 & CCTCCGCCTCCGCCTCCGCCTCCGCCTCCGTCCGGCTCCGGCTCCGGC & varydicodonrepeatlength\\_CCTCCG\\_5 & 1.616497 & PPPPPPPPPPSGSGSG\\\\\n",
       "\t 2 & 1.8792826 & 0.3649215 & CCTCCGCCTCCGCCTCCGCCTCCGCCTCCGTCCGGCTCCGGCTCCGGC & varydicodonrepeatlength\\_CCTCCG\\_5 & 1.616497 & PPPPPPPPPPSGSGSG\\\\\n",
       "\t 1 & 1.0400207 & 0.3042838 & CCTCCGCCTCCGCCTCCGCCTCCGCCTCCGCCTCCGTCCGGCTCCGGC & varydicodonrepeatlength\\_CCTCCG\\_6 & 1.717557 & PPPPPPPPPPPPSGSG\\\\\n",
       "\t 2 & 2.3950923 & 0.5333445 & CCTCCGCCTCCGCCTCCGCCTCCGCCTCCGCCTCCGTCCGGCTCCGGC & varydicodonrepeatlength\\_CCTCCG\\_6 & 1.717557 & PPPPPPPPPPPPSGSG\\\\\n",
       "\t 1 & 1.2115204 & 0.3570010 & CCTCCGCCTCCGCCTCCGCCTCCGCCTCCGCCTCCGCCTCCGCCTCCG & varydicodonrepeatlength\\_CCTCCG\\_8 & 1.720325 & PPPPPPPPPPPPPPPP\\\\\n",
       "\t 2 & 2.2291302 & 0.6509482 & CCTCCGCCTCCGCCTCCGCCTCCGCCTCCGCCTCCGCCTCCGCCTCCG & varydicodonrepeatlength\\_CCTCCG\\_8 & 1.720325 & PPPPPPPPPPPPPPPP\\\\\n",
       "\\end{tabular}\n"
      ],
      "text/markdown": [
       "\n",
       "A tibble: 634 × 7\n",
       "\n",
       "| replicate &lt;dbl&gt; | lfc &lt;dbl&gt; | lfc_sd &lt;dbl&gt; | seq &lt;chr&gt; | insert_name &lt;chr&gt; | mean_lfc &lt;dbl&gt; | insert &lt;chr&gt; |\n",
       "|---|---|---|---|---|---|---|\n",
       "| 1 | -4.081506 | 1.08335322 | CGCCATCGCCATCGCCATCGCCATCGCCATCGCCATCGCCATCGCCAT | varydicodonrepeatlength_CGCCAT_8 | -5.422316 | RHRHRHRHRHRHRHRH |\n",
       "| 2 | -6.763126 | 1.05579232 | CGCCATCGCCATCGCCATCGCCATCGCCATCGCCATCGCCATCGCCAT | varydicodonrepeatlength_CGCCAT_8 | -5.422316 | RHRHRHRHRHRHRHRH |\n",
       "| 1 | -8.992351 | 0.00000000 | TAATGATAATGATAATGATAATGATAATGATAATGATAATGATAATGA | stop_control                     | -5.378349 | **************** |\n",
       "| 2 | -1.764348 | 0.08555056 | TAATGATAATGATAATGATAATGATAATGATAATGATAATGATAATGA | stop_control                     | -5.378349 | **************** |\n",
       "| 1 | -5.951838 | 1.70309417 | TACAAGTACAAGTACAAGTACAAGTACAAGTACAAGTCCGGCTCCGGC | varydicodonrepeatlength_TACAAG_6 | -5.043216 | YKYKYKYKYKYKSGSG |\n",
       "| 2 | -4.134594 | 1.32528425 | TACAAGTACAAGTACAAGTACAAGTACAAGTACAAGTCCGGCTCCGGC | varydicodonrepeatlength_TACAAG_6 | -5.043216 | YKYKYKYKYKYKSGSG |\n",
       "| 1 | -2.948867 | 1.24332547 | AAGATCAAGATCAAGATCAAGATCAAGATCAAGATCAAGATCAAGATC | varydicodonrepeatlength_AAGATC_8 | -4.774230 | KIKIKIKIKIKIKIKI |\n",
       "| 2 | -6.599594 | 1.69868632 | AAGATCAAGATCAAGATCAAGATCAAGATCAAGATCAAGATCAAGATC | varydicodonrepeatlength_AAGATC_8 | -4.774230 | KIKIKIKIKIKIKIKI |\n",
       "| 1 | -3.395448 | 0.66086561 | TACAAGTACAAGTACAAGTACAAGTACAAGTACAAGTACAAGTACAAG | varydicodonrepeatlength_TACAAG_8 | -4.569377 | YKYKYKYKYKYKYKYK |\n",
       "| 2 | -5.743306 | 0.89287110 | TACAAGTACAAGTACAAGTACAAGTACAAGTACAAGTACAAGTACAAG | varydicodonrepeatlength_TACAAG_8 | -4.569377 | YKYKYKYKYKYKYKYK |\n",
       "| 1 | -2.823431 | 0.59283385 | GTCAAAGTCAAAGTCAAAGTCAAAAGTTTCAGTTTCAGTTTCAGTTTC | mixdicodons_GTCAAA_AGTTTC_4      | -4.406887 | VKVKVKVKSFSFSFSF |\n",
       "| 2 | -5.990343 | 1.39056346 | GTCAAAGTCAAAGTCAAAGTCAAAAGTTTCAGTTTCAGTTTCAGTTTC | mixdicodons_GTCAAA_AGTTTC_4      | -4.406887 | VKVKVKVKSFSFSFSF |\n",
       "| 1 | -4.430590 | 0.96175840 | TTCAGTGTCAAATTCAGTGTCAAATTCAGTGTCAAATTCAGTGTCAAA | mixdicodons_TTCAGT_GTCAAA_1      | -4.305014 | FSVKFSVKFSVKFSVK |\n",
       "| 2 | -4.179438 | 0.81115407 | TTCAGTGTCAAATTCAGTGTCAAATTCAGTGTCAAATTCAGTGTCAAA | mixdicodons_TTCAGT_GTCAAA_1      | -4.305014 | FSVKFSVKFSVKFSVK |\n",
       "| 1 | -2.969561 | 0.61678205 | CGCCATCGCCATCGCCATCGCCATCGCCATCGCCATCGCCATTCCGGC | varydicodonrepeatlength_CGCCAT_7 | -4.213211 | RHRHRHRHRHRHRHSG |\n",
       "| 2 | -5.456862 | 1.85534183 | CGCCATCGCCATCGCCATCGCCATCGCCATCGCCATCGCCATTCCGGC | varydicodonrepeatlength_CGCCAT_7 | -4.213211 | RHRHRHRHRHRHRHSG |\n",
       "| 1 | -2.706758 | 1.70277922 | GTCAAAGTCAAAGTCAAAGTCAAAGTCAAAGTCAAATCCGGCTCCGGC | varydicodonrepeatlength_GTCAAA_6 | -4.026033 | VKVKVKVKVKVKSGSG |\n",
       "| 2 | -5.345308 | 1.60745502 | GTCAAAGTCAAAGTCAAAGTCAAAGTCAAAGTCAAATCCGGCTCCGGC | varydicodonrepeatlength_GTCAAA_6 | -4.026033 | VKVKVKVKVKVKSGSG |\n",
       "| 1 | -2.845657 | 0.73752987 | TACAAGTACAAGTACAAGTACAAGTACAAGTACAAGTACAAGTCCGGC | varydicodonrepeatlength_TACAAG_7 | -3.928705 | YKYKYKYKYKYKYKSG |\n",
       "| 2 | -5.011754 | 1.26923225 | TACAAGTACAAGTACAAGTACAAGTACAAGTACAAGTACAAGTCCGGC | varydicodonrepeatlength_TACAAG_7 | -3.928705 | YKYKYKYKYKYKYKSG |\n",
       "| 1 | -3.226583 | 0.66312383 | GTCAAAGTCAAAGTCAAAGTCAAAGTCAAAGTCAAAGTCAAATCCGGC | varydicodonrepeatlength_GTCAAA_7 | -3.893807 | VKVKVKVKVKVKVKSG |\n",
       "| 2 | -4.561031 | 1.84162144 | GTCAAAGTCAAAGTCAAAGTCAAAGTCAAAGTCAAAGTCAAATCCGGC | varydicodonrepeatlength_GTCAAA_7 | -3.893807 | VKVKVKVKVKVKVKSG |\n",
       "| 1 | -3.333634 | 0.50507054 | TTCAGTTTCAGTTTCAGTTTCAGTAAAGTCAAAGTCAAAGTCAAAGTC | mixdicodons_TTCAGT_AAAGTC_4      | -3.846617 | FSFSFSFSKVKVKVKV |\n",
       "| 2 | -4.359600 | 0.70179221 | TTCAGTTTCAGTTTCAGTTTCAGTAAAGTCAAAGTCAAAGTCAAAGTC | mixdicodons_TTCAGT_AAAGTC_4      | -3.846617 | FSFSFSFSKVKVKVKV |\n",
       "| 1 | -3.956408 | 0.63668158 | GTCAAATTCAGTGTCAAATTCAGTGTCAAATTCAGTGTCAAATTCAGT | mixdicodons_GTCAAA_TTCAGT_1      | -3.839672 | VKFSVKFSVKFSVKFS |\n",
       "| 2 | -3.722937 | 1.27854342 | GTCAAATTCAGTGTCAAATTCAGTGTCAAATTCAGTGTCAAATTCAGT | mixdicodons_GTCAAA_TTCAGT_1      | -3.839672 | VKFSVKFSVKFSVKFS |\n",
       "| 1 | -4.338562 | 0.78095119 | AGTTTCAAAGTCAGTTTCAAAGTCAGTTTCAAAGTCAGTTTCAAAGTC | mixdicodons_AGTTTC_AAAGTC_1      | -3.808457 | SFKVSFKVSFKVSFKV |\n",
       "| 2 | -3.278352 | 0.62603752 | AGTTTCAAAGTCAGTTTCAAAGTCAGTTTCAAAGTCAGTTTCAAAGTC | mixdicodons_AGTTTC_AAAGTC_1      | -3.808457 | SFKVSFKVSFKVSFKV |\n",
       "| 1 | -4.141580 | 1.52999623 | AAAGTCAGTTTCAAAGTCAGTTTCAAAGTCAGTTTCAAAGTCAGTTTC | mixdicodons_AAAGTC_AGTTTC_1      | -3.693712 | KVSFKVSFKVSFKVSF |\n",
       "| 2 | -3.245843 | 0.71892618 | AAAGTCAGTTTCAAAGTCAGTTTCAAAGTCAGTTTCAAAGTCAGTTTC | mixdicodons_AAAGTC_AGTTTC_1      | -3.693712 | KVSFKVSFKVSFKVSF |\n",
       "| ⋮ | ⋮ | ⋮ | ⋮ | ⋮ | ⋮ | ⋮ |\n",
       "| 1 | 1.0525484 | 0.9917532 | GTCATGGTCATGGTCATGGTCATGGTCATGGTCATGTCCGGCTCCGGC | varydicodonrepeatlength_GTCATG_6 | 1.068925 | VMVMVMVMVMVMSGSG |\n",
       "| 2 | 1.0853026 | 0.6536220 | GTCATGGTCATGGTCATGGTCATGGTCATGGTCATGTCCGGCTCCGGC | varydicodonrepeatlength_GTCATG_6 | 1.068925 | VMVMVMVMVMVMSGSG |\n",
       "| 1 | 1.5198687 | 0.3997140 | TTGATGTTGATGTTGATGTCCGGCTCCGGCTCCGGCTCCGGCTCCGGC | varydicodonrepeatlength_TTGATG_3 | 1.076992 | LMLMLMSGSGSGSGSG |\n",
       "| 2 | 0.6341147 | 0.3294015 | TTGATGTTGATGTTGATGTCCGGCTCCGGCTCCGGCTCCGGCTCCGGC | varydicodonrepeatlength_TTGATG_3 | 1.076992 | LMLMLMSGSGSGSGSG |\n",
       "| 1 | 1.2914989 | 0.2680118 | TCCATCATCATCATCATCATCTCCTCCATCATCATCATCATCATCTCC | reorderdicodon_ATCATC_3          | 1.108177 | SIIIIIISSIIIIIIS |\n",
       "| 2 | 0.9248542 | 0.3001503 | TCCATCATCATCATCATCATCTCCTCCATCATCATCATCATCATCTCC | reorderdicodon_ATCATC_3          | 1.108177 | SIIIIIISSIIIIIIS |\n",
       "| 1 | 1.2647234 | 0.3136748 | TCCATCATCATCATCTCCATCATCATCATCTCCATCATCATCATCTCC | reorderdicodon_ATCATC_2          | 1.115041 | SIIIISIIIISIIIIS |\n",
       "| 2 | 0.9653579 | 0.2817325 | TCCATCATCATCATCTCCATCATCATCATCTCCATCATCATCATCTCC | reorderdicodon_ATCATC_2          | 1.115041 | SIIIISIIIISIIIIS |\n",
       "| 1 | 1.1124884 | 0.2753681 | CGTGAACGTGAATCCGGCTCCGGCTCCGGCTCCGGCTCCGGCTCCGGC | varydicodonrepeatlength_CGTGAA_2 | 1.157267 | RERESGSGSGSGSGSG |\n",
       "| 2 | 1.2020462 | 0.4661644 | CGTGAACGTGAATCCGGCTCCGGCTCCGGCTCCGGCTCCGGCTCCGGC | varydicodonrepeatlength_CGTGAA_2 | 1.157267 | RERESGSGSGSGSGSG |\n",
       "| 1 | 1.0144546 | 0.3864546 | AGTTTCTCCGGCTCCGGCTCCGGCTCCGGCTCCGGCTCCGGCTCCGGC | varydicodonrepeatlength_AGTTTC_1 | 1.159286 | SFSGSGSGSGSGSGSG |\n",
       "| 2 | 1.3041179 | 0.3171168 | AGTTTCTCCGGCTCCGGCTCCGGCTCCGGCTCCGGCTCCGGCTCCGGC | varydicodonrepeatlength_AGTTTC_1 | 1.159286 | SFSGSGSGSGSGSGSG |\n",
       "| 1 | 1.6883297 | 0.5198920 | GTCATGGTCATGGTCATGGTCATGGTCATGGTCATGGTCATGGTCATG | varydicodonrepeatlength_GTCATG_8 | 1.182725 | VMVMVMVMVMVMVMVM |\n",
       "| 2 | 0.6771205 | 0.5042255 | GTCATGGTCATGGTCATGGTCATGGTCATGGTCATGGTCATGGTCATG | varydicodonrepeatlength_GTCATG_8 | 1.182725 | VMVMVMVMVMVMVMVM |\n",
       "| 1 | 1.3819216 | 0.2549431 | CGTGAACGTGAACGTGAACGTGAATCCGGCTCCGGCTCCGGCTCCGGC | varydicodonrepeatlength_CGTGAA_4 | 1.225231 | RERERERESGSGSGSG |\n",
       "| 2 | 1.0685397 | 0.3230722 | CGTGAACGTGAACGTGAACGTGAATCCGGCTCCGGCTCCGGCTCCGGC | varydicodonrepeatlength_CGTGAA_4 | 1.225231 | RERERERESGSGSGSG |\n",
       "| 1 | 1.3173631 | 0.3384241 | AGTGGCAGTGGCAGTGGCAGTGGCTCCGGCTCCGGCTCCGGCTCCGGC | varydicodonrepeatlength_AGTGGC_4 | 1.238415 | SGSGSGSGSGSGSGSG |\n",
       "| 2 | 1.1594664 | 0.3845965 | AGTGGCAGTGGCAGTGGCAGTGGCTCCGGCTCCGGCTCCGGCTCCGGC | varydicodonrepeatlength_AGTGGC_4 | 1.238415 | SGSGSGSGSGSGSGSG |\n",
       "| 1 | 1.2649945 | 0.4753702 | AGTGGCTCCGGCTCCGGCTCCGGCTCCGGCTCCGGCTCCGGCTCCGGC | varydicodonrepeatlength_AGTGGC_1 | 1.245693 | SGSGSGSGSGSGSGSG |\n",
       "| 2 | 1.2263906 | 0.6530342 | AGTGGCTCCGGCTCCGGCTCCGGCTCCGGCTCCGGCTCCGGCTCCGGC | varydicodonrepeatlength_AGTGGC_1 | 1.245693 | SGSGSGSGSGSGSGSG |\n",
       "| 1 | 1.5166201 | 0.4347708 | GTCATGGTCATGGTCATGGTCATGTCCGGCTCCGGCTCCGGCTCCGGC | varydicodonrepeatlength_GTCATG_4 | 1.334017 | VMVMVMVMSGSGSGSG |\n",
       "| 2 | 1.1514131 | 0.4631772 | GTCATGGTCATGGTCATGGTCATGTCCGGCTCCGGCTCCGGCTCCGGC | varydicodonrepeatlength_GTCATG_4 | 1.334017 | VMVMVMVMSGSGSGSG |\n",
       "| 1 | 1.6766864 | 0.5751766 | TTGATGTTGATGTTGATGTTGATGTTGATGTTGATGTCCGGCTCCGGC | varydicodonrepeatlength_TTGATG_6 | 1.392063 | LMLMLMLMLMLMSGSG |\n",
       "| 2 | 1.1074395 | 0.3688409 | TTGATGTTGATGTTGATGTTGATGTTGATGTTGATGTCCGGCTCCGGC | varydicodonrepeatlength_TTGATG_6 | 1.392063 | LMLMLMLMLMLMSGSG |\n",
       "| 1 | 1.3537118 | 0.4142997 | CCTCCGCCTCCGCCTCCGCCTCCGCCTCCGTCCGGCTCCGGCTCCGGC | varydicodonrepeatlength_CCTCCG_5 | 1.616497 | PPPPPPPPPPSGSGSG |\n",
       "| 2 | 1.8792826 | 0.3649215 | CCTCCGCCTCCGCCTCCGCCTCCGCCTCCGTCCGGCTCCGGCTCCGGC | varydicodonrepeatlength_CCTCCG_5 | 1.616497 | PPPPPPPPPPSGSGSG |\n",
       "| 1 | 1.0400207 | 0.3042838 | CCTCCGCCTCCGCCTCCGCCTCCGCCTCCGCCTCCGTCCGGCTCCGGC | varydicodonrepeatlength_CCTCCG_6 | 1.717557 | PPPPPPPPPPPPSGSG |\n",
       "| 2 | 2.3950923 | 0.5333445 | CCTCCGCCTCCGCCTCCGCCTCCGCCTCCGCCTCCGTCCGGCTCCGGC | varydicodonrepeatlength_CCTCCG_6 | 1.717557 | PPPPPPPPPPPPSGSG |\n",
       "| 1 | 1.2115204 | 0.3570010 | CCTCCGCCTCCGCCTCCGCCTCCGCCTCCGCCTCCGCCTCCGCCTCCG | varydicodonrepeatlength_CCTCCG_8 | 1.720325 | PPPPPPPPPPPPPPPP |\n",
       "| 2 | 2.2291302 | 0.6509482 | CCTCCGCCTCCGCCTCCGCCTCCGCCTCCGCCTCCGCCTCCGCCTCCG | varydicodonrepeatlength_CCTCCG_8 | 1.720325 | PPPPPPPPPPPPPPPP |\n",
       "\n"
      ],
      "text/plain": [
       "    replicate lfc       lfc_sd    \n",
       "1   1         -4.081506 1.08335322\n",
       "2   2         -6.763126 1.05579232\n",
       "3   1         -8.992351 0.00000000\n",
       "4   2         -1.764348 0.08555056\n",
       "5   1         -5.951838 1.70309417\n",
       "6   2         -4.134594 1.32528425\n",
       "7   1         -2.948867 1.24332547\n",
       "8   2         -6.599594 1.69868632\n",
       "9   1         -3.395448 0.66086561\n",
       "10  2         -5.743306 0.89287110\n",
       "11  1         -2.823431 0.59283385\n",
       "12  2         -5.990343 1.39056346\n",
       "13  1         -4.430590 0.96175840\n",
       "14  2         -4.179438 0.81115407\n",
       "15  1         -2.969561 0.61678205\n",
       "16  2         -5.456862 1.85534183\n",
       "17  1         -2.706758 1.70277922\n",
       "18  2         -5.345308 1.60745502\n",
       "19  1         -2.845657 0.73752987\n",
       "20  2         -5.011754 1.26923225\n",
       "21  1         -3.226583 0.66312383\n",
       "22  2         -4.561031 1.84162144\n",
       "23  1         -3.333634 0.50507054\n",
       "24  2         -4.359600 0.70179221\n",
       "25  1         -3.956408 0.63668158\n",
       "26  2         -3.722937 1.27854342\n",
       "27  1         -4.338562 0.78095119\n",
       "28  2         -3.278352 0.62603752\n",
       "29  1         -4.141580 1.52999623\n",
       "30  2         -3.245843 0.71892618\n",
       "⋮   ⋮         ⋮         ⋮         \n",
       "605 1         1.0525484 0.9917532 \n",
       "606 2         1.0853026 0.6536220 \n",
       "607 1         1.5198687 0.3997140 \n",
       "608 2         0.6341147 0.3294015 \n",
       "609 1         1.2914989 0.2680118 \n",
       "610 2         0.9248542 0.3001503 \n",
       "611 1         1.2647234 0.3136748 \n",
       "612 2         0.9653579 0.2817325 \n",
       "613 1         1.1124884 0.2753681 \n",
       "614 2         1.2020462 0.4661644 \n",
       "615 1         1.0144546 0.3864546 \n",
       "616 2         1.3041179 0.3171168 \n",
       "617 1         1.6883297 0.5198920 \n",
       "618 2         0.6771205 0.5042255 \n",
       "619 1         1.3819216 0.2549431 \n",
       "620 2         1.0685397 0.3230722 \n",
       "621 1         1.3173631 0.3384241 \n",
       "622 2         1.1594664 0.3845965 \n",
       "623 1         1.2649945 0.4753702 \n",
       "624 2         1.2263906 0.6530342 \n",
       "625 1         1.5166201 0.4347708 \n",
       "626 2         1.1514131 0.4631772 \n",
       "627 1         1.6766864 0.5751766 \n",
       "628 2         1.1074395 0.3688409 \n",
       "629 1         1.3537118 0.4142997 \n",
       "630 2         1.8792826 0.3649215 \n",
       "631 1         1.0400207 0.3042838 \n",
       "632 2         2.3950923 0.5333445 \n",
       "633 1         1.2115204 0.3570010 \n",
       "634 2         2.2291302 0.6509482 \n",
       "    seq                                             \n",
       "1   CGCCATCGCCATCGCCATCGCCATCGCCATCGCCATCGCCATCGCCAT\n",
       "2   CGCCATCGCCATCGCCATCGCCATCGCCATCGCCATCGCCATCGCCAT\n",
       "3   TAATGATAATGATAATGATAATGATAATGATAATGATAATGATAATGA\n",
       "4   TAATGATAATGATAATGATAATGATAATGATAATGATAATGATAATGA\n",
       "5   TACAAGTACAAGTACAAGTACAAGTACAAGTACAAGTCCGGCTCCGGC\n",
       "6   TACAAGTACAAGTACAAGTACAAGTACAAGTACAAGTCCGGCTCCGGC\n",
       "7   AAGATCAAGATCAAGATCAAGATCAAGATCAAGATCAAGATCAAGATC\n",
       "8   AAGATCAAGATCAAGATCAAGATCAAGATCAAGATCAAGATCAAGATC\n",
       "9   TACAAGTACAAGTACAAGTACAAGTACAAGTACAAGTACAAGTACAAG\n",
       "10  TACAAGTACAAGTACAAGTACAAGTACAAGTACAAGTACAAGTACAAG\n",
       "11  GTCAAAGTCAAAGTCAAAGTCAAAAGTTTCAGTTTCAGTTTCAGTTTC\n",
       "12  GTCAAAGTCAAAGTCAAAGTCAAAAGTTTCAGTTTCAGTTTCAGTTTC\n",
       "13  TTCAGTGTCAAATTCAGTGTCAAATTCAGTGTCAAATTCAGTGTCAAA\n",
       "14  TTCAGTGTCAAATTCAGTGTCAAATTCAGTGTCAAATTCAGTGTCAAA\n",
       "15  CGCCATCGCCATCGCCATCGCCATCGCCATCGCCATCGCCATTCCGGC\n",
       "16  CGCCATCGCCATCGCCATCGCCATCGCCATCGCCATCGCCATTCCGGC\n",
       "17  GTCAAAGTCAAAGTCAAAGTCAAAGTCAAAGTCAAATCCGGCTCCGGC\n",
       "18  GTCAAAGTCAAAGTCAAAGTCAAAGTCAAAGTCAAATCCGGCTCCGGC\n",
       "19  TACAAGTACAAGTACAAGTACAAGTACAAGTACAAGTACAAGTCCGGC\n",
       "20  TACAAGTACAAGTACAAGTACAAGTACAAGTACAAGTACAAGTCCGGC\n",
       "21  GTCAAAGTCAAAGTCAAAGTCAAAGTCAAAGTCAAAGTCAAATCCGGC\n",
       "22  GTCAAAGTCAAAGTCAAAGTCAAAGTCAAAGTCAAAGTCAAATCCGGC\n",
       "23  TTCAGTTTCAGTTTCAGTTTCAGTAAAGTCAAAGTCAAAGTCAAAGTC\n",
       "24  TTCAGTTTCAGTTTCAGTTTCAGTAAAGTCAAAGTCAAAGTCAAAGTC\n",
       "25  GTCAAATTCAGTGTCAAATTCAGTGTCAAATTCAGTGTCAAATTCAGT\n",
       "26  GTCAAATTCAGTGTCAAATTCAGTGTCAAATTCAGTGTCAAATTCAGT\n",
       "27  AGTTTCAAAGTCAGTTTCAAAGTCAGTTTCAAAGTCAGTTTCAAAGTC\n",
       "28  AGTTTCAAAGTCAGTTTCAAAGTCAGTTTCAAAGTCAGTTTCAAAGTC\n",
       "29  AAAGTCAGTTTCAAAGTCAGTTTCAAAGTCAGTTTCAAAGTCAGTTTC\n",
       "30  AAAGTCAGTTTCAAAGTCAGTTTCAAAGTCAGTTTCAAAGTCAGTTTC\n",
       "⋮   ⋮                                               \n",
       "605 GTCATGGTCATGGTCATGGTCATGGTCATGGTCATGTCCGGCTCCGGC\n",
       "606 GTCATGGTCATGGTCATGGTCATGGTCATGGTCATGTCCGGCTCCGGC\n",
       "607 TTGATGTTGATGTTGATGTCCGGCTCCGGCTCCGGCTCCGGCTCCGGC\n",
       "608 TTGATGTTGATGTTGATGTCCGGCTCCGGCTCCGGCTCCGGCTCCGGC\n",
       "609 TCCATCATCATCATCATCATCTCCTCCATCATCATCATCATCATCTCC\n",
       "610 TCCATCATCATCATCATCATCTCCTCCATCATCATCATCATCATCTCC\n",
       "611 TCCATCATCATCATCTCCATCATCATCATCTCCATCATCATCATCTCC\n",
       "612 TCCATCATCATCATCTCCATCATCATCATCTCCATCATCATCATCTCC\n",
       "613 CGTGAACGTGAATCCGGCTCCGGCTCCGGCTCCGGCTCCGGCTCCGGC\n",
       "614 CGTGAACGTGAATCCGGCTCCGGCTCCGGCTCCGGCTCCGGCTCCGGC\n",
       "615 AGTTTCTCCGGCTCCGGCTCCGGCTCCGGCTCCGGCTCCGGCTCCGGC\n",
       "616 AGTTTCTCCGGCTCCGGCTCCGGCTCCGGCTCCGGCTCCGGCTCCGGC\n",
       "617 GTCATGGTCATGGTCATGGTCATGGTCATGGTCATGGTCATGGTCATG\n",
       "618 GTCATGGTCATGGTCATGGTCATGGTCATGGTCATGGTCATGGTCATG\n",
       "619 CGTGAACGTGAACGTGAACGTGAATCCGGCTCCGGCTCCGGCTCCGGC\n",
       "620 CGTGAACGTGAACGTGAACGTGAATCCGGCTCCGGCTCCGGCTCCGGC\n",
       "621 AGTGGCAGTGGCAGTGGCAGTGGCTCCGGCTCCGGCTCCGGCTCCGGC\n",
       "622 AGTGGCAGTGGCAGTGGCAGTGGCTCCGGCTCCGGCTCCGGCTCCGGC\n",
       "623 AGTGGCTCCGGCTCCGGCTCCGGCTCCGGCTCCGGCTCCGGCTCCGGC\n",
       "624 AGTGGCTCCGGCTCCGGCTCCGGCTCCGGCTCCGGCTCCGGCTCCGGC\n",
       "625 GTCATGGTCATGGTCATGGTCATGTCCGGCTCCGGCTCCGGCTCCGGC\n",
       "626 GTCATGGTCATGGTCATGGTCATGTCCGGCTCCGGCTCCGGCTCCGGC\n",
       "627 TTGATGTTGATGTTGATGTTGATGTTGATGTTGATGTCCGGCTCCGGC\n",
       "628 TTGATGTTGATGTTGATGTTGATGTTGATGTTGATGTCCGGCTCCGGC\n",
       "629 CCTCCGCCTCCGCCTCCGCCTCCGCCTCCGTCCGGCTCCGGCTCCGGC\n",
       "630 CCTCCGCCTCCGCCTCCGCCTCCGCCTCCGTCCGGCTCCGGCTCCGGC\n",
       "631 CCTCCGCCTCCGCCTCCGCCTCCGCCTCCGCCTCCGTCCGGCTCCGGC\n",
       "632 CCTCCGCCTCCGCCTCCGCCTCCGCCTCCGCCTCCGTCCGGCTCCGGC\n",
       "633 CCTCCGCCTCCGCCTCCGCCTCCGCCTCCGCCTCCGCCTCCGCCTCCG\n",
       "634 CCTCCGCCTCCGCCTCCGCCTCCGCCTCCGCCTCCGCCTCCGCCTCCG\n",
       "    insert_name                      mean_lfc  insert          \n",
       "1   varydicodonrepeatlength_CGCCAT_8 -5.422316 RHRHRHRHRHRHRHRH\n",
       "2   varydicodonrepeatlength_CGCCAT_8 -5.422316 RHRHRHRHRHRHRHRH\n",
       "3   stop_control                     -5.378349 ****************\n",
       "4   stop_control                     -5.378349 ****************\n",
       "5   varydicodonrepeatlength_TACAAG_6 -5.043216 YKYKYKYKYKYKSGSG\n",
       "6   varydicodonrepeatlength_TACAAG_6 -5.043216 YKYKYKYKYKYKSGSG\n",
       "7   varydicodonrepeatlength_AAGATC_8 -4.774230 KIKIKIKIKIKIKIKI\n",
       "8   varydicodonrepeatlength_AAGATC_8 -4.774230 KIKIKIKIKIKIKIKI\n",
       "9   varydicodonrepeatlength_TACAAG_8 -4.569377 YKYKYKYKYKYKYKYK\n",
       "10  varydicodonrepeatlength_TACAAG_8 -4.569377 YKYKYKYKYKYKYKYK\n",
       "11  mixdicodons_GTCAAA_AGTTTC_4      -4.406887 VKVKVKVKSFSFSFSF\n",
       "12  mixdicodons_GTCAAA_AGTTTC_4      -4.406887 VKVKVKVKSFSFSFSF\n",
       "13  mixdicodons_TTCAGT_GTCAAA_1      -4.305014 FSVKFSVKFSVKFSVK\n",
       "14  mixdicodons_TTCAGT_GTCAAA_1      -4.305014 FSVKFSVKFSVKFSVK\n",
       "15  varydicodonrepeatlength_CGCCAT_7 -4.213211 RHRHRHRHRHRHRHSG\n",
       "16  varydicodonrepeatlength_CGCCAT_7 -4.213211 RHRHRHRHRHRHRHSG\n",
       "17  varydicodonrepeatlength_GTCAAA_6 -4.026033 VKVKVKVKVKVKSGSG\n",
       "18  varydicodonrepeatlength_GTCAAA_6 -4.026033 VKVKVKVKVKVKSGSG\n",
       "19  varydicodonrepeatlength_TACAAG_7 -3.928705 YKYKYKYKYKYKYKSG\n",
       "20  varydicodonrepeatlength_TACAAG_7 -3.928705 YKYKYKYKYKYKYKSG\n",
       "21  varydicodonrepeatlength_GTCAAA_7 -3.893807 VKVKVKVKVKVKVKSG\n",
       "22  varydicodonrepeatlength_GTCAAA_7 -3.893807 VKVKVKVKVKVKVKSG\n",
       "23  mixdicodons_TTCAGT_AAAGTC_4      -3.846617 FSFSFSFSKVKVKVKV\n",
       "24  mixdicodons_TTCAGT_AAAGTC_4      -3.846617 FSFSFSFSKVKVKVKV\n",
       "25  mixdicodons_GTCAAA_TTCAGT_1      -3.839672 VKFSVKFSVKFSVKFS\n",
       "26  mixdicodons_GTCAAA_TTCAGT_1      -3.839672 VKFSVKFSVKFSVKFS\n",
       "27  mixdicodons_AGTTTC_AAAGTC_1      -3.808457 SFKVSFKVSFKVSFKV\n",
       "28  mixdicodons_AGTTTC_AAAGTC_1      -3.808457 SFKVSFKVSFKVSFKV\n",
       "29  mixdicodons_AAAGTC_AGTTTC_1      -3.693712 KVSFKVSFKVSFKVSF\n",
       "30  mixdicodons_AAAGTC_AGTTTC_1      -3.693712 KVSFKVSFKVSFKVSF\n",
       "⋮   ⋮                                ⋮         ⋮               \n",
       "605 varydicodonrepeatlength_GTCATG_6 1.068925  VMVMVMVMVMVMSGSG\n",
       "606 varydicodonrepeatlength_GTCATG_6 1.068925  VMVMVMVMVMVMSGSG\n",
       "607 varydicodonrepeatlength_TTGATG_3 1.076992  LMLMLMSGSGSGSGSG\n",
       "608 varydicodonrepeatlength_TTGATG_3 1.076992  LMLMLMSGSGSGSGSG\n",
       "609 reorderdicodon_ATCATC_3          1.108177  SIIIIIISSIIIIIIS\n",
       "610 reorderdicodon_ATCATC_3          1.108177  SIIIIIISSIIIIIIS\n",
       "611 reorderdicodon_ATCATC_2          1.115041  SIIIISIIIISIIIIS\n",
       "612 reorderdicodon_ATCATC_2          1.115041  SIIIISIIIISIIIIS\n",
       "613 varydicodonrepeatlength_CGTGAA_2 1.157267  RERESGSGSGSGSGSG\n",
       "614 varydicodonrepeatlength_CGTGAA_2 1.157267  RERESGSGSGSGSGSG\n",
       "615 varydicodonrepeatlength_AGTTTC_1 1.159286  SFSGSGSGSGSGSGSG\n",
       "616 varydicodonrepeatlength_AGTTTC_1 1.159286  SFSGSGSGSGSGSGSG\n",
       "617 varydicodonrepeatlength_GTCATG_8 1.182725  VMVMVMVMVMVMVMVM\n",
       "618 varydicodonrepeatlength_GTCATG_8 1.182725  VMVMVMVMVMVMVMVM\n",
       "619 varydicodonrepeatlength_CGTGAA_4 1.225231  RERERERESGSGSGSG\n",
       "620 varydicodonrepeatlength_CGTGAA_4 1.225231  RERERERESGSGSGSG\n",
       "621 varydicodonrepeatlength_AGTGGC_4 1.238415  SGSGSGSGSGSGSGSG\n",
       "622 varydicodonrepeatlength_AGTGGC_4 1.238415  SGSGSGSGSGSGSGSG\n",
       "623 varydicodonrepeatlength_AGTGGC_1 1.245693  SGSGSGSGSGSGSGSG\n",
       "624 varydicodonrepeatlength_AGTGGC_1 1.245693  SGSGSGSGSGSGSGSG\n",
       "625 varydicodonrepeatlength_GTCATG_4 1.334017  VMVMVMVMSGSGSGSG\n",
       "626 varydicodonrepeatlength_GTCATG_4 1.334017  VMVMVMVMSGSGSGSG\n",
       "627 varydicodonrepeatlength_TTGATG_6 1.392063  LMLMLMLMLMLMSGSG\n",
       "628 varydicodonrepeatlength_TTGATG_6 1.392063  LMLMLMLMLMLMSGSG\n",
       "629 varydicodonrepeatlength_CCTCCG_5 1.616497  PPPPPPPPPPSGSGSG\n",
       "630 varydicodonrepeatlength_CCTCCG_5 1.616497  PPPPPPPPPPSGSGSG\n",
       "631 varydicodonrepeatlength_CCTCCG_6 1.717557  PPPPPPPPPPPPSGSG\n",
       "632 varydicodonrepeatlength_CCTCCG_6 1.717557  PPPPPPPPPPPPSGSG\n",
       "633 varydicodonrepeatlength_CCTCCG_8 1.720325  PPPPPPPPPPPPPPPP\n",
       "634 varydicodonrepeatlength_CCTCCG_8 1.720325  PPPPPPPPPPPPPPPP"
      ]
     },
     "metadata": {},
     "output_type": "display_data"
    }
   ],
   "source": [
    "insert_lfc <- lfc %>% \n",
    "  left_join(insert_annotations, by = \"insert_num\") %>% \n",
    "  group_by(insert_num) %>% \n",
    "  mutate(mean_lfc = mean(lfc)) %>% \n",
    "  ungroup() %>% \n",
    "  arrange(mean_lfc) %>% \n",
    "  select(-insert_num) %>% \n",
    "  mutate(insert = as.character(translate(DNAStringSet(seq), no.init.codon = T))) %>% \n",
    "  write_tsv(\"../tables/insert_mrna_lfc.tsv.gz\")\n",
    "\n",
    "insert_lfc"
   ]
  },
  {
   "cell_type": "markdown",
   "metadata": {},
   "source": [
    "## How does mRNA level vary with dicodon repeat length?"
   ]
  },
  {
   "cell_type": "code",
   "execution_count": 57,
   "metadata": {
    "vscode": {
     "languageId": "r"
    }
   },
   "outputs": [
    {
     "name": "stdout",
     "output_type": "stream",
     "text": [
      "\u001b[90m# A tibble: 168 × 8\u001b[39m\n",
      "   replicate     lfc lfc_sd seq             dicodon repeat_length mean_lfc diaa \n",
      "       \u001b[3m\u001b[90m<dbl>\u001b[39m\u001b[23m   \u001b[3m\u001b[90m<dbl>\u001b[39m\u001b[23m  \u001b[3m\u001b[90m<dbl>\u001b[39m\u001b[23m \u001b[3m\u001b[90m<chr>\u001b[39m\u001b[23m           \u001b[3m\u001b[90m<chr>\u001b[39m\u001b[23m   \u001b[3m\u001b[90m<chr>\u001b[39m\u001b[23m            \u001b[3m\u001b[90m<dbl>\u001b[39m\u001b[23m \u001b[3m\u001b[90m<fct>\u001b[39m\u001b[23m\n",
      "\u001b[90m 1\u001b[39m         1 -\u001b[31m2\u001b[39m\u001b[31m.\u001b[39m\u001b[31m95\u001b[39m    1.24  AAGATCAAGATCAA… AAGATC  8               -\u001b[31m4\u001b[39m\u001b[31m.\u001b[39m\u001b[31m77\u001b[39m  KI   \n",
      "\u001b[90m 2\u001b[39m         1 -\u001b[31m1\u001b[39m\u001b[31m.\u001b[39m\u001b[31m67\u001b[39m    0.551 AAGATCAAGATCAA… AAGATC  7               -\u001b[31m1\u001b[39m\u001b[31m.\u001b[39m\u001b[31m82\u001b[39m  KI   \n",
      "\u001b[90m 3\u001b[39m         1 -\u001b[31m0\u001b[39m\u001b[31m.\u001b[39m\u001b[31m579\u001b[39m   0.663 AAGATCAAGATCAA… AAGATC  6               -\u001b[31m1\u001b[39m\u001b[31m.\u001b[39m\u001b[31m38\u001b[39m  KI   \n",
      "\u001b[90m 4\u001b[39m         1 -\u001b[31m1\u001b[39m\u001b[31m.\u001b[39m\u001b[31m0\u001b[39m\u001b[31m1\u001b[39m    0.514 AAGATCAAGATCAA… AAGATC  5               -\u001b[31m1\u001b[39m\u001b[31m.\u001b[39m\u001b[31m51\u001b[39m  KI   \n",
      "\u001b[90m 5\u001b[39m         1 -\u001b[31m0\u001b[39m\u001b[31m.\u001b[39m\u001b[31m642\u001b[39m   0.361 AAGATCAAGATCAA… AAGATC  4               -\u001b[31m0\u001b[39m\u001b[31m.\u001b[39m\u001b[31m945\u001b[39m KI   \n",
      "\u001b[90m 6\u001b[39m         1  0.273   0.292 AAGATCAAGATCAA… AAGATC  3                0.189 KI   \n",
      "\u001b[90m 7\u001b[39m         1 -\u001b[31m0\u001b[39m\u001b[31m.\u001b[39m\u001b[31m0\u001b[39m\u001b[31m10\u001b[4m4\u001b[24m\u001b[39m  0.310 AAGATCAAGATCTC… AAGATC  2                0.368 KI   \n",
      "\u001b[90m 8\u001b[39m         1 -\u001b[31m0\u001b[39m\u001b[31m.\u001b[39m\u001b[31m367\u001b[39m   0.275 AAGATCTCCGGCTC… AAGATC  1                0.373 KI   \n",
      "\u001b[90m 9\u001b[39m         1 -\u001b[31m2\u001b[39m\u001b[31m.\u001b[39m\u001b[31m70\u001b[39m    0.473 AAGTTCAAGTTCAA… AAGTTC  8               -\u001b[31m2\u001b[39m\u001b[31m.\u001b[39m\u001b[31m22\u001b[39m  KF   \n",
      "\u001b[90m10\u001b[39m         1 -\u001b[31m3\u001b[39m\u001b[31m.\u001b[39m\u001b[31m0\u001b[39m\u001b[31m4\u001b[39m    0.510 AAGTTCAAGTTCAA… AAGTTC  7               -\u001b[31m2\u001b[39m\u001b[31m.\u001b[39m\u001b[31m95\u001b[39m  KF   \n",
      "\u001b[90m# … with 158 more rows\u001b[39m\n"
     ]
    },
    {
     "data": {
      "image/png": "[encoded data removed]",
      "text/plain": [
       "plot without title"
      ]
     },
     "metadata": {
      "image/png": {
       "height": 180,
       "width": 180
      }
     },
     "output_type": "display_data"
    }
   ],
   "source": [
    "options(repr.plot.width=3, repr.plot.height=3)\n",
    "\n",
    "plot_data <- insert_lfc %>%\n",
    "  filter(str_detect(insert_name, \"varydicodonrepeatlength\")) %>% \n",
    "  separate(insert_name, c(\"insert_type\", \"dicodon\", \"repeat_length\")) %>% \n",
    "  mutate(diaa = as.character(translate(DNAStringSet(dicodon,), no.init.codon = T))) %>% \n",
    "  group_by(seq) %>%\n",
    "  slice(1) %>% \n",
    "  ungroup() %>% \n",
    "  group_by(diaa) %>%\n",
    "  mutate(temp = min(mean_lfc[repeat_length == \"8\"])) %>%\n",
    "  ungroup() %>%\n",
    "  mutate(diaa = fct_reorder(diaa, -temp)) %>%\n",
    "  select(-insert, - insert_type, -temp) %>%\n",
    "  print()\n",
    "\n",
    "plot_data %>% \n",
    "  ggplot(aes(x = repeat_length, y = fct_rev(diaa), fill = mean_lfc)) +\n",
    "  geom_tile(color = 'grey') +\n",
    "  scale_fill_gradient2() +\n",
    "  labs(x = \"Number of Repeats\", y = \"Dipeptide\", fill = \"   mRNA\\n(log2, a.u.)\",\n",
    "       title = \"Effect of Repeat Length on mRNA level\")  "
   ]
  },
  {
   "cell_type": "markdown",
   "metadata": {},
   "source": [
    "## Plot length effects for destabilizing dipeptide only\n",
    "\n",
    "- set RH8 as lowest for heatmap purposes, since YK6 being lowest is likely suprious. "
   ]
  },
  {
   "cell_type": "code",
   "execution_count": 76,
   "metadata": {
    "vscode": {
     "languageId": "r"
    }
   },
   "outputs": [
    {
     "name": "stdout",
     "output_type": "stream",
     "text": [
      "\u001b[90m# A tibble: 72 × 8\u001b[39m\n",
      "   replicate    lfc lfc_sd seq              dicodon repeat_length mean_lfc diaa \n",
      "       \u001b[3m\u001b[90m<dbl>\u001b[39m\u001b[23m  \u001b[3m\u001b[90m<dbl>\u001b[39m\u001b[23m  \u001b[3m\u001b[90m<dbl>\u001b[39m\u001b[23m \u001b[3m\u001b[90m<chr>\u001b[39m\u001b[23m            \u001b[3m\u001b[90m<chr>\u001b[39m\u001b[23m   \u001b[3m\u001b[90m<chr>\u001b[39m\u001b[23m            \u001b[3m\u001b[90m<dbl>\u001b[39m\u001b[23m \u001b[3m\u001b[90m<fct>\u001b[39m\u001b[23m\n",
      "\u001b[90m 1\u001b[39m         1 -\u001b[31m3\u001b[39m\u001b[31m.\u001b[39m\u001b[31m77\u001b[39m   0.828 ATCATCATCATCATC… ATCATC  8              -\u001b[31m2\u001b[39m\u001b[31m.\u001b[39m\u001b[31m64\u001b[39m   II   \n",
      "\u001b[90m 2\u001b[39m         1 -\u001b[31m2\u001b[39m\u001b[31m.\u001b[39m\u001b[31m61\u001b[39m   0.621 ATCATCATCATCATC… ATCATC  7              -\u001b[31m2\u001b[39m\u001b[31m.\u001b[39m\u001b[31m48\u001b[39m   II   \n",
      "\u001b[90m 3\u001b[39m         1 -\u001b[31m0\u001b[39m\u001b[31m.\u001b[39m\u001b[31m210\u001b[39m  0.504 ATCATCATCATCATC… ATCATC  6              -\u001b[31m0\u001b[39m\u001b[31m.\u001b[39m\u001b[31m0\u001b[39m\u001b[31m99\u001b[4m5\u001b[24m\u001b[39m II   \n",
      "\u001b[90m 4\u001b[39m         1  0.233  0.481 ATCATCATCATCATC… ATCATC  5               0.102  II   \n",
      "\u001b[90m 5\u001b[39m         1  0.232  0.297 ATCATCATCATCATC… ATCATC  4               0.667  II   \n",
      "\u001b[90m 6\u001b[39m         1  0.821  0.395 ATCATCATCATCATC… ATCATC  3               0.880  II   \n",
      "\u001b[90m 7\u001b[39m         1  0.678  0.348 ATCATCATCATCTCC… ATCATC  2               0.192  II   \n",
      "\u001b[90m 8\u001b[39m         1  0.246  0.416 ATCATCTCCGGCTCC… ATCATC  1               0.428  II   \n",
      "\u001b[90m 9\u001b[39m         1 -\u001b[31m2\u001b[39m\u001b[31m.\u001b[39m\u001b[31m70\u001b[39m   0.473 AAGTTCAAGTTCAAG… AAGTTC  8              -\u001b[31m2\u001b[39m\u001b[31m.\u001b[39m\u001b[31m22\u001b[39m   KF   \n",
      "\u001b[90m10\u001b[39m         1 -\u001b[31m3\u001b[39m\u001b[31m.\u001b[39m\u001b[31m0\u001b[39m\u001b[31m4\u001b[39m   0.510 AAGTTCAAGTTCAAG… AAGTTC  7              -\u001b[31m2\u001b[39m\u001b[31m.\u001b[39m\u001b[31m95\u001b[39m   KF   \n",
      "\u001b[90m# … with 62 more rows\u001b[39m\n"
     ]
    },
    {
     "data": {
      "image/png": "[encoded data removed]",
      "text/plain": [
       "plot without title"
      ]
     },
     "metadata": {
      "image/png": {
       "height": 300,
       "width": 240
      }
     },
     "output_type": "display_data"
    }
   ],
   "source": [
    "options(repr.plot.width=4, repr.plot.height=5)\n",
    "\n",
    "plot_data <- insert_lfc %>% \n",
    "  filter(str_detect(insert_name, \"varydicodonrepeatlength\")) %>% \n",
    "  separate(insert_name, c(\"insert_type\", \"dicodon\", \"repeat_length\")) %>% \n",
    "  # we skip these two dicodons and plot them separately since they are peculiar, \n",
    "  # they have another synonymous dicodon in this group\n",
    "  filter(!dicodon %in% c(\"AGAGAG\", \"CTCATA\")) %>%\n",
    "  mutate(diaa = as.character(translate(DNAStringSet(dicodon,), no.init.codon = T))) %>% \n",
    "  group_by(insert) %>%\n",
    "  slice(1) %>%\n",
    "  ungroup() %>%\n",
    "  group_by(diaa) %>%\n",
    "  mutate(temp = min(mean_lfc[repeat_length == \"8\"])) %>%\n",
    "  ungroup() %>%\n",
    "  filter(temp < -0.5) %>% \n",
    "  mutate(diaa = fct_reorder(diaa, -temp)) %>%\n",
    "  select(-insert, - insert_type, -temp) %>%\n",
    "  # mutate(mean_lfc = case_when(mean_lfc < -3.8 ~ -3.8, T ~ mean_lfc)) %>% \n",
    "  print()\n",
    "\n",
    "plot_data %>% \n",
    "  complete(diaa, repeat_length) %>% \n",
    "  ggplot(aes(x = repeat_length, y = fct_rev(diaa), fill = mean_lfc)) +\n",
    "  geom_tile() +\n",
    "  scale_fill_gradient2(breaks = c(0, -2, -4),\n",
    "                       na.value = \"grey50\", \n",
    "                       guide = guide_colorbar(barwidth = 3.5, barheight = 0.5, ticks.colour = \"black\", title.position = \"top\")) +\n",
    "  labs(x = \"Number of repeats\", y = \"Dipeptide\", fill = \"mRNA level\\n(log2, a.u.)\") +\n",
    "  theme(axis.line = element_blank(), legend.position = \"top\") \n",
    "  \n",
    "ggsave(\"../figures/destabilizing_dipeptide_length_effect.pdf\", width = 4, height = 5)   "
   ]
  },
  {
   "cell_type": "markdown",
   "metadata": {},
   "source": [
    "## Show replicability for above plot"
   ]
  },
  {
   "cell_type": "code",
   "execution_count": 59,
   "metadata": {
    "vscode": {
     "languageId": "r"
    }
   },
   "outputs": [
    {
     "name": "stdout",
     "output_type": "stream",
     "text": [
      "\u001b[90m# A tibble: 72 × 4\u001b[39m\n",
      "   diaa  repeat_length lfc_1 lfc_2\n",
      "   \u001b[3m\u001b[90m<chr>\u001b[39m\u001b[23m \u001b[3m\u001b[90m<chr>\u001b[39m\u001b[23m         \u001b[3m\u001b[90m<dbl>\u001b[39m\u001b[23m \u001b[3m\u001b[90m<dbl>\u001b[39m\u001b[23m\n",
      "\u001b[90m 1\u001b[39m RH    8             -\u001b[31m4\u001b[39m\u001b[31m.\u001b[39m\u001b[31m0\u001b[39m\u001b[31m8\u001b[39m -\u001b[31m6\u001b[39m\u001b[31m.\u001b[39m\u001b[31m76\u001b[39m\n",
      "\u001b[90m 2\u001b[39m YK    6             -\u001b[31m5\u001b[39m\u001b[31m.\u001b[39m\u001b[31m95\u001b[39m -\u001b[31m4\u001b[39m\u001b[31m.\u001b[39m\u001b[31m13\u001b[39m\n",
      "\u001b[90m 3\u001b[39m KI    8             -\u001b[31m2\u001b[39m\u001b[31m.\u001b[39m\u001b[31m95\u001b[39m -\u001b[31m6\u001b[39m\u001b[31m.\u001b[39m\u001b[31m60\u001b[39m\n",
      "\u001b[90m 4\u001b[39m YK    8             -\u001b[31m3\u001b[39m\u001b[31m.\u001b[39m\u001b[31m40\u001b[39m -\u001b[31m5\u001b[39m\u001b[31m.\u001b[39m\u001b[31m74\u001b[39m\n",
      "\u001b[90m 5\u001b[39m RH    7             -\u001b[31m2\u001b[39m\u001b[31m.\u001b[39m\u001b[31m97\u001b[39m -\u001b[31m5\u001b[39m\u001b[31m.\u001b[39m\u001b[31m46\u001b[39m\n",
      "\u001b[90m 6\u001b[39m VK    6             -\u001b[31m2\u001b[39m\u001b[31m.\u001b[39m\u001b[31m71\u001b[39m -\u001b[31m5\u001b[39m\u001b[31m.\u001b[39m\u001b[31m35\u001b[39m\n",
      "\u001b[90m 7\u001b[39m YK    7             -\u001b[31m2\u001b[39m\u001b[31m.\u001b[39m\u001b[31m85\u001b[39m -\u001b[31m5\u001b[39m\u001b[31m.\u001b[39m\u001b[31m0\u001b[39m\u001b[31m1\u001b[39m\n",
      "\u001b[90m 8\u001b[39m VK    7             -\u001b[31m3\u001b[39m\u001b[31m.\u001b[39m\u001b[31m23\u001b[39m -\u001b[31m4\u001b[39m\u001b[31m.\u001b[39m\u001b[31m56\u001b[39m\n",
      "\u001b[90m 9\u001b[39m VK    5             -\u001b[31m3\u001b[39m\u001b[31m.\u001b[39m\u001b[31m31\u001b[39m -\u001b[31m2\u001b[39m\u001b[31m.\u001b[39m\u001b[31m78\u001b[39m\n",
      "\u001b[90m10\u001b[39m KF    7             -\u001b[31m3\u001b[39m\u001b[31m.\u001b[39m\u001b[31m0\u001b[39m\u001b[31m4\u001b[39m -\u001b[31m2\u001b[39m\u001b[31m.\u001b[39m\u001b[31m87\u001b[39m\n",
      "\u001b[90m# … with 62 more rows\u001b[39m\n"
     ]
    },
    {
     "data": {
      "image/png": "[encoded data removed]",
      "text/plain": [
       "plot without title"
      ]
     },
     "metadata": {
      "image/png": {
       "height": 120,
       "width": 120
      }
     },
     "output_type": "display_data"
    }
   ],
   "source": [
    "options(repr.plot.width=2, repr.plot.height=2)\n",
    "\n",
    "plot_data <- insert_lfc %>% \n",
    "  filter(str_detect(insert_name, \"varydicodonrepeatlength\")) %>% \n",
    "  separate(insert_name, c(\"insert_type\", \"dicodon\", \"repeat_length\")) %>% \n",
    "  # we skip these two dicodons and plot them separately since they are peculiar\n",
    "  filter(!dicodon %in% c(\"AGAGAG\", \"CTCATA\")) %>%\n",
    "  mutate(diaa = as.character(translate(DNAStringSet(dicodon,), no.init.codon = T))) %>% \n",
    "  group_by(diaa) %>%\n",
    "  mutate(temp = min(mean_lfc[repeat_length == \"8\"])) %>%\n",
    "  ungroup() %>%\n",
    "  filter(temp < -0.5) %>% \n",
    "  select(replicate, lfc, diaa, repeat_length) %>% \n",
    "  mutate(replicate = as.character(replicate)) %>% \n",
    "  pivot_wider(names_from = replicate, values_from = lfc, names_prefix = \"lfc_\") %>%\n",
    "  print()\n",
    "\n",
    "plot_data %>% \n",
    "  ggplot(aes(x = lfc_1, y = lfc_2)) +\n",
    "  geom_point(size = 0.5) +\n",
    "  labs(x = \"mRNA level, Rep 1\\n(log2, a.u.)\", y = \"mRNA level, Rep 2\\n(log2, a.u.)\") +\n",
    "  annotate(\"text\", x=0, y=-6, label=\"rho = 0.84\", size = 2)"
   ]
  },
  {
   "cell_type": "markdown",
   "metadata": {},
   "source": [
    "## Read in data from Pool1 8x Dicodon experiment\n",
    "\n",
    "- Adjust such that we can use this as an additioanl replciate for plotting 8x dicodon test effects "
   ]
  },
  {
   "cell_type": "code",
   "execution_count": 60,
   "metadata": {
    "vscode": {
     "languageId": "r"
    }
   },
   "outputs": [
    {
     "name": "stderr",
     "output_type": "stream",
     "text": [
      "\u001b[1mRows: \u001b[22m\u001b[34m441\u001b[39m \u001b[1mColumns: \u001b[22m\u001b[34m12\u001b[39m\n",
      "\u001b[36m──\u001b[39m \u001b[1mColumn specification\u001b[22m \u001b[36m────────────────────────────────────────────────────────\u001b[39m\n",
      "\u001b[1mDelimiter:\u001b[22m \"\\t\"\n",
      "\u001b[31mchr\u001b[39m (6): dicodon, diaa, codon1, codon2, aa1, aa2\n",
      "\u001b[32mdbl\u001b[39m (6): insert_num, count_grna, count_mrna, n_barcodes_grna, n_barcodes_mrn...\n",
      "\n",
      "\u001b[36mℹ\u001b[39m Use `spec()` to retrieve the full column specification for this data.\n",
      "\u001b[36mℹ\u001b[39m Specify the column types or set `show_col_types = FALSE` to quiet this message.\n"
     ]
    },
    {
     "name": "stdout",
     "output_type": "stream",
     "text": [
      "\u001b[90m# A tibble: 441 × 7\u001b[39m\n",
      "   diaa1 diaa2   lfc repeat_length insert           experiment replicate\n",
      "   \u001b[3m\u001b[90m<chr>\u001b[39m\u001b[23m \u001b[3m\u001b[90m<chr>\u001b[39m\u001b[23m \u001b[3m\u001b[90m<dbl>\u001b[39m\u001b[23m         \u001b[3m\u001b[90m<dbl>\u001b[39m\u001b[23m \u001b[3m\u001b[90m<chr>\u001b[39m\u001b[23m                 \u001b[3m\u001b[90m<dbl>\u001b[39m\u001b[23m     \u001b[3m\u001b[90m<dbl>\u001b[39m\u001b[23m\n",
      "\u001b[90m 1\u001b[39m G*    G*    -\u001b[31m3\u001b[39m\u001b[31m.\u001b[39m\u001b[31m0\u001b[39m\u001b[31m4\u001b[39m             8 G*G*G*G*G*G*G*G*          1         1\n",
      "\u001b[90m 2\u001b[39m YK    YK    -\u001b[31m2\u001b[39m\u001b[31m.\u001b[39m\u001b[31m67\u001b[39m             8 YKYKYKYKYKYKYKYK          1         1\n",
      "\u001b[90m 3\u001b[39m RH    RH    -\u001b[31m2\u001b[39m\u001b[31m.\u001b[39m\u001b[31m66\u001b[39m             8 RHRHRHRHRHRHRHRH          1         1\n",
      "\u001b[90m 4\u001b[39m T*    T*    -\u001b[31m2\u001b[39m\u001b[31m.\u001b[39m\u001b[31m41\u001b[39m             8 T*T*T*T*T*T*T*T*          1         1\n",
      "\u001b[90m 5\u001b[39m HR    HR    -\u001b[31m2\u001b[39m\u001b[31m.\u001b[39m\u001b[31m39\u001b[39m             8 HRHRHRHRHRHRHRHR          1         1\n",
      "\u001b[90m 6\u001b[39m R*    R*    -\u001b[31m2\u001b[39m\u001b[31m.\u001b[39m\u001b[31m32\u001b[39m             8 R*R*R*R*R*R*R*R*          1         1\n",
      "\u001b[90m 7\u001b[39m II    II    -\u001b[31m2\u001b[39m\u001b[31m.\u001b[39m\u001b[31m30\u001b[39m             8 IIIIIIIIIIIIIIII          1         1\n",
      "\u001b[90m 8\u001b[39m VK    VK    -\u001b[31m2\u001b[39m\u001b[31m.\u001b[39m\u001b[31m26\u001b[39m             8 VKVKVKVKVKVKVKVK          1         1\n",
      "\u001b[90m 9\u001b[39m KV    KV    -\u001b[31m2\u001b[39m\u001b[31m.\u001b[39m\u001b[31m23\u001b[39m             8 KVKVKVKVKVKVKVKV          1         1\n",
      "\u001b[90m10\u001b[39m KI    KI    -\u001b[31m2\u001b[39m\u001b[31m.\u001b[39m\u001b[31m18\u001b[39m             8 KIKIKIKIKIKIKIKI          1         1\n",
      "\u001b[90m# … with 431 more rows\u001b[39m\n"
     ]
    }
   ],
   "source": [
    "all_8xdiaa_data <- read_tsv(\"../../pool1_mrna/tables/8xdipeptide_lfc.tsv.gz\") %>% \n",
    "  select(count_grna, count_mrna, n_barcodes_grna, n_barcodes_mrna, diaa) %>% \n",
    "  group_by(diaa) %>%\n",
    "  summarize_all(sum) %>%\n",
    "  ungroup() %>%\n",
    "  mutate(lfc = log2(count_mrna / count_grna)) %>%\n",
    "  mutate(lfc = lfc -  median(lfc)) %>%\n",
    "  arrange(lfc) %>%\n",
    "  mutate(diaa1 = diaa, diaa2 = diaa, repeat_length = 8) %>% \n",
    "  mutate(insert = strrep(diaa, 8)) %>%\n",
    "  select(diaa1, diaa2, lfc, repeat_length, insert) %>%\n",
    "  mutate(experiment = 1, replicate = 1) %>% \n",
    "  print()\n"
   ]
  },
  {
   "cell_type": "markdown",
   "metadata": {},
   "source": [
    "## Plot RH combination effects"
   ]
  },
  {
   "cell_type": "markdown",
   "metadata": {},
   "source": [
    "### Parse all RH + HR combinations"
   ]
  },
  {
   "cell_type": "code",
   "execution_count": 61,
   "metadata": {
    "vscode": {
     "languageId": "r"
    }
   },
   "outputs": [
    {
     "name": "stderr",
     "output_type": "stream",
     "text": [
      "Warning message:\n",
      "“Expected 4 pieces. Missing pieces filled with `NA` in 2 rows [1, 2].”\n",
      "\n",
      "\u001b[36m──\u001b[39m \u001b[1mColumn specification\u001b[22m \u001b[36m────────────────────────────────────────────────────────\u001b[39m\n",
      "cols(\n",
      "  seq = \u001b[31mcol_character()\u001b[39m,\n",
      "  insert_type = \u001b[31mcol_character()\u001b[39m,\n",
      "  dicodon1 = \u001b[31mcol_character()\u001b[39m,\n",
      "  dicodon2 = \u001b[31mcol_character()\u001b[39m,\n",
      "  insert = \u001b[31mcol_character()\u001b[39m\n",
      ")\n",
      "\n"
     ]
    },
    {
     "name": "stdout",
     "output_type": "stream",
     "text": [
      "\u001b[90m# A tibble: 182 × 9\u001b[39m\n",
      "   replicate   lfc lfc_sd seq        repeat_length insert diaa1 diaa2 experiment\n",
      "       \u001b[3m\u001b[90m<dbl>\u001b[39m\u001b[23m \u001b[3m\u001b[90m<dbl>\u001b[39m\u001b[23m  \u001b[3m\u001b[90m<dbl>\u001b[39m\u001b[23m \u001b[3m\u001b[90m<chr>\u001b[39m\u001b[23m              \u001b[3m\u001b[90m<dbl>\u001b[39m\u001b[23m \u001b[3m\u001b[90m<chr>\u001b[39m\u001b[23m  \u001b[3m\u001b[90m<chr>\u001b[39m\u001b[23m \u001b[3m\u001b[90m<chr>\u001b[39m\u001b[23m      \u001b[3m\u001b[90m<dbl>\u001b[39m\u001b[23m\n",
      "\u001b[90m 1\u001b[39m         1 -\u001b[31m4\u001b[39m\u001b[31m.\u001b[39m\u001b[31m0\u001b[39m\u001b[31m8\u001b[39m  1.08  CGCCATCGC…             8 RHRHR… RH    RH             2\n",
      "\u001b[90m 2\u001b[39m         2 -\u001b[31m6\u001b[39m\u001b[31m.\u001b[39m\u001b[31m76\u001b[39m  1.06  CGCCATCGC…             8 RHRHR… RH    RH             2\n",
      "\u001b[90m 3\u001b[39m         1 -\u001b[31m2\u001b[39m\u001b[31m.\u001b[39m\u001b[31m82\u001b[39m  0.593 GTCAAAGTC…             4 VKVKV… VK    SF             2\n",
      "\u001b[90m 4\u001b[39m         2 -\u001b[31m5\u001b[39m\u001b[31m.\u001b[39m\u001b[31m99\u001b[39m  1.39  GTCAAAGTC…             4 VKVKV… VK    SF             2\n",
      "\u001b[90m 5\u001b[39m         1 -\u001b[31m4\u001b[39m\u001b[31m.\u001b[39m\u001b[31m43\u001b[39m  0.962 TTCAGTGTC…             1 FSVKF… FS    VK             2\n",
      "\u001b[90m 6\u001b[39m         2 -\u001b[31m4\u001b[39m\u001b[31m.\u001b[39m\u001b[31m18\u001b[39m  0.811 TTCAGTGTC…             1 FSVKF… FS    VK             2\n",
      "\u001b[90m 7\u001b[39m         1 -\u001b[31m3\u001b[39m\u001b[31m.\u001b[39m\u001b[31m33\u001b[39m  0.505 TTCAGTTTC…             4 FSFSF… FS    KV             2\n",
      "\u001b[90m 8\u001b[39m         2 -\u001b[31m4\u001b[39m\u001b[31m.\u001b[39m\u001b[31m36\u001b[39m  0.702 TTCAGTTTC…             4 FSFSF… FS    KV             2\n",
      "\u001b[90m 9\u001b[39m         1 -\u001b[31m3\u001b[39m\u001b[31m.\u001b[39m\u001b[31m96\u001b[39m  0.637 GTCAAATTC…             1 VKFSV… VK    FS             2\n",
      "\u001b[90m10\u001b[39m         2 -\u001b[31m3\u001b[39m\u001b[31m.\u001b[39m\u001b[31m72\u001b[39m  1.28  GTCAAATTC…             1 VKFSV… VK    FS             2\n",
      "\u001b[90m# … with 172 more rows\u001b[39m\n"
     ]
    }
   ],
   "source": [
    "plot_data <- insert_lfc %>% \n",
    "  # Grab dicodon combination mixtures, plus the RH8 insert\n",
    "  filter(str_detect(insert_name, \"mixdicodons\") | insert == \"RHRHRHRHRHRHRHRH\") %>%\n",
    "  separate(insert_name, c(\"insert_type\", \"dicodon1\", \"dicodon2\", \"repeat_length\")) %>%\n",
    "  mutate(dicodon2 = if_else(is.na(repeat_length), dicodon1, dicodon2)) %>% \n",
    "  mutate(repeat_length = if_else(is.na(repeat_length), 8, as.numeric(repeat_length))) %>%\n",
    "  type_convert() %>%\n",
    "  mutate(diaa1 = as.character(translate(DNAStringSet(dicodon1), no.init.codon = T))) %>%\n",
    "  mutate(diaa2 = as.character(translate(DNAStringSet(dicodon2), no.init.codon = T))) %>%\n",
    "  select(-dicodon1, -dicodon2, -insert_type, -mean_lfc, -matches(\"n_barcodes|count\")) %>%\n",
    "  # pivot_wider(names_from = \"repeat_length\", values_from = c(\"mean_lfc\", \"insert\")) %>%\n",
    "  # arrange(mean_lfc_1 + mean_lfc_2 + mean_lfc_4) %>%\n",
    "  mutate(experiment = 2) %>% \n",
    "  print()"
   ]
  },
  {
   "cell_type": "markdown",
   "metadata": {},
   "source": [
    "### Plot  mRNA level of RH + HR combinations"
   ]
  },
  {
   "cell_type": "code",
   "execution_count": 62,
   "metadata": {
    "vscode": {
     "languageId": "r"
    }
   },
   "outputs": [
    {
     "data": {
      "image/png": "[encoded data removed]",
      "text/plain": [
       "plot without title"
      ]
     },
     "metadata": {
      "image/png": {
       "height": 210,
       "width": 126
      }
     },
     "output_type": "display_data"
    }
   ],
   "source": [
    "options(repr.plot.width=2.1, repr.plot.height=3.5)\n",
    "\n",
    "plot_data2 <- plot_data %>% \n",
    "  bind_rows(all_8xdiaa_data) %>% \n",
    "  filter(diaa1 %in% c(\"HR\", \"RH\"), diaa2 %in% c(\"RH\", \"HR\")) %>% \n",
    "  mutate(insert = fct_rev(fct_reorder(insert, -repeat_length))) %>% \n",
    "  filter(replicate == 1) %>% \n",
    "  group_by(insert, repeat_length) %>% \n",
    "  mutate(num = group_indices())\n",
    "\n",
    "plot1 <- plot_data2 %>% \n",
    "  ggplot(aes(x = lfc, y = num, shape = as.factor(replicate),\n",
    "             xmin = lfc - lfc_sd, xmax = lfc + lfc_sd,\n",
    "             )) +\n",
    "  facet_wrap(~experiment, ncol = 1, scales = \"fixed\") +\n",
    "  scale_y_continuous(position = \"right\", breaks = seq(1,8)) +\n",
    "  # scale_color_manual(values = cbPalette[2:3]) +\n",
    "  labs(color = \"\", y = \"\", x = \"mrna level (log2, a.u.)\") +\n",
    "  geom_errorbar(width=0.2) +\n",
    "  geom_point(size=1) +\n",
    "  theme(axis.text.y = element_blank(), \n",
    "        axis.ticks.y = element_blank(), \n",
    "        panel.grid.major.y = element_line(),\n",
    "        axis.line = element_blank(),\n",
    "        legend.position = \"none\") +\n",
    "  NULL\n",
    "plot1"
   ]
  },
  {
   "cell_type": "markdown",
   "metadata": {},
   "source": [
    "### Write RH + HR combinations to highlight pattern of variation"
   ]
  },
  {
   "cell_type": "code",
   "execution_count": 63,
   "metadata": {
    "vscode": {
     "languageId": "r"
    }
   },
   "outputs": [
    {
     "name": "stderr",
     "output_type": "stream",
     "text": [
      "Warning message:\n",
      "“`cols` is now required when using unnest().\n",
      "Please use `cols = c(insert)`”\n"
     ]
    },
    {
     "data": {
      "image/png": "[encoded data removed]",
      "text/plain": [
       "plot without title"
      ]
     },
     "metadata": {
      "image/png": {
       "height": 210,
       "width": 126
      }
     },
     "output_type": "display_data"
    }
   ],
   "source": [
    "options(repr.plot.width=2.1, repr.plot.height=3.5)\n",
    "\n",
    "plot2 <- plot_data2 %>% \n",
    "  select(num, replicate, repeat_length, experiment, insert) %>% \n",
    "  mutate(insert = str_split(insert, \"\")) %>% \n",
    "  mutate(insert = map(insert, enframe)) %>% \n",
    "  # rowwise() %>% \n",
    "  unnest() %>%\n",
    "  rename(pos = name, aa = value) %>% \n",
    "  ggplot(aes(x = pos, y = num, color = aa, label = aa)) +\n",
    "  facet_wrap(~experiment, ncol = 1, scales = \"fixed\") +\n",
    "  geom_text(size = 2) +\n",
    "  scale_y_continuous(position = \"right\") +\n",
    "  scale_x_continuous(breaks = c(1,4,8,12,16)) +\n",
    "  scale_color_manual(values = c(\"#00a5a7\", \"#ff0000\")) +\n",
    "  theme(axis.text.y = element_blank(), \n",
    "        axis.ticks.y = element_blank(), \n",
    "        axis.line = element_blank(),\n",
    "        legend.position = \"none\") +\n",
    "  labs(y = \"\", x = \"Position along dipeptide repeat\")\n",
    "plot2"
   ]
  },
  {
   "cell_type": "markdown",
   "metadata": {},
   "source": [
    "### Make a joint plot of RH-HR combination\n"
   ]
  },
  {
   "cell_type": "code",
   "execution_count": 64,
   "metadata": {
    "vscode": {
     "languageId": "r"
    }
   },
   "outputs": [
    {
     "data": {
      "image/png": "[encoded data removed]",
      "text/plain": [
       "plot without title"
      ]
     },
     "metadata": {
      "image/png": {
       "height": 156,
       "width": 180
      }
     },
     "output_type": "display_data"
    }
   ],
   "source": [
    "options(repr.plot.width=3, repr.plot.height=2.6)\n",
    "\n",
    "cowplot::plot_grid(plot2, plot1, rel_widths = c(3,2))\n",
    "\n",
    "ggsave(\"../figures/RH_HR_mix.pdf\", width = 3, height = 2.6)\n"
   ]
  },
  {
   "cell_type": "markdown",
   "metadata": {},
   "source": [
    "## Plot VK combination effects"
   ]
  },
  {
   "cell_type": "markdown",
   "metadata": {},
   "source": [
    "### Parse VK combinations"
   ]
  },
  {
   "cell_type": "code",
   "execution_count": 65,
   "metadata": {
    "vscode": {
     "languageId": "r"
    }
   },
   "outputs": [
    {
     "name": "stderr",
     "output_type": "stream",
     "text": [
      "Warning message:\n",
      "“Expected 4 pieces. Missing pieces filled with `NA` in 2 rows [23, 24].”\n",
      "\n",
      "\u001b[36m──\u001b[39m \u001b[1mColumn specification\u001b[22m \u001b[36m────────────────────────────────────────────────────────\u001b[39m\n",
      "cols(\n",
      "  seq = \u001b[31mcol_character()\u001b[39m,\n",
      "  insert_type = \u001b[31mcol_character()\u001b[39m,\n",
      "  dicodon1 = \u001b[31mcol_character()\u001b[39m,\n",
      "  dicodon2 = \u001b[31mcol_character()\u001b[39m,\n",
      "  insert = \u001b[31mcol_character()\u001b[39m\n",
      ")\n",
      "\n"
     ]
    },
    {
     "name": "stdout",
     "output_type": "stream",
     "text": [
      "\u001b[90m# A tibble: 182 × 9\u001b[39m\n",
      "   replicate   lfc lfc_sd seq        repeat_length insert diaa1 diaa2 experiment\n",
      "       \u001b[3m\u001b[90m<dbl>\u001b[39m\u001b[23m \u001b[3m\u001b[90m<dbl>\u001b[39m\u001b[23m  \u001b[3m\u001b[90m<dbl>\u001b[39m\u001b[23m \u001b[3m\u001b[90m<chr>\u001b[39m\u001b[23m              \u001b[3m\u001b[90m<dbl>\u001b[39m\u001b[23m \u001b[3m\u001b[90m<chr>\u001b[39m\u001b[23m  \u001b[3m\u001b[90m<chr>\u001b[39m\u001b[23m \u001b[3m\u001b[90m<chr>\u001b[39m\u001b[23m      \u001b[3m\u001b[90m<dbl>\u001b[39m\u001b[23m\n",
      "\u001b[90m 1\u001b[39m         1 -\u001b[31m2\u001b[39m\u001b[31m.\u001b[39m\u001b[31m82\u001b[39m  0.593 GTCAAAGTC…             4 VKVKV… VK    SF             2\n",
      "\u001b[90m 2\u001b[39m         2 -\u001b[31m5\u001b[39m\u001b[31m.\u001b[39m\u001b[31m99\u001b[39m  1.39  GTCAAAGTC…             4 VKVKV… VK    SF             2\n",
      "\u001b[90m 3\u001b[39m         1 -\u001b[31m4\u001b[39m\u001b[31m.\u001b[39m\u001b[31m43\u001b[39m  0.962 TTCAGTGTC…             1 FSVKF… FS    VK             2\n",
      "\u001b[90m 4\u001b[39m         2 -\u001b[31m4\u001b[39m\u001b[31m.\u001b[39m\u001b[31m18\u001b[39m  0.811 TTCAGTGTC…             1 FSVKF… FS    VK             2\n",
      "\u001b[90m 5\u001b[39m         1 -\u001b[31m3\u001b[39m\u001b[31m.\u001b[39m\u001b[31m33\u001b[39m  0.505 TTCAGTTTC…             4 FSFSF… FS    KV             2\n",
      "\u001b[90m 6\u001b[39m         2 -\u001b[31m4\u001b[39m\u001b[31m.\u001b[39m\u001b[31m36\u001b[39m  0.702 TTCAGTTTC…             4 FSFSF… FS    KV             2\n",
      "\u001b[90m 7\u001b[39m         1 -\u001b[31m3\u001b[39m\u001b[31m.\u001b[39m\u001b[31m96\u001b[39m  0.637 GTCAAATTC…             1 VKFSV… VK    FS             2\n",
      "\u001b[90m 8\u001b[39m         2 -\u001b[31m3\u001b[39m\u001b[31m.\u001b[39m\u001b[31m72\u001b[39m  1.28  GTCAAATTC…             1 VKFSV… VK    FS             2\n",
      "\u001b[90m 9\u001b[39m         1 -\u001b[31m4\u001b[39m\u001b[31m.\u001b[39m\u001b[31m34\u001b[39m  0.781 AGTTTCAAA…             1 SFKVS… SF    KV             2\n",
      "\u001b[90m10\u001b[39m         2 -\u001b[31m3\u001b[39m\u001b[31m.\u001b[39m\u001b[31m28\u001b[39m  0.626 AGTTTCAAA…             1 SFKVS… SF    KV             2\n",
      "\u001b[90m# … with 172 more rows\u001b[39m\n"
     ]
    }
   ],
   "source": [
    "\n",
    "plot_data <- insert_lfc %>% \n",
    "  filter(str_detect(insert_name, \"mixdicodons\") | insert == \"VKVKVKVKVKVKVKVK\" | insert == \"KVKVKVKVKVKVKVKV\") %>% \n",
    "  separate(insert_name, c(\"insert_type\", \"dicodon1\", \"dicodon2\", \"repeat_length\")) %>%\n",
    "  mutate(dicodon2 = if_else(is.na(repeat_length), dicodon1, dicodon2)) %>% \n",
    "  mutate(repeat_length = if_else(is.na(repeat_length), 8, as.numeric(repeat_length))) %>%\n",
    "  type_convert() %>%\n",
    "  mutate(diaa1 = as.character(translate(DNAStringSet(dicodon1), no.init.codon = T))) %>%\n",
    "  mutate(diaa2 = as.character(translate(DNAStringSet(dicodon2), no.init.codon = T))) %>%\n",
    "  select(-dicodon1, -dicodon2, -insert_type, -mean_lfc, -matches(\"n_barcodes|count\")) %>%\n",
    "  # pivot_wider(names_from = \"repeat_length\", values_from = c(\"mean_lfc\", \"insert\")) %>%\n",
    "  # arrange(mean_lfc_1 + mean_lfc_2 + mean_lfc_4) %>%\n",
    "  mutate(experiment = 2) %>% \n",
    "  print()\n"
   ]
  },
  {
   "cell_type": "markdown",
   "metadata": {},
   "source": [
    "### Plot  mRNA level of VK + KV combinations\n"
   ]
  },
  {
   "cell_type": "code",
   "execution_count": 66,
   "metadata": {
    "vscode": {
     "languageId": "r"
    }
   },
   "outputs": [
    {
     "data": {
      "image/png": "[encoded data removed]",
      "text/plain": [
       "plot without title"
      ]
     },
     "metadata": {
      "image/png": {
       "height": 210,
       "width": 126
      }
     },
     "output_type": "display_data"
    }
   ],
   "source": [
    "options(repr.plot.width=2.1, repr.plot.height=3.5)\n",
    "\n",
    "plot_data2 <- plot_data %>% \n",
    "  bind_rows(all_8xdiaa_data) %>% \n",
    "  filter(diaa1 %in% c(\"VK\", \"KV\"), diaa2 %in% c(\"VK\", \"KV\")) %>% \n",
    "  mutate(insert = fct_rev(fct_reorder(insert, -repeat_length))) %>% \n",
    "  filter(replicate == 1) %>% \n",
    "  group_by(insert, repeat_length) %>% \n",
    "  mutate(num = group_indices())\n",
    "\n",
    "plot1 <- plot_data2 %>% \n",
    "  ggplot(aes(x = lfc, y = num, shape = as.factor(replicate),\n",
    "             xmin = lfc - lfc_sd, xmax = lfc + lfc_sd,\n",
    "             )) +\n",
    "  facet_wrap(~experiment, ncol = 1, scales = \"fixed\") +\n",
    "  scale_y_continuous(position = \"right\", breaks = seq(1,8)) +\n",
    "  scale_x_continuous(limits = c(NA, 0)) + \n",
    "  # scale_color_manual(values = cbPalette[2:3]) +\n",
    "  labs(color = \"\", y = \"\", x = \"mrna level (log2, a.u.)\") +\n",
    "  geom_errorbar(width=0.2) +\n",
    "  geom_point(size=1) +\n",
    "  theme(axis.text.y = element_blank(), \n",
    "        axis.ticks.y = element_blank(), \n",
    "        panel.grid.major.y = element_line(),\n",
    "        axis.line = element_blank(),\n",
    "        legend.position = \"none\") +\n",
    "  NULL\n",
    "plot1"
   ]
  },
  {
   "cell_type": "markdown",
   "metadata": {},
   "source": [
    "\n",
    "### Write VK + KV combinations to highlight pattern of variation"
   ]
  },
  {
   "cell_type": "code",
   "execution_count": 67,
   "metadata": {
    "vscode": {
     "languageId": "r"
    }
   },
   "outputs": [
    {
     "name": "stderr",
     "output_type": "stream",
     "text": [
      "Warning message:\n",
      "“`cols` is now required when using unnest().\n",
      "Please use `cols = c(insert)`”\n"
     ]
    },
    {
     "data": {
      "image/png": "[encoded data removed]",
      "text/plain": [
       "plot without title"
      ]
     },
     "metadata": {
      "image/png": {
       "height": 210,
       "width": 126
      }
     },
     "output_type": "display_data"
    }
   ],
   "source": [
    "options(repr.plot.width=2.1, repr.plot.height=3.5)\n",
    "\n",
    "plot2 <- plot_data2 %>% \n",
    "  select(num, replicate, repeat_length, experiment, insert) %>% \n",
    "  mutate(insert = str_split(insert, \"\")) %>% \n",
    "  mutate(insert = map(insert, enframe)) %>% \n",
    "  # rowwise() %>% \n",
    "  unnest() %>%\n",
    "  rename(pos = name, aa = value) %>% \n",
    "  ggplot(aes(x = pos, y = num, color = aa, label = aa)) +\n",
    "  facet_wrap(~experiment, ncol = 1, scales = \"fixed\") +\n",
    "  geom_text(size = 2) +\n",
    "  scale_y_continuous(position = \"right\") +\n",
    "  scale_x_continuous(breaks = c(1,4,8,12,16)) +\n",
    "  scale_color_manual(values = c(\"#00a5a7\", \"#ff0000\")) +\n",
    "  theme(axis.text.y = element_blank(), \n",
    "        axis.ticks.y = element_blank(), \n",
    "        axis.line = element_blank(),\n",
    "        legend.position = \"none\") +\n",
    "  labs(y = \"\", x = \"Position along dipeptide repeat\")\n",
    "plot2\n"
   ]
  },
  {
   "cell_type": "markdown",
   "metadata": {},
   "source": [
    "### Make a joint plot of VK-KV combination"
   ]
  },
  {
   "cell_type": "code",
   "execution_count": 68,
   "metadata": {
    "vscode": {
     "languageId": "r"
    }
   },
   "outputs": [
    {
     "data": {
      "image/png": "[encoded data removed]",
      "text/plain": [
       "plot without title"
      ]
     },
     "metadata": {
      "image/png": {
       "height": 156,
       "width": 180
      }
     },
     "output_type": "display_data"
    }
   ],
   "source": [
    "options(repr.plot.width=3, repr.plot.height=2.6)\n",
    "\n",
    "cowplot::plot_grid(plot2, plot1, rel_widths = c(3,2))\n",
    "\n",
    "ggsave(\"../figures/VK_KV_mix.pdf\", width = 3, height = 2.6)"
   ]
  },
  {
   "cell_type": "markdown",
   "metadata": {},
   "source": [
    "## Plot SF combination effects"
   ]
  },
  {
   "cell_type": "markdown",
   "metadata": {},
   "source": [
    "\n",
    "### Parse all SF + FS combinations\n"
   ]
  },
  {
   "cell_type": "code",
   "execution_count": 69,
   "metadata": {
    "vscode": {
     "languageId": "r"
    }
   },
   "outputs": [
    {
     "name": "stderr",
     "output_type": "stream",
     "text": [
      "Warning message:\n",
      "“Expected 4 pieces. Missing pieces filled with `NA` in 2 rows [33, 34].”\n",
      "\n",
      "\u001b[36m──\u001b[39m \u001b[1mColumn specification\u001b[22m \u001b[36m────────────────────────────────────────────────────────\u001b[39m\n",
      "cols(\n",
      "  seq = \u001b[31mcol_character()\u001b[39m,\n",
      "  insert_type = \u001b[31mcol_character()\u001b[39m,\n",
      "  dicodon1 = \u001b[31mcol_character()\u001b[39m,\n",
      "  dicodon2 = \u001b[31mcol_character()\u001b[39m,\n",
      "  insert = \u001b[31mcol_character()\u001b[39m\n",
      ")\n",
      "\n"
     ]
    },
    {
     "name": "stdout",
     "output_type": "stream",
     "text": [
      "\u001b[90m# A tibble: 182 × 9\u001b[39m\n",
      "   replicate   lfc lfc_sd seq        repeat_length insert diaa1 diaa2 experiment\n",
      "       \u001b[3m\u001b[90m<dbl>\u001b[39m\u001b[23m \u001b[3m\u001b[90m<dbl>\u001b[39m\u001b[23m  \u001b[3m\u001b[90m<dbl>\u001b[39m\u001b[23m \u001b[3m\u001b[90m<chr>\u001b[39m\u001b[23m              \u001b[3m\u001b[90m<dbl>\u001b[39m\u001b[23m \u001b[3m\u001b[90m<chr>\u001b[39m\u001b[23m  \u001b[3m\u001b[90m<chr>\u001b[39m\u001b[23m \u001b[3m\u001b[90m<chr>\u001b[39m\u001b[23m      \u001b[3m\u001b[90m<dbl>\u001b[39m\u001b[23m\n",
      "\u001b[90m 1\u001b[39m         1 -\u001b[31m2\u001b[39m\u001b[31m.\u001b[39m\u001b[31m82\u001b[39m  0.593 GTCAAAGTC…             4 VKVKV… VK    SF             2\n",
      "\u001b[90m 2\u001b[39m         2 -\u001b[31m5\u001b[39m\u001b[31m.\u001b[39m\u001b[31m99\u001b[39m  1.39  GTCAAAGTC…             4 VKVKV… VK    SF             2\n",
      "\u001b[90m 3\u001b[39m         1 -\u001b[31m4\u001b[39m\u001b[31m.\u001b[39m\u001b[31m43\u001b[39m  0.962 TTCAGTGTC…             1 FSVKF… FS    VK             2\n",
      "\u001b[90m 4\u001b[39m         2 -\u001b[31m4\u001b[39m\u001b[31m.\u001b[39m\u001b[31m18\u001b[39m  0.811 TTCAGTGTC…             1 FSVKF… FS    VK             2\n",
      "\u001b[90m 5\u001b[39m         1 -\u001b[31m3\u001b[39m\u001b[31m.\u001b[39m\u001b[31m33\u001b[39m  0.505 TTCAGTTTC…             4 FSFSF… FS    KV             2\n",
      "\u001b[90m 6\u001b[39m         2 -\u001b[31m4\u001b[39m\u001b[31m.\u001b[39m\u001b[31m36\u001b[39m  0.702 TTCAGTTTC…             4 FSFSF… FS    KV             2\n",
      "\u001b[90m 7\u001b[39m         1 -\u001b[31m3\u001b[39m\u001b[31m.\u001b[39m\u001b[31m96\u001b[39m  0.637 GTCAAATTC…             1 VKFSV… VK    FS             2\n",
      "\u001b[90m 8\u001b[39m         2 -\u001b[31m3\u001b[39m\u001b[31m.\u001b[39m\u001b[31m72\u001b[39m  1.28  GTCAAATTC…             1 VKFSV… VK    FS             2\n",
      "\u001b[90m 9\u001b[39m         1 -\u001b[31m4\u001b[39m\u001b[31m.\u001b[39m\u001b[31m34\u001b[39m  0.781 AGTTTCAAA…             1 SFKVS… SF    KV             2\n",
      "\u001b[90m10\u001b[39m         2 -\u001b[31m3\u001b[39m\u001b[31m.\u001b[39m\u001b[31m28\u001b[39m  0.626 AGTTTCAAA…             1 SFKVS… SF    KV             2\n",
      "\u001b[90m# … with 172 more rows\u001b[39m\n"
     ]
    }
   ],
   "source": [
    "\n",
    "plot_data <- insert_lfc %>% \n",
    "  filter(str_detect(insert_name, \"mixdicodons\") | insert == \"FSFSFSFSFSFSFSFS\" | insert == \"SFSFSFSFSFSFSFSF\") %>% \n",
    "  separate(insert_name, c(\"insert_type\", \"dicodon1\", \"dicodon2\", \"repeat_length\")) %>%\n",
    "  mutate(dicodon2 = if_else(is.na(repeat_length), dicodon1, dicodon2)) %>% \n",
    "  mutate(repeat_length = if_else(is.na(repeat_length), 8, as.numeric(repeat_length))) %>%\n",
    "  type_convert() %>%\n",
    "  mutate(diaa1 = as.character(translate(DNAStringSet(dicodon1), no.init.codon = T))) %>%\n",
    "  mutate(diaa2 = as.character(translate(DNAStringSet(dicodon2), no.init.codon = T))) %>%\n",
    "  select(-dicodon1, -dicodon2, -insert_type, -mean_lfc, -matches(\"n_barcodes|count\")) %>%\n",
    "  # pivot_wider(names_from = \"repeat_length\", values_from = c(\"mean_lfc\", \"insert\")) %>%\n",
    "  # arrange(mean_lfc_1 + mean_lfc_2 + mean_lfc_4) %>%\n",
    "  mutate(experiment = 2) %>% \n",
    "  print()"
   ]
  },
  {
   "cell_type": "markdown",
   "metadata": {},
   "source": [
    "### Plot  mRNA level of SF + FS combinations\n",
    "```{r, fig.width=2, fig.height=3.5}"
   ]
  },
  {
   "cell_type": "code",
   "execution_count": 70,
   "metadata": {
    "vscode": {
     "languageId": "r"
    }
   },
   "outputs": [
    {
     "data": {
      "image/png": "[encoded data removed]",
      "text/plain": [
       "plot without title"
      ]
     },
     "metadata": {
      "image/png": {
       "height": 210,
       "width": 126
      }
     },
     "output_type": "display_data"
    }
   ],
   "source": [
    "options(repr.plot.width=2.1, repr.plot.height=3.5)\n",
    "\n",
    "plot_data2 <- plot_data %>% \n",
    "  bind_rows(all_8xdiaa_data) %>% \n",
    "  filter(diaa1 %in% c(\"SF\", \"FS\"), diaa2 %in% c(\"SF\", \"FS\")) %>% \n",
    "  mutate(insert = fct_rev(fct_reorder(insert, -repeat_length))) %>% \n",
    "  filter(replicate == 1) %>%\n",
    "  group_by(insert, repeat_length) %>% \n",
    "  mutate(num = group_indices())\n",
    "\n",
    "plot1 <- plot_data2 %>% \n",
    "  ggplot(aes(x = lfc, y = num, shape = as.factor(replicate),\n",
    "             xmin = lfc - lfc_sd, xmax = lfc + lfc_sd,\n",
    "             )) +\n",
    "  facet_wrap(~experiment, ncol = 1, scales = \"fixed\") +\n",
    "  scale_y_continuous(position = \"right\", breaks = seq(1,8)) +\n",
    "  # scale_x_continuous(limits = c(NA, 0)) + \n",
    "  # scale_color_manual(values = cbPalette[2:3]) +\n",
    "  labs(color = \"\", y = \"\", x = \"mrna level (log2, a.u.)\") +\n",
    "  geom_errorbar(width=0.2) +\n",
    "  geom_point(size=1) +\n",
    "  theme(axis.text.y = element_blank(), \n",
    "        axis.ticks.y = element_blank(), \n",
    "        panel.grid.major.y = element_line(),\n",
    "        axis.line = element_blank(),\n",
    "        legend.position = \"none\") +\n",
    "  NULL\n",
    "plot1"
   ]
  },
  {
   "cell_type": "markdown",
   "metadata": {},
   "source": [
    "### Write SF + FS combinations to highlight pattern of variation\n",
    "\n",
    "```{r, fig.width=2.1, fig.height=3.5}"
   ]
  },
  {
   "cell_type": "code",
   "execution_count": 71,
   "metadata": {
    "vscode": {
     "languageId": "r"
    }
   },
   "outputs": [
    {
     "name": "stderr",
     "output_type": "stream",
     "text": [
      "Warning message:\n",
      "“`cols` is now required when using unnest().\n",
      "Please use `cols = c(insert)`”\n"
     ]
    },
    {
     "data": {
      "image/png": "[encoded data removed]",
      "text/plain": [
       "plot without title"
      ]
     },
     "metadata": {
      "image/png": {
       "height": 210,
       "width": 126
      }
     },
     "output_type": "display_data"
    }
   ],
   "source": [
    "options(repr.plot.width=2.1, repr.plot.height=3.5)\n",
    "\n",
    "plot2 <- plot_data2 %>% \n",
    "  select(num, replicate, repeat_length, experiment, insert) %>% \n",
    "  mutate(insert = str_split(insert, \"\")) %>% \n",
    "  mutate(insert = map(insert, enframe)) %>% \n",
    "  # rowwise() %>% \n",
    "  unnest() %>%\n",
    "  rename(pos = name, aa = value) %>% \n",
    "  ggplot(aes(x = pos, y = num, color = aa, label = aa)) +\n",
    "  facet_wrap(~experiment, ncol = 1, scales = \"fixed\") +\n",
    "  geom_text(size = 2) +\n",
    "  scale_y_continuous(position = \"right\") +\n",
    "  scale_x_continuous(breaks = c(1,4,8,12,16)) +\n",
    "  scale_color_manual(values = c(\"#00a5a7\", \"#ff0000\")) +\n",
    "  theme(axis.text.y = element_blank(), \n",
    "        axis.ticks.y = element_blank(), \n",
    "        axis.line = element_blank(),\n",
    "        legend.position = \"none\") +\n",
    "  labs(y = \"\", x = \"Position along dipeptide repeat\")\n",
    "plot2"
   ]
  },
  {
   "cell_type": "markdown",
   "metadata": {},
   "source": [
    "\n",
    "### Make a joint plot of SF-FS combination"
   ]
  },
  {
   "cell_type": "code",
   "execution_count": 72,
   "metadata": {
    "vscode": {
     "languageId": "r"
    }
   },
   "outputs": [
    {
     "data": {
      "image/png": "[encoded data removed]",
      "text/plain": [
       "plot without title"
      ]
     },
     "metadata": {
      "image/png": {
       "height": 156,
       "width": 180
      }
     },
     "output_type": "display_data"
    }
   ],
   "source": [
    "options(repr.plot.width=3, repr.plot.height=2.6)\n",
    "\n",
    "cowplot::plot_grid(plot2, plot1, rel_widths = c(3,2))\n",
    "\n",
    "ggsave(\"../figures/SF_FS_mix.pdf\", width = 3, height = 2.6)\n"
   ]
  },
  {
   "cell_type": "markdown",
   "metadata": {},
   "source": [
    "## Plot SF + VK alpha combinations\n",
    "\n",
    "- Combinations form alpha helicies or beta strands  "
   ]
  },
  {
   "cell_type": "markdown",
   "metadata": {},
   "source": [
    "### Parse all SF + VK alternating combinations"
   ]
  },
  {
   "cell_type": "code",
   "execution_count": 73,
   "metadata": {
    "vscode": {
     "languageId": "r"
    }
   },
   "outputs": [
    {
     "name": "stderr",
     "output_type": "stream",
     "text": [
      "Warning message:\n",
      "“Expected 4 pieces. Missing pieces filled with `NA` in 4 rows [23, 24, 35, 36].”\n",
      "\n",
      "\u001b[36m──\u001b[39m \u001b[1mColumn specification\u001b[22m \u001b[36m────────────────────────────────────────────────────────\u001b[39m\n",
      "cols(\n",
      "  seq = \u001b[31mcol_character()\u001b[39m,\n",
      "  insert_type = \u001b[31mcol_character()\u001b[39m,\n",
      "  dicodon1 = \u001b[31mcol_character()\u001b[39m,\n",
      "  dicodon2 = \u001b[31mcol_character()\u001b[39m,\n",
      "  insert = \u001b[31mcol_character()\u001b[39m\n",
      ")\n",
      "\n"
     ]
    },
    {
     "name": "stdout",
     "output_type": "stream",
     "text": [
      "\u001b[90m# A tibble: 184 × 13\u001b[39m\n",
      "   replicate   lfc lfc_sd seq        insert_type dicodon1 dicodon2 repeat_length\n",
      "       \u001b[3m\u001b[90m<dbl>\u001b[39m\u001b[23m \u001b[3m\u001b[90m<dbl>\u001b[39m\u001b[23m  \u001b[3m\u001b[90m<dbl>\u001b[39m\u001b[23m \u001b[3m\u001b[90m<chr>\u001b[39m\u001b[23m      \u001b[3m\u001b[90m<chr>\u001b[39m\u001b[23m       \u001b[3m\u001b[90m<chr>\u001b[39m\u001b[23m    \u001b[3m\u001b[90m<chr>\u001b[39m\u001b[23m            \u001b[3m\u001b[90m<dbl>\u001b[39m\u001b[23m\n",
      "\u001b[90m 1\u001b[39m         1 -\u001b[31m4\u001b[39m\u001b[31m.\u001b[39m\u001b[31m43\u001b[39m  0.962 TTCAGTGTC… mixdicodons TTCAGT   GTCAAA               1\n",
      "\u001b[90m 2\u001b[39m         2 -\u001b[31m4\u001b[39m\u001b[31m.\u001b[39m\u001b[31m18\u001b[39m  0.811 TTCAGTGTC… mixdicodons TTCAGT   GTCAAA               1\n",
      "\u001b[90m 3\u001b[39m         1 -\u001b[31m3\u001b[39m\u001b[31m.\u001b[39m\u001b[31m96\u001b[39m  0.637 GTCAAATTC… mixdicodons GTCAAA   TTCAGT               1\n",
      "\u001b[90m 4\u001b[39m         2 -\u001b[31m3\u001b[39m\u001b[31m.\u001b[39m\u001b[31m72\u001b[39m  1.28  GTCAAATTC… mixdicodons GTCAAA   TTCAGT               1\n",
      "\u001b[90m 5\u001b[39m         1 -\u001b[31m4\u001b[39m\u001b[31m.\u001b[39m\u001b[31m34\u001b[39m  0.781 AGTTTCAAA… mixdicodons AGTTTC   AAAGTC               1\n",
      "\u001b[90m 6\u001b[39m         2 -\u001b[31m3\u001b[39m\u001b[31m.\u001b[39m\u001b[31m28\u001b[39m  0.626 AGTTTCAAA… mixdicodons AGTTTC   AAAGTC               1\n",
      "\u001b[90m 7\u001b[39m         1 -\u001b[31m4\u001b[39m\u001b[31m.\u001b[39m\u001b[31m14\u001b[39m  1.53  AAAGTCAGT… mixdicodons AAAGTC   AGTTTC               1\n",
      "\u001b[90m 8\u001b[39m         2 -\u001b[31m3\u001b[39m\u001b[31m.\u001b[39m\u001b[31m25\u001b[39m  0.719 AAAGTCAGT… mixdicodons AAAGTC   AGTTTC               1\n",
      "\u001b[90m 9\u001b[39m         1 -\u001b[31m1\u001b[39m\u001b[31m.\u001b[39m\u001b[31m42\u001b[39m  0.263 AAAGTCGTC… mixdicodons AAAGTC   GTCAAA               1\n",
      "\u001b[90m10\u001b[39m         2 -\u001b[31m1\u001b[39m\u001b[31m.\u001b[39m\u001b[31m41\u001b[39m  0.427 AAAGTCGTC… mixdicodons AAAGTC   GTCAAA               1\n",
      "\u001b[90m# … with 174 more rows, and 5 more variables: mean_lfc <dbl>, insert <chr>,\u001b[39m\n",
      "\u001b[90m#   diaa1 <chr>, diaa2 <chr>, experiment <dbl>\u001b[39m\n"
     ]
    }
   ],
   "source": [
    "\n",
    "plot_data <- insert_lfc %>% \n",
    "  filter(str_detect(insert_name, \"mixdicodons\") | insert %in% c(\"SFSFSFSFSFSFSFSF\", \"VKVKVKVKVKVKVKVK\")) %>% \n",
    "  separate(insert_name, c(\"insert_type\", \"dicodon1\", \"dicodon2\", \"repeat_length\")) %>%\n",
    "  mutate(dicodon2 = if_else(is.na(repeat_length), dicodon1, dicodon2)) %>% \n",
    "  mutate(repeat_length = if_else(is.na(repeat_length), 8, as.numeric(repeat_length))) %>%\n",
    "  type_convert() %>%\n",
    "  mutate(diaa1 = as.character(translate(DNAStringSet(dicodon1), no.init.codon = T))) %>%\n",
    "  mutate(diaa2 = as.character(translate(DNAStringSet(dicodon2), no.init.codon = T))) %>%\n",
    "  # select(-dicodon1, -dicodon2, -insert_type, -mean_lfc, -matches(\"n_barcodes|count\")) %>%\n",
    "  # pivot_wider(names_from = \"repeat_length\", values_from = c(\"mean_lfc\", \"insert\")) %>%\n",
    "  # arrange(mean_lfc_1 + mean_lfc_2 + mean_lfc_4) %>%\n",
    "  mutate(experiment = 2) %>%\n",
    "  arrange(repeat_length) %>%\n",
    "  # filter(str_detect(insert, \"SV|SK\")) %>% \n",
    "  print()"
   ]
  },
  {
   "cell_type": "code",
   "execution_count": 74,
   "metadata": {
    "vscode": {
     "languageId": "r"
    }
   },
   "outputs": [],
   "source": [
    "### Plot  mRNA level of SFVKx4 combinations"
   ]
  },
  {
   "cell_type": "code",
   "execution_count": 75,
   "metadata": {
    "vscode": {
     "languageId": "r"
    }
   },
   "outputs": [
    {
     "name": "stdout",
     "output_type": "stream",
     "text": [
      "\u001b[90m# A tibble: 8 × 15\u001b[39m\n",
      "\u001b[90m# Groups:   insert [8]\u001b[39m\n",
      "  replicate     lfc lfc_sd seq       insert_type dicodon1 dicodon2 repeat_length\n",
      "      \u001b[3m\u001b[90m<dbl>\u001b[39m\u001b[23m   \u001b[3m\u001b[90m<dbl>\u001b[39m\u001b[23m  \u001b[3m\u001b[90m<dbl>\u001b[39m\u001b[23m \u001b[3m\u001b[90m<chr>\u001b[39m\u001b[23m     \u001b[3m\u001b[90m<chr>\u001b[39m\u001b[23m       \u001b[3m\u001b[90m<chr>\u001b[39m\u001b[23m    \u001b[3m\u001b[90m<chr>\u001b[39m\u001b[23m            \u001b[3m\u001b[90m<dbl>\u001b[39m\u001b[23m\n",
      "\u001b[90m1\u001b[39m         1 -\u001b[31m4\u001b[39m\u001b[31m.\u001b[39m\u001b[31m43\u001b[39m    0.962 TTCAGTGT… mixdicodons TTCAGT   GTCAAA               1\n",
      "\u001b[90m2\u001b[39m         1 -\u001b[31m3\u001b[39m\u001b[31m.\u001b[39m\u001b[31m96\u001b[39m    0.637 GTCAAATT… mixdicodons GTCAAA   TTCAGT               1\n",
      "\u001b[90m3\u001b[39m         1 -\u001b[31m4\u001b[39m\u001b[31m.\u001b[39m\u001b[31m34\u001b[39m    0.781 AGTTTCAA… mixdicodons AGTTTC   AAAGTC               1\n",
      "\u001b[90m4\u001b[39m         1 -\u001b[31m4\u001b[39m\u001b[31m.\u001b[39m\u001b[31m14\u001b[39m    1.53  AAAGTCAG… mixdicodons AAAGTC   AGTTTC               1\n",
      "\u001b[90m5\u001b[39m         1 -\u001b[31m0\u001b[39m\u001b[31m.\u001b[39m\u001b[31m585\u001b[39m   0.288 AGTTTCGT… mixdicodons AGTTTC   GTCAAA               1\n",
      "\u001b[90m6\u001b[39m         1 -\u001b[31m0\u001b[39m\u001b[31m.\u001b[39m\u001b[31m0\u001b[39m\u001b[31m38\u001b[4m3\u001b[24m\u001b[39m  0.193 GTCAAAAG… mixdicodons GTCAAA   AGTTTC               1\n",
      "\u001b[90m7\u001b[39m         1 -\u001b[31m0\u001b[39m\u001b[31m.\u001b[39m\u001b[31m229\u001b[39m   0.298 AAAGTCTT… mixdicodons AAAGTC   TTCAGT               1\n",
      "\u001b[90m8\u001b[39m         1  0.538   0.320 TTCAGTAA… mixdicodons TTCAGT   AAAGTC               1\n",
      "\u001b[90m# … with 7 more variables: mean_lfc <dbl>, insert <fct>, diaa1 <chr>,\u001b[39m\n",
      "\u001b[90m#   diaa2 <chr>, experiment <dbl>, num <int>, strand <lgl>\u001b[39m\n"
     ]
    },
    {
     "name": "stderr",
     "output_type": "stream",
     "text": [
      "Warning message:\n",
      "“`guides(<scale> = FALSE)` is deprecated. Please use `guides(<scale> = \"none\")` instead.”\n"
     ]
    },
    {
     "data": {
      "image/png": "[encoded data removed]",
      "text/plain": [
       "plot without title"
      ]
     },
     "metadata": {
      "image/png": {
       "height": 150,
       "width": 246
      }
     },
     "output_type": "display_data"
    }
   ],
   "source": [
    "options(repr.plot.width=4.1, repr.plot.height=2.5)\n",
    "\n",
    "plot_data2 <- plot_data %>% \n",
    "  bind_rows(all_8xdiaa_data) %>% \n",
    "  filter((diaa1 %in% c(\"VK\", \"KV\") & diaa2 %in% c(\"SF\", \"FS\")) | \n",
    "         (diaa2 %in% c(\"VK\", \"KV\") & diaa1 %in% c(\"SF\", \"FS\")) | \n",
    "         (diaa1 == diaa2 & diaa1 %in% c(\"VK\", \"KV\", \"SF\", \"FS\"))) %>% \n",
    "  filter(repeat_length <= 1 | repeat_length >=9) %>% \n",
    "  mutate(insert = fct_rev(fct_reorder(paste0(\"4×\", substr(insert, 1, 4)), -lfc))) %>% \n",
    "  # mutate(diaa1 = fct_relevel(diaa1, \"SF\", \"FS\", \"VK\", \"KV\")) %>% \n",
    "  # mutate(diaa2 = fct_relevel(diaa2, \"SF\", \"FS\", \"VK\", \"KV\")) %>% \n",
    "  # group_by(repeat_length, diaa1, diaa2) %>% \n",
    "  filter(replicate == 1) %>% \n",
    "  group_by(insert) %>% \n",
    "  mutate(num = group_indices()) %>% \n",
    "  mutate(strand = if_else(str_detect(insert, \"KVSF|VKFS|SFKV|FSVK\"), T, F)) %>% \n",
    "  print()\n",
    "\n",
    "plot1 <- plot_data2 %>% \n",
    "  ggplot(aes(x = lfc, y = insert, color = strand,\n",
    "             xmin = lfc - lfc_sd, xmax = lfc + lfc_sd)) +\n",
    "  # scale_y_continuous(position = \"right\", breaks = seq(1,12)) +\n",
    "  scale_x_continuous(breaks = seq(-6, 0, 2)) +\n",
    "  scale_color_manual(values = cbPalette[1:2]) +\n",
    "  labs(color = \"\", y = \"\", x = \"mRNA level (log2, a.u.)\", shape = \"replicate\") +\n",
    "  geom_errorbar(width = 0.2) +\n",
    "  geom_point(size = 3) +\n",
    "  theme(axis.ticks.y = element_blank(), \n",
    "        panel.grid.major.y = element_line(),\n",
    "        axis.line.y = element_blank(),\n",
    "        legend.position = \"right\") +\n",
    "  guides(color = F) +\n",
    "  NULL\n",
    "\n",
    "ggsave(\"../figures/SVKF_mrna_levels.pdf\", width = 4.1, height = 2.5)\n",
    "\n",
    "plot1"
   ]
  },
  {
   "cell_type": "code",
   "execution_count": null,
   "metadata": {
    "vscode": {
     "languageId": "r"
    }
   },
   "outputs": [],
   "source": []
  }
 ],
 "metadata": {
  "kernelspec": {
   "display_name": "Python 3.10.6 ('R_project_repo_1.13.0')",
   "language": "python",
   "name": "python3"
  },
  "language_info": {
   "codemirror_mode": "r",
   "file_extension": ".r",
   "mimetype": "text/x-r-source",
   "name": "python",
   "pygments_lexer": "r",
   "version": "3.10.6"
  },
  "orig_nbformat": 4,
  "vscode": {
   "interpreter": {
    "hash": "27bcb26b70cc9b89b66fa5d78caf7590339c97b4860fa5e6e791a51c713097ab"
   }
  }
 },
 "nbformat": 4,
 "nbformat_minor": 2
}
