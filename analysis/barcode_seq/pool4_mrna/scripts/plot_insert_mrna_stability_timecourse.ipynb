{
 "cells": [
  {
   "cell_type": "markdown",
   "metadata": {},
   "source": [
    "## Plot effects of inserts on mRNA levels\n",
    "\n"
   ]
  },
  {
   "cell_type": "markdown",
   "metadata": {},
   "source": [
    "### Load libraries and define analysis-specific parameters"
   ]
  },
  {
   "cell_type": "code",
   "execution_count": 1,
   "metadata": {
    "vscode": {
     "languageId": "r"
    }
   },
   "outputs": [
    {
     "name": "stderr",
     "output_type": "stream",
     "text": [
      "Loading required package: BiocGenerics\n",
      "\n",
      "\n",
      "Attaching package: ‘BiocGenerics’\n",
      "\n",
      "\n",
      "The following objects are masked from ‘package:stats’:\n",
      "\n",
      "    IQR, mad, sd, var, xtabs\n",
      "\n",
      "\n",
      "The following objects are masked from ‘package:base’:\n",
      "\n",
      "    anyDuplicated, append, as.data.frame, basename, cbind, colnames,\n",
      "    dirname, do.call, duplicated, eval, evalq, Filter, Find, get, grep,\n",
      "    grepl, intersect, is.unsorted, lapply, Map, mapply, match, mget,\n",
      "    order, paste, pmax, pmax.int, pmin, pmin.int, Position, rank,\n",
      "    rbind, Reduce, rownames, sapply, setdiff, sort, table, tapply,\n",
      "    union, unique, unsplit, which.max, which.min\n",
      "\n",
      "\n",
      "Loading required package: S4Vectors\n",
      "\n",
      "Loading required package: stats4\n",
      "\n",
      "\n",
      "Attaching package: ‘S4Vectors’\n",
      "\n",
      "\n",
      "The following objects are masked from ‘package:base’:\n",
      "\n",
      "    expand.grid, I, unname\n",
      "\n",
      "\n",
      "Loading required package: IRanges\n",
      "\n",
      "Loading required package: XVector\n",
      "\n",
      "Loading required package: GenomeInfoDb\n",
      "\n",
      "\n",
      "Attaching package: ‘Biostrings’\n",
      "\n",
      "\n",
      "The following object is masked from ‘package:base’:\n",
      "\n",
      "    strsplit\n",
      "\n",
      "\n",
      "── \u001b[1mAttaching packages\u001b[22m ─────────────────────────────────────── tidyverse 1.3.1 ──\n",
      "\n",
      "\u001b[32m✔\u001b[39m \u001b[34mggplot2\u001b[39m 3.3.5     \u001b[32m✔\u001b[39m \u001b[34mpurrr  \u001b[39m 0.3.4\n",
      "\u001b[32m✔\u001b[39m \u001b[34mtibble \u001b[39m 3.1.7     \u001b[32m✔\u001b[39m \u001b[34mdplyr  \u001b[39m 1.0.7\n",
      "\u001b[32m✔\u001b[39m \u001b[34mtidyr  \u001b[39m 1.1.4     \u001b[32m✔\u001b[39m \u001b[34mstringr\u001b[39m 1.4.0\n",
      "\u001b[32m✔\u001b[39m \u001b[34mreadr  \u001b[39m 2.0.2     \u001b[32m✔\u001b[39m \u001b[34mforcats\u001b[39m 0.5.1\n",
      "\n",
      "── \u001b[1mConflicts\u001b[22m ────────────────────────────────────────── tidyverse_conflicts() ──\n",
      "\u001b[31m✖\u001b[39m \u001b[34mdplyr\u001b[39m::\u001b[32mcollapse()\u001b[39m   masks \u001b[34mBiostrings\u001b[39m::collapse(), \u001b[34mIRanges\u001b[39m::collapse()\n",
      "\u001b[31m✖\u001b[39m \u001b[34mdplyr\u001b[39m::\u001b[32mcombine()\u001b[39m    masks \u001b[34mBiocGenerics\u001b[39m::combine()\n",
      "\u001b[31m✖\u001b[39m \u001b[34mpurrr\u001b[39m::\u001b[32mcompact()\u001b[39m    masks \u001b[34mXVector\u001b[39m::compact()\n",
      "\u001b[31m✖\u001b[39m \u001b[34mdplyr\u001b[39m::\u001b[32mdesc()\u001b[39m       masks \u001b[34mIRanges\u001b[39m::desc()\n",
      "\u001b[31m✖\u001b[39m \u001b[34mtidyr\u001b[39m::\u001b[32mexpand()\u001b[39m     masks \u001b[34mS4Vectors\u001b[39m::expand()\n",
      "\u001b[31m✖\u001b[39m \u001b[34mdplyr\u001b[39m::\u001b[32mfilter()\u001b[39m     masks \u001b[34mstats\u001b[39m::filter()\n",
      "\u001b[31m✖\u001b[39m \u001b[34mdplyr\u001b[39m::\u001b[32mfirst()\u001b[39m      masks \u001b[34mS4Vectors\u001b[39m::first()\n",
      "\u001b[31m✖\u001b[39m \u001b[34mdplyr\u001b[39m::\u001b[32mlag()\u001b[39m        masks \u001b[34mstats\u001b[39m::lag()\n",
      "\u001b[31m✖\u001b[39m \u001b[34mggplot2\u001b[39m::\u001b[32mPosition()\u001b[39m masks \u001b[34mBiocGenerics\u001b[39m::Position(), \u001b[34mbase\u001b[39m::Position()\n",
      "\u001b[31m✖\u001b[39m \u001b[34mpurrr\u001b[39m::\u001b[32mreduce()\u001b[39m     masks \u001b[34mIRanges\u001b[39m::reduce()\n",
      "\u001b[31m✖\u001b[39m \u001b[34mdplyr\u001b[39m::\u001b[32mrename()\u001b[39m     masks \u001b[34mS4Vectors\u001b[39m::rename()\n",
      "\u001b[31m✖\u001b[39m \u001b[34mdplyr\u001b[39m::\u001b[32mslice()\u001b[39m      masks \u001b[34mXVector\u001b[39m::slice(), \u001b[34mIRanges\u001b[39m::slice()\n",
      "\n"
     ]
    }
   ],
   "source": [
    "library(Biostrings)\n",
    "library(tidyverse)\n",
    "library(rasilabRtemplates)"
   ]
  },
  {
   "cell_type": "markdown",
   "metadata": {},
   "source": [
    "### Read in barcode counts"
   ]
  },
  {
   "cell_type": "code",
   "execution_count": 2,
   "metadata": {
    "vscode": {
     "languageId": "r"
    }
   },
   "outputs": [
    {
     "name": "stderr",
     "output_type": "stream",
     "text": [
      "\u001b[1mRows: \u001b[22m\u001b[34m27840\u001b[39m \u001b[1mColumns: \u001b[22m\u001b[34m7\u001b[39m\n",
      "\u001b[36m──\u001b[39m \u001b[1mColumn specification\u001b[22m \u001b[36m────────────────────────────────────────────────────────\u001b[39m\n",
      "\u001b[1mDelimiter:\u001b[22m \"\\t\"\n",
      "\u001b[31mchr\u001b[39m (2): sample_name, cellline\n",
      "\u001b[32mdbl\u001b[39m (5): pool, insert_num, barcode_num, barcode_count, linkage_count\n",
      "\n",
      "\u001b[36mℹ\u001b[39m Use `spec()` to retrieve the full column specification for this data.\n",
      "\u001b[36mℹ\u001b[39m Specify the column types or set `show_col_types = FALSE` to quiet this message.\n"
     ]
    },
    {
     "name": "stdout",
     "output_type": "stream",
     "text": [
      "\u001b[90m# A tibble: 27,840 × 7\u001b[39m\n",
      "   sample_name cellline  pool insert_num barcode_num barcode_count linkage_count\n",
      "   \u001b[3m\u001b[90m<chr>\u001b[39m\u001b[23m       \u001b[3m\u001b[90m<chr>\u001b[39m\u001b[23m    \u001b[3m\u001b[90m<dbl>\u001b[39m\u001b[23m      \u001b[3m\u001b[90m<dbl>\u001b[39m\u001b[23m       \u001b[3m\u001b[90m<dbl>\u001b[39m\u001b[23m         \u001b[3m\u001b[90m<dbl>\u001b[39m\u001b[23m         \u001b[3m\u001b[90m<dbl>\u001b[39m\u001b[23m\n",
      "\u001b[90m 1\u001b[39m stall4cont… K562         6          5       \u001b[4m1\u001b[24m\u001b[4m2\u001b[24m338          \u001b[4m2\u001b[24m551             1\n",
      "\u001b[90m 2\u001b[39m stall4cont… HeLa         5          4        \u001b[4m7\u001b[24m889          \u001b[4m1\u001b[24m779           303\n",
      "\u001b[90m 3\u001b[39m stall4cont… HeLa         5          5        \u001b[4m7\u001b[24m888          \u001b[4m1\u001b[24m628           431\n",
      "\u001b[90m 4\u001b[39m stall4cont… HeLa         5          2        \u001b[4m7\u001b[24m909          \u001b[4m1\u001b[24m107           223\n",
      "\u001b[90m 5\u001b[39m stall4cont… K562         6          3       \u001b[4m1\u001b[24m\u001b[4m0\u001b[24m487          \u001b[4m1\u001b[24m041           333\n",
      "\u001b[90m 6\u001b[39m stall4cont… HeLa         5          3        \u001b[4m7\u001b[24m899          \u001b[4m1\u001b[24m000           254\n",
      "\u001b[90m 7\u001b[39m stall4cont… HCT116       4          7        \u001b[4m7\u001b[24m845           970             1\n",
      "\u001b[90m 8\u001b[39m stall4cont… HeLa         5          5        \u001b[4m8\u001b[24m016           941           151\n",
      "\u001b[90m 9\u001b[39m stall4cont… K562         6          5       \u001b[4m1\u001b[24m\u001b[4m1\u001b[24m819           938             2\n",
      "\u001b[90m10\u001b[39m stall4cont… HCT116       4          5        \u001b[4m7\u001b[24m208           934             2\n",
      "\u001b[90m# … with 27,830 more rows\u001b[39m\n"
     ]
    },
    {
     "data": {
      "text/html": [
       "<table class=\"dataframe\">\n",
       "<caption>A spec_tbl_df: 15905 × 8</caption>\n",
       "<thead>\n",
       "\t<tr><th scope=col>sample_name</th><th scope=col>cellline</th><th scope=col>pool</th><th scope=col>insert_num</th><th scope=col>barcode_num</th><th scope=col>barcode_count</th><th scope=col>linkage_count</th><th scope=col>time</th></tr>\n",
       "\t<tr><th scope=col>&lt;chr&gt;</th><th scope=col>&lt;chr&gt;</th><th scope=col>&lt;dbl&gt;</th><th scope=col>&lt;dbl&gt;</th><th scope=col>&lt;dbl&gt;</th><th scope=col>&lt;dbl&gt;</th><th scope=col>&lt;dbl&gt;</th><th scope=col>&lt;dbl&gt;</th></tr>\n",
       "</thead>\n",
       "<tbody>\n",
       "\t<tr><td>t0</td><td>HeLa   </td><td>5</td><td>3</td><td>10186</td><td>2946</td><td>  1</td><td>0</td></tr>\n",
       "\t<tr><td>t0</td><td>NA     </td><td>2</td><td>5</td><td> 3369</td><td>2260</td><td>  1</td><td>0</td></tr>\n",
       "\t<tr><td>t0</td><td>HEK293T</td><td>3</td><td>7</td><td> 3617</td><td>1520</td><td>279</td><td>0</td></tr>\n",
       "\t<tr><td>t0</td><td>HEK293T</td><td>3</td><td>7</td><td> 3630</td><td>1346</td><td>243</td><td>0</td></tr>\n",
       "\t<tr><td>t0</td><td>HEK293T</td><td>3</td><td>7</td><td> 3640</td><td>1343</td><td>228</td><td>0</td></tr>\n",
       "\t<tr><td>t0</td><td>HEK293T</td><td>3</td><td>7</td><td> 3662</td><td>1101</td><td>207</td><td>0</td></tr>\n",
       "\t<tr><td>t0</td><td>HEK293T</td><td>3</td><td>7</td><td> 3626</td><td>1005</td><td>253</td><td>0</td></tr>\n",
       "\t<tr><td>t0</td><td>HEK293T</td><td>3</td><td>7</td><td> 3686</td><td> 997</td><td>184</td><td>0</td></tr>\n",
       "\t<tr><td>t0</td><td>HEK293T</td><td>3</td><td>7</td><td> 3818</td><td> 976</td><td>133</td><td>0</td></tr>\n",
       "\t<tr><td>t0</td><td>HEK293T</td><td>3</td><td>7</td><td> 3753</td><td> 975</td><td>155</td><td>0</td></tr>\n",
       "\t<tr><td>t0</td><td>K562   </td><td>6</td><td>5</td><td>11845</td><td> 930</td><td>  1</td><td>0</td></tr>\n",
       "\t<tr><td>t0</td><td>HEK293T</td><td>3</td><td>7</td><td> 3834</td><td> 924</td><td>130</td><td>0</td></tr>\n",
       "\t<tr><td>t0</td><td>HEK293T</td><td>3</td><td>5</td><td> 3604</td><td> 921</td><td>354</td><td>0</td></tr>\n",
       "\t<tr><td>t0</td><td>HEK293T</td><td>3</td><td>7</td><td> 3638</td><td> 902</td><td>231</td><td>0</td></tr>\n",
       "\t<tr><td>t0</td><td>HEK293T</td><td>3</td><td>7</td><td> 3657</td><td> 883</td><td>208</td><td>0</td></tr>\n",
       "\t<tr><td>t0</td><td>HEK293T</td><td>3</td><td>7</td><td> 3712</td><td> 876</td><td>171</td><td>0</td></tr>\n",
       "\t<tr><td>t0</td><td>HEK293T</td><td>3</td><td>7</td><td> 3669</td><td> 865</td><td>199</td><td>0</td></tr>\n",
       "\t<tr><td>t0</td><td>HEK293T</td><td>3</td><td>7</td><td> 3913</td><td> 865</td><td>110</td><td>0</td></tr>\n",
       "\t<tr><td>t0</td><td>HEK293T</td><td>3</td><td>7</td><td> 3839</td><td> 785</td><td>130</td><td>0</td></tr>\n",
       "\t<tr><td>t0</td><td>HEK293T</td><td>3</td><td>7</td><td> 3816</td><td> 779</td><td>133</td><td>0</td></tr>\n",
       "\t<tr><td>t0</td><td>HEK293T</td><td>3</td><td>7</td><td> 5608</td><td> 768</td><td>  1</td><td>0</td></tr>\n",
       "\t<tr><td>t0</td><td>HEK293T</td><td>3</td><td>7</td><td> 3808</td><td> 762</td><td>135</td><td>0</td></tr>\n",
       "\t<tr><td>t0</td><td>HEK293T</td><td>3</td><td>7</td><td> 3845</td><td> 759</td><td>129</td><td>0</td></tr>\n",
       "\t<tr><td>t0</td><td>HEK293T</td><td>3</td><td>7</td><td> 4089</td><td> 747</td><td> 83</td><td>0</td></tr>\n",
       "\t<tr><td>t0</td><td>HEK293T</td><td>3</td><td>7</td><td> 3632</td><td> 723</td><td>242</td><td>0</td></tr>\n",
       "\t<tr><td>t0</td><td>HEK293T</td><td>3</td><td>7</td><td> 3804</td><td> 699</td><td>136</td><td>0</td></tr>\n",
       "\t<tr><td>t0</td><td>HEK293T</td><td>3</td><td>7</td><td> 4029</td><td> 686</td><td> 91</td><td>0</td></tr>\n",
       "\t<tr><td>t0</td><td>HEK293T</td><td>3</td><td>5</td><td> 3693</td><td> 682</td><td>182</td><td>0</td></tr>\n",
       "\t<tr><td>t0</td><td>HEK293T</td><td>3</td><td>5</td><td> 3747</td><td> 663</td><td>157</td><td>0</td></tr>\n",
       "\t<tr><td>t0</td><td>HEK293T</td><td>3</td><td>7</td><td> 3610</td><td> 661</td><td>294</td><td>0</td></tr>\n",
       "\t<tr><td>⋮</td><td>⋮</td><td>⋮</td><td>⋮</td><td>⋮</td><td>⋮</td><td>⋮</td><td>⋮</td></tr>\n",
       "\t<tr><td>t6</td><td>HeLa</td><td>5</td><td>7</td><td> 9601</td><td>1</td><td>  5</td><td>6</td></tr>\n",
       "\t<tr><td>t6</td><td>HeLa</td><td>5</td><td>3</td><td> 9605</td><td>1</td><td>  5</td><td>6</td></tr>\n",
       "\t<tr><td>t6</td><td>HeLa</td><td>5</td><td>7</td><td> 9612</td><td>1</td><td>  5</td><td>6</td></tr>\n",
       "\t<tr><td>t6</td><td>HeLa</td><td>5</td><td>2</td><td> 9630</td><td>1</td><td>  5</td><td>6</td></tr>\n",
       "\t<tr><td>t6</td><td>HeLa</td><td>5</td><td>3</td><td> 9644</td><td>1</td><td>  4</td><td>6</td></tr>\n",
       "\t<tr><td>t6</td><td>HeLa</td><td>5</td><td>4</td><td> 9647</td><td>1</td><td>  4</td><td>6</td></tr>\n",
       "\t<tr><td>t6</td><td>HeLa</td><td>5</td><td>5</td><td> 9667</td><td>1</td><td>  4</td><td>6</td></tr>\n",
       "\t<tr><td>t6</td><td>HeLa</td><td>5</td><td>2</td><td> 9695</td><td>1</td><td>  3</td><td>6</td></tr>\n",
       "\t<tr><td>t6</td><td>HeLa</td><td>5</td><td>5</td><td> 9717</td><td>1</td><td>  3</td><td>6</td></tr>\n",
       "\t<tr><td>t6</td><td>HeLa</td><td>5</td><td>2</td><td> 9789</td><td>1</td><td>  2</td><td>6</td></tr>\n",
       "\t<tr><td>t6</td><td>HeLa</td><td>5</td><td>5</td><td> 9963</td><td>1</td><td>  1</td><td>6</td></tr>\n",
       "\t<tr><td>t6</td><td>HeLa</td><td>5</td><td>2</td><td>10000</td><td>1</td><td>  1</td><td>6</td></tr>\n",
       "\t<tr><td>t6</td><td>HeLa</td><td>5</td><td>2</td><td>10006</td><td>1</td><td>  1</td><td>6</td></tr>\n",
       "\t<tr><td>t6</td><td>HeLa</td><td>5</td><td>3</td><td>10057</td><td>1</td><td>  1</td><td>6</td></tr>\n",
       "\t<tr><td>t6</td><td>HeLa</td><td>5</td><td>6</td><td>10083</td><td>1</td><td>  1</td><td>6</td></tr>\n",
       "\t<tr><td>t6</td><td>HeLa</td><td>5</td><td>2</td><td>10169</td><td>1</td><td>  1</td><td>6</td></tr>\n",
       "\t<tr><td>t6</td><td>HeLa</td><td>5</td><td>2</td><td>10283</td><td>1</td><td>  1</td><td>6</td></tr>\n",
       "\t<tr><td>t6</td><td>HeLa</td><td>5</td><td>2</td><td>10299</td><td>1</td><td>  1</td><td>6</td></tr>\n",
       "\t<tr><td>t6</td><td>HeLa</td><td>5</td><td>2</td><td>10338</td><td>1</td><td>  1</td><td>6</td></tr>\n",
       "\t<tr><td>t6</td><td>HeLa</td><td>5</td><td>3</td><td>10343</td><td>1</td><td>  1</td><td>6</td></tr>\n",
       "\t<tr><td>t6</td><td>HeLa</td><td>5</td><td>7</td><td>10411</td><td>1</td><td>  1</td><td>6</td></tr>\n",
       "\t<tr><td>t6</td><td>HeLa</td><td>5</td><td>5</td><td>10450</td><td>1</td><td>  1</td><td>6</td></tr>\n",
       "\t<tr><td>t6</td><td>K562</td><td>6</td><td>2</td><td>10470</td><td>1</td><td>425</td><td>6</td></tr>\n",
       "\t<tr><td>t6</td><td>K562</td><td>6</td><td>6</td><td>10640</td><td>1</td><td>185</td><td>6</td></tr>\n",
       "\t<tr><td>t6</td><td>K562</td><td>6</td><td>5</td><td>11756</td><td>1</td><td>  3</td><td>6</td></tr>\n",
       "\t<tr><td>t6</td><td>K562</td><td>6</td><td>2</td><td>11941</td><td>1</td><td>  1</td><td>6</td></tr>\n",
       "\t<tr><td>t6</td><td>K562</td><td>6</td><td>5</td><td>12003</td><td>1</td><td>  1</td><td>6</td></tr>\n",
       "\t<tr><td>t6</td><td>K562</td><td>6</td><td>7</td><td>12104</td><td>1</td><td>  1</td><td>6</td></tr>\n",
       "\t<tr><td>t6</td><td>K562</td><td>6</td><td>2</td><td>12256</td><td>1</td><td>  1</td><td>6</td></tr>\n",
       "\t<tr><td>t6</td><td>K562</td><td>6</td><td>4</td><td>12307</td><td>1</td><td>  1</td><td>6</td></tr>\n",
       "</tbody>\n",
       "</table>\n"
      ],
      "text/latex": [
       "A spec\\_tbl\\_df: 15905 × 8\n",
       "\\begin{tabular}{llllllll}\n",
       " sample\\_name & cellline & pool & insert\\_num & barcode\\_num & barcode\\_count & linkage\\_count & time\\\\\n",
       " <chr> & <chr> & <dbl> & <dbl> & <dbl> & <dbl> & <dbl> & <dbl>\\\\\n",
       "\\hline\n",
       "\t t0 & HeLa    & 5 & 3 & 10186 & 2946 &   1 & 0\\\\\n",
       "\t t0 & NA      & 2 & 5 &  3369 & 2260 &   1 & 0\\\\\n",
       "\t t0 & HEK293T & 3 & 7 &  3617 & 1520 & 279 & 0\\\\\n",
       "\t t0 & HEK293T & 3 & 7 &  3630 & 1346 & 243 & 0\\\\\n",
       "\t t0 & HEK293T & 3 & 7 &  3640 & 1343 & 228 & 0\\\\\n",
       "\t t0 & HEK293T & 3 & 7 &  3662 & 1101 & 207 & 0\\\\\n",
       "\t t0 & HEK293T & 3 & 7 &  3626 & 1005 & 253 & 0\\\\\n",
       "\t t0 & HEK293T & 3 & 7 &  3686 &  997 & 184 & 0\\\\\n",
       "\t t0 & HEK293T & 3 & 7 &  3818 &  976 & 133 & 0\\\\\n",
       "\t t0 & HEK293T & 3 & 7 &  3753 &  975 & 155 & 0\\\\\n",
       "\t t0 & K562    & 6 & 5 & 11845 &  930 &   1 & 0\\\\\n",
       "\t t0 & HEK293T & 3 & 7 &  3834 &  924 & 130 & 0\\\\\n",
       "\t t0 & HEK293T & 3 & 5 &  3604 &  921 & 354 & 0\\\\\n",
       "\t t0 & HEK293T & 3 & 7 &  3638 &  902 & 231 & 0\\\\\n",
       "\t t0 & HEK293T & 3 & 7 &  3657 &  883 & 208 & 0\\\\\n",
       "\t t0 & HEK293T & 3 & 7 &  3712 &  876 & 171 & 0\\\\\n",
       "\t t0 & HEK293T & 3 & 7 &  3669 &  865 & 199 & 0\\\\\n",
       "\t t0 & HEK293T & 3 & 7 &  3913 &  865 & 110 & 0\\\\\n",
       "\t t0 & HEK293T & 3 & 7 &  3839 &  785 & 130 & 0\\\\\n",
       "\t t0 & HEK293T & 3 & 7 &  3816 &  779 & 133 & 0\\\\\n",
       "\t t0 & HEK293T & 3 & 7 &  5608 &  768 &   1 & 0\\\\\n",
       "\t t0 & HEK293T & 3 & 7 &  3808 &  762 & 135 & 0\\\\\n",
       "\t t0 & HEK293T & 3 & 7 &  3845 &  759 & 129 & 0\\\\\n",
       "\t t0 & HEK293T & 3 & 7 &  4089 &  747 &  83 & 0\\\\\n",
       "\t t0 & HEK293T & 3 & 7 &  3632 &  723 & 242 & 0\\\\\n",
       "\t t0 & HEK293T & 3 & 7 &  3804 &  699 & 136 & 0\\\\\n",
       "\t t0 & HEK293T & 3 & 7 &  4029 &  686 &  91 & 0\\\\\n",
       "\t t0 & HEK293T & 3 & 5 &  3693 &  682 & 182 & 0\\\\\n",
       "\t t0 & HEK293T & 3 & 5 &  3747 &  663 & 157 & 0\\\\\n",
       "\t t0 & HEK293T & 3 & 7 &  3610 &  661 & 294 & 0\\\\\n",
       "\t ⋮ & ⋮ & ⋮ & ⋮ & ⋮ & ⋮ & ⋮ & ⋮\\\\\n",
       "\t t6 & HeLa & 5 & 7 &  9601 & 1 &   5 & 6\\\\\n",
       "\t t6 & HeLa & 5 & 3 &  9605 & 1 &   5 & 6\\\\\n",
       "\t t6 & HeLa & 5 & 7 &  9612 & 1 &   5 & 6\\\\\n",
       "\t t6 & HeLa & 5 & 2 &  9630 & 1 &   5 & 6\\\\\n",
       "\t t6 & HeLa & 5 & 3 &  9644 & 1 &   4 & 6\\\\\n",
       "\t t6 & HeLa & 5 & 4 &  9647 & 1 &   4 & 6\\\\\n",
       "\t t6 & HeLa & 5 & 5 &  9667 & 1 &   4 & 6\\\\\n",
       "\t t6 & HeLa & 5 & 2 &  9695 & 1 &   3 & 6\\\\\n",
       "\t t6 & HeLa & 5 & 5 &  9717 & 1 &   3 & 6\\\\\n",
       "\t t6 & HeLa & 5 & 2 &  9789 & 1 &   2 & 6\\\\\n",
       "\t t6 & HeLa & 5 & 5 &  9963 & 1 &   1 & 6\\\\\n",
       "\t t6 & HeLa & 5 & 2 & 10000 & 1 &   1 & 6\\\\\n",
       "\t t6 & HeLa & 5 & 2 & 10006 & 1 &   1 & 6\\\\\n",
       "\t t6 & HeLa & 5 & 3 & 10057 & 1 &   1 & 6\\\\\n",
       "\t t6 & HeLa & 5 & 6 & 10083 & 1 &   1 & 6\\\\\n",
       "\t t6 & HeLa & 5 & 2 & 10169 & 1 &   1 & 6\\\\\n",
       "\t t6 & HeLa & 5 & 2 & 10283 & 1 &   1 & 6\\\\\n",
       "\t t6 & HeLa & 5 & 2 & 10299 & 1 &   1 & 6\\\\\n",
       "\t t6 & HeLa & 5 & 2 & 10338 & 1 &   1 & 6\\\\\n",
       "\t t6 & HeLa & 5 & 3 & 10343 & 1 &   1 & 6\\\\\n",
       "\t t6 & HeLa & 5 & 7 & 10411 & 1 &   1 & 6\\\\\n",
       "\t t6 & HeLa & 5 & 5 & 10450 & 1 &   1 & 6\\\\\n",
       "\t t6 & K562 & 6 & 2 & 10470 & 1 & 425 & 6\\\\\n",
       "\t t6 & K562 & 6 & 6 & 10640 & 1 & 185 & 6\\\\\n",
       "\t t6 & K562 & 6 & 5 & 11756 & 1 &   3 & 6\\\\\n",
       "\t t6 & K562 & 6 & 2 & 11941 & 1 &   1 & 6\\\\\n",
       "\t t6 & K562 & 6 & 5 & 12003 & 1 &   1 & 6\\\\\n",
       "\t t6 & K562 & 6 & 7 & 12104 & 1 &   1 & 6\\\\\n",
       "\t t6 & K562 & 6 & 2 & 12256 & 1 &   1 & 6\\\\\n",
       "\t t6 & K562 & 6 & 4 & 12307 & 1 &   1 & 6\\\\\n",
       "\\end{tabular}\n"
      ],
      "text/markdown": [
       "\n",
       "A spec_tbl_df: 15905 × 8\n",
       "\n",
       "| sample_name &lt;chr&gt; | cellline &lt;chr&gt; | pool &lt;dbl&gt; | insert_num &lt;dbl&gt; | barcode_num &lt;dbl&gt; | barcode_count &lt;dbl&gt; | linkage_count &lt;dbl&gt; | time &lt;dbl&gt; |\n",
       "|---|---|---|---|---|---|---|---|\n",
       "| t0 | HeLa    | 5 | 3 | 10186 | 2946 |   1 | 0 |\n",
       "| t0 | NA      | 2 | 5 |  3369 | 2260 |   1 | 0 |\n",
       "| t0 | HEK293T | 3 | 7 |  3617 | 1520 | 279 | 0 |\n",
       "| t0 | HEK293T | 3 | 7 |  3630 | 1346 | 243 | 0 |\n",
       "| t0 | HEK293T | 3 | 7 |  3640 | 1343 | 228 | 0 |\n",
       "| t0 | HEK293T | 3 | 7 |  3662 | 1101 | 207 | 0 |\n",
       "| t0 | HEK293T | 3 | 7 |  3626 | 1005 | 253 | 0 |\n",
       "| t0 | HEK293T | 3 | 7 |  3686 |  997 | 184 | 0 |\n",
       "| t0 | HEK293T | 3 | 7 |  3818 |  976 | 133 | 0 |\n",
       "| t0 | HEK293T | 3 | 7 |  3753 |  975 | 155 | 0 |\n",
       "| t0 | K562    | 6 | 5 | 11845 |  930 |   1 | 0 |\n",
       "| t0 | HEK293T | 3 | 7 |  3834 |  924 | 130 | 0 |\n",
       "| t0 | HEK293T | 3 | 5 |  3604 |  921 | 354 | 0 |\n",
       "| t0 | HEK293T | 3 | 7 |  3638 |  902 | 231 | 0 |\n",
       "| t0 | HEK293T | 3 | 7 |  3657 |  883 | 208 | 0 |\n",
       "| t0 | HEK293T | 3 | 7 |  3712 |  876 | 171 | 0 |\n",
       "| t0 | HEK293T | 3 | 7 |  3669 |  865 | 199 | 0 |\n",
       "| t0 | HEK293T | 3 | 7 |  3913 |  865 | 110 | 0 |\n",
       "| t0 | HEK293T | 3 | 7 |  3839 |  785 | 130 | 0 |\n",
       "| t0 | HEK293T | 3 | 7 |  3816 |  779 | 133 | 0 |\n",
       "| t0 | HEK293T | 3 | 7 |  5608 |  768 |   1 | 0 |\n",
       "| t0 | HEK293T | 3 | 7 |  3808 |  762 | 135 | 0 |\n",
       "| t0 | HEK293T | 3 | 7 |  3845 |  759 | 129 | 0 |\n",
       "| t0 | HEK293T | 3 | 7 |  4089 |  747 |  83 | 0 |\n",
       "| t0 | HEK293T | 3 | 7 |  3632 |  723 | 242 | 0 |\n",
       "| t0 | HEK293T | 3 | 7 |  3804 |  699 | 136 | 0 |\n",
       "| t0 | HEK293T | 3 | 7 |  4029 |  686 |  91 | 0 |\n",
       "| t0 | HEK293T | 3 | 5 |  3693 |  682 | 182 | 0 |\n",
       "| t0 | HEK293T | 3 | 5 |  3747 |  663 | 157 | 0 |\n",
       "| t0 | HEK293T | 3 | 7 |  3610 |  661 | 294 | 0 |\n",
       "| ⋮ | ⋮ | ⋮ | ⋮ | ⋮ | ⋮ | ⋮ | ⋮ |\n",
       "| t6 | HeLa | 5 | 7 |  9601 | 1 |   5 | 6 |\n",
       "| t6 | HeLa | 5 | 3 |  9605 | 1 |   5 | 6 |\n",
       "| t6 | HeLa | 5 | 7 |  9612 | 1 |   5 | 6 |\n",
       "| t6 | HeLa | 5 | 2 |  9630 | 1 |   5 | 6 |\n",
       "| t6 | HeLa | 5 | 3 |  9644 | 1 |   4 | 6 |\n",
       "| t6 | HeLa | 5 | 4 |  9647 | 1 |   4 | 6 |\n",
       "| t6 | HeLa | 5 | 5 |  9667 | 1 |   4 | 6 |\n",
       "| t6 | HeLa | 5 | 2 |  9695 | 1 |   3 | 6 |\n",
       "| t6 | HeLa | 5 | 5 |  9717 | 1 |   3 | 6 |\n",
       "| t6 | HeLa | 5 | 2 |  9789 | 1 |   2 | 6 |\n",
       "| t6 | HeLa | 5 | 5 |  9963 | 1 |   1 | 6 |\n",
       "| t6 | HeLa | 5 | 2 | 10000 | 1 |   1 | 6 |\n",
       "| t6 | HeLa | 5 | 2 | 10006 | 1 |   1 | 6 |\n",
       "| t6 | HeLa | 5 | 3 | 10057 | 1 |   1 | 6 |\n",
       "| t6 | HeLa | 5 | 6 | 10083 | 1 |   1 | 6 |\n",
       "| t6 | HeLa | 5 | 2 | 10169 | 1 |   1 | 6 |\n",
       "| t6 | HeLa | 5 | 2 | 10283 | 1 |   1 | 6 |\n",
       "| t6 | HeLa | 5 | 2 | 10299 | 1 |   1 | 6 |\n",
       "| t6 | HeLa | 5 | 2 | 10338 | 1 |   1 | 6 |\n",
       "| t6 | HeLa | 5 | 3 | 10343 | 1 |   1 | 6 |\n",
       "| t6 | HeLa | 5 | 7 | 10411 | 1 |   1 | 6 |\n",
       "| t6 | HeLa | 5 | 5 | 10450 | 1 |   1 | 6 |\n",
       "| t6 | K562 | 6 | 2 | 10470 | 1 | 425 | 6 |\n",
       "| t6 | K562 | 6 | 6 | 10640 | 1 | 185 | 6 |\n",
       "| t6 | K562 | 6 | 5 | 11756 | 1 |   3 | 6 |\n",
       "| t6 | K562 | 6 | 2 | 11941 | 1 |   1 | 6 |\n",
       "| t6 | K562 | 6 | 5 | 12003 | 1 |   1 | 6 |\n",
       "| t6 | K562 | 6 | 7 | 12104 | 1 |   1 | 6 |\n",
       "| t6 | K562 | 6 | 2 | 12256 | 1 |   1 | 6 |\n",
       "| t6 | K562 | 6 | 4 | 12307 | 1 |   1 | 6 |\n",
       "\n"
      ],
      "text/plain": [
       "      sample_name cellline pool insert_num barcode_num barcode_count\n",
       "1     t0          HeLa     5    3          10186       2946         \n",
       "2     t0          NA       2    5           3369       2260         \n",
       "3     t0          HEK293T  3    7           3617       1520         \n",
       "4     t0          HEK293T  3    7           3630       1346         \n",
       "5     t0          HEK293T  3    7           3640       1343         \n",
       "6     t0          HEK293T  3    7           3662       1101         \n",
       "7     t0          HEK293T  3    7           3626       1005         \n",
       "8     t0          HEK293T  3    7           3686        997         \n",
       "9     t0          HEK293T  3    7           3818        976         \n",
       "10    t0          HEK293T  3    7           3753        975         \n",
       "11    t0          K562     6    5          11845        930         \n",
       "12    t0          HEK293T  3    7           3834        924         \n",
       "13    t0          HEK293T  3    5           3604        921         \n",
       "14    t0          HEK293T  3    7           3638        902         \n",
       "15    t0          HEK293T  3    7           3657        883         \n",
       "16    t0          HEK293T  3    7           3712        876         \n",
       "17    t0          HEK293T  3    7           3669        865         \n",
       "18    t0          HEK293T  3    7           3913        865         \n",
       "19    t0          HEK293T  3    7           3839        785         \n",
       "20    t0          HEK293T  3    7           3816        779         \n",
       "21    t0          HEK293T  3    7           5608        768         \n",
       "22    t0          HEK293T  3    7           3808        762         \n",
       "23    t0          HEK293T  3    7           3845        759         \n",
       "24    t0          HEK293T  3    7           4089        747         \n",
       "25    t0          HEK293T  3    7           3632        723         \n",
       "26    t0          HEK293T  3    7           3804        699         \n",
       "27    t0          HEK293T  3    7           4029        686         \n",
       "28    t0          HEK293T  3    5           3693        682         \n",
       "29    t0          HEK293T  3    5           3747        663         \n",
       "30    t0          HEK293T  3    7           3610        661         \n",
       "⋮     ⋮           ⋮        ⋮    ⋮          ⋮           ⋮            \n",
       "15876 t6          HeLa     5    7           9601       1            \n",
       "15877 t6          HeLa     5    3           9605       1            \n",
       "15878 t6          HeLa     5    7           9612       1            \n",
       "15879 t6          HeLa     5    2           9630       1            \n",
       "15880 t6          HeLa     5    3           9644       1            \n",
       "15881 t6          HeLa     5    4           9647       1            \n",
       "15882 t6          HeLa     5    5           9667       1            \n",
       "15883 t6          HeLa     5    2           9695       1            \n",
       "15884 t6          HeLa     5    5           9717       1            \n",
       "15885 t6          HeLa     5    2           9789       1            \n",
       "15886 t6          HeLa     5    5           9963       1            \n",
       "15887 t6          HeLa     5    2          10000       1            \n",
       "15888 t6          HeLa     5    2          10006       1            \n",
       "15889 t6          HeLa     5    3          10057       1            \n",
       "15890 t6          HeLa     5    6          10083       1            \n",
       "15891 t6          HeLa     5    2          10169       1            \n",
       "15892 t6          HeLa     5    2          10283       1            \n",
       "15893 t6          HeLa     5    2          10299       1            \n",
       "15894 t6          HeLa     5    2          10338       1            \n",
       "15895 t6          HeLa     5    3          10343       1            \n",
       "15896 t6          HeLa     5    7          10411       1            \n",
       "15897 t6          HeLa     5    5          10450       1            \n",
       "15898 t6          K562     6    2          10470       1            \n",
       "15899 t6          K562     6    6          10640       1            \n",
       "15900 t6          K562     6    5          11756       1            \n",
       "15901 t6          K562     6    2          11941       1            \n",
       "15902 t6          K562     6    5          12003       1            \n",
       "15903 t6          K562     6    7          12104       1            \n",
       "15904 t6          K562     6    2          12256       1            \n",
       "15905 t6          K562     6    4          12307       1            \n",
       "      linkage_count time\n",
       "1       1           0   \n",
       "2       1           0   \n",
       "3     279           0   \n",
       "4     243           0   \n",
       "5     228           0   \n",
       "6     207           0   \n",
       "7     253           0   \n",
       "8     184           0   \n",
       "9     133           0   \n",
       "10    155           0   \n",
       "11      1           0   \n",
       "12    130           0   \n",
       "13    354           0   \n",
       "14    231           0   \n",
       "15    208           0   \n",
       "16    171           0   \n",
       "17    199           0   \n",
       "18    110           0   \n",
       "19    130           0   \n",
       "20    133           0   \n",
       "21      1           0   \n",
       "22    135           0   \n",
       "23    129           0   \n",
       "24     83           0   \n",
       "25    242           0   \n",
       "26    136           0   \n",
       "27     91           0   \n",
       "28    182           0   \n",
       "29    157           0   \n",
       "30    294           0   \n",
       "⋮     ⋮             ⋮   \n",
       "15876   5           6   \n",
       "15877   5           6   \n",
       "15878   5           6   \n",
       "15879   5           6   \n",
       "15880   4           6   \n",
       "15881   4           6   \n",
       "15882   4           6   \n",
       "15883   3           6   \n",
       "15884   3           6   \n",
       "15885   2           6   \n",
       "15886   1           6   \n",
       "15887   1           6   \n",
       "15888   1           6   \n",
       "15889   1           6   \n",
       "15890   1           6   \n",
       "15891   1           6   \n",
       "15892   1           6   \n",
       "15893   1           6   \n",
       "15894   1           6   \n",
       "15895   1           6   \n",
       "15896   1           6   \n",
       "15897   1           6   \n",
       "15898 425           6   \n",
       "15899 185           6   \n",
       "15900   3           6   \n",
       "15901   1           6   \n",
       "15902   1           6   \n",
       "15903   1           6   \n",
       "15904   1           6   \n",
       "15905   1           6   "
      ]
     },
     "metadata": {},
     "output_type": "display_data"
    }
   ],
   "source": [
    "barcode_counts <- read_tsv(\"../tables/sample_insert_barcode_counts.tsv.gz\") %>% print \n",
    "\n",
    "timecourse_counts <- barcode_counts %>%\n",
    "  # Select only timecourse samples\n",
    "  filter(!str_detect(sample_name, \"rna\")) %>%\n",
    "  # Remove \"stall4control4_\" from sample names\n",
    "  mutate(sample_name = str_remove(sample_name, \"stall4control4_\")) %>%\n",
    "  # Create a time column based on sample_name \n",
    "  mutate(time = as.numeric(str_extract(sample_name, \"(?<=.).+\"))) \n",
    "\n",
    "timecourse_counts  "
   ]
  },
  {
   "cell_type": "markdown",
   "metadata": {},
   "source": [
    "### Read insert annotations"
   ]
  },
  {
   "cell_type": "code",
   "execution_count": 4,
   "metadata": {
    "vscode": {
     "languageId": "r"
    }
   },
   "outputs": [
    {
     "name": "stderr",
     "output_type": "stream",
     "text": [
      "\u001b[1mRows: \u001b[22m\u001b[34m8\u001b[39m \u001b[1mColumns: \u001b[22m\u001b[34m7\u001b[39m\n",
      "\u001b[36m──\u001b[39m \u001b[1mColumn specification\u001b[22m \u001b[36m────────────────────────────────────────────────────────\u001b[39m\n",
      "\u001b[1mDelimiter:\u001b[22m \"\\t\"\n",
      "\u001b[31mchr\u001b[39m (3): insert_name, insert_seq, insert_type\n",
      "\u001b[32mdbl\u001b[39m (4): group, insert_num, pair, frame\n",
      "\n",
      "\u001b[36mℹ\u001b[39m Use `spec()` to retrieve the full column specification for this data.\n",
      "\u001b[36mℹ\u001b[39m Specify the column types or set `show_col_types = FALSE` to quiet this message.\n"
     ]
    },
    {
     "name": "stdout",
     "output_type": "stream",
     "text": [
      "\u001b[90m# A tibble: 8 × 7\u001b[39m\n",
      "  group insert_name insert_seq                insert_type insert_num  pair frame\n",
      "  \u001b[3m\u001b[90m<dbl>\u001b[39m\u001b[23m \u001b[3m\u001b[90m<chr>\u001b[39m\u001b[23m       \u001b[3m\u001b[90m<chr>\u001b[39m\u001b[23m                     \u001b[3m\u001b[90m<chr>\u001b[39m\u001b[23m            \u001b[3m\u001b[90m<dbl>\u001b[39m\u001b[23m \u001b[3m\u001b[90m<dbl>\u001b[39m\u001b[23m \u001b[3m\u001b[90m<dbl>\u001b[39m\u001b[23m\n",
      "\u001b[90m1\u001b[39m     1 SVKF4       AGCGTCAAATTCTCCGTTAAGTTT… stall                0     4    \u001b[31mNA\u001b[39m\n",
      "\u001b[90m2\u001b[39m     1 SKVF4       AGCAAAGTCTTCTCCAAGGTTTTT… control              1     4    \u001b[31mNA\u001b[39m\n",
      "\u001b[90m3\u001b[39m     1 VK8         GTCAAAGTCAAAGTCAAAGTCAAA… stall                2     2     0\n",
      "\u001b[90m4\u001b[39m     1 QS8         CAAAGTCAAAGTCAAAGTCAAAGT… control              3     2     2\n",
      "\u001b[90m5\u001b[39m     1 SF8         AGTTTCAGTTTCAGTTTCAGTTTC… stall                4     3     0\n",
      "\u001b[90m6\u001b[39m     1 FQ8         TTTCAGTTTCAGTTTCAGTTTCAG… control              5     3     2\n",
      "\u001b[90m7\u001b[39m     1 RH8         CGCCATCGCCATCGCCATCGCCAT… stall                6     1     0\n",
      "\u001b[90m8\u001b[39m     1 PS8         CCATCGCCATCGCCATCGCCATCG… control              7     1     2\n"
     ]
    }
   ],
   "source": [
    "insert_annotations <- read_tsv(\"../../pool4_linkage/annotations/insert_annotations/stall4control4_linkage.tsv\") %>% \n",
    "  print()"
   ]
  },
  {
   "cell_type": "markdown",
   "metadata": {},
   "source": [
    "### Function for bootstrap mRNA levels"
   ]
  },
  {
   "cell_type": "code",
   "execution_count": 5,
   "metadata": {
    "vscode": {
     "languageId": "r"
    }
   },
   "outputs": [],
   "source": [
    "\n",
    "calc_lfc_bootstrap <- function(data, indices) {\n",
    "  d <- data[indices,]\n",
    "  log2(sum(d$barcode_count))\n",
    "}"
   ]
  },
  {
   "cell_type": "markdown",
   "metadata": {},
   "source": [
    "### Calculate normalized mRNA levels per insert\n",
    "\n",
    "- Pool 3 is HEK293T sample \n",
    "- Pool 4 is HCT116 as a negative control that was not spiked in\n",
    "- Pool 5 is HeLa as spike in (we normalize by this)\n",
    "\n",
    "- Pick only barcodes that are present in all time points\n"
   ]
  },
  {
   "cell_type": "code",
   "execution_count": 6,
   "metadata": {
    "vscode": {
     "languageId": "r"
    }
   },
   "outputs": [
    {
     "name": "stdout",
     "output_type": "stream",
     "text": [
      "\u001b[90m# A tibble: 42 × 13\u001b[39m\n",
      "   sample_name insert_num  time statistic     bias std.error lfc      group\n",
      "   \u001b[3m\u001b[90m<chr>\u001b[39m\u001b[23m            \u001b[3m\u001b[90m<dbl>\u001b[39m\u001b[23m \u001b[3m\u001b[90m<dbl>\u001b[39m\u001b[23m     \u001b[3m\u001b[90m<dbl>\u001b[39m\u001b[23m    \u001b[3m\u001b[90m<dbl>\u001b[39m\u001b[23m     \u001b[3m\u001b[90m<dbl>\u001b[39m\u001b[23m \u001b[3m\u001b[90m<list>\u001b[39m\u001b[23m   \u001b[3m\u001b[90m<dbl>\u001b[39m\u001b[23m\n",
      "\u001b[90m 1\u001b[39m t0                   7   0       0     -\u001b[31m0\u001b[39m\u001b[31m.\u001b[39m\u001b[31m00\u001b[39m\u001b[31m7\u001b[4m9\u001b[24m\u001b[4m2\u001b[24m\u001b[39m    0.094\u001b[4m3\u001b[24m <dbl[…]>     1\n",
      "\u001b[90m 2\u001b[39m t0                   5   0       0     -\u001b[31m0\u001b[39m\u001b[31m.\u001b[39m\u001b[31m00\u001b[39m\u001b[31m1\u001b[4m3\u001b[24m\u001b[4m5\u001b[24m\u001b[39m    0.071\u001b[4m8\u001b[24m <dbl[…]>     1\n",
      "\u001b[90m 3\u001b[39m t0                   3   0       0     -\u001b[31m0\u001b[39m\u001b[31m.\u001b[39m\u001b[31m00\u001b[39m\u001b[31m2\u001b[4m0\u001b[24m\u001b[4m1\u001b[24m\u001b[39m    0.079\u001b[4m8\u001b[24m <dbl[…]>     1\n",
      "\u001b[90m 4\u001b[39m t0                   4   0       0     -\u001b[31m0\u001b[39m\u001b[31m.\u001b[39m\u001b[31m00\u001b[39m\u001b[31m6\u001b[4m3\u001b[24m\u001b[4m7\u001b[24m\u001b[39m    0.142  <dbl[…]>     1\n",
      "\u001b[90m 5\u001b[39m t0                   6   0       0     -\u001b[31m0\u001b[39m\u001b[31m.\u001b[39m\u001b[31m0\u001b[39m\u001b[31m13\u001b[4m0\u001b[24m\u001b[39m     0.202  <dbl[…]>     1\n",
      "\u001b[90m 6\u001b[39m t0                   2   0       0     -\u001b[31m0\u001b[39m\u001b[31m.\u001b[39m\u001b[31m00\u001b[39m\u001b[31m1\u001b[4m8\u001b[24m\u001b[4m2\u001b[24m\u001b[39m    0.093\u001b[4m0\u001b[24m <dbl[…]>     1\n",
      "\u001b[90m 7\u001b[39m t0                   0   0       0     -\u001b[31m0\u001b[39m\u001b[31m.\u001b[39m\u001b[31m0\u001b[39m\u001b[31m39\u001b[4m9\u001b[24m\u001b[39m     0.319  <dbl[…]>     1\n",
      "\u001b[90m 8\u001b[39m t0.5                 7   0.5     0.214 -\u001b[31m0\u001b[39m\u001b[31m.\u001b[39m\u001b[31m00\u001b[39m\u001b[31m3\u001b[4m8\u001b[24m\u001b[4m7\u001b[24m\u001b[39m    0.092\u001b[4m6\u001b[24m <dbl[…]>     1\n",
      "\u001b[90m 9\u001b[39m t0.5                 5   0.5     0.277 -\u001b[31m0\u001b[39m\u001b[31m.\u001b[39m\u001b[31m00\u001b[39m\u001b[31m1\u001b[4m8\u001b[24m\u001b[4m0\u001b[24m\u001b[39m    0.070\u001b[4m3\u001b[24m <dbl[…]>     1\n",
      "\u001b[90m10\u001b[39m t0.5                 3   0.5     0.245 -\u001b[31m0\u001b[39m\u001b[31m.\u001b[39m\u001b[31m00\u001b[39m\u001b[31m3\u001b[4m2\u001b[24m\u001b[4m6\u001b[24m\u001b[39m    0.081\u001b[4m4\u001b[24m <dbl[…]>     1\n",
      "\u001b[90m# … with 32 more rows, and 5 more variables: insert_name <chr>,\u001b[39m\n",
      "\u001b[90m#   insert_seq <chr>, insert_type <chr>, pair <dbl>, frame <dbl>\u001b[39m\n"
     ]
    }
   ],
   "source": [
    "\n",
    "lfc_data <- timecourse_counts %>% \n",
    "  group_by(barcode_num) %>% \n",
    "  mutate(n_timepoints = dplyr::n()) %>% \n",
    "  ungroup() %>% \n",
    "  filter(n_timepoints == 6) %>% \n",
    "  filter(pool == 3|5) %>%  \n",
    "  group_by(sample_name, time) %>% \n",
    "  mutate(barcode_count = barcode_count * 1e4 / sum(barcode_count[pool == 5])) %>% \n",
    "  ungroup() %>% \n",
    "  filter(pool == 3) %>% \n",
    "  select(-pool, -linkage_count) %>% \n",
    "  group_by(sample_name, time, insert_num) %>% \n",
    "  nest() %>%\n",
    "  mutate(boot = map(data, function(df) boot::boot(data=df, statistic=calc_lfc_bootstrap, R=5000))) %>%\n",
    "  # this gives mean and std.error of bootstrap\n",
    "  mutate(stat = map(boot, broom::tidy)) %>% \n",
    "  # this gives all the replicates\n",
    "  mutate(lfc = map(boot, function(x) x$t)) %>% \n",
    "  select(-data, -boot) %>%\n",
    "  unnest(stat) %>% \n",
    "  group_by(insert_num) %>%\n",
    "  mutate(statistic = statistic - statistic[time == 0]) %>%\n",
    "  ungroup() %>%\n",
    "  left_join(insert_annotations, by = \"insert_num\") %>%\n",
    "  print()"
   ]
  },
  {
   "cell_type": "markdown",
   "metadata": {},
   "source": [
    "### Plot mRNA of 8x dicodon inserts as a function of time"
   ]
  },
  {
   "cell_type": "code",
   "execution_count": 7,
   "metadata": {
    "vscode": {
     "languageId": "r"
    }
   },
   "outputs": [
    {
     "name": "stdout",
     "output_type": "stream",
     "text": [
      "\u001b[90m# A tibble: 36 × 13\u001b[39m\n",
      "   sample_name insert_num  time statistic     bias std.error lfc      group\n",
      "   \u001b[3m\u001b[90m<chr>\u001b[39m\u001b[23m            \u001b[3m\u001b[90m<dbl>\u001b[39m\u001b[23m \u001b[3m\u001b[90m<dbl>\u001b[39m\u001b[23m     \u001b[3m\u001b[90m<dbl>\u001b[39m\u001b[23m    \u001b[3m\u001b[90m<dbl>\u001b[39m\u001b[23m     \u001b[3m\u001b[90m<dbl>\u001b[39m\u001b[23m \u001b[3m\u001b[90m<list>\u001b[39m\u001b[23m   \u001b[3m\u001b[90m<dbl>\u001b[39m\u001b[23m\n",
      "\u001b[90m 1\u001b[39m t0                   7   0       0     -\u001b[31m0\u001b[39m\u001b[31m.\u001b[39m\u001b[31m00\u001b[39m\u001b[31m7\u001b[4m9\u001b[24m\u001b[4m2\u001b[24m\u001b[39m    0.094\u001b[4m3\u001b[24m <dbl[…]>     1\n",
      "\u001b[90m 2\u001b[39m t0                   5   0       0     -\u001b[31m0\u001b[39m\u001b[31m.\u001b[39m\u001b[31m00\u001b[39m\u001b[31m1\u001b[4m3\u001b[24m\u001b[4m5\u001b[24m\u001b[39m    0.071\u001b[4m8\u001b[24m <dbl[…]>     1\n",
      "\u001b[90m 3\u001b[39m t0                   3   0       0     -\u001b[31m0\u001b[39m\u001b[31m.\u001b[39m\u001b[31m00\u001b[39m\u001b[31m2\u001b[4m0\u001b[24m\u001b[4m1\u001b[24m\u001b[39m    0.079\u001b[4m8\u001b[24m <dbl[…]>     1\n",
      "\u001b[90m 4\u001b[39m t0                   4   0       0     -\u001b[31m0\u001b[39m\u001b[31m.\u001b[39m\u001b[31m00\u001b[39m\u001b[31m6\u001b[4m3\u001b[24m\u001b[4m7\u001b[24m\u001b[39m    0.142  <dbl[…]>     1\n",
      "\u001b[90m 5\u001b[39m t0                   6   0       0     -\u001b[31m0\u001b[39m\u001b[31m.\u001b[39m\u001b[31m0\u001b[39m\u001b[31m13\u001b[4m0\u001b[24m\u001b[39m     0.202  <dbl[…]>     1\n",
      "\u001b[90m 6\u001b[39m t0                   2   0       0     -\u001b[31m0\u001b[39m\u001b[31m.\u001b[39m\u001b[31m00\u001b[39m\u001b[31m1\u001b[4m8\u001b[24m\u001b[4m2\u001b[24m\u001b[39m    0.093\u001b[4m0\u001b[24m <dbl[…]>     1\n",
      "\u001b[90m 7\u001b[39m t0.5                 7   0.5     0.214 -\u001b[31m0\u001b[39m\u001b[31m.\u001b[39m\u001b[31m00\u001b[39m\u001b[31m3\u001b[4m8\u001b[24m\u001b[4m7\u001b[24m\u001b[39m    0.092\u001b[4m6\u001b[24m <dbl[…]>     1\n",
      "\u001b[90m 8\u001b[39m t0.5                 5   0.5     0.277 -\u001b[31m0\u001b[39m\u001b[31m.\u001b[39m\u001b[31m00\u001b[39m\u001b[31m1\u001b[4m8\u001b[24m\u001b[4m0\u001b[24m\u001b[39m    0.070\u001b[4m3\u001b[24m <dbl[…]>     1\n",
      "\u001b[90m 9\u001b[39m t0.5                 3   0.5     0.245 -\u001b[31m0\u001b[39m\u001b[31m.\u001b[39m\u001b[31m00\u001b[39m\u001b[31m3\u001b[4m2\u001b[24m\u001b[4m6\u001b[24m\u001b[39m    0.081\u001b[4m4\u001b[24m <dbl[…]>     1\n",
      "\u001b[90m10\u001b[39m t0.5                 4   0.5     0.245 -\u001b[31m0\u001b[39m\u001b[31m.\u001b[39m\u001b[31m00\u001b[39m\u001b[31m6\u001b[4m0\u001b[24m\u001b[4m9\u001b[24m\u001b[39m    0.134  <dbl[…]>     1\n",
      "\u001b[90m# … with 26 more rows, and 5 more variables: insert_name <chr>,\u001b[39m\n",
      "\u001b[90m#   insert_seq <chr>, insert_type <chr>, pair <dbl>, frame <dbl>\u001b[39m\n"
     ]
    },
    {
     "name": "stderr",
     "output_type": "stream",
     "text": [
      "Warning message:\n",
      "“Ignoring unknown parameters: width”\n"
     ]
    },
    {
     "data": {
      "image/png": "[encoded data removed]",
      "text/plain": [
       "plot without title"
      ]
     },
     "metadata": {
      "image/png": {
       "height": 120,
       "width": 120
      }
     },
     "output_type": "display_data"
    }
   ],
   "source": [
    "options(repr.plot.width=2, repr.plot.height=2)\n",
    "\n",
    "plot_data <- lfc_data %>% filter(pair <= 3) %>% print \n",
    "\n",
    "plot_data %>% \n",
    "  ggplot(aes(x = time, y = statistic, \n",
    "             ymin = statistic - std.error, ymax = statistic + std.error,\n",
    "             color = insert_type, group = insert_name, shape = as.factor(pair))) +\n",
    "  geom_errorbar(width = 0.2, color = \"black\", alpha = 0.3) +\n",
    "  geom_point(width=0.5, size=1.5) +\n",
    "  geom_line() +\n",
    "  scale_color_manual(values = cbPalette) +\n",
    "  theme(legend.position = \"none\") +\n",
    "  geom_text(aes(x = time, y = statistic, label = insert_name), \n",
    "            data = plot_data %>% filter(time == 6),\n",
    "            color = \"black\", size = 2, hjust = 0) +\n",
    "  labs(x = \"Time after ActD (hr)\", y = \"mRNA (log2, a.u.)\")"
   ]
  },
  {
   "cell_type": "markdown",
   "metadata": {},
   "source": [
    "### Calculate bootstrap p-values for difference between stall and corresponding control at each time point\n",
    "\n",
    "- Something is odd with this step. \n",
    "\n",
    "- It's nearly working, but seems the comparisons aren't quite being drawn appropriately (or at all) "
   ]
  },
  {
   "cell_type": "code",
   "execution_count": 8,
   "metadata": {
    "vscode": {
     "languageId": "r"
    }
   },
   "outputs": [
    {
     "name": "stderr",
     "output_type": "stream",
     "text": [
      "Warning message:\n",
      "“unnest() has a new interface. See ?unnest for details.\n",
      "Try `df %>% unnest(c(control, stall))`, with `mutate()` if needed”\n",
      "`summarise()` has grouped output by 'sample_name', 'time', 'insert_name'. You can override using the `.groups` argument.\n"
     ]
    },
    {
     "name": "stdout",
     "output_type": "stream",
     "text": [
      "\u001b[90m# A tibble: 18 × 5\u001b[39m\n",
      "   sample_name  time insert_name  pair      p\n",
      "   \u001b[3m\u001b[90m<chr>\u001b[39m\u001b[23m       \u001b[3m\u001b[90m<dbl>\u001b[39m\u001b[23m \u001b[3m\u001b[90m<chr>\u001b[39m\u001b[23m       \u001b[3m\u001b[90m<dbl>\u001b[39m\u001b[23m  \u001b[3m\u001b[90m<dbl>\u001b[39m\u001b[23m\n",
      "\u001b[90m 1\u001b[39m t0            0   RH8             1 0.498 \n",
      "\u001b[90m 2\u001b[39m t0            0   SF8             3 0.502 \n",
      "\u001b[90m 3\u001b[39m t0            0   VK8             2 0.505 \n",
      "\u001b[90m 4\u001b[39m t0.5          0.5 RH8             1 0.194 \n",
      "\u001b[90m 5\u001b[39m t0.5          0.5 SF8             3 0.411 \n",
      "\u001b[90m 6\u001b[39m t0.5          0.5 VK8             2 0.123 \n",
      "\u001b[90m 7\u001b[39m t1            1   RH8             1 0.063\u001b[4m8\u001b[24m\n",
      "\u001b[90m 8\u001b[39m t1            1   SF8             3 0.481 \n",
      "\u001b[90m 9\u001b[39m t1            1   VK8             2 0.369 \n",
      "\u001b[90m10\u001b[39m t2            2   RH8             1 0.064\u001b[4m2\u001b[24m\n",
      "\u001b[90m11\u001b[39m t2            2   SF8             3 0.279 \n",
      "\u001b[90m12\u001b[39m t2            2   VK8             2 0.037\u001b[4m2\u001b[24m\n",
      "\u001b[90m13\u001b[39m t4            4   RH8             1 0.001\u001b[4m2\u001b[24m\n",
      "\u001b[90m14\u001b[39m t4            4   SF8             3 0.334 \n",
      "\u001b[90m15\u001b[39m t4            4   VK8             2 0.085\u001b[4m2\u001b[24m\n",
      "\u001b[90m16\u001b[39m t6            6   RH8             1 0     \n",
      "\u001b[90m17\u001b[39m t6            6   SF8             3 0.384 \n",
      "\u001b[90m18\u001b[39m t6            6   VK8             2 0.008\u001b[4m8\u001b[24m\n"
     ]
    }
   ],
   "source": [
    "lfc_data %>%\n",
    "  select(-statistic, -bias, -std.error, -insert_seq, -frame, -insert_num) %>%\n",
    "  # Remove SVKF for now, since we don't have it's corresponding control\n",
    "  filter(!str_detect(insert_name, \"SVKF\")) %>% \n",
    "  group_by(pair, time) %>%\n",
    "  mutate(insert_name = insert_name[insert_type == \"stall\"]) %>% \n",
    "  pivot_wider(names_from = insert_type, values_from = lfc) %>% \n",
    "  unnest(control, stall) %>% \n",
    "  group_by(pair) %>% \n",
    "  mutate(control = control - mean(control[time == 0])) %>% \n",
    "  mutate(stall = stall - mean(stall[time == 0])) %>% \n",
    "  mutate(effect = if_else(stall > control, T, F)) %>% \n",
    "  group_by(sample_name, time, insert_name, pair) %>% \n",
    "  summarize(p = sum(effect) / dplyr::n()) %>% \n",
    "  ungroup() %>% print "
   ]
  },
  {
   "cell_type": "code",
   "execution_count": null,
   "metadata": {
    "vscode": {
     "languageId": "r"
    }
   },
   "outputs": [],
   "source": []
  }
 ],
 "metadata": {
  "kernelspec": {
   "display_name": "R",
   "language": "R",
   "name": "ir"
  },
  "language_info": {
   "codemirror_mode": "r",
   "file_extension": ".r",
   "mimetype": "text/x-r-source",
   "name": "R",
   "pygments_lexer": "r",
   "version": "4.1.1"
  },
  "orig_nbformat": 4
 },
 "nbformat": 4,
 "nbformat_minor": 2
}
