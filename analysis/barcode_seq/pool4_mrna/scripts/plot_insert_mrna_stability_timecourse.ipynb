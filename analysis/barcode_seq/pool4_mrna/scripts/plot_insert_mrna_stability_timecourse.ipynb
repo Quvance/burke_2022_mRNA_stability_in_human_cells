{
 "cells": [
  {
   "cell_type": "markdown",
   "metadata": {},
   "source": [
    "## Plot effects of inserts on mRNA levels\n",
    "\n"
   ]
  },
  {
   "cell_type": "markdown",
   "metadata": {},
   "source": [
    "### Load libraries and define analysis-specific parameters"
   ]
  },
  {
   "cell_type": "code",
   "execution_count": 1,
   "metadata": {
    "vscode": {
     "languageId": "r"
    }
   },
   "outputs": [
    {
     "name": "stderr",
     "output_type": "stream",
     "text": [
      "Loading required package: BiocGenerics\n",
      "\n",
      "\n",
      "Attaching package: ‘BiocGenerics’\n",
      "\n",
      "\n",
      "The following objects are masked from ‘package:stats’:\n",
      "\n",
      "    IQR, mad, sd, var, xtabs\n",
      "\n",
      "\n",
      "The following objects are masked from ‘package:base’:\n",
      "\n",
      "    anyDuplicated, append, as.data.frame, basename, cbind, colnames,\n",
      "    dirname, do.call, duplicated, eval, evalq, Filter, Find, get, grep,\n",
      "    grepl, intersect, is.unsorted, lapply, Map, mapply, match, mget,\n",
      "    order, paste, pmax, pmax.int, pmin, pmin.int, Position, rank,\n",
      "    rbind, Reduce, rownames, sapply, setdiff, sort, table, tapply,\n",
      "    union, unique, unsplit, which.max, which.min\n",
      "\n",
      "\n",
      "Loading required package: S4Vectors\n",
      "\n",
      "Loading required package: stats4\n",
      "\n",
      "\n",
      "Attaching package: ‘S4Vectors’\n",
      "\n",
      "\n",
      "The following objects are masked from ‘package:base’:\n",
      "\n",
      "    expand.grid, I, unname\n",
      "\n",
      "\n",
      "Loading required package: IRanges\n",
      "\n",
      "Loading required package: XVector\n",
      "\n",
      "Loading required package: GenomeInfoDb\n",
      "\n",
      "\n",
      "Attaching package: ‘Biostrings’\n",
      "\n",
      "\n",
      "The following object is masked from ‘package:base’:\n",
      "\n",
      "    strsplit\n",
      "\n",
      "\n",
      "── \u001b[1mAttaching packages\u001b[22m ─────────────────────────────────────── tidyverse 1.3.2 ──\n",
      "\u001b[32m✔\u001b[39m \u001b[34mggplot2\u001b[39m 3.3.6      \u001b[32m✔\u001b[39m \u001b[34mpurrr  \u001b[39m 0.3.4 \n",
      "\u001b[32m✔\u001b[39m \u001b[34mtibble \u001b[39m 3.1.8      \u001b[32m✔\u001b[39m \u001b[34mdplyr  \u001b[39m 1.0.10\n",
      "\u001b[32m✔\u001b[39m \u001b[34mtidyr  \u001b[39m 1.2.1      \u001b[32m✔\u001b[39m \u001b[34mstringr\u001b[39m 1.4.1 \n",
      "\u001b[32m✔\u001b[39m \u001b[34mreadr  \u001b[39m 2.1.2      \u001b[32m✔\u001b[39m \u001b[34mforcats\u001b[39m 0.5.2 \n",
      "── \u001b[1mConflicts\u001b[22m ────────────────────────────────────────── tidyverse_conflicts() ──\n",
      "\u001b[31m✖\u001b[39m \u001b[34mdplyr\u001b[39m::\u001b[32mcollapse()\u001b[39m   masks \u001b[34mBiostrings\u001b[39m::collapse(), \u001b[34mIRanges\u001b[39m::collapse()\n",
      "\u001b[31m✖\u001b[39m \u001b[34mdplyr\u001b[39m::\u001b[32mcombine()\u001b[39m    masks \u001b[34mBiocGenerics\u001b[39m::combine()\n",
      "\u001b[31m✖\u001b[39m \u001b[34mpurrr\u001b[39m::\u001b[32mcompact()\u001b[39m    masks \u001b[34mXVector\u001b[39m::compact()\n",
      "\u001b[31m✖\u001b[39m \u001b[34mdplyr\u001b[39m::\u001b[32mdesc()\u001b[39m       masks \u001b[34mIRanges\u001b[39m::desc()\n",
      "\u001b[31m✖\u001b[39m \u001b[34mtidyr\u001b[39m::\u001b[32mexpand()\u001b[39m     masks \u001b[34mS4Vectors\u001b[39m::expand()\n",
      "\u001b[31m✖\u001b[39m \u001b[34mdplyr\u001b[39m::\u001b[32mfilter()\u001b[39m     masks \u001b[34mstats\u001b[39m::filter()\n",
      "\u001b[31m✖\u001b[39m \u001b[34mdplyr\u001b[39m::\u001b[32mfirst()\u001b[39m      masks \u001b[34mS4Vectors\u001b[39m::first()\n",
      "\u001b[31m✖\u001b[39m \u001b[34mdplyr\u001b[39m::\u001b[32mlag()\u001b[39m        masks \u001b[34mstats\u001b[39m::lag()\n",
      "\u001b[31m✖\u001b[39m \u001b[34mggplot2\u001b[39m::\u001b[32mPosition()\u001b[39m masks \u001b[34mBiocGenerics\u001b[39m::Position(), \u001b[34mbase\u001b[39m::Position()\n",
      "\u001b[31m✖\u001b[39m \u001b[34mpurrr\u001b[39m::\u001b[32mreduce()\u001b[39m     masks \u001b[34mIRanges\u001b[39m::reduce()\n",
      "\u001b[31m✖\u001b[39m \u001b[34mdplyr\u001b[39m::\u001b[32mrename()\u001b[39m     masks \u001b[34mS4Vectors\u001b[39m::rename()\n",
      "\u001b[31m✖\u001b[39m \u001b[34mdplyr\u001b[39m::\u001b[32mslice()\u001b[39m      masks \u001b[34mXVector\u001b[39m::slice(), \u001b[34mIRanges\u001b[39m::slice()\n"
     ]
    }
   ],
   "source": [
    "library(Biostrings)\n",
    "library(tidyverse)\n",
    "library(rasilabRtemplates)"
   ]
  },
  {
   "cell_type": "markdown",
   "metadata": {},
   "source": [
    "### Read in barcode counts"
   ]
  },
  {
   "cell_type": "code",
   "execution_count": 21,
   "metadata": {
    "vscode": {
     "languageId": "r"
    }
   },
   "outputs": [
    {
     "name": "stderr",
     "output_type": "stream",
     "text": [
      "\u001b[1mRows: \u001b[22m\u001b[34m27840\u001b[39m \u001b[1mColumns: \u001b[22m\u001b[34m7\u001b[39m\n",
      "\u001b[36m──\u001b[39m \u001b[1mColumn specification\u001b[22m \u001b[36m────────────────────────────────────────────────────────\u001b[39m\n",
      "\u001b[1mDelimiter:\u001b[22m \"\\t\"\n",
      "\u001b[31mchr\u001b[39m (2): sample_name, cellline\n",
      "\u001b[32mdbl\u001b[39m (5): pool, insert_num, barcode_num, barcode_count, linkage_count\n",
      "\n",
      "\u001b[36mℹ\u001b[39m Use `spec()` to retrieve the full column specification for this data.\n",
      "\u001b[36mℹ\u001b[39m Specify the column types or set `show_col_types = FALSE` to quiet this message.\n"
     ]
    },
    {
     "name": "stdout",
     "output_type": "stream",
     "text": [
      "\u001b[90m# A tibble: 27,840 × 7\u001b[39m\n",
      "   sample_name         cellline  pool insert_num barcode_num barcode_c…¹ linka…²\n",
      "   \u001b[3m\u001b[90m<chr>\u001b[39m\u001b[23m               \u001b[3m\u001b[90m<chr>\u001b[39m\u001b[23m    \u001b[3m\u001b[90m<dbl>\u001b[39m\u001b[23m      \u001b[3m\u001b[90m<dbl>\u001b[39m\u001b[23m       \u001b[3m\u001b[90m<dbl>\u001b[39m\u001b[23m       \u001b[3m\u001b[90m<dbl>\u001b[39m\u001b[23m   \u001b[3m\u001b[90m<dbl>\u001b[39m\u001b[23m\n",
      "\u001b[90m 1\u001b[39m stall4control4_grna K562         6          5       \u001b[4m1\u001b[24m\u001b[4m2\u001b[24m338        \u001b[4m2\u001b[24m551       1\n",
      "\u001b[90m 2\u001b[39m stall4control4_grna HeLa         5          4        \u001b[4m7\u001b[24m889        \u001b[4m1\u001b[24m779     303\n",
      "\u001b[90m 3\u001b[39m stall4control4_grna HeLa         5          5        \u001b[4m7\u001b[24m888        \u001b[4m1\u001b[24m628     431\n",
      "\u001b[90m 4\u001b[39m stall4control4_grna HeLa         5          2        \u001b[4m7\u001b[24m909        \u001b[4m1\u001b[24m107     223\n",
      "\u001b[90m 5\u001b[39m stall4control4_grna K562         6          3       \u001b[4m1\u001b[24m\u001b[4m0\u001b[24m487        \u001b[4m1\u001b[24m041     333\n",
      "\u001b[90m 6\u001b[39m stall4control4_grna HeLa         5          3        \u001b[4m7\u001b[24m899        \u001b[4m1\u001b[24m000     254\n",
      "\u001b[90m 7\u001b[39m stall4control4_grna HCT116       4          7        \u001b[4m7\u001b[24m845         970       1\n",
      "\u001b[90m 8\u001b[39m stall4control4_grna HeLa         5          5        \u001b[4m8\u001b[24m016         941     151\n",
      "\u001b[90m 9\u001b[39m stall4control4_grna K562         6          5       \u001b[4m1\u001b[24m\u001b[4m1\u001b[24m819         938       2\n",
      "\u001b[90m10\u001b[39m stall4control4_grna HCT116       4          5        \u001b[4m7\u001b[24m208         934       2\n",
      "\u001b[90m# … with 27,830 more rows, and abbreviated variable names ¹​barcode_count,\u001b[39m\n",
      "\u001b[90m#   ²​linkage_count\u001b[39m\n"
     ]
    },
    {
     "data": {
      "text/html": [
       "<table class=\"dataframe\">\n",
       "<caption>A tibble: 15905 × 8</caption>\n",
       "<thead>\n",
       "\t<tr><th scope=col>sample_name</th><th scope=col>cellline</th><th scope=col>pool</th><th scope=col>insert_num</th><th scope=col>barcode_num</th><th scope=col>barcode_count</th><th scope=col>linkage_count</th><th scope=col>time</th></tr>\n",
       "\t<tr><th scope=col>&lt;chr&gt;</th><th scope=col>&lt;chr&gt;</th><th scope=col>&lt;dbl&gt;</th><th scope=col>&lt;dbl&gt;</th><th scope=col>&lt;dbl&gt;</th><th scope=col>&lt;dbl&gt;</th><th scope=col>&lt;dbl&gt;</th><th scope=col>&lt;dbl&gt;</th></tr>\n",
       "</thead>\n",
       "<tbody>\n",
       "\t<tr><td>t0</td><td>HeLa   </td><td>5</td><td>3</td><td>10186</td><td>2946</td><td>  1</td><td>0</td></tr>\n",
       "\t<tr><td>t0</td><td>NA     </td><td>2</td><td>5</td><td> 3369</td><td>2260</td><td>  1</td><td>0</td></tr>\n",
       "\t<tr><td>t0</td><td>HEK293T</td><td>3</td><td>7</td><td> 3617</td><td>1520</td><td>279</td><td>0</td></tr>\n",
       "\t<tr><td>t0</td><td>HEK293T</td><td>3</td><td>7</td><td> 3630</td><td>1346</td><td>243</td><td>0</td></tr>\n",
       "\t<tr><td>t0</td><td>HEK293T</td><td>3</td><td>7</td><td> 3640</td><td>1343</td><td>228</td><td>0</td></tr>\n",
       "\t<tr><td>⋮</td><td>⋮</td><td>⋮</td><td>⋮</td><td>⋮</td><td>⋮</td><td>⋮</td><td>⋮</td></tr>\n",
       "\t<tr><td>t6</td><td>K562</td><td>6</td><td>2</td><td>11941</td><td>1</td><td>1</td><td>6</td></tr>\n",
       "\t<tr><td>t6</td><td>K562</td><td>6</td><td>5</td><td>12003</td><td>1</td><td>1</td><td>6</td></tr>\n",
       "\t<tr><td>t6</td><td>K562</td><td>6</td><td>7</td><td>12104</td><td>1</td><td>1</td><td>6</td></tr>\n",
       "\t<tr><td>t6</td><td>K562</td><td>6</td><td>2</td><td>12256</td><td>1</td><td>1</td><td>6</td></tr>\n",
       "\t<tr><td>t6</td><td>K562</td><td>6</td><td>4</td><td>12307</td><td>1</td><td>1</td><td>6</td></tr>\n",
       "</tbody>\n",
       "</table>\n"
      ],
      "text/latex": [
       "A tibble: 15905 × 8\n",
       "\\begin{tabular}{llllllll}\n",
       " sample\\_name & cellline & pool & insert\\_num & barcode\\_num & barcode\\_count & linkage\\_count & time\\\\\n",
       " <chr> & <chr> & <dbl> & <dbl> & <dbl> & <dbl> & <dbl> & <dbl>\\\\\n",
       "\\hline\n",
       "\t t0 & HeLa    & 5 & 3 & 10186 & 2946 &   1 & 0\\\\\n",
       "\t t0 & NA      & 2 & 5 &  3369 & 2260 &   1 & 0\\\\\n",
       "\t t0 & HEK293T & 3 & 7 &  3617 & 1520 & 279 & 0\\\\\n",
       "\t t0 & HEK293T & 3 & 7 &  3630 & 1346 & 243 & 0\\\\\n",
       "\t t0 & HEK293T & 3 & 7 &  3640 & 1343 & 228 & 0\\\\\n",
       "\t ⋮ & ⋮ & ⋮ & ⋮ & ⋮ & ⋮ & ⋮ & ⋮\\\\\n",
       "\t t6 & K562 & 6 & 2 & 11941 & 1 & 1 & 6\\\\\n",
       "\t t6 & K562 & 6 & 5 & 12003 & 1 & 1 & 6\\\\\n",
       "\t t6 & K562 & 6 & 7 & 12104 & 1 & 1 & 6\\\\\n",
       "\t t6 & K562 & 6 & 2 & 12256 & 1 & 1 & 6\\\\\n",
       "\t t6 & K562 & 6 & 4 & 12307 & 1 & 1 & 6\\\\\n",
       "\\end{tabular}\n"
      ],
      "text/markdown": [
       "\n",
       "A tibble: 15905 × 8\n",
       "\n",
       "| sample_name &lt;chr&gt; | cellline &lt;chr&gt; | pool &lt;dbl&gt; | insert_num &lt;dbl&gt; | barcode_num &lt;dbl&gt; | barcode_count &lt;dbl&gt; | linkage_count &lt;dbl&gt; | time &lt;dbl&gt; |\n",
       "|---|---|---|---|---|---|---|---|\n",
       "| t0 | HeLa    | 5 | 3 | 10186 | 2946 |   1 | 0 |\n",
       "| t0 | NA      | 2 | 5 |  3369 | 2260 |   1 | 0 |\n",
       "| t0 | HEK293T | 3 | 7 |  3617 | 1520 | 279 | 0 |\n",
       "| t0 | HEK293T | 3 | 7 |  3630 | 1346 | 243 | 0 |\n",
       "| t0 | HEK293T | 3 | 7 |  3640 | 1343 | 228 | 0 |\n",
       "| ⋮ | ⋮ | ⋮ | ⋮ | ⋮ | ⋮ | ⋮ | ⋮ |\n",
       "| t6 | K562 | 6 | 2 | 11941 | 1 | 1 | 6 |\n",
       "| t6 | K562 | 6 | 5 | 12003 | 1 | 1 | 6 |\n",
       "| t6 | K562 | 6 | 7 | 12104 | 1 | 1 | 6 |\n",
       "| t6 | K562 | 6 | 2 | 12256 | 1 | 1 | 6 |\n",
       "| t6 | K562 | 6 | 4 | 12307 | 1 | 1 | 6 |\n",
       "\n"
      ],
      "text/plain": [
       "      sample_name cellline pool insert_num barcode_num barcode_count\n",
       "1     t0          HeLa     5    3          10186       2946         \n",
       "2     t0          NA       2    5           3369       2260         \n",
       "3     t0          HEK293T  3    7           3617       1520         \n",
       "4     t0          HEK293T  3    7           3630       1346         \n",
       "5     t0          HEK293T  3    7           3640       1343         \n",
       "⋮     ⋮           ⋮        ⋮    ⋮          ⋮           ⋮            \n",
       "15901 t6          K562     6    2          11941       1            \n",
       "15902 t6          K562     6    5          12003       1            \n",
       "15903 t6          K562     6    7          12104       1            \n",
       "15904 t6          K562     6    2          12256       1            \n",
       "15905 t6          K562     6    4          12307       1            \n",
       "      linkage_count time\n",
       "1       1           0   \n",
       "2       1           0   \n",
       "3     279           0   \n",
       "4     243           0   \n",
       "5     228           0   \n",
       "⋮     ⋮             ⋮   \n",
       "15901 1             6   \n",
       "15902 1             6   \n",
       "15903 1             6   \n",
       "15904 1             6   \n",
       "15905 1             6   "
      ]
     },
     "metadata": {},
     "output_type": "display_data"
    }
   ],
   "source": [
    "barcode_counts <- read_tsv(\"../tables/sample_insert_barcode_counts.tsv.gz\") %>% print \n",
    "\n",
    "timecourse_counts <- barcode_counts %>%\n",
    "  # Select only timecourse samples\n",
    "  filter(!str_detect(sample_name, \"rna\")) %>%\n",
    "  # Remove \"stall4control4_\" from sample names\n",
    "  mutate(sample_name = str_remove(sample_name, \"stall4control4_\")) %>%\n",
    "  # Create a time column based on sample_name \n",
    "  mutate(time = as.numeric(str_extract(sample_name, \"(?<=.).+\"))) \n",
    "\n",
    "timecourse_counts  "
   ]
  },
  {
   "cell_type": "markdown",
   "metadata": {},
   "source": [
    "### Read insert annotations"
   ]
  },
  {
   "cell_type": "code",
   "execution_count": 6,
   "metadata": {
    "vscode": {
     "languageId": "r"
    }
   },
   "outputs": [
    {
     "name": "stderr",
     "output_type": "stream",
     "text": [
      "\u001b[1mRows: \u001b[22m\u001b[34m8\u001b[39m \u001b[1mColumns: \u001b[22m\u001b[34m8\u001b[39m\n",
      "\u001b[36m──\u001b[39m \u001b[1mColumn specification\u001b[22m \u001b[36m────────────────────────────────────────────────────────\u001b[39m\n",
      "\u001b[1mDelimiter:\u001b[22m \"\\t\"\n",
      "\u001b[31mchr\u001b[39m (5): group, insert_name, seq, rev_comp, insert_type\n",
      "\u001b[32mdbl\u001b[39m (3): insert_num, pair, frame\n",
      "\n",
      "\u001b[36mℹ\u001b[39m Use `spec()` to retrieve the full column specification for this data.\n",
      "\u001b[36mℹ\u001b[39m Specify the column types or set `show_col_types = FALSE` to quiet this message.\n"
     ]
    },
    {
     "name": "stdout",
     "output_type": "stream",
     "text": [
      "\u001b[90m# A tibble: 8 × 8\u001b[39m\n",
      "  group insert_name seq                      inser…¹ inser…² inser…³  pair frame\n",
      "  \u001b[3m\u001b[90m<chr>\u001b[39m\u001b[23m \u001b[3m\u001b[90m<chr>\u001b[39m\u001b[23m       \u001b[3m\u001b[90m<chr>\u001b[39m\u001b[23m                    \u001b[3m\u001b[90m<chr>\u001b[39m\u001b[23m   \u001b[3m\u001b[90m<chr>\u001b[39m\u001b[23m     \u001b[3m\u001b[90m<dbl>\u001b[39m\u001b[23m \u001b[3m\u001b[90m<dbl>\u001b[39m\u001b[23m \u001b[3m\u001b[90m<dbl>\u001b[39m\u001b[23m\n",
      "\u001b[90m1\u001b[39m human PS8         CGATGGCGATGGCGATGGCGATG… CCATCG… control       7     1     2\n",
      "\u001b[90m2\u001b[39m human RH8         ATGGCGATGGCGATGGCGATGGC… CGCCAT… stall         6     1     0\n",
      "\u001b[90m3\u001b[39m human FQ8         CTGAAACTGAAACTGAAACTGAA… TTTCAG… control       5     3     2\n",
      "\u001b[90m4\u001b[39m human SF8         GAAACTGAAACTGAAACTGAAAC… AGTTTC… stall         4     3     0\n",
      "\u001b[90m5\u001b[39m human QS8         ACTTTGACTTTGACTTTGACTTT… CAAAGT… control       3     2     2\n",
      "\u001b[90m6\u001b[39m human VK8         TTTGACTTTGACTTTGACTTTGA… GTCAAA… stall         2     2     0\n",
      "\u001b[90m7\u001b[39m human SKVF4       GTCAAAGTCAAAGTCAAAGTCAA… AGCAAA… control       1     4    \u001b[31mNA\u001b[39m\n",
      "\u001b[90m8\u001b[39m human SVKF4       GAATTTCACCGAAAACTTTACAC… AGCGTC… stall         0     4    \u001b[31mNA\u001b[39m\n",
      "\u001b[90m# … with abbreviated variable names ¹​insert_seq, ²​insert_type, ³​insert_num\u001b[39m\n"
     ]
    }
   ],
   "source": [
    "insert_annotations <- read_tsv(\"../../pool4_linkage/annotations/insert_annotations/stall4control4_linkage.tsv\") %>% \n",
    "  # Rename initial insert sequence as \"insert_seq\" \n",
    "  dplyr::rename(insert_seq = rev_comp) %>%\n",
    "  print()"
   ]
  },
  {
   "cell_type": "markdown",
   "metadata": {},
   "source": [
    "### Function for bootstrap mRNA levels"
   ]
  },
  {
   "cell_type": "code",
   "execution_count": 7,
   "metadata": {
    "vscode": {
     "languageId": "r"
    }
   },
   "outputs": [],
   "source": [
    "\n",
    "calc_lfc_bootstrap <- function(data, indices) {\n",
    "  d <- data[indices,]\n",
    "  log2(sum(d$barcode_count))\n",
    "}"
   ]
  },
  {
   "cell_type": "markdown",
   "metadata": {},
   "source": [
    "### Calculate normalized mRNA levels per insert\n",
    "\n",
    "- Pool 3 is HEK293T sample \n",
    "- Pool 4 is HCT116 as a negative control that was not spiked in\n",
    "- Pool 5 is HeLa as spike in (we normalize by this)\n",
    "\n",
    "- Pick only barcodes that are present in all time points\n"
   ]
  },
  {
   "cell_type": "code",
   "execution_count": 22,
   "metadata": {
    "vscode": {
     "languageId": "r"
    }
   },
   "outputs": [
    {
     "name": "stdout",
     "output_type": "stream",
     "text": [
      "\u001b[90m# A tibble: 42 × 14\u001b[39m\n",
      "   sample_…¹ inser…²  time stati…³     bias std.e…⁴ lfc      group inser…⁵ seq  \n",
      "   \u001b[3m\u001b[90m<chr>\u001b[39m\u001b[23m       \u001b[3m\u001b[90m<dbl>\u001b[39m\u001b[23m \u001b[3m\u001b[90m<dbl>\u001b[39m\u001b[23m   \u001b[3m\u001b[90m<dbl>\u001b[39m\u001b[23m    \u001b[3m\u001b[90m<dbl>\u001b[39m\u001b[23m   \u001b[3m\u001b[90m<dbl>\u001b[39m\u001b[23m \u001b[3m\u001b[90m<list>\u001b[39m\u001b[23m   \u001b[3m\u001b[90m<chr>\u001b[39m\u001b[23m \u001b[3m\u001b[90m<chr>\u001b[39m\u001b[23m   \u001b[3m\u001b[90m<chr>\u001b[39m\u001b[23m\n",
      "\u001b[90m 1\u001b[39m t0              7   0     0     -\u001b[31m1\u001b[39m\u001b[31m.\u001b[39m\u001b[31m46\u001b[39m\u001b[90me\u001b[39m\u001b[31m-3\u001b[39m  0.093\u001b[4m1\u001b[24m <dbl[…]> human PS8     CGAT…\n",
      "\u001b[90m 2\u001b[39m t0              5   0     0     -\u001b[31m2\u001b[39m\u001b[31m.\u001b[39m\u001b[31m75\u001b[39m\u001b[90me\u001b[39m\u001b[31m-4\u001b[39m  0.072\u001b[4m6\u001b[24m <dbl[…]> human FQ8     CTGA…\n",
      "\u001b[90m 3\u001b[39m t0              3   0     0     -\u001b[31m1\u001b[39m\u001b[31m.\u001b[39m\u001b[31m0\u001b[39m\u001b[31m8\u001b[39m\u001b[90me\u001b[39m\u001b[31m-3\u001b[39m  0.079\u001b[4m3\u001b[24m <dbl[…]> human QS8     ACTT…\n",
      "\u001b[90m 4\u001b[39m t0              4   0     0     -\u001b[31m2\u001b[39m\u001b[31m.\u001b[39m\u001b[31m81\u001b[39m\u001b[90me\u001b[39m\u001b[31m-3\u001b[39m  0.141  <dbl[…]> human SF8     GAAA…\n",
      "\u001b[90m 5\u001b[39m t0              6   0     0     -\u001b[31m1\u001b[39m\u001b[31m.\u001b[39m\u001b[31m82\u001b[39m\u001b[90me\u001b[39m\u001b[31m-2\u001b[39m  0.204  <dbl[…]> human RH8     ATGG…\n",
      "\u001b[90m 6\u001b[39m t0              2   0     0     -\u001b[31m4\u001b[39m\u001b[31m.\u001b[39m\u001b[31m86\u001b[39m\u001b[90me\u001b[39m\u001b[31m-3\u001b[39m  0.092\u001b[4m6\u001b[24m <dbl[…]> human VK8     TTTG…\n",
      "\u001b[90m 7\u001b[39m t0              0   0     0     -\u001b[31m3\u001b[39m\u001b[31m.\u001b[39m\u001b[31m59\u001b[39m\u001b[90me\u001b[39m\u001b[31m-2\u001b[39m  0.319  <dbl[…]> human SVKF4   GAAT…\n",
      "\u001b[90m 8\u001b[39m t0.5            7   0.5   0.214 -\u001b[31m5\u001b[39m\u001b[31m.\u001b[39m\u001b[31m0\u001b[39m\u001b[31m7\u001b[39m\u001b[90me\u001b[39m\u001b[31m-3\u001b[39m  0.094\u001b[4m1\u001b[24m <dbl[…]> human PS8     CGAT…\n",
      "\u001b[90m 9\u001b[39m t0.5            5   0.5   0.277 -\u001b[31m1\u001b[39m\u001b[31m.\u001b[39m\u001b[31m85\u001b[39m\u001b[90me\u001b[39m\u001b[31m-3\u001b[39m  0.071\u001b[4m7\u001b[24m <dbl[…]> human FQ8     CTGA…\n",
      "\u001b[90m10\u001b[39m t0.5            3   0.5   0.245 -\u001b[31m4\u001b[39m\u001b[31m.\u001b[39m\u001b[31m28\u001b[39m\u001b[90me\u001b[39m\u001b[31m-3\u001b[39m  0.082\u001b[4m9\u001b[24m <dbl[…]> human QS8     ACTT…\n",
      "\u001b[90m# … with 32 more rows, 4 more variables: insert_seq <chr>, insert_type <chr>,\u001b[39m\n",
      "\u001b[90m#   pair <dbl>, frame <dbl>, and abbreviated variable names ¹​sample_name,\u001b[39m\n",
      "\u001b[90m#   ²​insert_num, ³​statistic, ⁴​std.error, ⁵​insert_name\u001b[39m\n"
     ]
    }
   ],
   "source": [
    "\n",
    "lfc_data <- timecourse_counts %>% \n",
    "  group_by(barcode_num) %>% \n",
    "  mutate(n_timepoints = dplyr::n()) %>% \n",
    "  ungroup() %>% \n",
    "  filter(n_timepoints == 6) %>% \n",
    "  filter(pool == 3|5) %>%  \n",
    "  group_by(sample_name, time) %>% \n",
    "  mutate(barcode_count = barcode_count * 1e4 / sum(barcode_count[pool == 5])) %>% \n",
    "  ungroup() %>% \n",
    "  filter(pool == 3) %>% \n",
    "  select(-pool, -linkage_count) %>% \n",
    "  group_by(sample_name, time, insert_num) %>% \n",
    "  nest() %>%\n",
    "  mutate(boot = map(data, function(df) boot::boot(data=df, statistic=calc_lfc_bootstrap, R=5000))) %>%\n",
    "  # this gives mean and std.error of bootstrap\n",
    "  mutate(stat = map(boot, broom::tidy)) %>% \n",
    "  # this gives all the replicates\n",
    "  mutate(lfc = map(boot, function(x) x$t)) %>% \n",
    "  select(-data, -boot) %>%\n",
    "  unnest(stat) %>% \n",
    "  group_by(insert_num) %>%\n",
    "  mutate(statistic = statistic - statistic[time == 0]) %>%\n",
    "  ungroup() %>%\n",
    "  left_join(insert_annotations, by = \"insert_num\") %>%\n",
    "  print()"
   ]
  },
  {
   "cell_type": "markdown",
   "metadata": {},
   "source": [
    "### Plot mRNA of 8x dicodon inserts as a function of time"
   ]
  },
  {
   "cell_type": "code",
   "execution_count": 24,
   "metadata": {
    "vscode": {
     "languageId": "r"
    }
   },
   "outputs": [
    {
     "name": "stdout",
     "output_type": "stream",
     "text": [
      "\u001b[90m# A tibble: 36 × 14\u001b[39m\n",
      "   sample_…¹ inser…²  time stati…³     bias std.e…⁴ lfc      group inser…⁵ seq  \n",
      "   \u001b[3m\u001b[90m<chr>\u001b[39m\u001b[23m       \u001b[3m\u001b[90m<dbl>\u001b[39m\u001b[23m \u001b[3m\u001b[90m<dbl>\u001b[39m\u001b[23m   \u001b[3m\u001b[90m<dbl>\u001b[39m\u001b[23m    \u001b[3m\u001b[90m<dbl>\u001b[39m\u001b[23m   \u001b[3m\u001b[90m<dbl>\u001b[39m\u001b[23m \u001b[3m\u001b[90m<list>\u001b[39m\u001b[23m   \u001b[3m\u001b[90m<chr>\u001b[39m\u001b[23m \u001b[3m\u001b[90m<chr>\u001b[39m\u001b[23m   \u001b[3m\u001b[90m<chr>\u001b[39m\u001b[23m\n",
      "\u001b[90m 1\u001b[39m t0              7   0     0     -\u001b[31m1\u001b[39m\u001b[31m.\u001b[39m\u001b[31m46\u001b[39m\u001b[90me\u001b[39m\u001b[31m-3\u001b[39m  0.093\u001b[4m1\u001b[24m <dbl[…]> human PS8     CGAT…\n",
      "\u001b[90m 2\u001b[39m t0              5   0     0     -\u001b[31m2\u001b[39m\u001b[31m.\u001b[39m\u001b[31m75\u001b[39m\u001b[90me\u001b[39m\u001b[31m-4\u001b[39m  0.072\u001b[4m6\u001b[24m <dbl[…]> human FQ8     CTGA…\n",
      "\u001b[90m 3\u001b[39m t0              3   0     0     -\u001b[31m1\u001b[39m\u001b[31m.\u001b[39m\u001b[31m0\u001b[39m\u001b[31m8\u001b[39m\u001b[90me\u001b[39m\u001b[31m-3\u001b[39m  0.079\u001b[4m3\u001b[24m <dbl[…]> human QS8     ACTT…\n",
      "\u001b[90m 4\u001b[39m t0              4   0     0     -\u001b[31m2\u001b[39m\u001b[31m.\u001b[39m\u001b[31m81\u001b[39m\u001b[90me\u001b[39m\u001b[31m-3\u001b[39m  0.141  <dbl[…]> human SF8     GAAA…\n",
      "\u001b[90m 5\u001b[39m t0              6   0     0     -\u001b[31m1\u001b[39m\u001b[31m.\u001b[39m\u001b[31m82\u001b[39m\u001b[90me\u001b[39m\u001b[31m-2\u001b[39m  0.204  <dbl[…]> human RH8     ATGG…\n",
      "\u001b[90m 6\u001b[39m t0              2   0     0     -\u001b[31m4\u001b[39m\u001b[31m.\u001b[39m\u001b[31m86\u001b[39m\u001b[90me\u001b[39m\u001b[31m-3\u001b[39m  0.092\u001b[4m6\u001b[24m <dbl[…]> human VK8     TTTG…\n",
      "\u001b[90m 7\u001b[39m t0.5            7   0.5   0.214 -\u001b[31m5\u001b[39m\u001b[31m.\u001b[39m\u001b[31m0\u001b[39m\u001b[31m7\u001b[39m\u001b[90me\u001b[39m\u001b[31m-3\u001b[39m  0.094\u001b[4m1\u001b[24m <dbl[…]> human PS8     CGAT…\n",
      "\u001b[90m 8\u001b[39m t0.5            5   0.5   0.277 -\u001b[31m1\u001b[39m\u001b[31m.\u001b[39m\u001b[31m85\u001b[39m\u001b[90me\u001b[39m\u001b[31m-3\u001b[39m  0.071\u001b[4m7\u001b[24m <dbl[…]> human FQ8     CTGA…\n",
      "\u001b[90m 9\u001b[39m t0.5            3   0.5   0.245 -\u001b[31m4\u001b[39m\u001b[31m.\u001b[39m\u001b[31m28\u001b[39m\u001b[90me\u001b[39m\u001b[31m-3\u001b[39m  0.082\u001b[4m9\u001b[24m <dbl[…]> human QS8     ACTT…\n",
      "\u001b[90m10\u001b[39m t0.5            4   0.5   0.245 -\u001b[31m5\u001b[39m\u001b[31m.\u001b[39m\u001b[31m93\u001b[39m\u001b[90me\u001b[39m\u001b[31m-3\u001b[39m  0.136  <dbl[…]> human SF8     GAAA…\n",
      "\u001b[90m# … with 26 more rows, 4 more variables: insert_seq <chr>, insert_type <chr>,\u001b[39m\n",
      "\u001b[90m#   pair <dbl>, frame <dbl>, and abbreviated variable names ¹​sample_name,\u001b[39m\n",
      "\u001b[90m#   ²​insert_num, ³​statistic, ⁴​std.error, ⁵​insert_name\u001b[39m\n"
     ]
    },
    {
     "name": "stderr",
     "output_type": "stream",
     "text": [
      "Warning message:\n",
      "“Ignoring unknown parameters: width”\n"
     ]
    },
    {
     "data": {
      "image/png": "[encoded data removed]",
      "text/plain": [
       "plot without title"
      ]
     },
     "metadata": {
      "image/png": {
       "height": 120,
       "width": 120
      }
     },
     "output_type": "display_data"
    }
   ],
   "source": [
    "options(repr.plot.width=2, repr.plot.height=2)\n",
    "\n",
    "plot_data <- lfc_data %>% filter(pair <= 3) %>% print \n",
    "\n",
    "plot_data %>% \n",
    "  ggplot(aes(x = time, y = statistic, \n",
    "             ymin = statistic - std.error, ymax = statistic + std.error,\n",
    "             color = insert_type, group = insert_name, shape = as.factor(pair))) +\n",
    "  geom_errorbar(width = 0.2, color = \"black\", alpha = 0.3) +\n",
    "  geom_point(width=0.5, size=1.5) +\n",
    "  geom_line() +\n",
    "  scale_color_manual(values = cbPalette) +\n",
    "  theme(legend.position = \"none\") +\n",
    "  geom_text(aes(x = time, y = statistic, label = insert_name), \n",
    "            data = plot_data %>% filter(time == 6),\n",
    "            color = \"black\", size = 2, hjust = 0) +\n",
    "  labs(x = \"Time after ActD (hr)\", y = \"mRNA (log2, a.u.)\")"
   ]
  },
  {
   "cell_type": "markdown",
   "metadata": {},
   "source": [
    "### Calculate bootstrap p-values for difference between stall and corresponding control at each time point\n",
    "\n",
    "- Something is odd with this step. \n",
    "\n",
    "- It's nearly working, but seems the comparisons aren't quite being drawn appropriately (or at all) "
   ]
  },
  {
   "cell_type": "code",
   "execution_count": 34,
   "metadata": {
    "vscode": {
     "languageId": "r"
    }
   },
   "outputs": [
    {
     "name": "stderr",
     "output_type": "stream",
     "text": [
      "Warning message:\n",
      "“unnest() has a new interface. See ?unnest for details.\n",
      "Try `df %>% unnest(c(control, stall))`, with `mutate()` if needed”\n",
      "\u001b[1m\u001b[22m`summarise()` has grouped output by 'sample_name', 'time', 'insert_name'. You\n",
      "can override using the `.groups` argument.\n"
     ]
    },
    {
     "name": "stdout",
     "output_type": "stream",
     "text": [
      "\u001b[90m# A tibble: 18 × 5\u001b[39m\n",
      "   sample_name  time insert_name  pair     p\n",
      "   \u001b[3m\u001b[90m<chr>\u001b[39m\u001b[23m       \u001b[3m\u001b[90m<dbl>\u001b[39m\u001b[23m \u001b[3m\u001b[90m<chr>\u001b[39m\u001b[23m       \u001b[3m\u001b[90m<dbl>\u001b[39m\u001b[23m \u001b[3m\u001b[90m<dbl>\u001b[39m\u001b[23m\n",
      "\u001b[90m 1\u001b[39m t0            0   RH8             1    \u001b[31mNA\u001b[39m\n",
      "\u001b[90m 2\u001b[39m t0            0   SF8             3    \u001b[31mNA\u001b[39m\n",
      "\u001b[90m 3\u001b[39m t0            0   VK8             2    \u001b[31mNA\u001b[39m\n",
      "\u001b[90m 4\u001b[39m t0.5          0.5 RH8             1    \u001b[31mNA\u001b[39m\n",
      "\u001b[90m 5\u001b[39m t0.5          0.5 SF8             3    \u001b[31mNA\u001b[39m\n",
      "\u001b[90m 6\u001b[39m t0.5          0.5 VK8             2    \u001b[31mNA\u001b[39m\n",
      "\u001b[90m 7\u001b[39m t1            1   RH8             1    \u001b[31mNA\u001b[39m\n",
      "\u001b[90m 8\u001b[39m t1            1   SF8             3    \u001b[31mNA\u001b[39m\n",
      "\u001b[90m 9\u001b[39m t1            1   VK8             2    \u001b[31mNA\u001b[39m\n",
      "\u001b[90m10\u001b[39m t2            2   RH8             1    \u001b[31mNA\u001b[39m\n",
      "\u001b[90m11\u001b[39m t2            2   SF8             3    \u001b[31mNA\u001b[39m\n",
      "\u001b[90m12\u001b[39m t2            2   VK8             2    \u001b[31mNA\u001b[39m\n",
      "\u001b[90m13\u001b[39m t4            4   RH8             1    \u001b[31mNA\u001b[39m\n",
      "\u001b[90m14\u001b[39m t4            4   SF8             3    \u001b[31mNA\u001b[39m\n",
      "\u001b[90m15\u001b[39m t4            4   VK8             2    \u001b[31mNA\u001b[39m\n",
      "\u001b[90m16\u001b[39m t6            6   RH8             1    \u001b[31mNA\u001b[39m\n",
      "\u001b[90m17\u001b[39m t6            6   SF8             3    \u001b[31mNA\u001b[39m\n",
      "\u001b[90m18\u001b[39m t6            6   VK8             2    \u001b[31mNA\u001b[39m\n"
     ]
    }
   ],
   "source": [
    "lfc_data %>%\n",
    "  select(-statistic, -bias, -std.error, -insert_seq, -frame, -insert_num) %>%\n",
    "  # Remove SVKF for now, since we don't have it's corresponding control\n",
    "  filter(!str_detect(insert_name, \"SVKF\")) %>% \n",
    "  group_by(pair, time) %>%\n",
    "  mutate(insert_name = insert_name[insert_type == \"stall\"]) %>% \n",
    "  pivot_wider(names_from = insert_type, values_from = lfc) %>% \n",
    "  unnest(control, stall) %>% \n",
    "  group_by(pair) %>% \n",
    "  mutate(control = control - mean(control[time == 0])) %>% \n",
    "  mutate(stall = stall - mean(stall[time == 0])) %>% \n",
    "  mutate(effect = if_else(stall > control, T, F)) %>% \n",
    "  group_by(sample_name, time, insert_name, pair) %>% \n",
    "  summarize(p = sum(effect) / dplyr::n()) %>% \n",
    "  ungroup() %>% print "
   ]
  },
  {
   "cell_type": "code",
   "execution_count": null,
   "metadata": {
    "vscode": {
     "languageId": "r"
    }
   },
   "outputs": [],
   "source": []
  }
 ],
 "metadata": {
  "kernelspec": {
   "display_name": "R_project_repo_1.13.0",
   "language": "R",
   "name": "ir_project_repo_1.13.0"
  },
  "language_info": {
   "codemirror_mode": "r",
   "file_extension": ".r",
   "mimetype": "text/x-r-source",
   "name": "R",
   "pygments_lexer": "r",
   "version": "4.1.3"
  },
  "orig_nbformat": 4
 },
 "nbformat": 4,
 "nbformat_minor": 2
}
