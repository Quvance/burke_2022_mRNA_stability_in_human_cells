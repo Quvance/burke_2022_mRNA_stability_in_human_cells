{
 "cells": [
  {
   "cell_type": "markdown",
   "metadata": {},
   "source": [
    "# Load libraries and define analysis-specific parameters"
   ]
  },
  {
   "cell_type": "code",
   "execution_count": 1,
   "metadata": {
    "vscode": {
     "languageId": "r"
    }
   },
   "outputs": [
    {
     "name": "stderr",
     "output_type": "stream",
     "text": [
      "── \u001b[1mAttaching packages\u001b[22m ─────────────────────────────────────── tidyverse 1.3.2 ──\n",
      "\u001b[32m✔\u001b[39m \u001b[34mggplot2\u001b[39m 3.3.6      \u001b[32m✔\u001b[39m \u001b[34mpurrr  \u001b[39m 0.3.4 \n",
      "\u001b[32m✔\u001b[39m \u001b[34mtibble \u001b[39m 3.1.8      \u001b[32m✔\u001b[39m \u001b[34mdplyr  \u001b[39m 1.0.10\n",
      "\u001b[32m✔\u001b[39m \u001b[34mtidyr  \u001b[39m 1.2.1      \u001b[32m✔\u001b[39m \u001b[34mstringr\u001b[39m 1.4.1 \n",
      "\u001b[32m✔\u001b[39m \u001b[34mreadr  \u001b[39m 2.1.2      \u001b[32m✔\u001b[39m \u001b[34mforcats\u001b[39m 0.5.2 \n",
      "── \u001b[1mConflicts\u001b[22m ────────────────────────────────────────── tidyverse_conflicts() ──\n",
      "\u001b[31m✖\u001b[39m \u001b[34mdplyr\u001b[39m::\u001b[32mfilter()\u001b[39m masks \u001b[34mstats\u001b[39m::filter()\n",
      "\u001b[31m✖\u001b[39m \u001b[34mdplyr\u001b[39m::\u001b[32mlag()\u001b[39m    masks \u001b[34mstats\u001b[39m::lag()\n"
     ]
    }
   ],
   "source": [
    "library(tidyverse)"
   ]
  },
  {
   "cell_type": "markdown",
   "metadata": {},
   "source": [
    "\n",
    "### Read insert barcode linkages and merge them\n",
    "\n",
    "- Of note, we're missing control insert SKVF (insert number = #1) at this stage. This means it's not in the filtered barcode files.\n",
    "- At what stage did we generate the filtered barcode tsv.gz files? Let's go figure out what happened there. "
   ]
  },
  {
   "cell_type": "code",
   "execution_count": 6,
   "metadata": {
    "vscode": {
     "languageId": "r"
    }
   },
   "outputs": [
    {
     "name": "stderr",
     "output_type": "stream",
     "text": [
      "\u001b[1mRows: \u001b[22m\u001b[34m1800\u001b[39m \u001b[1mColumns: \u001b[22m\u001b[34m4\u001b[39m\n",
      "\u001b[36m──\u001b[39m \u001b[1mColumn specification\u001b[22m \u001b[36m────────────────────────────────────────────────────────\u001b[39m\n",
      "\u001b[1mDelimiter:\u001b[22m \"\\t\"\n",
      "\u001b[31mchr\u001b[39m (1): barcode_1\n",
      "\u001b[32mdbl\u001b[39m (3): insert_num, barcode_num, read_count\n",
      "\n",
      "\u001b[36mℹ\u001b[39m Use `spec()` to retrieve the full column specification for this data.\n",
      "\u001b[36mℹ\u001b[39m Specify the column types or set `show_col_types = FALSE` to quiet this message.\n",
      "\u001b[1mRows: \u001b[22m\u001b[34m1800\u001b[39m \u001b[1mColumns: \u001b[22m\u001b[34m4\u001b[39m\n",
      "\u001b[36m──\u001b[39m \u001b[1mColumn specification\u001b[22m \u001b[36m────────────────────────────────────────────────────────\u001b[39m\n",
      "\u001b[1mDelimiter:\u001b[22m \"\\t\"\n",
      "\u001b[31mchr\u001b[39m (1): barcode_1\n",
      "\u001b[32mdbl\u001b[39m (3): insert_num, barcode_num, read_count\n",
      "\n",
      "\u001b[36mℹ\u001b[39m Use `spec()` to retrieve the full column specification for this data.\n",
      "\u001b[36mℹ\u001b[39m Specify the column types or set `show_col_types = FALSE` to quiet this message.\n",
      "\u001b[1mRows: \u001b[22m\u001b[34m2052\u001b[39m \u001b[1mColumns: \u001b[22m\u001b[34m4\u001b[39m\n",
      "\u001b[36m──\u001b[39m \u001b[1mColumn specification\u001b[22m \u001b[36m────────────────────────────────────────────────────────\u001b[39m\n",
      "\u001b[1mDelimiter:\u001b[22m \"\\t\"\n",
      "\u001b[31mchr\u001b[39m (1): barcode_1\n",
      "\u001b[32mdbl\u001b[39m (3): insert_num, barcode_num, read_count\n",
      "\n",
      "\u001b[36mℹ\u001b[39m Use `spec()` to retrieve the full column specification for this data.\n",
      "\u001b[36mℹ\u001b[39m Specify the column types or set `show_col_types = FALSE` to quiet this message.\n",
      "\u001b[1mRows: \u001b[22m\u001b[34m2235\u001b[39m \u001b[1mColumns: \u001b[22m\u001b[34m4\u001b[39m\n",
      "\u001b[36m──\u001b[39m \u001b[1mColumn specification\u001b[22m \u001b[36m────────────────────────────────────────────────────────\u001b[39m\n",
      "\u001b[1mDelimiter:\u001b[22m \"\\t\"\n",
      "\u001b[31mchr\u001b[39m (1): barcode_1\n",
      "\u001b[32mdbl\u001b[39m (3): insert_num, barcode_num, read_count\n",
      "\n",
      "\u001b[36mℹ\u001b[39m Use `spec()` to retrieve the full column specification for this data.\n",
      "\u001b[36mℹ\u001b[39m Specify the column types or set `show_col_types = FALSE` to quiet this message.\n",
      "\u001b[1mRows: \u001b[22m\u001b[34m2576\u001b[39m \u001b[1mColumns: \u001b[22m\u001b[34m4\u001b[39m\n",
      "\u001b[36m──\u001b[39m \u001b[1mColumn specification\u001b[22m \u001b[36m────────────────────────────────────────────────────────\u001b[39m\n",
      "\u001b[1mDelimiter:\u001b[22m \"\\t\"\n",
      "\u001b[31mchr\u001b[39m (1): barcode_1\n",
      "\u001b[32mdbl\u001b[39m (3): insert_num, barcode_num, read_count\n",
      "\n",
      "\u001b[36mℹ\u001b[39m Use `spec()` to retrieve the full column specification for this data.\n",
      "\u001b[36mℹ\u001b[39m Specify the column types or set `show_col_types = FALSE` to quiet this message.\n",
      "\u001b[1mRows: \u001b[22m\u001b[34m2056\u001b[39m \u001b[1mColumns: \u001b[22m\u001b[34m4\u001b[39m\n",
      "\u001b[36m──\u001b[39m \u001b[1mColumn specification\u001b[22m \u001b[36m────────────────────────────────────────────────────────\u001b[39m\n",
      "\u001b[1mDelimiter:\u001b[22m \"\\t\"\n",
      "\u001b[31mchr\u001b[39m (1): barcode_1\n",
      "\u001b[32mdbl\u001b[39m (3): insert_num, barcode_num, read_count\n",
      "\n",
      "\u001b[36mℹ\u001b[39m Use `spec()` to retrieve the full column specification for this data.\n",
      "\u001b[36mℹ\u001b[39m Specify the column types or set `show_col_types = FALSE` to quiet this message.\n"
     ]
    },
    {
     "name": "stdout",
     "output_type": "stream",
     "text": [
      "\u001b[90m# A tibble: 12,519 × 5\u001b[39m\n",
      "   insert_num barcode_num barcode_1                read_count pool \n",
      "        \u001b[3m\u001b[90m<dbl>\u001b[39m\u001b[23m       \u001b[3m\u001b[90m<dbl>\u001b[39m\u001b[23m \u001b[3m\u001b[90m<chr>\u001b[39m\u001b[23m                         \u001b[3m\u001b[90m<dbl>\u001b[39m\u001b[23m \u001b[3m\u001b[90m<chr>\u001b[39m\u001b[23m\n",
      "\u001b[90m 1\u001b[39m          7           1 GATCACCCCGTGGTTTGCAGTTCG       \u001b[4m1\u001b[24m592 1    \n",
      "\u001b[90m 2\u001b[39m          5           2 CCGACTCTGGTTTATGCTCGTTAG        902 1    \n",
      "\u001b[90m 3\u001b[39m          7           3 TACTAGCAGTGGATCTATTTTGAG        590 1    \n",
      "\u001b[90m 4\u001b[39m          7           4 TCCCGTTGTGTGGGGTTCGCGGGT        588 1    \n",
      "\u001b[90m 5\u001b[39m          7           5 GGTATTTACCCTCAGTGTGTCCTG        525 1    \n",
      "\u001b[90m 6\u001b[39m          7           6 GCCTTCGATCTGCGGGCATCGTTG        521 1    \n",
      "\u001b[90m 7\u001b[39m          4           7 GATTGTGTCTATAGGGGGTTTGCC        480 1    \n",
      "\u001b[90m 8\u001b[39m          4           8 GGTGTTGGTTCGGCTTTCGGCTTC        479 1    \n",
      "\u001b[90m 9\u001b[39m          7           9 GGCCGTGCTCGTAGTCGCGGGGAT        475 1    \n",
      "\u001b[90m10\u001b[39m          5          10 CTCATGACCGGCGATAATGGGAGG        469 1    \n",
      "\u001b[90m# … with 12,509 more rows\u001b[39m\n"
     ]
    },
    {
     "ename": "ERROR",
     "evalue": "\u001b[1m\u001b[33mError\u001b[39m in \u001b[1m\u001b[1m`n()`:\u001b[22m\n\u001b[1m\u001b[22m\u001b[33m!\u001b[39m Must be used inside dplyr verbs.\n",
     "output_type": "error",
     "traceback": [
      "\u001b[1m\u001b[33mError\u001b[39m in \u001b[1m\u001b[1m`n()`:\u001b[22m\n\u001b[1m\u001b[22m\u001b[33m!\u001b[39m Must be used inside dplyr verbs.\nTraceback:\n",
      "1. mutate(barcode_num = seq(1, dplyr::n())) %>% write_tsv(\"../annotations/insert_barcode_linkages/stall4control4.tsv.gz\") %>% \n .     print()",
      "2. print(.)",
      "3. write_tsv(., \"../annotations/insert_barcode_linkages/stall4control4.tsv.gz\")",
      "4. write_delim(x, file, delim = \"\\t\", na = na, append = append, \n .     col_names = col_names, quote = quote, escape = escape, eol = eol, \n .     num_threads = num_threads, progress = progress)",
      "5. stopifnot(is.data.frame(x))",
      "6. is.data.frame(x)",
      "7. mutate(barcode_num = seq(1, dplyr::n()))",
      "8. seq(1, dplyr::n())",
      "9. seq.default(1, dplyr::n())",
      "10. dplyr::n()",
      "11. peek_mask(\"n\")",
      "12. context_peek(\"mask\", fun)",
      "13. context_peek_bare(name) %||% abort(glue(\"Must be used inside {location}.\"), \n  .     call = call(fun))",
      "14. abort(glue(\"Must be used inside {location}.\"), call = call(fun))",
      "15. signal_abort(cnd, .file)"
     ]
    }
   ],
   "source": [
    "linkage <- list.files(\"../../pool4_linkage/data/filtered_barcodes/\", pattern = \"stall4control4_\", full.names = T) %>% \n",
    "  enframe(\"sno\", \"file\") %>% \n",
    "  mutate(data = map(file, read_tsv)) %>% \n",
    "  mutate(pool = str_extract(file, \"[:digit:](?=.tsv.gz)\")) %>% \n",
    "  select(-sno, -file) %>% \n",
    "  unnest(data) %>% print \n",
    "  # filter(insert_num == 1) %>% print \n",
    "  mutate(barcode_num = seq(1,dplyr::n())) %>% \n",
    "  write_tsv(\"../annotations/insert_barcode_linkages/stall4control4.tsv.gz\") %>% \n",
    "  print()"
   ]
  },
  {
   "cell_type": "code",
   "execution_count": null,
   "metadata": {
    "vscode": {
     "languageId": "r"
    }
   },
   "outputs": [],
   "source": []
  }
 ],
 "metadata": {
  "kernelspec": {
   "display_name": "R_project_repo_1.13.0",
   "language": "R",
   "name": "ir_project_repo_1.13.0"
  },
  "language_info": {
   "codemirror_mode": "r",
   "file_extension": ".r",
   "mimetype": "text/x-r-source",
   "name": "R",
   "pygments_lexer": "r",
   "version": "4.1.3"
  },
  "orig_nbformat": 4,
  "vscode": {
   "interpreter": {
    "hash": "33ccdda4403b85622dcca6b225ea57e4a6a8ea27d62bd4ef32f6f7605d06a567"
   }
  }
 },
 "nbformat": 4,
 "nbformat_minor": 2
}
