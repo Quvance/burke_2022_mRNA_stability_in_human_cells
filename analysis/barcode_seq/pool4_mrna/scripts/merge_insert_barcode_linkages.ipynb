{
 "cells": [
  {
   "cell_type": "markdown",
   "metadata": {},
   "source": [
    "# Load libraries and define analysis-specific parameters"
   ]
  },
  {
   "cell_type": "code",
   "execution_count": 2,
   "metadata": {
    "vscode": {
     "languageId": "r"
    }
   },
   "outputs": [],
   "source": [
    "library(tidyverse)"
   ]
  },
  {
   "cell_type": "markdown",
   "metadata": {},
   "source": [
    "\n",
    "## Read insert barcode linkages and merge them"
   ]
  },
  {
   "cell_type": "code",
   "execution_count": 9,
   "metadata": {
    "vscode": {
     "languageId": "r"
    }
   },
   "outputs": [
    {
     "name": "stderr",
     "output_type": "stream",
     "text": [
      "\u001b[1mRows: \u001b[22m\u001b[34m1800\u001b[39m \u001b[1mColumns: \u001b[22m\u001b[34m4\u001b[39m\n",
      "\u001b[36m──\u001b[39m \u001b[1mColumn specification\u001b[22m \u001b[36m────────────────────────────────────────────────────────\u001b[39m\n",
      "\u001b[1mDelimiter:\u001b[22m \"\\t\"\n",
      "\u001b[31mchr\u001b[39m (1): barcode_1\n",
      "\u001b[32mdbl\u001b[39m (3): insert_num, barcode_num, read_count\n",
      "\n",
      "\u001b[36mℹ\u001b[39m Use `spec()` to retrieve the full column specification for this data.\n",
      "\u001b[36mℹ\u001b[39m Specify the column types or set `show_col_types = FALSE` to quiet this message.\n",
      "\u001b[1mRows: \u001b[22m\u001b[34m1800\u001b[39m \u001b[1mColumns: \u001b[22m\u001b[34m4\u001b[39m\n",
      "\u001b[36m──\u001b[39m \u001b[1mColumn specification\u001b[22m \u001b[36m────────────────────────────────────────────────────────\u001b[39m\n",
      "\u001b[1mDelimiter:\u001b[22m \"\\t\"\n",
      "\u001b[31mchr\u001b[39m (1): barcode_1\n",
      "\u001b[32mdbl\u001b[39m (3): insert_num, barcode_num, read_count\n",
      "\n",
      "\u001b[36mℹ\u001b[39m Use `spec()` to retrieve the full column specification for this data.\n",
      "\u001b[36mℹ\u001b[39m Specify the column types or set `show_col_types = FALSE` to quiet this message.\n",
      "\u001b[1mRows: \u001b[22m\u001b[34m2052\u001b[39m \u001b[1mColumns: \u001b[22m\u001b[34m4\u001b[39m\n",
      "\u001b[36m──\u001b[39m \u001b[1mColumn specification\u001b[22m \u001b[36m────────────────────────────────────────────────────────\u001b[39m\n",
      "\u001b[1mDelimiter:\u001b[22m \"\\t\"\n",
      "\u001b[31mchr\u001b[39m (1): barcode_1\n",
      "\u001b[32mdbl\u001b[39m (3): insert_num, barcode_num, read_count\n",
      "\n",
      "\u001b[36mℹ\u001b[39m Use `spec()` to retrieve the full column specification for this data.\n",
      "\u001b[36mℹ\u001b[39m Specify the column types or set `show_col_types = FALSE` to quiet this message.\n",
      "\u001b[1mRows: \u001b[22m\u001b[34m2235\u001b[39m \u001b[1mColumns: \u001b[22m\u001b[34m4\u001b[39m\n",
      "\u001b[36m──\u001b[39m \u001b[1mColumn specification\u001b[22m \u001b[36m────────────────────────────────────────────────────────\u001b[39m\n",
      "\u001b[1mDelimiter:\u001b[22m \"\\t\"\n",
      "\u001b[31mchr\u001b[39m (1): barcode_1\n",
      "\u001b[32mdbl\u001b[39m (3): insert_num, barcode_num, read_count\n",
      "\n",
      "\u001b[36mℹ\u001b[39m Use `spec()` to retrieve the full column specification for this data.\n",
      "\u001b[36mℹ\u001b[39m Specify the column types or set `show_col_types = FALSE` to quiet this message.\n",
      "\u001b[1mRows: \u001b[22m\u001b[34m2576\u001b[39m \u001b[1mColumns: \u001b[22m\u001b[34m4\u001b[39m\n",
      "\u001b[36m──\u001b[39m \u001b[1mColumn specification\u001b[22m \u001b[36m────────────────────────────────────────────────────────\u001b[39m\n",
      "\u001b[1mDelimiter:\u001b[22m \"\\t\"\n",
      "\u001b[31mchr\u001b[39m (1): barcode_1\n",
      "\u001b[32mdbl\u001b[39m (3): insert_num, barcode_num, read_count\n",
      "\n",
      "\u001b[36mℹ\u001b[39m Use `spec()` to retrieve the full column specification for this data.\n",
      "\u001b[36mℹ\u001b[39m Specify the column types or set `show_col_types = FALSE` to quiet this message.\n",
      "\u001b[1mRows: \u001b[22m\u001b[34m2056\u001b[39m \u001b[1mColumns: \u001b[22m\u001b[34m4\u001b[39m\n",
      "\u001b[36m──\u001b[39m \u001b[1mColumn specification\u001b[22m \u001b[36m────────────────────────────────────────────────────────\u001b[39m\n",
      "\u001b[1mDelimiter:\u001b[22m \"\\t\"\n",
      "\u001b[31mchr\u001b[39m (1): barcode_1\n",
      "\u001b[32mdbl\u001b[39m (3): insert_num, barcode_num, read_count\n",
      "\n",
      "\u001b[36mℹ\u001b[39m Use `spec()` to retrieve the full column specification for this data.\n",
      "\u001b[36mℹ\u001b[39m Specify the column types or set `show_col_types = FALSE` to quiet this message.\n"
     ]
    },
    {
     "name": "stdout",
     "output_type": "stream",
     "text": [
      "\u001b[90m# A tibble: 12,519 × 5\u001b[39m\n",
      "   insert_num barcode_num barcode_1                read_count pool \n",
      "        \u001b[3m\u001b[90m<dbl>\u001b[39m\u001b[23m       \u001b[3m\u001b[90m<int>\u001b[39m\u001b[23m \u001b[3m\u001b[90m<chr>\u001b[39m\u001b[23m                         \u001b[3m\u001b[90m<dbl>\u001b[39m\u001b[23m \u001b[3m\u001b[90m<chr>\u001b[39m\u001b[23m\n",
      "\u001b[90m 1\u001b[39m          7           1 GATCACCCCGTGGTTTGCAGTTCG       \u001b[4m1\u001b[24m592 1    \n",
      "\u001b[90m 2\u001b[39m          5           2 CCGACTCTGGTTTATGCTCGTTAG        902 1    \n",
      "\u001b[90m 3\u001b[39m          7           3 TACTAGCAGTGGATCTATTTTGAG        590 1    \n",
      "\u001b[90m 4\u001b[39m          7           4 TCCCGTTGTGTGGGGTTCGCGGGT        588 1    \n",
      "\u001b[90m 5\u001b[39m          7           5 GGTATTTACCCTCAGTGTGTCCTG        525 1    \n",
      "\u001b[90m 6\u001b[39m          7           6 GCCTTCGATCTGCGGGCATCGTTG        521 1    \n",
      "\u001b[90m 7\u001b[39m          4           7 GATTGTGTCTATAGGGGGTTTGCC        480 1    \n",
      "\u001b[90m 8\u001b[39m          4           8 GGTGTTGGTTCGGCTTTCGGCTTC        479 1    \n",
      "\u001b[90m 9\u001b[39m          7           9 GGCCGTGCTCGTAGTCGCGGGGAT        475 1    \n",
      "\u001b[90m10\u001b[39m          5          10 CTCATGACCGGCGATAATGGGAGG        469 1    \n",
      "\u001b[90m# … with 12,509 more rows\u001b[39m\n"
     ]
    }
   ],
   "source": [
    "linkage <- list.files(\"../../pool4_linkage/data/filtered_barcodes/\", pattern = \"stall4control4_\", full.names = T) %>% \n",
    "  enframe(\"sno\", \"file\") %>% \n",
    "  mutate(data = map(file, read_tsv)) %>% \n",
    "  mutate(pool = str_extract(file, \"[:digit:](?=.tsv.gz)\")) %>% \n",
    "  select(-sno, -file) %>% \n",
    "  unnest(data) %>%\n",
    "  mutate(barcode_num = seq(1,dplyr::n())) %>% \n",
    "  write_tsv(\"../annotations/insert_barcode_linkages/stall4control4.tsv.gz\") %>% \n",
    "  print()"
   ]
  },
  {
   "cell_type": "code",
   "execution_count": null,
   "metadata": {
    "vscode": {
     "languageId": "r"
    }
   },
   "outputs": [],
   "source": []
  }
 ],
 "metadata": {
  "kernelspec": {
   "display_name": "R_project_repo_1.13.0",
   "language": "R",
   "name": "ir_project_repo_1.13.0"
  },
  "language_info": {
   "codemirror_mode": "r",
   "file_extension": ".r",
   "mimetype": "text/x-r-source",
   "name": "R",
   "pygments_lexer": "r",
   "version": "4.1.3"
  },
  "orig_nbformat": 4,
  "vscode": {
   "interpreter": {
    "hash": "33ccdda4403b85622dcca6b225ea57e4a6a8ea27d62bd4ef32f6f7605d06a567"
   }
  }
 },
 "nbformat": 4,
 "nbformat_minor": 2
}
