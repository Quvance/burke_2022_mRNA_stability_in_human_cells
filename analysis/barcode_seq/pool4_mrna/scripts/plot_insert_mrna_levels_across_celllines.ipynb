{
 "cells": [
  {
   "cell_type": "markdown",
   "metadata": {},
   "source": [
    "# Plot effects of dicodon length and periodicity on mRNA levels"
   ]
  },
  {
   "cell_type": "markdown",
   "metadata": {},
   "source": [
    "## Load libraries and define analysis-specific parameters\n",
    "\n",
    "- We need to install both rsample and rasilabRtemplates in the Docker / Singularity container (or R conda environement?)"
   ]
  },
  {
   "cell_type": "code",
   "execution_count": 1,
   "metadata": {
    "vscode": {
     "languageId": "r"
    }
   },
   "outputs": [
    {
     "name": "stderr",
     "output_type": "stream",
     "text": [
      "Loading required package: BiocGenerics\n",
      "\n",
      "\n",
      "Attaching package: ‘BiocGenerics’\n",
      "\n",
      "\n",
      "The following objects are masked from ‘package:stats’:\n",
      "\n",
      "    IQR, mad, sd, var, xtabs\n",
      "\n",
      "\n",
      "The following objects are masked from ‘package:base’:\n",
      "\n",
      "    anyDuplicated, append, as.data.frame, basename, cbind, colnames,\n",
      "    dirname, do.call, duplicated, eval, evalq, Filter, Find, get, grep,\n",
      "    grepl, intersect, is.unsorted, lapply, Map, mapply, match, mget,\n",
      "    order, paste, pmax, pmax.int, pmin, pmin.int, Position, rank,\n",
      "    rbind, Reduce, rownames, sapply, setdiff, sort, table, tapply,\n",
      "    union, unique, unsplit, which.max, which.min\n",
      "\n",
      "\n",
      "Loading required package: S4Vectors\n",
      "\n",
      "Loading required package: stats4\n",
      "\n",
      "\n",
      "Attaching package: ‘S4Vectors’\n",
      "\n",
      "\n",
      "The following objects are masked from ‘package:base’:\n",
      "\n",
      "    expand.grid, I, unname\n",
      "\n",
      "\n",
      "Loading required package: IRanges\n",
      "\n",
      "Loading required package: XVector\n",
      "\n",
      "Loading required package: GenomeInfoDb\n",
      "\n",
      "\n",
      "Attaching package: ‘Biostrings’\n",
      "\n",
      "\n",
      "The following object is masked from ‘package:base’:\n",
      "\n",
      "    strsplit\n",
      "\n",
      "\n",
      "── \u001b[1mAttaching packages\u001b[22m ─────────────────────────────────────── tidyverse 1.3.1 ──\n",
      "\n",
      "\u001b[32m✔\u001b[39m \u001b[34mggplot2\u001b[39m 3.3.5     \u001b[32m✔\u001b[39m \u001b[34mpurrr  \u001b[39m 0.3.4\n",
      "\u001b[32m✔\u001b[39m \u001b[34mtibble \u001b[39m 3.1.7     \u001b[32m✔\u001b[39m \u001b[34mdplyr  \u001b[39m 1.0.7\n",
      "\u001b[32m✔\u001b[39m \u001b[34mtidyr  \u001b[39m 1.1.4     \u001b[32m✔\u001b[39m \u001b[34mstringr\u001b[39m 1.4.0\n",
      "\u001b[32m✔\u001b[39m \u001b[34mreadr  \u001b[39m 2.0.2     \u001b[32m✔\u001b[39m \u001b[34mforcats\u001b[39m 0.5.1\n",
      "\n",
      "── \u001b[1mConflicts\u001b[22m ────────────────────────────────────────── tidyverse_conflicts() ──\n",
      "\u001b[31m✖\u001b[39m \u001b[34mdplyr\u001b[39m::\u001b[32mcollapse()\u001b[39m   masks \u001b[34mBiostrings\u001b[39m::collapse(), \u001b[34mIRanges\u001b[39m::collapse()\n",
      "\u001b[31m✖\u001b[39m \u001b[34mdplyr\u001b[39m::\u001b[32mcombine()\u001b[39m    masks \u001b[34mBiocGenerics\u001b[39m::combine()\n",
      "\u001b[31m✖\u001b[39m \u001b[34mpurrr\u001b[39m::\u001b[32mcompact()\u001b[39m    masks \u001b[34mXVector\u001b[39m::compact()\n",
      "\u001b[31m✖\u001b[39m \u001b[34mdplyr\u001b[39m::\u001b[32mdesc()\u001b[39m       masks \u001b[34mIRanges\u001b[39m::desc()\n",
      "\u001b[31m✖\u001b[39m \u001b[34mtidyr\u001b[39m::\u001b[32mexpand()\u001b[39m     masks \u001b[34mS4Vectors\u001b[39m::expand()\n",
      "\u001b[31m✖\u001b[39m \u001b[34mdplyr\u001b[39m::\u001b[32mfilter()\u001b[39m     masks \u001b[34mstats\u001b[39m::filter()\n",
      "\u001b[31m✖\u001b[39m \u001b[34mdplyr\u001b[39m::\u001b[32mfirst()\u001b[39m      masks \u001b[34mS4Vectors\u001b[39m::first()\n",
      "\u001b[31m✖\u001b[39m \u001b[34mdplyr\u001b[39m::\u001b[32mlag()\u001b[39m        masks \u001b[34mstats\u001b[39m::lag()\n",
      "\u001b[31m✖\u001b[39m \u001b[34mggplot2\u001b[39m::\u001b[32mPosition()\u001b[39m masks \u001b[34mBiocGenerics\u001b[39m::Position(), \u001b[34mbase\u001b[39m::Position()\n",
      "\u001b[31m✖\u001b[39m \u001b[34mpurrr\u001b[39m::\u001b[32mreduce()\u001b[39m     masks \u001b[34mIRanges\u001b[39m::reduce()\n",
      "\u001b[31m✖\u001b[39m \u001b[34mdplyr\u001b[39m::\u001b[32mrename()\u001b[39m     masks \u001b[34mS4Vectors\u001b[39m::rename()\n",
      "\u001b[31m✖\u001b[39m \u001b[34mdplyr\u001b[39m::\u001b[32mslice()\u001b[39m      masks \u001b[34mXVector\u001b[39m::slice(), \u001b[34mIRanges\u001b[39m::slice()\n",
      "\n"
     ]
    }
   ],
   "source": [
    "library(Biostrings)\n",
    "library(tidyverse)\n",
    "library(rasilabRtemplates)\n",
    "\n",
    "insert_reads_cutoff <- 200 # The insert should get at least 200 reads across gRNA or mRNA\n",
    "n_barcodes_cutoff <- 6 # The insert should have at least 6 barcodes across gRNA and mRNA after above cutoff\n",
    "\n",
    "# Color-blind friendly palette. See http://www.cookbook-r.com/Graphs/Colors_(ggplot2)/\n",
    "cbPalette <- c(\"#999999\", \"#E69F00\", \"#56B4E9\", \"#009E73\", \"#F0E442\", \"#0072B2\", \"#D55E00\", \"#CC79A7\")"
   ]
  },
  {
   "cell_type": "markdown",
   "metadata": {},
   "source": [
    "## Read back barcode counts \n",
    "\n",
    "This is calculated in [plot_alignment_statistics.ipynb](plot_alignment_statistics.md)."
   ]
  },
  {
   "cell_type": "code",
   "execution_count": 2,
   "metadata": {
    "vscode": {
     "languageId": "r"
    }
   },
   "outputs": [
    {
     "name": "stderr",
     "output_type": "stream",
     "text": [
      "\u001b[1mRows: \u001b[22m\u001b[34m27840\u001b[39m \u001b[1mColumns: \u001b[22m\u001b[34m7\u001b[39m\n",
      "\u001b[36m──\u001b[39m \u001b[1mColumn specification\u001b[22m \u001b[36m────────────────────────────────────────────────────────\u001b[39m\n",
      "\u001b[1mDelimiter:\u001b[22m \"\\t\"\n",
      "\u001b[31mchr\u001b[39m (2): sample_name, cellline\n",
      "\u001b[32mdbl\u001b[39m (5): pool, insert_num, barcode_num, barcode_count, linkage_count\n",
      "\n",
      "\u001b[36mℹ\u001b[39m Use `spec()` to retrieve the full column specification for this data.\n",
      "\u001b[36mℹ\u001b[39m Specify the column types or set `show_col_types = FALSE` to quiet this message.\n"
     ]
    },
    {
     "data": {
      "text/html": [
       "<table class=\"dataframe\">\n",
       "<caption>A spec_tbl_df: 27360 × 7</caption>\n",
       "<thead>\n",
       "\t<tr><th scope=col>sample_type</th><th scope=col>sample_name</th><th scope=col>pool</th><th scope=col>insert_num</th><th scope=col>barcode_num</th><th scope=col>barcode_count</th><th scope=col>linkage_count</th></tr>\n",
       "\t<tr><th scope=col>&lt;chr&gt;</th><th scope=col>&lt;chr&gt;</th><th scope=col>&lt;dbl&gt;</th><th scope=col>&lt;dbl&gt;</th><th scope=col>&lt;dbl&gt;</th><th scope=col>&lt;dbl&gt;</th><th scope=col>&lt;dbl&gt;</th></tr>\n",
       "</thead>\n",
       "<tbody>\n",
       "\t<tr><td>stall4control4_grna</td><td>K562  </td><td>6</td><td>5</td><td>12338</td><td>2551</td><td>  1</td></tr>\n",
       "\t<tr><td>stall4control4_grna</td><td>HeLa  </td><td>5</td><td>4</td><td> 7889</td><td>1779</td><td>303</td></tr>\n",
       "\t<tr><td>stall4control4_grna</td><td>HeLa  </td><td>5</td><td>5</td><td> 7888</td><td>1628</td><td>431</td></tr>\n",
       "\t<tr><td>stall4control4_grna</td><td>HeLa  </td><td>5</td><td>2</td><td> 7909</td><td>1107</td><td>223</td></tr>\n",
       "\t<tr><td>stall4control4_grna</td><td>K562  </td><td>6</td><td>3</td><td>10487</td><td>1041</td><td>333</td></tr>\n",
       "\t<tr><td>stall4control4_grna</td><td>HeLa  </td><td>5</td><td>3</td><td> 7899</td><td>1000</td><td>254</td></tr>\n",
       "\t<tr><td>stall4control4_grna</td><td>HCT116</td><td>4</td><td>7</td><td> 7845</td><td> 970</td><td>  1</td></tr>\n",
       "\t<tr><td>stall4control4_grna</td><td>HeLa  </td><td>5</td><td>5</td><td> 8016</td><td> 941</td><td>151</td></tr>\n",
       "\t<tr><td>stall4control4_grna</td><td>K562  </td><td>6</td><td>5</td><td>11819</td><td> 938</td><td>  2</td></tr>\n",
       "\t<tr><td>stall4control4_grna</td><td>HCT116</td><td>4</td><td>5</td><td> 7208</td><td> 934</td><td>  2</td></tr>\n",
       "\t<tr><td>stall4control4_grna</td><td>HeLa  </td><td>5</td><td>5</td><td> 7914</td><td> 928</td><td>215</td></tr>\n",
       "\t<tr><td>stall4control4_grna</td><td>HeLa  </td><td>5</td><td>3</td><td> 7924</td><td> 898</td><td>209</td></tr>\n",
       "\t<tr><td>stall4control4_grna</td><td>HeLa  </td><td>5</td><td>7</td><td> 7894</td><td> 879</td><td>277</td></tr>\n",
       "\t<tr><td>stall4control4_grna</td><td>K562  </td><td>6</td><td>5</td><td>10650</td><td> 849</td><td>182</td></tr>\n",
       "\t<tr><td>stall4control4_grna</td><td>HeLa  </td><td>5</td><td>5</td><td> 7934</td><td> 832</td><td>189</td></tr>\n",
       "\t<tr><td>stall4control4_grna</td><td>K562  </td><td>6</td><td>5</td><td>10509</td><td> 823</td><td>293</td></tr>\n",
       "\t<tr><td>stall4control4_grna</td><td>HeLa  </td><td>5</td><td>5</td><td> 7901</td><td> 815</td><td>243</td></tr>\n",
       "\t<tr><td>stall4control4_grna</td><td>HeLa  </td><td>5</td><td>2</td><td> 7896</td><td> 814</td><td>259</td></tr>\n",
       "\t<tr><td>stall4control4_grna</td><td>K562  </td><td>6</td><td>7</td><td>10471</td><td> 810</td><td>413</td></tr>\n",
       "\t<tr><td>stall4control4_grna</td><td>HeLa  </td><td>5</td><td>2</td><td> 7903</td><td> 799</td><td>241</td></tr>\n",
       "\t<tr><td>stall4control4_grna</td><td>HeLa  </td><td>5</td><td>5</td><td> 7919</td><td> 796</td><td>212</td></tr>\n",
       "\t<tr><td>stall4control4_grna</td><td>HeLa  </td><td>5</td><td>5</td><td> 7912</td><td> 794</td><td>218</td></tr>\n",
       "\t<tr><td>stall4control4_grna</td><td>K562  </td><td>6</td><td>7</td><td>10554</td><td> 791</td><td>242</td></tr>\n",
       "\t<tr><td>stall4control4_grna</td><td>HeLa  </td><td>5</td><td>5</td><td> 7915</td><td> 785</td><td>214</td></tr>\n",
       "\t<tr><td>stall4control4_grna</td><td>HeLa  </td><td>5</td><td>5</td><td> 7895</td><td> 777</td><td>269</td></tr>\n",
       "\t<tr><td>stall4control4_grna</td><td>HeLa  </td><td>5</td><td>4</td><td> 7928</td><td> 770</td><td>201</td></tr>\n",
       "\t<tr><td>stall4control4_grna</td><td>HeLa  </td><td>5</td><td>5</td><td> 7897</td><td> 763</td><td>257</td></tr>\n",
       "\t<tr><td>stall4control4_grna</td><td>K562  </td><td>6</td><td>2</td><td>10528</td><td> 759</td><td>258</td></tr>\n",
       "\t<tr><td>stall4control4_grna</td><td>HeLa  </td><td>5</td><td>2</td><td> 7891</td><td> 757</td><td>291</td></tr>\n",
       "\t<tr><td>stall4control4_grna</td><td>HeLa  </td><td>5</td><td>2</td><td> 7916</td><td> 753</td><td>213</td></tr>\n",
       "\t<tr><td>⋮</td><td>⋮</td><td>⋮</td><td>⋮</td><td>⋮</td><td>⋮</td><td>⋮</td></tr>\n",
       "\t<tr><td>stall4control4_t6</td><td>HeLa</td><td>5</td><td>7</td><td> 9601</td><td>1</td><td>  5</td></tr>\n",
       "\t<tr><td>stall4control4_t6</td><td>HeLa</td><td>5</td><td>3</td><td> 9605</td><td>1</td><td>  5</td></tr>\n",
       "\t<tr><td>stall4control4_t6</td><td>HeLa</td><td>5</td><td>7</td><td> 9612</td><td>1</td><td>  5</td></tr>\n",
       "\t<tr><td>stall4control4_t6</td><td>HeLa</td><td>5</td><td>2</td><td> 9630</td><td>1</td><td>  5</td></tr>\n",
       "\t<tr><td>stall4control4_t6</td><td>HeLa</td><td>5</td><td>3</td><td> 9644</td><td>1</td><td>  4</td></tr>\n",
       "\t<tr><td>stall4control4_t6</td><td>HeLa</td><td>5</td><td>4</td><td> 9647</td><td>1</td><td>  4</td></tr>\n",
       "\t<tr><td>stall4control4_t6</td><td>HeLa</td><td>5</td><td>5</td><td> 9667</td><td>1</td><td>  4</td></tr>\n",
       "\t<tr><td>stall4control4_t6</td><td>HeLa</td><td>5</td><td>2</td><td> 9695</td><td>1</td><td>  3</td></tr>\n",
       "\t<tr><td>stall4control4_t6</td><td>HeLa</td><td>5</td><td>5</td><td> 9717</td><td>1</td><td>  3</td></tr>\n",
       "\t<tr><td>stall4control4_t6</td><td>HeLa</td><td>5</td><td>2</td><td> 9789</td><td>1</td><td>  2</td></tr>\n",
       "\t<tr><td>stall4control4_t6</td><td>HeLa</td><td>5</td><td>5</td><td> 9963</td><td>1</td><td>  1</td></tr>\n",
       "\t<tr><td>stall4control4_t6</td><td>HeLa</td><td>5</td><td>2</td><td>10000</td><td>1</td><td>  1</td></tr>\n",
       "\t<tr><td>stall4control4_t6</td><td>HeLa</td><td>5</td><td>2</td><td>10006</td><td>1</td><td>  1</td></tr>\n",
       "\t<tr><td>stall4control4_t6</td><td>HeLa</td><td>5</td><td>3</td><td>10057</td><td>1</td><td>  1</td></tr>\n",
       "\t<tr><td>stall4control4_t6</td><td>HeLa</td><td>5</td><td>6</td><td>10083</td><td>1</td><td>  1</td></tr>\n",
       "\t<tr><td>stall4control4_t6</td><td>HeLa</td><td>5</td><td>2</td><td>10169</td><td>1</td><td>  1</td></tr>\n",
       "\t<tr><td>stall4control4_t6</td><td>HeLa</td><td>5</td><td>2</td><td>10283</td><td>1</td><td>  1</td></tr>\n",
       "\t<tr><td>stall4control4_t6</td><td>HeLa</td><td>5</td><td>2</td><td>10299</td><td>1</td><td>  1</td></tr>\n",
       "\t<tr><td>stall4control4_t6</td><td>HeLa</td><td>5</td><td>2</td><td>10338</td><td>1</td><td>  1</td></tr>\n",
       "\t<tr><td>stall4control4_t6</td><td>HeLa</td><td>5</td><td>3</td><td>10343</td><td>1</td><td>  1</td></tr>\n",
       "\t<tr><td>stall4control4_t6</td><td>HeLa</td><td>5</td><td>7</td><td>10411</td><td>1</td><td>  1</td></tr>\n",
       "\t<tr><td>stall4control4_t6</td><td>HeLa</td><td>5</td><td>5</td><td>10450</td><td>1</td><td>  1</td></tr>\n",
       "\t<tr><td>stall4control4_t6</td><td>K562</td><td>6</td><td>2</td><td>10470</td><td>1</td><td>425</td></tr>\n",
       "\t<tr><td>stall4control4_t6</td><td>K562</td><td>6</td><td>6</td><td>10640</td><td>1</td><td>185</td></tr>\n",
       "\t<tr><td>stall4control4_t6</td><td>K562</td><td>6</td><td>5</td><td>11756</td><td>1</td><td>  3</td></tr>\n",
       "\t<tr><td>stall4control4_t6</td><td>K562</td><td>6</td><td>2</td><td>11941</td><td>1</td><td>  1</td></tr>\n",
       "\t<tr><td>stall4control4_t6</td><td>K562</td><td>6</td><td>5</td><td>12003</td><td>1</td><td>  1</td></tr>\n",
       "\t<tr><td>stall4control4_t6</td><td>K562</td><td>6</td><td>7</td><td>12104</td><td>1</td><td>  1</td></tr>\n",
       "\t<tr><td>stall4control4_t6</td><td>K562</td><td>6</td><td>2</td><td>12256</td><td>1</td><td>  1</td></tr>\n",
       "\t<tr><td>stall4control4_t6</td><td>K562</td><td>6</td><td>4</td><td>12307</td><td>1</td><td>  1</td></tr>\n",
       "</tbody>\n",
       "</table>\n"
      ],
      "text/latex": [
       "A spec\\_tbl\\_df: 27360 × 7\n",
       "\\begin{tabular}{lllllll}\n",
       " sample\\_type & sample\\_name & pool & insert\\_num & barcode\\_num & barcode\\_count & linkage\\_count\\\\\n",
       " <chr> & <chr> & <dbl> & <dbl> & <dbl> & <dbl> & <dbl>\\\\\n",
       "\\hline\n",
       "\t stall4control4\\_grna & K562   & 6 & 5 & 12338 & 2551 &   1\\\\\n",
       "\t stall4control4\\_grna & HeLa   & 5 & 4 &  7889 & 1779 & 303\\\\\n",
       "\t stall4control4\\_grna & HeLa   & 5 & 5 &  7888 & 1628 & 431\\\\\n",
       "\t stall4control4\\_grna & HeLa   & 5 & 2 &  7909 & 1107 & 223\\\\\n",
       "\t stall4control4\\_grna & K562   & 6 & 3 & 10487 & 1041 & 333\\\\\n",
       "\t stall4control4\\_grna & HeLa   & 5 & 3 &  7899 & 1000 & 254\\\\\n",
       "\t stall4control4\\_grna & HCT116 & 4 & 7 &  7845 &  970 &   1\\\\\n",
       "\t stall4control4\\_grna & HeLa   & 5 & 5 &  8016 &  941 & 151\\\\\n",
       "\t stall4control4\\_grna & K562   & 6 & 5 & 11819 &  938 &   2\\\\\n",
       "\t stall4control4\\_grna & HCT116 & 4 & 5 &  7208 &  934 &   2\\\\\n",
       "\t stall4control4\\_grna & HeLa   & 5 & 5 &  7914 &  928 & 215\\\\\n",
       "\t stall4control4\\_grna & HeLa   & 5 & 3 &  7924 &  898 & 209\\\\\n",
       "\t stall4control4\\_grna & HeLa   & 5 & 7 &  7894 &  879 & 277\\\\\n",
       "\t stall4control4\\_grna & K562   & 6 & 5 & 10650 &  849 & 182\\\\\n",
       "\t stall4control4\\_grna & HeLa   & 5 & 5 &  7934 &  832 & 189\\\\\n",
       "\t stall4control4\\_grna & K562   & 6 & 5 & 10509 &  823 & 293\\\\\n",
       "\t stall4control4\\_grna & HeLa   & 5 & 5 &  7901 &  815 & 243\\\\\n",
       "\t stall4control4\\_grna & HeLa   & 5 & 2 &  7896 &  814 & 259\\\\\n",
       "\t stall4control4\\_grna & K562   & 6 & 7 & 10471 &  810 & 413\\\\\n",
       "\t stall4control4\\_grna & HeLa   & 5 & 2 &  7903 &  799 & 241\\\\\n",
       "\t stall4control4\\_grna & HeLa   & 5 & 5 &  7919 &  796 & 212\\\\\n",
       "\t stall4control4\\_grna & HeLa   & 5 & 5 &  7912 &  794 & 218\\\\\n",
       "\t stall4control4\\_grna & K562   & 6 & 7 & 10554 &  791 & 242\\\\\n",
       "\t stall4control4\\_grna & HeLa   & 5 & 5 &  7915 &  785 & 214\\\\\n",
       "\t stall4control4\\_grna & HeLa   & 5 & 5 &  7895 &  777 & 269\\\\\n",
       "\t stall4control4\\_grna & HeLa   & 5 & 4 &  7928 &  770 & 201\\\\\n",
       "\t stall4control4\\_grna & HeLa   & 5 & 5 &  7897 &  763 & 257\\\\\n",
       "\t stall4control4\\_grna & K562   & 6 & 2 & 10528 &  759 & 258\\\\\n",
       "\t stall4control4\\_grna & HeLa   & 5 & 2 &  7891 &  757 & 291\\\\\n",
       "\t stall4control4\\_grna & HeLa   & 5 & 2 &  7916 &  753 & 213\\\\\n",
       "\t ⋮ & ⋮ & ⋮ & ⋮ & ⋮ & ⋮ & ⋮\\\\\n",
       "\t stall4control4\\_t6 & HeLa & 5 & 7 &  9601 & 1 &   5\\\\\n",
       "\t stall4control4\\_t6 & HeLa & 5 & 3 &  9605 & 1 &   5\\\\\n",
       "\t stall4control4\\_t6 & HeLa & 5 & 7 &  9612 & 1 &   5\\\\\n",
       "\t stall4control4\\_t6 & HeLa & 5 & 2 &  9630 & 1 &   5\\\\\n",
       "\t stall4control4\\_t6 & HeLa & 5 & 3 &  9644 & 1 &   4\\\\\n",
       "\t stall4control4\\_t6 & HeLa & 5 & 4 &  9647 & 1 &   4\\\\\n",
       "\t stall4control4\\_t6 & HeLa & 5 & 5 &  9667 & 1 &   4\\\\\n",
       "\t stall4control4\\_t6 & HeLa & 5 & 2 &  9695 & 1 &   3\\\\\n",
       "\t stall4control4\\_t6 & HeLa & 5 & 5 &  9717 & 1 &   3\\\\\n",
       "\t stall4control4\\_t6 & HeLa & 5 & 2 &  9789 & 1 &   2\\\\\n",
       "\t stall4control4\\_t6 & HeLa & 5 & 5 &  9963 & 1 &   1\\\\\n",
       "\t stall4control4\\_t6 & HeLa & 5 & 2 & 10000 & 1 &   1\\\\\n",
       "\t stall4control4\\_t6 & HeLa & 5 & 2 & 10006 & 1 &   1\\\\\n",
       "\t stall4control4\\_t6 & HeLa & 5 & 3 & 10057 & 1 &   1\\\\\n",
       "\t stall4control4\\_t6 & HeLa & 5 & 6 & 10083 & 1 &   1\\\\\n",
       "\t stall4control4\\_t6 & HeLa & 5 & 2 & 10169 & 1 &   1\\\\\n",
       "\t stall4control4\\_t6 & HeLa & 5 & 2 & 10283 & 1 &   1\\\\\n",
       "\t stall4control4\\_t6 & HeLa & 5 & 2 & 10299 & 1 &   1\\\\\n",
       "\t stall4control4\\_t6 & HeLa & 5 & 2 & 10338 & 1 &   1\\\\\n",
       "\t stall4control4\\_t6 & HeLa & 5 & 3 & 10343 & 1 &   1\\\\\n",
       "\t stall4control4\\_t6 & HeLa & 5 & 7 & 10411 & 1 &   1\\\\\n",
       "\t stall4control4\\_t6 & HeLa & 5 & 5 & 10450 & 1 &   1\\\\\n",
       "\t stall4control4\\_t6 & K562 & 6 & 2 & 10470 & 1 & 425\\\\\n",
       "\t stall4control4\\_t6 & K562 & 6 & 6 & 10640 & 1 & 185\\\\\n",
       "\t stall4control4\\_t6 & K562 & 6 & 5 & 11756 & 1 &   3\\\\\n",
       "\t stall4control4\\_t6 & K562 & 6 & 2 & 11941 & 1 &   1\\\\\n",
       "\t stall4control4\\_t6 & K562 & 6 & 5 & 12003 & 1 &   1\\\\\n",
       "\t stall4control4\\_t6 & K562 & 6 & 7 & 12104 & 1 &   1\\\\\n",
       "\t stall4control4\\_t6 & K562 & 6 & 2 & 12256 & 1 &   1\\\\\n",
       "\t stall4control4\\_t6 & K562 & 6 & 4 & 12307 & 1 &   1\\\\\n",
       "\\end{tabular}\n"
      ],
      "text/markdown": [
       "\n",
       "A spec_tbl_df: 27360 × 7\n",
       "\n",
       "| sample_type &lt;chr&gt; | sample_name &lt;chr&gt; | pool &lt;dbl&gt; | insert_num &lt;dbl&gt; | barcode_num &lt;dbl&gt; | barcode_count &lt;dbl&gt; | linkage_count &lt;dbl&gt; |\n",
       "|---|---|---|---|---|---|---|\n",
       "| stall4control4_grna | K562   | 6 | 5 | 12338 | 2551 |   1 |\n",
       "| stall4control4_grna | HeLa   | 5 | 4 |  7889 | 1779 | 303 |\n",
       "| stall4control4_grna | HeLa   | 5 | 5 |  7888 | 1628 | 431 |\n",
       "| stall4control4_grna | HeLa   | 5 | 2 |  7909 | 1107 | 223 |\n",
       "| stall4control4_grna | K562   | 6 | 3 | 10487 | 1041 | 333 |\n",
       "| stall4control4_grna | HeLa   | 5 | 3 |  7899 | 1000 | 254 |\n",
       "| stall4control4_grna | HCT116 | 4 | 7 |  7845 |  970 |   1 |\n",
       "| stall4control4_grna | HeLa   | 5 | 5 |  8016 |  941 | 151 |\n",
       "| stall4control4_grna | K562   | 6 | 5 | 11819 |  938 |   2 |\n",
       "| stall4control4_grna | HCT116 | 4 | 5 |  7208 |  934 |   2 |\n",
       "| stall4control4_grna | HeLa   | 5 | 5 |  7914 |  928 | 215 |\n",
       "| stall4control4_grna | HeLa   | 5 | 3 |  7924 |  898 | 209 |\n",
       "| stall4control4_grna | HeLa   | 5 | 7 |  7894 |  879 | 277 |\n",
       "| stall4control4_grna | K562   | 6 | 5 | 10650 |  849 | 182 |\n",
       "| stall4control4_grna | HeLa   | 5 | 5 |  7934 |  832 | 189 |\n",
       "| stall4control4_grna | K562   | 6 | 5 | 10509 |  823 | 293 |\n",
       "| stall4control4_grna | HeLa   | 5 | 5 |  7901 |  815 | 243 |\n",
       "| stall4control4_grna | HeLa   | 5 | 2 |  7896 |  814 | 259 |\n",
       "| stall4control4_grna | K562   | 6 | 7 | 10471 |  810 | 413 |\n",
       "| stall4control4_grna | HeLa   | 5 | 2 |  7903 |  799 | 241 |\n",
       "| stall4control4_grna | HeLa   | 5 | 5 |  7919 |  796 | 212 |\n",
       "| stall4control4_grna | HeLa   | 5 | 5 |  7912 |  794 | 218 |\n",
       "| stall4control4_grna | K562   | 6 | 7 | 10554 |  791 | 242 |\n",
       "| stall4control4_grna | HeLa   | 5 | 5 |  7915 |  785 | 214 |\n",
       "| stall4control4_grna | HeLa   | 5 | 5 |  7895 |  777 | 269 |\n",
       "| stall4control4_grna | HeLa   | 5 | 4 |  7928 |  770 | 201 |\n",
       "| stall4control4_grna | HeLa   | 5 | 5 |  7897 |  763 | 257 |\n",
       "| stall4control4_grna | K562   | 6 | 2 | 10528 |  759 | 258 |\n",
       "| stall4control4_grna | HeLa   | 5 | 2 |  7891 |  757 | 291 |\n",
       "| stall4control4_grna | HeLa   | 5 | 2 |  7916 |  753 | 213 |\n",
       "| ⋮ | ⋮ | ⋮ | ⋮ | ⋮ | ⋮ | ⋮ |\n",
       "| stall4control4_t6 | HeLa | 5 | 7 |  9601 | 1 |   5 |\n",
       "| stall4control4_t6 | HeLa | 5 | 3 |  9605 | 1 |   5 |\n",
       "| stall4control4_t6 | HeLa | 5 | 7 |  9612 | 1 |   5 |\n",
       "| stall4control4_t6 | HeLa | 5 | 2 |  9630 | 1 |   5 |\n",
       "| stall4control4_t6 | HeLa | 5 | 3 |  9644 | 1 |   4 |\n",
       "| stall4control4_t6 | HeLa | 5 | 4 |  9647 | 1 |   4 |\n",
       "| stall4control4_t6 | HeLa | 5 | 5 |  9667 | 1 |   4 |\n",
       "| stall4control4_t6 | HeLa | 5 | 2 |  9695 | 1 |   3 |\n",
       "| stall4control4_t6 | HeLa | 5 | 5 |  9717 | 1 |   3 |\n",
       "| stall4control4_t6 | HeLa | 5 | 2 |  9789 | 1 |   2 |\n",
       "| stall4control4_t6 | HeLa | 5 | 5 |  9963 | 1 |   1 |\n",
       "| stall4control4_t6 | HeLa | 5 | 2 | 10000 | 1 |   1 |\n",
       "| stall4control4_t6 | HeLa | 5 | 2 | 10006 | 1 |   1 |\n",
       "| stall4control4_t6 | HeLa | 5 | 3 | 10057 | 1 |   1 |\n",
       "| stall4control4_t6 | HeLa | 5 | 6 | 10083 | 1 |   1 |\n",
       "| stall4control4_t6 | HeLa | 5 | 2 | 10169 | 1 |   1 |\n",
       "| stall4control4_t6 | HeLa | 5 | 2 | 10283 | 1 |   1 |\n",
       "| stall4control4_t6 | HeLa | 5 | 2 | 10299 | 1 |   1 |\n",
       "| stall4control4_t6 | HeLa | 5 | 2 | 10338 | 1 |   1 |\n",
       "| stall4control4_t6 | HeLa | 5 | 3 | 10343 | 1 |   1 |\n",
       "| stall4control4_t6 | HeLa | 5 | 7 | 10411 | 1 |   1 |\n",
       "| stall4control4_t6 | HeLa | 5 | 5 | 10450 | 1 |   1 |\n",
       "| stall4control4_t6 | K562 | 6 | 2 | 10470 | 1 | 425 |\n",
       "| stall4control4_t6 | K562 | 6 | 6 | 10640 | 1 | 185 |\n",
       "| stall4control4_t6 | K562 | 6 | 5 | 11756 | 1 |   3 |\n",
       "| stall4control4_t6 | K562 | 6 | 2 | 11941 | 1 |   1 |\n",
       "| stall4control4_t6 | K562 | 6 | 5 | 12003 | 1 |   1 |\n",
       "| stall4control4_t6 | K562 | 6 | 7 | 12104 | 1 |   1 |\n",
       "| stall4control4_t6 | K562 | 6 | 2 | 12256 | 1 |   1 |\n",
       "| stall4control4_t6 | K562 | 6 | 4 | 12307 | 1 |   1 |\n",
       "\n"
      ],
      "text/plain": [
       "      sample_type         sample_name pool insert_num barcode_num barcode_count\n",
       "1     stall4control4_grna K562        6    5          12338       2551         \n",
       "2     stall4control4_grna HeLa        5    4           7889       1779         \n",
       "3     stall4control4_grna HeLa        5    5           7888       1628         \n",
       "4     stall4control4_grna HeLa        5    2           7909       1107         \n",
       "5     stall4control4_grna K562        6    3          10487       1041         \n",
       "6     stall4control4_grna HeLa        5    3           7899       1000         \n",
       "7     stall4control4_grna HCT116      4    7           7845        970         \n",
       "8     stall4control4_grna HeLa        5    5           8016        941         \n",
       "9     stall4control4_grna K562        6    5          11819        938         \n",
       "10    stall4control4_grna HCT116      4    5           7208        934         \n",
       "11    stall4control4_grna HeLa        5    5           7914        928         \n",
       "12    stall4control4_grna HeLa        5    3           7924        898         \n",
       "13    stall4control4_grna HeLa        5    7           7894        879         \n",
       "14    stall4control4_grna K562        6    5          10650        849         \n",
       "15    stall4control4_grna HeLa        5    5           7934        832         \n",
       "16    stall4control4_grna K562        6    5          10509        823         \n",
       "17    stall4control4_grna HeLa        5    5           7901        815         \n",
       "18    stall4control4_grna HeLa        5    2           7896        814         \n",
       "19    stall4control4_grna K562        6    7          10471        810         \n",
       "20    stall4control4_grna HeLa        5    2           7903        799         \n",
       "21    stall4control4_grna HeLa        5    5           7919        796         \n",
       "22    stall4control4_grna HeLa        5    5           7912        794         \n",
       "23    stall4control4_grna K562        6    7          10554        791         \n",
       "24    stall4control4_grna HeLa        5    5           7915        785         \n",
       "25    stall4control4_grna HeLa        5    5           7895        777         \n",
       "26    stall4control4_grna HeLa        5    4           7928        770         \n",
       "27    stall4control4_grna HeLa        5    5           7897        763         \n",
       "28    stall4control4_grna K562        6    2          10528        759         \n",
       "29    stall4control4_grna HeLa        5    2           7891        757         \n",
       "30    stall4control4_grna HeLa        5    2           7916        753         \n",
       "⋮     ⋮                   ⋮           ⋮    ⋮          ⋮           ⋮            \n",
       "27331 stall4control4_t6   HeLa        5    7           9601       1            \n",
       "27332 stall4control4_t6   HeLa        5    3           9605       1            \n",
       "27333 stall4control4_t6   HeLa        5    7           9612       1            \n",
       "27334 stall4control4_t6   HeLa        5    2           9630       1            \n",
       "27335 stall4control4_t6   HeLa        5    3           9644       1            \n",
       "27336 stall4control4_t6   HeLa        5    4           9647       1            \n",
       "27337 stall4control4_t6   HeLa        5    5           9667       1            \n",
       "27338 stall4control4_t6   HeLa        5    2           9695       1            \n",
       "27339 stall4control4_t6   HeLa        5    5           9717       1            \n",
       "27340 stall4control4_t6   HeLa        5    2           9789       1            \n",
       "27341 stall4control4_t6   HeLa        5    5           9963       1            \n",
       "27342 stall4control4_t6   HeLa        5    2          10000       1            \n",
       "27343 stall4control4_t6   HeLa        5    2          10006       1            \n",
       "27344 stall4control4_t6   HeLa        5    3          10057       1            \n",
       "27345 stall4control4_t6   HeLa        5    6          10083       1            \n",
       "27346 stall4control4_t6   HeLa        5    2          10169       1            \n",
       "27347 stall4control4_t6   HeLa        5    2          10283       1            \n",
       "27348 stall4control4_t6   HeLa        5    2          10299       1            \n",
       "27349 stall4control4_t6   HeLa        5    2          10338       1            \n",
       "27350 stall4control4_t6   HeLa        5    3          10343       1            \n",
       "27351 stall4control4_t6   HeLa        5    7          10411       1            \n",
       "27352 stall4control4_t6   HeLa        5    5          10450       1            \n",
       "27353 stall4control4_t6   K562        6    2          10470       1            \n",
       "27354 stall4control4_t6   K562        6    6          10640       1            \n",
       "27355 stall4control4_t6   K562        6    5          11756       1            \n",
       "27356 stall4control4_t6   K562        6    2          11941       1            \n",
       "27357 stall4control4_t6   K562        6    5          12003       1            \n",
       "27358 stall4control4_t6   K562        6    7          12104       1            \n",
       "27359 stall4control4_t6   K562        6    2          12256       1            \n",
       "27360 stall4control4_t6   K562        6    4          12307       1            \n",
       "      linkage_count\n",
       "1       1          \n",
       "2     303          \n",
       "3     431          \n",
       "4     223          \n",
       "5     333          \n",
       "6     254          \n",
       "7       1          \n",
       "8     151          \n",
       "9       2          \n",
       "10      2          \n",
       "11    215          \n",
       "12    209          \n",
       "13    277          \n",
       "14    182          \n",
       "15    189          \n",
       "16    293          \n",
       "17    243          \n",
       "18    259          \n",
       "19    413          \n",
       "20    241          \n",
       "21    212          \n",
       "22    218          \n",
       "23    242          \n",
       "24    214          \n",
       "25    269          \n",
       "26    201          \n",
       "27    257          \n",
       "28    258          \n",
       "29    291          \n",
       "30    213          \n",
       "⋮     ⋮            \n",
       "27331   5          \n",
       "27332   5          \n",
       "27333   5          \n",
       "27334   5          \n",
       "27335   4          \n",
       "27336   4          \n",
       "27337   4          \n",
       "27338   3          \n",
       "27339   3          \n",
       "27340   2          \n",
       "27341   1          \n",
       "27342   1          \n",
       "27343   1          \n",
       "27344   1          \n",
       "27345   1          \n",
       "27346   1          \n",
       "27347   1          \n",
       "27348   1          \n",
       "27349   1          \n",
       "27350   1          \n",
       "27351   1          \n",
       "27352   1          \n",
       "27353 425          \n",
       "27354 185          \n",
       "27355   3          \n",
       "27356   1          \n",
       "27357   1          \n",
       "27358   1          \n",
       "27359   1          \n",
       "27360   1          "
      ]
     },
     "metadata": {},
     "output_type": "display_data"
    }
   ],
   "source": [
    "barcode_counts <- read_tsv(\"../tables/sample_insert_barcode_counts.tsv.gz\") %>% \n",
    "  rename(sample_type = sample_name, sample_name = cellline) %>% \n",
    "  filter(!is.na(sample_name))\n",
    "\n",
    "barcode_counts  "
   ]
  },
  {
   "cell_type": "markdown",
   "metadata": {},
   "source": [
    "### Read insert annotations "
   ]
  },
  {
   "cell_type": "code",
   "execution_count": 3,
   "metadata": {
    "vscode": {
     "languageId": "r"
    }
   },
   "outputs": [
    {
     "name": "stderr",
     "output_type": "stream",
     "text": [
      "\u001b[1mRows: \u001b[22m\u001b[34m8\u001b[39m \u001b[1mColumns: \u001b[22m\u001b[34m7\u001b[39m\n",
      "\u001b[36m──\u001b[39m \u001b[1mColumn specification\u001b[22m \u001b[36m────────────────────────────────────────────────────────\u001b[39m\n",
      "\u001b[1mDelimiter:\u001b[22m \"\\t\"\n",
      "\u001b[31mchr\u001b[39m (3): insert_name, insert_seq, insert_type\n",
      "\u001b[32mdbl\u001b[39m (4): group, insert_num, pair, frame\n",
      "\n",
      "\u001b[36mℹ\u001b[39m Use `spec()` to retrieve the full column specification for this data.\n",
      "\u001b[36mℹ\u001b[39m Specify the column types or set `show_col_types = FALSE` to quiet this message.\n"
     ]
    },
    {
     "name": "stdout",
     "output_type": "stream",
     "text": [
      "\u001b[90m# A tibble: 8 × 7\u001b[39m\n",
      "  group insert_name insert_seq                insert_type insert_num  pair frame\n",
      "  \u001b[3m\u001b[90m<dbl>\u001b[39m\u001b[23m \u001b[3m\u001b[90m<chr>\u001b[39m\u001b[23m       \u001b[3m\u001b[90m<chr>\u001b[39m\u001b[23m                     \u001b[3m\u001b[90m<chr>\u001b[39m\u001b[23m            \u001b[3m\u001b[90m<dbl>\u001b[39m\u001b[23m \u001b[3m\u001b[90m<dbl>\u001b[39m\u001b[23m \u001b[3m\u001b[90m<dbl>\u001b[39m\u001b[23m\n",
      "\u001b[90m1\u001b[39m     1 SVKF4       AGCGTCAAATTCTCCGTTAAGTTT… stall                0     4    \u001b[31mNA\u001b[39m\n",
      "\u001b[90m2\u001b[39m     1 SKVF4       AGCAAAGTCTTCTCCAAGGTTTTT… control              1     4    \u001b[31mNA\u001b[39m\n",
      "\u001b[90m3\u001b[39m     1 VK8         GTCAAAGTCAAAGTCAAAGTCAAA… stall                2     2     0\n",
      "\u001b[90m4\u001b[39m     1 QS8         CAAAGTCAAAGTCAAAGTCAAAGT… control              3     2     2\n",
      "\u001b[90m5\u001b[39m     1 SF8         AGTTTCAGTTTCAGTTTCAGTTTC… stall                4     3     0\n",
      "\u001b[90m6\u001b[39m     1 FQ8         TTTCAGTTTCAGTTTCAGTTTCAG… control              5     3     2\n",
      "\u001b[90m7\u001b[39m     1 RH8         CGCCATCGCCATCGCCATCGCCAT… stall                6     1     0\n",
      "\u001b[90m8\u001b[39m     1 PS8         CCATCGCCATCGCCATCGCCATCG… control              7     1     2\n"
     ]
    }
   ],
   "source": [
    "\n",
    "insert_annotations <- read_tsv(\"../../pool4_linkage/annotations/insert_annotations/stall4control4_linkage.tsv\") %>% \n",
    "  print()"
   ]
  },
  {
   "cell_type": "markdown",
   "metadata": {},
   "source": [
    "### Function for bootstrap mRNA levels\n"
   ]
  },
  {
   "cell_type": "code",
   "execution_count": 4,
   "metadata": {
    "vscode": {
     "languageId": "r"
    }
   },
   "outputs": [],
   "source": [
    "\n",
    "calc_lfc_bootstrap <- function(data, indices) {\n",
    "  d <- data[indices,]\n",
    "  log2(sum(d$mrna)) - log2(sum(d$grna))\n",
    "}"
   ]
  },
  {
   "cell_type": "markdown",
   "metadata": {},
   "source": [
    "### Calculate mRNA levels of dicodons\n",
    "\n",
    "- Log fold change is log2(mRNA/gRNA) and is median-normalized across the full library.\n",
    "\n",
    "- Remove timecourse samples: we will analyze these seperately"
   ]
  },
  {
   "cell_type": "code",
   "execution_count": 5,
   "metadata": {
    "vscode": {
     "languageId": "r"
    }
   },
   "outputs": [
    {
     "name": "stderr",
     "output_type": "stream",
     "text": [
      "Updating HTML index of packages in '.Library'\n",
      "\n",
      "Making 'packages.html' ...\n",
      " done\n",
      "\n"
     ]
    }
   ],
   "source": [
    "# install.packages('boot')"
   ]
  },
  {
   "cell_type": "code",
   "execution_count": 6,
   "metadata": {
    "vscode": {
     "languageId": "r"
    }
   },
   "outputs": [
    {
     "name": "stdout",
     "output_type": "stream",
     "text": [
      "\u001b[90m# A tibble: 28 × 10\u001b[39m\n",
      "\u001b[90m# Groups:   sample_name, insert_num [28]\u001b[39m\n",
      "   sample_name insert_num lfc_mean lfc_sd group insert_name insert_seq          \n",
      "   \u001b[3m\u001b[90m<chr>\u001b[39m\u001b[23m            \u001b[3m\u001b[90m<dbl>\u001b[39m\u001b[23m    \u001b[3m\u001b[90m<dbl>\u001b[39m\u001b[23m  \u001b[3m\u001b[90m<dbl>\u001b[39m\u001b[23m \u001b[3m\u001b[90m<dbl>\u001b[39m\u001b[23m \u001b[3m\u001b[90m<chr>\u001b[39m\u001b[23m       \u001b[3m\u001b[90m<chr>\u001b[39m\u001b[23m               \n",
      "\u001b[90m 1\u001b[39m K562                 5  -\u001b[31m2\u001b[39m\u001b[31m.\u001b[39m\u001b[31m24\u001b[39m   0.113      1 FQ8         TTTCAGTTTCAGTTTCAGT…\n",
      "\u001b[90m 2\u001b[39m HeLa                 4  -\u001b[31m0\u001b[39m\u001b[31m.\u001b[39m\u001b[31m995\u001b[39m  0.098\u001b[4m7\u001b[24m     1 SF8         AGTTTCAGTTTCAGTTTCA…\n",
      "\u001b[90m 3\u001b[39m HeLa                 5  -\u001b[31m0\u001b[39m\u001b[31m.\u001b[39m\u001b[31m163\u001b[39m  0.058\u001b[4m5\u001b[24m     1 FQ8         TTTCAGTTTCAGTTTCAGT…\n",
      "\u001b[90m 4\u001b[39m HeLa                 2  -\u001b[31m2\u001b[39m\u001b[31m.\u001b[39m\u001b[31m47\u001b[39m   0.136      1 VK8         GTCAAAGTCAAAGTCAAAG…\n",
      "\u001b[90m 5\u001b[39m K562                 3  -\u001b[31m1\u001b[39m\u001b[31m.\u001b[39m\u001b[31m54\u001b[39m   0.115      1 QS8         CAAAGTCAAAGTCAAAGTC…\n",
      "\u001b[90m 6\u001b[39m HeLa                 3  -\u001b[31m0\u001b[39m\u001b[31m.\u001b[39m\u001b[31m888\u001b[39m  0.072\u001b[4m9\u001b[24m     1 QS8         CAAAGTCAAAGTCAAAGTC…\n",
      "\u001b[90m 7\u001b[39m HCT116               7  -\u001b[31m0\u001b[39m\u001b[31m.\u001b[39m\u001b[31m511\u001b[39m  0.141      1 PS8         CCATCGCCATCGCCATCGC…\n",
      "\u001b[90m 8\u001b[39m HCT116               5  -\u001b[31m0\u001b[39m\u001b[31m.\u001b[39m\u001b[31m652\u001b[39m  0.083\u001b[4m4\u001b[24m     1 FQ8         TTTCAGTTTCAGTTTCAGT…\n",
      "\u001b[90m 9\u001b[39m HeLa                 7  -\u001b[31m0\u001b[39m\u001b[31m.\u001b[39m\u001b[31m0\u001b[39m\u001b[31m15\u001b[4m7\u001b[24m\u001b[39m 0.070\u001b[4m2\u001b[24m     1 PS8         CCATCGCCATCGCCATCGC…\n",
      "\u001b[90m10\u001b[39m K562                 7  -\u001b[31m1\u001b[39m\u001b[31m.\u001b[39m\u001b[31m31\u001b[39m   0.093\u001b[4m4\u001b[24m     1 PS8         CCATCGCCATCGCCATCGC…\n",
      "\u001b[90m# … with 18 more rows, and 3 more variables: insert_type <chr>, pair <dbl>,\u001b[39m\n",
      "\u001b[90m#   frame <dbl>\u001b[39m\n"
     ]
    }
   ],
   "source": [
    "lfc <- barcode_counts %>% \n",
    "  # select only gRNA and mRNA samples, no timecourse samples \n",
    "  filter(str_detect(sample_type, \"rna\")) %>%\n",
    "  # rename sample_type to just \"grna\" or \"mrna\" \n",
    "  mutate(sample_type = str_remove(sample_type, \"stall4control4_\")) %>% \n",
    "  pivot_wider(names_from = sample_type, values_from = barcode_count) %>%\n",
    "  drop_na() %>% \n",
    "  group_by(insert_num, sample_name) %>% \n",
    "  nest() %>%\n",
    "  mutate(lfc = map(data, function(df) boot::boot(data=df, statistic=calc_lfc_bootstrap, R=1000)$t)) %>%\n",
    "  select(-data) %>%\n",
    "  mutate(lfc_mean = map_dbl(lfc, mean)) %>%\n",
    "  mutate(lfc_sd = map_dbl(lfc, sd)) %>%\n",
    "  select(-lfc) %>%\n",
    "  inner_join(insert_annotations, by = \"insert_num\") %>%\n",
    "  print()"
   ]
  },
  {
   "cell_type": "markdown",
   "metadata": {},
   "source": [
    "\n",
    "### Plot VK8, RH8, SF8 effects by cellline\n",
    "\n",
    "- So! These effects look the same as our initial analysis! \n",
    "\n",
    "- This is a good sign, because it means my linakge trimming seems to have worked correctly (at least for these samples). I was worried that the trimming resulted in my scrambling the inserts with their +2 frameshifted controls, but it seems that I trimmed correctly! \n",
    "\n",
    "- However, I think the timecourse samples are still messed up (may need different trimming parameters), and it seems like I somehow lost the SVKF controls as well (at which step, I'm not sure). "
   ]
  },
  {
   "cell_type": "code",
   "execution_count": 7,
   "metadata": {
    "vscode": {
     "languageId": "r"
    }
   },
   "outputs": [
    {
     "name": "stdout",
     "output_type": "stream",
     "text": [
      "\u001b[90m# A tibble: 24 × 11\u001b[39m\n",
      "   sample_name insert_num lfc_mean lfc_sd group insert_name insert_seq          \n",
      "   \u001b[3m\u001b[90m<chr>\u001b[39m\u001b[23m            \u001b[3m\u001b[90m<dbl>\u001b[39m\u001b[23m    \u001b[3m\u001b[90m<dbl>\u001b[39m\u001b[23m  \u001b[3m\u001b[90m<dbl>\u001b[39m\u001b[23m \u001b[3m\u001b[90m<dbl>\u001b[39m\u001b[23m \u001b[3m\u001b[90m<chr>\u001b[39m\u001b[23m       \u001b[3m\u001b[90m<chr>\u001b[39m\u001b[23m               \n",
      "\u001b[90m 1\u001b[39m K562                 5   -\u001b[31m0\u001b[39m\u001b[31m.\u001b[39m\u001b[31m932\u001b[39m 0.113      1 FQ8         TTTCAGTTTCAGTTTCAGT…\n",
      "\u001b[90m 2\u001b[39m HeLa                 4   -\u001b[31m0\u001b[39m\u001b[31m.\u001b[39m\u001b[31m979\u001b[39m 0.098\u001b[4m7\u001b[24m     1 SF8         AGTTTCAGTTTCAGTTTCA…\n",
      "\u001b[90m 3\u001b[39m HeLa                 5   -\u001b[31m0\u001b[39m\u001b[31m.\u001b[39m\u001b[31m147\u001b[39m 0.058\u001b[4m5\u001b[24m     1 FQ8         TTTCAGTTTCAGTTTCAGT…\n",
      "\u001b[90m 4\u001b[39m HeLa                 2   -\u001b[31m2\u001b[39m\u001b[31m.\u001b[39m\u001b[31m45\u001b[39m  0.136      1 VK8         GTCAAAGTCAAAGTCAAAG…\n",
      "\u001b[90m 5\u001b[39m K562                 3   -\u001b[31m0\u001b[39m\u001b[31m.\u001b[39m\u001b[31m234\u001b[39m 0.115      1 QS8         CAAAGTCAAAGTCAAAGTC…\n",
      "\u001b[90m 6\u001b[39m HeLa                 3   -\u001b[31m0\u001b[39m\u001b[31m.\u001b[39m\u001b[31m873\u001b[39m 0.072\u001b[4m9\u001b[24m     1 QS8         CAAAGTCAAAGTCAAAGTC…\n",
      "\u001b[90m 7\u001b[39m HCT116               7    0     0.141      1 PS8         CCATCGCCATCGCCATCGC…\n",
      "\u001b[90m 8\u001b[39m HCT116               5   -\u001b[31m0\u001b[39m\u001b[31m.\u001b[39m\u001b[31m141\u001b[39m 0.083\u001b[4m4\u001b[24m     1 FQ8         TTTCAGTTTCAGTTTCAGT…\n",
      "\u001b[90m 9\u001b[39m HeLa                 7    0     0.070\u001b[4m2\u001b[24m     1 PS8         CCATCGCCATCGCCATCGC…\n",
      "\u001b[90m10\u001b[39m K562                 7    0     0.093\u001b[4m4\u001b[24m     1 PS8         CCATCGCCATCGCCATCGC…\n",
      "\u001b[90m# … with 14 more rows, and 4 more variables: insert_type <chr>, pair <dbl>,\u001b[39m\n",
      "\u001b[90m#   frame <fct>, label <fct>\u001b[39m\n"
     ]
    },
    {
     "data": {
      "image/png": "[encoded data removed]",
      "text/plain": [
       "plot without title"
      ]
     },
     "metadata": {
      "image/png": {
       "height": 180,
       "width": 240
      }
     },
     "output_type": "display_data"
    }
   ],
   "source": [
    "options(repr.plot.width=4, repr.plot.height=3)\n",
    "\n",
    "plot_data <- lfc %>% \n",
    "  filter(!is.na(frame)) %>% \n",
    "  mutate(frame = as.factor(frame)) %>% \n",
    "  mutate(frame = fct_rev(fct_recode(frame, \"0\" = \"0\", \"+2\" = \"2\"))) %>% \n",
    "  mutate(label = pair) %>% \n",
    "  group_by(sample_name, pair) %>% \n",
    "  mutate(label = insert_name[insert_type == \"stall\"]) %>% \n",
    "  ungroup() %>% \n",
    "  mutate(label = fct_reorder(label, pair)) %>% \n",
    "  group_by(sample_name) %>% \n",
    "  mutate(lfc_mean = lfc_mean - max(lfc_mean)) %>% \n",
    "  ungroup() %>% \n",
    "  print()\n",
    "  \n",
    "plot_data %>% \n",
    "  ggplot(aes(x = label, y = lfc_mean, \n",
    "             ymin = lfc_mean - lfc_sd, ymax = lfc_mean + lfc_sd, color = frame)) +\n",
    "  facet_wrap(~ sample_name, scales = \"free\") + \n",
    "  scale_color_manual(values = cbPalette) +\n",
    "  geom_errorbar(width = 0.3, show.legend = F) + \n",
    "  geom_point() +\n",
    "  labs(x = \"8x dipeptide repeat\", y = \"mRNA level (log2, a.u.)\", color = \"Frame\")\n",
    "\n",
    "# ggsave(\"../figures/multiple_celllline_dipeptide_mrna_effect.pdf\")"
   ]
  },
  {
   "cell_type": "markdown",
   "metadata": {},
   "source": [
    "# Plot SVKF4 effect by cell line\n",
    "\n",
    "- Huh.. weird. Where did the control inserts for the SVKF test go? \n",
    "\n",
    "- Maybe these were somehow filtered out at an earlier step?\n",
    "\n",
    "```{r, fig.width=2, fig.height=1.5}"
   ]
  },
  {
   "cell_type": "code",
   "execution_count": 11,
   "metadata": {
    "vscode": {
     "languageId": "r"
    }
   },
   "outputs": [
    {
     "data": {
      "text/html": [
       "<table class=\"dataframe\">\n",
       "<caption>A spec_tbl_df: 8 × 7</caption>\n",
       "<thead>\n",
       "\t<tr><th scope=col>group</th><th scope=col>insert_name</th><th scope=col>insert_seq</th><th scope=col>insert_type</th><th scope=col>insert_num</th><th scope=col>pair</th><th scope=col>frame</th></tr>\n",
       "\t<tr><th scope=col>&lt;dbl&gt;</th><th scope=col>&lt;chr&gt;</th><th scope=col>&lt;chr&gt;</th><th scope=col>&lt;chr&gt;</th><th scope=col>&lt;dbl&gt;</th><th scope=col>&lt;dbl&gt;</th><th scope=col>&lt;dbl&gt;</th></tr>\n",
       "</thead>\n",
       "<tbody>\n",
       "\t<tr><td>1</td><td>SVKF4</td><td>AGCGTCAAATTCTCCGTTAAGTTTAGTGTAAAGTTTTCGGTGAAATTC</td><td>stall  </td><td>0</td><td>4</td><td>NA</td></tr>\n",
       "\t<tr><td>1</td><td>SKVF4</td><td>AGCAAAGTCTTCTCCAAGGTTTTTAGTAAGGTATTTTCGAAAGTGTTC</td><td>control</td><td>1</td><td>4</td><td>NA</td></tr>\n",
       "\t<tr><td>1</td><td>VK8  </td><td>GTCAAAGTCAAAGTCAAAGTCAAAGTCAAAGTCAAAGTCAAAGTCAAA</td><td>stall  </td><td>2</td><td>2</td><td> 0</td></tr>\n",
       "\t<tr><td>1</td><td>QS8  </td><td>CAAAGTCAAAGTCAAAGTCAAAGTCAAAGTCAAAGTCAAAGTCAAAGT</td><td>control</td><td>3</td><td>2</td><td> 2</td></tr>\n",
       "\t<tr><td>1</td><td>SF8  </td><td>AGTTTCAGTTTCAGTTTCAGTTTCAGTTTCAGTTTCAGTTTCAGTTTC</td><td>stall  </td><td>4</td><td>3</td><td> 0</td></tr>\n",
       "\t<tr><td>1</td><td>FQ8  </td><td>TTTCAGTTTCAGTTTCAGTTTCAGTTTCAGTTTCAGTTTCAGTTTCAG</td><td>control</td><td>5</td><td>3</td><td> 2</td></tr>\n",
       "\t<tr><td>1</td><td>RH8  </td><td>CGCCATCGCCATCGCCATCGCCATCGCCATCGCCATCGCCATCGCCAT</td><td>stall  </td><td>6</td><td>1</td><td> 0</td></tr>\n",
       "\t<tr><td>1</td><td>PS8  </td><td>CCATCGCCATCGCCATCGCCATCGCCATCGCCATCGCCATCGCCATCG</td><td>control</td><td>7</td><td>1</td><td> 2</td></tr>\n",
       "</tbody>\n",
       "</table>\n"
      ],
      "text/latex": [
       "A spec\\_tbl\\_df: 8 × 7\n",
       "\\begin{tabular}{lllllll}\n",
       " group & insert\\_name & insert\\_seq & insert\\_type & insert\\_num & pair & frame\\\\\n",
       " <dbl> & <chr> & <chr> & <chr> & <dbl> & <dbl> & <dbl>\\\\\n",
       "\\hline\n",
       "\t 1 & SVKF4 & AGCGTCAAATTCTCCGTTAAGTTTAGTGTAAAGTTTTCGGTGAAATTC & stall   & 0 & 4 & NA\\\\\n",
       "\t 1 & SKVF4 & AGCAAAGTCTTCTCCAAGGTTTTTAGTAAGGTATTTTCGAAAGTGTTC & control & 1 & 4 & NA\\\\\n",
       "\t 1 & VK8   & GTCAAAGTCAAAGTCAAAGTCAAAGTCAAAGTCAAAGTCAAAGTCAAA & stall   & 2 & 2 &  0\\\\\n",
       "\t 1 & QS8   & CAAAGTCAAAGTCAAAGTCAAAGTCAAAGTCAAAGTCAAAGTCAAAGT & control & 3 & 2 &  2\\\\\n",
       "\t 1 & SF8   & AGTTTCAGTTTCAGTTTCAGTTTCAGTTTCAGTTTCAGTTTCAGTTTC & stall   & 4 & 3 &  0\\\\\n",
       "\t 1 & FQ8   & TTTCAGTTTCAGTTTCAGTTTCAGTTTCAGTTTCAGTTTCAGTTTCAG & control & 5 & 3 &  2\\\\\n",
       "\t 1 & RH8   & CGCCATCGCCATCGCCATCGCCATCGCCATCGCCATCGCCATCGCCAT & stall   & 6 & 1 &  0\\\\\n",
       "\t 1 & PS8   & CCATCGCCATCGCCATCGCCATCGCCATCGCCATCGCCATCGCCATCG & control & 7 & 1 &  2\\\\\n",
       "\\end{tabular}\n"
      ],
      "text/markdown": [
       "\n",
       "A spec_tbl_df: 8 × 7\n",
       "\n",
       "| group &lt;dbl&gt; | insert_name &lt;chr&gt; | insert_seq &lt;chr&gt; | insert_type &lt;chr&gt; | insert_num &lt;dbl&gt; | pair &lt;dbl&gt; | frame &lt;dbl&gt; |\n",
       "|---|---|---|---|---|---|---|\n",
       "| 1 | SVKF4 | AGCGTCAAATTCTCCGTTAAGTTTAGTGTAAAGTTTTCGGTGAAATTC | stall   | 0 | 4 | NA |\n",
       "| 1 | SKVF4 | AGCAAAGTCTTCTCCAAGGTTTTTAGTAAGGTATTTTCGAAAGTGTTC | control | 1 | 4 | NA |\n",
       "| 1 | VK8   | GTCAAAGTCAAAGTCAAAGTCAAAGTCAAAGTCAAAGTCAAAGTCAAA | stall   | 2 | 2 |  0 |\n",
       "| 1 | QS8   | CAAAGTCAAAGTCAAAGTCAAAGTCAAAGTCAAAGTCAAAGTCAAAGT | control | 3 | 2 |  2 |\n",
       "| 1 | SF8   | AGTTTCAGTTTCAGTTTCAGTTTCAGTTTCAGTTTCAGTTTCAGTTTC | stall   | 4 | 3 |  0 |\n",
       "| 1 | FQ8   | TTTCAGTTTCAGTTTCAGTTTCAGTTTCAGTTTCAGTTTCAGTTTCAG | control | 5 | 3 |  2 |\n",
       "| 1 | RH8   | CGCCATCGCCATCGCCATCGCCATCGCCATCGCCATCGCCATCGCCAT | stall   | 6 | 1 |  0 |\n",
       "| 1 | PS8   | CCATCGCCATCGCCATCGCCATCGCCATCGCCATCGCCATCGCCATCG | control | 7 | 1 |  2 |\n",
       "\n"
      ],
      "text/plain": [
       "  group insert_name insert_seq                                      \n",
       "1 1     SVKF4       AGCGTCAAATTCTCCGTTAAGTTTAGTGTAAAGTTTTCGGTGAAATTC\n",
       "2 1     SKVF4       AGCAAAGTCTTCTCCAAGGTTTTTAGTAAGGTATTTTCGAAAGTGTTC\n",
       "3 1     VK8         GTCAAAGTCAAAGTCAAAGTCAAAGTCAAAGTCAAAGTCAAAGTCAAA\n",
       "4 1     QS8         CAAAGTCAAAGTCAAAGTCAAAGTCAAAGTCAAAGTCAAAGTCAAAGT\n",
       "5 1     SF8         AGTTTCAGTTTCAGTTTCAGTTTCAGTTTCAGTTTCAGTTTCAGTTTC\n",
       "6 1     FQ8         TTTCAGTTTCAGTTTCAGTTTCAGTTTCAGTTTCAGTTTCAGTTTCAG\n",
       "7 1     RH8         CGCCATCGCCATCGCCATCGCCATCGCCATCGCCATCGCCATCGCCAT\n",
       "8 1     PS8         CCATCGCCATCGCCATCGCCATCGCCATCGCCATCGCCATCGCCATCG\n",
       "  insert_type insert_num pair frame\n",
       "1 stall       0          4    NA   \n",
       "2 control     1          4    NA   \n",
       "3 stall       2          2     0   \n",
       "4 control     3          2     2   \n",
       "5 stall       4          3     0   \n",
       "6 control     5          3     2   \n",
       "7 stall       6          1     0   \n",
       "8 control     7          1     2   "
      ]
     },
     "metadata": {},
     "output_type": "display_data"
    },
    {
     "name": "stdout",
     "output_type": "stream",
     "text": [
      "\u001b[90m# A tibble: 562 × 7\u001b[39m\n",
      "   sample_type         sample_name  pool insert_num barcode_num barcode_count\n",
      "   \u001b[3m\u001b[90m<chr>\u001b[39m\u001b[23m               \u001b[3m\u001b[90m<chr>\u001b[39m\u001b[23m       \u001b[3m\u001b[90m<dbl>\u001b[39m\u001b[23m      \u001b[3m\u001b[90m<dbl>\u001b[39m\u001b[23m       \u001b[3m\u001b[90m<dbl>\u001b[39m\u001b[23m         \u001b[3m\u001b[90m<dbl>\u001b[39m\u001b[23m\n",
      "\u001b[90m 1\u001b[39m stall4control4_grna HeLa            5          0        \u001b[4m7\u001b[24m907           525\n",
      "\u001b[90m 2\u001b[39m stall4control4_grna K562            6          0       \u001b[4m1\u001b[24m\u001b[4m0\u001b[24m475           497\n",
      "\u001b[90m 3\u001b[39m stall4control4_grna HeLa            5          0        \u001b[4m8\u001b[24m207           419\n",
      "\u001b[90m 4\u001b[39m stall4control4_grna K562            6          0       \u001b[4m1\u001b[24m\u001b[4m0\u001b[24m552           400\n",
      "\u001b[90m 5\u001b[39m stall4control4_grna HeLa            5          0        \u001b[4m8\u001b[24m057           395\n",
      "\u001b[90m 6\u001b[39m stall4control4_grna K562            6          0       \u001b[4m1\u001b[24m\u001b[4m1\u001b[24m676           372\n",
      "\u001b[90m 7\u001b[39m stall4control4_grna HeLa            5          0        \u001b[4m7\u001b[24m992           368\n",
      "\u001b[90m 8\u001b[39m stall4control4_grna HeLa            5          0        \u001b[4m8\u001b[24m866           338\n",
      "\u001b[90m 9\u001b[39m stall4control4_grna HeLa            5          0        \u001b[4m8\u001b[24m014           335\n",
      "\u001b[90m10\u001b[39m stall4control4_grna HeLa            5          0        \u001b[4m8\u001b[24m242           326\n",
      "\u001b[90m# … with 552 more rows, and 1 more variable: linkage_count <dbl>\u001b[39m\n",
      "\u001b[90m# A tibble: 0 × 7\u001b[39m\n",
      "\u001b[90m# … with 7 variables: sample_type <chr>, sample_name <chr>, pool <dbl>,\u001b[39m\n",
      "\u001b[90m#   insert_num <dbl>, barcode_num <dbl>, barcode_count <dbl>,\u001b[39m\n",
      "\u001b[90m#   linkage_count <dbl>\u001b[39m\n"
     ]
    }
   ],
   "source": [
    "## Where did we lose SKVF control?\n",
    "\n",
    "insert_annotations\n",
    "# SKVF insert number = 1. Is this present in the barcode counts? \n",
    "# SVKF beta insert is present\n",
    "barcode_counts %>% filter(insert_num == 0) %>% print \n",
    "# SKVF alpha control insert is not present.. \n",
    "barcode_counts %>% filter(insert_num == 1) %>% print \n",
    "# Okay, so this was lost at an earlier processing step. Either in the barcode count generation script, or at the linkage stage. "
   ]
  },
  {
   "cell_type": "code",
   "execution_count": 10,
   "metadata": {
    "vscode": {
     "languageId": "r"
    }
   },
   "outputs": [
    {
     "name": "stdout",
     "output_type": "stream",
     "text": [
      "\u001b[90m# A tibble: 28 × 10\u001b[39m\n",
      "\u001b[90m# Groups:   sample_name, insert_num [28]\u001b[39m\n",
      "   sample_name insert_num lfc_mean lfc_sd group insert_name insert_seq          \n",
      "   \u001b[3m\u001b[90m<chr>\u001b[39m\u001b[23m            \u001b[3m\u001b[90m<dbl>\u001b[39m\u001b[23m    \u001b[3m\u001b[90m<dbl>\u001b[39m\u001b[23m  \u001b[3m\u001b[90m<dbl>\u001b[39m\u001b[23m \u001b[3m\u001b[90m<dbl>\u001b[39m\u001b[23m \u001b[3m\u001b[90m<chr>\u001b[39m\u001b[23m       \u001b[3m\u001b[90m<chr>\u001b[39m\u001b[23m               \n",
      "\u001b[90m 1\u001b[39m K562                 5  -\u001b[31m2\u001b[39m\u001b[31m.\u001b[39m\u001b[31m24\u001b[39m   0.113      1 FQ8         TTTCAGTTTCAGTTTCAGT…\n",
      "\u001b[90m 2\u001b[39m HeLa                 4  -\u001b[31m0\u001b[39m\u001b[31m.\u001b[39m\u001b[31m995\u001b[39m  0.098\u001b[4m7\u001b[24m     1 SF8         AGTTTCAGTTTCAGTTTCA…\n",
      "\u001b[90m 3\u001b[39m HeLa                 5  -\u001b[31m0\u001b[39m\u001b[31m.\u001b[39m\u001b[31m163\u001b[39m  0.058\u001b[4m5\u001b[24m     1 FQ8         TTTCAGTTTCAGTTTCAGT…\n",
      "\u001b[90m 4\u001b[39m HeLa                 2  -\u001b[31m2\u001b[39m\u001b[31m.\u001b[39m\u001b[31m47\u001b[39m   0.136      1 VK8         GTCAAAGTCAAAGTCAAAG…\n",
      "\u001b[90m 5\u001b[39m K562                 3  -\u001b[31m1\u001b[39m\u001b[31m.\u001b[39m\u001b[31m54\u001b[39m   0.115      1 QS8         CAAAGTCAAAGTCAAAGTC…\n",
      "\u001b[90m 6\u001b[39m HeLa                 3  -\u001b[31m0\u001b[39m\u001b[31m.\u001b[39m\u001b[31m888\u001b[39m  0.072\u001b[4m9\u001b[24m     1 QS8         CAAAGTCAAAGTCAAAGTC…\n",
      "\u001b[90m 7\u001b[39m HCT116               7  -\u001b[31m0\u001b[39m\u001b[31m.\u001b[39m\u001b[31m511\u001b[39m  0.141      1 PS8         CCATCGCCATCGCCATCGC…\n",
      "\u001b[90m 8\u001b[39m HCT116               5  -\u001b[31m0\u001b[39m\u001b[31m.\u001b[39m\u001b[31m652\u001b[39m  0.083\u001b[4m4\u001b[24m     1 FQ8         TTTCAGTTTCAGTTTCAGT…\n",
      "\u001b[90m 9\u001b[39m HeLa                 7  -\u001b[31m0\u001b[39m\u001b[31m.\u001b[39m\u001b[31m0\u001b[39m\u001b[31m15\u001b[4m7\u001b[24m\u001b[39m 0.070\u001b[4m2\u001b[24m     1 PS8         CCATCGCCATCGCCATCGC…\n",
      "\u001b[90m10\u001b[39m K562                 7  -\u001b[31m1\u001b[39m\u001b[31m.\u001b[39m\u001b[31m31\u001b[39m   0.093\u001b[4m4\u001b[24m     1 PS8         CCATCGCCATCGCCATCGC…\n",
      "\u001b[90m# … with 18 more rows, and 3 more variables: insert_type <chr>, pair <dbl>,\u001b[39m\n",
      "\u001b[90m#   frame <dbl>\u001b[39m\n"
     ]
    },
    {
     "ename": "ERROR",
     "evalue": "\u001b[1m\u001b[33mError\u001b[39m in \u001b[1m\u001b[1m`mutate_cols()`:\u001b[22m\n\u001b[33m!\u001b[39m Problem with `mutate()` column `lfc_mean`.\n\u001b[34mℹ\u001b[39m `lfc_mean = lfc_mean - lfc_mean[insert_type == \"control\"]`.\n\u001b[34mℹ\u001b[39m `lfc_mean` must be size 1, not 0.\n\u001b[34mℹ\u001b[39m The error occurred in group 1: sample_name = \"HCT116\".\n",
     "output_type": "error",
     "traceback": [
      "\u001b[1m\u001b[33mError\u001b[39m in \u001b[1m\u001b[1m`mutate_cols()`:\u001b[22m\n\u001b[33m!\u001b[39m Problem with `mutate()` column `lfc_mean`.\n\u001b[34mℹ\u001b[39m `lfc_mean = lfc_mean - lfc_mean[insert_type == \"control\"]`.\n\u001b[34mℹ\u001b[39m `lfc_mean` must be size 1, not 0.\n\u001b[34mℹ\u001b[39m The error occurred in group 1: sample_name = \"HCT116\".\nTraceback:\n",
      "1. lfc %>% print %>% filter(is.na(frame)) %>% group_by(sample_name) %>% \n .     mutate(lfc_mean = lfc_mean - lfc_mean[insert_type == \"control\"]) %>% \n .     ungroup() %>% print()",
      "2. print(.)",
      "3. ungroup(.)",
      "4. mutate(., lfc_mean = lfc_mean - lfc_mean[insert_type == \"control\"])",
      "5. mutate.data.frame(., lfc_mean = lfc_mean - lfc_mean[insert_type == \n .     \"control\"])",
      "6. mutate_cols(.data, ..., caller_env = caller_env())",
      "7. withCallingHandlers({\n .     for (i in seq_along(dots)) {\n .         mask$across_cache_reset()\n .         context_poke(\"column\", old_current_column)\n .         quosures <- expand_across(dots[[i]])\n .         quosures_results <- vector(mode = \"list\", length = length(quosures))\n .         for (k in seq_along(quosures)) {\n .             quo <- quosures[[k]]\n .             quo_data <- attr(quo, \"dplyr:::data\")\n .             if (!is.null(quo_data$column)) {\n .                 context_poke(\"column\", quo_data$column)\n .             }\n .             chunks <- NULL\n .             result <- NULL\n .             if (quo_is_symbol(quo)) {\n .                 name <- as_string(quo_get_expr(quo))\n .                 if (name %in% names(new_columns)) {\n .                   result <- new_columns[[name]]\n .                   chunks <- mask$resolve(name)\n .                 }\n .                 else if (name %in% names(.data)) {\n .                   result <- .data[[name]]\n .                   chunks <- mask$resolve(name)\n .                 }\n .                 if (inherits(.data, \"rowwise_df\") && vec_is_list(result)) {\n .                   sizes <- list_sizes(result)\n .                   wrong <- which(sizes != 1)\n .                   if (length(wrong)) {\n .                     group <- wrong[1L]\n .                     mask$set_current_group(group)\n .                     abort(x_size = sizes[group], class = \"dplyr:::mutate_incompatible_size\")\n .                   }\n .                 }\n .             }\n .             if (is.null(chunks)) {\n .                 chunks <- mask$eval_all_mutate(quo)\n .             }\n .             if (is.null(chunks)) {\n .                 next\n .             }\n .             if (is.null(result)) {\n .                 if (length(rows) == 1) {\n .                   result <- chunks[[1]]\n .                 }\n .                 else {\n .                   result <- withCallingHandlers(vec_unchop(chunks <- vec_cast_common(!!!chunks), \n .                     rows), vctrs_error_incompatible_type = function(cnd) {\n .                     abort(class = \"dplyr:::error_mutate_incompatible_combine\", \n .                       parent = cnd)\n .                   })\n .                 }\n .             }\n .             quosures_results[[k]] <- list(result = result, chunks = chunks)\n .         }\n .         for (k in seq_along(quosures)) {\n .             quo <- quosures[[k]]\n .             quo_data <- attr(quo, \"dplyr:::data\")\n .             quo_result <- quosures_results[[k]]\n .             if (is.null(quo_result)) {\n .                 if (quo_data$is_named) {\n .                   name <- quo_data$name_given\n .                   new_columns[[name]] <- zap()\n .                   mask$remove(name)\n .                 }\n .                 next\n .             }\n .             result <- quo_result$result\n .             chunks <- quo_result$chunks\n .             if (!quo_data$is_named && is.data.frame(result)) {\n .                 new_columns[names(result)] <- result\n .                 mask$add_many(result, chunks)\n .             }\n .             else {\n .                 name <- quo_data$name_auto\n .                 new_columns[[name]] <- result\n .                 mask$add_one(name, chunks)\n .             }\n .         }\n .     }\n . }, error = function(e) {\n .     local_call_step(dots = dots, .index = i, .fn = \"mutate\", \n .         .dot_data = inherits(e, \"rlang_error_data_pronoun_not_found\"))\n .     call_step_envir <- peek_call_step()\n .     error_name <- call_step_envir$error_name\n .     error_expression <- call_step_envir$error_expression\n .     show_group_details <- TRUE\n .     if (inherits(e, \"dplyr:::mutate_incompatible_size\")) {\n .         size <- vec_size(rows[[mask$get_current_group()]])\n .         x_size <- e$x_size\n .         bullets <- c(i = cnd_bullet_column_info(), i = glue(\"`{error_name}` must be size {or_1(size)}, not {x_size}.\"), \n .             i = cnd_bullet_rowwise_unlist())\n .     }\n .     else if (inherits(e, \"dplyr:::mutate_mixed_null\")) {\n .         show_group_details <- FALSE\n .         bullets <- c(i = cnd_bullet_column_info(), x = glue(\"`{error_name}` must return compatible vectors across groups.\"), \n .             i = \"Cannot combine NULL and non NULL results.\", \n .             i = cnd_bullet_rowwise_unlist())\n .     }\n .     else if (inherits(e, \"dplyr:::mutate_not_vector\")) {\n .         bullets <- c(i = cnd_bullet_column_info(), x = glue(\"`{error_name}` must be a vector, not {friendly_type_of(e$result)}.\"), \n .             i = cnd_bullet_rowwise_unlist())\n .     }\n .     else if (inherits(e, \"dplyr:::error_mutate_incompatible_combine\")) {\n .         show_group_details <- FALSE\n .         bullets <- c(i = cnd_bullet_column_info(), x = glue(\"`{error_name}` must return compatible vectors across groups\"), \n .             i = cnd_bullet_combine_details(e$parent$x, e$parent$x_arg), \n .             i = cnd_bullet_combine_details(e$parent$y, e$parent$y_arg))\n .     }\n .     else {\n .         bullets <- c(i = cnd_bullet_column_info(), x = conditionMessage(e))\n .     }\n .     bullets <- c(cnd_bullet_header(), bullets, i = if (show_group_details) cnd_bullet_cur_group_label())\n .     abort(bullets, class = c(\"dplyr:::mutate_error\", \"dplyr_error\"), \n .         error_name = error_name, error_expression = error_expression, \n .         parent = e, bullets = bullets)\n . }, warning = function(w) {\n .     if (check_muffled_warning(w)) {\n .         maybe_restart(\"muffleWarning\")\n .     }\n .     local_call_step(dots = dots, .index = i, .fn = \"mutate\")\n .     warn(c(cnd_bullet_header(), i = cnd_bullet_column_info(), \n .         i = conditionMessage(w), i = cnd_bullet_cur_group_label(what = \"warning\")))\n .     maybe_restart(\"muffleWarning\")\n . })",
      "8. mask$eval_all_mutate(quo)",
      "9. abort_glue(character(0), list(x_size = 0L), \"dplyr:::mutate_incompatible_size\")",
      "10. exec(abort, class = class, !!!data)",
      "11. (function (message = NULL, class = NULL, ..., call, body = NULL, \n  .     footer = NULL, trace = NULL, parent = NULL, use_cli_format = NULL, \n  .     .internal = FALSE, .file = NULL, .frame = NULL, .subclass = deprecated()) \n  . {\n  .     .__signal_frame__. <- TRUE\n  .     caller <- caller_env()\n  .     rethrowing <- !is_null(parent)\n  .     if (is_na(parent)) {\n  .         parent <- NULL\n  .     }\n  .     if (is_list(maybe_missing(call))) {\n  .         if (!identical(names(call), c(\"call\", \"frame\")) && !identical(names(call), \n  .             c(\"\", \"frame\"))) {\n  .             abort(\"When a list, `call` must have \\\"call\\\" and \\\"frame\\\" names.\")\n  .         }\n  .         .frame <- call[[\"frame\"]] %||% .frame\n  .         call <- call[[\"call\"]]\n  .     }\n  .     if (is_null(.frame)) {\n  .         if (rethrowing) {\n  .             .frame <- caller\n  .         }\n  .         else {\n  .             if (is_environment(maybe_missing(call))) {\n  .                 .frame <- call\n  .             }\n  .             else {\n  .                 .frame <- caller\n  .             }\n  .         }\n  .     }\n  .     else {\n  .         check_environment(.frame)\n  .     }\n  .     info <- abort_context(.frame, rethrowing, maybe_missing(call))\n  .     if (is_missing(call)) {\n  .         if (is_null(info$from_handler)) {\n  .             call <- .frame\n  .         }\n  .         else {\n  .             call <- info$setup_caller\n  .         }\n  .     }\n  .     else if (rethrowing && identical(call, info$handler_frame)) {\n  .         call <- info$setup_caller\n  .     }\n  .     message <- validate_signal_args(message, class, call, .subclass, \n  .         \"abort\")\n  .     call <- error_call(call)\n  .     message_info <- cnd_message_info(message, body, footer, caller, \n  .         use_cli_format = use_cli_format, internal = .internal)\n  .     message <- message_info$message\n  .     extra_fields <- message_info$extra_fields\n  .     use_cli_format <- message_info$use_cli_format\n  .     if (rethrowing) {\n  .         trace <- trace %||% parent[[\"trace\"]]\n  .     }\n  .     if (is_null(trace) && is_null(peek_option(\"rlang:::disable_trace_capture\"))) {\n  .         with_options(`rlang:::disable_trace_capture` = TRUE, \n  .             `rlang:::visible_bottom` = info$bottom_frame, {\n  .                 trace <- trace_back()\n  .             })\n  .     }\n  .     cnd <- error_cnd(class, ..., message = message, !!!extra_fields, \n  .         use_cli_format = use_cli_format, call = call, parent = parent, \n  .         trace = trace)\n  .     signal_abort(cnd, .file)\n  . })(class = \"dplyr:::mutate_incompatible_size\", x_size = 0L)",
      "12. signal_abort(cnd, .file)",
      "13. signalCondition(cnd)",
      "14. (function (e) \n  . {\n  .     local_call_step(dots = dots, .index = i, .fn = \"mutate\", \n  .         .dot_data = inherits(e, \"rlang_error_data_pronoun_not_found\"))\n  .     call_step_envir <- peek_call_step()\n  .     error_name <- call_step_envir$error_name\n  .     error_expression <- call_step_envir$error_expression\n  .     show_group_details <- TRUE\n  .     if (inherits(e, \"dplyr:::mutate_incompatible_size\")) {\n  .         size <- vec_size(rows[[mask$get_current_group()]])\n  .         x_size <- e$x_size\n  .         bullets <- c(i = cnd_bullet_column_info(), i = glue(\"`{error_name}` must be size {or_1(size)}, not {x_size}.\"), \n  .             i = cnd_bullet_rowwise_unlist())\n  .     }\n  .     else if (inherits(e, \"dplyr:::mutate_mixed_null\")) {\n  .         show_group_details <- FALSE\n  .         bullets <- c(i = cnd_bullet_column_info(), x = glue(\"`{error_name}` must return compatible vectors across groups.\"), \n  .             i = \"Cannot combine NULL and non NULL results.\", \n  .             i = cnd_bullet_rowwise_unlist())\n  .     }\n  .     else if (inherits(e, \"dplyr:::mutate_not_vector\")) {\n  .         bullets <- c(i = cnd_bullet_column_info(), x = glue(\"`{error_name}` must be a vector, not {friendly_type_of(e$result)}.\"), \n  .             i = cnd_bullet_rowwise_unlist())\n  .     }\n  .     else if (inherits(e, \"dplyr:::error_mutate_incompatible_combine\")) {\n  .         show_group_details <- FALSE\n  .         bullets <- c(i = cnd_bullet_column_info(), x = glue(\"`{error_name}` must return compatible vectors across groups\"), \n  .             i = cnd_bullet_combine_details(e$parent$x, e$parent$x_arg), \n  .             i = cnd_bullet_combine_details(e$parent$y, e$parent$y_arg))\n  .     }\n  .     else {\n  .         bullets <- c(i = cnd_bullet_column_info(), x = conditionMessage(e))\n  .     }\n  .     bullets <- c(cnd_bullet_header(), bullets, i = if (show_group_details) cnd_bullet_cur_group_label())\n  .     abort(bullets, class = c(\"dplyr:::mutate_error\", \"dplyr_error\"), \n  .         error_name = error_name, error_expression = error_expression, \n  .         parent = e, bullets = bullets)\n  . })(structure(list(message = \"\", trace = structure(list(call = list(\n  .     IRkernel::main(), kernel$run(), handle_shell(), executor$execute(msg), \n  .     tryCatch(evaluate(request$content$code, envir = .GlobalEnv, \n  .         output_handler = oh, stop_on_error = 1L), interrupt = function(cond) {\n  .         log_debug(\"Interrupt during execution\")\n  .         interrupted <<- TRUE\n  .     }, error = .self$handle_error), tryCatchList(expr, classes, \n  .         parentenv, handlers), tryCatchOne(tryCatchList(expr, \n  .         names[-nh], parentenv, handlers[-nh]), names[nh], parentenv, \n  .         handlers[[nh]]), doTryCatch(return(expr), name, parentenv, \n  .         handler), tryCatchList(expr, names[-nh], parentenv, handlers[-nh]), \n  .     tryCatchOne(expr, names, parentenv, handlers[[1L]]), doTryCatch(return(expr), \n  .         name, parentenv, handler), evaluate(request$content$code, \n  .         envir = .GlobalEnv, output_handler = oh, stop_on_error = 1L), \n  .     evaluate_call(expr, parsed$src[[i]], envir = envir, enclos = enclos, \n  .         debug = debug, last = i == length(out), use_try = stop_on_error != \n  .             2L, keep_warning = keep_warning, keep_message = keep_message, \n  .         output_handler = output_handler, include_timing = include_timing), \n  .     timing_fn(handle(ev <- withCallingHandlers(withVisible(eval(expr, \n  .         envir, enclos)), warning = wHandler, error = eHandler, \n  .         message = mHandler))), handle(ev <- withCallingHandlers(withVisible(eval(expr, \n  .         envir, enclos)), warning = wHandler, error = eHandler, \n  .         message = mHandler)), try(f, silent = TRUE), tryCatch(expr, \n  .         error = function(e) {\n  .             call <- conditionCall(e)\n  .             if (!is.null(call)) {\n  .                 if (identical(call[[1L]], quote(doTryCatch))) \n  .                   call <- sys.call(-4L)\n  .                 dcall <- deparse(call)[1L]\n  .                 prefix <- paste(\"Error in\", dcall, \": \")\n  .                 LONG <- 75L\n  .                 sm <- strsplit(conditionMessage(e), \"\\n\")[[1L]]\n  .                 w <- 14L + nchar(dcall, type = \"w\") + nchar(sm[1L], \n  .                   type = \"w\")\n  .                 if (is.na(w)) \n  .                   w <- 14L + nchar(dcall, type = \"b\") + nchar(sm[1L], \n  .                     type = \"b\")\n  .                 if (w > LONG) \n  .                   prefix <- paste0(prefix, \"\\n  \")\n  .             }\n  .             else prefix <- \"Error : \"\n  .             msg <- paste0(prefix, conditionMessage(e), \"\\n\")\n  .             .Internal(seterrmessage(msg[1L]))\n  .             if (!silent && isTRUE(getOption(\"show.error.messages\"))) {\n  .                 cat(msg, file = outFile)\n  .                 .Internal(printDeferredWarnings())\n  .             }\n  .             invisible(structure(msg, class = \"try-error\", condition = e))\n  .         }), tryCatchList(expr, classes, parentenv, handlers), \n  .     tryCatchOne(expr, names, parentenv, handlers[[1L]]), doTryCatch(return(expr), \n  .         name, parentenv, handler), withCallingHandlers(withVisible(eval(expr, \n  .         envir, enclos)), warning = wHandler, error = eHandler, \n  .         message = mHandler), withVisible(eval(expr, envir, enclos)), \n  .     eval(expr, envir, enclos), eval(expr, envir, enclos), lfc %>% \n  .         print %>% filter(is.na(frame)) %>% group_by(sample_name) %>% \n  .         mutate(lfc_mean = lfc_mean - lfc_mean[insert_type == \n  .             \"control\"]) %>% ungroup() %>% print(), print(.), \n  .     ungroup(.), mutate(., lfc_mean = lfc_mean - lfc_mean[insert_type == \n  .         \"control\"]), mutate.data.frame(., lfc_mean = lfc_mean - \n  .         lfc_mean[insert_type == \"control\"]), mutate_cols(.data, \n  .         ..., caller_env = caller_env()), withCallingHandlers({\n  .         for (i in seq_along(dots)) {\n  .             mask$across_cache_reset()\n  .             context_poke(\"column\", old_current_column)\n  .             quosures <- expand_across(dots[[i]])\n  .             quosures_results <- vector(mode = \"list\", length = length(quosures))\n  .             for (k in seq_along(quosures)) {\n  .                 quo <- quosures[[k]]\n  .                 quo_data <- attr(quo, \"dplyr:::data\")\n  .                 if (!is.null(quo_data$column)) {\n  .                   context_poke(\"column\", quo_data$column)\n  .                 }\n  .                 chunks <- NULL\n  .                 result <- NULL\n  .                 if (quo_is_symbol(quo)) {\n  .                   name <- as_string(quo_get_expr(quo))\n  .                   if (name %in% names(new_columns)) {\n  .                     result <- new_columns[[name]]\n  .                     chunks <- mask$resolve(name)\n  .                   }\n  .                   else if (name %in% names(.data)) {\n  .                     result <- .data[[name]]\n  .                     chunks <- mask$resolve(name)\n  .                   }\n  .                   if (inherits(.data, \"rowwise_df\") && vec_is_list(result)) {\n  .                     sizes <- list_sizes(result)\n  .                     wrong <- which(sizes != 1)\n  .                     if (length(wrong)) {\n  .                       group <- wrong[1L]\n  .                       mask$set_current_group(group)\n  .                       abort(x_size = sizes[group], class = \"dplyr:::mutate_incompatible_size\")\n  .                     }\n  .                   }\n  .                 }\n  .                 if (is.null(chunks)) {\n  .                   chunks <- mask$eval_all_mutate(quo)\n  .                 }\n  .                 if (is.null(chunks)) {\n  .                   next\n  .                 }\n  .                 if (is.null(result)) {\n  .                   if (length(rows) == 1) {\n  .                     result <- chunks[[1]]\n  .                   }\n  .                   else {\n  .                     result <- withCallingHandlers(vec_unchop(chunks <- vec_cast_common(!!!chunks), \n  .                       rows), vctrs_error_incompatible_type = function(cnd) {\n  .                       abort(class = \"dplyr:::error_mutate_incompatible_combine\", \n  .                         parent = cnd)\n  .                     })\n  .                   }\n  .                 }\n  .                 quosures_results[[k]] <- list(result = result, \n  .                   chunks = chunks)\n  .             }\n  .             for (k in seq_along(quosures)) {\n  .                 quo <- quosures[[k]]\n  .                 quo_data <- attr(quo, \"dplyr:::data\")\n  .                 quo_result <- quosures_results[[k]]\n  .                 if (is.null(quo_result)) {\n  .                   if (quo_data$is_named) {\n  .                     name <- quo_data$name_given\n  .                     new_columns[[name]] <- zap()\n  .                     mask$remove(name)\n  .                   }\n  .                   next\n  .                 }\n  .                 result <- quo_result$result\n  .                 chunks <- quo_result$chunks\n  .                 if (!quo_data$is_named && is.data.frame(result)) {\n  .                   new_columns[names(result)] <- result\n  .                   mask$add_many(result, chunks)\n  .                 }\n  .                 else {\n  .                   name <- quo_data$name_auto\n  .                   new_columns[[name]] <- result\n  .                   mask$add_one(name, chunks)\n  .                 }\n  .             }\n  .         }\n  .     }, error = function(e) {\n  .         local_call_step(dots = dots, .index = i, .fn = \"mutate\", \n  .             .dot_data = inherits(e, \"rlang_error_data_pronoun_not_found\"))\n  .         call_step_envir <- peek_call_step()\n  .         error_name <- call_step_envir$error_name\n  .         error_expression <- call_step_envir$error_expression\n  .         show_group_details <- TRUE\n  .         if (inherits(e, \"dplyr:::mutate_incompatible_size\")) {\n  .             size <- vec_size(rows[[mask$get_current_group()]])\n  .             x_size <- e$x_size\n  .             bullets <- c(i = cnd_bullet_column_info(), i = glue(\"`{error_name}` must be size {or_1(size)}, not {x_size}.\"), \n  .                 i = cnd_bullet_rowwise_unlist())\n  .         }\n  .         else if (inherits(e, \"dplyr:::mutate_mixed_null\")) {\n  .             show_group_details <- FALSE\n  .             bullets <- c(i = cnd_bullet_column_info(), x = glue(\"`{error_name}` must return compatible vectors across groups.\"), \n  .                 i = \"Cannot combine NULL and non NULL results.\", \n  .                 i = cnd_bullet_rowwise_unlist())\n  .         }\n  .         else if (inherits(e, \"dplyr:::mutate_not_vector\")) {\n  .             bullets <- c(i = cnd_bullet_column_info(), x = glue(\"`{error_name}` must be a vector, not {friendly_type_of(e$result)}.\"), \n  .                 i = cnd_bullet_rowwise_unlist())\n  .         }\n  .         else if (inherits(e, \"dplyr:::error_mutate_incompatible_combine\")) {\n  .             show_group_details <- FALSE\n  .             bullets <- c(i = cnd_bullet_column_info(), x = glue(\"`{error_name}` must return compatible vectors across groups\"), \n  .                 i = cnd_bullet_combine_details(e$parent$x, e$parent$x_arg), \n  .                 i = cnd_bullet_combine_details(e$parent$y, e$parent$y_arg))\n  .         }\n  .         else {\n  .             bullets <- c(i = cnd_bullet_column_info(), x = conditionMessage(e))\n  .         }\n  .         bullets <- c(cnd_bullet_header(), bullets, i = if (show_group_details) cnd_bullet_cur_group_label())\n  .         abort(bullets, class = c(\"dplyr:::mutate_error\", \"dplyr_error\"), \n  .             error_name = error_name, error_expression = error_expression, \n  .             parent = e, bullets = bullets)\n  .     }, warning = function(w) {\n  .         if (check_muffled_warning(w)) {\n  .             maybe_restart(\"muffleWarning\")\n  .         }\n  .         local_call_step(dots = dots, .index = i, .fn = \"mutate\")\n  .         warn(c(cnd_bullet_header(), i = cnd_bullet_column_info(), \n  .             i = conditionMessage(w), i = cnd_bullet_cur_group_label(what = \"warning\")))\n  .         maybe_restart(\"muffleWarning\")\n  .     }), mask$eval_all_mutate(quo), abort_glue(`<chr>`, `<named list>`, \n  .         \"dplyr:::mutate_incompatible_size\"), exec(abort, class = class, \n  .         !!!data), `<fn>`(class = \"dplyr:::mutate_incompatible_size\", \n  .         x_size = 0L)), parent = c(0L, 1L, 2L, 3L, 4L, 5L, 6L, \n  . 7L, 6L, 9L, 10L, 4L, 12L, 13L, 13L, 15L, 16L, 17L, 18L, 19L, \n  . 13L, 13L, 13L, 23L, 0L, 0L, 0L, 0L, 0L, 29L, 30L, 30L, 0L, 33L, \n  . 33L), visible = c(TRUE, TRUE, TRUE, TRUE, TRUE, TRUE, TRUE, TRUE, \n  . TRUE, TRUE, TRUE, TRUE, TRUE, TRUE, TRUE, TRUE, TRUE, TRUE, TRUE, \n  . TRUE, TRUE, TRUE, TRUE, TRUE, TRUE, TRUE, TRUE, TRUE, TRUE, TRUE, \n  . TRUE, TRUE, TRUE, FALSE, FALSE), namespace = c(\"IRkernel\", NA, \n  . \"IRkernel\", NA, \"base\", \"base\", \"base\", \"base\", \"base\", \"base\", \n  . \"base\", \"evaluate\", \"evaluate\", \"evaluate\", \"evaluate\", \"base\", \n  . \"base\", \"base\", \"base\", \"base\", \"base\", \"base\", \"base\", \"base\", \n  . NA, \"base\", \"dplyr\", \"dplyr\", \"dplyr\", \"dplyr\", \"base\", NA, \"dplyr\", \n  . \"rlang\", \"rlang\"), scope = c(\"::\", NA, \"local\", NA, \"::\", \"local\", \n  . \"local\", \"local\", \"local\", \"local\", \"local\", \"::\", \":::\", \"local\", \n  . \"local\", \"::\", \"::\", \"local\", \"local\", \"local\", \"::\", \"::\", \"::\", \n  . \"::\", NA, \"::\", \"::\", \"::\", \":::\", \":::\", \"::\", NA, \":::\", \"::\", \n  . \"local\")), row.names = c(NA, -35L), version = 2L, class = c(\"rlang_trace\", \n  . \"rlib_trace\", \"tbl\", \"data.frame\")), parent = NULL, x_size = 0L, \n  .     call = abort_glue(character(0), list(x_size = 0L), \"dplyr:::mutate_incompatible_size\")), class = c(\"dplyr:::mutate_incompatible_size\", \n  . \"rlang_error\", \"error\", \"condition\")))",
      "15. abort(bullets, class = c(\"dplyr:::mutate_error\", \"dplyr_error\"), \n  .     error_name = error_name, error_expression = error_expression, \n  .     parent = e, bullets = bullets)",
      "16. signal_abort(cnd, .file)"
     ]
    }
   ],
   "source": [
    "# Can't do this analysis until we figure out what happened to te SKVF control sequences\n",
    "# Misannotated somewhere at the linkage stage? Must've been.. \n",
    "\n",
    "plot_data <- lfc %>% print %>%\n",
    "  filter(is.na(frame)) %>% \n",
    "  group_by(sample_name) %>% \n",
    "  mutate(lfc_mean = lfc_mean - lfc_mean[insert_type == \"control\"]) %>% \n",
    "  ungroup() %>% \n",
    "  print()\n",
    "  \n",
    "plot_data %>% \n",
    "  ggplot(aes(x = sample_name, y = lfc_mean, \n",
    "             ymin = lfc_mean - lfc_sd, ymax = lfc_mean + lfc_sd, color = insert_name)) +\n",
    "  scale_color_manual(values = cbPalette) +\n",
    "  geom_errorbar(width = 0.3, show.legend = F) + \n",
    "  geom_point() +\n",
    "  theme(axis.text.x = element_text(angle = 45, hjust = 1)) +\n",
    "  labs(x = \"Cell line\", y = \"mRNA level (log2, a.u.)\", color = \"\")\n",
    "\n",
    "# ggsave(\"../figures/multiple_celllline_svkf_mrna_effect.pdf\")"
   ]
  },
  {
   "cell_type": "code",
   "execution_count": null,
   "metadata": {
    "vscode": {
     "languageId": "r"
    }
   },
   "outputs": [],
   "source": []
  }
 ],
 "metadata": {
  "kernelspec": {
   "display_name": "R",
   "language": "R",
   "name": "ir"
  },
  "language_info": {
   "codemirror_mode": "r",
   "file_extension": ".r",
   "mimetype": "text/x-r-source",
   "name": "R",
   "pygments_lexer": "r",
   "version": "4.1.1"
  },
  "orig_nbformat": 4,
  "vscode": {
   "interpreter": {
    "hash": "27bcb26b70cc9b89b66fa5d78caf7590339c97b4860fa5e6e791a51c713097ab"
   }
  }
 },
 "nbformat": 4,
 "nbformat_minor": 2
}
