{
 "cells": [
  {
   "cell_type": "markdown",
   "metadata": {},
   "source": [
    "# Plot effects of dicodon length and periodicity on mRNA levels"
   ]
  },
  {
   "cell_type": "markdown",
   "metadata": {},
   "source": [
    "## Load libraries and define analysis-specific parameters\n",
    "\n",
    "- We need to install both rsample and rasilabRtemplates in the Docker / Singularity container (or R conda environement?)"
   ]
  },
  {
   "cell_type": "code",
   "execution_count": 1,
   "metadata": {
    "vscode": {
     "languageId": "r"
    }
   },
   "outputs": [
    {
     "name": "stderr",
     "output_type": "stream",
     "text": [
      "Loading required package: BiocGenerics\n",
      "\n",
      "\n",
      "Attaching package: ‘BiocGenerics’\n",
      "\n",
      "\n",
      "The following objects are masked from ‘package:stats’:\n",
      "\n",
      "    IQR, mad, sd, var, xtabs\n",
      "\n",
      "\n",
      "The following objects are masked from ‘package:base’:\n",
      "\n",
      "    anyDuplicated, append, as.data.frame, basename, cbind, colnames,\n",
      "    dirname, do.call, duplicated, eval, evalq, Filter, Find, get, grep,\n",
      "    grepl, intersect, is.unsorted, lapply, Map, mapply, match, mget,\n",
      "    order, paste, pmax, pmax.int, pmin, pmin.int, Position, rank,\n",
      "    rbind, Reduce, rownames, sapply, setdiff, sort, table, tapply,\n",
      "    union, unique, unsplit, which.max, which.min\n",
      "\n",
      "\n",
      "Loading required package: S4Vectors\n",
      "\n",
      "Loading required package: stats4\n",
      "\n",
      "\n",
      "Attaching package: ‘S4Vectors’\n",
      "\n",
      "\n",
      "The following objects are masked from ‘package:base’:\n",
      "\n",
      "    expand.grid, I, unname\n",
      "\n",
      "\n",
      "Loading required package: IRanges\n",
      "\n",
      "Loading required package: XVector\n",
      "\n",
      "Loading required package: GenomeInfoDb\n",
      "\n",
      "\n",
      "Attaching package: ‘Biostrings’\n",
      "\n",
      "\n",
      "The following object is masked from ‘package:base’:\n",
      "\n",
      "    strsplit\n",
      "\n",
      "\n",
      "── \u001b[1mAttaching packages\u001b[22m ─────────────────────────────────────── tidyverse 1.3.2 ──\n",
      "\u001b[32m✔\u001b[39m \u001b[34mggplot2\u001b[39m 3.3.6      \u001b[32m✔\u001b[39m \u001b[34mpurrr  \u001b[39m 0.3.4 \n",
      "\u001b[32m✔\u001b[39m \u001b[34mtibble \u001b[39m 3.1.8      \u001b[32m✔\u001b[39m \u001b[34mdplyr  \u001b[39m 1.0.10\n",
      "\u001b[32m✔\u001b[39m \u001b[34mtidyr  \u001b[39m 1.2.1      \u001b[32m✔\u001b[39m \u001b[34mstringr\u001b[39m 1.4.1 \n",
      "\u001b[32m✔\u001b[39m \u001b[34mreadr  \u001b[39m 2.1.2      \u001b[32m✔\u001b[39m \u001b[34mforcats\u001b[39m 0.5.2 \n",
      "── \u001b[1mConflicts\u001b[22m ────────────────────────────────────────── tidyverse_conflicts() ──\n",
      "\u001b[31m✖\u001b[39m \u001b[34mdplyr\u001b[39m::\u001b[32mcollapse()\u001b[39m   masks \u001b[34mBiostrings\u001b[39m::collapse(), \u001b[34mIRanges\u001b[39m::collapse()\n",
      "\u001b[31m✖\u001b[39m \u001b[34mdplyr\u001b[39m::\u001b[32mcombine()\u001b[39m    masks \u001b[34mBiocGenerics\u001b[39m::combine()\n",
      "\u001b[31m✖\u001b[39m \u001b[34mpurrr\u001b[39m::\u001b[32mcompact()\u001b[39m    masks \u001b[34mXVector\u001b[39m::compact()\n",
      "\u001b[31m✖\u001b[39m \u001b[34mdplyr\u001b[39m::\u001b[32mdesc()\u001b[39m       masks \u001b[34mIRanges\u001b[39m::desc()\n",
      "\u001b[31m✖\u001b[39m \u001b[34mtidyr\u001b[39m::\u001b[32mexpand()\u001b[39m     masks \u001b[34mS4Vectors\u001b[39m::expand()\n",
      "\u001b[31m✖\u001b[39m \u001b[34mdplyr\u001b[39m::\u001b[32mfilter()\u001b[39m     masks \u001b[34mstats\u001b[39m::filter()\n",
      "\u001b[31m✖\u001b[39m \u001b[34mdplyr\u001b[39m::\u001b[32mfirst()\u001b[39m      masks \u001b[34mS4Vectors\u001b[39m::first()\n",
      "\u001b[31m✖\u001b[39m \u001b[34mdplyr\u001b[39m::\u001b[32mlag()\u001b[39m        masks \u001b[34mstats\u001b[39m::lag()\n",
      "\u001b[31m✖\u001b[39m \u001b[34mggplot2\u001b[39m::\u001b[32mPosition()\u001b[39m masks \u001b[34mBiocGenerics\u001b[39m::Position(), \u001b[34mbase\u001b[39m::Position()\n",
      "\u001b[31m✖\u001b[39m \u001b[34mpurrr\u001b[39m::\u001b[32mreduce()\u001b[39m     masks \u001b[34mIRanges\u001b[39m::reduce()\n",
      "\u001b[31m✖\u001b[39m \u001b[34mdplyr\u001b[39m::\u001b[32mrename()\u001b[39m     masks \u001b[34mS4Vectors\u001b[39m::rename()\n",
      "\u001b[31m✖\u001b[39m \u001b[34mdplyr\u001b[39m::\u001b[32mslice()\u001b[39m      masks \u001b[34mXVector\u001b[39m::slice(), \u001b[34mIRanges\u001b[39m::slice()\n"
     ]
    }
   ],
   "source": [
    "library(Biostrings)\n",
    "library(tidyverse)\n",
    "library(rasilabRtemplates)\n",
    "\n",
    "insert_reads_cutoff <- 200 # The insert should get at least 200 reads across gRNA or mRNA\n",
    "n_barcodes_cutoff <- 6 # The insert should have at least 6 barcodes across gRNA and mRNA after above cutoff\n",
    "\n",
    "# Color-blind friendly palette. See http://www.cookbook-r.com/Graphs/Colors_(ggplot2)/\n",
    "cbPalette <- c(\"#999999\", \"#E69F00\", \"#56B4E9\", \"#009E73\", \"#F0E442\", \"#0072B2\", \"#D55E00\", \"#CC79A7\")"
   ]
  },
  {
   "cell_type": "markdown",
   "metadata": {},
   "source": [
    "## Read back barcode counts \n",
    "\n",
    "This is calculated in [plot_alignment_statistics.ipynb](plot_alignment_statistics.md)."
   ]
  },
  {
   "cell_type": "code",
   "execution_count": 2,
   "metadata": {
    "vscode": {
     "languageId": "r"
    }
   },
   "outputs": [
    {
     "name": "stderr",
     "output_type": "stream",
     "text": [
      "\u001b[1mRows: \u001b[22m\u001b[34m27840\u001b[39m \u001b[1mColumns: \u001b[22m\u001b[34m7\u001b[39m\n",
      "\u001b[36m──\u001b[39m \u001b[1mColumn specification\u001b[22m \u001b[36m────────────────────────────────────────────────────────\u001b[39m\n",
      "\u001b[1mDelimiter:\u001b[22m \"\\t\"\n",
      "\u001b[31mchr\u001b[39m (2): sample_name, cellline\n",
      "\u001b[32mdbl\u001b[39m (5): pool, insert_num, barcode_num, barcode_count, linkage_count\n",
      "\n",
      "\u001b[36mℹ\u001b[39m Use `spec()` to retrieve the full column specification for this data.\n",
      "\u001b[36mℹ\u001b[39m Specify the column types or set `show_col_types = FALSE` to quiet this message.\n"
     ]
    },
    {
     "data": {
      "text/html": [
       "<table class=\"dataframe\">\n",
       "<caption>A spec_tbl_df: 27360 × 7</caption>\n",
       "<thead>\n",
       "\t<tr><th scope=col>sample_type</th><th scope=col>sample_name</th><th scope=col>pool</th><th scope=col>insert_num</th><th scope=col>barcode_num</th><th scope=col>barcode_count</th><th scope=col>linkage_count</th></tr>\n",
       "\t<tr><th scope=col>&lt;chr&gt;</th><th scope=col>&lt;chr&gt;</th><th scope=col>&lt;dbl&gt;</th><th scope=col>&lt;dbl&gt;</th><th scope=col>&lt;dbl&gt;</th><th scope=col>&lt;dbl&gt;</th><th scope=col>&lt;dbl&gt;</th></tr>\n",
       "</thead>\n",
       "<tbody>\n",
       "\t<tr><td>stall4control4_grna</td><td>K562</td><td>6</td><td>5</td><td>12338</td><td>2551</td><td>  1</td></tr>\n",
       "\t<tr><td>stall4control4_grna</td><td>HeLa</td><td>5</td><td>4</td><td> 7889</td><td>1779</td><td>303</td></tr>\n",
       "\t<tr><td>stall4control4_grna</td><td>HeLa</td><td>5</td><td>5</td><td> 7888</td><td>1628</td><td>431</td></tr>\n",
       "\t<tr><td>stall4control4_grna</td><td>HeLa</td><td>5</td><td>2</td><td> 7909</td><td>1107</td><td>223</td></tr>\n",
       "\t<tr><td>stall4control4_grna</td><td>K562</td><td>6</td><td>3</td><td>10487</td><td>1041</td><td>333</td></tr>\n",
       "\t<tr><td>⋮</td><td>⋮</td><td>⋮</td><td>⋮</td><td>⋮</td><td>⋮</td><td>⋮</td></tr>\n",
       "\t<tr><td>stall4control4_t6</td><td>K562</td><td>6</td><td>2</td><td>11941</td><td>1</td><td>1</td></tr>\n",
       "\t<tr><td>stall4control4_t6</td><td>K562</td><td>6</td><td>5</td><td>12003</td><td>1</td><td>1</td></tr>\n",
       "\t<tr><td>stall4control4_t6</td><td>K562</td><td>6</td><td>7</td><td>12104</td><td>1</td><td>1</td></tr>\n",
       "\t<tr><td>stall4control4_t6</td><td>K562</td><td>6</td><td>2</td><td>12256</td><td>1</td><td>1</td></tr>\n",
       "\t<tr><td>stall4control4_t6</td><td>K562</td><td>6</td><td>4</td><td>12307</td><td>1</td><td>1</td></tr>\n",
       "</tbody>\n",
       "</table>\n"
      ],
      "text/latex": [
       "A spec\\_tbl\\_df: 27360 × 7\n",
       "\\begin{tabular}{lllllll}\n",
       " sample\\_type & sample\\_name & pool & insert\\_num & barcode\\_num & barcode\\_count & linkage\\_count\\\\\n",
       " <chr> & <chr> & <dbl> & <dbl> & <dbl> & <dbl> & <dbl>\\\\\n",
       "\\hline\n",
       "\t stall4control4\\_grna & K562 & 6 & 5 & 12338 & 2551 &   1\\\\\n",
       "\t stall4control4\\_grna & HeLa & 5 & 4 &  7889 & 1779 & 303\\\\\n",
       "\t stall4control4\\_grna & HeLa & 5 & 5 &  7888 & 1628 & 431\\\\\n",
       "\t stall4control4\\_grna & HeLa & 5 & 2 &  7909 & 1107 & 223\\\\\n",
       "\t stall4control4\\_grna & K562 & 6 & 3 & 10487 & 1041 & 333\\\\\n",
       "\t ⋮ & ⋮ & ⋮ & ⋮ & ⋮ & ⋮ & ⋮\\\\\n",
       "\t stall4control4\\_t6 & K562 & 6 & 2 & 11941 & 1 & 1\\\\\n",
       "\t stall4control4\\_t6 & K562 & 6 & 5 & 12003 & 1 & 1\\\\\n",
       "\t stall4control4\\_t6 & K562 & 6 & 7 & 12104 & 1 & 1\\\\\n",
       "\t stall4control4\\_t6 & K562 & 6 & 2 & 12256 & 1 & 1\\\\\n",
       "\t stall4control4\\_t6 & K562 & 6 & 4 & 12307 & 1 & 1\\\\\n",
       "\\end{tabular}\n"
      ],
      "text/markdown": [
       "\n",
       "A spec_tbl_df: 27360 × 7\n",
       "\n",
       "| sample_type &lt;chr&gt; | sample_name &lt;chr&gt; | pool &lt;dbl&gt; | insert_num &lt;dbl&gt; | barcode_num &lt;dbl&gt; | barcode_count &lt;dbl&gt; | linkage_count &lt;dbl&gt; |\n",
       "|---|---|---|---|---|---|---|\n",
       "| stall4control4_grna | K562 | 6 | 5 | 12338 | 2551 |   1 |\n",
       "| stall4control4_grna | HeLa | 5 | 4 |  7889 | 1779 | 303 |\n",
       "| stall4control4_grna | HeLa | 5 | 5 |  7888 | 1628 | 431 |\n",
       "| stall4control4_grna | HeLa | 5 | 2 |  7909 | 1107 | 223 |\n",
       "| stall4control4_grna | K562 | 6 | 3 | 10487 | 1041 | 333 |\n",
       "| ⋮ | ⋮ | ⋮ | ⋮ | ⋮ | ⋮ | ⋮ |\n",
       "| stall4control4_t6 | K562 | 6 | 2 | 11941 | 1 | 1 |\n",
       "| stall4control4_t6 | K562 | 6 | 5 | 12003 | 1 | 1 |\n",
       "| stall4control4_t6 | K562 | 6 | 7 | 12104 | 1 | 1 |\n",
       "| stall4control4_t6 | K562 | 6 | 2 | 12256 | 1 | 1 |\n",
       "| stall4control4_t6 | K562 | 6 | 4 | 12307 | 1 | 1 |\n",
       "\n"
      ],
      "text/plain": [
       "      sample_type         sample_name pool insert_num barcode_num barcode_count\n",
       "1     stall4control4_grna K562        6    5          12338       2551         \n",
       "2     stall4control4_grna HeLa        5    4           7889       1779         \n",
       "3     stall4control4_grna HeLa        5    5           7888       1628         \n",
       "4     stall4control4_grna HeLa        5    2           7909       1107         \n",
       "5     stall4control4_grna K562        6    3          10487       1041         \n",
       "⋮     ⋮                   ⋮           ⋮    ⋮          ⋮           ⋮            \n",
       "27356 stall4control4_t6   K562        6    2          11941       1            \n",
       "27357 stall4control4_t6   K562        6    5          12003       1            \n",
       "27358 stall4control4_t6   K562        6    7          12104       1            \n",
       "27359 stall4control4_t6   K562        6    2          12256       1            \n",
       "27360 stall4control4_t6   K562        6    4          12307       1            \n",
       "      linkage_count\n",
       "1       1          \n",
       "2     303          \n",
       "3     431          \n",
       "4     223          \n",
       "5     333          \n",
       "⋮     ⋮            \n",
       "27356 1            \n",
       "27357 1            \n",
       "27358 1            \n",
       "27359 1            \n",
       "27360 1            "
      ]
     },
     "metadata": {},
     "output_type": "display_data"
    }
   ],
   "source": [
    "barcode_counts <- read_tsv(\"../tables/sample_insert_barcode_counts.tsv.gz\") %>% \n",
    "  rename(sample_type = sample_name, sample_name = cellline) %>% \n",
    "  filter(!is.na(sample_name))\n",
    "\n",
    "barcode_counts  "
   ]
  },
  {
   "cell_type": "markdown",
   "metadata": {},
   "source": [
    "### Read insert annotations "
   ]
  },
  {
   "cell_type": "code",
   "execution_count": 3,
   "metadata": {
    "vscode": {
     "languageId": "r"
    }
   },
   "outputs": [
    {
     "name": "stderr",
     "output_type": "stream",
     "text": [
      "\u001b[1mRows: \u001b[22m\u001b[34m8\u001b[39m \u001b[1mColumns: \u001b[22m\u001b[34m8\u001b[39m\n",
      "\u001b[36m──\u001b[39m \u001b[1mColumn specification\u001b[22m \u001b[36m────────────────────────────────────────────────────────\u001b[39m\n",
      "\u001b[1mDelimiter:\u001b[22m \"\\t\"\n",
      "\u001b[31mchr\u001b[39m (5): group, insert_name, seq, rev_comp, insert_type\n",
      "\u001b[32mdbl\u001b[39m (3): insert_num, pair, frame\n",
      "\n",
      "\u001b[36mℹ\u001b[39m Use `spec()` to retrieve the full column specification for this data.\n",
      "\u001b[36mℹ\u001b[39m Specify the column types or set `show_col_types = FALSE` to quiet this message.\n"
     ]
    },
    {
     "name": "stdout",
     "output_type": "stream",
     "text": [
      "\u001b[90m# A tibble: 8 × 8\u001b[39m\n",
      "  group insert_name seq                      rev_c…¹ inser…² inser…³  pair frame\n",
      "  \u001b[3m\u001b[90m<chr>\u001b[39m\u001b[23m \u001b[3m\u001b[90m<chr>\u001b[39m\u001b[23m       \u001b[3m\u001b[90m<chr>\u001b[39m\u001b[23m                    \u001b[3m\u001b[90m<chr>\u001b[39m\u001b[23m   \u001b[3m\u001b[90m<chr>\u001b[39m\u001b[23m     \u001b[3m\u001b[90m<dbl>\u001b[39m\u001b[23m \u001b[3m\u001b[90m<dbl>\u001b[39m\u001b[23m \u001b[3m\u001b[90m<dbl>\u001b[39m\u001b[23m\n",
      "\u001b[90m1\u001b[39m human PS8         CGATGGCGATGGCGATGGCGATG… CCATCG… control       7     1     2\n",
      "\u001b[90m2\u001b[39m human RH8         ATGGCGATGGCGATGGCGATGGC… CGCCAT… stall         6     1     0\n",
      "\u001b[90m3\u001b[39m human FQ8         CTGAAACTGAAACTGAAACTGAA… TTTCAG… control       5     3     2\n",
      "\u001b[90m4\u001b[39m human SF8         GAAACTGAAACTGAAACTGAAAC… AGTTTC… stall         4     3     0\n",
      "\u001b[90m5\u001b[39m human QS8         ACTTTGACTTTGACTTTGACTTT… CAAAGT… control       3     2     2\n",
      "\u001b[90m6\u001b[39m human VK8         TTTGACTTTGACTTTGACTTTGA… GTCAAA… stall         2     2     0\n",
      "\u001b[90m7\u001b[39m human SKVF4       GTCAAAGTCAAAGTCAAAGTCAA… AGCAAA… control       1     4    \u001b[31mNA\u001b[39m\n",
      "\u001b[90m8\u001b[39m human SVKF4       GAATTTCACCGAAAACTTTACAC… AGCGTC… stall         0     4    \u001b[31mNA\u001b[39m\n",
      "\u001b[90m# … with abbreviated variable names ¹​rev_comp, ²​insert_type, ³​insert_num\u001b[39m\n"
     ]
    }
   ],
   "source": [
    "\n",
    "insert_annotations <- read_tsv(\"../../pool4_linkage/annotations/insert_annotations/stall4control4_linkage.tsv\") %>% \n",
    "  print()"
   ]
  },
  {
   "cell_type": "markdown",
   "metadata": {},
   "source": [
    "### Function for bootstrap mRNA levels\n"
   ]
  },
  {
   "cell_type": "code",
   "execution_count": 4,
   "metadata": {
    "vscode": {
     "languageId": "r"
    }
   },
   "outputs": [],
   "source": [
    "\n",
    "calc_lfc_bootstrap <- function(data, indices) {\n",
    "  d <- data[indices,]\n",
    "  log2(sum(d$mrna)) - log2(sum(d$grna))\n",
    "}"
   ]
  },
  {
   "cell_type": "markdown",
   "metadata": {},
   "source": [
    "### Calculate mRNA levels of dicodons\n",
    "\n",
    "- Log fold change is log2(mRNA/gRNA) and is median-normalized across the full library.\n",
    "\n",
    "- Remove timecourse samples: we will analyze these seperately"
   ]
  },
  {
   "cell_type": "code",
   "execution_count": 5,
   "metadata": {
    "vscode": {
     "languageId": "r"
    }
   },
   "outputs": [
    {
     "name": "stderr",
     "output_type": "stream",
     "text": [
      "Updating HTML index of packages in '.Library'\n",
      "\n",
      "Making 'packages.html' ...\n",
      " done\n",
      "\n"
     ]
    }
   ],
   "source": [
    "install.packages('boot')"
   ]
  },
  {
   "cell_type": "code",
   "execution_count": 6,
   "metadata": {
    "vscode": {
     "languageId": "r"
    }
   },
   "outputs": [
    {
     "name": "stdout",
     "output_type": "stream",
     "text": [
      "\u001b[90m# A tibble: 28 × 11\u001b[39m\n",
      "\u001b[90m# Groups:   insert_num, sample_name [28]\u001b[39m\n",
      "   sample_name insert…¹ lfc_m…² lfc_sd group inser…³ seq   rev_c…⁴ inser…⁵  pair\n",
      "   \u001b[3m\u001b[90m<chr>\u001b[39m\u001b[23m          \u001b[3m\u001b[90m<dbl>\u001b[39m\u001b[23m   \u001b[3m\u001b[90m<dbl>\u001b[39m\u001b[23m  \u001b[3m\u001b[90m<dbl>\u001b[39m\u001b[23m \u001b[3m\u001b[90m<chr>\u001b[39m\u001b[23m \u001b[3m\u001b[90m<chr>\u001b[39m\u001b[23m   \u001b[3m\u001b[90m<chr>\u001b[39m\u001b[23m \u001b[3m\u001b[90m<chr>\u001b[39m\u001b[23m   \u001b[3m\u001b[90m<chr>\u001b[39m\u001b[23m   \u001b[3m\u001b[90m<dbl>\u001b[39m\u001b[23m\n",
      "\u001b[90m 1\u001b[39m K562               5 -\u001b[31m2\u001b[39m\u001b[31m.\u001b[39m\u001b[31m24\u001b[39m   0.111  human FQ8     CTGA… TTTCAG… control     3\n",
      "\u001b[90m 2\u001b[39m HeLa               4 -\u001b[31m0\u001b[39m\u001b[31m.\u001b[39m\u001b[31m998\u001b[39m  0.096\u001b[4m7\u001b[24m human SF8     GAAA… AGTTTC… stall       3\n",
      "\u001b[90m 3\u001b[39m HeLa               5 -\u001b[31m0\u001b[39m\u001b[31m.\u001b[39m\u001b[31m169\u001b[39m  0.057\u001b[4m7\u001b[24m human FQ8     CTGA… TTTCAG… control     3\n",
      "\u001b[90m 4\u001b[39m HeLa               2 -\u001b[31m2\u001b[39m\u001b[31m.\u001b[39m\u001b[31m46\u001b[39m   0.131  human VK8     TTTG… GTCAAA… stall       2\n",
      "\u001b[90m 5\u001b[39m K562               3 -\u001b[31m1\u001b[39m\u001b[31m.\u001b[39m\u001b[31m54\u001b[39m   0.116  human QS8     ACTT… CAAAGT… control     2\n",
      "\u001b[90m 6\u001b[39m HeLa               3 -\u001b[31m0\u001b[39m\u001b[31m.\u001b[39m\u001b[31m889\u001b[39m  0.070\u001b[4m0\u001b[24m human QS8     ACTT… CAAAGT… control     2\n",
      "\u001b[90m 7\u001b[39m HCT116             7 -\u001b[31m0\u001b[39m\u001b[31m.\u001b[39m\u001b[31m509\u001b[39m  0.142  human PS8     CGAT… CCATCG… control     1\n",
      "\u001b[90m 8\u001b[39m HCT116             5 -\u001b[31m0\u001b[39m\u001b[31m.\u001b[39m\u001b[31m650\u001b[39m  0.083\u001b[4m4\u001b[24m human FQ8     CTGA… TTTCAG… control     3\n",
      "\u001b[90m 9\u001b[39m HeLa               7 -\u001b[31m0\u001b[39m\u001b[31m.\u001b[39m\u001b[31m0\u001b[39m\u001b[31m15\u001b[4m2\u001b[24m\u001b[39m 0.072\u001b[4m2\u001b[24m human PS8     CGAT… CCATCG… control     1\n",
      "\u001b[90m10\u001b[39m K562               7 -\u001b[31m1\u001b[39m\u001b[31m.\u001b[39m\u001b[31m31\u001b[39m   0.087\u001b[4m6\u001b[24m human PS8     CGAT… CCATCG… control     1\n",
      "\u001b[90m# … with 18 more rows, 1 more variable: frame <dbl>, and abbreviated variable\u001b[39m\n",
      "\u001b[90m#   names ¹​insert_num, ²​lfc_mean, ³​insert_name, ⁴​rev_comp, ⁵​insert_type\u001b[39m\n"
     ]
    }
   ],
   "source": [
    "lfc <- barcode_counts %>% \n",
    "  # select only gRNA and mRNA samples, no timecourse samples \n",
    "  filter(str_detect(sample_type, \"rna\")) %>%\n",
    "  # rename sample_type to just \"grna\" or \"mrna\" \n",
    "  mutate(sample_type = str_remove(sample_type, \"stall4control4_\")) %>% \n",
    "  pivot_wider(names_from = sample_type, values_from = barcode_count) %>%\n",
    "  drop_na() %>% \n",
    "  group_by(insert_num, sample_name) %>% \n",
    "  nest() %>%\n",
    "  mutate(lfc = map(data, function(df) boot::boot(data=df, statistic=calc_lfc_bootstrap, R=1000)$t)) %>%\n",
    "  select(-data) %>%\n",
    "  mutate(lfc_mean = map_dbl(lfc, mean)) %>%\n",
    "  mutate(lfc_sd = map_dbl(lfc, sd)) %>%\n",
    "  select(-lfc) %>%\n",
    "  inner_join(insert_annotations, by = \"insert_num\") %>%\n",
    "  print()"
   ]
  },
  {
   "cell_type": "markdown",
   "metadata": {},
   "source": [
    "\n",
    "### Plot VK8, RH8, SF8 effects by cellline\n",
    "\n",
    "- So! These effects look the same as our initial analysis! \n",
    "\n",
    "- This is a good sign, because it means my linakge trimming seems to have worked correctly (at least for these samples). I was worried that the trimming resulted in my scrambling the inserts with their +2 frameshifted controls, but it seems that I trimmed correctly! \n",
    "\n",
    "- However, I think the timecourse samples are still messed up (may need different trimming parameters), and it seems like I somehow lost the SVKF controls as well (at which step, I'm not sure). "
   ]
  },
  {
   "cell_type": "code",
   "execution_count": 7,
   "metadata": {
    "vscode": {
     "languageId": "r"
    }
   },
   "outputs": [
    {
     "name": "stdout",
     "output_type": "stream",
     "text": [
      "\u001b[90m# A tibble: 24 × 12\u001b[39m\n",
      "   sample_name insert…¹ lfc_m…² lfc_sd group inser…³ seq   rev_c…⁴ inser…⁵  pair\n",
      "   \u001b[3m\u001b[90m<chr>\u001b[39m\u001b[23m          \u001b[3m\u001b[90m<dbl>\u001b[39m\u001b[23m   \u001b[3m\u001b[90m<dbl>\u001b[39m\u001b[23m  \u001b[3m\u001b[90m<dbl>\u001b[39m\u001b[23m \u001b[3m\u001b[90m<chr>\u001b[39m\u001b[23m \u001b[3m\u001b[90m<chr>\u001b[39m\u001b[23m   \u001b[3m\u001b[90m<chr>\u001b[39m\u001b[23m \u001b[3m\u001b[90m<chr>\u001b[39m\u001b[23m   \u001b[3m\u001b[90m<chr>\u001b[39m\u001b[23m   \u001b[3m\u001b[90m<dbl>\u001b[39m\u001b[23m\n",
      "\u001b[90m 1\u001b[39m K562               5  -\u001b[31m0\u001b[39m\u001b[31m.\u001b[39m\u001b[31m925\u001b[39m 0.111  human FQ8     CTGA… TTTCAG… control     3\n",
      "\u001b[90m 2\u001b[39m HeLa               4  -\u001b[31m0\u001b[39m\u001b[31m.\u001b[39m\u001b[31m983\u001b[39m 0.096\u001b[4m7\u001b[24m human SF8     GAAA… AGTTTC… stall       3\n",
      "\u001b[90m 3\u001b[39m HeLa               5  -\u001b[31m0\u001b[39m\u001b[31m.\u001b[39m\u001b[31m154\u001b[39m 0.057\u001b[4m7\u001b[24m human FQ8     CTGA… TTTCAG… control     3\n",
      "\u001b[90m 4\u001b[39m HeLa               2  -\u001b[31m2\u001b[39m\u001b[31m.\u001b[39m\u001b[31m45\u001b[39m  0.131  human VK8     TTTG… GTCAAA… stall       2\n",
      "\u001b[90m 5\u001b[39m K562               3  -\u001b[31m0\u001b[39m\u001b[31m.\u001b[39m\u001b[31m226\u001b[39m 0.116  human QS8     ACTT… CAAAGT… control     2\n",
      "\u001b[90m 6\u001b[39m HeLa               3  -\u001b[31m0\u001b[39m\u001b[31m.\u001b[39m\u001b[31m873\u001b[39m 0.070\u001b[4m0\u001b[24m human QS8     ACTT… CAAAGT… control     2\n",
      "\u001b[90m 7\u001b[39m HCT116             7   0     0.142  human PS8     CGAT… CCATCG… control     1\n",
      "\u001b[90m 8\u001b[39m HCT116             5  -\u001b[31m0\u001b[39m\u001b[31m.\u001b[39m\u001b[31m141\u001b[39m 0.083\u001b[4m4\u001b[24m human FQ8     CTGA… TTTCAG… control     3\n",
      "\u001b[90m 9\u001b[39m HeLa               7   0     0.072\u001b[4m2\u001b[24m human PS8     CGAT… CCATCG… control     1\n",
      "\u001b[90m10\u001b[39m K562               7   0     0.087\u001b[4m6\u001b[24m human PS8     CGAT… CCATCG… control     1\n",
      "\u001b[90m# … with 14 more rows, 2 more variables: frame <fct>, label <fct>, and\u001b[39m\n",
      "\u001b[90m#   abbreviated variable names ¹​insert_num, ²​lfc_mean, ³​insert_name, ⁴​rev_comp,\u001b[39m\n",
      "\u001b[90m#   ⁵​insert_type\u001b[39m\n"
     ]
    },
    {
     "data": {
      "image/png": "[encoded data removed]",
      "text/plain": [
       "plot without title"
      ]
     },
     "metadata": {
      "image/png": {
       "height": 180,
       "width": 240
      }
     },
     "output_type": "display_data"
    }
   ],
   "source": [
    "options(repr.plot.width=4, repr.plot.height=3)\n",
    "\n",
    "plot_data <- lfc %>% \n",
    "  filter(!is.na(frame)) %>% \n",
    "  mutate(frame = as.factor(frame)) %>% \n",
    "  mutate(frame = fct_rev(fct_recode(frame, \"0\" = \"0\", \"+2\" = \"2\"))) %>% \n",
    "  mutate(label = pair) %>% \n",
    "  group_by(sample_name, pair) %>% \n",
    "  mutate(label = insert_name[insert_type == \"stall\"]) %>% \n",
    "  ungroup() %>% \n",
    "  mutate(label = fct_reorder(label, pair)) %>% \n",
    "  group_by(sample_name) %>% \n",
    "  mutate(lfc_mean = lfc_mean - max(lfc_mean)) %>% \n",
    "  ungroup() %>% \n",
    "  print()\n",
    "  \n",
    "plot_data %>% \n",
    "  ggplot(aes(x = label, y = lfc_mean, \n",
    "             ymin = lfc_mean - lfc_sd, ymax = lfc_mean + lfc_sd, color = frame)) +\n",
    "  facet_wrap(~ sample_name, scales = \"free\") + \n",
    "  scale_color_manual(values = cbPalette) +\n",
    "  geom_errorbar(width = 0.3, show.legend = F) + \n",
    "  geom_point() +\n",
    "  labs(x = \"8x dipeptide repeat\", y = \"mRNA level (log2, a.u.)\", color = \"Frame\")\n",
    "\n",
    "# ggsave(\"../figures/multiple_celllline_dipeptide_mrna_effect.pdf\")"
   ]
  },
  {
   "cell_type": "markdown",
   "metadata": {},
   "source": [
    "# Plot SVKF4 effect by cell line\n",
    "\n",
    "- Huh.. weird. Where did the control inserts for the SVKF test go? \n",
    "\n",
    "- Maybe these were somehow filtered out at an earlier step?\n",
    "\n",
    "```{r, fig.width=2, fig.height=1.5}"
   ]
  },
  {
   "cell_type": "code",
   "execution_count": 8,
   "metadata": {
    "vscode": {
     "languageId": "r"
    }
   },
   "outputs": [
    {
     "data": {
      "text/html": [
       "<table class=\"dataframe\">\n",
       "<caption>A spec_tbl_df: 8 × 8</caption>\n",
       "<thead>\n",
       "\t<tr><th scope=col>group</th><th scope=col>insert_name</th><th scope=col>seq</th><th scope=col>rev_comp</th><th scope=col>insert_type</th><th scope=col>insert_num</th><th scope=col>pair</th><th scope=col>frame</th></tr>\n",
       "\t<tr><th scope=col>&lt;chr&gt;</th><th scope=col>&lt;chr&gt;</th><th scope=col>&lt;chr&gt;</th><th scope=col>&lt;chr&gt;</th><th scope=col>&lt;chr&gt;</th><th scope=col>&lt;dbl&gt;</th><th scope=col>&lt;dbl&gt;</th><th scope=col>&lt;dbl&gt;</th></tr>\n",
       "</thead>\n",
       "<tbody>\n",
       "\t<tr><td>human</td><td>PS8  </td><td>CGATGGCGATGGCGATGGCGATGGCGATGGCGATGGCGATGGCGATGG</td><td>CCATCGCCATCGCCATCGCCATCGCCATCGCCATCGCCATCGCCATCG</td><td>control</td><td>7</td><td>1</td><td> 2</td></tr>\n",
       "\t<tr><td>human</td><td>RH8  </td><td>ATGGCGATGGCGATGGCGATGGCGATGGCGATGGCGATGGCGATGGCG</td><td>CGCCATCGCCATCGCCATCGCCATCGCCATCGCCATCGCCATCGCCAT</td><td>stall  </td><td>6</td><td>1</td><td> 0</td></tr>\n",
       "\t<tr><td>human</td><td>FQ8  </td><td>CTGAAACTGAAACTGAAACTGAAACTGAAACTGAAACTGAAACTGAAA</td><td>TTTCAGTTTCAGTTTCAGTTTCAGTTTCAGTTTCAGTTTCAGTTTCAG</td><td>control</td><td>5</td><td>3</td><td> 2</td></tr>\n",
       "\t<tr><td>human</td><td>SF8  </td><td>GAAACTGAAACTGAAACTGAAACTGAAACTGAAACTGAAACTGAAACT</td><td>AGTTTCAGTTTCAGTTTCAGTTTCAGTTTCAGTTTCAGTTTCAGTTTC</td><td>stall  </td><td>4</td><td>3</td><td> 0</td></tr>\n",
       "\t<tr><td>human</td><td>QS8  </td><td>ACTTTGACTTTGACTTTGACTTTGACTTTGACTTTGACTTTGACTTTG</td><td>CAAAGTCAAAGTCAAAGTCAAAGTCAAAGTCAAAGTCAAAGTCAAAGT</td><td>control</td><td>3</td><td>2</td><td> 2</td></tr>\n",
       "\t<tr><td>human</td><td>VK8  </td><td>TTTGACTTTGACTTTGACTTTGACTTTGACTTTGACTTTGACTTTGAC</td><td>GTCAAAGTCAAAGTCAAAGTCAAAGTCAAAGTCAAAGTCAAAGTCAAA</td><td>stall  </td><td>2</td><td>2</td><td> 0</td></tr>\n",
       "\t<tr><td>human</td><td>SKVF4</td><td>GTCAAAGTCAAAGTCAAAGTCAAAGTCAAAGTCAAAGTCAAAGTCAAA</td><td>AGCAAAGTCTTCTCCAAGGTTTTTAGTAAGGTATTTTCGAAAGTGTTC</td><td>control</td><td>1</td><td>4</td><td>NA</td></tr>\n",
       "\t<tr><td>human</td><td>SVKF4</td><td>GAATTTCACCGAAAACTTTACACTAAACTTAACGGAGAATTTGACGCT</td><td>AGCGTCAAATTCTCCGTTAAGTTTAGTGTAAAGTTTTCGGTGAAATTC</td><td>stall  </td><td>0</td><td>4</td><td>NA</td></tr>\n",
       "</tbody>\n",
       "</table>\n"
      ],
      "text/latex": [
       "A spec\\_tbl\\_df: 8 × 8\n",
       "\\begin{tabular}{llllllll}\n",
       " group & insert\\_name & seq & rev\\_comp & insert\\_type & insert\\_num & pair & frame\\\\\n",
       " <chr> & <chr> & <chr> & <chr> & <chr> & <dbl> & <dbl> & <dbl>\\\\\n",
       "\\hline\n",
       "\t human & PS8   & CGATGGCGATGGCGATGGCGATGGCGATGGCGATGGCGATGGCGATGG & CCATCGCCATCGCCATCGCCATCGCCATCGCCATCGCCATCGCCATCG & control & 7 & 1 &  2\\\\\n",
       "\t human & RH8   & ATGGCGATGGCGATGGCGATGGCGATGGCGATGGCGATGGCGATGGCG & CGCCATCGCCATCGCCATCGCCATCGCCATCGCCATCGCCATCGCCAT & stall   & 6 & 1 &  0\\\\\n",
       "\t human & FQ8   & CTGAAACTGAAACTGAAACTGAAACTGAAACTGAAACTGAAACTGAAA & TTTCAGTTTCAGTTTCAGTTTCAGTTTCAGTTTCAGTTTCAGTTTCAG & control & 5 & 3 &  2\\\\\n",
       "\t human & SF8   & GAAACTGAAACTGAAACTGAAACTGAAACTGAAACTGAAACTGAAACT & AGTTTCAGTTTCAGTTTCAGTTTCAGTTTCAGTTTCAGTTTCAGTTTC & stall   & 4 & 3 &  0\\\\\n",
       "\t human & QS8   & ACTTTGACTTTGACTTTGACTTTGACTTTGACTTTGACTTTGACTTTG & CAAAGTCAAAGTCAAAGTCAAAGTCAAAGTCAAAGTCAAAGTCAAAGT & control & 3 & 2 &  2\\\\\n",
       "\t human & VK8   & TTTGACTTTGACTTTGACTTTGACTTTGACTTTGACTTTGACTTTGAC & GTCAAAGTCAAAGTCAAAGTCAAAGTCAAAGTCAAAGTCAAAGTCAAA & stall   & 2 & 2 &  0\\\\\n",
       "\t human & SKVF4 & GTCAAAGTCAAAGTCAAAGTCAAAGTCAAAGTCAAAGTCAAAGTCAAA & AGCAAAGTCTTCTCCAAGGTTTTTAGTAAGGTATTTTCGAAAGTGTTC & control & 1 & 4 & NA\\\\\n",
       "\t human & SVKF4 & GAATTTCACCGAAAACTTTACACTAAACTTAACGGAGAATTTGACGCT & AGCGTCAAATTCTCCGTTAAGTTTAGTGTAAAGTTTTCGGTGAAATTC & stall   & 0 & 4 & NA\\\\\n",
       "\\end{tabular}\n"
      ],
      "text/markdown": [
       "\n",
       "A spec_tbl_df: 8 × 8\n",
       "\n",
       "| group &lt;chr&gt; | insert_name &lt;chr&gt; | seq &lt;chr&gt; | rev_comp &lt;chr&gt; | insert_type &lt;chr&gt; | insert_num &lt;dbl&gt; | pair &lt;dbl&gt; | frame &lt;dbl&gt; |\n",
       "|---|---|---|---|---|---|---|---|\n",
       "| human | PS8   | CGATGGCGATGGCGATGGCGATGGCGATGGCGATGGCGATGGCGATGG | CCATCGCCATCGCCATCGCCATCGCCATCGCCATCGCCATCGCCATCG | control | 7 | 1 |  2 |\n",
       "| human | RH8   | ATGGCGATGGCGATGGCGATGGCGATGGCGATGGCGATGGCGATGGCG | CGCCATCGCCATCGCCATCGCCATCGCCATCGCCATCGCCATCGCCAT | stall   | 6 | 1 |  0 |\n",
       "| human | FQ8   | CTGAAACTGAAACTGAAACTGAAACTGAAACTGAAACTGAAACTGAAA | TTTCAGTTTCAGTTTCAGTTTCAGTTTCAGTTTCAGTTTCAGTTTCAG | control | 5 | 3 |  2 |\n",
       "| human | SF8   | GAAACTGAAACTGAAACTGAAACTGAAACTGAAACTGAAACTGAAACT | AGTTTCAGTTTCAGTTTCAGTTTCAGTTTCAGTTTCAGTTTCAGTTTC | stall   | 4 | 3 |  0 |\n",
       "| human | QS8   | ACTTTGACTTTGACTTTGACTTTGACTTTGACTTTGACTTTGACTTTG | CAAAGTCAAAGTCAAAGTCAAAGTCAAAGTCAAAGTCAAAGTCAAAGT | control | 3 | 2 |  2 |\n",
       "| human | VK8   | TTTGACTTTGACTTTGACTTTGACTTTGACTTTGACTTTGACTTTGAC | GTCAAAGTCAAAGTCAAAGTCAAAGTCAAAGTCAAAGTCAAAGTCAAA | stall   | 2 | 2 |  0 |\n",
       "| human | SKVF4 | GTCAAAGTCAAAGTCAAAGTCAAAGTCAAAGTCAAAGTCAAAGTCAAA | AGCAAAGTCTTCTCCAAGGTTTTTAGTAAGGTATTTTCGAAAGTGTTC | control | 1 | 4 | NA |\n",
       "| human | SVKF4 | GAATTTCACCGAAAACTTTACACTAAACTTAACGGAGAATTTGACGCT | AGCGTCAAATTCTCCGTTAAGTTTAGTGTAAAGTTTTCGGTGAAATTC | stall   | 0 | 4 | NA |\n",
       "\n"
      ],
      "text/plain": [
       "  group insert_name seq                                             \n",
       "1 human PS8         CGATGGCGATGGCGATGGCGATGGCGATGGCGATGGCGATGGCGATGG\n",
       "2 human RH8         ATGGCGATGGCGATGGCGATGGCGATGGCGATGGCGATGGCGATGGCG\n",
       "3 human FQ8         CTGAAACTGAAACTGAAACTGAAACTGAAACTGAAACTGAAACTGAAA\n",
       "4 human SF8         GAAACTGAAACTGAAACTGAAACTGAAACTGAAACTGAAACTGAAACT\n",
       "5 human QS8         ACTTTGACTTTGACTTTGACTTTGACTTTGACTTTGACTTTGACTTTG\n",
       "6 human VK8         TTTGACTTTGACTTTGACTTTGACTTTGACTTTGACTTTGACTTTGAC\n",
       "7 human SKVF4       GTCAAAGTCAAAGTCAAAGTCAAAGTCAAAGTCAAAGTCAAAGTCAAA\n",
       "8 human SVKF4       GAATTTCACCGAAAACTTTACACTAAACTTAACGGAGAATTTGACGCT\n",
       "  rev_comp                                         insert_type insert_num pair\n",
       "1 CCATCGCCATCGCCATCGCCATCGCCATCGCCATCGCCATCGCCATCG control     7          1   \n",
       "2 CGCCATCGCCATCGCCATCGCCATCGCCATCGCCATCGCCATCGCCAT stall       6          1   \n",
       "3 TTTCAGTTTCAGTTTCAGTTTCAGTTTCAGTTTCAGTTTCAGTTTCAG control     5          3   \n",
       "4 AGTTTCAGTTTCAGTTTCAGTTTCAGTTTCAGTTTCAGTTTCAGTTTC stall       4          3   \n",
       "5 CAAAGTCAAAGTCAAAGTCAAAGTCAAAGTCAAAGTCAAAGTCAAAGT control     3          2   \n",
       "6 GTCAAAGTCAAAGTCAAAGTCAAAGTCAAAGTCAAAGTCAAAGTCAAA stall       2          2   \n",
       "7 AGCAAAGTCTTCTCCAAGGTTTTTAGTAAGGTATTTTCGAAAGTGTTC control     1          4   \n",
       "8 AGCGTCAAATTCTCCGTTAAGTTTAGTGTAAAGTTTTCGGTGAAATTC stall       0          4   \n",
       "  frame\n",
       "1  2   \n",
       "2  0   \n",
       "3  2   \n",
       "4  0   \n",
       "5  2   \n",
       "6  0   \n",
       "7 NA   \n",
       "8 NA   "
      ]
     },
     "metadata": {},
     "output_type": "display_data"
    },
    {
     "name": "stdout",
     "output_type": "stream",
     "text": [
      "\u001b[90m# A tibble: 562 × 7\u001b[39m\n",
      "   sample_type         sample_name  pool insert_num barcode_num barcod…¹ linka…²\n",
      "   \u001b[3m\u001b[90m<chr>\u001b[39m\u001b[23m               \u001b[3m\u001b[90m<chr>\u001b[39m\u001b[23m       \u001b[3m\u001b[90m<dbl>\u001b[39m\u001b[23m      \u001b[3m\u001b[90m<dbl>\u001b[39m\u001b[23m       \u001b[3m\u001b[90m<dbl>\u001b[39m\u001b[23m    \u001b[3m\u001b[90m<dbl>\u001b[39m\u001b[23m   \u001b[3m\u001b[90m<dbl>\u001b[39m\u001b[23m\n",
      "\u001b[90m 1\u001b[39m stall4control4_grna HeLa            5          0        \u001b[4m7\u001b[24m907      525     227\n",
      "\u001b[90m 2\u001b[39m stall4control4_grna K562            6          0       \u001b[4m1\u001b[24m\u001b[4m0\u001b[24m475      497     394\n",
      "\u001b[90m 3\u001b[39m stall4control4_grna HeLa            5          0        \u001b[4m8\u001b[24m207      419     107\n",
      "\u001b[90m 4\u001b[39m stall4control4_grna K562            6          0       \u001b[4m1\u001b[24m\u001b[4m0\u001b[24m552      400     243\n",
      "\u001b[90m 5\u001b[39m stall4control4_grna HeLa            5          0        \u001b[4m8\u001b[24m057      395     139\n",
      "\u001b[90m 6\u001b[39m stall4control4_grna K562            6          0       \u001b[4m1\u001b[24m\u001b[4m1\u001b[24m676      372       7\n",
      "\u001b[90m 7\u001b[39m stall4control4_grna HeLa            5          0        \u001b[4m7\u001b[24m992      368     160\n",
      "\u001b[90m 8\u001b[39m stall4control4_grna HeLa            5          0        \u001b[4m8\u001b[24m866      338      41\n",
      "\u001b[90m 9\u001b[39m stall4control4_grna HeLa            5          0        \u001b[4m8\u001b[24m014      335     151\n",
      "\u001b[90m10\u001b[39m stall4control4_grna HeLa            5          0        \u001b[4m8\u001b[24m242      326     100\n",
      "\u001b[90m# … with 552 more rows, and abbreviated variable names ¹​barcode_count,\u001b[39m\n",
      "\u001b[90m#   ²​linkage_count\u001b[39m\n",
      "\u001b[90m# A tibble: 0 × 7\u001b[39m\n",
      "\u001b[90m# … with 7 variables: sample_type <chr>, sample_name <chr>, pool <dbl>,\u001b[39m\n",
      "\u001b[90m#   insert_num <dbl>, barcode_num <dbl>, barcode_count <dbl>,\u001b[39m\n",
      "\u001b[90m#   linkage_count <dbl>\u001b[39m\n"
     ]
    }
   ],
   "source": [
    "## Where did we lose SKVF control?\n",
    "\n",
    "insert_annotations\n",
    "# SKVF insert number = 1. Is this present in the barcode counts? \n",
    "# SVKF beta insert is present\n",
    "barcode_counts %>% filter(insert_num == 0) %>% print \n",
    "# SKVF alpha control insert is not present.. \n",
    "barcode_counts %>% filter(insert_num == 1) %>% print \n",
    "# Okay, so this was lost at an earlier processing step. Either in the barcode count generation script, or at the linkage stage. "
   ]
  },
  {
   "cell_type": "code",
   "execution_count": 10,
   "metadata": {
    "vscode": {
     "languageId": "r"
    }
   },
   "outputs": [
    {
     "data": {
      "text/html": [
       "<table class=\"dataframe\">\n",
       "<caption>A grouped_df: 28 × 11</caption>\n",
       "<thead>\n",
       "\t<tr><th scope=col>sample_name</th><th scope=col>insert_num</th><th scope=col>lfc_mean</th><th scope=col>lfc_sd</th><th scope=col>group</th><th scope=col>insert_name</th><th scope=col>seq</th><th scope=col>rev_comp</th><th scope=col>insert_type</th><th scope=col>pair</th><th scope=col>frame</th></tr>\n",
       "\t<tr><th scope=col>&lt;chr&gt;</th><th scope=col>&lt;dbl&gt;</th><th scope=col>&lt;dbl&gt;</th><th scope=col>&lt;dbl&gt;</th><th scope=col>&lt;chr&gt;</th><th scope=col>&lt;chr&gt;</th><th scope=col>&lt;chr&gt;</th><th scope=col>&lt;chr&gt;</th><th scope=col>&lt;chr&gt;</th><th scope=col>&lt;dbl&gt;</th><th scope=col>&lt;dbl&gt;</th></tr>\n",
       "</thead>\n",
       "<tbody>\n",
       "\t<tr><td>K562</td><td>5</td><td>-2.2357382</td><td>0.11063544</td><td>human</td><td>FQ8</td><td>CTGAAACTGAAACTGAAACTGAAACTGAAACTGAAACTGAAACTGAAA</td><td>TTTCAGTTTCAGTTTCAGTTTCAGTTTCAGTTTCAGTTTCAGTTTCAG</td><td>control</td><td>3</td><td>2</td></tr>\n",
       "\t<tr><td>HeLa</td><td>4</td><td>-0.9979506</td><td>0.09669681</td><td>human</td><td>SF8</td><td>GAAACTGAAACTGAAACTGAAACTGAAACTGAAACTGAAACTGAAACT</td><td>AGTTTCAGTTTCAGTTTCAGTTTCAGTTTCAGTTTCAGTTTCAGTTTC</td><td>stall  </td><td>3</td><td>0</td></tr>\n",
       "\t<tr><td>HeLa</td><td>5</td><td>-0.1690159</td><td>0.05770878</td><td>human</td><td>FQ8</td><td>CTGAAACTGAAACTGAAACTGAAACTGAAACTGAAACTGAAACTGAAA</td><td>TTTCAGTTTCAGTTTCAGTTTCAGTTTCAGTTTCAGTTTCAGTTTCAG</td><td>control</td><td>3</td><td>2</td></tr>\n",
       "\t<tr><td>HeLa</td><td>2</td><td>-2.4633336</td><td>0.13125292</td><td>human</td><td>VK8</td><td>TTTGACTTTGACTTTGACTTTGACTTTGACTTTGACTTTGACTTTGAC</td><td>GTCAAAGTCAAAGTCAAAGTCAAAGTCAAAGTCAAAGTCAAAGTCAAA</td><td>stall  </td><td>2</td><td>0</td></tr>\n",
       "\t<tr><td>K562</td><td>3</td><td>-1.5366478</td><td>0.11634500</td><td>human</td><td>QS8</td><td>ACTTTGACTTTGACTTTGACTTTGACTTTGACTTTGACTTTGACTTTG</td><td>CAAAGTCAAAGTCAAAGTCAAAGTCAAAGTCAAAGTCAAAGTCAAAGT</td><td>control</td><td>2</td><td>2</td></tr>\n",
       "\t<tr><td>⋮</td><td>⋮</td><td>⋮</td><td>⋮</td><td>⋮</td><td>⋮</td><td>⋮</td><td>⋮</td><td>⋮</td><td>⋮</td><td>⋮</td></tr>\n",
       "\t<tr><td>HCT116 </td><td>4</td><td>-1.12623422</td><td>0.2158101</td><td>human</td><td>SF8  </td><td>GAAACTGAAACTGAAACTGAAACTGAAACTGAAACTGAAACTGAAACT</td><td>AGTTTCAGTTTCAGTTTCAGTTTCAGTTTCAGTTTCAGTTTCAGTTTC</td><td>stall</td><td>3</td><td> 0</td></tr>\n",
       "\t<tr><td>HCT116 </td><td>2</td><td>-2.19889039</td><td>0.1140901</td><td>human</td><td>VK8  </td><td>TTTGACTTTGACTTTGACTTTGACTTTGACTTTGACTTTGACTTTGAC</td><td>GTCAAAGTCAAAGTCAAAGTCAAAGTCAAAGTCAAAGTCAAAGTCAAA</td><td>stall</td><td>2</td><td> 0</td></tr>\n",
       "\t<tr><td>HEK293T</td><td>0</td><td>-0.53794332</td><td>0.4054641</td><td>human</td><td>SVKF4</td><td>GAATTTCACCGAAAACTTTACACTAAACTTAACGGAGAATTTGACGCT</td><td>AGCGTCAAATTCTCCGTTAAGTTTAGTGTAAAGTTTTCGGTGAAATTC</td><td>stall</td><td>4</td><td>NA</td></tr>\n",
       "\t<tr><td>HEK293T</td><td>6</td><td>-0.05923833</td><td>0.1098252</td><td>human</td><td>RH8  </td><td>ATGGCGATGGCGATGGCGATGGCGATGGCGATGGCGATGGCGATGGCG</td><td>CGCCATCGCCATCGCCATCGCCATCGCCATCGCCATCGCCATCGCCAT</td><td>stall</td><td>1</td><td> 0</td></tr>\n",
       "\t<tr><td>HCT116 </td><td>0</td><td>-3.07812125</td><td>0.7143483</td><td>human</td><td>SVKF4</td><td>GAATTTCACCGAAAACTTTACACTAAACTTAACGGAGAATTTGACGCT</td><td>AGCGTCAAATTCTCCGTTAAGTTTAGTGTAAAGTTTTCGGTGAAATTC</td><td>stall</td><td>4</td><td>NA</td></tr>\n",
       "</tbody>\n",
       "</table>\n"
      ],
      "text/latex": [
       "A grouped\\_df: 28 × 11\n",
       "\\begin{tabular}{lllllllllll}\n",
       " sample\\_name & insert\\_num & lfc\\_mean & lfc\\_sd & group & insert\\_name & seq & rev\\_comp & insert\\_type & pair & frame\\\\\n",
       " <chr> & <dbl> & <dbl> & <dbl> & <chr> & <chr> & <chr> & <chr> & <chr> & <dbl> & <dbl>\\\\\n",
       "\\hline\n",
       "\t K562 & 5 & -2.2357382 & 0.11063544 & human & FQ8 & CTGAAACTGAAACTGAAACTGAAACTGAAACTGAAACTGAAACTGAAA & TTTCAGTTTCAGTTTCAGTTTCAGTTTCAGTTTCAGTTTCAGTTTCAG & control & 3 & 2\\\\\n",
       "\t HeLa & 4 & -0.9979506 & 0.09669681 & human & SF8 & GAAACTGAAACTGAAACTGAAACTGAAACTGAAACTGAAACTGAAACT & AGTTTCAGTTTCAGTTTCAGTTTCAGTTTCAGTTTCAGTTTCAGTTTC & stall   & 3 & 0\\\\\n",
       "\t HeLa & 5 & -0.1690159 & 0.05770878 & human & FQ8 & CTGAAACTGAAACTGAAACTGAAACTGAAACTGAAACTGAAACTGAAA & TTTCAGTTTCAGTTTCAGTTTCAGTTTCAGTTTCAGTTTCAGTTTCAG & control & 3 & 2\\\\\n",
       "\t HeLa & 2 & -2.4633336 & 0.13125292 & human & VK8 & TTTGACTTTGACTTTGACTTTGACTTTGACTTTGACTTTGACTTTGAC & GTCAAAGTCAAAGTCAAAGTCAAAGTCAAAGTCAAAGTCAAAGTCAAA & stall   & 2 & 0\\\\\n",
       "\t K562 & 3 & -1.5366478 & 0.11634500 & human & QS8 & ACTTTGACTTTGACTTTGACTTTGACTTTGACTTTGACTTTGACTTTG & CAAAGTCAAAGTCAAAGTCAAAGTCAAAGTCAAAGTCAAAGTCAAAGT & control & 2 & 2\\\\\n",
       "\t ⋮ & ⋮ & ⋮ & ⋮ & ⋮ & ⋮ & ⋮ & ⋮ & ⋮ & ⋮ & ⋮\\\\\n",
       "\t HCT116  & 4 & -1.12623422 & 0.2158101 & human & SF8   & GAAACTGAAACTGAAACTGAAACTGAAACTGAAACTGAAACTGAAACT & AGTTTCAGTTTCAGTTTCAGTTTCAGTTTCAGTTTCAGTTTCAGTTTC & stall & 3 &  0\\\\\n",
       "\t HCT116  & 2 & -2.19889039 & 0.1140901 & human & VK8   & TTTGACTTTGACTTTGACTTTGACTTTGACTTTGACTTTGACTTTGAC & GTCAAAGTCAAAGTCAAAGTCAAAGTCAAAGTCAAAGTCAAAGTCAAA & stall & 2 &  0\\\\\n",
       "\t HEK293T & 0 & -0.53794332 & 0.4054641 & human & SVKF4 & GAATTTCACCGAAAACTTTACACTAAACTTAACGGAGAATTTGACGCT & AGCGTCAAATTCTCCGTTAAGTTTAGTGTAAAGTTTTCGGTGAAATTC & stall & 4 & NA\\\\\n",
       "\t HEK293T & 6 & -0.05923833 & 0.1098252 & human & RH8   & ATGGCGATGGCGATGGCGATGGCGATGGCGATGGCGATGGCGATGGCG & CGCCATCGCCATCGCCATCGCCATCGCCATCGCCATCGCCATCGCCAT & stall & 1 &  0\\\\\n",
       "\t HCT116  & 0 & -3.07812125 & 0.7143483 & human & SVKF4 & GAATTTCACCGAAAACTTTACACTAAACTTAACGGAGAATTTGACGCT & AGCGTCAAATTCTCCGTTAAGTTTAGTGTAAAGTTTTCGGTGAAATTC & stall & 4 & NA\\\\\n",
       "\\end{tabular}\n"
      ],
      "text/markdown": [
       "\n",
       "A grouped_df: 28 × 11\n",
       "\n",
       "| sample_name &lt;chr&gt; | insert_num &lt;dbl&gt; | lfc_mean &lt;dbl&gt; | lfc_sd &lt;dbl&gt; | group &lt;chr&gt; | insert_name &lt;chr&gt; | seq &lt;chr&gt; | rev_comp &lt;chr&gt; | insert_type &lt;chr&gt; | pair &lt;dbl&gt; | frame &lt;dbl&gt; |\n",
       "|---|---|---|---|---|---|---|---|---|---|---|\n",
       "| K562 | 5 | -2.2357382 | 0.11063544 | human | FQ8 | CTGAAACTGAAACTGAAACTGAAACTGAAACTGAAACTGAAACTGAAA | TTTCAGTTTCAGTTTCAGTTTCAGTTTCAGTTTCAGTTTCAGTTTCAG | control | 3 | 2 |\n",
       "| HeLa | 4 | -0.9979506 | 0.09669681 | human | SF8 | GAAACTGAAACTGAAACTGAAACTGAAACTGAAACTGAAACTGAAACT | AGTTTCAGTTTCAGTTTCAGTTTCAGTTTCAGTTTCAGTTTCAGTTTC | stall   | 3 | 0 |\n",
       "| HeLa | 5 | -0.1690159 | 0.05770878 | human | FQ8 | CTGAAACTGAAACTGAAACTGAAACTGAAACTGAAACTGAAACTGAAA | TTTCAGTTTCAGTTTCAGTTTCAGTTTCAGTTTCAGTTTCAGTTTCAG | control | 3 | 2 |\n",
       "| HeLa | 2 | -2.4633336 | 0.13125292 | human | VK8 | TTTGACTTTGACTTTGACTTTGACTTTGACTTTGACTTTGACTTTGAC | GTCAAAGTCAAAGTCAAAGTCAAAGTCAAAGTCAAAGTCAAAGTCAAA | stall   | 2 | 0 |\n",
       "| K562 | 3 | -1.5366478 | 0.11634500 | human | QS8 | ACTTTGACTTTGACTTTGACTTTGACTTTGACTTTGACTTTGACTTTG | CAAAGTCAAAGTCAAAGTCAAAGTCAAAGTCAAAGTCAAAGTCAAAGT | control | 2 | 2 |\n",
       "| ⋮ | ⋮ | ⋮ | ⋮ | ⋮ | ⋮ | ⋮ | ⋮ | ⋮ | ⋮ | ⋮ |\n",
       "| HCT116  | 4 | -1.12623422 | 0.2158101 | human | SF8   | GAAACTGAAACTGAAACTGAAACTGAAACTGAAACTGAAACTGAAACT | AGTTTCAGTTTCAGTTTCAGTTTCAGTTTCAGTTTCAGTTTCAGTTTC | stall | 3 |  0 |\n",
       "| HCT116  | 2 | -2.19889039 | 0.1140901 | human | VK8   | TTTGACTTTGACTTTGACTTTGACTTTGACTTTGACTTTGACTTTGAC | GTCAAAGTCAAAGTCAAAGTCAAAGTCAAAGTCAAAGTCAAAGTCAAA | stall | 2 |  0 |\n",
       "| HEK293T | 0 | -0.53794332 | 0.4054641 | human | SVKF4 | GAATTTCACCGAAAACTTTACACTAAACTTAACGGAGAATTTGACGCT | AGCGTCAAATTCTCCGTTAAGTTTAGTGTAAAGTTTTCGGTGAAATTC | stall | 4 | NA |\n",
       "| HEK293T | 6 | -0.05923833 | 0.1098252 | human | RH8   | ATGGCGATGGCGATGGCGATGGCGATGGCGATGGCGATGGCGATGGCG | CGCCATCGCCATCGCCATCGCCATCGCCATCGCCATCGCCATCGCCAT | stall | 1 |  0 |\n",
       "| HCT116  | 0 | -3.07812125 | 0.7143483 | human | SVKF4 | GAATTTCACCGAAAACTTTACACTAAACTTAACGGAGAATTTGACGCT | AGCGTCAAATTCTCCGTTAAGTTTAGTGTAAAGTTTTCGGTGAAATTC | stall | 4 | NA |\n",
       "\n"
      ],
      "text/plain": [
       "   sample_name insert_num lfc_mean    lfc_sd     group insert_name\n",
       "1  K562        5          -2.2357382  0.11063544 human FQ8        \n",
       "2  HeLa        4          -0.9979506  0.09669681 human SF8        \n",
       "3  HeLa        5          -0.1690159  0.05770878 human FQ8        \n",
       "4  HeLa        2          -2.4633336  0.13125292 human VK8        \n",
       "5  K562        3          -1.5366478  0.11634500 human QS8        \n",
       "⋮  ⋮           ⋮          ⋮           ⋮          ⋮     ⋮          \n",
       "24 HCT116      4          -1.12623422 0.2158101  human SF8        \n",
       "25 HCT116      2          -2.19889039 0.1140901  human VK8        \n",
       "26 HEK293T     0          -0.53794332 0.4054641  human SVKF4      \n",
       "27 HEK293T     6          -0.05923833 0.1098252  human RH8        \n",
       "28 HCT116      0          -3.07812125 0.7143483  human SVKF4      \n",
       "   seq                                             \n",
       "1  CTGAAACTGAAACTGAAACTGAAACTGAAACTGAAACTGAAACTGAAA\n",
       "2  GAAACTGAAACTGAAACTGAAACTGAAACTGAAACTGAAACTGAAACT\n",
       "3  CTGAAACTGAAACTGAAACTGAAACTGAAACTGAAACTGAAACTGAAA\n",
       "4  TTTGACTTTGACTTTGACTTTGACTTTGACTTTGACTTTGACTTTGAC\n",
       "5  ACTTTGACTTTGACTTTGACTTTGACTTTGACTTTGACTTTGACTTTG\n",
       "⋮  ⋮                                               \n",
       "24 GAAACTGAAACTGAAACTGAAACTGAAACTGAAACTGAAACTGAAACT\n",
       "25 TTTGACTTTGACTTTGACTTTGACTTTGACTTTGACTTTGACTTTGAC\n",
       "26 GAATTTCACCGAAAACTTTACACTAAACTTAACGGAGAATTTGACGCT\n",
       "27 ATGGCGATGGCGATGGCGATGGCGATGGCGATGGCGATGGCGATGGCG\n",
       "28 GAATTTCACCGAAAACTTTACACTAAACTTAACGGAGAATTTGACGCT\n",
       "   rev_comp                                         insert_type pair frame\n",
       "1  TTTCAGTTTCAGTTTCAGTTTCAGTTTCAGTTTCAGTTTCAGTTTCAG control     3    2    \n",
       "2  AGTTTCAGTTTCAGTTTCAGTTTCAGTTTCAGTTTCAGTTTCAGTTTC stall       3    0    \n",
       "3  TTTCAGTTTCAGTTTCAGTTTCAGTTTCAGTTTCAGTTTCAGTTTCAG control     3    2    \n",
       "4  GTCAAAGTCAAAGTCAAAGTCAAAGTCAAAGTCAAAGTCAAAGTCAAA stall       2    0    \n",
       "5  CAAAGTCAAAGTCAAAGTCAAAGTCAAAGTCAAAGTCAAAGTCAAAGT control     2    2    \n",
       "⋮  ⋮                                                ⋮           ⋮    ⋮    \n",
       "24 AGTTTCAGTTTCAGTTTCAGTTTCAGTTTCAGTTTCAGTTTCAGTTTC stall       3     0   \n",
       "25 GTCAAAGTCAAAGTCAAAGTCAAAGTCAAAGTCAAAGTCAAAGTCAAA stall       2     0   \n",
       "26 AGCGTCAAATTCTCCGTTAAGTTTAGTGTAAAGTTTTCGGTGAAATTC stall       4    NA   \n",
       "27 CGCCATCGCCATCGCCATCGCCATCGCCATCGCCATCGCCATCGCCAT stall       1     0   \n",
       "28 AGCGTCAAATTCTCCGTTAAGTTTAGTGTAAAGTTTTCGGTGAAATTC stall       4    NA   "
      ]
     },
     "metadata": {},
     "output_type": "display_data"
    },
    {
     "name": "stdout",
     "output_type": "stream",
     "text": [
      "\u001b[90m# A tibble: 28 × 11\u001b[39m\n",
      "\u001b[90m# Groups:   insert_num, sample_name [28]\u001b[39m\n",
      "   sample_name insert…¹ lfc_m…² lfc_sd group inser…³ seq   rev_c…⁴ inser…⁵  pair\n",
      "   \u001b[3m\u001b[90m<chr>\u001b[39m\u001b[23m          \u001b[3m\u001b[90m<dbl>\u001b[39m\u001b[23m   \u001b[3m\u001b[90m<dbl>\u001b[39m\u001b[23m  \u001b[3m\u001b[90m<dbl>\u001b[39m\u001b[23m \u001b[3m\u001b[90m<chr>\u001b[39m\u001b[23m \u001b[3m\u001b[90m<chr>\u001b[39m\u001b[23m   \u001b[3m\u001b[90m<chr>\u001b[39m\u001b[23m \u001b[3m\u001b[90m<chr>\u001b[39m\u001b[23m   \u001b[3m\u001b[90m<chr>\u001b[39m\u001b[23m   \u001b[3m\u001b[90m<dbl>\u001b[39m\u001b[23m\n",
      "\u001b[90m 1\u001b[39m K562               5 -\u001b[31m2\u001b[39m\u001b[31m.\u001b[39m\u001b[31m24\u001b[39m   0.111  human FQ8     CTGA… TTTCAG… control     3\n",
      "\u001b[90m 2\u001b[39m HeLa               4 -\u001b[31m0\u001b[39m\u001b[31m.\u001b[39m\u001b[31m998\u001b[39m  0.096\u001b[4m7\u001b[24m human SF8     GAAA… AGTTTC… stall       3\n",
      "\u001b[90m 3\u001b[39m HeLa               5 -\u001b[31m0\u001b[39m\u001b[31m.\u001b[39m\u001b[31m169\u001b[39m  0.057\u001b[4m7\u001b[24m human FQ8     CTGA… TTTCAG… control     3\n",
      "\u001b[90m 4\u001b[39m HeLa               2 -\u001b[31m2\u001b[39m\u001b[31m.\u001b[39m\u001b[31m46\u001b[39m   0.131  human VK8     TTTG… GTCAAA… stall       2\n",
      "\u001b[90m 5\u001b[39m K562               3 -\u001b[31m1\u001b[39m\u001b[31m.\u001b[39m\u001b[31m54\u001b[39m   0.116  human QS8     ACTT… CAAAGT… control     2\n",
      "\u001b[90m 6\u001b[39m HeLa               3 -\u001b[31m0\u001b[39m\u001b[31m.\u001b[39m\u001b[31m889\u001b[39m  0.070\u001b[4m0\u001b[24m human QS8     ACTT… CAAAGT… control     2\n",
      "\u001b[90m 7\u001b[39m HCT116             7 -\u001b[31m0\u001b[39m\u001b[31m.\u001b[39m\u001b[31m509\u001b[39m  0.142  human PS8     CGAT… CCATCG… control     1\n",
      "\u001b[90m 8\u001b[39m HCT116             5 -\u001b[31m0\u001b[39m\u001b[31m.\u001b[39m\u001b[31m650\u001b[39m  0.083\u001b[4m4\u001b[24m human FQ8     CTGA… TTTCAG… control     3\n",
      "\u001b[90m 9\u001b[39m HeLa               7 -\u001b[31m0\u001b[39m\u001b[31m.\u001b[39m\u001b[31m0\u001b[39m\u001b[31m15\u001b[4m2\u001b[24m\u001b[39m 0.072\u001b[4m2\u001b[24m human PS8     CGAT… CCATCG… control     1\n",
      "\u001b[90m10\u001b[39m K562               7 -\u001b[31m1\u001b[39m\u001b[31m.\u001b[39m\u001b[31m31\u001b[39m   0.087\u001b[4m6\u001b[24m human PS8     CGAT… CCATCG… control     1\n",
      "\u001b[90m# … with 18 more rows, 1 more variable: frame <dbl>, and abbreviated variable\u001b[39m\n",
      "\u001b[90m#   names ¹​insert_num, ²​lfc_mean, ³​insert_name, ⁴​rev_comp, ⁵​insert_type\u001b[39m\n"
     ]
    },
    {
     "ename": "ERROR",
     "evalue": "\u001b[1m\u001b[33mError\u001b[39m in \u001b[1m\u001b[1m`mutate()`:\u001b[22m\n\u001b[1m\u001b[22m\u001b[33m!\u001b[39m Problem while computing `lfc_mean = lfc_mean - lfc_mean[insert_type ==\n  \"control\"]`.\n\u001b[31m✖\u001b[39m `lfc_mean` must be size 1, not 0.\n\u001b[36mℹ\u001b[39m The error occurred in group 1: sample_name = \"HCT116\".\n",
     "output_type": "error",
     "traceback": [
      "\u001b[1m\u001b[33mError\u001b[39m in \u001b[1m\u001b[1m`mutate()`:\u001b[22m\n\u001b[1m\u001b[22m\u001b[33m!\u001b[39m Problem while computing `lfc_mean = lfc_mean - lfc_mean[insert_type ==\n  \"control\"]`.\n\u001b[31m✖\u001b[39m `lfc_mean` must be size 1, not 0.\n\u001b[36mℹ\u001b[39m The error occurred in group 1: sample_name = \"HCT116\".\nTraceback:\n",
      "1. lfc %>% print %>% filter(is.na(frame)) %>% group_by(sample_name) %>% \n .     mutate(lfc_mean = lfc_mean - lfc_mean[insert_type == \"control\"]) %>% \n .     ungroup() %>% print()",
      "2. print(.)",
      "3. ungroup(.)",
      "4. mutate(., lfc_mean = lfc_mean - lfc_mean[insert_type == \"control\"])",
      "5. mutate.data.frame(., lfc_mean = lfc_mean - lfc_mean[insert_type == \n .     \"control\"])",
      "6. mutate_cols(.data, dplyr_quosures(...), caller_env = caller_env())",
      "7. withCallingHandlers({\n .     for (i in seq_along(dots)) {\n .         context_poke(\"column\", old_current_column)\n .         quosures <- expand_across(dots[[i]])\n .         quosures_results <- vector(mode = \"list\", length = length(quosures))\n .         for (k in seq_along(quosures)) {\n .             quo <- quosures[[k]]\n .             quo_data <- attr(quo, \"dplyr:::data\")\n .             if (!is.null(quo_data$column)) {\n .                 context_poke(\"column\", quo_data$column)\n .             }\n .             chunks <- NULL\n .             result <- NULL\n .             if (quo_is_symbol(quo)) {\n .                 name <- as_string(quo_get_expr(quo))\n .                 if (name %in% names(new_columns)) {\n .                   result <- new_columns[[name]]\n .                   chunks <- mask$resolve(name)\n .                 }\n .                 else if (name %in% names(.data)) {\n .                   result <- .data[[name]]\n .                   chunks <- mask$resolve(name)\n .                 }\n .                 if (inherits(.data, \"rowwise_df\") && vec_is_list(result)) {\n .                   sizes <- list_sizes(result)\n .                   wrong <- which(sizes != 1)\n .                   if (length(wrong)) {\n .                     group <- wrong[1L]\n .                     mask$set_current_group(group)\n .                     abort(class = c(\"dplyr:::mutate_incompatible_size\", \n .                       \"dplyr:::internal_error\"), dplyr_error_data = list(result_size = sizes[group], \n .                       expected_size = 1))\n .                   }\n .                 }\n .             }\n .             else if (!quo_is_symbolic(quo) && !is.null(quo_get_expr(quo))) {\n .                 result <- quo_get_expr(quo)\n .                 result <- withCallingHandlers(vec_recycle(result, \n .                   vec_size(.data)), error = function(cnd) {\n .                   abort(class = c(\"dplyr:::mutate_constant_recycle_error\", \n .                     \"dplyr:::internal_error\"), constant_size = vec_size(result), \n .                     data_size = vec_size(.data))\n .                 })\n .                 chunks <- vec_chop(result, rows)\n .             }\n .             if (is.null(chunks)) {\n .                 if (is.null(quo_data$column)) {\n .                   chunks <- mask$eval_all_mutate(quo)\n .                 }\n .                 else {\n .                   chunks <- withCallingHandlers(mask$eval_all_mutate(quo), \n .                     error = function(cnd) {\n .                       msg <- glue(\"Problem while computing column `{quo_data$name_auto}`.\")\n .                       abort(msg, call = call(\"across\"), parent = cnd)\n .                     })\n .                 }\n .             }\n .             if (is.null(chunks)) {\n .                 next\n .             }\n .             if (is.null(result)) {\n .                 if (length(rows) == 1) {\n .                   result <- chunks[[1]]\n .                 }\n .                 else {\n .                   chunks <- dplyr_vec_cast_common(chunks, quo_data$name_auto)\n .                   result <- vec_unchop(chunks, rows)\n .                 }\n .             }\n .             quosures_results[[k]] <- list(result = result, chunks = chunks)\n .         }\n .         for (k in seq_along(quosures)) {\n .             quo <- quosures[[k]]\n .             quo_data <- attr(quo, \"dplyr:::data\")\n .             quo_result <- quosures_results[[k]]\n .             if (is.null(quo_result)) {\n .                 if (quo_data$is_named) {\n .                   name <- quo_data$name_given\n .                   new_columns[[name]] <- zap()\n .                   mask$remove(name)\n .                 }\n .                 next\n .             }\n .             result <- quo_result$result\n .             chunks <- quo_result$chunks\n .             if (!quo_data$is_named && is.data.frame(result)) {\n .                 types <- vec_ptype(result)\n .                 types_names <- names(types)\n .                 chunks_extracted <- .Call(dplyr_extract_chunks, \n .                   chunks, types)\n .                 for (j in seq_along(types)) {\n .                   mask$add_one(types_names[j], chunks_extracted[[j]], \n .                     result = result[[j]])\n .                 }\n .                 new_columns[types_names] <- result\n .             }\n .             else {\n .                 name <- quo_data$name_auto\n .                 mask$add_one(name = name, chunks = chunks, result = result)\n .                 new_columns[[name]] <- result\n .             }\n .         }\n .     }\n . }, error = function(e) {\n .     local_error_context(dots = dots, .index = i, mask = mask)\n .     bullets <- c(cnd_bullet_header(\"computing\"), mutate_bullets(e))\n .     abort(bullets, class = \"dplyr:::mutate_error\", parent = skip_internal_condition(e), \n .         bullets = bullets, call = error_call)\n . }, warning = function(w) {\n .     if (check_muffled_warning(w)) {\n .         maybe_restart(\"muffleWarning\")\n .     }\n .     local_error_context(dots = dots, .index = i, mask = mask)\n .     warn(c(cnd_bullet_header(\"computing\"), i = cnd_header(w), \n .         i = cnd_bullet_cur_group_label(what = \"warning\")))\n .     maybe_restart(\"muffleWarning\")\n . })",
      "8. mask$eval_all_mutate(quo)",
      "9. dplyr_internal_error(\"dplyr:::mutate_incompatible_size\", list(\n .     result_size = 0L, expected_size = 1L))",
      "10. abort(class = c(class, \"dplyr:::internal_error\"), dplyr_error_data = data)",
      "11. signal_abort(cnd, .file)",
      "12. signalCondition(cnd)",
      "13. (function (e) \n  . {\n  .     local_error_context(dots = dots, .index = i, mask = mask)\n  .     bullets <- c(cnd_bullet_header(\"computing\"), mutate_bullets(e))\n  .     abort(bullets, class = \"dplyr:::mutate_error\", parent = skip_internal_condition(e), \n  .         bullets = bullets, call = error_call)\n  . })(structure(list(message = \"\", trace = structure(list(call = list(\n  .     IRkernel::main(), kernel$run(), handle_shell(), executor$execute(msg), \n  .     tryCatch(evaluate(request$content$code, envir = .GlobalEnv, \n  .         output_handler = oh, stop_on_error = 1L), interrupt = function(cond) {\n  .         log_debug(\"Interrupt during execution\")\n  .         interrupted <<- TRUE\n  .     }, error = .self$handle_error), tryCatchList(expr, classes, \n  .         parentenv, handlers), tryCatchOne(tryCatchList(expr, \n  .         names[-nh], parentenv, handlers[-nh]), names[nh], parentenv, \n  .         handlers[[nh]]), doTryCatch(return(expr), name, parentenv, \n  .         handler), tryCatchList(expr, names[-nh], parentenv, handlers[-nh]), \n  .     tryCatchOne(expr, names, parentenv, handlers[[1L]]), doTryCatch(return(expr), \n  .         name, parentenv, handler), evaluate(request$content$code, \n  .         envir = .GlobalEnv, output_handler = oh, stop_on_error = 1L), \n  .     evaluate_call(expr, parsed$src[[i]], envir = envir, enclos = enclos, \n  .         debug = debug, last = i == length(out), use_try = stop_on_error != \n  .             2L, keep_warning = keep_warning, keep_message = keep_message, \n  .         output_handler = output_handler, include_timing = include_timing), \n  .     timing_fn(handle(ev <- withCallingHandlers(withVisible(eval_with_user_handlers(expr, \n  .         envir, enclos, user_handlers)), warning = wHandler, error = eHandler, \n  .         message = mHandler))), handle(ev <- withCallingHandlers(withVisible(eval_with_user_handlers(expr, \n  .         envir, enclos, user_handlers)), warning = wHandler, error = eHandler, \n  .         message = mHandler)), try(f, silent = TRUE), tryCatch(expr, \n  .         error = function(e) {\n  .             call <- conditionCall(e)\n  .             if (!is.null(call)) {\n  .                 if (identical(call[[1L]], quote(doTryCatch))) \n  .                   call <- sys.call(-4L)\n  .                 dcall <- deparse(call, nlines = 1L)\n  .                 prefix <- paste(\"Error in\", dcall, \": \")\n  .                 LONG <- 75L\n  .                 sm <- strsplit(conditionMessage(e), \"\\n\")[[1L]]\n  .                 w <- 14L + nchar(dcall, type = \"w\") + nchar(sm[1L], \n  .                   type = \"w\")\n  .                 if (is.na(w)) \n  .                   w <- 14L + nchar(dcall, type = \"b\") + nchar(sm[1L], \n  .                     type = \"b\")\n  .                 if (w > LONG) \n  .                   prefix <- paste0(prefix, \"\\n  \")\n  .             }\n  .             else prefix <- \"Error : \"\n  .             msg <- paste0(prefix, conditionMessage(e), \"\\n\")\n  .             .Internal(seterrmessage(msg[1L]))\n  .             if (!silent && isTRUE(getOption(\"show.error.messages\"))) {\n  .                 cat(msg, file = outFile)\n  .                 .Internal(printDeferredWarnings())\n  .             }\n  .             invisible(structure(msg, class = \"try-error\", condition = e))\n  .         }), tryCatchList(expr, classes, parentenv, handlers), \n  .     tryCatchOne(expr, names, parentenv, handlers[[1L]]), doTryCatch(return(expr), \n  .         name, parentenv, handler), withCallingHandlers(withVisible(eval_with_user_handlers(expr, \n  .         envir, enclos, user_handlers)), warning = wHandler, error = eHandler, \n  .         message = mHandler), withVisible(eval_with_user_handlers(expr, \n  .         envir, enclos, user_handlers)), eval_with_user_handlers(expr, \n  .         envir, enclos, user_handlers), eval(expr, envir, enclos), \n  .     eval(expr, envir, enclos), lfc %>% print %>% filter(is.na(frame)) %>% \n  .         group_by(sample_name) %>% mutate(lfc_mean = lfc_mean - \n  .         lfc_mean[insert_type == \"control\"]) %>% ungroup() %>% \n  .         print(), print(.), ungroup(.), mutate(., lfc_mean = lfc_mean - \n  .         lfc_mean[insert_type == \"control\"]), mutate.data.frame(., \n  .         lfc_mean = lfc_mean - lfc_mean[insert_type == \"control\"]), \n  .     mutate_cols(.data, dplyr_quosures(...), caller_env = caller_env()), \n  .     withCallingHandlers({\n  .         for (i in seq_along(dots)) {\n  .             context_poke(\"column\", old_current_column)\n  .             quosures <- expand_across(dots[[i]])\n  .             quosures_results <- vector(mode = \"list\", length = length(quosures))\n  .             for (k in seq_along(quosures)) {\n  .                 quo <- quosures[[k]]\n  .                 quo_data <- attr(quo, \"dplyr:::data\")\n  .                 if (!is.null(quo_data$column)) {\n  .                   context_poke(\"column\", quo_data$column)\n  .                 }\n  .                 chunks <- NULL\n  .                 result <- NULL\n  .                 if (quo_is_symbol(quo)) {\n  .                   name <- as_string(quo_get_expr(quo))\n  .                   if (name %in% names(new_columns)) {\n  .                     result <- new_columns[[name]]\n  .                     chunks <- mask$resolve(name)\n  .                   }\n  .                   else if (name %in% names(.data)) {\n  .                     result <- .data[[name]]\n  .                     chunks <- mask$resolve(name)\n  .                   }\n  .                   if (inherits(.data, \"rowwise_df\") && vec_is_list(result)) {\n  .                     sizes <- list_sizes(result)\n  .                     wrong <- which(sizes != 1)\n  .                     if (length(wrong)) {\n  .                       group <- wrong[1L]\n  .                       mask$set_current_group(group)\n  .                       abort(class = c(\"dplyr:::mutate_incompatible_size\", \n  .                         \"dplyr:::internal_error\"), dplyr_error_data = list(result_size = sizes[group], \n  .                         expected_size = 1))\n  .                     }\n  .                   }\n  .                 }\n  .                 else if (!quo_is_symbolic(quo) && !is.null(quo_get_expr(quo))) {\n  .                   result <- quo_get_expr(quo)\n  .                   result <- withCallingHandlers(vec_recycle(result, \n  .                     vec_size(.data)), error = function(cnd) {\n  .                     abort(class = c(\"dplyr:::mutate_constant_recycle_error\", \n  .                       \"dplyr:::internal_error\"), constant_size = vec_size(result), \n  .                       data_size = vec_size(.data))\n  .                   })\n  .                   chunks <- vec_chop(result, rows)\n  .                 }\n  .                 if (is.null(chunks)) {\n  .                   if (is.null(quo_data$column)) {\n  .                     chunks <- mask$eval_all_mutate(quo)\n  .                   }\n  .                   else {\n  .                     chunks <- withCallingHandlers(mask$eval_all_mutate(quo), \n  .                       error = function(cnd) {\n  .                         msg <- glue(\"Problem while computing column `{quo_data$name_auto}`.\")\n  .                         abort(msg, call = call(\"across\"), parent = cnd)\n  .                       })\n  .                   }\n  .                 }\n  .                 if (is.null(chunks)) {\n  .                   next\n  .                 }\n  .                 if (is.null(result)) {\n  .                   if (length(rows) == 1) {\n  .                     result <- chunks[[1]]\n  .                   }\n  .                   else {\n  .                     chunks <- dplyr_vec_cast_common(chunks, quo_data$name_auto)\n  .                     result <- vec_unchop(chunks, rows)\n  .                   }\n  .                 }\n  .                 quosures_results[[k]] <- list(result = result, \n  .                   chunks = chunks)\n  .             }\n  .             for (k in seq_along(quosures)) {\n  .                 quo <- quosures[[k]]\n  .                 quo_data <- attr(quo, \"dplyr:::data\")\n  .                 quo_result <- quosures_results[[k]]\n  .                 if (is.null(quo_result)) {\n  .                   if (quo_data$is_named) {\n  .                     name <- quo_data$name_given\n  .                     new_columns[[name]] <- zap()\n  .                     mask$remove(name)\n  .                   }\n  .                   next\n  .                 }\n  .                 result <- quo_result$result\n  .                 chunks <- quo_result$chunks\n  .                 if (!quo_data$is_named && is.data.frame(result)) {\n  .                   types <- vec_ptype(result)\n  .                   types_names <- names(types)\n  .                   chunks_extracted <- .Call(dplyr_extract_chunks, \n  .                     chunks, types)\n  .                   for (j in seq_along(types)) {\n  .                     mask$add_one(types_names[j], chunks_extracted[[j]], \n  .                       result = result[[j]])\n  .                   }\n  .                   new_columns[types_names] <- result\n  .                 }\n  .                 else {\n  .                   name <- quo_data$name_auto\n  .                   mask$add_one(name = name, chunks = chunks, \n  .                     result = result)\n  .                   new_columns[[name]] <- result\n  .                 }\n  .             }\n  .         }\n  .     }, error = function(e) {\n  .         local_error_context(dots = dots, .index = i, mask = mask)\n  .         bullets <- c(cnd_bullet_header(\"computing\"), mutate_bullets(e))\n  .         abort(bullets, class = \"dplyr:::mutate_error\", parent = skip_internal_condition(e), \n  .             bullets = bullets, call = error_call)\n  .     }, warning = function(w) {\n  .         if (check_muffled_warning(w)) {\n  .             maybe_restart(\"muffleWarning\")\n  .         }\n  .         local_error_context(dots = dots, .index = i, mask = mask)\n  .         warn(c(cnd_bullet_header(\"computing\"), i = cnd_header(w), \n  .             i = cnd_bullet_cur_group_label(what = \"warning\")))\n  .         maybe_restart(\"muffleWarning\")\n  .     }), mask$eval_all_mutate(quo), dplyr_internal_error(\"dplyr:::mutate_incompatible_size\", \n  .         `<named list>`), abort(class = c(class, \"dplyr:::internal_error\"), \n  .         dplyr_error_data = data)), parent = c(0L, 1L, 2L, 3L, \n  . 4L, 5L, 6L, 7L, 6L, 9L, 10L, 4L, 12L, 13L, 13L, 15L, 16L, 17L, \n  . 18L, 19L, 13L, 13L, 13L, 23L, 24L, 0L, 0L, 0L, 0L, 0L, 30L, 31L, \n  . 31L, 0L, 34L), visible = c(TRUE, TRUE, TRUE, TRUE, TRUE, TRUE, \n  . TRUE, TRUE, TRUE, TRUE, TRUE, TRUE, TRUE, TRUE, TRUE, TRUE, TRUE, \n  . TRUE, TRUE, TRUE, TRUE, TRUE, TRUE, TRUE, TRUE, TRUE, TRUE, TRUE, \n  . TRUE, TRUE, TRUE, TRUE, TRUE, TRUE, FALSE), namespace = c(\"IRkernel\", \n  . NA, \"IRkernel\", NA, \"base\", \"base\", \"base\", \"base\", \"base\", \"base\", \n  . \"base\", \"evaluate\", \"evaluate\", \"evaluate\", \"evaluate\", \"base\", \n  . \"base\", \"base\", \"base\", \"base\", \"base\", \"base\", \"evaluate\", \"base\", \n  . \"base\", NA, \"base\", \"dplyr\", \"dplyr\", \"dplyr\", \"dplyr\", \"base\", \n  . NA, \"dplyr\", \"rlang\"), scope = c(\"::\", NA, \"local\", NA, \"::\", \n  . \"local\", \"local\", \"local\", \"local\", \"local\", \"local\", \"::\", \":::\", \n  . \"local\", \"local\", \"::\", \"::\", \"local\", \"local\", \"local\", \"::\", \n  . \"::\", \":::\", \"::\", \"::\", NA, \"::\", \"::\", \"::\", \":::\", \":::\", \n  . \"::\", NA, \":::\", \"::\"), error_frame = c(FALSE, FALSE, FALSE, \n  . FALSE, FALSE, FALSE, FALSE, FALSE, FALSE, FALSE, FALSE, FALSE, \n  . FALSE, FALSE, FALSE, FALSE, FALSE, FALSE, FALSE, FALSE, FALSE, \n  . FALSE, FALSE, FALSE, FALSE, FALSE, FALSE, FALSE, FALSE, FALSE, \n  . FALSE, FALSE, FALSE, TRUE, FALSE)), row.names = c(NA, -35L), version = 2L, class = c(\"rlang_trace\", \n  . \"rlib_trace\", \"tbl\", \"data.frame\")), parent = NULL, dplyr_error_data = list(\n  .     result_size = 0L, expected_size = 1L), call = dplyr_internal_error(\"dplyr:::mutate_incompatible_size\", \n  .     list(result_size = 0L, expected_size = 1L)), use_cli_format = TRUE), class = c(\"dplyr:::mutate_incompatible_size\", \n  . \"dplyr:::internal_error\", \"rlang_error\", \"error\", \"condition\"\n  . )))",
      "14. abort(bullets, class = \"dplyr:::mutate_error\", parent = skip_internal_condition(e), \n  .     bullets = bullets, call = error_call)",
      "15. signal_abort(cnd, .file)"
     ]
    }
   ],
   "source": [
    "# Can't do this analysis until we figure out what happened to te SKVF control sequences\n",
    "# Misannotated somewhere at the linkage stage? Must've been.. \n",
    "\n",
    "plot_data <- lfc %>% print %>%\n",
    "  filter(is.na(frame)) %>% \n",
    "  group_by(sample_name) %>% \n",
    "  mutate(lfc_mean = lfc_mean - lfc_mean[insert_type == \"control\"]) %>% \n",
    "  ungroup() %>% \n",
    "  print()\n",
    "  \n",
    "plot_data %>% \n",
    "  ggplot(aes(x = sample_name, y = lfc_mean, \n",
    "             ymin = lfc_mean - lfc_sd, ymax = lfc_mean + lfc_sd, color = insert_name)) +\n",
    "  scale_color_manual(values = cbPalette) +\n",
    "  geom_errorbar(width = 0.3, show.legend = F) + \n",
    "  geom_point() +\n",
    "  theme(axis.text.x = element_text(angle = 45, hjust = 1)) +\n",
    "  labs(x = \"Cell line\", y = \"mRNA level (log2, a.u.)\", color = \"\")\n",
    "\n",
    "# ggsave(\"../figures/multiple_celllline_svkf_mrna_effect.pdf\")"
   ]
  },
  {
   "cell_type": "code",
   "execution_count": null,
   "metadata": {
    "vscode": {
     "languageId": "r"
    }
   },
   "outputs": [],
   "source": []
  }
 ],
 "metadata": {
  "kernelspec": {
   "display_name": "R_project_repo_1.13.0",
   "language": "R",
   "name": "ir_project_repo_1.13.0"
  },
  "language_info": {
   "codemirror_mode": "r",
   "file_extension": ".r",
   "mimetype": "text/x-r-source",
   "name": "R",
   "pygments_lexer": "r",
   "version": "4.1.3"
  },
  "orig_nbformat": 4,
  "vscode": {
   "interpreter": {
    "hash": "27bcb26b70cc9b89b66fa5d78caf7590339c97b4860fa5e6e791a51c713097ab"
   }
  }
 },
 "nbformat": 4,
 "nbformat_minor": 2
}
