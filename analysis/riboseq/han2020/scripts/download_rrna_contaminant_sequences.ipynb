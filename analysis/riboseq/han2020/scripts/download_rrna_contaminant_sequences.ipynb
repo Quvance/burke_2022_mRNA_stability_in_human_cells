{
 "cells": [
  {
   "cell_type": "markdown",
   "metadata": {},
   "source": [
    "### Download the 4 ribosomal rRNA sequences from NCBI\n",
    "\n",
    " * 28S - NR_003287.2\n",
    " * 18S - NR_003286.2\n",
    " * 5.8S - NR_003285.2\n",
    " * 5S - NR_023363.1"
   ]
  },
  {
   "cell_type": "markdown",
   "metadata": {},
   "source": [
    "#### Globals"
   ]
  },
  {
   "cell_type": "code",
   "execution_count": 7,
   "metadata": {
    "collapsed": true
   },
   "outputs": [],
   "source": [
    "from Bio import Entrez\n",
    "from Bio import SeqIO\n",
    "\n",
    "Entrez.email = 'rasi1983@gmail.com'\n",
    "\n",
    "refseqids = {'28S' : 'NR_003287.2',\n",
    "             '18S' : 'NR_003286.2',\n",
    "             '5.8S' : 'NR_003285.2',\n",
    "             '5S' : 'NR_023363.1',\n",
    "            }"
   ]
  },
  {
   "cell_type": "markdown",
   "metadata": {},
   "source": [
    "#### Fetch rRNA sequences from NCBI and Write to Fasta"
   ]
  },
  {
   "cell_type": "code",
   "execution_count": 12,
   "metadata": {
    "collapsed": false
   },
   "outputs": [],
   "source": [
    "outputlist = []\n",
    "for (name,ID) in refseqids.items():\n",
    "    # identify ids by searching\n",
    "    rec = Entrez.read(Entrez.esearch(db=\"nucleotide\", term=ID))\n",
    "    # retrieve full record for the found id\n",
    "    handle = Entrez.efetch(db=\"nucleotide\", id=rec[\"IdList\"][0], rettype=\"fasta\")\n",
    "    output = SeqIO.read(handle, 'fasta')\n",
    "    # clean up record to be minimalistic\n",
    "    output.id = ID\n",
    "    output.description = output.name = ''\n",
    "    outputlist.append(output)\n",
    "    \n",
    "SeqIO.write(outputlist, '../data/reference_sequences/hg38.rrna.fasta', 'fasta')"
   ]
  }
 ],
 "metadata": {
  "kernelspec": {
   "display_name": "Python 3.7.11 ('base')",
   "language": "python",
   "name": "python3"
  },
  "language_info": {
   "codemirror_mode": {
    "name": "ipython",
    "version": 3
   },
   "file_extension": ".py",
   "mimetype": "text/x-python",
   "name": "python",
   "nbconvert_exporter": "python",
   "pygments_lexer": "ipython3",
   "version": "3.7.11"
  },
  "vscode": {
   "interpreter": {
    "hash": "33ccdda4403b85622dcca6b225ea57e4a6a8ea27d62bd4ef32f6f7605d06a567"
   }
  }
 },
 "nbformat": 4,
 "nbformat_minor": 0
}
