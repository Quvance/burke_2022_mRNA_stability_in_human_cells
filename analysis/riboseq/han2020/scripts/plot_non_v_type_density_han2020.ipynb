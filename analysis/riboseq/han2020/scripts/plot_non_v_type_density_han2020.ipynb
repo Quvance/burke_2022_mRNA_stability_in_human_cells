{
 "cells": [
  {
   "cell_type": "markdown",
   "metadata": {},
   "source": [
    "# Plot aggregate ribosome density around motifs"
   ]
  },
  {
   "cell_type": "markdown",
   "metadata": {},
   "source": [
    "## Load libraries and define analysis-specific parameters"
   ]
  },
  {
   "cell_type": "code",
   "execution_count": 1,
   "metadata": {
    "vscode": {
     "languageId": "r"
    }
   },
   "outputs": [
    {
     "name": "stderr",
     "output_type": "stream",
     "text": [
      "Loading required package: GenomicRanges\n",
      "\n",
      "Loading required package: stats4\n",
      "\n",
      "Loading required package: BiocGenerics\n",
      "\n",
      "\n",
      "Attaching package: ‘BiocGenerics’\n",
      "\n",
      "\n",
      "The following objects are masked from ‘package:stats’:\n",
      "\n",
      "    IQR, mad, sd, var, xtabs\n",
      "\n",
      "\n",
      "The following objects are masked from ‘package:base’:\n",
      "\n",
      "    anyDuplicated, append, as.data.frame, basename, cbind, colnames,\n",
      "    dirname, do.call, duplicated, eval, evalq, Filter, Find, get, grep,\n",
      "    grepl, intersect, is.unsorted, lapply, Map, mapply, match, mget,\n",
      "    order, paste, pmax, pmax.int, pmin, pmin.int, Position, rank,\n",
      "    rbind, Reduce, rownames, sapply, setdiff, sort, table, tapply,\n",
      "    union, unique, unsplit, which.max, which.min\n",
      "\n",
      "\n",
      "Loading required package: S4Vectors\n",
      "\n",
      "\n",
      "Attaching package: ‘S4Vectors’\n",
      "\n",
      "\n",
      "The following objects are masked from ‘package:base’:\n",
      "\n",
      "    expand.grid, I, unname\n",
      "\n",
      "\n",
      "Loading required package: IRanges\n",
      "\n",
      "\n",
      "Attaching package: ‘IRanges’\n",
      "\n",
      "\n",
      "The following object is masked from ‘package:glue’:\n",
      "\n",
      "    trim\n",
      "\n",
      "\n",
      "Loading required package: GenomeInfoDb\n",
      "\n",
      "Loading required package: AnnotationDbi\n",
      "\n",
      "Loading required package: Biobase\n",
      "\n",
      "Welcome to Bioconductor\n",
      "\n",
      "    Vignettes contain introductory material; view with\n",
      "    'browseVignettes()'. To cite Bioconductor, see\n",
      "    'citation(\"Biobase\")', and for packages 'citation(\"pkgname\")'.\n",
      "\n",
      "\n",
      "\n",
      "Attaching package: ‘plyranges’\n",
      "\n",
      "\n",
      "The following object is masked from ‘package:AnnotationDbi’:\n",
      "\n",
      "    select\n",
      "\n",
      "\n",
      "The following object is masked from ‘package:IRanges’:\n",
      "\n",
      "    slice\n",
      "\n",
      "\n",
      "The following object is masked from ‘package:stats’:\n",
      "\n",
      "    filter\n",
      "\n",
      "\n",
      "── \u001b[1mAttaching packages\u001b[22m ─────────────────────────────────────── tidyverse 1.3.1 ──\n",
      "\n",
      "\u001b[32m✔\u001b[39m \u001b[34mggplot2\u001b[39m 3.3.5     \u001b[32m✔\u001b[39m \u001b[34mpurrr  \u001b[39m 0.3.4\n",
      "\u001b[32m✔\u001b[39m \u001b[34mtibble \u001b[39m 3.1.7     \u001b[32m✔\u001b[39m \u001b[34mdplyr  \u001b[39m 1.0.7\n",
      "\u001b[32m✔\u001b[39m \u001b[34mtidyr  \u001b[39m 1.1.4     \u001b[32m✔\u001b[39m \u001b[34mstringr\u001b[39m 1.4.0\n",
      "\u001b[32m✔\u001b[39m \u001b[34mreadr  \u001b[39m 2.0.2     \u001b[32m✔\u001b[39m \u001b[34mforcats\u001b[39m 0.5.1\n",
      "\n",
      "── \u001b[1mConflicts\u001b[22m ────────────────────────────────────────── tidyverse_conflicts() ──\n",
      "\u001b[31m✖\u001b[39m \u001b[34mdplyr\u001b[39m::\u001b[32mbetween()\u001b[39m    masks \u001b[34mplyranges\u001b[39m::between()\n",
      "\u001b[31m✖\u001b[39m \u001b[34mdplyr\u001b[39m::\u001b[32mcollapse()\u001b[39m   masks \u001b[34mIRanges\u001b[39m::collapse()\n",
      "\u001b[31m✖\u001b[39m \u001b[34mdplyr\u001b[39m::\u001b[32mcombine()\u001b[39m    masks \u001b[34mBiobase\u001b[39m::combine(), \u001b[34mBiocGenerics\u001b[39m::combine()\n",
      "\u001b[31m✖\u001b[39m \u001b[34mdplyr\u001b[39m::\u001b[32mdesc()\u001b[39m       masks \u001b[34mIRanges\u001b[39m::desc()\n",
      "\u001b[31m✖\u001b[39m \u001b[34mtidyr\u001b[39m::\u001b[32mexpand()\u001b[39m     masks \u001b[34mS4Vectors\u001b[39m::expand()\n",
      "\u001b[31m✖\u001b[39m \u001b[34mdplyr\u001b[39m::\u001b[32mfilter()\u001b[39m     masks \u001b[34mplyranges\u001b[39m::filter(), \u001b[34mstats\u001b[39m::filter()\n",
      "\u001b[31m✖\u001b[39m \u001b[34mdplyr\u001b[39m::\u001b[32mfirst()\u001b[39m      masks \u001b[34mS4Vectors\u001b[39m::first()\n",
      "\u001b[31m✖\u001b[39m \u001b[34mdplyr\u001b[39m::\u001b[32mlag()\u001b[39m        masks \u001b[34mstats\u001b[39m::lag()\n",
      "\u001b[31m✖\u001b[39m \u001b[34mdplyr\u001b[39m::\u001b[32mn()\u001b[39m          masks \u001b[34mplyranges\u001b[39m::n()\n",
      "\u001b[31m✖\u001b[39m \u001b[34mdplyr\u001b[39m::\u001b[32mn_distinct()\u001b[39m masks \u001b[34mplyranges\u001b[39m::n_distinct()\n",
      "\u001b[31m✖\u001b[39m \u001b[34mggplot2\u001b[39m::\u001b[32mPosition()\u001b[39m masks \u001b[34mBiocGenerics\u001b[39m::Position(), \u001b[34mbase\u001b[39m::Position()\n",
      "\u001b[31m✖\u001b[39m \u001b[34mpurrr\u001b[39m::\u001b[32mreduce()\u001b[39m     masks \u001b[34mGenomicRanges\u001b[39m::reduce(), \u001b[34mIRanges\u001b[39m::reduce()\n",
      "\u001b[31m✖\u001b[39m \u001b[34mdplyr\u001b[39m::\u001b[32mrename()\u001b[39m     masks \u001b[34mS4Vectors\u001b[39m::rename()\n",
      "\u001b[31m✖\u001b[39m \u001b[34mdplyr\u001b[39m::\u001b[32mselect()\u001b[39m     masks \u001b[34mplyranges\u001b[39m::select(), \u001b[34mAnnotationDbi\u001b[39m::select()\n",
      "\u001b[31m✖\u001b[39m \u001b[34mdplyr\u001b[39m::\u001b[32mslice()\u001b[39m      masks \u001b[34mplyranges\u001b[39m::slice(), \u001b[34mIRanges\u001b[39m::slice()\n",
      "\n",
      "\u001b[1mRows: \u001b[22m\u001b[34m19174\u001b[39m \u001b[1mColumns: \u001b[22m\u001b[34m7\u001b[39m\n",
      "\u001b[36m──\u001b[39m \u001b[1mColumn specification\u001b[22m \u001b[36m────────────────────────────────────────────────────────\u001b[39m\n",
      "\u001b[1mDelimiter:\u001b[22m \"\\t\"\n",
      "\u001b[31mchr\u001b[39m (4): transcript_id, gene_id, gene_name, ccdsid\n",
      "\u001b[32mdbl\u001b[39m (3): utr5_length, cds_length, utr3_length\n",
      "\n",
      "\u001b[36mℹ\u001b[39m Use `spec()` to retrieve the full column specification for this data.\n",
      "\u001b[36mℹ\u001b[39m Specify the column types or set `show_col_types = FALSE` to quiet this message.\n",
      "\u001b[1mRows: \u001b[22m\u001b[34m38287\u001b[39m \u001b[1mColumns: \u001b[22m\u001b[34m7\u001b[39m\n",
      "\u001b[36m──\u001b[39m \u001b[1mColumn specification\u001b[22m \u001b[36m────────────────────────────────────────────────────────\u001b[39m\n",
      "\u001b[1mDelimiter:\u001b[22m \"\\t\"\n",
      "\u001b[31mchr\u001b[39m (5): gene_name, transcript_id, motif, motif_type, nt72\n",
      "\u001b[32mdbl\u001b[39m (2): loc, strength\n",
      "\n",
      "\u001b[36mℹ\u001b[39m Use `spec()` to retrieve the full column specification for this data.\n",
      "\u001b[36mℹ\u001b[39m Specify the column types or set `show_col_types = FALSE` to quiet this message.\n"
     ]
    }
   ],
   "source": [
    "library(glue)\n",
    "library(rtracklayer)\n",
    "library(GenomicFeatures)\n",
    "library(plyranges)\n",
    "library(tidyverse)\n",
    "\n",
    "theme_rasilab <- function() {\n",
    "  theme_classic(base_family = \"Helvetica\", base_size = 6) +\n",
    "    theme(\n",
    "      strip.background = ggplot2::element_blank(),\n",
    "      legend.text = element_text(size = 6),\n",
    "      strip.text.x = element_text(size = 6),\n",
    "    )\n",
    "}\n",
    "\n",
    "cbPalette <- c(\"#999999\", \"#E69F00\", \"#56B4E9\", \"#009E73\", \"#F0E442\", \"#0072B2\", \"#D55E00\", \"#CC79A7\")\n",
    "\n",
    "theme_set(theme_rasilab())\n",
    "\n",
    "ccds_annotations <- read_tsv(\"../data/gencode/gencode.v32.canonical_ccds.parameters.tsv.gz\")\n",
    "kk_type_motif_annotations <- read_tsv(\"../data/motif_counts/non_v_motifs.tsv.gz\")\n",
    "\n",
    "studies_analyzed = \"han2020\"\n",
    "samples_analyzed = \"\"\n",
    "cell_types_analyzed = \"293\""
   ]
  },
  {
   "cell_type": "markdown",
   "metadata": {},
   "source": [
    "## Load sample annotations"
   ]
  },
  {
   "cell_type": "code",
   "execution_count": 2,
   "metadata": {
    "vscode": {
     "languageId": "r"
    }
   },
   "outputs": [
    {
     "name": "stderr",
     "output_type": "stream",
     "text": [
      "\u001b[1mRows: \u001b[22m\u001b[34m2\u001b[39m \u001b[1mColumns: \u001b[22m\u001b[34m27\u001b[39m\n",
      "\u001b[36m──\u001b[39m \u001b[1mColumn specification\u001b[22m \u001b[36m────────────────────────────────────────────────────────\u001b[39m\n",
      "\u001b[1mDelimiter:\u001b[22m \"\\t\"\n",
      "\u001b[31mchr\u001b[39m (18): srr, gsm, sample_name, gse, cell_type, study, study_subset, organi...\n",
      "\u001b[32mdbl\u001b[39m  (1): pmid\n",
      "\u001b[33mlgl\u001b[39m  (8): adapter, trim5, trim3, trim_condition, comment, sample_subset, his...\n",
      "\n",
      "\u001b[36mℹ\u001b[39m Use `spec()` to retrieve the full column specification for this data.\n",
      "\u001b[36mℹ\u001b[39m Specify the column types or set `show_col_types = FALSE` to quiet this message.\n"
     ]
    },
    {
     "name": "stdout",
     "output_type": "stream",
     "text": [
      "\u001b[90m# A tibble: 2 × 3\u001b[39m\n",
      "  gsm        study   sample_name  \n",
      "  \u001b[3m\u001b[90m<chr>\u001b[39m\u001b[23m      \u001b[3m\u001b[90m<chr>\u001b[39m\u001b[23m   \u001b[3m\u001b[90m<chr>\u001b[39m\u001b[23m        \n",
      "\u001b[90m1\u001b[39m GSM3907597 han2020 monosome_rep1\n",
      "\u001b[90m2\u001b[39m GSM3907598 han2020 monosome_rep2\n"
     ]
    }
   ],
   "source": [
    "sample_annotations <- read_tsv(\"../annotations/sra_annotations.tsv\") %>%\n",
    "  filter(str_detect(study, studies_analyzed)) %>%\n",
    "  filter(str_detect(sample_name, samples_analyzed)) %>%\n",
    "  filter(str_detect(cell_type, cell_types_analyzed)) %>%\n",
    "  select(gsm, study, sample_name) %>%\n",
    "  group_by(gsm) %>% \n",
    "  slice(1) %>% \n",
    "  ungroup() %>% \n",
    "  print()"
   ]
  },
  {
   "cell_type": "markdown",
   "metadata": {},
   "source": [
    "## Load ribosome density around motifs in samples of interest"
   ]
  },
  {
   "cell_type": "code",
   "execution_count": 3,
   "metadata": {
    "vscode": {
     "languageId": "r"
    }
   },
   "outputs": [
    {
     "name": "stderr",
     "output_type": "stream",
     "text": [
      "\u001b[1mRows: \u001b[22m\u001b[34m4998\u001b[39m \u001b[1mColumns: \u001b[22m\u001b[34m111\u001b[39m\n",
      "\u001b[36m──\u001b[39m \u001b[1mColumn specification\u001b[22m \u001b[36m────────────────────────────────────────────────────────\u001b[39m\n",
      "\u001b[1mDelimiter:\u001b[22m \"\\t\"\n",
      "\u001b[31mchr\u001b[39m   (5): gene_name, transcript_id, motif, motif_type, nt72\n",
      "\u001b[32mdbl\u001b[39m (106): loc, strength, cds_read_density, cds_read_count, start, end, -50,...\n",
      "\n",
      "\u001b[36mℹ\u001b[39m Use `spec()` to retrieve the full column specification for this data.\n",
      "\u001b[36mℹ\u001b[39m Specify the column types or set `show_col_types = FALSE` to quiet this message.\n",
      "\u001b[1mRows: \u001b[22m\u001b[34m5188\u001b[39m \u001b[1mColumns: \u001b[22m\u001b[34m111\u001b[39m\n",
      "\u001b[36m──\u001b[39m \u001b[1mColumn specification\u001b[22m \u001b[36m────────────────────────────────────────────────────────\u001b[39m\n",
      "\u001b[1mDelimiter:\u001b[22m \"\\t\"\n",
      "\u001b[31mchr\u001b[39m   (5): gene_name, transcript_id, motif, motif_type, nt72\n",
      "\u001b[32mdbl\u001b[39m (106): loc, strength, cds_read_density, cds_read_count, start, end, -50,...\n",
      "\n",
      "\u001b[36mℹ\u001b[39m Use `spec()` to retrieve the full column specification for this data.\n",
      "\u001b[36mℹ\u001b[39m Specify the column types or set `show_col_types = FALSE` to quiet this message.\n"
     ]
    },
    {
     "name": "stdout",
     "output_type": "stream",
     "text": [
      "\u001b[90m# A tibble: 1,017,250 × 19\u001b[39m\n",
      "   gsm        study   sample_name   gene_name transcript_id   loc motif strength\n",
      "   \u001b[3m\u001b[90m<chr>\u001b[39m\u001b[23m      \u001b[3m\u001b[90m<chr>\u001b[39m\u001b[23m   \u001b[3m\u001b[90m<chr>\u001b[39m\u001b[23m         \u001b[3m\u001b[90m<chr>\u001b[39m\u001b[23m     \u001b[3m\u001b[90m<chr>\u001b[39m\u001b[23m         \u001b[3m\u001b[90m<dbl>\u001b[39m\u001b[23m \u001b[3m\u001b[90m<chr>\u001b[39m\u001b[23m    \u001b[3m\u001b[90m<dbl>\u001b[39m\u001b[23m\n",
      "\u001b[90m 1\u001b[39m GSM3907598 han2020 monosome_rep2 HIST1H1E  ENST00000304…   646 KAVK…       23\n",
      "\u001b[90m 2\u001b[39m GSM3907598 han2020 monosome_rep2 HIST1H1E  ENST00000304…   646 KAVK…       23\n",
      "\u001b[90m 3\u001b[39m GSM3907598 han2020 monosome_rep2 HIST1H1E  ENST00000304…   646 KAVK…       23\n",
      "\u001b[90m 4\u001b[39m GSM3907598 han2020 monosome_rep2 HIST1H1E  ENST00000304…   646 KAVK…       23\n",
      "\u001b[90m 5\u001b[39m GSM3907598 han2020 monosome_rep2 HIST1H1E  ENST00000304…   646 KAVK…       23\n",
      "\u001b[90m 6\u001b[39m GSM3907598 han2020 monosome_rep2 HIST1H1E  ENST00000304…   646 KAVK…       23\n",
      "\u001b[90m 7\u001b[39m GSM3907598 han2020 monosome_rep2 HIST1H1E  ENST00000304…   646 KAVK…       23\n",
      "\u001b[90m 8\u001b[39m GSM3907598 han2020 monosome_rep2 HIST1H1E  ENST00000304…   646 KAVK…       23\n",
      "\u001b[90m 9\u001b[39m GSM3907598 han2020 monosome_rep2 HIST1H1E  ENST00000304…   646 KAVK…       23\n",
      "\u001b[90m10\u001b[39m GSM3907598 han2020 monosome_rep2 HIST1H1E  ENST00000304…   646 KAVK…       23\n",
      "\u001b[90m# … with 1,017,240 more rows, and 11 more variables: motif_type <fct>,\u001b[39m\n",
      "\u001b[90m#   nt72 <chr>, cds_read_density <dbl>, cds_read_count <dbl>, start <dbl>,\u001b[39m\n",
      "\u001b[90m#   end <dbl>, n_motifs <int>, y_order <int>, pos <int>, read_count <dbl>,\u001b[39m\n",
      "\u001b[90m#   read_density <dbl>\u001b[39m\n"
     ]
    }
   ],
   "source": [
    "cvg <- '../data/non_v_type_density/' %>% \n",
    "  list.files(full.names = T, pattern = 'tsv.gz$')  %>%\n",
    "  enframe(\"sno\", \"file\") %>%\n",
    "  mutate(gsm = str_extract(file, 'GSM[:digit:]+')) %>%\n",
    "  right_join(sample_annotations, by = \"gsm\") %>%\n",
    "  mutate(data = map(file, read_tsv)) %>%\n",
    "  mutate(n_motifs = map_int(data, nrow)) %>%\n",
    "  filter(n_motifs > 100) %>%\n",
    "  select(-sno, -file) %>%\n",
    "  unnest(data) %>%\n",
    "  group_by(sample_name) %>%\n",
    "  arrange(-cds_read_density) %>%\n",
    "  mutate(y_order = 1:n()) %>%\n",
    "  ungroup() %>%\n",
    "  pivot_longer(`-50`:`50`, names_to = 'pos', values_to = 'read_count') %>%\n",
    "  mutate(pos = as.integer(pos)) %>%\n",
    "  filter(read_count >= 0) %>%\n",
    "  mutate(read_density = read_count / cds_read_density) %>%\n",
    "  mutate(motif_type = fct_rev(motif_type)) %>%\n",
    "  print()"
   ]
  },
  {
   "cell_type": "markdown",
   "metadata": {},
   "source": [
    "## Plot position-average ribosome density across motifs of interest"
   ]
  },
  {
   "cell_type": "code",
   "execution_count": 17,
   "metadata": {
    "vscode": {
     "languageId": "r"
    }
   },
   "outputs": [
    {
     "name": "stderr",
     "output_type": "stream",
     "text": [
      "`summarise()` has grouped output by 'motif_type'. You can override using the `.groups` argument.\n"
     ]
    },
    {
     "name": "stdout",
     "output_type": "stream",
     "text": [
      "\u001b[90m# A tibble: 200 × 4\u001b[39m\n",
      "   motif_type   pos read_density     n\n",
      "   \u001b[3m\u001b[90m<fct>\u001b[39m\u001b[23m      \u001b[3m\u001b[90m<int>\u001b[39m\u001b[23m        \u001b[3m\u001b[90m<dbl>\u001b[39m\u001b[23m \u001b[3m\u001b[90m<int>\u001b[39m\u001b[23m\n",
      "\u001b[90m 1\u001b[39m stall        -\u001b[31m50\u001b[39m        0.705  \u001b[4m3\u001b[24m748\n",
      "\u001b[90m 2\u001b[39m stall        -\u001b[31m49\u001b[39m        0.943  \u001b[4m3\u001b[24m748\n",
      "\u001b[90m 3\u001b[39m stall        -\u001b[31m48\u001b[39m        1.64   \u001b[4m3\u001b[24m748\n",
      "\u001b[90m 4\u001b[39m stall        -\u001b[31m47\u001b[39m        0.645  \u001b[4m3\u001b[24m748\n",
      "\u001b[90m 5\u001b[39m stall        -\u001b[31m46\u001b[39m        0.932  \u001b[4m3\u001b[24m750\n",
      "\u001b[90m 6\u001b[39m stall        -\u001b[31m45\u001b[39m        1.58   \u001b[4m3\u001b[24m750\n",
      "\u001b[90m 7\u001b[39m stall        -\u001b[31m44\u001b[39m        0.728  \u001b[4m3\u001b[24m750\n",
      "\u001b[90m 8\u001b[39m stall        -\u001b[31m43\u001b[39m        0.940  \u001b[4m3\u001b[24m752\n",
      "\u001b[90m 9\u001b[39m stall        -\u001b[31m42\u001b[39m        1.56   \u001b[4m3\u001b[24m752\n",
      "\u001b[90m10\u001b[39m stall        -\u001b[31m41\u001b[39m        0.673  \u001b[4m3\u001b[24m754\n",
      "\u001b[90m# … with 190 more rows\u001b[39m\n"
     ]
    },
    {
     "name": "stderr",
     "output_type": "stream",
     "text": [
      "Warning message:\n",
      "“Ignoring unknown parameters: linewidth”\n",
      "Scale for 'y' is already present. Adding another scale for 'y', which will\n",
      "replace the existing scale.\n",
      "\n"
     ]
    },
    {
     "data": {
      "image/png": "[encoded data removed]",
      "text/plain": [
       "plot without title"
      ]
     },
     "metadata": {
      "image/png": {
       "height": 90,
       "width": 72
      }
     },
     "output_type": "display_data"
    }
   ],
   "source": [
    "options(repr.plot.width = 1.2, repr.plot.height = 1.5)\n",
    "plot_data <- cvg %>%\n",
    "  group_by(transcript_id) %>% \n",
    "  mutate(has_vk_type_stall = if_else(max(strength) >= 9, T, F)) %>% \n",
    "  ungroup() %>% \n",
    "  filter(has_vk_type_stall) %>% \n",
    "  unite(sample_name, study, sample_name, sep=\":\") %>% \n",
    "  group_by(motif_type, pos) %>% \n",
    "  summarize(read_density = mean(read_density), n = dplyr::n()) %>% \n",
    "  ungroup() %>% \n",
    "  # filter(pos >= 22, pos <= 27) %>%\n",
    "  print()\n",
    "\n",
    "plot_data %>%\n",
    "  ggplot(aes(x = pos, y = read_density, color = motif_type)) +\n",
    "  # facet_wrap(~ sample_name, scales = \"free_x\") +\n",
    "  geom_line(linewidth = 2) +\n",
    "  scale_color_manual(values = c(cbPalette[c(2,1)])) +\n",
    "  theme(legend.position = \"top\") +\n",
    "  scale_y_continuous(breaks = c(0.5, 1.5, 2.5)) +\n",
    "  ylim(0.5, 2.5)+\n",
    "  labs(x = \"Distance from motif (nt)\", y = \"Ribosome density (a.u.)\", color = \"\") +\n",
    "  theme(legend.position = \"top\", legend.key.width = unit(0.3, \"cm\")) +\n",
    "  NULL\n",
    "\n",
    "ggsave(\"../figures/non_v_type_ribosome_density.pdf\", width = 1.2, height = 1.5)"
   ]
  },
  {
   "cell_type": "markdown",
   "metadata": {},
   "source": [
    "## Calculate and plot aggregate motif density within a window"
   ]
  },
  {
   "cell_type": "code",
   "execution_count": 5,
   "metadata": {
    "vscode": {
     "languageId": "r"
    }
   },
   "outputs": [
    {
     "name": "stderr",
     "output_type": "stream",
     "text": [
      "`summarise()` has grouped output by 'motif_type', 'y_order'. You can override using the `.groups` argument.\n"
     ]
    },
    {
     "name": "stdout",
     "output_type": "stream",
     "text": [
      "\u001b[90m# A tibble: 7,555 × 4\u001b[39m\n",
      "   motif_type y_order transcript_id     read_density\n",
      "   \u001b[3m\u001b[90m<fct>\u001b[39m\u001b[23m        \u001b[3m\u001b[90m<int>\u001b[39m\u001b[23m \u001b[3m\u001b[90m<chr>\u001b[39m\u001b[23m                    \u001b[3m\u001b[90m<dbl>\u001b[39m\u001b[23m\n",
      "\u001b[90m 1\u001b[39m stall            1 ENST00000304218.5        1.74 \n",
      "\u001b[90m 2\u001b[39m stall            3 ENST00000621411.2        0.745\n",
      "\u001b[90m 3\u001b[39m stall            4 ENST00000621411.2        0.812\n",
      "\u001b[90m 4\u001b[39m stall            6 ENST00000578186.2        0.679\n",
      "\u001b[90m 5\u001b[39m stall            7 ENST00000369163.3        0.959\n",
      "\u001b[90m 6\u001b[39m stall            8 ENST00000579512.2        0.643\n",
      "\u001b[90m 7\u001b[39m stall            9 ENST00000343677.3        1.52 \n",
      "\u001b[90m 8\u001b[39m stall           10 ENST00000579512.2        0.621\n",
      "\u001b[90m 9\u001b[39m stall           11 ENST00000369163.3        1.20 \n",
      "\u001b[90m10\u001b[39m stall           12 ENST00000343677.3        1.56 \n",
      "\u001b[90m# … with 7,545 more rows\u001b[39m\n"
     ]
    },
    {
     "name": "stderr",
     "output_type": "stream",
     "text": [
      "Warning message:\n",
      "“Transformation introduced infinite values in continuous y-axis”\n"
     ]
    },
    {
     "data": {
      "image/png": "[encoded data removed]",
      "text/plain": [
       "plot without title"
      ]
     },
     "metadata": {
      "image/png": {
       "height": 90,
       "width": 72
      }
     },
     "output_type": "display_data"
    }
   ],
   "source": [
    "plot_data <- cvg %>%\n",
    "  group_by(transcript_id) %>% \n",
    "  mutate(has_vk_type_stall = if_else(max(strength) >= 9, T, F)) %>% \n",
    "  ungroup() %>% \n",
    "  filter(has_vk_type_stall) %>% \n",
    "  filter(pos >= 20, pos <=30) %>% \n",
    "  group_by(motif_type, y_order, transcript_id) %>% \n",
    "  summarize(read_density = mean(read_density)) %>%\n",
    "  ungroup() %>% \n",
    "  print()\n",
    "\n",
    "plot_data %>% \n",
    "  ggplot(aes(x = y_order, y = read_density, color = motif_type)) +\n",
    "  geom_point(size = 0.5) +\n",
    "  scale_color_manual(values = cbPalette[c(2,3)]) +\n",
    "  scale_y_log10()"
   ]
  },
  {
   "cell_type": "markdown",
   "metadata": {},
   "source": [
    "## Same plot as above, but in Violin format"
   ]
  },
  {
   "cell_type": "code",
   "execution_count": 6,
   "metadata": {
    "vscode": {
     "languageId": "r"
    }
   },
   "outputs": [
    {
     "name": "stderr",
     "output_type": "stream",
     "text": [
      "Warning message:\n",
      "“`guides(<scale> = FALSE)` is deprecated. Please use `guides(<scale> = \"none\")` instead.”\n",
      "Warning message:\n",
      "“Transformation introduced infinite values in continuous y-axis”\n",
      "Warning message:\n",
      "“Removed 420 rows containing non-finite values (stat_ydensity).”\n",
      "Saving 6.67 x 6.67 in image\n",
      "\n",
      "Warning message:\n",
      "“Transformation introduced infinite values in continuous y-axis”\n",
      "Warning message:\n",
      "“Removed 420 rows containing non-finite values (stat_ydensity).”\n"
     ]
    },
    {
     "data": {
      "image/png": "[encoded data removed]",
      "text/plain": [
       "plot without title"
      ]
     },
     "metadata": {
      "image/png": {
       "height": 90,
       "width": 72
      }
     },
     "output_type": "display_data"
    }
   ],
   "source": [
    "plot_data %>% \n",
    "  # ggplot(aes(x = motif_type, y = read_density, color = motif_type)) +\n",
    "  ggplot(aes(x = motif_type, y = read_density, fill = motif_type)) +\n",
    "  # geom_jitter(size = 0.5, height = 0) +\n",
    "  geom_violin(color = \"black\") +\n",
    "  # scale_color_manual(values = cbPalette[c(2,1)]) +\n",
    "  scale_fill_manual(values = cbPalette[c(2,1)]) +\n",
    "  guides(fill = F) +\n",
    "  labs(x = \"Peptide score\", y = \"Mean ribosome density\\n+20nt to +30nt (a.u.)\", color = \"\") +\n",
    "  scale_y_log10()\n",
    "\n",
    "ggsave(glue(\"../figures/mean_non_v_type_density_20to30_{studies_analyzed}.pdf\"))"
   ]
  },
  {
   "cell_type": "markdown",
   "metadata": {},
   "source": [
    "## Compare the control and stall motif densities for significant differences"
   ]
  },
  {
   "cell_type": "code",
   "execution_count": 7,
   "metadata": {
    "vscode": {
     "languageId": "r"
    }
   },
   "outputs": [
    {
     "name": "stderr",
     "output_type": "stream",
     "text": [
      "Warning message:\n",
      "“`...` must not be empty for ungrouped data frames.\n",
      "Did you want `data = everything()`?”\n"
     ]
    },
    {
     "name": "stdout",
     "output_type": "stream",
     "text": [
      "\u001b[90m# A tibble: 1 × 5\u001b[39m\n",
      "      n statistic p.value method                                     alternative\n",
      "  \u001b[3m\u001b[90m<int>\u001b[39m\u001b[23m     \u001b[3m\u001b[90m<dbl>\u001b[39m\u001b[23m   \u001b[3m\u001b[90m<dbl>\u001b[39m\u001b[23m \u001b[3m\u001b[90m<chr>\u001b[39m\u001b[23m                                      \u001b[3m\u001b[90m<chr>\u001b[39m\u001b[23m      \n",
      "\u001b[90m1\u001b[39m  \u001b[4m7\u001b[24m555  7\u001b[4m3\u001b[24m\u001b[4m4\u001b[24m\u001b[4m4\u001b[24m886.  0.013\u001b[4m3\u001b[24m Wilcoxon rank sum test with continuity co… greater    \n"
     ]
    }
   ],
   "source": [
    "plot_data %>% \n",
    "  nest() %>% \n",
    "  mutate(test = map(data, function(df) wilcox.test(read_density ~ motif_type, data = df, alternative = \"greater\"))) %>% \n",
    "  mutate(n = map_int(data, nrow)) %>% \n",
    "  mutate(test_results = map(test, broom::tidy)) %>% \n",
    "  select(-data, -test) %>% \n",
    "  unnest(test_results) %>% \n",
    "  print()"
   ]
  },
  {
   "cell_type": "markdown",
   "metadata": {},
   "source": [
    "## Tabulate aggregate coverage density "
   ]
  },
  {
   "cell_type": "code",
   "execution_count": 8,
   "metadata": {
    "vscode": {
     "languageId": "r"
    }
   },
   "outputs": [
    {
     "name": "stderr",
     "output_type": "stream",
     "text": [
      "`summarise()` has grouped output by 'motif_type'. You can override using the `.groups` argument.\n"
     ]
    },
    {
     "name": "stdout",
     "output_type": "stream",
     "text": [
      "\u001b[90m# A tibble: 5,288 × 10\u001b[39m\n",
      "   motif_type transcript_id  motif_read_dens… cds_read_density gene_name.x   loc\n",
      "   \u001b[3m\u001b[90m<chr>\u001b[39m\u001b[23m      \u001b[3m\u001b[90m<chr>\u001b[39m\u001b[23m                     \u001b[3m\u001b[90m<dbl>\u001b[39m\u001b[23m            \u001b[3m\u001b[90m<dbl>\u001b[39m\u001b[23m \u001b[3m\u001b[90m<chr>\u001b[39m\u001b[23m       \u001b[3m\u001b[90m<dbl>\u001b[39m\u001b[23m\n",
      "\u001b[90m 1\u001b[39m stall      ENST000003676…            11.7             0.494 VTA1          445\n",
      "\u001b[90m 2\u001b[39m stall      ENST000000550…             9.23            0.774 RFC2          397\n",
      "\u001b[90m 3\u001b[39m stall      ENST000003706…             8.74            0.495 RPF1          205\n",
      "\u001b[90m 4\u001b[39m stall      ENST000005619…             8.50            0.749 ARPP19        563\n",
      "\u001b[90m 5\u001b[39m stall      ENST000002956…             8.38            0.738 ARPC2        \u001b[4m1\u001b[24m044\n",
      "\u001b[90m 6\u001b[39m control    ENST000003546…             7.95           11.3   HNRNPA2B1     637\n",
      "\u001b[90m 7\u001b[39m stall      ENST000003328…             7.29            0.378 AEN           188\n",
      "\u001b[90m 8\u001b[39m control    ENST000002695…             7.24            2.18  PMAIP1        447\n",
      "\u001b[90m 9\u001b[39m stall      ENST000002803…             6.89            2.65  CCT5          829\n",
      "\u001b[90m10\u001b[39m stall      ENST000003125…             6.56            0.340 DRAP1         442\n",
      "\u001b[90m# … with 5,278 more rows, and 4 more variables: motif <chr>, strength <dbl>,\u001b[39m\n",
      "\u001b[90m#   nt72 <chr>, gene_name.y <chr>\u001b[39m\n"
     ]
    }
   ],
   "source": [
    "cvg %>% \n",
    "  filter(pos >= 20, pos <=30) %>% \n",
    "  group_by(motif_type, transcript_id) %>% \n",
    "  summarize(motif_read_density = mean(read_density), cds_read_density = mean(cds_read_density)) %>%\n",
    "  ungroup() %>% \n",
    "  # mutate(sample_name = str_extract(sample_name, '[:digit:]$')) %>% \n",
    "  # pivot_wider(names_from = sample_name, values_from = c(motif_read_density, cds_read_density)) %>%\n",
    "  arrange(desc(motif_read_density)) %>%\n",
    "  left_join(kk_type_motif_annotations, by = c(\"motif_type\", \"transcript_id\")) %>%\n",
    "  left_join(select(ccds_annotations, transcript_id, gene_name), by = \"transcript_id\") %>%\n",
    "  # select(-transcript_id) %>%\n",
    "  write_tsv(\"../tables/non_v_type_motifs_controls_han2020_plus20to30_mean_ribo_density.tsv.gz\") %>%\n",
    "  print()"
   ]
  }
 ],
 "metadata": {
  "kernelspec": {
   "display_name": "R",
   "language": "R",
   "name": "ir"
  },
  "language_info": {
   "codemirror_mode": "r",
   "file_extension": ".r",
   "mimetype": "text/x-r-source",
   "name": "R",
   "pygments_lexer": "r",
   "version": "4.1.1"
  },
  "orig_nbformat": 4,
  "vscode": {
   "interpreter": {
    "hash": "4a3b6ef83ee1ec2b7fe6fe1fde1a09ba53996543427aecf25ba0006f0b020fc5"
   }
  }
 },
 "nbformat": 4,
 "nbformat_minor": 2
}
