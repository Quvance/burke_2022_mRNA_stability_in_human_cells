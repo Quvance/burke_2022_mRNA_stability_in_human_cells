{
 "cells": [
  {
   "cell_type": "markdown",
   "metadata": {},
   "source": [
    "# Calculation of codon counts for each CCDS\n",
    "\n",
    "<ol class=\"toc-item\"><li><a href=\"#Globals\">Globals</a></li><li><a href=\"#Calculate-codon-counts-for-each-CCDS\">Calculate codon counts for each CCDS</a></li><li><a href=\"#Calculate-genome-wide-codon-frequency-(per-1000-codons)\">Calculate genome-wide codon frequency (per 1000 codons)</a></li><li><a href=\"#Plot-genome-wide-codon-frequency-(per-1000-codons)\">Plot genome-wide codon frequency (per 1000 codons)</a></li></ol>"
   ]
  },
  {
   "cell_type": "markdown",
   "metadata": {},
   "source": [
    "### Globals"
   ]
  },
  {
   "cell_type": "code",
   "execution_count": 1,
   "metadata": {
    "collapsed": false,
    "jupyter": {
     "outputs_hidden": false
    }
   },
   "outputs": [
    {
     "name": "stderr",
     "output_type": "stream",
     "text": [
      "/fh/fast/subramaniam_a/user/rasi/lib/miniconda3/lib/python3.7/site-packages/IPython/core/pylabtools.py:280: MatplotlibDeprecationWarning: \n",
      "The text.latex.unicode rcparam was deprecated in Matplotlib 3.0 and will be removed in 3.2.\n",
      "  import matplotlib\n",
      "/fh/fast/subramaniam_a/user/rasi/lib/miniconda3/lib/python3.7/site-packages/IPython/core/pylabtools.py:280: MatplotlibDeprecationWarning: \n",
      "The examples.directory rcparam was deprecated in Matplotlib 3.0 and will be removed in 3.2. In the future, examples will be found relative to the 'datapath' directory.\n",
      "  import matplotlib\n",
      "/fh/fast/subramaniam_a/user/rasi/lib/miniconda3/lib/python3.7/site-packages/IPython/core/pylabtools.py:280: MatplotlibDeprecationWarning: \n",
      "The examples.directory rcparam was deprecated in Matplotlib 3.0 and will be removed in 3.2. In the future, examples will be found relative to the 'datapath' directory.\n",
      "  import matplotlib\n"
     ]
    }
   ],
   "source": [
    "import pandas as pd\n",
    "import numpy as np\n",
    "import re\n",
    "import pyfaidx\n",
    "import copy\n",
    "from Bio.SeqUtils.CodonUsage import SynonymousCodons\n",
    "\n",
    "pd.set_option('display.max_rows', 10)\n",
    "\n",
    "ccdsseqs = pyfaidx.Fasta('/fh/fast/subramaniam_a/db/rasi/genomes/human/hg38/'\n",
    "                  'gencode/annotations/gencode.v32.canonical_ccds.20210126.fa' )\n",
    "\n",
    "nt = ['A', 'C', 'T', 'G']\n",
    "allCodons = [x + y + z for x in nt for y in nt for z in nt]\n",
    "codonDict = {codon: 0 for codon in allCodons}"
   ]
  },
  {
   "cell_type": "markdown",
   "metadata": {},
   "source": [
    "### Calculate codon counts for each CCDS"
   ]
  },
  {
   "cell_type": "code",
   "execution_count": 2,
   "metadata": {
    "collapsed": false,
    "jupyter": {
     "outputs_hidden": false
    }
   },
   "outputs": [],
   "source": [
    "for frame in range(3):\n",
    "    codoncounts = dict()\n",
    "    for tx in ccdsseqs.keys():\n",
    "        codoncounts[tx] = copy.deepcopy(codonDict)\n",
    "        seq = str(ccdsseqs[tx])\n",
    "        codons = (seq[n:n+3] for n in range(frame, len(seq), 3))\n",
    "        for codon in codons:\n",
    "            if len(codon) != 3:  # for out of frame calculations\n",
    "                break\n",
    "            codoncounts[tx][codon] += 1\n",
    "    codoncounts = pd.DataFrame.from_dict(codoncounts, orient='index')\n",
    "    codoncounts.to_csv('../data/motif_counts/ccds_codon_counts_frame{}.tsv'.format(frame),\n",
    "                       sep=\"\\t\", index_label='transcript_id')"
   ]
  }
 ],
 "metadata": {
  "kernelspec": {
   "display_name": "Python 3.7.11 ('base')",
   "language": "python",
   "name": "python3"
  },
  "language_info": {
   "codemirror_mode": {
    "name": "ipython",
    "version": 3
   },
   "file_extension": ".py",
   "mimetype": "text/x-python",
   "name": "python",
   "nbconvert_exporter": "python",
   "pygments_lexer": "ipython3",
   "version": "3.7.11"
  },
  "vscode": {
   "interpreter": {
    "hash": "33ccdda4403b85622dcca6b225ea57e4a6a8ea27d62bd4ef32f6f7605d06a567"
   }
  }
 },
 "nbformat": 4,
 "nbformat_minor": 4
}
