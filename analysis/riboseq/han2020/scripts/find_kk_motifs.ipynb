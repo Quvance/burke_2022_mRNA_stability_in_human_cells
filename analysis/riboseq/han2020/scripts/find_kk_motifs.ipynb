{
 "cells": [
  {
   "cell_type": "markdown",
   "metadata": {},
   "source": [
    "# Identify mRNA destabilizing VK-type motifs in human genome"
   ]
  },
  {
   "cell_type": "markdown",
   "metadata": {},
   "source": [
    "### Globals"
   ]
  },
  {
   "cell_type": "code",
   "execution_count": 1,
   "metadata": {
    "collapsed": false,
    "jupyter": {
     "outputs_hidden": false
    }
   },
   "outputs": [
    {
     "name": "stderr",
     "output_type": "stream",
     "text": [
      "Matplotlib is building the font cache; this may take a moment.\n"
     ]
    }
   ],
   "source": [
    "import matplotlib.pyplot as plt\n",
    "import pandas as pd\n",
    "import numpy as np\n",
    "np.random.seed(111)\n",
    "from Bio.Seq import Seq\n",
    "# for reading FASTA files\n",
    "import pyfaidx\n",
    "# for reading GFF3 files\n",
    "import gffpandas.gffpandas as gffpd\n",
    "# for plotting\n",
    "import plotnine as pn\n",
    "\n",
    "from plotnine import ggplot,aes,facet_wrap,geom_histogram\n",
    "pd.set_option('display.max_rows', 10)\n",
    "\n",
    "ccdsseqs = pyfaidx.Fasta('../data/gencode/gencode.v32.canonical_ccds.fa' )"
   ]
  },
  {
   "cell_type": "markdown",
   "metadata": {},
   "source": [
    "## Read in transcript annotations"
   ]
  },
  {
   "cell_type": "code",
   "execution_count": 2,
   "metadata": {},
   "outputs": [
    {
     "name": "stdout",
     "output_type": "stream",
     "text": [
      "<class 'pandas.core.frame.DataFrame'>\n",
      "RangeIndex: 19174 entries, 0 to 19173\n",
      "Data columns (total 7 columns):\n",
      " #   Column         Non-Null Count  Dtype \n",
      "---  ------         --------------  ----- \n",
      " 0   transcript_id  19174 non-null  object\n",
      " 1   utr5_length    19174 non-null  int64 \n",
      " 2   cds_length     19174 non-null  int64 \n",
      " 3   utr3_length    19174 non-null  int64 \n",
      " 4   gene_id        19174 non-null  object\n",
      " 5   gene_name      19174 non-null  object\n",
      " 6   ccdsid         18751 non-null  object\n",
      "dtypes: int64(3), object(4)\n",
      "memory usage: 1.0+ MB\n"
     ]
    }
   ],
   "source": [
    "annotations = pd.read_table(\"../data/gencode/gencode.v32.canonical_ccds.parameters.tsv.gz\")\n",
    "annotations.info()"
   ]
  },
  {
   "cell_type": "markdown",
   "metadata": {},
   "source": [
    "### Convert each CCDS into a sequence of dicodon scores"
   ]
  },
  {
   "cell_type": "code",
   "execution_count": 3,
   "metadata": {},
   "outputs": [],
   "source": [
    "stall_dipeptides = ['KK', 'RK', 'KR', 'RR']"
   ]
  },
  {
   "cell_type": "code",
   "execution_count": 4,
   "metadata": {
    "collapsed": false,
    "jupyter": {
     "outputs_hidden": false
    }
   },
   "outputs": [
    {
     "name": "stderr",
     "output_type": "stream",
     "text": [
      "/fh/fast/subramaniam_a/user/rasi/lib/miniconda3/lib/python3.7/site-packages/Bio/Seq.py:2338: BiopythonWarning: Partial codon, len(sequence) not a multiple of three. Explicitly trim the sequence or add trailing N before translation. This may become an error in future.\n",
      "  BiopythonWarning,\n"
     ]
    }
   ],
   "source": [
    "ccds_dicodon_scores = dict()\n",
    "for tx in ccdsseqs.keys():\n",
    "    ccds_dicodon_scores[tx] = np.zeros(int(len(ccdsseqs[tx])/3) - 1)\n",
    "    aa_seq = str(Seq(str(ccdsseqs[tx])).translate())\n",
    "    dipeptide_score = 0\n",
    "    for pos, n in enumerate(range(len(aa_seq) - 1)):\n",
    "        new_dipeptide = aa_seq[pos:pos+2]\n",
    "        if new_dipeptide in stall_dipeptides:\n",
    "            # give higher weight if you have two consecutive dipeptides\n",
    "            dipeptide_score += 1\n",
    "            ccds_dicodon_scores[tx][pos] = min(dipeptide_score, 2)\n",
    "        else:\n",
    "            dipeptide_score = 0"
   ]
  },
  {
   "cell_type": "code",
   "execution_count": 5,
   "metadata": {},
   "outputs": [
    {
     "data": {
      "text/plain": [
       "19174"
      ]
     },
     "execution_count": 5,
     "metadata": {},
     "output_type": "execute_result"
    }
   ],
   "source": [
    "len(ccds_dicodon_scores)"
   ]
  },
  {
   "cell_type": "markdown",
   "metadata": {},
   "source": [
    "## Find the window with highest and lowest dicodon scores"
   ]
  },
  {
   "cell_type": "code",
   "execution_count": 6,
   "metadata": {},
   "outputs": [],
   "source": [
    "scores = list()\n",
    "window_size = 16 # amino acid units\n",
    "control_max_score = 2\n",
    "\n",
    "for tx in ccds_dicodon_scores:\n",
    "    convolution = np.convolve(ccds_dicodon_scores[tx], np.ones(window_size), mode='same')\n",
    "    # maximum dicodon score\n",
    "    stall_loc = convolution.argmax()\n",
    "    scores.append({'transcript_id': tx, \n",
    "                   'strength': convolution[stall_loc], \n",
    "                   'loc': stall_loc,\n",
    "                   'motif': str(Seq(str(ccdsseqs[tx][int(3*(stall_loc-window_size/2-4)):int(3*(stall_loc+window_size/2+4))])).translate()),\n",
    "                   'nt72': str(ccdsseqs[tx][int(3*(stall_loc-window_size/2-4)):int(3*(stall_loc+window_size/2+4))]),\n",
    "                   'motif_type': 'stall'})\n",
    "    control_locs = np.nonzero(convolution <= control_max_score)[0]\n",
    "    # only include control_locs away from edges of CDS\n",
    "    control_locs = control_locs[((control_locs >= window_size) & (control_locs < (len(convolution) - window_size)))]\n",
    "    if len(control_locs) == 0:\n",
    "        continue\n",
    "    # pick one of the control locs randomly\n",
    "    control_loc = int(np.random.choice(control_locs))\n",
    "    # use the convolution strength at this location\n",
    "    scores.append({'transcript_id': tx, \n",
    "                   'strength': convolution[control_loc], \n",
    "                   'loc': control_loc, \n",
    "                   'motif': str(Seq(str(ccdsseqs[tx][int(3*(control_loc-window_size/2-4)):int(3*(control_loc+window_size/2+4))])).translate()),\n",
    "                   'nt72': str(ccdsseqs[tx][int(3*(control_loc-window_size/2-4)):int(3*(control_loc+window_size/2+4))]),\n",
    "                   'motif_type': 'control'})\n",
    "    \n",
    "scores = pd.DataFrame(scores)"
   ]
  },
  {
   "cell_type": "markdown",
   "metadata": {},
   "source": [
    "## Plot the distribution of minimum dicodon scores for CCDS"
   ]
  },
  {
   "cell_type": "code",
   "execution_count": 7,
   "metadata": {},
   "outputs": [
    {
     "data": {
      "image/png": "[encoded data removed]",
      "text/plain": [
       "<Figure size 600x150 with 2 Axes>"
      ]
     },
     "metadata": {},
     "output_type": "display_data"
    },
    {
     "data": {
      "text/plain": [
       "<ggplot: (8753792955873)>"
      ]
     },
     "execution_count": 7,
     "metadata": {},
     "output_type": "execute_result"
    }
   ],
   "source": [
    "(\n",
    "    ggplot(scores, aes(x='strength')) +\n",
    "    facet_wrap(facets=['motif_type']) +\n",
    "    geom_histogram(binwidth=1) +\n",
    "    pn.labs(x='Maximum stall strength', y='CCDS count') +\n",
    "    pn.theme_bw()+\n",
    "    pn.theme(figure_size=(6,1.5))\n",
    ")"
   ]
  },
  {
   "cell_type": "markdown",
   "metadata": {},
   "source": [
    "## How many genes have KK-type motifs of a certain strength?"
   ]
  },
  {
   "cell_type": "code",
   "execution_count": 8,
   "metadata": {},
   "outputs": [
    {
     "data": {
      "text/plain": [
       "transcript_id    488\n",
       "dtype: int64"
      ]
     },
     "execution_count": 8,
     "metadata": {},
     "output_type": "execute_result"
    }
   ],
   "source": [
    "pd.set_option('display.max_rows', 20)\n",
    "(\n",
    "    scores\n",
    "    .assign(strength = lambda x: x.strength.astype('int'))\n",
    "    .query('motif_type == \"stall\"')\n",
    "    .groupby('strength')\n",
    "    .count()\n",
    "    .loc[:, ['transcript_id']]\n",
    "    .query('strength >= 10')\n",
    "    .sum()\n",
    ")"
   ]
  },
  {
   "cell_type": "markdown",
   "metadata": {},
   "source": [
    "## Write processed data to TSV for downstream use"
   ]
  },
  {
   "cell_type": "code",
   "execution_count": 9,
   "metadata": {},
   "outputs": [],
   "source": [
    "(\n",
    "    scores\n",
    "    .merge(annotations, on='transcript_id').drop('gene_id', axis=1)\n",
    "    .reset_index()\n",
    "    # go from amino acid loc in CDS to nucleotide loc in trancript\n",
    "    .assign(loc = lambda x: 3*x['loc'] + x['utr5_length'])\n",
    "    .loc[:, ['gene_name', 'transcript_id', 'loc', 'motif', 'strength', 'motif_type', 'nt72']]\n",
    "    .to_csv('../data/motif_counts/kk_motifs.tsv.gz', sep = '\\t', index=False)\n",
    ")"
   ]
  }
 ],
 "metadata": {
  "kernelspec": {
   "display_name": "Python 3.7.11 ('base')",
   "language": "python",
   "name": "python3"
  },
  "language_info": {
   "codemirror_mode": {
    "name": "ipython",
    "version": 3
   },
   "file_extension": ".py",
   "mimetype": "text/x-python",
   "name": "python",
   "nbconvert_exporter": "python",
   "pygments_lexer": "ipython3",
   "version": "3.7.11"
  },
  "vscode": {
   "interpreter": {
    "hash": "33ccdda4403b85622dcca6b225ea57e4a6a8ea27d62bd4ef32f6f7605d06a567"
   }
  }
 },
 "nbformat": 4,
 "nbformat_minor": 4
}
