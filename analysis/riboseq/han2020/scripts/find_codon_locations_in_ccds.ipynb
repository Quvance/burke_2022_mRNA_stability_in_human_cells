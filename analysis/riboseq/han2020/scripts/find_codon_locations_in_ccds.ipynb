{
 "cells": [
  {
   "cell_type": "markdown",
   "metadata": {},
   "source": [
    "# Find locations of codons in CCDS transcripts for downstream analyses"
   ]
  },
  {
   "cell_type": "markdown",
   "metadata": {},
   "source": [
    "### Globals"
   ]
  },
  {
   "cell_type": "code",
   "execution_count": 1,
   "metadata": {
    "collapsed": false,
    "jupyter": {
     "outputs_hidden": false
    }
   },
   "outputs": [],
   "source": [
    "# %matplotlib inline\n",
    "# import matplotlib.pyplot as plt\n",
    "# import seaborn as sns\n",
    "import pandas as pd\n",
    "# import numpy as np\n",
    "# import re\n",
    "import pyfaidx\n",
    "# import copy\n",
    "from Bio.SeqUtils.CodonUsage import SynonymousCodons\n",
    "pd.set_option('display.max_rows', 10)\n",
    "\n",
    "ccds_annotations = pd.read_table('../data/gencode/gencode.v32.canonical_ccds.parameters.tsv.gz')\n",
    "ccds_tx_seqs = pyfaidx.Fasta('../data/gencode/gencode.v32.canonical_ccds_tx.fa')\n",
    "\n",
    "nt = ['A', 'C', 'T', 'G']\n",
    "allCodons = [x + y + z for x in nt for y in nt for z in nt]\n",
    "codonDict = {codon: 0 for codon in allCodons}"
   ]
  },
  {
   "cell_type": "code",
   "execution_count": 2,
   "metadata": {},
   "outputs": [],
   "source": [
    "ccds_annotations.set_index('transcript_id', inplace=True)"
   ]
  },
  {
   "cell_type": "code",
   "execution_count": 3,
   "metadata": {},
   "outputs": [
    {
     "name": "stdout",
     "output_type": "stream",
     "text": [
      "<class 'pandas.core.frame.DataFrame'>\n",
      "Index: 19174 entries, ENST00000000233.10 to ENST00000673498.1\n",
      "Data columns (total 6 columns):\n",
      " #   Column       Non-Null Count  Dtype \n",
      "---  ------       --------------  ----- \n",
      " 0   utr5_length  19174 non-null  int64 \n",
      " 1   cds_length   19174 non-null  int64 \n",
      " 2   utr3_length  19174 non-null  int64 \n",
      " 3   gene_id      19174 non-null  object\n",
      " 4   gene_name    19174 non-null  object\n",
      " 5   ccdsid       18751 non-null  object\n",
      "dtypes: int64(3), object(3)\n",
      "memory usage: 1.0+ MB\n"
     ]
    }
   ],
   "source": [
    "ccds_annotations.info()"
   ]
  },
  {
   "cell_type": "markdown",
   "metadata": {},
   "source": [
    "### Find locations of all codons and write it to output file"
   ]
  },
  {
   "cell_type": "code",
   "execution_count": 4,
   "metadata": {
    "collapsed": false,
    "jupyter": {
     "outputs_hidden": false
    }
   },
   "outputs": [],
   "source": [
    "codon_locs = list()\n",
    "for tx_num, tx in enumerate(ccds_tx_seqs.keys()):\n",
    "    utr5_length = ccds_annotations.loc[tx, 'utr5_length']\n",
    "    utr3_length = ccds_annotations.loc[tx, 'utr3_length']\n",
    "    if utr3_length > 0 and utr5_length > 0:\n",
    "        seq = str(ccds_tx_seqs[tx])[utr5_length:-utr3_length]\n",
    "    elif utr5_length > 0:\n",
    "        seq = str(ccds_tx_seqs[tx])[utr5_length:]\n",
    "    elif utr3_length > 0:\n",
    "        seq = str(ccds_tx_seqs[tx])[:-utr3_length]\n",
    "    else:\n",
    "        seq = str(ccds_tx_seqs[tx])\n",
    "    codons = (seq[n:n+3] for n in range(0, len(seq), 3))\n",
    "    for loc, codon in enumerate(codons):\n",
    "        if len(codon) != 3:  # for out of frame calculations\n",
    "            break\n",
    "        codon_locs.append({\n",
    "            'transcript_id': tx,\n",
    "            # 0-based coordinate\n",
    "            'loc': 3*loc + utr5_length,\n",
    "            'motif': codon})\n",
    "        \n",
    "codon_locs = pd.DataFrame(codon_locs)\n",
    "\n",
    "codon_locs.to_csv('../data/motif_counts/ccds_codon_locs.tsv.gz', sep=\"\\t\", index=False)"
   ]
  }
 ],
 "metadata": {
  "kernelspec": {
   "display_name": "Python 3",
   "language": "python",
   "name": "python3"
  },
  "language_info": {
   "codemirror_mode": {
    "name": "ipython",
    "version": 3
   },
   "file_extension": ".py",
   "mimetype": "text/x-python",
   "name": "python",
   "nbconvert_exporter": "python",
   "pygments_lexer": "ipython3",
   "version": "3.7.4"
  }
 },
 "nbformat": 4,
 "nbformat_minor": 4
}
