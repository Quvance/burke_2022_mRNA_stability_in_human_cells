{
 "cells": [
  {
   "cell_type": "markdown",
   "metadata": {},
   "source": [
    "# Plot aggregate ribosome density around motifs"
   ]
  },
  {
   "cell_type": "markdown",
   "metadata": {},
   "source": [
    "## Load libraries and define analysis-specific parameters"
   ]
  },
  {
   "cell_type": "code",
   "execution_count": 24,
   "metadata": {
    "vscode": {
     "languageId": "r"
    }
   },
   "outputs": [
    {
     "name": "stderr",
     "output_type": "stream",
     "text": [
      "\u001b[1mRows: \u001b[22m\u001b[34m19174\u001b[39m \u001b[1mColumns: \u001b[22m\u001b[34m7\u001b[39m\n",
      "\u001b[36m──\u001b[39m \u001b[1mColumn specification\u001b[22m \u001b[36m────────────────────────────────────────────────────────\u001b[39m\n",
      "\u001b[1mDelimiter:\u001b[22m \"\\t\"\n",
      "\u001b[31mchr\u001b[39m (4): transcript_id, gene_id, gene_name, ccdsid\n",
      "\u001b[32mdbl\u001b[39m (3): utr5_length, cds_length, utr3_length\n",
      "\n",
      "\u001b[36mℹ\u001b[39m Use `spec()` to retrieve the full column specification for this data.\n",
      "\u001b[36mℹ\u001b[39m Specify the column types or set `show_col_types = FALSE` to quiet this message.\n",
      "\u001b[1mRows: \u001b[22m\u001b[34m38334\u001b[39m \u001b[1mColumns: \u001b[22m\u001b[34m7\u001b[39m\n",
      "\u001b[36m──\u001b[39m \u001b[1mColumn specification\u001b[22m \u001b[36m────────────────────────────────────────────────────────\u001b[39m\n",
      "\u001b[1mDelimiter:\u001b[22m \"\\t\"\n",
      "\u001b[31mchr\u001b[39m (5): gene_name, transcript_id, motif, motif_type, nt72\n",
      "\u001b[32mdbl\u001b[39m (2): loc, strength\n",
      "\n",
      "\u001b[36mℹ\u001b[39m Use `spec()` to retrieve the full column specification for this data.\n",
      "\u001b[36mℹ\u001b[39m Specify the column types or set `show_col_types = FALSE` to quiet this message.\n"
     ]
    }
   ],
   "source": [
    "library(glue)\n",
    "library(rtracklayer)\n",
    "library(GenomicFeatures)\n",
    "library(plyranges)\n",
    "library(tidyverse)\n",
    "\n",
    "theme_rasilab <- function() {\n",
    "  theme_classic(base_family = \"Helvetica\", base_size = 6) +\n",
    "    theme(\n",
    "      strip.background = ggplot2::element_blank(),\n",
    "      legend.text = element_text(size = 6),\n",
    "      strip.text.x = element_text(size = 6),\n",
    "    )\n",
    "}\n",
    "\n",
    "cbPalette <- c(\"#999999\", \"#E69F00\", \"#56B4E9\", \"#009E73\", \"#F0E442\", \"#0072B2\", \"#D55E00\", \"#CC79A7\")\n",
    "\n",
    "theme_set(theme_rasilab())\n",
    "\n",
    "ccds_annotations <- read_tsv(\"../data/gencode/gencode.v32.canonical_ccds.parameters.tsv.gz\")\n",
    "vk_type_motif_annotations <- read_tsv(\"../data/motif_counts/destabilizing_vk_motifs.tsv.gz\")\n",
    "\n",
    "studies_analyzed = \"han2020\"\n",
    "samples_analyzed = \"\"\n",
    "cell_types_analyzed = \"293\""
   ]
  },
  {
   "cell_type": "markdown",
   "metadata": {},
   "source": [
    "## Load sample annotations"
   ]
  },
  {
   "cell_type": "code",
   "execution_count": 25,
   "metadata": {
    "vscode": {
     "languageId": "r"
    }
   },
   "outputs": [
    {
     "name": "stderr",
     "output_type": "stream",
     "text": [
      "\u001b[1mRows: \u001b[22m\u001b[34m2\u001b[39m \u001b[1mColumns: \u001b[22m\u001b[34m27\u001b[39m\n",
      "\u001b[36m──\u001b[39m \u001b[1mColumn specification\u001b[22m \u001b[36m────────────────────────────────────────────────────────\u001b[39m\n",
      "\u001b[1mDelimiter:\u001b[22m \"\\t\"\n",
      "\u001b[31mchr\u001b[39m (18): srr, gsm, sample_name, gse, cell_type, study, study_subset, organi...\n",
      "\u001b[32mdbl\u001b[39m  (1): pmid\n",
      "\u001b[33mlgl\u001b[39m  (8): adapter, trim5, trim3, trim_condition, comment, sample_subset, his...\n",
      "\n",
      "\u001b[36mℹ\u001b[39m Use `spec()` to retrieve the full column specification for this data.\n",
      "\u001b[36mℹ\u001b[39m Specify the column types or set `show_col_types = FALSE` to quiet this message.\n"
     ]
    },
    {
     "name": "stdout",
     "output_type": "stream",
     "text": [
      "\u001b[90m# A tibble: 2 × 3\u001b[39m\n",
      "  gsm        study   sample_name  \n",
      "  \u001b[3m\u001b[90m<chr>\u001b[39m\u001b[23m      \u001b[3m\u001b[90m<chr>\u001b[39m\u001b[23m   \u001b[3m\u001b[90m<chr>\u001b[39m\u001b[23m        \n",
      "\u001b[90m1\u001b[39m GSM3907597 han2020 monosome_rep1\n",
      "\u001b[90m2\u001b[39m GSM3907598 han2020 monosome_rep2\n"
     ]
    }
   ],
   "source": [
    "sample_annotations <- read_tsv(\"../annotations/sra_annotations.tsv\") %>%\n",
    "  filter(str_detect(study, studies_analyzed)) %>%\n",
    "  filter(str_detect(sample_name, samples_analyzed)) %>%\n",
    "  filter(str_detect(cell_type, cell_types_analyzed)) %>%\n",
    "  select(gsm, study, sample_name) %>%\n",
    "  group_by(gsm) %>% \n",
    "  slice(1) %>% \n",
    "  ungroup() %>% \n",
    "  print()"
   ]
  },
  {
   "cell_type": "markdown",
   "metadata": {},
   "source": [
    "## Load ribosome density around motifs in samples of interest"
   ]
  },
  {
   "cell_type": "code",
   "execution_count": 26,
   "metadata": {
    "vscode": {
     "languageId": "r"
    }
   },
   "outputs": [
    {
     "name": "stderr",
     "output_type": "stream",
     "text": [
      "\u001b[1mRows: \u001b[22m\u001b[34m5012\u001b[39m \u001b[1mColumns: \u001b[22m\u001b[34m111\u001b[39m\n",
      "\u001b[36m──\u001b[39m \u001b[1mColumn specification\u001b[22m \u001b[36m────────────────────────────────────────────────────────\u001b[39m\n",
      "\u001b[1mDelimiter:\u001b[22m \"\\t\"\n",
      "\u001b[31mchr\u001b[39m   (5): gene_name, transcript_id, motif, motif_type, nt72\n",
      "\u001b[32mdbl\u001b[39m (106): loc, strength, cds_read_density, cds_read_count, start, end, -50,...\n",
      "\n",
      "\u001b[36mℹ\u001b[39m Use `spec()` to retrieve the full column specification for this data.\n",
      "\u001b[36mℹ\u001b[39m Specify the column types or set `show_col_types = FALSE` to quiet this message.\n",
      "\u001b[1mRows: \u001b[22m\u001b[34m5202\u001b[39m \u001b[1mColumns: \u001b[22m\u001b[34m111\u001b[39m\n",
      "\u001b[36m──\u001b[39m \u001b[1mColumn specification\u001b[22m \u001b[36m────────────────────────────────────────────────────────\u001b[39m\n",
      "\u001b[1mDelimiter:\u001b[22m \"\\t\"\n",
      "\u001b[31mchr\u001b[39m   (5): gene_name, transcript_id, motif, motif_type, nt72\n",
      "\u001b[32mdbl\u001b[39m (106): loc, strength, cds_read_density, cds_read_count, start, end, -50,...\n",
      "\n",
      "\u001b[36mℹ\u001b[39m Use `spec()` to retrieve the full column specification for this data.\n",
      "\u001b[36mℹ\u001b[39m Specify the column types or set `show_col_types = FALSE` to quiet this message.\n"
     ]
    },
    {
     "name": "stdout",
     "output_type": "stream",
     "text": [
      "\u001b[90m# A tibble: 1,020,271 × 19\u001b[39m\n",
      "   gsm        study   sample_name   gene_name transcript_id   loc motif strength\n",
      "   \u001b[3m\u001b[90m<chr>\u001b[39m\u001b[23m      \u001b[3m\u001b[90m<chr>\u001b[39m\u001b[23m   \u001b[3m\u001b[90m<chr>\u001b[39m\u001b[23m         \u001b[3m\u001b[90m<chr>\u001b[39m\u001b[23m     \u001b[3m\u001b[90m<chr>\u001b[39m\u001b[23m         \u001b[3m\u001b[90m<dbl>\u001b[39m\u001b[23m \u001b[3m\u001b[90m<chr>\u001b[39m\u001b[23m    \u001b[3m\u001b[90m<dbl>\u001b[39m\u001b[23m\n",
      "\u001b[90m 1\u001b[39m GSM3907598 han2020 monosome_rep2 HIST1H1E  ENST00000304…   265 ALAA…        6\n",
      "\u001b[90m 2\u001b[39m GSM3907598 han2020 monosome_rep2 HIST1H1E  ENST00000304…   265 ALAA…        6\n",
      "\u001b[90m 3\u001b[39m GSM3907598 han2020 monosome_rep2 HIST1H1E  ENST00000304…   265 ALAA…        6\n",
      "\u001b[90m 4\u001b[39m GSM3907598 han2020 monosome_rep2 HIST1H1E  ENST00000304…   265 ALAA…        6\n",
      "\u001b[90m 5\u001b[39m GSM3907598 han2020 monosome_rep2 HIST1H1E  ENST00000304…   265 ALAA…        6\n",
      "\u001b[90m 6\u001b[39m GSM3907598 han2020 monosome_rep2 HIST1H1E  ENST00000304…   265 ALAA…        6\n",
      "\u001b[90m 7\u001b[39m GSM3907598 han2020 monosome_rep2 HIST1H1E  ENST00000304…   265 ALAA…        6\n",
      "\u001b[90m 8\u001b[39m GSM3907598 han2020 monosome_rep2 HIST1H1E  ENST00000304…   265 ALAA…        6\n",
      "\u001b[90m 9\u001b[39m GSM3907598 han2020 monosome_rep2 HIST1H1E  ENST00000304…   265 ALAA…        6\n",
      "\u001b[90m10\u001b[39m GSM3907598 han2020 monosome_rep2 HIST1H1E  ENST00000304…   265 ALAA…        6\n",
      "\u001b[90m# … with 1,020,261 more rows, and 11 more variables: motif_type <fct>,\u001b[39m\n",
      "\u001b[90m#   nt72 <chr>, cds_read_density <dbl>, cds_read_count <dbl>, start <dbl>,\u001b[39m\n",
      "\u001b[90m#   end <dbl>, n_motifs <int>, y_order <int>, pos <int>, read_count <dbl>,\u001b[39m\n",
      "\u001b[90m#   read_density <dbl>\u001b[39m\n"
     ]
    }
   ],
   "source": [
    "cvg <- '../data/vk_type_density/' %>% \n",
    "  list.files(full.names = T, pattern = 'tsv.gz$')  %>%\n",
    "  enframe(\"sno\", \"file\") %>%\n",
    "  mutate(gsm = str_extract(file, 'GSM[:digit:]+')) %>%\n",
    "  right_join(sample_annotations, by = \"gsm\") %>%\n",
    "  mutate(data = map(file, read_tsv)) %>%\n",
    "  mutate(n_motifs = map_int(data, nrow)) %>%\n",
    "  filter(n_motifs > 100) %>%\n",
    "  select(-sno, -file) %>%\n",
    "  unnest(data) %>%\n",
    "  group_by(sample_name) %>%\n",
    "  arrange(-cds_read_density) %>%\n",
    "  mutate(y_order = 1:n()) %>%\n",
    "  ungroup() %>%\n",
    "  pivot_longer(`-50`:`50`, names_to = 'pos', values_to = 'read_count') %>%\n",
    "  mutate(pos = as.integer(pos)) %>%\n",
    "  filter(read_count >= 0) %>%\n",
    "  mutate(read_density = read_count / cds_read_density) %>%\n",
    "  mutate(motif_type = fct_rev(motif_type)) %>%\n",
    "  print()"
   ]
  },
  {
   "cell_type": "markdown",
   "metadata": {},
   "source": [
    "## Plot position-average ribosome density across motifs of interest"
   ]
  },
  {
   "cell_type": "code",
   "execution_count": 34,
   "metadata": {
    "vscode": {
     "languageId": "r"
    }
   },
   "outputs": [
    {
     "name": "stderr",
     "output_type": "stream",
     "text": [
      "`summarise()` has grouped output by 'motif_type'. You can override using the `.groups` argument.\n"
     ]
    },
    {
     "name": "stdout",
     "output_type": "stream",
     "text": [
      "\u001b[90m# A tibble: 200 × 4\u001b[39m\n",
      "   motif_type   pos read_density     n\n",
      "   \u001b[3m\u001b[90m<fct>\u001b[39m\u001b[23m      \u001b[3m\u001b[90m<int>\u001b[39m\u001b[23m        \u001b[3m\u001b[90m<dbl>\u001b[39m\u001b[23m \u001b[3m\u001b[90m<int>\u001b[39m\u001b[23m\n",
      "\u001b[90m 1\u001b[39m stall        -\u001b[31m50\u001b[39m        0.709   488\n",
      "\u001b[90m 2\u001b[39m stall        -\u001b[31m49\u001b[39m        1.10    488\n",
      "\u001b[90m 3\u001b[39m stall        -\u001b[31m48\u001b[39m        1.70    488\n",
      "\u001b[90m 4\u001b[39m stall        -\u001b[31m47\u001b[39m        0.762   488\n",
      "\u001b[90m 5\u001b[39m stall        -\u001b[31m46\u001b[39m        0.995   488\n",
      "\u001b[90m 6\u001b[39m stall        -\u001b[31m45\u001b[39m        1.54    488\n",
      "\u001b[90m 7\u001b[39m stall        -\u001b[31m44\u001b[39m        0.631   488\n",
      "\u001b[90m 8\u001b[39m stall        -\u001b[31m43\u001b[39m        0.930   488\n",
      "\u001b[90m 9\u001b[39m stall        -\u001b[31m42\u001b[39m        1.39    488\n",
      "\u001b[90m10\u001b[39m stall        -\u001b[31m41\u001b[39m        0.599   488\n",
      "\u001b[90m# … with 190 more rows\u001b[39m\n"
     ]
    },
    {
     "name": "stderr",
     "output_type": "stream",
     "text": [
      "Warning message:\n",
      "“Ignoring unknown parameters: linewidth”\n",
      "Scale for 'y' is already present. Adding another scale for 'y', which will\n",
      "replace the existing scale.\n",
      "\n"
     ]
    },
    {
     "data": {
      "image/png": "[encoded data removed]",
      "text/plain": [
       "plot without title"
      ]
     },
     "metadata": {
      "image/png": {
       "height": 90,
       "width": 72
      }
     },
     "output_type": "display_data"
    }
   ],
   "source": [
    "options(repr.plot.width = 1.2, repr.plot.height = 1.5)\n",
    "plot_data <- cvg %>%\n",
    "  group_by(transcript_id) %>% \n",
    "  mutate(has_vk_type_stall = if_else(max(strength) >= 9, T, F)) %>% \n",
    "  ungroup() %>% \n",
    "  filter(has_vk_type_stall) %>% \n",
    "  unite(sample_name, study, sample_name, sep=\":\") %>% \n",
    "  group_by(motif_type, pos) %>% \n",
    "  summarize(read_density = mean(read_density), n = dplyr::n()) %>% \n",
    "  ungroup() %>% \n",
    "  # filter(pos >= 22, pos <= 27) %>%\n",
    "  print()\n",
    "\n",
    "plot_data %>%\n",
    "  ggplot(aes(x = pos, y = read_density, color = motif_type)) +\n",
    "  # facet_wrap(~ sample_name, scales = \"free_x\") +\n",
    "  geom_line(linewidth = 2) +\n",
    "  scale_color_manual(values = c(cbPalette[c(2,1)])) +\n",
    "  theme(legend.position = \"top\") +\n",
    "  scale_y_continuous(breaks = c(0.5, 1.5, 2.5)) +\n",
    "  ylim(0.5, 2.5)+\n",
    "  labs(x = \"Distance from motif (nt)\", y = \"Ribosome density (a.u.)\", color = \"\") +\n",
    "  theme(legend.position = \"top\", legend.key.width = unit(0.3, \"cm\")) +\n",
    "  NULL\n",
    "\n",
    "ggsave(\"../figures/vk_type_ribosome_density.pdf\", width = 1.2, height = 1.5)"
   ]
  },
  {
   "cell_type": "markdown",
   "metadata": {},
   "source": [
    "## Calculate and plot aggregate motif density within a window"
   ]
  },
  {
   "cell_type": "code",
   "execution_count": 28,
   "metadata": {
    "vscode": {
     "languageId": "r"
    }
   },
   "outputs": [
    {
     "name": "stderr",
     "output_type": "stream",
     "text": [
      "`summarise()` has grouped output by 'motif_type', 'y_order'. You can override using the `.groups` argument.\n"
     ]
    },
    {
     "name": "stdout",
     "output_type": "stream",
     "text": [
      "\u001b[90m# A tibble: 971 × 4\u001b[39m\n",
      "   motif_type y_order transcript_id      read_density\n",
      "   \u001b[3m\u001b[90m<fct>\u001b[39m\u001b[23m        \u001b[3m\u001b[90m<int>\u001b[39m\u001b[23m \u001b[3m\u001b[90m<chr>\u001b[39m\u001b[23m                     \u001b[3m\u001b[90m<dbl>\u001b[39m\u001b[23m\n",
      "\u001b[90m 1\u001b[39m stall           88 ENST00000316084.10        0.932\n",
      "\u001b[90m 2\u001b[39m stall           95 ENST00000316084.10        0.818\n",
      "\u001b[90m 3\u001b[39m stall          102 ENST00000307839.9         0.985\n",
      "\u001b[90m 4\u001b[39m stall          113 ENST00000422514.7         1.39 \n",
      "\u001b[90m 5\u001b[39m stall          116 ENST00000422514.7         1.34 \n",
      "\u001b[90m 6\u001b[39m stall          119 ENST00000307839.9         1.02 \n",
      "\u001b[90m 7\u001b[39m stall          124 ENST00000311111.11        0.714\n",
      "\u001b[90m 8\u001b[39m stall          130 ENST00000409028.8         1.16 \n",
      "\u001b[90m 9\u001b[39m stall          133 ENST00000409028.8         1.47 \n",
      "\u001b[90m10\u001b[39m stall          134 ENST00000311111.11        0.705\n",
      "\u001b[90m# … with 961 more rows\u001b[39m\n"
     ]
    },
    {
     "name": "stderr",
     "output_type": "stream",
     "text": [
      "Warning message:\n",
      "“Transformation introduced infinite values in continuous y-axis”\n"
     ]
    },
    {
     "data": {
      "image/png": "[encoded data removed]",
      "text/plain": [
       "plot without title"
      ]
     },
     "metadata": {
      "image/png": {
       "height": 90,
       "width": 72
      }
     },
     "output_type": "display_data"
    }
   ],
   "source": [
    "plot_data <- cvg %>%\n",
    "  group_by(transcript_id) %>% \n",
    "  mutate(has_vk_type_stall = if_else(max(strength) >= 9, T, F)) %>% \n",
    "  ungroup() %>% \n",
    "  filter(has_vk_type_stall) %>% \n",
    "  filter(pos >= 20, pos <=30) %>% \n",
    "  group_by(motif_type, y_order, transcript_id) %>% \n",
    "  summarize(read_density = mean(read_density)) %>%\n",
    "  ungroup() %>% \n",
    "  print()\n",
    "\n",
    "plot_data %>% \n",
    "  ggplot(aes(x = y_order, y = read_density, color = motif_type)) +\n",
    "  geom_point(size = 0.5) +\n",
    "  scale_color_manual(values = cbPalette[c(2,3)]) +\n",
    "  scale_y_log10()"
   ]
  },
  {
   "cell_type": "markdown",
   "metadata": {},
   "source": [
    "## Same plot as above, but in Violin format"
   ]
  },
  {
   "cell_type": "code",
   "execution_count": 29,
   "metadata": {
    "vscode": {
     "languageId": "r"
    }
   },
   "outputs": [
    {
     "name": "stderr",
     "output_type": "stream",
     "text": [
      "Warning message:\n",
      "“`guides(<scale> = FALSE)` is deprecated. Please use `guides(<scale> = \"none\")` instead.”\n",
      "Warning message:\n",
      "“Transformation introduced infinite values in continuous y-axis”\n",
      "Warning message:\n",
      "“Removed 37 rows containing non-finite values (stat_ydensity).”\n",
      "Saving 6.67 x 6.67 in image\n",
      "\n",
      "Warning message:\n",
      "“Transformation introduced infinite values in continuous y-axis”\n",
      "Warning message:\n",
      "“Removed 37 rows containing non-finite values (stat_ydensity).”\n"
     ]
    },
    {
     "data": {
      "image/png": "[encoded data removed]",
      "text/plain": [
       "plot without title"
      ]
     },
     "metadata": {
      "image/png": {
       "height": 90,
       "width": 72
      }
     },
     "output_type": "display_data"
    }
   ],
   "source": [
    "plot_data %>% \n",
    "  # ggplot(aes(x = motif_type, y = read_density, color = motif_type)) +\n",
    "  ggplot(aes(x = motif_type, y = read_density, fill = motif_type)) +\n",
    "  # geom_jitter(size = 0.5, height = 0) +\n",
    "  geom_violin(color = \"black\") +\n",
    "  # scale_color_manual(values = cbPalette[c(2,1)]) +\n",
    "  scale_fill_manual(values = cbPalette[c(2,1)]) +\n",
    "  guides(fill = F) +\n",
    "  labs(x = \"Peptide score\", y = \"Mean ribosome density\\n+20nt to +30nt (a.u.)\", color = \"\") +\n",
    "  scale_y_log10()\n",
    "\n",
    "ggsave(glue(\"../figures/mean_vk_type_density_20to30_{studies_analyzed}.pdf\"))"
   ]
  },
  {
   "cell_type": "markdown",
   "metadata": {},
   "source": [
    "## Compare the control and stall motif densities for significant differences"
   ]
  },
  {
   "cell_type": "code",
   "execution_count": 30,
   "metadata": {
    "vscode": {
     "languageId": "r"
    }
   },
   "outputs": [
    {
     "name": "stderr",
     "output_type": "stream",
     "text": [
      "Warning message:\n",
      "“`...` must not be empty for ungrouped data frames.\n",
      "Did you want `data = everything()`?”\n"
     ]
    },
    {
     "name": "stdout",
     "output_type": "stream",
     "text": [
      "\u001b[90m# A tibble: 1 × 5\u001b[39m\n",
      "      n statistic   p.value method                                   alternative\n",
      "  \u001b[3m\u001b[90m<int>\u001b[39m\u001b[23m     \u001b[3m\u001b[90m<dbl>\u001b[39m\u001b[23m     \u001b[3m\u001b[90m<dbl>\u001b[39m\u001b[23m \u001b[3m\u001b[90m<chr>\u001b[39m\u001b[23m                                    \u001b[3m\u001b[90m<chr>\u001b[39m\u001b[23m      \n",
      "\u001b[90m1\u001b[39m   971    \u001b[4m1\u001b[24m\u001b[4m3\u001b[24m\u001b[4m6\u001b[24m409 0.000\u001b[4m0\u001b[24m\u001b[4m1\u001b[24m\u001b[4m0\u001b[24m9 Wilcoxon rank sum test with continuity … greater    \n"
     ]
    }
   ],
   "source": [
    "plot_data %>% \n",
    "  nest() %>% \n",
    "  mutate(test = map(data, function(df) wilcox.test(read_density ~ motif_type, data = df, alternative = \"greater\"))) %>% \n",
    "  mutate(n = map_int(data, nrow)) %>% \n",
    "  mutate(test_results = map(test, broom::tidy)) %>% \n",
    "  select(-data, -test) %>% \n",
    "  unnest(test_results) %>% \n",
    "  print()"
   ]
  },
  {
   "cell_type": "markdown",
   "metadata": {},
   "source": [
    "## Tabulate aggregate coverage density "
   ]
  },
  {
   "cell_type": "code",
   "execution_count": 31,
   "metadata": {
    "vscode": {
     "languageId": "r"
    }
   },
   "outputs": [
    {
     "name": "stderr",
     "output_type": "stream",
     "text": [
      "`summarise()` has grouped output by 'motif_type'. You can override using the `.groups` argument.\n"
     ]
    },
    {
     "name": "stdout",
     "output_type": "stream",
     "text": [
      "\u001b[90m# A tibble: 5,302 × 10\u001b[39m\n",
      "   motif_type transcript_id  motif_read_dens… cds_read_density gene_name.x   loc\n",
      "   \u001b[3m\u001b[90m<chr>\u001b[39m\u001b[23m      \u001b[3m\u001b[90m<chr>\u001b[39m\u001b[23m                     \u001b[3m\u001b[90m<dbl>\u001b[39m\u001b[23m            \u001b[3m\u001b[90m<dbl>\u001b[39m\u001b[23m \u001b[3m\u001b[90m<chr>\u001b[39m\u001b[23m       \u001b[3m\u001b[90m<dbl>\u001b[39m\u001b[23m\n",
      "\u001b[90m 1\u001b[39m stall      ENST000003756…            13.4             0.629 HSPA1L       \u001b[4m1\u001b[24m179\n",
      "\u001b[90m 2\u001b[39m stall      ENST000002534…            10.0             0.823 GINS2         419\n",
      "\u001b[90m 3\u001b[39m control    ENST000003777…             9.18            3.33  HIST1H2BI      69\n",
      "\u001b[90m 4\u001b[39m stall      ENST000005509…             8.19            1.27  NACA         \u001b[4m2\u001b[24m577\n",
      "\u001b[90m 5\u001b[39m stall      ENST000005105…             8.15            0.523 SEPTIN11      545\n",
      "\u001b[90m 6\u001b[39m stall      ENST000005284…             8.06            0.594 RDX           535\n",
      "\u001b[90m 7\u001b[39m stall      ENST000002330…             7.68            0.722 DAZAP1        311\n",
      "\u001b[90m 8\u001b[39m control    ENST000003610…             7.53            0.540 MATR3        \u001b[4m1\u001b[24m399\n",
      "\u001b[90m 9\u001b[39m stall      ENST000003133…             6.79            0.387 TAF7         \u001b[4m1\u001b[24m181\n",
      "\u001b[90m10\u001b[39m control    ENST000005413…             6.72            3.72  TUBA1C        310\n",
      "\u001b[90m# … with 5,292 more rows, and 4 more variables: motif <chr>, strength <dbl>,\u001b[39m\n",
      "\u001b[90m#   nt72 <chr>, gene_name.y <chr>\u001b[39m\n"
     ]
    }
   ],
   "source": [
    "cvg %>% \n",
    "  filter(pos >= 20, pos <=30) %>% \n",
    "  group_by(motif_type, transcript_id) %>% \n",
    "  summarize(motif_read_density = mean(read_density), cds_read_density = mean(cds_read_density)) %>%\n",
    "  ungroup() %>% \n",
    "  # mutate(sample_name = str_extract(sample_name, '[:digit:]$')) %>% \n",
    "  # pivot_wider(names_from = sample_name, values_from = c(motif_read_density, cds_read_density)) %>%\n",
    "  arrange(desc(motif_read_density)) %>%\n",
    "  left_join(vk_type_motif_annotations, by = c(\"motif_type\", \"transcript_id\")) %>%\n",
    "  left_join(select(ccds_annotations, transcript_id, gene_name), by = \"transcript_id\") %>%\n",
    "  # select(-transcript_id) %>%\n",
    "  write_tsv(\"../tables/20210215_vk_type_motifs_controls_han2020_plus20to30_mean_ribo_density.tsv.gz\") %>%\n",
    "  print()"
   ]
  },
  {
   "cell_type": "markdown",
   "metadata": {},
   "source": [
    "## Load transcript coverage"
   ]
  },
  {
   "cell_type": "code",
   "execution_count": 32,
   "metadata": {
    "vscode": {
     "languageId": "r"
    }
   },
   "outputs": [
    {
     "name": "stdout",
     "output_type": "stream",
     "text": [
      "\u001b[90m# A tibble: 2 × 6\u001b[39m\n",
      "    sno file                                    gsm   study sample_name data    \n",
      "  \u001b[3m\u001b[90m<int>\u001b[39m\u001b[23m \u001b[3m\u001b[90m<chr>\u001b[39m\u001b[23m                                   \u001b[3m\u001b[90m<chr>\u001b[39m\u001b[23m \u001b[3m\u001b[90m<chr>\u001b[39m\u001b[23m \u001b[3m\u001b[90m<chr>\u001b[39m\u001b[23m       \u001b[3m\u001b[90m<list>\u001b[39m\u001b[23m  \n",
      "\u001b[90m1\u001b[39m     1 ../data/coverage//GSM3907597.transcrip… GSM3… han2… monosome_r… <tibble>\n",
      "\u001b[90m2\u001b[39m     2 ../data/coverage//GSM3907598.transcrip… GSM3… han2… monosome_r… <tibble>\n"
     ]
    }
   ],
   "source": [
    "tx_coverage <- '../data/coverage/' %>% \n",
    "  list.files(full.names = T, pattern = '.transcripts.bedGraph.gz$')  %>%\n",
    "  enframe(\"sno\", \"file\") %>%\n",
    "  mutate(gsm = str_extract(file, 'GSM[:digit:]+')) %>%\n",
    "  right_join(sample_annotations, by = \"gsm\") %>%\n",
    "  mutate(data = map(file, function(f) import.bedGraph(f) %>% as_tibble())) %>%\n",
    "  print()"
   ]
  },
  {
   "cell_type": "markdown",
   "metadata": {},
   "source": [
    "## Plot transcript coverage around gene of interest"
   ]
  },
  {
   "cell_type": "code",
   "execution_count": 33,
   "metadata": {
    "vscode": {
     "languageId": "r"
    }
   },
   "outputs": [
    {
     "name": "stderr",
     "output_type": "stream",
     "text": [
      "\n",
      "\u001b[36m──\u001b[39m \u001b[1mColumn specification\u001b[22m \u001b[36m────────────────────────────────────────────────────────\u001b[39m\n",
      "cols(\n",
      "  study = \u001b[31mcol_character()\u001b[39m,\n",
      "  sample_name = \u001b[31mcol_character()\u001b[39m,\n",
      "  gene_name = \u001b[31mcol_character()\u001b[39m,\n",
      "  stall_loc = \u001b[32mcol_double()\u001b[39m\n",
      ")\n",
      "\n"
     ]
    },
    {
     "name": "stdout",
     "output_type": "stream",
     "text": [
      "\u001b[90m# A tibble: 5,662 × 6\u001b[39m\n",
      "   study   sample_name   gene_name stall_loc   loc count\n",
      "   \u001b[3m\u001b[90m<chr>\u001b[39m\u001b[23m   \u001b[3m\u001b[90m<chr>\u001b[39m\u001b[23m         \u001b[3m\u001b[90m<chr>\u001b[39m\u001b[23m         \u001b[3m\u001b[90m<dbl>\u001b[39m\u001b[23m \u001b[3m\u001b[90m<int>\u001b[39m\u001b[23m \u001b[3m\u001b[90m<dbl>\u001b[39m\u001b[23m\n",
      "\u001b[90m 1\u001b[39m han2020 monosome_rep1 SSRP1           489     1     0\n",
      "\u001b[90m 2\u001b[39m han2020 monosome_rep1 SSRP1           489     2     0\n",
      "\u001b[90m 3\u001b[39m han2020 monosome_rep1 SSRP1           489     3     0\n",
      "\u001b[90m 4\u001b[39m han2020 monosome_rep1 SSRP1           489     4     0\n",
      "\u001b[90m 5\u001b[39m han2020 monosome_rep1 SSRP1           489     5     0\n",
      "\u001b[90m 6\u001b[39m han2020 monosome_rep1 SSRP1           489     6     0\n",
      "\u001b[90m 7\u001b[39m han2020 monosome_rep1 SSRP1           489     7     0\n",
      "\u001b[90m 8\u001b[39m han2020 monosome_rep1 SSRP1           489     8     0\n",
      "\u001b[90m 9\u001b[39m han2020 monosome_rep1 SSRP1           489     9     0\n",
      "\u001b[90m10\u001b[39m han2020 monosome_rep1 SSRP1           489    10     0\n",
      "\u001b[90m# … with 5,652 more rows\u001b[39m\n"
     ]
    },
    {
     "name": "stderr",
     "output_type": "stream",
     "text": [
      "Saving 6.67 x 6.67 in image\n",
      "\n"
     ]
    },
    {
     "data": {
      "image/png": "[encoded data removed]",
      "text/plain": [
       "plot without title"
      ]
     },
     "metadata": {
      "image/png": {
       "height": 90,
       "width": 72
      }
     },
     "output_type": "display_data"
    }
   ],
   "source": [
    "goi <- c(\"SSRP1\")\n",
    "plot_data <- tx_coverage %>% \n",
    "  select(-sno, -file, -gsm) %>% \n",
    "  unnest(data) %>% \n",
    "  mutate(seqnames = as.character(seqnames)) %>% \n",
    "  left_join(vk_type_motif_annotations %>% filter(motif_type == \"stall\"), by = c(\"seqnames\" = \"transcript_id\")) %>%\n",
    "  filter(gene_name %in% goi) %>% \n",
    "  unite(sample_name, study, sample_name, gene_name, loc, sep=\":\") %>%\n",
    "  GRanges() %>%\n",
    "  split(.$sample_name) %>%\n",
    "  lapply(function (gr) coverage(gr, weight=gr$score) %>% unlist() %>% as.vector %>% enframe(\"loc\", \"count\")) %>%\n",
    "  bind_rows(.id = \"sample_name\") %>%\n",
    "  separate(sample_name, into = c(\"study\", \"sample_name\", \"gene_name\", \"stall_loc\"), sep = \":\") %>%\n",
    "  type_convert() %>% \n",
    "  print()\n",
    "\n",
    "study <- plot_data %>% distinct(study) %>% pull(study)\n",
    "gene_name <- plot_data %>% distinct(gene_name) %>% pull(gene_name)\n",
    "stall_loc <- plot_data %>% group_by(sample_name, gene_name) %>% mutate(yloc = max(count)) %>% slice(1) %>% ungroup()\n",
    "\n",
    "plot_data %>%\n",
    "  ggplot(aes(x = loc, y = count)) +\n",
    "  facet_wrap(~ sample_name + gene_name, ncol = 1, scales = \"free_x\") +\n",
    "  geom_vline(aes(xintercept = stall_loc), data = stall_loc, color = \"palegreen\", linetype = \"dashed\") +\n",
    "  geom_text(aes(x = stall_loc, y = yloc), data = stall_loc, label = \"stall\", size = 2, hjust = 1) +\n",
    "  geom_area() \n",
    "\n",
    "ggsave(glue(\"../figures/20210215_coverage_{study}_{gene_name}.pdf\"))"
   ]
  }
 ],
 "metadata": {
  "kernelspec": {
   "display_name": "R",
   "language": "R",
   "name": "ir"
  },
  "language_info": {
   "codemirror_mode": "r",
   "file_extension": ".r",
   "mimetype": "text/x-r-source",
   "name": "R",
   "pygments_lexer": "r",
   "version": "4.1.1"
  },
  "orig_nbformat": 4,
  "vscode": {
   "interpreter": {
    "hash": "4a3b6ef83ee1ec2b7fe6fe1fde1a09ba53996543427aecf25ba0006f0b020fc5"
   }
  }
 },
 "nbformat": 4,
 "nbformat_minor": 2
}
