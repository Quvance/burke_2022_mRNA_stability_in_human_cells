{
 "cells": [
  {
   "cell_type": "markdown",
   "metadata": {},
   "source": [
    "# Download SRA annotations based on GEO accessions"
   ]
  },
  {
   "cell_type": "markdown",
   "metadata": {},
   "source": [
    "## Load libraries and define analysis-specific variables"
   ]
  },
  {
   "cell_type": "code",
   "execution_count": 19,
   "metadata": {
    "vscode": {
     "languageId": "r"
    }
   },
   "outputs": [],
   "source": [
    "suppressPackageStartupMessages(library(GEOquery))\n",
    "suppressPackageStartupMessages(library(reutils))\n",
    "suppressPackageStartupMessages(library(xml2))\n",
    "suppressPackageStartupMessages(library(glue))\n",
    "suppressPackageStartupMessages(library(tidyverse))"
   ]
  },
  {
   "cell_type": "markdown",
   "metadata": {},
   "source": [
    "## Load GEO datasets that we want to download annotations and download GEO record"
   ]
  },
  {
   "cell_type": "code",
   "execution_count": 22,
   "metadata": {
    "vscode": {
     "languageId": "r"
    }
   },
   "outputs": [
    {
     "name": "stderr",
     "output_type": "stream",
     "text": [
      "Using locally cached version of GSE145723 found here:\n",
      "/tmp/RtmpM56ACw/GSE145723.soft.gz \n",
      "\n",
      "Reading file....\n",
      "\n",
      "Parsing....\n",
      "\n",
      "Found 11 entities...\n",
      "\n",
      "GPL20301 (1 of 12 entities)\n",
      "\n",
      "GSM3907597 (2 of 12 entities)\n",
      "\n",
      "GSM3907598 (3 of 12 entities)\n",
      "\n",
      "GSM3907599 (4 of 12 entities)\n",
      "\n",
      "GSM3907600 (5 of 12 entities)\n",
      "\n",
      "GSM4176097 (6 of 12 entities)\n",
      "\n",
      "GSM4176098 (7 of 12 entities)\n",
      "\n",
      "GSM4331576 (8 of 12 entities)\n",
      "\n",
      "GSM4331577 (9 of 12 entities)\n",
      "\n",
      "GSM4331578 (10 of 12 entities)\n",
      "\n",
      "GSM4331579 (11 of 12 entities)\n",
      "\n"
     ]
    },
    {
     "name": "stdout",
     "output_type": "stream",
     "text": [
      "\u001b[90m# A tibble: 1 × 21\u001b[39m\n",
      "  study  study_subset gse     pmid organism rrna_index trim  adapter trim5 trim3\n",
      "  \u001b[3m\u001b[90m<chr>\u001b[39m\u001b[23m  \u001b[3m\u001b[90m<chr>\u001b[39m\u001b[23m        \u001b[3m\u001b[90m<chr>\u001b[39m\u001b[23m  \u001b[3m\u001b[90m<dbl>\u001b[39m\u001b[23m \u001b[3m\u001b[90m<chr>\u001b[39m\u001b[23m    \u001b[3m\u001b[90m<chr>\u001b[39m\u001b[23m      \u001b[3m\u001b[90m<chr>\u001b[39m\u001b[23m \u001b[3m\u001b[90m<lgl>\u001b[39m\u001b[23m   \u001b[3m\u001b[90m<lgl>\u001b[39m\u001b[23m \u001b[3m\u001b[90m<lgl>\u001b[39m\u001b[23m\n",
      "\u001b[90m1\u001b[39m han20… monosome     GSE1… 3.24\u001b[90me\u001b[39m7 human    hg38.rrna  no    \u001b[31mNA\u001b[39m      \u001b[31mNA\u001b[39m    \u001b[31mNA\u001b[39m   \n",
      "\u001b[90m# … with 11 more variables: trim_condition <lgl>, comment <lgl>,\u001b[39m\n",
      "\u001b[90m#   transcript_index <chr>, transcript_annotations <chr>, sample_subset <lgl>,\u001b[39m\n",
      "\u001b[90m#   codon_annotations <chr>, align_parameters <chr>,\u001b[39m\n",
      "\u001b[90m#   vk_type_motif_annotations <chr>, hisat2_index <chr>,\u001b[39m\n",
      "\u001b[90m#   strand_stall_motif_annotations <chr>, geo <list>\u001b[39m\n"
     ]
    }
   ],
   "source": [
    "geo_accessions <- read_csv(\"../annotations/geo_accession_numbers.csv\",\n",
    "  comment = \"#\",\n",
    "  show_col_types = F\n",
    ") %>%\n",
    "  mutate(geo = map(gse, ~getGEO(.x, GSEMatrix = FALSE))) %>%\n",
    "  print()"
   ]
  },
  {
   "cell_type": "markdown",
   "metadata": {},
   "source": [
    "## Define functions for parsing specific meta-data values"
   ]
  },
  {
   "cell_type": "code",
   "execution_count": 5,
   "metadata": {
    "vscode": {
     "languageId": "r"
    }
   },
   "outputs": [],
   "source": [
    "\n",
    "get_bioproject_number <- function(geo) {\n",
    "  Meta(geo) %>% \n",
    "  enframe(\"annotation\", \"value\") %>%\n",
    "  unnest() %>%\n",
    "  mutate(bioproject_number = str_extract(value, \"PRJNA[:digit:]+\")) %>%\n",
    "  filter(!is.na(bioproject_number)) %>%\n",
    "  pull(bioproject_number)\n",
    "}\n",
    "\n",
    "get_gsm_meta <- function(gsm) {\n",
    "  Meta(gsm) %>% \n",
    "  enframe(\"annotation\", \"value\") %>%\n",
    "  unnest()\n",
    "}\n",
    "\n",
    "get_srx_number <- function(gsm) {\n",
    "  gsm %>% \n",
    "    mutate(srx = str_extract(value, \"SRX[:digit:]+\")) %>%\n",
    "    filter(!is.na(srx)) %>%\n",
    "    pull(srx)\n",
    "}\n",
    "    \n",
    "get_gsm_title <- function(gsm) {\n",
    "  gsm %>% \n",
    "    filter(annotation == \"title\") %>% \n",
    "    pull(value) %>% \n",
    "    janitor::make_clean_names()\n",
    "}\n",
    "\n",
    "get_gsm_organism <- function(gsm) {\n",
    "  gsm %>% \n",
    "    filter(str_detect(annotation, \"organism\")) %>% \n",
    "    pull(value) %>% \n",
    "    janitor::make_clean_names()\n",
    "}\n",
    "\n",
    "get_gsm_celltype <- function(gsm) {\n",
    "  gsm %>%\n",
    "    mutate(celltype = str_extract(value, \"293|((?<=cell line: |tissue: |cell type: ).+)\")) %>%\n",
    "    filter(!is.na(celltype)) %>%\n",
    "    slice(1) %>% \n",
    "    pull(celltype) %>% \n",
    "    janitor::make_clean_names()\n",
    "}"
   ]
  },
  {
   "cell_type": "markdown",
   "metadata": {},
   "source": [
    "## Parse Experiment and Project annotations"
   ]
  },
  {
   "cell_type": "code",
   "execution_count": 24,
   "metadata": {
    "vscode": {
     "languageId": "r"
    }
   },
   "outputs": [
    {
     "name": "stderr",
     "output_type": "stream",
     "text": [
      "Warning message:\n",
      "“`cols` is now required when using unnest().\n",
      "Please use `cols = c(value)`”\n",
      "Warning message:\n",
      "“`cols` is now required when using unnest().\n",
      "Please use `cols = c(value)`”\n",
      "Warning message:\n",
      "“`cols` is now required when using unnest().\n",
      "Please use `cols = c(value)`”\n",
      "Warning message:\n",
      "“`cols` is now required when using unnest().\n",
      "Please use `cols = c(value)`”\n",
      "Warning message:\n",
      "“`cols` is now required when using unnest().\n",
      "Please use `cols = c(value)`”\n",
      "Warning message:\n",
      "“`cols` is now required when using unnest().\n",
      "Please use `cols = c(value)`”\n",
      "Warning message:\n",
      "“`cols` is now required when using unnest().\n",
      "Please use `cols = c(value)`”\n",
      "Warning message:\n",
      "“`cols` is now required when using unnest().\n",
      "Please use `cols = c(value)`”\n",
      "Warning message:\n",
      "“`cols` is now required when using unnest().\n",
      "Please use `cols = c(value)`”\n",
      "Warning message:\n",
      "“`cols` is now required when using unnest().\n",
      "Please use `cols = c(value)`”\n",
      "Warning message:\n",
      "“`cols` is now required when using unnest().\n",
      "Please use `cols = c(value)`”\n"
     ]
    },
    {
     "name": "stdout",
     "output_type": "stream",
     "text": [
      "\u001b[90m# A tibble: 10 × 5\u001b[39m\n",
      "   gsm        gse       prjna       srx        cell_type\n",
      "   \u001b[3m\u001b[90m<chr>\u001b[39m\u001b[23m      \u001b[3m\u001b[90m<chr>\u001b[39m\u001b[23m     \u001b[3m\u001b[90m<chr>\u001b[39m\u001b[23m       \u001b[3m\u001b[90m<chr>\u001b[39m\u001b[23m      \u001b[3m\u001b[90m<chr>\u001b[39m\u001b[23m    \n",
      "\u001b[90m 1\u001b[39m GSM3907597 GSE145723 PRJNA607993 SRX6369535 hek293   \n",
      "\u001b[90m 2\u001b[39m GSM3907598 GSE145723 PRJNA607993 SRX6369536 hek293   \n",
      "\u001b[90m 3\u001b[39m GSM3907599 GSE145723 PRJNA607993 SRX6369537 hek293   \n",
      "\u001b[90m 4\u001b[39m GSM3907600 GSE145723 PRJNA607993 SRX6369538 hek293   \n",
      "\u001b[90m 5\u001b[39m GSM4176097 GSE145723 PRJNA607993 SRX7182523 hek293   \n",
      "\u001b[90m 6\u001b[39m GSM4176098 GSE145723 PRJNA607993 SRX7182524 hek293   \n",
      "\u001b[90m 7\u001b[39m GSM4331576 GSE145723 PRJNA607993 SRX7778690 hek293   \n",
      "\u001b[90m 8\u001b[39m GSM4331577 GSE145723 PRJNA607993 SRX7778691 hek293   \n",
      "\u001b[90m 9\u001b[39m GSM4331578 GSE145723 PRJNA607993 SRX7778692 hek293   \n",
      "\u001b[90m10\u001b[39m GSM4331579 GSE145723 PRJNA607993 SRX7778693 hek293   \n"
     ]
    }
   ],
   "source": [
    "geo_annotations <- geo_accessions %>%\n",
    "  mutate(prjna = map_chr(geo, get_bioproject_number)) %>%\n",
    "  mutate(gsm = map(geo, GSMList)) %>%\n",
    "  select(-geo) %>%\n",
    "  mutate(gsm_number = map(gsm, names)) %>%\n",
    "  unnest(cols = c(gsm, gsm_number)) %>%\n",
    "  mutate(gsm = map(gsm, get_gsm_meta)) %>%\n",
    "  mutate(sample_title = map_chr(gsm, get_gsm_title)) %>%\n",
    "  mutate(srx = map_chr(gsm, get_srx_number)) %>%\n",
    "  mutate(organism = map_chr(gsm, get_gsm_organism)) %>%\n",
    "  mutate(cell_type = map_chr(gsm, get_gsm_celltype)) %>%\n",
    "  select(-gsm) %>%\n",
    "  rename(gsm = gsm_number) %>%\n",
    "  select(gsm, gse, prjna, srx, cell_type) %>%\n",
    "  group_by(gsm) %>%\n",
    "  slice(1) %>%\n",
    "  ungroup() %>%\n",
    "  mutate(cell_type = if_else(str_detect(cell_type, \"embryonic_kidney\"),\n",
    "    \"HEK293T\", cell_type\n",
    "  )) %>%\n",
    "  print()"
   ]
  },
  {
   "cell_type": "markdown",
   "metadata": {},
   "source": [
    "## Get SRA Run information for the BioProject number associated with each study"
   ]
  },
  {
   "cell_type": "code",
   "execution_count": 10,
   "metadata": {
    "vscode": {
     "languageId": "r"
    }
   },
   "outputs": [
    {
     "name": "stdout",
     "output_type": "stream",
     "text": [
      "[1] \"PRJNA607993\"\n"
     ]
    }
   ],
   "source": [
    "esearch_query <- geo_annotations %>% \n",
    "  distinct(prjna) %>% \n",
    "  pull() %>% \n",
    "  paste0(collapse = \" or \") %>% \n",
    "  print()\n",
    "\n",
    "esearch_result <- esearch(esearch_query, db = \"sra\")\n",
    "efetch_result <- efetch(esearch_result, db = \"sra\")"
   ]
  },
  {
   "cell_type": "markdown",
   "metadata": {},
   "source": [
    "## Parse XML file to extract SRA information"
   ]
  },
  {
   "cell_type": "code",
   "execution_count": 25,
   "metadata": {
    "vscode": {
     "languageId": "r"
    }
   },
   "outputs": [
    {
     "name": "stderr",
     "output_type": "stream",
     "text": [
      "\n",
      "\u001b[36m──\u001b[39m \u001b[1mColumn specification\u001b[22m \u001b[36m────────────────────────────────────────────────────────\u001b[39m\n",
      "cols(\n",
      "  gsm = \u001b[31mcol_character()\u001b[39m,\n",
      "  srx = \u001b[31mcol_character()\u001b[39m,\n",
      "  sample_name = \u001b[31mcol_character()\u001b[39m,\n",
      "  accession = \u001b[31mcol_character()\u001b[39m,\n",
      "  total_spots = \u001b[32mcol_double()\u001b[39m,\n",
      "  total_bases = \u001b[32mcol_double()\u001b[39m\n",
      ")\n",
      "\n"
     ]
    }
   ],
   "source": [
    "sra_info <- read_xml(content(efetch_result, as = \"text\"))\n",
    "\n",
    "sra_annotations <- sra_info %>% \n",
    "  xml_find_all(\"//EXPERIMENT\") %>% \n",
    "  map_df(xml_attrs) %>%\n",
    "  rename(srx = accession, gsm = alias) %>% \n",
    "  mutate(sample_name = map(gsm, function (x) xml_text(xml_find_all(sra_info, glue('//SAMPLE[@alias=\"{x}\"]/TITLE'))))) %>%\n",
    "  mutate(data = map(srx, function (x) bind_rows(xml_attrs(xml_find_all(sra_info, glue('//EXPERIMENT_REF[@accession=\"{x}\"]/..')))))) %>%\n",
    "  unnest(c(sample_name, data)) %>%\n",
    "  select(gsm, srx, sample_name, accession, total_spots, total_bases) %>%\n",
    "  type_convert() %>%\n",
    "  rename(srr = accession) %>%\n",
    "  mutate(sample_name = janitor::make_clean_names(sample_name)) %>%\n",
    "  select(srr, everything()) %>%\n",
    "  left_join(select(geo_annotations, gsm, gse, cell_type), by = \"gsm\") %>%\n",
    "  select(-srx, -total_spots, -total_bases) %>%\n",
    "  left_join(select(geo_accessions, study_subset, gse), by = \"gse\") %>%\n",
    "  filter(str_detect(sample_name, tolower(study_subset)) | is.na(study_subset)) %>%\n",
    "  select(-study_subset) %>%\n",
    "  write_tsv(\"../annotations/sra_annotations.tsv\") "
   ]
  },
  {
   "cell_type": "markdown",
   "metadata": {},
   "source": [
    "## Print SRA annotations"
   ]
  },
  {
   "cell_type": "code",
   "execution_count": 18,
   "metadata": {
    "vscode": {
     "languageId": "r"
    }
   },
   "outputs": [
    {
     "data": {
      "text/html": [
       "<table class=\"dataframe\">\n",
       "<caption>A tibble: 2 × 5</caption>\n",
       "<thead>\n",
       "\t<tr><th scope=col>srr</th><th scope=col>gsm</th><th scope=col>sample_name</th><th scope=col>gse</th><th scope=col>cell_type</th></tr>\n",
       "\t<tr><th scope=col>&lt;chr&gt;</th><th scope=col>&lt;chr&gt;</th><th scope=col>&lt;chr&gt;</th><th scope=col>&lt;chr&gt;</th><th scope=col>&lt;chr&gt;</th></tr>\n",
       "</thead>\n",
       "<tbody>\n",
       "\t<tr><td>SRR9604620</td><td>GSM3907598</td><td>monosome_rep2</td><td>GSE145723</td><td>hek293</td></tr>\n",
       "\t<tr><td>SRR9604619</td><td>GSM3907597</td><td>monosome_rep1</td><td>GSE145723</td><td>hek293</td></tr>\n",
       "</tbody>\n",
       "</table>\n"
      ],
      "text/latex": [
       "A tibble: 2 × 5\n",
       "\\begin{tabular}{lllll}\n",
       " srr & gsm & sample\\_name & gse & cell\\_type\\\\\n",
       " <chr> & <chr> & <chr> & <chr> & <chr>\\\\\n",
       "\\hline\n",
       "\t SRR9604620 & GSM3907598 & monosome\\_rep2 & GSE145723 & hek293\\\\\n",
       "\t SRR9604619 & GSM3907597 & monosome\\_rep1 & GSE145723 & hek293\\\\\n",
       "\\end{tabular}\n"
      ],
      "text/markdown": [
       "\n",
       "A tibble: 2 × 5\n",
       "\n",
       "| srr &lt;chr&gt; | gsm &lt;chr&gt; | sample_name &lt;chr&gt; | gse &lt;chr&gt; | cell_type &lt;chr&gt; |\n",
       "|---|---|---|---|---|\n",
       "| SRR9604620 | GSM3907598 | monosome_rep2 | GSE145723 | hek293 |\n",
       "| SRR9604619 | GSM3907597 | monosome_rep1 | GSE145723 | hek293 |\n",
       "\n"
      ],
      "text/plain": [
       "  srr        gsm        sample_name   gse       cell_type\n",
       "1 SRR9604620 GSM3907598 monosome_rep2 GSE145723 hek293   \n",
       "2 SRR9604619 GSM3907597 monosome_rep1 GSE145723 hek293   "
      ]
     },
     "metadata": {},
     "output_type": "display_data"
    }
   ],
   "source": [
    "sra_annotations"
   ]
  }
 ],
 "metadata": {
  "kernelspec": {
   "display_name": "R",
   "language": "R",
   "name": "ir"
  },
  "language_info": {
   "codemirror_mode": "r",
   "file_extension": ".r",
   "mimetype": "text/x-r-source",
   "name": "R",
   "pygments_lexer": "r",
   "version": "4.1.1"
  },
  "orig_nbformat": 4,
  "vscode": {
   "interpreter": {
    "hash": "33ccdda4403b85622dcca6b225ea57e4a6a8ea27d62bd4ef32f6f7605d06a567"
   }
  }
 },
 "nbformat": 4,
 "nbformat_minor": 2
}
