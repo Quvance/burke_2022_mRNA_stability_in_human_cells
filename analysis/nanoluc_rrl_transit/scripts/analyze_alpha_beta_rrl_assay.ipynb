{
 "cells": [
  {
   "cell_type": "markdown",
   "metadata": {},
   "source": [
    "\n",
    "## Meausure elongation kinetics of Alpha-helix vs Beta-sheet forming mRNAs\n",
    "\n",
    "### Goal\n",
    "\n",
    "- Testing VKFS vs KVFS and SVKF vs SKVF alpha helix/beta sheet inserts. Tested each insert in technical triplicate.  \n",
    "\n",
    "- We expect that beta-sheet forming peptides strongly decrease translation kinetics. \n"
   ]
  },
  {
   "cell_type": "markdown",
   "metadata": {},
   "source": [
    "\n",
    "### Load libraries"
   ]
  },
  {
   "cell_type": "code",
   "execution_count": 2,
   "metadata": {
    "vscode": {
     "languageId": "r"
    }
   },
   "outputs": [
    {
     "name": "stderr",
     "output_type": "stream",
     "text": [
      "── \u001b[1mAttaching packages\u001b[22m ─────────────────────────────────────── tidyverse 1.3.2 ──\n",
      "\u001b[32m✔\u001b[39m \u001b[34mggplot2\u001b[39m 3.3.6      \u001b[32m✔\u001b[39m \u001b[34mpurrr  \u001b[39m 0.3.4 \n",
      "\u001b[32m✔\u001b[39m \u001b[34mtibble \u001b[39m 3.1.8      \u001b[32m✔\u001b[39m \u001b[34mdplyr  \u001b[39m 1.0.10\n",
      "\u001b[32m✔\u001b[39m \u001b[34mtidyr  \u001b[39m 1.2.1      \u001b[32m✔\u001b[39m \u001b[34mstringr\u001b[39m 1.4.1 \n",
      "\u001b[32m✔\u001b[39m \u001b[34mreadr  \u001b[39m 2.1.2      \u001b[32m✔\u001b[39m \u001b[34mforcats\u001b[39m 0.5.2 \n",
      "── \u001b[1mConflicts\u001b[22m ────────────────────────────────────────── tidyverse_conflicts() ──\n",
      "\u001b[31m✖\u001b[39m \u001b[34mdplyr\u001b[39m::\u001b[32mfilter()\u001b[39m masks \u001b[34mstats\u001b[39m::filter()\n",
      "\u001b[31m✖\u001b[39m \u001b[34mdplyr\u001b[39m::\u001b[32mlag()\u001b[39m    masks \u001b[34mstats\u001b[39m::lag()\n"
     ]
    }
   ],
   "source": [
    "library(tidyverse)\n",
    "library(plotrix)\n",
    "library(rasilabRtemplates)"
   ]
  },
  {
   "cell_type": "markdown",
   "metadata": {},
   "source": [
    "### Read in data and annotations\n",
    "\n",
    "- Note that the kinetic interval times got thrown off slightly. The machine was not quite able to keep up with a 0.5s integration time for 13 wells, over 10 seconds. However, kinetic intervral between each cycle was still ~10s for each cycle. "
   ]
  },
  {
   "cell_type": "code",
   "execution_count": 3,
   "metadata": {
    "vscode": {
     "languageId": "r"
    }
   },
   "outputs": [
    {
     "name": "stderr",
     "output_type": "stream",
     "text": [
      "\u001b[1mRows: \u001b[22m\u001b[34m200\u001b[39m \u001b[1mColumns: \u001b[22m\u001b[34m16\u001b[39m\n",
      "\u001b[36m──\u001b[39m \u001b[1mColumn specification\u001b[22m \u001b[36m────────────────────────────────────────────────────────\u001b[39m\n",
      "\u001b[1mDelimiter:\u001b[22m \",\"\n",
      "\u001b[32mdbl\u001b[39m (16): cycle, time, temp, A14, A16, C14, C16, E14, E16, G14, G16, I14, I1...\n",
      "\n",
      "\u001b[36mℹ\u001b[39m Use `spec()` to retrieve the full column specification for this data.\n",
      "\u001b[36mℹ\u001b[39m Specify the column types or set `show_col_types = FALSE` to quiet this message.\n"
     ]
    },
    {
     "name": "stdout",
     "output_type": "stream",
     "text": [
      "\u001b[90m# A tibble: 200 × 16\u001b[39m\n",
      "   cycle  time  temp   A14   A16   C14   C16   E14   E16   G14   G16   I14   I16\n",
      "   \u001b[3m\u001b[90m<dbl>\u001b[39m\u001b[23m \u001b[3m\u001b[90m<dbl>\u001b[39m\u001b[23m \u001b[3m\u001b[90m<dbl>\u001b[39m\u001b[23m \u001b[3m\u001b[90m<dbl>\u001b[39m\u001b[23m \u001b[3m\u001b[90m<dbl>\u001b[39m\u001b[23m \u001b[3m\u001b[90m<dbl>\u001b[39m\u001b[23m \u001b[3m\u001b[90m<dbl>\u001b[39m\u001b[23m \u001b[3m\u001b[90m<dbl>\u001b[39m\u001b[23m \u001b[3m\u001b[90m<dbl>\u001b[39m\u001b[23m \u001b[3m\u001b[90m<dbl>\u001b[39m\u001b[23m \u001b[3m\u001b[90m<dbl>\u001b[39m\u001b[23m \u001b[3m\u001b[90m<dbl>\u001b[39m\u001b[23m \u001b[3m\u001b[90m<dbl>\u001b[39m\u001b[23m\n",
      "\u001b[90m 1\u001b[39m     1   0    29.9    -\u001b[31m3\u001b[39m     8     6     4    -\u001b[31m3\u001b[39m     6    -\u001b[31m1\u001b[39m     4    12     6\n",
      "\u001b[90m 2\u001b[39m     2  10.7  29.9    18     8     6     6     8     4     8     6    12     0\n",
      "\u001b[90m 3\u001b[39m     3  21.4  30.2    12    -\u001b[31m1\u001b[39m    12    -\u001b[31m1\u001b[39m     6     8     0     8     6    -\u001b[31m1\u001b[39m\n",
      "\u001b[90m 4\u001b[39m     4  32.2  30.3     4     2     6     2    10     2     2     4     8     0\n",
      "\u001b[90m 5\u001b[39m     5  42.9  30.2    10     2    12     6     0     2     4     2    12     4\n",
      "\u001b[90m 6\u001b[39m     6  53.6  30.2     8     2     4    12    10    -\u001b[31m1\u001b[39m     2     2     4     6\n",
      "\u001b[90m 7\u001b[39m     7  64.3  30.2    -\u001b[31m1\u001b[39m     4     0    12    20    10     6    12     6     8\n",
      "\u001b[90m 8\u001b[39m     8  75.1  30.1    -\u001b[31m1\u001b[39m    16     4     0    24     6     6     8     6     0\n",
      "\u001b[90m 9\u001b[39m     9  85.8  29.9     4     0     8    -\u001b[31m1\u001b[39m    10     2    -\u001b[31m1\u001b[39m     6     2    16\n",
      "\u001b[90m10\u001b[39m    10  96.5  29.7    -\u001b[31m1\u001b[39m    12     6    12    12    12    -\u001b[31m1\u001b[39m     2     4     8\n",
      "\u001b[90m# … with 190 more rows, and 3 more variables: K14 <dbl>, M14 <dbl>, O14 <dbl>\u001b[39m\n"
     ]
    },
    {
     "name": "stderr",
     "output_type": "stream",
     "text": [
      "\u001b[1mRows: \u001b[22m\u001b[34m13\u001b[39m \u001b[1mColumns: \u001b[22m\u001b[34m5\u001b[39m\n",
      "\u001b[36m──\u001b[39m \u001b[1mColumn specification\u001b[22m \u001b[36m────────────────────────────────────────────────────────\u001b[39m\n",
      "\u001b[1mDelimiter:\u001b[22m \",\"\n",
      "\u001b[31mchr\u001b[39m (4): well, mrna_id, dipeptide, structure\n",
      "\u001b[32mdbl\u001b[39m (1): replicate\n",
      "\n",
      "\u001b[36mℹ\u001b[39m Use `spec()` to retrieve the full column specification for this data.\n",
      "\u001b[36mℹ\u001b[39m Specify the column types or set `show_col_types = FALSE` to quiet this message.\n"
     ]
    },
    {
     "name": "stdout",
     "output_type": "stream",
     "text": [
      "\u001b[90m# A tibble: 13 × 5\u001b[39m\n",
      "   well  mrna_id dipeptide structure   replicate\n",
      "   \u001b[3m\u001b[90m<chr>\u001b[39m\u001b[23m \u001b[3m\u001b[90m<chr>\u001b[39m\u001b[23m   \u001b[3m\u001b[90m<chr>\u001b[39m\u001b[23m     \u001b[3m\u001b[90m<chr>\u001b[39m\u001b[23m           \u001b[3m\u001b[90m<dbl>\u001b[39m\u001b[23m\n",
      "\u001b[90m 1\u001b[39m A14   129m8   VKFS      Beta-Sheet          1\n",
      "\u001b[90m 2\u001b[39m C14   129m9   KVFS      Alpha-Helix         1\n",
      "\u001b[90m 3\u001b[39m E14   129m10  SVKF      Beta-Sheet          1\n",
      "\u001b[90m 4\u001b[39m G14   129m11  SKVF      Alpha-Helix         1\n",
      "\u001b[90m 5\u001b[39m I14   129m8   VKFS      Beta-Sheet          2\n",
      "\u001b[90m 6\u001b[39m K14   129m9   KVFS      Alpha-Helix         2\n",
      "\u001b[90m 7\u001b[39m M14   129m10  SVKF      Beta-Sheet          2\n",
      "\u001b[90m 8\u001b[39m O14   129m11  SKVF      Alpha-Helix         2\n",
      "\u001b[90m 9\u001b[39m A16   129m8   VKFS      Beta-Sheet          3\n",
      "\u001b[90m10\u001b[39m C16   129m9   KVFS      Alpha-Helix         3\n",
      "\u001b[90m11\u001b[39m E16   129m10  SVKF      Beta-Sheet          3\n",
      "\u001b[90m12\u001b[39m G16   129m11  SKVF      Alpha-Helix         3\n",
      "\u001b[90m13\u001b[39m I16   \u001b[31mNA\u001b[39m      No mRNA   None                1\n"
     ]
    }
   ],
   "source": [
    "rawcounts <- read_csv(\"../data/alpha_beta_rrl_data.csv\") %>% \n",
    "  print()\n",
    "\n",
    "annotations <- read_csv(\"../data/alpha_beta_sample_annotations.csv\") %>% \n",
    "  print()"
   ]
  },
  {
   "cell_type": "markdown",
   "metadata": {},
   "source": [
    "### Join annotations to data\n"
   ]
  },
  {
   "cell_type": "code",
   "execution_count": 4,
   "metadata": {
    "vscode": {
     "languageId": "r"
    }
   },
   "outputs": [
    {
     "name": "stdout",
     "output_type": "stream",
     "text": [
      "\u001b[90m# A tibble: 2,600 × 7\u001b[39m\n",
      "    time well  count mrna_id dipeptide structure   replicate\n",
      "   \u001b[3m\u001b[90m<dbl>\u001b[39m\u001b[23m \u001b[3m\u001b[90m<chr>\u001b[39m\u001b[23m \u001b[3m\u001b[90m<dbl>\u001b[39m\u001b[23m \u001b[3m\u001b[90m<chr>\u001b[39m\u001b[23m   \u001b[3m\u001b[90m<chr>\u001b[39m\u001b[23m     \u001b[3m\u001b[90m<chr>\u001b[39m\u001b[23m       \u001b[3m\u001b[90m<fct>\u001b[39m\u001b[23m    \n",
      "\u001b[90m 1\u001b[39m     0 A14      -\u001b[31m3\u001b[39m 129m8   VKFS      Beta-Sheet  1        \n",
      "\u001b[90m 2\u001b[39m     0 A16       8 129m8   VKFS      Beta-Sheet  3        \n",
      "\u001b[90m 3\u001b[39m     0 C14       6 129m9   KVFS      Alpha-Helix 1        \n",
      "\u001b[90m 4\u001b[39m     0 C16       4 129m9   KVFS      Alpha-Helix 3        \n",
      "\u001b[90m 5\u001b[39m     0 E14      -\u001b[31m3\u001b[39m 129m10  SVKF      Beta-Sheet  1        \n",
      "\u001b[90m 6\u001b[39m     0 E16       6 129m10  SVKF      Beta-Sheet  3        \n",
      "\u001b[90m 7\u001b[39m     0 G14      -\u001b[31m1\u001b[39m 129m11  SKVF      Alpha-Helix 1        \n",
      "\u001b[90m 8\u001b[39m     0 G16       4 129m11  SKVF      Alpha-Helix 3        \n",
      "\u001b[90m 9\u001b[39m     0 I14      12 129m8   VKFS      Beta-Sheet  2        \n",
      "\u001b[90m10\u001b[39m     0 I16       6 \u001b[31mNA\u001b[39m      No mRNA   None        1        \n",
      "\u001b[90m# … with 2,590 more rows\u001b[39m\n"
     ]
    }
   ],
   "source": [
    "join_data <- rawcounts %>% \n",
    "  select(-temp, -cycle) %>% \n",
    "  pivot_longer(!time, names_to = \"well\", values_to = \"count\") %>% \n",
    "  left_join(annotations, by = \"well\") %>% \n",
    "  mutate(replicate = as.factor(replicate)) %>% \n",
    "  print()"
   ]
  },
  {
   "cell_type": "markdown",
   "metadata": {},
   "source": [
    "### Calculate mean RLU and standard error\n",
    "\n",
    "- Select appropriate linear time range."
   ]
  },
  {
   "cell_type": "code",
   "execution_count": 5,
   "metadata": {
    "vscode": {
     "languageId": "r"
    }
   },
   "outputs": [
    {
     "name": "stdout",
     "output_type": "stream",
     "text": [
      "\u001b[90m# A tibble: 1,027 × 9\u001b[39m\n",
      "    time well    count mrna_id dipeptide structure   replicate mean_n…¹  se_nluc\n",
      "   \u001b[3m\u001b[90m<dbl>\u001b[39m\u001b[23m \u001b[3m\u001b[90m<chr>\u001b[39m\u001b[23m   \u001b[3m\u001b[90m<dbl>\u001b[39m\u001b[23m \u001b[3m\u001b[90m<chr>\u001b[39m\u001b[23m   \u001b[3m\u001b[90m<chr>\u001b[39m\u001b[23m     \u001b[3m\u001b[90m<chr>\u001b[39m\u001b[23m       \u001b[3m\u001b[90m<fct>\u001b[39m\u001b[23m        \u001b[3m\u001b[90m<dbl>\u001b[39m\u001b[23m    \u001b[3m\u001b[90m<dbl>\u001b[39m\u001b[23m\n",
      "\u001b[90m 1\u001b[39m  354. A14   0.000\u001b[4m1\u001b[24m\u001b[4m2\u001b[24m 129m8   VKFS      Beta-Sheet  1          8.67\u001b[90me\u001b[39m\u001b[31m-5\u001b[39m  3.33\u001b[90me\u001b[39m\u001b[31m-5\u001b[39m\n",
      "\u001b[90m 2\u001b[39m  354. A16   0.000\u001b[4m0\u001b[24m\u001b[4m2\u001b[24m 129m8   VKFS      Beta-Sheet  3          8.67\u001b[90me\u001b[39m\u001b[31m-5\u001b[39m  3.33\u001b[90me\u001b[39m\u001b[31m-5\u001b[39m\n",
      "\u001b[90m 3\u001b[39m  354. C14   0.001\u001b[4m7\u001b[24m\u001b[4m2\u001b[24m 129m9   KVFS      Alpha-Helix 1          1.11\u001b[90me\u001b[39m\u001b[31m-3\u001b[39m  5.10\u001b[90me\u001b[39m\u001b[31m-4\u001b[39m\n",
      "\u001b[90m 4\u001b[39m  354. C16   0.000\u001b[4m1\u001b[24m  129m9   KVFS      Alpha-Helix 3          1.11\u001b[90me\u001b[39m\u001b[31m-3\u001b[39m  5.10\u001b[90me\u001b[39m\u001b[31m-4\u001b[39m\n",
      "\u001b[90m 5\u001b[39m  354. E14   0.000\u001b[4m2\u001b[24m\u001b[4m2\u001b[24m 129m10  SVKF      Beta-Sheet  1          1.93\u001b[90me\u001b[39m\u001b[31m-4\u001b[39m  7.06\u001b[90me\u001b[39m\u001b[31m-5\u001b[39m\n",
      "\u001b[90m 6\u001b[39m  354. E16   0.000\u001b[4m0\u001b[24m\u001b[4m6\u001b[24m 129m10  SVKF      Beta-Sheet  3          1.93\u001b[90me\u001b[39m\u001b[31m-4\u001b[39m  7.06\u001b[90me\u001b[39m\u001b[31m-5\u001b[39m\n",
      "\u001b[90m 7\u001b[39m  354. G14   0.003\u001b[4m3\u001b[24m  129m11  SKVF      Alpha-Helix 1          3.15\u001b[90me\u001b[39m\u001b[31m-3\u001b[39m  1.64\u001b[90me\u001b[39m\u001b[31m-3\u001b[39m\n",
      "\u001b[90m 8\u001b[39m  354. G16   0.000\u001b[4m2\u001b[24m\u001b[4m4\u001b[24m 129m11  SKVF      Alpha-Helix 3          3.15\u001b[90me\u001b[39m\u001b[31m-3\u001b[39m  1.64\u001b[90me\u001b[39m\u001b[31m-3\u001b[39m\n",
      "\u001b[90m 9\u001b[39m  354. I14   0.000\u001b[4m1\u001b[24m\u001b[4m2\u001b[24m 129m8   VKFS      Beta-Sheet  2          8.67\u001b[90me\u001b[39m\u001b[31m-5\u001b[39m  3.33\u001b[90me\u001b[39m\u001b[31m-5\u001b[39m\n",
      "\u001b[90m10\u001b[39m  354. I16   0.000\u001b[4m0\u001b[24m\u001b[4m6\u001b[24m \u001b[31mNA\u001b[39m      No mRNA   None        1          6   \u001b[90me\u001b[39m\u001b[31m-5\u001b[39m \u001b[31mNA\u001b[39m   \u001b[90m \u001b[39m  \n",
      "\u001b[90m# … with 1,017 more rows, and abbreviated variable name ¹​mean_nluc\u001b[39m\n"
     ]
    }
   ],
   "source": [
    "plot_data <- join_data %>% \n",
    "  # Caluclate mean values for a given time, with standard error\n",
    "  group_by(time, dipeptide) %>% \n",
    "  mutate(count = count / 1e5) %>% \n",
    "  mutate(mean_nluc = mean(count), se_nluc = plotrix::std.error(count)) %>% \n",
    "  ungroup() %>% \n",
    " #  Select only time from when expressions starts to where signal peaks\n",
    "  filter(time >=350 & time <=1200) %>% \n",
    "  print()"
   ]
  },
  {
   "cell_type": "markdown",
   "metadata": {},
   "source": [
    "\n",
    "### Plot of luminescence values over time"
   ]
  },
  {
   "cell_type": "code",
   "execution_count": 6,
   "metadata": {
    "vscode": {
     "languageId": "r"
    }
   },
   "outputs": [
    {
     "name": "stderr",
     "output_type": "stream",
     "text": [
      "Warning message:\n",
      "“`guides(<scale> = FALSE)` is deprecated. Please use `guides(<scale> = \"none\")` instead.”\n"
     ]
    },
    {
     "data": {
      "image/png": "[encoded data removed]",
      "text/plain": [
       "plot without title"
      ]
     },
     "metadata": {
      "image/png": {
       "height": 120,
       "width": 120
      }
     },
     "output_type": "display_data"
    }
   ],
   "source": [
    "options(repr.plot.width=2, repr.plot.height=2) \n",
    "# options(repr.plot.width=1, repr.plot.height=1) for publication \n",
    "\n",
    "label_data <- plot_data %>% \n",
    "  mutate(dipeptide = paste0(\"4×\", dipeptide)) %>% \n",
    "  group_by(dipeptide) %>% \n",
    "  arrange(-time) %>% \n",
    "  slice(1) %>% \n",
    "  ungroup() \n",
    "  \n",
    "plot_data %>%\n",
    "  ggplot(aes(x = time, y = mean_nluc, color = structure, ymax = mean_nluc + se_nluc, ymin = mean_nluc - se_nluc,\n",
    "             label = dipeptide, group = dipeptide)) + \n",
    "  geom_line() +\n",
    "  geom_errorbar(width = 0, size = 0.3, alpha=0.3) +\n",
    "  # Make labels for the individual inserts\n",
    "  geom_text(data = label_data, size=2, color = \"black\", hjust=1)+\n",
    "  # Show labels even though they're off grid\n",
    "  coord_cartesian(clip = \"off\")+\n",
    "  scale_colour_manual(values = cbPalette)+\n",
    "  labs(x = \"Time (s)\", y = \"Luminescence (RLU)\") +\n",
    "  scale_y_continuous(breaks = scales::pretty_breaks(n=4))+\n",
    "  # scale_x_continuous(breaks = scales::pretty_breaks(n=10), limits = c(350, 1375))+\n",
    "  guides(color = F)\n",
    "\n",
    "ggsave(\"../figures/svkf_elongation_kinetics.pdf\", width = 2, height = 2) \n"
   ]
  },
  {
   "cell_type": "markdown",
   "metadata": {},
   "source": [
    "## Calculate transit time"
   ]
  },
  {
   "cell_type": "code",
   "execution_count": 7,
   "metadata": {
    "vscode": {
     "languageId": "r"
    }
   },
   "outputs": [
    {
     "name": "stderr",
     "output_type": "stream",
     "text": [
      "\u001b[1m\u001b[22m`summarise()` has grouped output by 'dipeptide'. You can override using the\n",
      "`.groups` argument.\n"
     ]
    },
    {
     "data": {
      "text/html": [
       "<table class=\"dataframe\">\n",
       "<caption>A tibble: 4 × 4</caption>\n",
       "<thead>\n",
       "\t<tr><th scope=col>dipeptide</th><th scope=col>structure</th><th scope=col>mean_time</th><th scope=col>se_time</th></tr>\n",
       "\t<tr><th scope=col>&lt;fct&gt;</th><th scope=col>&lt;chr&gt;</th><th scope=col>&lt;dbl&gt;</th><th scope=col>&lt;dbl&gt;</th></tr>\n",
       "</thead>\n",
       "<tbody>\n",
       "\t<tr><td>4×KVFS</td><td>Alpha-Helix</td><td>563.2803</td><td> 6.590510</td></tr>\n",
       "\t<tr><td>4×SKVF</td><td>Alpha-Helix</td><td>539.4661</td><td>14.187509</td></tr>\n",
       "\t<tr><td>4×SVKF</td><td>Beta-Sheet </td><td>721.9558</td><td>25.110752</td></tr>\n",
       "\t<tr><td>4×VKFS</td><td>Beta-Sheet </td><td>764.6473</td><td> 2.114438</td></tr>\n",
       "</tbody>\n",
       "</table>\n"
      ],
      "text/latex": [
       "A tibble: 4 × 4\n",
       "\\begin{tabular}{llll}\n",
       " dipeptide & structure & mean\\_time & se\\_time\\\\\n",
       " <fct> & <chr> & <dbl> & <dbl>\\\\\n",
       "\\hline\n",
       "\t 4×KVFS & Alpha-Helix & 563.2803 &  6.590510\\\\\n",
       "\t 4×SKVF & Alpha-Helix & 539.4661 & 14.187509\\\\\n",
       "\t 4×SVKF & Beta-Sheet  & 721.9558 & 25.110752\\\\\n",
       "\t 4×VKFS & Beta-Sheet  & 764.6473 &  2.114438\\\\\n",
       "\\end{tabular}\n"
      ],
      "text/markdown": [
       "\n",
       "A tibble: 4 × 4\n",
       "\n",
       "| dipeptide &lt;fct&gt; | structure &lt;chr&gt; | mean_time &lt;dbl&gt; | se_time &lt;dbl&gt; |\n",
       "|---|---|---|---|\n",
       "| 4×KVFS | Alpha-Helix | 563.2803 |  6.590510 |\n",
       "| 4×SKVF | Alpha-Helix | 539.4661 | 14.187509 |\n",
       "| 4×SVKF | Beta-Sheet  | 721.9558 | 25.110752 |\n",
       "| 4×VKFS | Beta-Sheet  | 764.6473 |  2.114438 |\n",
       "\n"
      ],
      "text/plain": [
       "  dipeptide structure   mean_time se_time  \n",
       "1 4×KVFS    Alpha-Helix 563.2803   6.590510\n",
       "2 4×SKVF    Alpha-Helix 539.4661  14.187509\n",
       "3 4×SVKF    Beta-Sheet  721.9558  25.110752\n",
       "4 4×VKFS    Beta-Sheet  764.6473   2.114438"
      ]
     },
     "metadata": {},
     "output_type": "display_data"
    },
    {
     "data": {
      "image/png": "[encoded data removed]",
      "text/plain": [
       "plot without title"
      ]
     },
     "metadata": {
      "image/png": {
       "height": 120,
       "width": 120
      }
     },
     "output_type": "display_data"
    }
   ],
   "source": [
    "options(repr.plot.width=2, repr.plot.height=2) \n",
    "# options(repr.plot.width=1, repr.plot.height=1) for publication \n",
    "\n",
    "plot_data <- join_data %>% \n",
    "  mutate(fit_points = case_when(\n",
    "    dipeptide %in% c(\"VKFS\", \"SVKF\") & time > 900 & time < 1200 ~ T,\n",
    "    dipeptide %in% c(\"KVFS\", \"SKVF\") & time > 600 & time < 900 ~ T,\n",
    "    T ~ F\n",
    "  )) %>% \n",
    "  filter(fit_points) %>% \n",
    "  arrange(replicate, dipeptide) %>% \n",
    "  group_by(dipeptide, structure, replicate) %>% \n",
    "  nest() %>%\n",
    "  mutate(fit = map(data, function(df) lm(formula = time ~ count, data=df))) %>%\n",
    "  mutate(fit = map(fit, broom::tidy)) %>%\n",
    "  unnest(fit) %>% \n",
    "  ungroup() %>% \n",
    "  select(structure, dipeptide, replicate, term, estimate) %>% \n",
    "  pivot_wider(names_from = \"term\", values_from = \"estimate\") %>%\n",
    "  janitor::clean_names() %>% \n",
    "  arrange(dipeptide) %>% \n",
    "  group_by(dipeptide, structure) %>%\n",
    "  summarize(mean_time = mean(intercept), se_time = plotrix::std.error(intercept)) %>%\n",
    "  ungroup() %>% \n",
    "  mutate(dipeptide = fct_rev(as.factor(paste0(\"4×\", dipeptide))))\n",
    "\n",
    "plot_data\n",
    "\n",
    "\n",
    "plot_data %>% \n",
    "  ggplot(aes(y = dipeptide, x = mean_time,  color = structure,\n",
    "             xmin = mean_time - se_time, xmax = mean_time + se_time)) +\n",
    "  geom_point(size = 0.5) +\n",
    "  geom_errorbar(width=0.5) +\n",
    "  scale_x_continuous(breaks = c(550, 650, 750)) +\n",
    "  scale_color_manual(values = cbPalette) +\n",
    "  labs(x = \"Transit time (s)\", y = \"\") +\n",
    "  theme(axis.ticks.y = element_blank(), \n",
    "        panel.grid.major.y = element_line(),\n",
    "        axis.line.y = element_blank(),\n",
    "        legend.position = \"none\") +\n",
    "  NULL\n",
    "ggsave(\"../figures/svkf_transit_time.pdf\", width = 2, height = 2) "
   ]
  },
  {
   "cell_type": "code",
   "execution_count": null,
   "metadata": {
    "vscode": {
     "languageId": "r"
    }
   },
   "outputs": [],
   "source": []
  }
 ],
 "metadata": {
  "kernelspec": {
   "display_name": "R_project_repo_1.13.0",
   "language": "R",
   "name": "ir_project_repo_1.13.0"
  },
  "language_info": {
   "codemirror_mode": "r",
   "file_extension": ".r",
   "mimetype": "text/x-r-source",
   "name": "R",
   "pygments_lexer": "r",
   "version": "4.1.3"
  },
  "orig_nbformat": 4,
  "vscode": {
   "interpreter": {
    "hash": "33ccdda4403b85622dcca6b225ea57e4a6a8ea27d62bd4ef32f6f7605d06a567"
   }
  }
 },
 "nbformat": 4,
 "nbformat_minor": 2
}
