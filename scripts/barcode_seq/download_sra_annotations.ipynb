{
 "cells": [
  {
   "cell_type": "markdown",
   "metadata": {},
   "source": [
    "# Download SRA annotations"
   ]
  },
  {
   "cell_type": "markdown",
   "metadata": {},
   "source": [
    "## Load libraries"
   ]
  },
  {
   "cell_type": "code",
   "execution_count": 13,
   "metadata": {
    "vscode": {
     "languageId": "r"
    }
   },
   "outputs": [],
   "source": [
    "suppressPackageStartupMessages(library(reutils))\n",
    "suppressPackageStartupMessages(library(xml2))\n",
    "suppressPackageStartupMessages(library(glue))\n",
    "suppressPackageStartupMessages(library(tidyverse))"
   ]
  },
  {
   "cell_type": "markdown",
   "metadata": {},
   "source": [
    "## Define analysis-specific variables"
   ]
  },
  {
   "cell_type": "code",
   "execution_count": 2,
   "metadata": {
    "vscode": {
     "languageId": "r"
    }
   },
   "outputs": [],
   "source": [
    "bioproject_number <- \"PRJNA785998\""
   ]
  },
  {
   "cell_type": "markdown",
   "metadata": {},
   "source": [
    "## Download SRA annotations and process it into required columns"
   ]
  },
  {
   "cell_type": "code",
   "execution_count": 56,
   "metadata": {
    "vscode": {
     "languageId": "r"
    }
   },
   "outputs": [
    {
     "data": {
      "text/html": [
       "<table class=\"dataframe\">\n",
       "<caption>A tibble: 26 × 4</caption>\n",
       "<thead>\n",
       "\t<tr><th scope=col>srr</th><th scope=col>sample_id</th><th scope=col>sample_name</th><th scope=col>nreads</th></tr>\n",
       "\t<tr><th scope=col>&lt;chr&gt;</th><th scope=col>&lt;chr&gt;</th><th scope=col>&lt;chr&gt;</th><th scope=col>&lt;list&gt;</th></tr>\n",
       "</thead>\n",
       "<tbody>\n",
       "\t<tr><td>SRR17125806</td><td>146p28</td><td>stall4control4_linkage</td><td>2</td></tr>\n",
       "\t<tr><td>SRR17125807</td><td>146p27</td><td>stall4control4_linkage</td><td>2</td></tr>\n",
       "\t<tr><td>SRR17125808</td><td>146p26</td><td>stall4control4_linkage</td><td>2</td></tr>\n",
       "\t<tr><td>SRR17125809</td><td>146p25</td><td>stall4control4_linkage</td><td>2</td></tr>\n",
       "\t<tr><td>SRR17125810</td><td>146p24</td><td>stall4control4_linkage</td><td>2</td></tr>\n",
       "\t<tr><td>SRR17125811</td><td>146p23</td><td>stall4control4_linkage</td><td>2</td></tr>\n",
       "\t<tr><td>SRR17125812</td><td>139p7 </td><td>endo12k_linkage       </td><td>1</td></tr>\n",
       "\t<tr><td>SRR17125813</td><td>146p16</td><td>stall4control4_t8     </td><td>1</td></tr>\n",
       "\t<tr><td>SRR17125814</td><td>146p15</td><td>stall4control4_t4     </td><td>1</td></tr>\n",
       "\t<tr><td>SRR17125815</td><td>146p14</td><td>stall4control4_t2     </td><td>1</td></tr>\n",
       "\t<tr><td>SRR17125816</td><td>146p13</td><td>stall4control4_t1     </td><td>1</td></tr>\n",
       "\t<tr><td>SRR17125817</td><td>146p12</td><td>stall4control4_t0.5   </td><td>1</td></tr>\n",
       "\t<tr><td>SRR17125818</td><td>146p11</td><td>stall4control4_t0     </td><td>1</td></tr>\n",
       "\t<tr><td>SRR17125819</td><td>107p2 </td><td>didi_linkage_2        </td><td>1</td></tr>\n",
       "\t<tr><td>SRR17125820</td><td>146p10</td><td>stall4control4_mrna   </td><td>1</td></tr>\n",
       "\t<tr><td>SRR17125821</td><td>146p9 </td><td>stall4control4_grna   </td><td>1</td></tr>\n",
       "\t<tr><td>SRR17125822</td><td>139p4 </td><td>endo12k_mrna          </td><td>1</td></tr>\n",
       "\t<tr><td>SRR17125823</td><td>139p3 </td><td>endo12k_grna          </td><td>1</td></tr>\n",
       "\t<tr><td>SRR17125824</td><td>107p10</td><td>didi_mrna_2           </td><td>1</td></tr>\n",
       "\t<tr><td>SRR17125825</td><td>107p9 </td><td>didi_mrna_1           </td><td>1</td></tr>\n",
       "\t<tr><td>SRR17125826</td><td>107p8 </td><td>didi_grna_2           </td><td>1</td></tr>\n",
       "\t<tr><td>SRR17125827</td><td>107p7 </td><td>didi_grna_1           </td><td>1</td></tr>\n",
       "\t<tr><td>SRR17125828</td><td>100p3 </td><td>dicodon_mrna          </td><td>1</td></tr>\n",
       "\t<tr><td>SRR17125829</td><td>100p2 </td><td>dicodon_grna          </td><td>1</td></tr>\n",
       "\t<tr><td>SRR17125830</td><td>107p1 </td><td>didi_linkage_1        </td><td>1</td></tr>\n",
       "\t<tr><td>SRR17125831</td><td>100p10</td><td>dicodon_linkage       </td><td>1</td></tr>\n",
       "</tbody>\n",
       "</table>\n"
      ],
      "text/latex": [
       "A tibble: 26 × 4\n",
       "\\begin{tabular}{llll}\n",
       " srr & sample\\_id & sample\\_name & nreads\\\\\n",
       " <chr> & <chr> & <chr> & <list>\\\\\n",
       "\\hline\n",
       "\t SRR17125806 & 146p28 & stall4control4\\_linkage & 2\\\\\n",
       "\t SRR17125807 & 146p27 & stall4control4\\_linkage & 2\\\\\n",
       "\t SRR17125808 & 146p26 & stall4control4\\_linkage & 2\\\\\n",
       "\t SRR17125809 & 146p25 & stall4control4\\_linkage & 2\\\\\n",
       "\t SRR17125810 & 146p24 & stall4control4\\_linkage & 2\\\\\n",
       "\t SRR17125811 & 146p23 & stall4control4\\_linkage & 2\\\\\n",
       "\t SRR17125812 & 139p7  & endo12k\\_linkage        & 1\\\\\n",
       "\t SRR17125813 & 146p16 & stall4control4\\_t8      & 1\\\\\n",
       "\t SRR17125814 & 146p15 & stall4control4\\_t4      & 1\\\\\n",
       "\t SRR17125815 & 146p14 & stall4control4\\_t2      & 1\\\\\n",
       "\t SRR17125816 & 146p13 & stall4control4\\_t1      & 1\\\\\n",
       "\t SRR17125817 & 146p12 & stall4control4\\_t0.5    & 1\\\\\n",
       "\t SRR17125818 & 146p11 & stall4control4\\_t0      & 1\\\\\n",
       "\t SRR17125819 & 107p2  & didi\\_linkage\\_2         & 1\\\\\n",
       "\t SRR17125820 & 146p10 & stall4control4\\_mrna    & 1\\\\\n",
       "\t SRR17125821 & 146p9  & stall4control4\\_grna    & 1\\\\\n",
       "\t SRR17125822 & 139p4  & endo12k\\_mrna           & 1\\\\\n",
       "\t SRR17125823 & 139p3  & endo12k\\_grna           & 1\\\\\n",
       "\t SRR17125824 & 107p10 & didi\\_mrna\\_2            & 1\\\\\n",
       "\t SRR17125825 & 107p9  & didi\\_mrna\\_1            & 1\\\\\n",
       "\t SRR17125826 & 107p8  & didi\\_grna\\_2            & 1\\\\\n",
       "\t SRR17125827 & 107p7  & didi\\_grna\\_1            & 1\\\\\n",
       "\t SRR17125828 & 100p3  & dicodon\\_mrna           & 1\\\\\n",
       "\t SRR17125829 & 100p2  & dicodon\\_grna           & 1\\\\\n",
       "\t SRR17125830 & 107p1  & didi\\_linkage\\_1         & 1\\\\\n",
       "\t SRR17125831 & 100p10 & dicodon\\_linkage        & 1\\\\\n",
       "\\end{tabular}\n"
      ],
      "text/markdown": [
       "\n",
       "A tibble: 26 × 4\n",
       "\n",
       "| srr &lt;chr&gt; | sample_id &lt;chr&gt; | sample_name &lt;chr&gt; | nreads &lt;list&gt; |\n",
       "|---|---|---|---|\n",
       "| SRR17125806 | 146p28 | stall4control4_linkage | 2 |\n",
       "| SRR17125807 | 146p27 | stall4control4_linkage | 2 |\n",
       "| SRR17125808 | 146p26 | stall4control4_linkage | 2 |\n",
       "| SRR17125809 | 146p25 | stall4control4_linkage | 2 |\n",
       "| SRR17125810 | 146p24 | stall4control4_linkage | 2 |\n",
       "| SRR17125811 | 146p23 | stall4control4_linkage | 2 |\n",
       "| SRR17125812 | 139p7  | endo12k_linkage        | 1 |\n",
       "| SRR17125813 | 146p16 | stall4control4_t8      | 1 |\n",
       "| SRR17125814 | 146p15 | stall4control4_t4      | 1 |\n",
       "| SRR17125815 | 146p14 | stall4control4_t2      | 1 |\n",
       "| SRR17125816 | 146p13 | stall4control4_t1      | 1 |\n",
       "| SRR17125817 | 146p12 | stall4control4_t0.5    | 1 |\n",
       "| SRR17125818 | 146p11 | stall4control4_t0      | 1 |\n",
       "| SRR17125819 | 107p2  | didi_linkage_2         | 1 |\n",
       "| SRR17125820 | 146p10 | stall4control4_mrna    | 1 |\n",
       "| SRR17125821 | 146p9  | stall4control4_grna    | 1 |\n",
       "| SRR17125822 | 139p4  | endo12k_mrna           | 1 |\n",
       "| SRR17125823 | 139p3  | endo12k_grna           | 1 |\n",
       "| SRR17125824 | 107p10 | didi_mrna_2            | 1 |\n",
       "| SRR17125825 | 107p9  | didi_mrna_1            | 1 |\n",
       "| SRR17125826 | 107p8  | didi_grna_2            | 1 |\n",
       "| SRR17125827 | 107p7  | didi_grna_1            | 1 |\n",
       "| SRR17125828 | 100p3  | dicodon_mrna           | 1 |\n",
       "| SRR17125829 | 100p2  | dicodon_grna           | 1 |\n",
       "| SRR17125830 | 107p1  | didi_linkage_1         | 1 |\n",
       "| SRR17125831 | 100p10 | dicodon_linkage        | 1 |\n",
       "\n"
      ],
      "text/plain": [
       "   srr         sample_id sample_name            nreads\n",
       "1  SRR17125806 146p28    stall4control4_linkage 2     \n",
       "2  SRR17125807 146p27    stall4control4_linkage 2     \n",
       "3  SRR17125808 146p26    stall4control4_linkage 2     \n",
       "4  SRR17125809 146p25    stall4control4_linkage 2     \n",
       "5  SRR17125810 146p24    stall4control4_linkage 2     \n",
       "6  SRR17125811 146p23    stall4control4_linkage 2     \n",
       "7  SRR17125812 139p7     endo12k_linkage        1     \n",
       "8  SRR17125813 146p16    stall4control4_t8      1     \n",
       "9  SRR17125814 146p15    stall4control4_t4      1     \n",
       "10 SRR17125815 146p14    stall4control4_t2      1     \n",
       "11 SRR17125816 146p13    stall4control4_t1      1     \n",
       "12 SRR17125817 146p12    stall4control4_t0.5    1     \n",
       "13 SRR17125818 146p11    stall4control4_t0      1     \n",
       "14 SRR17125819 107p2     didi_linkage_2         1     \n",
       "15 SRR17125820 146p10    stall4control4_mrna    1     \n",
       "16 SRR17125821 146p9     stall4control4_grna    1     \n",
       "17 SRR17125822 139p4     endo12k_mrna           1     \n",
       "18 SRR17125823 139p3     endo12k_grna           1     \n",
       "19 SRR17125824 107p10    didi_mrna_2            1     \n",
       "20 SRR17125825 107p9     didi_mrna_1            1     \n",
       "21 SRR17125826 107p8     didi_grna_2            1     \n",
       "22 SRR17125827 107p7     didi_grna_1            1     \n",
       "23 SRR17125828 100p3     dicodon_mrna           1     \n",
       "24 SRR17125829 100p2     dicodon_grna           1     \n",
       "25 SRR17125830 107p1     didi_linkage_1         1     \n",
       "26 SRR17125831 100p10    dicodon_linkage        1     "
      ]
     },
     "metadata": {},
     "output_type": "display_data"
    }
   ],
   "source": [
    "sra_info <- bioproject_number %>% \n",
    "    esearch(db = \"sra\") %>% \n",
    "    efetch(db = \"sra\") %>% \n",
    "    content(as = \"text\") %>%  \n",
    "    read_xml()\n",
    "\n",
    "sra_annotations <- sra_info %>% \n",
    "    xml_find_all(\"//EXPERIMENT\") %>% \n",
    "    map_df(xml_attrs) %>% \n",
    "    rename(srx = accession, sample_name = alias) %>%\n",
    "    # XPATH search below: find node called EXPERIMENT_REF with attribute accession value set to srx accession\n",
    "    # then go to the parent node and find all attributes\n",
    "    mutate(data = map(srx, function (x) bind_rows(xml_attrs(xml_find_all(sra_info, glue('//EXPERIMENT_REF[@accession=\"{x}\"]/..')))))) %>%\n",
    "    unnest(data) %>% \n",
    "    rename(srr = accession) %>% \n",
    "    mutate(nreads = map_int(srr, function (x) length(xml_find_all(sra_info, glue('//RUN[@accession=\"{x}\"]/SRAFiles/SRAFile')))-1)) %>%\n",
    "    mutate(data = str_split(sample_name, \"_\", 2)) %>% \n",
    "    select(srr, data, nreads) %>% \n",
    "    unnest_wider(data, names_sep = \"_\") %>% \n",
    "    rename(sample_id = data_1, sample_name = data_2) %>% \n",
    "    write_tsv(\"../../annotations/sra_annotations.tsv\")\n",
    "\n",
    "sra_annotations"
   ]
  }
 ],
 "metadata": {
  "kernelspec": {
   "display_name": "R",
   "language": "R",
   "name": "ir"
  },
  "language_info": {
   "codemirror_mode": "r",
   "file_extension": ".r",
   "mimetype": "text/x-r-source",
   "name": "R",
   "pygments_lexer": "r",
   "version": "4.1.3"
  },
  "orig_nbformat": 4
 },
 "nbformat": 4,
 "nbformat_minor": 2
}
