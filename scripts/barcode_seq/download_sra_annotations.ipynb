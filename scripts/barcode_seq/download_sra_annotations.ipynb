{
 "cells": [
  {
   "cell_type": "markdown",
   "metadata": {},
   "source": [
    "# Download SRA annotations"
   ]
  },
  {
   "cell_type": "markdown",
   "metadata": {},
   "source": [
    "## Load libraries"
   ]
  },
  {
   "cell_type": "code",
   "execution_count": 1,
   "metadata": {
    "vscode": {
     "languageId": "r"
    }
   },
   "outputs": [],
   "source": [
    "suppressPackageStartupMessages(library(reutils))\n",
    "suppressPackageStartupMessages(library(xml2))\n",
    "suppressPackageStartupMessages(library(tidyverse))"
   ]
  },
  {
   "cell_type": "markdown",
   "metadata": {},
   "source": [
    "## Define analysis-specific variables"
   ]
  },
  {
   "cell_type": "code",
   "execution_count": 2,
   "metadata": {
    "vscode": {
     "languageId": "r"
    }
   },
   "outputs": [],
   "source": [
    "bioproject_number <- \"PRJNA785998\""
   ]
  },
  {
   "cell_type": "markdown",
   "metadata": {},
   "source": [
    "## Download SRA annotations and process it into required columns"
   ]
  },
  {
   "cell_type": "code",
   "execution_count": 3,
   "metadata": {
    "vscode": {
     "languageId": "r"
    }
   },
   "outputs": [
    {
     "data": {
      "text/html": [
       "<table class=\"dataframe\">\n",
       "<caption>A tibble: 26 × 3</caption>\n",
       "<thead>\n",
       "\t<tr><th scope=col>accession</th><th scope=col>sample_id</th><th scope=col>sample_name</th></tr>\n",
       "\t<tr><th scope=col>&lt;chr&gt;</th><th scope=col>&lt;chr&gt;</th><th scope=col>&lt;chr&gt;</th></tr>\n",
       "</thead>\n",
       "<tbody>\n",
       "\t<tr><td>SRX13310313</td><td>146p28</td><td>stall4control4_linkage</td></tr>\n",
       "\t<tr><td>SRX13310312</td><td>146p27</td><td>stall4control4_linkage</td></tr>\n",
       "\t<tr><td>SRX13310311</td><td>146p26</td><td>stall4control4_linkage</td></tr>\n",
       "\t<tr><td>SRX13310310</td><td>146p25</td><td>stall4control4_linkage</td></tr>\n",
       "\t<tr><td>SRX13310309</td><td>146p24</td><td>stall4control4_linkage</td></tr>\n",
       "\t<tr><td>SRX13310308</td><td>146p23</td><td>stall4control4_linkage</td></tr>\n",
       "\t<tr><td>SRX13310307</td><td>139p7 </td><td>endo12k_linkage       </td></tr>\n",
       "\t<tr><td>SRX13310306</td><td>146p16</td><td>stall4control4_t8     </td></tr>\n",
       "\t<tr><td>SRX13310305</td><td>146p15</td><td>stall4control4_t4     </td></tr>\n",
       "\t<tr><td>SRX13310304</td><td>146p14</td><td>stall4control4_t2     </td></tr>\n",
       "\t<tr><td>SRX13310303</td><td>146p13</td><td>stall4control4_t1     </td></tr>\n",
       "\t<tr><td>SRX13310302</td><td>146p12</td><td>stall4control4_t0.5   </td></tr>\n",
       "\t<tr><td>SRX13310301</td><td>146p11</td><td>stall4control4_t0     </td></tr>\n",
       "\t<tr><td>SRX13310300</td><td>107p2 </td><td>didi_linkage_2        </td></tr>\n",
       "\t<tr><td>SRX13310299</td><td>146p10</td><td>stall4control4_mrna   </td></tr>\n",
       "\t<tr><td>SRX13310298</td><td>146p9 </td><td>stall4control4_grna   </td></tr>\n",
       "\t<tr><td>SRX13310297</td><td>139p4 </td><td>endo12k_mrna          </td></tr>\n",
       "\t<tr><td>SRX13310296</td><td>139p3 </td><td>endo12k_grna          </td></tr>\n",
       "\t<tr><td>SRX13310295</td><td>107p10</td><td>didi_mrna_2           </td></tr>\n",
       "\t<tr><td>SRX13310294</td><td>107p9 </td><td>didi_mrna_1           </td></tr>\n",
       "\t<tr><td>SRX13310293</td><td>107p8 </td><td>didi_grna_2           </td></tr>\n",
       "\t<tr><td>SRX13310292</td><td>107p7 </td><td>didi_grna_1           </td></tr>\n",
       "\t<tr><td>SRX13310291</td><td>100p3 </td><td>dicodon_mrna          </td></tr>\n",
       "\t<tr><td>SRX13310290</td><td>100p2 </td><td>dicodon_grna          </td></tr>\n",
       "\t<tr><td>SRX13310289</td><td>107p1 </td><td>didi_linkage_1        </td></tr>\n",
       "\t<tr><td>SRX13310288</td><td>100p10</td><td>dicodon_linkage       </td></tr>\n",
       "</tbody>\n",
       "</table>\n"
      ],
      "text/latex": [
       "A tibble: 26 × 3\n",
       "\\begin{tabular}{lll}\n",
       " accession & sample\\_id & sample\\_name\\\\\n",
       " <chr> & <chr> & <chr>\\\\\n",
       "\\hline\n",
       "\t SRX13310313 & 146p28 & stall4control4\\_linkage\\\\\n",
       "\t SRX13310312 & 146p27 & stall4control4\\_linkage\\\\\n",
       "\t SRX13310311 & 146p26 & stall4control4\\_linkage\\\\\n",
       "\t SRX13310310 & 146p25 & stall4control4\\_linkage\\\\\n",
       "\t SRX13310309 & 146p24 & stall4control4\\_linkage\\\\\n",
       "\t SRX13310308 & 146p23 & stall4control4\\_linkage\\\\\n",
       "\t SRX13310307 & 139p7  & endo12k\\_linkage       \\\\\n",
       "\t SRX13310306 & 146p16 & stall4control4\\_t8     \\\\\n",
       "\t SRX13310305 & 146p15 & stall4control4\\_t4     \\\\\n",
       "\t SRX13310304 & 146p14 & stall4control4\\_t2     \\\\\n",
       "\t SRX13310303 & 146p13 & stall4control4\\_t1     \\\\\n",
       "\t SRX13310302 & 146p12 & stall4control4\\_t0.5   \\\\\n",
       "\t SRX13310301 & 146p11 & stall4control4\\_t0     \\\\\n",
       "\t SRX13310300 & 107p2  & didi\\_linkage\\_2        \\\\\n",
       "\t SRX13310299 & 146p10 & stall4control4\\_mrna   \\\\\n",
       "\t SRX13310298 & 146p9  & stall4control4\\_grna   \\\\\n",
       "\t SRX13310297 & 139p4  & endo12k\\_mrna          \\\\\n",
       "\t SRX13310296 & 139p3  & endo12k\\_grna          \\\\\n",
       "\t SRX13310295 & 107p10 & didi\\_mrna\\_2           \\\\\n",
       "\t SRX13310294 & 107p9  & didi\\_mrna\\_1           \\\\\n",
       "\t SRX13310293 & 107p8  & didi\\_grna\\_2           \\\\\n",
       "\t SRX13310292 & 107p7  & didi\\_grna\\_1           \\\\\n",
       "\t SRX13310291 & 100p3  & dicodon\\_mrna          \\\\\n",
       "\t SRX13310290 & 100p2  & dicodon\\_grna          \\\\\n",
       "\t SRX13310289 & 107p1  & didi\\_linkage\\_1        \\\\\n",
       "\t SRX13310288 & 100p10 & dicodon\\_linkage       \\\\\n",
       "\\end{tabular}\n"
      ],
      "text/markdown": [
       "\n",
       "A tibble: 26 × 3\n",
       "\n",
       "| accession &lt;chr&gt; | sample_id &lt;chr&gt; | sample_name &lt;chr&gt; |\n",
       "|---|---|---|\n",
       "| SRX13310313 | 146p28 | stall4control4_linkage |\n",
       "| SRX13310312 | 146p27 | stall4control4_linkage |\n",
       "| SRX13310311 | 146p26 | stall4control4_linkage |\n",
       "| SRX13310310 | 146p25 | stall4control4_linkage |\n",
       "| SRX13310309 | 146p24 | stall4control4_linkage |\n",
       "| SRX13310308 | 146p23 | stall4control4_linkage |\n",
       "| SRX13310307 | 139p7  | endo12k_linkage        |\n",
       "| SRX13310306 | 146p16 | stall4control4_t8      |\n",
       "| SRX13310305 | 146p15 | stall4control4_t4      |\n",
       "| SRX13310304 | 146p14 | stall4control4_t2      |\n",
       "| SRX13310303 | 146p13 | stall4control4_t1      |\n",
       "| SRX13310302 | 146p12 | stall4control4_t0.5    |\n",
       "| SRX13310301 | 146p11 | stall4control4_t0      |\n",
       "| SRX13310300 | 107p2  | didi_linkage_2         |\n",
       "| SRX13310299 | 146p10 | stall4control4_mrna    |\n",
       "| SRX13310298 | 146p9  | stall4control4_grna    |\n",
       "| SRX13310297 | 139p4  | endo12k_mrna           |\n",
       "| SRX13310296 | 139p3  | endo12k_grna           |\n",
       "| SRX13310295 | 107p10 | didi_mrna_2            |\n",
       "| SRX13310294 | 107p9  | didi_mrna_1            |\n",
       "| SRX13310293 | 107p8  | didi_grna_2            |\n",
       "| SRX13310292 | 107p7  | didi_grna_1            |\n",
       "| SRX13310291 | 100p3  | dicodon_mrna           |\n",
       "| SRX13310290 | 100p2  | dicodon_grna           |\n",
       "| SRX13310289 | 107p1  | didi_linkage_1         |\n",
       "| SRX13310288 | 100p10 | dicodon_linkage        |\n",
       "\n"
      ],
      "text/plain": [
       "   accession   sample_id sample_name           \n",
       "1  SRX13310313 146p28    stall4control4_linkage\n",
       "2  SRX13310312 146p27    stall4control4_linkage\n",
       "3  SRX13310311 146p26    stall4control4_linkage\n",
       "4  SRX13310310 146p25    stall4control4_linkage\n",
       "5  SRX13310309 146p24    stall4control4_linkage\n",
       "6  SRX13310308 146p23    stall4control4_linkage\n",
       "7  SRX13310307 139p7     endo12k_linkage       \n",
       "8  SRX13310306 146p16    stall4control4_t8     \n",
       "9  SRX13310305 146p15    stall4control4_t4     \n",
       "10 SRX13310304 146p14    stall4control4_t2     \n",
       "11 SRX13310303 146p13    stall4control4_t1     \n",
       "12 SRX13310302 146p12    stall4control4_t0.5   \n",
       "13 SRX13310301 146p11    stall4control4_t0     \n",
       "14 SRX13310300 107p2     didi_linkage_2        \n",
       "15 SRX13310299 146p10    stall4control4_mrna   \n",
       "16 SRX13310298 146p9     stall4control4_grna   \n",
       "17 SRX13310297 139p4     endo12k_mrna          \n",
       "18 SRX13310296 139p3     endo12k_grna          \n",
       "19 SRX13310295 107p10    didi_mrna_2           \n",
       "20 SRX13310294 107p9     didi_mrna_1           \n",
       "21 SRX13310293 107p8     didi_grna_2           \n",
       "22 SRX13310292 107p7     didi_grna_1           \n",
       "23 SRX13310291 100p3     dicodon_mrna          \n",
       "24 SRX13310290 100p2     dicodon_grna          \n",
       "25 SRX13310289 107p1     didi_linkage_1        \n",
       "26 SRX13310288 100p10    dicodon_linkage       "
      ]
     },
     "metadata": {},
     "output_type": "display_data"
    }
   ],
   "source": [
    "sra_annotations <- bioproject_number %>% \n",
    "    esearch(db = \"sra\") %>% \n",
    "    efetch(db = \"sra\") %>% \n",
    "    content(as = \"text\") %>% \n",
    "    read_xml() %>% \n",
    "    xml_find_all(\"//EXPERIMENT\") %>% \n",
    "    map_df(xml_attrs) %>% \n",
    "    mutate(data = str_split(alias, \"_\", 2)) %>% \n",
    "    unnest_wider(data, names_sep = \"_\") %>% \n",
    "    rename(sample_id = data_1, sample_name = data_2) %>% \n",
    "    select(-alias) %>% \n",
    "    write_tsv(\"../../annotations/sra_annotations.tsv\")\n",
    "\n",
    "sra_annotations"
   ]
  }
 ],
 "metadata": {
  "kernelspec": {
   "display_name": "R",
   "language": "R",
   "name": "ir"
  },
  "language_info": {
   "codemirror_mode": "r",
   "file_extension": ".r",
   "mimetype": "text/x-r-source",
   "name": "R",
   "pygments_lexer": "r",
   "version": "4.1.3"
  },
  "orig_nbformat": 4
 },
 "nbformat": 4,
 "nbformat_minor": 2
}
